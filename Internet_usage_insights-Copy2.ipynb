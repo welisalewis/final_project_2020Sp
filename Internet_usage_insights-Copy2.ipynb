{
 "cells": [
  {
   "cell_type": "code",
   "execution_count": 4,
   "metadata": {},
   "outputs": [],
   "source": [
    "import numpy as np\n",
    "import pandas as pd\n",
    "import matplotlib.pyplot as plt\n",
    "%matplotlib inline\n",
    "import geopandas as gpd\n"
   ]
  },
  {
   "cell_type": "markdown",
   "metadata": {},
   "source": [
    "# Hypothesis 1 : Approach\n",
    "\n",
    "1. Read the countries and internet usage files<br>\n",
    "2. Get the population and the country names colums, and internet usage for each country from second dataset\n",
    "3. from first datset determine the countries with largest population. like top 10 or top 20\n",
    "4. check the results of 3 with internet usage.\n",
    "5. Group by regions and get the regions with higfhest population.\n"
   ]
  },
  {
   "cell_type": "code",
   "execution_count": 5,
   "metadata": {},
   "outputs": [],
   "source": [
    "if __name__ == '__main__':\n",
    "    secure_servers = pd.read_excel(\"C:/Users/admin/Desktop/final_project_2020Sp/Data/Secure_Internet_Servers_Worldwide.xlsx\")\n",
    "    internet_users = pd.read_excel(\"C:/Users/admin/Desktop/final_project_2020Sp/Data/Share_of_the_Internet_users_Worldwide.xlsx\")\n",
    "    country_profiles = pd.read_csv(\"C:/Users/admin/Desktop/final_project_2020Sp/Data/Country_Profiles.csv\")\n",
    "    Data_breach = pd.read_csv(\"C:/Users/admin/Desktop/final_project_2020Sp/Data/PRC_Data_Breach_Chronology.csv\")\n",
    "    mental_health_df = pd.read_csv(\"C:/Users/admin/Desktop/final_project_2020Sp/Data/number_with_depression_by_country.csv\")\n",
    "    worldwide_internet_usage = pd.read_excel(\"C:/Users/admin/Desktop/final_project_2020Sp/Data/Individuals_using_the_Internet(Uptill 2019).xls\")"
   ]
  },
  {
   "cell_type": "code",
   "execution_count": 6,
   "metadata": {},
   "outputs": [
    {
     "data": {
      "text/html": [
       "<div>\n",
       "<style scoped>\n",
       "    .dataframe tbody tr th:only-of-type {\n",
       "        vertical-align: middle;\n",
       "    }\n",
       "\n",
       "    .dataframe tbody tr th {\n",
       "        vertical-align: top;\n",
       "    }\n",
       "\n",
       "    .dataframe thead th {\n",
       "        text-align: right;\n",
       "    }\n",
       "</style>\n",
       "<table border=\"1\" class=\"dataframe\">\n",
       "  <thead>\n",
       "    <tr style=\"text-align: right;\">\n",
       "      <th></th>\n",
       "      <th>ADMIN</th>\n",
       "      <th>ADM0_A3</th>\n",
       "      <th>geometry</th>\n",
       "    </tr>\n",
       "  </thead>\n",
       "  <tbody>\n",
       "    <tr>\n",
       "      <td>0</td>\n",
       "      <td>Fiji</td>\n",
       "      <td>FJI</td>\n",
       "      <td>MULTIPOLYGON (((180.00000 -16.06713, 180.00000...</td>\n",
       "    </tr>\n",
       "    <tr>\n",
       "      <td>1</td>\n",
       "      <td>United Republic of Tanzania</td>\n",
       "      <td>TZA</td>\n",
       "      <td>POLYGON ((33.90371 -0.95000, 34.07262 -1.05982...</td>\n",
       "    </tr>\n",
       "    <tr>\n",
       "      <td>2</td>\n",
       "      <td>Western Sahara</td>\n",
       "      <td>SAH</td>\n",
       "      <td>POLYGON ((-8.66559 27.65643, -8.66512 27.58948...</td>\n",
       "    </tr>\n",
       "    <tr>\n",
       "      <td>3</td>\n",
       "      <td>Canada</td>\n",
       "      <td>CAN</td>\n",
       "      <td>MULTIPOLYGON (((-122.84000 49.00000, -122.9742...</td>\n",
       "    </tr>\n",
       "    <tr>\n",
       "      <td>4</td>\n",
       "      <td>United States of America</td>\n",
       "      <td>USA</td>\n",
       "      <td>MULTIPOLYGON (((-122.84000 49.00000, -120.0000...</td>\n",
       "    </tr>\n",
       "  </tbody>\n",
       "</table>\n",
       "</div>"
      ],
      "text/plain": [
       "                         ADMIN ADM0_A3  \\\n",
       "0                         Fiji     FJI   \n",
       "1  United Republic of Tanzania     TZA   \n",
       "2               Western Sahara     SAH   \n",
       "3                       Canada     CAN   \n",
       "4     United States of America     USA   \n",
       "\n",
       "                                            geometry  \n",
       "0  MULTIPOLYGON (((180.00000 -16.06713, 180.00000...  \n",
       "1  POLYGON ((33.90371 -0.95000, 34.07262 -1.05982...  \n",
       "2  POLYGON ((-8.66559 27.65643, -8.66512 27.58948...  \n",
       "3  MULTIPOLYGON (((-122.84000 49.00000, -122.9742...  \n",
       "4  MULTIPOLYGON (((-122.84000 49.00000, -120.0000...  "
      ]
     },
     "execution_count": 6,
     "metadata": {},
     "output_type": "execute_result"
    }
   ],
   "source": [
    "shapefile = 'C:/Users/admin/Desktop/final_project_2020Sp/110m_cultural/ne_110m_admin_0_countries.shp'\n",
    "#Read shapefile using Geopandas\n",
    "gdf = gpd.read_file(shapefile)[['ADMIN', 'ADM0_A3', 'geometry']]\n",
    "#Rename columns.\n",
    "gdf.head()"
   ]
  },
  {
   "cell_type": "code",
   "execution_count": 7,
   "metadata": {},
   "outputs": [
    {
     "data": {
      "text/html": [
       "<div>\n",
       "<style scoped>\n",
       "    .dataframe tbody tr th:only-of-type {\n",
       "        vertical-align: middle;\n",
       "    }\n",
       "\n",
       "    .dataframe tbody tr th {\n",
       "        vertical-align: top;\n",
       "    }\n",
       "\n",
       "    .dataframe thead th {\n",
       "        text-align: right;\n",
       "    }\n",
       "</style>\n",
       "<table border=\"1\" class=\"dataframe\">\n",
       "  <thead>\n",
       "    <tr style=\"text-align: right;\">\n",
       "      <th></th>\n",
       "      <th>Source</th>\n",
       "      <th>Location</th>\n",
       "      <th>2000</th>\n",
       "      <th>2005</th>\n",
       "      <th>2010</th>\n",
       "      <th>2011</th>\n",
       "      <th>2012</th>\n",
       "      <th>2013</th>\n",
       "      <th>2014</th>\n",
       "      <th>2015</th>\n",
       "      <th>2016</th>\n",
       "      <th>2017</th>\n",
       "      <th>2018</th>\n",
       "    </tr>\n",
       "  </thead>\n",
       "  <tbody>\n",
       "    <tr>\n",
       "      <td>0</td>\n",
       "      <td>ITU, Global ICT Developments</td>\n",
       "      <td>Qatar</td>\n",
       "      <td>4.863679</td>\n",
       "      <td>24.733494</td>\n",
       "      <td>69.00</td>\n",
       "      <td>69.000000</td>\n",
       "      <td>69.300000</td>\n",
       "      <td>85.300000</td>\n",
       "      <td>91.490000</td>\n",
       "      <td>92.884826</td>\n",
       "      <td>95.124662</td>\n",
       "      <td>97.388849</td>\n",
       "      <td>99.652849</td>\n",
       "    </tr>\n",
       "    <tr>\n",
       "      <td>1</td>\n",
       "      <td>ITU, Global ICT Developments</td>\n",
       "      <td>Kuwait</td>\n",
       "      <td>6.731396</td>\n",
       "      <td>25.926108</td>\n",
       "      <td>61.40</td>\n",
       "      <td>65.769071</td>\n",
       "      <td>70.450000</td>\n",
       "      <td>75.460000</td>\n",
       "      <td>78.700000</td>\n",
       "      <td>72.000000</td>\n",
       "      <td>78.367384</td>\n",
       "      <td>100.000000</td>\n",
       "      <td>99.599993</td>\n",
       "    </tr>\n",
       "    <tr>\n",
       "      <td>2</td>\n",
       "      <td>ITU, Global ICT Developments</td>\n",
       "      <td>Iceland</td>\n",
       "      <td>44.470534</td>\n",
       "      <td>87.000000</td>\n",
       "      <td>93.39</td>\n",
       "      <td>94.819687</td>\n",
       "      <td>96.209800</td>\n",
       "      <td>96.546800</td>\n",
       "      <td>98.160000</td>\n",
       "      <td>98.200000</td>\n",
       "      <td>98.240016</td>\n",
       "      <td>98.260000</td>\n",
       "      <td>99.010954</td>\n",
       "    </tr>\n",
       "    <tr>\n",
       "      <td>3</td>\n",
       "      <td>ITU, Global ICT Developments</td>\n",
       "      <td>Bahrain</td>\n",
       "      <td>6.153733</td>\n",
       "      <td>21.303734</td>\n",
       "      <td>55.00</td>\n",
       "      <td>76.999967</td>\n",
       "      <td>88.000000</td>\n",
       "      <td>90.000040</td>\n",
       "      <td>90.503133</td>\n",
       "      <td>93.478301</td>\n",
       "      <td>97.999981</td>\n",
       "      <td>95.878136</td>\n",
       "      <td>98.643429</td>\n",
       "    </tr>\n",
       "    <tr>\n",
       "      <td>4</td>\n",
       "      <td>ITU, Global ICT Developments</td>\n",
       "      <td>United Arab Emirates</td>\n",
       "      <td>23.625301</td>\n",
       "      <td>40.000000</td>\n",
       "      <td>68.00</td>\n",
       "      <td>78.000000</td>\n",
       "      <td>84.999992</td>\n",
       "      <td>88.000000</td>\n",
       "      <td>90.400000</td>\n",
       "      <td>90.500000</td>\n",
       "      <td>90.600007</td>\n",
       "      <td>94.819923</td>\n",
       "      <td>98.450002</td>\n",
       "    </tr>\n",
       "    <tr>\n",
       "      <td>...</td>\n",
       "      <td>...</td>\n",
       "      <td>...</td>\n",
       "      <td>...</td>\n",
       "      <td>...</td>\n",
       "      <td>...</td>\n",
       "      <td>...</td>\n",
       "      <td>...</td>\n",
       "      <td>...</td>\n",
       "      <td>...</td>\n",
       "      <td>...</td>\n",
       "      <td>...</td>\n",
       "      <td>...</td>\n",
       "      <td>...</td>\n",
       "    </tr>\n",
       "    <tr>\n",
       "      <td>193</td>\n",
       "      <td>ITU, Global ICT Developments</td>\n",
       "      <td>Tonga</td>\n",
       "      <td>2.434398</td>\n",
       "      <td>4.907783</td>\n",
       "      <td>16.00</td>\n",
       "      <td>25.000000</td>\n",
       "      <td>30.000000</td>\n",
       "      <td>32.753961</td>\n",
       "      <td>35.954441</td>\n",
       "      <td>38.651272</td>\n",
       "      <td>39.950000</td>\n",
       "      <td>41.248728</td>\n",
       "      <td>NaN</td>\n",
       "    </tr>\n",
       "    <tr>\n",
       "      <td>194</td>\n",
       "      <td>ITU, Global ICT Developments</td>\n",
       "      <td>Turkmenistan</td>\n",
       "      <td>0.133282</td>\n",
       "      <td>0.997257</td>\n",
       "      <td>3.00</td>\n",
       "      <td>5.000000</td>\n",
       "      <td>7.195800</td>\n",
       "      <td>9.600000</td>\n",
       "      <td>12.200000</td>\n",
       "      <td>14.996775</td>\n",
       "      <td>17.990324</td>\n",
       "      <td>21.250997</td>\n",
       "      <td>NaN</td>\n",
       "    </tr>\n",
       "    <tr>\n",
       "      <td>195</td>\n",
       "      <td>ITU, Global ICT Developments</td>\n",
       "      <td>Vanuatu</td>\n",
       "      <td>2.108337</td>\n",
       "      <td>5.082334</td>\n",
       "      <td>8.00</td>\n",
       "      <td>9.200000</td>\n",
       "      <td>10.598000</td>\n",
       "      <td>11.300000</td>\n",
       "      <td>18.800000</td>\n",
       "      <td>22.351405</td>\n",
       "      <td>24.000000</td>\n",
       "      <td>25.719788</td>\n",
       "      <td>NaN</td>\n",
       "    </tr>\n",
       "    <tr>\n",
       "      <td>196</td>\n",
       "      <td>ITU, Global ICT Developments</td>\n",
       "      <td>Venezuela</td>\n",
       "      <td>3.359597</td>\n",
       "      <td>12.552998</td>\n",
       "      <td>37.37</td>\n",
       "      <td>40.220000</td>\n",
       "      <td>49.050083</td>\n",
       "      <td>54.900000</td>\n",
       "      <td>57.000000</td>\n",
       "      <td>64.000000</td>\n",
       "      <td>60.000000</td>\n",
       "      <td>72.000000</td>\n",
       "      <td>NaN</td>\n",
       "    </tr>\n",
       "    <tr>\n",
       "      <td>197</td>\n",
       "      <td>ITU, Global ICT Developments</td>\n",
       "      <td>Yemen</td>\n",
       "      <td>0.082500</td>\n",
       "      <td>1.048598</td>\n",
       "      <td>12.35</td>\n",
       "      <td>14.905000</td>\n",
       "      <td>17.446500</td>\n",
       "      <td>20.000000</td>\n",
       "      <td>22.550000</td>\n",
       "      <td>24.085409</td>\n",
       "      <td>24.579208</td>\n",
       "      <td>26.718355</td>\n",
       "      <td>NaN</td>\n",
       "    </tr>\n",
       "  </tbody>\n",
       "</table>\n",
       "<p>198 rows × 13 columns</p>\n",
       "</div>"
      ],
      "text/plain": [
       "                           Source              Location       2000       2005  \\\n",
       "0    ITU, Global ICT Developments                 Qatar   4.863679  24.733494   \n",
       "1    ITU, Global ICT Developments                Kuwait   6.731396  25.926108   \n",
       "2    ITU, Global ICT Developments               Iceland  44.470534  87.000000   \n",
       "3    ITU, Global ICT Developments               Bahrain   6.153733  21.303734   \n",
       "4    ITU, Global ICT Developments  United Arab Emirates  23.625301  40.000000   \n",
       "..                            ...                   ...        ...        ...   \n",
       "193  ITU, Global ICT Developments                 Tonga   2.434398   4.907783   \n",
       "194  ITU, Global ICT Developments          Turkmenistan   0.133282   0.997257   \n",
       "195  ITU, Global ICT Developments               Vanuatu   2.108337   5.082334   \n",
       "196  ITU, Global ICT Developments             Venezuela   3.359597  12.552998   \n",
       "197  ITU, Global ICT Developments                 Yemen   0.082500   1.048598   \n",
       "\n",
       "      2010       2011       2012       2013       2014       2015       2016  \\\n",
       "0    69.00  69.000000  69.300000  85.300000  91.490000  92.884826  95.124662   \n",
       "1    61.40  65.769071  70.450000  75.460000  78.700000  72.000000  78.367384   \n",
       "2    93.39  94.819687  96.209800  96.546800  98.160000  98.200000  98.240016   \n",
       "3    55.00  76.999967  88.000000  90.000040  90.503133  93.478301  97.999981   \n",
       "4    68.00  78.000000  84.999992  88.000000  90.400000  90.500000  90.600007   \n",
       "..     ...        ...        ...        ...        ...        ...        ...   \n",
       "193  16.00  25.000000  30.000000  32.753961  35.954441  38.651272  39.950000   \n",
       "194   3.00   5.000000   7.195800   9.600000  12.200000  14.996775  17.990324   \n",
       "195   8.00   9.200000  10.598000  11.300000  18.800000  22.351405  24.000000   \n",
       "196  37.37  40.220000  49.050083  54.900000  57.000000  64.000000  60.000000   \n",
       "197  12.35  14.905000  17.446500  20.000000  22.550000  24.085409  24.579208   \n",
       "\n",
       "           2017       2018  \n",
       "0     97.388849  99.652849  \n",
       "1    100.000000  99.599993  \n",
       "2     98.260000  99.010954  \n",
       "3     95.878136  98.643429  \n",
       "4     94.819923  98.450002  \n",
       "..          ...        ...  \n",
       "193   41.248728        NaN  \n",
       "194   21.250997        NaN  \n",
       "195   25.719788        NaN  \n",
       "196   72.000000        NaN  \n",
       "197   26.718355        NaN  \n",
       "\n",
       "[198 rows x 13 columns]"
      ]
     },
     "execution_count": 7,
     "metadata": {},
     "output_type": "execute_result"
    }
   ],
   "source": [
    "internet_users"
   ]
  },
  {
   "cell_type": "code",
   "execution_count": 8,
   "metadata": {},
   "outputs": [
    {
     "data": {
      "text/html": [
       "<div>\n",
       "<style scoped>\n",
       "    .dataframe tbody tr th:only-of-type {\n",
       "        vertical-align: middle;\n",
       "    }\n",
       "\n",
       "    .dataframe tbody tr th {\n",
       "        vertical-align: top;\n",
       "    }\n",
       "\n",
       "    .dataframe thead th {\n",
       "        text-align: right;\n",
       "    }\n",
       "</style>\n",
       "<table border=\"1\" class=\"dataframe\">\n",
       "  <thead>\n",
       "    <tr style=\"text-align: right;\">\n",
       "      <th></th>\n",
       "      <th>country</th>\n",
       "      <th>Region</th>\n",
       "      <th>Surface area (km2)</th>\n",
       "      <th>Population in thousands (2017)</th>\n",
       "      <th>Population density (per km2, 2017)</th>\n",
       "      <th>Sex ratio (m per 100 f, 2017)</th>\n",
       "      <th>GDP: Gross domestic product (million current US$)</th>\n",
       "      <th>GDP growth rate (annual %, const. 2005 prices)</th>\n",
       "      <th>GDP per capita (current US$)</th>\n",
       "      <th>Economy: Agriculture (% of GVA)</th>\n",
       "      <th>...</th>\n",
       "      <th>Mobile-cellular subscriptions (per 100 inhabitants).1</th>\n",
       "      <th>Individuals using the Internet (per 100 inhabitants)</th>\n",
       "      <th>Threatened species (number)</th>\n",
       "      <th>Forested area (% of land area)</th>\n",
       "      <th>CO2 emission estimates (million tons/tons per capita)</th>\n",
       "      <th>Energy production, primary (Petajoules)</th>\n",
       "      <th>Energy supply per capita (Gigajoules)</th>\n",
       "      <th>Pop. using improved drinking water (urban/rural, %)</th>\n",
       "      <th>Pop. using improved sanitation facilities (urban/rural, %)</th>\n",
       "      <th>Net Official Development Assist. received (% of GNI)</th>\n",
       "    </tr>\n",
       "  </thead>\n",
       "  <tbody>\n",
       "    <tr>\n",
       "      <td>0</td>\n",
       "      <td>Afghanistan</td>\n",
       "      <td>SouthernAsia</td>\n",
       "      <td>652864</td>\n",
       "      <td>35530</td>\n",
       "      <td>54.4</td>\n",
       "      <td>106.3</td>\n",
       "      <td>20270</td>\n",
       "      <td>-2.4</td>\n",
       "      <td>623.2</td>\n",
       "      <td>23.3</td>\n",
       "      <td>...</td>\n",
       "      <td>8.3</td>\n",
       "      <td>42</td>\n",
       "      <td>2.1</td>\n",
       "      <td>9.8/0.3</td>\n",
       "      <td>63</td>\n",
       "      <td>5</td>\n",
       "      <td>78.2/47.0</td>\n",
       "      <td>45.1/27.0</td>\n",
       "      <td>21.43</td>\n",
       "      <td>-99</td>\n",
       "    </tr>\n",
       "    <tr>\n",
       "      <td>1</td>\n",
       "      <td>Albania</td>\n",
       "      <td>SouthernEurope</td>\n",
       "      <td>28748</td>\n",
       "      <td>2930</td>\n",
       "      <td>106.9</td>\n",
       "      <td>101.9</td>\n",
       "      <td>11541</td>\n",
       "      <td>2.6</td>\n",
       "      <td>3984.2</td>\n",
       "      <td>22.4</td>\n",
       "      <td>...</td>\n",
       "      <td>63.3</td>\n",
       "      <td>130</td>\n",
       "      <td>28.2</td>\n",
       "      <td>5.7/2.0</td>\n",
       "      <td>84</td>\n",
       "      <td>36</td>\n",
       "      <td>94.9/95.2</td>\n",
       "      <td>95.5/90.2</td>\n",
       "      <td>2.96</td>\n",
       "      <td>-99</td>\n",
       "    </tr>\n",
       "    <tr>\n",
       "      <td>2</td>\n",
       "      <td>Algeria</td>\n",
       "      <td>NorthernAfrica</td>\n",
       "      <td>2381741</td>\n",
       "      <td>41318</td>\n",
       "      <td>17.3</td>\n",
       "      <td>102.0</td>\n",
       "      <td>164779</td>\n",
       "      <td>3.8</td>\n",
       "      <td>4154.1</td>\n",
       "      <td>12.2</td>\n",
       "      <td>...</td>\n",
       "      <td>38.2</td>\n",
       "      <td>135</td>\n",
       "      <td>0.8</td>\n",
       "      <td>145.4/3.7</td>\n",
       "      <td>5900</td>\n",
       "      <td>55</td>\n",
       "      <td>84.3/81.8</td>\n",
       "      <td>89.8/82.2</td>\n",
       "      <td>0.05</td>\n",
       "      <td>-99</td>\n",
       "    </tr>\n",
       "    <tr>\n",
       "      <td>3</td>\n",
       "      <td>American Samoa</td>\n",
       "      <td>Polynesia</td>\n",
       "      <td>199</td>\n",
       "      <td>56</td>\n",
       "      <td>278.2</td>\n",
       "      <td>103.6</td>\n",
       "      <td>-99</td>\n",
       "      <td>-99</td>\n",
       "      <td>-99.0</td>\n",
       "      <td>-99</td>\n",
       "      <td>...</td>\n",
       "      <td>-99</td>\n",
       "      <td>92</td>\n",
       "      <td>87.9</td>\n",
       "      <td>-99</td>\n",
       "      <td>-99</td>\n",
       "      <td>-99</td>\n",
       "      <td>100.0/100.0</td>\n",
       "      <td>62.5/62.5</td>\n",
       "      <td>-99</td>\n",
       "      <td>-99</td>\n",
       "    </tr>\n",
       "    <tr>\n",
       "      <td>4</td>\n",
       "      <td>Andorra</td>\n",
       "      <td>SouthernEurope</td>\n",
       "      <td>468</td>\n",
       "      <td>77</td>\n",
       "      <td>163.8</td>\n",
       "      <td>102.3</td>\n",
       "      <td>2812</td>\n",
       "      <td>0.8</td>\n",
       "      <td>39896.4</td>\n",
       "      <td>0.5</td>\n",
       "      <td>...</td>\n",
       "      <td>96.9</td>\n",
       "      <td>13</td>\n",
       "      <td>34.0</td>\n",
       "      <td>0.5/6.4</td>\n",
       "      <td>1</td>\n",
       "      <td>119</td>\n",
       "      <td>100.0/100.0</td>\n",
       "      <td>100.0/100.0</td>\n",
       "      <td>-99</td>\n",
       "      <td>-99</td>\n",
       "    </tr>\n",
       "  </tbody>\n",
       "</table>\n",
       "<p>5 rows × 50 columns</p>\n",
       "</div>"
      ],
      "text/plain": [
       "          country          Region Surface area (km2)  \\\n",
       "0     Afghanistan    SouthernAsia             652864   \n",
       "1         Albania  SouthernEurope              28748   \n",
       "2         Algeria  NorthernAfrica            2381741   \n",
       "3  American Samoa       Polynesia                199   \n",
       "4         Andorra  SouthernEurope                468   \n",
       "\n",
       "   Population in thousands (2017)  Population density (per km2, 2017)  \\\n",
       "0                           35530                                54.4   \n",
       "1                            2930                               106.9   \n",
       "2                           41318                                17.3   \n",
       "3                              56                               278.2   \n",
       "4                              77                               163.8   \n",
       "\n",
       "   Sex ratio (m per 100 f, 2017)  \\\n",
       "0                          106.3   \n",
       "1                          101.9   \n",
       "2                          102.0   \n",
       "3                          103.6   \n",
       "4                          102.3   \n",
       "\n",
       "   GDP: Gross domestic product (million current US$)  \\\n",
       "0                                              20270   \n",
       "1                                              11541   \n",
       "2                                             164779   \n",
       "3                                                -99   \n",
       "4                                               2812   \n",
       "\n",
       "  GDP growth rate (annual %, const. 2005 prices)  \\\n",
       "0                                           -2.4   \n",
       "1                                            2.6   \n",
       "2                                            3.8   \n",
       "3                                            -99   \n",
       "4                                            0.8   \n",
       "\n",
       "   GDP per capita (current US$) Economy: Agriculture (% of GVA)  ...  \\\n",
       "0                         623.2                            23.3  ...   \n",
       "1                        3984.2                            22.4  ...   \n",
       "2                        4154.1                            12.2  ...   \n",
       "3                         -99.0                             -99  ...   \n",
       "4                       39896.4                             0.5  ...   \n",
       "\n",
       "   Mobile-cellular subscriptions (per 100 inhabitants).1  \\\n",
       "0                                                8.3       \n",
       "1                                               63.3       \n",
       "2                                               38.2       \n",
       "3                                                -99       \n",
       "4                                               96.9       \n",
       "\n",
       "   Individuals using the Internet (per 100 inhabitants)  \\\n",
       "0                                                 42      \n",
       "1                                                130      \n",
       "2                                                135      \n",
       "3                                                 92      \n",
       "4                                                 13      \n",
       "\n",
       "  Threatened species (number) Forested area (% of land area)  \\\n",
       "0                         2.1                        9.8/0.3   \n",
       "1                        28.2                        5.7/2.0   \n",
       "2                         0.8                      145.4/3.7   \n",
       "3                        87.9                            -99   \n",
       "4                        34.0                        0.5/6.4   \n",
       "\n",
       "  CO2 emission estimates (million tons/tons per capita)  \\\n",
       "0                                                 63      \n",
       "1                                                 84      \n",
       "2                                               5900      \n",
       "3                                                -99      \n",
       "4                                                  1      \n",
       "\n",
       "  Energy production, primary (Petajoules)  \\\n",
       "0                                       5   \n",
       "1                                      36   \n",
       "2                                      55   \n",
       "3                                     -99   \n",
       "4                                     119   \n",
       "\n",
       "  Energy supply per capita (Gigajoules)  \\\n",
       "0                             78.2/47.0   \n",
       "1                             94.9/95.2   \n",
       "2                             84.3/81.8   \n",
       "3                           100.0/100.0   \n",
       "4                           100.0/100.0   \n",
       "\n",
       "   Pop. using improved drinking water (urban/rural, %)  \\\n",
       "0                                          45.1/27.0     \n",
       "1                                          95.5/90.2     \n",
       "2                                          89.8/82.2     \n",
       "3                                          62.5/62.5     \n",
       "4                                        100.0/100.0     \n",
       "\n",
       "   Pop. using improved sanitation facilities (urban/rural, %)  \\\n",
       "0                                              21.43            \n",
       "1                                               2.96            \n",
       "2                                               0.05            \n",
       "3                                                -99            \n",
       "4                                                -99            \n",
       "\n",
       "  Net Official Development Assist. received (% of GNI)  \n",
       "0                                                -99    \n",
       "1                                                -99    \n",
       "2                                                -99    \n",
       "3                                                -99    \n",
       "4                                                -99    \n",
       "\n",
       "[5 rows x 50 columns]"
      ]
     },
     "execution_count": 8,
     "metadata": {},
     "output_type": "execute_result"
    }
   ],
   "source": [
    "country_profiles.head()"
   ]
  },
  {
   "cell_type": "code",
   "execution_count": 9,
   "metadata": {},
   "outputs": [],
   "source": [
    "country_population = country_profiles[['country','Region','Population in thousands (2017)']]"
   ]
  },
  {
   "cell_type": "code",
   "execution_count": 10,
   "metadata": {},
   "outputs": [
    {
     "data": {
      "text/html": [
       "<div>\n",
       "<style scoped>\n",
       "    .dataframe tbody tr th:only-of-type {\n",
       "        vertical-align: middle;\n",
       "    }\n",
       "\n",
       "    .dataframe tbody tr th {\n",
       "        vertical-align: top;\n",
       "    }\n",
       "\n",
       "    .dataframe thead th {\n",
       "        text-align: right;\n",
       "    }\n",
       "</style>\n",
       "<table border=\"1\" class=\"dataframe\">\n",
       "  <thead>\n",
       "    <tr style=\"text-align: right;\">\n",
       "      <th></th>\n",
       "      <th>country</th>\n",
       "      <th>Region</th>\n",
       "      <th>Population in thousands (2017)</th>\n",
       "    </tr>\n",
       "  </thead>\n",
       "  <tbody>\n",
       "    <tr>\n",
       "      <td>0</td>\n",
       "      <td>Afghanistan</td>\n",
       "      <td>SouthernAsia</td>\n",
       "      <td>35530</td>\n",
       "    </tr>\n",
       "    <tr>\n",
       "      <td>1</td>\n",
       "      <td>Albania</td>\n",
       "      <td>SouthernEurope</td>\n",
       "      <td>2930</td>\n",
       "    </tr>\n",
       "    <tr>\n",
       "      <td>2</td>\n",
       "      <td>Algeria</td>\n",
       "      <td>NorthernAfrica</td>\n",
       "      <td>41318</td>\n",
       "    </tr>\n",
       "    <tr>\n",
       "      <td>3</td>\n",
       "      <td>American Samoa</td>\n",
       "      <td>Polynesia</td>\n",
       "      <td>56</td>\n",
       "    </tr>\n",
       "    <tr>\n",
       "      <td>4</td>\n",
       "      <td>Andorra</td>\n",
       "      <td>SouthernEurope</td>\n",
       "      <td>77</td>\n",
       "    </tr>\n",
       "  </tbody>\n",
       "</table>\n",
       "</div>"
      ],
      "text/plain": [
       "          country          Region  Population in thousands (2017)\n",
       "0     Afghanistan    SouthernAsia                           35530\n",
       "1         Albania  SouthernEurope                            2930\n",
       "2         Algeria  NorthernAfrica                           41318\n",
       "3  American Samoa       Polynesia                              56\n",
       "4         Andorra  SouthernEurope                              77"
      ]
     },
     "execution_count": 10,
     "metadata": {},
     "output_type": "execute_result"
    }
   ],
   "source": [
    "country_population.head()"
   ]
  },
  {
   "cell_type": "code",
   "execution_count": 11,
   "metadata": {},
   "outputs": [],
   "source": [
    "internet_usage = internet_users[['Location','2017']]"
   ]
  },
  {
   "cell_type": "code",
   "execution_count": 12,
   "metadata": {},
   "outputs": [
    {
     "data": {
      "text/html": [
       "<div>\n",
       "<style scoped>\n",
       "    .dataframe tbody tr th:only-of-type {\n",
       "        vertical-align: middle;\n",
       "    }\n",
       "\n",
       "    .dataframe tbody tr th {\n",
       "        vertical-align: top;\n",
       "    }\n",
       "\n",
       "    .dataframe thead th {\n",
       "        text-align: right;\n",
       "    }\n",
       "</style>\n",
       "<table border=\"1\" class=\"dataframe\">\n",
       "  <thead>\n",
       "    <tr style=\"text-align: right;\">\n",
       "      <th></th>\n",
       "      <th>Location</th>\n",
       "      <th>2017</th>\n",
       "    </tr>\n",
       "  </thead>\n",
       "  <tbody>\n",
       "    <tr>\n",
       "      <td>0</td>\n",
       "      <td>Qatar</td>\n",
       "      <td>97.388849</td>\n",
       "    </tr>\n",
       "    <tr>\n",
       "      <td>1</td>\n",
       "      <td>Kuwait</td>\n",
       "      <td>100.000000</td>\n",
       "    </tr>\n",
       "    <tr>\n",
       "      <td>2</td>\n",
       "      <td>Iceland</td>\n",
       "      <td>98.260000</td>\n",
       "    </tr>\n",
       "    <tr>\n",
       "      <td>3</td>\n",
       "      <td>Bahrain</td>\n",
       "      <td>95.878136</td>\n",
       "    </tr>\n",
       "    <tr>\n",
       "      <td>4</td>\n",
       "      <td>United Arab Emirates</td>\n",
       "      <td>94.819923</td>\n",
       "    </tr>\n",
       "    <tr>\n",
       "      <td>...</td>\n",
       "      <td>...</td>\n",
       "      <td>...</td>\n",
       "    </tr>\n",
       "    <tr>\n",
       "      <td>193</td>\n",
       "      <td>Tonga</td>\n",
       "      <td>41.248728</td>\n",
       "    </tr>\n",
       "    <tr>\n",
       "      <td>194</td>\n",
       "      <td>Turkmenistan</td>\n",
       "      <td>21.250997</td>\n",
       "    </tr>\n",
       "    <tr>\n",
       "      <td>195</td>\n",
       "      <td>Vanuatu</td>\n",
       "      <td>25.719788</td>\n",
       "    </tr>\n",
       "    <tr>\n",
       "      <td>196</td>\n",
       "      <td>Venezuela</td>\n",
       "      <td>72.000000</td>\n",
       "    </tr>\n",
       "    <tr>\n",
       "      <td>197</td>\n",
       "      <td>Yemen</td>\n",
       "      <td>26.718355</td>\n",
       "    </tr>\n",
       "  </tbody>\n",
       "</table>\n",
       "<p>198 rows × 2 columns</p>\n",
       "</div>"
      ],
      "text/plain": [
       "                 Location        2017\n",
       "0                   Qatar   97.388849\n",
       "1                  Kuwait  100.000000\n",
       "2                 Iceland   98.260000\n",
       "3                 Bahrain   95.878136\n",
       "4    United Arab Emirates   94.819923\n",
       "..                    ...         ...\n",
       "193                 Tonga   41.248728\n",
       "194          Turkmenistan   21.250997\n",
       "195               Vanuatu   25.719788\n",
       "196             Venezuela   72.000000\n",
       "197                 Yemen   26.718355\n",
       "\n",
       "[198 rows x 2 columns]"
      ]
     },
     "execution_count": 12,
     "metadata": {},
     "output_type": "execute_result"
    }
   ],
   "source": [
    "internet_usage"
   ]
  },
  {
   "cell_type": "code",
   "execution_count": 13,
   "metadata": {},
   "outputs": [],
   "source": [
    "insights1 = country_population.merge(internet_usage,left_on=\"country\",right_on =\"Location\",how =\"left\")"
   ]
  },
  {
   "cell_type": "code",
   "execution_count": 14,
   "metadata": {},
   "outputs": [
    {
     "data": {
      "text/html": [
       "<div>\n",
       "<style scoped>\n",
       "    .dataframe tbody tr th:only-of-type {\n",
       "        vertical-align: middle;\n",
       "    }\n",
       "\n",
       "    .dataframe tbody tr th {\n",
       "        vertical-align: top;\n",
       "    }\n",
       "\n",
       "    .dataframe thead th {\n",
       "        text-align: right;\n",
       "    }\n",
       "</style>\n",
       "<table border=\"1\" class=\"dataframe\">\n",
       "  <thead>\n",
       "    <tr style=\"text-align: right;\">\n",
       "      <th></th>\n",
       "      <th>country</th>\n",
       "      <th>Region</th>\n",
       "      <th>Population in thousands (2017)</th>\n",
       "      <th>Location</th>\n",
       "      <th>2017</th>\n",
       "    </tr>\n",
       "  </thead>\n",
       "  <tbody>\n",
       "    <tr>\n",
       "      <td>0</td>\n",
       "      <td>Afghanistan</td>\n",
       "      <td>SouthernAsia</td>\n",
       "      <td>35530</td>\n",
       "      <td>Afghanistan</td>\n",
       "      <td>13.500000</td>\n",
       "    </tr>\n",
       "    <tr>\n",
       "      <td>1</td>\n",
       "      <td>Albania</td>\n",
       "      <td>SouthernEurope</td>\n",
       "      <td>2930</td>\n",
       "      <td>Albania</td>\n",
       "      <td>71.847041</td>\n",
       "    </tr>\n",
       "    <tr>\n",
       "      <td>2</td>\n",
       "      <td>Algeria</td>\n",
       "      <td>NorthernAfrica</td>\n",
       "      <td>41318</td>\n",
       "      <td>Algeria</td>\n",
       "      <td>47.691055</td>\n",
       "    </tr>\n",
       "    <tr>\n",
       "      <td>3</td>\n",
       "      <td>American Samoa</td>\n",
       "      <td>Polynesia</td>\n",
       "      <td>56</td>\n",
       "      <td>NaN</td>\n",
       "      <td>NaN</td>\n",
       "    </tr>\n",
       "    <tr>\n",
       "      <td>4</td>\n",
       "      <td>Andorra</td>\n",
       "      <td>SouthernEurope</td>\n",
       "      <td>77</td>\n",
       "      <td>Andorra</td>\n",
       "      <td>91.567467</td>\n",
       "    </tr>\n",
       "    <tr>\n",
       "      <td>...</td>\n",
       "      <td>...</td>\n",
       "      <td>...</td>\n",
       "      <td>...</td>\n",
       "      <td>...</td>\n",
       "      <td>...</td>\n",
       "    </tr>\n",
       "    <tr>\n",
       "      <td>224</td>\n",
       "      <td>Wallis and Futuna Islands</td>\n",
       "      <td>Polynesia</td>\n",
       "      <td>12</td>\n",
       "      <td>NaN</td>\n",
       "      <td>NaN</td>\n",
       "    </tr>\n",
       "    <tr>\n",
       "      <td>225</td>\n",
       "      <td>Western Sahara</td>\n",
       "      <td>NorthernAfrica</td>\n",
       "      <td>553</td>\n",
       "      <td>NaN</td>\n",
       "      <td>NaN</td>\n",
       "    </tr>\n",
       "    <tr>\n",
       "      <td>226</td>\n",
       "      <td>Yemen</td>\n",
       "      <td>WesternAsia</td>\n",
       "      <td>28250</td>\n",
       "      <td>Yemen</td>\n",
       "      <td>26.718355</td>\n",
       "    </tr>\n",
       "    <tr>\n",
       "      <td>227</td>\n",
       "      <td>Zambia</td>\n",
       "      <td>EasternAfrica</td>\n",
       "      <td>17094</td>\n",
       "      <td>Zambia</td>\n",
       "      <td>NaN</td>\n",
       "    </tr>\n",
       "    <tr>\n",
       "      <td>228</td>\n",
       "      <td>Zimbabwe</td>\n",
       "      <td>EasternAfrica</td>\n",
       "      <td>16530</td>\n",
       "      <td>Zimbabwe</td>\n",
       "      <td>27.055488</td>\n",
       "    </tr>\n",
       "  </tbody>\n",
       "</table>\n",
       "<p>229 rows × 5 columns</p>\n",
       "</div>"
      ],
      "text/plain": [
       "                       country          Region  \\\n",
       "0                  Afghanistan    SouthernAsia   \n",
       "1                      Albania  SouthernEurope   \n",
       "2                      Algeria  NorthernAfrica   \n",
       "3               American Samoa       Polynesia   \n",
       "4                      Andorra  SouthernEurope   \n",
       "..                         ...             ...   \n",
       "224  Wallis and Futuna Islands       Polynesia   \n",
       "225             Western Sahara  NorthernAfrica   \n",
       "226                      Yemen     WesternAsia   \n",
       "227                     Zambia   EasternAfrica   \n",
       "228                   Zimbabwe   EasternAfrica   \n",
       "\n",
       "     Population in thousands (2017)     Location       2017  \n",
       "0                             35530  Afghanistan  13.500000  \n",
       "1                              2930      Albania  71.847041  \n",
       "2                             41318      Algeria  47.691055  \n",
       "3                                56          NaN        NaN  \n",
       "4                                77      Andorra  91.567467  \n",
       "..                              ...          ...        ...  \n",
       "224                              12          NaN        NaN  \n",
       "225                             553          NaN        NaN  \n",
       "226                           28250        Yemen  26.718355  \n",
       "227                           17094       Zambia        NaN  \n",
       "228                           16530     Zimbabwe  27.055488  \n",
       "\n",
       "[229 rows x 5 columns]"
      ]
     },
     "execution_count": 14,
     "metadata": {},
     "output_type": "execute_result"
    }
   ],
   "source": [
    "insights1\n"
   ]
  },
  {
   "cell_type": "code",
   "execution_count": 15,
   "metadata": {},
   "outputs": [],
   "source": [
    "insights1 = insights1[pd.notnull(insights1[\"Location\"])]"
   ]
  },
  {
   "cell_type": "code",
   "execution_count": 16,
   "metadata": {},
   "outputs": [],
   "source": [
    "insights1 = insights1.sort_values(by = [\"Population in thousands (2017)\"], ascending =False)"
   ]
  },
  {
   "cell_type": "code",
   "execution_count": 17,
   "metadata": {},
   "outputs": [
    {
     "data": {
      "text/html": [
       "<div>\n",
       "<style scoped>\n",
       "    .dataframe tbody tr th:only-of-type {\n",
       "        vertical-align: middle;\n",
       "    }\n",
       "\n",
       "    .dataframe tbody tr th {\n",
       "        vertical-align: top;\n",
       "    }\n",
       "\n",
       "    .dataframe thead th {\n",
       "        text-align: right;\n",
       "    }\n",
       "</style>\n",
       "<table border=\"1\" class=\"dataframe\">\n",
       "  <thead>\n",
       "    <tr style=\"text-align: right;\">\n",
       "      <th></th>\n",
       "      <th>country</th>\n",
       "      <th>Region</th>\n",
       "      <th>Population in thousands (2017)</th>\n",
       "      <th>Location</th>\n",
       "      <th>2017</th>\n",
       "    </tr>\n",
       "  </thead>\n",
       "  <tbody>\n",
       "    <tr>\n",
       "      <td>45</td>\n",
       "      <td>China</td>\n",
       "      <td>EasternAsia</td>\n",
       "      <td>1409517</td>\n",
       "      <td>China</td>\n",
       "      <td>54.300000</td>\n",
       "    </tr>\n",
       "    <tr>\n",
       "      <td>95</td>\n",
       "      <td>India</td>\n",
       "      <td>SouthernAsia</td>\n",
       "      <td>1339180</td>\n",
       "      <td>India</td>\n",
       "      <td>34.450000</td>\n",
       "    </tr>\n",
       "    <tr>\n",
       "      <td>96</td>\n",
       "      <td>Indonesia</td>\n",
       "      <td>South-easternAsia</td>\n",
       "      <td>263991</td>\n",
       "      <td>Indonesia</td>\n",
       "      <td>32.292442</td>\n",
       "    </tr>\n",
       "    <tr>\n",
       "      <td>28</td>\n",
       "      <td>Brazil</td>\n",
       "      <td>SouthAmerica</td>\n",
       "      <td>209288</td>\n",
       "      <td>Brazil</td>\n",
       "      <td>67.471285</td>\n",
       "    </tr>\n",
       "    <tr>\n",
       "      <td>153</td>\n",
       "      <td>Pakistan</td>\n",
       "      <td>SouthernAsia</td>\n",
       "      <td>197016</td>\n",
       "      <td>Pakistan</td>\n",
       "      <td>15.510000</td>\n",
       "    </tr>\n",
       "    <tr>\n",
       "      <td>...</td>\n",
       "      <td>...</td>\n",
       "      <td>...</td>\n",
       "      <td>...</td>\n",
       "      <td>...</td>\n",
       "      <td>...</td>\n",
       "    </tr>\n",
       "    <tr>\n",
       "      <td>133</td>\n",
       "      <td>Monaco</td>\n",
       "      <td>WesternEurope</td>\n",
       "      <td>39</td>\n",
       "      <td>Monaco</td>\n",
       "      <td>97.052977</td>\n",
       "    </tr>\n",
       "    <tr>\n",
       "      <td>117</td>\n",
       "      <td>Liechtenstein</td>\n",
       "      <td>WesternEurope</td>\n",
       "      <td>38</td>\n",
       "      <td>Liechtenstein</td>\n",
       "      <td>98.100000</td>\n",
       "    </tr>\n",
       "    <tr>\n",
       "      <td>175</td>\n",
       "      <td>San Marino</td>\n",
       "      <td>SouthernEurope</td>\n",
       "      <td>33</td>\n",
       "      <td>San Marino</td>\n",
       "      <td>60.182301</td>\n",
       "    </tr>\n",
       "    <tr>\n",
       "      <td>211</td>\n",
       "      <td>Tuvalu</td>\n",
       "      <td>Polynesia</td>\n",
       "      <td>11</td>\n",
       "      <td>Tuvalu</td>\n",
       "      <td>49.318339</td>\n",
       "    </tr>\n",
       "    <tr>\n",
       "      <td>141</td>\n",
       "      <td>Nauru</td>\n",
       "      <td>Micronesia</td>\n",
       "      <td>11</td>\n",
       "      <td>Nauru</td>\n",
       "      <td>57.000000</td>\n",
       "    </tr>\n",
       "  </tbody>\n",
       "</table>\n",
       "<p>174 rows × 5 columns</p>\n",
       "</div>"
      ],
      "text/plain": [
       "           country             Region  Population in thousands (2017)  \\\n",
       "45           China        EasternAsia                         1409517   \n",
       "95           India       SouthernAsia                         1339180   \n",
       "96       Indonesia  South-easternAsia                          263991   \n",
       "28          Brazil       SouthAmerica                          209288   \n",
       "153       Pakistan       SouthernAsia                          197016   \n",
       "..             ...                ...                             ...   \n",
       "133         Monaco      WesternEurope                              39   \n",
       "117  Liechtenstein      WesternEurope                              38   \n",
       "175     San Marino     SouthernEurope                              33   \n",
       "211         Tuvalu          Polynesia                              11   \n",
       "141          Nauru         Micronesia                              11   \n",
       "\n",
       "          Location       2017  \n",
       "45           China  54.300000  \n",
       "95           India  34.450000  \n",
       "96       Indonesia  32.292442  \n",
       "28          Brazil  67.471285  \n",
       "153       Pakistan  15.510000  \n",
       "..             ...        ...  \n",
       "133         Monaco  97.052977  \n",
       "117  Liechtenstein  98.100000  \n",
       "175     San Marino  60.182301  \n",
       "211         Tuvalu  49.318339  \n",
       "141          Nauru  57.000000  \n",
       "\n",
       "[174 rows x 5 columns]"
      ]
     },
     "execution_count": 17,
     "metadata": {},
     "output_type": "execute_result"
    }
   ],
   "source": [
    "insights1"
   ]
  },
  {
   "cell_type": "code",
   "execution_count": 18,
   "metadata": {},
   "outputs": [
    {
     "data": {
      "image/png": "[encoded data removed]",
      "text/plain": [
       "<Figure size 1080x360 with 1 Axes>"
      ]
     },
     "metadata": {
      "needs_background": "light"
     },
     "output_type": "display_data"
    }
   ],
   "source": [
    "fig, ax = plt.subplots(figsize=(15,5))\n",
    "frequency = insights1[\"Population in thousands (2017)\"]\n",
    "points = insights1[\"2017\"]\n",
    "width = 0.4\n",
    "ax.bar(points, frequency)\n",
    "\n",
    "\n",
    "ax.set_title('Population vs internet')\n",
    "ax.set_xlabel('Internet Usage')\n",
    "ax.set_ylabel('Population')\n",
    "plt.show()"
   ]
  },
  {
   "cell_type": "code",
   "execution_count": 19,
   "metadata": {},
   "outputs": [],
   "source": [
    "#Creating a world map by merging the datasets"
   ]
  },
  {
   "cell_type": "code",
   "execution_count": 20,
   "metadata": {},
   "outputs": [],
   "source": [
    "merged = gdf.merge(insights1, left_on = 'ADMIN', right_on = 'country',how=\"outer\")"
   ]
  },
  {
   "cell_type": "code",
   "execution_count": 21,
   "metadata": {},
   "outputs": [],
   "source": [
    "#Some countries could be missing bcoz of diff names in diff datasets ex:Russia, United Sates, Greenland, European countries,African countries"
   ]
  },
  {
   "cell_type": "code",
   "execution_count": 22,
   "metadata": {},
   "outputs": [
    {
     "data": {
      "text/plain": [
       "Text(0.5, 1.0, 'Internet Usage over the world')"
      ]
     },
     "execution_count": 22,
     "metadata": {},
     "output_type": "execute_result"
    },
    {
     "data": {
      "image/png": "[encoded data removed]",
      "text/plain": [
       "<Figure size 1440x1440 with 1 Axes>"
      ]
     },
     "metadata": {
      "needs_background": "light"
     },
     "output_type": "display_data"
    }
   ],
   "source": [
    "#Reference: https://towardsdatascience.com/lets-make-a-map-using-geopandas-pandas-and-matplotlib-to-make-a-chloropleth-map-dddc31c1983d\n",
    "variable = \"2017\"\n",
    "vmin, vmax = 120, 220\n",
    "#fig, ax = plt.subplots(1, figsize=(10, 6))\n",
    "#fig =merged.subplot(column=variable, cmap=\"PuRd\", figsize=(10, 6))\n",
    "#Create colorbar as a legend\n",
    "sm = plt.cm.ScalarMappable(cmap=\"PuRd\", norm=plt.Normalize(vmin=vmin, vmax=vmax))\n",
    "# empty array for the data range\n",
    "sm._A = []\n",
    "# add the colorbar to the figure\n",
    "cbar = fig.colorbar(sm)\n",
    "merged.plot(column=variable, cmap=\"Blues\",figsize=(20,20))\n",
    "plt.title(\"Internet Usage over the world\")\n",
    "#try adding interactivity"
   ]
  },
  {
   "cell_type": "code",
   "execution_count": 23,
   "metadata": {},
   "outputs": [],
   "source": [
    "#Hypothesis 1.2 Mental health vs Internet usage\n",
    "\n",
    "#Mental health and neurodevelopment disorders (not including alcohol and drug use disorders) as a share of total disease burden. \n",
    "#Disease burden is measured in DALYs (Disability-Adjusted Life Years). \n",
    "#DALYs measure total burden of disease - both from years of life lost and years lived with a disability. \n",
    "#One DALY equals one lost year of healthy life."
   ]
  },
  {
   "cell_type": "code",
   "execution_count": 25,
   "metadata": {},
   "outputs": [
    {
     "data": {
      "application/vnd.plotly.v1+json": {
       "config": {
        "plotlyServerURL": "https://plot.ly"
       },
       "data": [
        {
         "type": "scattergeo"
        }
       ],
       "layout": {
        "height": 300,
        "margin": {
         "b": 0,
         "l": 0,
         "r": 0,
         "t": 0
        },
        "template": {
         "data": {
          "bar": [
           {
            "error_x": {
             "color": "#2a3f5f"
            },
            "error_y": {
             "color": "#2a3f5f"
            },
            "marker": {
             "line": {
              "color": "#E5ECF6",
              "width": 0.5
             }
            },
            "type": "bar"
           }
          ],
          "barpolar": [
           {
            "marker": {
             "line": {
              "color": "#E5ECF6",
              "width": 0.5
             }
            },
            "type": "barpolar"
           }
          ],
          "carpet": [
           {
            "aaxis": {
             "endlinecolor": "#2a3f5f",
             "gridcolor": "white",
             "linecolor": "white",
             "minorgridcolor": "white",
             "startlinecolor": "#2a3f5f"
            },
            "baxis": {
             "endlinecolor": "#2a3f5f",
             "gridcolor": "white",
             "linecolor": "white",
             "minorgridcolor": "white",
             "startlinecolor": "#2a3f5f"
            },
            "type": "carpet"
           }
          ],
          "choropleth": [
           {
            "colorbar": {
             "outlinewidth": 0,
             "ticks": ""
            },
            "type": "choropleth"
           }
          ],
          "contour": [
           {
            "colorbar": {
             "outlinewidth": 0,
             "ticks": ""
            },
            "colorscale": [
             [
              0,
              "#0d0887"
             ],
             [
              0.1111111111111111,
              "#46039f"
             ],
             [
              0.2222222222222222,
              "#7201a8"
             ],
             [
              0.3333333333333333,
              "#9c179e"
             ],
             [
              0.4444444444444444,
              "#bd3786"
             ],
             [
              0.5555555555555556,
              "#d8576b"
             ],
             [
              0.6666666666666666,
              "#ed7953"
             ],
             [
              0.7777777777777778,
              "#fb9f3a"
             ],
             [
              0.8888888888888888,
              "#fdca26"
             ],
             [
              1,
              "#f0f921"
             ]
            ],
            "type": "contour"
           }
          ],
          "contourcarpet": [
           {
            "colorbar": {
             "outlinewidth": 0,
             "ticks": ""
            },
            "type": "contourcarpet"
           }
          ],
          "heatmap": [
           {
            "colorbar": {
             "outlinewidth": 0,
             "ticks": ""
            },
            "colorscale": [
             [
              0,
              "#0d0887"
             ],
             [
              0.1111111111111111,
              "#46039f"
             ],
             [
              0.2222222222222222,
              "#7201a8"
             ],
             [
              0.3333333333333333,
              "#9c179e"
             ],
             [
              0.4444444444444444,
              "#bd3786"
             ],
             [
              0.5555555555555556,
              "#d8576b"
             ],
             [
              0.6666666666666666,
              "#ed7953"
             ],
             [
              0.7777777777777778,
              "#fb9f3a"
             ],
             [
              0.8888888888888888,
              "#fdca26"
             ],
             [
              1,
              "#f0f921"
             ]
            ],
            "type": "heatmap"
           }
          ],
          "heatmapgl": [
           {
            "colorbar": {
             "outlinewidth": 0,
             "ticks": ""
            },
            "colorscale": [
             [
              0,
              "#0d0887"
             ],
             [
              0.1111111111111111,
              "#46039f"
             ],
             [
              0.2222222222222222,
              "#7201a8"
             ],
             [
              0.3333333333333333,
              "#9c179e"
             ],
             [
              0.4444444444444444,
              "#bd3786"
             ],
             [
              0.5555555555555556,
              "#d8576b"
             ],
             [
              0.6666666666666666,
              "#ed7953"
             ],
             [
              0.7777777777777778,
              "#fb9f3a"
             ],
             [
              0.8888888888888888,
              "#fdca26"
             ],
             [
              1,
              "#f0f921"
             ]
            ],
            "type": "heatmapgl"
           }
          ],
          "histogram": [
           {
            "marker": {
             "colorbar": {
              "outlinewidth": 0,
              "ticks": ""
             }
            },
            "type": "histogram"
           }
          ],
          "histogram2d": [
           {
            "colorbar": {
             "outlinewidth": 0,
             "ticks": ""
            },
            "colorscale": [
             [
              0,
              "#0d0887"
             ],
             [
              0.1111111111111111,
              "#46039f"
             ],
             [
              0.2222222222222222,
              "#7201a8"
             ],
             [
              0.3333333333333333,
              "#9c179e"
             ],
             [
              0.4444444444444444,
              "#bd3786"
             ],
             [
              0.5555555555555556,
              "#d8576b"
             ],
             [
              0.6666666666666666,
              "#ed7953"
             ],
             [
              0.7777777777777778,
              "#fb9f3a"
             ],
             [
              0.8888888888888888,
              "#fdca26"
             ],
             [
              1,
              "#f0f921"
             ]
            ],
            "type": "histogram2d"
           }
          ],
          "histogram2dcontour": [
           {
            "colorbar": {
             "outlinewidth": 0,
             "ticks": ""
            },
            "colorscale": [
             [
              0,
              "#0d0887"
             ],
             [
              0.1111111111111111,
              "#46039f"
             ],
             [
              0.2222222222222222,
              "#7201a8"
             ],
             [
              0.3333333333333333,
              "#9c179e"
             ],
             [
              0.4444444444444444,
              "#bd3786"
             ],
             [
              0.5555555555555556,
              "#d8576b"
             ],
             [
              0.6666666666666666,
              "#ed7953"
             ],
             [
              0.7777777777777778,
              "#fb9f3a"
             ],
             [
              0.8888888888888888,
              "#fdca26"
             ],
             [
              1,
              "#f0f921"
             ]
            ],
            "type": "histogram2dcontour"
           }
          ],
          "mesh3d": [
           {
            "colorbar": {
             "outlinewidth": 0,
             "ticks": ""
            },
            "type": "mesh3d"
           }
          ],
          "parcoords": [
           {
            "line": {
             "colorbar": {
              "outlinewidth": 0,
              "ticks": ""
             }
            },
            "type": "parcoords"
           }
          ],
          "pie": [
           {
            "automargin": true,
            "type": "pie"
           }
          ],
          "scatter": [
           {
            "marker": {
             "colorbar": {
              "outlinewidth": 0,
              "ticks": ""
             }
            },
            "type": "scatter"
           }
          ],
          "scatter3d": [
           {
            "line": {
             "colorbar": {
              "outlinewidth": 0,
              "ticks": ""
             }
            },
            "marker": {
             "colorbar": {
              "outlinewidth": 0,
              "ticks": ""
             }
            },
            "type": "scatter3d"
           }
          ],
          "scattercarpet": [
           {
            "marker": {
             "colorbar": {
              "outlinewidth": 0,
              "ticks": ""
             }
            },
            "type": "scattercarpet"
           }
          ],
          "scattergeo": [
           {
            "marker": {
             "colorbar": {
              "outlinewidth": 0,
              "ticks": ""
             }
            },
            "type": "scattergeo"
           }
          ],
          "scattergl": [
           {
            "marker": {
             "colorbar": {
              "outlinewidth": 0,
              "ticks": ""
             }
            },
            "type": "scattergl"
           }
          ],
          "scattermapbox": [
           {
            "marker": {
             "colorbar": {
              "outlinewidth": 0,
              "ticks": ""
             }
            },
            "type": "scattermapbox"
           }
          ],
          "scatterpolar": [
           {
            "marker": {
             "colorbar": {
              "outlinewidth": 0,
              "ticks": ""
             }
            },
            "type": "scatterpolar"
           }
          ],
          "scatterpolargl": [
           {
            "marker": {
             "colorbar": {
              "outlinewidth": 0,
              "ticks": ""
             }
            },
            "type": "scatterpolargl"
           }
          ],
          "scatterternary": [
           {
            "marker": {
             "colorbar": {
              "outlinewidth": 0,
              "ticks": ""
             }
            },
            "type": "scatterternary"
           }
          ],
          "surface": [
           {
            "colorbar": {
             "outlinewidth": 0,
             "ticks": ""
            },
            "colorscale": [
             [
              0,
              "#0d0887"
             ],
             [
              0.1111111111111111,
              "#46039f"
             ],
             [
              0.2222222222222222,
              "#7201a8"
             ],
             [
              0.3333333333333333,
              "#9c179e"
             ],
             [
              0.4444444444444444,
              "#bd3786"
             ],
             [
              0.5555555555555556,
              "#d8576b"
             ],
             [
              0.6666666666666666,
              "#ed7953"
             ],
             [
              0.7777777777777778,
              "#fb9f3a"
             ],
             [
              0.8888888888888888,
              "#fdca26"
             ],
             [
              1,
              "#f0f921"
             ]
            ],
            "type": "surface"
           }
          ],
          "table": [
           {
            "cells": {
             "fill": {
              "color": "#EBF0F8"
             },
             "line": {
              "color": "white"
             }
            },
            "header": {
             "fill": {
              "color": "#C8D4E3"
             },
             "line": {
              "color": "white"
             }
            },
            "type": "table"
           }
          ]
         },
         "layout": {
          "annotationdefaults": {
           "arrowcolor": "#2a3f5f",
           "arrowhead": 0,
           "arrowwidth": 1
          },
          "coloraxis": {
           "colorbar": {
            "outlinewidth": 0,
            "ticks": ""
           }
          },
          "colorscale": {
           "diverging": [
            [
             0,
             "#8e0152"
            ],
            [
             0.1,
             "#c51b7d"
            ],
            [
             0.2,
             "#de77ae"
            ],
            [
             0.3,
             "#f1b6da"
            ],
            [
             0.4,
             "#fde0ef"
            ],
            [
             0.5,
             "#f7f7f7"
            ],
            [
             0.6,
             "#e6f5d0"
            ],
            [
             0.7,
             "#b8e186"
            ],
            [
             0.8,
             "#7fbc41"
            ],
            [
             0.9,
             "#4d9221"
            ],
            [
             1,
             "#276419"
            ]
           ],
           "sequential": [
            [
             0,
             "#0d0887"
            ],
            [
             0.1111111111111111,
             "#46039f"
            ],
            [
             0.2222222222222222,
             "#7201a8"
            ],
            [
             0.3333333333333333,
             "#9c179e"
            ],
            [
             0.4444444444444444,
             "#bd3786"
            ],
            [
             0.5555555555555556,
             "#d8576b"
            ],
            [
             0.6666666666666666,
             "#ed7953"
            ],
            [
             0.7777777777777778,
             "#fb9f3a"
            ],
            [
             0.8888888888888888,
             "#fdca26"
            ],
            [
             1,
             "#f0f921"
            ]
           ],
           "sequentialminus": [
            [
             0,
             "#0d0887"
            ],
            [
             0.1111111111111111,
             "#46039f"
            ],
            [
             0.2222222222222222,
             "#7201a8"
            ],
            [
             0.3333333333333333,
             "#9c179e"
            ],
            [
             0.4444444444444444,
             "#bd3786"
            ],
            [
             0.5555555555555556,
             "#d8576b"
            ],
            [
             0.6666666666666666,
             "#ed7953"
            ],
            [
             0.7777777777777778,
             "#fb9f3a"
            ],
            [
             0.8888888888888888,
             "#fdca26"
            ],
            [
             1,
             "#f0f921"
            ]
           ]
          },
          "colorway": [
           "#636efa",
           "#EF553B",
           "#00cc96",
           "#ab63fa",
           "#FFA15A",
           "#19d3f3",
           "#FF6692",
           "#B6E880",
           "#FF97FF",
           "#FECB52"
          ],
          "font": {
           "color": "#2a3f5f"
          },
          "geo": {
           "bgcolor": "white",
           "lakecolor": "white",
           "landcolor": "#E5ECF6",
           "showlakes": true,
           "showland": true,
           "subunitcolor": "white"
          },
          "hoverlabel": {
           "align": "left"
          },
          "hovermode": "closest",
          "mapbox": {
           "style": "light"
          },
          "paper_bgcolor": "white",
          "plot_bgcolor": "#E5ECF6",
          "polar": {
           "angularaxis": {
            "gridcolor": "white",
            "linecolor": "white",
            "ticks": ""
           },
           "bgcolor": "#E5ECF6",
           "radialaxis": {
            "gridcolor": "white",
            "linecolor": "white",
            "ticks": ""
           }
          },
          "scene": {
           "xaxis": {
            "backgroundcolor": "#E5ECF6",
            "gridcolor": "white",
            "gridwidth": 2,
            "linecolor": "white",
            "showbackground": true,
            "ticks": "",
            "zerolinecolor": "white"
           },
           "yaxis": {
            "backgroundcolor": "#E5ECF6",
            "gridcolor": "white",
            "gridwidth": 2,
            "linecolor": "white",
            "showbackground": true,
            "ticks": "",
            "zerolinecolor": "white"
           },
           "zaxis": {
            "backgroundcolor": "#E5ECF6",
            "gridcolor": "white",
            "gridwidth": 2,
            "linecolor": "white",
            "showbackground": true,
            "ticks": "",
            "zerolinecolor": "white"
           }
          },
          "shapedefaults": {
           "line": {
            "color": "#2a3f5f"
           }
          },
          "ternary": {
           "aaxis": {
            "gridcolor": "white",
            "linecolor": "white",
            "ticks": ""
           },
           "baxis": {
            "gridcolor": "white",
            "linecolor": "white",
            "ticks": ""
           },
           "bgcolor": "#E5ECF6",
           "caxis": {
            "gridcolor": "white",
            "linecolor": "white",
            "ticks": ""
           }
          },
          "title": {
           "x": 0.05
          },
          "xaxis": {
           "automargin": true,
           "gridcolor": "white",
           "linecolor": "white",
           "ticks": "",
           "title": {
            "standoff": 15
           },
           "zerolinecolor": "white",
           "zerolinewidth": 2
          },
          "yaxis": {
           "automargin": true,
           "gridcolor": "white",
           "linecolor": "white",
           "ticks": "",
           "title": {
            "standoff": 15
           },
           "zerolinecolor": "white",
           "zerolinewidth": 2
          }
         }
        }
       }
      },
      "text/html": [
       "<div>\n",
       "        \n",
       "        \n",
       "            <div id=\"2341305e-0277-48ad-90a1-6c76bb7ce364\" class=\"plotly-graph-div\" style=\"height:300px; width:100%;\"></div>\n",
       "            <script type=\"text/javascript\">\n",
       "                require([\"plotly\"], function(Plotly) {\n",
       "                    window.PLOTLYENV=window.PLOTLYENV || {};\n",
       "                    \n",
       "                if (document.getElementById(\"2341305e-0277-48ad-90a1-6c76bb7ce364\")) {\n",
       "                    Plotly.newPlot(\n",
       "                        '2341305e-0277-48ad-90a1-6c76bb7ce364',\n",
       "                        [{\"type\": \"scattergeo\"}],\n",
       "                        {\"height\": 300, \"margin\": {\"b\": 0, \"l\": 0, \"r\": 0, \"t\": 0}, \"template\": {\"data\": {\"bar\": [{\"error_x\": {\"color\": \"#2a3f5f\"}, \"error_y\": {\"color\": \"#2a3f5f\"}, \"marker\": {\"line\": {\"color\": \"#E5ECF6\", \"width\": 0.5}}, \"type\": \"bar\"}], \"barpolar\": [{\"marker\": {\"line\": {\"color\": \"#E5ECF6\", \"width\": 0.5}}, \"type\": \"barpolar\"}], \"carpet\": [{\"aaxis\": {\"endlinecolor\": \"#2a3f5f\", \"gridcolor\": \"white\", \"linecolor\": \"white\", \"minorgridcolor\": \"white\", \"startlinecolor\": \"#2a3f5f\"}, \"baxis\": {\"endlinecolor\": \"#2a3f5f\", \"gridcolor\": \"white\", \"linecolor\": \"white\", \"minorgridcolor\": \"white\", \"startlinecolor\": \"#2a3f5f\"}, \"type\": \"carpet\"}], \"choropleth\": [{\"colorbar\": {\"outlinewidth\": 0, \"ticks\": \"\"}, \"type\": \"choropleth\"}], \"contour\": [{\"colorbar\": {\"outlinewidth\": 0, \"ticks\": \"\"}, \"colorscale\": [[0.0, \"#0d0887\"], [0.1111111111111111, \"#46039f\"], [0.2222222222222222, \"#7201a8\"], [0.3333333333333333, \"#9c179e\"], [0.4444444444444444, \"#bd3786\"], [0.5555555555555556, \"#d8576b\"], [0.6666666666666666, \"#ed7953\"], [0.7777777777777778, \"#fb9f3a\"], [0.8888888888888888, \"#fdca26\"], [1.0, \"#f0f921\"]], \"type\": \"contour\"}], \"contourcarpet\": [{\"colorbar\": {\"outlinewidth\": 0, \"ticks\": \"\"}, \"type\": \"contourcarpet\"}], \"heatmap\": [{\"colorbar\": {\"outlinewidth\": 0, \"ticks\": \"\"}, \"colorscale\": [[0.0, \"#0d0887\"], [0.1111111111111111, \"#46039f\"], [0.2222222222222222, \"#7201a8\"], [0.3333333333333333, \"#9c179e\"], [0.4444444444444444, \"#bd3786\"], [0.5555555555555556, \"#d8576b\"], [0.6666666666666666, \"#ed7953\"], [0.7777777777777778, \"#fb9f3a\"], [0.8888888888888888, \"#fdca26\"], [1.0, \"#f0f921\"]], \"type\": \"heatmap\"}], \"heatmapgl\": [{\"colorbar\": {\"outlinewidth\": 0, \"ticks\": \"\"}, \"colorscale\": [[0.0, \"#0d0887\"], [0.1111111111111111, \"#46039f\"], [0.2222222222222222, \"#7201a8\"], [0.3333333333333333, \"#9c179e\"], [0.4444444444444444, \"#bd3786\"], [0.5555555555555556, \"#d8576b\"], [0.6666666666666666, \"#ed7953\"], [0.7777777777777778, \"#fb9f3a\"], [0.8888888888888888, \"#fdca26\"], [1.0, \"#f0f921\"]], \"type\": \"heatmapgl\"}], \"histogram\": [{\"marker\": {\"colorbar\": {\"outlinewidth\": 0, \"ticks\": \"\"}}, \"type\": \"histogram\"}], \"histogram2d\": [{\"colorbar\": {\"outlinewidth\": 0, \"ticks\": \"\"}, \"colorscale\": [[0.0, \"#0d0887\"], [0.1111111111111111, \"#46039f\"], [0.2222222222222222, \"#7201a8\"], [0.3333333333333333, \"#9c179e\"], [0.4444444444444444, \"#bd3786\"], [0.5555555555555556, \"#d8576b\"], [0.6666666666666666, \"#ed7953\"], [0.7777777777777778, \"#fb9f3a\"], [0.8888888888888888, \"#fdca26\"], [1.0, \"#f0f921\"]], \"type\": \"histogram2d\"}], \"histogram2dcontour\": [{\"colorbar\": {\"outlinewidth\": 0, \"ticks\": \"\"}, \"colorscale\": [[0.0, \"#0d0887\"], [0.1111111111111111, \"#46039f\"], [0.2222222222222222, \"#7201a8\"], [0.3333333333333333, \"#9c179e\"], [0.4444444444444444, \"#bd3786\"], [0.5555555555555556, \"#d8576b\"], [0.6666666666666666, \"#ed7953\"], [0.7777777777777778, \"#fb9f3a\"], [0.8888888888888888, \"#fdca26\"], [1.0, \"#f0f921\"]], \"type\": \"histogram2dcontour\"}], \"mesh3d\": [{\"colorbar\": {\"outlinewidth\": 0, \"ticks\": \"\"}, \"type\": \"mesh3d\"}], \"parcoords\": [{\"line\": {\"colorbar\": {\"outlinewidth\": 0, \"ticks\": \"\"}}, \"type\": \"parcoords\"}], \"pie\": [{\"automargin\": true, \"type\": \"pie\"}], \"scatter\": [{\"marker\": {\"colorbar\": {\"outlinewidth\": 0, \"ticks\": \"\"}}, \"type\": \"scatter\"}], \"scatter3d\": [{\"line\": {\"colorbar\": {\"outlinewidth\": 0, \"ticks\": \"\"}}, \"marker\": {\"colorbar\": {\"outlinewidth\": 0, \"ticks\": \"\"}}, \"type\": \"scatter3d\"}], \"scattercarpet\": [{\"marker\": {\"colorbar\": {\"outlinewidth\": 0, \"ticks\": \"\"}}, \"type\": \"scattercarpet\"}], \"scattergeo\": [{\"marker\": {\"colorbar\": {\"outlinewidth\": 0, \"ticks\": \"\"}}, \"type\": \"scattergeo\"}], \"scattergl\": [{\"marker\": {\"colorbar\": {\"outlinewidth\": 0, \"ticks\": \"\"}}, \"type\": \"scattergl\"}], \"scattermapbox\": [{\"marker\": {\"colorbar\": {\"outlinewidth\": 0, \"ticks\": \"\"}}, \"type\": \"scattermapbox\"}], \"scatterpolar\": [{\"marker\": {\"colorbar\": {\"outlinewidth\": 0, \"ticks\": \"\"}}, \"type\": \"scatterpolar\"}], \"scatterpolargl\": [{\"marker\": {\"colorbar\": {\"outlinewidth\": 0, \"ticks\": \"\"}}, \"type\": \"scatterpolargl\"}], \"scatterternary\": [{\"marker\": {\"colorbar\": {\"outlinewidth\": 0, \"ticks\": \"\"}}, \"type\": \"scatterternary\"}], \"surface\": [{\"colorbar\": {\"outlinewidth\": 0, \"ticks\": \"\"}, \"colorscale\": [[0.0, \"#0d0887\"], [0.1111111111111111, \"#46039f\"], [0.2222222222222222, \"#7201a8\"], [0.3333333333333333, \"#9c179e\"], [0.4444444444444444, \"#bd3786\"], [0.5555555555555556, \"#d8576b\"], [0.6666666666666666, \"#ed7953\"], [0.7777777777777778, \"#fb9f3a\"], [0.8888888888888888, \"#fdca26\"], [1.0, \"#f0f921\"]], \"type\": \"surface\"}], \"table\": [{\"cells\": {\"fill\": {\"color\": \"#EBF0F8\"}, \"line\": {\"color\": \"white\"}}, \"header\": {\"fill\": {\"color\": \"#C8D4E3\"}, \"line\": {\"color\": \"white\"}}, \"type\": \"table\"}]}, \"layout\": {\"annotationdefaults\": {\"arrowcolor\": \"#2a3f5f\", \"arrowhead\": 0, \"arrowwidth\": 1}, \"coloraxis\": {\"colorbar\": {\"outlinewidth\": 0, \"ticks\": \"\"}}, \"colorscale\": {\"diverging\": [[0, \"#8e0152\"], [0.1, \"#c51b7d\"], [0.2, \"#de77ae\"], [0.3, \"#f1b6da\"], [0.4, \"#fde0ef\"], [0.5, \"#f7f7f7\"], [0.6, \"#e6f5d0\"], [0.7, \"#b8e186\"], [0.8, \"#7fbc41\"], [0.9, \"#4d9221\"], [1, \"#276419\"]], \"sequential\": [[0.0, \"#0d0887\"], [0.1111111111111111, \"#46039f\"], [0.2222222222222222, \"#7201a8\"], [0.3333333333333333, \"#9c179e\"], [0.4444444444444444, \"#bd3786\"], [0.5555555555555556, \"#d8576b\"], [0.6666666666666666, \"#ed7953\"], [0.7777777777777778, \"#fb9f3a\"], [0.8888888888888888, \"#fdca26\"], [1.0, \"#f0f921\"]], \"sequentialminus\": [[0.0, \"#0d0887\"], [0.1111111111111111, \"#46039f\"], [0.2222222222222222, \"#7201a8\"], [0.3333333333333333, \"#9c179e\"], [0.4444444444444444, \"#bd3786\"], [0.5555555555555556, \"#d8576b\"], [0.6666666666666666, \"#ed7953\"], [0.7777777777777778, \"#fb9f3a\"], [0.8888888888888888, \"#fdca26\"], [1.0, \"#f0f921\"]]}, \"colorway\": [\"#636efa\", \"#EF553B\", \"#00cc96\", \"#ab63fa\", \"#FFA15A\", \"#19d3f3\", \"#FF6692\", \"#B6E880\", \"#FF97FF\", \"#FECB52\"], \"font\": {\"color\": \"#2a3f5f\"}, \"geo\": {\"bgcolor\": \"white\", \"lakecolor\": \"white\", \"landcolor\": \"#E5ECF6\", \"showlakes\": true, \"showland\": true, \"subunitcolor\": \"white\"}, \"hoverlabel\": {\"align\": \"left\"}, \"hovermode\": \"closest\", \"mapbox\": {\"style\": \"light\"}, \"paper_bgcolor\": \"white\", \"plot_bgcolor\": \"#E5ECF6\", \"polar\": {\"angularaxis\": {\"gridcolor\": \"white\", \"linecolor\": \"white\", \"ticks\": \"\"}, \"bgcolor\": \"#E5ECF6\", \"radialaxis\": {\"gridcolor\": \"white\", \"linecolor\": \"white\", \"ticks\": \"\"}}, \"scene\": {\"xaxis\": {\"backgroundcolor\": \"#E5ECF6\", \"gridcolor\": \"white\", \"gridwidth\": 2, \"linecolor\": \"white\", \"showbackground\": true, \"ticks\": \"\", \"zerolinecolor\": \"white\"}, \"yaxis\": {\"backgroundcolor\": \"#E5ECF6\", \"gridcolor\": \"white\", \"gridwidth\": 2, \"linecolor\": \"white\", \"showbackground\": true, \"ticks\": \"\", \"zerolinecolor\": \"white\"}, \"zaxis\": {\"backgroundcolor\": \"#E5ECF6\", \"gridcolor\": \"white\", \"gridwidth\": 2, \"linecolor\": \"white\", \"showbackground\": true, \"ticks\": \"\", \"zerolinecolor\": \"white\"}}, \"shapedefaults\": {\"line\": {\"color\": \"#2a3f5f\"}}, \"ternary\": {\"aaxis\": {\"gridcolor\": \"white\", \"linecolor\": \"white\", \"ticks\": \"\"}, \"baxis\": {\"gridcolor\": \"white\", \"linecolor\": \"white\", \"ticks\": \"\"}, \"bgcolor\": \"#E5ECF6\", \"caxis\": {\"gridcolor\": \"white\", \"linecolor\": \"white\", \"ticks\": \"\"}}, \"title\": {\"x\": 0.05}, \"xaxis\": {\"automargin\": true, \"gridcolor\": \"white\", \"linecolor\": \"white\", \"ticks\": \"\", \"title\": {\"standoff\": 15}, \"zerolinecolor\": \"white\", \"zerolinewidth\": 2}, \"yaxis\": {\"automargin\": true, \"gridcolor\": \"white\", \"linecolor\": \"white\", \"ticks\": \"\", \"title\": {\"standoff\": 15}, \"zerolinecolor\": \"white\", \"zerolinewidth\": 2}}}},\n",
       "                        {\"responsive\": true}\n",
       "                    ).then(function(){\n",
       "                            \n",
       "var gd = document.getElementById('2341305e-0277-48ad-90a1-6c76bb7ce364');\n",
       "var x = new MutationObserver(function (mutations, observer) {{\n",
       "        var display = window.getComputedStyle(gd).display;\n",
       "        if (!display || display === 'none') {{\n",
       "            console.log([gd, 'removed!']);\n",
       "            Plotly.purge(gd);\n",
       "            observer.disconnect();\n",
       "        }}\n",
       "}});\n",
       "\n",
       "// Listen for the removal of the full notebook cells\n",
       "var notebookContainer = gd.closest('#notebook-container');\n",
       "if (notebookContainer) {{\n",
       "    x.observe(notebookContainer, {childList: true});\n",
       "}}\n",
       "\n",
       "// Listen for the clearing of the current output cell\n",
       "var outputEl = gd.closest('.output');\n",
       "if (outputEl) {{\n",
       "    x.observe(outputEl, {childList: true});\n",
       "}}\n",
       "\n",
       "                        })\n",
       "                };\n",
       "                });\n",
       "            </script>\n",
       "        </div>"
      ]
     },
     "metadata": {},
     "output_type": "display_data"
    }
   ],
   "source": [
    "import plotly.graph_objects as go\n",
    "\n",
    "fig = go.Figure(go.Scattergeo())\n",
    "fig.update_layout(height=300, margin={\"r\":0,\"t\":0,\"l\":0,\"b\":0})\n",
    "fig.show()\n"
   ]
  },
  {
   "cell_type": "markdown",
   "metadata": {},
   "source": [
    "# Hypothesis 1.3"
   ]
  },
  {
   "cell_type": "code",
   "execution_count": 26,
   "metadata": {},
   "outputs": [],
   "source": [
    "country_GDP = country_profiles[['country','GDP per capita (current US$)','Population in thousands (2017)']]"
   ]
  },
  {
   "cell_type": "code",
   "execution_count": 27,
   "metadata": {},
   "outputs": [
    {
     "data": {
      "text/html": [
       "<div>\n",
       "<style scoped>\n",
       "    .dataframe tbody tr th:only-of-type {\n",
       "        vertical-align: middle;\n",
       "    }\n",
       "\n",
       "    .dataframe tbody tr th {\n",
       "        vertical-align: top;\n",
       "    }\n",
       "\n",
       "    .dataframe thead th {\n",
       "        text-align: right;\n",
       "    }\n",
       "</style>\n",
       "<table border=\"1\" class=\"dataframe\">\n",
       "  <thead>\n",
       "    <tr style=\"text-align: right;\">\n",
       "      <th></th>\n",
       "      <th>country</th>\n",
       "      <th>GDP per capita (current US$)</th>\n",
       "      <th>Population in thousands (2017)</th>\n",
       "    </tr>\n",
       "  </thead>\n",
       "  <tbody>\n",
       "    <tr>\n",
       "      <td>0</td>\n",
       "      <td>Afghanistan</td>\n",
       "      <td>623.2</td>\n",
       "      <td>35530</td>\n",
       "    </tr>\n",
       "    <tr>\n",
       "      <td>1</td>\n",
       "      <td>Albania</td>\n",
       "      <td>3984.2</td>\n",
       "      <td>2930</td>\n",
       "    </tr>\n",
       "    <tr>\n",
       "      <td>2</td>\n",
       "      <td>Algeria</td>\n",
       "      <td>4154.1</td>\n",
       "      <td>41318</td>\n",
       "    </tr>\n",
       "    <tr>\n",
       "      <td>3</td>\n",
       "      <td>American Samoa</td>\n",
       "      <td>-99.0</td>\n",
       "      <td>56</td>\n",
       "    </tr>\n",
       "    <tr>\n",
       "      <td>4</td>\n",
       "      <td>Andorra</td>\n",
       "      <td>39896.4</td>\n",
       "      <td>77</td>\n",
       "    </tr>\n",
       "    <tr>\n",
       "      <td>...</td>\n",
       "      <td>...</td>\n",
       "      <td>...</td>\n",
       "      <td>...</td>\n",
       "    </tr>\n",
       "    <tr>\n",
       "      <td>224</td>\n",
       "      <td>Wallis and Futuna Islands</td>\n",
       "      <td>-99.0</td>\n",
       "      <td>12</td>\n",
       "    </tr>\n",
       "    <tr>\n",
       "      <td>225</td>\n",
       "      <td>Western Sahara</td>\n",
       "      <td>-99.0</td>\n",
       "      <td>553</td>\n",
       "    </tr>\n",
       "    <tr>\n",
       "      <td>226</td>\n",
       "      <td>Yemen</td>\n",
       "      <td>1106.4</td>\n",
       "      <td>28250</td>\n",
       "    </tr>\n",
       "    <tr>\n",
       "      <td>227</td>\n",
       "      <td>Zambia</td>\n",
       "      <td>1311.1</td>\n",
       "      <td>17094</td>\n",
       "    </tr>\n",
       "    <tr>\n",
       "      <td>228</td>\n",
       "      <td>Zimbabwe</td>\n",
       "      <td>890.4</td>\n",
       "      <td>16530</td>\n",
       "    </tr>\n",
       "  </tbody>\n",
       "</table>\n",
       "<p>229 rows × 3 columns</p>\n",
       "</div>"
      ],
      "text/plain": [
       "                       country  GDP per capita (current US$)  \\\n",
       "0                  Afghanistan                         623.2   \n",
       "1                      Albania                        3984.2   \n",
       "2                      Algeria                        4154.1   \n",
       "3               American Samoa                         -99.0   \n",
       "4                      Andorra                       39896.4   \n",
       "..                         ...                           ...   \n",
       "224  Wallis and Futuna Islands                         -99.0   \n",
       "225             Western Sahara                         -99.0   \n",
       "226                      Yemen                        1106.4   \n",
       "227                     Zambia                        1311.1   \n",
       "228                   Zimbabwe                         890.4   \n",
       "\n",
       "     Population in thousands (2017)  \n",
       "0                             35530  \n",
       "1                              2930  \n",
       "2                             41318  \n",
       "3                                56  \n",
       "4                                77  \n",
       "..                              ...  \n",
       "224                              12  \n",
       "225                             553  \n",
       "226                           28250  \n",
       "227                           17094  \n",
       "228                           16530  \n",
       "\n",
       "[229 rows x 3 columns]"
      ]
     },
     "execution_count": 27,
     "metadata": {},
     "output_type": "execute_result"
    }
   ],
   "source": [
    "country_GDP"
   ]
  },
  {
   "cell_type": "code",
   "execution_count": 28,
   "metadata": {},
   "outputs": [],
   "source": [
    "# sum_int_users = internet_users[[\"2000\",\"2005\",\"2010\",\"2011\",\"2012\",\"2013\",\"2014\",\"2015\",\"2016\",\"2017\",\"2018\"]]\n",
    "\n",
    "# df['sum'] = df.drop('gid', axis=1).sum(axis=1)\n",
    "# print (df)\n",
    "#sum of percentages\n",
    "sum_int_users = internet_users.iloc[:,1:].sum(axis=1)"
   ]
  },
  {
   "cell_type": "code",
   "execution_count": 29,
   "metadata": {},
   "outputs": [],
   "source": [
    "average_int_usage = sum_int_users.div(11)"
   ]
  },
  {
   "cell_type": "code",
   "execution_count": 30,
   "metadata": {},
   "outputs": [
    {
     "data": {
      "text/plain": [
       "0      72.612578\n",
       "1      66.763996\n",
       "2      91.300708\n",
       "3      73.996405\n",
       "4      77.035929\n",
       "         ...    \n",
       "193    24.263689\n",
       "194     8.396767\n",
       "195    12.469078\n",
       "196    40.950243\n",
       "197    14.887779\n",
       "Length: 198, dtype: float64"
      ]
     },
     "execution_count": 30,
     "metadata": {},
     "output_type": "execute_result"
    }
   ],
   "source": [
    "average_int_usage"
   ]
  },
  {
   "cell_type": "code",
   "execution_count": 31,
   "metadata": {},
   "outputs": [],
   "source": [
    "location = internet_users[\"Location\"]"
   ]
  },
  {
   "cell_type": "code",
   "execution_count": 32,
   "metadata": {},
   "outputs": [
    {
     "data": {
      "text/plain": [
       "0                     Qatar\n",
       "1                    Kuwait\n",
       "2                   Iceland\n",
       "3                   Bahrain\n",
       "4      United Arab Emirates\n",
       "               ...         \n",
       "193                   Tonga\n",
       "194            Turkmenistan\n",
       "195                 Vanuatu\n",
       "196               Venezuela\n",
       "197                   Yemen\n",
       "Name: Location, Length: 198, dtype: object"
      ]
     },
     "execution_count": 32,
     "metadata": {},
     "output_type": "execute_result"
    }
   ],
   "source": [
    "location"
   ]
  },
  {
   "cell_type": "code",
   "execution_count": 33,
   "metadata": {},
   "outputs": [],
   "source": [
    "insights2= pd.concat([location, average_int_usage], axis=1)"
   ]
  },
  {
   "cell_type": "code",
   "execution_count": 34,
   "metadata": {},
   "outputs": [],
   "source": [
    "insights2.columns = [\"Country\",\"Average Internet usage over the years\"]"
   ]
  },
  {
   "cell_type": "code",
   "execution_count": 35,
   "metadata": {},
   "outputs": [
    {
     "data": {
      "text/html": [
       "<div>\n",
       "<style scoped>\n",
       "    .dataframe tbody tr th:only-of-type {\n",
       "        vertical-align: middle;\n",
       "    }\n",
       "\n",
       "    .dataframe tbody tr th {\n",
       "        vertical-align: top;\n",
       "    }\n",
       "\n",
       "    .dataframe thead th {\n",
       "        text-align: right;\n",
       "    }\n",
       "</style>\n",
       "<table border=\"1\" class=\"dataframe\">\n",
       "  <thead>\n",
       "    <tr style=\"text-align: right;\">\n",
       "      <th></th>\n",
       "      <th>Country</th>\n",
       "      <th>Average Internet usage over the years</th>\n",
       "    </tr>\n",
       "  </thead>\n",
       "  <tbody>\n",
       "    <tr>\n",
       "      <td>0</td>\n",
       "      <td>Qatar</td>\n",
       "      <td>72.612578</td>\n",
       "    </tr>\n",
       "    <tr>\n",
       "      <td>1</td>\n",
       "      <td>Kuwait</td>\n",
       "      <td>66.763996</td>\n",
       "    </tr>\n",
       "    <tr>\n",
       "      <td>2</td>\n",
       "      <td>Iceland</td>\n",
       "      <td>91.300708</td>\n",
       "    </tr>\n",
       "    <tr>\n",
       "      <td>3</td>\n",
       "      <td>Bahrain</td>\n",
       "      <td>73.996405</td>\n",
       "    </tr>\n",
       "    <tr>\n",
       "      <td>4</td>\n",
       "      <td>United Arab Emirates</td>\n",
       "      <td>77.035929</td>\n",
       "    </tr>\n",
       "    <tr>\n",
       "      <td>...</td>\n",
       "      <td>...</td>\n",
       "      <td>...</td>\n",
       "    </tr>\n",
       "    <tr>\n",
       "      <td>193</td>\n",
       "      <td>Tonga</td>\n",
       "      <td>24.263689</td>\n",
       "    </tr>\n",
       "    <tr>\n",
       "      <td>194</td>\n",
       "      <td>Turkmenistan</td>\n",
       "      <td>8.396767</td>\n",
       "    </tr>\n",
       "    <tr>\n",
       "      <td>195</td>\n",
       "      <td>Vanuatu</td>\n",
       "      <td>12.469078</td>\n",
       "    </tr>\n",
       "    <tr>\n",
       "      <td>196</td>\n",
       "      <td>Venezuela</td>\n",
       "      <td>40.950243</td>\n",
       "    </tr>\n",
       "    <tr>\n",
       "      <td>197</td>\n",
       "      <td>Yemen</td>\n",
       "      <td>14.887779</td>\n",
       "    </tr>\n",
       "  </tbody>\n",
       "</table>\n",
       "<p>198 rows × 2 columns</p>\n",
       "</div>"
      ],
      "text/plain": [
       "                  Country  Average Internet usage over the years\n",
       "0                   Qatar                              72.612578\n",
       "1                  Kuwait                              66.763996\n",
       "2                 Iceland                              91.300708\n",
       "3                 Bahrain                              73.996405\n",
       "4    United Arab Emirates                              77.035929\n",
       "..                    ...                                    ...\n",
       "193                 Tonga                              24.263689\n",
       "194          Turkmenistan                               8.396767\n",
       "195               Vanuatu                              12.469078\n",
       "196             Venezuela                              40.950243\n",
       "197                 Yemen                              14.887779\n",
       "\n",
       "[198 rows x 2 columns]"
      ]
     },
     "execution_count": 35,
     "metadata": {},
     "output_type": "execute_result"
    }
   ],
   "source": [
    "insights2"
   ]
  },
  {
   "cell_type": "code",
   "execution_count": 36,
   "metadata": {},
   "outputs": [],
   "source": [
    "GDP_vs_int_usage = insights2.merge(country_GDP,left_on=\"Country\",right_on=\"country\",how=\"left\")"
   ]
  },
  {
   "cell_type": "code",
   "execution_count": 37,
   "metadata": {},
   "outputs": [
    {
     "data": {
      "text/html": [
       "<div>\n",
       "<style scoped>\n",
       "    .dataframe tbody tr th:only-of-type {\n",
       "        vertical-align: middle;\n",
       "    }\n",
       "\n",
       "    .dataframe tbody tr th {\n",
       "        vertical-align: top;\n",
       "    }\n",
       "\n",
       "    .dataframe thead th {\n",
       "        text-align: right;\n",
       "    }\n",
       "</style>\n",
       "<table border=\"1\" class=\"dataframe\">\n",
       "  <thead>\n",
       "    <tr style=\"text-align: right;\">\n",
       "      <th></th>\n",
       "      <th>Country</th>\n",
       "      <th>Average Internet usage over the years</th>\n",
       "      <th>country</th>\n",
       "      <th>GDP per capita (current US$)</th>\n",
       "      <th>Population in thousands (2017)</th>\n",
       "    </tr>\n",
       "  </thead>\n",
       "  <tbody>\n",
       "    <tr>\n",
       "      <td>0</td>\n",
       "      <td>Qatar</td>\n",
       "      <td>72.612578</td>\n",
       "      <td>Qatar</td>\n",
       "      <td>73653.4</td>\n",
       "      <td>2639.0</td>\n",
       "    </tr>\n",
       "    <tr>\n",
       "      <td>1</td>\n",
       "      <td>Kuwait</td>\n",
       "      <td>66.763996</td>\n",
       "      <td>Kuwait</td>\n",
       "      <td>29303.9</td>\n",
       "      <td>4136.0</td>\n",
       "    </tr>\n",
       "    <tr>\n",
       "      <td>2</td>\n",
       "      <td>Iceland</td>\n",
       "      <td>91.300708</td>\n",
       "      <td>Iceland</td>\n",
       "      <td>50936.0</td>\n",
       "      <td>335.0</td>\n",
       "    </tr>\n",
       "    <tr>\n",
       "      <td>3</td>\n",
       "      <td>Bahrain</td>\n",
       "      <td>73.996405</td>\n",
       "      <td>Bahrain</td>\n",
       "      <td>22600.2</td>\n",
       "      <td>1493.0</td>\n",
       "    </tr>\n",
       "    <tr>\n",
       "      <td>4</td>\n",
       "      <td>United Arab Emirates</td>\n",
       "      <td>77.035929</td>\n",
       "      <td>United Arab Emirates</td>\n",
       "      <td>40438.8</td>\n",
       "      <td>9400.0</td>\n",
       "    </tr>\n",
       "    <tr>\n",
       "      <td>...</td>\n",
       "      <td>...</td>\n",
       "      <td>...</td>\n",
       "      <td>...</td>\n",
       "      <td>...</td>\n",
       "      <td>...</td>\n",
       "    </tr>\n",
       "    <tr>\n",
       "      <td>193</td>\n",
       "      <td>Tonga</td>\n",
       "      <td>24.263689</td>\n",
       "      <td>Tonga</td>\n",
       "      <td>3784.5</td>\n",
       "      <td>108.0</td>\n",
       "    </tr>\n",
       "    <tr>\n",
       "      <td>194</td>\n",
       "      <td>Turkmenistan</td>\n",
       "      <td>8.396767</td>\n",
       "      <td>Turkmenistan</td>\n",
       "      <td>6996.7</td>\n",
       "      <td>5758.0</td>\n",
       "    </tr>\n",
       "    <tr>\n",
       "      <td>195</td>\n",
       "      <td>Vanuatu</td>\n",
       "      <td>12.469078</td>\n",
       "      <td>Vanuatu</td>\n",
       "      <td>2783.0</td>\n",
       "      <td>276.0</td>\n",
       "    </tr>\n",
       "    <tr>\n",
       "      <td>196</td>\n",
       "      <td>Venezuela</td>\n",
       "      <td>40.950243</td>\n",
       "      <td>NaN</td>\n",
       "      <td>NaN</td>\n",
       "      <td>NaN</td>\n",
       "    </tr>\n",
       "    <tr>\n",
       "      <td>197</td>\n",
       "      <td>Yemen</td>\n",
       "      <td>14.887779</td>\n",
       "      <td>Yemen</td>\n",
       "      <td>1106.4</td>\n",
       "      <td>28250.0</td>\n",
       "    </tr>\n",
       "  </tbody>\n",
       "</table>\n",
       "<p>198 rows × 5 columns</p>\n",
       "</div>"
      ],
      "text/plain": [
       "                  Country  Average Internet usage over the years  \\\n",
       "0                   Qatar                              72.612578   \n",
       "1                  Kuwait                              66.763996   \n",
       "2                 Iceland                              91.300708   \n",
       "3                 Bahrain                              73.996405   \n",
       "4    United Arab Emirates                              77.035929   \n",
       "..                    ...                                    ...   \n",
       "193                 Tonga                              24.263689   \n",
       "194          Turkmenistan                               8.396767   \n",
       "195               Vanuatu                              12.469078   \n",
       "196             Venezuela                              40.950243   \n",
       "197                 Yemen                              14.887779   \n",
       "\n",
       "                  country  GDP per capita (current US$)  \\\n",
       "0                   Qatar                       73653.4   \n",
       "1                  Kuwait                       29303.9   \n",
       "2                 Iceland                       50936.0   \n",
       "3                 Bahrain                       22600.2   \n",
       "4    United Arab Emirates                       40438.8   \n",
       "..                    ...                           ...   \n",
       "193                 Tonga                        3784.5   \n",
       "194          Turkmenistan                        6996.7   \n",
       "195               Vanuatu                        2783.0   \n",
       "196                   NaN                           NaN   \n",
       "197                 Yemen                        1106.4   \n",
       "\n",
       "     Population in thousands (2017)  \n",
       "0                            2639.0  \n",
       "1                            4136.0  \n",
       "2                             335.0  \n",
       "3                            1493.0  \n",
       "4                            9400.0  \n",
       "..                              ...  \n",
       "193                           108.0  \n",
       "194                          5758.0  \n",
       "195                           276.0  \n",
       "196                             NaN  \n",
       "197                         28250.0  \n",
       "\n",
       "[198 rows x 5 columns]"
      ]
     },
     "execution_count": 37,
     "metadata": {},
     "output_type": "execute_result"
    }
   ],
   "source": [
    "GDP_vs_int_usage"
   ]
  },
  {
   "cell_type": "code",
   "execution_count": 38,
   "metadata": {},
   "outputs": [],
   "source": [
    "#Let's make a plot of GDP vs Average internet Usage\n",
    "#reference for plotly : https://plotly.com/python/bubble-charts/"
   ]
  },
  {
   "cell_type": "code",
   "execution_count": 39,
   "metadata": {},
   "outputs": [
    {
     "data": {
      "application/vnd.plotly.v1+json": {
       "config": {
        "plotlyServerURL": "https://plot.ly"
       },
       "data": [
        {
         "hovertemplate": "<b>%{hovertext}</b><br><br>Country=Qatar<br>GDP per capita (current US$)=%{x}<br>Average Internet usage over the years=%{marker.size}<extra></extra>",
         "hovertext": [
          "Qatar"
         ],
         "legendgroup": "Qatar",
         "marker": {
          "color": "#636efa",
          "size": [
           72.61257817009086
          ],
          "sizemode": "area",
          "sizeref": 0.025361307840186014,
          "symbol": "circle"
         },
         "mode": "markers",
         "name": "Qatar",
         "showlegend": true,
         "type": "scatter",
         "x": [
          73653.4
         ],
         "xaxis": "x",
         "y": [
          72.61257817009086
         ],
         "yaxis": "y"
        },
        {
         "hovertemplate": "<b>%{hovertext}</b><br><br>Country=Kuwait<br>GDP per capita (current US$)=%{x}<br>Average Internet usage over the years=%{marker.size}<extra></extra>",
         "hovertext": [
          "Kuwait"
         ],
         "legendgroup": "Kuwait",
         "marker": {
          "color": "#EF553B",
          "size": [
           66.76399555635406
          ],
          "sizemode": "area",
          "sizeref": 0.025361307840186014,
          "symbol": "circle"
         },
         "mode": "markers",
         "name": "Kuwait",
         "showlegend": true,
         "type": "scatter",
         "x": [
          29303.9
         ],
         "xaxis": "x",
         "y": [
          66.76399555635406
         ],
         "yaxis": "y"
        },
        {
         "hovertemplate": "<b>%{hovertext}</b><br><br>Country=Iceland<br>GDP per capita (current US$)=%{x}<br>Average Internet usage over the years=%{marker.size}<extra></extra>",
         "hovertext": [
          "Iceland"
         ],
         "legendgroup": "Iceland",
         "marker": {
          "color": "#00cc96",
          "size": [
           91.30070822466965
          ],
          "sizemode": "area",
          "sizeref": 0.025361307840186014,
          "symbol": "circle"
         },
         "mode": "markers",
         "name": "Iceland",
         "showlegend": true,
         "type": "scatter",
         "x": [
          50936
         ],
         "xaxis": "x",
         "y": [
          91.30070822466965
         ],
         "yaxis": "y"
        },
        {
         "hovertemplate": "<b>%{hovertext}</b><br><br>Country=Bahrain<br>GDP per capita (current US$)=%{x}<br>Average Internet usage over the years=%{marker.size}<extra></extra>",
         "hovertext": [
          "Bahrain"
         ],
         "legendgroup": "Bahrain",
         "marker": {
          "color": "#ab63fa",
          "size": [
           73.99640475804235
          ],
          "sizemode": "area",
          "sizeref": 0.025361307840186014,
          "symbol": "circle"
         },
         "mode": "markers",
         "name": "Bahrain",
         "showlegend": true,
         "type": "scatter",
         "x": [
          22600.2
         ],
         "xaxis": "x",
         "y": [
          73.99640475804235
         ],
         "yaxis": "y"
        },
        {
         "hovertemplate": "<b>%{hovertext}</b><br><br>Country=United Arab Emirates<br>GDP per capita (current US$)=%{x}<br>Average Internet usage over the years=%{marker.size}<extra></extra>",
         "hovertext": [
          "United Arab Emirates"
         ],
         "legendgroup": "United Arab Emirates",
         "marker": {
          "color": "#FFA15A",
          "size": [
           77.03592945652944
          ],
          "sizemode": "area",
          "sizeref": 0.025361307840186014,
          "symbol": "circle"
         },
         "mode": "markers",
         "name": "United Arab Emirates",
         "showlegend": true,
         "type": "scatter",
         "x": [
          40438.8
         ],
         "xaxis": "x",
         "y": [
          77.03592945652944
         ],
         "yaxis": "y"
        },
        {
         "hovertemplate": "<b>%{hovertext}</b><br><br>Country=Denmark<br>GDP per capita (current US$)=%{x}<br>Average Internet usage over the years=%{marker.size}<extra></extra>",
         "hovertext": [
          "Denmark"
         ],
         "legendgroup": "Denmark",
         "marker": {
          "color": "#19d3f3",
          "size": [
           88.30582468167478
          ],
          "sizemode": "area",
          "sizeref": 0.025361307840186014,
          "symbol": "circle"
         },
         "mode": "markers",
         "name": "Denmark",
         "showlegend": true,
         "type": "scatter",
         "x": [
          53149.3
         ],
         "xaxis": "x",
         "y": [
          88.30582468167478
         ],
         "yaxis": "y"
        },
        {
         "hovertemplate": "<b>%{hovertext}</b><br><br>Country=Luxembourg<br>GDP per capita (current US$)=%{x}<br>Average Internet usage over the years=%{marker.size}<extra></extra>",
         "hovertext": [
          "Luxembourg"
         ],
         "legendgroup": "Luxembourg",
         "marker": {
          "color": "#FF6692",
          "size": [
           85.71586981594385
          ],
          "sizemode": "area",
          "sizeref": 0.025361307840186014,
          "symbol": "circle"
         },
         "mode": "markers",
         "name": "Luxembourg",
         "showlegend": true,
         "type": "scatter",
         "x": [
          100160.8
         ],
         "xaxis": "x",
         "y": [
          85.71586981594385
         ],
         "yaxis": "y"
        },
        {
         "hovertemplate": "<b>%{hovertext}</b><br><br>Country=Norway<br>GDP per capita (current US$)=%{x}<br>Average Internet usage over the years=%{marker.size}<extra></extra>",
         "hovertext": [
          "Norway"
         ],
         "legendgroup": "Norway",
         "marker": {
          "color": "#B6E880",
          "size": [
           90.34828396941448
          ],
          "sizemode": "area",
          "sizeref": 0.025361307840186014,
          "symbol": "circle"
         },
         "mode": "markers",
         "name": "Norway",
         "showlegend": true,
         "type": "scatter",
         "x": [
          74185.5
         ],
         "xaxis": "x",
         "y": [
          90.34828396941448
         ],
         "yaxis": "y"
        },
        {
         "hovertemplate": "<b>%{hovertext}</b><br><br>Country=Korea (Rep. of)<br>GDP per capita (current US$)=%{x}<br>Average Internet usage over the years=%{marker.size}<extra></extra>",
         "hovertext": [
          null
         ],
         "legendgroup": "Korea (Rep. of)",
         "marker": {
          "color": "#FF97FF",
          "size": [
           83.25151694613277
          ],
          "sizemode": "area",
          "sizeref": 0.025361307840186014,
          "symbol": "circle"
         },
         "mode": "markers",
         "name": "Korea (Rep. of)",
         "showlegend": true,
         "type": "scatter",
         "x": [
          null
         ],
         "xaxis": "x",
         "y": [
          83.25151694613277
         ],
         "yaxis": "y"
        },
        {
         "hovertemplate": "<b>%{hovertext}</b><br><br>Country=United Kingdom<br>GDP per capita (current US$)=%{x}<br>Average Internet usage over the years=%{marker.size}<extra></extra>",
         "hovertext": [
          "United Kingdom"
         ],
         "legendgroup": "United Kingdom",
         "marker": {
          "color": "#FECB52",
          "size": [
           82.94806306502697
          ],
          "sizemode": "area",
          "sizeref": 0.025361307840186014,
          "symbol": "circle"
         },
         "mode": "markers",
         "name": "United Kingdom",
         "showlegend": true,
         "type": "scatter",
         "x": [
          44162.4
         ],
         "xaxis": "x",
         "y": [
          82.94806306502697
         ],
         "yaxis": "y"
        },
        {
         "hovertemplate": "<b>%{hovertext}</b><br><br>Country=Netherlands<br>GDP per capita (current US$)=%{x}<br>Average Internet usage over the years=%{marker.size}<extra></extra>",
         "hovertext": [
          "Netherlands"
         ],
         "legendgroup": "Netherlands",
         "marker": {
          "color": "#636efa",
          "size": [
           86.87744135978693
          ],
          "sizemode": "area",
          "sizeref": 0.025361307840186014,
          "symbol": "circle"
         },
         "mode": "markers",
         "name": "Netherlands",
         "showlegend": true,
         "type": "scatter",
         "x": [
          44332.1
         ],
         "xaxis": "x",
         "y": [
          86.87744135978693
         ],
         "yaxis": "y"
        },
        {
         "hovertemplate": "<b>%{hovertext}</b><br><br>Country=Brunei Darussalam<br>GDP per capita (current US$)=%{x}<br>Average Internet usage over the years=%{marker.size}<extra></extra>",
         "hovertext": [
          "Brunei Darussalam"
         ],
         "legendgroup": "Brunei Darussalam",
         "marker": {
          "color": "#EF553B",
          "size": [
           63.515680057965824
          ],
          "sizemode": "area",
          "sizeref": 0.025361307840186014,
          "symbol": "circle"
         },
         "mode": "markers",
         "name": "Brunei Darussalam",
         "showlegend": true,
         "type": "scatter",
         "x": [
          30552.7
         ],
         "xaxis": "x",
         "y": [
          63.515680057965824
         ],
         "yaxis": "y"
        },
        {
         "hovertemplate": "<b>%{hovertext}</b><br><br>Country=Saudi Arabia<br>GDP per capita (current US$)=%{x}<br>Average Internet usage over the years=%{marker.size}<extra></extra>",
         "hovertext": [
          "Saudi Arabia"
         ],
         "legendgroup": "Saudi Arabia",
         "marker": {
          "color": "#00cc96",
          "size": [
           54.77771806507526
          ],
          "sizemode": "area",
          "sizeref": 0.025361307840186014,
          "symbol": "circle"
         },
         "mode": "markers",
         "name": "Saudi Arabia",
         "showlegend": true,
         "type": "scatter",
         "x": [
          20710.6
         ],
         "xaxis": "x",
         "y": [
          54.77771806507526
         ],
         "yaxis": "y"
        },
        {
         "hovertemplate": "<b>%{hovertext}</b><br><br>Country=Sweden<br>GDP per capita (current US$)=%{x}<br>Average Internet usage over the years=%{marker.size}<extra></extra>",
         "hovertext": [
          "Sweden"
         ],
         "legendgroup": "Sweden",
         "marker": {
          "color": "#ab63fa",
          "size": [
           87.42582894433586
          ],
          "sizemode": "area",
          "sizeref": 0.025361307840186014,
          "symbol": "circle"
         },
         "mode": "markers",
         "name": "Sweden",
         "showlegend": true,
         "type": "scatter",
         "x": [
          50687.5
         ],
         "xaxis": "x",
         "y": [
          87.42582894433586
         ],
         "yaxis": "y"
        },
        {
         "hovertemplate": "<b>%{hovertext}</b><br><br>Country=Germany<br>GDP per capita (current US$)=%{x}<br>Average Internet usage over the years=%{marker.size}<extra></extra>",
         "hovertext": [
          "Germany"
         ],
         "legendgroup": "Germany",
         "marker": {
          "color": "#FFA15A",
          "size": [
           78.25417931072151
          ],
          "sizemode": "area",
          "sizeref": 0.025361307840186014,
          "symbol": "circle"
         },
         "mode": "markers",
         "name": "Germany",
         "showlegend": true,
         "type": "scatter",
         "x": [
          41686.2
         ],
         "xaxis": "x",
         "y": [
          78.25417931072151
         ],
         "yaxis": "y"
        },
        {
         "hovertemplate": "<b>%{hovertext}</b><br><br>Country=Estonia<br>GDP per capita (current US$)=%{x}<br>Average Internet usage over the years=%{marker.size}<extra></extra>",
         "hovertext": [
          "Estonia"
         ],
         "legendgroup": "Estonia",
         "marker": {
          "color": "#19d3f3",
          "size": [
           76.03382806042829
          ],
          "sizemode": "area",
          "sizeref": 0.025361307840186014,
          "symbol": "circle"
         },
         "mode": "markers",
         "name": "Estonia",
         "showlegend": true,
         "type": "scatter",
         "x": [
          17112
         ],
         "xaxis": "x",
         "y": [
          76.03382806042829
         ],
         "yaxis": "y"
        },
        {
         "hovertemplate": "<b>%{hovertext}</b><br><br>Country=Finland<br>GDP per capita (current US$)=%{x}<br>Average Internet usage over the years=%{marker.size}<extra></extra>",
         "hovertext": [
          "Finland"
         ],
         "legendgroup": "Finland",
         "marker": {
          "color": "#FF6692",
          "size": [
           82.33981088535499
          ],
          "sizemode": "area",
          "sizeref": 0.025361307840186014,
          "symbol": "circle"
         },
         "mode": "markers",
         "name": "Finland",
         "showlegend": true,
         "type": "scatter",
         "x": [
          42148.1
         ],
         "xaxis": "x",
         "y": [
          82.33981088535499
         ],
         "yaxis": "y"
        },
        {
         "hovertemplate": "<b>%{hovertext}</b><br><br>Country=Belgium<br>GDP per capita (current US$)=%{x}<br>Average Internet usage over the years=%{marker.size}<extra></extra>",
         "hovertext": [
          "Belgium"
         ],
         "legendgroup": "Belgium",
         "marker": {
          "color": "#B6E880",
          "size": [
           76.15054545377865
          ],
          "sizemode": "area",
          "sizeref": 0.025361307840186014,
          "symbol": "circle"
         },
         "mode": "markers",
         "name": "Belgium",
         "showlegend": true,
         "type": "scatter",
         "x": [
          40277.8
         ],
         "xaxis": "x",
         "y": [
          76.15054545377865
         ],
         "yaxis": "y"
        },
        {
         "hovertemplate": "<b>%{hovertext}</b><br><br>Country=Singapore<br>GDP per capita (current US$)=%{x}<br>Average Internet usage over the years=%{marker.size}<extra></extra>",
         "hovertext": [
          "Singapore"
         ],
         "legendgroup": "Singapore",
         "marker": {
          "color": "#FF97FF",
          "size": [
           73.36469931065878
          ],
          "sizemode": "area",
          "sizeref": 0.025361307840186014,
          "symbol": "circle"
         },
         "mode": "markers",
         "name": "Singapore",
         "showlegend": true,
         "type": "scatter",
         "x": [
          52239
         ],
         "xaxis": "x",
         "y": [
          73.36469931065878
         ],
         "yaxis": "y"
        },
        {
         "hovertemplate": "<b>%{hovertext}</b><br><br>Country=Austria<br>GDP per capita (current US$)=%{x}<br>Average Internet usage over the years=%{marker.size}<extra></extra>",
         "hovertext": [
          "Austria"
         ],
         "legendgroup": "Austria",
         "marker": {
          "color": "#FECB52",
          "size": [
           75.56315281508286
          ],
          "sizemode": "area",
          "sizeref": 0.025361307840186014,
          "symbol": "circle"
         },
         "mode": "markers",
         "name": "Austria",
         "showlegend": true,
         "type": "scatter",
         "x": [
          44117.7
         ],
         "xaxis": "x",
         "y": [
          75.56315281508286
         ],
         "yaxis": "y"
        },
        {
         "hovertemplate": "<b>%{hovertext}</b><br><br>Country=Spain<br>GDP per capita (current US$)=%{x}<br>Average Internet usage over the years=%{marker.size}<extra></extra>",
         "hovertext": [
          "Spain"
         ],
         "legendgroup": "Spain",
         "marker": {
          "color": "#636efa",
          "size": [
           67.45367012811904
          ],
          "sizemode": "area",
          "sizeref": 0.025361307840186014,
          "symbol": "circle"
         },
         "mode": "markers",
         "name": "Spain",
         "showlegend": true,
         "type": "scatter",
         "x": [
          25865.4
         ],
         "xaxis": "x",
         "y": [
          67.45367012811904
         ],
         "yaxis": "y"
        },
        {
         "hovertemplate": "<b>%{hovertext}</b><br><br>Country=Ireland<br>GDP per capita (current US$)=%{x}<br>Average Internet usage over the years=%{marker.size}<extra></extra>",
         "hovertext": [
          "Ireland"
         ],
         "legendgroup": "Ireland",
         "marker": {
          "color": "#EF553B",
          "size": [
           70.90928072625974
          ],
          "sizemode": "area",
          "sizeref": 0.025361307840186014,
          "symbol": "circle"
         },
         "mode": "markers",
         "name": "Ireland",
         "showlegend": true,
         "type": "scatter",
         "x": [
          60513.6
         ],
         "xaxis": "x",
         "y": [
          70.90928072625974
         ],
         "yaxis": "y"
        },
        {
         "hovertemplate": "<b>%{hovertext}</b><br><br>Country=Cyprus<br>GDP per capita (current US$)=%{x}<br>Average Internet usage over the years=%{marker.size}<extra></extra>",
         "hovertext": [
          "Cyprus"
         ],
         "legendgroup": "Cyprus",
         "marker": {
          "color": "#00cc96",
          "size": [
           60.56207563729488
          ],
          "sizemode": "area",
          "sizeref": 0.025361307840186014,
          "symbol": "circle"
         },
         "mode": "markers",
         "name": "Cyprus",
         "showlegend": true,
         "type": "scatter",
         "x": [
          21941.9
         ],
         "xaxis": "x",
         "y": [
          60.56207563729488
         ],
         "yaxis": "y"
        },
        {
         "hovertemplate": "<b>%{hovertext}</b><br><br>Country=Macao, China<br>GDP per capita (current US$)=%{x}<br>Average Internet usage over the years=%{marker.size}<extra></extra>",
         "hovertext": [
          null
         ],
         "legendgroup": "Macao, China",
         "marker": {
          "color": "#ab63fa",
          "size": [
           62.4522281484999
          ],
          "sizemode": "area",
          "sizeref": 0.025361307840186014,
          "symbol": "circle"
         },
         "mode": "markers",
         "name": "Macao, China",
         "showlegend": true,
         "type": "scatter",
         "x": [
          null
         ],
         "xaxis": "x",
         "y": [
          62.4522281484999
         ],
         "yaxis": "y"
        },
        {
         "hovertemplate": "<b>%{hovertext}</b><br><br>Country=Latvia<br>GDP per capita (current US$)=%{x}<br>Average Internet usage over the years=%{marker.size}<extra></extra>",
         "hovertext": [
          "Latvia"
         ],
         "legendgroup": "Latvia",
         "marker": {
          "color": "#FFA15A",
          "size": [
           67.0370281864885
          ],
          "sizemode": "area",
          "sizeref": 0.025361307840186014,
          "symbol": "circle"
         },
         "mode": "markers",
         "name": "Latvia",
         "showlegend": true,
         "type": "scatter",
         "x": [
          13704.1
         ],
         "xaxis": "x",
         "y": [
          67.0370281864885
         ],
         "yaxis": "y"
        },
        {
         "hovertemplate": "<b>%{hovertext}</b><br><br>Country=France<br>GDP per capita (current US$)=%{x}<br>Average Internet usage over the years=%{marker.size}<extra></extra>",
         "hovertext": [
          "France"
         ],
         "legendgroup": "France",
         "marker": {
          "color": "#19d3f3",
          "size": [
           70.8375934721078
          ],
          "sizemode": "area",
          "sizeref": 0.025361307840186014,
          "symbol": "circle"
         },
         "mode": "markers",
         "name": "France",
         "showlegend": true,
         "type": "scatter",
         "x": [
          36304.2
         ],
         "xaxis": "x",
         "y": [
          70.8375934721078
         ],
         "yaxis": "y"
        },
        {
         "hovertemplate": "<b>%{hovertext}</b><br><br>Country=Malta<br>GDP per capita (current US$)=%{x}<br>Average Internet usage over the years=%{marker.size}<extra></extra>",
         "hovertext": [
          "Malta"
         ],
         "legendgroup": "Malta",
         "marker": {
          "color": "#FF6692",
          "size": [
           64.73703629046764
          ],
          "sizemode": "area",
          "sizeref": 0.025361307840186014,
          "symbol": "circle"
         },
         "mode": "markers",
         "name": "Malta",
         "showlegend": true,
         "type": "scatter",
         "x": [
          23280.7
         ],
         "xaxis": "x",
         "y": [
          64.73703629046764
         ],
         "yaxis": "y"
        },
        {
         "hovertemplate": "<b>%{hovertext}</b><br><br>Country=Malaysia<br>GDP per capita (current US$)=%{x}<br>Average Internet usage over the years=%{marker.size}<extra></extra>",
         "hovertext": [
          "Malaysia"
         ],
         "legendgroup": "Malaysia",
         "marker": {
          "color": "#B6E880",
          "size": [
           62.27558208681162
          ],
          "sizemode": "area",
          "sizeref": 0.025361307840186014,
          "symbol": "circle"
         },
         "mode": "markers",
         "name": "Malaysia",
         "showlegend": true,
         "type": "scatter",
         "x": [
          9768.4
         ],
         "xaxis": "x",
         "y": [
          62.27558208681162
         ],
         "yaxis": "y"
        },
        {
         "hovertemplate": "<b>%{hovertext}</b><br><br>Country=Russian Federation<br>GDP per capita (current US$)=%{x}<br>Average Internet usage over the years=%{marker.size}<extra></extra>",
         "hovertext": [
          "Russian Federation"
         ],
         "legendgroup": "Russian Federation",
         "marker": {
          "color": "#FF97FF",
          "size": [
           55.596199846814265
          ],
          "sizemode": "area",
          "sizeref": 0.025361307840186014,
          "symbol": "circle"
         },
         "mode": "markers",
         "name": "Russian Federation",
         "showlegend": true,
         "type": "scatter",
         "x": [
          9243.3
         ],
         "xaxis": "x",
         "y": [
          55.596199846814265
         ],
         "yaxis": "y"
        },
        {
         "hovertemplate": "<b>%{hovertext}</b><br><br>Country=Czech Republic<br>GDP per capita (current US$)=%{x}<br>Average Internet usage over the years=%{marker.size}<extra></extra>",
         "hovertext": [
          null
         ],
         "legendgroup": "Czech Republic",
         "marker": {
          "color": "#FECB52",
          "size": [
           65.24454670199033
          ],
          "sizemode": "area",
          "sizeref": 0.025361307840186014,
          "symbol": "circle"
         },
         "mode": "markers",
         "name": "Czech Republic",
         "showlegend": true,
         "type": "scatter",
         "x": [
          null
         ],
         "xaxis": "x",
         "y": [
          65.24454670199033
         ],
         "yaxis": "y"
        },
        {
         "hovertemplate": "<b>%{hovertext}</b><br><br>Country=Slovakia<br>GDP per capita (current US$)=%{x}<br>Average Internet usage over the years=%{marker.size}<extra></extra>",
         "hovertext": [
          "Slovakia"
         ],
         "legendgroup": "Slovakia",
         "marker": {
          "color": "#636efa",
          "size": [
           69.9759955324702
          ],
          "sizemode": "area",
          "sizeref": 0.025361307840186014,
          "symbol": "circle"
         },
         "mode": "markers",
         "name": "Slovakia",
         "showlegend": true,
         "type": "scatter",
         "x": [
          16082.5
         ],
         "xaxis": "x",
         "y": [
          69.9759955324702
         ],
         "yaxis": "y"
        },
        {
         "hovertemplate": "<b>%{hovertext}</b><br><br>Country=Azerbaijan<br>GDP per capita (current US$)=%{x}<br>Average Internet usage over the years=%{marker.size}<extra></extra>",
         "hovertext": [
          "Azerbaijan"
         ],
         "legendgroup": "Azerbaijan",
         "marker": {
          "color": "#EF553B",
          "size": [
           56.39801322081063
          ],
          "sizemode": "area",
          "sizeref": 0.025361307840186014,
          "symbol": "circle"
         },
         "mode": "markers",
         "name": "Azerbaijan",
         "showlegend": true,
         "type": "scatter",
         "x": [
          5438.7
         ],
         "xaxis": "x",
         "y": [
          56.39801322081063
         ],
         "yaxis": "y"
        },
        {
         "hovertemplate": "<b>%{hovertext}</b><br><br>Country=Slovenia<br>GDP per capita (current US$)=%{x}<br>Average Internet usage over the years=%{marker.size}<extra></extra>",
         "hovertext": [
          "Slovenia"
         ],
         "legendgroup": "Slovenia",
         "marker": {
          "color": "#00cc96",
          "size": [
           65.37349419251974
          ],
          "sizemode": "area",
          "sizeref": 0.025361307840186014,
          "symbol": "circle"
         },
         "mode": "markers",
         "name": "Slovenia",
         "showlegend": true,
         "type": "scatter",
         "x": [
          20689.8
         ],
         "xaxis": "x",
         "y": [
          65.37349419251974
         ],
         "yaxis": "y"
        },
        {
         "hovertemplate": "<b>%{hovertext}</b><br><br>Country=Lithuania<br>GDP per capita (current US$)=%{x}<br>Average Internet usage over the years=%{marker.size}<extra></extra>",
         "hovertext": [
          "Lithuania"
         ],
         "legendgroup": "Lithuania",
         "marker": {
          "color": "#ab63fa",
          "size": [
           61.755674460062615
          ],
          "sizemode": "area",
          "sizeref": 0.025361307840186014,
          "symbol": "circle"
         },
         "mode": "markers",
         "name": "Lithuania",
         "showlegend": true,
         "type": "scatter",
         "x": [
          14383.7
         ],
         "xaxis": "x",
         "y": [
          61.755674460062615
         ],
         "yaxis": "y"
        },
        {
         "hovertemplate": "<b>%{hovertext}</b><br><br>Country=TFYR Macedonia<br>GDP per capita (current US$)=%{x}<br>Average Internet usage over the years=%{marker.size}<extra></extra>",
         "hovertext": [
          null
         ],
         "legendgroup": "TFYR Macedonia",
         "marker": {
          "color": "#FFA15A",
          "size": [
           56.773373405858976
          ],
          "sizemode": "area",
          "sizeref": 0.025361307840186014,
          "symbol": "circle"
         },
         "mode": "markers",
         "name": "TFYR Macedonia",
         "showlegend": true,
         "type": "scatter",
         "x": [
          null
         ],
         "xaxis": "x",
         "y": [
          56.773373405858976
         ],
         "yaxis": "y"
        },
        {
         "hovertemplate": "<b>%{hovertext}</b><br><br>Country=Belarus<br>GDP per capita (current US$)=%{x}<br>Average Internet usage over the years=%{marker.size}<extra></extra>",
         "hovertext": [
          "Belarus"
         ],
         "legendgroup": "Belarus",
         "marker": {
          "color": "#19d3f3",
          "size": [
           47.301730232253064
          ],
          "sizemode": "area",
          "sizeref": 0.025361307840186014,
          "symbol": "circle"
         },
         "mode": "markers",
         "name": "Belarus",
         "showlegend": true,
         "type": "scatter",
         "x": [
          5750.8
         ],
         "xaxis": "x",
         "y": [
          47.301730232253064
         ],
         "yaxis": "y"
        },
        {
         "hovertemplate": "<b>%{hovertext}</b><br><br>Country=Kazakhstan<br>GDP per capita (current US$)=%{x}<br>Average Internet usage over the years=%{marker.size}<extra></extra>",
         "hovertext": [
          "Kazakhstan"
         ],
         "legendgroup": "Kazakhstan",
         "marker": {
          "color": "#FF6692",
          "size": [
           52.52631646753314
          ],
          "sizemode": "area",
          "sizeref": 0.025361307840186014,
          "symbol": "circle"
         },
         "mode": "markers",
         "name": "Kazakhstan",
         "showlegend": true,
         "type": "scatter",
         "x": [
          10312.1
         ],
         "xaxis": "x",
         "y": [
          52.52631646753314
         ],
         "yaxis": "y"
        },
        {
         "hovertemplate": "<b>%{hovertext}</b><br><br>Country=Poland<br>GDP per capita (current US$)=%{x}<br>Average Internet usage over the years=%{marker.size}<extra></extra>",
         "hovertext": [
          "Poland"
         ],
         "legendgroup": "Poland",
         "marker": {
          "color": "#B6E880",
          "size": [
           59.72267541213726
          ],
          "sizemode": "area",
          "sizeref": 0.025361307840186014,
          "symbol": "circle"
         },
         "mode": "markers",
         "name": "Poland",
         "showlegend": true,
         "type": "scatter",
         "x": [
          12355.5
         ],
         "xaxis": "x",
         "y": [
          59.72267541213726
         ],
         "yaxis": "y"
        },
        {
         "hovertemplate": "<b>%{hovertext}</b><br><br>Country=Hungary<br>GDP per capita (current US$)=%{x}<br>Average Internet usage over the years=%{marker.size}<extra></extra>",
         "hovertext": [
          "Hungary"
         ],
         "legendgroup": "Hungary",
         "marker": {
          "color": "#FF97FF",
          "size": [
           63.88961633922849
          ],
          "sizemode": "area",
          "sizeref": 0.025361307840186014,
          "symbol": "circle"
         },
         "mode": "markers",
         "name": "Hungary",
         "showlegend": true,
         "type": "scatter",
         "x": [
          12350.6
         ],
         "xaxis": "x",
         "y": [
          63.88961633922849
         ],
         "yaxis": "y"
        },
        {
         "hovertemplate": "<b>%{hovertext}</b><br><br>Country=Dominican Rep.<br>GDP per capita (current US$)=%{x}<br>Average Internet usage over the years=%{marker.size}<extra></extra>",
         "hovertext": [
          null
         ],
         "legendgroup": "Dominican Rep.",
         "marker": {
          "color": "#FECB52",
          "size": [
           43.89727688642381
          ],
          "sizemode": "area",
          "sizeref": 0.025361307840186014,
          "symbol": "circle"
         },
         "mode": "markers",
         "name": "Dominican Rep.",
         "showlegend": true,
         "type": "scatter",
         "x": [
          null
         ],
         "xaxis": "x",
         "y": [
          43.89727688642381
         ],
         "yaxis": "y"
        },
        {
         "hovertemplate": "<b>%{hovertext}</b><br><br>Country=Portugal<br>GDP per capita (current US$)=%{x}<br>Average Internet usage over the years=%{marker.size}<extra></extra>",
         "hovertext": [
          "Portugal"
         ],
         "legendgroup": "Portugal",
         "marker": {
          "color": "#636efa",
          "size": [
           57.68224648890957
          ],
          "sizemode": "area",
          "sizeref": 0.025361307840186014,
          "symbol": "circle"
         },
         "mode": "markers",
         "name": "Portugal",
         "showlegend": true,
         "type": "scatter",
         "x": [
          19239.2
         ],
         "xaxis": "x",
         "y": [
          57.68224648890957
         ],
         "yaxis": "y"
        },
        {
         "hovertemplate": "<b>%{hovertext}</b><br><br>Country=Italy<br>GDP per capita (current US$)=%{x}<br>Average Internet usage over the years=%{marker.size}<extra></extra>",
         "hovertext": [
          "Italy"
         ],
         "legendgroup": "Italy",
         "marker": {
          "color": "#EF553B",
          "size": [
           53.912649855804936
          ],
          "sizemode": "area",
          "sizeref": 0.025361307840186014,
          "symbol": "circle"
         },
         "mode": "markers",
         "name": "Italy",
         "showlegend": true,
         "type": "scatter",
         "x": [
          30462.4
         ],
         "xaxis": "x",
         "y": [
          53.912649855804936
         ],
         "yaxis": "y"
        },
        {
         "hovertemplate": "<b>%{hovertext}</b><br><br>Country=Costa Rica<br>GDP per capita (current US$)=%{x}<br>Average Internet usage over the years=%{marker.size}<extra></extra>",
         "hovertext": [
          "Costa Rica"
         ],
         "legendgroup": "Costa Rica",
         "marker": {
          "color": "#00cc96",
          "size": [
           47.37849286115279
          ],
          "sizemode": "area",
          "sizeref": 0.025361307840186014,
          "symbol": "circle"
         },
         "mode": "markers",
         "name": "Costa Rica",
         "showlegend": true,
         "type": "scatter",
         "x": [
          11015
         ],
         "xaxis": "x",
         "y": [
          47.37849286115279
         ],
         "yaxis": "y"
        },
        {
         "hovertemplate": "<b>%{hovertext}</b><br><br>Country=Serbia<br>GDP per capita (current US$)=%{x}<br>Average Internet usage over the years=%{marker.size}<extra></extra>",
         "hovertext": [
          "Serbia"
         ],
         "legendgroup": "Serbia",
         "marker": {
          "color": "#ab63fa",
          "size": [
           49.917350553989245
          ],
          "sizemode": "area",
          "sizeref": 0.025361307840186014,
          "symbol": "circle"
         },
         "mode": "markers",
         "name": "Serbia",
         "showlegend": true,
         "type": "scatter",
         "x": [
          5238.6
         ],
         "xaxis": "x",
         "y": [
          49.917350553989245
         ],
         "yaxis": "y"
        },
        {
         "hovertemplate": "<b>%{hovertext}</b><br><br>Country=Greece<br>GDP per capita (current US$)=%{x}<br>Average Internet usage over the years=%{marker.size}<extra></extra>",
         "hovertext": [
          "Greece"
         ],
         "legendgroup": "Greece",
         "marker": {
          "color": "#FFA15A",
          "size": [
           53.34177900374676
          ],
          "sizemode": "area",
          "sizeref": 0.025361307840186014,
          "symbol": "circle"
         },
         "mode": "markers",
         "name": "Greece",
         "showlegend": true,
         "type": "scatter",
         "x": [
          17788
         ],
         "xaxis": "x",
         "y": [
          53.34177900374676
         ],
         "yaxis": "y"
        },
        {
         "hovertemplate": "<b>%{hovertext}</b><br><br>Country=Croatia<br>GDP per capita (current US$)=%{x}<br>Average Internet usage over the years=%{marker.size}<extra></extra>",
         "hovertext": [
          "Croatia"
         ],
         "legendgroup": "Croatia",
         "marker": {
          "color": "#19d3f3",
          "size": [
           57.606160661350835
          ],
          "sizemode": "area",
          "sizeref": 0.025361307840186014,
          "symbol": "circle"
         },
         "mode": "markers",
         "name": "Croatia",
         "showlegend": true,
         "type": "scatter",
         "x": [
          11479.4
         ],
         "xaxis": "x",
         "y": [
          57.606160661350835
         ],
         "yaxis": "y"
        },
        {
         "hovertemplate": "<b>%{hovertext}</b><br><br>Country=Montenegro<br>GDP per capita (current US$)=%{x}<br>Average Internet usage over the years=%{marker.size}<extra></extra>",
         "hovertext": [
          "Montenegro"
         ],
         "legendgroup": "Montenegro",
         "marker": {
          "color": "#FF6692",
          "size": [
           50.831921564433515
          ],
          "sizemode": "area",
          "sizeref": 0.025361307840186014,
          "symbol": "circle"
         },
         "mode": "markers",
         "name": "Montenegro",
         "showlegend": true,
         "type": "scatter",
         "x": [
          6424.1
         ],
         "xaxis": "x",
         "y": [
          50.831921564433515
         ],
         "yaxis": "y"
        },
        {
         "hovertemplate": "<b>%{hovertext}</b><br><br>Country=Turkey<br>GDP per capita (current US$)=%{x}<br>Average Internet usage over the years=%{marker.size}<extra></extra>",
         "hovertext": [
          "Turkey"
         ],
         "legendgroup": "Turkey",
         "marker": {
          "color": "#B6E880",
          "size": [
           44.75886248828977
          ],
          "sizemode": "area",
          "sizeref": 0.025361307840186014,
          "symbol": "circle"
         },
         "mode": "markers",
         "name": "Turkey",
         "showlegend": true,
         "type": "scatter",
         "x": [
          9125.8
         ],
         "xaxis": "x",
         "y": [
          44.75886248828977
         ],
         "yaxis": "y"
        },
        {
         "hovertemplate": "<b>%{hovertext}</b><br><br>Country=Romania<br>GDP per capita (current US$)=%{x}<br>Average Internet usage over the years=%{marker.size}<extra></extra>",
         "hovertext": [
          "Romania"
         ],
         "legendgroup": "Romania",
         "marker": {
          "color": "#FF97FF",
          "size": [
           45.861265429333436
          ],
          "sizemode": "area",
          "sizeref": 0.025361307840186014,
          "symbol": "circle"
         },
         "mode": "markers",
         "name": "Romania",
         "showlegend": true,
         "type": "scatter",
         "x": [
          9120.7
         ],
         "xaxis": "x",
         "y": [
          45.861265429333436
         ],
         "yaxis": "y"
        },
        {
         "hovertemplate": "<b>%{hovertext}</b><br><br>Country=Viet Nam<br>GDP per capita (current US$)=%{x}<br>Average Internet usage over the years=%{marker.size}<extra></extra>",
         "hovertext": [
          "Viet Nam"
         ],
         "legendgroup": "Viet Nam",
         "marker": {
          "color": "#FECB52",
          "size": [
           38.31852846784545
          ],
          "sizemode": "area",
          "sizeref": 0.025361307840186014,
          "symbol": "circle"
         },
         "mode": "markers",
         "name": "Viet Nam",
         "showlegend": true,
         "type": "scatter",
         "x": [
          2067.9
         ],
         "xaxis": "x",
         "y": [
          38.31852846784545
         ],
         "yaxis": "y"
        },
        {
         "hovertemplate": "<b>%{hovertext}</b><br><br>Country=Bosnia and Herzegovina<br>GDP per capita (current US$)=%{x}<br>Average Internet usage over the years=%{marker.size}<extra></extra>",
         "hovertext": [
          "Bosnia and Herzegovina"
         ],
         "legendgroup": "Bosnia and Herzegovina",
         "marker": {
          "color": "#636efa",
          "size": [
           45.49268573355297
          ],
          "sizemode": "area",
          "sizeref": 0.025361307840186014,
          "symbol": "circle"
         },
         "mode": "markers",
         "name": "Bosnia and Herzegovina",
         "showlegend": true,
         "type": "scatter",
         "x": [
          4265
         ],
         "xaxis": "x",
         "y": [
          45.49268573355297
         ],
         "yaxis": "y"
        },
        {
         "hovertemplate": "<b>%{hovertext}</b><br><br>Country=Iran (Islamic Republic of)<br>GDP per capita (current US$)=%{x}<br>Average Internet usage over the years=%{marker.size}<extra></extra>",
         "hovertext": [
          "Iran (Islamic Republic of)"
         ],
         "legendgroup": "Iran (Islamic Republic of)",
         "marker": {
          "color": "#EF553B",
          "size": [
           33.506769401156866
          ],
          "sizemode": "area",
          "sizeref": 0.025361307840186014,
          "symbol": "circle"
         },
         "mode": "markers",
         "name": "Iran (Islamic Republic of)",
         "showlegend": true,
         "type": "scatter",
         "x": [
          5038.1
         ],
         "xaxis": "x",
         "y": [
          33.506769401156866
         ],
         "yaxis": "y"
        },
        {
         "hovertemplate": "<b>%{hovertext}</b><br><br>Country=Mexico<br>GDP per capita (current US$)=%{x}<br>Average Internet usage over the years=%{marker.size}<extra></extra>",
         "hovertext": [
          "Mexico"
         ],
         "legendgroup": "Mexico",
         "marker": {
          "color": "#00cc96",
          "size": [
           42.2467320112896
          ],
          "sizemode": "area",
          "sizeref": 0.025361307840186014,
          "symbol": "circle"
         },
         "mode": "markers",
         "name": "Mexico",
         "showlegend": true,
         "type": "scatter",
         "x": [
          8980.9
         ],
         "xaxis": "x",
         "y": [
          42.2467320112896
         ],
         "yaxis": "y"
        },
        {
         "hovertemplate": "<b>%{hovertext}</b><br><br>Country=Paraguay<br>GDP per capita (current US$)=%{x}<br>Average Internet usage over the years=%{marker.size}<extra></extra>",
         "hovertext": [
          "Paraguay"
         ],
         "legendgroup": "Paraguay",
         "marker": {
          "color": "#ab63fa",
          "size": [
           35.604689197812355
          ],
          "sizemode": "area",
          "sizeref": 0.025361307840186014,
          "symbol": "circle"
         },
         "mode": "markers",
         "name": "Paraguay",
         "showlegend": true,
         "type": "scatter",
         "x": [
          4174.4
         ],
         "xaxis": "x",
         "y": [
          35.604689197812355
         ],
         "yaxis": "y"
        },
        {
         "hovertemplate": "<b>%{hovertext}</b><br><br>Country=Morocco<br>GDP per capita (current US$)=%{x}<br>Average Internet usage over the years=%{marker.size}<extra></extra>",
         "hovertext": [
          "Morocco"
         ],
         "legendgroup": "Morocco",
         "marker": {
          "color": "#FFA15A",
          "size": [
           47.63809865270177
          ],
          "sizemode": "area",
          "sizeref": 0.025361307840186014,
          "symbol": "circle"
         },
         "mode": "markers",
         "name": "Morocco",
         "showlegend": true,
         "type": "scatter",
         "x": [
          2919.3
         ],
         "xaxis": "x",
         "y": [
          47.63809865270177
         ],
         "yaxis": "y"
        },
        {
         "hovertemplate": "<b>%{hovertext}</b><br><br>Country=Bulgaria<br>GDP per capita (current US$)=%{x}<br>Average Internet usage over the years=%{marker.size}<extra></extra>",
         "hovertext": [
          "Bulgaria"
         ],
         "legendgroup": "Bulgaria",
         "marker": {
          "color": "#19d3f3",
          "size": [
           47.69785126515635
          ],
          "sizemode": "area",
          "sizeref": 0.025361307840186014,
          "symbol": "circle"
         },
         "mode": "markers",
         "name": "Bulgaria",
         "showlegend": true,
         "type": "scatter",
         "x": [
          6846.8
         ],
         "xaxis": "x",
         "y": [
          47.69785126515635
         ],
         "yaxis": "y"
        },
        {
         "hovertemplate": "<b>%{hovertext}</b><br><br>Country=Palestine<br>GDP per capita (current US$)=%{x}<br>Average Internet usage over the years=%{marker.size}<extra></extra>",
         "hovertext": [
          null
         ],
         "legendgroup": "Palestine",
         "marker": {
          "color": "#FF6692",
          "size": [
           44.315352469079954
          ],
          "sizemode": "area",
          "sizeref": 0.025361307840186014,
          "symbol": "circle"
         },
         "mode": "markers",
         "name": "Palestine",
         "showlegend": true,
         "type": "scatter",
         "x": [
          null
         ],
         "xaxis": "x",
         "y": [
          44.315352469079954
         ],
         "yaxis": "y"
        },
        {
         "hovertemplate": "<b>%{hovertext}</b><br><br>Country=Tunisia<br>GDP per capita (current US$)=%{x}<br>Average Internet usage over the years=%{marker.size}<extra></extra>",
         "hovertext": [
          "Tunisia"
         ],
         "legendgroup": "Tunisia",
         "marker": {
          "color": "#B6E880",
          "size": [
           40.38082201278533
          ],
          "sizemode": "area",
          "sizeref": 0.025361307840186014,
          "symbol": "circle"
         },
         "mode": "markers",
         "name": "Tunisia",
         "showlegend": true,
         "type": "scatter",
         "x": [
          3660.9
         ],
         "xaxis": "x",
         "y": [
          40.38082201278533
         ],
         "yaxis": "y"
        },
        {
         "hovertemplate": "<b>%{hovertext}</b><br><br>Country=Georgia<br>GDP per capita (current US$)=%{x}<br>Average Internet usage over the years=%{marker.size}<extra></extra>",
         "hovertext": [
          "Georgia"
         ],
         "legendgroup": "Georgia",
         "marker": {
          "color": "#FF97FF",
          "size": [
           38.084307936557586
          ],
          "sizemode": "area",
          "sizeref": 0.025361307840186014,
          "symbol": "circle"
         },
         "mode": "markers",
         "name": "Georgia",
         "showlegend": true,
         "type": "scatter",
         "x": [
          3491.4
         ],
         "xaxis": "x",
         "y": [
          38.084307936557586
         ],
         "yaxis": "y"
        },
        {
         "hovertemplate": "<b>%{hovertext}</b><br><br>Country=Algeria<br>GDP per capita (current US$)=%{x}<br>Average Internet usage over the years=%{marker.size}<extra></extra>",
         "hovertext": [
          "Algeria"
         ],
         "legendgroup": "Algeria",
         "marker": {
          "color": "#FECB52",
          "size": [
           26.577446778483168
          ],
          "sizemode": "area",
          "sizeref": 0.025361307840186014,
          "symbol": "circle"
         },
         "mode": "markers",
         "name": "Algeria",
         "showlegend": true,
         "type": "scatter",
         "x": [
          4154.1
         ],
         "xaxis": "x",
         "y": [
          26.577446778483168
         ],
         "yaxis": "y"
        },
        {
         "hovertemplate": "<b>%{hovertext}</b><br><br>Country=Mauritius<br>GDP per capita (current US$)=%{x}<br>Average Internet usage over the years=%{marker.size}<extra></extra>",
         "hovertext": [
          "Mauritius"
         ],
         "legendgroup": "Mauritius",
         "marker": {
          "color": "#636efa",
          "size": [
           38.40035625382354
          ],
          "sizemode": "area",
          "sizeref": 0.025361307840186014,
          "symbol": "circle"
         },
         "mode": "markers",
         "name": "Mauritius",
         "showlegend": true,
         "type": "scatter",
         "x": [
          9040.9
         ],
         "xaxis": "x",
         "y": [
          38.40035625382354
         ],
         "yaxis": "y"
        },
        {
         "hovertemplate": "<b>%{hovertext}</b><br><br>Country=Cape Verde<br>GDP per capita (current US$)=%{x}<br>Average Internet usage over the years=%{marker.size}<extra></extra>",
         "hovertext": [
          null
         ],
         "legendgroup": "Cape Verde",
         "marker": {
          "color": "#EF553B",
          "size": [
           35.521169744811274
          ],
          "sizemode": "area",
          "sizeref": 0.025361307840186014,
          "symbol": "circle"
         },
         "mode": "markers",
         "name": "Cape Verde",
         "showlegend": true,
         "type": "scatter",
         "x": [
          null
         ],
         "xaxis": "x",
         "y": [
          35.521169744811274
         ],
         "yaxis": "y"
        },
        {
         "hovertemplate": "<b>%{hovertext}</b><br><br>Country=Thailand<br>GDP per capita (current US$)=%{x}<br>Average Internet usage over the years=%{marker.size}<extra></extra>",
         "hovertext": [
          "Thailand"
         ],
         "legendgroup": "Thailand",
         "marker": {
          "color": "#00cc96",
          "size": [
           31.964133989428145
          ],
          "sizemode": "area",
          "sizeref": 0.025361307840186014,
          "symbol": "circle"
         },
         "mode": "markers",
         "name": "Thailand",
         "showlegend": true,
         "type": "scatter",
         "x": [
          5814.8
         ],
         "xaxis": "x",
         "y": [
          31.964133989428145
         ],
         "yaxis": "y"
        },
        {
         "hovertemplate": "<b>%{hovertext}</b><br><br>Country=Peru<br>GDP per capita (current US$)=%{x}<br>Average Internet usage over the years=%{marker.size}<extra></extra>",
         "hovertext": [
          "Peru"
         ],
         "legendgroup": "Peru",
         "marker": {
          "color": "#ab63fa",
          "size": [
           36.01261047658745
          ],
          "sizemode": "area",
          "sizeref": 0.025361307840186014,
          "symbol": "circle"
         },
         "mode": "markers",
         "name": "Peru",
         "showlegend": true,
         "type": "scatter",
         "x": [
          6069.1
         ],
         "xaxis": "x",
         "y": [
          36.01261047658745
         ],
         "yaxis": "y"
        },
        {
         "hovertemplate": "<b>%{hovertext}</b><br><br>Country=Egypt<br>GDP per capita (current US$)=%{x}<br>Average Internet usage over the years=%{marker.size}<extra></extra>",
         "hovertext": [
          "Egypt"
         ],
         "legendgroup": "Egypt",
         "marker": {
          "color": "#FFA15A",
          "size": [
           29.202532891201518
          ],
          "sizemode": "area",
          "sizeref": 0.025361307840186014,
          "symbol": "circle"
         },
         "mode": "markers",
         "name": "Egypt",
         "showlegend": true,
         "type": "scatter",
         "x": [
          3452.3
         ],
         "xaxis": "x",
         "y": [
          29.202532891201518
         ],
         "yaxis": "y"
        },
        {
         "hovertemplate": "<b>%{hovertext}</b><br><br>Country=Côte d'Ivoire<br>GDP per capita (current US$)=%{x}<br>Average Internet usage over the years=%{marker.size}<extra></extra>",
         "hovertext": [
          null
         ],
         "legendgroup": "Côte d'Ivoire",
         "marker": {
          "color": "#19d3f3",
          "size": [
           19.405126594398283
          ],
          "sizemode": "area",
          "sizeref": 0.025361307840186014,
          "symbol": "circle"
         },
         "mode": "markers",
         "name": "Côte d'Ivoire",
         "showlegend": true,
         "type": "scatter",
         "x": [
          null
         ],
         "xaxis": "x",
         "y": [
          19.405126594398283
         ],
         "yaxis": "y"
        },
        {
         "hovertemplate": "<b>%{hovertext}</b><br><br>Country=Cambodia<br>GDP per capita (current US$)=%{x}<br>Average Internet usage over the years=%{marker.size}<extra></extra>",
         "hovertext": [
          "Cambodia"
         ],
         "legendgroup": "Cambodia",
         "marker": {
          "color": "#FF6692",
          "size": [
           12.885721432852053
          ],
          "sizemode": "area",
          "sizeref": 0.025361307840186014,
          "symbol": "circle"
         },
         "mode": "markers",
         "name": "Cambodia",
         "showlegend": true,
         "type": "scatter",
         "x": [
          1158.7
         ],
         "xaxis": "x",
         "y": [
          12.885721432852053
         ],
         "yaxis": "y"
        },
        {
         "hovertemplate": "<b>%{hovertext}</b><br><br>Country=Indonesia<br>GDP per capita (current US$)=%{x}<br>Average Internet usage over the years=%{marker.size}<extra></extra>",
         "hovertext": [
          "Indonesia"
         ],
         "legendgroup": "Indonesia",
         "marker": {
          "color": "#B6E880",
          "size": [
           17.620994089873815
          ],
          "sizemode": "area",
          "sizeref": 0.025361307840186014,
          "symbol": "circle"
         },
         "mode": "markers",
         "name": "Indonesia",
         "showlegend": true,
         "type": "scatter",
         "x": [
          3346.5
         ],
         "xaxis": "x",
         "y": [
          17.620994089873815
         ],
         "yaxis": "y"
        },
        {
         "hovertemplate": "<b>%{hovertext}</b><br><br>Country=Haiti<br>GDP per capita (current US$)=%{x}<br>Average Internet usage over the years=%{marker.size}<extra></extra>",
         "hovertext": [
          "Haiti"
         ],
         "legendgroup": "Haiti",
         "marker": {
          "color": "#FF97FF",
          "size": [
           11.364318606226908
          ],
          "sizemode": "area",
          "sizeref": 0.025361307840186014,
          "symbol": "circle"
         },
         "mode": "markers",
         "name": "Haiti",
         "showlegend": true,
         "type": "scatter",
         "x": [
          793.7
         ],
         "xaxis": "x",
         "y": [
          11.364318606226908
         ],
         "yaxis": "y"
        },
        {
         "hovertemplate": "<b>%{hovertext}</b><br><br>Country=Saint Vincent and the Grenadines<br>GDP per capita (current US$)=%{x}<br>Average Internet usage over the years=%{marker.size}<extra></extra>",
         "hovertext": [
          "Saint Vincent and the Grenadines"
         ],
         "legendgroup": "Saint Vincent and the Grenadines",
         "marker": {
          "color": "#FECB52",
          "size": [
           26.90575967308647
          ],
          "sizemode": "area",
          "sizeref": 0.025361307840186014,
          "symbol": "circle"
         },
         "mode": "markers",
         "name": "Saint Vincent and the Grenadines",
         "showlegend": true,
         "type": "scatter",
         "x": [
          6739.2
         ],
         "xaxis": "x",
         "y": [
          26.90575967308647
         ],
         "yaxis": "y"
        },
        {
         "hovertemplate": "<b>%{hovertext}</b><br><br>Country=Zambia<br>GDP per capita (current US$)=%{x}<br>Average Internet usage over the years=%{marker.size}<extra></extra>",
         "hovertext": [
          "Zambia"
         ],
         "legendgroup": "Zambia",
         "marker": {
          "color": "#636efa",
          "size": [
           12.110690895124083
          ],
          "sizemode": "area",
          "sizeref": 0.025361307840186014,
          "symbol": "circle"
         },
         "mode": "markers",
         "name": "Zambia",
         "showlegend": true,
         "type": "scatter",
         "x": [
          1311.1
         ],
         "xaxis": "x",
         "y": [
          12.110690895124083
         ],
         "yaxis": "y"
        },
        {
         "hovertemplate": "<b>%{hovertext}</b><br><br>Country=Niger<br>GDP per capita (current US$)=%{x}<br>Average Internet usage over the years=%{marker.size}<extra></extra>",
         "hovertext": [
          "Niger"
         ],
         "legendgroup": "Niger",
         "marker": {
          "color": "#EF553B",
          "size": [
           2.519095962390164
          ],
          "sizemode": "area",
          "sizeref": 0.025361307840186014,
          "symbol": "circle"
         },
         "mode": "markers",
         "name": "Niger",
         "showlegend": true,
         "type": "scatter",
         "x": [
          359
         ],
         "xaxis": "x",
         "y": [
          2.519095962390164
         ],
         "yaxis": "y"
        },
        {
         "hovertemplate": "<b>%{hovertext}</b><br><br>Country=Albania<br>GDP per capita (current US$)=%{x}<br>Average Internet usage over the years=%{marker.size}<extra></extra>",
         "hovertext": [
          "Albania"
         ],
         "legendgroup": "Albania",
         "marker": {
          "color": "#00cc96",
          "size": [
           43.05248774117164
          ],
          "sizemode": "area",
          "sizeref": 0.025361307840186014,
          "symbol": "circle"
         },
         "mode": "markers",
         "name": "Albania",
         "showlegend": true,
         "type": "scatter",
         "x": [
          3984.2
         ],
         "xaxis": "x",
         "y": [
          43.05248774117164
         ],
         "yaxis": "y"
        },
        {
         "hovertemplate": "<b>%{hovertext}</b><br><br>Country=Antigua and Barbuda<br>GDP per capita (current US$)=%{x}<br>Average Internet usage over the years=%{marker.size}<extra></extra>",
         "hovertext": [
          "Antigua and Barbuda"
         ],
         "legendgroup": "Antigua and Barbuda",
         "marker": {
          "color": "#ab63fa",
          "size": [
           49.151111430639006
          ],
          "sizemode": "area",
          "sizeref": 0.025361307840186014,
          "symbol": "circle"
         },
         "mode": "markers",
         "name": "Antigua and Barbuda",
         "showlegend": true,
         "type": "scatter",
         "x": [
          14764.5
         ],
         "xaxis": "x",
         "y": [
          49.151111430639006
         ],
         "yaxis": "y"
        },
        {
         "hovertemplate": "<b>%{hovertext}</b><br><br>Country=Australia<br>GDP per capita (current US$)=%{x}<br>Average Internet usage over the years=%{marker.size}<extra></extra>",
         "hovertext": [
          "Australia"
         ],
         "legendgroup": "Australia",
         "marker": {
          "color": "#FFA15A",
          "size": [
           69.94026169908871
          ],
          "sizemode": "area",
          "sizeref": 0.025361307840186014,
          "symbol": "circle"
         },
         "mode": "markers",
         "name": "Australia",
         "showlegend": true,
         "type": "scatter",
         "x": [
          51352.2
         ],
         "xaxis": "x",
         "y": [
          69.94026169908871
         ],
         "yaxis": "y"
        },
        {
         "hovertemplate": "<b>%{hovertext}</b><br><br>Country=Bangladesh<br>GDP per capita (current US$)=%{x}<br>Average Internet usage over the years=%{marker.size}<extra></extra>",
         "hovertext": [
          "Bangladesh"
         ],
         "legendgroup": "Bangladesh",
         "marker": {
          "color": "#19d3f3",
          "size": [
           7.405697886244315
          ],
          "sizemode": "area",
          "sizeref": 0.025361307840186014,
          "symbol": "circle"
         },
         "mode": "markers",
         "name": "Bangladesh",
         "showlegend": true,
         "type": "scatter",
         "x": [
          1207.9
         ],
         "xaxis": "x",
         "y": [
          7.405697886244315
         ],
         "yaxis": "y"
        },
        {
         "hovertemplate": "<b>%{hovertext}</b><br><br>Country=Belize<br>GDP per capita (current US$)=%{x}<br>Average Internet usage over the years=%{marker.size}<extra></extra>",
         "hovertext": [
          "Belize"
         ],
         "legendgroup": "Belize",
         "marker": {
          "color": "#FF6692",
          "size": [
           28.94656376601779
          ],
          "sizemode": "area",
          "sizeref": 0.025361307840186014,
          "symbol": "circle"
         },
         "mode": "markers",
         "name": "Belize",
         "showlegend": true,
         "type": "scatter",
         "x": [
          4789.4
         ],
         "xaxis": "x",
         "y": [
          28.94656376601779
         ],
         "yaxis": "y"
        },
        {
         "hovertemplate": "<b>%{hovertext}</b><br><br>Country=Benin<br>GDP per capita (current US$)=%{x}<br>Average Internet usage over the years=%{marker.size}<extra></extra>",
         "hovertext": [
          "Benin"
         ],
         "legendgroup": "Benin",
         "marker": {
          "color": "#B6E880",
          "size": [
           6.129421652181342
          ],
          "sizemode": "area",
          "sizeref": 0.025361307840186014,
          "symbol": "circle"
         },
         "mode": "markers",
         "name": "Benin",
         "showlegend": true,
         "type": "scatter",
         "x": [
          779.1
         ],
         "xaxis": "x",
         "y": [
          6.129421652181342
         ],
         "yaxis": "y"
        },
        {
         "hovertemplate": "<b>%{hovertext}</b><br><br>Country=Botswana<br>GDP per capita (current US$)=%{x}<br>Average Internet usage over the years=%{marker.size}<extra></extra>",
         "hovertext": [
          "Botswana"
         ],
         "legendgroup": "Botswana",
         "marker": {
          "color": "#FF97FF",
          "size": [
           20.689546895943735
          ],
          "sizemode": "area",
          "sizeref": 0.025361307840186014,
          "symbol": "circle"
         },
         "mode": "markers",
         "name": "Botswana",
         "showlegend": true,
         "type": "scatter",
         "x": [
          6360.6
         ],
         "xaxis": "x",
         "y": [
          20.689546895943735
         ],
         "yaxis": "y"
        },
        {
         "hovertemplate": "<b>%{hovertext}</b><br><br>Country=Brazil<br>GDP per capita (current US$)=%{x}<br>Average Internet usage over the years=%{marker.size}<extra></extra>",
         "hovertext": [
          "Brazil"
         ],
         "legendgroup": "Brazil",
         "marker": {
          "color": "#FECB52",
          "size": [
           41.00511005555452
          ],
          "sizemode": "area",
          "sizeref": 0.025361307840186014,
          "symbol": "circle"
         },
         "mode": "markers",
         "name": "Brazil",
         "showlegend": true,
         "type": "scatter",
         "x": [
          8528.3
         ],
         "xaxis": "x",
         "y": [
          41.00511005555452
         ],
         "yaxis": "y"
        },
        {
         "hovertemplate": "<b>%{hovertext}</b><br><br>Country=Burkina Faso<br>GDP per capita (current US$)=%{x}<br>Average Internet usage over the years=%{marker.size}<extra></extra>",
         "hovertext": [
          "Burkina Faso"
         ],
         "legendgroup": "Burkina Faso",
         "marker": {
          "color": "#636efa",
          "size": [
           6.557457233961455
          ],
          "sizemode": "area",
          "sizeref": 0.025361307840186014,
          "symbol": "circle"
         },
         "mode": "markers",
         "name": "Burkina Faso",
         "showlegend": true,
         "type": "scatter",
         "x": [
          611.1
         ],
         "xaxis": "x",
         "y": [
          6.557457233961455
         ],
         "yaxis": "y"
        },
        {
         "hovertemplate": "<b>%{hovertext}</b><br><br>Country=Burundi<br>GDP per capita (current US$)=%{x}<br>Average Internet usage over the years=%{marker.size}<extra></extra>",
         "hovertext": [
          "Burundi"
         ],
         "legendgroup": "Burundi",
         "marker": {
          "color": "#EF553B",
          "size": [
           1.75401901309071
          ],
          "sizemode": "area",
          "sizeref": 0.025361307840186014,
          "symbol": "circle"
         },
         "mode": "markers",
         "name": "Burundi",
         "showlegend": true,
         "type": "scatter",
         "x": [
          244.6
         ],
         "xaxis": "x",
         "y": [
          1.75401901309071
         ],
         "yaxis": "y"
        },
        {
         "hovertemplate": "<b>%{hovertext}</b><br><br>Country=Canada<br>GDP per capita (current US$)=%{x}<br>Average Internet usage over the years=%{marker.size}<extra></extra>",
         "hovertext": [
          "Canada"
         ],
         "legendgroup": "Canada",
         "marker": {
          "color": "#00cc96",
          "size": [
           74.03090909090909
          ],
          "sizemode": "area",
          "sizeref": 0.025361307840186014,
          "symbol": "circle"
         },
         "mode": "markers",
         "name": "Canada",
         "showlegend": true,
         "type": "scatter",
         "x": [
          43205.6
         ],
         "xaxis": "x",
         "y": [
          74.03090909090909
         ],
         "yaxis": "y"
        },
        {
         "hovertemplate": "<b>%{hovertext}</b><br><br>Country=China<br>GDP per capita (current US$)=%{x}<br>Average Internet usage over the years=%{marker.size}<extra></extra>",
         "hovertext": [
          "China"
         ],
         "legendgroup": "China",
         "marker": {
          "color": "#ab63fa",
          "size": [
           34.24538979046083
          ],
          "sizemode": "area",
          "sizeref": 0.025361307840186014,
          "symbol": "circle"
         },
         "mode": "markers",
         "name": "China",
         "showlegend": true,
         "type": "scatter",
         "x": [
          8109.1
         ],
         "xaxis": "x",
         "y": [
          34.24538979046083
         ],
         "yaxis": "y"
        },
        {
         "hovertemplate": "<b>%{hovertext}</b><br><br>Country=Colombia<br>GDP per capita (current US$)=%{x}<br>Average Internet usage over the years=%{marker.size}<extra></extra>",
         "hovertext": [
          "Colombia"
         ],
         "legendgroup": "Colombia",
         "marker": {
          "color": "#FFA15A",
          "size": [
           38.14700536745515
          ],
          "sizemode": "area",
          "sizeref": 0.025361307840186014,
          "symbol": "circle"
         },
         "mode": "markers",
         "name": "Colombia",
         "showlegend": true,
         "type": "scatter",
         "x": [
          6056.1
         ],
         "xaxis": "x",
         "y": [
          38.14700536745515
         ],
         "yaxis": "y"
        },
        {
         "hovertemplate": "<b>%{hovertext}</b><br><br>Country=Congo (Rep.)<br>GDP per capita (current US$)=%{x}<br>Average Internet usage over the years=%{marker.size}<extra></extra>",
         "hovertext": [
          null
         ],
         "legendgroup": "Congo (Rep.)",
         "marker": {
          "color": "#19d3f3",
          "size": [
           5.11767216377099
          ],
          "sizemode": "area",
          "sizeref": 0.025361307840186014,
          "symbol": "circle"
         },
         "mode": "markers",
         "name": "Congo (Rep.)",
         "showlegend": true,
         "type": "scatter",
         "x": [
          null
         ],
         "xaxis": "x",
         "y": [
          5.11767216377099
         ],
         "yaxis": "y"
        },
        {
         "hovertemplate": "<b>%{hovertext}</b><br><br>Country=Cuba<br>GDP per capita (current US$)=%{x}<br>Average Internet usage over the years=%{marker.size}<extra></extra>",
         "hovertext": [
          "Cuba"
         ],
         "legendgroup": "Cuba",
         "marker": {
          "color": "#FF6692",
          "size": [
           23.438990622495943
          ],
          "sizemode": "area",
          "sizeref": 0.025361307840186014,
          "symbol": "circle"
         },
         "mode": "markers",
         "name": "Cuba",
         "showlegend": true,
         "type": "scatter",
         "x": [
          7656.6
         ],
         "xaxis": "x",
         "y": [
          23.438990622495943
         ],
         "yaxis": "y"
        },
        {
         "hovertemplate": "<b>%{hovertext}</b><br><br>Country=Dem. People's Rep. of Korea<br>GDP per capita (current US$)=%{x}<br>Average Internet usage over the years=%{marker.size}<extra></extra>",
         "hovertext": [
          null
         ],
         "legendgroup": "Dem. People's Rep. of Korea",
         "marker": {
          "color": "#B6E880",
          "size": [
           0
          ],
          "sizemode": "area",
          "sizeref": 0.025361307840186014,
          "symbol": "circle"
         },
         "mode": "markers",
         "name": "Dem. People's Rep. of Korea",
         "showlegend": true,
         "type": "scatter",
         "x": [
          null
         ],
         "xaxis": "x",
         "y": [
          0
         ],
         "yaxis": "y"
        },
        {
         "hovertemplate": "<b>%{hovertext}</b><br><br>Country=Dominica<br>GDP per capita (current US$)=%{x}<br>Average Internet usage over the years=%{marker.size}<extra></extra>",
         "hovertext": [
          "Dominica"
         ],
         "legendgroup": "Dominica",
         "marker": {
          "color": "#FF97FF",
          "size": [
           45.75983238687181
          ],
          "sizemode": "area",
          "sizeref": 0.025361307840186014,
          "symbol": "circle"
         },
         "mode": "markers",
         "name": "Dominica",
         "showlegend": true,
         "type": "scatter",
         "x": [
          7051.1
         ],
         "xaxis": "x",
         "y": [
          45.75983238687181
         ],
         "yaxis": "y"
        },
        {
         "hovertemplate": "<b>%{hovertext}</b><br><br>Country=Ecuador<br>GDP per capita (current US$)=%{x}<br>Average Internet usage over the years=%{marker.size}<extra></extra>",
         "hovertext": [
          "Ecuador"
         ],
         "legendgroup": "Ecuador",
         "marker": {
          "color": "#FECB52",
          "size": [
           31.73941030180106
          ],
          "sizemode": "area",
          "sizeref": 0.025361307840186014,
          "symbol": "circle"
         },
         "mode": "markers",
         "name": "Ecuador",
         "showlegend": true,
         "type": "scatter",
         "x": [
          6205.1
         ],
         "xaxis": "x",
         "y": [
          31.73941030180106
         ],
         "yaxis": "y"
        },
        {
         "hovertemplate": "<b>%{hovertext}</b><br><br>Country=Equatorial Guinea<br>GDP per capita (current US$)=%{x}<br>Average Internet usage over the years=%{marker.size}<extra></extra>",
         "hovertext": [
          "Equatorial Guinea"
         ],
         "legendgroup": "Equatorial Guinea",
         "marker": {
          "color": "#636efa",
          "size": [
           12.665938767297403
          ],
          "sizemode": "area",
          "sizeref": 0.025361307840186014,
          "symbol": "circle"
         },
         "mode": "markers",
         "name": "Equatorial Guinea",
         "showlegend": true,
         "type": "scatter",
         "x": [
          16344.1
         ],
         "xaxis": "x",
         "y": [
          12.665938767297403
         ],
         "yaxis": "y"
        },
        {
         "hovertemplate": "<b>%{hovertext}</b><br><br>Country=Eritrea<br>GDP per capita (current US$)=%{x}<br>Average Internet usage over the years=%{marker.size}<extra></extra>",
         "hovertext": [
          "Eritrea"
         ],
         "legendgroup": "Eritrea",
         "marker": {
          "color": "#EF553B",
          "size": [
           0.7005882506184542
          ],
          "sizemode": "area",
          "sizeref": 0.025361307840186014,
          "symbol": "circle"
         },
         "mode": "markers",
         "name": "Eritrea",
         "showlegend": true,
         "type": "scatter",
         "x": [
          914.9
         ],
         "xaxis": "x",
         "y": [
          0.7005882506184542
         ],
         "yaxis": "y"
        },
        {
         "hovertemplate": "<b>%{hovertext}</b><br><br>Country=Fiji<br>GDP per capita (current US$)=%{x}<br>Average Internet usage over the years=%{marker.size}<extra></extra>",
         "hovertext": [
          "Fiji"
         ],
         "legendgroup": "Fiji",
         "marker": {
          "color": "#00cc96",
          "size": [
           27.569654494754733
          ],
          "sizemode": "area",
          "sizeref": 0.025361307840186014,
          "symbol": "circle"
         },
         "mode": "markers",
         "name": "Fiji",
         "showlegend": true,
         "type": "scatter",
         "x": [
          4921.9
         ],
         "xaxis": "x",
         "y": [
          27.569654494754733
         ],
         "yaxis": "y"
        },
        {
         "hovertemplate": "<b>%{hovertext}</b><br><br>Country=Gabon<br>GDP per capita (current US$)=%{x}<br>Average Internet usage over the years=%{marker.size}<extra></extra>",
         "hovertext": [
          "Gabon"
         ],
         "legendgroup": "Gabon",
         "marker": {
          "color": "#ab63fa",
          "size": [
           25.95958712532986
          ],
          "sizemode": "area",
          "sizeref": 0.025361307840186014,
          "symbol": "circle"
         },
         "mode": "markers",
         "name": "Gabon",
         "showlegend": true,
         "type": "scatter",
         "x": [
          7960.7
         ],
         "xaxis": "x",
         "y": [
          25.95958712532986
         ],
         "yaxis": "y"
        },
        {
         "hovertemplate": "<b>%{hovertext}</b><br><br>Country=Ghana<br>GDP per capita (current US$)=%{x}<br>Average Internet usage over the years=%{marker.size}<extra></extra>",
         "hovertext": [
          "Ghana"
         ],
         "legendgroup": "Ghana",
         "marker": {
          "color": "#FFA15A",
          "size": [
           15.324413712606543
          ],
          "sizemode": "area",
          "sizeref": 0.025361307840186014,
          "symbol": "circle"
         },
         "mode": "markers",
         "name": "Ghana",
         "showlegend": true,
         "type": "scatter",
         "x": [
          1355.6
         ],
         "xaxis": "x",
         "y": [
          15.324413712606543
         ],
         "yaxis": "y"
        },
        {
         "hovertemplate": "<b>%{hovertext}</b><br><br>Country=Guinea-Bissau<br>GDP per capita (current US$)=%{x}<br>Average Internet usage over the years=%{marker.size}<extra></extra>",
         "hovertext": [
          "Guinea-Bissau"
         ],
         "legendgroup": "Guinea-Bissau",
         "marker": {
          "color": "#19d3f3",
          "size": [
           2.527280818991616
          ],
          "sizemode": "area",
          "sizeref": 0.025361307840186014,
          "symbol": "circle"
         },
         "mode": "markers",
         "name": "Guinea-Bissau",
         "showlegend": true,
         "type": "scatter",
         "x": [
          530
         ],
         "xaxis": "x",
         "y": [
          2.527280818991616
         ],
         "yaxis": "y"
        },
        {
         "hovertemplate": "<b>%{hovertext}</b><br><br>Country=Guyana<br>GDP per capita (current US$)=%{x}<br>Average Internet usage over the years=%{marker.size}<extra></extra>",
         "hovertext": [
          "Guyana"
         ],
         "legendgroup": "Guyana",
         "marker": {
          "color": "#FF6692",
          "size": [
           24.272484395775418
          ],
          "sizemode": "area",
          "sizeref": 0.025361307840186014,
          "symbol": "circle"
         },
         "mode": "markers",
         "name": "Guyana",
         "showlegend": true,
         "type": "scatter",
         "x": [
          4278.8
         ],
         "xaxis": "x",
         "y": [
          24.272484395775418
         ],
         "yaxis": "y"
        },
        {
         "hovertemplate": "<b>%{hovertext}</b><br><br>Country=India<br>GDP per capita (current US$)=%{x}<br>Average Internet usage over the years=%{marker.size}<extra></extra>",
         "hovertext": [
          "India"
         ],
         "legendgroup": "India",
         "marker": {
          "color": "#B6E880",
          "size": [
           12.965060760344018
          ],
          "sizemode": "area",
          "sizeref": 0.025361307840186014,
          "symbol": "circle"
         },
         "mode": "markers",
         "name": "India",
         "showlegend": true,
         "type": "scatter",
         "x": [
          1614.2
         ],
         "xaxis": "x",
         "y": [
          12.965060760344018
         ],
         "yaxis": "y"
        },
        {
         "hovertemplate": "<b>%{hovertext}</b><br><br>Country=Israel<br>GDP per capita (current US$)=%{x}<br>Average Internet usage over the years=%{marker.size}<extra></extra>",
         "hovertext": [
          "Israel"
         ],
         "legendgroup": "Israel",
         "marker": {
          "color": "#FF97FF",
          "size": [
           57.91783390414793
          ],
          "sizemode": "area",
          "sizeref": 0.025361307840186014,
          "symbol": "circle"
         },
         "mode": "markers",
         "name": "Israel",
         "showlegend": true,
         "type": "scatter",
         "x": [
          37129.4
         ],
         "xaxis": "x",
         "y": [
          57.91783390414793
         ],
         "yaxis": "y"
        },
        {
         "hovertemplate": "<b>%{hovertext}</b><br><br>Country=Jordan<br>GDP per capita (current US$)=%{x}<br>Average Internet usage over the years=%{marker.size}<extra></extra>",
         "hovertext": [
          "Jordan"
         ],
         "legendgroup": "Jordan",
         "marker": {
          "color": "#FECB52",
          "size": [
           35.587547014230175
          ],
          "sizemode": "area",
          "sizeref": 0.025361307840186014,
          "symbol": "circle"
         },
         "mode": "markers",
         "name": "Jordan",
         "showlegend": true,
         "type": "scatter",
         "x": [
          4940.1
         ],
         "xaxis": "x",
         "y": [
          35.587547014230175
         ],
         "yaxis": "y"
        },
        {
         "hovertemplate": "<b>%{hovertext}</b><br><br>Country=Kiribati<br>GDP per capita (current US$)=%{x}<br>Average Internet usage over the years=%{marker.size}<extra></extra>",
         "hovertext": [
          "Kiribati"
         ],
         "legendgroup": "Kiribati",
         "marker": {
          "color": "#636efa",
          "size": [
           9.14830229401086
          ],
          "sizemode": "area",
          "sizeref": 0.025361307840186014,
          "symbol": "circle"
         },
         "mode": "markers",
         "name": "Kiribati",
         "showlegend": true,
         "type": "scatter",
         "x": [
          1442.9
         ],
         "xaxis": "x",
         "y": [
          9.14830229401086
         ],
         "yaxis": "y"
        },
        {
         "hovertemplate": "<b>%{hovertext}</b><br><br>Country=Lebanon<br>GDP per capita (current US$)=%{x}<br>Average Internet usage over the years=%{marker.size}<extra></extra>",
         "hovertext": [
          "Lebanon"
         ],
         "legendgroup": "Lebanon",
         "marker": {
          "color": "#EF553B",
          "size": [
           49.71030039503853
          ],
          "sizemode": "area",
          "sizeref": 0.025361307840186014,
          "symbol": "circle"
         },
         "mode": "markers",
         "name": "Lebanon",
         "showlegend": true,
         "type": "scatter",
         "x": [
          8571.4
         ],
         "xaxis": "x",
         "y": [
          49.71030039503853
         ],
         "yaxis": "y"
        },
        {
         "hovertemplate": "<b>%{hovertext}</b><br><br>Country=Lesotho<br>GDP per capita (current US$)=%{x}<br>Average Internet usage over the years=%{marker.size}<extra></extra>",
         "hovertext": [
          "Lesotho"
         ],
         "legendgroup": "Lesotho",
         "marker": {
          "color": "#00cc96",
          "size": [
           12.91018650495968
          ],
          "sizemode": "area",
          "sizeref": 0.025361307840186014,
          "symbol": "circle"
         },
         "mode": "markers",
         "name": "Lesotho",
         "showlegend": true,
         "type": "scatter",
         "x": [
          940.6
         ],
         "xaxis": "x",
         "y": [
          12.91018650495968
         ],
         "yaxis": "y"
        },
        {
         "hovertemplate": "<b>%{hovertext}</b><br><br>Country=Maldives<br>GDP per capita (current US$)=%{x}<br>Average Internet usage over the years=%{marker.size}<extra></extra>",
         "hovertext": [
          "Maldives"
         ],
         "legendgroup": "Maldives",
         "marker": {
          "color": "#ab63fa",
          "size": [
           34.42307172759476
          ],
          "sizemode": "area",
          "sizeref": 0.025361307840186014,
          "symbol": "circle"
         },
         "mode": "markers",
         "name": "Maldives",
         "showlegend": true,
         "type": "scatter",
         "x": [
          9446.5
         ],
         "xaxis": "x",
         "y": [
          34.42307172759476
         ],
         "yaxis": "y"
        },
        {
         "hovertemplate": "<b>%{hovertext}</b><br><br>Country=Mauritania<br>GDP per capita (current US$)=%{x}<br>Average Internet usage over the years=%{marker.size}<extra></extra>",
         "hovertext": [
          "Mauritania"
         ],
         "legendgroup": "Mauritania",
         "marker": {
          "color": "#FFA15A",
          "size": [
           7.75109893541522
          ],
          "sizemode": "area",
          "sizeref": 0.025361307840186014,
          "symbol": "circle"
         },
         "mode": "markers",
         "name": "Mauritania",
         "showlegend": true,
         "type": "scatter",
         "x": [
          1235
         ],
         "xaxis": "x",
         "y": [
          7.75109893541522
         ],
         "yaxis": "y"
        },
        {
         "hovertemplate": "<b>%{hovertext}</b><br><br>Country=Micronesia<br>GDP per capita (current US$)=%{x}<br>Average Internet usage over the years=%{marker.size}<extra></extra>",
         "hovertext": [
          null
         ],
         "legendgroup": "Micronesia",
         "marker": {
          "color": "#19d3f3",
          "size": [
           21.999813721176654
          ],
          "sizemode": "area",
          "sizeref": 0.025361307840186014,
          "symbol": "circle"
         },
         "mode": "markers",
         "name": "Micronesia",
         "showlegend": true,
         "type": "scatter",
         "x": [
          null
         ],
         "xaxis": "x",
         "y": [
          21.999813721176654
         ],
         "yaxis": "y"
        },
        {
         "hovertemplate": "<b>%{hovertext}</b><br><br>Country=Moldova<br>GDP per capita (current US$)=%{x}<br>Average Internet usage over the years=%{marker.size}<extra></extra>",
         "hovertext": [
          null
         ],
         "legendgroup": "Moldova",
         "marker": {
          "color": "#FF6692",
          "size": [
           42.973421443185515
          ],
          "sizemode": "area",
          "sizeref": 0.025361307840186014,
          "symbol": "circle"
         },
         "mode": "markers",
         "name": "Moldova",
         "showlegend": true,
         "type": "scatter",
         "x": [
          null
         ],
         "xaxis": "x",
         "y": [
          42.973421443185515
         ],
         "yaxis": "y"
        },
        {
         "hovertemplate": "<b>%{hovertext}</b><br><br>Country=Nauru<br>GDP per capita (current US$)=%{x}<br>Average Internet usage over the years=%{marker.size}<extra></extra>",
         "hovertext": [
          "Nauru"
         ],
         "legendgroup": "Nauru",
         "marker": {
          "color": "#B6E880",
          "size": [
           10.090909090909092
          ],
          "sizemode": "area",
          "sizeref": 0.025361307840186014,
          "symbol": "circle"
         },
         "mode": "markers",
         "name": "Nauru",
         "showlegend": true,
         "type": "scatter",
         "x": [
          18469.2
         ],
         "xaxis": "x",
         "y": [
          10.090909090909092
         ],
         "yaxis": "y"
        },
        {
         "hovertemplate": "<b>%{hovertext}</b><br><br>Country=Nepal (Republic of)<br>GDP per capita (current US$)=%{x}<br>Average Internet usage over the years=%{marker.size}<extra></extra>",
         "hovertext": [
          null
         ],
         "legendgroup": "Nepal (Republic of)",
         "marker": {
          "color": "#FF97FF",
          "size": [
           11.738262253886141
          ],
          "sizemode": "area",
          "sizeref": 0.025361307840186014,
          "symbol": "circle"
         },
         "mode": "markers",
         "name": "Nepal (Republic of)",
         "showlegend": true,
         "type": "scatter",
         "x": [
          null
         ],
         "xaxis": "x",
         "y": [
          11.738262253886141
         ],
         "yaxis": "y"
        },
        {
         "hovertemplate": "<b>%{hovertext}</b><br><br>Country=New Zealand<br>GDP per capita (current US$)=%{x}<br>Average Internet usage over the years=%{marker.size}<extra></extra>",
         "hovertext": [
          "New Zealand"
         ],
         "legendgroup": "New Zealand",
         "marker": {
          "color": "#FECB52",
          "size": [
           71.74712793900886
          ],
          "sizemode": "area",
          "sizeref": 0.025361307840186014,
          "symbol": "circle"
         },
         "mode": "markers",
         "name": "New Zealand",
         "showlegend": true,
         "type": "scatter",
         "x": [
          38294.3
         ],
         "xaxis": "x",
         "y": [
          71.74712793900886
         ],
         "yaxis": "y"
        },
        {
         "hovertemplate": "<b>%{hovertext}</b><br><br>Country=Nicaragua<br>GDP per capita (current US$)=%{x}<br>Average Internet usage over the years=%{marker.size}<extra></extra>",
         "hovertext": [
          "Nicaragua"
         ],
         "legendgroup": "Nicaragua",
         "marker": {
          "color": "#636efa",
          "size": [
           12.989612102778066
          ],
          "sizemode": "area",
          "sizeref": 0.025361307840186014,
          "symbol": "circle"
         },
         "mode": "markers",
         "name": "Nicaragua",
         "showlegend": true,
         "type": "scatter",
         "x": [
          2086.9
         ],
         "xaxis": "x",
         "y": [
          12.989612102778066
         ],
         "yaxis": "y"
        },
        {
         "hovertemplate": "<b>%{hovertext}</b><br><br>Country=Oman<br>GDP per capita (current US$)=%{x}<br>Average Internet usage over the years=%{marker.size}<extra></extra>",
         "hovertext": [
          "Oman"
         ],
         "legendgroup": "Oman",
         "marker": {
          "color": "#EF553B",
          "size": [
           47.38752991272483
          ],
          "sizemode": "area",
          "sizeref": 0.025361307840186014,
          "symbol": "circle"
         },
         "mode": "markers",
         "name": "Oman",
         "showlegend": true,
         "type": "scatter",
         "x": [
          15550.8
         ],
         "xaxis": "x",
         "y": [
          47.38752991272483
         ],
         "yaxis": "y"
        },
        {
         "hovertemplate": "<b>%{hovertext}</b><br><br>Country=Pakistan<br>GDP per capita (current US$)=%{x}<br>Average Internet usage over the years=%{marker.size}<extra></extra>",
         "hovertext": [
          "Pakistan"
         ],
         "legendgroup": "Pakistan",
         "marker": {
          "color": "#00cc96",
          "size": [
           8.91707053257344
          ],
          "sizemode": "area",
          "sizeref": 0.025361307840186014,
          "symbol": "circle"
         },
         "mode": "markers",
         "name": "Pakistan",
         "showlegend": true,
         "type": "scatter",
         "x": [
          1410.4
         ],
         "xaxis": "x",
         "y": [
          8.91707053257344
         ],
         "yaxis": "y"
        },
        {
         "hovertemplate": "<b>%{hovertext}</b><br><br>Country=Panama<br>GDP per capita (current US$)=%{x}<br>Average Internet usage over the years=%{marker.size}<extra></extra>",
         "hovertext": [
          "Panama"
         ],
         "legendgroup": "Panama",
         "marker": {
          "color": "#ab63fa",
          "size": [
           35.741928730648
          ],
          "sizemode": "area",
          "sizeref": 0.025361307840186014,
          "symbol": "circle"
         },
         "mode": "markers",
         "name": "Panama",
         "showlegend": true,
         "type": "scatter",
         "x": [
          13268.1
         ],
         "xaxis": "x",
         "y": [
          35.741928730648
         ],
         "yaxis": "y"
        },
        {
         "hovertemplate": "<b>%{hovertext}</b><br><br>Country=Papua New Guinea<br>GDP per capita (current US$)=%{x}<br>Average Internet usage over the years=%{marker.size}<extra></extra>",
         "hovertext": [
          "Papua New Guinea"
         ],
         "legendgroup": "Papua New Guinea",
         "marker": {
          "color": "#FFA15A",
          "size": [
           4.512924984762882
          ],
          "sizemode": "area",
          "sizeref": 0.025361307840186014,
          "symbol": "circle"
         },
         "mode": "markers",
         "name": "Papua New Guinea",
         "showlegend": true,
         "type": "scatter",
         "x": [
          2797.6
         ],
         "xaxis": "x",
         "y": [
          4.512924984762882
         ],
         "yaxis": "y"
        },
        {
         "hovertemplate": "<b>%{hovertext}</b><br><br>Country=Philippines<br>GDP per capita (current US$)=%{x}<br>Average Internet usage over the years=%{marker.size}<extra></extra>",
         "hovertext": [
          "Philippines"
         ],
         "legendgroup": "Philippines",
         "marker": {
          "color": "#19d3f3",
          "size": [
           31.53352485892228
          ],
          "sizemode": "area",
          "sizeref": 0.025361307840186014,
          "symbol": "circle"
         },
         "mode": "markers",
         "name": "Philippines",
         "showlegend": true,
         "type": "scatter",
         "x": [
          2904.2
         ],
         "xaxis": "x",
         "y": [
          31.53352485892228
         ],
         "yaxis": "y"
        },
        {
         "hovertemplate": "<b>%{hovertext}</b><br><br>Country=Saint Lucia<br>GDP per capita (current US$)=%{x}<br>Average Internet usage over the years=%{marker.size}<extra></extra>",
         "hovertext": [
          "Saint Lucia"
         ],
         "legendgroup": "Saint Lucia",
         "marker": {
          "color": "#FF6692",
          "size": [
           31.25030178161835
          ],
          "sizemode": "area",
          "sizeref": 0.025361307840186014,
          "symbol": "circle"
         },
         "mode": "markers",
         "name": "Saint Lucia",
         "showlegend": true,
         "type": "scatter",
         "x": [
          7839.4
         ],
         "xaxis": "x",
         "y": [
          31.25030178161835
         ],
         "yaxis": "y"
        },
        {
         "hovertemplate": "<b>%{hovertext}</b><br><br>Country=Samoa<br>GDP per capita (current US$)=%{x}<br>Average Internet usage over the years=%{marker.size}<extra></extra>",
         "hovertext": [
          "Samoa"
         ],
         "legendgroup": "Samoa",
         "marker": {
          "color": "#B6E880",
          "size": [
           14.524650349476802
          ],
          "sizemode": "area",
          "sizeref": 0.025361307840186014,
          "symbol": "circle"
         },
         "mode": "markers",
         "name": "Samoa",
         "showlegend": true,
         "type": "scatter",
         "x": [
          4006
         ],
         "xaxis": "x",
         "y": [
          14.524650349476802
         ],
         "yaxis": "y"
        },
        {
         "hovertemplate": "<b>%{hovertext}</b><br><br>Country=San Marino<br>GDP per capita (current US$)=%{x}<br>Average Internet usage over the years=%{marker.size}<extra></extra>",
         "hovertext": [
          "San Marino"
         ],
         "legendgroup": "San Marino",
         "marker": {
          "color": "#FF97FF",
          "size": [
           18.985578251184208
          ],
          "sizemode": "area",
          "sizeref": 0.025361307840186014,
          "symbol": "circle"
         },
         "mode": "markers",
         "name": "San Marino",
         "showlegend": true,
         "type": "scatter",
         "x": [
          49240.2
         ],
         "xaxis": "x",
         "y": [
          18.985578251184208
         ],
         "yaxis": "y"
        },
        {
         "hovertemplate": "<b>%{hovertext}</b><br><br>Country=Senegal<br>GDP per capita (current US$)=%{x}<br>Average Internet usage over the years=%{marker.size}<extra></extra>",
         "hovertext": [
          "Senegal"
         ],
         "legendgroup": "Senegal",
         "marker": {
          "color": "#FECB52",
          "size": [
           14.841401782760874
          ],
          "sizemode": "area",
          "sizeref": 0.025361307840186014,
          "symbol": "circle"
         },
         "mode": "markers",
         "name": "Senegal",
         "showlegend": true,
         "type": "scatter",
         "x": [
          901.1
         ],
         "xaxis": "x",
         "y": [
          14.841401782760874
         ],
         "yaxis": "y"
        },
        {
         "hovertemplate": "<b>%{hovertext}</b><br><br>Country=Afghanistan<br>GDP per capita (current US$)=%{x}<br>Average Internet usage over the years=%{marker.size}<extra></extra>",
         "hovertext": [
          "Afghanistan"
         ],
         "legendgroup": "Afghanistan",
         "marker": {
          "color": "#636efa",
          "size": [
           5.594426685297288
          ],
          "sizemode": "area",
          "sizeref": 0.025361307840186014,
          "symbol": "circle"
         },
         "mode": "markers",
         "name": "Afghanistan",
         "showlegend": true,
         "type": "scatter",
         "x": [
          623.2
         ],
         "xaxis": "x",
         "y": [
          5.594426685297288
         ],
         "yaxis": "y"
        },
        {
         "hovertemplate": "<b>%{hovertext}</b><br><br>Country=South Sudan<br>GDP per capita (current US$)=%{x}<br>Average Internet usage over the years=%{marker.size}<extra></extra>",
         "hovertext": [
          "South Sudan"
         ],
         "legendgroup": "South Sudan",
         "marker": {
          "color": "#EF553B",
          "size": [
           2.5912072666535426
          ],
          "sizemode": "area",
          "sizeref": 0.025361307840186014,
          "symbol": "circle"
         },
         "mode": "markers",
         "name": "South Sudan",
         "showlegend": true,
         "type": "scatter",
         "x": [
          1067
         ],
         "xaxis": "x",
         "y": [
          2.5912072666535426
         ],
         "yaxis": "y"
        },
        {
         "hovertemplate": "<b>%{hovertext}</b><br><br>Country=Sudan<br>GDP per capita (current US$)=%{x}<br>Average Internet usage over the years=%{marker.size}<extra></extra>",
         "hovertext": [
          "Sudan"
         ],
         "legendgroup": "Sudan",
         "marker": {
          "color": "#00cc96",
          "size": [
           15.945283761723408
          ],
          "sizemode": "area",
          "sizeref": 0.025361307840186014,
          "symbol": "circle"
         },
         "mode": "markers",
         "name": "Sudan",
         "showlegend": true,
         "type": "scatter",
         "x": [
          1977
         ],
         "xaxis": "x",
         "y": [
          15.945283761723408
         ],
         "yaxis": "y"
        },
        {
         "hovertemplate": "<b>%{hovertext}</b><br><br>Country=Suriname<br>GDP per capita (current US$)=%{x}<br>Average Internet usage over the years=%{marker.size}<extra></extra>",
         "hovertext": [
          "Suriname"
         ],
         "legendgroup": "Suriname",
         "marker": {
          "color": "#ab63fa",
          "size": [
           29.251790826929618
          ],
          "sizemode": "area",
          "sizeref": 0.025361307840186014,
          "symbol": "circle"
         },
         "mode": "markers",
         "name": "Suriname",
         "showlegend": true,
         "type": "scatter",
         "x": [
          8985.3
         ],
         "xaxis": "x",
         "y": [
          29.251790826929618
         ],
         "yaxis": "y"
        },
        {
         "hovertemplate": "<b>%{hovertext}</b><br><br>Country=Syrian Arab Republic<br>GDP per capita (current US$)=%{x}<br>Average Internet usage over the years=%{marker.size}<extra></extra>",
         "hovertext": [
          "Syrian Arab Republic"
         ],
         "legendgroup": "Syrian Arab Republic",
         "marker": {
          "color": "#FFA15A",
          "size": [
           20.33843009625551
          ],
          "sizemode": "area",
          "sizeref": 0.025361307840186014,
          "symbol": "circle"
         },
         "mode": "markers",
         "name": "Syrian Arab Republic",
         "showlegend": true,
         "type": "scatter",
         "x": [
          1534.5
         ],
         "xaxis": "x",
         "y": [
          20.33843009625551
         ],
         "yaxis": "y"
        },
        {
         "hovertemplate": "<b>%{hovertext}</b><br><br>Country=Taiwan, Province of China<br>GDP per capita (current US$)=%{x}<br>Average Internet usage over the years=%{marker.size}<extra></extra>",
         "hovertext": [
          null
         ],
         "legendgroup": "Taiwan, Province of China",
         "marker": {
          "color": "#19d3f3",
          "size": [
           64.59069912764247
          ],
          "sizemode": "area",
          "sizeref": 0.025361307840186014,
          "symbol": "circle"
         },
         "mode": "markers",
         "name": "Taiwan, Province of China",
         "showlegend": true,
         "type": "scatter",
         "x": [
          null
         ],
         "xaxis": "x",
         "y": [
          64.59069912764247
         ],
         "yaxis": "y"
        },
        {
         "hovertemplate": "<b>%{hovertext}</b><br><br>Country=Timor-Leste<br>GDP per capita (current US$)=%{x}<br>Average Internet usage over the years=%{marker.size}<extra></extra>",
         "hovertext": [
          "Timor-Leste"
         ],
         "legendgroup": "Timor-Leste",
         "marker": {
          "color": "#FF6692",
          "size": [
           10.758001189427866
          ],
          "sizemode": "area",
          "sizeref": 0.025361307840186014,
          "symbol": "circle"
         },
         "mode": "markers",
         "name": "Timor-Leste",
         "showlegend": true,
         "type": "scatter",
         "x": [
          2425.4
         ],
         "xaxis": "x",
         "y": [
          10.758001189427866
         ],
         "yaxis": "y"
        },
        {
         "hovertemplate": "<b>%{hovertext}</b><br><br>Country=Togo<br>GDP per capita (current US$)=%{x}<br>Average Internet usage over the years=%{marker.size}<extra></extra>",
         "hovertext": [
          "Togo"
         ],
         "legendgroup": "Togo",
         "marker": {
          "color": "#B6E880",
          "size": [
           4.91729317909091
          ],
          "sizemode": "area",
          "sizeref": 0.025361307840186014,
          "symbol": "circle"
         },
         "mode": "markers",
         "name": "Togo",
         "showlegend": true,
         "type": "scatter",
         "x": [
          559.4
         ],
         "xaxis": "x",
         "y": [
          4.91729317909091
         ],
         "yaxis": "y"
        },
        {
         "hovertemplate": "<b>%{hovertext}</b><br><br>Country=Trinidad & Tobago<br>GDP per capita (current US$)=%{x}<br>Average Internet usage over the years=%{marker.size}<extra></extra>",
         "hovertext": [
          null
         ],
         "legendgroup": "Trinidad & Tobago",
         "marker": {
          "color": "#FF97FF",
          "size": [
           49.87598078728741
          ],
          "sizemode": "area",
          "sizeref": 0.025361307840186014,
          "symbol": "circle"
         },
         "mode": "markers",
         "name": "Trinidad & Tobago",
         "showlegend": true,
         "type": "scatter",
         "x": [
          null
         ],
         "xaxis": "x",
         "y": [
          49.87598078728741
         ],
         "yaxis": "y"
        },
        {
         "hovertemplate": "<b>%{hovertext}</b><br><br>Country=Tuvalu<br>GDP per capita (current US$)=%{x}<br>Average Internet usage over the years=%{marker.size}<extra></extra>",
         "hovertext": [
          "Tuvalu"
         ],
         "legendgroup": "Tuvalu",
         "marker": {
          "color": "#FECB52",
          "size": [
           28.133557246995647
          ],
          "sizemode": "area",
          "sizeref": 0.025361307840186014,
          "symbol": "circle"
         },
         "mode": "markers",
         "name": "Tuvalu",
         "showlegend": true,
         "type": "scatter",
         "x": [
          3362.4
         ],
         "xaxis": "x",
         "y": [
          28.133557246995647
         ],
         "yaxis": "y"
        },
        {
         "hovertemplate": "<b>%{hovertext}</b><br><br>Country=Uganda<br>GDP per capita (current US$)=%{x}<br>Average Internet usage over the years=%{marker.size}<extra></extra>",
         "hovertext": [
          "Uganda"
         ],
         "legendgroup": "Uganda",
         "marker": {
          "color": "#636efa",
          "size": [
           12.485183976084812
          ],
          "sizemode": "area",
          "sizeref": 0.025361307840186014,
          "symbol": "circle"
         },
         "mode": "markers",
         "name": "Uganda",
         "showlegend": true,
         "type": "scatter",
         "x": [
          647.7
         ],
         "xaxis": "x",
         "y": [
          12.485183976084812
         ],
         "yaxis": "y"
        },
        {
         "hovertemplate": "<b>%{hovertext}</b><br><br>Country=Ukraine<br>GDP per capita (current US$)=%{x}<br>Average Internet usage over the years=%{marker.size}<extra></extra>",
         "hovertext": [
          "Ukraine"
         ],
         "legendgroup": "Ukraine",
         "marker": {
          "color": "#EF553B",
          "size": [
           30.882585327477113
          ],
          "sizemode": "area",
          "sizeref": 0.025361307840186014,
          "symbol": "circle"
         },
         "mode": "markers",
         "name": "Ukraine",
         "showlegend": true,
         "type": "scatter",
         "x": [
          2021.6
         ],
         "xaxis": "x",
         "y": [
          30.882585327477113
         ],
         "yaxis": "y"
        },
        {
         "hovertemplate": "<b>%{hovertext}</b><br><br>Country=United States<br>GDP per capita (current US$)=%{x}<br>Average Internet usage over the years=%{marker.size}<extra></extra>",
         "hovertext": [
          null
         ],
         "legendgroup": "United States",
         "marker": {
          "color": "#00cc96",
          "size": [
           65.35740117036715
          ],
          "sizemode": "area",
          "sizeref": 0.025361307840186014,
          "symbol": "circle"
         },
         "mode": "markers",
         "name": "United States",
         "showlegend": true,
         "type": "scatter",
         "x": [
          null
         ],
         "xaxis": "x",
         "y": [
          65.35740117036715
         ],
         "yaxis": "y"
        },
        {
         "hovertemplate": "<b>%{hovertext}</b><br><br>Country=Uruguay<br>GDP per capita (current US$)=%{x}<br>Average Internet usage over the years=%{marker.size}<extra></extra>",
         "hovertext": [
          "Uruguay"
         ],
         "legendgroup": "Uruguay",
         "marker": {
          "color": "#ab63fa",
          "size": [
           45.571466063440965
          ],
          "sizemode": "area",
          "sizeref": 0.025361307840186014,
          "symbol": "circle"
         },
         "mode": "markers",
         "name": "Uruguay",
         "showlegend": true,
         "type": "scatter",
         "x": [
          15573.8
         ],
         "xaxis": "x",
         "y": [
          45.571466063440965
         ],
         "yaxis": "y"
        },
        {
         "hovertemplate": "<b>%{hovertext}</b><br><br>Country=Uzbekistan<br>GDP per capita (current US$)=%{x}<br>Average Internet usage over the years=%{marker.size}<extra></extra>",
         "hovertext": [
          "Uzbekistan"
         ],
         "legendgroup": "Uzbekistan",
         "marker": {
          "color": "#FFA15A",
          "size": [
           24.193113175099334
          ],
          "sizemode": "area",
          "sizeref": 0.025361307840186014,
          "symbol": "circle"
         },
         "mode": "markers",
         "name": "Uzbekistan",
         "showlegend": true,
         "type": "scatter",
         "x": [
          2308.3
         ],
         "xaxis": "x",
         "y": [
          24.193113175099334
         ],
         "yaxis": "y"
        },
        {
         "hovertemplate": "<b>%{hovertext}</b><br><br>Country=Zimbabwe<br>GDP per capita (current US$)=%{x}<br>Average Internet usage over the years=%{marker.size}<extra></extra>",
         "hovertext": [
          "Zimbabwe"
         ],
         "legendgroup": "Zimbabwe",
         "marker": {
          "color": "#19d3f3",
          "size": [
           12.216769847489571
          ],
          "sizemode": "area",
          "sizeref": 0.025361307840186014,
          "symbol": "circle"
         },
         "mode": "markers",
         "name": "Zimbabwe",
         "showlegend": true,
         "type": "scatter",
         "x": [
          890.4
         ],
         "xaxis": "x",
         "y": [
          12.216769847489571
         ],
         "yaxis": "y"
        },
        {
         "hovertemplate": "<b>%{hovertext}</b><br><br>Country=Andorra<br>GDP per capita (current US$)=%{x}<br>Average Internet usage over the years=%{marker.size}<extra></extra>",
         "hovertext": [
          "Andorra"
         ],
         "legendgroup": "Andorra",
         "marker": {
          "color": "#FF6692",
          "size": [
           70.26246641752975
          ],
          "sizemode": "area",
          "sizeref": 0.025361307840186014,
          "symbol": "circle"
         },
         "mode": "markers",
         "name": "Andorra",
         "showlegend": true,
         "type": "scatter",
         "x": [
          39896.4
         ],
         "xaxis": "x",
         "y": [
          70.26246641752975
         ],
         "yaxis": "y"
        },
        {
         "hovertemplate": "<b>%{hovertext}</b><br><br>Country=Angola<br>GDP per capita (current US$)=%{x}<br>Average Internet usage over the years=%{marker.size}<extra></extra>",
         "hovertext": [
          "Angola"
         ],
         "legendgroup": "Angola",
         "marker": {
          "color": "#B6E880",
          "size": [
           6.589771977581924
          ],
          "sizemode": "area",
          "sizeref": 0.025361307840186014,
          "symbol": "circle"
         },
         "mode": "markers",
         "name": "Angola",
         "showlegend": true,
         "type": "scatter",
         "x": [
          4714.1
         ],
         "xaxis": "x",
         "y": [
          6.589771977581924
         ],
         "yaxis": "y"
        },
        {
         "hovertemplate": "<b>%{hovertext}</b><br><br>Country=Argentina<br>GDP per capita (current US$)=%{x}<br>Average Internet usage over the years=%{marker.size}<extra></extra>",
         "hovertext": [
          "Argentina"
         ],
         "legendgroup": "Argentina",
         "marker": {
          "color": "#FF97FF",
          "size": [
           46.76965620496696
          ],
          "sizemode": "area",
          "sizeref": 0.025361307840186014,
          "symbol": "circle"
         },
         "mode": "markers",
         "name": "Argentina",
         "showlegend": true,
         "type": "scatter",
         "x": [
          14564.5
         ],
         "xaxis": "x",
         "y": [
          46.76965620496696
         ],
         "yaxis": "y"
        },
        {
         "hovertemplate": "<b>%{hovertext}</b><br><br>Country=Armenia<br>GDP per capita (current US$)=%{x}<br>Average Internet usage over the years=%{marker.size}<extra></extra>",
         "hovertext": [
          "Armenia"
         ],
         "legendgroup": "Armenia",
         "marker": {
          "color": "#FECB52",
          "size": [
           35.06995918569305
          ],
          "sizemode": "area",
          "sizeref": 0.025361307840186014,
          "symbol": "circle"
         },
         "mode": "markers",
         "name": "Armenia",
         "showlegend": true,
         "type": "scatter",
         "x": [
          3489.1
         ],
         "xaxis": "x",
         "y": [
          35.06995918569305
         ],
         "yaxis": "y"
        },
        {
         "hovertemplate": "<b>%{hovertext}</b><br><br>Country=Bahamas<br>GDP per capita (current US$)=%{x}<br>Average Internet usage over the years=%{marker.size}<extra></extra>",
         "hovertext": [
          "Bahamas"
         ],
         "legendgroup": "Bahamas",
         "marker": {
          "color": "#636efa",
          "size": [
           54.96983661951785
          ],
          "sizemode": "area",
          "sizeref": 0.025361307840186014,
          "symbol": "circle"
         },
         "mode": "markers",
         "name": "Bahamas",
         "showlegend": true,
         "type": "scatter",
         "x": [
          22817.2
         ],
         "xaxis": "x",
         "y": [
          54.96983661951785
         ],
         "yaxis": "y"
        },
        {
         "hovertemplate": "<b>%{hovertext}</b><br><br>Country=Barbados<br>GDP per capita (current US$)=%{x}<br>Average Internet usage over the years=%{marker.size}<extra></extra>",
         "hovertext": [
          "Barbados"
         ],
         "legendgroup": "Barbados",
         "marker": {
          "color": "#EF553B",
          "size": [
           58.513986785141874
          ],
          "sizemode": "area",
          "sizeref": 0.025361307840186014,
          "symbol": "circle"
         },
         "mode": "markers",
         "name": "Barbados",
         "showlegend": true,
         "type": "scatter",
         "x": [
          15429.4
         ],
         "xaxis": "x",
         "y": [
          58.513986785141874
         ],
         "yaxis": "y"
        },
        {
         "hovertemplate": "<b>%{hovertext}</b><br><br>Country=Bhutan<br>GDP per capita (current US$)=%{x}<br>Average Internet usage over the years=%{marker.size}<extra></extra>",
         "hovertext": [
          "Bhutan"
         ],
         "legendgroup": "Bhutan",
         "marker": {
          "color": "#00cc96",
          "size": [
           20.929737418313223
          ],
          "sizemode": "area",
          "sizeref": 0.025361307840186014,
          "symbol": "circle"
         },
         "mode": "markers",
         "name": "Bhutan",
         "showlegend": true,
         "type": "scatter",
         "x": [
          2677.1
         ],
         "xaxis": "x",
         "y": [
          20.929737418313223
         ],
         "yaxis": "y"
        },
        {
         "hovertemplate": "<b>%{hovertext}</b><br><br>Country=Bolivia (Plurinational State of)<br>GDP per capita (current US$)=%{x}<br>Average Internet usage over the years=%{marker.size}<extra></extra>",
         "hovertext": [
          "Bolivia (Plurinational State of)"
         ],
         "legendgroup": "Bolivia (Plurinational State of)",
         "marker": {
          "color": "#ab63fa",
          "size": [
           25.917491714741633
          ],
          "sizemode": "area",
          "sizeref": 0.025361307840186014,
          "symbol": "circle"
         },
         "mode": "markers",
         "name": "Bolivia (Plurinational State of)",
         "showlegend": true,
         "type": "scatter",
         "x": [
          3076.8
         ],
         "xaxis": "x",
         "y": [
          25.917491714741633
         ],
         "yaxis": "y"
        },
        {
         "hovertemplate": "<b>%{hovertext}</b><br><br>Country=Cameroon<br>GDP per capita (current US$)=%{x}<br>Average Internet usage over the years=%{marker.size}<extra></extra>",
         "hovertext": [
          "Cameroon"
         ],
         "legendgroup": "Cameroon",
         "marker": {
          "color": "#FFA15A",
          "size": [
           10.15961255770332
          ],
          "sizemode": "area",
          "sizeref": 0.025361307840186014,
          "symbol": "circle"
         },
         "mode": "markers",
         "name": "Cameroon",
         "showlegend": true,
         "type": "scatter",
         "x": [
          1217.3
         ],
         "xaxis": "x",
         "y": [
          10.15961255770332
         ],
         "yaxis": "y"
        },
        {
         "hovertemplate": "<b>%{hovertext}</b><br><br>Country=Central African Rep.<br>GDP per capita (current US$)=%{x}<br>Average Internet usage over the years=%{marker.size}<extra></extra>",
         "hovertext": [
          null
         ],
         "legendgroup": "Central African Rep.",
         "marker": {
          "color": "#19d3f3",
          "size": [
           2.4237131570938484
          ],
          "sizemode": "area",
          "sizeref": 0.025361307840186014,
          "symbol": "circle"
         },
         "mode": "markers",
         "name": "Central African Rep.",
         "showlegend": true,
         "type": "scatter",
         "x": [
          null
         ],
         "xaxis": "x",
         "y": [
          2.4237131570938484
         ],
         "yaxis": "y"
        },
        {
         "hovertemplate": "<b>%{hovertext}</b><br><br>Country=Chad<br>GDP per capita (current US$)=%{x}<br>Average Internet usage over the years=%{marker.size}<extra></extra>",
         "hovertext": [
          "Chad"
         ],
         "legendgroup": "Chad",
         "marker": {
          "color": "#FF6692",
          "size": [
           2.412269354176281
          ],
          "sizemode": "area",
          "sizeref": 0.025361307840186014,
          "symbol": "circle"
         },
         "mode": "markers",
         "name": "Chad",
         "showlegend": true,
         "type": "scatter",
         "x": [
          713
         ],
         "xaxis": "x",
         "y": [
          2.412269354176281
         ],
         "yaxis": "y"
        },
        {
         "hovertemplate": "<b>%{hovertext}</b><br><br>Country=Chile<br>GDP per capita (current US$)=%{x}<br>Average Internet usage over the years=%{marker.size}<extra></extra>",
         "hovertext": [
          "Chile"
         ],
         "legendgroup": "Chile",
         "marker": {
          "color": "#B6E880",
          "size": [
           51.063729751649355
          ],
          "sizemode": "area",
          "sizeref": 0.025361307840186014,
          "symbol": "circle"
         },
         "mode": "markers",
         "name": "Chile",
         "showlegend": true,
         "type": "scatter",
         "x": [
          13416.2
         ],
         "xaxis": "x",
         "y": [
          51.063729751649355
         ],
         "yaxis": "y"
        },
        {
         "hovertemplate": "<b>%{hovertext}</b><br><br>Country=Comoros<br>GDP per capita (current US$)=%{x}<br>Average Internet usage over the years=%{marker.size}<extra></extra>",
         "hovertext": [
          "Comoros"
         ],
         "legendgroup": "Comoros",
         "marker": {
          "color": "#FF97FF",
          "size": [
           5.109335578871608
          ],
          "sizemode": "area",
          "sizeref": 0.025361307840186014,
          "symbol": "circle"
         },
         "mode": "markers",
         "name": "Comoros",
         "showlegend": true,
         "type": "scatter",
         "x": [
          1368.9
         ],
         "xaxis": "x",
         "y": [
          5.109335578871608
         ],
         "yaxis": "y"
        },
        {
         "hovertemplate": "<b>%{hovertext}</b><br><br>Country=Congo (Dem. Rep.)<br>GDP per capita (current US$)=%{x}<br>Average Internet usage over the years=%{marker.size}<extra></extra>",
         "hovertext": [
          null
         ],
         "legendgroup": "Congo (Dem. Rep.)",
         "marker": {
          "color": "#FECB52",
          "size": [
           2.5157981282078383
          ],
          "sizemode": "area",
          "sizeref": 0.025361307840186014,
          "symbol": "circle"
         },
         "mode": "markers",
         "name": "Congo (Dem. Rep.)",
         "showlegend": true,
         "type": "scatter",
         "x": [
          null
         ],
         "xaxis": "x",
         "y": [
          2.5157981282078383
         ],
         "yaxis": "y"
        },
        {
         "hovertemplate": "<b>%{hovertext}</b><br><br>Country=Djibouti<br>GDP per capita (current US$)=%{x}<br>Average Internet usage over the years=%{marker.size}<extra></extra>",
         "hovertext": [
          "Djibouti"
         ],
         "legendgroup": "Djibouti",
         "marker": {
          "color": "#636efa",
          "size": [
           11.26037278742234
          ],
          "sizemode": "area",
          "sizeref": 0.025361307840186014,
          "symbol": "circle"
         },
         "mode": "markers",
         "name": "Djibouti",
         "showlegend": true,
         "type": "scatter",
         "x": [
          1956.3
         ],
         "xaxis": "x",
         "y": [
          11.26037278742234
         ],
         "yaxis": "y"
        },
        {
         "hovertemplate": "<b>%{hovertext}</b><br><br>Country=El Salvador<br>GDP per capita (current US$)=%{x}<br>Average Internet usage over the years=%{marker.size}<extra></extra>",
         "hovertext": [
          "El Salvador"
         ],
         "legendgroup": "El Salvador",
         "marker": {
          "color": "#EF553B",
          "size": [
           17.999109458627796
          ],
          "sizemode": "area",
          "sizeref": 0.025361307840186014,
          "symbol": "circle"
         },
         "mode": "markers",
         "name": "El Salvador",
         "showlegend": true,
         "type": "scatter",
         "x": [
          4219.4
         ],
         "xaxis": "x",
         "y": [
          17.999109458627796
         ],
         "yaxis": "y"
        },
        {
         "hovertemplate": "<b>%{hovertext}</b><br><br>Country=Ethiopia<br>GDP per capita (current US$)=%{x}<br>Average Internet usage over the years=%{marker.size}<extra></extra>",
         "hovertext": [
          "Ethiopia"
         ],
         "legendgroup": "Ethiopia",
         "marker": {
          "color": "#00cc96",
          "size": [
           5.920461314053615
          ],
          "sizemode": "area",
          "sizeref": 0.025361307840186014,
          "symbol": "circle"
         },
         "mode": "markers",
         "name": "Ethiopia",
         "showlegend": true,
         "type": "scatter",
         "x": [
          602.8
         ],
         "xaxis": "x",
         "y": [
          5.920461314053615
         ],
         "yaxis": "y"
        },
        {
         "hovertemplate": "<b>%{hovertext}</b><br><br>Country=Falkland (Malvinas) Is.<br>GDP per capita (current US$)=%{x}<br>Average Internet usage over the years=%{marker.size}<extra></extra>",
         "hovertext": [
          null
         ],
         "legendgroup": "Falkland (Malvinas) Is.",
         "marker": {
          "color": "#ab63fa",
          "size": [
           74.87176110346658
          ],
          "sizemode": "area",
          "sizeref": 0.025361307840186014,
          "symbol": "circle"
         },
         "mode": "markers",
         "name": "Falkland (Malvinas) Is.",
         "showlegend": true,
         "type": "scatter",
         "x": [
          null
         ],
         "xaxis": "x",
         "y": [
          74.87176110346658
         ],
         "yaxis": "y"
        },
        {
         "hovertemplate": "<b>%{hovertext}</b><br><br>Country=Gambia<br>GDP per capita (current US$)=%{x}<br>Average Internet usage over the years=%{marker.size}<extra></extra>",
         "hovertext": [
          "Gambia"
         ],
         "legendgroup": "Gambia",
         "marker": {
          "color": "#FFA15A",
          "size": [
           11.057889020067101
          ],
          "sizemode": "area",
          "sizeref": 0.025361307840186014,
          "symbol": "circle"
         },
         "mode": "markers",
         "name": "Gambia",
         "showlegend": true,
         "type": "scatter",
         "x": [
          473.2
         ],
         "xaxis": "x",
         "y": [
          11.057889020067101
         ],
         "yaxis": "y"
        },
        {
         "hovertemplate": "<b>%{hovertext}</b><br><br>Country=Grenada<br>GDP per capita (current US$)=%{x}<br>Average Internet usage over the years=%{marker.size}<extra></extra>",
         "hovertext": [
          "Grenada"
         ],
         "legendgroup": "Grenada",
         "marker": {
          "color": "#19d3f3",
          "size": [
           33.53544145955431
          ],
          "sizemode": "area",
          "sizeref": 0.025361307840186014,
          "symbol": "circle"
         },
         "mode": "markers",
         "name": "Grenada",
         "showlegend": true,
         "type": "scatter",
         "x": [
          8933.8
         ],
         "xaxis": "x",
         "y": [
          33.53544145955431
         ],
         "yaxis": "y"
        },
        {
         "hovertemplate": "<b>%{hovertext}</b><br><br>Country=Guatemala<br>GDP per capita (current US$)=%{x}<br>Average Internet usage over the years=%{marker.size}<extra></extra>",
         "hovertext": [
          "Guatemala"
         ],
         "legendgroup": "Guatemala",
         "marker": {
          "color": "#FF6692",
          "size": [
           19.693418231947412
          ],
          "sizemode": "area",
          "sizeref": 0.025361307840186014,
          "symbol": "circle"
         },
         "mode": "markers",
         "name": "Guatemala",
         "showlegend": true,
         "type": "scatter",
         "x": [
          3903.5
         ],
         "xaxis": "x",
         "y": [
          19.693418231947412
         ],
         "yaxis": "y"
        },
        {
         "hovertemplate": "<b>%{hovertext}</b><br><br>Country=Guinea<br>GDP per capita (current US$)=%{x}<br>Average Internet usage over the years=%{marker.size}<extra></extra>",
         "hovertext": [
          "Guinea"
         ],
         "legendgroup": "Guinea",
         "marker": {
          "color": "#B6E880",
          "size": [
           4.8761526458730025
          ],
          "sizemode": "area",
          "sizeref": 0.025361307840186014,
          "symbol": "circle"
         },
         "mode": "markers",
         "name": "Guinea",
         "showlegend": true,
         "type": "scatter",
         "x": [
          703.9
         ],
         "xaxis": "x",
         "y": [
          4.8761526458730025
         ],
         "yaxis": "y"
        },
        {
         "hovertemplate": "<b>%{hovertext}</b><br><br>Country=Honduras<br>GDP per capita (current US$)=%{x}<br>Average Internet usage over the years=%{marker.size}<extra></extra>",
         "hovertext": [
          "Honduras"
         ],
         "legendgroup": "Honduras",
         "marker": {
          "color": "#FF97FF",
          "size": [
           16.18125963626534
          ],
          "sizemode": "area",
          "sizeref": 0.025361307840186014,
          "symbol": "circle"
         },
         "mode": "markers",
         "name": "Honduras",
         "showlegend": true,
         "type": "scatter",
         "x": [
          2521.9
         ],
         "xaxis": "x",
         "y": [
          16.18125963626534
         ],
         "yaxis": "y"
        },
        {
         "hovertemplate": "<b>%{hovertext}</b><br><br>Country=Hong Kong, China<br>GDP per capita (current US$)=%{x}<br>Average Internet usage over the years=%{marker.size}<extra></extra>",
         "hovertext": [
          null
         ],
         "legendgroup": "Hong Kong, China",
         "marker": {
          "color": "#FECB52",
          "size": [
           65.2488857632337
          ],
          "sizemode": "area",
          "sizeref": 0.025361307840186014,
          "symbol": "circle"
         },
         "mode": "markers",
         "name": "Hong Kong, China",
         "showlegend": true,
         "type": "scatter",
         "x": [
          null
         ],
         "xaxis": "x",
         "y": [
          65.2488857632337
         ],
         "yaxis": "y"
        },
        {
         "hovertemplate": "<b>%{hovertext}</b><br><br>Country=Iraq<br>GDP per capita (current US$)=%{x}<br>Average Internet usage over the years=%{marker.size}<extra></extra>",
         "hovertext": [
          "Iraq"
         ],
         "legendgroup": "Iraq",
         "marker": {
          "color": "#636efa",
          "size": [
           15.136363535454548
          ],
          "sizemode": "area",
          "sizeref": 0.025361307840186014,
          "symbol": "circle"
         },
         "mode": "markers",
         "name": "Iraq",
         "showlegend": true,
         "type": "scatter",
         "x": [
          4509
         ],
         "xaxis": "x",
         "y": [
          15.136363535454548
         ],
         "yaxis": "y"
        },
        {
         "hovertemplate": "<b>%{hovertext}</b><br><br>Country=Jamaica<br>GDP per capita (current US$)=%{x}<br>Average Internet usage over the years=%{marker.size}<extra></extra>",
         "hovertext": [
          "Jamaica"
         ],
         "legendgroup": "Jamaica",
         "marker": {
          "color": "#EF553B",
          "size": [
           30.361570105303098
          ],
          "sizemode": "area",
          "sizeref": 0.025361307840186014,
          "symbol": "circle"
         },
         "mode": "markers",
         "name": "Jamaica",
         "showlegend": true,
         "type": "scatter",
         "x": [
          5105.8
         ],
         "xaxis": "x",
         "y": [
          30.361570105303098
         ],
         "yaxis": "y"
        },
        {
         "hovertemplate": "<b>%{hovertext}</b><br><br>Country=Japan<br>GDP per capita (current US$)=%{x}<br>Average Internet usage over the years=%{marker.size}<extra></extra>",
         "hovertext": [
          "Japan"
         ],
         "legendgroup": "Japan",
         "marker": {
          "color": "#00cc96",
          "size": [
           70.89339976529835
          ],
          "sizemode": "area",
          "sizeref": 0.025361307840186014,
          "symbol": "circle"
         },
         "mode": "markers",
         "name": "Japan",
         "showlegend": true,
         "type": "scatter",
         "x": [
          34628.7
         ],
         "xaxis": "x",
         "y": [
          70.89339976529835
         ],
         "yaxis": "y"
        },
        {
         "hovertemplate": "<b>%{hovertext}</b><br><br>Country=Kenya<br>GDP per capita (current US$)=%{x}<br>Average Internet usage over the years=%{marker.size}<extra></extra>",
         "hovertext": [
          "Kenya"
         ],
         "legendgroup": "Kenya",
         "marker": {
          "color": "#ab63fa",
          "size": [
           10.039537497505517
          ],
          "sizemode": "area",
          "sizeref": 0.025361307840186014,
          "symbol": "circle"
         },
         "mode": "markers",
         "name": "Kenya",
         "showlegend": true,
         "type": "scatter",
         "x": [
          1376.7
         ],
         "xaxis": "x",
         "y": [
          10.039537497505517
         ],
         "yaxis": "y"
        },
        {
         "hovertemplate": "<b>%{hovertext}</b><br><br>Country=Kyrgyzstan<br>GDP per capita (current US$)=%{x}<br>Average Internet usage over the years=%{marker.size}<extra></extra>",
         "hovertext": [
          "Kyrgyzstan"
         ],
         "legendgroup": "Kyrgyzstan",
         "marker": {
          "color": "#FFA15A",
          "size": [
           20.15656775095957
          ],
          "sizemode": "area",
          "sizeref": 0.025361307840186014,
          "symbol": "circle"
         },
         "mode": "markers",
         "name": "Kyrgyzstan",
         "showlegend": true,
         "type": "scatter",
         "x": [
          1106.4
         ],
         "xaxis": "x",
         "y": [
          20.15656775095957
         ],
         "yaxis": "y"
        },
        {
         "hovertemplate": "<b>%{hovertext}</b><br><br>Country=Lao P.D.R.<br>GDP per capita (current US$)=%{x}<br>Average Internet usage over the years=%{marker.size}<extra></extra>",
         "hovertext": [
          null
         ],
         "legendgroup": "Lao P.D.R.",
         "marker": {
          "color": "#19d3f3",
          "size": [
           10.913592072182132
          ],
          "sizemode": "area",
          "sizeref": 0.025361307840186014,
          "symbol": "circle"
         },
         "mode": "markers",
         "name": "Lao P.D.R.",
         "showlegend": true,
         "type": "scatter",
         "x": [
          null
         ],
         "xaxis": "x",
         "y": [
          10.913592072182132
         ],
         "yaxis": "y"
        },
        {
         "hovertemplate": "<b>%{hovertext}</b><br><br>Country=Liberia<br>GDP per capita (current US$)=%{x}<br>Average Internet usage over the years=%{marker.size}<extra></extra>",
         "hovertext": [
          "Liberia"
         ],
         "legendgroup": "Liberia",
         "marker": {
          "color": "#FF6692",
          "size": [
           5.84829898533049
          ],
          "sizemode": "area",
          "sizeref": 0.025361307840186014,
          "symbol": "circle"
         },
         "mode": "markers",
         "name": "Liberia",
         "showlegend": true,
         "type": "scatter",
         "x": [
          455.9
         ],
         "xaxis": "x",
         "y": [
          5.84829898533049
         ],
         "yaxis": "y"
        },
        {
         "hovertemplate": "<b>%{hovertext}</b><br><br>Country=Libya<br>GDP per capita (current US$)=%{x}<br>Average Internet usage over the years=%{marker.size}<extra></extra>",
         "hovertext": [
          "Libya"
         ],
         "legendgroup": "Libya",
         "marker": {
          "color": "#B6E880",
          "size": [
           11.582908232692784
          ],
          "sizemode": "area",
          "sizeref": 0.025361307840186014,
          "symbol": "circle"
         },
         "mode": "markers",
         "name": "Libya",
         "showlegend": true,
         "type": "scatter",
         "x": [
          5488.2
         ],
         "xaxis": "x",
         "y": [
          11.582908232692784
         ],
         "yaxis": "y"
        },
        {
         "hovertemplate": "<b>%{hovertext}</b><br><br>Country=Liechtenstein<br>GDP per capita (current US$)=%{x}<br>Average Internet usage over the years=%{marker.size}<extra></extra>",
         "hovertext": [
          "Liechtenstein"
         ],
         "legendgroup": "Liechtenstein",
         "marker": {
          "color": "#FF97FF",
          "size": [
           76.01267136626718
          ],
          "sizemode": "area",
          "sizeref": 0.025361307840186014,
          "symbol": "circle"
         },
         "mode": "markers",
         "name": "Liechtenstein",
         "showlegend": true,
         "type": "scatter",
         "x": [
          169491.8
         ],
         "xaxis": "x",
         "y": [
          76.01267136626718
         ],
         "yaxis": "y"
        },
        {
         "hovertemplate": "<b>%{hovertext}</b><br><br>Country=Madagascar<br>GDP per capita (current US$)=%{x}<br>Average Internet usage over the years=%{marker.size}<extra></extra>",
         "hovertext": [
          "Madagascar"
         ],
         "legendgroup": "Madagascar",
         "marker": {
          "color": "#FECB52",
          "size": [
           2.913795598431704
          ],
          "sizemode": "area",
          "sizeref": 0.025361307840186014,
          "symbol": "circle"
         },
         "mode": "markers",
         "name": "Madagascar",
         "showlegend": true,
         "type": "scatter",
         "x": [
          401.8
         ],
         "xaxis": "x",
         "y": [
          2.913795598431704
         ],
         "yaxis": "y"
        },
        {
         "hovertemplate": "<b>%{hovertext}</b><br><br>Country=Malawi<br>GDP per capita (current US$)=%{x}<br>Average Internet usage over the years=%{marker.size}<extra></extra>",
         "hovertext": [
          "Malawi"
         ],
         "legendgroup": "Malawi",
         "marker": {
          "color": "#636efa",
          "size": [
           4.716730424620625
          ],
          "sizemode": "area",
          "sizeref": 0.025361307840186014,
          "symbol": "circle"
         },
         "mode": "markers",
         "name": "Malawi",
         "showlegend": true,
         "type": "scatter",
         "x": [
          372.9
         ],
         "xaxis": "x",
         "y": [
          4.716730424620625
         ],
         "yaxis": "y"
        },
        {
         "hovertemplate": "<b>%{hovertext}</b><br><br>Country=Mali<br>GDP per capita (current US$)=%{x}<br>Average Internet usage over the years=%{marker.size}<extra></extra>",
         "hovertext": [
          "Mali"
         ],
         "legendgroup": "Mali",
         "marker": {
          "color": "#EF553B",
          "size": [
           4.781072307278212
          ],
          "sizemode": "area",
          "sizeref": 0.025361307840186014,
          "symbol": "circle"
         },
         "mode": "markers",
         "name": "Mali",
         "showlegend": true,
         "type": "scatter",
         "x": [
          744.3
         ],
         "xaxis": "x",
         "y": [
          4.781072307278212
         ],
         "yaxis": "y"
        },
        {
         "hovertemplate": "<b>%{hovertext}</b><br><br>Country=Marshall Islands<br>GDP per capita (current US$)=%{x}<br>Average Internet usage over the years=%{marker.size}<extra></extra>",
         "hovertext": [
          "Marshall Islands"
         ],
         "legendgroup": "Marshall Islands",
         "marker": {
          "color": "#00cc96",
          "size": [
           13.953123452721828
          ],
          "sizemode": "area",
          "sizeref": 0.025361307840186014,
          "symbol": "circle"
         },
         "mode": "markers",
         "name": "Marshall Islands",
         "showlegend": true,
         "type": "scatter",
         "x": [
          3452.6
         ],
         "xaxis": "x",
         "y": [
          13.953123452721828
         ],
         "yaxis": "y"
        },
        {
         "hovertemplate": "<b>%{hovertext}</b><br><br>Country=Monaco<br>GDP per capita (current US$)=%{x}<br>Average Internet usage over the years=%{marker.size}<extra></extra>",
         "hovertext": [
          "Monaco"
         ],
         "legendgroup": "Monaco",
         "marker": {
          "color": "#ab63fa",
          "size": [
           73.51583148429559
          ],
          "sizemode": "area",
          "sizeref": 0.025361307840186014,
          "symbol": "circle"
         },
         "mode": "markers",
         "name": "Monaco",
         "showlegend": true,
         "type": "scatter",
         "x": [
          165870.6
         ],
         "xaxis": "x",
         "y": [
          73.51583148429559
         ],
         "yaxis": "y"
        },
        {
         "hovertemplate": "<b>%{hovertext}</b><br><br>Country=Mongolia<br>GDP per capita (current US$)=%{x}<br>Average Internet usage over the years=%{marker.size}<extra></extra>",
         "hovertext": [
          "Mongolia"
         ],
         "legendgroup": "Mongolia",
         "marker": {
          "color": "#FFA15A",
          "size": [
           13.316192235586493
          ],
          "sizemode": "area",
          "sizeref": 0.025361307840186014,
          "symbol": "circle"
         },
         "mode": "markers",
         "name": "Mongolia",
         "showlegend": true,
         "type": "scatter",
         "x": [
          3973.4
         ],
         "xaxis": "x",
         "y": [
          13.316192235586493
         ],
         "yaxis": "y"
        },
        {
         "hovertemplate": "<b>%{hovertext}</b><br><br>Country=Mozambique<br>GDP per capita (current US$)=%{x}<br>Average Internet usage over the years=%{marker.size}<extra></extra>",
         "hovertext": [
          "Mozambique"
         ],
         "legendgroup": "Mozambique",
         "marker": {
          "color": "#19d3f3",
          "size": [
           6.947179450090141
          ],
          "sizemode": "area",
          "sizeref": 0.025361307840186014,
          "symbol": "circle"
         },
         "mode": "markers",
         "name": "Mozambique",
         "showlegend": true,
         "type": "scatter",
         "x": [
          529.2
         ],
         "xaxis": "x",
         "y": [
          6.947179450090141
         ],
         "yaxis": "y"
        },
        {
         "hovertemplate": "<b>%{hovertext}</b><br><br>Country=Myanmar<br>GDP per capita (current US$)=%{x}<br>Average Internet usage over the years=%{marker.size}<extra></extra>",
         "hovertext": [
          "Myanmar"
         ],
         "legendgroup": "Myanmar",
         "marker": {
          "color": "#FF6692",
          "size": [
           9.299323656250941
          ],
          "sizemode": "area",
          "sizeref": 0.025361307840186014,
          "symbol": "circle"
         },
         "mode": "markers",
         "name": "Myanmar",
         "showlegend": true,
         "type": "scatter",
         "x": [
          1161.5
         ],
         "xaxis": "x",
         "y": [
          9.299323656250941
         ],
         "yaxis": "y"
        },
        {
         "hovertemplate": "<b>%{hovertext}</b><br><br>Country=Namibia<br>GDP per capita (current US$)=%{x}<br>Average Internet usage over the years=%{marker.size}<extra></extra>",
         "hovertext": [
          "Namibia"
         ],
         "legendgroup": "Namibia",
         "marker": {
          "color": "#B6E880",
          "size": [
           16.241580359094375
          ],
          "sizemode": "area",
          "sizeref": 0.025361307840186014,
          "symbol": "circle"
         },
         "mode": "markers",
         "name": "Namibia",
         "showlegend": true,
         "type": "scatter",
         "x": [
          4673.6
         ],
         "xaxis": "x",
         "y": [
          16.241580359094375
         ],
         "yaxis": "y"
        },
        {
         "hovertemplate": "<b>%{hovertext}</b><br><br>Country=Nigeria<br>GDP per capita (current US$)=%{x}<br>Average Internet usage over the years=%{marker.size}<extra></extra>",
         "hovertext": [
          "Nigeria"
         ],
         "legendgroup": "Nigeria",
         "marker": {
          "color": "#FF97FF",
          "size": [
           17.162112411446756
          ],
          "sizemode": "area",
          "sizeref": 0.025361307840186014,
          "symbol": "circle"
         },
         "mode": "markers",
         "name": "Nigeria",
         "showlegend": true,
         "type": "scatter",
         "x": [
          2714.5
         ],
         "xaxis": "x",
         "y": [
          17.162112411446756
         ],
         "yaxis": "y"
        },
        {
         "hovertemplate": "<b>%{hovertext}</b><br><br>Country=Puerto Rico<br>GDP per capita (current US$)=%{x}<br>Average Internet usage over the years=%{marker.size}<extra></extra>",
         "hovertext": [
          "Puerto Rico"
         ],
         "legendgroup": "Puerto Rico",
         "marker": {
          "color": "#FECB52",
          "size": [
           42.53512291391031
          ],
          "sizemode": "area",
          "sizeref": 0.025361307840186014,
          "symbol": "circle"
         },
         "mode": "markers",
         "name": "Puerto Rico",
         "showlegend": true,
         "type": "scatter",
         "x": [
          27939
         ],
         "xaxis": "x",
         "y": [
          42.53512291391031
         ],
         "yaxis": "y"
        },
        {
         "hovertemplate": "<b>%{hovertext}</b><br><br>Country=Rwanda<br>GDP per capita (current US$)=%{x}<br>Average Internet usage over the years=%{marker.size}<extra></extra>",
         "hovertext": [
          "Rwanda"
         ],
         "legendgroup": "Rwanda",
         "marker": {
          "color": "#636efa",
          "size": [
           9.364578138425099
          ],
          "sizemode": "area",
          "sizeref": 0.025361307840186014,
          "symbol": "circle"
         },
         "mode": "markers",
         "name": "Rwanda",
         "showlegend": true,
         "type": "scatter",
         "x": [
          697.3
         ],
         "xaxis": "x",
         "y": [
          9.364578138425099
         ],
         "yaxis": "y"
        },
        {
         "hovertemplate": "<b>%{hovertext}</b><br><br>Country=Saint Kitts and Nevis<br>GDP per capita (current US$)=%{x}<br>Average Internet usage over the years=%{marker.size}<extra></extra>",
         "hovertext": [
          "Saint Kitts and Nevis"
         ],
         "legendgroup": "Saint Kitts and Nevis",
         "marker": {
          "color": "#EF553B",
          "size": [
           54.17187963239342
          ],
          "sizemode": "area",
          "sizeref": 0.025361307840186014,
          "symbol": "circle"
         },
         "mode": "markers",
         "name": "Saint Kitts and Nevis",
         "showlegend": true,
         "type": "scatter",
         "x": [
          15771.9
         ],
         "xaxis": "x",
         "y": [
          54.17187963239342
         ],
         "yaxis": "y"
        },
        {
         "hovertemplate": "<b>%{hovertext}</b><br><br>Country=Sao Tome and Principe<br>GDP per capita (current US$)=%{x}<br>Average Internet usage over the years=%{marker.size}<extra></extra>",
         "hovertext": [
          "Sao Tome and Principe"
         ],
         "legendgroup": "Sao Tome and Principe",
         "marker": {
          "color": "#00cc96",
          "size": [
           19.09480274855771
          ],
          "sizemode": "area",
          "sizeref": 0.025361307840186014,
          "symbol": "circle"
         },
         "mode": "markers",
         "name": "Sao Tome and Principe",
         "showlegend": true,
         "type": "scatter",
         "x": [
          1752.8
         ],
         "xaxis": "x",
         "y": [
          19.09480274855771
         ],
         "yaxis": "y"
        },
        {
         "hovertemplate": "<b>%{hovertext}</b><br><br>Country=Seychelles<br>GDP per capita (current US$)=%{x}<br>Average Internet usage over the years=%{marker.size}<extra></extra>",
         "hovertext": [
          "Seychelles"
         ],
         "legendgroup": "Seychelles",
         "marker": {
          "color": "#ab63fa",
          "size": [
           39.56797645718501
          ],
          "sizemode": "area",
          "sizeref": 0.025361307840186014,
          "symbol": "circle"
         },
         "mode": "markers",
         "name": "Seychelles",
         "showlegend": true,
         "type": "scatter",
         "x": [
          14133.2
         ],
         "xaxis": "x",
         "y": [
          39.56797645718501
         ],
         "yaxis": "y"
        },
        {
         "hovertemplate": "<b>%{hovertext}</b><br><br>Country=Sierra Leone<br>GDP per capita (current US$)=%{x}<br>Average Internet usage over the years=%{marker.size}<extra></extra>",
         "hovertext": [
          "Sierra Leone"
         ],
         "legendgroup": "Sierra Leone",
         "marker": {
          "color": "#FFA15A",
          "size": [
           3.7716864384565736
          ],
          "sizemode": "area",
          "sizeref": 0.025361307840186014,
          "symbol": "circle"
         },
         "mode": "markers",
         "name": "Sierra Leone",
         "showlegend": true,
         "type": "scatter",
         "x": [
          694.8
         ],
         "xaxis": "x",
         "y": [
          3.7716864384565736
         ],
         "yaxis": "y"
        },
        {
         "hovertemplate": "<b>%{hovertext}</b><br><br>Country=Solomon Islands<br>GDP per capita (current US$)=%{x}<br>Average Internet usage over the years=%{marker.size}<extra></extra>",
         "hovertext": [
          "Solomon Islands"
         ],
         "legendgroup": "Solomon Islands",
         "marker": {
          "color": "#19d3f3",
          "size": [
           6.295327335877698
          ],
          "sizemode": "area",
          "sizeref": 0.025361307840186014,
          "symbol": "circle"
         },
         "mode": "markers",
         "name": "Solomon Islands",
         "showlegend": true,
         "type": "scatter",
         "x": [
          1841.6
         ],
         "xaxis": "x",
         "y": [
          6.295327335877698
         ],
         "yaxis": "y"
        },
        {
         "hovertemplate": "<b>%{hovertext}</b><br><br>Country=Somalia<br>GDP per capita (current US$)=%{x}<br>Average Internet usage over the years=%{marker.size}<extra></extra>",
         "hovertext": [
          "Somalia"
         ],
         "legendgroup": "Somalia",
         "marker": {
          "color": "#FF6692",
          "size": [
           1.1361887761410836
          ],
          "sizemode": "area",
          "sizeref": 0.025361307840186014,
          "symbol": "circle"
         },
         "mode": "markers",
         "name": "Somalia",
         "showlegend": true,
         "type": "scatter",
         "x": [
          144.5
         ],
         "xaxis": "x",
         "y": [
          1.1361887761410836
         ],
         "yaxis": "y"
        },
        {
         "hovertemplate": "<b>%{hovertext}</b><br><br>Country=South Africa<br>GDP per capita (current US$)=%{x}<br>Average Internet usage over the years=%{marker.size}<extra></extra>",
         "hovertext": [
          "South Africa"
         ],
         "legendgroup": "South Africa",
         "marker": {
          "color": "#B6E880",
          "size": [
           33.5812374956409
          ],
          "sizemode": "area",
          "sizeref": 0.025361307840186014,
          "symbol": "circle"
         },
         "mode": "markers",
         "name": "South Africa",
         "showlegend": true,
         "type": "scatter",
         "x": [
          5773
         ],
         "xaxis": "x",
         "y": [
          33.5812374956409
         ],
         "yaxis": "y"
        },
        {
         "hovertemplate": "<b>%{hovertext}</b><br><br>Country=Sri Lanka<br>GDP per capita (current US$)=%{x}<br>Average Internet usage over the years=%{marker.size}<extra></extra>",
         "hovertext": [
          "Sri Lanka"
         ],
         "legendgroup": "Sri Lanka",
         "marker": {
          "color": "#FF97FF",
          "size": [
           14.367109518620794
          ],
          "sizemode": "area",
          "sizeref": 0.025361307840186014,
          "symbol": "circle"
         },
         "mode": "markers",
         "name": "Sri Lanka",
         "showlegend": true,
         "type": "scatter",
         "x": [
          3973.7
         ],
         "xaxis": "x",
         "y": [
          14.367109518620794
         ],
         "yaxis": "y"
        },
        {
         "hovertemplate": "<b>%{hovertext}</b><br><br>Country=Swaziland (Eswatini)<br>GDP per capita (current US$)=%{x}<br>Average Internet usage over the years=%{marker.size}<extra></extra>",
         "hovertext": [
          null
         ],
         "legendgroup": "Swaziland (Eswatini)",
         "marker": {
          "color": "#FECB52",
          "size": [
           18.78786420456823
          ],
          "sizemode": "area",
          "sizeref": 0.025361307840186014,
          "symbol": "circle"
         },
         "mode": "markers",
         "name": "Swaziland (Eswatini)",
         "showlegend": true,
         "type": "scatter",
         "x": [
          null
         ],
         "xaxis": "x",
         "y": [
          18.78786420456823
         ],
         "yaxis": "y"
        },
        {
         "hovertemplate": "<b>%{hovertext}</b><br><br>Country=Switzerland<br>GDP per capita (current US$)=%{x}<br>Average Internet usage over the years=%{marker.size}<extra></extra>",
         "hovertext": [
          "Switzerland"
         ],
         "legendgroup": "Switzerland",
         "marker": {
          "color": "#636efa",
          "size": [
           73.77571992621391
          ],
          "sizemode": "area",
          "sizeref": 0.025361307840186014,
          "symbol": "circle"
         },
         "mode": "markers",
         "name": "Switzerland",
         "showlegend": true,
         "type": "scatter",
         "x": [
          80831.1
         ],
         "xaxis": "x",
         "y": [
          73.77571992621391
         ],
         "yaxis": "y"
        },
        {
         "hovertemplate": "<b>%{hovertext}</b><br><br>Country=Tajikistan<br>GDP per capita (current US$)=%{x}<br>Average Internet usage over the years=%{marker.size}<extra></extra>",
         "hovertext": [
          "Tajikistan"
         ],
         "legendgroup": "Tajikistan",
         "marker": {
          "color": "#EF553B",
          "size": [
           12.212480874402727
          ],
          "sizemode": "area",
          "sizeref": 0.025361307840186014,
          "symbol": "circle"
         },
         "mode": "markers",
         "name": "Tajikistan",
         "showlegend": true,
         "type": "scatter",
         "x": [
          925.9
         ],
         "xaxis": "x",
         "y": [
          12.212480874402727
         ],
         "yaxis": "y"
        },
        {
         "hovertemplate": "<b>%{hovertext}</b><br><br>Country=Tanzania<br>GDP per capita (current US$)=%{x}<br>Average Internet usage over the years=%{marker.size}<extra></extra>",
         "hovertext": [
          null
         ],
         "legendgroup": "Tanzania",
         "marker": {
          "color": "#00cc96",
          "size": [
           7.333381312737115
          ],
          "sizemode": "area",
          "sizeref": 0.025361307840186014,
          "symbol": "circle"
         },
         "mode": "markers",
         "name": "Tanzania",
         "showlegend": true,
         "type": "scatter",
         "x": [
          null
         ],
         "xaxis": "x",
         "y": [
          7.333381312737115
         ],
         "yaxis": "y"
        },
        {
         "hovertemplate": "<b>%{hovertext}</b><br><br>Country=Tonga<br>GDP per capita (current US$)=%{x}<br>Average Internet usage over the years=%{marker.size}<extra></extra>",
         "hovertext": [
          "Tonga"
         ],
         "legendgroup": "Tonga",
         "marker": {
          "color": "#ab63fa",
          "size": [
           24.263689358179615
          ],
          "sizemode": "area",
          "sizeref": 0.025361307840186014,
          "symbol": "circle"
         },
         "mode": "markers",
         "name": "Tonga",
         "showlegend": true,
         "type": "scatter",
         "x": [
          3784.5
         ],
         "xaxis": "x",
         "y": [
          24.263689358179615
         ],
         "yaxis": "y"
        },
        {
         "hovertemplate": "<b>%{hovertext}</b><br><br>Country=Turkmenistan<br>GDP per capita (current US$)=%{x}<br>Average Internet usage over the years=%{marker.size}<extra></extra>",
         "hovertext": [
          "Turkmenistan"
         ],
         "legendgroup": "Turkmenistan",
         "marker": {
          "color": "#FFA15A",
          "size": [
           8.396766857572139
          ],
          "sizemode": "area",
          "sizeref": 0.025361307840186014,
          "symbol": "circle"
         },
         "mode": "markers",
         "name": "Turkmenistan",
         "showlegend": true,
         "type": "scatter",
         "x": [
          6996.7
         ],
         "xaxis": "x",
         "y": [
          8.396766857572139
         ],
         "yaxis": "y"
        },
        {
         "hovertemplate": "<b>%{hovertext}</b><br><br>Country=Vanuatu<br>GDP per capita (current US$)=%{x}<br>Average Internet usage over the years=%{marker.size}<extra></extra>",
         "hovertext": [
          "Vanuatu"
         ],
         "legendgroup": "Vanuatu",
         "marker": {
          "color": "#19d3f3",
          "size": [
           12.469078465185122
          ],
          "sizemode": "area",
          "sizeref": 0.025361307840186014,
          "symbol": "circle"
         },
         "mode": "markers",
         "name": "Vanuatu",
         "showlegend": true,
         "type": "scatter",
         "x": [
          2783
         ],
         "xaxis": "x",
         "y": [
          12.469078465185122
         ],
         "yaxis": "y"
        },
        {
         "hovertemplate": "<b>%{hovertext}</b><br><br>Country=Venezuela<br>GDP per capita (current US$)=%{x}<br>Average Internet usage over the years=%{marker.size}<extra></extra>",
         "hovertext": [
          null
         ],
         "legendgroup": "Venezuela",
         "marker": {
          "color": "#FF6692",
          "size": [
           40.95024349521088
          ],
          "sizemode": "area",
          "sizeref": 0.025361307840186014,
          "symbol": "circle"
         },
         "mode": "markers",
         "name": "Venezuela",
         "showlegend": true,
         "type": "scatter",
         "x": [
          null
         ],
         "xaxis": "x",
         "y": [
          40.95024349521088
         ],
         "yaxis": "y"
        },
        {
         "hovertemplate": "<b>%{hovertext}</b><br><br>Country=Yemen<br>GDP per capita (current US$)=%{x}<br>Average Internet usage over the years=%{marker.size}<extra></extra>",
         "hovertext": [
          "Yemen"
         ],
         "legendgroup": "Yemen",
         "marker": {
          "color": "#B6E880",
          "size": [
           14.887779174601034
          ],
          "sizemode": "area",
          "sizeref": 0.025361307840186014,
          "symbol": "circle"
         },
         "mode": "markers",
         "name": "Yemen",
         "showlegend": true,
         "type": "scatter",
         "x": [
          1106.4
         ],
         "xaxis": "x",
         "y": [
          14.887779174601034
         ],
         "yaxis": "y"
        }
       ],
       "layout": {
        "legend": {
         "itemsizing": "constant",
         "title": {
          "text": "Country"
         },
         "tracegroupgap": 0
        },
        "margin": {
         "t": 60
        },
        "template": {
         "data": {
          "bar": [
           {
            "error_x": {
             "color": "#2a3f5f"
            },
            "error_y": {
             "color": "#2a3f5f"
            },
            "marker": {
             "line": {
              "color": "#E5ECF6",
              "width": 0.5
             }
            },
            "type": "bar"
           }
          ],
          "barpolar": [
           {
            "marker": {
             "line": {
              "color": "#E5ECF6",
              "width": 0.5
             }
            },
            "type": "barpolar"
           }
          ],
          "carpet": [
           {
            "aaxis": {
             "endlinecolor": "#2a3f5f",
             "gridcolor": "white",
             "linecolor": "white",
             "minorgridcolor": "white",
             "startlinecolor": "#2a3f5f"
            },
            "baxis": {
             "endlinecolor": "#2a3f5f",
             "gridcolor": "white",
             "linecolor": "white",
             "minorgridcolor": "white",
             "startlinecolor": "#2a3f5f"
            },
            "type": "carpet"
           }
          ],
          "choropleth": [
           {
            "colorbar": {
             "outlinewidth": 0,
             "ticks": ""
            },
            "type": "choropleth"
           }
          ],
          "contour": [
           {
            "colorbar": {
             "outlinewidth": 0,
             "ticks": ""
            },
            "colorscale": [
             [
              0,
              "#0d0887"
             ],
             [
              0.1111111111111111,
              "#46039f"
             ],
             [
              0.2222222222222222,
              "#7201a8"
             ],
             [
              0.3333333333333333,
              "#9c179e"
             ],
             [
              0.4444444444444444,
              "#bd3786"
             ],
             [
              0.5555555555555556,
              "#d8576b"
             ],
             [
              0.6666666666666666,
              "#ed7953"
             ],
             [
              0.7777777777777778,
              "#fb9f3a"
             ],
             [
              0.8888888888888888,
              "#fdca26"
             ],
             [
              1,
              "#f0f921"
             ]
            ],
            "type": "contour"
           }
          ],
          "contourcarpet": [
           {
            "colorbar": {
             "outlinewidth": 0,
             "ticks": ""
            },
            "type": "contourcarpet"
           }
          ],
          "heatmap": [
           {
            "colorbar": {
             "outlinewidth": 0,
             "ticks": ""
            },
            "colorscale": [
             [
              0,
              "#0d0887"
             ],
             [
              0.1111111111111111,
              "#46039f"
             ],
             [
              0.2222222222222222,
              "#7201a8"
             ],
             [
              0.3333333333333333,
              "#9c179e"
             ],
             [
              0.4444444444444444,
              "#bd3786"
             ],
             [
              0.5555555555555556,
              "#d8576b"
             ],
             [
              0.6666666666666666,
              "#ed7953"
             ],
             [
              0.7777777777777778,
              "#fb9f3a"
             ],
             [
              0.8888888888888888,
              "#fdca26"
             ],
             [
              1,
              "#f0f921"
             ]
            ],
            "type": "heatmap"
           }
          ],
          "heatmapgl": [
           {
            "colorbar": {
             "outlinewidth": 0,
             "ticks": ""
            },
            "colorscale": [
             [
              0,
              "#0d0887"
             ],
             [
              0.1111111111111111,
              "#46039f"
             ],
             [
              0.2222222222222222,
              "#7201a8"
             ],
             [
              0.3333333333333333,
              "#9c179e"
             ],
             [
              0.4444444444444444,
              "#bd3786"
             ],
             [
              0.5555555555555556,
              "#d8576b"
             ],
             [
              0.6666666666666666,
              "#ed7953"
             ],
             [
              0.7777777777777778,
              "#fb9f3a"
             ],
             [
              0.8888888888888888,
              "#fdca26"
             ],
             [
              1,
              "#f0f921"
             ]
            ],
            "type": "heatmapgl"
           }
          ],
          "histogram": [
           {
            "marker": {
             "colorbar": {
              "outlinewidth": 0,
              "ticks": ""
             }
            },
            "type": "histogram"
           }
          ],
          "histogram2d": [
           {
            "colorbar": {
             "outlinewidth": 0,
             "ticks": ""
            },
            "colorscale": [
             [
              0,
              "#0d0887"
             ],
             [
              0.1111111111111111,
              "#46039f"
             ],
             [
              0.2222222222222222,
              "#7201a8"
             ],
             [
              0.3333333333333333,
              "#9c179e"
             ],
             [
              0.4444444444444444,
              "#bd3786"
             ],
             [
              0.5555555555555556,
              "#d8576b"
             ],
             [
              0.6666666666666666,
              "#ed7953"
             ],
             [
              0.7777777777777778,
              "#fb9f3a"
             ],
             [
              0.8888888888888888,
              "#fdca26"
             ],
             [
              1,
              "#f0f921"
             ]
            ],
            "type": "histogram2d"
           }
          ],
          "histogram2dcontour": [
           {
            "colorbar": {
             "outlinewidth": 0,
             "ticks": ""
            },
            "colorscale": [
             [
              0,
              "#0d0887"
             ],
             [
              0.1111111111111111,
              "#46039f"
             ],
             [
              0.2222222222222222,
              "#7201a8"
             ],
             [
              0.3333333333333333,
              "#9c179e"
             ],
             [
              0.4444444444444444,
              "#bd3786"
             ],
             [
              0.5555555555555556,
              "#d8576b"
             ],
             [
              0.6666666666666666,
              "#ed7953"
             ],
             [
              0.7777777777777778,
              "#fb9f3a"
             ],
             [
              0.8888888888888888,
              "#fdca26"
             ],
             [
              1,
              "#f0f921"
             ]
            ],
            "type": "histogram2dcontour"
           }
          ],
          "mesh3d": [
           {
            "colorbar": {
             "outlinewidth": 0,
             "ticks": ""
            },
            "type": "mesh3d"
           }
          ],
          "parcoords": [
           {
            "line": {
             "colorbar": {
              "outlinewidth": 0,
              "ticks": ""
             }
            },
            "type": "parcoords"
           }
          ],
          "pie": [
           {
            "automargin": true,
            "type": "pie"
           }
          ],
          "scatter": [
           {
            "marker": {
             "colorbar": {
              "outlinewidth": 0,
              "ticks": ""
             }
            },
            "type": "scatter"
           }
          ],
          "scatter3d": [
           {
            "line": {
             "colorbar": {
              "outlinewidth": 0,
              "ticks": ""
             }
            },
            "marker": {
             "colorbar": {
              "outlinewidth": 0,
              "ticks": ""
             }
            },
            "type": "scatter3d"
           }
          ],
          "scattercarpet": [
           {
            "marker": {
             "colorbar": {
              "outlinewidth": 0,
              "ticks": ""
             }
            },
            "type": "scattercarpet"
           }
          ],
          "scattergeo": [
           {
            "marker": {
             "colorbar": {
              "outlinewidth": 0,
              "ticks": ""
             }
            },
            "type": "scattergeo"
           }
          ],
          "scattergl": [
           {
            "marker": {
             "colorbar": {
              "outlinewidth": 0,
              "ticks": ""
             }
            },
            "type": "scattergl"
           }
          ],
          "scattermapbox": [
           {
            "marker": {
             "colorbar": {
              "outlinewidth": 0,
              "ticks": ""
             }
            },
            "type": "scattermapbox"
           }
          ],
          "scatterpolar": [
           {
            "marker": {
             "colorbar": {
              "outlinewidth": 0,
              "ticks": ""
             }
            },
            "type": "scatterpolar"
           }
          ],
          "scatterpolargl": [
           {
            "marker": {
             "colorbar": {
              "outlinewidth": 0,
              "ticks": ""
             }
            },
            "type": "scatterpolargl"
           }
          ],
          "scatterternary": [
           {
            "marker": {
             "colorbar": {
              "outlinewidth": 0,
              "ticks": ""
             }
            },
            "type": "scatterternary"
           }
          ],
          "surface": [
           {
            "colorbar": {
             "outlinewidth": 0,
             "ticks": ""
            },
            "colorscale": [
             [
              0,
              "#0d0887"
             ],
             [
              0.1111111111111111,
              "#46039f"
             ],
             [
              0.2222222222222222,
              "#7201a8"
             ],
             [
              0.3333333333333333,
              "#9c179e"
             ],
             [
              0.4444444444444444,
              "#bd3786"
             ],
             [
              0.5555555555555556,
              "#d8576b"
             ],
             [
              0.6666666666666666,
              "#ed7953"
             ],
             [
              0.7777777777777778,
              "#fb9f3a"
             ],
             [
              0.8888888888888888,
              "#fdca26"
             ],
             [
              1,
              "#f0f921"
             ]
            ],
            "type": "surface"
           }
          ],
          "table": [
           {
            "cells": {
             "fill": {
              "color": "#EBF0F8"
             },
             "line": {
              "color": "white"
             }
            },
            "header": {
             "fill": {
              "color": "#C8D4E3"
             },
             "line": {
              "color": "white"
             }
            },
            "type": "table"
           }
          ]
         },
         "layout": {
          "annotationdefaults": {
           "arrowcolor": "#2a3f5f",
           "arrowhead": 0,
           "arrowwidth": 1
          },
          "coloraxis": {
           "colorbar": {
            "outlinewidth": 0,
            "ticks": ""
           }
          },
          "colorscale": {
           "diverging": [
            [
             0,
             "#8e0152"
            ],
            [
             0.1,
             "#c51b7d"
            ],
            [
             0.2,
             "#de77ae"
            ],
            [
             0.3,
             "#f1b6da"
            ],
            [
             0.4,
             "#fde0ef"
            ],
            [
             0.5,
             "#f7f7f7"
            ],
            [
             0.6,
             "#e6f5d0"
            ],
            [
             0.7,
             "#b8e186"
            ],
            [
             0.8,
             "#7fbc41"
            ],
            [
             0.9,
             "#4d9221"
            ],
            [
             1,
             "#276419"
            ]
           ],
           "sequential": [
            [
             0,
             "#0d0887"
            ],
            [
             0.1111111111111111,
             "#46039f"
            ],
            [
             0.2222222222222222,
             "#7201a8"
            ],
            [
             0.3333333333333333,
             "#9c179e"
            ],
            [
             0.4444444444444444,
             "#bd3786"
            ],
            [
             0.5555555555555556,
             "#d8576b"
            ],
            [
             0.6666666666666666,
             "#ed7953"
            ],
            [
             0.7777777777777778,
             "#fb9f3a"
            ],
            [
             0.8888888888888888,
             "#fdca26"
            ],
            [
             1,
             "#f0f921"
            ]
           ],
           "sequentialminus": [
            [
             0,
             "#0d0887"
            ],
            [
             0.1111111111111111,
             "#46039f"
            ],
            [
             0.2222222222222222,
             "#7201a8"
            ],
            [
             0.3333333333333333,
             "#9c179e"
            ],
            [
             0.4444444444444444,
             "#bd3786"
            ],
            [
             0.5555555555555556,
             "#d8576b"
            ],
            [
             0.6666666666666666,
             "#ed7953"
            ],
            [
             0.7777777777777778,
             "#fb9f3a"
            ],
            [
             0.8888888888888888,
             "#fdca26"
            ],
            [
             1,
             "#f0f921"
            ]
           ]
          },
          "colorway": [
           "#636efa",
           "#EF553B",
           "#00cc96",
           "#ab63fa",
           "#FFA15A",
           "#19d3f3",
           "#FF6692",
           "#B6E880",
           "#FF97FF",
           "#FECB52"
          ],
          "font": {
           "color": "#2a3f5f"
          },
          "geo": {
           "bgcolor": "white",
           "lakecolor": "white",
           "landcolor": "#E5ECF6",
           "showlakes": true,
           "showland": true,
           "subunitcolor": "white"
          },
          "hoverlabel": {
           "align": "left"
          },
          "hovermode": "closest",
          "mapbox": {
           "style": "light"
          },
          "paper_bgcolor": "white",
          "plot_bgcolor": "#E5ECF6",
          "polar": {
           "angularaxis": {
            "gridcolor": "white",
            "linecolor": "white",
            "ticks": ""
           },
           "bgcolor": "#E5ECF6",
           "radialaxis": {
            "gridcolor": "white",
            "linecolor": "white",
            "ticks": ""
           }
          },
          "scene": {
           "xaxis": {
            "backgroundcolor": "#E5ECF6",
            "gridcolor": "white",
            "gridwidth": 2,
            "linecolor": "white",
            "showbackground": true,
            "ticks": "",
            "zerolinecolor": "white"
           },
           "yaxis": {
            "backgroundcolor": "#E5ECF6",
            "gridcolor": "white",
            "gridwidth": 2,
            "linecolor": "white",
            "showbackground": true,
            "ticks": "",
            "zerolinecolor": "white"
           },
           "zaxis": {
            "backgroundcolor": "#E5ECF6",
            "gridcolor": "white",
            "gridwidth": 2,
            "linecolor": "white",
            "showbackground": true,
            "ticks": "",
            "zerolinecolor": "white"
           }
          },
          "shapedefaults": {
           "line": {
            "color": "#2a3f5f"
           }
          },
          "ternary": {
           "aaxis": {
            "gridcolor": "white",
            "linecolor": "white",
            "ticks": ""
           },
           "baxis": {
            "gridcolor": "white",
            "linecolor": "white",
            "ticks": ""
           },
           "bgcolor": "#E5ECF6",
           "caxis": {
            "gridcolor": "white",
            "linecolor": "white",
            "ticks": ""
           }
          },
          "title": {
           "x": 0.05
          },
          "xaxis": {
           "automargin": true,
           "gridcolor": "white",
           "linecolor": "white",
           "ticks": "",
           "title": {
            "standoff": 15
           },
           "zerolinecolor": "white",
           "zerolinewidth": 2
          },
          "yaxis": {
           "automargin": true,
           "gridcolor": "white",
           "linecolor": "white",
           "ticks": "",
           "title": {
            "standoff": 15
           },
           "zerolinecolor": "white",
           "zerolinewidth": 2
          }
         }
        },
        "xaxis": {
         "anchor": "y",
         "domain": [
          0,
          1
         ],
         "title": {
          "text": "GDP per capita (current US$)"
         },
         "type": "log"
        },
        "yaxis": {
         "anchor": "x",
         "domain": [
          0,
          1
         ],
         "title": {
          "text": "Average Internet usage over the years"
         }
        }
       }
      },
      "text/html": [
       "<div>\n",
       "        \n",
       "        \n",
       "            <div id=\"84fe4076-88b8-4f47-b202-48ff0293e19d\" class=\"plotly-graph-div\" style=\"height:525px; width:100%;\"></div>\n",
       "            <script type=\"text/javascript\">\n",
       "                require([\"plotly\"], function(Plotly) {\n",
       "                    window.PLOTLYENV=window.PLOTLYENV || {};\n",
       "                    \n",
       "                if (document.getElementById(\"84fe4076-88b8-4f47-b202-48ff0293e19d\")) {\n",
       "                    Plotly.newPlot(\n",
       "                        '84fe4076-88b8-4f47-b202-48ff0293e19d',\n",
       "                        [{\"hovertemplate\": \"<b>%{hovertext}</b><br><br>Country=Qatar<br>GDP per capita (current US$)=%{x}<br>Average Internet usage over the years=%{marker.size}<extra></extra>\", \"hovertext\": [\"Qatar\"], \"legendgroup\": \"Qatar\", \"marker\": {\"color\": \"#636efa\", \"size\": [72.61257817009086], \"sizemode\": \"area\", \"sizeref\": 0.025361307840186014, \"symbol\": \"circle\"}, \"mode\": \"markers\", \"name\": \"Qatar\", \"showlegend\": true, \"type\": \"scatter\", \"x\": [73653.4], \"xaxis\": \"x\", \"y\": [72.61257817009086], \"yaxis\": \"y\"}, {\"hovertemplate\": \"<b>%{hovertext}</b><br><br>Country=Kuwait<br>GDP per capita (current US$)=%{x}<br>Average Internet usage over the years=%{marker.size}<extra></extra>\", \"hovertext\": [\"Kuwait\"], \"legendgroup\": \"Kuwait\", \"marker\": {\"color\": \"#EF553B\", \"size\": [66.76399555635406], \"sizemode\": \"area\", \"sizeref\": 0.025361307840186014, \"symbol\": \"circle\"}, \"mode\": \"markers\", \"name\": \"Kuwait\", \"showlegend\": true, \"type\": \"scatter\", \"x\": [29303.9], \"xaxis\": \"x\", \"y\": [66.76399555635406], \"yaxis\": \"y\"}, {\"hovertemplate\": \"<b>%{hovertext}</b><br><br>Country=Iceland<br>GDP per capita (current US$)=%{x}<br>Average Internet usage over the years=%{marker.size}<extra></extra>\", \"hovertext\": [\"Iceland\"], \"legendgroup\": \"Iceland\", \"marker\": {\"color\": \"#00cc96\", \"size\": [91.30070822466965], \"sizemode\": \"area\", \"sizeref\": 0.025361307840186014, \"symbol\": \"circle\"}, \"mode\": \"markers\", \"name\": \"Iceland\", \"showlegend\": true, \"type\": \"scatter\", \"x\": [50936.0], \"xaxis\": \"x\", \"y\": [91.30070822466965], \"yaxis\": \"y\"}, {\"hovertemplate\": \"<b>%{hovertext}</b><br><br>Country=Bahrain<br>GDP per capita (current US$)=%{x}<br>Average Internet usage over the years=%{marker.size}<extra></extra>\", \"hovertext\": [\"Bahrain\"], \"legendgroup\": \"Bahrain\", \"marker\": {\"color\": \"#ab63fa\", \"size\": [73.99640475804235], \"sizemode\": \"area\", \"sizeref\": 0.025361307840186014, \"symbol\": \"circle\"}, \"mode\": \"markers\", \"name\": \"Bahrain\", \"showlegend\": true, \"type\": \"scatter\", \"x\": [22600.2], \"xaxis\": \"x\", \"y\": [73.99640475804235], \"yaxis\": \"y\"}, {\"hovertemplate\": \"<b>%{hovertext}</b><br><br>Country=United Arab Emirates<br>GDP per capita (current US$)=%{x}<br>Average Internet usage over the years=%{marker.size}<extra></extra>\", \"hovertext\": [\"United Arab Emirates\"], \"legendgroup\": \"United Arab Emirates\", \"marker\": {\"color\": \"#FFA15A\", \"size\": [77.03592945652944], \"sizemode\": \"area\", \"sizeref\": 0.025361307840186014, \"symbol\": \"circle\"}, \"mode\": \"markers\", \"name\": \"United Arab Emirates\", \"showlegend\": true, \"type\": \"scatter\", \"x\": [40438.8], \"xaxis\": \"x\", \"y\": [77.03592945652944], \"yaxis\": \"y\"}, {\"hovertemplate\": \"<b>%{hovertext}</b><br><br>Country=Denmark<br>GDP per capita (current US$)=%{x}<br>Average Internet usage over the years=%{marker.size}<extra></extra>\", \"hovertext\": [\"Denmark\"], \"legendgroup\": \"Denmark\", \"marker\": {\"color\": \"#19d3f3\", \"size\": [88.30582468167478], \"sizemode\": \"area\", \"sizeref\": 0.025361307840186014, \"symbol\": \"circle\"}, \"mode\": \"markers\", \"name\": \"Denmark\", \"showlegend\": true, \"type\": \"scatter\", \"x\": [53149.3], \"xaxis\": \"x\", \"y\": [88.30582468167478], \"yaxis\": \"y\"}, {\"hovertemplate\": \"<b>%{hovertext}</b><br><br>Country=Luxembourg<br>GDP per capita (current US$)=%{x}<br>Average Internet usage over the years=%{marker.size}<extra></extra>\", \"hovertext\": [\"Luxembourg\"], \"legendgroup\": \"Luxembourg\", \"marker\": {\"color\": \"#FF6692\", \"size\": [85.71586981594385], \"sizemode\": \"area\", \"sizeref\": 0.025361307840186014, \"symbol\": \"circle\"}, \"mode\": \"markers\", \"name\": \"Luxembourg\", \"showlegend\": true, \"type\": \"scatter\", \"x\": [100160.8], \"xaxis\": \"x\", \"y\": [85.71586981594385], \"yaxis\": \"y\"}, {\"hovertemplate\": \"<b>%{hovertext}</b><br><br>Country=Norway<br>GDP per capita (current US$)=%{x}<br>Average Internet usage over the years=%{marker.size}<extra></extra>\", \"hovertext\": [\"Norway\"], \"legendgroup\": \"Norway\", \"marker\": {\"color\": \"#B6E880\", \"size\": [90.34828396941448], \"sizemode\": \"area\", \"sizeref\": 0.025361307840186014, \"symbol\": \"circle\"}, \"mode\": \"markers\", \"name\": \"Norway\", \"showlegend\": true, \"type\": \"scatter\", \"x\": [74185.5], \"xaxis\": \"x\", \"y\": [90.34828396941448], \"yaxis\": \"y\"}, {\"hovertemplate\": \"<b>%{hovertext}</b><br><br>Country=Korea (Rep. of)<br>GDP per capita (current US$)=%{x}<br>Average Internet usage over the years=%{marker.size}<extra></extra>\", \"hovertext\": [null], \"legendgroup\": \"Korea (Rep. of)\", \"marker\": {\"color\": \"#FF97FF\", \"size\": [83.25151694613277], \"sizemode\": \"area\", \"sizeref\": 0.025361307840186014, \"symbol\": \"circle\"}, \"mode\": \"markers\", \"name\": \"Korea (Rep. of)\", \"showlegend\": true, \"type\": \"scatter\", \"x\": [null], \"xaxis\": \"x\", \"y\": [83.25151694613277], \"yaxis\": \"y\"}, {\"hovertemplate\": \"<b>%{hovertext}</b><br><br>Country=United Kingdom<br>GDP per capita (current US$)=%{x}<br>Average Internet usage over the years=%{marker.size}<extra></extra>\", \"hovertext\": [\"United Kingdom\"], \"legendgroup\": \"United Kingdom\", \"marker\": {\"color\": \"#FECB52\", \"size\": [82.94806306502697], \"sizemode\": \"area\", \"sizeref\": 0.025361307840186014, \"symbol\": \"circle\"}, \"mode\": \"markers\", \"name\": \"United Kingdom\", \"showlegend\": true, \"type\": \"scatter\", \"x\": [44162.4], \"xaxis\": \"x\", \"y\": [82.94806306502697], \"yaxis\": \"y\"}, {\"hovertemplate\": \"<b>%{hovertext}</b><br><br>Country=Netherlands<br>GDP per capita (current US$)=%{x}<br>Average Internet usage over the years=%{marker.size}<extra></extra>\", \"hovertext\": [\"Netherlands\"], \"legendgroup\": \"Netherlands\", \"marker\": {\"color\": \"#636efa\", \"size\": [86.87744135978693], \"sizemode\": \"area\", \"sizeref\": 0.025361307840186014, \"symbol\": \"circle\"}, \"mode\": \"markers\", \"name\": \"Netherlands\", \"showlegend\": true, \"type\": \"scatter\", \"x\": [44332.1], \"xaxis\": \"x\", \"y\": [86.87744135978693], \"yaxis\": \"y\"}, {\"hovertemplate\": \"<b>%{hovertext}</b><br><br>Country=Brunei Darussalam<br>GDP per capita (current US$)=%{x}<br>Average Internet usage over the years=%{marker.size}<extra></extra>\", \"hovertext\": [\"Brunei Darussalam\"], \"legendgroup\": \"Brunei Darussalam\", \"marker\": {\"color\": \"#EF553B\", \"size\": [63.515680057965824], \"sizemode\": \"area\", \"sizeref\": 0.025361307840186014, \"symbol\": \"circle\"}, \"mode\": \"markers\", \"name\": \"Brunei Darussalam\", \"showlegend\": true, \"type\": \"scatter\", \"x\": [30552.7], \"xaxis\": \"x\", \"y\": [63.515680057965824], \"yaxis\": \"y\"}, {\"hovertemplate\": \"<b>%{hovertext}</b><br><br>Country=Saudi Arabia<br>GDP per capita (current US$)=%{x}<br>Average Internet usage over the years=%{marker.size}<extra></extra>\", \"hovertext\": [\"Saudi Arabia\"], \"legendgroup\": \"Saudi Arabia\", \"marker\": {\"color\": \"#00cc96\", \"size\": [54.77771806507526], \"sizemode\": \"area\", \"sizeref\": 0.025361307840186014, \"symbol\": \"circle\"}, \"mode\": \"markers\", \"name\": \"Saudi Arabia\", \"showlegend\": true, \"type\": \"scatter\", \"x\": [20710.6], \"xaxis\": \"x\", \"y\": [54.77771806507526], \"yaxis\": \"y\"}, {\"hovertemplate\": \"<b>%{hovertext}</b><br><br>Country=Sweden<br>GDP per capita (current US$)=%{x}<br>Average Internet usage over the years=%{marker.size}<extra></extra>\", \"hovertext\": [\"Sweden\"], \"legendgroup\": \"Sweden\", \"marker\": {\"color\": \"#ab63fa\", \"size\": [87.42582894433586], \"sizemode\": \"area\", \"sizeref\": 0.025361307840186014, \"symbol\": \"circle\"}, \"mode\": \"markers\", \"name\": \"Sweden\", \"showlegend\": true, \"type\": \"scatter\", \"x\": [50687.5], \"xaxis\": \"x\", \"y\": [87.42582894433586], \"yaxis\": \"y\"}, {\"hovertemplate\": \"<b>%{hovertext}</b><br><br>Country=Germany<br>GDP per capita (current US$)=%{x}<br>Average Internet usage over the years=%{marker.size}<extra></extra>\", \"hovertext\": [\"Germany\"], \"legendgroup\": \"Germany\", \"marker\": {\"color\": \"#FFA15A\", \"size\": [78.25417931072151], \"sizemode\": \"area\", \"sizeref\": 0.025361307840186014, \"symbol\": \"circle\"}, \"mode\": \"markers\", \"name\": \"Germany\", \"showlegend\": true, \"type\": \"scatter\", \"x\": [41686.2], \"xaxis\": \"x\", \"y\": [78.25417931072151], \"yaxis\": \"y\"}, {\"hovertemplate\": \"<b>%{hovertext}</b><br><br>Country=Estonia<br>GDP per capita (current US$)=%{x}<br>Average Internet usage over the years=%{marker.size}<extra></extra>\", \"hovertext\": [\"Estonia\"], \"legendgroup\": \"Estonia\", \"marker\": {\"color\": \"#19d3f3\", \"size\": [76.03382806042829], \"sizemode\": \"area\", \"sizeref\": 0.025361307840186014, \"symbol\": \"circle\"}, \"mode\": \"markers\", \"name\": \"Estonia\", \"showlegend\": true, \"type\": \"scatter\", \"x\": [17112.0], \"xaxis\": \"x\", \"y\": [76.03382806042829], \"yaxis\": \"y\"}, {\"hovertemplate\": \"<b>%{hovertext}</b><br><br>Country=Finland<br>GDP per capita (current US$)=%{x}<br>Average Internet usage over the years=%{marker.size}<extra></extra>\", \"hovertext\": [\"Finland\"], \"legendgroup\": \"Finland\", \"marker\": {\"color\": \"#FF6692\", \"size\": [82.33981088535499], \"sizemode\": \"area\", \"sizeref\": 0.025361307840186014, \"symbol\": \"circle\"}, \"mode\": \"markers\", \"name\": \"Finland\", \"showlegend\": true, \"type\": \"scatter\", \"x\": [42148.1], \"xaxis\": \"x\", \"y\": [82.33981088535499], \"yaxis\": \"y\"}, {\"hovertemplate\": \"<b>%{hovertext}</b><br><br>Country=Belgium<br>GDP per capita (current US$)=%{x}<br>Average Internet usage over the years=%{marker.size}<extra></extra>\", \"hovertext\": [\"Belgium\"], \"legendgroup\": \"Belgium\", \"marker\": {\"color\": \"#B6E880\", \"size\": [76.15054545377865], \"sizemode\": \"area\", \"sizeref\": 0.025361307840186014, \"symbol\": \"circle\"}, \"mode\": \"markers\", \"name\": \"Belgium\", \"showlegend\": true, \"type\": \"scatter\", \"x\": [40277.8], \"xaxis\": \"x\", \"y\": [76.15054545377865], \"yaxis\": \"y\"}, {\"hovertemplate\": \"<b>%{hovertext}</b><br><br>Country=Singapore<br>GDP per capita (current US$)=%{x}<br>Average Internet usage over the years=%{marker.size}<extra></extra>\", \"hovertext\": [\"Singapore\"], \"legendgroup\": \"Singapore\", \"marker\": {\"color\": \"#FF97FF\", \"size\": [73.36469931065878], \"sizemode\": \"area\", \"sizeref\": 0.025361307840186014, \"symbol\": \"circle\"}, \"mode\": \"markers\", \"name\": \"Singapore\", \"showlegend\": true, \"type\": \"scatter\", \"x\": [52239.0], \"xaxis\": \"x\", \"y\": [73.36469931065878], \"yaxis\": \"y\"}, {\"hovertemplate\": \"<b>%{hovertext}</b><br><br>Country=Austria<br>GDP per capita (current US$)=%{x}<br>Average Internet usage over the years=%{marker.size}<extra></extra>\", \"hovertext\": [\"Austria\"], \"legendgroup\": \"Austria\", \"marker\": {\"color\": \"#FECB52\", \"size\": [75.56315281508286], \"sizemode\": \"area\", \"sizeref\": 0.025361307840186014, \"symbol\": \"circle\"}, \"mode\": \"markers\", \"name\": \"Austria\", \"showlegend\": true, \"type\": \"scatter\", \"x\": [44117.7], \"xaxis\": \"x\", \"y\": [75.56315281508286], \"yaxis\": \"y\"}, {\"hovertemplate\": \"<b>%{hovertext}</b><br><br>Country=Spain<br>GDP per capita (current US$)=%{x}<br>Average Internet usage over the years=%{marker.size}<extra></extra>\", \"hovertext\": [\"Spain\"], \"legendgroup\": \"Spain\", \"marker\": {\"color\": \"#636efa\", \"size\": [67.45367012811904], \"sizemode\": \"area\", \"sizeref\": 0.025361307840186014, \"symbol\": \"circle\"}, \"mode\": \"markers\", \"name\": \"Spain\", \"showlegend\": true, \"type\": \"scatter\", \"x\": [25865.4], \"xaxis\": \"x\", \"y\": [67.45367012811904], \"yaxis\": \"y\"}, {\"hovertemplate\": \"<b>%{hovertext}</b><br><br>Country=Ireland<br>GDP per capita (current US$)=%{x}<br>Average Internet usage over the years=%{marker.size}<extra></extra>\", \"hovertext\": [\"Ireland\"], \"legendgroup\": \"Ireland\", \"marker\": {\"color\": \"#EF553B\", \"size\": [70.90928072625974], \"sizemode\": \"area\", \"sizeref\": 0.025361307840186014, \"symbol\": \"circle\"}, \"mode\": \"markers\", \"name\": \"Ireland\", \"showlegend\": true, \"type\": \"scatter\", \"x\": [60513.6], \"xaxis\": \"x\", \"y\": [70.90928072625974], \"yaxis\": \"y\"}, {\"hovertemplate\": \"<b>%{hovertext}</b><br><br>Country=Cyprus<br>GDP per capita (current US$)=%{x}<br>Average Internet usage over the years=%{marker.size}<extra></extra>\", \"hovertext\": [\"Cyprus\"], \"legendgroup\": \"Cyprus\", \"marker\": {\"color\": \"#00cc96\", \"size\": [60.56207563729488], \"sizemode\": \"area\", \"sizeref\": 0.025361307840186014, \"symbol\": \"circle\"}, \"mode\": \"markers\", \"name\": \"Cyprus\", \"showlegend\": true, \"type\": \"scatter\", \"x\": [21941.9], \"xaxis\": \"x\", \"y\": [60.56207563729488], \"yaxis\": \"y\"}, {\"hovertemplate\": \"<b>%{hovertext}</b><br><br>Country=Macao, China<br>GDP per capita (current US$)=%{x}<br>Average Internet usage over the years=%{marker.size}<extra></extra>\", \"hovertext\": [null], \"legendgroup\": \"Macao, China\", \"marker\": {\"color\": \"#ab63fa\", \"size\": [62.4522281484999], \"sizemode\": \"area\", \"sizeref\": 0.025361307840186014, \"symbol\": \"circle\"}, \"mode\": \"markers\", \"name\": \"Macao, China\", \"showlegend\": true, \"type\": \"scatter\", \"x\": [null], \"xaxis\": \"x\", \"y\": [62.4522281484999], \"yaxis\": \"y\"}, {\"hovertemplate\": \"<b>%{hovertext}</b><br><br>Country=Latvia<br>GDP per capita (current US$)=%{x}<br>Average Internet usage over the years=%{marker.size}<extra></extra>\", \"hovertext\": [\"Latvia\"], \"legendgroup\": \"Latvia\", \"marker\": {\"color\": \"#FFA15A\", \"size\": [67.0370281864885], \"sizemode\": \"area\", \"sizeref\": 0.025361307840186014, \"symbol\": \"circle\"}, \"mode\": \"markers\", \"name\": \"Latvia\", \"showlegend\": true, \"type\": \"scatter\", \"x\": [13704.1], \"xaxis\": \"x\", \"y\": [67.0370281864885], \"yaxis\": \"y\"}, {\"hovertemplate\": \"<b>%{hovertext}</b><br><br>Country=France<br>GDP per capita (current US$)=%{x}<br>Average Internet usage over the years=%{marker.size}<extra></extra>\", \"hovertext\": [\"France\"], \"legendgroup\": \"France\", \"marker\": {\"color\": \"#19d3f3\", \"size\": [70.8375934721078], \"sizemode\": \"area\", \"sizeref\": 0.025361307840186014, \"symbol\": \"circle\"}, \"mode\": \"markers\", \"name\": \"France\", \"showlegend\": true, \"type\": \"scatter\", \"x\": [36304.2], \"xaxis\": \"x\", \"y\": [70.8375934721078], \"yaxis\": \"y\"}, {\"hovertemplate\": \"<b>%{hovertext}</b><br><br>Country=Malta<br>GDP per capita (current US$)=%{x}<br>Average Internet usage over the years=%{marker.size}<extra></extra>\", \"hovertext\": [\"Malta\"], \"legendgroup\": \"Malta\", \"marker\": {\"color\": \"#FF6692\", \"size\": [64.73703629046764], \"sizemode\": \"area\", \"sizeref\": 0.025361307840186014, \"symbol\": \"circle\"}, \"mode\": \"markers\", \"name\": \"Malta\", \"showlegend\": true, \"type\": \"scatter\", \"x\": [23280.7], \"xaxis\": \"x\", \"y\": [64.73703629046764], \"yaxis\": \"y\"}, {\"hovertemplate\": \"<b>%{hovertext}</b><br><br>Country=Malaysia<br>GDP per capita (current US$)=%{x}<br>Average Internet usage over the years=%{marker.size}<extra></extra>\", \"hovertext\": [\"Malaysia\"], \"legendgroup\": \"Malaysia\", \"marker\": {\"color\": \"#B6E880\", \"size\": [62.27558208681162], \"sizemode\": \"area\", \"sizeref\": 0.025361307840186014, \"symbol\": \"circle\"}, \"mode\": \"markers\", \"name\": \"Malaysia\", \"showlegend\": true, \"type\": \"scatter\", \"x\": [9768.4], \"xaxis\": \"x\", \"y\": [62.27558208681162], \"yaxis\": \"y\"}, {\"hovertemplate\": \"<b>%{hovertext}</b><br><br>Country=Russian Federation<br>GDP per capita (current US$)=%{x}<br>Average Internet usage over the years=%{marker.size}<extra></extra>\", \"hovertext\": [\"Russian Federation\"], \"legendgroup\": \"Russian Federation\", \"marker\": {\"color\": \"#FF97FF\", \"size\": [55.596199846814265], \"sizemode\": \"area\", \"sizeref\": 0.025361307840186014, \"symbol\": \"circle\"}, \"mode\": \"markers\", \"name\": \"Russian Federation\", \"showlegend\": true, \"type\": \"scatter\", \"x\": [9243.3], \"xaxis\": \"x\", \"y\": [55.596199846814265], \"yaxis\": \"y\"}, {\"hovertemplate\": \"<b>%{hovertext}</b><br><br>Country=Czech Republic<br>GDP per capita (current US$)=%{x}<br>Average Internet usage over the years=%{marker.size}<extra></extra>\", \"hovertext\": [null], \"legendgroup\": \"Czech Republic\", \"marker\": {\"color\": \"#FECB52\", \"size\": [65.24454670199033], \"sizemode\": \"area\", \"sizeref\": 0.025361307840186014, \"symbol\": \"circle\"}, \"mode\": \"markers\", \"name\": \"Czech Republic\", \"showlegend\": true, \"type\": \"scatter\", \"x\": [null], \"xaxis\": \"x\", \"y\": [65.24454670199033], \"yaxis\": \"y\"}, {\"hovertemplate\": \"<b>%{hovertext}</b><br><br>Country=Slovakia<br>GDP per capita (current US$)=%{x}<br>Average Internet usage over the years=%{marker.size}<extra></extra>\", \"hovertext\": [\"Slovakia\"], \"legendgroup\": \"Slovakia\", \"marker\": {\"color\": \"#636efa\", \"size\": [69.9759955324702], \"sizemode\": \"area\", \"sizeref\": 0.025361307840186014, \"symbol\": \"circle\"}, \"mode\": \"markers\", \"name\": \"Slovakia\", \"showlegend\": true, \"type\": \"scatter\", \"x\": [16082.5], \"xaxis\": \"x\", \"y\": [69.9759955324702], \"yaxis\": \"y\"}, {\"hovertemplate\": \"<b>%{hovertext}</b><br><br>Country=Azerbaijan<br>GDP per capita (current US$)=%{x}<br>Average Internet usage over the years=%{marker.size}<extra></extra>\", \"hovertext\": [\"Azerbaijan\"], \"legendgroup\": \"Azerbaijan\", \"marker\": {\"color\": \"#EF553B\", \"size\": [56.39801322081063], \"sizemode\": \"area\", \"sizeref\": 0.025361307840186014, \"symbol\": \"circle\"}, \"mode\": \"markers\", \"name\": \"Azerbaijan\", \"showlegend\": true, \"type\": \"scatter\", \"x\": [5438.7], \"xaxis\": \"x\", \"y\": [56.39801322081063], \"yaxis\": \"y\"}, {\"hovertemplate\": \"<b>%{hovertext}</b><br><br>Country=Slovenia<br>GDP per capita (current US$)=%{x}<br>Average Internet usage over the years=%{marker.size}<extra></extra>\", \"hovertext\": [\"Slovenia\"], \"legendgroup\": \"Slovenia\", \"marker\": {\"color\": \"#00cc96\", \"size\": [65.37349419251974], \"sizemode\": \"area\", \"sizeref\": 0.025361307840186014, \"symbol\": \"circle\"}, \"mode\": \"markers\", \"name\": \"Slovenia\", \"showlegend\": true, \"type\": \"scatter\", \"x\": [20689.8], \"xaxis\": \"x\", \"y\": [65.37349419251974], \"yaxis\": \"y\"}, {\"hovertemplate\": \"<b>%{hovertext}</b><br><br>Country=Lithuania<br>GDP per capita (current US$)=%{x}<br>Average Internet usage over the years=%{marker.size}<extra></extra>\", \"hovertext\": [\"Lithuania\"], \"legendgroup\": \"Lithuania\", \"marker\": {\"color\": \"#ab63fa\", \"size\": [61.755674460062615], \"sizemode\": \"area\", \"sizeref\": 0.025361307840186014, \"symbol\": \"circle\"}, \"mode\": \"markers\", \"name\": \"Lithuania\", \"showlegend\": true, \"type\": \"scatter\", \"x\": [14383.7], \"xaxis\": \"x\", \"y\": [61.755674460062615], \"yaxis\": \"y\"}, {\"hovertemplate\": \"<b>%{hovertext}</b><br><br>Country=TFYR Macedonia<br>GDP per capita (current US$)=%{x}<br>Average Internet usage over the years=%{marker.size}<extra></extra>\", \"hovertext\": [null], \"legendgroup\": \"TFYR Macedonia\", \"marker\": {\"color\": \"#FFA15A\", \"size\": [56.773373405858976], \"sizemode\": \"area\", \"sizeref\": 0.025361307840186014, \"symbol\": \"circle\"}, \"mode\": \"markers\", \"name\": \"TFYR Macedonia\", \"showlegend\": true, \"type\": \"scatter\", \"x\": [null], \"xaxis\": \"x\", \"y\": [56.773373405858976], \"yaxis\": \"y\"}, {\"hovertemplate\": \"<b>%{hovertext}</b><br><br>Country=Belarus<br>GDP per capita (current US$)=%{x}<br>Average Internet usage over the years=%{marker.size}<extra></extra>\", \"hovertext\": [\"Belarus\"], \"legendgroup\": \"Belarus\", \"marker\": {\"color\": \"#19d3f3\", \"size\": [47.301730232253064], \"sizemode\": \"area\", \"sizeref\": 0.025361307840186014, \"symbol\": \"circle\"}, \"mode\": \"markers\", \"name\": \"Belarus\", \"showlegend\": true, \"type\": \"scatter\", \"x\": [5750.8], \"xaxis\": \"x\", \"y\": [47.301730232253064], \"yaxis\": \"y\"}, {\"hovertemplate\": \"<b>%{hovertext}</b><br><br>Country=Kazakhstan<br>GDP per capita (current US$)=%{x}<br>Average Internet usage over the years=%{marker.size}<extra></extra>\", \"hovertext\": [\"Kazakhstan\"], \"legendgroup\": \"Kazakhstan\", \"marker\": {\"color\": \"#FF6692\", \"size\": [52.52631646753314], \"sizemode\": \"area\", \"sizeref\": 0.025361307840186014, \"symbol\": \"circle\"}, \"mode\": \"markers\", \"name\": \"Kazakhstan\", \"showlegend\": true, \"type\": \"scatter\", \"x\": [10312.1], \"xaxis\": \"x\", \"y\": [52.52631646753314], \"yaxis\": \"y\"}, {\"hovertemplate\": \"<b>%{hovertext}</b><br><br>Country=Poland<br>GDP per capita (current US$)=%{x}<br>Average Internet usage over the years=%{marker.size}<extra></extra>\", \"hovertext\": [\"Poland\"], \"legendgroup\": \"Poland\", \"marker\": {\"color\": \"#B6E880\", \"size\": [59.72267541213726], \"sizemode\": \"area\", \"sizeref\": 0.025361307840186014, \"symbol\": \"circle\"}, \"mode\": \"markers\", \"name\": \"Poland\", \"showlegend\": true, \"type\": \"scatter\", \"x\": [12355.5], \"xaxis\": \"x\", \"y\": [59.72267541213726], \"yaxis\": \"y\"}, {\"hovertemplate\": \"<b>%{hovertext}</b><br><br>Country=Hungary<br>GDP per capita (current US$)=%{x}<br>Average Internet usage over the years=%{marker.size}<extra></extra>\", \"hovertext\": [\"Hungary\"], \"legendgroup\": \"Hungary\", \"marker\": {\"color\": \"#FF97FF\", \"size\": [63.88961633922849], \"sizemode\": \"area\", \"sizeref\": 0.025361307840186014, \"symbol\": \"circle\"}, \"mode\": \"markers\", \"name\": \"Hungary\", \"showlegend\": true, \"type\": \"scatter\", \"x\": [12350.6], \"xaxis\": \"x\", \"y\": [63.88961633922849], \"yaxis\": \"y\"}, {\"hovertemplate\": \"<b>%{hovertext}</b><br><br>Country=Dominican Rep.<br>GDP per capita (current US$)=%{x}<br>Average Internet usage over the years=%{marker.size}<extra></extra>\", \"hovertext\": [null], \"legendgroup\": \"Dominican Rep.\", \"marker\": {\"color\": \"#FECB52\", \"size\": [43.89727688642381], \"sizemode\": \"area\", \"sizeref\": 0.025361307840186014, \"symbol\": \"circle\"}, \"mode\": \"markers\", \"name\": \"Dominican Rep.\", \"showlegend\": true, \"type\": \"scatter\", \"x\": [null], \"xaxis\": \"x\", \"y\": [43.89727688642381], \"yaxis\": \"y\"}, {\"hovertemplate\": \"<b>%{hovertext}</b><br><br>Country=Portugal<br>GDP per capita (current US$)=%{x}<br>Average Internet usage over the years=%{marker.size}<extra></extra>\", \"hovertext\": [\"Portugal\"], \"legendgroup\": \"Portugal\", \"marker\": {\"color\": \"#636efa\", \"size\": [57.68224648890957], \"sizemode\": \"area\", \"sizeref\": 0.025361307840186014, \"symbol\": \"circle\"}, \"mode\": \"markers\", \"name\": \"Portugal\", \"showlegend\": true, \"type\": \"scatter\", \"x\": [19239.2], \"xaxis\": \"x\", \"y\": [57.68224648890957], \"yaxis\": \"y\"}, {\"hovertemplate\": \"<b>%{hovertext}</b><br><br>Country=Italy<br>GDP per capita (current US$)=%{x}<br>Average Internet usage over the years=%{marker.size}<extra></extra>\", \"hovertext\": [\"Italy\"], \"legendgroup\": \"Italy\", \"marker\": {\"color\": \"#EF553B\", \"size\": [53.912649855804936], \"sizemode\": \"area\", \"sizeref\": 0.025361307840186014, \"symbol\": \"circle\"}, \"mode\": \"markers\", \"name\": \"Italy\", \"showlegend\": true, \"type\": \"scatter\", \"x\": [30462.4], \"xaxis\": \"x\", \"y\": [53.912649855804936], \"yaxis\": \"y\"}, {\"hovertemplate\": \"<b>%{hovertext}</b><br><br>Country=Costa Rica<br>GDP per capita (current US$)=%{x}<br>Average Internet usage over the years=%{marker.size}<extra></extra>\", \"hovertext\": [\"Costa Rica\"], \"legendgroup\": \"Costa Rica\", \"marker\": {\"color\": \"#00cc96\", \"size\": [47.37849286115279], \"sizemode\": \"area\", \"sizeref\": 0.025361307840186014, \"symbol\": \"circle\"}, \"mode\": \"markers\", \"name\": \"Costa Rica\", \"showlegend\": true, \"type\": \"scatter\", \"x\": [11015.0], \"xaxis\": \"x\", \"y\": [47.37849286115279], \"yaxis\": \"y\"}, {\"hovertemplate\": \"<b>%{hovertext}</b><br><br>Country=Serbia<br>GDP per capita (current US$)=%{x}<br>Average Internet usage over the years=%{marker.size}<extra></extra>\", \"hovertext\": [\"Serbia\"], \"legendgroup\": \"Serbia\", \"marker\": {\"color\": \"#ab63fa\", \"size\": [49.917350553989245], \"sizemode\": \"area\", \"sizeref\": 0.025361307840186014, \"symbol\": \"circle\"}, \"mode\": \"markers\", \"name\": \"Serbia\", \"showlegend\": true, \"type\": \"scatter\", \"x\": [5238.6], \"xaxis\": \"x\", \"y\": [49.917350553989245], \"yaxis\": \"y\"}, {\"hovertemplate\": \"<b>%{hovertext}</b><br><br>Country=Greece<br>GDP per capita (current US$)=%{x}<br>Average Internet usage over the years=%{marker.size}<extra></extra>\", \"hovertext\": [\"Greece\"], \"legendgroup\": \"Greece\", \"marker\": {\"color\": \"#FFA15A\", \"size\": [53.34177900374676], \"sizemode\": \"area\", \"sizeref\": 0.025361307840186014, \"symbol\": \"circle\"}, \"mode\": \"markers\", \"name\": \"Greece\", \"showlegend\": true, \"type\": \"scatter\", \"x\": [17788.0], \"xaxis\": \"x\", \"y\": [53.34177900374676], \"yaxis\": \"y\"}, {\"hovertemplate\": \"<b>%{hovertext}</b><br><br>Country=Croatia<br>GDP per capita (current US$)=%{x}<br>Average Internet usage over the years=%{marker.size}<extra></extra>\", \"hovertext\": [\"Croatia\"], \"legendgroup\": \"Croatia\", \"marker\": {\"color\": \"#19d3f3\", \"size\": [57.606160661350835], \"sizemode\": \"area\", \"sizeref\": 0.025361307840186014, \"symbol\": \"circle\"}, \"mode\": \"markers\", \"name\": \"Croatia\", \"showlegend\": true, \"type\": \"scatter\", \"x\": [11479.4], \"xaxis\": \"x\", \"y\": [57.606160661350835], \"yaxis\": \"y\"}, {\"hovertemplate\": \"<b>%{hovertext}</b><br><br>Country=Montenegro<br>GDP per capita (current US$)=%{x}<br>Average Internet usage over the years=%{marker.size}<extra></extra>\", \"hovertext\": [\"Montenegro\"], \"legendgroup\": \"Montenegro\", \"marker\": {\"color\": \"#FF6692\", \"size\": [50.831921564433515], \"sizemode\": \"area\", \"sizeref\": 0.025361307840186014, \"symbol\": \"circle\"}, \"mode\": \"markers\", \"name\": \"Montenegro\", \"showlegend\": true, \"type\": \"scatter\", \"x\": [6424.1], \"xaxis\": \"x\", \"y\": [50.831921564433515], \"yaxis\": \"y\"}, {\"hovertemplate\": \"<b>%{hovertext}</b><br><br>Country=Turkey<br>GDP per capita (current US$)=%{x}<br>Average Internet usage over the years=%{marker.size}<extra></extra>\", \"hovertext\": [\"Turkey\"], \"legendgroup\": \"Turkey\", \"marker\": {\"color\": \"#B6E880\", \"size\": [44.75886248828977], \"sizemode\": \"area\", \"sizeref\": 0.025361307840186014, \"symbol\": \"circle\"}, \"mode\": \"markers\", \"name\": \"Turkey\", \"showlegend\": true, \"type\": \"scatter\", \"x\": [9125.8], \"xaxis\": \"x\", \"y\": [44.75886248828977], \"yaxis\": \"y\"}, {\"hovertemplate\": \"<b>%{hovertext}</b><br><br>Country=Romania<br>GDP per capita (current US$)=%{x}<br>Average Internet usage over the years=%{marker.size}<extra></extra>\", \"hovertext\": [\"Romania\"], \"legendgroup\": \"Romania\", \"marker\": {\"color\": \"#FF97FF\", \"size\": [45.861265429333436], \"sizemode\": \"area\", \"sizeref\": 0.025361307840186014, \"symbol\": \"circle\"}, \"mode\": \"markers\", \"name\": \"Romania\", \"showlegend\": true, \"type\": \"scatter\", \"x\": [9120.7], \"xaxis\": \"x\", \"y\": [45.861265429333436], \"yaxis\": \"y\"}, {\"hovertemplate\": \"<b>%{hovertext}</b><br><br>Country=Viet Nam<br>GDP per capita (current US$)=%{x}<br>Average Internet usage over the years=%{marker.size}<extra></extra>\", \"hovertext\": [\"Viet Nam\"], \"legendgroup\": \"Viet Nam\", \"marker\": {\"color\": \"#FECB52\", \"size\": [38.31852846784545], \"sizemode\": \"area\", \"sizeref\": 0.025361307840186014, \"symbol\": \"circle\"}, \"mode\": \"markers\", \"name\": \"Viet Nam\", \"showlegend\": true, \"type\": \"scatter\", \"x\": [2067.9], \"xaxis\": \"x\", \"y\": [38.31852846784545], \"yaxis\": \"y\"}, {\"hovertemplate\": \"<b>%{hovertext}</b><br><br>Country=Bosnia and Herzegovina<br>GDP per capita (current US$)=%{x}<br>Average Internet usage over the years=%{marker.size}<extra></extra>\", \"hovertext\": [\"Bosnia and Herzegovina\"], \"legendgroup\": \"Bosnia and Herzegovina\", \"marker\": {\"color\": \"#636efa\", \"size\": [45.49268573355297], \"sizemode\": \"area\", \"sizeref\": 0.025361307840186014, \"symbol\": \"circle\"}, \"mode\": \"markers\", \"name\": \"Bosnia and Herzegovina\", \"showlegend\": true, \"type\": \"scatter\", \"x\": [4265.0], \"xaxis\": \"x\", \"y\": [45.49268573355297], \"yaxis\": \"y\"}, {\"hovertemplate\": \"<b>%{hovertext}</b><br><br>Country=Iran (Islamic Republic of)<br>GDP per capita (current US$)=%{x}<br>Average Internet usage over the years=%{marker.size}<extra></extra>\", \"hovertext\": [\"Iran (Islamic Republic of)\"], \"legendgroup\": \"Iran (Islamic Republic of)\", \"marker\": {\"color\": \"#EF553B\", \"size\": [33.506769401156866], \"sizemode\": \"area\", \"sizeref\": 0.025361307840186014, \"symbol\": \"circle\"}, \"mode\": \"markers\", \"name\": \"Iran (Islamic Republic of)\", \"showlegend\": true, \"type\": \"scatter\", \"x\": [5038.1], \"xaxis\": \"x\", \"y\": [33.506769401156866], \"yaxis\": \"y\"}, {\"hovertemplate\": \"<b>%{hovertext}</b><br><br>Country=Mexico<br>GDP per capita (current US$)=%{x}<br>Average Internet usage over the years=%{marker.size}<extra></extra>\", \"hovertext\": [\"Mexico\"], \"legendgroup\": \"Mexico\", \"marker\": {\"color\": \"#00cc96\", \"size\": [42.2467320112896], \"sizemode\": \"area\", \"sizeref\": 0.025361307840186014, \"symbol\": \"circle\"}, \"mode\": \"markers\", \"name\": \"Mexico\", \"showlegend\": true, \"type\": \"scatter\", \"x\": [8980.9], \"xaxis\": \"x\", \"y\": [42.2467320112896], \"yaxis\": \"y\"}, {\"hovertemplate\": \"<b>%{hovertext}</b><br><br>Country=Paraguay<br>GDP per capita (current US$)=%{x}<br>Average Internet usage over the years=%{marker.size}<extra></extra>\", \"hovertext\": [\"Paraguay\"], \"legendgroup\": \"Paraguay\", \"marker\": {\"color\": \"#ab63fa\", \"size\": [35.604689197812355], \"sizemode\": \"area\", \"sizeref\": 0.025361307840186014, \"symbol\": \"circle\"}, \"mode\": \"markers\", \"name\": \"Paraguay\", \"showlegend\": true, \"type\": \"scatter\", \"x\": [4174.4], \"xaxis\": \"x\", \"y\": [35.604689197812355], \"yaxis\": \"y\"}, {\"hovertemplate\": \"<b>%{hovertext}</b><br><br>Country=Morocco<br>GDP per capita (current US$)=%{x}<br>Average Internet usage over the years=%{marker.size}<extra></extra>\", \"hovertext\": [\"Morocco\"], \"legendgroup\": \"Morocco\", \"marker\": {\"color\": \"#FFA15A\", \"size\": [47.63809865270177], \"sizemode\": \"area\", \"sizeref\": 0.025361307840186014, \"symbol\": \"circle\"}, \"mode\": \"markers\", \"name\": \"Morocco\", \"showlegend\": true, \"type\": \"scatter\", \"x\": [2919.3], \"xaxis\": \"x\", \"y\": [47.63809865270177], \"yaxis\": \"y\"}, {\"hovertemplate\": \"<b>%{hovertext}</b><br><br>Country=Bulgaria<br>GDP per capita (current US$)=%{x}<br>Average Internet usage over the years=%{marker.size}<extra></extra>\", \"hovertext\": [\"Bulgaria\"], \"legendgroup\": \"Bulgaria\", \"marker\": {\"color\": \"#19d3f3\", \"size\": [47.69785126515635], \"sizemode\": \"area\", \"sizeref\": 0.025361307840186014, \"symbol\": \"circle\"}, \"mode\": \"markers\", \"name\": \"Bulgaria\", \"showlegend\": true, \"type\": \"scatter\", \"x\": [6846.8], \"xaxis\": \"x\", \"y\": [47.69785126515635], \"yaxis\": \"y\"}, {\"hovertemplate\": \"<b>%{hovertext}</b><br><br>Country=Palestine<br>GDP per capita (current US$)=%{x}<br>Average Internet usage over the years=%{marker.size}<extra></extra>\", \"hovertext\": [null], \"legendgroup\": \"Palestine\", \"marker\": {\"color\": \"#FF6692\", \"size\": [44.315352469079954], \"sizemode\": \"area\", \"sizeref\": 0.025361307840186014, \"symbol\": \"circle\"}, \"mode\": \"markers\", \"name\": \"Palestine\", \"showlegend\": true, \"type\": \"scatter\", \"x\": [null], \"xaxis\": \"x\", \"y\": [44.315352469079954], \"yaxis\": \"y\"}, {\"hovertemplate\": \"<b>%{hovertext}</b><br><br>Country=Tunisia<br>GDP per capita (current US$)=%{x}<br>Average Internet usage over the years=%{marker.size}<extra></extra>\", \"hovertext\": [\"Tunisia\"], \"legendgroup\": \"Tunisia\", \"marker\": {\"color\": \"#B6E880\", \"size\": [40.38082201278533], \"sizemode\": \"area\", \"sizeref\": 0.025361307840186014, \"symbol\": \"circle\"}, \"mode\": \"markers\", \"name\": \"Tunisia\", \"showlegend\": true, \"type\": \"scatter\", \"x\": [3660.9], \"xaxis\": \"x\", \"y\": [40.38082201278533], \"yaxis\": \"y\"}, {\"hovertemplate\": \"<b>%{hovertext}</b><br><br>Country=Georgia<br>GDP per capita (current US$)=%{x}<br>Average Internet usage over the years=%{marker.size}<extra></extra>\", \"hovertext\": [\"Georgia\"], \"legendgroup\": \"Georgia\", \"marker\": {\"color\": \"#FF97FF\", \"size\": [38.084307936557586], \"sizemode\": \"area\", \"sizeref\": 0.025361307840186014, \"symbol\": \"circle\"}, \"mode\": \"markers\", \"name\": \"Georgia\", \"showlegend\": true, \"type\": \"scatter\", \"x\": [3491.4], \"xaxis\": \"x\", \"y\": [38.084307936557586], \"yaxis\": \"y\"}, {\"hovertemplate\": \"<b>%{hovertext}</b><br><br>Country=Algeria<br>GDP per capita (current US$)=%{x}<br>Average Internet usage over the years=%{marker.size}<extra></extra>\", \"hovertext\": [\"Algeria\"], \"legendgroup\": \"Algeria\", \"marker\": {\"color\": \"#FECB52\", \"size\": [26.577446778483168], \"sizemode\": \"area\", \"sizeref\": 0.025361307840186014, \"symbol\": \"circle\"}, \"mode\": \"markers\", \"name\": \"Algeria\", \"showlegend\": true, \"type\": \"scatter\", \"x\": [4154.1], \"xaxis\": \"x\", \"y\": [26.577446778483168], \"yaxis\": \"y\"}, {\"hovertemplate\": \"<b>%{hovertext}</b><br><br>Country=Mauritius<br>GDP per capita (current US$)=%{x}<br>Average Internet usage over the years=%{marker.size}<extra></extra>\", \"hovertext\": [\"Mauritius\"], \"legendgroup\": \"Mauritius\", \"marker\": {\"color\": \"#636efa\", \"size\": [38.40035625382354], \"sizemode\": \"area\", \"sizeref\": 0.025361307840186014, \"symbol\": \"circle\"}, \"mode\": \"markers\", \"name\": \"Mauritius\", \"showlegend\": true, \"type\": \"scatter\", \"x\": [9040.9], \"xaxis\": \"x\", \"y\": [38.40035625382354], \"yaxis\": \"y\"}, {\"hovertemplate\": \"<b>%{hovertext}</b><br><br>Country=Cape Verde<br>GDP per capita (current US$)=%{x}<br>Average Internet usage over the years=%{marker.size}<extra></extra>\", \"hovertext\": [null], \"legendgroup\": \"Cape Verde\", \"marker\": {\"color\": \"#EF553B\", \"size\": [35.521169744811274], \"sizemode\": \"area\", \"sizeref\": 0.025361307840186014, \"symbol\": \"circle\"}, \"mode\": \"markers\", \"name\": \"Cape Verde\", \"showlegend\": true, \"type\": \"scatter\", \"x\": [null], \"xaxis\": \"x\", \"y\": [35.521169744811274], \"yaxis\": \"y\"}, {\"hovertemplate\": \"<b>%{hovertext}</b><br><br>Country=Thailand<br>GDP per capita (current US$)=%{x}<br>Average Internet usage over the years=%{marker.size}<extra></extra>\", \"hovertext\": [\"Thailand\"], \"legendgroup\": \"Thailand\", \"marker\": {\"color\": \"#00cc96\", \"size\": [31.964133989428145], \"sizemode\": \"area\", \"sizeref\": 0.025361307840186014, \"symbol\": \"circle\"}, \"mode\": \"markers\", \"name\": \"Thailand\", \"showlegend\": true, \"type\": \"scatter\", \"x\": [5814.8], \"xaxis\": \"x\", \"y\": [31.964133989428145], \"yaxis\": \"y\"}, {\"hovertemplate\": \"<b>%{hovertext}</b><br><br>Country=Peru<br>GDP per capita (current US$)=%{x}<br>Average Internet usage over the years=%{marker.size}<extra></extra>\", \"hovertext\": [\"Peru\"], \"legendgroup\": \"Peru\", \"marker\": {\"color\": \"#ab63fa\", \"size\": [36.01261047658745], \"sizemode\": \"area\", \"sizeref\": 0.025361307840186014, \"symbol\": \"circle\"}, \"mode\": \"markers\", \"name\": \"Peru\", \"showlegend\": true, \"type\": \"scatter\", \"x\": [6069.1], \"xaxis\": \"x\", \"y\": [36.01261047658745], \"yaxis\": \"y\"}, {\"hovertemplate\": \"<b>%{hovertext}</b><br><br>Country=Egypt<br>GDP per capita (current US$)=%{x}<br>Average Internet usage over the years=%{marker.size}<extra></extra>\", \"hovertext\": [\"Egypt\"], \"legendgroup\": \"Egypt\", \"marker\": {\"color\": \"#FFA15A\", \"size\": [29.202532891201518], \"sizemode\": \"area\", \"sizeref\": 0.025361307840186014, \"symbol\": \"circle\"}, \"mode\": \"markers\", \"name\": \"Egypt\", \"showlegend\": true, \"type\": \"scatter\", \"x\": [3452.3], \"xaxis\": \"x\", \"y\": [29.202532891201518], \"yaxis\": \"y\"}, {\"hovertemplate\": \"<b>%{hovertext}</b><br><br>Country=C\\u00f4te d'Ivoire<br>GDP per capita (current US$)=%{x}<br>Average Internet usage over the years=%{marker.size}<extra></extra>\", \"hovertext\": [null], \"legendgroup\": \"C\\u00f4te d'Ivoire\", \"marker\": {\"color\": \"#19d3f3\", \"size\": [19.405126594398283], \"sizemode\": \"area\", \"sizeref\": 0.025361307840186014, \"symbol\": \"circle\"}, \"mode\": \"markers\", \"name\": \"C\\u00f4te d'Ivoire\", \"showlegend\": true, \"type\": \"scatter\", \"x\": [null], \"xaxis\": \"x\", \"y\": [19.405126594398283], \"yaxis\": \"y\"}, {\"hovertemplate\": \"<b>%{hovertext}</b><br><br>Country=Cambodia<br>GDP per capita (current US$)=%{x}<br>Average Internet usage over the years=%{marker.size}<extra></extra>\", \"hovertext\": [\"Cambodia\"], \"legendgroup\": \"Cambodia\", \"marker\": {\"color\": \"#FF6692\", \"size\": [12.885721432852053], \"sizemode\": \"area\", \"sizeref\": 0.025361307840186014, \"symbol\": \"circle\"}, \"mode\": \"markers\", \"name\": \"Cambodia\", \"showlegend\": true, \"type\": \"scatter\", \"x\": [1158.7], \"xaxis\": \"x\", \"y\": [12.885721432852053], \"yaxis\": \"y\"}, {\"hovertemplate\": \"<b>%{hovertext}</b><br><br>Country=Indonesia<br>GDP per capita (current US$)=%{x}<br>Average Internet usage over the years=%{marker.size}<extra></extra>\", \"hovertext\": [\"Indonesia\"], \"legendgroup\": \"Indonesia\", \"marker\": {\"color\": \"#B6E880\", \"size\": [17.620994089873815], \"sizemode\": \"area\", \"sizeref\": 0.025361307840186014, \"symbol\": \"circle\"}, \"mode\": \"markers\", \"name\": \"Indonesia\", \"showlegend\": true, \"type\": \"scatter\", \"x\": [3346.5], \"xaxis\": \"x\", \"y\": [17.620994089873815], \"yaxis\": \"y\"}, {\"hovertemplate\": \"<b>%{hovertext}</b><br><br>Country=Haiti<br>GDP per capita (current US$)=%{x}<br>Average Internet usage over the years=%{marker.size}<extra></extra>\", \"hovertext\": [\"Haiti\"], \"legendgroup\": \"Haiti\", \"marker\": {\"color\": \"#FF97FF\", \"size\": [11.364318606226908], \"sizemode\": \"area\", \"sizeref\": 0.025361307840186014, \"symbol\": \"circle\"}, \"mode\": \"markers\", \"name\": \"Haiti\", \"showlegend\": true, \"type\": \"scatter\", \"x\": [793.7], \"xaxis\": \"x\", \"y\": [11.364318606226908], \"yaxis\": \"y\"}, {\"hovertemplate\": \"<b>%{hovertext}</b><br><br>Country=Saint Vincent and the Grenadines<br>GDP per capita (current US$)=%{x}<br>Average Internet usage over the years=%{marker.size}<extra></extra>\", \"hovertext\": [\"Saint Vincent and the Grenadines\"], \"legendgroup\": \"Saint Vincent and the Grenadines\", \"marker\": {\"color\": \"#FECB52\", \"size\": [26.90575967308647], \"sizemode\": \"area\", \"sizeref\": 0.025361307840186014, \"symbol\": \"circle\"}, \"mode\": \"markers\", \"name\": \"Saint Vincent and the Grenadines\", \"showlegend\": true, \"type\": \"scatter\", \"x\": [6739.2], \"xaxis\": \"x\", \"y\": [26.90575967308647], \"yaxis\": \"y\"}, {\"hovertemplate\": \"<b>%{hovertext}</b><br><br>Country=Zambia<br>GDP per capita (current US$)=%{x}<br>Average Internet usage over the years=%{marker.size}<extra></extra>\", \"hovertext\": [\"Zambia\"], \"legendgroup\": \"Zambia\", \"marker\": {\"color\": \"#636efa\", \"size\": [12.110690895124083], \"sizemode\": \"area\", \"sizeref\": 0.025361307840186014, \"symbol\": \"circle\"}, \"mode\": \"markers\", \"name\": \"Zambia\", \"showlegend\": true, \"type\": \"scatter\", \"x\": [1311.1], \"xaxis\": \"x\", \"y\": [12.110690895124083], \"yaxis\": \"y\"}, {\"hovertemplate\": \"<b>%{hovertext}</b><br><br>Country=Niger<br>GDP per capita (current US$)=%{x}<br>Average Internet usage over the years=%{marker.size}<extra></extra>\", \"hovertext\": [\"Niger\"], \"legendgroup\": \"Niger\", \"marker\": {\"color\": \"#EF553B\", \"size\": [2.519095962390164], \"sizemode\": \"area\", \"sizeref\": 0.025361307840186014, \"symbol\": \"circle\"}, \"mode\": \"markers\", \"name\": \"Niger\", \"showlegend\": true, \"type\": \"scatter\", \"x\": [359.0], \"xaxis\": \"x\", \"y\": [2.519095962390164], \"yaxis\": \"y\"}, {\"hovertemplate\": \"<b>%{hovertext}</b><br><br>Country=Albania<br>GDP per capita (current US$)=%{x}<br>Average Internet usage over the years=%{marker.size}<extra></extra>\", \"hovertext\": [\"Albania\"], \"legendgroup\": \"Albania\", \"marker\": {\"color\": \"#00cc96\", \"size\": [43.05248774117164], \"sizemode\": \"area\", \"sizeref\": 0.025361307840186014, \"symbol\": \"circle\"}, \"mode\": \"markers\", \"name\": \"Albania\", \"showlegend\": true, \"type\": \"scatter\", \"x\": [3984.2], \"xaxis\": \"x\", \"y\": [43.05248774117164], \"yaxis\": \"y\"}, {\"hovertemplate\": \"<b>%{hovertext}</b><br><br>Country=Antigua and Barbuda<br>GDP per capita (current US$)=%{x}<br>Average Internet usage over the years=%{marker.size}<extra></extra>\", \"hovertext\": [\"Antigua and Barbuda\"], \"legendgroup\": \"Antigua and Barbuda\", \"marker\": {\"color\": \"#ab63fa\", \"size\": [49.151111430639006], \"sizemode\": \"area\", \"sizeref\": 0.025361307840186014, \"symbol\": \"circle\"}, \"mode\": \"markers\", \"name\": \"Antigua and Barbuda\", \"showlegend\": true, \"type\": \"scatter\", \"x\": [14764.5], \"xaxis\": \"x\", \"y\": [49.151111430639006], \"yaxis\": \"y\"}, {\"hovertemplate\": \"<b>%{hovertext}</b><br><br>Country=Australia<br>GDP per capita (current US$)=%{x}<br>Average Internet usage over the years=%{marker.size}<extra></extra>\", \"hovertext\": [\"Australia\"], \"legendgroup\": \"Australia\", \"marker\": {\"color\": \"#FFA15A\", \"size\": [69.94026169908871], \"sizemode\": \"area\", \"sizeref\": 0.025361307840186014, \"symbol\": \"circle\"}, \"mode\": \"markers\", \"name\": \"Australia\", \"showlegend\": true, \"type\": \"scatter\", \"x\": [51352.2], \"xaxis\": \"x\", \"y\": [69.94026169908871], \"yaxis\": \"y\"}, {\"hovertemplate\": \"<b>%{hovertext}</b><br><br>Country=Bangladesh<br>GDP per capita (current US$)=%{x}<br>Average Internet usage over the years=%{marker.size}<extra></extra>\", \"hovertext\": [\"Bangladesh\"], \"legendgroup\": \"Bangladesh\", \"marker\": {\"color\": \"#19d3f3\", \"size\": [7.405697886244315], \"sizemode\": \"area\", \"sizeref\": 0.025361307840186014, \"symbol\": \"circle\"}, \"mode\": \"markers\", \"name\": \"Bangladesh\", \"showlegend\": true, \"type\": \"scatter\", \"x\": [1207.9], \"xaxis\": \"x\", \"y\": [7.405697886244315], \"yaxis\": \"y\"}, {\"hovertemplate\": \"<b>%{hovertext}</b><br><br>Country=Belize<br>GDP per capita (current US$)=%{x}<br>Average Internet usage over the years=%{marker.size}<extra></extra>\", \"hovertext\": [\"Belize\"], \"legendgroup\": \"Belize\", \"marker\": {\"color\": \"#FF6692\", \"size\": [28.94656376601779], \"sizemode\": \"area\", \"sizeref\": 0.025361307840186014, \"symbol\": \"circle\"}, \"mode\": \"markers\", \"name\": \"Belize\", \"showlegend\": true, \"type\": \"scatter\", \"x\": [4789.4], \"xaxis\": \"x\", \"y\": [28.94656376601779], \"yaxis\": \"y\"}, {\"hovertemplate\": \"<b>%{hovertext}</b><br><br>Country=Benin<br>GDP per capita (current US$)=%{x}<br>Average Internet usage over the years=%{marker.size}<extra></extra>\", \"hovertext\": [\"Benin\"], \"legendgroup\": \"Benin\", \"marker\": {\"color\": \"#B6E880\", \"size\": [6.129421652181342], \"sizemode\": \"area\", \"sizeref\": 0.025361307840186014, \"symbol\": \"circle\"}, \"mode\": \"markers\", \"name\": \"Benin\", \"showlegend\": true, \"type\": \"scatter\", \"x\": [779.1], \"xaxis\": \"x\", \"y\": [6.129421652181342], \"yaxis\": \"y\"}, {\"hovertemplate\": \"<b>%{hovertext}</b><br><br>Country=Botswana<br>GDP per capita (current US$)=%{x}<br>Average Internet usage over the years=%{marker.size}<extra></extra>\", \"hovertext\": [\"Botswana\"], \"legendgroup\": \"Botswana\", \"marker\": {\"color\": \"#FF97FF\", \"size\": [20.689546895943735], \"sizemode\": \"area\", \"sizeref\": 0.025361307840186014, \"symbol\": \"circle\"}, \"mode\": \"markers\", \"name\": \"Botswana\", \"showlegend\": true, \"type\": \"scatter\", \"x\": [6360.6], \"xaxis\": \"x\", \"y\": [20.689546895943735], \"yaxis\": \"y\"}, {\"hovertemplate\": \"<b>%{hovertext}</b><br><br>Country=Brazil<br>GDP per capita (current US$)=%{x}<br>Average Internet usage over the years=%{marker.size}<extra></extra>\", \"hovertext\": [\"Brazil\"], \"legendgroup\": \"Brazil\", \"marker\": {\"color\": \"#FECB52\", \"size\": [41.00511005555452], \"sizemode\": \"area\", \"sizeref\": 0.025361307840186014, \"symbol\": \"circle\"}, \"mode\": \"markers\", \"name\": \"Brazil\", \"showlegend\": true, \"type\": \"scatter\", \"x\": [8528.3], \"xaxis\": \"x\", \"y\": [41.00511005555452], \"yaxis\": \"y\"}, {\"hovertemplate\": \"<b>%{hovertext}</b><br><br>Country=Burkina Faso<br>GDP per capita (current US$)=%{x}<br>Average Internet usage over the years=%{marker.size}<extra></extra>\", \"hovertext\": [\"Burkina Faso\"], \"legendgroup\": \"Burkina Faso\", \"marker\": {\"color\": \"#636efa\", \"size\": [6.557457233961455], \"sizemode\": \"area\", \"sizeref\": 0.025361307840186014, \"symbol\": \"circle\"}, \"mode\": \"markers\", \"name\": \"Burkina Faso\", \"showlegend\": true, \"type\": \"scatter\", \"x\": [611.1], \"xaxis\": \"x\", \"y\": [6.557457233961455], \"yaxis\": \"y\"}, {\"hovertemplate\": \"<b>%{hovertext}</b><br><br>Country=Burundi<br>GDP per capita (current US$)=%{x}<br>Average Internet usage over the years=%{marker.size}<extra></extra>\", \"hovertext\": [\"Burundi\"], \"legendgroup\": \"Burundi\", \"marker\": {\"color\": \"#EF553B\", \"size\": [1.75401901309071], \"sizemode\": \"area\", \"sizeref\": 0.025361307840186014, \"symbol\": \"circle\"}, \"mode\": \"markers\", \"name\": \"Burundi\", \"showlegend\": true, \"type\": \"scatter\", \"x\": [244.6], \"xaxis\": \"x\", \"y\": [1.75401901309071], \"yaxis\": \"y\"}, {\"hovertemplate\": \"<b>%{hovertext}</b><br><br>Country=Canada<br>GDP per capita (current US$)=%{x}<br>Average Internet usage over the years=%{marker.size}<extra></extra>\", \"hovertext\": [\"Canada\"], \"legendgroup\": \"Canada\", \"marker\": {\"color\": \"#00cc96\", \"size\": [74.03090909090909], \"sizemode\": \"area\", \"sizeref\": 0.025361307840186014, \"symbol\": \"circle\"}, \"mode\": \"markers\", \"name\": \"Canada\", \"showlegend\": true, \"type\": \"scatter\", \"x\": [43205.6], \"xaxis\": \"x\", \"y\": [74.03090909090909], \"yaxis\": \"y\"}, {\"hovertemplate\": \"<b>%{hovertext}</b><br><br>Country=China<br>GDP per capita (current US$)=%{x}<br>Average Internet usage over the years=%{marker.size}<extra></extra>\", \"hovertext\": [\"China\"], \"legendgroup\": \"China\", \"marker\": {\"color\": \"#ab63fa\", \"size\": [34.24538979046083], \"sizemode\": \"area\", \"sizeref\": 0.025361307840186014, \"symbol\": \"circle\"}, \"mode\": \"markers\", \"name\": \"China\", \"showlegend\": true, \"type\": \"scatter\", \"x\": [8109.1], \"xaxis\": \"x\", \"y\": [34.24538979046083], \"yaxis\": \"y\"}, {\"hovertemplate\": \"<b>%{hovertext}</b><br><br>Country=Colombia<br>GDP per capita (current US$)=%{x}<br>Average Internet usage over the years=%{marker.size}<extra></extra>\", \"hovertext\": [\"Colombia\"], \"legendgroup\": \"Colombia\", \"marker\": {\"color\": \"#FFA15A\", \"size\": [38.14700536745515], \"sizemode\": \"area\", \"sizeref\": 0.025361307840186014, \"symbol\": \"circle\"}, \"mode\": \"markers\", \"name\": \"Colombia\", \"showlegend\": true, \"type\": \"scatter\", \"x\": [6056.1], \"xaxis\": \"x\", \"y\": [38.14700536745515], \"yaxis\": \"y\"}, {\"hovertemplate\": \"<b>%{hovertext}</b><br><br>Country=Congo (Rep.)<br>GDP per capita (current US$)=%{x}<br>Average Internet usage over the years=%{marker.size}<extra></extra>\", \"hovertext\": [null], \"legendgroup\": \"Congo (Rep.)\", \"marker\": {\"color\": \"#19d3f3\", \"size\": [5.11767216377099], \"sizemode\": \"area\", \"sizeref\": 0.025361307840186014, \"symbol\": \"circle\"}, \"mode\": \"markers\", \"name\": \"Congo (Rep.)\", \"showlegend\": true, \"type\": \"scatter\", \"x\": [null], \"xaxis\": \"x\", \"y\": [5.11767216377099], \"yaxis\": \"y\"}, {\"hovertemplate\": \"<b>%{hovertext}</b><br><br>Country=Cuba<br>GDP per capita (current US$)=%{x}<br>Average Internet usage over the years=%{marker.size}<extra></extra>\", \"hovertext\": [\"Cuba\"], \"legendgroup\": \"Cuba\", \"marker\": {\"color\": \"#FF6692\", \"size\": [23.438990622495943], \"sizemode\": \"area\", \"sizeref\": 0.025361307840186014, \"symbol\": \"circle\"}, \"mode\": \"markers\", \"name\": \"Cuba\", \"showlegend\": true, \"type\": \"scatter\", \"x\": [7656.6], \"xaxis\": \"x\", \"y\": [23.438990622495943], \"yaxis\": \"y\"}, {\"hovertemplate\": \"<b>%{hovertext}</b><br><br>Country=Dem. People's Rep. of Korea<br>GDP per capita (current US$)=%{x}<br>Average Internet usage over the years=%{marker.size}<extra></extra>\", \"hovertext\": [null], \"legendgroup\": \"Dem. People's Rep. of Korea\", \"marker\": {\"color\": \"#B6E880\", \"size\": [0.0], \"sizemode\": \"area\", \"sizeref\": 0.025361307840186014, \"symbol\": \"circle\"}, \"mode\": \"markers\", \"name\": \"Dem. People's Rep. of Korea\", \"showlegend\": true, \"type\": \"scatter\", \"x\": [null], \"xaxis\": \"x\", \"y\": [0.0], \"yaxis\": \"y\"}, {\"hovertemplate\": \"<b>%{hovertext}</b><br><br>Country=Dominica<br>GDP per capita (current US$)=%{x}<br>Average Internet usage over the years=%{marker.size}<extra></extra>\", \"hovertext\": [\"Dominica\"], \"legendgroup\": \"Dominica\", \"marker\": {\"color\": \"#FF97FF\", \"size\": [45.75983238687181], \"sizemode\": \"area\", \"sizeref\": 0.025361307840186014, \"symbol\": \"circle\"}, \"mode\": \"markers\", \"name\": \"Dominica\", \"showlegend\": true, \"type\": \"scatter\", \"x\": [7051.1], \"xaxis\": \"x\", \"y\": [45.75983238687181], \"yaxis\": \"y\"}, {\"hovertemplate\": \"<b>%{hovertext}</b><br><br>Country=Ecuador<br>GDP per capita (current US$)=%{x}<br>Average Internet usage over the years=%{marker.size}<extra></extra>\", \"hovertext\": [\"Ecuador\"], \"legendgroup\": \"Ecuador\", \"marker\": {\"color\": \"#FECB52\", \"size\": [31.73941030180106], \"sizemode\": \"area\", \"sizeref\": 0.025361307840186014, \"symbol\": \"circle\"}, \"mode\": \"markers\", \"name\": \"Ecuador\", \"showlegend\": true, \"type\": \"scatter\", \"x\": [6205.1], \"xaxis\": \"x\", \"y\": [31.73941030180106], \"yaxis\": \"y\"}, {\"hovertemplate\": \"<b>%{hovertext}</b><br><br>Country=Equatorial Guinea<br>GDP per capita (current US$)=%{x}<br>Average Internet usage over the years=%{marker.size}<extra></extra>\", \"hovertext\": [\"Equatorial Guinea\"], \"legendgroup\": \"Equatorial Guinea\", \"marker\": {\"color\": \"#636efa\", \"size\": [12.665938767297403], \"sizemode\": \"area\", \"sizeref\": 0.025361307840186014, \"symbol\": \"circle\"}, \"mode\": \"markers\", \"name\": \"Equatorial Guinea\", \"showlegend\": true, \"type\": \"scatter\", \"x\": [16344.1], \"xaxis\": \"x\", \"y\": [12.665938767297403], \"yaxis\": \"y\"}, {\"hovertemplate\": \"<b>%{hovertext}</b><br><br>Country=Eritrea<br>GDP per capita (current US$)=%{x}<br>Average Internet usage over the years=%{marker.size}<extra></extra>\", \"hovertext\": [\"Eritrea\"], \"legendgroup\": \"Eritrea\", \"marker\": {\"color\": \"#EF553B\", \"size\": [0.7005882506184542], \"sizemode\": \"area\", \"sizeref\": 0.025361307840186014, \"symbol\": \"circle\"}, \"mode\": \"markers\", \"name\": \"Eritrea\", \"showlegend\": true, \"type\": \"scatter\", \"x\": [914.9], \"xaxis\": \"x\", \"y\": [0.7005882506184542], \"yaxis\": \"y\"}, {\"hovertemplate\": \"<b>%{hovertext}</b><br><br>Country=Fiji<br>GDP per capita (current US$)=%{x}<br>Average Internet usage over the years=%{marker.size}<extra></extra>\", \"hovertext\": [\"Fiji\"], \"legendgroup\": \"Fiji\", \"marker\": {\"color\": \"#00cc96\", \"size\": [27.569654494754733], \"sizemode\": \"area\", \"sizeref\": 0.025361307840186014, \"symbol\": \"circle\"}, \"mode\": \"markers\", \"name\": \"Fiji\", \"showlegend\": true, \"type\": \"scatter\", \"x\": [4921.9], \"xaxis\": \"x\", \"y\": [27.569654494754733], \"yaxis\": \"y\"}, {\"hovertemplate\": \"<b>%{hovertext}</b><br><br>Country=Gabon<br>GDP per capita (current US$)=%{x}<br>Average Internet usage over the years=%{marker.size}<extra></extra>\", \"hovertext\": [\"Gabon\"], \"legendgroup\": \"Gabon\", \"marker\": {\"color\": \"#ab63fa\", \"size\": [25.95958712532986], \"sizemode\": \"area\", \"sizeref\": 0.025361307840186014, \"symbol\": \"circle\"}, \"mode\": \"markers\", \"name\": \"Gabon\", \"showlegend\": true, \"type\": \"scatter\", \"x\": [7960.7], \"xaxis\": \"x\", \"y\": [25.95958712532986], \"yaxis\": \"y\"}, {\"hovertemplate\": \"<b>%{hovertext}</b><br><br>Country=Ghana<br>GDP per capita (current US$)=%{x}<br>Average Internet usage over the years=%{marker.size}<extra></extra>\", \"hovertext\": [\"Ghana\"], \"legendgroup\": \"Ghana\", \"marker\": {\"color\": \"#FFA15A\", \"size\": [15.324413712606543], \"sizemode\": \"area\", \"sizeref\": 0.025361307840186014, \"symbol\": \"circle\"}, \"mode\": \"markers\", \"name\": \"Ghana\", \"showlegend\": true, \"type\": \"scatter\", \"x\": [1355.6], \"xaxis\": \"x\", \"y\": [15.324413712606543], \"yaxis\": \"y\"}, {\"hovertemplate\": \"<b>%{hovertext}</b><br><br>Country=Guinea-Bissau<br>GDP per capita (current US$)=%{x}<br>Average Internet usage over the years=%{marker.size}<extra></extra>\", \"hovertext\": [\"Guinea-Bissau\"], \"legendgroup\": \"Guinea-Bissau\", \"marker\": {\"color\": \"#19d3f3\", \"size\": [2.527280818991616], \"sizemode\": \"area\", \"sizeref\": 0.025361307840186014, \"symbol\": \"circle\"}, \"mode\": \"markers\", \"name\": \"Guinea-Bissau\", \"showlegend\": true, \"type\": \"scatter\", \"x\": [530.0], \"xaxis\": \"x\", \"y\": [2.527280818991616], \"yaxis\": \"y\"}, {\"hovertemplate\": \"<b>%{hovertext}</b><br><br>Country=Guyana<br>GDP per capita (current US$)=%{x}<br>Average Internet usage over the years=%{marker.size}<extra></extra>\", \"hovertext\": [\"Guyana\"], \"legendgroup\": \"Guyana\", \"marker\": {\"color\": \"#FF6692\", \"size\": [24.272484395775418], \"sizemode\": \"area\", \"sizeref\": 0.025361307840186014, \"symbol\": \"circle\"}, \"mode\": \"markers\", \"name\": \"Guyana\", \"showlegend\": true, \"type\": \"scatter\", \"x\": [4278.8], \"xaxis\": \"x\", \"y\": [24.272484395775418], \"yaxis\": \"y\"}, {\"hovertemplate\": \"<b>%{hovertext}</b><br><br>Country=India<br>GDP per capita (current US$)=%{x}<br>Average Internet usage over the years=%{marker.size}<extra></extra>\", \"hovertext\": [\"India\"], \"legendgroup\": \"India\", \"marker\": {\"color\": \"#B6E880\", \"size\": [12.965060760344018], \"sizemode\": \"area\", \"sizeref\": 0.025361307840186014, \"symbol\": \"circle\"}, \"mode\": \"markers\", \"name\": \"India\", \"showlegend\": true, \"type\": \"scatter\", \"x\": [1614.2], \"xaxis\": \"x\", \"y\": [12.965060760344018], \"yaxis\": \"y\"}, {\"hovertemplate\": \"<b>%{hovertext}</b><br><br>Country=Israel<br>GDP per capita (current US$)=%{x}<br>Average Internet usage over the years=%{marker.size}<extra></extra>\", \"hovertext\": [\"Israel\"], \"legendgroup\": \"Israel\", \"marker\": {\"color\": \"#FF97FF\", \"size\": [57.91783390414793], \"sizemode\": \"area\", \"sizeref\": 0.025361307840186014, \"symbol\": \"circle\"}, \"mode\": \"markers\", \"name\": \"Israel\", \"showlegend\": true, \"type\": \"scatter\", \"x\": [37129.4], \"xaxis\": \"x\", \"y\": [57.91783390414793], \"yaxis\": \"y\"}, {\"hovertemplate\": \"<b>%{hovertext}</b><br><br>Country=Jordan<br>GDP per capita (current US$)=%{x}<br>Average Internet usage over the years=%{marker.size}<extra></extra>\", \"hovertext\": [\"Jordan\"], \"legendgroup\": \"Jordan\", \"marker\": {\"color\": \"#FECB52\", \"size\": [35.587547014230175], \"sizemode\": \"area\", \"sizeref\": 0.025361307840186014, \"symbol\": \"circle\"}, \"mode\": \"markers\", \"name\": \"Jordan\", \"showlegend\": true, \"type\": \"scatter\", \"x\": [4940.1], \"xaxis\": \"x\", \"y\": [35.587547014230175], \"yaxis\": \"y\"}, {\"hovertemplate\": \"<b>%{hovertext}</b><br><br>Country=Kiribati<br>GDP per capita (current US$)=%{x}<br>Average Internet usage over the years=%{marker.size}<extra></extra>\", \"hovertext\": [\"Kiribati\"], \"legendgroup\": \"Kiribati\", \"marker\": {\"color\": \"#636efa\", \"size\": [9.14830229401086], \"sizemode\": \"area\", \"sizeref\": 0.025361307840186014, \"symbol\": \"circle\"}, \"mode\": \"markers\", \"name\": \"Kiribati\", \"showlegend\": true, \"type\": \"scatter\", \"x\": [1442.9], \"xaxis\": \"x\", \"y\": [9.14830229401086], \"yaxis\": \"y\"}, {\"hovertemplate\": \"<b>%{hovertext}</b><br><br>Country=Lebanon<br>GDP per capita (current US$)=%{x}<br>Average Internet usage over the years=%{marker.size}<extra></extra>\", \"hovertext\": [\"Lebanon\"], \"legendgroup\": \"Lebanon\", \"marker\": {\"color\": \"#EF553B\", \"size\": [49.71030039503853], \"sizemode\": \"area\", \"sizeref\": 0.025361307840186014, \"symbol\": \"circle\"}, \"mode\": \"markers\", \"name\": \"Lebanon\", \"showlegend\": true, \"type\": \"scatter\", \"x\": [8571.4], \"xaxis\": \"x\", \"y\": [49.71030039503853], \"yaxis\": \"y\"}, {\"hovertemplate\": \"<b>%{hovertext}</b><br><br>Country=Lesotho<br>GDP per capita (current US$)=%{x}<br>Average Internet usage over the years=%{marker.size}<extra></extra>\", \"hovertext\": [\"Lesotho\"], \"legendgroup\": \"Lesotho\", \"marker\": {\"color\": \"#00cc96\", \"size\": [12.91018650495968], \"sizemode\": \"area\", \"sizeref\": 0.025361307840186014, \"symbol\": \"circle\"}, \"mode\": \"markers\", \"name\": \"Lesotho\", \"showlegend\": true, \"type\": \"scatter\", \"x\": [940.6], \"xaxis\": \"x\", \"y\": [12.91018650495968], \"yaxis\": \"y\"}, {\"hovertemplate\": \"<b>%{hovertext}</b><br><br>Country=Maldives<br>GDP per capita (current US$)=%{x}<br>Average Internet usage over the years=%{marker.size}<extra></extra>\", \"hovertext\": [\"Maldives\"], \"legendgroup\": \"Maldives\", \"marker\": {\"color\": \"#ab63fa\", \"size\": [34.42307172759476], \"sizemode\": \"area\", \"sizeref\": 0.025361307840186014, \"symbol\": \"circle\"}, \"mode\": \"markers\", \"name\": \"Maldives\", \"showlegend\": true, \"type\": \"scatter\", \"x\": [9446.5], \"xaxis\": \"x\", \"y\": [34.42307172759476], \"yaxis\": \"y\"}, {\"hovertemplate\": \"<b>%{hovertext}</b><br><br>Country=Mauritania<br>GDP per capita (current US$)=%{x}<br>Average Internet usage over the years=%{marker.size}<extra></extra>\", \"hovertext\": [\"Mauritania\"], \"legendgroup\": \"Mauritania\", \"marker\": {\"color\": \"#FFA15A\", \"size\": [7.75109893541522], \"sizemode\": \"area\", \"sizeref\": 0.025361307840186014, \"symbol\": \"circle\"}, \"mode\": \"markers\", \"name\": \"Mauritania\", \"showlegend\": true, \"type\": \"scatter\", \"x\": [1235.0], \"xaxis\": \"x\", \"y\": [7.75109893541522], \"yaxis\": \"y\"}, {\"hovertemplate\": \"<b>%{hovertext}</b><br><br>Country=Micronesia<br>GDP per capita (current US$)=%{x}<br>Average Internet usage over the years=%{marker.size}<extra></extra>\", \"hovertext\": [null], \"legendgroup\": \"Micronesia\", \"marker\": {\"color\": \"#19d3f3\", \"size\": [21.999813721176654], \"sizemode\": \"area\", \"sizeref\": 0.025361307840186014, \"symbol\": \"circle\"}, \"mode\": \"markers\", \"name\": \"Micronesia\", \"showlegend\": true, \"type\": \"scatter\", \"x\": [null], \"xaxis\": \"x\", \"y\": [21.999813721176654], \"yaxis\": \"y\"}, {\"hovertemplate\": \"<b>%{hovertext}</b><br><br>Country=Moldova<br>GDP per capita (current US$)=%{x}<br>Average Internet usage over the years=%{marker.size}<extra></extra>\", \"hovertext\": [null], \"legendgroup\": \"Moldova\", \"marker\": {\"color\": \"#FF6692\", \"size\": [42.973421443185515], \"sizemode\": \"area\", \"sizeref\": 0.025361307840186014, \"symbol\": \"circle\"}, \"mode\": \"markers\", \"name\": \"Moldova\", \"showlegend\": true, \"type\": \"scatter\", \"x\": [null], \"xaxis\": \"x\", \"y\": [42.973421443185515], \"yaxis\": \"y\"}, {\"hovertemplate\": \"<b>%{hovertext}</b><br><br>Country=Nauru<br>GDP per capita (current US$)=%{x}<br>Average Internet usage over the years=%{marker.size}<extra></extra>\", \"hovertext\": [\"Nauru\"], \"legendgroup\": \"Nauru\", \"marker\": {\"color\": \"#B6E880\", \"size\": [10.090909090909092], \"sizemode\": \"area\", \"sizeref\": 0.025361307840186014, \"symbol\": \"circle\"}, \"mode\": \"markers\", \"name\": \"Nauru\", \"showlegend\": true, \"type\": \"scatter\", \"x\": [18469.2], \"xaxis\": \"x\", \"y\": [10.090909090909092], \"yaxis\": \"y\"}, {\"hovertemplate\": \"<b>%{hovertext}</b><br><br>Country=Nepal (Republic of)<br>GDP per capita (current US$)=%{x}<br>Average Internet usage over the years=%{marker.size}<extra></extra>\", \"hovertext\": [null], \"legendgroup\": \"Nepal (Republic of)\", \"marker\": {\"color\": \"#FF97FF\", \"size\": [11.738262253886141], \"sizemode\": \"area\", \"sizeref\": 0.025361307840186014, \"symbol\": \"circle\"}, \"mode\": \"markers\", \"name\": \"Nepal (Republic of)\", \"showlegend\": true, \"type\": \"scatter\", \"x\": [null], \"xaxis\": \"x\", \"y\": [11.738262253886141], \"yaxis\": \"y\"}, {\"hovertemplate\": \"<b>%{hovertext}</b><br><br>Country=New Zealand<br>GDP per capita (current US$)=%{x}<br>Average Internet usage over the years=%{marker.size}<extra></extra>\", \"hovertext\": [\"New Zealand\"], \"legendgroup\": \"New Zealand\", \"marker\": {\"color\": \"#FECB52\", \"size\": [71.74712793900886], \"sizemode\": \"area\", \"sizeref\": 0.025361307840186014, \"symbol\": \"circle\"}, \"mode\": \"markers\", \"name\": \"New Zealand\", \"showlegend\": true, \"type\": \"scatter\", \"x\": [38294.3], \"xaxis\": \"x\", \"y\": [71.74712793900886], \"yaxis\": \"y\"}, {\"hovertemplate\": \"<b>%{hovertext}</b><br><br>Country=Nicaragua<br>GDP per capita (current US$)=%{x}<br>Average Internet usage over the years=%{marker.size}<extra></extra>\", \"hovertext\": [\"Nicaragua\"], \"legendgroup\": \"Nicaragua\", \"marker\": {\"color\": \"#636efa\", \"size\": [12.989612102778066], \"sizemode\": \"area\", \"sizeref\": 0.025361307840186014, \"symbol\": \"circle\"}, \"mode\": \"markers\", \"name\": \"Nicaragua\", \"showlegend\": true, \"type\": \"scatter\", \"x\": [2086.9], \"xaxis\": \"x\", \"y\": [12.989612102778066], \"yaxis\": \"y\"}, {\"hovertemplate\": \"<b>%{hovertext}</b><br><br>Country=Oman<br>GDP per capita (current US$)=%{x}<br>Average Internet usage over the years=%{marker.size}<extra></extra>\", \"hovertext\": [\"Oman\"], \"legendgroup\": \"Oman\", \"marker\": {\"color\": \"#EF553B\", \"size\": [47.38752991272483], \"sizemode\": \"area\", \"sizeref\": 0.025361307840186014, \"symbol\": \"circle\"}, \"mode\": \"markers\", \"name\": \"Oman\", \"showlegend\": true, \"type\": \"scatter\", \"x\": [15550.8], \"xaxis\": \"x\", \"y\": [47.38752991272483], \"yaxis\": \"y\"}, {\"hovertemplate\": \"<b>%{hovertext}</b><br><br>Country=Pakistan<br>GDP per capita (current US$)=%{x}<br>Average Internet usage over the years=%{marker.size}<extra></extra>\", \"hovertext\": [\"Pakistan\"], \"legendgroup\": \"Pakistan\", \"marker\": {\"color\": \"#00cc96\", \"size\": [8.91707053257344], \"sizemode\": \"area\", \"sizeref\": 0.025361307840186014, \"symbol\": \"circle\"}, \"mode\": \"markers\", \"name\": \"Pakistan\", \"showlegend\": true, \"type\": \"scatter\", \"x\": [1410.4], \"xaxis\": \"x\", \"y\": [8.91707053257344], \"yaxis\": \"y\"}, {\"hovertemplate\": \"<b>%{hovertext}</b><br><br>Country=Panama<br>GDP per capita (current US$)=%{x}<br>Average Internet usage over the years=%{marker.size}<extra></extra>\", \"hovertext\": [\"Panama\"], \"legendgroup\": \"Panama\", \"marker\": {\"color\": \"#ab63fa\", \"size\": [35.741928730648], \"sizemode\": \"area\", \"sizeref\": 0.025361307840186014, \"symbol\": \"circle\"}, \"mode\": \"markers\", \"name\": \"Panama\", \"showlegend\": true, \"type\": \"scatter\", \"x\": [13268.1], \"xaxis\": \"x\", \"y\": [35.741928730648], \"yaxis\": \"y\"}, {\"hovertemplate\": \"<b>%{hovertext}</b><br><br>Country=Papua New Guinea<br>GDP per capita (current US$)=%{x}<br>Average Internet usage over the years=%{marker.size}<extra></extra>\", \"hovertext\": [\"Papua New Guinea\"], \"legendgroup\": \"Papua New Guinea\", \"marker\": {\"color\": \"#FFA15A\", \"size\": [4.512924984762882], \"sizemode\": \"area\", \"sizeref\": 0.025361307840186014, \"symbol\": \"circle\"}, \"mode\": \"markers\", \"name\": \"Papua New Guinea\", \"showlegend\": true, \"type\": \"scatter\", \"x\": [2797.6], \"xaxis\": \"x\", \"y\": [4.512924984762882], \"yaxis\": \"y\"}, {\"hovertemplate\": \"<b>%{hovertext}</b><br><br>Country=Philippines<br>GDP per capita (current US$)=%{x}<br>Average Internet usage over the years=%{marker.size}<extra></extra>\", \"hovertext\": [\"Philippines\"], \"legendgroup\": \"Philippines\", \"marker\": {\"color\": \"#19d3f3\", \"size\": [31.53352485892228], \"sizemode\": \"area\", \"sizeref\": 0.025361307840186014, \"symbol\": \"circle\"}, \"mode\": \"markers\", \"name\": \"Philippines\", \"showlegend\": true, \"type\": \"scatter\", \"x\": [2904.2], \"xaxis\": \"x\", \"y\": [31.53352485892228], \"yaxis\": \"y\"}, {\"hovertemplate\": \"<b>%{hovertext}</b><br><br>Country=Saint Lucia<br>GDP per capita (current US$)=%{x}<br>Average Internet usage over the years=%{marker.size}<extra></extra>\", \"hovertext\": [\"Saint Lucia\"], \"legendgroup\": \"Saint Lucia\", \"marker\": {\"color\": \"#FF6692\", \"size\": [31.25030178161835], \"sizemode\": \"area\", \"sizeref\": 0.025361307840186014, \"symbol\": \"circle\"}, \"mode\": \"markers\", \"name\": \"Saint Lucia\", \"showlegend\": true, \"type\": \"scatter\", \"x\": [7839.4], \"xaxis\": \"x\", \"y\": [31.25030178161835], \"yaxis\": \"y\"}, {\"hovertemplate\": \"<b>%{hovertext}</b><br><br>Country=Samoa<br>GDP per capita (current US$)=%{x}<br>Average Internet usage over the years=%{marker.size}<extra></extra>\", \"hovertext\": [\"Samoa\"], \"legendgroup\": \"Samoa\", \"marker\": {\"color\": \"#B6E880\", \"size\": [14.524650349476802], \"sizemode\": \"area\", \"sizeref\": 0.025361307840186014, \"symbol\": \"circle\"}, \"mode\": \"markers\", \"name\": \"Samoa\", \"showlegend\": true, \"type\": \"scatter\", \"x\": [4006.0], \"xaxis\": \"x\", \"y\": [14.524650349476802], \"yaxis\": \"y\"}, {\"hovertemplate\": \"<b>%{hovertext}</b><br><br>Country=San Marino<br>GDP per capita (current US$)=%{x}<br>Average Internet usage over the years=%{marker.size}<extra></extra>\", \"hovertext\": [\"San Marino\"], \"legendgroup\": \"San Marino\", \"marker\": {\"color\": \"#FF97FF\", \"size\": [18.985578251184208], \"sizemode\": \"area\", \"sizeref\": 0.025361307840186014, \"symbol\": \"circle\"}, \"mode\": \"markers\", \"name\": \"San Marino\", \"showlegend\": true, \"type\": \"scatter\", \"x\": [49240.2], \"xaxis\": \"x\", \"y\": [18.985578251184208], \"yaxis\": \"y\"}, {\"hovertemplate\": \"<b>%{hovertext}</b><br><br>Country=Senegal<br>GDP per capita (current US$)=%{x}<br>Average Internet usage over the years=%{marker.size}<extra></extra>\", \"hovertext\": [\"Senegal\"], \"legendgroup\": \"Senegal\", \"marker\": {\"color\": \"#FECB52\", \"size\": [14.841401782760874], \"sizemode\": \"area\", \"sizeref\": 0.025361307840186014, \"symbol\": \"circle\"}, \"mode\": \"markers\", \"name\": \"Senegal\", \"showlegend\": true, \"type\": \"scatter\", \"x\": [901.1], \"xaxis\": \"x\", \"y\": [14.841401782760874], \"yaxis\": \"y\"}, {\"hovertemplate\": \"<b>%{hovertext}</b><br><br>Country=Afghanistan<br>GDP per capita (current US$)=%{x}<br>Average Internet usage over the years=%{marker.size}<extra></extra>\", \"hovertext\": [\"Afghanistan\"], \"legendgroup\": \"Afghanistan\", \"marker\": {\"color\": \"#636efa\", \"size\": [5.594426685297288], \"sizemode\": \"area\", \"sizeref\": 0.025361307840186014, \"symbol\": \"circle\"}, \"mode\": \"markers\", \"name\": \"Afghanistan\", \"showlegend\": true, \"type\": \"scatter\", \"x\": [623.2], \"xaxis\": \"x\", \"y\": [5.594426685297288], \"yaxis\": \"y\"}, {\"hovertemplate\": \"<b>%{hovertext}</b><br><br>Country=South Sudan<br>GDP per capita (current US$)=%{x}<br>Average Internet usage over the years=%{marker.size}<extra></extra>\", \"hovertext\": [\"South Sudan\"], \"legendgroup\": \"South Sudan\", \"marker\": {\"color\": \"#EF553B\", \"size\": [2.5912072666535426], \"sizemode\": \"area\", \"sizeref\": 0.025361307840186014, \"symbol\": \"circle\"}, \"mode\": \"markers\", \"name\": \"South Sudan\", \"showlegend\": true, \"type\": \"scatter\", \"x\": [1067.0], \"xaxis\": \"x\", \"y\": [2.5912072666535426], \"yaxis\": \"y\"}, {\"hovertemplate\": \"<b>%{hovertext}</b><br><br>Country=Sudan<br>GDP per capita (current US$)=%{x}<br>Average Internet usage over the years=%{marker.size}<extra></extra>\", \"hovertext\": [\"Sudan\"], \"legendgroup\": \"Sudan\", \"marker\": {\"color\": \"#00cc96\", \"size\": [15.945283761723408], \"sizemode\": \"area\", \"sizeref\": 0.025361307840186014, \"symbol\": \"circle\"}, \"mode\": \"markers\", \"name\": \"Sudan\", \"showlegend\": true, \"type\": \"scatter\", \"x\": [1977.0], \"xaxis\": \"x\", \"y\": [15.945283761723408], \"yaxis\": \"y\"}, {\"hovertemplate\": \"<b>%{hovertext}</b><br><br>Country=Suriname<br>GDP per capita (current US$)=%{x}<br>Average Internet usage over the years=%{marker.size}<extra></extra>\", \"hovertext\": [\"Suriname\"], \"legendgroup\": \"Suriname\", \"marker\": {\"color\": \"#ab63fa\", \"size\": [29.251790826929618], \"sizemode\": \"area\", \"sizeref\": 0.025361307840186014, \"symbol\": \"circle\"}, \"mode\": \"markers\", \"name\": \"Suriname\", \"showlegend\": true, \"type\": \"scatter\", \"x\": [8985.3], \"xaxis\": \"x\", \"y\": [29.251790826929618], \"yaxis\": \"y\"}, {\"hovertemplate\": \"<b>%{hovertext}</b><br><br>Country=Syrian Arab Republic<br>GDP per capita (current US$)=%{x}<br>Average Internet usage over the years=%{marker.size}<extra></extra>\", \"hovertext\": [\"Syrian Arab Republic\"], \"legendgroup\": \"Syrian Arab Republic\", \"marker\": {\"color\": \"#FFA15A\", \"size\": [20.33843009625551], \"sizemode\": \"area\", \"sizeref\": 0.025361307840186014, \"symbol\": \"circle\"}, \"mode\": \"markers\", \"name\": \"Syrian Arab Republic\", \"showlegend\": true, \"type\": \"scatter\", \"x\": [1534.5], \"xaxis\": \"x\", \"y\": [20.33843009625551], \"yaxis\": \"y\"}, {\"hovertemplate\": \"<b>%{hovertext}</b><br><br>Country=Taiwan, Province of China<br>GDP per capita (current US$)=%{x}<br>Average Internet usage over the years=%{marker.size}<extra></extra>\", \"hovertext\": [null], \"legendgroup\": \"Taiwan, Province of China\", \"marker\": {\"color\": \"#19d3f3\", \"size\": [64.59069912764247], \"sizemode\": \"area\", \"sizeref\": 0.025361307840186014, \"symbol\": \"circle\"}, \"mode\": \"markers\", \"name\": \"Taiwan, Province of China\", \"showlegend\": true, \"type\": \"scatter\", \"x\": [null], \"xaxis\": \"x\", \"y\": [64.59069912764247], \"yaxis\": \"y\"}, {\"hovertemplate\": \"<b>%{hovertext}</b><br><br>Country=Timor-Leste<br>GDP per capita (current US$)=%{x}<br>Average Internet usage over the years=%{marker.size}<extra></extra>\", \"hovertext\": [\"Timor-Leste\"], \"legendgroup\": \"Timor-Leste\", \"marker\": {\"color\": \"#FF6692\", \"size\": [10.758001189427866], \"sizemode\": \"area\", \"sizeref\": 0.025361307840186014, \"symbol\": \"circle\"}, \"mode\": \"markers\", \"name\": \"Timor-Leste\", \"showlegend\": true, \"type\": \"scatter\", \"x\": [2425.4], \"xaxis\": \"x\", \"y\": [10.758001189427866], \"yaxis\": \"y\"}, {\"hovertemplate\": \"<b>%{hovertext}</b><br><br>Country=Togo<br>GDP per capita (current US$)=%{x}<br>Average Internet usage over the years=%{marker.size}<extra></extra>\", \"hovertext\": [\"Togo\"], \"legendgroup\": \"Togo\", \"marker\": {\"color\": \"#B6E880\", \"size\": [4.91729317909091], \"sizemode\": \"area\", \"sizeref\": 0.025361307840186014, \"symbol\": \"circle\"}, \"mode\": \"markers\", \"name\": \"Togo\", \"showlegend\": true, \"type\": \"scatter\", \"x\": [559.4], \"xaxis\": \"x\", \"y\": [4.91729317909091], \"yaxis\": \"y\"}, {\"hovertemplate\": \"<b>%{hovertext}</b><br><br>Country=Trinidad & Tobago<br>GDP per capita (current US$)=%{x}<br>Average Internet usage over the years=%{marker.size}<extra></extra>\", \"hovertext\": [null], \"legendgroup\": \"Trinidad & Tobago\", \"marker\": {\"color\": \"#FF97FF\", \"size\": [49.87598078728741], \"sizemode\": \"area\", \"sizeref\": 0.025361307840186014, \"symbol\": \"circle\"}, \"mode\": \"markers\", \"name\": \"Trinidad & Tobago\", \"showlegend\": true, \"type\": \"scatter\", \"x\": [null], \"xaxis\": \"x\", \"y\": [49.87598078728741], \"yaxis\": \"y\"}, {\"hovertemplate\": \"<b>%{hovertext}</b><br><br>Country=Tuvalu<br>GDP per capita (current US$)=%{x}<br>Average Internet usage over the years=%{marker.size}<extra></extra>\", \"hovertext\": [\"Tuvalu\"], \"legendgroup\": \"Tuvalu\", \"marker\": {\"color\": \"#FECB52\", \"size\": [28.133557246995647], \"sizemode\": \"area\", \"sizeref\": 0.025361307840186014, \"symbol\": \"circle\"}, \"mode\": \"markers\", \"name\": \"Tuvalu\", \"showlegend\": true, \"type\": \"scatter\", \"x\": [3362.4], \"xaxis\": \"x\", \"y\": [28.133557246995647], \"yaxis\": \"y\"}, {\"hovertemplate\": \"<b>%{hovertext}</b><br><br>Country=Uganda<br>GDP per capita (current US$)=%{x}<br>Average Internet usage over the years=%{marker.size}<extra></extra>\", \"hovertext\": [\"Uganda\"], \"legendgroup\": \"Uganda\", \"marker\": {\"color\": \"#636efa\", \"size\": [12.485183976084812], \"sizemode\": \"area\", \"sizeref\": 0.025361307840186014, \"symbol\": \"circle\"}, \"mode\": \"markers\", \"name\": \"Uganda\", \"showlegend\": true, \"type\": \"scatter\", \"x\": [647.7], \"xaxis\": \"x\", \"y\": [12.485183976084812], \"yaxis\": \"y\"}, {\"hovertemplate\": \"<b>%{hovertext}</b><br><br>Country=Ukraine<br>GDP per capita (current US$)=%{x}<br>Average Internet usage over the years=%{marker.size}<extra></extra>\", \"hovertext\": [\"Ukraine\"], \"legendgroup\": \"Ukraine\", \"marker\": {\"color\": \"#EF553B\", \"size\": [30.882585327477113], \"sizemode\": \"area\", \"sizeref\": 0.025361307840186014, \"symbol\": \"circle\"}, \"mode\": \"markers\", \"name\": \"Ukraine\", \"showlegend\": true, \"type\": \"scatter\", \"x\": [2021.6], \"xaxis\": \"x\", \"y\": [30.882585327477113], \"yaxis\": \"y\"}, {\"hovertemplate\": \"<b>%{hovertext}</b><br><br>Country=United States<br>GDP per capita (current US$)=%{x}<br>Average Internet usage over the years=%{marker.size}<extra></extra>\", \"hovertext\": [null], \"legendgroup\": \"United States\", \"marker\": {\"color\": \"#00cc96\", \"size\": [65.35740117036715], \"sizemode\": \"area\", \"sizeref\": 0.025361307840186014, \"symbol\": \"circle\"}, \"mode\": \"markers\", \"name\": \"United States\", \"showlegend\": true, \"type\": \"scatter\", \"x\": [null], \"xaxis\": \"x\", \"y\": [65.35740117036715], \"yaxis\": \"y\"}, {\"hovertemplate\": \"<b>%{hovertext}</b><br><br>Country=Uruguay<br>GDP per capita (current US$)=%{x}<br>Average Internet usage over the years=%{marker.size}<extra></extra>\", \"hovertext\": [\"Uruguay\"], \"legendgroup\": \"Uruguay\", \"marker\": {\"color\": \"#ab63fa\", \"size\": [45.571466063440965], \"sizemode\": \"area\", \"sizeref\": 0.025361307840186014, \"symbol\": \"circle\"}, \"mode\": \"markers\", \"name\": \"Uruguay\", \"showlegend\": true, \"type\": \"scatter\", \"x\": [15573.8], \"xaxis\": \"x\", \"y\": [45.571466063440965], \"yaxis\": \"y\"}, {\"hovertemplate\": \"<b>%{hovertext}</b><br><br>Country=Uzbekistan<br>GDP per capita (current US$)=%{x}<br>Average Internet usage over the years=%{marker.size}<extra></extra>\", \"hovertext\": [\"Uzbekistan\"], \"legendgroup\": \"Uzbekistan\", \"marker\": {\"color\": \"#FFA15A\", \"size\": [24.193113175099334], \"sizemode\": \"area\", \"sizeref\": 0.025361307840186014, \"symbol\": \"circle\"}, \"mode\": \"markers\", \"name\": \"Uzbekistan\", \"showlegend\": true, \"type\": \"scatter\", \"x\": [2308.3], \"xaxis\": \"x\", \"y\": [24.193113175099334], \"yaxis\": \"y\"}, {\"hovertemplate\": \"<b>%{hovertext}</b><br><br>Country=Zimbabwe<br>GDP per capita (current US$)=%{x}<br>Average Internet usage over the years=%{marker.size}<extra></extra>\", \"hovertext\": [\"Zimbabwe\"], \"legendgroup\": \"Zimbabwe\", \"marker\": {\"color\": \"#19d3f3\", \"size\": [12.216769847489571], \"sizemode\": \"area\", \"sizeref\": 0.025361307840186014, \"symbol\": \"circle\"}, \"mode\": \"markers\", \"name\": \"Zimbabwe\", \"showlegend\": true, \"type\": \"scatter\", \"x\": [890.4], \"xaxis\": \"x\", \"y\": [12.216769847489571], \"yaxis\": \"y\"}, {\"hovertemplate\": \"<b>%{hovertext}</b><br><br>Country=Andorra<br>GDP per capita (current US$)=%{x}<br>Average Internet usage over the years=%{marker.size}<extra></extra>\", \"hovertext\": [\"Andorra\"], \"legendgroup\": \"Andorra\", \"marker\": {\"color\": \"#FF6692\", \"size\": [70.26246641752975], \"sizemode\": \"area\", \"sizeref\": 0.025361307840186014, \"symbol\": \"circle\"}, \"mode\": \"markers\", \"name\": \"Andorra\", \"showlegend\": true, \"type\": \"scatter\", \"x\": [39896.4], \"xaxis\": \"x\", \"y\": [70.26246641752975], \"yaxis\": \"y\"}, {\"hovertemplate\": \"<b>%{hovertext}</b><br><br>Country=Angola<br>GDP per capita (current US$)=%{x}<br>Average Internet usage over the years=%{marker.size}<extra></extra>\", \"hovertext\": [\"Angola\"], \"legendgroup\": \"Angola\", \"marker\": {\"color\": \"#B6E880\", \"size\": [6.589771977581924], \"sizemode\": \"area\", \"sizeref\": 0.025361307840186014, \"symbol\": \"circle\"}, \"mode\": \"markers\", \"name\": \"Angola\", \"showlegend\": true, \"type\": \"scatter\", \"x\": [4714.1], \"xaxis\": \"x\", \"y\": [6.589771977581924], \"yaxis\": \"y\"}, {\"hovertemplate\": \"<b>%{hovertext}</b><br><br>Country=Argentina<br>GDP per capita (current US$)=%{x}<br>Average Internet usage over the years=%{marker.size}<extra></extra>\", \"hovertext\": [\"Argentina\"], \"legendgroup\": \"Argentina\", \"marker\": {\"color\": \"#FF97FF\", \"size\": [46.76965620496696], \"sizemode\": \"area\", \"sizeref\": 0.025361307840186014, \"symbol\": \"circle\"}, \"mode\": \"markers\", \"name\": \"Argentina\", \"showlegend\": true, \"type\": \"scatter\", \"x\": [14564.5], \"xaxis\": \"x\", \"y\": [46.76965620496696], \"yaxis\": \"y\"}, {\"hovertemplate\": \"<b>%{hovertext}</b><br><br>Country=Armenia<br>GDP per capita (current US$)=%{x}<br>Average Internet usage over the years=%{marker.size}<extra></extra>\", \"hovertext\": [\"Armenia\"], \"legendgroup\": \"Armenia\", \"marker\": {\"color\": \"#FECB52\", \"size\": [35.06995918569305], \"sizemode\": \"area\", \"sizeref\": 0.025361307840186014, \"symbol\": \"circle\"}, \"mode\": \"markers\", \"name\": \"Armenia\", \"showlegend\": true, \"type\": \"scatter\", \"x\": [3489.1], \"xaxis\": \"x\", \"y\": [35.06995918569305], \"yaxis\": \"y\"}, {\"hovertemplate\": \"<b>%{hovertext}</b><br><br>Country=Bahamas<br>GDP per capita (current US$)=%{x}<br>Average Internet usage over the years=%{marker.size}<extra></extra>\", \"hovertext\": [\"Bahamas\"], \"legendgroup\": \"Bahamas\", \"marker\": {\"color\": \"#636efa\", \"size\": [54.96983661951785], \"sizemode\": \"area\", \"sizeref\": 0.025361307840186014, \"symbol\": \"circle\"}, \"mode\": \"markers\", \"name\": \"Bahamas\", \"showlegend\": true, \"type\": \"scatter\", \"x\": [22817.2], \"xaxis\": \"x\", \"y\": [54.96983661951785], \"yaxis\": \"y\"}, {\"hovertemplate\": \"<b>%{hovertext}</b><br><br>Country=Barbados<br>GDP per capita (current US$)=%{x}<br>Average Internet usage over the years=%{marker.size}<extra></extra>\", \"hovertext\": [\"Barbados\"], \"legendgroup\": \"Barbados\", \"marker\": {\"color\": \"#EF553B\", \"size\": [58.513986785141874], \"sizemode\": \"area\", \"sizeref\": 0.025361307840186014, \"symbol\": \"circle\"}, \"mode\": \"markers\", \"name\": \"Barbados\", \"showlegend\": true, \"type\": \"scatter\", \"x\": [15429.4], \"xaxis\": \"x\", \"y\": [58.513986785141874], \"yaxis\": \"y\"}, {\"hovertemplate\": \"<b>%{hovertext}</b><br><br>Country=Bhutan<br>GDP per capita (current US$)=%{x}<br>Average Internet usage over the years=%{marker.size}<extra></extra>\", \"hovertext\": [\"Bhutan\"], \"legendgroup\": \"Bhutan\", \"marker\": {\"color\": \"#00cc96\", \"size\": [20.929737418313223], \"sizemode\": \"area\", \"sizeref\": 0.025361307840186014, \"symbol\": \"circle\"}, \"mode\": \"markers\", \"name\": \"Bhutan\", \"showlegend\": true, \"type\": \"scatter\", \"x\": [2677.1], \"xaxis\": \"x\", \"y\": [20.929737418313223], \"yaxis\": \"y\"}, {\"hovertemplate\": \"<b>%{hovertext}</b><br><br>Country=Bolivia (Plurinational State of)<br>GDP per capita (current US$)=%{x}<br>Average Internet usage over the years=%{marker.size}<extra></extra>\", \"hovertext\": [\"Bolivia (Plurinational State of)\"], \"legendgroup\": \"Bolivia (Plurinational State of)\", \"marker\": {\"color\": \"#ab63fa\", \"size\": [25.917491714741633], \"sizemode\": \"area\", \"sizeref\": 0.025361307840186014, \"symbol\": \"circle\"}, \"mode\": \"markers\", \"name\": \"Bolivia (Plurinational State of)\", \"showlegend\": true, \"type\": \"scatter\", \"x\": [3076.8], \"xaxis\": \"x\", \"y\": [25.917491714741633], \"yaxis\": \"y\"}, {\"hovertemplate\": \"<b>%{hovertext}</b><br><br>Country=Cameroon<br>GDP per capita (current US$)=%{x}<br>Average Internet usage over the years=%{marker.size}<extra></extra>\", \"hovertext\": [\"Cameroon\"], \"legendgroup\": \"Cameroon\", \"marker\": {\"color\": \"#FFA15A\", \"size\": [10.15961255770332], \"sizemode\": \"area\", \"sizeref\": 0.025361307840186014, \"symbol\": \"circle\"}, \"mode\": \"markers\", \"name\": \"Cameroon\", \"showlegend\": true, \"type\": \"scatter\", \"x\": [1217.3], \"xaxis\": \"x\", \"y\": [10.15961255770332], \"yaxis\": \"y\"}, {\"hovertemplate\": \"<b>%{hovertext}</b><br><br>Country=Central African Rep.<br>GDP per capita (current US$)=%{x}<br>Average Internet usage over the years=%{marker.size}<extra></extra>\", \"hovertext\": [null], \"legendgroup\": \"Central African Rep.\", \"marker\": {\"color\": \"#19d3f3\", \"size\": [2.4237131570938484], \"sizemode\": \"area\", \"sizeref\": 0.025361307840186014, \"symbol\": \"circle\"}, \"mode\": \"markers\", \"name\": \"Central African Rep.\", \"showlegend\": true, \"type\": \"scatter\", \"x\": [null], \"xaxis\": \"x\", \"y\": [2.4237131570938484], \"yaxis\": \"y\"}, {\"hovertemplate\": \"<b>%{hovertext}</b><br><br>Country=Chad<br>GDP per capita (current US$)=%{x}<br>Average Internet usage over the years=%{marker.size}<extra></extra>\", \"hovertext\": [\"Chad\"], \"legendgroup\": \"Chad\", \"marker\": {\"color\": \"#FF6692\", \"size\": [2.412269354176281], \"sizemode\": \"area\", \"sizeref\": 0.025361307840186014, \"symbol\": \"circle\"}, \"mode\": \"markers\", \"name\": \"Chad\", \"showlegend\": true, \"type\": \"scatter\", \"x\": [713.0], \"xaxis\": \"x\", \"y\": [2.412269354176281], \"yaxis\": \"y\"}, {\"hovertemplate\": \"<b>%{hovertext}</b><br><br>Country=Chile<br>GDP per capita (current US$)=%{x}<br>Average Internet usage over the years=%{marker.size}<extra></extra>\", \"hovertext\": [\"Chile\"], \"legendgroup\": \"Chile\", \"marker\": {\"color\": \"#B6E880\", \"size\": [51.063729751649355], \"sizemode\": \"area\", \"sizeref\": 0.025361307840186014, \"symbol\": \"circle\"}, \"mode\": \"markers\", \"name\": \"Chile\", \"showlegend\": true, \"type\": \"scatter\", \"x\": [13416.2], \"xaxis\": \"x\", \"y\": [51.063729751649355], \"yaxis\": \"y\"}, {\"hovertemplate\": \"<b>%{hovertext}</b><br><br>Country=Comoros<br>GDP per capita (current US$)=%{x}<br>Average Internet usage over the years=%{marker.size}<extra></extra>\", \"hovertext\": [\"Comoros\"], \"legendgroup\": \"Comoros\", \"marker\": {\"color\": \"#FF97FF\", \"size\": [5.109335578871608], \"sizemode\": \"area\", \"sizeref\": 0.025361307840186014, \"symbol\": \"circle\"}, \"mode\": \"markers\", \"name\": \"Comoros\", \"showlegend\": true, \"type\": \"scatter\", \"x\": [1368.9], \"xaxis\": \"x\", \"y\": [5.109335578871608], \"yaxis\": \"y\"}, {\"hovertemplate\": \"<b>%{hovertext}</b><br><br>Country=Congo (Dem. Rep.)<br>GDP per capita (current US$)=%{x}<br>Average Internet usage over the years=%{marker.size}<extra></extra>\", \"hovertext\": [null], \"legendgroup\": \"Congo (Dem. Rep.)\", \"marker\": {\"color\": \"#FECB52\", \"size\": [2.5157981282078383], \"sizemode\": \"area\", \"sizeref\": 0.025361307840186014, \"symbol\": \"circle\"}, \"mode\": \"markers\", \"name\": \"Congo (Dem. Rep.)\", \"showlegend\": true, \"type\": \"scatter\", \"x\": [null], \"xaxis\": \"x\", \"y\": [2.5157981282078383], \"yaxis\": \"y\"}, {\"hovertemplate\": \"<b>%{hovertext}</b><br><br>Country=Djibouti<br>GDP per capita (current US$)=%{x}<br>Average Internet usage over the years=%{marker.size}<extra></extra>\", \"hovertext\": [\"Djibouti\"], \"legendgroup\": \"Djibouti\", \"marker\": {\"color\": \"#636efa\", \"size\": [11.26037278742234], \"sizemode\": \"area\", \"sizeref\": 0.025361307840186014, \"symbol\": \"circle\"}, \"mode\": \"markers\", \"name\": \"Djibouti\", \"showlegend\": true, \"type\": \"scatter\", \"x\": [1956.3], \"xaxis\": \"x\", \"y\": [11.26037278742234], \"yaxis\": \"y\"}, {\"hovertemplate\": \"<b>%{hovertext}</b><br><br>Country=El Salvador<br>GDP per capita (current US$)=%{x}<br>Average Internet usage over the years=%{marker.size}<extra></extra>\", \"hovertext\": [\"El Salvador\"], \"legendgroup\": \"El Salvador\", \"marker\": {\"color\": \"#EF553B\", \"size\": [17.999109458627796], \"sizemode\": \"area\", \"sizeref\": 0.025361307840186014, \"symbol\": \"circle\"}, \"mode\": \"markers\", \"name\": \"El Salvador\", \"showlegend\": true, \"type\": \"scatter\", \"x\": [4219.4], \"xaxis\": \"x\", \"y\": [17.999109458627796], \"yaxis\": \"y\"}, {\"hovertemplate\": \"<b>%{hovertext}</b><br><br>Country=Ethiopia<br>GDP per capita (current US$)=%{x}<br>Average Internet usage over the years=%{marker.size}<extra></extra>\", \"hovertext\": [\"Ethiopia\"], \"legendgroup\": \"Ethiopia\", \"marker\": {\"color\": \"#00cc96\", \"size\": [5.920461314053615], \"sizemode\": \"area\", \"sizeref\": 0.025361307840186014, \"symbol\": \"circle\"}, \"mode\": \"markers\", \"name\": \"Ethiopia\", \"showlegend\": true, \"type\": \"scatter\", \"x\": [602.8], \"xaxis\": \"x\", \"y\": [5.920461314053615], \"yaxis\": \"y\"}, {\"hovertemplate\": \"<b>%{hovertext}</b><br><br>Country=Falkland (Malvinas) Is.<br>GDP per capita (current US$)=%{x}<br>Average Internet usage over the years=%{marker.size}<extra></extra>\", \"hovertext\": [null], \"legendgroup\": \"Falkland (Malvinas) Is.\", \"marker\": {\"color\": \"#ab63fa\", \"size\": [74.87176110346658], \"sizemode\": \"area\", \"sizeref\": 0.025361307840186014, \"symbol\": \"circle\"}, \"mode\": \"markers\", \"name\": \"Falkland (Malvinas) Is.\", \"showlegend\": true, \"type\": \"scatter\", \"x\": [null], \"xaxis\": \"x\", \"y\": [74.87176110346658], \"yaxis\": \"y\"}, {\"hovertemplate\": \"<b>%{hovertext}</b><br><br>Country=Gambia<br>GDP per capita (current US$)=%{x}<br>Average Internet usage over the years=%{marker.size}<extra></extra>\", \"hovertext\": [\"Gambia\"], \"legendgroup\": \"Gambia\", \"marker\": {\"color\": \"#FFA15A\", \"size\": [11.057889020067101], \"sizemode\": \"area\", \"sizeref\": 0.025361307840186014, \"symbol\": \"circle\"}, \"mode\": \"markers\", \"name\": \"Gambia\", \"showlegend\": true, \"type\": \"scatter\", \"x\": [473.2], \"xaxis\": \"x\", \"y\": [11.057889020067101], \"yaxis\": \"y\"}, {\"hovertemplate\": \"<b>%{hovertext}</b><br><br>Country=Grenada<br>GDP per capita (current US$)=%{x}<br>Average Internet usage over the years=%{marker.size}<extra></extra>\", \"hovertext\": [\"Grenada\"], \"legendgroup\": \"Grenada\", \"marker\": {\"color\": \"#19d3f3\", \"size\": [33.53544145955431], \"sizemode\": \"area\", \"sizeref\": 0.025361307840186014, \"symbol\": \"circle\"}, \"mode\": \"markers\", \"name\": \"Grenada\", \"showlegend\": true, \"type\": \"scatter\", \"x\": [8933.8], \"xaxis\": \"x\", \"y\": [33.53544145955431], \"yaxis\": \"y\"}, {\"hovertemplate\": \"<b>%{hovertext}</b><br><br>Country=Guatemala<br>GDP per capita (current US$)=%{x}<br>Average Internet usage over the years=%{marker.size}<extra></extra>\", \"hovertext\": [\"Guatemala\"], \"legendgroup\": \"Guatemala\", \"marker\": {\"color\": \"#FF6692\", \"size\": [19.693418231947412], \"sizemode\": \"area\", \"sizeref\": 0.025361307840186014, \"symbol\": \"circle\"}, \"mode\": \"markers\", \"name\": \"Guatemala\", \"showlegend\": true, \"type\": \"scatter\", \"x\": [3903.5], \"xaxis\": \"x\", \"y\": [19.693418231947412], \"yaxis\": \"y\"}, {\"hovertemplate\": \"<b>%{hovertext}</b><br><br>Country=Guinea<br>GDP per capita (current US$)=%{x}<br>Average Internet usage over the years=%{marker.size}<extra></extra>\", \"hovertext\": [\"Guinea\"], \"legendgroup\": \"Guinea\", \"marker\": {\"color\": \"#B6E880\", \"size\": [4.8761526458730025], \"sizemode\": \"area\", \"sizeref\": 0.025361307840186014, \"symbol\": \"circle\"}, \"mode\": \"markers\", \"name\": \"Guinea\", \"showlegend\": true, \"type\": \"scatter\", \"x\": [703.9], \"xaxis\": \"x\", \"y\": [4.8761526458730025], \"yaxis\": \"y\"}, {\"hovertemplate\": \"<b>%{hovertext}</b><br><br>Country=Honduras<br>GDP per capita (current US$)=%{x}<br>Average Internet usage over the years=%{marker.size}<extra></extra>\", \"hovertext\": [\"Honduras\"], \"legendgroup\": \"Honduras\", \"marker\": {\"color\": \"#FF97FF\", \"size\": [16.18125963626534], \"sizemode\": \"area\", \"sizeref\": 0.025361307840186014, \"symbol\": \"circle\"}, \"mode\": \"markers\", \"name\": \"Honduras\", \"showlegend\": true, \"type\": \"scatter\", \"x\": [2521.9], \"xaxis\": \"x\", \"y\": [16.18125963626534], \"yaxis\": \"y\"}, {\"hovertemplate\": \"<b>%{hovertext}</b><br><br>Country=Hong Kong, China<br>GDP per capita (current US$)=%{x}<br>Average Internet usage over the years=%{marker.size}<extra></extra>\", \"hovertext\": [null], \"legendgroup\": \"Hong Kong, China\", \"marker\": {\"color\": \"#FECB52\", \"size\": [65.2488857632337], \"sizemode\": \"area\", \"sizeref\": 0.025361307840186014, \"symbol\": \"circle\"}, \"mode\": \"markers\", \"name\": \"Hong Kong, China\", \"showlegend\": true, \"type\": \"scatter\", \"x\": [null], \"xaxis\": \"x\", \"y\": [65.2488857632337], \"yaxis\": \"y\"}, {\"hovertemplate\": \"<b>%{hovertext}</b><br><br>Country=Iraq<br>GDP per capita (current US$)=%{x}<br>Average Internet usage over the years=%{marker.size}<extra></extra>\", \"hovertext\": [\"Iraq\"], \"legendgroup\": \"Iraq\", \"marker\": {\"color\": \"#636efa\", \"size\": [15.136363535454548], \"sizemode\": \"area\", \"sizeref\": 0.025361307840186014, \"symbol\": \"circle\"}, \"mode\": \"markers\", \"name\": \"Iraq\", \"showlegend\": true, \"type\": \"scatter\", \"x\": [4509.0], \"xaxis\": \"x\", \"y\": [15.136363535454548], \"yaxis\": \"y\"}, {\"hovertemplate\": \"<b>%{hovertext}</b><br><br>Country=Jamaica<br>GDP per capita (current US$)=%{x}<br>Average Internet usage over the years=%{marker.size}<extra></extra>\", \"hovertext\": [\"Jamaica\"], \"legendgroup\": \"Jamaica\", \"marker\": {\"color\": \"#EF553B\", \"size\": [30.361570105303098], \"sizemode\": \"area\", \"sizeref\": 0.025361307840186014, \"symbol\": \"circle\"}, \"mode\": \"markers\", \"name\": \"Jamaica\", \"showlegend\": true, \"type\": \"scatter\", \"x\": [5105.8], \"xaxis\": \"x\", \"y\": [30.361570105303098], \"yaxis\": \"y\"}, {\"hovertemplate\": \"<b>%{hovertext}</b><br><br>Country=Japan<br>GDP per capita (current US$)=%{x}<br>Average Internet usage over the years=%{marker.size}<extra></extra>\", \"hovertext\": [\"Japan\"], \"legendgroup\": \"Japan\", \"marker\": {\"color\": \"#00cc96\", \"size\": [70.89339976529835], \"sizemode\": \"area\", \"sizeref\": 0.025361307840186014, \"symbol\": \"circle\"}, \"mode\": \"markers\", \"name\": \"Japan\", \"showlegend\": true, \"type\": \"scatter\", \"x\": [34628.7], \"xaxis\": \"x\", \"y\": [70.89339976529835], \"yaxis\": \"y\"}, {\"hovertemplate\": \"<b>%{hovertext}</b><br><br>Country=Kenya<br>GDP per capita (current US$)=%{x}<br>Average Internet usage over the years=%{marker.size}<extra></extra>\", \"hovertext\": [\"Kenya\"], \"legendgroup\": \"Kenya\", \"marker\": {\"color\": \"#ab63fa\", \"size\": [10.039537497505517], \"sizemode\": \"area\", \"sizeref\": 0.025361307840186014, \"symbol\": \"circle\"}, \"mode\": \"markers\", \"name\": \"Kenya\", \"showlegend\": true, \"type\": \"scatter\", \"x\": [1376.7], \"xaxis\": \"x\", \"y\": [10.039537497505517], \"yaxis\": \"y\"}, {\"hovertemplate\": \"<b>%{hovertext}</b><br><br>Country=Kyrgyzstan<br>GDP per capita (current US$)=%{x}<br>Average Internet usage over the years=%{marker.size}<extra></extra>\", \"hovertext\": [\"Kyrgyzstan\"], \"legendgroup\": \"Kyrgyzstan\", \"marker\": {\"color\": \"#FFA15A\", \"size\": [20.15656775095957], \"sizemode\": \"area\", \"sizeref\": 0.025361307840186014, \"symbol\": \"circle\"}, \"mode\": \"markers\", \"name\": \"Kyrgyzstan\", \"showlegend\": true, \"type\": \"scatter\", \"x\": [1106.4], \"xaxis\": \"x\", \"y\": [20.15656775095957], \"yaxis\": \"y\"}, {\"hovertemplate\": \"<b>%{hovertext}</b><br><br>Country=Lao P.D.R.<br>GDP per capita (current US$)=%{x}<br>Average Internet usage over the years=%{marker.size}<extra></extra>\", \"hovertext\": [null], \"legendgroup\": \"Lao P.D.R.\", \"marker\": {\"color\": \"#19d3f3\", \"size\": [10.913592072182132], \"sizemode\": \"area\", \"sizeref\": 0.025361307840186014, \"symbol\": \"circle\"}, \"mode\": \"markers\", \"name\": \"Lao P.D.R.\", \"showlegend\": true, \"type\": \"scatter\", \"x\": [null], \"xaxis\": \"x\", \"y\": [10.913592072182132], \"yaxis\": \"y\"}, {\"hovertemplate\": \"<b>%{hovertext}</b><br><br>Country=Liberia<br>GDP per capita (current US$)=%{x}<br>Average Internet usage over the years=%{marker.size}<extra></extra>\", \"hovertext\": [\"Liberia\"], \"legendgroup\": \"Liberia\", \"marker\": {\"color\": \"#FF6692\", \"size\": [5.84829898533049], \"sizemode\": \"area\", \"sizeref\": 0.025361307840186014, \"symbol\": \"circle\"}, \"mode\": \"markers\", \"name\": \"Liberia\", \"showlegend\": true, \"type\": \"scatter\", \"x\": [455.9], \"xaxis\": \"x\", \"y\": [5.84829898533049], \"yaxis\": \"y\"}, {\"hovertemplate\": \"<b>%{hovertext}</b><br><br>Country=Libya<br>GDP per capita (current US$)=%{x}<br>Average Internet usage over the years=%{marker.size}<extra></extra>\", \"hovertext\": [\"Libya\"], \"legendgroup\": \"Libya\", \"marker\": {\"color\": \"#B6E880\", \"size\": [11.582908232692784], \"sizemode\": \"area\", \"sizeref\": 0.025361307840186014, \"symbol\": \"circle\"}, \"mode\": \"markers\", \"name\": \"Libya\", \"showlegend\": true, \"type\": \"scatter\", \"x\": [5488.2], \"xaxis\": \"x\", \"y\": [11.582908232692784], \"yaxis\": \"y\"}, {\"hovertemplate\": \"<b>%{hovertext}</b><br><br>Country=Liechtenstein<br>GDP per capita (current US$)=%{x}<br>Average Internet usage over the years=%{marker.size}<extra></extra>\", \"hovertext\": [\"Liechtenstein\"], \"legendgroup\": \"Liechtenstein\", \"marker\": {\"color\": \"#FF97FF\", \"size\": [76.01267136626718], \"sizemode\": \"area\", \"sizeref\": 0.025361307840186014, \"symbol\": \"circle\"}, \"mode\": \"markers\", \"name\": \"Liechtenstein\", \"showlegend\": true, \"type\": \"scatter\", \"x\": [169491.8], \"xaxis\": \"x\", \"y\": [76.01267136626718], \"yaxis\": \"y\"}, {\"hovertemplate\": \"<b>%{hovertext}</b><br><br>Country=Madagascar<br>GDP per capita (current US$)=%{x}<br>Average Internet usage over the years=%{marker.size}<extra></extra>\", \"hovertext\": [\"Madagascar\"], \"legendgroup\": \"Madagascar\", \"marker\": {\"color\": \"#FECB52\", \"size\": [2.913795598431704], \"sizemode\": \"area\", \"sizeref\": 0.025361307840186014, \"symbol\": \"circle\"}, \"mode\": \"markers\", \"name\": \"Madagascar\", \"showlegend\": true, \"type\": \"scatter\", \"x\": [401.8], \"xaxis\": \"x\", \"y\": [2.913795598431704], \"yaxis\": \"y\"}, {\"hovertemplate\": \"<b>%{hovertext}</b><br><br>Country=Malawi<br>GDP per capita (current US$)=%{x}<br>Average Internet usage over the years=%{marker.size}<extra></extra>\", \"hovertext\": [\"Malawi\"], \"legendgroup\": \"Malawi\", \"marker\": {\"color\": \"#636efa\", \"size\": [4.716730424620625], \"sizemode\": \"area\", \"sizeref\": 0.025361307840186014, \"symbol\": \"circle\"}, \"mode\": \"markers\", \"name\": \"Malawi\", \"showlegend\": true, \"type\": \"scatter\", \"x\": [372.9], \"xaxis\": \"x\", \"y\": [4.716730424620625], \"yaxis\": \"y\"}, {\"hovertemplate\": \"<b>%{hovertext}</b><br><br>Country=Mali<br>GDP per capita (current US$)=%{x}<br>Average Internet usage over the years=%{marker.size}<extra></extra>\", \"hovertext\": [\"Mali\"], \"legendgroup\": \"Mali\", \"marker\": {\"color\": \"#EF553B\", \"size\": [4.781072307278212], \"sizemode\": \"area\", \"sizeref\": 0.025361307840186014, \"symbol\": \"circle\"}, \"mode\": \"markers\", \"name\": \"Mali\", \"showlegend\": true, \"type\": \"scatter\", \"x\": [744.3], \"xaxis\": \"x\", \"y\": [4.781072307278212], \"yaxis\": \"y\"}, {\"hovertemplate\": \"<b>%{hovertext}</b><br><br>Country=Marshall Islands<br>GDP per capita (current US$)=%{x}<br>Average Internet usage over the years=%{marker.size}<extra></extra>\", \"hovertext\": [\"Marshall Islands\"], \"legendgroup\": \"Marshall Islands\", \"marker\": {\"color\": \"#00cc96\", \"size\": [13.953123452721828], \"sizemode\": \"area\", \"sizeref\": 0.025361307840186014, \"symbol\": \"circle\"}, \"mode\": \"markers\", \"name\": \"Marshall Islands\", \"showlegend\": true, \"type\": \"scatter\", \"x\": [3452.6], \"xaxis\": \"x\", \"y\": [13.953123452721828], \"yaxis\": \"y\"}, {\"hovertemplate\": \"<b>%{hovertext}</b><br><br>Country=Monaco<br>GDP per capita (current US$)=%{x}<br>Average Internet usage over the years=%{marker.size}<extra></extra>\", \"hovertext\": [\"Monaco\"], \"legendgroup\": \"Monaco\", \"marker\": {\"color\": \"#ab63fa\", \"size\": [73.51583148429559], \"sizemode\": \"area\", \"sizeref\": 0.025361307840186014, \"symbol\": \"circle\"}, \"mode\": \"markers\", \"name\": \"Monaco\", \"showlegend\": true, \"type\": \"scatter\", \"x\": [165870.6], \"xaxis\": \"x\", \"y\": [73.51583148429559], \"yaxis\": \"y\"}, {\"hovertemplate\": \"<b>%{hovertext}</b><br><br>Country=Mongolia<br>GDP per capita (current US$)=%{x}<br>Average Internet usage over the years=%{marker.size}<extra></extra>\", \"hovertext\": [\"Mongolia\"], \"legendgroup\": \"Mongolia\", \"marker\": {\"color\": \"#FFA15A\", \"size\": [13.316192235586493], \"sizemode\": \"area\", \"sizeref\": 0.025361307840186014, \"symbol\": \"circle\"}, \"mode\": \"markers\", \"name\": \"Mongolia\", \"showlegend\": true, \"type\": \"scatter\", \"x\": [3973.4], \"xaxis\": \"x\", \"y\": [13.316192235586493], \"yaxis\": \"y\"}, {\"hovertemplate\": \"<b>%{hovertext}</b><br><br>Country=Mozambique<br>GDP per capita (current US$)=%{x}<br>Average Internet usage over the years=%{marker.size}<extra></extra>\", \"hovertext\": [\"Mozambique\"], \"legendgroup\": \"Mozambique\", \"marker\": {\"color\": \"#19d3f3\", \"size\": [6.947179450090141], \"sizemode\": \"area\", \"sizeref\": 0.025361307840186014, \"symbol\": \"circle\"}, \"mode\": \"markers\", \"name\": \"Mozambique\", \"showlegend\": true, \"type\": \"scatter\", \"x\": [529.2], \"xaxis\": \"x\", \"y\": [6.947179450090141], \"yaxis\": \"y\"}, {\"hovertemplate\": \"<b>%{hovertext}</b><br><br>Country=Myanmar<br>GDP per capita (current US$)=%{x}<br>Average Internet usage over the years=%{marker.size}<extra></extra>\", \"hovertext\": [\"Myanmar\"], \"legendgroup\": \"Myanmar\", \"marker\": {\"color\": \"#FF6692\", \"size\": [9.299323656250941], \"sizemode\": \"area\", \"sizeref\": 0.025361307840186014, \"symbol\": \"circle\"}, \"mode\": \"markers\", \"name\": \"Myanmar\", \"showlegend\": true, \"type\": \"scatter\", \"x\": [1161.5], \"xaxis\": \"x\", \"y\": [9.299323656250941], \"yaxis\": \"y\"}, {\"hovertemplate\": \"<b>%{hovertext}</b><br><br>Country=Namibia<br>GDP per capita (current US$)=%{x}<br>Average Internet usage over the years=%{marker.size}<extra></extra>\", \"hovertext\": [\"Namibia\"], \"legendgroup\": \"Namibia\", \"marker\": {\"color\": \"#B6E880\", \"size\": [16.241580359094375], \"sizemode\": \"area\", \"sizeref\": 0.025361307840186014, \"symbol\": \"circle\"}, \"mode\": \"markers\", \"name\": \"Namibia\", \"showlegend\": true, \"type\": \"scatter\", \"x\": [4673.6], \"xaxis\": \"x\", \"y\": [16.241580359094375], \"yaxis\": \"y\"}, {\"hovertemplate\": \"<b>%{hovertext}</b><br><br>Country=Nigeria<br>GDP per capita (current US$)=%{x}<br>Average Internet usage over the years=%{marker.size}<extra></extra>\", \"hovertext\": [\"Nigeria\"], \"legendgroup\": \"Nigeria\", \"marker\": {\"color\": \"#FF97FF\", \"size\": [17.162112411446756], \"sizemode\": \"area\", \"sizeref\": 0.025361307840186014, \"symbol\": \"circle\"}, \"mode\": \"markers\", \"name\": \"Nigeria\", \"showlegend\": true, \"type\": \"scatter\", \"x\": [2714.5], \"xaxis\": \"x\", \"y\": [17.162112411446756], \"yaxis\": \"y\"}, {\"hovertemplate\": \"<b>%{hovertext}</b><br><br>Country=Puerto Rico<br>GDP per capita (current US$)=%{x}<br>Average Internet usage over the years=%{marker.size}<extra></extra>\", \"hovertext\": [\"Puerto Rico\"], \"legendgroup\": \"Puerto Rico\", \"marker\": {\"color\": \"#FECB52\", \"size\": [42.53512291391031], \"sizemode\": \"area\", \"sizeref\": 0.025361307840186014, \"symbol\": \"circle\"}, \"mode\": \"markers\", \"name\": \"Puerto Rico\", \"showlegend\": true, \"type\": \"scatter\", \"x\": [27939.0], \"xaxis\": \"x\", \"y\": [42.53512291391031], \"yaxis\": \"y\"}, {\"hovertemplate\": \"<b>%{hovertext}</b><br><br>Country=Rwanda<br>GDP per capita (current US$)=%{x}<br>Average Internet usage over the years=%{marker.size}<extra></extra>\", \"hovertext\": [\"Rwanda\"], \"legendgroup\": \"Rwanda\", \"marker\": {\"color\": \"#636efa\", \"size\": [9.364578138425099], \"sizemode\": \"area\", \"sizeref\": 0.025361307840186014, \"symbol\": \"circle\"}, \"mode\": \"markers\", \"name\": \"Rwanda\", \"showlegend\": true, \"type\": \"scatter\", \"x\": [697.3], \"xaxis\": \"x\", \"y\": [9.364578138425099], \"yaxis\": \"y\"}, {\"hovertemplate\": \"<b>%{hovertext}</b><br><br>Country=Saint Kitts and Nevis<br>GDP per capita (current US$)=%{x}<br>Average Internet usage over the years=%{marker.size}<extra></extra>\", \"hovertext\": [\"Saint Kitts and Nevis\"], \"legendgroup\": \"Saint Kitts and Nevis\", \"marker\": {\"color\": \"#EF553B\", \"size\": [54.17187963239342], \"sizemode\": \"area\", \"sizeref\": 0.025361307840186014, \"symbol\": \"circle\"}, \"mode\": \"markers\", \"name\": \"Saint Kitts and Nevis\", \"showlegend\": true, \"type\": \"scatter\", \"x\": [15771.9], \"xaxis\": \"x\", \"y\": [54.17187963239342], \"yaxis\": \"y\"}, {\"hovertemplate\": \"<b>%{hovertext}</b><br><br>Country=Sao Tome and Principe<br>GDP per capita (current US$)=%{x}<br>Average Internet usage over the years=%{marker.size}<extra></extra>\", \"hovertext\": [\"Sao Tome and Principe\"], \"legendgroup\": \"Sao Tome and Principe\", \"marker\": {\"color\": \"#00cc96\", \"size\": [19.09480274855771], \"sizemode\": \"area\", \"sizeref\": 0.025361307840186014, \"symbol\": \"circle\"}, \"mode\": \"markers\", \"name\": \"Sao Tome and Principe\", \"showlegend\": true, \"type\": \"scatter\", \"x\": [1752.8], \"xaxis\": \"x\", \"y\": [19.09480274855771], \"yaxis\": \"y\"}, {\"hovertemplate\": \"<b>%{hovertext}</b><br><br>Country=Seychelles<br>GDP per capita (current US$)=%{x}<br>Average Internet usage over the years=%{marker.size}<extra></extra>\", \"hovertext\": [\"Seychelles\"], \"legendgroup\": \"Seychelles\", \"marker\": {\"color\": \"#ab63fa\", \"size\": [39.56797645718501], \"sizemode\": \"area\", \"sizeref\": 0.025361307840186014, \"symbol\": \"circle\"}, \"mode\": \"markers\", \"name\": \"Seychelles\", \"showlegend\": true, \"type\": \"scatter\", \"x\": [14133.2], \"xaxis\": \"x\", \"y\": [39.56797645718501], \"yaxis\": \"y\"}, {\"hovertemplate\": \"<b>%{hovertext}</b><br><br>Country=Sierra Leone<br>GDP per capita (current US$)=%{x}<br>Average Internet usage over the years=%{marker.size}<extra></extra>\", \"hovertext\": [\"Sierra Leone\"], \"legendgroup\": \"Sierra Leone\", \"marker\": {\"color\": \"#FFA15A\", \"size\": [3.7716864384565736], \"sizemode\": \"area\", \"sizeref\": 0.025361307840186014, \"symbol\": \"circle\"}, \"mode\": \"markers\", \"name\": \"Sierra Leone\", \"showlegend\": true, \"type\": \"scatter\", \"x\": [694.8], \"xaxis\": \"x\", \"y\": [3.7716864384565736], \"yaxis\": \"y\"}, {\"hovertemplate\": \"<b>%{hovertext}</b><br><br>Country=Solomon Islands<br>GDP per capita (current US$)=%{x}<br>Average Internet usage over the years=%{marker.size}<extra></extra>\", \"hovertext\": [\"Solomon Islands\"], \"legendgroup\": \"Solomon Islands\", \"marker\": {\"color\": \"#19d3f3\", \"size\": [6.295327335877698], \"sizemode\": \"area\", \"sizeref\": 0.025361307840186014, \"symbol\": \"circle\"}, \"mode\": \"markers\", \"name\": \"Solomon Islands\", \"showlegend\": true, \"type\": \"scatter\", \"x\": [1841.6], \"xaxis\": \"x\", \"y\": [6.295327335877698], \"yaxis\": \"y\"}, {\"hovertemplate\": \"<b>%{hovertext}</b><br><br>Country=Somalia<br>GDP per capita (current US$)=%{x}<br>Average Internet usage over the years=%{marker.size}<extra></extra>\", \"hovertext\": [\"Somalia\"], \"legendgroup\": \"Somalia\", \"marker\": {\"color\": \"#FF6692\", \"size\": [1.1361887761410836], \"sizemode\": \"area\", \"sizeref\": 0.025361307840186014, \"symbol\": \"circle\"}, \"mode\": \"markers\", \"name\": \"Somalia\", \"showlegend\": true, \"type\": \"scatter\", \"x\": [144.5], \"xaxis\": \"x\", \"y\": [1.1361887761410836], \"yaxis\": \"y\"}, {\"hovertemplate\": \"<b>%{hovertext}</b><br><br>Country=South Africa<br>GDP per capita (current US$)=%{x}<br>Average Internet usage over the years=%{marker.size}<extra></extra>\", \"hovertext\": [\"South Africa\"], \"legendgroup\": \"South Africa\", \"marker\": {\"color\": \"#B6E880\", \"size\": [33.5812374956409], \"sizemode\": \"area\", \"sizeref\": 0.025361307840186014, \"symbol\": \"circle\"}, \"mode\": \"markers\", \"name\": \"South Africa\", \"showlegend\": true, \"type\": \"scatter\", \"x\": [5773.0], \"xaxis\": \"x\", \"y\": [33.5812374956409], \"yaxis\": \"y\"}, {\"hovertemplate\": \"<b>%{hovertext}</b><br><br>Country=Sri Lanka<br>GDP per capita (current US$)=%{x}<br>Average Internet usage over the years=%{marker.size}<extra></extra>\", \"hovertext\": [\"Sri Lanka\"], \"legendgroup\": \"Sri Lanka\", \"marker\": {\"color\": \"#FF97FF\", \"size\": [14.367109518620794], \"sizemode\": \"area\", \"sizeref\": 0.025361307840186014, \"symbol\": \"circle\"}, \"mode\": \"markers\", \"name\": \"Sri Lanka\", \"showlegend\": true, \"type\": \"scatter\", \"x\": [3973.7], \"xaxis\": \"x\", \"y\": [14.367109518620794], \"yaxis\": \"y\"}, {\"hovertemplate\": \"<b>%{hovertext}</b><br><br>Country=Swaziland (Eswatini)<br>GDP per capita (current US$)=%{x}<br>Average Internet usage over the years=%{marker.size}<extra></extra>\", \"hovertext\": [null], \"legendgroup\": \"Swaziland (Eswatini)\", \"marker\": {\"color\": \"#FECB52\", \"size\": [18.78786420456823], \"sizemode\": \"area\", \"sizeref\": 0.025361307840186014, \"symbol\": \"circle\"}, \"mode\": \"markers\", \"name\": \"Swaziland (Eswatini)\", \"showlegend\": true, \"type\": \"scatter\", \"x\": [null], \"xaxis\": \"x\", \"y\": [18.78786420456823], \"yaxis\": \"y\"}, {\"hovertemplate\": \"<b>%{hovertext}</b><br><br>Country=Switzerland<br>GDP per capita (current US$)=%{x}<br>Average Internet usage over the years=%{marker.size}<extra></extra>\", \"hovertext\": [\"Switzerland\"], \"legendgroup\": \"Switzerland\", \"marker\": {\"color\": \"#636efa\", \"size\": [73.77571992621391], \"sizemode\": \"area\", \"sizeref\": 0.025361307840186014, \"symbol\": \"circle\"}, \"mode\": \"markers\", \"name\": \"Switzerland\", \"showlegend\": true, \"type\": \"scatter\", \"x\": [80831.1], \"xaxis\": \"x\", \"y\": [73.77571992621391], \"yaxis\": \"y\"}, {\"hovertemplate\": \"<b>%{hovertext}</b><br><br>Country=Tajikistan<br>GDP per capita (current US$)=%{x}<br>Average Internet usage over the years=%{marker.size}<extra></extra>\", \"hovertext\": [\"Tajikistan\"], \"legendgroup\": \"Tajikistan\", \"marker\": {\"color\": \"#EF553B\", \"size\": [12.212480874402727], \"sizemode\": \"area\", \"sizeref\": 0.025361307840186014, \"symbol\": \"circle\"}, \"mode\": \"markers\", \"name\": \"Tajikistan\", \"showlegend\": true, \"type\": \"scatter\", \"x\": [925.9], \"xaxis\": \"x\", \"y\": [12.212480874402727], \"yaxis\": \"y\"}, {\"hovertemplate\": \"<b>%{hovertext}</b><br><br>Country=Tanzania<br>GDP per capita (current US$)=%{x}<br>Average Internet usage over the years=%{marker.size}<extra></extra>\", \"hovertext\": [null], \"legendgroup\": \"Tanzania\", \"marker\": {\"color\": \"#00cc96\", \"size\": [7.333381312737115], \"sizemode\": \"area\", \"sizeref\": 0.025361307840186014, \"symbol\": \"circle\"}, \"mode\": \"markers\", \"name\": \"Tanzania\", \"showlegend\": true, \"type\": \"scatter\", \"x\": [null], \"xaxis\": \"x\", \"y\": [7.333381312737115], \"yaxis\": \"y\"}, {\"hovertemplate\": \"<b>%{hovertext}</b><br><br>Country=Tonga<br>GDP per capita (current US$)=%{x}<br>Average Internet usage over the years=%{marker.size}<extra></extra>\", \"hovertext\": [\"Tonga\"], \"legendgroup\": \"Tonga\", \"marker\": {\"color\": \"#ab63fa\", \"size\": [24.263689358179615], \"sizemode\": \"area\", \"sizeref\": 0.025361307840186014, \"symbol\": \"circle\"}, \"mode\": \"markers\", \"name\": \"Tonga\", \"showlegend\": true, \"type\": \"scatter\", \"x\": [3784.5], \"xaxis\": \"x\", \"y\": [24.263689358179615], \"yaxis\": \"y\"}, {\"hovertemplate\": \"<b>%{hovertext}</b><br><br>Country=Turkmenistan<br>GDP per capita (current US$)=%{x}<br>Average Internet usage over the years=%{marker.size}<extra></extra>\", \"hovertext\": [\"Turkmenistan\"], \"legendgroup\": \"Turkmenistan\", \"marker\": {\"color\": \"#FFA15A\", \"size\": [8.396766857572139], \"sizemode\": \"area\", \"sizeref\": 0.025361307840186014, \"symbol\": \"circle\"}, \"mode\": \"markers\", \"name\": \"Turkmenistan\", \"showlegend\": true, \"type\": \"scatter\", \"x\": [6996.7], \"xaxis\": \"x\", \"y\": [8.396766857572139], \"yaxis\": \"y\"}, {\"hovertemplate\": \"<b>%{hovertext}</b><br><br>Country=Vanuatu<br>GDP per capita (current US$)=%{x}<br>Average Internet usage over the years=%{marker.size}<extra></extra>\", \"hovertext\": [\"Vanuatu\"], \"legendgroup\": \"Vanuatu\", \"marker\": {\"color\": \"#19d3f3\", \"size\": [12.469078465185122], \"sizemode\": \"area\", \"sizeref\": 0.025361307840186014, \"symbol\": \"circle\"}, \"mode\": \"markers\", \"name\": \"Vanuatu\", \"showlegend\": true, \"type\": \"scatter\", \"x\": [2783.0], \"xaxis\": \"x\", \"y\": [12.469078465185122], \"yaxis\": \"y\"}, {\"hovertemplate\": \"<b>%{hovertext}</b><br><br>Country=Venezuela<br>GDP per capita (current US$)=%{x}<br>Average Internet usage over the years=%{marker.size}<extra></extra>\", \"hovertext\": [null], \"legendgroup\": \"Venezuela\", \"marker\": {\"color\": \"#FF6692\", \"size\": [40.95024349521088], \"sizemode\": \"area\", \"sizeref\": 0.025361307840186014, \"symbol\": \"circle\"}, \"mode\": \"markers\", \"name\": \"Venezuela\", \"showlegend\": true, \"type\": \"scatter\", \"x\": [null], \"xaxis\": \"x\", \"y\": [40.95024349521088], \"yaxis\": \"y\"}, {\"hovertemplate\": \"<b>%{hovertext}</b><br><br>Country=Yemen<br>GDP per capita (current US$)=%{x}<br>Average Internet usage over the years=%{marker.size}<extra></extra>\", \"hovertext\": [\"Yemen\"], \"legendgroup\": \"Yemen\", \"marker\": {\"color\": \"#B6E880\", \"size\": [14.887779174601034], \"sizemode\": \"area\", \"sizeref\": 0.025361307840186014, \"symbol\": \"circle\"}, \"mode\": \"markers\", \"name\": \"Yemen\", \"showlegend\": true, \"type\": \"scatter\", \"x\": [1106.4], \"xaxis\": \"x\", \"y\": [14.887779174601034], \"yaxis\": \"y\"}],\n",
       "                        {\"legend\": {\"itemsizing\": \"constant\", \"title\": {\"text\": \"Country\"}, \"tracegroupgap\": 0}, \"margin\": {\"t\": 60}, \"template\": {\"data\": {\"bar\": [{\"error_x\": {\"color\": \"#2a3f5f\"}, \"error_y\": {\"color\": \"#2a3f5f\"}, \"marker\": {\"line\": {\"color\": \"#E5ECF6\", \"width\": 0.5}}, \"type\": \"bar\"}], \"barpolar\": [{\"marker\": {\"line\": {\"color\": \"#E5ECF6\", \"width\": 0.5}}, \"type\": \"barpolar\"}], \"carpet\": [{\"aaxis\": {\"endlinecolor\": \"#2a3f5f\", \"gridcolor\": \"white\", \"linecolor\": \"white\", \"minorgridcolor\": \"white\", \"startlinecolor\": \"#2a3f5f\"}, \"baxis\": {\"endlinecolor\": \"#2a3f5f\", \"gridcolor\": \"white\", \"linecolor\": \"white\", \"minorgridcolor\": \"white\", \"startlinecolor\": \"#2a3f5f\"}, \"type\": \"carpet\"}], \"choropleth\": [{\"colorbar\": {\"outlinewidth\": 0, \"ticks\": \"\"}, \"type\": \"choropleth\"}], \"contour\": [{\"colorbar\": {\"outlinewidth\": 0, \"ticks\": \"\"}, \"colorscale\": [[0.0, \"#0d0887\"], [0.1111111111111111, \"#46039f\"], [0.2222222222222222, \"#7201a8\"], [0.3333333333333333, \"#9c179e\"], [0.4444444444444444, \"#bd3786\"], [0.5555555555555556, \"#d8576b\"], [0.6666666666666666, \"#ed7953\"], [0.7777777777777778, \"#fb9f3a\"], [0.8888888888888888, \"#fdca26\"], [1.0, \"#f0f921\"]], \"type\": \"contour\"}], \"contourcarpet\": [{\"colorbar\": {\"outlinewidth\": 0, \"ticks\": \"\"}, \"type\": \"contourcarpet\"}], \"heatmap\": [{\"colorbar\": {\"outlinewidth\": 0, \"ticks\": \"\"}, \"colorscale\": [[0.0, \"#0d0887\"], [0.1111111111111111, \"#46039f\"], [0.2222222222222222, \"#7201a8\"], [0.3333333333333333, \"#9c179e\"], [0.4444444444444444, \"#bd3786\"], [0.5555555555555556, \"#d8576b\"], [0.6666666666666666, \"#ed7953\"], [0.7777777777777778, \"#fb9f3a\"], [0.8888888888888888, \"#fdca26\"], [1.0, \"#f0f921\"]], \"type\": \"heatmap\"}], \"heatmapgl\": [{\"colorbar\": {\"outlinewidth\": 0, \"ticks\": \"\"}, \"colorscale\": [[0.0, \"#0d0887\"], [0.1111111111111111, \"#46039f\"], [0.2222222222222222, \"#7201a8\"], [0.3333333333333333, \"#9c179e\"], [0.4444444444444444, \"#bd3786\"], [0.5555555555555556, \"#d8576b\"], [0.6666666666666666, \"#ed7953\"], [0.7777777777777778, \"#fb9f3a\"], [0.8888888888888888, \"#fdca26\"], [1.0, \"#f0f921\"]], \"type\": \"heatmapgl\"}], \"histogram\": [{\"marker\": {\"colorbar\": {\"outlinewidth\": 0, \"ticks\": \"\"}}, \"type\": \"histogram\"}], \"histogram2d\": [{\"colorbar\": {\"outlinewidth\": 0, \"ticks\": \"\"}, \"colorscale\": [[0.0, \"#0d0887\"], [0.1111111111111111, \"#46039f\"], [0.2222222222222222, \"#7201a8\"], [0.3333333333333333, \"#9c179e\"], [0.4444444444444444, \"#bd3786\"], [0.5555555555555556, \"#d8576b\"], [0.6666666666666666, \"#ed7953\"], [0.7777777777777778, \"#fb9f3a\"], [0.8888888888888888, \"#fdca26\"], [1.0, \"#f0f921\"]], \"type\": \"histogram2d\"}], \"histogram2dcontour\": [{\"colorbar\": {\"outlinewidth\": 0, \"ticks\": \"\"}, \"colorscale\": [[0.0, \"#0d0887\"], [0.1111111111111111, \"#46039f\"], [0.2222222222222222, \"#7201a8\"], [0.3333333333333333, \"#9c179e\"], [0.4444444444444444, \"#bd3786\"], [0.5555555555555556, \"#d8576b\"], [0.6666666666666666, \"#ed7953\"], [0.7777777777777778, \"#fb9f3a\"], [0.8888888888888888, \"#fdca26\"], [1.0, \"#f0f921\"]], \"type\": \"histogram2dcontour\"}], \"mesh3d\": [{\"colorbar\": {\"outlinewidth\": 0, \"ticks\": \"\"}, \"type\": \"mesh3d\"}], \"parcoords\": [{\"line\": {\"colorbar\": {\"outlinewidth\": 0, \"ticks\": \"\"}}, \"type\": \"parcoords\"}], \"pie\": [{\"automargin\": true, \"type\": \"pie\"}], \"scatter\": [{\"marker\": {\"colorbar\": {\"outlinewidth\": 0, \"ticks\": \"\"}}, \"type\": \"scatter\"}], \"scatter3d\": [{\"line\": {\"colorbar\": {\"outlinewidth\": 0, \"ticks\": \"\"}}, \"marker\": {\"colorbar\": {\"outlinewidth\": 0, \"ticks\": \"\"}}, \"type\": \"scatter3d\"}], \"scattercarpet\": [{\"marker\": {\"colorbar\": {\"outlinewidth\": 0, \"ticks\": \"\"}}, \"type\": \"scattercarpet\"}], \"scattergeo\": [{\"marker\": {\"colorbar\": {\"outlinewidth\": 0, \"ticks\": \"\"}}, \"type\": \"scattergeo\"}], \"scattergl\": [{\"marker\": {\"colorbar\": {\"outlinewidth\": 0, \"ticks\": \"\"}}, \"type\": \"scattergl\"}], \"scattermapbox\": [{\"marker\": {\"colorbar\": {\"outlinewidth\": 0, \"ticks\": \"\"}}, \"type\": \"scattermapbox\"}], \"scatterpolar\": [{\"marker\": {\"colorbar\": {\"outlinewidth\": 0, \"ticks\": \"\"}}, \"type\": \"scatterpolar\"}], \"scatterpolargl\": [{\"marker\": {\"colorbar\": {\"outlinewidth\": 0, \"ticks\": \"\"}}, \"type\": \"scatterpolargl\"}], \"scatterternary\": [{\"marker\": {\"colorbar\": {\"outlinewidth\": 0, \"ticks\": \"\"}}, \"type\": \"scatterternary\"}], \"surface\": [{\"colorbar\": {\"outlinewidth\": 0, \"ticks\": \"\"}, \"colorscale\": [[0.0, \"#0d0887\"], [0.1111111111111111, \"#46039f\"], [0.2222222222222222, \"#7201a8\"], [0.3333333333333333, \"#9c179e\"], [0.4444444444444444, \"#bd3786\"], [0.5555555555555556, \"#d8576b\"], [0.6666666666666666, \"#ed7953\"], [0.7777777777777778, \"#fb9f3a\"], [0.8888888888888888, \"#fdca26\"], [1.0, \"#f0f921\"]], \"type\": \"surface\"}], \"table\": [{\"cells\": {\"fill\": {\"color\": \"#EBF0F8\"}, \"line\": {\"color\": \"white\"}}, \"header\": {\"fill\": {\"color\": \"#C8D4E3\"}, \"line\": {\"color\": \"white\"}}, \"type\": \"table\"}]}, \"layout\": {\"annotationdefaults\": {\"arrowcolor\": \"#2a3f5f\", \"arrowhead\": 0, \"arrowwidth\": 1}, \"coloraxis\": {\"colorbar\": {\"outlinewidth\": 0, \"ticks\": \"\"}}, \"colorscale\": {\"diverging\": [[0, \"#8e0152\"], [0.1, \"#c51b7d\"], [0.2, \"#de77ae\"], [0.3, \"#f1b6da\"], [0.4, \"#fde0ef\"], [0.5, \"#f7f7f7\"], [0.6, \"#e6f5d0\"], [0.7, \"#b8e186\"], [0.8, \"#7fbc41\"], [0.9, \"#4d9221\"], [1, \"#276419\"]], \"sequential\": [[0.0, \"#0d0887\"], [0.1111111111111111, \"#46039f\"], [0.2222222222222222, \"#7201a8\"], [0.3333333333333333, \"#9c179e\"], [0.4444444444444444, \"#bd3786\"], [0.5555555555555556, \"#d8576b\"], [0.6666666666666666, \"#ed7953\"], [0.7777777777777778, \"#fb9f3a\"], [0.8888888888888888, \"#fdca26\"], [1.0, \"#f0f921\"]], \"sequentialminus\": [[0.0, \"#0d0887\"], [0.1111111111111111, \"#46039f\"], [0.2222222222222222, \"#7201a8\"], [0.3333333333333333, \"#9c179e\"], [0.4444444444444444, \"#bd3786\"], [0.5555555555555556, \"#d8576b\"], [0.6666666666666666, \"#ed7953\"], [0.7777777777777778, \"#fb9f3a\"], [0.8888888888888888, \"#fdca26\"], [1.0, \"#f0f921\"]]}, \"colorway\": [\"#636efa\", \"#EF553B\", \"#00cc96\", \"#ab63fa\", \"#FFA15A\", \"#19d3f3\", \"#FF6692\", \"#B6E880\", \"#FF97FF\", \"#FECB52\"], \"font\": {\"color\": \"#2a3f5f\"}, \"geo\": {\"bgcolor\": \"white\", \"lakecolor\": \"white\", \"landcolor\": \"#E5ECF6\", \"showlakes\": true, \"showland\": true, \"subunitcolor\": \"white\"}, \"hoverlabel\": {\"align\": \"left\"}, \"hovermode\": \"closest\", \"mapbox\": {\"style\": \"light\"}, \"paper_bgcolor\": \"white\", \"plot_bgcolor\": \"#E5ECF6\", \"polar\": {\"angularaxis\": {\"gridcolor\": \"white\", \"linecolor\": \"white\", \"ticks\": \"\"}, \"bgcolor\": \"#E5ECF6\", \"radialaxis\": {\"gridcolor\": \"white\", \"linecolor\": \"white\", \"ticks\": \"\"}}, \"scene\": {\"xaxis\": {\"backgroundcolor\": \"#E5ECF6\", \"gridcolor\": \"white\", \"gridwidth\": 2, \"linecolor\": \"white\", \"showbackground\": true, \"ticks\": \"\", \"zerolinecolor\": \"white\"}, \"yaxis\": {\"backgroundcolor\": \"#E5ECF6\", \"gridcolor\": \"white\", \"gridwidth\": 2, \"linecolor\": \"white\", \"showbackground\": true, \"ticks\": \"\", \"zerolinecolor\": \"white\"}, \"zaxis\": {\"backgroundcolor\": \"#E5ECF6\", \"gridcolor\": \"white\", \"gridwidth\": 2, \"linecolor\": \"white\", \"showbackground\": true, \"ticks\": \"\", \"zerolinecolor\": \"white\"}}, \"shapedefaults\": {\"line\": {\"color\": \"#2a3f5f\"}}, \"ternary\": {\"aaxis\": {\"gridcolor\": \"white\", \"linecolor\": \"white\", \"ticks\": \"\"}, \"baxis\": {\"gridcolor\": \"white\", \"linecolor\": \"white\", \"ticks\": \"\"}, \"bgcolor\": \"#E5ECF6\", \"caxis\": {\"gridcolor\": \"white\", \"linecolor\": \"white\", \"ticks\": \"\"}}, \"title\": {\"x\": 0.05}, \"xaxis\": {\"automargin\": true, \"gridcolor\": \"white\", \"linecolor\": \"white\", \"ticks\": \"\", \"title\": {\"standoff\": 15}, \"zerolinecolor\": \"white\", \"zerolinewidth\": 2}, \"yaxis\": {\"automargin\": true, \"gridcolor\": \"white\", \"linecolor\": \"white\", \"ticks\": \"\", \"title\": {\"standoff\": 15}, \"zerolinecolor\": \"white\", \"zerolinewidth\": 2}}}, \"xaxis\": {\"anchor\": \"y\", \"domain\": [0.0, 1.0], \"title\": {\"text\": \"GDP per capita (current US$)\"}, \"type\": \"log\"}, \"yaxis\": {\"anchor\": \"x\", \"domain\": [0.0, 1.0], \"title\": {\"text\": \"Average Internet usage over the years\"}}},\n",
       "                        {\"responsive\": true}\n",
       "                    ).then(function(){\n",
       "                            \n",
       "var gd = document.getElementById('84fe4076-88b8-4f47-b202-48ff0293e19d');\n",
       "var x = new MutationObserver(function (mutations, observer) {{\n",
       "        var display = window.getComputedStyle(gd).display;\n",
       "        if (!display || display === 'none') {{\n",
       "            console.log([gd, 'removed!']);\n",
       "            Plotly.purge(gd);\n",
       "            observer.disconnect();\n",
       "        }}\n",
       "}});\n",
       "\n",
       "// Listen for the removal of the full notebook cells\n",
       "var notebookContainer = gd.closest('#notebook-container');\n",
       "if (notebookContainer) {{\n",
       "    x.observe(notebookContainer, {childList: true});\n",
       "}}\n",
       "\n",
       "// Listen for the clearing of the current output cell\n",
       "var outputEl = gd.closest('.output');\n",
       "if (outputEl) {{\n",
       "    x.observe(outputEl, {childList: true});\n",
       "}}\n",
       "\n",
       "                        })\n",
       "                };\n",
       "                });\n",
       "            </script>\n",
       "        </div>"
      ]
     },
     "metadata": {},
     "output_type": "display_data"
    }
   ],
   "source": [
    "import plotly.express as px\n",
    "\n",
    "\n",
    "fig = px.scatter(GDP_vs_int_usage, x=\"GDP per capita (current US$)\", y=\"Average Internet usage over the years\",\n",
    "        color=\"Country\",size= \"Average Internet usage over the years\",\n",
    "                 hover_name=\"country\", log_x=True, size_max=60)\n",
    "fig.show()"
   ]
  },
  {
   "cell_type": "markdown",
   "metadata": {},
   "source": [
    "# Hypothesis 2"
   ]
  },
  {
   "cell_type": "markdown",
   "metadata": {},
   "source": [
    "We expect that countries with higher internet usage are more prone to security breaches.\n",
    "1. internet users\n",
    "2. security breaches"
   ]
  },
  {
   "cell_type": "code",
   "execution_count": 40,
   "metadata": {},
   "outputs": [],
   "source": [
    "data_breaches = pd.read_csv(\"C:/Users/admin/Desktop/final_project_2020Sp/Data/databreaches.csv\",encoding='latin-1')"
   ]
  },
  {
   "cell_type": "code",
   "execution_count": 41,
   "metadata": {},
   "outputs": [
    {
     "data": {
      "text/html": [
       "<div>\n",
       "<style scoped>\n",
       "    .dataframe tbody tr th:only-of-type {\n",
       "        vertical-align: middle;\n",
       "    }\n",
       "\n",
       "    .dataframe tbody tr th {\n",
       "        vertical-align: top;\n",
       "    }\n",
       "\n",
       "    .dataframe thead th {\n",
       "        text-align: right;\n",
       "    }\n",
       "</style>\n",
       "<table border=\"1\" class=\"dataframe\">\n",
       "  <thead>\n",
       "    <tr style=\"text-align: right;\">\n",
       "      <th></th>\n",
       "      <th>Date</th>\n",
       "      <th>Notify</th>\n",
       "      <th>URL</th>\n",
       "      <th>IP</th>\n",
       "      <th>Country</th>\n",
       "      <th>OS</th>\n",
       "      <th>WebServer</th>\n",
       "      <th>Encoding</th>\n",
       "      <th>Lang</th>\n",
       "    </tr>\n",
       "  </thead>\n",
       "  <tbody>\n",
       "    <tr>\n",
       "      <td>0</td>\n",
       "      <td>1998-01-02</td>\n",
       "      <td>Team CodeZero</td>\n",
       "      <td>http://www.janet-jackson.com</td>\n",
       "      <td>NaN</td>\n",
       "      <td>UNKNOWN</td>\n",
       "      <td>Unknown</td>\n",
       "      <td>Unknown</td>\n",
       "      <td>utf-8</td>\n",
       "      <td>NaN</td>\n",
       "    </tr>\n",
       "    <tr>\n",
       "      <td>1</td>\n",
       "      <td>1998-01-03</td>\n",
       "      <td>Feliz</td>\n",
       "      <td>http://cariari.ucr.ac.cr</td>\n",
       "      <td>NaN</td>\n",
       "      <td>COSTARICA</td>\n",
       "      <td>Unknown</td>\n",
       "      <td>Unknown</td>\n",
       "      <td>NaN</td>\n",
       "      <td>NaN</td>\n",
       "    </tr>\n",
       "    <tr>\n",
       "      <td>2</td>\n",
       "      <td>1998-01-04</td>\n",
       "      <td>Optiklenz(LOU)</td>\n",
       "      <td>http://marin.k12.ca.us</td>\n",
       "      <td>NaN</td>\n",
       "      <td>UNITED STATES</td>\n",
       "      <td>Unknown</td>\n",
       "      <td>Unknown</td>\n",
       "      <td>iso-8859-1</td>\n",
       "      <td>Helvetica</td>\n",
       "    </tr>\n",
       "    <tr>\n",
       "      <td>3</td>\n",
       "      <td>1998-01-04</td>\n",
       "      <td>Team CodeZero</td>\n",
       "      <td>http://www.dm.af.mil</td>\n",
       "      <td>NaN</td>\n",
       "      <td>AFGHANISTAN</td>\n",
       "      <td>Unknown</td>\n",
       "      <td>Unknown</td>\n",
       "      <td>utf-8</td>\n",
       "      <td>NaN</td>\n",
       "    </tr>\n",
       "    <tr>\n",
       "      <td>4</td>\n",
       "      <td>1998-01-04</td>\n",
       "      <td>Team CodeZero</td>\n",
       "      <td>http://www.bolling.af.mil</td>\n",
       "      <td>NaN</td>\n",
       "      <td>AFGHANISTAN</td>\n",
       "      <td>Unknown</td>\n",
       "      <td>Unknown</td>\n",
       "      <td>windows-1252</td>\n",
       "      <td>Times New Roman</td>\n",
       "    </tr>\n",
       "  </tbody>\n",
       "</table>\n",
       "</div>"
      ],
      "text/plain": [
       "         Date          Notify                           URL   IP  \\\n",
       "0  1998-01-02   Team CodeZero  http://www.janet-jackson.com  NaN   \n",
       "1  1998-01-03           Feliz      http://cariari.ucr.ac.cr  NaN   \n",
       "2  1998-01-04  Optiklenz(LOU)        http://marin.k12.ca.us  NaN   \n",
       "3  1998-01-04   Team CodeZero          http://www.dm.af.mil  NaN   \n",
       "4  1998-01-04   Team CodeZero     http://www.bolling.af.mil  NaN   \n",
       "\n",
       "         Country       OS WebServer      Encoding             Lang  \n",
       "0        UNKNOWN  Unknown   Unknown         utf-8              NaN  \n",
       "1      COSTARICA  Unknown   Unknown           NaN              NaN  \n",
       "2  UNITED STATES  Unknown   Unknown    iso-8859-1        Helvetica  \n",
       "3    AFGHANISTAN  Unknown   Unknown         utf-8              NaN  \n",
       "4    AFGHANISTAN  Unknown   Unknown  windows-1252  Times New Roman  "
      ]
     },
     "execution_count": 41,
     "metadata": {},
     "output_type": "execute_result"
    }
   ],
   "source": [
    "data_breaches.head()"
   ]
  },
  {
   "cell_type": "markdown",
   "metadata": {},
   "source": [
    "Internet usage is defined as internet users as a percentage of the population."
   ]
  },
  {
   "cell_type": "code",
   "execution_count": 42,
   "metadata": {},
   "outputs": [],
   "source": [
    "data_breaches_info = data_breaches[[\"Date\",\"Country\"]]"
   ]
  },
  {
   "cell_type": "code",
   "execution_count": 43,
   "metadata": {},
   "outputs": [
    {
     "data": {
      "text/html": [
       "<div>\n",
       "<style scoped>\n",
       "    .dataframe tbody tr th:only-of-type {\n",
       "        vertical-align: middle;\n",
       "    }\n",
       "\n",
       "    .dataframe tbody tr th {\n",
       "        vertical-align: top;\n",
       "    }\n",
       "\n",
       "    .dataframe thead th {\n",
       "        text-align: right;\n",
       "    }\n",
       "</style>\n",
       "<table border=\"1\" class=\"dataframe\">\n",
       "  <thead>\n",
       "    <tr style=\"text-align: right;\">\n",
       "      <th></th>\n",
       "      <th>Date</th>\n",
       "      <th>Country</th>\n",
       "    </tr>\n",
       "  </thead>\n",
       "  <tbody>\n",
       "    <tr>\n",
       "      <td>0</td>\n",
       "      <td>1998-01-02</td>\n",
       "      <td>UNKNOWN</td>\n",
       "    </tr>\n",
       "    <tr>\n",
       "      <td>1</td>\n",
       "      <td>1998-01-03</td>\n",
       "      <td>COSTARICA</td>\n",
       "    </tr>\n",
       "    <tr>\n",
       "      <td>2</td>\n",
       "      <td>1998-01-04</td>\n",
       "      <td>UNITED STATES</td>\n",
       "    </tr>\n",
       "    <tr>\n",
       "      <td>3</td>\n",
       "      <td>1998-01-04</td>\n",
       "      <td>AFGHANISTAN</td>\n",
       "    </tr>\n",
       "    <tr>\n",
       "      <td>4</td>\n",
       "      <td>1998-01-04</td>\n",
       "      <td>AFGHANISTAN</td>\n",
       "    </tr>\n",
       "    <tr>\n",
       "      <td>...</td>\n",
       "      <td>...</td>\n",
       "      <td>...</td>\n",
       "    </tr>\n",
       "    <tr>\n",
       "      <td>212088</td>\n",
       "      <td>2015-09-01</td>\n",
       "      <td>Unknown</td>\n",
       "    </tr>\n",
       "    <tr>\n",
       "      <td>212089</td>\n",
       "      <td>2015-09-01</td>\n",
       "      <td>Africa</td>\n",
       "    </tr>\n",
       "    <tr>\n",
       "      <td>212090</td>\n",
       "      <td>2015-09-01</td>\n",
       "      <td>Unknown</td>\n",
       "    </tr>\n",
       "    <tr>\n",
       "      <td>212091</td>\n",
       "      <td>2015-09-01</td>\n",
       "      <td>Unknown</td>\n",
       "    </tr>\n",
       "    <tr>\n",
       "      <td>212092</td>\n",
       "      <td>2015-09-01</td>\n",
       "      <td>Unknown</td>\n",
       "    </tr>\n",
       "  </tbody>\n",
       "</table>\n",
       "<p>212093 rows × 2 columns</p>\n",
       "</div>"
      ],
      "text/plain": [
       "              Date        Country\n",
       "0       1998-01-02        UNKNOWN\n",
       "1       1998-01-03      COSTARICA\n",
       "2       1998-01-04  UNITED STATES\n",
       "3       1998-01-04    AFGHANISTAN\n",
       "4       1998-01-04    AFGHANISTAN\n",
       "...            ...            ...\n",
       "212088  2015-09-01        Unknown\n",
       "212089  2015-09-01         Africa\n",
       "212090  2015-09-01        Unknown\n",
       "212091  2015-09-01        Unknown\n",
       "212092  2015-09-01        Unknown\n",
       "\n",
       "[212093 rows x 2 columns]"
      ]
     },
     "execution_count": 43,
     "metadata": {},
     "output_type": "execute_result"
    }
   ],
   "source": [
    "data_breaches_info"
   ]
  },
  {
   "cell_type": "code",
   "execution_count": 44,
   "metadata": {},
   "outputs": [
    {
     "name": "stderr",
     "output_type": "stream",
     "text": [
      "C:\\Users\\admin\\Anaconda3\\lib\\site-packages\\ipykernel_launcher.py:1: SettingWithCopyWarning:\n",
      "\n",
      "\n",
      "A value is trying to be set on a copy of a slice from a DataFrame.\n",
      "Try using .loc[row_indexer,col_indexer] = value instead\n",
      "\n",
      "See the caveats in the documentation: http://pandas.pydata.org/pandas-docs/stable/user_guide/indexing.html#returning-a-view-versus-a-copy\n",
      "\n"
     ]
    }
   ],
   "source": [
    "data_breaches_info[\"Date\"] = data_breaches_info[(data_breaches[\"Date\"] >'2000-1-1')]"
   ]
  },
  {
   "cell_type": "code",
   "execution_count": 45,
   "metadata": {},
   "outputs": [
    {
     "data": {
      "text/html": [
       "<div>\n",
       "<style scoped>\n",
       "    .dataframe tbody tr th:only-of-type {\n",
       "        vertical-align: middle;\n",
       "    }\n",
       "\n",
       "    .dataframe tbody tr th {\n",
       "        vertical-align: top;\n",
       "    }\n",
       "\n",
       "    .dataframe thead th {\n",
       "        text-align: right;\n",
       "    }\n",
       "</style>\n",
       "<table border=\"1\" class=\"dataframe\">\n",
       "  <thead>\n",
       "    <tr style=\"text-align: right;\">\n",
       "      <th></th>\n",
       "      <th>Date</th>\n",
       "      <th>Country</th>\n",
       "    </tr>\n",
       "  </thead>\n",
       "  <tbody>\n",
       "    <tr>\n",
       "      <td>0</td>\n",
       "      <td>NaN</td>\n",
       "      <td>UNKNOWN</td>\n",
       "    </tr>\n",
       "    <tr>\n",
       "      <td>1</td>\n",
       "      <td>NaN</td>\n",
       "      <td>COSTARICA</td>\n",
       "    </tr>\n",
       "    <tr>\n",
       "      <td>2</td>\n",
       "      <td>NaN</td>\n",
       "      <td>UNITED STATES</td>\n",
       "    </tr>\n",
       "    <tr>\n",
       "      <td>3</td>\n",
       "      <td>NaN</td>\n",
       "      <td>AFGHANISTAN</td>\n",
       "    </tr>\n",
       "    <tr>\n",
       "      <td>4</td>\n",
       "      <td>NaN</td>\n",
       "      <td>AFGHANISTAN</td>\n",
       "    </tr>\n",
       "    <tr>\n",
       "      <td>...</td>\n",
       "      <td>...</td>\n",
       "      <td>...</td>\n",
       "    </tr>\n",
       "    <tr>\n",
       "      <td>212088</td>\n",
       "      <td>2015-09-01</td>\n",
       "      <td>Unknown</td>\n",
       "    </tr>\n",
       "    <tr>\n",
       "      <td>212089</td>\n",
       "      <td>2015-09-01</td>\n",
       "      <td>Africa</td>\n",
       "    </tr>\n",
       "    <tr>\n",
       "      <td>212090</td>\n",
       "      <td>2015-09-01</td>\n",
       "      <td>Unknown</td>\n",
       "    </tr>\n",
       "    <tr>\n",
       "      <td>212091</td>\n",
       "      <td>2015-09-01</td>\n",
       "      <td>Unknown</td>\n",
       "    </tr>\n",
       "    <tr>\n",
       "      <td>212092</td>\n",
       "      <td>2015-09-01</td>\n",
       "      <td>Unknown</td>\n",
       "    </tr>\n",
       "  </tbody>\n",
       "</table>\n",
       "<p>212093 rows × 2 columns</p>\n",
       "</div>"
      ],
      "text/plain": [
       "              Date        Country\n",
       "0              NaN        UNKNOWN\n",
       "1              NaN      COSTARICA\n",
       "2              NaN  UNITED STATES\n",
       "3              NaN    AFGHANISTAN\n",
       "4              NaN    AFGHANISTAN\n",
       "...            ...            ...\n",
       "212088  2015-09-01        Unknown\n",
       "212089  2015-09-01         Africa\n",
       "212090  2015-09-01        Unknown\n",
       "212091  2015-09-01        Unknown\n",
       "212092  2015-09-01        Unknown\n",
       "\n",
       "[212093 rows x 2 columns]"
      ]
     },
     "execution_count": 45,
     "metadata": {},
     "output_type": "execute_result"
    }
   ],
   "source": [
    "data_breaches_info"
   ]
  },
  {
   "cell_type": "code",
   "execution_count": 48,
   "metadata": {},
   "outputs": [],
   "source": [
    "#filtering out nan values"
   ]
  },
  {
   "cell_type": "code",
   "execution_count": 46,
   "metadata": {},
   "outputs": [],
   "source": [
    "data_breaches_info = data_breaches_info.dropna()"
   ]
  },
  {
   "cell_type": "code",
   "execution_count": null,
   "metadata": {},
   "outputs": [],
   "source": [
    "#only breaches data from 2020."
   ]
  },
  {
   "cell_type": "code",
   "execution_count": 57,
   "metadata": {},
   "outputs": [
    {
     "data": {
      "text/html": [
       "<div>\n",
       "<style scoped>\n",
       "    .dataframe tbody tr th:only-of-type {\n",
       "        vertical-align: middle;\n",
       "    }\n",
       "\n",
       "    .dataframe tbody tr th {\n",
       "        vertical-align: top;\n",
       "    }\n",
       "\n",
       "    .dataframe thead th {\n",
       "        text-align: right;\n",
       "    }\n",
       "</style>\n",
       "<table border=\"1\" class=\"dataframe\">\n",
       "  <thead>\n",
       "    <tr style=\"text-align: right;\">\n",
       "      <th></th>\n",
       "      <th>Date</th>\n",
       "      <th>Country</th>\n",
       "    </tr>\n",
       "  </thead>\n",
       "  <tbody>\n",
       "    <tr>\n",
       "      <td>3139</td>\n",
       "      <td>2000-10-01</td>\n",
       "      <td>BRAZIL</td>\n",
       "    </tr>\n",
       "    <tr>\n",
       "      <td>3140</td>\n",
       "      <td>2000-10-01</td>\n",
       "      <td>NICARAGUA</td>\n",
       "    </tr>\n",
       "    <tr>\n",
       "      <td>3141</td>\n",
       "      <td>2000-10-01</td>\n",
       "      <td>GERMANY</td>\n",
       "    </tr>\n",
       "    <tr>\n",
       "      <td>3143</td>\n",
       "      <td>2000-10-01</td>\n",
       "      <td>UNKNOWN</td>\n",
       "    </tr>\n",
       "    <tr>\n",
       "      <td>3144</td>\n",
       "      <td>2000-10-01</td>\n",
       "      <td>UNKNOWN</td>\n",
       "    </tr>\n",
       "    <tr>\n",
       "      <td>...</td>\n",
       "      <td>...</td>\n",
       "      <td>...</td>\n",
       "    </tr>\n",
       "    <tr>\n",
       "      <td>212088</td>\n",
       "      <td>2015-09-01</td>\n",
       "      <td>Unknown</td>\n",
       "    </tr>\n",
       "    <tr>\n",
       "      <td>212089</td>\n",
       "      <td>2015-09-01</td>\n",
       "      <td>Africa</td>\n",
       "    </tr>\n",
       "    <tr>\n",
       "      <td>212090</td>\n",
       "      <td>2015-09-01</td>\n",
       "      <td>Unknown</td>\n",
       "    </tr>\n",
       "    <tr>\n",
       "      <td>212091</td>\n",
       "      <td>2015-09-01</td>\n",
       "      <td>Unknown</td>\n",
       "    </tr>\n",
       "    <tr>\n",
       "      <td>212092</td>\n",
       "      <td>2015-09-01</td>\n",
       "      <td>Unknown</td>\n",
       "    </tr>\n",
       "  </tbody>\n",
       "</table>\n",
       "<p>152487 rows × 2 columns</p>\n",
       "</div>"
      ],
      "text/plain": [
       "              Date    Country\n",
       "3139    2000-10-01     BRAZIL\n",
       "3140    2000-10-01  NICARAGUA\n",
       "3141    2000-10-01    GERMANY\n",
       "3143    2000-10-01    UNKNOWN\n",
       "3144    2000-10-01    UNKNOWN\n",
       "...            ...        ...\n",
       "212088  2015-09-01    Unknown\n",
       "212089  2015-09-01     Africa\n",
       "212090  2015-09-01    Unknown\n",
       "212091  2015-09-01    Unknown\n",
       "212092  2015-09-01    Unknown\n",
       "\n",
       "[152487 rows x 2 columns]"
      ]
     },
     "execution_count": 57,
     "metadata": {},
     "output_type": "execute_result"
    }
   ],
   "source": [
    "data_breaches_info"
   ]
  },
  {
   "cell_type": "code",
   "execution_count": 84,
   "metadata": {},
   "outputs": [
    {
     "name": "stderr",
     "output_type": "stream",
     "text": [
      "C:\\Users\\admin\\Anaconda3\\lib\\site-packages\\ipykernel_launcher.py:1: SettingWithCopyWarning:\n",
      "\n",
      "\n",
      "A value is trying to be set on a copy of a slice from a DataFrame.\n",
      "Try using .loc[row_indexer,col_indexer] = value instead\n",
      "\n",
      "See the caveats in the documentation: http://pandas.pydata.org/pandas-docs/stable/user_guide/indexing.html#returning-a-view-versus-a-copy\n",
      "\n"
     ]
    }
   ],
   "source": [
    "data_breaches_info[\"Country\"] = data_breaches_info[\"Country\"].astype(str)"
   ]
  },
  {
   "cell_type": "code",
   "execution_count": 110,
   "metadata": {},
   "outputs": [
    {
     "data": {
      "text/plain": [
       "Date       object\n",
       "Country    object\n",
       "dtype: object"
      ]
     },
     "execution_count": 110,
     "metadata": {},
     "output_type": "execute_result"
    }
   ],
   "source": [
    "data_breaches_info.dtypes"
   ]
  },
  {
   "cell_type": "code",
   "execution_count": 111,
   "metadata": {},
   "outputs": [],
   "source": [
    "data_breaches_per_country = pd.DataFrame(data_breaches_info[\"Country\"].value_counts().rename_axis('Country').reset_index(name='No. of Data Breaches'))"
   ]
  },
  {
   "cell_type": "code",
   "execution_count": 112,
   "metadata": {},
   "outputs": [
    {
     "data": {
      "text/html": [
       "<div>\n",
       "<style scoped>\n",
       "    .dataframe tbody tr th:only-of-type {\n",
       "        vertical-align: middle;\n",
       "    }\n",
       "\n",
       "    .dataframe tbody tr th {\n",
       "        vertical-align: top;\n",
       "    }\n",
       "\n",
       "    .dataframe thead th {\n",
       "        text-align: right;\n",
       "    }\n",
       "</style>\n",
       "<table border=\"1\" class=\"dataframe\">\n",
       "  <thead>\n",
       "    <tr style=\"text-align: right;\">\n",
       "      <th></th>\n",
       "      <th>Country</th>\n",
       "      <th>No. of Data Breaches</th>\n",
       "    </tr>\n",
       "  </thead>\n",
       "  <tbody>\n",
       "    <tr>\n",
       "      <td>0</td>\n",
       "      <td>b'United States'</td>\n",
       "      <td>29928</td>\n",
       "    </tr>\n",
       "    <tr>\n",
       "      <td>1</td>\n",
       "      <td>b'UNITED STATES'</td>\n",
       "      <td>28294</td>\n",
       "    </tr>\n",
       "    <tr>\n",
       "      <td>2</td>\n",
       "      <td>b'UNKNOWN'</td>\n",
       "      <td>8555</td>\n",
       "    </tr>\n",
       "    <tr>\n",
       "      <td>3</td>\n",
       "      <td>b'Spain'</td>\n",
       "      <td>5665</td>\n",
       "    </tr>\n",
       "    <tr>\n",
       "      <td>4</td>\n",
       "      <td>b'BRAZIL'</td>\n",
       "      <td>5088</td>\n",
       "    </tr>\n",
       "    <tr>\n",
       "      <td>...</td>\n",
       "      <td>...</td>\n",
       "      <td>...</td>\n",
       "    </tr>\n",
       "    <tr>\n",
       "      <td>350</td>\n",
       "      <td>b'PAPUA NEW GUINEA'</td>\n",
       "      <td>1</td>\n",
       "    </tr>\n",
       "    <tr>\n",
       "      <td>351</td>\n",
       "      <td>b'NORFOLKISLAND'</td>\n",
       "      <td>1</td>\n",
       "    </tr>\n",
       "    <tr>\n",
       "      <td>352</td>\n",
       "      <td>b'TURKMENISTAN'</td>\n",
       "      <td>1</td>\n",
       "    </tr>\n",
       "    <tr>\n",
       "      <td>353</td>\n",
       "      <td>b'NETHERLANDSANTILLES'</td>\n",
       "      <td>1</td>\n",
       "    </tr>\n",
       "    <tr>\n",
       "      <td>354</td>\n",
       "      <td>b'New Caledonia'</td>\n",
       "      <td>1</td>\n",
       "    </tr>\n",
       "  </tbody>\n",
       "</table>\n",
       "<p>355 rows × 2 columns</p>\n",
       "</div>"
      ],
      "text/plain": [
       "                    Country  No. of Data Breaches\n",
       "0          b'United States'                 29928\n",
       "1          b'UNITED STATES'                 28294\n",
       "2                b'UNKNOWN'                  8555\n",
       "3                  b'Spain'                  5665\n",
       "4                 b'BRAZIL'                  5088\n",
       "..                      ...                   ...\n",
       "350     b'PAPUA NEW GUINEA'                     1\n",
       "351        b'NORFOLKISLAND'                     1\n",
       "352         b'TURKMENISTAN'                     1\n",
       "353  b'NETHERLANDSANTILLES'                     1\n",
       "354        b'New Caledonia'                     1\n",
       "\n",
       "[355 rows x 2 columns]"
      ]
     },
     "execution_count": 112,
     "metadata": {},
     "output_type": "execute_result"
    }
   ],
   "source": [
    "data_breaches_per_country"
   ]
  },
  {
   "cell_type": "code",
   "execution_count": 115,
   "metadata": {},
   "outputs": [],
   "source": [
    " #stackoverflow #https://stackoverflow.com/questions/28679930/how-to-drop-rows-from-pandas-data-frame-that-contains-a-particular-string-in-a-p"
   ]
  },
  {
   "cell_type": "markdown",
   "metadata": {},
   "source": [
    "Filtering out rows that have country as Unknown"
   ]
  },
  {
   "cell_type": "code",
   "execution_count": 117,
   "metadata": {},
   "outputs": [],
   "source": [
    "data_breaches_per_country = data_breaches_per_country[~data_breaches_per_country.Country.str.contains(\"b'UNKNOWN'\")]"
   ]
  },
  {
   "cell_type": "code",
   "execution_count": 122,
   "metadata": {},
   "outputs": [],
   "source": [
    "data_breaches_per_country = data_breaches_per_country[~data_breaches_per_country.Country.str.contains(\"b'Unknown\")]"
   ]
  },
  {
   "cell_type": "code",
   "execution_count": 123,
   "metadata": {},
   "outputs": [
    {
     "data": {
      "text/html": [
       "<div>\n",
       "<style scoped>\n",
       "    .dataframe tbody tr th:only-of-type {\n",
       "        vertical-align: middle;\n",
       "    }\n",
       "\n",
       "    .dataframe tbody tr th {\n",
       "        vertical-align: top;\n",
       "    }\n",
       "\n",
       "    .dataframe thead th {\n",
       "        text-align: right;\n",
       "    }\n",
       "</style>\n",
       "<table border=\"1\" class=\"dataframe\">\n",
       "  <thead>\n",
       "    <tr style=\"text-align: right;\">\n",
       "      <th></th>\n",
       "      <th>Country</th>\n",
       "      <th>No. of Data Breaches</th>\n",
       "    </tr>\n",
       "  </thead>\n",
       "  <tbody>\n",
       "    <tr>\n",
       "      <td>0</td>\n",
       "      <td>b'United States'</td>\n",
       "      <td>29928</td>\n",
       "    </tr>\n",
       "    <tr>\n",
       "      <td>1</td>\n",
       "      <td>b'UNITED STATES'</td>\n",
       "      <td>28294</td>\n",
       "    </tr>\n",
       "    <tr>\n",
       "      <td>3</td>\n",
       "      <td>b'Spain'</td>\n",
       "      <td>5665</td>\n",
       "    </tr>\n",
       "    <tr>\n",
       "      <td>4</td>\n",
       "      <td>b'BRAZIL'</td>\n",
       "      <td>5088</td>\n",
       "    </tr>\n",
       "    <tr>\n",
       "      <td>5</td>\n",
       "      <td>b'Germany'</td>\n",
       "      <td>4088</td>\n",
       "    </tr>\n",
       "    <tr>\n",
       "      <td>...</td>\n",
       "      <td>...</td>\n",
       "      <td>...</td>\n",
       "    </tr>\n",
       "    <tr>\n",
       "      <td>350</td>\n",
       "      <td>b'PAPUA NEW GUINEA'</td>\n",
       "      <td>1</td>\n",
       "    </tr>\n",
       "    <tr>\n",
       "      <td>351</td>\n",
       "      <td>b'NORFOLKISLAND'</td>\n",
       "      <td>1</td>\n",
       "    </tr>\n",
       "    <tr>\n",
       "      <td>352</td>\n",
       "      <td>b'TURKMENISTAN'</td>\n",
       "      <td>1</td>\n",
       "    </tr>\n",
       "    <tr>\n",
       "      <td>353</td>\n",
       "      <td>b'NETHERLANDSANTILLES'</td>\n",
       "      <td>1</td>\n",
       "    </tr>\n",
       "    <tr>\n",
       "      <td>354</td>\n",
       "      <td>b'New Caledonia'</td>\n",
       "      <td>1</td>\n",
       "    </tr>\n",
       "  </tbody>\n",
       "</table>\n",
       "<p>353 rows × 2 columns</p>\n",
       "</div>"
      ],
      "text/plain": [
       "                    Country  No. of Data Breaches\n",
       "0          b'United States'                 29928\n",
       "1          b'UNITED STATES'                 28294\n",
       "3                  b'Spain'                  5665\n",
       "4                 b'BRAZIL'                  5088\n",
       "5                b'Germany'                  4088\n",
       "..                      ...                   ...\n",
       "350     b'PAPUA NEW GUINEA'                     1\n",
       "351        b'NORFOLKISLAND'                     1\n",
       "352         b'TURKMENISTAN'                     1\n",
       "353  b'NETHERLANDSANTILLES'                     1\n",
       "354        b'New Caledonia'                     1\n",
       "\n",
       "[353 rows x 2 columns]"
      ]
     },
     "execution_count": 123,
     "metadata": {},
     "output_type": "execute_result"
    }
   ],
   "source": [
    "data_breaches_per_country"
   ]
  },
  {
   "cell_type": "code",
   "execution_count": 129,
   "metadata": {},
   "outputs": [
    {
     "name": "stderr",
     "output_type": "stream",
     "text": [
      "C:\\Users\\admin\\Anaconda3\\lib\\site-packages\\ipykernel_launcher.py:2: SettingWithCopyWarning:\n",
      "\n",
      "\n",
      "A value is trying to be set on a copy of a slice from a DataFrame.\n",
      "Try using .loc[row_indexer,col_indexer] = value instead\n",
      "\n",
      "See the caveats in the documentation: http://pandas.pydata.org/pandas-docs/stable/user_guide/indexing.html#returning-a-view-versus-a-copy\n",
      "\n"
     ]
    }
   ],
   "source": [
    "#df.Geo.str.replace(\"[({':]\", \"\") #https://python-forum.io/Thread-Removing-characters-from-columns-in-data-frame\n",
    "data_breaches_per_country[\"Country\"] = data_breaches_per_country.Country.str.replace(\"[b']\",\"\")"
   ]
  },
  {
   "cell_type": "code",
   "execution_count": 131,
   "metadata": {},
   "outputs": [
    {
     "data": {
      "text/html": [
       "<div>\n",
       "<style scoped>\n",
       "    .dataframe tbody tr th:only-of-type {\n",
       "        vertical-align: middle;\n",
       "    }\n",
       "\n",
       "    .dataframe tbody tr th {\n",
       "        vertical-align: top;\n",
       "    }\n",
       "\n",
       "    .dataframe thead th {\n",
       "        text-align: right;\n",
       "    }\n",
       "</style>\n",
       "<table border=\"1\" class=\"dataframe\">\n",
       "  <thead>\n",
       "    <tr style=\"text-align: right;\">\n",
       "      <th></th>\n",
       "      <th>Country</th>\n",
       "      <th>No. of Data Breaches</th>\n",
       "    </tr>\n",
       "  </thead>\n",
       "  <tbody>\n",
       "    <tr>\n",
       "      <td>0</td>\n",
       "      <td>United States</td>\n",
       "      <td>29928</td>\n",
       "    </tr>\n",
       "    <tr>\n",
       "      <td>1</td>\n",
       "      <td>UNITED STATES</td>\n",
       "      <td>28294</td>\n",
       "    </tr>\n",
       "    <tr>\n",
       "      <td>3</td>\n",
       "      <td>Spain</td>\n",
       "      <td>5665</td>\n",
       "    </tr>\n",
       "    <tr>\n",
       "      <td>4</td>\n",
       "      <td>BRAZIL</td>\n",
       "      <td>5088</td>\n",
       "    </tr>\n",
       "    <tr>\n",
       "      <td>5</td>\n",
       "      <td>Germany</td>\n",
       "      <td>4088</td>\n",
       "    </tr>\n",
       "    <tr>\n",
       "      <td>...</td>\n",
       "      <td>...</td>\n",
       "      <td>...</td>\n",
       "    </tr>\n",
       "    <tr>\n",
       "      <td>350</td>\n",
       "      <td>PAPUA NEW GUINEA</td>\n",
       "      <td>1</td>\n",
       "    </tr>\n",
       "    <tr>\n",
       "      <td>351</td>\n",
       "      <td>NORFOLKISLAND</td>\n",
       "      <td>1</td>\n",
       "    </tr>\n",
       "    <tr>\n",
       "      <td>352</td>\n",
       "      <td>TURKMENISTAN</td>\n",
       "      <td>1</td>\n",
       "    </tr>\n",
       "    <tr>\n",
       "      <td>353</td>\n",
       "      <td>NETHERLANDSANTILLES</td>\n",
       "      <td>1</td>\n",
       "    </tr>\n",
       "    <tr>\n",
       "      <td>354</td>\n",
       "      <td>New Caledonia</td>\n",
       "      <td>1</td>\n",
       "    </tr>\n",
       "  </tbody>\n",
       "</table>\n",
       "<p>353 rows × 2 columns</p>\n",
       "</div>"
      ],
      "text/plain": [
       "                 Country  No. of Data Breaches\n",
       "0          United States                 29928\n",
       "1          UNITED STATES                 28294\n",
       "3                  Spain                  5665\n",
       "4                 BRAZIL                  5088\n",
       "5                Germany                  4088\n",
       "..                   ...                   ...\n",
       "350     PAPUA NEW GUINEA                     1\n",
       "351        NORFOLKISLAND                     1\n",
       "352         TURKMENISTAN                     1\n",
       "353  NETHERLANDSANTILLES                     1\n",
       "354        New Caledonia                     1\n",
       "\n",
       "[353 rows x 2 columns]"
      ]
     },
     "execution_count": 131,
     "metadata": {},
     "output_type": "execute_result"
    }
   ],
   "source": [
    "data_breaches_per_country"
   ]
  },
  {
   "cell_type": "markdown",
   "metadata": {},
   "source": [
    "# Convert the countries to lower case"
   ]
  },
  {
   "cell_type": "markdown",
   "metadata": {},
   "source": [
    "dropping UNITED  States as it has a lower value"
   ]
  },
  {
   "cell_type": "code",
   "execution_count": 137,
   "metadata": {},
   "outputs": [],
   "source": [
    "data_breaches_per_country =data_breaches_per_country[data_breaches_per_country.Country != \"UNITED STATES\"]"
   ]
  },
  {
   "cell_type": "code",
   "execution_count": 138,
   "metadata": {},
   "outputs": [
    {
     "data": {
      "text/html": [
       "<div>\n",
       "<style scoped>\n",
       "    .dataframe tbody tr th:only-of-type {\n",
       "        vertical-align: middle;\n",
       "    }\n",
       "\n",
       "    .dataframe tbody tr th {\n",
       "        vertical-align: top;\n",
       "    }\n",
       "\n",
       "    .dataframe thead th {\n",
       "        text-align: right;\n",
       "    }\n",
       "</style>\n",
       "<table border=\"1\" class=\"dataframe\">\n",
       "  <thead>\n",
       "    <tr style=\"text-align: right;\">\n",
       "      <th></th>\n",
       "      <th>Country</th>\n",
       "      <th>No. of Data Breaches</th>\n",
       "    </tr>\n",
       "  </thead>\n",
       "  <tbody>\n",
       "    <tr>\n",
       "      <td>0</td>\n",
       "      <td>United States</td>\n",
       "      <td>29928</td>\n",
       "    </tr>\n",
       "    <tr>\n",
       "      <td>3</td>\n",
       "      <td>Spain</td>\n",
       "      <td>5665</td>\n",
       "    </tr>\n",
       "    <tr>\n",
       "      <td>4</td>\n",
       "      <td>BRAZIL</td>\n",
       "      <td>5088</td>\n",
       "    </tr>\n",
       "    <tr>\n",
       "      <td>5</td>\n",
       "      <td>Germany</td>\n",
       "      <td>4088</td>\n",
       "    </tr>\n",
       "    <tr>\n",
       "      <td>6</td>\n",
       "      <td>France</td>\n",
       "      <td>3681</td>\n",
       "    </tr>\n",
       "    <tr>\n",
       "      <td>...</td>\n",
       "      <td>...</td>\n",
       "      <td>...</td>\n",
       "    </tr>\n",
       "    <tr>\n",
       "      <td>350</td>\n",
       "      <td>PAPUA NEW GUINEA</td>\n",
       "      <td>1</td>\n",
       "    </tr>\n",
       "    <tr>\n",
       "      <td>351</td>\n",
       "      <td>NORFOLKISLAND</td>\n",
       "      <td>1</td>\n",
       "    </tr>\n",
       "    <tr>\n",
       "      <td>352</td>\n",
       "      <td>TURKMENISTAN</td>\n",
       "      <td>1</td>\n",
       "    </tr>\n",
       "    <tr>\n",
       "      <td>353</td>\n",
       "      <td>NETHERLANDSANTILLES</td>\n",
       "      <td>1</td>\n",
       "    </tr>\n",
       "    <tr>\n",
       "      <td>354</td>\n",
       "      <td>New Caledonia</td>\n",
       "      <td>1</td>\n",
       "    </tr>\n",
       "  </tbody>\n",
       "</table>\n",
       "<p>352 rows × 2 columns</p>\n",
       "</div>"
      ],
      "text/plain": [
       "                 Country  No. of Data Breaches\n",
       "0          United States                 29928\n",
       "3                  Spain                  5665\n",
       "4                 BRAZIL                  5088\n",
       "5                Germany                  4088\n",
       "6                 France                  3681\n",
       "..                   ...                   ...\n",
       "350     PAPUA NEW GUINEA                     1\n",
       "351        NORFOLKISLAND                     1\n",
       "352         TURKMENISTAN                     1\n",
       "353  NETHERLANDSANTILLES                     1\n",
       "354        New Caledonia                     1\n",
       "\n",
       "[352 rows x 2 columns]"
      ]
     },
     "execution_count": 138,
     "metadata": {},
     "output_type": "execute_result"
    }
   ],
   "source": [
    "data_breaches_per_country"
   ]
  },
  {
   "cell_type": "code",
   "execution_count": 124,
   "metadata": {},
   "outputs": [
    {
     "data": {
      "text/html": [
       "<div>\n",
       "<style scoped>\n",
       "    .dataframe tbody tr th:only-of-type {\n",
       "        vertical-align: middle;\n",
       "    }\n",
       "\n",
       "    .dataframe tbody tr th {\n",
       "        vertical-align: top;\n",
       "    }\n",
       "\n",
       "    .dataframe thead th {\n",
       "        text-align: right;\n",
       "    }\n",
       "</style>\n",
       "<table border=\"1\" class=\"dataframe\">\n",
       "  <thead>\n",
       "    <tr style=\"text-align: right;\">\n",
       "      <th></th>\n",
       "      <th>Country</th>\n",
       "      <th>Average Internet usage over the years</th>\n",
       "    </tr>\n",
       "  </thead>\n",
       "  <tbody>\n",
       "    <tr>\n",
       "      <td>0</td>\n",
       "      <td>Qatar</td>\n",
       "      <td>72.612578</td>\n",
       "    </tr>\n",
       "    <tr>\n",
       "      <td>1</td>\n",
       "      <td>Kuwait</td>\n",
       "      <td>66.763996</td>\n",
       "    </tr>\n",
       "    <tr>\n",
       "      <td>2</td>\n",
       "      <td>Iceland</td>\n",
       "      <td>91.300708</td>\n",
       "    </tr>\n",
       "    <tr>\n",
       "      <td>3</td>\n",
       "      <td>Bahrain</td>\n",
       "      <td>73.996405</td>\n",
       "    </tr>\n",
       "    <tr>\n",
       "      <td>4</td>\n",
       "      <td>United Arab Emirates</td>\n",
       "      <td>77.035929</td>\n",
       "    </tr>\n",
       "    <tr>\n",
       "      <td>...</td>\n",
       "      <td>...</td>\n",
       "      <td>...</td>\n",
       "    </tr>\n",
       "    <tr>\n",
       "      <td>193</td>\n",
       "      <td>Tonga</td>\n",
       "      <td>24.263689</td>\n",
       "    </tr>\n",
       "    <tr>\n",
       "      <td>194</td>\n",
       "      <td>Turkmenistan</td>\n",
       "      <td>8.396767</td>\n",
       "    </tr>\n",
       "    <tr>\n",
       "      <td>195</td>\n",
       "      <td>Vanuatu</td>\n",
       "      <td>12.469078</td>\n",
       "    </tr>\n",
       "    <tr>\n",
       "      <td>196</td>\n",
       "      <td>Venezuela</td>\n",
       "      <td>40.950243</td>\n",
       "    </tr>\n",
       "    <tr>\n",
       "      <td>197</td>\n",
       "      <td>Yemen</td>\n",
       "      <td>14.887779</td>\n",
       "    </tr>\n",
       "  </tbody>\n",
       "</table>\n",
       "<p>198 rows × 2 columns</p>\n",
       "</div>"
      ],
      "text/plain": [
       "                  Country  Average Internet usage over the years\n",
       "0                   Qatar                              72.612578\n",
       "1                  Kuwait                              66.763996\n",
       "2                 Iceland                              91.300708\n",
       "3                 Bahrain                              73.996405\n",
       "4    United Arab Emirates                              77.035929\n",
       "..                    ...                                    ...\n",
       "193                 Tonga                              24.263689\n",
       "194          Turkmenistan                               8.396767\n",
       "195               Vanuatu                              12.469078\n",
       "196             Venezuela                              40.950243\n",
       "197                 Yemen                              14.887779\n",
       "\n",
       "[198 rows x 2 columns]"
      ]
     },
     "execution_count": 124,
     "metadata": {},
     "output_type": "execute_result"
    }
   ],
   "source": [
    "insights2"
   ]
  },
  {
   "cell_type": "code",
   "execution_count": 142,
   "metadata": {},
   "outputs": [],
   "source": [
    "data_breach_int_users = insights2.merge(data_breaches_per_country,left_on=\"Country\",right_on=\"Country\",how= \"left\")"
   ]
  },
  {
   "cell_type": "code",
   "execution_count": 143,
   "metadata": {},
   "outputs": [
    {
     "data": {
      "text/html": [
       "<div>\n",
       "<style scoped>\n",
       "    .dataframe tbody tr th:only-of-type {\n",
       "        vertical-align: middle;\n",
       "    }\n",
       "\n",
       "    .dataframe tbody tr th {\n",
       "        vertical-align: top;\n",
       "    }\n",
       "\n",
       "    .dataframe thead th {\n",
       "        text-align: right;\n",
       "    }\n",
       "</style>\n",
       "<table border=\"1\" class=\"dataframe\">\n",
       "  <thead>\n",
       "    <tr style=\"text-align: right;\">\n",
       "      <th></th>\n",
       "      <th>Country</th>\n",
       "      <th>Average Internet usage over the years</th>\n",
       "      <th>No. of Data Breaches</th>\n",
       "    </tr>\n",
       "  </thead>\n",
       "  <tbody>\n",
       "    <tr>\n",
       "      <td>0</td>\n",
       "      <td>Qatar</td>\n",
       "      <td>72.612578</td>\n",
       "      <td>NaN</td>\n",
       "    </tr>\n",
       "    <tr>\n",
       "      <td>1</td>\n",
       "      <td>Kuwait</td>\n",
       "      <td>66.763996</td>\n",
       "      <td>2.0</td>\n",
       "    </tr>\n",
       "    <tr>\n",
       "      <td>2</td>\n",
       "      <td>Iceland</td>\n",
       "      <td>91.300708</td>\n",
       "      <td>28.0</td>\n",
       "    </tr>\n",
       "    <tr>\n",
       "      <td>3</td>\n",
       "      <td>Bahrain</td>\n",
       "      <td>73.996405</td>\n",
       "      <td>NaN</td>\n",
       "    </tr>\n",
       "    <tr>\n",
       "      <td>4</td>\n",
       "      <td>United Arab Emirates</td>\n",
       "      <td>77.035929</td>\n",
       "      <td>NaN</td>\n",
       "    </tr>\n",
       "    <tr>\n",
       "      <td>...</td>\n",
       "      <td>...</td>\n",
       "      <td>...</td>\n",
       "      <td>...</td>\n",
       "    </tr>\n",
       "    <tr>\n",
       "      <td>193</td>\n",
       "      <td>Tonga</td>\n",
       "      <td>24.263689</td>\n",
       "      <td>NaN</td>\n",
       "    </tr>\n",
       "    <tr>\n",
       "      <td>194</td>\n",
       "      <td>Turkmenistan</td>\n",
       "      <td>8.396767</td>\n",
       "      <td>NaN</td>\n",
       "    </tr>\n",
       "    <tr>\n",
       "      <td>195</td>\n",
       "      <td>Vanuatu</td>\n",
       "      <td>12.469078</td>\n",
       "      <td>4.0</td>\n",
       "    </tr>\n",
       "    <tr>\n",
       "      <td>196</td>\n",
       "      <td>Venezuela</td>\n",
       "      <td>40.950243</td>\n",
       "      <td>10.0</td>\n",
       "    </tr>\n",
       "    <tr>\n",
       "      <td>197</td>\n",
       "      <td>Yemen</td>\n",
       "      <td>14.887779</td>\n",
       "      <td>3.0</td>\n",
       "    </tr>\n",
       "  </tbody>\n",
       "</table>\n",
       "<p>198 rows × 3 columns</p>\n",
       "</div>"
      ],
      "text/plain": [
       "                  Country  Average Internet usage over the years  \\\n",
       "0                   Qatar                              72.612578   \n",
       "1                  Kuwait                              66.763996   \n",
       "2                 Iceland                              91.300708   \n",
       "3                 Bahrain                              73.996405   \n",
       "4    United Arab Emirates                              77.035929   \n",
       "..                    ...                                    ...   \n",
       "193                 Tonga                              24.263689   \n",
       "194          Turkmenistan                               8.396767   \n",
       "195               Vanuatu                              12.469078   \n",
       "196             Venezuela                              40.950243   \n",
       "197                 Yemen                              14.887779   \n",
       "\n",
       "     No. of Data Breaches  \n",
       "0                     NaN  \n",
       "1                     2.0  \n",
       "2                    28.0  \n",
       "3                     NaN  \n",
       "4                     NaN  \n",
       "..                    ...  \n",
       "193                   NaN  \n",
       "194                   NaN  \n",
       "195                   4.0  \n",
       "196                  10.0  \n",
       "197                   3.0  \n",
       "\n",
       "[198 rows x 3 columns]"
      ]
     },
     "execution_count": 143,
     "metadata": {},
     "output_type": "execute_result"
    }
   ],
   "source": [
    "data_breach_int_users"
   ]
  },
  {
   "cell_type": "code",
   "execution_count": 144,
   "metadata": {},
   "outputs": [],
   "source": [
    "data_breach_int_users = data_breach_int_users.dropna()"
   ]
  },
  {
   "cell_type": "code",
   "execution_count": 145,
   "metadata": {},
   "outputs": [
    {
     "data": {
      "text/html": [
       "<div>\n",
       "<style scoped>\n",
       "    .dataframe tbody tr th:only-of-type {\n",
       "        vertical-align: middle;\n",
       "    }\n",
       "\n",
       "    .dataframe tbody tr th {\n",
       "        vertical-align: top;\n",
       "    }\n",
       "\n",
       "    .dataframe thead th {\n",
       "        text-align: right;\n",
       "    }\n",
       "</style>\n",
       "<table border=\"1\" class=\"dataframe\">\n",
       "  <thead>\n",
       "    <tr style=\"text-align: right;\">\n",
       "      <th></th>\n",
       "      <th>Country</th>\n",
       "      <th>Average Internet usage over the years</th>\n",
       "      <th>No. of Data Breaches</th>\n",
       "    </tr>\n",
       "  </thead>\n",
       "  <tbody>\n",
       "    <tr>\n",
       "      <td>1</td>\n",
       "      <td>Kuwait</td>\n",
       "      <td>66.763996</td>\n",
       "      <td>2.0</td>\n",
       "    </tr>\n",
       "    <tr>\n",
       "      <td>2</td>\n",
       "      <td>Iceland</td>\n",
       "      <td>91.300708</td>\n",
       "      <td>28.0</td>\n",
       "    </tr>\n",
       "    <tr>\n",
       "      <td>5</td>\n",
       "      <td>Denmark</td>\n",
       "      <td>88.305825</td>\n",
       "      <td>164.0</td>\n",
       "    </tr>\n",
       "    <tr>\n",
       "      <td>7</td>\n",
       "      <td>Norway</td>\n",
       "      <td>90.348284</td>\n",
       "      <td>195.0</td>\n",
       "    </tr>\n",
       "    <tr>\n",
       "      <td>9</td>\n",
       "      <td>United Kingdom</td>\n",
       "      <td>82.948063</td>\n",
       "      <td>1894.0</td>\n",
       "    </tr>\n",
       "    <tr>\n",
       "      <td>...</td>\n",
       "      <td>...</td>\n",
       "      <td>...</td>\n",
       "      <td>...</td>\n",
       "    </tr>\n",
       "    <tr>\n",
       "      <td>191</td>\n",
       "      <td>Tajikistan</td>\n",
       "      <td>12.212481</td>\n",
       "      <td>1.0</td>\n",
       "    </tr>\n",
       "    <tr>\n",
       "      <td>192</td>\n",
       "      <td>Tanzania</td>\n",
       "      <td>7.333381</td>\n",
       "      <td>3.0</td>\n",
       "    </tr>\n",
       "    <tr>\n",
       "      <td>195</td>\n",
       "      <td>Vanuatu</td>\n",
       "      <td>12.469078</td>\n",
       "      <td>4.0</td>\n",
       "    </tr>\n",
       "    <tr>\n",
       "      <td>196</td>\n",
       "      <td>Venezuela</td>\n",
       "      <td>40.950243</td>\n",
       "      <td>10.0</td>\n",
       "    </tr>\n",
       "    <tr>\n",
       "      <td>197</td>\n",
       "      <td>Yemen</td>\n",
       "      <td>14.887779</td>\n",
       "      <td>3.0</td>\n",
       "    </tr>\n",
       "  </tbody>\n",
       "</table>\n",
       "<p>107 rows × 3 columns</p>\n",
       "</div>"
      ],
      "text/plain": [
       "            Country  Average Internet usage over the years  \\\n",
       "1            Kuwait                              66.763996   \n",
       "2           Iceland                              91.300708   \n",
       "5           Denmark                              88.305825   \n",
       "7            Norway                              90.348284   \n",
       "9    United Kingdom                              82.948063   \n",
       "..              ...                                    ...   \n",
       "191      Tajikistan                              12.212481   \n",
       "192        Tanzania                               7.333381   \n",
       "195         Vanuatu                              12.469078   \n",
       "196       Venezuela                              40.950243   \n",
       "197           Yemen                              14.887779   \n",
       "\n",
       "     No. of Data Breaches  \n",
       "1                     2.0  \n",
       "2                    28.0  \n",
       "5                   164.0  \n",
       "7                   195.0  \n",
       "9                  1894.0  \n",
       "..                    ...  \n",
       "191                   1.0  \n",
       "192                   3.0  \n",
       "195                   4.0  \n",
       "196                  10.0  \n",
       "197                   3.0  \n",
       "\n",
       "[107 rows x 3 columns]"
      ]
     },
     "execution_count": 145,
     "metadata": {},
     "output_type": "execute_result"
    }
   ],
   "source": [
    "data_breach_int_users"
   ]
  },
  {
   "cell_type": "code",
   "execution_count": 158,
   "metadata": {},
   "outputs": [
    {
     "data": {
      "application/vnd.plotly.v1+json": {
       "config": {
        "plotlyServerURL": "https://plot.ly"
       },
       "data": [
        {
         "hovertemplate": "No. of Data Breaches=%{x}<br>Average Internet usage over the years=%{y}<extra></extra>",
         "legendgroup": "",
         "marker": {
          "color": "#636efa",
          "symbol": "circle"
         },
         "mode": "markers",
         "name": "",
         "showlegend": false,
         "type": "scatter",
         "x": [
          2,
          28,
          164,
          195,
          1894,
          1097,
          21,
          232,
          4088,
          10,
          10,
          42,
          352,
          94,
          5665,
          641,
          21,
          6,
          3681,
          403,
          1266,
          77,
          31,
          90,
          52,
          103,
          379,
          603,
          124,
          858,
          14,
          116,
          101,
          897,
          231,
          555,
          24,
          106,
          12,
          12,
          149,
          83,
          27,
          5,
          3,
          14,
          1430,
          48,
          11,
          2272,
          1,
          1010,
          130,
          1,
          1323,
          2,
          1553,
          909,
          40,
          1,
          531,
          459,
          9,
          2,
          7,
          191,
          5,
          2,
          34,
          13,
          17,
          3,
          14,
          11,
          1,
          1,
          614,
          29928,
          5,
          848,
          9,
          22,
          1,
          2473,
          10,
          3,
          2,
          6,
          3,
          491,
          19,
          13,
          4,
          15,
          1,
          12,
          3,
          1,
          1,
          246,
          6,
          179,
          1,
          3,
          4,
          10,
          3
         ],
         "xaxis": "x",
         "y": [
          66.76399555635406,
          91.30070822466965,
          88.30582468167478,
          90.34828396941448,
          82.94806306502697,
          86.87744135978693,
          63.515680057965824,
          87.42582894433586,
          78.25417931072151,
          76.03382806042829,
          82.33981088535499,
          76.15054545377865,
          73.36469931065878,
          75.56315281508286,
          67.45367012811904,
          70.90928072625974,
          60.56207563729488,
          67.0370281864885,
          70.8375934721078,
          62.27558208681162,
          55.596199846814265,
          69.9759955324702,
          65.37349419251974,
          61.755674460062615,
          47.301730232253064,
          52.52631646753314,
          59.72267541213726,
          63.88961633922849,
          57.68224648890957,
          53.912649855804936,
          47.37849286115279,
          53.34177900374676,
          57.606160661350835,
          44.75886248828977,
          45.861265429333436,
          38.31852846784545,
          45.49268573355297,
          42.2467320112896,
          35.604689197812355,
          47.63809865270177,
          47.69785126515635,
          40.38082201278533,
          38.084307936557586,
          26.577446778483168,
          38.40035625382354,
          35.521169744811274,
          31.964133989428145,
          36.01261047658745,
          29.202532891201518,
          17.620994089873815,
          2.519095962390164,
          69.94026169908871,
          7.405697886244315,
          20.689546895943735,
          41.00511005555452,
          6.557457233961455,
          74.03090909090909,
          34.24538979046083,
          31.73941030180106,
          15.324413712606543,
          12.965060760344018,
          57.91783390414793,
          35.587547014230175,
          34.42307172759476,
          42.973421443185515,
          71.74712793900886,
          12.989612102778066,
          47.38752991272483,
          8.91707053257344,
          35.741928730648,
          31.53352485892228,
          14.524650349476802,
          14.841401782760874,
          15.945283761723408,
          4.91729317909091,
          12.485183976084812,
          30.882585327477113,
          65.35740117036715,
          45.571466063440965,
          46.76965620496696,
          35.06995918569305,
          20.929737418313223,
          10.15961255770332,
          51.063729751649355,
          17.999109458627796,
          5.920461314053615,
          16.18125963626534,
          15.136363535454548,
          30.361570105303098,
          70.89339976529835,
          10.039537497505517,
          20.15656775095957,
          2.913795598431704,
          4.716730424620625,
          4.781072307278212,
          13.316192235586493,
          17.162112411446756,
          42.53512291391031,
          9.364578138425099,
          33.5812374956409,
          14.367109518620794,
          73.77571992621391,
          12.212480874402727,
          7.333381312737115,
          12.469078465185122,
          40.95024349521088,
          14.887779174601034
         ],
         "yaxis": "y"
        }
       ],
       "layout": {
        "legend": {
         "tracegroupgap": 0
        },
        "margin": {
         "t": 60
        },
        "template": {
         "data": {
          "bar": [
           {
            "error_x": {
             "color": "#2a3f5f"
            },
            "error_y": {
             "color": "#2a3f5f"
            },
            "marker": {
             "line": {
              "color": "#E5ECF6",
              "width": 0.5
             }
            },
            "type": "bar"
           }
          ],
          "barpolar": [
           {
            "marker": {
             "line": {
              "color": "#E5ECF6",
              "width": 0.5
             }
            },
            "type": "barpolar"
           }
          ],
          "carpet": [
           {
            "aaxis": {
             "endlinecolor": "#2a3f5f",
             "gridcolor": "white",
             "linecolor": "white",
             "minorgridcolor": "white",
             "startlinecolor": "#2a3f5f"
            },
            "baxis": {
             "endlinecolor": "#2a3f5f",
             "gridcolor": "white",
             "linecolor": "white",
             "minorgridcolor": "white",
             "startlinecolor": "#2a3f5f"
            },
            "type": "carpet"
           }
          ],
          "choropleth": [
           {
            "colorbar": {
             "outlinewidth": 0,
             "ticks": ""
            },
            "type": "choropleth"
           }
          ],
          "contour": [
           {
            "colorbar": {
             "outlinewidth": 0,
             "ticks": ""
            },
            "colorscale": [
             [
              0,
              "#0d0887"
             ],
             [
              0.1111111111111111,
              "#46039f"
             ],
             [
              0.2222222222222222,
              "#7201a8"
             ],
             [
              0.3333333333333333,
              "#9c179e"
             ],
             [
              0.4444444444444444,
              "#bd3786"
             ],
             [
              0.5555555555555556,
              "#d8576b"
             ],
             [
              0.6666666666666666,
              "#ed7953"
             ],
             [
              0.7777777777777778,
              "#fb9f3a"
             ],
             [
              0.8888888888888888,
              "#fdca26"
             ],
             [
              1,
              "#f0f921"
             ]
            ],
            "type": "contour"
           }
          ],
          "contourcarpet": [
           {
            "colorbar": {
             "outlinewidth": 0,
             "ticks": ""
            },
            "type": "contourcarpet"
           }
          ],
          "heatmap": [
           {
            "colorbar": {
             "outlinewidth": 0,
             "ticks": ""
            },
            "colorscale": [
             [
              0,
              "#0d0887"
             ],
             [
              0.1111111111111111,
              "#46039f"
             ],
             [
              0.2222222222222222,
              "#7201a8"
             ],
             [
              0.3333333333333333,
              "#9c179e"
             ],
             [
              0.4444444444444444,
              "#bd3786"
             ],
             [
              0.5555555555555556,
              "#d8576b"
             ],
             [
              0.6666666666666666,
              "#ed7953"
             ],
             [
              0.7777777777777778,
              "#fb9f3a"
             ],
             [
              0.8888888888888888,
              "#fdca26"
             ],
             [
              1,
              "#f0f921"
             ]
            ],
            "type": "heatmap"
           }
          ],
          "heatmapgl": [
           {
            "colorbar": {
             "outlinewidth": 0,
             "ticks": ""
            },
            "colorscale": [
             [
              0,
              "#0d0887"
             ],
             [
              0.1111111111111111,
              "#46039f"
             ],
             [
              0.2222222222222222,
              "#7201a8"
             ],
             [
              0.3333333333333333,
              "#9c179e"
             ],
             [
              0.4444444444444444,
              "#bd3786"
             ],
             [
              0.5555555555555556,
              "#d8576b"
             ],
             [
              0.6666666666666666,
              "#ed7953"
             ],
             [
              0.7777777777777778,
              "#fb9f3a"
             ],
             [
              0.8888888888888888,
              "#fdca26"
             ],
             [
              1,
              "#f0f921"
             ]
            ],
            "type": "heatmapgl"
           }
          ],
          "histogram": [
           {
            "marker": {
             "colorbar": {
              "outlinewidth": 0,
              "ticks": ""
             }
            },
            "type": "histogram"
           }
          ],
          "histogram2d": [
           {
            "colorbar": {
             "outlinewidth": 0,
             "ticks": ""
            },
            "colorscale": [
             [
              0,
              "#0d0887"
             ],
             [
              0.1111111111111111,
              "#46039f"
             ],
             [
              0.2222222222222222,
              "#7201a8"
             ],
             [
              0.3333333333333333,
              "#9c179e"
             ],
             [
              0.4444444444444444,
              "#bd3786"
             ],
             [
              0.5555555555555556,
              "#d8576b"
             ],
             [
              0.6666666666666666,
              "#ed7953"
             ],
             [
              0.7777777777777778,
              "#fb9f3a"
             ],
             [
              0.8888888888888888,
              "#fdca26"
             ],
             [
              1,
              "#f0f921"
             ]
            ],
            "type": "histogram2d"
           }
          ],
          "histogram2dcontour": [
           {
            "colorbar": {
             "outlinewidth": 0,
             "ticks": ""
            },
            "colorscale": [
             [
              0,
              "#0d0887"
             ],
             [
              0.1111111111111111,
              "#46039f"
             ],
             [
              0.2222222222222222,
              "#7201a8"
             ],
             [
              0.3333333333333333,
              "#9c179e"
             ],
             [
              0.4444444444444444,
              "#bd3786"
             ],
             [
              0.5555555555555556,
              "#d8576b"
             ],
             [
              0.6666666666666666,
              "#ed7953"
             ],
             [
              0.7777777777777778,
              "#fb9f3a"
             ],
             [
              0.8888888888888888,
              "#fdca26"
             ],
             [
              1,
              "#f0f921"
             ]
            ],
            "type": "histogram2dcontour"
           }
          ],
          "mesh3d": [
           {
            "colorbar": {
             "outlinewidth": 0,
             "ticks": ""
            },
            "type": "mesh3d"
           }
          ],
          "parcoords": [
           {
            "line": {
             "colorbar": {
              "outlinewidth": 0,
              "ticks": ""
             }
            },
            "type": "parcoords"
           }
          ],
          "pie": [
           {
            "automargin": true,
            "type": "pie"
           }
          ],
          "scatter": [
           {
            "marker": {
             "colorbar": {
              "outlinewidth": 0,
              "ticks": ""
             }
            },
            "type": "scatter"
           }
          ],
          "scatter3d": [
           {
            "line": {
             "colorbar": {
              "outlinewidth": 0,
              "ticks": ""
             }
            },
            "marker": {
             "colorbar": {
              "outlinewidth": 0,
              "ticks": ""
             }
            },
            "type": "scatter3d"
           }
          ],
          "scattercarpet": [
           {
            "marker": {
             "colorbar": {
              "outlinewidth": 0,
              "ticks": ""
             }
            },
            "type": "scattercarpet"
           }
          ],
          "scattergeo": [
           {
            "marker": {
             "colorbar": {
              "outlinewidth": 0,
              "ticks": ""
             }
            },
            "type": "scattergeo"
           }
          ],
          "scattergl": [
           {
            "marker": {
             "colorbar": {
              "outlinewidth": 0,
              "ticks": ""
             }
            },
            "type": "scattergl"
           }
          ],
          "scattermapbox": [
           {
            "marker": {
             "colorbar": {
              "outlinewidth": 0,
              "ticks": ""
             }
            },
            "type": "scattermapbox"
           }
          ],
          "scatterpolar": [
           {
            "marker": {
             "colorbar": {
              "outlinewidth": 0,
              "ticks": ""
             }
            },
            "type": "scatterpolar"
           }
          ],
          "scatterpolargl": [
           {
            "marker": {
             "colorbar": {
              "outlinewidth": 0,
              "ticks": ""
             }
            },
            "type": "scatterpolargl"
           }
          ],
          "scatterternary": [
           {
            "marker": {
             "colorbar": {
              "outlinewidth": 0,
              "ticks": ""
             }
            },
            "type": "scatterternary"
           }
          ],
          "surface": [
           {
            "colorbar": {
             "outlinewidth": 0,
             "ticks": ""
            },
            "colorscale": [
             [
              0,
              "#0d0887"
             ],
             [
              0.1111111111111111,
              "#46039f"
             ],
             [
              0.2222222222222222,
              "#7201a8"
             ],
             [
              0.3333333333333333,
              "#9c179e"
             ],
             [
              0.4444444444444444,
              "#bd3786"
             ],
             [
              0.5555555555555556,
              "#d8576b"
             ],
             [
              0.6666666666666666,
              "#ed7953"
             ],
             [
              0.7777777777777778,
              "#fb9f3a"
             ],
             [
              0.8888888888888888,
              "#fdca26"
             ],
             [
              1,
              "#f0f921"
             ]
            ],
            "type": "surface"
           }
          ],
          "table": [
           {
            "cells": {
             "fill": {
              "color": "#EBF0F8"
             },
             "line": {
              "color": "white"
             }
            },
            "header": {
             "fill": {
              "color": "#C8D4E3"
             },
             "line": {
              "color": "white"
             }
            },
            "type": "table"
           }
          ]
         },
         "layout": {
          "annotationdefaults": {
           "arrowcolor": "#2a3f5f",
           "arrowhead": 0,
           "arrowwidth": 1
          },
          "coloraxis": {
           "colorbar": {
            "outlinewidth": 0,
            "ticks": ""
           }
          },
          "colorscale": {
           "diverging": [
            [
             0,
             "#8e0152"
            ],
            [
             0.1,
             "#c51b7d"
            ],
            [
             0.2,
             "#de77ae"
            ],
            [
             0.3,
             "#f1b6da"
            ],
            [
             0.4,
             "#fde0ef"
            ],
            [
             0.5,
             "#f7f7f7"
            ],
            [
             0.6,
             "#e6f5d0"
            ],
            [
             0.7,
             "#b8e186"
            ],
            [
             0.8,
             "#7fbc41"
            ],
            [
             0.9,
             "#4d9221"
            ],
            [
             1,
             "#276419"
            ]
           ],
           "sequential": [
            [
             0,
             "#0d0887"
            ],
            [
             0.1111111111111111,
             "#46039f"
            ],
            [
             0.2222222222222222,
             "#7201a8"
            ],
            [
             0.3333333333333333,
             "#9c179e"
            ],
            [
             0.4444444444444444,
             "#bd3786"
            ],
            [
             0.5555555555555556,
             "#d8576b"
            ],
            [
             0.6666666666666666,
             "#ed7953"
            ],
            [
             0.7777777777777778,
             "#fb9f3a"
            ],
            [
             0.8888888888888888,
             "#fdca26"
            ],
            [
             1,
             "#f0f921"
            ]
           ],
           "sequentialminus": [
            [
             0,
             "#0d0887"
            ],
            [
             0.1111111111111111,
             "#46039f"
            ],
            [
             0.2222222222222222,
             "#7201a8"
            ],
            [
             0.3333333333333333,
             "#9c179e"
            ],
            [
             0.4444444444444444,
             "#bd3786"
            ],
            [
             0.5555555555555556,
             "#d8576b"
            ],
            [
             0.6666666666666666,
             "#ed7953"
            ],
            [
             0.7777777777777778,
             "#fb9f3a"
            ],
            [
             0.8888888888888888,
             "#fdca26"
            ],
            [
             1,
             "#f0f921"
            ]
           ]
          },
          "colorway": [
           "#636efa",
           "#EF553B",
           "#00cc96",
           "#ab63fa",
           "#FFA15A",
           "#19d3f3",
           "#FF6692",
           "#B6E880",
           "#FF97FF",
           "#FECB52"
          ],
          "font": {
           "color": "#2a3f5f"
          },
          "geo": {
           "bgcolor": "white",
           "lakecolor": "white",
           "landcolor": "#E5ECF6",
           "showlakes": true,
           "showland": true,
           "subunitcolor": "white"
          },
          "hoverlabel": {
           "align": "left"
          },
          "hovermode": "closest",
          "mapbox": {
           "style": "light"
          },
          "paper_bgcolor": "white",
          "plot_bgcolor": "#E5ECF6",
          "polar": {
           "angularaxis": {
            "gridcolor": "white",
            "linecolor": "white",
            "ticks": ""
           },
           "bgcolor": "#E5ECF6",
           "radialaxis": {
            "gridcolor": "white",
            "linecolor": "white",
            "ticks": ""
           }
          },
          "scene": {
           "xaxis": {
            "backgroundcolor": "#E5ECF6",
            "gridcolor": "white",
            "gridwidth": 2,
            "linecolor": "white",
            "showbackground": true,
            "ticks": "",
            "zerolinecolor": "white"
           },
           "yaxis": {
            "backgroundcolor": "#E5ECF6",
            "gridcolor": "white",
            "gridwidth": 2,
            "linecolor": "white",
            "showbackground": true,
            "ticks": "",
            "zerolinecolor": "white"
           },
           "zaxis": {
            "backgroundcolor": "#E5ECF6",
            "gridcolor": "white",
            "gridwidth": 2,
            "linecolor": "white",
            "showbackground": true,
            "ticks": "",
            "zerolinecolor": "white"
           }
          },
          "shapedefaults": {
           "line": {
            "color": "#2a3f5f"
           }
          },
          "ternary": {
           "aaxis": {
            "gridcolor": "white",
            "linecolor": "white",
            "ticks": ""
           },
           "baxis": {
            "gridcolor": "white",
            "linecolor": "white",
            "ticks": ""
           },
           "bgcolor": "#E5ECF6",
           "caxis": {
            "gridcolor": "white",
            "linecolor": "white",
            "ticks": ""
           }
          },
          "title": {
           "x": 0.05
          },
          "xaxis": {
           "automargin": true,
           "gridcolor": "white",
           "linecolor": "white",
           "ticks": "",
           "title": {
            "standoff": 15
           },
           "zerolinecolor": "white",
           "zerolinewidth": 2
          },
          "yaxis": {
           "automargin": true,
           "gridcolor": "white",
           "linecolor": "white",
           "ticks": "",
           "title": {
            "standoff": 15
           },
           "zerolinecolor": "white",
           "zerolinewidth": 2
          }
         }
        },
        "xaxis": {
         "anchor": "y",
         "domain": [
          0,
          1
         ],
         "title": {
          "text": "No. of Data Breaches"
         }
        },
        "yaxis": {
         "anchor": "x",
         "domain": [
          0,
          1
         ],
         "title": {
          "text": "Average Internet usage over the years"
         }
        }
       }
      },
      "text/html": [
       "<div>\n",
       "        \n",
       "        \n",
       "            <div id=\"ccde8399-e186-418f-a520-834ce391bc35\" class=\"plotly-graph-div\" style=\"height:525px; width:100%;\"></div>\n",
       "            <script type=\"text/javascript\">\n",
       "                require([\"plotly\"], function(Plotly) {\n",
       "                    window.PLOTLYENV=window.PLOTLYENV || {};\n",
       "                    \n",
       "                if (document.getElementById(\"ccde8399-e186-418f-a520-834ce391bc35\")) {\n",
       "                    Plotly.newPlot(\n",
       "                        'ccde8399-e186-418f-a520-834ce391bc35',\n",
       "                        [{\"hovertemplate\": \"No. of Data Breaches=%{x}<br>Average Internet usage over the years=%{y}<extra></extra>\", \"legendgroup\": \"\", \"marker\": {\"color\": \"#636efa\", \"symbol\": \"circle\"}, \"mode\": \"markers\", \"name\": \"\", \"showlegend\": false, \"type\": \"scatter\", \"x\": [2.0, 28.0, 164.0, 195.0, 1894.0, 1097.0, 21.0, 232.0, 4088.0, 10.0, 10.0, 42.0, 352.0, 94.0, 5665.0, 641.0, 21.0, 6.0, 3681.0, 403.0, 1266.0, 77.0, 31.0, 90.0, 52.0, 103.0, 379.0, 603.0, 124.0, 858.0, 14.0, 116.0, 101.0, 897.0, 231.0, 555.0, 24.0, 106.0, 12.0, 12.0, 149.0, 83.0, 27.0, 5.0, 3.0, 14.0, 1430.0, 48.0, 11.0, 2272.0, 1.0, 1010.0, 130.0, 1.0, 1323.0, 2.0, 1553.0, 909.0, 40.0, 1.0, 531.0, 459.0, 9.0, 2.0, 7.0, 191.0, 5.0, 2.0, 34.0, 13.0, 17.0, 3.0, 14.0, 11.0, 1.0, 1.0, 614.0, 29928.0, 5.0, 848.0, 9.0, 22.0, 1.0, 2473.0, 10.0, 3.0, 2.0, 6.0, 3.0, 491.0, 19.0, 13.0, 4.0, 15.0, 1.0, 12.0, 3.0, 1.0, 1.0, 246.0, 6.0, 179.0, 1.0, 3.0, 4.0, 10.0, 3.0], \"xaxis\": \"x\", \"y\": [66.76399555635406, 91.30070822466965, 88.30582468167478, 90.34828396941448, 82.94806306502697, 86.87744135978693, 63.515680057965824, 87.42582894433586, 78.25417931072151, 76.03382806042829, 82.33981088535499, 76.15054545377865, 73.36469931065878, 75.56315281508286, 67.45367012811904, 70.90928072625974, 60.56207563729488, 67.0370281864885, 70.8375934721078, 62.27558208681162, 55.596199846814265, 69.9759955324702, 65.37349419251974, 61.755674460062615, 47.301730232253064, 52.52631646753314, 59.72267541213726, 63.88961633922849, 57.68224648890957, 53.912649855804936, 47.37849286115279, 53.34177900374676, 57.606160661350835, 44.75886248828977, 45.861265429333436, 38.31852846784545, 45.49268573355297, 42.2467320112896, 35.604689197812355, 47.63809865270177, 47.69785126515635, 40.38082201278533, 38.084307936557586, 26.577446778483168, 38.40035625382354, 35.521169744811274, 31.964133989428145, 36.01261047658745, 29.202532891201518, 17.620994089873815, 2.519095962390164, 69.94026169908871, 7.405697886244315, 20.689546895943735, 41.00511005555452, 6.557457233961455, 74.03090909090909, 34.24538979046083, 31.73941030180106, 15.324413712606543, 12.965060760344018, 57.91783390414793, 35.587547014230175, 34.42307172759476, 42.973421443185515, 71.74712793900886, 12.989612102778066, 47.38752991272483, 8.91707053257344, 35.741928730648, 31.53352485892228, 14.524650349476802, 14.841401782760874, 15.945283761723408, 4.91729317909091, 12.485183976084812, 30.882585327477113, 65.35740117036715, 45.571466063440965, 46.76965620496696, 35.06995918569305, 20.929737418313223, 10.15961255770332, 51.063729751649355, 17.999109458627796, 5.920461314053615, 16.18125963626534, 15.136363535454548, 30.361570105303098, 70.89339976529835, 10.039537497505517, 20.15656775095957, 2.913795598431704, 4.716730424620625, 4.781072307278212, 13.316192235586493, 17.162112411446756, 42.53512291391031, 9.364578138425099, 33.5812374956409, 14.367109518620794, 73.77571992621391, 12.212480874402727, 7.333381312737115, 12.469078465185122, 40.95024349521088, 14.887779174601034], \"yaxis\": \"y\"}],\n",
       "                        {\"legend\": {\"tracegroupgap\": 0}, \"margin\": {\"t\": 60}, \"template\": {\"data\": {\"bar\": [{\"error_x\": {\"color\": \"#2a3f5f\"}, \"error_y\": {\"color\": \"#2a3f5f\"}, \"marker\": {\"line\": {\"color\": \"#E5ECF6\", \"width\": 0.5}}, \"type\": \"bar\"}], \"barpolar\": [{\"marker\": {\"line\": {\"color\": \"#E5ECF6\", \"width\": 0.5}}, \"type\": \"barpolar\"}], \"carpet\": [{\"aaxis\": {\"endlinecolor\": \"#2a3f5f\", \"gridcolor\": \"white\", \"linecolor\": \"white\", \"minorgridcolor\": \"white\", \"startlinecolor\": \"#2a3f5f\"}, \"baxis\": {\"endlinecolor\": \"#2a3f5f\", \"gridcolor\": \"white\", \"linecolor\": \"white\", \"minorgridcolor\": \"white\", \"startlinecolor\": \"#2a3f5f\"}, \"type\": \"carpet\"}], \"choropleth\": [{\"colorbar\": {\"outlinewidth\": 0, \"ticks\": \"\"}, \"type\": \"choropleth\"}], \"contour\": [{\"colorbar\": {\"outlinewidth\": 0, \"ticks\": \"\"}, \"colorscale\": [[0.0, \"#0d0887\"], [0.1111111111111111, \"#46039f\"], [0.2222222222222222, \"#7201a8\"], [0.3333333333333333, \"#9c179e\"], [0.4444444444444444, \"#bd3786\"], [0.5555555555555556, \"#d8576b\"], [0.6666666666666666, \"#ed7953\"], [0.7777777777777778, \"#fb9f3a\"], [0.8888888888888888, \"#fdca26\"], [1.0, \"#f0f921\"]], \"type\": \"contour\"}], \"contourcarpet\": [{\"colorbar\": {\"outlinewidth\": 0, \"ticks\": \"\"}, \"type\": \"contourcarpet\"}], \"heatmap\": [{\"colorbar\": {\"outlinewidth\": 0, \"ticks\": \"\"}, \"colorscale\": [[0.0, \"#0d0887\"], [0.1111111111111111, \"#46039f\"], [0.2222222222222222, \"#7201a8\"], [0.3333333333333333, \"#9c179e\"], [0.4444444444444444, \"#bd3786\"], [0.5555555555555556, \"#d8576b\"], [0.6666666666666666, \"#ed7953\"], [0.7777777777777778, \"#fb9f3a\"], [0.8888888888888888, \"#fdca26\"], [1.0, \"#f0f921\"]], \"type\": \"heatmap\"}], \"heatmapgl\": [{\"colorbar\": {\"outlinewidth\": 0, \"ticks\": \"\"}, \"colorscale\": [[0.0, \"#0d0887\"], [0.1111111111111111, \"#46039f\"], [0.2222222222222222, \"#7201a8\"], [0.3333333333333333, \"#9c179e\"], [0.4444444444444444, \"#bd3786\"], [0.5555555555555556, \"#d8576b\"], [0.6666666666666666, \"#ed7953\"], [0.7777777777777778, \"#fb9f3a\"], [0.8888888888888888, \"#fdca26\"], [1.0, \"#f0f921\"]], \"type\": \"heatmapgl\"}], \"histogram\": [{\"marker\": {\"colorbar\": {\"outlinewidth\": 0, \"ticks\": \"\"}}, \"type\": \"histogram\"}], \"histogram2d\": [{\"colorbar\": {\"outlinewidth\": 0, \"ticks\": \"\"}, \"colorscale\": [[0.0, \"#0d0887\"], [0.1111111111111111, \"#46039f\"], [0.2222222222222222, \"#7201a8\"], [0.3333333333333333, \"#9c179e\"], [0.4444444444444444, \"#bd3786\"], [0.5555555555555556, \"#d8576b\"], [0.6666666666666666, \"#ed7953\"], [0.7777777777777778, \"#fb9f3a\"], [0.8888888888888888, \"#fdca26\"], [1.0, \"#f0f921\"]], \"type\": \"histogram2d\"}], \"histogram2dcontour\": [{\"colorbar\": {\"outlinewidth\": 0, \"ticks\": \"\"}, \"colorscale\": [[0.0, \"#0d0887\"], [0.1111111111111111, \"#46039f\"], [0.2222222222222222, \"#7201a8\"], [0.3333333333333333, \"#9c179e\"], [0.4444444444444444, \"#bd3786\"], [0.5555555555555556, \"#d8576b\"], [0.6666666666666666, \"#ed7953\"], [0.7777777777777778, \"#fb9f3a\"], [0.8888888888888888, \"#fdca26\"], [1.0, \"#f0f921\"]], \"type\": \"histogram2dcontour\"}], \"mesh3d\": [{\"colorbar\": {\"outlinewidth\": 0, \"ticks\": \"\"}, \"type\": \"mesh3d\"}], \"parcoords\": [{\"line\": {\"colorbar\": {\"outlinewidth\": 0, \"ticks\": \"\"}}, \"type\": \"parcoords\"}], \"pie\": [{\"automargin\": true, \"type\": \"pie\"}], \"scatter\": [{\"marker\": {\"colorbar\": {\"outlinewidth\": 0, \"ticks\": \"\"}}, \"type\": \"scatter\"}], \"scatter3d\": [{\"line\": {\"colorbar\": {\"outlinewidth\": 0, \"ticks\": \"\"}}, \"marker\": {\"colorbar\": {\"outlinewidth\": 0, \"ticks\": \"\"}}, \"type\": \"scatter3d\"}], \"scattercarpet\": [{\"marker\": {\"colorbar\": {\"outlinewidth\": 0, \"ticks\": \"\"}}, \"type\": \"scattercarpet\"}], \"scattergeo\": [{\"marker\": {\"colorbar\": {\"outlinewidth\": 0, \"ticks\": \"\"}}, \"type\": \"scattergeo\"}], \"scattergl\": [{\"marker\": {\"colorbar\": {\"outlinewidth\": 0, \"ticks\": \"\"}}, \"type\": \"scattergl\"}], \"scattermapbox\": [{\"marker\": {\"colorbar\": {\"outlinewidth\": 0, \"ticks\": \"\"}}, \"type\": \"scattermapbox\"}], \"scatterpolar\": [{\"marker\": {\"colorbar\": {\"outlinewidth\": 0, \"ticks\": \"\"}}, \"type\": \"scatterpolar\"}], \"scatterpolargl\": [{\"marker\": {\"colorbar\": {\"outlinewidth\": 0, \"ticks\": \"\"}}, \"type\": \"scatterpolargl\"}], \"scatterternary\": [{\"marker\": {\"colorbar\": {\"outlinewidth\": 0, \"ticks\": \"\"}}, \"type\": \"scatterternary\"}], \"surface\": [{\"colorbar\": {\"outlinewidth\": 0, \"ticks\": \"\"}, \"colorscale\": [[0.0, \"#0d0887\"], [0.1111111111111111, \"#46039f\"], [0.2222222222222222, \"#7201a8\"], [0.3333333333333333, \"#9c179e\"], [0.4444444444444444, \"#bd3786\"], [0.5555555555555556, \"#d8576b\"], [0.6666666666666666, \"#ed7953\"], [0.7777777777777778, \"#fb9f3a\"], [0.8888888888888888, \"#fdca26\"], [1.0, \"#f0f921\"]], \"type\": \"surface\"}], \"table\": [{\"cells\": {\"fill\": {\"color\": \"#EBF0F8\"}, \"line\": {\"color\": \"white\"}}, \"header\": {\"fill\": {\"color\": \"#C8D4E3\"}, \"line\": {\"color\": \"white\"}}, \"type\": \"table\"}]}, \"layout\": {\"annotationdefaults\": {\"arrowcolor\": \"#2a3f5f\", \"arrowhead\": 0, \"arrowwidth\": 1}, \"coloraxis\": {\"colorbar\": {\"outlinewidth\": 0, \"ticks\": \"\"}}, \"colorscale\": {\"diverging\": [[0, \"#8e0152\"], [0.1, \"#c51b7d\"], [0.2, \"#de77ae\"], [0.3, \"#f1b6da\"], [0.4, \"#fde0ef\"], [0.5, \"#f7f7f7\"], [0.6, \"#e6f5d0\"], [0.7, \"#b8e186\"], [0.8, \"#7fbc41\"], [0.9, \"#4d9221\"], [1, \"#276419\"]], \"sequential\": [[0.0, \"#0d0887\"], [0.1111111111111111, \"#46039f\"], [0.2222222222222222, \"#7201a8\"], [0.3333333333333333, \"#9c179e\"], [0.4444444444444444, \"#bd3786\"], [0.5555555555555556, \"#d8576b\"], [0.6666666666666666, \"#ed7953\"], [0.7777777777777778, \"#fb9f3a\"], [0.8888888888888888, \"#fdca26\"], [1.0, \"#f0f921\"]], \"sequentialminus\": [[0.0, \"#0d0887\"], [0.1111111111111111, \"#46039f\"], [0.2222222222222222, \"#7201a8\"], [0.3333333333333333, \"#9c179e\"], [0.4444444444444444, \"#bd3786\"], [0.5555555555555556, \"#d8576b\"], [0.6666666666666666, \"#ed7953\"], [0.7777777777777778, \"#fb9f3a\"], [0.8888888888888888, \"#fdca26\"], [1.0, \"#f0f921\"]]}, \"colorway\": [\"#636efa\", \"#EF553B\", \"#00cc96\", \"#ab63fa\", \"#FFA15A\", \"#19d3f3\", \"#FF6692\", \"#B6E880\", \"#FF97FF\", \"#FECB52\"], \"font\": {\"color\": \"#2a3f5f\"}, \"geo\": {\"bgcolor\": \"white\", \"lakecolor\": \"white\", \"landcolor\": \"#E5ECF6\", \"showlakes\": true, \"showland\": true, \"subunitcolor\": \"white\"}, \"hoverlabel\": {\"align\": \"left\"}, \"hovermode\": \"closest\", \"mapbox\": {\"style\": \"light\"}, \"paper_bgcolor\": \"white\", \"plot_bgcolor\": \"#E5ECF6\", \"polar\": {\"angularaxis\": {\"gridcolor\": \"white\", \"linecolor\": \"white\", \"ticks\": \"\"}, \"bgcolor\": \"#E5ECF6\", \"radialaxis\": {\"gridcolor\": \"white\", \"linecolor\": \"white\", \"ticks\": \"\"}}, \"scene\": {\"xaxis\": {\"backgroundcolor\": \"#E5ECF6\", \"gridcolor\": \"white\", \"gridwidth\": 2, \"linecolor\": \"white\", \"showbackground\": true, \"ticks\": \"\", \"zerolinecolor\": \"white\"}, \"yaxis\": {\"backgroundcolor\": \"#E5ECF6\", \"gridcolor\": \"white\", \"gridwidth\": 2, \"linecolor\": \"white\", \"showbackground\": true, \"ticks\": \"\", \"zerolinecolor\": \"white\"}, \"zaxis\": {\"backgroundcolor\": \"#E5ECF6\", \"gridcolor\": \"white\", \"gridwidth\": 2, \"linecolor\": \"white\", \"showbackground\": true, \"ticks\": \"\", \"zerolinecolor\": \"white\"}}, \"shapedefaults\": {\"line\": {\"color\": \"#2a3f5f\"}}, \"ternary\": {\"aaxis\": {\"gridcolor\": \"white\", \"linecolor\": \"white\", \"ticks\": \"\"}, \"baxis\": {\"gridcolor\": \"white\", \"linecolor\": \"white\", \"ticks\": \"\"}, \"bgcolor\": \"#E5ECF6\", \"caxis\": {\"gridcolor\": \"white\", \"linecolor\": \"white\", \"ticks\": \"\"}}, \"title\": {\"x\": 0.05}, \"xaxis\": {\"automargin\": true, \"gridcolor\": \"white\", \"linecolor\": \"white\", \"ticks\": \"\", \"title\": {\"standoff\": 15}, \"zerolinecolor\": \"white\", \"zerolinewidth\": 2}, \"yaxis\": {\"automargin\": true, \"gridcolor\": \"white\", \"linecolor\": \"white\", \"ticks\": \"\", \"title\": {\"standoff\": 15}, \"zerolinecolor\": \"white\", \"zerolinewidth\": 2}}}, \"xaxis\": {\"anchor\": \"y\", \"domain\": [0.0, 1.0], \"title\": {\"text\": \"No. of Data Breaches\"}}, \"yaxis\": {\"anchor\": \"x\", \"domain\": [0.0, 1.0], \"title\": {\"text\": \"Average Internet usage over the years\"}}},\n",
       "                        {\"responsive\": true}\n",
       "                    ).then(function(){\n",
       "                            \n",
       "var gd = document.getElementById('ccde8399-e186-418f-a520-834ce391bc35');\n",
       "var x = new MutationObserver(function (mutations, observer) {{\n",
       "        var display = window.getComputedStyle(gd).display;\n",
       "        if (!display || display === 'none') {{\n",
       "            console.log([gd, 'removed!']);\n",
       "            Plotly.purge(gd);\n",
       "            observer.disconnect();\n",
       "        }}\n",
       "}});\n",
       "\n",
       "// Listen for the removal of the full notebook cells\n",
       "var notebookContainer = gd.closest('#notebook-container');\n",
       "if (notebookContainer) {{\n",
       "    x.observe(notebookContainer, {childList: true});\n",
       "}}\n",
       "\n",
       "// Listen for the clearing of the current output cell\n",
       "var outputEl = gd.closest('.output');\n",
       "if (outputEl) {{\n",
       "    x.observe(outputEl, {childList: true});\n",
       "}}\n",
       "\n",
       "                        })\n",
       "                };\n",
       "                });\n",
       "            </script>\n",
       "        </div>"
      ]
     },
     "metadata": {},
     "output_type": "display_data"
    }
   ],
   "source": [
    "fig = px.scatter(data_breach_int_users, x=\"No. of Data Breaches\", y=\"Average Internet usage over the years\")\n",
    "\n",
    "fig.show()\n"
   ]
  },
  {
   "cell_type": "markdown",
   "metadata": {},
   "source": [
    "# Hypothesis 3"
   ]
  },
  {
   "cell_type": "markdown",
   "metadata": {},
   "source": [
    " higher secure internet servers would have lesser cases of data breaches."
   ]
  },
  {
   "cell_type": "code",
   "execution_count": 161,
   "metadata": {},
   "outputs": [],
   "source": [
    " secure_servers =  secure_servers[[\"Country\",\"2018\"]]"
   ]
  },
  {
   "cell_type": "code",
   "execution_count": 164,
   "metadata": {},
   "outputs": [],
   "source": [
    "secure_servers = secure_servers.dropna()"
   ]
  },
  {
   "cell_type": "code",
   "execution_count": 165,
   "metadata": {},
   "outputs": [
    {
     "data": {
      "text/html": [
       "<div>\n",
       "<style scoped>\n",
       "    .dataframe tbody tr th:only-of-type {\n",
       "        vertical-align: middle;\n",
       "    }\n",
       "\n",
       "    .dataframe tbody tr th {\n",
       "        vertical-align: top;\n",
       "    }\n",
       "\n",
       "    .dataframe thead th {\n",
       "        text-align: right;\n",
       "    }\n",
       "</style>\n",
       "<table border=\"1\" class=\"dataframe\">\n",
       "  <thead>\n",
       "    <tr style=\"text-align: right;\">\n",
       "      <th></th>\n",
       "      <th>Country</th>\n",
       "      <th>2018</th>\n",
       "    </tr>\n",
       "  </thead>\n",
       "  <tbody>\n",
       "    <tr>\n",
       "      <td>0</td>\n",
       "      <td>United States</td>\n",
       "      <td>21517004.0</td>\n",
       "    </tr>\n",
       "    <tr>\n",
       "      <td>1</td>\n",
       "      <td>Germany</td>\n",
       "      <td>4676435.0</td>\n",
       "    </tr>\n",
       "    <tr>\n",
       "      <td>2</td>\n",
       "      <td>United Kingdom</td>\n",
       "      <td>1811830.0</td>\n",
       "    </tr>\n",
       "    <tr>\n",
       "      <td>3</td>\n",
       "      <td>Netherlands</td>\n",
       "      <td>1733183.0</td>\n",
       "    </tr>\n",
       "    <tr>\n",
       "      <td>4</td>\n",
       "      <td>Japan</td>\n",
       "      <td>1476696.0</td>\n",
       "    </tr>\n",
       "    <tr>\n",
       "      <td>...</td>\n",
       "      <td>...</td>\n",
       "      <td>...</td>\n",
       "    </tr>\n",
       "    <tr>\n",
       "      <td>190</td>\n",
       "      <td>Guinea-Bissau</td>\n",
       "      <td>4.0</td>\n",
       "    </tr>\n",
       "    <tr>\n",
       "      <td>191</td>\n",
       "      <td>Central African Republic</td>\n",
       "      <td>3.0</td>\n",
       "    </tr>\n",
       "    <tr>\n",
       "      <td>192</td>\n",
       "      <td>Nauru</td>\n",
       "      <td>1.0</td>\n",
       "    </tr>\n",
       "    <tr>\n",
       "      <td>193</td>\n",
       "      <td>Tuvalu</td>\n",
       "      <td>1.0</td>\n",
       "    </tr>\n",
       "    <tr>\n",
       "      <td>194</td>\n",
       "      <td>Eritrea</td>\n",
       "      <td>1.0</td>\n",
       "    </tr>\n",
       "  </tbody>\n",
       "</table>\n",
       "<p>195 rows × 2 columns</p>\n",
       "</div>"
      ],
      "text/plain": [
       "                      Country        2018\n",
       "0               United States  21517004.0\n",
       "1                     Germany   4676435.0\n",
       "2              United Kingdom   1811830.0\n",
       "3                 Netherlands   1733183.0\n",
       "4                       Japan   1476696.0\n",
       "..                        ...         ...\n",
       "190             Guinea-Bissau         4.0\n",
       "191  Central African Republic         3.0\n",
       "192                     Nauru         1.0\n",
       "193                    Tuvalu         1.0\n",
       "194                   Eritrea         1.0\n",
       "\n",
       "[195 rows x 2 columns]"
      ]
     },
     "execution_count": 165,
     "metadata": {},
     "output_type": "execute_result"
    }
   ],
   "source": [
    "secure_servers"
   ]
  },
  {
   "cell_type": "code",
   "execution_count": 166,
   "metadata": {},
   "outputs": [
    {
     "data": {
      "text/html": [
       "<div>\n",
       "<style scoped>\n",
       "    .dataframe tbody tr th:only-of-type {\n",
       "        vertical-align: middle;\n",
       "    }\n",
       "\n",
       "    .dataframe tbody tr th {\n",
       "        vertical-align: top;\n",
       "    }\n",
       "\n",
       "    .dataframe thead th {\n",
       "        text-align: right;\n",
       "    }\n",
       "</style>\n",
       "<table border=\"1\" class=\"dataframe\">\n",
       "  <thead>\n",
       "    <tr style=\"text-align: right;\">\n",
       "      <th></th>\n",
       "      <th>Country</th>\n",
       "      <th>No. of Data Breaches</th>\n",
       "    </tr>\n",
       "  </thead>\n",
       "  <tbody>\n",
       "    <tr>\n",
       "      <td>0</td>\n",
       "      <td>United States</td>\n",
       "      <td>29928</td>\n",
       "    </tr>\n",
       "    <tr>\n",
       "      <td>3</td>\n",
       "      <td>Spain</td>\n",
       "      <td>5665</td>\n",
       "    </tr>\n",
       "    <tr>\n",
       "      <td>4</td>\n",
       "      <td>BRAZIL</td>\n",
       "      <td>5088</td>\n",
       "    </tr>\n",
       "    <tr>\n",
       "      <td>5</td>\n",
       "      <td>Germany</td>\n",
       "      <td>4088</td>\n",
       "    </tr>\n",
       "    <tr>\n",
       "      <td>6</td>\n",
       "      <td>France</td>\n",
       "      <td>3681</td>\n",
       "    </tr>\n",
       "    <tr>\n",
       "      <td>...</td>\n",
       "      <td>...</td>\n",
       "      <td>...</td>\n",
       "    </tr>\n",
       "    <tr>\n",
       "      <td>350</td>\n",
       "      <td>PAPUA NEW GUINEA</td>\n",
       "      <td>1</td>\n",
       "    </tr>\n",
       "    <tr>\n",
       "      <td>351</td>\n",
       "      <td>NORFOLKISLAND</td>\n",
       "      <td>1</td>\n",
       "    </tr>\n",
       "    <tr>\n",
       "      <td>352</td>\n",
       "      <td>TURKMENISTAN</td>\n",
       "      <td>1</td>\n",
       "    </tr>\n",
       "    <tr>\n",
       "      <td>353</td>\n",
       "      <td>NETHERLANDSANTILLES</td>\n",
       "      <td>1</td>\n",
       "    </tr>\n",
       "    <tr>\n",
       "      <td>354</td>\n",
       "      <td>New Caledonia</td>\n",
       "      <td>1</td>\n",
       "    </tr>\n",
       "  </tbody>\n",
       "</table>\n",
       "<p>352 rows × 2 columns</p>\n",
       "</div>"
      ],
      "text/plain": [
       "                 Country  No. of Data Breaches\n",
       "0          United States                 29928\n",
       "3                  Spain                  5665\n",
       "4                 BRAZIL                  5088\n",
       "5                Germany                  4088\n",
       "6                 France                  3681\n",
       "..                   ...                   ...\n",
       "350     PAPUA NEW GUINEA                     1\n",
       "351        NORFOLKISLAND                     1\n",
       "352         TURKMENISTAN                     1\n",
       "353  NETHERLANDSANTILLES                     1\n",
       "354        New Caledonia                     1\n",
       "\n",
       "[352 rows x 2 columns]"
      ]
     },
     "execution_count": 166,
     "metadata": {},
     "output_type": "execute_result"
    }
   ],
   "source": [
    "data_breaches_per_country"
   ]
  },
  {
   "cell_type": "code",
   "execution_count": 167,
   "metadata": {},
   "outputs": [],
   "source": [
    "server_data_breach = secure_servers.merge(data_breaches_per_country,left_on=\"Country\",right_on=\"Country\",how=\"left\")"
   ]
  },
  {
   "cell_type": "code",
   "execution_count": 169,
   "metadata": {},
   "outputs": [],
   "source": [
    "server_data_breach = server_data_breach.dropna()"
   ]
  },
  {
   "cell_type": "code",
   "execution_count": 175,
   "metadata": {},
   "outputs": [],
   "source": [
    "server_data_breach.columns = [\"Country\",\"No.of Secure Servers\",\"No. of Data Breaches\"]"
   ]
  },
  {
   "cell_type": "code",
   "execution_count": 176,
   "metadata": {},
   "outputs": [
    {
     "data": {
      "text/html": [
       "<div>\n",
       "<style scoped>\n",
       "    .dataframe tbody tr th:only-of-type {\n",
       "        vertical-align: middle;\n",
       "    }\n",
       "\n",
       "    .dataframe tbody tr th {\n",
       "        vertical-align: top;\n",
       "    }\n",
       "\n",
       "    .dataframe thead th {\n",
       "        text-align: right;\n",
       "    }\n",
       "</style>\n",
       "<table border=\"1\" class=\"dataframe\">\n",
       "  <thead>\n",
       "    <tr style=\"text-align: right;\">\n",
       "      <th></th>\n",
       "      <th>Country</th>\n",
       "      <th>No.of Secure Servers</th>\n",
       "      <th>No. of Data Breaches</th>\n",
       "    </tr>\n",
       "  </thead>\n",
       "  <tbody>\n",
       "    <tr>\n",
       "      <td>0</td>\n",
       "      <td>United States</td>\n",
       "      <td>21517004.0</td>\n",
       "      <td>29928.0</td>\n",
       "    </tr>\n",
       "    <tr>\n",
       "      <td>1</td>\n",
       "      <td>Germany</td>\n",
       "      <td>4676435.0</td>\n",
       "      <td>4088.0</td>\n",
       "    </tr>\n",
       "    <tr>\n",
       "      <td>2</td>\n",
       "      <td>United Kingdom</td>\n",
       "      <td>1811830.0</td>\n",
       "      <td>1894.0</td>\n",
       "    </tr>\n",
       "    <tr>\n",
       "      <td>3</td>\n",
       "      <td>Netherlands</td>\n",
       "      <td>1733183.0</td>\n",
       "      <td>1097.0</td>\n",
       "    </tr>\n",
       "    <tr>\n",
       "      <td>4</td>\n",
       "      <td>Japan</td>\n",
       "      <td>1476696.0</td>\n",
       "      <td>491.0</td>\n",
       "    </tr>\n",
       "    <tr>\n",
       "      <td>...</td>\n",
       "      <td>...</td>\n",
       "      <td>...</td>\n",
       "      <td>...</td>\n",
       "    </tr>\n",
       "    <tr>\n",
       "      <td>154</td>\n",
       "      <td>Samoa</td>\n",
       "      <td>105.0</td>\n",
       "      <td>3.0</td>\n",
       "    </tr>\n",
       "    <tr>\n",
       "      <td>161</td>\n",
       "      <td>Togo</td>\n",
       "      <td>61.0</td>\n",
       "      <td>1.0</td>\n",
       "    </tr>\n",
       "    <tr>\n",
       "      <td>163</td>\n",
       "      <td>Vanuatu</td>\n",
       "      <td>58.0</td>\n",
       "      <td>4.0</td>\n",
       "    </tr>\n",
       "    <tr>\n",
       "      <td>166</td>\n",
       "      <td>Burkina Faso</td>\n",
       "      <td>50.0</td>\n",
       "      <td>2.0</td>\n",
       "    </tr>\n",
       "    <tr>\n",
       "      <td>184</td>\n",
       "      <td>Niger</td>\n",
       "      <td>11.0</td>\n",
       "      <td>1.0</td>\n",
       "    </tr>\n",
       "  </tbody>\n",
       "</table>\n",
       "<p>102 rows × 3 columns</p>\n",
       "</div>"
      ],
      "text/plain": [
       "            Country  No.of Secure Servers  No. of Data Breaches\n",
       "0     United States            21517004.0               29928.0\n",
       "1           Germany             4676435.0                4088.0\n",
       "2    United Kingdom             1811830.0                1894.0\n",
       "3       Netherlands             1733183.0                1097.0\n",
       "4             Japan             1476696.0                 491.0\n",
       "..              ...                   ...                   ...\n",
       "154           Samoa                 105.0                   3.0\n",
       "161            Togo                  61.0                   1.0\n",
       "163         Vanuatu                  58.0                   4.0\n",
       "166    Burkina Faso                  50.0                   2.0\n",
       "184           Niger                  11.0                   1.0\n",
       "\n",
       "[102 rows x 3 columns]"
      ]
     },
     "execution_count": 176,
     "metadata": {},
     "output_type": "execute_result"
    }
   ],
   "source": [
    "server_data_breach"
   ]
  },
  {
   "cell_type": "code",
   "execution_count": 177,
   "metadata": {},
   "outputs": [
    {
     "data": {
      "application/vnd.plotly.v1+json": {
       "config": {
        "plotlyServerURL": "https://plot.ly"
       },
       "data": [
        {
         "branchvalues": "total",
         "customdata": [
          [
           "Algeria",
           5
          ],
          [
           "Argentina",
           848
          ],
          [
           "Armenia",
           9
          ],
          [
           "Australia",
           1010
          ],
          [
           "Austria",
           94
          ],
          [
           "Bangladesh",
           130
          ],
          [
           "Belarus",
           52
          ],
          [
           "Belgium",
           42
          ],
          [
           "Bhutan",
           22
          ],
          [
           "Bolivia",
           6
          ],
          [
           "Bosnia and Herzegovina",
           24
          ],
          [
           "Botswana",
           1
          ],
          [
           "Brazil",
           1323
          ],
          [
           "Brunei Darussalam",
           21
          ],
          [
           "Bulgaria",
           149
          ],
          [
           "Burkina Faso",
           2
          ],
          [
           "Cameroon",
           1
          ],
          [
           "Canada",
           1553
          ],
          [
           "Chile",
           2473
          ],
          [
           "China",
           909
          ],
          [
           "Costa Rica",
           14
          ],
          [
           "Croatia",
           101
          ],
          [
           "Cyprus",
           21
          ],
          [
           "Denmark",
           164
          ],
          [
           "Ecuador",
           40
          ],
          [
           "El Salvador",
           10
          ],
          [
           "Estonia",
           10
          ],
          [
           "Ethiopia",
           3
          ],
          [
           "Finland",
           10
          ],
          [
           "France",
           3681
          ],
          [
           "Georgia",
           27
          ],
          [
           "Germany",
           4088
          ],
          [
           "Ghana",
           1
          ],
          [
           "Greece",
           116
          ],
          [
           "Honduras",
           2
          ],
          [
           "Hungary",
           603
          ],
          [
           "Iceland",
           28
          ],
          [
           "India",
           531
          ],
          [
           "Indonesia",
           2272
          ],
          [
           "Iraq",
           6
          ],
          [
           "Ireland",
           641
          ],
          [
           "Israel",
           459
          ],
          [
           "Italy",
           858
          ],
          [
           "Jamaica",
           3
          ],
          [
           "Japan",
           491
          ],
          [
           "Jordan",
           9
          ],
          [
           "Kazakhstan",
           103
          ],
          [
           "Kenya",
           19
          ],
          [
           "Kuwait",
           2
          ],
          [
           "Latvia",
           6
          ],
          [
           "Lithuania",
           90
          ],
          [
           "Madagascar",
           4
          ],
          [
           "Malawi",
           15
          ],
          [
           "Malaysia",
           403
          ],
          [
           "Maldives",
           2
          ],
          [
           "Mali",
           1
          ],
          [
           "Mauritius",
           3
          ],
          [
           "Mexico",
           106
          ],
          [
           "Moldova",
           7
          ],
          [
           "Mongolia",
           12
          ],
          [
           "Morocco",
           12
          ],
          [
           "Nepal",
           41
          ],
          [
           "Netherlands",
           1097
          ],
          [
           "New Zealand",
           191
          ],
          [
           "Nicaragua",
           5
          ],
          [
           "Niger",
           1
          ],
          [
           "Nigeria",
           3
          ],
          [
           "Norway",
           195
          ],
          [
           "Oman",
           2
          ],
          [
           "Pakistan",
           34
          ],
          [
           "Panama",
           13
          ],
          [
           "Paraguay",
           12
          ],
          [
           "Peru",
           48
          ],
          [
           "Philippines",
           17
          ],
          [
           "Poland",
           379
          ],
          [
           "Portugal",
           124
          ],
          [
           "Puerto Rico",
           1
          ],
          [
           "Romania",
           231
          ],
          [
           "Russian Federation",
           1266
          ],
          [
           "Rwanda",
           1
          ],
          [
           "Samoa",
           3
          ],
          [
           "Senegal",
           14
          ],
          [
           "Singapore",
           352
          ],
          [
           "Slovenia",
           31
          ],
          [
           "South Africa",
           246
          ],
          [
           "Spain",
           5665
          ],
          [
           "Sri Lanka",
           6
          ],
          [
           "Sudan",
           11
          ],
          [
           "Sweden",
           232
          ],
          [
           "Switzerland",
           179
          ],
          [
           "Tajikistan",
           1
          ],
          [
           "Tanzania",
           3
          ],
          [
           "Thailand",
           1430
          ],
          [
           "Togo",
           1
          ],
          [
           "Tunisia",
           83
          ],
          [
           "Turkey",
           897
          ],
          [
           "Uganda",
           1
          ],
          [
           "Ukraine",
           614
          ],
          [
           "United Kingdom",
           1894
          ],
          [
           "United States",
           29928
          ],
          [
           "Uruguay",
           5
          ],
          [
           "Vanuatu",
           4
          ]
         ],
         "domain": {
          "x": [
           0,
           1
          ],
          "y": [
           0,
           1
          ]
         },
         "hovertemplate": "Country=%{customdata[0]}<br>No. of Data Breaches=%{color}<br>labels=%{label}<br>No.of Secure Servers=%{value}<br>parent=%{parent}<br>id=%{id}<extra></extra>",
         "ids": [
          "Algeria",
          "Argentina",
          "Armenia",
          "Australia",
          "Austria",
          "Bangladesh",
          "Belarus",
          "Belgium",
          "Bhutan",
          "Bolivia",
          "Bosnia and Herzegovina",
          "Botswana",
          "Brazil",
          "Brunei Darussalam",
          "Bulgaria",
          "Burkina Faso",
          "Cameroon",
          "Canada",
          "Chile",
          "China",
          "Costa Rica",
          "Croatia",
          "Cyprus",
          "Denmark",
          "Ecuador",
          "El Salvador",
          "Estonia",
          "Ethiopia",
          "Finland",
          "France",
          "Georgia",
          "Germany",
          "Ghana",
          "Greece",
          "Honduras",
          "Hungary",
          "Iceland",
          "India",
          "Indonesia",
          "Iraq",
          "Ireland",
          "Israel",
          "Italy",
          "Jamaica",
          "Japan",
          "Jordan",
          "Kazakhstan",
          "Kenya",
          "Kuwait",
          "Latvia",
          "Lithuania",
          "Madagascar",
          "Malawi",
          "Malaysia",
          "Maldives",
          "Mali",
          "Mauritius",
          "Mexico",
          "Moldova",
          "Mongolia",
          "Morocco",
          "Nepal",
          "Netherlands",
          "New Zealand",
          "Nicaragua",
          "Niger",
          "Nigeria",
          "Norway",
          "Oman",
          "Pakistan",
          "Panama",
          "Paraguay",
          "Peru",
          "Philippines",
          "Poland",
          "Portugal",
          "Puerto Rico",
          "Romania",
          "Russian Federation",
          "Rwanda",
          "Samoa",
          "Senegal",
          "Singapore",
          "Slovenia",
          "South Africa",
          "Spain",
          "Sri Lanka",
          "Sudan",
          "Sweden",
          "Switzerland",
          "Tajikistan",
          "Tanzania",
          "Thailand",
          "Togo",
          "Tunisia",
          "Turkey",
          "Uganda",
          "Ukraine",
          "United Kingdom",
          "United States",
          "Uruguay",
          "Vanuatu"
         ],
         "labels": [
          "Algeria",
          "Argentina",
          "Armenia",
          "Australia",
          "Austria",
          "Bangladesh",
          "Belarus",
          "Belgium",
          "Bhutan",
          "Bolivia",
          "Bosnia and Herzegovina",
          "Botswana",
          "Brazil",
          "Brunei Darussalam",
          "Bulgaria",
          "Burkina Faso",
          "Cameroon",
          "Canada",
          "Chile",
          "China",
          "Costa Rica",
          "Croatia",
          "Cyprus",
          "Denmark",
          "Ecuador",
          "El Salvador",
          "Estonia",
          "Ethiopia",
          "Finland",
          "France",
          "Georgia",
          "Germany",
          "Ghana",
          "Greece",
          "Honduras",
          "Hungary",
          "Iceland",
          "India",
          "Indonesia",
          "Iraq",
          "Ireland",
          "Israel",
          "Italy",
          "Jamaica",
          "Japan",
          "Jordan",
          "Kazakhstan",
          "Kenya",
          "Kuwait",
          "Latvia",
          "Lithuania",
          "Madagascar",
          "Malawi",
          "Malaysia",
          "Maldives",
          "Mali",
          "Mauritius",
          "Mexico",
          "Moldova",
          "Mongolia",
          "Morocco",
          "Nepal",
          "Netherlands",
          "New Zealand",
          "Nicaragua",
          "Niger",
          "Nigeria",
          "Norway",
          "Oman",
          "Pakistan",
          "Panama",
          "Paraguay",
          "Peru",
          "Philippines",
          "Poland",
          "Portugal",
          "Puerto Rico",
          "Romania",
          "Russian Federation",
          "Rwanda",
          "Samoa",
          "Senegal",
          "Singapore",
          "Slovenia",
          "South Africa",
          "Spain",
          "Sri Lanka",
          "Sudan",
          "Sweden",
          "Switzerland",
          "Tajikistan",
          "Tanzania",
          "Thailand",
          "Togo",
          "Tunisia",
          "Turkey",
          "Uganda",
          "Ukraine",
          "United Kingdom",
          "United States",
          "Uruguay",
          "Vanuatu"
         ],
         "marker": {
          "coloraxis": "coloraxis",
          "colors": [
           5,
           848,
           9,
           1010,
           94,
           130,
           52,
           42,
           22,
           6,
           24,
           1,
           1323,
           21,
           149,
           2,
           1,
           1553,
           2473,
           909,
           14,
           101,
           21,
           164,
           40,
           10,
           10,
           3,
           10,
           3681,
           27,
           4088,
           1,
           116,
           2,
           603,
           28,
           531,
           2272,
           6,
           641,
           459,
           858,
           3,
           491,
           9,
           103,
           19,
           2,
           6,
           90,
           4,
           15,
           403,
           2,
           1,
           3,
           106,
           7,
           12,
           12,
           41,
           1097,
           191,
           5,
           1,
           3,
           195,
           2,
           34,
           13,
           12,
           48,
           17,
           379,
           124,
           1,
           231,
           1266,
           1,
           3,
           14,
           352,
           31,
           246,
           5665,
           6,
           11,
           232,
           179,
           1,
           3,
           1430,
           1,
           83,
           897,
           1,
           614,
           1894,
           29928,
           5,
           4
          ]
         },
         "name": "",
         "parents": [
          "",
          "",
          "",
          "",
          "",
          "",
          "",
          "",
          "",
          "",
          "",
          "",
          "",
          "",
          "",
          "",
          "",
          "",
          "",
          "",
          "",
          "",
          "",
          "",
          "",
          "",
          "",
          "",
          "",
          "",
          "",
          "",
          "",
          "",
          "",
          "",
          "",
          "",
          "",
          "",
          "",
          "",
          "",
          "",
          "",
          "",
          "",
          "",
          "",
          "",
          "",
          "",
          "",
          "",
          "",
          "",
          "",
          "",
          "",
          "",
          "",
          "",
          "",
          "",
          "",
          "",
          "",
          "",
          "",
          "",
          "",
          "",
          "",
          "",
          "",
          "",
          "",
          "",
          "",
          "",
          "",
          "",
          "",
          "",
          "",
          "",
          "",
          "",
          "",
          "",
          "",
          "",
          "",
          "",
          "",
          "",
          "",
          "",
          "",
          "",
          "",
          ""
         ],
         "type": "treemap",
         "values": [
          2855,
          83320,
          989,
          822020,
          147681,
          18712,
          32440,
          159673,
          134,
          1478,
          6431,
          301,
          426560,
          853,
          268524,
          50,
          137,
          1147057,
          151206,
          622142,
          6029,
          79937,
          7578,
          713512,
          4538,
          582,
          64636,
          160,
          187523,
          1367541,
          8132,
          4676435,
          649,
          54044,
          717,
          188120,
          22843,
          254032,
          343412,
          435,
          338734,
          85381,
          740648,
          451,
          1476696,
          1025,
          25115,
          11164,
          1705,
          27952,
          51176,
          143,
          279,
          180124,
          270,
          201,
          9926,
          28487,
          10610,
          5357,
          10655,
          5126,
          1733183,
          86339,
          448,
          11,
          36082,
          110946,
          757,
          23161,
          8945,
          1728,
          8232,
          9903,
          616219,
          164308,
          1229,
          310378,
          749930,
          449,
          105,
          272,
          477674,
          68476,
          695336,
          528944,
          8937,
          193,
          189345,
          580292,
          249,
          1537,
          66225,
          61,
          3657,
          356867,
          864,
          268976,
          1811830,
          21517004,
          5432,
          58
         ]
        }
       ],
       "layout": {
        "coloraxis": {
         "colorbar": {
          "title": {
           "text": "No. of Data Breaches"
          }
         },
         "colorscale": [
          [
           0,
           "rgb(103,0,31)"
          ],
          [
           0.1,
           "rgb(178,24,43)"
          ],
          [
           0.2,
           "rgb(214,96,77)"
          ],
          [
           0.3,
           "rgb(244,165,130)"
          ],
          [
           0.4,
           "rgb(253,219,199)"
          ],
          [
           0.5,
           "rgb(247,247,247)"
          ],
          [
           0.6,
           "rgb(209,229,240)"
          ],
          [
           0.7,
           "rgb(146,197,222)"
          ],
          [
           0.8,
           "rgb(67,147,195)"
          ],
          [
           0.9,
           "rgb(33,102,172)"
          ],
          [
           1,
           "rgb(5,48,97)"
          ]
         ]
        },
        "legend": {
         "tracegroupgap": 0
        },
        "margin": {
         "t": 60
        },
        "template": {
         "data": {
          "bar": [
           {
            "error_x": {
             "color": "#2a3f5f"
            },
            "error_y": {
             "color": "#2a3f5f"
            },
            "marker": {
             "line": {
              "color": "#E5ECF6",
              "width": 0.5
             }
            },
            "type": "bar"
           }
          ],
          "barpolar": [
           {
            "marker": {
             "line": {
              "color": "#E5ECF6",
              "width": 0.5
             }
            },
            "type": "barpolar"
           }
          ],
          "carpet": [
           {
            "aaxis": {
             "endlinecolor": "#2a3f5f",
             "gridcolor": "white",
             "linecolor": "white",
             "minorgridcolor": "white",
             "startlinecolor": "#2a3f5f"
            },
            "baxis": {
             "endlinecolor": "#2a3f5f",
             "gridcolor": "white",
             "linecolor": "white",
             "minorgridcolor": "white",
             "startlinecolor": "#2a3f5f"
            },
            "type": "carpet"
           }
          ],
          "choropleth": [
           {
            "colorbar": {
             "outlinewidth": 0,
             "ticks": ""
            },
            "type": "choropleth"
           }
          ],
          "contour": [
           {
            "colorbar": {
             "outlinewidth": 0,
             "ticks": ""
            },
            "colorscale": [
             [
              0,
              "#0d0887"
             ],
             [
              0.1111111111111111,
              "#46039f"
             ],
             [
              0.2222222222222222,
              "#7201a8"
             ],
             [
              0.3333333333333333,
              "#9c179e"
             ],
             [
              0.4444444444444444,
              "#bd3786"
             ],
             [
              0.5555555555555556,
              "#d8576b"
             ],
             [
              0.6666666666666666,
              "#ed7953"
             ],
             [
              0.7777777777777778,
              "#fb9f3a"
             ],
             [
              0.8888888888888888,
              "#fdca26"
             ],
             [
              1,
              "#f0f921"
             ]
            ],
            "type": "contour"
           }
          ],
          "contourcarpet": [
           {
            "colorbar": {
             "outlinewidth": 0,
             "ticks": ""
            },
            "type": "contourcarpet"
           }
          ],
          "heatmap": [
           {
            "colorbar": {
             "outlinewidth": 0,
             "ticks": ""
            },
            "colorscale": [
             [
              0,
              "#0d0887"
             ],
             [
              0.1111111111111111,
              "#46039f"
             ],
             [
              0.2222222222222222,
              "#7201a8"
             ],
             [
              0.3333333333333333,
              "#9c179e"
             ],
             [
              0.4444444444444444,
              "#bd3786"
             ],
             [
              0.5555555555555556,
              "#d8576b"
             ],
             [
              0.6666666666666666,
              "#ed7953"
             ],
             [
              0.7777777777777778,
              "#fb9f3a"
             ],
             [
              0.8888888888888888,
              "#fdca26"
             ],
             [
              1,
              "#f0f921"
             ]
            ],
            "type": "heatmap"
           }
          ],
          "heatmapgl": [
           {
            "colorbar": {
             "outlinewidth": 0,
             "ticks": ""
            },
            "colorscale": [
             [
              0,
              "#0d0887"
             ],
             [
              0.1111111111111111,
              "#46039f"
             ],
             [
              0.2222222222222222,
              "#7201a8"
             ],
             [
              0.3333333333333333,
              "#9c179e"
             ],
             [
              0.4444444444444444,
              "#bd3786"
             ],
             [
              0.5555555555555556,
              "#d8576b"
             ],
             [
              0.6666666666666666,
              "#ed7953"
             ],
             [
              0.7777777777777778,
              "#fb9f3a"
             ],
             [
              0.8888888888888888,
              "#fdca26"
             ],
             [
              1,
              "#f0f921"
             ]
            ],
            "type": "heatmapgl"
           }
          ],
          "histogram": [
           {
            "marker": {
             "colorbar": {
              "outlinewidth": 0,
              "ticks": ""
             }
            },
            "type": "histogram"
           }
          ],
          "histogram2d": [
           {
            "colorbar": {
             "outlinewidth": 0,
             "ticks": ""
            },
            "colorscale": [
             [
              0,
              "#0d0887"
             ],
             [
              0.1111111111111111,
              "#46039f"
             ],
             [
              0.2222222222222222,
              "#7201a8"
             ],
             [
              0.3333333333333333,
              "#9c179e"
             ],
             [
              0.4444444444444444,
              "#bd3786"
             ],
             [
              0.5555555555555556,
              "#d8576b"
             ],
             [
              0.6666666666666666,
              "#ed7953"
             ],
             [
              0.7777777777777778,
              "#fb9f3a"
             ],
             [
              0.8888888888888888,
              "#fdca26"
             ],
             [
              1,
              "#f0f921"
             ]
            ],
            "type": "histogram2d"
           }
          ],
          "histogram2dcontour": [
           {
            "colorbar": {
             "outlinewidth": 0,
             "ticks": ""
            },
            "colorscale": [
             [
              0,
              "#0d0887"
             ],
             [
              0.1111111111111111,
              "#46039f"
             ],
             [
              0.2222222222222222,
              "#7201a8"
             ],
             [
              0.3333333333333333,
              "#9c179e"
             ],
             [
              0.4444444444444444,
              "#bd3786"
             ],
             [
              0.5555555555555556,
              "#d8576b"
             ],
             [
              0.6666666666666666,
              "#ed7953"
             ],
             [
              0.7777777777777778,
              "#fb9f3a"
             ],
             [
              0.8888888888888888,
              "#fdca26"
             ],
             [
              1,
              "#f0f921"
             ]
            ],
            "type": "histogram2dcontour"
           }
          ],
          "mesh3d": [
           {
            "colorbar": {
             "outlinewidth": 0,
             "ticks": ""
            },
            "type": "mesh3d"
           }
          ],
          "parcoords": [
           {
            "line": {
             "colorbar": {
              "outlinewidth": 0,
              "ticks": ""
             }
            },
            "type": "parcoords"
           }
          ],
          "pie": [
           {
            "automargin": true,
            "type": "pie"
           }
          ],
          "scatter": [
           {
            "marker": {
             "colorbar": {
              "outlinewidth": 0,
              "ticks": ""
             }
            },
            "type": "scatter"
           }
          ],
          "scatter3d": [
           {
            "line": {
             "colorbar": {
              "outlinewidth": 0,
              "ticks": ""
             }
            },
            "marker": {
             "colorbar": {
              "outlinewidth": 0,
              "ticks": ""
             }
            },
            "type": "scatter3d"
           }
          ],
          "scattercarpet": [
           {
            "marker": {
             "colorbar": {
              "outlinewidth": 0,
              "ticks": ""
             }
            },
            "type": "scattercarpet"
           }
          ],
          "scattergeo": [
           {
            "marker": {
             "colorbar": {
              "outlinewidth": 0,
              "ticks": ""
             }
            },
            "type": "scattergeo"
           }
          ],
          "scattergl": [
           {
            "marker": {
             "colorbar": {
              "outlinewidth": 0,
              "ticks": ""
             }
            },
            "type": "scattergl"
           }
          ],
          "scattermapbox": [
           {
            "marker": {
             "colorbar": {
              "outlinewidth": 0,
              "ticks": ""
             }
            },
            "type": "scattermapbox"
           }
          ],
          "scatterpolar": [
           {
            "marker": {
             "colorbar": {
              "outlinewidth": 0,
              "ticks": ""
             }
            },
            "type": "scatterpolar"
           }
          ],
          "scatterpolargl": [
           {
            "marker": {
             "colorbar": {
              "outlinewidth": 0,
              "ticks": ""
             }
            },
            "type": "scatterpolargl"
           }
          ],
          "scatterternary": [
           {
            "marker": {
             "colorbar": {
              "outlinewidth": 0,
              "ticks": ""
             }
            },
            "type": "scatterternary"
           }
          ],
          "surface": [
           {
            "colorbar": {
             "outlinewidth": 0,
             "ticks": ""
            },
            "colorscale": [
             [
              0,
              "#0d0887"
             ],
             [
              0.1111111111111111,
              "#46039f"
             ],
             [
              0.2222222222222222,
              "#7201a8"
             ],
             [
              0.3333333333333333,
              "#9c179e"
             ],
             [
              0.4444444444444444,
              "#bd3786"
             ],
             [
              0.5555555555555556,
              "#d8576b"
             ],
             [
              0.6666666666666666,
              "#ed7953"
             ],
             [
              0.7777777777777778,
              "#fb9f3a"
             ],
             [
              0.8888888888888888,
              "#fdca26"
             ],
             [
              1,
              "#f0f921"
             ]
            ],
            "type": "surface"
           }
          ],
          "table": [
           {
            "cells": {
             "fill": {
              "color": "#EBF0F8"
             },
             "line": {
              "color": "white"
             }
            },
            "header": {
             "fill": {
              "color": "#C8D4E3"
             },
             "line": {
              "color": "white"
             }
            },
            "type": "table"
           }
          ]
         },
         "layout": {
          "annotationdefaults": {
           "arrowcolor": "#2a3f5f",
           "arrowhead": 0,
           "arrowwidth": 1
          },
          "coloraxis": {
           "colorbar": {
            "outlinewidth": 0,
            "ticks": ""
           }
          },
          "colorscale": {
           "diverging": [
            [
             0,
             "#8e0152"
            ],
            [
             0.1,
             "#c51b7d"
            ],
            [
             0.2,
             "#de77ae"
            ],
            [
             0.3,
             "#f1b6da"
            ],
            [
             0.4,
             "#fde0ef"
            ],
            [
             0.5,
             "#f7f7f7"
            ],
            [
             0.6,
             "#e6f5d0"
            ],
            [
             0.7,
             "#b8e186"
            ],
            [
             0.8,
             "#7fbc41"
            ],
            [
             0.9,
             "#4d9221"
            ],
            [
             1,
             "#276419"
            ]
           ],
           "sequential": [
            [
             0,
             "#0d0887"
            ],
            [
             0.1111111111111111,
             "#46039f"
            ],
            [
             0.2222222222222222,
             "#7201a8"
            ],
            [
             0.3333333333333333,
             "#9c179e"
            ],
            [
             0.4444444444444444,
             "#bd3786"
            ],
            [
             0.5555555555555556,
             "#d8576b"
            ],
            [
             0.6666666666666666,
             "#ed7953"
            ],
            [
             0.7777777777777778,
             "#fb9f3a"
            ],
            [
             0.8888888888888888,
             "#fdca26"
            ],
            [
             1,
             "#f0f921"
            ]
           ],
           "sequentialminus": [
            [
             0,
             "#0d0887"
            ],
            [
             0.1111111111111111,
             "#46039f"
            ],
            [
             0.2222222222222222,
             "#7201a8"
            ],
            [
             0.3333333333333333,
             "#9c179e"
            ],
            [
             0.4444444444444444,
             "#bd3786"
            ],
            [
             0.5555555555555556,
             "#d8576b"
            ],
            [
             0.6666666666666666,
             "#ed7953"
            ],
            [
             0.7777777777777778,
             "#fb9f3a"
            ],
            [
             0.8888888888888888,
             "#fdca26"
            ],
            [
             1,
             "#f0f921"
            ]
           ]
          },
          "colorway": [
           "#636efa",
           "#EF553B",
           "#00cc96",
           "#ab63fa",
           "#FFA15A",
           "#19d3f3",
           "#FF6692",
           "#B6E880",
           "#FF97FF",
           "#FECB52"
          ],
          "font": {
           "color": "#2a3f5f"
          },
          "geo": {
           "bgcolor": "white",
           "lakecolor": "white",
           "landcolor": "#E5ECF6",
           "showlakes": true,
           "showland": true,
           "subunitcolor": "white"
          },
          "hoverlabel": {
           "align": "left"
          },
          "hovermode": "closest",
          "mapbox": {
           "style": "light"
          },
          "paper_bgcolor": "white",
          "plot_bgcolor": "#E5ECF6",
          "polar": {
           "angularaxis": {
            "gridcolor": "white",
            "linecolor": "white",
            "ticks": ""
           },
           "bgcolor": "#E5ECF6",
           "radialaxis": {
            "gridcolor": "white",
            "linecolor": "white",
            "ticks": ""
           }
          },
          "scene": {
           "xaxis": {
            "backgroundcolor": "#E5ECF6",
            "gridcolor": "white",
            "gridwidth": 2,
            "linecolor": "white",
            "showbackground": true,
            "ticks": "",
            "zerolinecolor": "white"
           },
           "yaxis": {
            "backgroundcolor": "#E5ECF6",
            "gridcolor": "white",
            "gridwidth": 2,
            "linecolor": "white",
            "showbackground": true,
            "ticks": "",
            "zerolinecolor": "white"
           },
           "zaxis": {
            "backgroundcolor": "#E5ECF6",
            "gridcolor": "white",
            "gridwidth": 2,
            "linecolor": "white",
            "showbackground": true,
            "ticks": "",
            "zerolinecolor": "white"
           }
          },
          "shapedefaults": {
           "line": {
            "color": "#2a3f5f"
           }
          },
          "ternary": {
           "aaxis": {
            "gridcolor": "white",
            "linecolor": "white",
            "ticks": ""
           },
           "baxis": {
            "gridcolor": "white",
            "linecolor": "white",
            "ticks": ""
           },
           "bgcolor": "#E5ECF6",
           "caxis": {
            "gridcolor": "white",
            "linecolor": "white",
            "ticks": ""
           }
          },
          "title": {
           "x": 0.05
          },
          "xaxis": {
           "automargin": true,
           "gridcolor": "white",
           "linecolor": "white",
           "ticks": "",
           "title": {
            "standoff": 15
           },
           "zerolinecolor": "white",
           "zerolinewidth": 2
          },
          "yaxis": {
           "automargin": true,
           "gridcolor": "white",
           "linecolor": "white",
           "ticks": "",
           "title": {
            "standoff": 15
           },
           "zerolinecolor": "white",
           "zerolinewidth": 2
          }
         }
        }
       }
      },
      "text/html": [
       "<div>\n",
       "        \n",
       "        \n",
       "            <div id=\"e8dcdcf5-ef50-4040-aa7b-35787e947133\" class=\"plotly-graph-div\" style=\"height:525px; width:100%;\"></div>\n",
       "            <script type=\"text/javascript\">\n",
       "                require([\"plotly\"], function(Plotly) {\n",
       "                    window.PLOTLYENV=window.PLOTLYENV || {};\n",
       "                    \n",
       "                if (document.getElementById(\"e8dcdcf5-ef50-4040-aa7b-35787e947133\")) {\n",
       "                    Plotly.newPlot(\n",
       "                        'e8dcdcf5-ef50-4040-aa7b-35787e947133',\n",
       "                        [{\"branchvalues\": \"total\", \"customdata\": [[\"Algeria\", 5.0], [\"Argentina\", 848.0], [\"Armenia\", 9.0], [\"Australia\", 1010.0], [\"Austria\", 94.0], [\"Bangladesh\", 130.0], [\"Belarus\", 52.0], [\"Belgium\", 42.0], [\"Bhutan\", 22.0], [\"Bolivia\", 6.0], [\"Bosnia and Herzegovina\", 24.0], [\"Botswana\", 1.0], [\"Brazil\", 1323.0], [\"Brunei Darussalam\", 21.0], [\"Bulgaria\", 149.0], [\"Burkina Faso\", 2.0], [\"Cameroon\", 1.0], [\"Canada\", 1553.0], [\"Chile\", 2473.0], [\"China\", 909.0], [\"Costa Rica\", 14.0], [\"Croatia\", 101.0], [\"Cyprus\", 21.0], [\"Denmark\", 164.0], [\"Ecuador\", 40.0], [\"El Salvador\", 10.0], [\"Estonia\", 10.0], [\"Ethiopia\", 3.0], [\"Finland\", 10.0], [\"France\", 3681.0], [\"Georgia\", 27.0], [\"Germany\", 4088.0], [\"Ghana\", 1.0], [\"Greece\", 116.0], [\"Honduras\", 2.0], [\"Hungary\", 603.0], [\"Iceland\", 28.0], [\"India\", 531.0], [\"Indonesia\", 2272.0], [\"Iraq\", 6.0], [\"Ireland\", 641.0], [\"Israel\", 459.0], [\"Italy\", 858.0], [\"Jamaica\", 3.0], [\"Japan\", 491.0], [\"Jordan\", 9.0], [\"Kazakhstan\", 103.0], [\"Kenya\", 19.0], [\"Kuwait\", 2.0], [\"Latvia\", 6.0], [\"Lithuania\", 90.0], [\"Madagascar\", 4.0], [\"Malawi\", 15.0], [\"Malaysia\", 403.0], [\"Maldives\", 2.0], [\"Mali\", 1.0], [\"Mauritius\", 3.0], [\"Mexico\", 106.0], [\"Moldova\", 7.0], [\"Mongolia\", 12.0], [\"Morocco\", 12.0], [\"Nepal\", 41.0], [\"Netherlands\", 1097.0], [\"New Zealand\", 191.0], [\"Nicaragua\", 5.0], [\"Niger\", 1.0], [\"Nigeria\", 3.0], [\"Norway\", 195.0], [\"Oman\", 2.0], [\"Pakistan\", 34.0], [\"Panama\", 13.0], [\"Paraguay\", 12.0], [\"Peru\", 48.0], [\"Philippines\", 17.0], [\"Poland\", 379.0], [\"Portugal\", 124.0], [\"Puerto Rico\", 1.0], [\"Romania\", 231.0], [\"Russian Federation\", 1266.0], [\"Rwanda\", 1.0], [\"Samoa\", 3.0], [\"Senegal\", 14.0], [\"Singapore\", 352.0], [\"Slovenia\", 31.0], [\"South Africa\", 246.0], [\"Spain\", 5665.0], [\"Sri Lanka\", 6.0], [\"Sudan\", 11.0], [\"Sweden\", 232.0], [\"Switzerland\", 179.0], [\"Tajikistan\", 1.0], [\"Tanzania\", 3.0], [\"Thailand\", 1430.0], [\"Togo\", 1.0], [\"Tunisia\", 83.0], [\"Turkey\", 897.0], [\"Uganda\", 1.0], [\"Ukraine\", 614.0], [\"United Kingdom\", 1894.0], [\"United States\", 29928.0], [\"Uruguay\", 5.0], [\"Vanuatu\", 4.0]], \"domain\": {\"x\": [0.0, 1.0], \"y\": [0.0, 1.0]}, \"hovertemplate\": \"Country=%{customdata[0]}<br>No. of Data Breaches=%{color}<br>labels=%{label}<br>No.of Secure Servers=%{value}<br>parent=%{parent}<br>id=%{id}<extra></extra>\", \"ids\": [\"Algeria\", \"Argentina\", \"Armenia\", \"Australia\", \"Austria\", \"Bangladesh\", \"Belarus\", \"Belgium\", \"Bhutan\", \"Bolivia\", \"Bosnia and Herzegovina\", \"Botswana\", \"Brazil\", \"Brunei Darussalam\", \"Bulgaria\", \"Burkina Faso\", \"Cameroon\", \"Canada\", \"Chile\", \"China\", \"Costa Rica\", \"Croatia\", \"Cyprus\", \"Denmark\", \"Ecuador\", \"El Salvador\", \"Estonia\", \"Ethiopia\", \"Finland\", \"France\", \"Georgia\", \"Germany\", \"Ghana\", \"Greece\", \"Honduras\", \"Hungary\", \"Iceland\", \"India\", \"Indonesia\", \"Iraq\", \"Ireland\", \"Israel\", \"Italy\", \"Jamaica\", \"Japan\", \"Jordan\", \"Kazakhstan\", \"Kenya\", \"Kuwait\", \"Latvia\", \"Lithuania\", \"Madagascar\", \"Malawi\", \"Malaysia\", \"Maldives\", \"Mali\", \"Mauritius\", \"Mexico\", \"Moldova\", \"Mongolia\", \"Morocco\", \"Nepal\", \"Netherlands\", \"New Zealand\", \"Nicaragua\", \"Niger\", \"Nigeria\", \"Norway\", \"Oman\", \"Pakistan\", \"Panama\", \"Paraguay\", \"Peru\", \"Philippines\", \"Poland\", \"Portugal\", \"Puerto Rico\", \"Romania\", \"Russian Federation\", \"Rwanda\", \"Samoa\", \"Senegal\", \"Singapore\", \"Slovenia\", \"South Africa\", \"Spain\", \"Sri Lanka\", \"Sudan\", \"Sweden\", \"Switzerland\", \"Tajikistan\", \"Tanzania\", \"Thailand\", \"Togo\", \"Tunisia\", \"Turkey\", \"Uganda\", \"Ukraine\", \"United Kingdom\", \"United States\", \"Uruguay\", \"Vanuatu\"], \"labels\": [\"Algeria\", \"Argentina\", \"Armenia\", \"Australia\", \"Austria\", \"Bangladesh\", \"Belarus\", \"Belgium\", \"Bhutan\", \"Bolivia\", \"Bosnia and Herzegovina\", \"Botswana\", \"Brazil\", \"Brunei Darussalam\", \"Bulgaria\", \"Burkina Faso\", \"Cameroon\", \"Canada\", \"Chile\", \"China\", \"Costa Rica\", \"Croatia\", \"Cyprus\", \"Denmark\", \"Ecuador\", \"El Salvador\", \"Estonia\", \"Ethiopia\", \"Finland\", \"France\", \"Georgia\", \"Germany\", \"Ghana\", \"Greece\", \"Honduras\", \"Hungary\", \"Iceland\", \"India\", \"Indonesia\", \"Iraq\", \"Ireland\", \"Israel\", \"Italy\", \"Jamaica\", \"Japan\", \"Jordan\", \"Kazakhstan\", \"Kenya\", \"Kuwait\", \"Latvia\", \"Lithuania\", \"Madagascar\", \"Malawi\", \"Malaysia\", \"Maldives\", \"Mali\", \"Mauritius\", \"Mexico\", \"Moldova\", \"Mongolia\", \"Morocco\", \"Nepal\", \"Netherlands\", \"New Zealand\", \"Nicaragua\", \"Niger\", \"Nigeria\", \"Norway\", \"Oman\", \"Pakistan\", \"Panama\", \"Paraguay\", \"Peru\", \"Philippines\", \"Poland\", \"Portugal\", \"Puerto Rico\", \"Romania\", \"Russian Federation\", \"Rwanda\", \"Samoa\", \"Senegal\", \"Singapore\", \"Slovenia\", \"South Africa\", \"Spain\", \"Sri Lanka\", \"Sudan\", \"Sweden\", \"Switzerland\", \"Tajikistan\", \"Tanzania\", \"Thailand\", \"Togo\", \"Tunisia\", \"Turkey\", \"Uganda\", \"Ukraine\", \"United Kingdom\", \"United States\", \"Uruguay\", \"Vanuatu\"], \"marker\": {\"coloraxis\": \"coloraxis\", \"colors\": [5.0, 848.0, 9.0, 1010.0, 94.0, 130.0, 52.0, 42.0, 22.0, 6.0, 24.0, 1.0, 1323.0, 21.0, 149.0, 2.0, 1.0, 1553.0, 2473.0, 909.0, 14.0, 101.0, 21.0, 164.0, 40.0, 10.0, 10.0, 3.0, 10.0, 3681.0, 27.0, 4088.0, 1.0, 116.0, 2.0, 603.0, 28.0, 531.0, 2272.0, 6.0, 641.0, 459.0, 858.0, 3.0, 491.0, 9.0, 103.0, 19.0, 2.0, 6.0, 90.0, 4.0, 15.0, 403.0, 2.0, 1.0, 3.0, 106.0, 7.0, 12.0, 12.0, 41.0, 1097.0, 191.0, 5.0, 1.0, 3.0, 195.0, 2.0, 34.0, 13.0, 12.0, 48.0, 17.0, 379.0, 124.0, 1.0, 231.0, 1266.0, 1.0, 3.0, 14.0, 352.0, 31.0, 246.0, 5665.0, 6.0, 11.0, 232.0, 179.0, 1.0, 3.0, 1430.0, 1.0, 83.0, 897.0, 1.0, 614.0, 1894.0, 29928.0, 5.0, 4.0]}, \"name\": \"\", \"parents\": [\"\", \"\", \"\", \"\", \"\", \"\", \"\", \"\", \"\", \"\", \"\", \"\", \"\", \"\", \"\", \"\", \"\", \"\", \"\", \"\", \"\", \"\", \"\", \"\", \"\", \"\", \"\", \"\", \"\", \"\", \"\", \"\", \"\", \"\", \"\", \"\", \"\", \"\", \"\", \"\", \"\", \"\", \"\", \"\", \"\", \"\", \"\", \"\", \"\", \"\", \"\", \"\", \"\", \"\", \"\", \"\", \"\", \"\", \"\", \"\", \"\", \"\", \"\", \"\", \"\", \"\", \"\", \"\", \"\", \"\", \"\", \"\", \"\", \"\", \"\", \"\", \"\", \"\", \"\", \"\", \"\", \"\", \"\", \"\", \"\", \"\", \"\", \"\", \"\", \"\", \"\", \"\", \"\", \"\", \"\", \"\", \"\", \"\", \"\", \"\", \"\", \"\"], \"type\": \"treemap\", \"values\": [2855.0, 83320.0, 989.0, 822020.0, 147681.0, 18712.0, 32440.0, 159673.0, 134.0, 1478.0, 6431.0, 301.0, 426560.0, 853.0, 268524.0, 50.0, 137.0, 1147057.0, 151206.0, 622142.0, 6029.0, 79937.0, 7578.0, 713512.0, 4538.0, 582.0, 64636.0, 160.0, 187523.0, 1367541.0, 8132.0, 4676435.0, 649.0, 54044.0, 717.0, 188120.0, 22843.0, 254032.0, 343412.0, 435.0, 338734.0, 85381.0, 740648.0, 451.0, 1476696.0, 1025.0, 25115.0, 11164.0, 1705.0, 27952.0, 51176.0, 143.0, 279.0, 180124.0, 270.0, 201.0, 9926.0, 28487.0, 10610.0, 5357.0, 10655.0, 5126.0, 1733183.0, 86339.0, 448.0, 11.0, 36082.0, 110946.0, 757.0, 23161.0, 8945.0, 1728.0, 8232.0, 9903.0, 616219.0, 164308.0, 1229.0, 310378.0, 749930.0, 449.0, 105.0, 272.0, 477674.0, 68476.0, 695336.0, 528944.0, 8937.0, 193.0, 189345.0, 580292.0, 249.0, 1537.0, 66225.0, 61.0, 3657.0, 356867.0, 864.0, 268976.0, 1811830.0, 21517004.0, 5432.0, 58.0]}],\n",
       "                        {\"coloraxis\": {\"colorbar\": {\"title\": {\"text\": \"No. of Data Breaches\"}}, \"colorscale\": [[0.0, \"rgb(103,0,31)\"], [0.1, \"rgb(178,24,43)\"], [0.2, \"rgb(214,96,77)\"], [0.3, \"rgb(244,165,130)\"], [0.4, \"rgb(253,219,199)\"], [0.5, \"rgb(247,247,247)\"], [0.6, \"rgb(209,229,240)\"], [0.7, \"rgb(146,197,222)\"], [0.8, \"rgb(67,147,195)\"], [0.9, \"rgb(33,102,172)\"], [1.0, \"rgb(5,48,97)\"]]}, \"legend\": {\"tracegroupgap\": 0}, \"margin\": {\"t\": 60}, \"template\": {\"data\": {\"bar\": [{\"error_x\": {\"color\": \"#2a3f5f\"}, \"error_y\": {\"color\": \"#2a3f5f\"}, \"marker\": {\"line\": {\"color\": \"#E5ECF6\", \"width\": 0.5}}, \"type\": \"bar\"}], \"barpolar\": [{\"marker\": {\"line\": {\"color\": \"#E5ECF6\", \"width\": 0.5}}, \"type\": \"barpolar\"}], \"carpet\": [{\"aaxis\": {\"endlinecolor\": \"#2a3f5f\", \"gridcolor\": \"white\", \"linecolor\": \"white\", \"minorgridcolor\": \"white\", \"startlinecolor\": \"#2a3f5f\"}, \"baxis\": {\"endlinecolor\": \"#2a3f5f\", \"gridcolor\": \"white\", \"linecolor\": \"white\", \"minorgridcolor\": \"white\", \"startlinecolor\": \"#2a3f5f\"}, \"type\": \"carpet\"}], \"choropleth\": [{\"colorbar\": {\"outlinewidth\": 0, \"ticks\": \"\"}, \"type\": \"choropleth\"}], \"contour\": [{\"colorbar\": {\"outlinewidth\": 0, \"ticks\": \"\"}, \"colorscale\": [[0.0, \"#0d0887\"], [0.1111111111111111, \"#46039f\"], [0.2222222222222222, \"#7201a8\"], [0.3333333333333333, \"#9c179e\"], [0.4444444444444444, \"#bd3786\"], [0.5555555555555556, \"#d8576b\"], [0.6666666666666666, \"#ed7953\"], [0.7777777777777778, \"#fb9f3a\"], [0.8888888888888888, \"#fdca26\"], [1.0, \"#f0f921\"]], \"type\": \"contour\"}], \"contourcarpet\": [{\"colorbar\": {\"outlinewidth\": 0, \"ticks\": \"\"}, \"type\": \"contourcarpet\"}], \"heatmap\": [{\"colorbar\": {\"outlinewidth\": 0, \"ticks\": \"\"}, \"colorscale\": [[0.0, \"#0d0887\"], [0.1111111111111111, \"#46039f\"], [0.2222222222222222, \"#7201a8\"], [0.3333333333333333, \"#9c179e\"], [0.4444444444444444, \"#bd3786\"], [0.5555555555555556, \"#d8576b\"], [0.6666666666666666, \"#ed7953\"], [0.7777777777777778, \"#fb9f3a\"], [0.8888888888888888, \"#fdca26\"], [1.0, \"#f0f921\"]], \"type\": \"heatmap\"}], \"heatmapgl\": [{\"colorbar\": {\"outlinewidth\": 0, \"ticks\": \"\"}, \"colorscale\": [[0.0, \"#0d0887\"], [0.1111111111111111, \"#46039f\"], [0.2222222222222222, \"#7201a8\"], [0.3333333333333333, \"#9c179e\"], [0.4444444444444444, \"#bd3786\"], [0.5555555555555556, \"#d8576b\"], [0.6666666666666666, \"#ed7953\"], [0.7777777777777778, \"#fb9f3a\"], [0.8888888888888888, \"#fdca26\"], [1.0, \"#f0f921\"]], \"type\": \"heatmapgl\"}], \"histogram\": [{\"marker\": {\"colorbar\": {\"outlinewidth\": 0, \"ticks\": \"\"}}, \"type\": \"histogram\"}], \"histogram2d\": [{\"colorbar\": {\"outlinewidth\": 0, \"ticks\": \"\"}, \"colorscale\": [[0.0, \"#0d0887\"], [0.1111111111111111, \"#46039f\"], [0.2222222222222222, \"#7201a8\"], [0.3333333333333333, \"#9c179e\"], [0.4444444444444444, \"#bd3786\"], [0.5555555555555556, \"#d8576b\"], [0.6666666666666666, \"#ed7953\"], [0.7777777777777778, \"#fb9f3a\"], [0.8888888888888888, \"#fdca26\"], [1.0, \"#f0f921\"]], \"type\": \"histogram2d\"}], \"histogram2dcontour\": [{\"colorbar\": {\"outlinewidth\": 0, \"ticks\": \"\"}, \"colorscale\": [[0.0, \"#0d0887\"], [0.1111111111111111, \"#46039f\"], [0.2222222222222222, \"#7201a8\"], [0.3333333333333333, \"#9c179e\"], [0.4444444444444444, \"#bd3786\"], [0.5555555555555556, \"#d8576b\"], [0.6666666666666666, \"#ed7953\"], [0.7777777777777778, \"#fb9f3a\"], [0.8888888888888888, \"#fdca26\"], [1.0, \"#f0f921\"]], \"type\": \"histogram2dcontour\"}], \"mesh3d\": [{\"colorbar\": {\"outlinewidth\": 0, \"ticks\": \"\"}, \"type\": \"mesh3d\"}], \"parcoords\": [{\"line\": {\"colorbar\": {\"outlinewidth\": 0, \"ticks\": \"\"}}, \"type\": \"parcoords\"}], \"pie\": [{\"automargin\": true, \"type\": \"pie\"}], \"scatter\": [{\"marker\": {\"colorbar\": {\"outlinewidth\": 0, \"ticks\": \"\"}}, \"type\": \"scatter\"}], \"scatter3d\": [{\"line\": {\"colorbar\": {\"outlinewidth\": 0, \"ticks\": \"\"}}, \"marker\": {\"colorbar\": {\"outlinewidth\": 0, \"ticks\": \"\"}}, \"type\": \"scatter3d\"}], \"scattercarpet\": [{\"marker\": {\"colorbar\": {\"outlinewidth\": 0, \"ticks\": \"\"}}, \"type\": \"scattercarpet\"}], \"scattergeo\": [{\"marker\": {\"colorbar\": {\"outlinewidth\": 0, \"ticks\": \"\"}}, \"type\": \"scattergeo\"}], \"scattergl\": [{\"marker\": {\"colorbar\": {\"outlinewidth\": 0, \"ticks\": \"\"}}, \"type\": \"scattergl\"}], \"scattermapbox\": [{\"marker\": {\"colorbar\": {\"outlinewidth\": 0, \"ticks\": \"\"}}, \"type\": \"scattermapbox\"}], \"scatterpolar\": [{\"marker\": {\"colorbar\": {\"outlinewidth\": 0, \"ticks\": \"\"}}, \"type\": \"scatterpolar\"}], \"scatterpolargl\": [{\"marker\": {\"colorbar\": {\"outlinewidth\": 0, \"ticks\": \"\"}}, \"type\": \"scatterpolargl\"}], \"scatterternary\": [{\"marker\": {\"colorbar\": {\"outlinewidth\": 0, \"ticks\": \"\"}}, \"type\": \"scatterternary\"}], \"surface\": [{\"colorbar\": {\"outlinewidth\": 0, \"ticks\": \"\"}, \"colorscale\": [[0.0, \"#0d0887\"], [0.1111111111111111, \"#46039f\"], [0.2222222222222222, \"#7201a8\"], [0.3333333333333333, \"#9c179e\"], [0.4444444444444444, \"#bd3786\"], [0.5555555555555556, \"#d8576b\"], [0.6666666666666666, \"#ed7953\"], [0.7777777777777778, \"#fb9f3a\"], [0.8888888888888888, \"#fdca26\"], [1.0, \"#f0f921\"]], \"type\": \"surface\"}], \"table\": [{\"cells\": {\"fill\": {\"color\": \"#EBF0F8\"}, \"line\": {\"color\": \"white\"}}, \"header\": {\"fill\": {\"color\": \"#C8D4E3\"}, \"line\": {\"color\": \"white\"}}, \"type\": \"table\"}]}, \"layout\": {\"annotationdefaults\": {\"arrowcolor\": \"#2a3f5f\", \"arrowhead\": 0, \"arrowwidth\": 1}, \"coloraxis\": {\"colorbar\": {\"outlinewidth\": 0, \"ticks\": \"\"}}, \"colorscale\": {\"diverging\": [[0, \"#8e0152\"], [0.1, \"#c51b7d\"], [0.2, \"#de77ae\"], [0.3, \"#f1b6da\"], [0.4, \"#fde0ef\"], [0.5, \"#f7f7f7\"], [0.6, \"#e6f5d0\"], [0.7, \"#b8e186\"], [0.8, \"#7fbc41\"], [0.9, \"#4d9221\"], [1, \"#276419\"]], \"sequential\": [[0.0, \"#0d0887\"], [0.1111111111111111, \"#46039f\"], [0.2222222222222222, \"#7201a8\"], [0.3333333333333333, \"#9c179e\"], [0.4444444444444444, \"#bd3786\"], [0.5555555555555556, \"#d8576b\"], [0.6666666666666666, \"#ed7953\"], [0.7777777777777778, \"#fb9f3a\"], [0.8888888888888888, \"#fdca26\"], [1.0, \"#f0f921\"]], \"sequentialminus\": [[0.0, \"#0d0887\"], [0.1111111111111111, \"#46039f\"], [0.2222222222222222, \"#7201a8\"], [0.3333333333333333, \"#9c179e\"], [0.4444444444444444, \"#bd3786\"], [0.5555555555555556, \"#d8576b\"], [0.6666666666666666, \"#ed7953\"], [0.7777777777777778, \"#fb9f3a\"], [0.8888888888888888, \"#fdca26\"], [1.0, \"#f0f921\"]]}, \"colorway\": [\"#636efa\", \"#EF553B\", \"#00cc96\", \"#ab63fa\", \"#FFA15A\", \"#19d3f3\", \"#FF6692\", \"#B6E880\", \"#FF97FF\", \"#FECB52\"], \"font\": {\"color\": \"#2a3f5f\"}, \"geo\": {\"bgcolor\": \"white\", \"lakecolor\": \"white\", \"landcolor\": \"#E5ECF6\", \"showlakes\": true, \"showland\": true, \"subunitcolor\": \"white\"}, \"hoverlabel\": {\"align\": \"left\"}, \"hovermode\": \"closest\", \"mapbox\": {\"style\": \"light\"}, \"paper_bgcolor\": \"white\", \"plot_bgcolor\": \"#E5ECF6\", \"polar\": {\"angularaxis\": {\"gridcolor\": \"white\", \"linecolor\": \"white\", \"ticks\": \"\"}, \"bgcolor\": \"#E5ECF6\", \"radialaxis\": {\"gridcolor\": \"white\", \"linecolor\": \"white\", \"ticks\": \"\"}}, \"scene\": {\"xaxis\": {\"backgroundcolor\": \"#E5ECF6\", \"gridcolor\": \"white\", \"gridwidth\": 2, \"linecolor\": \"white\", \"showbackground\": true, \"ticks\": \"\", \"zerolinecolor\": \"white\"}, \"yaxis\": {\"backgroundcolor\": \"#E5ECF6\", \"gridcolor\": \"white\", \"gridwidth\": 2, \"linecolor\": \"white\", \"showbackground\": true, \"ticks\": \"\", \"zerolinecolor\": \"white\"}, \"zaxis\": {\"backgroundcolor\": \"#E5ECF6\", \"gridcolor\": \"white\", \"gridwidth\": 2, \"linecolor\": \"white\", \"showbackground\": true, \"ticks\": \"\", \"zerolinecolor\": \"white\"}}, \"shapedefaults\": {\"line\": {\"color\": \"#2a3f5f\"}}, \"ternary\": {\"aaxis\": {\"gridcolor\": \"white\", \"linecolor\": \"white\", \"ticks\": \"\"}, \"baxis\": {\"gridcolor\": \"white\", \"linecolor\": \"white\", \"ticks\": \"\"}, \"bgcolor\": \"#E5ECF6\", \"caxis\": {\"gridcolor\": \"white\", \"linecolor\": \"white\", \"ticks\": \"\"}}, \"title\": {\"x\": 0.05}, \"xaxis\": {\"automargin\": true, \"gridcolor\": \"white\", \"linecolor\": \"white\", \"ticks\": \"\", \"title\": {\"standoff\": 15}, \"zerolinecolor\": \"white\", \"zerolinewidth\": 2}, \"yaxis\": {\"automargin\": true, \"gridcolor\": \"white\", \"linecolor\": \"white\", \"ticks\": \"\", \"title\": {\"standoff\": 15}, \"zerolinecolor\": \"white\", \"zerolinewidth\": 2}}}},\n",
       "                        {\"responsive\": true}\n",
       "                    ).then(function(){\n",
       "                            \n",
       "var gd = document.getElementById('e8dcdcf5-ef50-4040-aa7b-35787e947133');\n",
       "var x = new MutationObserver(function (mutations, observer) {{\n",
       "        var display = window.getComputedStyle(gd).display;\n",
       "        if (!display || display === 'none') {{\n",
       "            console.log([gd, 'removed!']);\n",
       "            Plotly.purge(gd);\n",
       "            observer.disconnect();\n",
       "        }}\n",
       "}});\n",
       "\n",
       "// Listen for the removal of the full notebook cells\n",
       "var notebookContainer = gd.closest('#notebook-container');\n",
       "if (notebookContainer) {{\n",
       "    x.observe(notebookContainer, {childList: true});\n",
       "}}\n",
       "\n",
       "// Listen for the clearing of the current output cell\n",
       "var outputEl = gd.closest('.output');\n",
       "if (outputEl) {{\n",
       "    x.observe(outputEl, {childList: true});\n",
       "}}\n",
       "\n",
       "                        })\n",
       "                };\n",
       "                });\n",
       "            </script>\n",
       "        </div>"
      ]
     },
     "metadata": {},
     "output_type": "display_data"
    }
   ],
   "source": [
    "fig = px.treemap(server_data_breach, path=['Country'], values='No.of Secure Servers',\n",
    "                  color='No. of Data Breaches', hover_data=['Country'],\n",
    "                  color_continuous_scale='RdBu',\n",
    "                  )\n",
    "fig.show()"
   ]
  },
  {
   "cell_type": "code",
   "execution_count": null,
   "metadata": {},
   "outputs": [],
   "source": []
  }
 ],
 "metadata": {
  "kernelspec": {
   "display_name": "Python 3",
   "language": "python",
   "name": "python3"
  },
  "language_info": {
   "codemirror_mode": {
    "name": "ipython",
    "version": 3
   },
   "file_extension": ".py",
   "mimetype": "text/x-python",
   "name": "python",
   "nbconvert_exporter": "python",
   "pygments_lexer": "ipython3",
   "version": "3.7.4"
  }
 },
 "nbformat": 4,
 "nbformat_minor": 2
}
