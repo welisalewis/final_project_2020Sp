{
 "cells": [
  {
   "cell_type": "markdown",
   "metadata": {},
   "source": [
    "# Insights Dervied through Internet Usage Worldwide\n",
    "<b>Created by : Gaganpreet Kaur Baansal, Welisa Lewis</b>"
   ]
  },
  {
   "cell_type": "markdown",
   "metadata": {},
   "source": [
    "<b>Data Sources:</b><br>\n",
    "\n",
    "    1. https://www.kaggle.com/sudalairajkumar/undata-country-profiles#country_profile_variables.csv \n",
    "    2. https://knoema.com/atlas/topics/Telecommunication/Telecomm-Services/Secure-Internet-servers \n",
    "    3. https://knoema.com/atlas/topics/Telecommunication/Internet-Users/Share-of-the-Internet-users \n",
    "    4. https://drive.google.com/file/d/0Bx1Nsg-bc9ovX0h4SnJ1SFc5Q2c/view \n",
    "       Obtained from HCR lab dataset : http://ocslab.hksecurity.net/Datasets/web-hacking-profiling \n",
    "    5. https://ourworldindata.org/grapher/number-with-depression-by-country"
   ]
  },
  {
   "cell_type": "markdown",
   "metadata": {},
   "source": [
    "<b>References:</b><br>\n",
    "    1 https://stackoverflow.com/questions/49413005/replace-multiple-substrings-in-a-pandas-series-with-a-value <br>\n",
    "    2 https://plotly.com/python/bubble-charts/ <br>\n",
    "    3 https://towardsdatascience.com/lets-make-a-map-using-geopandas-pandas-and-matplotlib-to-make-a-chloropleth-map-dddc31c1983d <br>\n",
    "    4 https://plotly.com/python/bar-charts/\n",
    "    5 https://stackoverflow.com/questions/28679930/how-to-drop-rows-from-pandas-data-frame-that-contains-a-particular-string-in-a-p <br>\n",
    "    6 https://stackoverflow.com/questions/39141856/capitalize-first-letter-of-each-word-in-the-column-python<br>\n",
    "    7 https://plotly.com/python/treemaps/ <br>\n",
    "    8 https://plotly.com/python/line-and-scatter/ <br>\n",
    "    9 https://statistics.laerd.com/statistical-guides/pearson-correlation-coefficient-statistical-guide.php"
   ]
  },
  {
   "cell_type": "markdown",
   "metadata": {},
   "source": [
    "<b>Introduction:</b>\n",
    "\n",
    "Internet is a very powerful tool today and it has been around for more than two decades now. In this project, we would like to explore some insights about countries and how they're related to internet usage. We have analyzed data to get correlations between internet usage and various other statistics of a country. Some of the insights we focused on is as follows: <br>\n",
    "<b>1. Population of a country vs Internet Usage<br>2. Internet usage vs Mental illness<br>3. GDP per capita of a country vs Internet usage of a country<br>4. Internet usage vs Security Breaches<br>5. Secure Servers in a country vs No. of Data Breaches</b><br>\n",
    "\n"
   ]
  },
  {
   "cell_type": "markdown",
   "metadata": {},
   "source": [
    "<b>Notes: </b> <br>\n",
    "\n",
    "1  Internet usage is defined as internet users as a percentage of the population\n",
    "\n",
    "2  Pearson's correlation coefficient (r) is used to determine the correlation between two variables.<br>\n",
    "2.1  If r =0 there is no correlation between the variables. <br>\n",
    "2.2  If r = 0.1 to 0.3 or r=-0.1 to -0.3 then there is a small positive or small negative correlation between the variables respectively. <br>\n",
    "2.3  If r=0.3 to 0.5 or r =-0.3 to -0.5 then there is a medium positive or medium negative correlation between the variables respectively. <br>\n",
    "2.4  If r=0.5 to 1 or r =-0.5 to -1 then there is a large positive or large negative correlation between the variables respectively."
   ]
  },
  {
   "cell_type": "code",
   "execution_count": 2,
   "metadata": {
    "pycharm": {
     "name": "#%%\n"
    }
   },
   "outputs": [
    {
     "ename": "ModuleNotFoundError",
     "evalue": "No module named 'geopandas'",
     "output_type": "error",
     "traceback": [
      "\u001b[1;31m---------------------------------------------------------------------------\u001b[0m",
      "\u001b[1;31mModuleNotFoundError\u001b[0m                       Traceback (most recent call last)",
      "\u001b[1;32m<ipython-input-2-8930b0776e1e>\u001b[0m in \u001b[0;36m<module>\u001b[1;34m\u001b[0m\n\u001b[0;32m     10\u001b[0m \u001b[1;32mimport\u001b[0m \u001b[0mwarnings\u001b[0m\u001b[1;33m\u001b[0m\u001b[1;33m\u001b[0m\u001b[0m\n\u001b[0;32m     11\u001b[0m \u001b[0mwarnings\u001b[0m\u001b[1;33m.\u001b[0m\u001b[0mfilterwarnings\u001b[0m\u001b[1;33m(\u001b[0m\u001b[1;34m'ignore'\u001b[0m\u001b[1;33m)\u001b[0m\u001b[1;33m\u001b[0m\u001b[1;33m\u001b[0m\u001b[0m\n\u001b[1;32m---> 12\u001b[1;33m \u001b[1;32mimport\u001b[0m \u001b[0mgeopandas\u001b[0m \u001b[1;32mas\u001b[0m \u001b[0mgpd\u001b[0m\u001b[1;33m\u001b[0m\u001b[1;33m\u001b[0m\u001b[0m\n\u001b[0m",
      "\u001b[1;31mModuleNotFoundError\u001b[0m: No module named 'geopandas'"
     ]
    }
   ],
   "source": [
    "#Importing all the libraries\n",
    "\n",
    "import numpy as np\n",
    "import pandas as pd\n",
    "import matplotlib.pyplot as plt\n",
    "%matplotlib inline\n",
    "\n",
    "import plotly.express as px\n",
    "import plotly.graph_objects as go\n",
    "import warnings\n",
    "warnings.filterwarnings('ignore')\n",
    "import geopandas as gpd"
   ]
  },
  {
   "cell_type": "code",
   "execution_count": 10,
   "metadata": {},
   "outputs": [],
   "source": [
    "# Main function to read all the data files\n",
    "\n",
    "if __name__ == '__main__':\n",
    "    \n",
    "    dir = \"C:/Users/welis/Desktop/final_project_2020Sp/Data/\"\n",
    "    secure_servers = pd.read_excel(dir+\"Secure_Internet_Servers_Worldwide.xlsx\")\n",
    "    internet_users = pd.read_excel(dir+\"Share_of_the_Internet_users_Worldwide.xlsx\")\n",
    "    country_profiles = pd.read_csv(dir+\"Country_Profiles.csv\")\n",
    "    data_breaches = pd.read_csv(dir+\"databreaches.csv\",encoding='latin-1')\n",
    "    mental_health_df = pd.read_csv(dir+\"number_with_depression_by_country.csv\",)\n",
    "    worldwide_internet_usage = pd.read_excel(dir+\"Individuals_using_the_Internet(Uptill 2019).xls\")"
   ]
  },
  {
   "cell_type": "code",
   "execution_count": 11,
   "metadata": {
    "pycharm": {
     "name": "#%%\n"
    }
   },
   "outputs": [],
   "source": [
    "# Writing function to remove Nan's\n",
    "\n",
    "def remove_null(dataframe):\n",
    "    \"\"\"\n",
    "    This function takes dataframe to remove the Nan values from the specific column name\n",
    "    param1: The dataframe for whose column we want to remove Nan's from\n",
    "    \n",
    "    return: The dataframe with no Nan values in the specific column\n",
    "    \"\"\"\n",
    "    dataframe = dataframe.dropna()\n",
    "    return dataframe\n",
    "    "
   ]
  },
  {
   "cell_type": "code",
   "execution_count": 12,
   "metadata": {},
   "outputs": [],
   "source": [
    "# Writing function to replacing values\n",
    "\n",
    "def replace_values(dataframe, values_dict, column_name):\n",
    "    \"\"\"\n",
    "    This function takes dataframe and the dictionary containing the specific column that we want to update the values of\n",
    "    param1: The dataframe for whose columns we want to rename\n",
    "    param2: A dictionary containing the orginal column values and the new values as the key value pair\n",
    "    param3: The column name of the dataframe whose values we want to update\n",
    "      \n",
    "    return: The dataframe with updated values in tha particular column\n",
    "    \"\"\"\n",
    "    dataframe[column_name] = dataframe[column_name].replace(values_dict, regex=True)\n",
    "    return dataframe\n",
    "    "
   ]
  },
  {
   "cell_type": "code",
   "execution_count": 13,
   "metadata": {},
   "outputs": [],
   "source": [
    "# Writing functions to rename columns\n",
    "\n",
    "def rename_columns(dataframe, column_dict):\n",
    "    \"\"\"\n",
    "    This function takes dataframe and the dictionary containing the specific column that we want to update the values of\n",
    "    param1: The dataframe for whose columns we want to rename\n",
    "    param2: A dictionary containing the orginal column name and the new name as the key value pair\n",
    "      \n",
    "    return: The dataframe with updated column name\n",
    "    \"\"\"\n",
    "    dataframe.rename(columns=column_dict, inplace=True)\n",
    "    return dataframe"
   ]
  },
  {
   "cell_type": "code",
   "execution_count": 33,
   "metadata": {},
   "outputs": [],
   "source": [
    "def plot_world_map(dataframe):\n",
    "    \"\"\"\n",
    "    This function is used to display the world map and it gives us the breakdown of internet usage all over the world.\n",
    "    The countries with darker shades have higher internet usage compared to countries with lighter shade.\n",
    "    \n",
    "    param : dataframe\n",
    "    return: plot\n",
    "    \n",
    "    \"\"\"\n",
    "    variable = \"2017\"\n",
    "    vmin, vmax = 120, 220\n",
    "\n",
    "    #Create colorbar as a legend\n",
    "    sm = plt.cm.ScalarMappable(cmap=\"PuRd\", norm=plt.Normalize(vmin=vmin, vmax=vmax))\n",
    "    #Empty array for the data range\n",
    "    sm._A = []\n",
    "\n",
    "  \n",
    "    fig = dataframe.plot(column=variable, cmap=\"Blues\",figsize=(20,20))\n",
    "    \n",
    "    plt.title(\"Internet Usage over the world\")\n",
    "    #try adding interactivity\n",
    "    return fig"
   ]
  },
  {
   "cell_type": "code",
   "execution_count": 15,
   "metadata": {},
   "outputs": [],
   "source": [
    "def plot_bar_graph(x, y, title, x_label , y_label):\n",
    "    \"\"\"\n",
    "    This function the x and y co-ordinates to plot a bar graph\n",
    "    param1: The dataframe for whom we want to plot bar graph\n",
    "    param2: The value for the x co-ordinate\n",
    "    param3: The value for the y co-ordinate\n",
    "    param4: The title of the bar graph\n",
    "    param5: The x_label of the bar graph\n",
    "    param6: The y_label of the bar graph\n",
    "      \n",
    "    return: The bar graph plot\n",
    "    \n",
    "    \"\"\"\n",
    "\n",
    "    fig, ax = plt.subplots(figsize=(15,5))\n",
    "    frequency = y\n",
    "    points = x\n",
    "    ax.bar(points, frequency)\n",
    "    ax.set_title(title)\n",
    "    ax.set_xlabel(x_label)\n",
    "    ax.set_ylabel(y_label)\n",
    "   \n",
    "    return plt\n",
    "                  \n",
    "#     plt.show()\n"
   ]
  },
  {
   "cell_type": "code",
   "execution_count": 50,
   "metadata": {},
   "outputs": [],
   "source": [
    "def scatter_plot(dataframe,x,y,color,size,hover_name,log_x,size_max):\n",
    "    \"\"\"\n",
    "    This function is used to plot a scatter plot for the GDP of a couuntry against the average internet usage over the years.\n",
    "    \n",
    "    param : Dataferame\n",
    "    \n",
    "    return:scatter plot\n",
    "    \"\"\"\n",
    "    fig = px.scatter(dataframe, x=x, y=y,\n",
    "        color=color,size= size,\n",
    "                 hover_name=hover_name, log_x=log_x, size_max=size_max)\n",
    "    \n",
    "#      fig = px.scatter(dataframe, x=\"GDP per capita (current US$)\", y=\"Average Internet usage over the years\",\n",
    "#         color=\"Country\",size= \"Average Internet usage over the years\",\n",
    "#                  hover_name=\"country\", log_x=True, size_max=60)\n",
    "#     return fig\n",
    "    return fig"
   ]
  },
  {
   "cell_type": "code",
   "execution_count": 17,
   "metadata": {},
   "outputs": [],
   "source": [
    "def data_breach_plot(dataframe):\n",
    "    \"\"\"\n",
    "    This function is used to create a scatter plot for no. of data breaches, against the average internet usage.\n",
    "    \n",
    "    param : dataframe\n",
    "    \n",
    "    return: scatter plot\n",
    "    \"\"\"\n",
    "    fig = px.scatter(dataframe, x=\"No. of Data Breaches\", y=\"Average Internet usage over the years\")\n",
    "    \n",
    "    return fig"
   ]
  },
  {
   "cell_type": "code",
   "execution_count": 18,
   "metadata": {},
   "outputs": [],
   "source": [
    "def plot_treemap(dataframe):\n",
    "    \"\"\"\n",
    "    This function is used to create a treemap for the no.of secure servers in a country against the no. of data breaches.\n",
    "    \n",
    "    param : dataframe\n",
    "    return : treemap plot\n",
    "    \n",
    "    \"\"\"\n",
    "    fig = px.treemap(dataframe, path=['Country'], values='No.of Secure Servers',\n",
    "                  color='No. of Data Breaches', hover_data=['Country'],\n",
    "                  color_continuous_scale='PuOr')\n",
    "    return fig"
   ]
  },
  {
   "cell_type": "code",
   "execution_count": 19,
   "metadata": {},
   "outputs": [],
   "source": [
    "\n",
    "def check_correlation(dataframe, col_list):\n",
    "    \"\"\"\n",
    "    This function is designed to check the correlation between two columns of a dataframe\n",
    "    param1: The dataframe for whose column we need to check the correlation\n",
    "    param2: A list of columns to check the correlation in\n",
    "    \n",
    "    return: The correlation value\n",
    "    \"\"\"\n",
    "    corr_value = dataframe[col_list[0]].corr(dataframe[col_list[1]],method =\"pearson\")\n",
    "    \n",
    "    return corr_value\n",
    "    "
   ]
  },
  {
   "cell_type": "code",
   "execution_count": 20,
   "metadata": {
    "pycharm": {
     "name": "#%%\n"
    }
   },
   "outputs": [
    {
     "ename": "NameError",
     "evalue": "name 'gpd' is not defined",
     "output_type": "error",
     "traceback": [
      "\u001b[1;31m---------------------------------------------------------------------------\u001b[0m",
      "\u001b[1;31mNameError\u001b[0m                                 Traceback (most recent call last)",
      "\u001b[1;32m<ipython-input-20-dc4c72535f9a>\u001b[0m in \u001b[0;36m<module>\u001b[1;34m\u001b[0m\n\u001b[0;32m      3\u001b[0m \u001b[0mshapefile\u001b[0m \u001b[1;33m=\u001b[0m \u001b[1;34m'C:/Users/Acer/Desktop/final_project_2020Sp/110m_cultural/ne_110m_admin_0_countries.shp'\u001b[0m\u001b[1;33m\u001b[0m\u001b[1;33m\u001b[0m\u001b[0m\n\u001b[0;32m      4\u001b[0m \u001b[1;31m#Read shapefile using Geopandas\u001b[0m\u001b[1;33m\u001b[0m\u001b[1;33m\u001b[0m\u001b[1;33m\u001b[0m\u001b[0m\n\u001b[1;32m----> 5\u001b[1;33m \u001b[0mgdf\u001b[0m \u001b[1;33m=\u001b[0m \u001b[0mgpd\u001b[0m\u001b[1;33m.\u001b[0m\u001b[0mread_file\u001b[0m\u001b[1;33m(\u001b[0m\u001b[0mshapefile\u001b[0m\u001b[1;33m)\u001b[0m\u001b[1;33m[\u001b[0m\u001b[1;33m[\u001b[0m\u001b[1;34m'ADMIN'\u001b[0m\u001b[1;33m,\u001b[0m \u001b[1;34m'ADM0_A3'\u001b[0m\u001b[1;33m,\u001b[0m \u001b[1;34m'geometry'\u001b[0m\u001b[1;33m]\u001b[0m\u001b[1;33m]\u001b[0m\u001b[1;33m\u001b[0m\u001b[1;33m\u001b[0m\u001b[0m\n\u001b[0m\u001b[0;32m      6\u001b[0m \u001b[1;31m#Rename columns.\u001b[0m\u001b[1;33m\u001b[0m\u001b[1;33m\u001b[0m\u001b[1;33m\u001b[0m\u001b[0m\n\u001b[0;32m      7\u001b[0m \u001b[0mgdf\u001b[0m\u001b[1;33m.\u001b[0m\u001b[0mhead\u001b[0m\u001b[1;33m(\u001b[0m\u001b[1;33m)\u001b[0m\u001b[1;33m\u001b[0m\u001b[1;33m\u001b[0m\u001b[0m\n",
      "\u001b[1;31mNameError\u001b[0m: name 'gpd' is not defined"
     ]
    }
   ],
   "source": [
    "# For displaying world map\n",
    "\n",
    "shapefile = 'C:/Users/Acer/Desktop/final_project_2020Sp/110m_cultural/ne_110m_admin_0_countries.shp'\n",
    "#Read shapefile using Geopandas\n",
    "gdf = gpd.read_file(shapefile)[['ADMIN', 'ADM0_A3', 'geometry']]\n",
    "#Rename columns.\n",
    "gdf.head()"
   ]
  },
  {
   "cell_type": "markdown",
   "metadata": {},
   "source": [
    "# Hypothesis 1 :"
   ]
  },
  {
   "cell_type": "markdown",
   "metadata": {},
   "source": [
    "# Hypothesis 1.1 :  We assume that countries with larger populations have greater internet usage.\n",
    "\n",
    "Our general assumption is that countries that have a larger population have more resources compared to countries with a lower population, therefore countries with larger populations have easier access to the Internet. Thus <b>we assume that countries with larger populations would have greater internet usage.</b>"
   ]
  },
  {
   "cell_type": "code",
   "execution_count": 21,
   "metadata": {
    "pycharm": {
     "name": "#%%\n"
    }
   },
   "outputs": [],
   "source": [
    "#Removing discrepancies in the country column of various dataframes\n",
    "# Sorting alphabetically\n",
    "country_profiles = country_profiles.sort_values('country')\n",
    "internet_users = internet_users.sort_values('Location')\n",
    "\n",
    "# c_df = pd.DataFrame(country_profiles['country'])\n",
    "# i_df = pd.DataFrame(internet_users['Location'])\n",
    "\n",
    "\n",
    "#Updating all the countries name\n",
    "replacement = { 'Central African Rep.' : 'Central African Republic',\n",
    "                'Congo (Dem. Rep.)' : 'Democratic Republic of the Congo',\n",
    "               \"Dem. People's Rep. of Korea\" : \"Democratic People's Republic of Korea\",\n",
    "               'Dominican Rep.': \"Dominican Rep.\" ,\n",
    "               'Falkland (Malvinas) Is.' : \"Falkland Islands (Malvinas)\",\n",
    "               'Hong Kong, China' : \"China, Hong Kong SAR\", \n",
    "               'Korea (Rep. of)' : \"Republic of Korea\",\n",
    "               'Lao P.D.R.' : \"Lao People's Democratic Republic\" , \n",
    "               'Macao, China' : \"China, Macao SAR\", \n",
    "               'Micronesia' : \"Micronesia (Federated States of)\",\n",
    "               'Nepal (Republic of)' : \"Nepal\", \n",
    "               'Swaziland (Eswatini)' : \"Swaziland\",\n",
    "               'TFYR Macedonia' : \"The former Yugoslav Republic of Macedonia\", \n",
    "               'United States' : \"United States of America\", \n",
    "               'Venezuela' : \"Venezuela (Bolivarian Republic of)\",\n",
    "               'Russian Federation' : 'Russia',\n",
    "               'Bolivia (Plurinational State of)': 'Bolivia'\n",
    "              }\n",
    "\n",
    "replacement1 = {'United States' : \"United States of America\"}\n",
    "replacement2 = {'Russian Federation' : 'Russia', \"Bolivia (Plurinational State of)\" : 'Bolivia'}\n",
    "\n",
    "colname1 = country_profiles.columns[0]\n",
    "colname2 = internet_users.columns[1]\n",
    "colname3 = mental_health_df.columns[0]\n",
    "\n",
    "country_profiles = replace_values(country_profiles, replacement2, colname1)\n",
    "internet_users= replace_values(internet_users, replacement, colname2)\n",
    "mental_health_df = replace_values(mental_health_df, replacement1, colname3)\n"
   ]
  },
  {
   "cell_type": "code",
   "execution_count": 22,
   "metadata": {
    "pycharm": {
     "name": "#%%\n"
    }
   },
   "outputs": [],
   "source": [
    "#Creating datasets as per use\n",
    "country_population = country_profiles[['country','Region','Population in thousands (2017)']]\n",
    "internet_usage = internet_users[['Location','2017']]"
   ]
  },
  {
   "cell_type": "code",
   "execution_count": 23,
   "metadata": {
    "pycharm": {
     "name": "#%%\n"
    }
   },
   "outputs": [],
   "source": [
    "#Merging the datasets to draw insights\n",
    "insights1 = country_population.merge(internet_usage,left_on=\"country\",right_on =\"Location\",how =\"left\")\n",
    "\n",
    "#Dropping all the NaN values\n",
    "insights1 = remove_null(insights1)\n"
   ]
  },
  {
   "cell_type": "code",
   "execution_count": 24,
   "metadata": {
    "pycharm": {
     "name": "#%%\n"
    }
   },
   "outputs": [
    {
     "data": {
      "image/png": "[encoded data removed]",
      "text/plain": [
       "<Figure size 1080x360 with 1 Axes>"
      ]
     },
     "metadata": {
      "needs_background": "light"
     },
     "output_type": "display_data"
    }
   ],
   "source": [
    "\n",
    "#Sorting by ascending order\n",
    "insights1 = insights1.sort_values(by = [\"Population in thousands (2017)\"], ascending =False)\n",
    "\n",
    "y = insights1[\"Population in thousands (2017)\"]\n",
    "x = insights1[\"2017\"]\n",
    "title = 'Population vs internet'\n",
    "x_label = 'Internet Users'\n",
    "y_label = 'Population'\n",
    "\n",
    "plt = plot_bar_graph(x, y, title, x_label , y_label)\n",
    "plt.show()"
   ]
  },
  {
   "cell_type": "markdown",
   "metadata": {},
   "source": [
    "<b><u>Conclusion for Hypothesis 1.1 :</u></b><br>\n",
    "<b>From the trend seen above, we can conclude that internet usage of a country does not depend on the population. So our hypothesis that countries with larger populations have higher internet usage does not hold true. On the contrary it is seen that countries with comparatively lower population have higher internet usage</b>"
   ]
  },
  {
   "cell_type": "markdown",
   "metadata": {},
   "source": [
    "# World Map indicating Internet Usage Distribution worldwide"
   ]
  },
  {
   "cell_type": "code",
   "execution_count": 25,
   "metadata": {
    "pycharm": {
     "name": "#%%\n"
    }
   },
   "outputs": [
    {
     "ename": "NameError",
     "evalue": "name 'gdf' is not defined",
     "output_type": "error",
     "traceback": [
      "\u001b[1;31m---------------------------------------------------------------------------\u001b[0m",
      "\u001b[1;31mNameError\u001b[0m                                 Traceback (most recent call last)",
      "\u001b[1;32m<ipython-input-25-7370e9e689d5>\u001b[0m in \u001b[0;36m<module>\u001b[1;34m\u001b[0m\n\u001b[0;32m      1\u001b[0m \u001b[1;31m#Creating a dataset for the world map\u001b[0m\u001b[1;33m\u001b[0m\u001b[1;33m\u001b[0m\u001b[1;33m\u001b[0m\u001b[0m\n\u001b[1;32m----> 2\u001b[1;33m \u001b[0mmerged\u001b[0m \u001b[1;33m=\u001b[0m \u001b[0mgdf\u001b[0m\u001b[1;33m.\u001b[0m\u001b[0mmerge\u001b[0m\u001b[1;33m(\u001b[0m\u001b[0minsights1\u001b[0m\u001b[1;33m,\u001b[0m \u001b[0mleft_on\u001b[0m \u001b[1;33m=\u001b[0m \u001b[1;34m'ADMIN'\u001b[0m\u001b[1;33m,\u001b[0m \u001b[0mright_on\u001b[0m \u001b[1;33m=\u001b[0m \u001b[1;34m'country'\u001b[0m\u001b[1;33m,\u001b[0m\u001b[0mhow\u001b[0m\u001b[1;33m=\u001b[0m\u001b[1;34m\"outer\"\u001b[0m\u001b[1;33m)\u001b[0m\u001b[1;33m\u001b[0m\u001b[1;33m\u001b[0m\u001b[0m\n\u001b[0m\u001b[0;32m      3\u001b[0m \u001b[0mplot_world_map\u001b[0m\u001b[1;33m(\u001b[0m\u001b[0mmerged\u001b[0m\u001b[1;33m)\u001b[0m\u001b[1;33m\u001b[0m\u001b[1;33m\u001b[0m\u001b[0m\n",
      "\u001b[1;31mNameError\u001b[0m: name 'gdf' is not defined"
     ]
    }
   ],
   "source": [
    "#Creating a dataset for the world map\n",
    "merged = gdf.merge(insights1, left_on = 'ADMIN', right_on = 'country',how=\"outer\")\n",
    "plot_world_map(merged)\n"
   ]
  },
  {
   "cell_type": "markdown",
   "metadata": {},
   "source": [
    "# Hypothesis 1.2 : There exists a trend between internet usage and mental illness (i.e the greater the number of internet users the higher the number of people having mental health disorders)\n",
    "\n",
    "The availability of Internet has caused a surge in socail media platforms over the last decade, although social media platforms have been a blessing, it certainly has a few drawbacks. One of the nagative aspects of social media platforms is it's affect on an individual's mental health. Excessive use of social media  may tend to cause anxiety, depression, stress and other forms of mental illness. Therefore we assume that there is a relationship between internet usage and mental illness."
   ]
  },
  {
   "cell_type": "code",
   "execution_count": 26,
   "metadata": {},
   "outputs": [],
   "source": [
    "# Depressive disorders - no of people having depression in millions\n",
    "# number of Internet users as % of total population\n",
    "\n",
    "year = [2017]\n",
    "mental_health_df = mental_health_df[mental_health_df['Year'].isin(year)]\n",
    "\n",
    "#Renmaing the column\n",
    "column_dict = {\"Prevalence - Depressive disorders - Sex: Both - Age: All Ages (Number) (people suffering from depression)\": 'Depressive disorders'}\n",
    "mental_health_df = rename_columns(mental_health_df, column_dict)\n",
    "\n",
    "\n",
    "country_population_2017 = country_profiles[['country','Population in thousands (2017)']]\n",
    "\n",
    "#Merging the two datasets : mental_health_df and country_population_2017\n",
    "cumulative_df = country_population_2017.merge(mental_health_df,left_on=\"country\",right_on =\"Entity\",how =\"left\")\n",
    "\n",
    "\n",
    "#Creating new column for Percentage of Depressed People\n",
    "cumulative_df = remove_null(cumulative_df)\n",
    "\n",
    "cumulative_df[\"% of Depressed People\"] = cumulative_df[\"Depressive disorders\"].div(cumulative_df[\"Population in thousands (2017)\"]).round(2)\n",
    "\n",
    "\n",
    "#Merging internet users and cumulative dataset\n",
    "cumulative_df = cumulative_df.merge(internet_usage,left_on=\"country\",right_on =\"Location\",how =\"left\")\n",
    "\n",
    "#Renmaing the column\n",
    "col_dict = {\"2017\" : '% of Internet Users'}\n",
    "cumulative_df.rename(columns={\"2017\" : '% of Internet Users'}, inplace=True)\n",
    "\n",
    "# cumulative_df = rename_columns(cumulative_df, col_dict)\n",
    "\n",
    "# Dropping NAN values\n",
    "cumulative_df = cumulative_df[pd.notnull(cumulative_df[\"Location\"])]\n",
    "\n",
    "#Dropping multilple country columns\n",
    "cumulative_df = cumulative_df.drop(columns=['Entity', 'Location'])\n",
    "\n",
    "#Rounding the values\n",
    "cumulative_df['% of Internet Users'] = cumulative_df['% of Internet Users'].round(2)\n",
    "\n",
    "#Checking correlation\n",
    "col_list = [cumulative_df.columns[5], cumulative_df.columns[6]]\n",
    "corr_value = check_correlation(cumulative_df, col_list)\n"
   ]
  },
  {
   "cell_type": "code",
   "execution_count": 27,
   "metadata": {},
   "outputs": [
    {
     "data": {
      "text/plain": [
       "0.5988824801940084"
      ]
     },
     "execution_count": 27,
     "metadata": {},
     "output_type": "execute_result"
    }
   ],
   "source": [
    "corr_value"
   ]
  },
  {
   "cell_type": "markdown",
   "metadata": {},
   "source": [
    "Acoording to pearson's correlation formula, the above correlation value indicates that the two variables have a large positive correlation. Therefore, we can say that if internet usage is high there is a larger group of individuals suffering from mental illness in that particular country."
   ]
  },
  {
   "cell_type": "code",
   "execution_count": 29,
   "metadata": {
    "pycharm": {
     "name": "#%%\n"
    }
   },
   "outputs": [
    {
     "data": {
      "application/vnd.plotly.v1+json": {
       "config": {
        "plotlyServerURL": "https://plot.ly"
       },
       "data": [
        {
         "name": "% of Depressed People",
         "type": "bar",
         "x": [
          "Bangladesh",
          "Canada",
          "India",
          "Somalia",
          "Sri Lanka",
          "United Kingdom",
          "United States of America"
         ],
         "y": [
          36.6,
          39.29,
          34.12,
          29.41,
          37.08,
          43.87,
          47.77
         ]
        },
        {
         "name": "% of Internet Users",
         "type": "bar",
         "x": [
          "Bangladesh",
          "Canada",
          "India",
          "Somalia",
          "Sri Lanka",
          "United Kingdom",
          "United States of America"
         ],
         "y": [
          15,
          91,
          34.45,
          2,
          34.11,
          94.62,
          87.27
         ]
        }
       ],
       "layout": {
        "barmode": "group",
        "template": {
         "data": {
          "bar": [
           {
            "error_x": {
             "color": "#2a3f5f"
            },
            "error_y": {
             "color": "#2a3f5f"
            },
            "marker": {
             "line": {
              "color": "#E5ECF6",
              "width": 0.5
             }
            },
            "type": "bar"
           }
          ],
          "barpolar": [
           {
            "marker": {
             "line": {
              "color": "#E5ECF6",
              "width": 0.5
             }
            },
            "type": "barpolar"
           }
          ],
          "carpet": [
           {
            "aaxis": {
             "endlinecolor": "#2a3f5f",
             "gridcolor": "white",
             "linecolor": "white",
             "minorgridcolor": "white",
             "startlinecolor": "#2a3f5f"
            },
            "baxis": {
             "endlinecolor": "#2a3f5f",
             "gridcolor": "white",
             "linecolor": "white",
             "minorgridcolor": "white",
             "startlinecolor": "#2a3f5f"
            },
            "type": "carpet"
           }
          ],
          "choropleth": [
           {
            "colorbar": {
             "outlinewidth": 0,
             "ticks": ""
            },
            "type": "choropleth"
           }
          ],
          "contour": [
           {
            "colorbar": {
             "outlinewidth": 0,
             "ticks": ""
            },
            "colorscale": [
             [
              0,
              "#0d0887"
             ],
             [
              0.1111111111111111,
              "#46039f"
             ],
             [
              0.2222222222222222,
              "#7201a8"
             ],
             [
              0.3333333333333333,
              "#9c179e"
             ],
             [
              0.4444444444444444,
              "#bd3786"
             ],
             [
              0.5555555555555556,
              "#d8576b"
             ],
             [
              0.6666666666666666,
              "#ed7953"
             ],
             [
              0.7777777777777778,
              "#fb9f3a"
             ],
             [
              0.8888888888888888,
              "#fdca26"
             ],
             [
              1,
              "#f0f921"
             ]
            ],
            "type": "contour"
           }
          ],
          "contourcarpet": [
           {
            "colorbar": {
             "outlinewidth": 0,
             "ticks": ""
            },
            "type": "contourcarpet"
           }
          ],
          "heatmap": [
           {
            "colorbar": {
             "outlinewidth": 0,
             "ticks": ""
            },
            "colorscale": [
             [
              0,
              "#0d0887"
             ],
             [
              0.1111111111111111,
              "#46039f"
             ],
             [
              0.2222222222222222,
              "#7201a8"
             ],
             [
              0.3333333333333333,
              "#9c179e"
             ],
             [
              0.4444444444444444,
              "#bd3786"
             ],
             [
              0.5555555555555556,
              "#d8576b"
             ],
             [
              0.6666666666666666,
              "#ed7953"
             ],
             [
              0.7777777777777778,
              "#fb9f3a"
             ],
             [
              0.8888888888888888,
              "#fdca26"
             ],
             [
              1,
              "#f0f921"
             ]
            ],
            "type": "heatmap"
           }
          ],
          "heatmapgl": [
           {
            "colorbar": {
             "outlinewidth": 0,
             "ticks": ""
            },
            "colorscale": [
             [
              0,
              "#0d0887"
             ],
             [
              0.1111111111111111,
              "#46039f"
             ],
             [
              0.2222222222222222,
              "#7201a8"
             ],
             [
              0.3333333333333333,
              "#9c179e"
             ],
             [
              0.4444444444444444,
              "#bd3786"
             ],
             [
              0.5555555555555556,
              "#d8576b"
             ],
             [
              0.6666666666666666,
              "#ed7953"
             ],
             [
              0.7777777777777778,
              "#fb9f3a"
             ],
             [
              0.8888888888888888,
              "#fdca26"
             ],
             [
              1,
              "#f0f921"
             ]
            ],
            "type": "heatmapgl"
           }
          ],
          "histogram": [
           {
            "marker": {
             "colorbar": {
              "outlinewidth": 0,
              "ticks": ""
             }
            },
            "type": "histogram"
           }
          ],
          "histogram2d": [
           {
            "colorbar": {
             "outlinewidth": 0,
             "ticks": ""
            },
            "colorscale": [
             [
              0,
              "#0d0887"
             ],
             [
              0.1111111111111111,
              "#46039f"
             ],
             [
              0.2222222222222222,
              "#7201a8"
             ],
             [
              0.3333333333333333,
              "#9c179e"
             ],
             [
              0.4444444444444444,
              "#bd3786"
             ],
             [
              0.5555555555555556,
              "#d8576b"
             ],
             [
              0.6666666666666666,
              "#ed7953"
             ],
             [
              0.7777777777777778,
              "#fb9f3a"
             ],
             [
              0.8888888888888888,
              "#fdca26"
             ],
             [
              1,
              "#f0f921"
             ]
            ],
            "type": "histogram2d"
           }
          ],
          "histogram2dcontour": [
           {
            "colorbar": {
             "outlinewidth": 0,
             "ticks": ""
            },
            "colorscale": [
             [
              0,
              "#0d0887"
             ],
             [
              0.1111111111111111,
              "#46039f"
             ],
             [
              0.2222222222222222,
              "#7201a8"
             ],
             [
              0.3333333333333333,
              "#9c179e"
             ],
             [
              0.4444444444444444,
              "#bd3786"
             ],
             [
              0.5555555555555556,
              "#d8576b"
             ],
             [
              0.6666666666666666,
              "#ed7953"
             ],
             [
              0.7777777777777778,
              "#fb9f3a"
             ],
             [
              0.8888888888888888,
              "#fdca26"
             ],
             [
              1,
              "#f0f921"
             ]
            ],
            "type": "histogram2dcontour"
           }
          ],
          "mesh3d": [
           {
            "colorbar": {
             "outlinewidth": 0,
             "ticks": ""
            },
            "type": "mesh3d"
           }
          ],
          "parcoords": [
           {
            "line": {
             "colorbar": {
              "outlinewidth": 0,
              "ticks": ""
             }
            },
            "type": "parcoords"
           }
          ],
          "pie": [
           {
            "automargin": true,
            "type": "pie"
           }
          ],
          "scatter": [
           {
            "marker": {
             "colorbar": {
              "outlinewidth": 0,
              "ticks": ""
             }
            },
            "type": "scatter"
           }
          ],
          "scatter3d": [
           {
            "line": {
             "colorbar": {
              "outlinewidth": 0,
              "ticks": ""
             }
            },
            "marker": {
             "colorbar": {
              "outlinewidth": 0,
              "ticks": ""
             }
            },
            "type": "scatter3d"
           }
          ],
          "scattercarpet": [
           {
            "marker": {
             "colorbar": {
              "outlinewidth": 0,
              "ticks": ""
             }
            },
            "type": "scattercarpet"
           }
          ],
          "scattergeo": [
           {
            "marker": {
             "colorbar": {
              "outlinewidth": 0,
              "ticks": ""
             }
            },
            "type": "scattergeo"
           }
          ],
          "scattergl": [
           {
            "marker": {
             "colorbar": {
              "outlinewidth": 0,
              "ticks": ""
             }
            },
            "type": "scattergl"
           }
          ],
          "scattermapbox": [
           {
            "marker": {
             "colorbar": {
              "outlinewidth": 0,
              "ticks": ""
             }
            },
            "type": "scattermapbox"
           }
          ],
          "scatterpolar": [
           {
            "marker": {
             "colorbar": {
              "outlinewidth": 0,
              "ticks": ""
             }
            },
            "type": "scatterpolar"
           }
          ],
          "scatterpolargl": [
           {
            "marker": {
             "colorbar": {
              "outlinewidth": 0,
              "ticks": ""
             }
            },
            "type": "scatterpolargl"
           }
          ],
          "scatterternary": [
           {
            "marker": {
             "colorbar": {
              "outlinewidth": 0,
              "ticks": ""
             }
            },
            "type": "scatterternary"
           }
          ],
          "surface": [
           {
            "colorbar": {
             "outlinewidth": 0,
             "ticks": ""
            },
            "colorscale": [
             [
              0,
              "#0d0887"
             ],
             [
              0.1111111111111111,
              "#46039f"
             ],
             [
              0.2222222222222222,
              "#7201a8"
             ],
             [
              0.3333333333333333,
              "#9c179e"
             ],
             [
              0.4444444444444444,
              "#bd3786"
             ],
             [
              0.5555555555555556,
              "#d8576b"
             ],
             [
              0.6666666666666666,
              "#ed7953"
             ],
             [
              0.7777777777777778,
              "#fb9f3a"
             ],
             [
              0.8888888888888888,
              "#fdca26"
             ],
             [
              1,
              "#f0f921"
             ]
            ],
            "type": "surface"
           }
          ],
          "table": [
           {
            "cells": {
             "fill": {
              "color": "#EBF0F8"
             },
             "line": {
              "color": "white"
             }
            },
            "header": {
             "fill": {
              "color": "#C8D4E3"
             },
             "line": {
              "color": "white"
             }
            },
            "type": "table"
           }
          ]
         },
         "layout": {
          "annotationdefaults": {
           "arrowcolor": "#2a3f5f",
           "arrowhead": 0,
           "arrowwidth": 1
          },
          "coloraxis": {
           "colorbar": {
            "outlinewidth": 0,
            "ticks": ""
           }
          },
          "colorscale": {
           "diverging": [
            [
             0,
             "#8e0152"
            ],
            [
             0.1,
             "#c51b7d"
            ],
            [
             0.2,
             "#de77ae"
            ],
            [
             0.3,
             "#f1b6da"
            ],
            [
             0.4,
             "#fde0ef"
            ],
            [
             0.5,
             "#f7f7f7"
            ],
            [
             0.6,
             "#e6f5d0"
            ],
            [
             0.7,
             "#b8e186"
            ],
            [
             0.8,
             "#7fbc41"
            ],
            [
             0.9,
             "#4d9221"
            ],
            [
             1,
             "#276419"
            ]
           ],
           "sequential": [
            [
             0,
             "#0d0887"
            ],
            [
             0.1111111111111111,
             "#46039f"
            ],
            [
             0.2222222222222222,
             "#7201a8"
            ],
            [
             0.3333333333333333,
             "#9c179e"
            ],
            [
             0.4444444444444444,
             "#bd3786"
            ],
            [
             0.5555555555555556,
             "#d8576b"
            ],
            [
             0.6666666666666666,
             "#ed7953"
            ],
            [
             0.7777777777777778,
             "#fb9f3a"
            ],
            [
             0.8888888888888888,
             "#fdca26"
            ],
            [
             1,
             "#f0f921"
            ]
           ],
           "sequentialminus": [
            [
             0,
             "#0d0887"
            ],
            [
             0.1111111111111111,
             "#46039f"
            ],
            [
             0.2222222222222222,
             "#7201a8"
            ],
            [
             0.3333333333333333,
             "#9c179e"
            ],
            [
             0.4444444444444444,
             "#bd3786"
            ],
            [
             0.5555555555555556,
             "#d8576b"
            ],
            [
             0.6666666666666666,
             "#ed7953"
            ],
            [
             0.7777777777777778,
             "#fb9f3a"
            ],
            [
             0.8888888888888888,
             "#fdca26"
            ],
            [
             1,
             "#f0f921"
            ]
           ]
          },
          "colorway": [
           "#636efa",
           "#EF553B",
           "#00cc96",
           "#ab63fa",
           "#FFA15A",
           "#19d3f3",
           "#FF6692",
           "#B6E880",
           "#FF97FF",
           "#FECB52"
          ],
          "font": {
           "color": "#2a3f5f"
          },
          "geo": {
           "bgcolor": "white",
           "lakecolor": "white",
           "landcolor": "#E5ECF6",
           "showlakes": true,
           "showland": true,
           "subunitcolor": "white"
          },
          "hoverlabel": {
           "align": "left"
          },
          "hovermode": "closest",
          "mapbox": {
           "style": "light"
          },
          "paper_bgcolor": "white",
          "plot_bgcolor": "#E5ECF6",
          "polar": {
           "angularaxis": {
            "gridcolor": "white",
            "linecolor": "white",
            "ticks": ""
           },
           "bgcolor": "#E5ECF6",
           "radialaxis": {
            "gridcolor": "white",
            "linecolor": "white",
            "ticks": ""
           }
          },
          "scene": {
           "xaxis": {
            "backgroundcolor": "#E5ECF6",
            "gridcolor": "white",
            "gridwidth": 2,
            "linecolor": "white",
            "showbackground": true,
            "ticks": "",
            "zerolinecolor": "white"
           },
           "yaxis": {
            "backgroundcolor": "#E5ECF6",
            "gridcolor": "white",
            "gridwidth": 2,
            "linecolor": "white",
            "showbackground": true,
            "ticks": "",
            "zerolinecolor": "white"
           },
           "zaxis": {
            "backgroundcolor": "#E5ECF6",
            "gridcolor": "white",
            "gridwidth": 2,
            "linecolor": "white",
            "showbackground": true,
            "ticks": "",
            "zerolinecolor": "white"
           }
          },
          "shapedefaults": {
           "line": {
            "color": "#2a3f5f"
           }
          },
          "ternary": {
           "aaxis": {
            "gridcolor": "white",
            "linecolor": "white",
            "ticks": ""
           },
           "baxis": {
            "gridcolor": "white",
            "linecolor": "white",
            "ticks": ""
           },
           "bgcolor": "#E5ECF6",
           "caxis": {
            "gridcolor": "white",
            "linecolor": "white",
            "ticks": ""
           }
          },
          "title": {
           "x": 0.05
          },
          "xaxis": {
           "automargin": true,
           "gridcolor": "white",
           "linecolor": "white",
           "ticks": "",
           "title": {
            "standoff": 15
           },
           "zerolinecolor": "white",
           "zerolinewidth": 2
          },
          "yaxis": {
           "automargin": true,
           "gridcolor": "white",
           "linecolor": "white",
           "ticks": "",
           "title": {
            "standoff": 15
           },
           "zerolinecolor": "white",
           "zerolinewidth": 2
          }
         }
        }
       }
      },
      "text/html": [
       "<div>\n",
       "        \n",
       "        \n",
       "            <div id=\"8b2b555b-b201-4c97-a594-c459e43539c3\" class=\"plotly-graph-div\" style=\"height:525px; width:100%;\"></div>\n",
       "            <script type=\"text/javascript\">\n",
       "                require([\"plotly\"], function(Plotly) {\n",
       "                    window.PLOTLYENV=window.PLOTLYENV || {};\n",
       "                    \n",
       "                if (document.getElementById(\"8b2b555b-b201-4c97-a594-c459e43539c3\")) {\n",
       "                    Plotly.newPlot(\n",
       "                        '8b2b555b-b201-4c97-a594-c459e43539c3',\n",
       "                        [{\"name\": \"% of Depressed People\", \"type\": \"bar\", \"x\": [\"Bangladesh\", \"Canada\", \"India\", \"Somalia\", \"Sri Lanka\", \"United Kingdom\", \"United States of America\"], \"y\": [36.6, 39.29, 34.12, 29.41, 37.08, 43.87, 47.77]}, {\"name\": \"% of Internet Users\", \"type\": \"bar\", \"x\": [\"Bangladesh\", \"Canada\", \"India\", \"Somalia\", \"Sri Lanka\", \"United Kingdom\", \"United States of America\"], \"y\": [15.0, 91.0, 34.45, 2.0, 34.11, 94.62, 87.27]}],\n",
       "                        {\"barmode\": \"group\", \"template\": {\"data\": {\"bar\": [{\"error_x\": {\"color\": \"#2a3f5f\"}, \"error_y\": {\"color\": \"#2a3f5f\"}, \"marker\": {\"line\": {\"color\": \"#E5ECF6\", \"width\": 0.5}}, \"type\": \"bar\"}], \"barpolar\": [{\"marker\": {\"line\": {\"color\": \"#E5ECF6\", \"width\": 0.5}}, \"type\": \"barpolar\"}], \"carpet\": [{\"aaxis\": {\"endlinecolor\": \"#2a3f5f\", \"gridcolor\": \"white\", \"linecolor\": \"white\", \"minorgridcolor\": \"white\", \"startlinecolor\": \"#2a3f5f\"}, \"baxis\": {\"endlinecolor\": \"#2a3f5f\", \"gridcolor\": \"white\", \"linecolor\": \"white\", \"minorgridcolor\": \"white\", \"startlinecolor\": \"#2a3f5f\"}, \"type\": \"carpet\"}], \"choropleth\": [{\"colorbar\": {\"outlinewidth\": 0, \"ticks\": \"\"}, \"type\": \"choropleth\"}], \"contour\": [{\"colorbar\": {\"outlinewidth\": 0, \"ticks\": \"\"}, \"colorscale\": [[0.0, \"#0d0887\"], [0.1111111111111111, \"#46039f\"], [0.2222222222222222, \"#7201a8\"], [0.3333333333333333, \"#9c179e\"], [0.4444444444444444, \"#bd3786\"], [0.5555555555555556, \"#d8576b\"], [0.6666666666666666, \"#ed7953\"], [0.7777777777777778, \"#fb9f3a\"], [0.8888888888888888, \"#fdca26\"], [1.0, \"#f0f921\"]], \"type\": \"contour\"}], \"contourcarpet\": [{\"colorbar\": {\"outlinewidth\": 0, \"ticks\": \"\"}, \"type\": \"contourcarpet\"}], \"heatmap\": [{\"colorbar\": {\"outlinewidth\": 0, \"ticks\": \"\"}, \"colorscale\": [[0.0, \"#0d0887\"], [0.1111111111111111, \"#46039f\"], [0.2222222222222222, \"#7201a8\"], [0.3333333333333333, \"#9c179e\"], [0.4444444444444444, \"#bd3786\"], [0.5555555555555556, \"#d8576b\"], [0.6666666666666666, \"#ed7953\"], [0.7777777777777778, \"#fb9f3a\"], [0.8888888888888888, \"#fdca26\"], [1.0, \"#f0f921\"]], \"type\": \"heatmap\"}], \"heatmapgl\": [{\"colorbar\": {\"outlinewidth\": 0, \"ticks\": \"\"}, \"colorscale\": [[0.0, \"#0d0887\"], [0.1111111111111111, \"#46039f\"], [0.2222222222222222, \"#7201a8\"], [0.3333333333333333, \"#9c179e\"], [0.4444444444444444, \"#bd3786\"], [0.5555555555555556, \"#d8576b\"], [0.6666666666666666, \"#ed7953\"], [0.7777777777777778, \"#fb9f3a\"], [0.8888888888888888, \"#fdca26\"], [1.0, \"#f0f921\"]], \"type\": \"heatmapgl\"}], \"histogram\": [{\"marker\": {\"colorbar\": {\"outlinewidth\": 0, \"ticks\": \"\"}}, \"type\": \"histogram\"}], \"histogram2d\": [{\"colorbar\": {\"outlinewidth\": 0, \"ticks\": \"\"}, \"colorscale\": [[0.0, \"#0d0887\"], [0.1111111111111111, \"#46039f\"], [0.2222222222222222, \"#7201a8\"], [0.3333333333333333, \"#9c179e\"], [0.4444444444444444, \"#bd3786\"], [0.5555555555555556, \"#d8576b\"], [0.6666666666666666, \"#ed7953\"], [0.7777777777777778, \"#fb9f3a\"], [0.8888888888888888, \"#fdca26\"], [1.0, \"#f0f921\"]], \"type\": \"histogram2d\"}], \"histogram2dcontour\": [{\"colorbar\": {\"outlinewidth\": 0, \"ticks\": \"\"}, \"colorscale\": [[0.0, \"#0d0887\"], [0.1111111111111111, \"#46039f\"], [0.2222222222222222, \"#7201a8\"], [0.3333333333333333, \"#9c179e\"], [0.4444444444444444, \"#bd3786\"], [0.5555555555555556, \"#d8576b\"], [0.6666666666666666, \"#ed7953\"], [0.7777777777777778, \"#fb9f3a\"], [0.8888888888888888, \"#fdca26\"], [1.0, \"#f0f921\"]], \"type\": \"histogram2dcontour\"}], \"mesh3d\": [{\"colorbar\": {\"outlinewidth\": 0, \"ticks\": \"\"}, \"type\": \"mesh3d\"}], \"parcoords\": [{\"line\": {\"colorbar\": {\"outlinewidth\": 0, \"ticks\": \"\"}}, \"type\": \"parcoords\"}], \"pie\": [{\"automargin\": true, \"type\": \"pie\"}], \"scatter\": [{\"marker\": {\"colorbar\": {\"outlinewidth\": 0, \"ticks\": \"\"}}, \"type\": \"scatter\"}], \"scatter3d\": [{\"line\": {\"colorbar\": {\"outlinewidth\": 0, \"ticks\": \"\"}}, \"marker\": {\"colorbar\": {\"outlinewidth\": 0, \"ticks\": \"\"}}, \"type\": \"scatter3d\"}], \"scattercarpet\": [{\"marker\": {\"colorbar\": {\"outlinewidth\": 0, \"ticks\": \"\"}}, \"type\": \"scattercarpet\"}], \"scattergeo\": [{\"marker\": {\"colorbar\": {\"outlinewidth\": 0, \"ticks\": \"\"}}, \"type\": \"scattergeo\"}], \"scattergl\": [{\"marker\": {\"colorbar\": {\"outlinewidth\": 0, \"ticks\": \"\"}}, \"type\": \"scattergl\"}], \"scattermapbox\": [{\"marker\": {\"colorbar\": {\"outlinewidth\": 0, \"ticks\": \"\"}}, \"type\": \"scattermapbox\"}], \"scatterpolar\": [{\"marker\": {\"colorbar\": {\"outlinewidth\": 0, \"ticks\": \"\"}}, \"type\": \"scatterpolar\"}], \"scatterpolargl\": [{\"marker\": {\"colorbar\": {\"outlinewidth\": 0, \"ticks\": \"\"}}, \"type\": \"scatterpolargl\"}], \"scatterternary\": [{\"marker\": {\"colorbar\": {\"outlinewidth\": 0, \"ticks\": \"\"}}, \"type\": \"scatterternary\"}], \"surface\": [{\"colorbar\": {\"outlinewidth\": 0, \"ticks\": \"\"}, \"colorscale\": [[0.0, \"#0d0887\"], [0.1111111111111111, \"#46039f\"], [0.2222222222222222, \"#7201a8\"], [0.3333333333333333, \"#9c179e\"], [0.4444444444444444, \"#bd3786\"], [0.5555555555555556, \"#d8576b\"], [0.6666666666666666, \"#ed7953\"], [0.7777777777777778, \"#fb9f3a\"], [0.8888888888888888, \"#fdca26\"], [1.0, \"#f0f921\"]], \"type\": \"surface\"}], \"table\": [{\"cells\": {\"fill\": {\"color\": \"#EBF0F8\"}, \"line\": {\"color\": \"white\"}}, \"header\": {\"fill\": {\"color\": \"#C8D4E3\"}, \"line\": {\"color\": \"white\"}}, \"type\": \"table\"}]}, \"layout\": {\"annotationdefaults\": {\"arrowcolor\": \"#2a3f5f\", \"arrowhead\": 0, \"arrowwidth\": 1}, \"coloraxis\": {\"colorbar\": {\"outlinewidth\": 0, \"ticks\": \"\"}}, \"colorscale\": {\"diverging\": [[0, \"#8e0152\"], [0.1, \"#c51b7d\"], [0.2, \"#de77ae\"], [0.3, \"#f1b6da\"], [0.4, \"#fde0ef\"], [0.5, \"#f7f7f7\"], [0.6, \"#e6f5d0\"], [0.7, \"#b8e186\"], [0.8, \"#7fbc41\"], [0.9, \"#4d9221\"], [1, \"#276419\"]], \"sequential\": [[0.0, \"#0d0887\"], [0.1111111111111111, \"#46039f\"], [0.2222222222222222, \"#7201a8\"], [0.3333333333333333, \"#9c179e\"], [0.4444444444444444, \"#bd3786\"], [0.5555555555555556, \"#d8576b\"], [0.6666666666666666, \"#ed7953\"], [0.7777777777777778, \"#fb9f3a\"], [0.8888888888888888, \"#fdca26\"], [1.0, \"#f0f921\"]], \"sequentialminus\": [[0.0, \"#0d0887\"], [0.1111111111111111, \"#46039f\"], [0.2222222222222222, \"#7201a8\"], [0.3333333333333333, \"#9c179e\"], [0.4444444444444444, \"#bd3786\"], [0.5555555555555556, \"#d8576b\"], [0.6666666666666666, \"#ed7953\"], [0.7777777777777778, \"#fb9f3a\"], [0.8888888888888888, \"#fdca26\"], [1.0, \"#f0f921\"]]}, \"colorway\": [\"#636efa\", \"#EF553B\", \"#00cc96\", \"#ab63fa\", \"#FFA15A\", \"#19d3f3\", \"#FF6692\", \"#B6E880\", \"#FF97FF\", \"#FECB52\"], \"font\": {\"color\": \"#2a3f5f\"}, \"geo\": {\"bgcolor\": \"white\", \"lakecolor\": \"white\", \"landcolor\": \"#E5ECF6\", \"showlakes\": true, \"showland\": true, \"subunitcolor\": \"white\"}, \"hoverlabel\": {\"align\": \"left\"}, \"hovermode\": \"closest\", \"mapbox\": {\"style\": \"light\"}, \"paper_bgcolor\": \"white\", \"plot_bgcolor\": \"#E5ECF6\", \"polar\": {\"angularaxis\": {\"gridcolor\": \"white\", \"linecolor\": \"white\", \"ticks\": \"\"}, \"bgcolor\": \"#E5ECF6\", \"radialaxis\": {\"gridcolor\": \"white\", \"linecolor\": \"white\", \"ticks\": \"\"}}, \"scene\": {\"xaxis\": {\"backgroundcolor\": \"#E5ECF6\", \"gridcolor\": \"white\", \"gridwidth\": 2, \"linecolor\": \"white\", \"showbackground\": true, \"ticks\": \"\", \"zerolinecolor\": \"white\"}, \"yaxis\": {\"backgroundcolor\": \"#E5ECF6\", \"gridcolor\": \"white\", \"gridwidth\": 2, \"linecolor\": \"white\", \"showbackground\": true, \"ticks\": \"\", \"zerolinecolor\": \"white\"}, \"zaxis\": {\"backgroundcolor\": \"#E5ECF6\", \"gridcolor\": \"white\", \"gridwidth\": 2, \"linecolor\": \"white\", \"showbackground\": true, \"ticks\": \"\", \"zerolinecolor\": \"white\"}}, \"shapedefaults\": {\"line\": {\"color\": \"#2a3f5f\"}}, \"ternary\": {\"aaxis\": {\"gridcolor\": \"white\", \"linecolor\": \"white\", \"ticks\": \"\"}, \"baxis\": {\"gridcolor\": \"white\", \"linecolor\": \"white\", \"ticks\": \"\"}, \"bgcolor\": \"#E5ECF6\", \"caxis\": {\"gridcolor\": \"white\", \"linecolor\": \"white\", \"ticks\": \"\"}}, \"title\": {\"x\": 0.05}, \"xaxis\": {\"automargin\": true, \"gridcolor\": \"white\", \"linecolor\": \"white\", \"ticks\": \"\", \"title\": {\"standoff\": 15}, \"zerolinecolor\": \"white\", \"zerolinewidth\": 2}, \"yaxis\": {\"automargin\": true, \"gridcolor\": \"white\", \"linecolor\": \"white\", \"ticks\": \"\", \"title\": {\"standoff\": 15}, \"zerolinecolor\": \"white\", \"zerolinewidth\": 2}}}},\n",
       "                        {\"responsive\": true}\n",
       "                    ).then(function(){\n",
       "                            \n",
       "var gd = document.getElementById('8b2b555b-b201-4c97-a594-c459e43539c3');\n",
       "var x = new MutationObserver(function (mutations, observer) {{\n",
       "        var display = window.getComputedStyle(gd).display;\n",
       "        if (!display || display === 'none') {{\n",
       "            console.log([gd, 'removed!']);\n",
       "            Plotly.purge(gd);\n",
       "            observer.disconnect();\n",
       "        }}\n",
       "}});\n",
       "\n",
       "// Listen for the removal of the full notebook cells\n",
       "var notebookContainer = gd.closest('#notebook-container');\n",
       "if (notebookContainer) {{\n",
       "    x.observe(notebookContainer, {childList: true});\n",
       "}}\n",
       "\n",
       "// Listen for the clearing of the current output cell\n",
       "var outputEl = gd.closest('.output');\n",
       "if (outputEl) {{\n",
       "    x.observe(outputEl, {childList: true});\n",
       "}}\n",
       "\n",
       "                        })\n",
       "                };\n",
       "                });\n",
       "            </script>\n",
       "        </div>"
      ]
     },
     "metadata": {},
     "output_type": "display_data"
    }
   ],
   "source": [
    "countries = [ 'Canada', 'Bangladesh', 'India','United Kingdom', 'United States of America', 'Somalia', 'Sri Lanka']\n",
    "\n",
    "Specific_country_df = cumulative_df.loc[cumulative_df['country'].isin(countries)]\n",
    "\n",
    "Specific_country_df = Specific_country_df[['country', '% of Depressed People', '% of Internet Users']]\n",
    "\n",
    "countries = [ 'Bangladesh', 'Canada', 'India','Somalia', 'Sri Lanka','United Kingdom', 'United States of America']\n",
    "\n",
    "fig = go.Figure(data=[\n",
    "    go.Bar(name='% of Depressed People', x=countries, y=[36.60, 39.29, 34.12 , 29.41, 37.08, 43.87, 47.77]),\n",
    "    go.Bar(name='% of Internet Users', x=countries, y=[15.00, 91.00,34.45, 2.00, 34.11, 94.62, 87.27])\n",
    "])\n",
    "# Change the bar mode\n",
    "fig.update_layout(barmode='group')\n",
    "fig.show()"
   ]
  },
  {
   "cell_type": "markdown",
   "metadata": {},
   "source": [
    "<u><b>Conclusion for Hypothesis 1.2:</u></b><br>\n",
    "<b>Through our analysis, we found that the no. of depressed people and the no. of internet users in a country have a large positive correlationship. From the visualization above, we can see that there are a few countries that have a larger no. of internet users compared to no. of depressed people and vice versa. Therefore our hypothesis that the greater the number of internet users in a country the greater the no. of individuals affected by mental illness does holds true for the countries.</b>"
   ]
  },
  {
   "cell_type": "markdown",
   "metadata": {},
   "source": [
    "# Hypothesis 1.3 : There is a positive correlation between the GDP per capita of a country and internet users of that country.\n",
    "\n",
    "We assume that the countries which have higher GDP per capita values are categorized as developing countries, such devloped or dveloping countries have easier access to the Internet. Threfore therefore there would be a positive correlation between the GDP per capita of a country and it's internet usage.\n",
    " "
   ]
  },
  {
   "cell_type": "code",
   "execution_count": 31,
   "metadata": {
    "pycharm": {
     "name": "#%%\n"
    }
   },
   "outputs": [],
   "source": [
    "country_GDP = country_profiles[['country','GDP per capita (current US$)','Population in thousands (2017)']]\n",
    "sum_int_users = internet_users.iloc[:,1:].sum(axis=1)\n",
    "average_int_usage = sum_int_users.div(11)\n",
    "location = internet_users[\"Location\"]\n",
    "insights2= pd.concat([location, average_int_usage], axis=1)\n",
    "insights2.columns = [\"Country\",\"Average Internet usage over the years\"]\n",
    "GDP_vs_int_usage = insights2.merge(country_GDP,left_on=\"Country\",right_on=\"country\",how=\"left\")"
   ]
  },
  {
   "cell_type": "code",
   "execution_count": 52,
   "metadata": {
    "pycharm": {
     "name": "#%%\n"
    }
   },
   "outputs": [
    {
     "data": {
      "application/vnd.plotly.v1+json": {
       "config": {
        "plotlyServerURL": "https://plot.ly"
       },
       "data": [
        {
         "hovertemplate": "<b>%{hovertext}</b><br><br>Country=Afghanistan<br>GDP per capita (current US$)=%{x}<br>Average Internet usage over the years=%{marker.size}<extra></extra>",
         "hovertext": [
          "Afghanistan"
         ],
         "legendgroup": "Afghanistan",
         "marker": {
          "color": "#636efa",
          "size": [
           5.594426685297288
          ],
          "sizemode": "area",
          "sizeref": 0.025361307840186014,
          "symbol": "circle"
         },
         "mode": "markers",
         "name": "Afghanistan",
         "showlegend": true,
         "type": "scatter",
         "x": [
          623.2
         ],
         "xaxis": "x",
         "y": [
          5.594426685297288
         ],
         "yaxis": "y"
        },
        {
         "hovertemplate": "<b>%{hovertext}</b><br><br>Country=Albania<br>GDP per capita (current US$)=%{x}<br>Average Internet usage over the years=%{marker.size}<extra></extra>",
         "hovertext": [
          "Albania"
         ],
         "legendgroup": "Albania",
         "marker": {
          "color": "#EF553B",
          "size": [
           43.05248774117164
          ],
          "sizemode": "area",
          "sizeref": 0.025361307840186014,
          "symbol": "circle"
         },
         "mode": "markers",
         "name": "Albania",
         "showlegend": true,
         "type": "scatter",
         "x": [
          3984.2
         ],
         "xaxis": "x",
         "y": [
          43.05248774117164
         ],
         "yaxis": "y"
        },
        {
         "hovertemplate": "<b>%{hovertext}</b><br><br>Country=Algeria<br>GDP per capita (current US$)=%{x}<br>Average Internet usage over the years=%{marker.size}<extra></extra>",
         "hovertext": [
          "Algeria"
         ],
         "legendgroup": "Algeria",
         "marker": {
          "color": "#00cc96",
          "size": [
           26.577446778483168
          ],
          "sizemode": "area",
          "sizeref": 0.025361307840186014,
          "symbol": "circle"
         },
         "mode": "markers",
         "name": "Algeria",
         "showlegend": true,
         "type": "scatter",
         "x": [
          4154.1
         ],
         "xaxis": "x",
         "y": [
          26.577446778483168
         ],
         "yaxis": "y"
        },
        {
         "hovertemplate": "<b>%{hovertext}</b><br><br>Country=Andorra<br>GDP per capita (current US$)=%{x}<br>Average Internet usage over the years=%{marker.size}<extra></extra>",
         "hovertext": [
          "Andorra"
         ],
         "legendgroup": "Andorra",
         "marker": {
          "color": "#ab63fa",
          "size": [
           70.26246641752975
          ],
          "sizemode": "area",
          "sizeref": 0.025361307840186014,
          "symbol": "circle"
         },
         "mode": "markers",
         "name": "Andorra",
         "showlegend": true,
         "type": "scatter",
         "x": [
          39896.4
         ],
         "xaxis": "x",
         "y": [
          70.26246641752975
         ],
         "yaxis": "y"
        },
        {
         "hovertemplate": "<b>%{hovertext}</b><br><br>Country=Angola<br>GDP per capita (current US$)=%{x}<br>Average Internet usage over the years=%{marker.size}<extra></extra>",
         "hovertext": [
          "Angola"
         ],
         "legendgroup": "Angola",
         "marker": {
          "color": "#FFA15A",
          "size": [
           6.589771977581924
          ],
          "sizemode": "area",
          "sizeref": 0.025361307840186014,
          "symbol": "circle"
         },
         "mode": "markers",
         "name": "Angola",
         "showlegend": true,
         "type": "scatter",
         "x": [
          4714.1
         ],
         "xaxis": "x",
         "y": [
          6.589771977581924
         ],
         "yaxis": "y"
        },
        {
         "hovertemplate": "<b>%{hovertext}</b><br><br>Country=Antigua and Barbuda<br>GDP per capita (current US$)=%{x}<br>Average Internet usage over the years=%{marker.size}<extra></extra>",
         "hovertext": [
          "Antigua and Barbuda"
         ],
         "legendgroup": "Antigua and Barbuda",
         "marker": {
          "color": "#19d3f3",
          "size": [
           49.151111430639006
          ],
          "sizemode": "area",
          "sizeref": 0.025361307840186014,
          "symbol": "circle"
         },
         "mode": "markers",
         "name": "Antigua and Barbuda",
         "showlegend": true,
         "type": "scatter",
         "x": [
          14764.5
         ],
         "xaxis": "x",
         "y": [
          49.151111430639006
         ],
         "yaxis": "y"
        },
        {
         "hovertemplate": "<b>%{hovertext}</b><br><br>Country=Argentina<br>GDP per capita (current US$)=%{x}<br>Average Internet usage over the years=%{marker.size}<extra></extra>",
         "hovertext": [
          "Argentina"
         ],
         "legendgroup": "Argentina",
         "marker": {
          "color": "#FF6692",
          "size": [
           46.76965620496696
          ],
          "sizemode": "area",
          "sizeref": 0.025361307840186014,
          "symbol": "circle"
         },
         "mode": "markers",
         "name": "Argentina",
         "showlegend": true,
         "type": "scatter",
         "x": [
          14564.5
         ],
         "xaxis": "x",
         "y": [
          46.76965620496696
         ],
         "yaxis": "y"
        },
        {
         "hovertemplate": "<b>%{hovertext}</b><br><br>Country=Armenia<br>GDP per capita (current US$)=%{x}<br>Average Internet usage over the years=%{marker.size}<extra></extra>",
         "hovertext": [
          "Armenia"
         ],
         "legendgroup": "Armenia",
         "marker": {
          "color": "#B6E880",
          "size": [
           35.06995918569305
          ],
          "sizemode": "area",
          "sizeref": 0.025361307840186014,
          "symbol": "circle"
         },
         "mode": "markers",
         "name": "Armenia",
         "showlegend": true,
         "type": "scatter",
         "x": [
          3489.1
         ],
         "xaxis": "x",
         "y": [
          35.06995918569305
         ],
         "yaxis": "y"
        },
        {
         "hovertemplate": "<b>%{hovertext}</b><br><br>Country=Australia<br>GDP per capita (current US$)=%{x}<br>Average Internet usage over the years=%{marker.size}<extra></extra>",
         "hovertext": [
          "Australia"
         ],
         "legendgroup": "Australia",
         "marker": {
          "color": "#FF97FF",
          "size": [
           69.94026169908871
          ],
          "sizemode": "area",
          "sizeref": 0.025361307840186014,
          "symbol": "circle"
         },
         "mode": "markers",
         "name": "Australia",
         "showlegend": true,
         "type": "scatter",
         "x": [
          51352.2
         ],
         "xaxis": "x",
         "y": [
          69.94026169908871
         ],
         "yaxis": "y"
        },
        {
         "hovertemplate": "<b>%{hovertext}</b><br><br>Country=Austria<br>GDP per capita (current US$)=%{x}<br>Average Internet usage over the years=%{marker.size}<extra></extra>",
         "hovertext": [
          "Austria"
         ],
         "legendgroup": "Austria",
         "marker": {
          "color": "#FECB52",
          "size": [
           75.56315281508286
          ],
          "sizemode": "area",
          "sizeref": 0.025361307840186014,
          "symbol": "circle"
         },
         "mode": "markers",
         "name": "Austria",
         "showlegend": true,
         "type": "scatter",
         "x": [
          44117.7
         ],
         "xaxis": "x",
         "y": [
          75.56315281508286
         ],
         "yaxis": "y"
        },
        {
         "hovertemplate": "<b>%{hovertext}</b><br><br>Country=Azerbaijan<br>GDP per capita (current US$)=%{x}<br>Average Internet usage over the years=%{marker.size}<extra></extra>",
         "hovertext": [
          "Azerbaijan"
         ],
         "legendgroup": "Azerbaijan",
         "marker": {
          "color": "#636efa",
          "size": [
           56.39801322081063
          ],
          "sizemode": "area",
          "sizeref": 0.025361307840186014,
          "symbol": "circle"
         },
         "mode": "markers",
         "name": "Azerbaijan",
         "showlegend": true,
         "type": "scatter",
         "x": [
          5438.7
         ],
         "xaxis": "x",
         "y": [
          56.39801322081063
         ],
         "yaxis": "y"
        },
        {
         "hovertemplate": "<b>%{hovertext}</b><br><br>Country=Bahamas<br>GDP per capita (current US$)=%{x}<br>Average Internet usage over the years=%{marker.size}<extra></extra>",
         "hovertext": [
          "Bahamas"
         ],
         "legendgroup": "Bahamas",
         "marker": {
          "color": "#EF553B",
          "size": [
           54.96983661951785
          ],
          "sizemode": "area",
          "sizeref": 0.025361307840186014,
          "symbol": "circle"
         },
         "mode": "markers",
         "name": "Bahamas",
         "showlegend": true,
         "type": "scatter",
         "x": [
          22817.2
         ],
         "xaxis": "x",
         "y": [
          54.96983661951785
         ],
         "yaxis": "y"
        },
        {
         "hovertemplate": "<b>%{hovertext}</b><br><br>Country=Bahrain<br>GDP per capita (current US$)=%{x}<br>Average Internet usage over the years=%{marker.size}<extra></extra>",
         "hovertext": [
          "Bahrain"
         ],
         "legendgroup": "Bahrain",
         "marker": {
          "color": "#00cc96",
          "size": [
           73.99640475804235
          ],
          "sizemode": "area",
          "sizeref": 0.025361307840186014,
          "symbol": "circle"
         },
         "mode": "markers",
         "name": "Bahrain",
         "showlegend": true,
         "type": "scatter",
         "x": [
          22600.2
         ],
         "xaxis": "x",
         "y": [
          73.99640475804235
         ],
         "yaxis": "y"
        },
        {
         "hovertemplate": "<b>%{hovertext}</b><br><br>Country=Bangladesh<br>GDP per capita (current US$)=%{x}<br>Average Internet usage over the years=%{marker.size}<extra></extra>",
         "hovertext": [
          "Bangladesh"
         ],
         "legendgroup": "Bangladesh",
         "marker": {
          "color": "#ab63fa",
          "size": [
           7.405697886244315
          ],
          "sizemode": "area",
          "sizeref": 0.025361307840186014,
          "symbol": "circle"
         },
         "mode": "markers",
         "name": "Bangladesh",
         "showlegend": true,
         "type": "scatter",
         "x": [
          1207.9
         ],
         "xaxis": "x",
         "y": [
          7.405697886244315
         ],
         "yaxis": "y"
        },
        {
         "hovertemplate": "<b>%{hovertext}</b><br><br>Country=Barbados<br>GDP per capita (current US$)=%{x}<br>Average Internet usage over the years=%{marker.size}<extra></extra>",
         "hovertext": [
          "Barbados"
         ],
         "legendgroup": "Barbados",
         "marker": {
          "color": "#FFA15A",
          "size": [
           58.513986785141874
          ],
          "sizemode": "area",
          "sizeref": 0.025361307840186014,
          "symbol": "circle"
         },
         "mode": "markers",
         "name": "Barbados",
         "showlegend": true,
         "type": "scatter",
         "x": [
          15429.4
         ],
         "xaxis": "x",
         "y": [
          58.513986785141874
         ],
         "yaxis": "y"
        },
        {
         "hovertemplate": "<b>%{hovertext}</b><br><br>Country=Belarus<br>GDP per capita (current US$)=%{x}<br>Average Internet usage over the years=%{marker.size}<extra></extra>",
         "hovertext": [
          "Belarus"
         ],
         "legendgroup": "Belarus",
         "marker": {
          "color": "#19d3f3",
          "size": [
           47.301730232253064
          ],
          "sizemode": "area",
          "sizeref": 0.025361307840186014,
          "symbol": "circle"
         },
         "mode": "markers",
         "name": "Belarus",
         "showlegend": true,
         "type": "scatter",
         "x": [
          5750.8
         ],
         "xaxis": "x",
         "y": [
          47.301730232253064
         ],
         "yaxis": "y"
        },
        {
         "hovertemplate": "<b>%{hovertext}</b><br><br>Country=Belgium<br>GDP per capita (current US$)=%{x}<br>Average Internet usage over the years=%{marker.size}<extra></extra>",
         "hovertext": [
          "Belgium"
         ],
         "legendgroup": "Belgium",
         "marker": {
          "color": "#FF6692",
          "size": [
           76.15054545377865
          ],
          "sizemode": "area",
          "sizeref": 0.025361307840186014,
          "symbol": "circle"
         },
         "mode": "markers",
         "name": "Belgium",
         "showlegend": true,
         "type": "scatter",
         "x": [
          40277.8
         ],
         "xaxis": "x",
         "y": [
          76.15054545377865
         ],
         "yaxis": "y"
        },
        {
         "hovertemplate": "<b>%{hovertext}</b><br><br>Country=Belize<br>GDP per capita (current US$)=%{x}<br>Average Internet usage over the years=%{marker.size}<extra></extra>",
         "hovertext": [
          "Belize"
         ],
         "legendgroup": "Belize",
         "marker": {
          "color": "#B6E880",
          "size": [
           28.94656376601779
          ],
          "sizemode": "area",
          "sizeref": 0.025361307840186014,
          "symbol": "circle"
         },
         "mode": "markers",
         "name": "Belize",
         "showlegend": true,
         "type": "scatter",
         "x": [
          4789.4
         ],
         "xaxis": "x",
         "y": [
          28.94656376601779
         ],
         "yaxis": "y"
        },
        {
         "hovertemplate": "<b>%{hovertext}</b><br><br>Country=Benin<br>GDP per capita (current US$)=%{x}<br>Average Internet usage over the years=%{marker.size}<extra></extra>",
         "hovertext": [
          "Benin"
         ],
         "legendgroup": "Benin",
         "marker": {
          "color": "#FF97FF",
          "size": [
           6.129421652181342
          ],
          "sizemode": "area",
          "sizeref": 0.025361307840186014,
          "symbol": "circle"
         },
         "mode": "markers",
         "name": "Benin",
         "showlegend": true,
         "type": "scatter",
         "x": [
          779.1
         ],
         "xaxis": "x",
         "y": [
          6.129421652181342
         ],
         "yaxis": "y"
        },
        {
         "hovertemplate": "<b>%{hovertext}</b><br><br>Country=Bhutan<br>GDP per capita (current US$)=%{x}<br>Average Internet usage over the years=%{marker.size}<extra></extra>",
         "hovertext": [
          "Bhutan"
         ],
         "legendgroup": "Bhutan",
         "marker": {
          "color": "#FECB52",
          "size": [
           20.929737418313223
          ],
          "sizemode": "area",
          "sizeref": 0.025361307840186014,
          "symbol": "circle"
         },
         "mode": "markers",
         "name": "Bhutan",
         "showlegend": true,
         "type": "scatter",
         "x": [
          2677.1
         ],
         "xaxis": "x",
         "y": [
          20.929737418313223
         ],
         "yaxis": "y"
        },
        {
         "hovertemplate": "<b>%{hovertext}</b><br><br>Country=Bolivia (Plurinational State of)<br>GDP per capita (current US$)=%{x}<br>Average Internet usage over the years=%{marker.size}<extra></extra>",
         "hovertext": [
          "Bolivia (Plurinational State of)"
         ],
         "legendgroup": "Bolivia (Plurinational State of)",
         "marker": {
          "color": "#636efa",
          "size": [
           25.917491714741633
          ],
          "sizemode": "area",
          "sizeref": 0.025361307840186014,
          "symbol": "circle"
         },
         "mode": "markers",
         "name": "Bolivia (Plurinational State of)",
         "showlegend": true,
         "type": "scatter",
         "x": [
          3076.8
         ],
         "xaxis": "x",
         "y": [
          25.917491714741633
         ],
         "yaxis": "y"
        },
        {
         "hovertemplate": "<b>%{hovertext}</b><br><br>Country=Bosnia and Herzegovina<br>GDP per capita (current US$)=%{x}<br>Average Internet usage over the years=%{marker.size}<extra></extra>",
         "hovertext": [
          "Bosnia and Herzegovina"
         ],
         "legendgroup": "Bosnia and Herzegovina",
         "marker": {
          "color": "#EF553B",
          "size": [
           45.49268573355297
          ],
          "sizemode": "area",
          "sizeref": 0.025361307840186014,
          "symbol": "circle"
         },
         "mode": "markers",
         "name": "Bosnia and Herzegovina",
         "showlegend": true,
         "type": "scatter",
         "x": [
          4265
         ],
         "xaxis": "x",
         "y": [
          45.49268573355297
         ],
         "yaxis": "y"
        },
        {
         "hovertemplate": "<b>%{hovertext}</b><br><br>Country=Botswana<br>GDP per capita (current US$)=%{x}<br>Average Internet usage over the years=%{marker.size}<extra></extra>",
         "hovertext": [
          "Botswana"
         ],
         "legendgroup": "Botswana",
         "marker": {
          "color": "#00cc96",
          "size": [
           20.689546895943735
          ],
          "sizemode": "area",
          "sizeref": 0.025361307840186014,
          "symbol": "circle"
         },
         "mode": "markers",
         "name": "Botswana",
         "showlegend": true,
         "type": "scatter",
         "x": [
          6360.6
         ],
         "xaxis": "x",
         "y": [
          20.689546895943735
         ],
         "yaxis": "y"
        },
        {
         "hovertemplate": "<b>%{hovertext}</b><br><br>Country=Brazil<br>GDP per capita (current US$)=%{x}<br>Average Internet usage over the years=%{marker.size}<extra></extra>",
         "hovertext": [
          "Brazil"
         ],
         "legendgroup": "Brazil",
         "marker": {
          "color": "#ab63fa",
          "size": [
           41.00511005555452
          ],
          "sizemode": "area",
          "sizeref": 0.025361307840186014,
          "symbol": "circle"
         },
         "mode": "markers",
         "name": "Brazil",
         "showlegend": true,
         "type": "scatter",
         "x": [
          8528.3
         ],
         "xaxis": "x",
         "y": [
          41.00511005555452
         ],
         "yaxis": "y"
        },
        {
         "hovertemplate": "<b>%{hovertext}</b><br><br>Country=Brunei Darussalam<br>GDP per capita (current US$)=%{x}<br>Average Internet usage over the years=%{marker.size}<extra></extra>",
         "hovertext": [
          "Brunei Darussalam"
         ],
         "legendgroup": "Brunei Darussalam",
         "marker": {
          "color": "#FFA15A",
          "size": [
           63.515680057965824
          ],
          "sizemode": "area",
          "sizeref": 0.025361307840186014,
          "symbol": "circle"
         },
         "mode": "markers",
         "name": "Brunei Darussalam",
         "showlegend": true,
         "type": "scatter",
         "x": [
          30552.7
         ],
         "xaxis": "x",
         "y": [
          63.515680057965824
         ],
         "yaxis": "y"
        },
        {
         "hovertemplate": "<b>%{hovertext}</b><br><br>Country=Bulgaria<br>GDP per capita (current US$)=%{x}<br>Average Internet usage over the years=%{marker.size}<extra></extra>",
         "hovertext": [
          "Bulgaria"
         ],
         "legendgroup": "Bulgaria",
         "marker": {
          "color": "#19d3f3",
          "size": [
           47.69785126515635
          ],
          "sizemode": "area",
          "sizeref": 0.025361307840186014,
          "symbol": "circle"
         },
         "mode": "markers",
         "name": "Bulgaria",
         "showlegend": true,
         "type": "scatter",
         "x": [
          6846.8
         ],
         "xaxis": "x",
         "y": [
          47.69785126515635
         ],
         "yaxis": "y"
        },
        {
         "hovertemplate": "<b>%{hovertext}</b><br><br>Country=Burkina Faso<br>GDP per capita (current US$)=%{x}<br>Average Internet usage over the years=%{marker.size}<extra></extra>",
         "hovertext": [
          "Burkina Faso"
         ],
         "legendgroup": "Burkina Faso",
         "marker": {
          "color": "#FF6692",
          "size": [
           6.557457233961455
          ],
          "sizemode": "area",
          "sizeref": 0.025361307840186014,
          "symbol": "circle"
         },
         "mode": "markers",
         "name": "Burkina Faso",
         "showlegend": true,
         "type": "scatter",
         "x": [
          611.1
         ],
         "xaxis": "x",
         "y": [
          6.557457233961455
         ],
         "yaxis": "y"
        },
        {
         "hovertemplate": "<b>%{hovertext}</b><br><br>Country=Burundi<br>GDP per capita (current US$)=%{x}<br>Average Internet usage over the years=%{marker.size}<extra></extra>",
         "hovertext": [
          "Burundi"
         ],
         "legendgroup": "Burundi",
         "marker": {
          "color": "#B6E880",
          "size": [
           1.75401901309071
          ],
          "sizemode": "area",
          "sizeref": 0.025361307840186014,
          "symbol": "circle"
         },
         "mode": "markers",
         "name": "Burundi",
         "showlegend": true,
         "type": "scatter",
         "x": [
          244.6
         ],
         "xaxis": "x",
         "y": [
          1.75401901309071
         ],
         "yaxis": "y"
        },
        {
         "hovertemplate": "<b>%{hovertext}</b><br><br>Country=Cambodia<br>GDP per capita (current US$)=%{x}<br>Average Internet usage over the years=%{marker.size}<extra></extra>",
         "hovertext": [
          "Cambodia"
         ],
         "legendgroup": "Cambodia",
         "marker": {
          "color": "#FF97FF",
          "size": [
           12.885721432852053
          ],
          "sizemode": "area",
          "sizeref": 0.025361307840186014,
          "symbol": "circle"
         },
         "mode": "markers",
         "name": "Cambodia",
         "showlegend": true,
         "type": "scatter",
         "x": [
          1158.7
         ],
         "xaxis": "x",
         "y": [
          12.885721432852053
         ],
         "yaxis": "y"
        },
        {
         "hovertemplate": "<b>%{hovertext}</b><br><br>Country=Cameroon<br>GDP per capita (current US$)=%{x}<br>Average Internet usage over the years=%{marker.size}<extra></extra>",
         "hovertext": [
          "Cameroon"
         ],
         "legendgroup": "Cameroon",
         "marker": {
          "color": "#FECB52",
          "size": [
           10.15961255770332
          ],
          "sizemode": "area",
          "sizeref": 0.025361307840186014,
          "symbol": "circle"
         },
         "mode": "markers",
         "name": "Cameroon",
         "showlegend": true,
         "type": "scatter",
         "x": [
          1217.3
         ],
         "xaxis": "x",
         "y": [
          10.15961255770332
         ],
         "yaxis": "y"
        },
        {
         "hovertemplate": "<b>%{hovertext}</b><br><br>Country=Canada<br>GDP per capita (current US$)=%{x}<br>Average Internet usage over the years=%{marker.size}<extra></extra>",
         "hovertext": [
          "Canada"
         ],
         "legendgroup": "Canada",
         "marker": {
          "color": "#636efa",
          "size": [
           74.03090909090909
          ],
          "sizemode": "area",
          "sizeref": 0.025361307840186014,
          "symbol": "circle"
         },
         "mode": "markers",
         "name": "Canada",
         "showlegend": true,
         "type": "scatter",
         "x": [
          43205.6
         ],
         "xaxis": "x",
         "y": [
          74.03090909090909
         ],
         "yaxis": "y"
        },
        {
         "hovertemplate": "<b>%{hovertext}</b><br><br>Country=Cape Verde<br>GDP per capita (current US$)=%{x}<br>Average Internet usage over the years=%{marker.size}<extra></extra>",
         "hovertext": [
          null
         ],
         "legendgroup": "Cape Verde",
         "marker": {
          "color": "#EF553B",
          "size": [
           35.521169744811274
          ],
          "sizemode": "area",
          "sizeref": 0.025361307840186014,
          "symbol": "circle"
         },
         "mode": "markers",
         "name": "Cape Verde",
         "showlegend": true,
         "type": "scatter",
         "x": [
          null
         ],
         "xaxis": "x",
         "y": [
          35.521169744811274
         ],
         "yaxis": "y"
        },
        {
         "hovertemplate": "<b>%{hovertext}</b><br><br>Country=Central African Republic<br>GDP per capita (current US$)=%{x}<br>Average Internet usage over the years=%{marker.size}<extra></extra>",
         "hovertext": [
          "Central African Republic"
         ],
         "legendgroup": "Central African Republic",
         "marker": {
          "color": "#00cc96",
          "size": [
           2.4237131570938484
          ],
          "sizemode": "area",
          "sizeref": 0.025361307840186014,
          "symbol": "circle"
         },
         "mode": "markers",
         "name": "Central African Republic",
         "showlegend": true,
         "type": "scatter",
         "x": [
          333.2
         ],
         "xaxis": "x",
         "y": [
          2.4237131570938484
         ],
         "yaxis": "y"
        },
        {
         "hovertemplate": "<b>%{hovertext}</b><br><br>Country=Chad<br>GDP per capita (current US$)=%{x}<br>Average Internet usage over the years=%{marker.size}<extra></extra>",
         "hovertext": [
          "Chad"
         ],
         "legendgroup": "Chad",
         "marker": {
          "color": "#ab63fa",
          "size": [
           2.412269354176281
          ],
          "sizemode": "area",
          "sizeref": 0.025361307840186014,
          "symbol": "circle"
         },
         "mode": "markers",
         "name": "Chad",
         "showlegend": true,
         "type": "scatter",
         "x": [
          713
         ],
         "xaxis": "x",
         "y": [
          2.412269354176281
         ],
         "yaxis": "y"
        },
        {
         "hovertemplate": "<b>%{hovertext}</b><br><br>Country=Chile<br>GDP per capita (current US$)=%{x}<br>Average Internet usage over the years=%{marker.size}<extra></extra>",
         "hovertext": [
          "Chile"
         ],
         "legendgroup": "Chile",
         "marker": {
          "color": "#FFA15A",
          "size": [
           51.063729751649355
          ],
          "sizemode": "area",
          "sizeref": 0.025361307840186014,
          "symbol": "circle"
         },
         "mode": "markers",
         "name": "Chile",
         "showlegend": true,
         "type": "scatter",
         "x": [
          13416.2
         ],
         "xaxis": "x",
         "y": [
          51.063729751649355
         ],
         "yaxis": "y"
        },
        {
         "hovertemplate": "<b>%{hovertext}</b><br><br>Country=China<br>GDP per capita (current US$)=%{x}<br>Average Internet usage over the years=%{marker.size}<extra></extra>",
         "hovertext": [
          "China"
         ],
         "legendgroup": "China",
         "marker": {
          "color": "#19d3f3",
          "size": [
           34.24538979046083
          ],
          "sizemode": "area",
          "sizeref": 0.025361307840186014,
          "symbol": "circle"
         },
         "mode": "markers",
         "name": "China",
         "showlegend": true,
         "type": "scatter",
         "x": [
          8109.1
         ],
         "xaxis": "x",
         "y": [
          34.24538979046083
         ],
         "yaxis": "y"
        },
        {
         "hovertemplate": "<b>%{hovertext}</b><br><br>Country=Colombia<br>GDP per capita (current US$)=%{x}<br>Average Internet usage over the years=%{marker.size}<extra></extra>",
         "hovertext": [
          "Colombia"
         ],
         "legendgroup": "Colombia",
         "marker": {
          "color": "#FF6692",
          "size": [
           38.14700536745515
          ],
          "sizemode": "area",
          "sizeref": 0.025361307840186014,
          "symbol": "circle"
         },
         "mode": "markers",
         "name": "Colombia",
         "showlegend": true,
         "type": "scatter",
         "x": [
          6056.1
         ],
         "xaxis": "x",
         "y": [
          38.14700536745515
         ],
         "yaxis": "y"
        },
        {
         "hovertemplate": "<b>%{hovertext}</b><br><br>Country=Comoros<br>GDP per capita (current US$)=%{x}<br>Average Internet usage over the years=%{marker.size}<extra></extra>",
         "hovertext": [
          "Comoros"
         ],
         "legendgroup": "Comoros",
         "marker": {
          "color": "#B6E880",
          "size": [
           5.109335578871608
          ],
          "sizemode": "area",
          "sizeref": 0.025361307840186014,
          "symbol": "circle"
         },
         "mode": "markers",
         "name": "Comoros",
         "showlegend": true,
         "type": "scatter",
         "x": [
          1368.9
         ],
         "xaxis": "x",
         "y": [
          5.109335578871608
         ],
         "yaxis": "y"
        },
        {
         "hovertemplate": "<b>%{hovertext}</b><br><br>Country=Congo (Dem. Rep.)<br>GDP per capita (current US$)=%{x}<br>Average Internet usage over the years=%{marker.size}<extra></extra>",
         "hovertext": [
          null
         ],
         "legendgroup": "Congo (Dem. Rep.)",
         "marker": {
          "color": "#FF97FF",
          "size": [
           2.5157981282078383
          ],
          "sizemode": "area",
          "sizeref": 0.025361307840186014,
          "symbol": "circle"
         },
         "mode": "markers",
         "name": "Congo (Dem. Rep.)",
         "showlegend": true,
         "type": "scatter",
         "x": [
          null
         ],
         "xaxis": "x",
         "y": [
          2.5157981282078383
         ],
         "yaxis": "y"
        },
        {
         "hovertemplate": "<b>%{hovertext}</b><br><br>Country=Congo (Rep.)<br>GDP per capita (current US$)=%{x}<br>Average Internet usage over the years=%{marker.size}<extra></extra>",
         "hovertext": [
          null
         ],
         "legendgroup": "Congo (Rep.)",
         "marker": {
          "color": "#FECB52",
          "size": [
           5.11767216377099
          ],
          "sizemode": "area",
          "sizeref": 0.025361307840186014,
          "symbol": "circle"
         },
         "mode": "markers",
         "name": "Congo (Rep.)",
         "showlegend": true,
         "type": "scatter",
         "x": [
          null
         ],
         "xaxis": "x",
         "y": [
          5.11767216377099
         ],
         "yaxis": "y"
        },
        {
         "hovertemplate": "<b>%{hovertext}</b><br><br>Country=Costa Rica<br>GDP per capita (current US$)=%{x}<br>Average Internet usage over the years=%{marker.size}<extra></extra>",
         "hovertext": [
          "Costa Rica"
         ],
         "legendgroup": "Costa Rica",
         "marker": {
          "color": "#636efa",
          "size": [
           47.37849286115279
          ],
          "sizemode": "area",
          "sizeref": 0.025361307840186014,
          "symbol": "circle"
         },
         "mode": "markers",
         "name": "Costa Rica",
         "showlegend": true,
         "type": "scatter",
         "x": [
          11015
         ],
         "xaxis": "x",
         "y": [
          47.37849286115279
         ],
         "yaxis": "y"
        },
        {
         "hovertemplate": "<b>%{hovertext}</b><br><br>Country=Croatia<br>GDP per capita (current US$)=%{x}<br>Average Internet usage over the years=%{marker.size}<extra></extra>",
         "hovertext": [
          "Croatia"
         ],
         "legendgroup": "Croatia",
         "marker": {
          "color": "#EF553B",
          "size": [
           57.606160661350835
          ],
          "sizemode": "area",
          "sizeref": 0.025361307840186014,
          "symbol": "circle"
         },
         "mode": "markers",
         "name": "Croatia",
         "showlegend": true,
         "type": "scatter",
         "x": [
          11479.4
         ],
         "xaxis": "x",
         "y": [
          57.606160661350835
         ],
         "yaxis": "y"
        },
        {
         "hovertemplate": "<b>%{hovertext}</b><br><br>Country=Cuba<br>GDP per capita (current US$)=%{x}<br>Average Internet usage over the years=%{marker.size}<extra></extra>",
         "hovertext": [
          "Cuba"
         ],
         "legendgroup": "Cuba",
         "marker": {
          "color": "#00cc96",
          "size": [
           23.438990622495943
          ],
          "sizemode": "area",
          "sizeref": 0.025361307840186014,
          "symbol": "circle"
         },
         "mode": "markers",
         "name": "Cuba",
         "showlegend": true,
         "type": "scatter",
         "x": [
          7656.6
         ],
         "xaxis": "x",
         "y": [
          23.438990622495943
         ],
         "yaxis": "y"
        },
        {
         "hovertemplate": "<b>%{hovertext}</b><br><br>Country=Cyprus<br>GDP per capita (current US$)=%{x}<br>Average Internet usage over the years=%{marker.size}<extra></extra>",
         "hovertext": [
          "Cyprus"
         ],
         "legendgroup": "Cyprus",
         "marker": {
          "color": "#ab63fa",
          "size": [
           60.56207563729488
          ],
          "sizemode": "area",
          "sizeref": 0.025361307840186014,
          "symbol": "circle"
         },
         "mode": "markers",
         "name": "Cyprus",
         "showlegend": true,
         "type": "scatter",
         "x": [
          21941.9
         ],
         "xaxis": "x",
         "y": [
          60.56207563729488
         ],
         "yaxis": "y"
        },
        {
         "hovertemplate": "<b>%{hovertext}</b><br><br>Country=Czech Republic<br>GDP per capita (current US$)=%{x}<br>Average Internet usage over the years=%{marker.size}<extra></extra>",
         "hovertext": [
          null
         ],
         "legendgroup": "Czech Republic",
         "marker": {
          "color": "#FFA15A",
          "size": [
           65.24454670199033
          ],
          "sizemode": "area",
          "sizeref": 0.025361307840186014,
          "symbol": "circle"
         },
         "mode": "markers",
         "name": "Czech Republic",
         "showlegend": true,
         "type": "scatter",
         "x": [
          null
         ],
         "xaxis": "x",
         "y": [
          65.24454670199033
         ],
         "yaxis": "y"
        },
        {
         "hovertemplate": "<b>%{hovertext}</b><br><br>Country=Côte d'Ivoire<br>GDP per capita (current US$)=%{x}<br>Average Internet usage over the years=%{marker.size}<extra></extra>",
         "hovertext": [
          null
         ],
         "legendgroup": "Côte d'Ivoire",
         "marker": {
          "color": "#19d3f3",
          "size": [
           19.405126594398283
          ],
          "sizemode": "area",
          "sizeref": 0.025361307840186014,
          "symbol": "circle"
         },
         "mode": "markers",
         "name": "Côte d'Ivoire",
         "showlegend": true,
         "type": "scatter",
         "x": [
          null
         ],
         "xaxis": "x",
         "y": [
          19.405126594398283
         ],
         "yaxis": "y"
        },
        {
         "hovertemplate": "<b>%{hovertext}</b><br><br>Country=Democratic People's Republic of Korea<br>GDP per capita (current US$)=%{x}<br>Average Internet usage over the years=%{marker.size}<extra></extra>",
         "hovertext": [
          "Democratic People's Republic of Korea"
         ],
         "legendgroup": "Democratic People's Republic of Korea",
         "marker": {
          "color": "#FF6692",
          "size": [
           0
          ],
          "sizemode": "area",
          "sizeref": 0.025361307840186014,
          "symbol": "circle"
         },
         "mode": "markers",
         "name": "Democratic People's Republic of Korea",
         "showlegend": true,
         "type": "scatter",
         "x": [
          648
         ],
         "xaxis": "x",
         "y": [
          0
         ],
         "yaxis": "y"
        },
        {
         "hovertemplate": "<b>%{hovertext}</b><br><br>Country=Denmark<br>GDP per capita (current US$)=%{x}<br>Average Internet usage over the years=%{marker.size}<extra></extra>",
         "hovertext": [
          "Denmark"
         ],
         "legendgroup": "Denmark",
         "marker": {
          "color": "#B6E880",
          "size": [
           88.30582468167478
          ],
          "sizemode": "area",
          "sizeref": 0.025361307840186014,
          "symbol": "circle"
         },
         "mode": "markers",
         "name": "Denmark",
         "showlegend": true,
         "type": "scatter",
         "x": [
          53149.3
         ],
         "xaxis": "x",
         "y": [
          88.30582468167478
         ],
         "yaxis": "y"
        },
        {
         "hovertemplate": "<b>%{hovertext}</b><br><br>Country=Djibouti<br>GDP per capita (current US$)=%{x}<br>Average Internet usage over the years=%{marker.size}<extra></extra>",
         "hovertext": [
          "Djibouti"
         ],
         "legendgroup": "Djibouti",
         "marker": {
          "color": "#FF97FF",
          "size": [
           11.26037278742234
          ],
          "sizemode": "area",
          "sizeref": 0.025361307840186014,
          "symbol": "circle"
         },
         "mode": "markers",
         "name": "Djibouti",
         "showlegend": true,
         "type": "scatter",
         "x": [
          1956.3
         ],
         "xaxis": "x",
         "y": [
          11.26037278742234
         ],
         "yaxis": "y"
        },
        {
         "hovertemplate": "<b>%{hovertext}</b><br><br>Country=Dominica<br>GDP per capita (current US$)=%{x}<br>Average Internet usage over the years=%{marker.size}<extra></extra>",
         "hovertext": [
          "Dominica"
         ],
         "legendgroup": "Dominica",
         "marker": {
          "color": "#FECB52",
          "size": [
           45.75983238687181
          ],
          "sizemode": "area",
          "sizeref": 0.025361307840186014,
          "symbol": "circle"
         },
         "mode": "markers",
         "name": "Dominica",
         "showlegend": true,
         "type": "scatter",
         "x": [
          7051.1
         ],
         "xaxis": "x",
         "y": [
          45.75983238687181
         ],
         "yaxis": "y"
        },
        {
         "hovertemplate": "<b>%{hovertext}</b><br><br>Country=Dominican Rep.<br>GDP per capita (current US$)=%{x}<br>Average Internet usage over the years=%{marker.size}<extra></extra>",
         "hovertext": [
          null
         ],
         "legendgroup": "Dominican Rep.",
         "marker": {
          "color": "#636efa",
          "size": [
           43.89727688642381
          ],
          "sizemode": "area",
          "sizeref": 0.025361307840186014,
          "symbol": "circle"
         },
         "mode": "markers",
         "name": "Dominican Rep.",
         "showlegend": true,
         "type": "scatter",
         "x": [
          null
         ],
         "xaxis": "x",
         "y": [
          43.89727688642381
         ],
         "yaxis": "y"
        },
        {
         "hovertemplate": "<b>%{hovertext}</b><br><br>Country=Ecuador<br>GDP per capita (current US$)=%{x}<br>Average Internet usage over the years=%{marker.size}<extra></extra>",
         "hovertext": [
          "Ecuador"
         ],
         "legendgroup": "Ecuador",
         "marker": {
          "color": "#EF553B",
          "size": [
           31.73941030180106
          ],
          "sizemode": "area",
          "sizeref": 0.025361307840186014,
          "symbol": "circle"
         },
         "mode": "markers",
         "name": "Ecuador",
         "showlegend": true,
         "type": "scatter",
         "x": [
          6205.1
         ],
         "xaxis": "x",
         "y": [
          31.73941030180106
         ],
         "yaxis": "y"
        },
        {
         "hovertemplate": "<b>%{hovertext}</b><br><br>Country=Egypt<br>GDP per capita (current US$)=%{x}<br>Average Internet usage over the years=%{marker.size}<extra></extra>",
         "hovertext": [
          "Egypt"
         ],
         "legendgroup": "Egypt",
         "marker": {
          "color": "#00cc96",
          "size": [
           29.202532891201518
          ],
          "sizemode": "area",
          "sizeref": 0.025361307840186014,
          "symbol": "circle"
         },
         "mode": "markers",
         "name": "Egypt",
         "showlegend": true,
         "type": "scatter",
         "x": [
          3452.3
         ],
         "xaxis": "x",
         "y": [
          29.202532891201518
         ],
         "yaxis": "y"
        },
        {
         "hovertemplate": "<b>%{hovertext}</b><br><br>Country=El Salvador<br>GDP per capita (current US$)=%{x}<br>Average Internet usage over the years=%{marker.size}<extra></extra>",
         "hovertext": [
          "El Salvador"
         ],
         "legendgroup": "El Salvador",
         "marker": {
          "color": "#ab63fa",
          "size": [
           17.999109458627796
          ],
          "sizemode": "area",
          "sizeref": 0.025361307840186014,
          "symbol": "circle"
         },
         "mode": "markers",
         "name": "El Salvador",
         "showlegend": true,
         "type": "scatter",
         "x": [
          4219.4
         ],
         "xaxis": "x",
         "y": [
          17.999109458627796
         ],
         "yaxis": "y"
        },
        {
         "hovertemplate": "<b>%{hovertext}</b><br><br>Country=Equatorial Guinea<br>GDP per capita (current US$)=%{x}<br>Average Internet usage over the years=%{marker.size}<extra></extra>",
         "hovertext": [
          "Equatorial Guinea"
         ],
         "legendgroup": "Equatorial Guinea",
         "marker": {
          "color": "#FFA15A",
          "size": [
           12.665938767297403
          ],
          "sizemode": "area",
          "sizeref": 0.025361307840186014,
          "symbol": "circle"
         },
         "mode": "markers",
         "name": "Equatorial Guinea",
         "showlegend": true,
         "type": "scatter",
         "x": [
          16344.1
         ],
         "xaxis": "x",
         "y": [
          12.665938767297403
         ],
         "yaxis": "y"
        },
        {
         "hovertemplate": "<b>%{hovertext}</b><br><br>Country=Eritrea<br>GDP per capita (current US$)=%{x}<br>Average Internet usage over the years=%{marker.size}<extra></extra>",
         "hovertext": [
          "Eritrea"
         ],
         "legendgroup": "Eritrea",
         "marker": {
          "color": "#19d3f3",
          "size": [
           0.7005882506184542
          ],
          "sizemode": "area",
          "sizeref": 0.025361307840186014,
          "symbol": "circle"
         },
         "mode": "markers",
         "name": "Eritrea",
         "showlegend": true,
         "type": "scatter",
         "x": [
          914.9
         ],
         "xaxis": "x",
         "y": [
          0.7005882506184542
         ],
         "yaxis": "y"
        },
        {
         "hovertemplate": "<b>%{hovertext}</b><br><br>Country=Estonia<br>GDP per capita (current US$)=%{x}<br>Average Internet usage over the years=%{marker.size}<extra></extra>",
         "hovertext": [
          "Estonia"
         ],
         "legendgroup": "Estonia",
         "marker": {
          "color": "#FF6692",
          "size": [
           76.03382806042829
          ],
          "sizemode": "area",
          "sizeref": 0.025361307840186014,
          "symbol": "circle"
         },
         "mode": "markers",
         "name": "Estonia",
         "showlegend": true,
         "type": "scatter",
         "x": [
          17112
         ],
         "xaxis": "x",
         "y": [
          76.03382806042829
         ],
         "yaxis": "y"
        },
        {
         "hovertemplate": "<b>%{hovertext}</b><br><br>Country=Ethiopia<br>GDP per capita (current US$)=%{x}<br>Average Internet usage over the years=%{marker.size}<extra></extra>",
         "hovertext": [
          "Ethiopia"
         ],
         "legendgroup": "Ethiopia",
         "marker": {
          "color": "#B6E880",
          "size": [
           5.920461314053615
          ],
          "sizemode": "area",
          "sizeref": 0.025361307840186014,
          "symbol": "circle"
         },
         "mode": "markers",
         "name": "Ethiopia",
         "showlegend": true,
         "type": "scatter",
         "x": [
          602.8
         ],
         "xaxis": "x",
         "y": [
          5.920461314053615
         ],
         "yaxis": "y"
        },
        {
         "hovertemplate": "<b>%{hovertext}</b><br><br>Country=Falkland (Malvinas) Is.<br>GDP per capita (current US$)=%{x}<br>Average Internet usage over the years=%{marker.size}<extra></extra>",
         "hovertext": [
          null
         ],
         "legendgroup": "Falkland (Malvinas) Is.",
         "marker": {
          "color": "#FF97FF",
          "size": [
           74.87176110346658
          ],
          "sizemode": "area",
          "sizeref": 0.025361307840186014,
          "symbol": "circle"
         },
         "mode": "markers",
         "name": "Falkland (Malvinas) Is.",
         "showlegend": true,
         "type": "scatter",
         "x": [
          null
         ],
         "xaxis": "x",
         "y": [
          74.87176110346658
         ],
         "yaxis": "y"
        },
        {
         "hovertemplate": "<b>%{hovertext}</b><br><br>Country=Fiji<br>GDP per capita (current US$)=%{x}<br>Average Internet usage over the years=%{marker.size}<extra></extra>",
         "hovertext": [
          "Fiji"
         ],
         "legendgroup": "Fiji",
         "marker": {
          "color": "#FECB52",
          "size": [
           27.569654494754733
          ],
          "sizemode": "area",
          "sizeref": 0.025361307840186014,
          "symbol": "circle"
         },
         "mode": "markers",
         "name": "Fiji",
         "showlegend": true,
         "type": "scatter",
         "x": [
          4921.9
         ],
         "xaxis": "x",
         "y": [
          27.569654494754733
         ],
         "yaxis": "y"
        },
        {
         "hovertemplate": "<b>%{hovertext}</b><br><br>Country=Finland<br>GDP per capita (current US$)=%{x}<br>Average Internet usage over the years=%{marker.size}<extra></extra>",
         "hovertext": [
          "Finland"
         ],
         "legendgroup": "Finland",
         "marker": {
          "color": "#636efa",
          "size": [
           82.33981088535499
          ],
          "sizemode": "area",
          "sizeref": 0.025361307840186014,
          "symbol": "circle"
         },
         "mode": "markers",
         "name": "Finland",
         "showlegend": true,
         "type": "scatter",
         "x": [
          42148.1
         ],
         "xaxis": "x",
         "y": [
          82.33981088535499
         ],
         "yaxis": "y"
        },
        {
         "hovertemplate": "<b>%{hovertext}</b><br><br>Country=France<br>GDP per capita (current US$)=%{x}<br>Average Internet usage over the years=%{marker.size}<extra></extra>",
         "hovertext": [
          "France"
         ],
         "legendgroup": "France",
         "marker": {
          "color": "#EF553B",
          "size": [
           70.8375934721078
          ],
          "sizemode": "area",
          "sizeref": 0.025361307840186014,
          "symbol": "circle"
         },
         "mode": "markers",
         "name": "France",
         "showlegend": true,
         "type": "scatter",
         "x": [
          36304.2
         ],
         "xaxis": "x",
         "y": [
          70.8375934721078
         ],
         "yaxis": "y"
        },
        {
         "hovertemplate": "<b>%{hovertext}</b><br><br>Country=Gabon<br>GDP per capita (current US$)=%{x}<br>Average Internet usage over the years=%{marker.size}<extra></extra>",
         "hovertext": [
          "Gabon"
         ],
         "legendgroup": "Gabon",
         "marker": {
          "color": "#00cc96",
          "size": [
           25.95958712532986
          ],
          "sizemode": "area",
          "sizeref": 0.025361307840186014,
          "symbol": "circle"
         },
         "mode": "markers",
         "name": "Gabon",
         "showlegend": true,
         "type": "scatter",
         "x": [
          7960.7
         ],
         "xaxis": "x",
         "y": [
          25.95958712532986
         ],
         "yaxis": "y"
        },
        {
         "hovertemplate": "<b>%{hovertext}</b><br><br>Country=Gambia<br>GDP per capita (current US$)=%{x}<br>Average Internet usage over the years=%{marker.size}<extra></extra>",
         "hovertext": [
          "Gambia"
         ],
         "legendgroup": "Gambia",
         "marker": {
          "color": "#ab63fa",
          "size": [
           11.057889020067101
          ],
          "sizemode": "area",
          "sizeref": 0.025361307840186014,
          "symbol": "circle"
         },
         "mode": "markers",
         "name": "Gambia",
         "showlegend": true,
         "type": "scatter",
         "x": [
          473.2
         ],
         "xaxis": "x",
         "y": [
          11.057889020067101
         ],
         "yaxis": "y"
        },
        {
         "hovertemplate": "<b>%{hovertext}</b><br><br>Country=Georgia<br>GDP per capita (current US$)=%{x}<br>Average Internet usage over the years=%{marker.size}<extra></extra>",
         "hovertext": [
          "Georgia"
         ],
         "legendgroup": "Georgia",
         "marker": {
          "color": "#FFA15A",
          "size": [
           38.084307936557586
          ],
          "sizemode": "area",
          "sizeref": 0.025361307840186014,
          "symbol": "circle"
         },
         "mode": "markers",
         "name": "Georgia",
         "showlegend": true,
         "type": "scatter",
         "x": [
          3491.4
         ],
         "xaxis": "x",
         "y": [
          38.084307936557586
         ],
         "yaxis": "y"
        },
        {
         "hovertemplate": "<b>%{hovertext}</b><br><br>Country=Germany<br>GDP per capita (current US$)=%{x}<br>Average Internet usage over the years=%{marker.size}<extra></extra>",
         "hovertext": [
          "Germany"
         ],
         "legendgroup": "Germany",
         "marker": {
          "color": "#19d3f3",
          "size": [
           78.25417931072151
          ],
          "sizemode": "area",
          "sizeref": 0.025361307840186014,
          "symbol": "circle"
         },
         "mode": "markers",
         "name": "Germany",
         "showlegend": true,
         "type": "scatter",
         "x": [
          41686.2
         ],
         "xaxis": "x",
         "y": [
          78.25417931072151
         ],
         "yaxis": "y"
        },
        {
         "hovertemplate": "<b>%{hovertext}</b><br><br>Country=Ghana<br>GDP per capita (current US$)=%{x}<br>Average Internet usage over the years=%{marker.size}<extra></extra>",
         "hovertext": [
          "Ghana"
         ],
         "legendgroup": "Ghana",
         "marker": {
          "color": "#FF6692",
          "size": [
           15.324413712606543
          ],
          "sizemode": "area",
          "sizeref": 0.025361307840186014,
          "symbol": "circle"
         },
         "mode": "markers",
         "name": "Ghana",
         "showlegend": true,
         "type": "scatter",
         "x": [
          1355.6
         ],
         "xaxis": "x",
         "y": [
          15.324413712606543
         ],
         "yaxis": "y"
        },
        {
         "hovertemplate": "<b>%{hovertext}</b><br><br>Country=Greece<br>GDP per capita (current US$)=%{x}<br>Average Internet usage over the years=%{marker.size}<extra></extra>",
         "hovertext": [
          "Greece"
         ],
         "legendgroup": "Greece",
         "marker": {
          "color": "#B6E880",
          "size": [
           53.34177900374676
          ],
          "sizemode": "area",
          "sizeref": 0.025361307840186014,
          "symbol": "circle"
         },
         "mode": "markers",
         "name": "Greece",
         "showlegend": true,
         "type": "scatter",
         "x": [
          17788
         ],
         "xaxis": "x",
         "y": [
          53.34177900374676
         ],
         "yaxis": "y"
        },
        {
         "hovertemplate": "<b>%{hovertext}</b><br><br>Country=Grenada<br>GDP per capita (current US$)=%{x}<br>Average Internet usage over the years=%{marker.size}<extra></extra>",
         "hovertext": [
          "Grenada"
         ],
         "legendgroup": "Grenada",
         "marker": {
          "color": "#FF97FF",
          "size": [
           33.53544145955431
          ],
          "sizemode": "area",
          "sizeref": 0.025361307840186014,
          "symbol": "circle"
         },
         "mode": "markers",
         "name": "Grenada",
         "showlegend": true,
         "type": "scatter",
         "x": [
          8933.8
         ],
         "xaxis": "x",
         "y": [
          33.53544145955431
         ],
         "yaxis": "y"
        },
        {
         "hovertemplate": "<b>%{hovertext}</b><br><br>Country=Guatemala<br>GDP per capita (current US$)=%{x}<br>Average Internet usage over the years=%{marker.size}<extra></extra>",
         "hovertext": [
          "Guatemala"
         ],
         "legendgroup": "Guatemala",
         "marker": {
          "color": "#FECB52",
          "size": [
           19.693418231947412
          ],
          "sizemode": "area",
          "sizeref": 0.025361307840186014,
          "symbol": "circle"
         },
         "mode": "markers",
         "name": "Guatemala",
         "showlegend": true,
         "type": "scatter",
         "x": [
          3903.5
         ],
         "xaxis": "x",
         "y": [
          19.693418231947412
         ],
         "yaxis": "y"
        },
        {
         "hovertemplate": "<b>%{hovertext}</b><br><br>Country=Guinea<br>GDP per capita (current US$)=%{x}<br>Average Internet usage over the years=%{marker.size}<extra></extra>",
         "hovertext": [
          "Guinea"
         ],
         "legendgroup": "Guinea",
         "marker": {
          "color": "#636efa",
          "size": [
           4.8761526458730025
          ],
          "sizemode": "area",
          "sizeref": 0.025361307840186014,
          "symbol": "circle"
         },
         "mode": "markers",
         "name": "Guinea",
         "showlegend": true,
         "type": "scatter",
         "x": [
          703.9
         ],
         "xaxis": "x",
         "y": [
          4.8761526458730025
         ],
         "yaxis": "y"
        },
        {
         "hovertemplate": "<b>%{hovertext}</b><br><br>Country=Guinea-Bissau<br>GDP per capita (current US$)=%{x}<br>Average Internet usage over the years=%{marker.size}<extra></extra>",
         "hovertext": [
          "Guinea-Bissau"
         ],
         "legendgroup": "Guinea-Bissau",
         "marker": {
          "color": "#EF553B",
          "size": [
           2.527280818991616
          ],
          "sizemode": "area",
          "sizeref": 0.025361307840186014,
          "symbol": "circle"
         },
         "mode": "markers",
         "name": "Guinea-Bissau",
         "showlegend": true,
         "type": "scatter",
         "x": [
          530
         ],
         "xaxis": "x",
         "y": [
          2.527280818991616
         ],
         "yaxis": "y"
        },
        {
         "hovertemplate": "<b>%{hovertext}</b><br><br>Country=Guyana<br>GDP per capita (current US$)=%{x}<br>Average Internet usage over the years=%{marker.size}<extra></extra>",
         "hovertext": [
          "Guyana"
         ],
         "legendgroup": "Guyana",
         "marker": {
          "color": "#00cc96",
          "size": [
           24.272484395775418
          ],
          "sizemode": "area",
          "sizeref": 0.025361307840186014,
          "symbol": "circle"
         },
         "mode": "markers",
         "name": "Guyana",
         "showlegend": true,
         "type": "scatter",
         "x": [
          4278.8
         ],
         "xaxis": "x",
         "y": [
          24.272484395775418
         ],
         "yaxis": "y"
        },
        {
         "hovertemplate": "<b>%{hovertext}</b><br><br>Country=Haiti<br>GDP per capita (current US$)=%{x}<br>Average Internet usage over the years=%{marker.size}<extra></extra>",
         "hovertext": [
          "Haiti"
         ],
         "legendgroup": "Haiti",
         "marker": {
          "color": "#ab63fa",
          "size": [
           11.364318606226908
          ],
          "sizemode": "area",
          "sizeref": 0.025361307840186014,
          "symbol": "circle"
         },
         "mode": "markers",
         "name": "Haiti",
         "showlegend": true,
         "type": "scatter",
         "x": [
          793.7
         ],
         "xaxis": "x",
         "y": [
          11.364318606226908
         ],
         "yaxis": "y"
        },
        {
         "hovertemplate": "<b>%{hovertext}</b><br><br>Country=Honduras<br>GDP per capita (current US$)=%{x}<br>Average Internet usage over the years=%{marker.size}<extra></extra>",
         "hovertext": [
          "Honduras"
         ],
         "legendgroup": "Honduras",
         "marker": {
          "color": "#FFA15A",
          "size": [
           16.18125963626534
          ],
          "sizemode": "area",
          "sizeref": 0.025361307840186014,
          "symbol": "circle"
         },
         "mode": "markers",
         "name": "Honduras",
         "showlegend": true,
         "type": "scatter",
         "x": [
          2521.9
         ],
         "xaxis": "x",
         "y": [
          16.18125963626534
         ],
         "yaxis": "y"
        },
        {
         "hovertemplate": "<b>%{hovertext}</b><br><br>Country=China, Hong Kong SAR<br>GDP per capita (current US$)=%{x}<br>Average Internet usage over the years=%{marker.size}<extra></extra>",
         "hovertext": [
          "China, Hong Kong SAR"
         ],
         "legendgroup": "China, Hong Kong SAR",
         "marker": {
          "color": "#19d3f3",
          "size": [
           65.2488857632337
          ],
          "sizemode": "area",
          "sizeref": 0.025361307840186014,
          "symbol": "circle"
         },
         "mode": "markers",
         "name": "China, Hong Kong SAR",
         "showlegend": true,
         "type": "scatter",
         "x": [
          42431
         ],
         "xaxis": "x",
         "y": [
          65.2488857632337
         ],
         "yaxis": "y"
        },
        {
         "hovertemplate": "<b>%{hovertext}</b><br><br>Country=Hungary<br>GDP per capita (current US$)=%{x}<br>Average Internet usage over the years=%{marker.size}<extra></extra>",
         "hovertext": [
          "Hungary"
         ],
         "legendgroup": "Hungary",
         "marker": {
          "color": "#FF6692",
          "size": [
           63.88961633922849
          ],
          "sizemode": "area",
          "sizeref": 0.025361307840186014,
          "symbol": "circle"
         },
         "mode": "markers",
         "name": "Hungary",
         "showlegend": true,
         "type": "scatter",
         "x": [
          12350.6
         ],
         "xaxis": "x",
         "y": [
          63.88961633922849
         ],
         "yaxis": "y"
        },
        {
         "hovertemplate": "<b>%{hovertext}</b><br><br>Country=Iceland<br>GDP per capita (current US$)=%{x}<br>Average Internet usage over the years=%{marker.size}<extra></extra>",
         "hovertext": [
          "Iceland"
         ],
         "legendgroup": "Iceland",
         "marker": {
          "color": "#B6E880",
          "size": [
           91.30070822466965
          ],
          "sizemode": "area",
          "sizeref": 0.025361307840186014,
          "symbol": "circle"
         },
         "mode": "markers",
         "name": "Iceland",
         "showlegend": true,
         "type": "scatter",
         "x": [
          50936
         ],
         "xaxis": "x",
         "y": [
          91.30070822466965
         ],
         "yaxis": "y"
        },
        {
         "hovertemplate": "<b>%{hovertext}</b><br><br>Country=India<br>GDP per capita (current US$)=%{x}<br>Average Internet usage over the years=%{marker.size}<extra></extra>",
         "hovertext": [
          "India"
         ],
         "legendgroup": "India",
         "marker": {
          "color": "#FF97FF",
          "size": [
           12.965060760344018
          ],
          "sizemode": "area",
          "sizeref": 0.025361307840186014,
          "symbol": "circle"
         },
         "mode": "markers",
         "name": "India",
         "showlegend": true,
         "type": "scatter",
         "x": [
          1614.2
         ],
         "xaxis": "x",
         "y": [
          12.965060760344018
         ],
         "yaxis": "y"
        },
        {
         "hovertemplate": "<b>%{hovertext}</b><br><br>Country=Indonesia<br>GDP per capita (current US$)=%{x}<br>Average Internet usage over the years=%{marker.size}<extra></extra>",
         "hovertext": [
          "Indonesia"
         ],
         "legendgroup": "Indonesia",
         "marker": {
          "color": "#FECB52",
          "size": [
           17.620994089873815
          ],
          "sizemode": "area",
          "sizeref": 0.025361307840186014,
          "symbol": "circle"
         },
         "mode": "markers",
         "name": "Indonesia",
         "showlegend": true,
         "type": "scatter",
         "x": [
          3346.5
         ],
         "xaxis": "x",
         "y": [
          17.620994089873815
         ],
         "yaxis": "y"
        },
        {
         "hovertemplate": "<b>%{hovertext}</b><br><br>Country=Iran (Islamic Republic of)<br>GDP per capita (current US$)=%{x}<br>Average Internet usage over the years=%{marker.size}<extra></extra>",
         "hovertext": [
          "Iran (Islamic Republic of)"
         ],
         "legendgroup": "Iran (Islamic Republic of)",
         "marker": {
          "color": "#636efa",
          "size": [
           33.506769401156866
          ],
          "sizemode": "area",
          "sizeref": 0.025361307840186014,
          "symbol": "circle"
         },
         "mode": "markers",
         "name": "Iran (Islamic Republic of)",
         "showlegend": true,
         "type": "scatter",
         "x": [
          5038.1
         ],
         "xaxis": "x",
         "y": [
          33.506769401156866
         ],
         "yaxis": "y"
        },
        {
         "hovertemplate": "<b>%{hovertext}</b><br><br>Country=Iraq<br>GDP per capita (current US$)=%{x}<br>Average Internet usage over the years=%{marker.size}<extra></extra>",
         "hovertext": [
          "Iraq"
         ],
         "legendgroup": "Iraq",
         "marker": {
          "color": "#EF553B",
          "size": [
           15.136363535454548
          ],
          "sizemode": "area",
          "sizeref": 0.025361307840186014,
          "symbol": "circle"
         },
         "mode": "markers",
         "name": "Iraq",
         "showlegend": true,
         "type": "scatter",
         "x": [
          4509
         ],
         "xaxis": "x",
         "y": [
          15.136363535454548
         ],
         "yaxis": "y"
        },
        {
         "hovertemplate": "<b>%{hovertext}</b><br><br>Country=Ireland<br>GDP per capita (current US$)=%{x}<br>Average Internet usage over the years=%{marker.size}<extra></extra>",
         "hovertext": [
          "Ireland"
         ],
         "legendgroup": "Ireland",
         "marker": {
          "color": "#00cc96",
          "size": [
           70.90928072625974
          ],
          "sizemode": "area",
          "sizeref": 0.025361307840186014,
          "symbol": "circle"
         },
         "mode": "markers",
         "name": "Ireland",
         "showlegend": true,
         "type": "scatter",
         "x": [
          60513.6
         ],
         "xaxis": "x",
         "y": [
          70.90928072625974
         ],
         "yaxis": "y"
        },
        {
         "hovertemplate": "<b>%{hovertext}</b><br><br>Country=Israel<br>GDP per capita (current US$)=%{x}<br>Average Internet usage over the years=%{marker.size}<extra></extra>",
         "hovertext": [
          "Israel"
         ],
         "legendgroup": "Israel",
         "marker": {
          "color": "#ab63fa",
          "size": [
           57.91783390414793
          ],
          "sizemode": "area",
          "sizeref": 0.025361307840186014,
          "symbol": "circle"
         },
         "mode": "markers",
         "name": "Israel",
         "showlegend": true,
         "type": "scatter",
         "x": [
          37129.4
         ],
         "xaxis": "x",
         "y": [
          57.91783390414793
         ],
         "yaxis": "y"
        },
        {
         "hovertemplate": "<b>%{hovertext}</b><br><br>Country=Italy<br>GDP per capita (current US$)=%{x}<br>Average Internet usage over the years=%{marker.size}<extra></extra>",
         "hovertext": [
          "Italy"
         ],
         "legendgroup": "Italy",
         "marker": {
          "color": "#FFA15A",
          "size": [
           53.912649855804936
          ],
          "sizemode": "area",
          "sizeref": 0.025361307840186014,
          "symbol": "circle"
         },
         "mode": "markers",
         "name": "Italy",
         "showlegend": true,
         "type": "scatter",
         "x": [
          30462.4
         ],
         "xaxis": "x",
         "y": [
          53.912649855804936
         ],
         "yaxis": "y"
        },
        {
         "hovertemplate": "<b>%{hovertext}</b><br><br>Country=Jamaica<br>GDP per capita (current US$)=%{x}<br>Average Internet usage over the years=%{marker.size}<extra></extra>",
         "hovertext": [
          "Jamaica"
         ],
         "legendgroup": "Jamaica",
         "marker": {
          "color": "#19d3f3",
          "size": [
           30.361570105303098
          ],
          "sizemode": "area",
          "sizeref": 0.025361307840186014,
          "symbol": "circle"
         },
         "mode": "markers",
         "name": "Jamaica",
         "showlegend": true,
         "type": "scatter",
         "x": [
          5105.8
         ],
         "xaxis": "x",
         "y": [
          30.361570105303098
         ],
         "yaxis": "y"
        },
        {
         "hovertemplate": "<b>%{hovertext}</b><br><br>Country=Japan<br>GDP per capita (current US$)=%{x}<br>Average Internet usage over the years=%{marker.size}<extra></extra>",
         "hovertext": [
          "Japan"
         ],
         "legendgroup": "Japan",
         "marker": {
          "color": "#FF6692",
          "size": [
           70.89339976529835
          ],
          "sizemode": "area",
          "sizeref": 0.025361307840186014,
          "symbol": "circle"
         },
         "mode": "markers",
         "name": "Japan",
         "showlegend": true,
         "type": "scatter",
         "x": [
          34628.7
         ],
         "xaxis": "x",
         "y": [
          70.89339976529835
         ],
         "yaxis": "y"
        },
        {
         "hovertemplate": "<b>%{hovertext}</b><br><br>Country=Jordan<br>GDP per capita (current US$)=%{x}<br>Average Internet usage over the years=%{marker.size}<extra></extra>",
         "hovertext": [
          "Jordan"
         ],
         "legendgroup": "Jordan",
         "marker": {
          "color": "#B6E880",
          "size": [
           35.587547014230175
          ],
          "sizemode": "area",
          "sizeref": 0.025361307840186014,
          "symbol": "circle"
         },
         "mode": "markers",
         "name": "Jordan",
         "showlegend": true,
         "type": "scatter",
         "x": [
          4940.1
         ],
         "xaxis": "x",
         "y": [
          35.587547014230175
         ],
         "yaxis": "y"
        },
        {
         "hovertemplate": "<b>%{hovertext}</b><br><br>Country=Kazakhstan<br>GDP per capita (current US$)=%{x}<br>Average Internet usage over the years=%{marker.size}<extra></extra>",
         "hovertext": [
          "Kazakhstan"
         ],
         "legendgroup": "Kazakhstan",
         "marker": {
          "color": "#FF97FF",
          "size": [
           52.52631646753314
          ],
          "sizemode": "area",
          "sizeref": 0.025361307840186014,
          "symbol": "circle"
         },
         "mode": "markers",
         "name": "Kazakhstan",
         "showlegend": true,
         "type": "scatter",
         "x": [
          10312.1
         ],
         "xaxis": "x",
         "y": [
          52.52631646753314
         ],
         "yaxis": "y"
        },
        {
         "hovertemplate": "<b>%{hovertext}</b><br><br>Country=Kenya<br>GDP per capita (current US$)=%{x}<br>Average Internet usage over the years=%{marker.size}<extra></extra>",
         "hovertext": [
          "Kenya"
         ],
         "legendgroup": "Kenya",
         "marker": {
          "color": "#FECB52",
          "size": [
           10.039537497505517
          ],
          "sizemode": "area",
          "sizeref": 0.025361307840186014,
          "symbol": "circle"
         },
         "mode": "markers",
         "name": "Kenya",
         "showlegend": true,
         "type": "scatter",
         "x": [
          1376.7
         ],
         "xaxis": "x",
         "y": [
          10.039537497505517
         ],
         "yaxis": "y"
        },
        {
         "hovertemplate": "<b>%{hovertext}</b><br><br>Country=Kiribati<br>GDP per capita (current US$)=%{x}<br>Average Internet usage over the years=%{marker.size}<extra></extra>",
         "hovertext": [
          "Kiribati"
         ],
         "legendgroup": "Kiribati",
         "marker": {
          "color": "#636efa",
          "size": [
           9.14830229401086
          ],
          "sizemode": "area",
          "sizeref": 0.025361307840186014,
          "symbol": "circle"
         },
         "mode": "markers",
         "name": "Kiribati",
         "showlegend": true,
         "type": "scatter",
         "x": [
          1442.9
         ],
         "xaxis": "x",
         "y": [
          9.14830229401086
         ],
         "yaxis": "y"
        },
        {
         "hovertemplate": "<b>%{hovertext}</b><br><br>Country=Korea (Rep. of)<br>GDP per capita (current US$)=%{x}<br>Average Internet usage over the years=%{marker.size}<extra></extra>",
         "hovertext": [
          null
         ],
         "legendgroup": "Korea (Rep. of)",
         "marker": {
          "color": "#EF553B",
          "size": [
           83.25151694613277
          ],
          "sizemode": "area",
          "sizeref": 0.025361307840186014,
          "symbol": "circle"
         },
         "mode": "markers",
         "name": "Korea (Rep. of)",
         "showlegend": true,
         "type": "scatter",
         "x": [
          null
         ],
         "xaxis": "x",
         "y": [
          83.25151694613277
         ],
         "yaxis": "y"
        },
        {
         "hovertemplate": "<b>%{hovertext}</b><br><br>Country=Kuwait<br>GDP per capita (current US$)=%{x}<br>Average Internet usage over the years=%{marker.size}<extra></extra>",
         "hovertext": [
          "Kuwait"
         ],
         "legendgroup": "Kuwait",
         "marker": {
          "color": "#00cc96",
          "size": [
           66.76399555635406
          ],
          "sizemode": "area",
          "sizeref": 0.025361307840186014,
          "symbol": "circle"
         },
         "mode": "markers",
         "name": "Kuwait",
         "showlegend": true,
         "type": "scatter",
         "x": [
          29303.9
         ],
         "xaxis": "x",
         "y": [
          66.76399555635406
         ],
         "yaxis": "y"
        },
        {
         "hovertemplate": "<b>%{hovertext}</b><br><br>Country=Kyrgyzstan<br>GDP per capita (current US$)=%{x}<br>Average Internet usage over the years=%{marker.size}<extra></extra>",
         "hovertext": [
          "Kyrgyzstan"
         ],
         "legendgroup": "Kyrgyzstan",
         "marker": {
          "color": "#ab63fa",
          "size": [
           20.15656775095957
          ],
          "sizemode": "area",
          "sizeref": 0.025361307840186014,
          "symbol": "circle"
         },
         "mode": "markers",
         "name": "Kyrgyzstan",
         "showlegend": true,
         "type": "scatter",
         "x": [
          1106.4
         ],
         "xaxis": "x",
         "y": [
          20.15656775095957
         ],
         "yaxis": "y"
        },
        {
         "hovertemplate": "<b>%{hovertext}</b><br><br>Country=Lao People's Democratic Republic<br>GDP per capita (current US$)=%{x}<br>Average Internet usage over the years=%{marker.size}<extra></extra>",
         "hovertext": [
          "Lao People's Democratic Republic"
         ],
         "legendgroup": "Lao People's Democratic Republic",
         "marker": {
          "color": "#FFA15A",
          "size": [
           10.913592072182132
          ],
          "sizemode": "area",
          "sizeref": 0.025361307840186014,
          "symbol": "circle"
         },
         "mode": "markers",
         "name": "Lao People's Democratic Republic",
         "showlegend": true,
         "type": "scatter",
         "x": [
          1850.2
         ],
         "xaxis": "x",
         "y": [
          10.913592072182132
         ],
         "yaxis": "y"
        },
        {
         "hovertemplate": "<b>%{hovertext}</b><br><br>Country=Latvia<br>GDP per capita (current US$)=%{x}<br>Average Internet usage over the years=%{marker.size}<extra></extra>",
         "hovertext": [
          "Latvia"
         ],
         "legendgroup": "Latvia",
         "marker": {
          "color": "#19d3f3",
          "size": [
           67.0370281864885
          ],
          "sizemode": "area",
          "sizeref": 0.025361307840186014,
          "symbol": "circle"
         },
         "mode": "markers",
         "name": "Latvia",
         "showlegend": true,
         "type": "scatter",
         "x": [
          13704.1
         ],
         "xaxis": "x",
         "y": [
          67.0370281864885
         ],
         "yaxis": "y"
        },
        {
         "hovertemplate": "<b>%{hovertext}</b><br><br>Country=Lebanon<br>GDP per capita (current US$)=%{x}<br>Average Internet usage over the years=%{marker.size}<extra></extra>",
         "hovertext": [
          "Lebanon"
         ],
         "legendgroup": "Lebanon",
         "marker": {
          "color": "#FF6692",
          "size": [
           49.71030039503853
          ],
          "sizemode": "area",
          "sizeref": 0.025361307840186014,
          "symbol": "circle"
         },
         "mode": "markers",
         "name": "Lebanon",
         "showlegend": true,
         "type": "scatter",
         "x": [
          8571.4
         ],
         "xaxis": "x",
         "y": [
          49.71030039503853
         ],
         "yaxis": "y"
        },
        {
         "hovertemplate": "<b>%{hovertext}</b><br><br>Country=Lesotho<br>GDP per capita (current US$)=%{x}<br>Average Internet usage over the years=%{marker.size}<extra></extra>",
         "hovertext": [
          "Lesotho"
         ],
         "legendgroup": "Lesotho",
         "marker": {
          "color": "#B6E880",
          "size": [
           12.91018650495968
          ],
          "sizemode": "area",
          "sizeref": 0.025361307840186014,
          "symbol": "circle"
         },
         "mode": "markers",
         "name": "Lesotho",
         "showlegend": true,
         "type": "scatter",
         "x": [
          940.6
         ],
         "xaxis": "x",
         "y": [
          12.91018650495968
         ],
         "yaxis": "y"
        },
        {
         "hovertemplate": "<b>%{hovertext}</b><br><br>Country=Liberia<br>GDP per capita (current US$)=%{x}<br>Average Internet usage over the years=%{marker.size}<extra></extra>",
         "hovertext": [
          "Liberia"
         ],
         "legendgroup": "Liberia",
         "marker": {
          "color": "#FF97FF",
          "size": [
           5.84829898533049
          ],
          "sizemode": "area",
          "sizeref": 0.025361307840186014,
          "symbol": "circle"
         },
         "mode": "markers",
         "name": "Liberia",
         "showlegend": true,
         "type": "scatter",
         "x": [
          455.9
         ],
         "xaxis": "x",
         "y": [
          5.84829898533049
         ],
         "yaxis": "y"
        },
        {
         "hovertemplate": "<b>%{hovertext}</b><br><br>Country=Libya<br>GDP per capita (current US$)=%{x}<br>Average Internet usage over the years=%{marker.size}<extra></extra>",
         "hovertext": [
          "Libya"
         ],
         "legendgroup": "Libya",
         "marker": {
          "color": "#FECB52",
          "size": [
           11.582908232692784
          ],
          "sizemode": "area",
          "sizeref": 0.025361307840186014,
          "symbol": "circle"
         },
         "mode": "markers",
         "name": "Libya",
         "showlegend": true,
         "type": "scatter",
         "x": [
          5488.2
         ],
         "xaxis": "x",
         "y": [
          11.582908232692784
         ],
         "yaxis": "y"
        },
        {
         "hovertemplate": "<b>%{hovertext}</b><br><br>Country=Liechtenstein<br>GDP per capita (current US$)=%{x}<br>Average Internet usage over the years=%{marker.size}<extra></extra>",
         "hovertext": [
          "Liechtenstein"
         ],
         "legendgroup": "Liechtenstein",
         "marker": {
          "color": "#636efa",
          "size": [
           76.01267136626718
          ],
          "sizemode": "area",
          "sizeref": 0.025361307840186014,
          "symbol": "circle"
         },
         "mode": "markers",
         "name": "Liechtenstein",
         "showlegend": true,
         "type": "scatter",
         "x": [
          169491.8
         ],
         "xaxis": "x",
         "y": [
          76.01267136626718
         ],
         "yaxis": "y"
        },
        {
         "hovertemplate": "<b>%{hovertext}</b><br><br>Country=Lithuania<br>GDP per capita (current US$)=%{x}<br>Average Internet usage over the years=%{marker.size}<extra></extra>",
         "hovertext": [
          "Lithuania"
         ],
         "legendgroup": "Lithuania",
         "marker": {
          "color": "#EF553B",
          "size": [
           61.755674460062615
          ],
          "sizemode": "area",
          "sizeref": 0.025361307840186014,
          "symbol": "circle"
         },
         "mode": "markers",
         "name": "Lithuania",
         "showlegend": true,
         "type": "scatter",
         "x": [
          14383.7
         ],
         "xaxis": "x",
         "y": [
          61.755674460062615
         ],
         "yaxis": "y"
        },
        {
         "hovertemplate": "<b>%{hovertext}</b><br><br>Country=Luxembourg<br>GDP per capita (current US$)=%{x}<br>Average Internet usage over the years=%{marker.size}<extra></extra>",
         "hovertext": [
          "Luxembourg"
         ],
         "legendgroup": "Luxembourg",
         "marker": {
          "color": "#00cc96",
          "size": [
           85.71586981594385
          ],
          "sizemode": "area",
          "sizeref": 0.025361307840186014,
          "symbol": "circle"
         },
         "mode": "markers",
         "name": "Luxembourg",
         "showlegend": true,
         "type": "scatter",
         "x": [
          100160.8
         ],
         "xaxis": "x",
         "y": [
          85.71586981594385
         ],
         "yaxis": "y"
        },
        {
         "hovertemplate": "<b>%{hovertext}</b><br><br>Country=China, Macao SAR<br>GDP per capita (current US$)=%{x}<br>Average Internet usage over the years=%{marker.size}<extra></extra>",
         "hovertext": [
          "China, Macao SAR"
         ],
         "legendgroup": "China, Macao SAR",
         "marker": {
          "color": "#ab63fa",
          "size": [
           62.4522281484999
          ],
          "sizemode": "area",
          "sizeref": 0.025361307840186014,
          "symbol": "circle"
         },
         "mode": "markers",
         "name": "China, Macao SAR",
         "showlegend": true,
         "type": "scatter",
         "x": [
          78586.4
         ],
         "xaxis": "x",
         "y": [
          62.4522281484999
         ],
         "yaxis": "y"
        },
        {
         "hovertemplate": "<b>%{hovertext}</b><br><br>Country=Madagascar<br>GDP per capita (current US$)=%{x}<br>Average Internet usage over the years=%{marker.size}<extra></extra>",
         "hovertext": [
          "Madagascar"
         ],
         "legendgroup": "Madagascar",
         "marker": {
          "color": "#FFA15A",
          "size": [
           2.913795598431704
          ],
          "sizemode": "area",
          "sizeref": 0.025361307840186014,
          "symbol": "circle"
         },
         "mode": "markers",
         "name": "Madagascar",
         "showlegend": true,
         "type": "scatter",
         "x": [
          401.8
         ],
         "xaxis": "x",
         "y": [
          2.913795598431704
         ],
         "yaxis": "y"
        },
        {
         "hovertemplate": "<b>%{hovertext}</b><br><br>Country=Malawi<br>GDP per capita (current US$)=%{x}<br>Average Internet usage over the years=%{marker.size}<extra></extra>",
         "hovertext": [
          "Malawi"
         ],
         "legendgroup": "Malawi",
         "marker": {
          "color": "#19d3f3",
          "size": [
           4.716730424620625
          ],
          "sizemode": "area",
          "sizeref": 0.025361307840186014,
          "symbol": "circle"
         },
         "mode": "markers",
         "name": "Malawi",
         "showlegend": true,
         "type": "scatter",
         "x": [
          372.9
         ],
         "xaxis": "x",
         "y": [
          4.716730424620625
         ],
         "yaxis": "y"
        },
        {
         "hovertemplate": "<b>%{hovertext}</b><br><br>Country=Malaysia<br>GDP per capita (current US$)=%{x}<br>Average Internet usage over the years=%{marker.size}<extra></extra>",
         "hovertext": [
          "Malaysia"
         ],
         "legendgroup": "Malaysia",
         "marker": {
          "color": "#FF6692",
          "size": [
           62.27558208681162
          ],
          "sizemode": "area",
          "sizeref": 0.025361307840186014,
          "symbol": "circle"
         },
         "mode": "markers",
         "name": "Malaysia",
         "showlegend": true,
         "type": "scatter",
         "x": [
          9768.4
         ],
         "xaxis": "x",
         "y": [
          62.27558208681162
         ],
         "yaxis": "y"
        },
        {
         "hovertemplate": "<b>%{hovertext}</b><br><br>Country=Maldives<br>GDP per capita (current US$)=%{x}<br>Average Internet usage over the years=%{marker.size}<extra></extra>",
         "hovertext": [
          "Maldives"
         ],
         "legendgroup": "Maldives",
         "marker": {
          "color": "#B6E880",
          "size": [
           34.42307172759476
          ],
          "sizemode": "area",
          "sizeref": 0.025361307840186014,
          "symbol": "circle"
         },
         "mode": "markers",
         "name": "Maldives",
         "showlegend": true,
         "type": "scatter",
         "x": [
          9446.5
         ],
         "xaxis": "x",
         "y": [
          34.42307172759476
         ],
         "yaxis": "y"
        },
        {
         "hovertemplate": "<b>%{hovertext}</b><br><br>Country=Mali<br>GDP per capita (current US$)=%{x}<br>Average Internet usage over the years=%{marker.size}<extra></extra>",
         "hovertext": [
          "Mali"
         ],
         "legendgroup": "Mali",
         "marker": {
          "color": "#FF97FF",
          "size": [
           4.781072307278212
          ],
          "sizemode": "area",
          "sizeref": 0.025361307840186014,
          "symbol": "circle"
         },
         "mode": "markers",
         "name": "Mali",
         "showlegend": true,
         "type": "scatter",
         "x": [
          744.3
         ],
         "xaxis": "x",
         "y": [
          4.781072307278212
         ],
         "yaxis": "y"
        },
        {
         "hovertemplate": "<b>%{hovertext}</b><br><br>Country=Malta<br>GDP per capita (current US$)=%{x}<br>Average Internet usage over the years=%{marker.size}<extra></extra>",
         "hovertext": [
          "Malta"
         ],
         "legendgroup": "Malta",
         "marker": {
          "color": "#FECB52",
          "size": [
           64.73703629046764
          ],
          "sizemode": "area",
          "sizeref": 0.025361307840186014,
          "symbol": "circle"
         },
         "mode": "markers",
         "name": "Malta",
         "showlegend": true,
         "type": "scatter",
         "x": [
          23280.7
         ],
         "xaxis": "x",
         "y": [
          64.73703629046764
         ],
         "yaxis": "y"
        },
        {
         "hovertemplate": "<b>%{hovertext}</b><br><br>Country=Marshall Islands<br>GDP per capita (current US$)=%{x}<br>Average Internet usage over the years=%{marker.size}<extra></extra>",
         "hovertext": [
          "Marshall Islands"
         ],
         "legendgroup": "Marshall Islands",
         "marker": {
          "color": "#636efa",
          "size": [
           13.953123452721828
          ],
          "sizemode": "area",
          "sizeref": 0.025361307840186014,
          "symbol": "circle"
         },
         "mode": "markers",
         "name": "Marshall Islands",
         "showlegend": true,
         "type": "scatter",
         "x": [
          3452.6
         ],
         "xaxis": "x",
         "y": [
          13.953123452721828
         ],
         "yaxis": "y"
        },
        {
         "hovertemplate": "<b>%{hovertext}</b><br><br>Country=Mauritania<br>GDP per capita (current US$)=%{x}<br>Average Internet usage over the years=%{marker.size}<extra></extra>",
         "hovertext": [
          "Mauritania"
         ],
         "legendgroup": "Mauritania",
         "marker": {
          "color": "#EF553B",
          "size": [
           7.75109893541522
          ],
          "sizemode": "area",
          "sizeref": 0.025361307840186014,
          "symbol": "circle"
         },
         "mode": "markers",
         "name": "Mauritania",
         "showlegend": true,
         "type": "scatter",
         "x": [
          1235
         ],
         "xaxis": "x",
         "y": [
          7.75109893541522
         ],
         "yaxis": "y"
        },
        {
         "hovertemplate": "<b>%{hovertext}</b><br><br>Country=Mauritius<br>GDP per capita (current US$)=%{x}<br>Average Internet usage over the years=%{marker.size}<extra></extra>",
         "hovertext": [
          "Mauritius"
         ],
         "legendgroup": "Mauritius",
         "marker": {
          "color": "#00cc96",
          "size": [
           38.40035625382354
          ],
          "sizemode": "area",
          "sizeref": 0.025361307840186014,
          "symbol": "circle"
         },
         "mode": "markers",
         "name": "Mauritius",
         "showlegend": true,
         "type": "scatter",
         "x": [
          9040.9
         ],
         "xaxis": "x",
         "y": [
          38.40035625382354
         ],
         "yaxis": "y"
        },
        {
         "hovertemplate": "<b>%{hovertext}</b><br><br>Country=Mexico<br>GDP per capita (current US$)=%{x}<br>Average Internet usage over the years=%{marker.size}<extra></extra>",
         "hovertext": [
          "Mexico"
         ],
         "legendgroup": "Mexico",
         "marker": {
          "color": "#ab63fa",
          "size": [
           42.2467320112896
          ],
          "sizemode": "area",
          "sizeref": 0.025361307840186014,
          "symbol": "circle"
         },
         "mode": "markers",
         "name": "Mexico",
         "showlegend": true,
         "type": "scatter",
         "x": [
          8980.9
         ],
         "xaxis": "x",
         "y": [
          42.2467320112896
         ],
         "yaxis": "y"
        },
        {
         "hovertemplate": "<b>%{hovertext}</b><br><br>Country=Micronesia (Federated States of)<br>GDP per capita (current US$)=%{x}<br>Average Internet usage over the years=%{marker.size}<extra></extra>",
         "hovertext": [
          "Micronesia (Federated States of)"
         ],
         "legendgroup": "Micronesia (Federated States of)",
         "marker": {
          "color": "#FFA15A",
          "size": [
           21.999813721176654
          ],
          "sizemode": "area",
          "sizeref": 0.025361307840186014,
          "symbol": "circle"
         },
         "mode": "markers",
         "name": "Micronesia (Federated States of)",
         "showlegend": true,
         "type": "scatter",
         "x": [
          3015.2
         ],
         "xaxis": "x",
         "y": [
          21.999813721176654
         ],
         "yaxis": "y"
        },
        {
         "hovertemplate": "<b>%{hovertext}</b><br><br>Country=Moldova<br>GDP per capita (current US$)=%{x}<br>Average Internet usage over the years=%{marker.size}<extra></extra>",
         "hovertext": [
          null
         ],
         "legendgroup": "Moldova",
         "marker": {
          "color": "#19d3f3",
          "size": [
           42.973421443185515
          ],
          "sizemode": "area",
          "sizeref": 0.025361307840186014,
          "symbol": "circle"
         },
         "mode": "markers",
         "name": "Moldova",
         "showlegend": true,
         "type": "scatter",
         "x": [
          null
         ],
         "xaxis": "x",
         "y": [
          42.973421443185515
         ],
         "yaxis": "y"
        },
        {
         "hovertemplate": "<b>%{hovertext}</b><br><br>Country=Monaco<br>GDP per capita (current US$)=%{x}<br>Average Internet usage over the years=%{marker.size}<extra></extra>",
         "hovertext": [
          "Monaco"
         ],
         "legendgroup": "Monaco",
         "marker": {
          "color": "#FF6692",
          "size": [
           73.51583148429559
          ],
          "sizemode": "area",
          "sizeref": 0.025361307840186014,
          "symbol": "circle"
         },
         "mode": "markers",
         "name": "Monaco",
         "showlegend": true,
         "type": "scatter",
         "x": [
          165870.6
         ],
         "xaxis": "x",
         "y": [
          73.51583148429559
         ],
         "yaxis": "y"
        },
        {
         "hovertemplate": "<b>%{hovertext}</b><br><br>Country=Mongolia<br>GDP per capita (current US$)=%{x}<br>Average Internet usage over the years=%{marker.size}<extra></extra>",
         "hovertext": [
          "Mongolia"
         ],
         "legendgroup": "Mongolia",
         "marker": {
          "color": "#B6E880",
          "size": [
           13.316192235586493
          ],
          "sizemode": "area",
          "sizeref": 0.025361307840186014,
          "symbol": "circle"
         },
         "mode": "markers",
         "name": "Mongolia",
         "showlegend": true,
         "type": "scatter",
         "x": [
          3973.4
         ],
         "xaxis": "x",
         "y": [
          13.316192235586493
         ],
         "yaxis": "y"
        },
        {
         "hovertemplate": "<b>%{hovertext}</b><br><br>Country=Montenegro<br>GDP per capita (current US$)=%{x}<br>Average Internet usage over the years=%{marker.size}<extra></extra>",
         "hovertext": [
          "Montenegro"
         ],
         "legendgroup": "Montenegro",
         "marker": {
          "color": "#FF97FF",
          "size": [
           50.831921564433515
          ],
          "sizemode": "area",
          "sizeref": 0.025361307840186014,
          "symbol": "circle"
         },
         "mode": "markers",
         "name": "Montenegro",
         "showlegend": true,
         "type": "scatter",
         "x": [
          6424.1
         ],
         "xaxis": "x",
         "y": [
          50.831921564433515
         ],
         "yaxis": "y"
        },
        {
         "hovertemplate": "<b>%{hovertext}</b><br><br>Country=Morocco<br>GDP per capita (current US$)=%{x}<br>Average Internet usage over the years=%{marker.size}<extra></extra>",
         "hovertext": [
          "Morocco"
         ],
         "legendgroup": "Morocco",
         "marker": {
          "color": "#FECB52",
          "size": [
           47.63809865270177
          ],
          "sizemode": "area",
          "sizeref": 0.025361307840186014,
          "symbol": "circle"
         },
         "mode": "markers",
         "name": "Morocco",
         "showlegend": true,
         "type": "scatter",
         "x": [
          2919.3
         ],
         "xaxis": "x",
         "y": [
          47.63809865270177
         ],
         "yaxis": "y"
        },
        {
         "hovertemplate": "<b>%{hovertext}</b><br><br>Country=Mozambique<br>GDP per capita (current US$)=%{x}<br>Average Internet usage over the years=%{marker.size}<extra></extra>",
         "hovertext": [
          "Mozambique"
         ],
         "legendgroup": "Mozambique",
         "marker": {
          "color": "#636efa",
          "size": [
           6.947179450090141
          ],
          "sizemode": "area",
          "sizeref": 0.025361307840186014,
          "symbol": "circle"
         },
         "mode": "markers",
         "name": "Mozambique",
         "showlegend": true,
         "type": "scatter",
         "x": [
          529.2
         ],
         "xaxis": "x",
         "y": [
          6.947179450090141
         ],
         "yaxis": "y"
        },
        {
         "hovertemplate": "<b>%{hovertext}</b><br><br>Country=Myanmar<br>GDP per capita (current US$)=%{x}<br>Average Internet usage over the years=%{marker.size}<extra></extra>",
         "hovertext": [
          "Myanmar"
         ],
         "legendgroup": "Myanmar",
         "marker": {
          "color": "#EF553B",
          "size": [
           9.299323656250941
          ],
          "sizemode": "area",
          "sizeref": 0.025361307840186014,
          "symbol": "circle"
         },
         "mode": "markers",
         "name": "Myanmar",
         "showlegend": true,
         "type": "scatter",
         "x": [
          1161.5
         ],
         "xaxis": "x",
         "y": [
          9.299323656250941
         ],
         "yaxis": "y"
        },
        {
         "hovertemplate": "<b>%{hovertext}</b><br><br>Country=Namibia<br>GDP per capita (current US$)=%{x}<br>Average Internet usage over the years=%{marker.size}<extra></extra>",
         "hovertext": [
          "Namibia"
         ],
         "legendgroup": "Namibia",
         "marker": {
          "color": "#00cc96",
          "size": [
           16.241580359094375
          ],
          "sizemode": "area",
          "sizeref": 0.025361307840186014,
          "symbol": "circle"
         },
         "mode": "markers",
         "name": "Namibia",
         "showlegend": true,
         "type": "scatter",
         "x": [
          4673.6
         ],
         "xaxis": "x",
         "y": [
          16.241580359094375
         ],
         "yaxis": "y"
        },
        {
         "hovertemplate": "<b>%{hovertext}</b><br><br>Country=Nauru<br>GDP per capita (current US$)=%{x}<br>Average Internet usage over the years=%{marker.size}<extra></extra>",
         "hovertext": [
          "Nauru"
         ],
         "legendgroup": "Nauru",
         "marker": {
          "color": "#ab63fa",
          "size": [
           10.090909090909092
          ],
          "sizemode": "area",
          "sizeref": 0.025361307840186014,
          "symbol": "circle"
         },
         "mode": "markers",
         "name": "Nauru",
         "showlegend": true,
         "type": "scatter",
         "x": [
          18469.2
         ],
         "xaxis": "x",
         "y": [
          10.090909090909092
         ],
         "yaxis": "y"
        },
        {
         "hovertemplate": "<b>%{hovertext}</b><br><br>Country=Nepal (Republic of)<br>GDP per capita (current US$)=%{x}<br>Average Internet usage over the years=%{marker.size}<extra></extra>",
         "hovertext": [
          null
         ],
         "legendgroup": "Nepal (Republic of)",
         "marker": {
          "color": "#FFA15A",
          "size": [
           11.738262253886141
          ],
          "sizemode": "area",
          "sizeref": 0.025361307840186014,
          "symbol": "circle"
         },
         "mode": "markers",
         "name": "Nepal (Republic of)",
         "showlegend": true,
         "type": "scatter",
         "x": [
          null
         ],
         "xaxis": "x",
         "y": [
          11.738262253886141
         ],
         "yaxis": "y"
        },
        {
         "hovertemplate": "<b>%{hovertext}</b><br><br>Country=Netherlands<br>GDP per capita (current US$)=%{x}<br>Average Internet usage over the years=%{marker.size}<extra></extra>",
         "hovertext": [
          "Netherlands"
         ],
         "legendgroup": "Netherlands",
         "marker": {
          "color": "#19d3f3",
          "size": [
           86.87744135978693
          ],
          "sizemode": "area",
          "sizeref": 0.025361307840186014,
          "symbol": "circle"
         },
         "mode": "markers",
         "name": "Netherlands",
         "showlegend": true,
         "type": "scatter",
         "x": [
          44332.1
         ],
         "xaxis": "x",
         "y": [
          86.87744135978693
         ],
         "yaxis": "y"
        },
        {
         "hovertemplate": "<b>%{hovertext}</b><br><br>Country=New Zealand<br>GDP per capita (current US$)=%{x}<br>Average Internet usage over the years=%{marker.size}<extra></extra>",
         "hovertext": [
          "New Zealand"
         ],
         "legendgroup": "New Zealand",
         "marker": {
          "color": "#FF6692",
          "size": [
           71.74712793900886
          ],
          "sizemode": "area",
          "sizeref": 0.025361307840186014,
          "symbol": "circle"
         },
         "mode": "markers",
         "name": "New Zealand",
         "showlegend": true,
         "type": "scatter",
         "x": [
          38294.3
         ],
         "xaxis": "x",
         "y": [
          71.74712793900886
         ],
         "yaxis": "y"
        },
        {
         "hovertemplate": "<b>%{hovertext}</b><br><br>Country=Nicaragua<br>GDP per capita (current US$)=%{x}<br>Average Internet usage over the years=%{marker.size}<extra></extra>",
         "hovertext": [
          "Nicaragua"
         ],
         "legendgroup": "Nicaragua",
         "marker": {
          "color": "#B6E880",
          "size": [
           12.989612102778066
          ],
          "sizemode": "area",
          "sizeref": 0.025361307840186014,
          "symbol": "circle"
         },
         "mode": "markers",
         "name": "Nicaragua",
         "showlegend": true,
         "type": "scatter",
         "x": [
          2086.9
         ],
         "xaxis": "x",
         "y": [
          12.989612102778066
         ],
         "yaxis": "y"
        },
        {
         "hovertemplate": "<b>%{hovertext}</b><br><br>Country=Niger<br>GDP per capita (current US$)=%{x}<br>Average Internet usage over the years=%{marker.size}<extra></extra>",
         "hovertext": [
          "Niger"
         ],
         "legendgroup": "Niger",
         "marker": {
          "color": "#FF97FF",
          "size": [
           2.519095962390164
          ],
          "sizemode": "area",
          "sizeref": 0.025361307840186014,
          "symbol": "circle"
         },
         "mode": "markers",
         "name": "Niger",
         "showlegend": true,
         "type": "scatter",
         "x": [
          359
         ],
         "xaxis": "x",
         "y": [
          2.519095962390164
         ],
         "yaxis": "y"
        },
        {
         "hovertemplate": "<b>%{hovertext}</b><br><br>Country=Nigeria<br>GDP per capita (current US$)=%{x}<br>Average Internet usage over the years=%{marker.size}<extra></extra>",
         "hovertext": [
          "Nigeria"
         ],
         "legendgroup": "Nigeria",
         "marker": {
          "color": "#FECB52",
          "size": [
           17.162112411446756
          ],
          "sizemode": "area",
          "sizeref": 0.025361307840186014,
          "symbol": "circle"
         },
         "mode": "markers",
         "name": "Nigeria",
         "showlegend": true,
         "type": "scatter",
         "x": [
          2714.5
         ],
         "xaxis": "x",
         "y": [
          17.162112411446756
         ],
         "yaxis": "y"
        },
        {
         "hovertemplate": "<b>%{hovertext}</b><br><br>Country=Norway<br>GDP per capita (current US$)=%{x}<br>Average Internet usage over the years=%{marker.size}<extra></extra>",
         "hovertext": [
          "Norway"
         ],
         "legendgroup": "Norway",
         "marker": {
          "color": "#636efa",
          "size": [
           90.34828396941448
          ],
          "sizemode": "area",
          "sizeref": 0.025361307840186014,
          "symbol": "circle"
         },
         "mode": "markers",
         "name": "Norway",
         "showlegend": true,
         "type": "scatter",
         "x": [
          74185.5
         ],
         "xaxis": "x",
         "y": [
          90.34828396941448
         ],
         "yaxis": "y"
        },
        {
         "hovertemplate": "<b>%{hovertext}</b><br><br>Country=Oman<br>GDP per capita (current US$)=%{x}<br>Average Internet usage over the years=%{marker.size}<extra></extra>",
         "hovertext": [
          "Oman"
         ],
         "legendgroup": "Oman",
         "marker": {
          "color": "#EF553B",
          "size": [
           47.38752991272483
          ],
          "sizemode": "area",
          "sizeref": 0.025361307840186014,
          "symbol": "circle"
         },
         "mode": "markers",
         "name": "Oman",
         "showlegend": true,
         "type": "scatter",
         "x": [
          15550.8
         ],
         "xaxis": "x",
         "y": [
          47.38752991272483
         ],
         "yaxis": "y"
        },
        {
         "hovertemplate": "<b>%{hovertext}</b><br><br>Country=Pakistan<br>GDP per capita (current US$)=%{x}<br>Average Internet usage over the years=%{marker.size}<extra></extra>",
         "hovertext": [
          "Pakistan"
         ],
         "legendgroup": "Pakistan",
         "marker": {
          "color": "#00cc96",
          "size": [
           8.91707053257344
          ],
          "sizemode": "area",
          "sizeref": 0.025361307840186014,
          "symbol": "circle"
         },
         "mode": "markers",
         "name": "Pakistan",
         "showlegend": true,
         "type": "scatter",
         "x": [
          1410.4
         ],
         "xaxis": "x",
         "y": [
          8.91707053257344
         ],
         "yaxis": "y"
        },
        {
         "hovertemplate": "<b>%{hovertext}</b><br><br>Country=Palestine<br>GDP per capita (current US$)=%{x}<br>Average Internet usage over the years=%{marker.size}<extra></extra>",
         "hovertext": [
          null
         ],
         "legendgroup": "Palestine",
         "marker": {
          "color": "#ab63fa",
          "size": [
           44.315352469079954
          ],
          "sizemode": "area",
          "sizeref": 0.025361307840186014,
          "symbol": "circle"
         },
         "mode": "markers",
         "name": "Palestine",
         "showlegend": true,
         "type": "scatter",
         "x": [
          null
         ],
         "xaxis": "x",
         "y": [
          44.315352469079954
         ],
         "yaxis": "y"
        },
        {
         "hovertemplate": "<b>%{hovertext}</b><br><br>Country=Panama<br>GDP per capita (current US$)=%{x}<br>Average Internet usage over the years=%{marker.size}<extra></extra>",
         "hovertext": [
          "Panama"
         ],
         "legendgroup": "Panama",
         "marker": {
          "color": "#FFA15A",
          "size": [
           35.741928730648
          ],
          "sizemode": "area",
          "sizeref": 0.025361307840186014,
          "symbol": "circle"
         },
         "mode": "markers",
         "name": "Panama",
         "showlegend": true,
         "type": "scatter",
         "x": [
          13268.1
         ],
         "xaxis": "x",
         "y": [
          35.741928730648
         ],
         "yaxis": "y"
        },
        {
         "hovertemplate": "<b>%{hovertext}</b><br><br>Country=Papua New Guinea<br>GDP per capita (current US$)=%{x}<br>Average Internet usage over the years=%{marker.size}<extra></extra>",
         "hovertext": [
          "Papua New Guinea"
         ],
         "legendgroup": "Papua New Guinea",
         "marker": {
          "color": "#19d3f3",
          "size": [
           4.512924984762882
          ],
          "sizemode": "area",
          "sizeref": 0.025361307840186014,
          "symbol": "circle"
         },
         "mode": "markers",
         "name": "Papua New Guinea",
         "showlegend": true,
         "type": "scatter",
         "x": [
          2797.6
         ],
         "xaxis": "x",
         "y": [
          4.512924984762882
         ],
         "yaxis": "y"
        },
        {
         "hovertemplate": "<b>%{hovertext}</b><br><br>Country=Paraguay<br>GDP per capita (current US$)=%{x}<br>Average Internet usage over the years=%{marker.size}<extra></extra>",
         "hovertext": [
          "Paraguay"
         ],
         "legendgroup": "Paraguay",
         "marker": {
          "color": "#FF6692",
          "size": [
           35.604689197812355
          ],
          "sizemode": "area",
          "sizeref": 0.025361307840186014,
          "symbol": "circle"
         },
         "mode": "markers",
         "name": "Paraguay",
         "showlegend": true,
         "type": "scatter",
         "x": [
          4174.4
         ],
         "xaxis": "x",
         "y": [
          35.604689197812355
         ],
         "yaxis": "y"
        },
        {
         "hovertemplate": "<b>%{hovertext}</b><br><br>Country=Peru<br>GDP per capita (current US$)=%{x}<br>Average Internet usage over the years=%{marker.size}<extra></extra>",
         "hovertext": [
          "Peru"
         ],
         "legendgroup": "Peru",
         "marker": {
          "color": "#B6E880",
          "size": [
           36.01261047658745
          ],
          "sizemode": "area",
          "sizeref": 0.025361307840186014,
          "symbol": "circle"
         },
         "mode": "markers",
         "name": "Peru",
         "showlegend": true,
         "type": "scatter",
         "x": [
          6069.1
         ],
         "xaxis": "x",
         "y": [
          36.01261047658745
         ],
         "yaxis": "y"
        },
        {
         "hovertemplate": "<b>%{hovertext}</b><br><br>Country=Philippines<br>GDP per capita (current US$)=%{x}<br>Average Internet usage over the years=%{marker.size}<extra></extra>",
         "hovertext": [
          "Philippines"
         ],
         "legendgroup": "Philippines",
         "marker": {
          "color": "#FF97FF",
          "size": [
           31.53352485892228
          ],
          "sizemode": "area",
          "sizeref": 0.025361307840186014,
          "symbol": "circle"
         },
         "mode": "markers",
         "name": "Philippines",
         "showlegend": true,
         "type": "scatter",
         "x": [
          2904.2
         ],
         "xaxis": "x",
         "y": [
          31.53352485892228
         ],
         "yaxis": "y"
        },
        {
         "hovertemplate": "<b>%{hovertext}</b><br><br>Country=Poland<br>GDP per capita (current US$)=%{x}<br>Average Internet usage over the years=%{marker.size}<extra></extra>",
         "hovertext": [
          "Poland"
         ],
         "legendgroup": "Poland",
         "marker": {
          "color": "#FECB52",
          "size": [
           59.72267541213726
          ],
          "sizemode": "area",
          "sizeref": 0.025361307840186014,
          "symbol": "circle"
         },
         "mode": "markers",
         "name": "Poland",
         "showlegend": true,
         "type": "scatter",
         "x": [
          12355.5
         ],
         "xaxis": "x",
         "y": [
          59.72267541213726
         ],
         "yaxis": "y"
        },
        {
         "hovertemplate": "<b>%{hovertext}</b><br><br>Country=Portugal<br>GDP per capita (current US$)=%{x}<br>Average Internet usage over the years=%{marker.size}<extra></extra>",
         "hovertext": [
          "Portugal"
         ],
         "legendgroup": "Portugal",
         "marker": {
          "color": "#636efa",
          "size": [
           57.68224648890957
          ],
          "sizemode": "area",
          "sizeref": 0.025361307840186014,
          "symbol": "circle"
         },
         "mode": "markers",
         "name": "Portugal",
         "showlegend": true,
         "type": "scatter",
         "x": [
          19239.2
         ],
         "xaxis": "x",
         "y": [
          57.68224648890957
         ],
         "yaxis": "y"
        },
        {
         "hovertemplate": "<b>%{hovertext}</b><br><br>Country=Puerto Rico<br>GDP per capita (current US$)=%{x}<br>Average Internet usage over the years=%{marker.size}<extra></extra>",
         "hovertext": [
          "Puerto Rico"
         ],
         "legendgroup": "Puerto Rico",
         "marker": {
          "color": "#EF553B",
          "size": [
           42.53512291391031
          ],
          "sizemode": "area",
          "sizeref": 0.025361307840186014,
          "symbol": "circle"
         },
         "mode": "markers",
         "name": "Puerto Rico",
         "showlegend": true,
         "type": "scatter",
         "x": [
          27939
         ],
         "xaxis": "x",
         "y": [
          42.53512291391031
         ],
         "yaxis": "y"
        },
        {
         "hovertemplate": "<b>%{hovertext}</b><br><br>Country=Qatar<br>GDP per capita (current US$)=%{x}<br>Average Internet usage over the years=%{marker.size}<extra></extra>",
         "hovertext": [
          "Qatar"
         ],
         "legendgroup": "Qatar",
         "marker": {
          "color": "#00cc96",
          "size": [
           72.61257817009086
          ],
          "sizemode": "area",
          "sizeref": 0.025361307840186014,
          "symbol": "circle"
         },
         "mode": "markers",
         "name": "Qatar",
         "showlegend": true,
         "type": "scatter",
         "x": [
          73653.4
         ],
         "xaxis": "x",
         "y": [
          72.61257817009086
         ],
         "yaxis": "y"
        },
        {
         "hovertemplate": "<b>%{hovertext}</b><br><br>Country=Romania<br>GDP per capita (current US$)=%{x}<br>Average Internet usage over the years=%{marker.size}<extra></extra>",
         "hovertext": [
          "Romania"
         ],
         "legendgroup": "Romania",
         "marker": {
          "color": "#ab63fa",
          "size": [
           45.861265429333436
          ],
          "sizemode": "area",
          "sizeref": 0.025361307840186014,
          "symbol": "circle"
         },
         "mode": "markers",
         "name": "Romania",
         "showlegend": true,
         "type": "scatter",
         "x": [
          9120.7
         ],
         "xaxis": "x",
         "y": [
          45.861265429333436
         ],
         "yaxis": "y"
        },
        {
         "hovertemplate": "<b>%{hovertext}</b><br><br>Country=Russia<br>GDP per capita (current US$)=%{x}<br>Average Internet usage over the years=%{marker.size}<extra></extra>",
         "hovertext": [
          "Russia"
         ],
         "legendgroup": "Russia",
         "marker": {
          "color": "#FFA15A",
          "size": [
           55.596199846814265
          ],
          "sizemode": "area",
          "sizeref": 0.025361307840186014,
          "symbol": "circle"
         },
         "mode": "markers",
         "name": "Russia",
         "showlegend": true,
         "type": "scatter",
         "x": [
          9243.3
         ],
         "xaxis": "x",
         "y": [
          55.596199846814265
         ],
         "yaxis": "y"
        },
        {
         "hovertemplate": "<b>%{hovertext}</b><br><br>Country=Rwanda<br>GDP per capita (current US$)=%{x}<br>Average Internet usage over the years=%{marker.size}<extra></extra>",
         "hovertext": [
          "Rwanda"
         ],
         "legendgroup": "Rwanda",
         "marker": {
          "color": "#19d3f3",
          "size": [
           9.364578138425099
          ],
          "sizemode": "area",
          "sizeref": 0.025361307840186014,
          "symbol": "circle"
         },
         "mode": "markers",
         "name": "Rwanda",
         "showlegend": true,
         "type": "scatter",
         "x": [
          697.3
         ],
         "xaxis": "x",
         "y": [
          9.364578138425099
         ],
         "yaxis": "y"
        },
        {
         "hovertemplate": "<b>%{hovertext}</b><br><br>Country=Saint Kitts and Nevis<br>GDP per capita (current US$)=%{x}<br>Average Internet usage over the years=%{marker.size}<extra></extra>",
         "hovertext": [
          "Saint Kitts and Nevis"
         ],
         "legendgroup": "Saint Kitts and Nevis",
         "marker": {
          "color": "#FF6692",
          "size": [
           54.17187963239342
          ],
          "sizemode": "area",
          "sizeref": 0.025361307840186014,
          "symbol": "circle"
         },
         "mode": "markers",
         "name": "Saint Kitts and Nevis",
         "showlegend": true,
         "type": "scatter",
         "x": [
          15771.9
         ],
         "xaxis": "x",
         "y": [
          54.17187963239342
         ],
         "yaxis": "y"
        },
        {
         "hovertemplate": "<b>%{hovertext}</b><br><br>Country=Saint Lucia<br>GDP per capita (current US$)=%{x}<br>Average Internet usage over the years=%{marker.size}<extra></extra>",
         "hovertext": [
          "Saint Lucia"
         ],
         "legendgroup": "Saint Lucia",
         "marker": {
          "color": "#B6E880",
          "size": [
           31.25030178161835
          ],
          "sizemode": "area",
          "sizeref": 0.025361307840186014,
          "symbol": "circle"
         },
         "mode": "markers",
         "name": "Saint Lucia",
         "showlegend": true,
         "type": "scatter",
         "x": [
          7839.4
         ],
         "xaxis": "x",
         "y": [
          31.25030178161835
         ],
         "yaxis": "y"
        },
        {
         "hovertemplate": "<b>%{hovertext}</b><br><br>Country=Saint Vincent and the Grenadines<br>GDP per capita (current US$)=%{x}<br>Average Internet usage over the years=%{marker.size}<extra></extra>",
         "hovertext": [
          "Saint Vincent and the Grenadines"
         ],
         "legendgroup": "Saint Vincent and the Grenadines",
         "marker": {
          "color": "#FF97FF",
          "size": [
           26.90575967308647
          ],
          "sizemode": "area",
          "sizeref": 0.025361307840186014,
          "symbol": "circle"
         },
         "mode": "markers",
         "name": "Saint Vincent and the Grenadines",
         "showlegend": true,
         "type": "scatter",
         "x": [
          6739.2
         ],
         "xaxis": "x",
         "y": [
          26.90575967308647
         ],
         "yaxis": "y"
        },
        {
         "hovertemplate": "<b>%{hovertext}</b><br><br>Country=Samoa<br>GDP per capita (current US$)=%{x}<br>Average Internet usage over the years=%{marker.size}<extra></extra>",
         "hovertext": [
          "Samoa"
         ],
         "legendgroup": "Samoa",
         "marker": {
          "color": "#FECB52",
          "size": [
           14.524650349476802
          ],
          "sizemode": "area",
          "sizeref": 0.025361307840186014,
          "symbol": "circle"
         },
         "mode": "markers",
         "name": "Samoa",
         "showlegend": true,
         "type": "scatter",
         "x": [
          4006
         ],
         "xaxis": "x",
         "y": [
          14.524650349476802
         ],
         "yaxis": "y"
        },
        {
         "hovertemplate": "<b>%{hovertext}</b><br><br>Country=San Marino<br>GDP per capita (current US$)=%{x}<br>Average Internet usage over the years=%{marker.size}<extra></extra>",
         "hovertext": [
          "San Marino"
         ],
         "legendgroup": "San Marino",
         "marker": {
          "color": "#636efa",
          "size": [
           18.985578251184208
          ],
          "sizemode": "area",
          "sizeref": 0.025361307840186014,
          "symbol": "circle"
         },
         "mode": "markers",
         "name": "San Marino",
         "showlegend": true,
         "type": "scatter",
         "x": [
          49240.2
         ],
         "xaxis": "x",
         "y": [
          18.985578251184208
         ],
         "yaxis": "y"
        },
        {
         "hovertemplate": "<b>%{hovertext}</b><br><br>Country=Sao Tome and Principe<br>GDP per capita (current US$)=%{x}<br>Average Internet usage over the years=%{marker.size}<extra></extra>",
         "hovertext": [
          "Sao Tome and Principe"
         ],
         "legendgroup": "Sao Tome and Principe",
         "marker": {
          "color": "#EF553B",
          "size": [
           19.09480274855771
          ],
          "sizemode": "area",
          "sizeref": 0.025361307840186014,
          "symbol": "circle"
         },
         "mode": "markers",
         "name": "Sao Tome and Principe",
         "showlegend": true,
         "type": "scatter",
         "x": [
          1752.8
         ],
         "xaxis": "x",
         "y": [
          19.09480274855771
         ],
         "yaxis": "y"
        },
        {
         "hovertemplate": "<b>%{hovertext}</b><br><br>Country=Saudi Arabia<br>GDP per capita (current US$)=%{x}<br>Average Internet usage over the years=%{marker.size}<extra></extra>",
         "hovertext": [
          "Saudi Arabia"
         ],
         "legendgroup": "Saudi Arabia",
         "marker": {
          "color": "#00cc96",
          "size": [
           54.77771806507526
          ],
          "sizemode": "area",
          "sizeref": 0.025361307840186014,
          "symbol": "circle"
         },
         "mode": "markers",
         "name": "Saudi Arabia",
         "showlegend": true,
         "type": "scatter",
         "x": [
          20710.6
         ],
         "xaxis": "x",
         "y": [
          54.77771806507526
         ],
         "yaxis": "y"
        },
        {
         "hovertemplate": "<b>%{hovertext}</b><br><br>Country=Senegal<br>GDP per capita (current US$)=%{x}<br>Average Internet usage over the years=%{marker.size}<extra></extra>",
         "hovertext": [
          "Senegal"
         ],
         "legendgroup": "Senegal",
         "marker": {
          "color": "#ab63fa",
          "size": [
           14.841401782760874
          ],
          "sizemode": "area",
          "sizeref": 0.025361307840186014,
          "symbol": "circle"
         },
         "mode": "markers",
         "name": "Senegal",
         "showlegend": true,
         "type": "scatter",
         "x": [
          901.1
         ],
         "xaxis": "x",
         "y": [
          14.841401782760874
         ],
         "yaxis": "y"
        },
        {
         "hovertemplate": "<b>%{hovertext}</b><br><br>Country=Serbia<br>GDP per capita (current US$)=%{x}<br>Average Internet usage over the years=%{marker.size}<extra></extra>",
         "hovertext": [
          "Serbia"
         ],
         "legendgroup": "Serbia",
         "marker": {
          "color": "#FFA15A",
          "size": [
           49.917350553989245
          ],
          "sizemode": "area",
          "sizeref": 0.025361307840186014,
          "symbol": "circle"
         },
         "mode": "markers",
         "name": "Serbia",
         "showlegend": true,
         "type": "scatter",
         "x": [
          5238.6
         ],
         "xaxis": "x",
         "y": [
          49.917350553989245
         ],
         "yaxis": "y"
        },
        {
         "hovertemplate": "<b>%{hovertext}</b><br><br>Country=Seychelles<br>GDP per capita (current US$)=%{x}<br>Average Internet usage over the years=%{marker.size}<extra></extra>",
         "hovertext": [
          "Seychelles"
         ],
         "legendgroup": "Seychelles",
         "marker": {
          "color": "#19d3f3",
          "size": [
           39.56797645718501
          ],
          "sizemode": "area",
          "sizeref": 0.025361307840186014,
          "symbol": "circle"
         },
         "mode": "markers",
         "name": "Seychelles",
         "showlegend": true,
         "type": "scatter",
         "x": [
          14133.2
         ],
         "xaxis": "x",
         "y": [
          39.56797645718501
         ],
         "yaxis": "y"
        },
        {
         "hovertemplate": "<b>%{hovertext}</b><br><br>Country=Sierra Leone<br>GDP per capita (current US$)=%{x}<br>Average Internet usage over the years=%{marker.size}<extra></extra>",
         "hovertext": [
          "Sierra Leone"
         ],
         "legendgroup": "Sierra Leone",
         "marker": {
          "color": "#FF6692",
          "size": [
           3.7716864384565736
          ],
          "sizemode": "area",
          "sizeref": 0.025361307840186014,
          "symbol": "circle"
         },
         "mode": "markers",
         "name": "Sierra Leone",
         "showlegend": true,
         "type": "scatter",
         "x": [
          694.8
         ],
         "xaxis": "x",
         "y": [
          3.7716864384565736
         ],
         "yaxis": "y"
        },
        {
         "hovertemplate": "<b>%{hovertext}</b><br><br>Country=Singapore<br>GDP per capita (current US$)=%{x}<br>Average Internet usage over the years=%{marker.size}<extra></extra>",
         "hovertext": [
          "Singapore"
         ],
         "legendgroup": "Singapore",
         "marker": {
          "color": "#B6E880",
          "size": [
           73.36469931065878
          ],
          "sizemode": "area",
          "sizeref": 0.025361307840186014,
          "symbol": "circle"
         },
         "mode": "markers",
         "name": "Singapore",
         "showlegend": true,
         "type": "scatter",
         "x": [
          52239
         ],
         "xaxis": "x",
         "y": [
          73.36469931065878
         ],
         "yaxis": "y"
        },
        {
         "hovertemplate": "<b>%{hovertext}</b><br><br>Country=Slovakia<br>GDP per capita (current US$)=%{x}<br>Average Internet usage over the years=%{marker.size}<extra></extra>",
         "hovertext": [
          "Slovakia"
         ],
         "legendgroup": "Slovakia",
         "marker": {
          "color": "#FF97FF",
          "size": [
           69.9759955324702
          ],
          "sizemode": "area",
          "sizeref": 0.025361307840186014,
          "symbol": "circle"
         },
         "mode": "markers",
         "name": "Slovakia",
         "showlegend": true,
         "type": "scatter",
         "x": [
          16082.5
         ],
         "xaxis": "x",
         "y": [
          69.9759955324702
         ],
         "yaxis": "y"
        },
        {
         "hovertemplate": "<b>%{hovertext}</b><br><br>Country=Slovenia<br>GDP per capita (current US$)=%{x}<br>Average Internet usage over the years=%{marker.size}<extra></extra>",
         "hovertext": [
          "Slovenia"
         ],
         "legendgroup": "Slovenia",
         "marker": {
          "color": "#FECB52",
          "size": [
           65.37349419251974
          ],
          "sizemode": "area",
          "sizeref": 0.025361307840186014,
          "symbol": "circle"
         },
         "mode": "markers",
         "name": "Slovenia",
         "showlegend": true,
         "type": "scatter",
         "x": [
          20689.8
         ],
         "xaxis": "x",
         "y": [
          65.37349419251974
         ],
         "yaxis": "y"
        },
        {
         "hovertemplate": "<b>%{hovertext}</b><br><br>Country=Solomon Islands<br>GDP per capita (current US$)=%{x}<br>Average Internet usage over the years=%{marker.size}<extra></extra>",
         "hovertext": [
          "Solomon Islands"
         ],
         "legendgroup": "Solomon Islands",
         "marker": {
          "color": "#636efa",
          "size": [
           6.295327335877698
          ],
          "sizemode": "area",
          "sizeref": 0.025361307840186014,
          "symbol": "circle"
         },
         "mode": "markers",
         "name": "Solomon Islands",
         "showlegend": true,
         "type": "scatter",
         "x": [
          1841.6
         ],
         "xaxis": "x",
         "y": [
          6.295327335877698
         ],
         "yaxis": "y"
        },
        {
         "hovertemplate": "<b>%{hovertext}</b><br><br>Country=Somalia<br>GDP per capita (current US$)=%{x}<br>Average Internet usage over the years=%{marker.size}<extra></extra>",
         "hovertext": [
          "Somalia"
         ],
         "legendgroup": "Somalia",
         "marker": {
          "color": "#EF553B",
          "size": [
           1.1361887761410836
          ],
          "sizemode": "area",
          "sizeref": 0.025361307840186014,
          "symbol": "circle"
         },
         "mode": "markers",
         "name": "Somalia",
         "showlegend": true,
         "type": "scatter",
         "x": [
          144.5
         ],
         "xaxis": "x",
         "y": [
          1.1361887761410836
         ],
         "yaxis": "y"
        },
        {
         "hovertemplate": "<b>%{hovertext}</b><br><br>Country=South Africa<br>GDP per capita (current US$)=%{x}<br>Average Internet usage over the years=%{marker.size}<extra></extra>",
         "hovertext": [
          "South Africa"
         ],
         "legendgroup": "South Africa",
         "marker": {
          "color": "#00cc96",
          "size": [
           33.5812374956409
          ],
          "sizemode": "area",
          "sizeref": 0.025361307840186014,
          "symbol": "circle"
         },
         "mode": "markers",
         "name": "South Africa",
         "showlegend": true,
         "type": "scatter",
         "x": [
          5773
         ],
         "xaxis": "x",
         "y": [
          33.5812374956409
         ],
         "yaxis": "y"
        },
        {
         "hovertemplate": "<b>%{hovertext}</b><br><br>Country=South Sudan<br>GDP per capita (current US$)=%{x}<br>Average Internet usage over the years=%{marker.size}<extra></extra>",
         "hovertext": [
          "South Sudan"
         ],
         "legendgroup": "South Sudan",
         "marker": {
          "color": "#ab63fa",
          "size": [
           2.5912072666535426
          ],
          "sizemode": "area",
          "sizeref": 0.025361307840186014,
          "symbol": "circle"
         },
         "mode": "markers",
         "name": "South Sudan",
         "showlegend": true,
         "type": "scatter",
         "x": [
          1067
         ],
         "xaxis": "x",
         "y": [
          2.5912072666535426
         ],
         "yaxis": "y"
        },
        {
         "hovertemplate": "<b>%{hovertext}</b><br><br>Country=Spain<br>GDP per capita (current US$)=%{x}<br>Average Internet usage over the years=%{marker.size}<extra></extra>",
         "hovertext": [
          "Spain"
         ],
         "legendgroup": "Spain",
         "marker": {
          "color": "#FFA15A",
          "size": [
           67.45367012811904
          ],
          "sizemode": "area",
          "sizeref": 0.025361307840186014,
          "symbol": "circle"
         },
         "mode": "markers",
         "name": "Spain",
         "showlegend": true,
         "type": "scatter",
         "x": [
          25865.4
         ],
         "xaxis": "x",
         "y": [
          67.45367012811904
         ],
         "yaxis": "y"
        },
        {
         "hovertemplate": "<b>%{hovertext}</b><br><br>Country=Sri Lanka<br>GDP per capita (current US$)=%{x}<br>Average Internet usage over the years=%{marker.size}<extra></extra>",
         "hovertext": [
          "Sri Lanka"
         ],
         "legendgroup": "Sri Lanka",
         "marker": {
          "color": "#19d3f3",
          "size": [
           14.367109518620794
          ],
          "sizemode": "area",
          "sizeref": 0.025361307840186014,
          "symbol": "circle"
         },
         "mode": "markers",
         "name": "Sri Lanka",
         "showlegend": true,
         "type": "scatter",
         "x": [
          3973.7
         ],
         "xaxis": "x",
         "y": [
          14.367109518620794
         ],
         "yaxis": "y"
        },
        {
         "hovertemplate": "<b>%{hovertext}</b><br><br>Country=Sudan<br>GDP per capita (current US$)=%{x}<br>Average Internet usage over the years=%{marker.size}<extra></extra>",
         "hovertext": [
          "Sudan"
         ],
         "legendgroup": "Sudan",
         "marker": {
          "color": "#FF6692",
          "size": [
           15.945283761723408
          ],
          "sizemode": "area",
          "sizeref": 0.025361307840186014,
          "symbol": "circle"
         },
         "mode": "markers",
         "name": "Sudan",
         "showlegend": true,
         "type": "scatter",
         "x": [
          1977
         ],
         "xaxis": "x",
         "y": [
          15.945283761723408
         ],
         "yaxis": "y"
        },
        {
         "hovertemplate": "<b>%{hovertext}</b><br><br>Country=Suriname<br>GDP per capita (current US$)=%{x}<br>Average Internet usage over the years=%{marker.size}<extra></extra>",
         "hovertext": [
          "Suriname"
         ],
         "legendgroup": "Suriname",
         "marker": {
          "color": "#B6E880",
          "size": [
           29.251790826929618
          ],
          "sizemode": "area",
          "sizeref": 0.025361307840186014,
          "symbol": "circle"
         },
         "mode": "markers",
         "name": "Suriname",
         "showlegend": true,
         "type": "scatter",
         "x": [
          8985.3
         ],
         "xaxis": "x",
         "y": [
          29.251790826929618
         ],
         "yaxis": "y"
        },
        {
         "hovertemplate": "<b>%{hovertext}</b><br><br>Country=Swaziland (Eswatini)<br>GDP per capita (current US$)=%{x}<br>Average Internet usage over the years=%{marker.size}<extra></extra>",
         "hovertext": [
          null
         ],
         "legendgroup": "Swaziland (Eswatini)",
         "marker": {
          "color": "#FF97FF",
          "size": [
           18.78786420456823
          ],
          "sizemode": "area",
          "sizeref": 0.025361307840186014,
          "symbol": "circle"
         },
         "mode": "markers",
         "name": "Swaziland (Eswatini)",
         "showlegend": true,
         "type": "scatter",
         "x": [
          null
         ],
         "xaxis": "x",
         "y": [
          18.78786420456823
         ],
         "yaxis": "y"
        },
        {
         "hovertemplate": "<b>%{hovertext}</b><br><br>Country=Sweden<br>GDP per capita (current US$)=%{x}<br>Average Internet usage over the years=%{marker.size}<extra></extra>",
         "hovertext": [
          "Sweden"
         ],
         "legendgroup": "Sweden",
         "marker": {
          "color": "#FECB52",
          "size": [
           87.42582894433586
          ],
          "sizemode": "area",
          "sizeref": 0.025361307840186014,
          "symbol": "circle"
         },
         "mode": "markers",
         "name": "Sweden",
         "showlegend": true,
         "type": "scatter",
         "x": [
          50687.5
         ],
         "xaxis": "x",
         "y": [
          87.42582894433586
         ],
         "yaxis": "y"
        },
        {
         "hovertemplate": "<b>%{hovertext}</b><br><br>Country=Switzerland<br>GDP per capita (current US$)=%{x}<br>Average Internet usage over the years=%{marker.size}<extra></extra>",
         "hovertext": [
          "Switzerland"
         ],
         "legendgroup": "Switzerland",
         "marker": {
          "color": "#636efa",
          "size": [
           73.77571992621391
          ],
          "sizemode": "area",
          "sizeref": 0.025361307840186014,
          "symbol": "circle"
         },
         "mode": "markers",
         "name": "Switzerland",
         "showlegend": true,
         "type": "scatter",
         "x": [
          80831.1
         ],
         "xaxis": "x",
         "y": [
          73.77571992621391
         ],
         "yaxis": "y"
        },
        {
         "hovertemplate": "<b>%{hovertext}</b><br><br>Country=Syrian Arab Republic<br>GDP per capita (current US$)=%{x}<br>Average Internet usage over the years=%{marker.size}<extra></extra>",
         "hovertext": [
          "Syrian Arab Republic"
         ],
         "legendgroup": "Syrian Arab Republic",
         "marker": {
          "color": "#EF553B",
          "size": [
           20.33843009625551
          ],
          "sizemode": "area",
          "sizeref": 0.025361307840186014,
          "symbol": "circle"
         },
         "mode": "markers",
         "name": "Syrian Arab Republic",
         "showlegend": true,
         "type": "scatter",
         "x": [
          1534.5
         ],
         "xaxis": "x",
         "y": [
          20.33843009625551
         ],
         "yaxis": "y"
        },
        {
         "hovertemplate": "<b>%{hovertext}</b><br><br>Country=The former Yugoslav Republic of Macedonia<br>GDP per capita (current US$)=%{x}<br>Average Internet usage over the years=%{marker.size}<extra></extra>",
         "hovertext": [
          "The former Yugoslav Republic of Macedonia"
         ],
         "legendgroup": "The former Yugoslav Republic of Macedonia",
         "marker": {
          "color": "#00cc96",
          "size": [
           56.773373405858976
          ],
          "sizemode": "area",
          "sizeref": 0.025361307840186014,
          "symbol": "circle"
         },
         "mode": "markers",
         "name": "The former Yugoslav Republic of Macedonia",
         "showlegend": true,
         "type": "scatter",
         "x": [
          4836.1
         ],
         "xaxis": "x",
         "y": [
          56.773373405858976
         ],
         "yaxis": "y"
        },
        {
         "hovertemplate": "<b>%{hovertext}</b><br><br>Country=Taiwan, Province of China<br>GDP per capita (current US$)=%{x}<br>Average Internet usage over the years=%{marker.size}<extra></extra>",
         "hovertext": [
          null
         ],
         "legendgroup": "Taiwan, Province of China",
         "marker": {
          "color": "#ab63fa",
          "size": [
           64.59069912764247
          ],
          "sizemode": "area",
          "sizeref": 0.025361307840186014,
          "symbol": "circle"
         },
         "mode": "markers",
         "name": "Taiwan, Province of China",
         "showlegend": true,
         "type": "scatter",
         "x": [
          null
         ],
         "xaxis": "x",
         "y": [
          64.59069912764247
         ],
         "yaxis": "y"
        },
        {
         "hovertemplate": "<b>%{hovertext}</b><br><br>Country=Tajikistan<br>GDP per capita (current US$)=%{x}<br>Average Internet usage over the years=%{marker.size}<extra></extra>",
         "hovertext": [
          "Tajikistan"
         ],
         "legendgroup": "Tajikistan",
         "marker": {
          "color": "#FFA15A",
          "size": [
           12.212480874402727
          ],
          "sizemode": "area",
          "sizeref": 0.025361307840186014,
          "symbol": "circle"
         },
         "mode": "markers",
         "name": "Tajikistan",
         "showlegend": true,
         "type": "scatter",
         "x": [
          925.9
         ],
         "xaxis": "x",
         "y": [
          12.212480874402727
         ],
         "yaxis": "y"
        },
        {
         "hovertemplate": "<b>%{hovertext}</b><br><br>Country=Tanzania<br>GDP per capita (current US$)=%{x}<br>Average Internet usage over the years=%{marker.size}<extra></extra>",
         "hovertext": [
          null
         ],
         "legendgroup": "Tanzania",
         "marker": {
          "color": "#19d3f3",
          "size": [
           7.333381312737115
          ],
          "sizemode": "area",
          "sizeref": 0.025361307840186014,
          "symbol": "circle"
         },
         "mode": "markers",
         "name": "Tanzania",
         "showlegend": true,
         "type": "scatter",
         "x": [
          null
         ],
         "xaxis": "x",
         "y": [
          7.333381312737115
         ],
         "yaxis": "y"
        },
        {
         "hovertemplate": "<b>%{hovertext}</b><br><br>Country=Thailand<br>GDP per capita (current US$)=%{x}<br>Average Internet usage over the years=%{marker.size}<extra></extra>",
         "hovertext": [
          "Thailand"
         ],
         "legendgroup": "Thailand",
         "marker": {
          "color": "#FF6692",
          "size": [
           31.964133989428145
          ],
          "sizemode": "area",
          "sizeref": 0.025361307840186014,
          "symbol": "circle"
         },
         "mode": "markers",
         "name": "Thailand",
         "showlegend": true,
         "type": "scatter",
         "x": [
          5814.8
         ],
         "xaxis": "x",
         "y": [
          31.964133989428145
         ],
         "yaxis": "y"
        },
        {
         "hovertemplate": "<b>%{hovertext}</b><br><br>Country=Timor-Leste<br>GDP per capita (current US$)=%{x}<br>Average Internet usage over the years=%{marker.size}<extra></extra>",
         "hovertext": [
          "Timor-Leste"
         ],
         "legendgroup": "Timor-Leste",
         "marker": {
          "color": "#B6E880",
          "size": [
           10.758001189427866
          ],
          "sizemode": "area",
          "sizeref": 0.025361307840186014,
          "symbol": "circle"
         },
         "mode": "markers",
         "name": "Timor-Leste",
         "showlegend": true,
         "type": "scatter",
         "x": [
          2425.4
         ],
         "xaxis": "x",
         "y": [
          10.758001189427866
         ],
         "yaxis": "y"
        },
        {
         "hovertemplate": "<b>%{hovertext}</b><br><br>Country=Togo<br>GDP per capita (current US$)=%{x}<br>Average Internet usage over the years=%{marker.size}<extra></extra>",
         "hovertext": [
          "Togo"
         ],
         "legendgroup": "Togo",
         "marker": {
          "color": "#FF97FF",
          "size": [
           4.91729317909091
          ],
          "sizemode": "area",
          "sizeref": 0.025361307840186014,
          "symbol": "circle"
         },
         "mode": "markers",
         "name": "Togo",
         "showlegend": true,
         "type": "scatter",
         "x": [
          559.4
         ],
         "xaxis": "x",
         "y": [
          4.91729317909091
         ],
         "yaxis": "y"
        },
        {
         "hovertemplate": "<b>%{hovertext}</b><br><br>Country=Tonga<br>GDP per capita (current US$)=%{x}<br>Average Internet usage over the years=%{marker.size}<extra></extra>",
         "hovertext": [
          "Tonga"
         ],
         "legendgroup": "Tonga",
         "marker": {
          "color": "#FECB52",
          "size": [
           24.263689358179615
          ],
          "sizemode": "area",
          "sizeref": 0.025361307840186014,
          "symbol": "circle"
         },
         "mode": "markers",
         "name": "Tonga",
         "showlegend": true,
         "type": "scatter",
         "x": [
          3784.5
         ],
         "xaxis": "x",
         "y": [
          24.263689358179615
         ],
         "yaxis": "y"
        },
        {
         "hovertemplate": "<b>%{hovertext}</b><br><br>Country=Trinidad & Tobago<br>GDP per capita (current US$)=%{x}<br>Average Internet usage over the years=%{marker.size}<extra></extra>",
         "hovertext": [
          null
         ],
         "legendgroup": "Trinidad & Tobago",
         "marker": {
          "color": "#636efa",
          "size": [
           49.87598078728741
          ],
          "sizemode": "area",
          "sizeref": 0.025361307840186014,
          "symbol": "circle"
         },
         "mode": "markers",
         "name": "Trinidad & Tobago",
         "showlegend": true,
         "type": "scatter",
         "x": [
          null
         ],
         "xaxis": "x",
         "y": [
          49.87598078728741
         ],
         "yaxis": "y"
        },
        {
         "hovertemplate": "<b>%{hovertext}</b><br><br>Country=Tunisia<br>GDP per capita (current US$)=%{x}<br>Average Internet usage over the years=%{marker.size}<extra></extra>",
         "hovertext": [
          "Tunisia"
         ],
         "legendgroup": "Tunisia",
         "marker": {
          "color": "#EF553B",
          "size": [
           40.38082201278533
          ],
          "sizemode": "area",
          "sizeref": 0.025361307840186014,
          "symbol": "circle"
         },
         "mode": "markers",
         "name": "Tunisia",
         "showlegend": true,
         "type": "scatter",
         "x": [
          3660.9
         ],
         "xaxis": "x",
         "y": [
          40.38082201278533
         ],
         "yaxis": "y"
        },
        {
         "hovertemplate": "<b>%{hovertext}</b><br><br>Country=Turkey<br>GDP per capita (current US$)=%{x}<br>Average Internet usage over the years=%{marker.size}<extra></extra>",
         "hovertext": [
          "Turkey"
         ],
         "legendgroup": "Turkey",
         "marker": {
          "color": "#00cc96",
          "size": [
           44.75886248828977
          ],
          "sizemode": "area",
          "sizeref": 0.025361307840186014,
          "symbol": "circle"
         },
         "mode": "markers",
         "name": "Turkey",
         "showlegend": true,
         "type": "scatter",
         "x": [
          9125.8
         ],
         "xaxis": "x",
         "y": [
          44.75886248828977
         ],
         "yaxis": "y"
        },
        {
         "hovertemplate": "<b>%{hovertext}</b><br><br>Country=Turkmenistan<br>GDP per capita (current US$)=%{x}<br>Average Internet usage over the years=%{marker.size}<extra></extra>",
         "hovertext": [
          "Turkmenistan"
         ],
         "legendgroup": "Turkmenistan",
         "marker": {
          "color": "#ab63fa",
          "size": [
           8.396766857572139
          ],
          "sizemode": "area",
          "sizeref": 0.025361307840186014,
          "symbol": "circle"
         },
         "mode": "markers",
         "name": "Turkmenistan",
         "showlegend": true,
         "type": "scatter",
         "x": [
          6996.7
         ],
         "xaxis": "x",
         "y": [
          8.396766857572139
         ],
         "yaxis": "y"
        },
        {
         "hovertemplate": "<b>%{hovertext}</b><br><br>Country=Tuvalu<br>GDP per capita (current US$)=%{x}<br>Average Internet usage over the years=%{marker.size}<extra></extra>",
         "hovertext": [
          "Tuvalu"
         ],
         "legendgroup": "Tuvalu",
         "marker": {
          "color": "#FFA15A",
          "size": [
           28.133557246995647
          ],
          "sizemode": "area",
          "sizeref": 0.025361307840186014,
          "symbol": "circle"
         },
         "mode": "markers",
         "name": "Tuvalu",
         "showlegend": true,
         "type": "scatter",
         "x": [
          3362.4
         ],
         "xaxis": "x",
         "y": [
          28.133557246995647
         ],
         "yaxis": "y"
        },
        {
         "hovertemplate": "<b>%{hovertext}</b><br><br>Country=Uganda<br>GDP per capita (current US$)=%{x}<br>Average Internet usage over the years=%{marker.size}<extra></extra>",
         "hovertext": [
          "Uganda"
         ],
         "legendgroup": "Uganda",
         "marker": {
          "color": "#19d3f3",
          "size": [
           12.485183976084812
          ],
          "sizemode": "area",
          "sizeref": 0.025361307840186014,
          "symbol": "circle"
         },
         "mode": "markers",
         "name": "Uganda",
         "showlegend": true,
         "type": "scatter",
         "x": [
          647.7
         ],
         "xaxis": "x",
         "y": [
          12.485183976084812
         ],
         "yaxis": "y"
        },
        {
         "hovertemplate": "<b>%{hovertext}</b><br><br>Country=Ukraine<br>GDP per capita (current US$)=%{x}<br>Average Internet usage over the years=%{marker.size}<extra></extra>",
         "hovertext": [
          "Ukraine"
         ],
         "legendgroup": "Ukraine",
         "marker": {
          "color": "#FF6692",
          "size": [
           30.882585327477113
          ],
          "sizemode": "area",
          "sizeref": 0.025361307840186014,
          "symbol": "circle"
         },
         "mode": "markers",
         "name": "Ukraine",
         "showlegend": true,
         "type": "scatter",
         "x": [
          2021.6
         ],
         "xaxis": "x",
         "y": [
          30.882585327477113
         ],
         "yaxis": "y"
        },
        {
         "hovertemplate": "<b>%{hovertext}</b><br><br>Country=United Arab Emirates<br>GDP per capita (current US$)=%{x}<br>Average Internet usage over the years=%{marker.size}<extra></extra>",
         "hovertext": [
          "United Arab Emirates"
         ],
         "legendgroup": "United Arab Emirates",
         "marker": {
          "color": "#B6E880",
          "size": [
           77.03592945652944
          ],
          "sizemode": "area",
          "sizeref": 0.025361307840186014,
          "symbol": "circle"
         },
         "mode": "markers",
         "name": "United Arab Emirates",
         "showlegend": true,
         "type": "scatter",
         "x": [
          40438.8
         ],
         "xaxis": "x",
         "y": [
          77.03592945652944
         ],
         "yaxis": "y"
        },
        {
         "hovertemplate": "<b>%{hovertext}</b><br><br>Country=United Kingdom<br>GDP per capita (current US$)=%{x}<br>Average Internet usage over the years=%{marker.size}<extra></extra>",
         "hovertext": [
          "United Kingdom"
         ],
         "legendgroup": "United Kingdom",
         "marker": {
          "color": "#FF97FF",
          "size": [
           82.94806306502697
          ],
          "sizemode": "area",
          "sizeref": 0.025361307840186014,
          "symbol": "circle"
         },
         "mode": "markers",
         "name": "United Kingdom",
         "showlegend": true,
         "type": "scatter",
         "x": [
          44162.4
         ],
         "xaxis": "x",
         "y": [
          82.94806306502697
         ],
         "yaxis": "y"
        },
        {
         "hovertemplate": "<b>%{hovertext}</b><br><br>Country=United States of America<br>GDP per capita (current US$)=%{x}<br>Average Internet usage over the years=%{marker.size}<extra></extra>",
         "hovertext": [
          "United States of America"
         ],
         "legendgroup": "United States of America",
         "marker": {
          "color": "#FECB52",
          "size": [
           65.35740117036715
          ],
          "sizemode": "area",
          "sizeref": 0.025361307840186014,
          "symbol": "circle"
         },
         "mode": "markers",
         "name": "United States of America",
         "showlegend": true,
         "type": "scatter",
         "x": [
          56053.8
         ],
         "xaxis": "x",
         "y": [
          65.35740117036715
         ],
         "yaxis": "y"
        },
        {
         "hovertemplate": "<b>%{hovertext}</b><br><br>Country=Uruguay<br>GDP per capita (current US$)=%{x}<br>Average Internet usage over the years=%{marker.size}<extra></extra>",
         "hovertext": [
          "Uruguay"
         ],
         "legendgroup": "Uruguay",
         "marker": {
          "color": "#636efa",
          "size": [
           45.571466063440965
          ],
          "sizemode": "area",
          "sizeref": 0.025361307840186014,
          "symbol": "circle"
         },
         "mode": "markers",
         "name": "Uruguay",
         "showlegend": true,
         "type": "scatter",
         "x": [
          15573.8
         ],
         "xaxis": "x",
         "y": [
          45.571466063440965
         ],
         "yaxis": "y"
        },
        {
         "hovertemplate": "<b>%{hovertext}</b><br><br>Country=Uzbekistan<br>GDP per capita (current US$)=%{x}<br>Average Internet usage over the years=%{marker.size}<extra></extra>",
         "hovertext": [
          "Uzbekistan"
         ],
         "legendgroup": "Uzbekistan",
         "marker": {
          "color": "#EF553B",
          "size": [
           24.193113175099334
          ],
          "sizemode": "area",
          "sizeref": 0.025361307840186014,
          "symbol": "circle"
         },
         "mode": "markers",
         "name": "Uzbekistan",
         "showlegend": true,
         "type": "scatter",
         "x": [
          2308.3
         ],
         "xaxis": "x",
         "y": [
          24.193113175099334
         ],
         "yaxis": "y"
        },
        {
         "hovertemplate": "<b>%{hovertext}</b><br><br>Country=Vanuatu<br>GDP per capita (current US$)=%{x}<br>Average Internet usage over the years=%{marker.size}<extra></extra>",
         "hovertext": [
          "Vanuatu"
         ],
         "legendgroup": "Vanuatu",
         "marker": {
          "color": "#00cc96",
          "size": [
           12.469078465185122
          ],
          "sizemode": "area",
          "sizeref": 0.025361307840186014,
          "symbol": "circle"
         },
         "mode": "markers",
         "name": "Vanuatu",
         "showlegend": true,
         "type": "scatter",
         "x": [
          2783
         ],
         "xaxis": "x",
         "y": [
          12.469078465185122
         ],
         "yaxis": "y"
        },
        {
         "hovertemplate": "<b>%{hovertext}</b><br><br>Country=Venezuela (Bolivarian Republic of)<br>GDP per capita (current US$)=%{x}<br>Average Internet usage over the years=%{marker.size}<extra></extra>",
         "hovertext": [
          "Venezuela (Bolivarian Republic of)"
         ],
         "legendgroup": "Venezuela (Bolivarian Republic of)",
         "marker": {
          "color": "#ab63fa",
          "size": [
           40.95024349521088
          ],
          "sizemode": "area",
          "sizeref": 0.025361307840186014,
          "symbol": "circle"
         },
         "mode": "markers",
         "name": "Venezuela (Bolivarian Republic of)",
         "showlegend": true,
         "type": "scatter",
         "x": [
          11068.9
         ],
         "xaxis": "x",
         "y": [
          40.95024349521088
         ],
         "yaxis": "y"
        },
        {
         "hovertemplate": "<b>%{hovertext}</b><br><br>Country=Viet Nam<br>GDP per capita (current US$)=%{x}<br>Average Internet usage over the years=%{marker.size}<extra></extra>",
         "hovertext": [
          "Viet Nam"
         ],
         "legendgroup": "Viet Nam",
         "marker": {
          "color": "#FFA15A",
          "size": [
           38.31852846784545
          ],
          "sizemode": "area",
          "sizeref": 0.025361307840186014,
          "symbol": "circle"
         },
         "mode": "markers",
         "name": "Viet Nam",
         "showlegend": true,
         "type": "scatter",
         "x": [
          2067.9
         ],
         "xaxis": "x",
         "y": [
          38.31852846784545
         ],
         "yaxis": "y"
        },
        {
         "hovertemplate": "<b>%{hovertext}</b><br><br>Country=Yemen<br>GDP per capita (current US$)=%{x}<br>Average Internet usage over the years=%{marker.size}<extra></extra>",
         "hovertext": [
          "Yemen"
         ],
         "legendgroup": "Yemen",
         "marker": {
          "color": "#19d3f3",
          "size": [
           14.887779174601034
          ],
          "sizemode": "area",
          "sizeref": 0.025361307840186014,
          "symbol": "circle"
         },
         "mode": "markers",
         "name": "Yemen",
         "showlegend": true,
         "type": "scatter",
         "x": [
          1106.4
         ],
         "xaxis": "x",
         "y": [
          14.887779174601034
         ],
         "yaxis": "y"
        },
        {
         "hovertemplate": "<b>%{hovertext}</b><br><br>Country=Zambia<br>GDP per capita (current US$)=%{x}<br>Average Internet usage over the years=%{marker.size}<extra></extra>",
         "hovertext": [
          "Zambia"
         ],
         "legendgroup": "Zambia",
         "marker": {
          "color": "#FF6692",
          "size": [
           12.110690895124083
          ],
          "sizemode": "area",
          "sizeref": 0.025361307840186014,
          "symbol": "circle"
         },
         "mode": "markers",
         "name": "Zambia",
         "showlegend": true,
         "type": "scatter",
         "x": [
          1311.1
         ],
         "xaxis": "x",
         "y": [
          12.110690895124083
         ],
         "yaxis": "y"
        },
        {
         "hovertemplate": "<b>%{hovertext}</b><br><br>Country=Zimbabwe<br>GDP per capita (current US$)=%{x}<br>Average Internet usage over the years=%{marker.size}<extra></extra>",
         "hovertext": [
          "Zimbabwe"
         ],
         "legendgroup": "Zimbabwe",
         "marker": {
          "color": "#B6E880",
          "size": [
           12.216769847489571
          ],
          "sizemode": "area",
          "sizeref": 0.025361307840186014,
          "symbol": "circle"
         },
         "mode": "markers",
         "name": "Zimbabwe",
         "showlegend": true,
         "type": "scatter",
         "x": [
          890.4
         ],
         "xaxis": "x",
         "y": [
          12.216769847489571
         ],
         "yaxis": "y"
        }
       ],
       "layout": {
        "legend": {
         "itemsizing": "constant",
         "title": {
          "text": "Country"
         },
         "tracegroupgap": 0
        },
        "margin": {
         "t": 60
        },
        "template": {
         "data": {
          "bar": [
           {
            "error_x": {
             "color": "#2a3f5f"
            },
            "error_y": {
             "color": "#2a3f5f"
            },
            "marker": {
             "line": {
              "color": "#E5ECF6",
              "width": 0.5
             }
            },
            "type": "bar"
           }
          ],
          "barpolar": [
           {
            "marker": {
             "line": {
              "color": "#E5ECF6",
              "width": 0.5
             }
            },
            "type": "barpolar"
           }
          ],
          "carpet": [
           {
            "aaxis": {
             "endlinecolor": "#2a3f5f",
             "gridcolor": "white",
             "linecolor": "white",
             "minorgridcolor": "white",
             "startlinecolor": "#2a3f5f"
            },
            "baxis": {
             "endlinecolor": "#2a3f5f",
             "gridcolor": "white",
             "linecolor": "white",
             "minorgridcolor": "white",
             "startlinecolor": "#2a3f5f"
            },
            "type": "carpet"
           }
          ],
          "choropleth": [
           {
            "colorbar": {
             "outlinewidth": 0,
             "ticks": ""
            },
            "type": "choropleth"
           }
          ],
          "contour": [
           {
            "colorbar": {
             "outlinewidth": 0,
             "ticks": ""
            },
            "colorscale": [
             [
              0,
              "#0d0887"
             ],
             [
              0.1111111111111111,
              "#46039f"
             ],
             [
              0.2222222222222222,
              "#7201a8"
             ],
             [
              0.3333333333333333,
              "#9c179e"
             ],
             [
              0.4444444444444444,
              "#bd3786"
             ],
             [
              0.5555555555555556,
              "#d8576b"
             ],
             [
              0.6666666666666666,
              "#ed7953"
             ],
             [
              0.7777777777777778,
              "#fb9f3a"
             ],
             [
              0.8888888888888888,
              "#fdca26"
             ],
             [
              1,
              "#f0f921"
             ]
            ],
            "type": "contour"
           }
          ],
          "contourcarpet": [
           {
            "colorbar": {
             "outlinewidth": 0,
             "ticks": ""
            },
            "type": "contourcarpet"
           }
          ],
          "heatmap": [
           {
            "colorbar": {
             "outlinewidth": 0,
             "ticks": ""
            },
            "colorscale": [
             [
              0,
              "#0d0887"
             ],
             [
              0.1111111111111111,
              "#46039f"
             ],
             [
              0.2222222222222222,
              "#7201a8"
             ],
             [
              0.3333333333333333,
              "#9c179e"
             ],
             [
              0.4444444444444444,
              "#bd3786"
             ],
             [
              0.5555555555555556,
              "#d8576b"
             ],
             [
              0.6666666666666666,
              "#ed7953"
             ],
             [
              0.7777777777777778,
              "#fb9f3a"
             ],
             [
              0.8888888888888888,
              "#fdca26"
             ],
             [
              1,
              "#f0f921"
             ]
            ],
            "type": "heatmap"
           }
          ],
          "heatmapgl": [
           {
            "colorbar": {
             "outlinewidth": 0,
             "ticks": ""
            },
            "colorscale": [
             [
              0,
              "#0d0887"
             ],
             [
              0.1111111111111111,
              "#46039f"
             ],
             [
              0.2222222222222222,
              "#7201a8"
             ],
             [
              0.3333333333333333,
              "#9c179e"
             ],
             [
              0.4444444444444444,
              "#bd3786"
             ],
             [
              0.5555555555555556,
              "#d8576b"
             ],
             [
              0.6666666666666666,
              "#ed7953"
             ],
             [
              0.7777777777777778,
              "#fb9f3a"
             ],
             [
              0.8888888888888888,
              "#fdca26"
             ],
             [
              1,
              "#f0f921"
             ]
            ],
            "type": "heatmapgl"
           }
          ],
          "histogram": [
           {
            "marker": {
             "colorbar": {
              "outlinewidth": 0,
              "ticks": ""
             }
            },
            "type": "histogram"
           }
          ],
          "histogram2d": [
           {
            "colorbar": {
             "outlinewidth": 0,
             "ticks": ""
            },
            "colorscale": [
             [
              0,
              "#0d0887"
             ],
             [
              0.1111111111111111,
              "#46039f"
             ],
             [
              0.2222222222222222,
              "#7201a8"
             ],
             [
              0.3333333333333333,
              "#9c179e"
             ],
             [
              0.4444444444444444,
              "#bd3786"
             ],
             [
              0.5555555555555556,
              "#d8576b"
             ],
             [
              0.6666666666666666,
              "#ed7953"
             ],
             [
              0.7777777777777778,
              "#fb9f3a"
             ],
             [
              0.8888888888888888,
              "#fdca26"
             ],
             [
              1,
              "#f0f921"
             ]
            ],
            "type": "histogram2d"
           }
          ],
          "histogram2dcontour": [
           {
            "colorbar": {
             "outlinewidth": 0,
             "ticks": ""
            },
            "colorscale": [
             [
              0,
              "#0d0887"
             ],
             [
              0.1111111111111111,
              "#46039f"
             ],
             [
              0.2222222222222222,
              "#7201a8"
             ],
             [
              0.3333333333333333,
              "#9c179e"
             ],
             [
              0.4444444444444444,
              "#bd3786"
             ],
             [
              0.5555555555555556,
              "#d8576b"
             ],
             [
              0.6666666666666666,
              "#ed7953"
             ],
             [
              0.7777777777777778,
              "#fb9f3a"
             ],
             [
              0.8888888888888888,
              "#fdca26"
             ],
             [
              1,
              "#f0f921"
             ]
            ],
            "type": "histogram2dcontour"
           }
          ],
          "mesh3d": [
           {
            "colorbar": {
             "outlinewidth": 0,
             "ticks": ""
            },
            "type": "mesh3d"
           }
          ],
          "parcoords": [
           {
            "line": {
             "colorbar": {
              "outlinewidth": 0,
              "ticks": ""
             }
            },
            "type": "parcoords"
           }
          ],
          "pie": [
           {
            "automargin": true,
            "type": "pie"
           }
          ],
          "scatter": [
           {
            "marker": {
             "colorbar": {
              "outlinewidth": 0,
              "ticks": ""
             }
            },
            "type": "scatter"
           }
          ],
          "scatter3d": [
           {
            "line": {
             "colorbar": {
              "outlinewidth": 0,
              "ticks": ""
             }
            },
            "marker": {
             "colorbar": {
              "outlinewidth": 0,
              "ticks": ""
             }
            },
            "type": "scatter3d"
           }
          ],
          "scattercarpet": [
           {
            "marker": {
             "colorbar": {
              "outlinewidth": 0,
              "ticks": ""
             }
            },
            "type": "scattercarpet"
           }
          ],
          "scattergeo": [
           {
            "marker": {
             "colorbar": {
              "outlinewidth": 0,
              "ticks": ""
             }
            },
            "type": "scattergeo"
           }
          ],
          "scattergl": [
           {
            "marker": {
             "colorbar": {
              "outlinewidth": 0,
              "ticks": ""
             }
            },
            "type": "scattergl"
           }
          ],
          "scattermapbox": [
           {
            "marker": {
             "colorbar": {
              "outlinewidth": 0,
              "ticks": ""
             }
            },
            "type": "scattermapbox"
           }
          ],
          "scatterpolar": [
           {
            "marker": {
             "colorbar": {
              "outlinewidth": 0,
              "ticks": ""
             }
            },
            "type": "scatterpolar"
           }
          ],
          "scatterpolargl": [
           {
            "marker": {
             "colorbar": {
              "outlinewidth": 0,
              "ticks": ""
             }
            },
            "type": "scatterpolargl"
           }
          ],
          "scatterternary": [
           {
            "marker": {
             "colorbar": {
              "outlinewidth": 0,
              "ticks": ""
             }
            },
            "type": "scatterternary"
           }
          ],
          "surface": [
           {
            "colorbar": {
             "outlinewidth": 0,
             "ticks": ""
            },
            "colorscale": [
             [
              0,
              "#0d0887"
             ],
             [
              0.1111111111111111,
              "#46039f"
             ],
             [
              0.2222222222222222,
              "#7201a8"
             ],
             [
              0.3333333333333333,
              "#9c179e"
             ],
             [
              0.4444444444444444,
              "#bd3786"
             ],
             [
              0.5555555555555556,
              "#d8576b"
             ],
             [
              0.6666666666666666,
              "#ed7953"
             ],
             [
              0.7777777777777778,
              "#fb9f3a"
             ],
             [
              0.8888888888888888,
              "#fdca26"
             ],
             [
              1,
              "#f0f921"
             ]
            ],
            "type": "surface"
           }
          ],
          "table": [
           {
            "cells": {
             "fill": {
              "color": "#EBF0F8"
             },
             "line": {
              "color": "white"
             }
            },
            "header": {
             "fill": {
              "color": "#C8D4E3"
             },
             "line": {
              "color": "white"
             }
            },
            "type": "table"
           }
          ]
         },
         "layout": {
          "annotationdefaults": {
           "arrowcolor": "#2a3f5f",
           "arrowhead": 0,
           "arrowwidth": 1
          },
          "coloraxis": {
           "colorbar": {
            "outlinewidth": 0,
            "ticks": ""
           }
          },
          "colorscale": {
           "diverging": [
            [
             0,
             "#8e0152"
            ],
            [
             0.1,
             "#c51b7d"
            ],
            [
             0.2,
             "#de77ae"
            ],
            [
             0.3,
             "#f1b6da"
            ],
            [
             0.4,
             "#fde0ef"
            ],
            [
             0.5,
             "#f7f7f7"
            ],
            [
             0.6,
             "#e6f5d0"
            ],
            [
             0.7,
             "#b8e186"
            ],
            [
             0.8,
             "#7fbc41"
            ],
            [
             0.9,
             "#4d9221"
            ],
            [
             1,
             "#276419"
            ]
           ],
           "sequential": [
            [
             0,
             "#0d0887"
            ],
            [
             0.1111111111111111,
             "#46039f"
            ],
            [
             0.2222222222222222,
             "#7201a8"
            ],
            [
             0.3333333333333333,
             "#9c179e"
            ],
            [
             0.4444444444444444,
             "#bd3786"
            ],
            [
             0.5555555555555556,
             "#d8576b"
            ],
            [
             0.6666666666666666,
             "#ed7953"
            ],
            [
             0.7777777777777778,
             "#fb9f3a"
            ],
            [
             0.8888888888888888,
             "#fdca26"
            ],
            [
             1,
             "#f0f921"
            ]
           ],
           "sequentialminus": [
            [
             0,
             "#0d0887"
            ],
            [
             0.1111111111111111,
             "#46039f"
            ],
            [
             0.2222222222222222,
             "#7201a8"
            ],
            [
             0.3333333333333333,
             "#9c179e"
            ],
            [
             0.4444444444444444,
             "#bd3786"
            ],
            [
             0.5555555555555556,
             "#d8576b"
            ],
            [
             0.6666666666666666,
             "#ed7953"
            ],
            [
             0.7777777777777778,
             "#fb9f3a"
            ],
            [
             0.8888888888888888,
             "#fdca26"
            ],
            [
             1,
             "#f0f921"
            ]
           ]
          },
          "colorway": [
           "#636efa",
           "#EF553B",
           "#00cc96",
           "#ab63fa",
           "#FFA15A",
           "#19d3f3",
           "#FF6692",
           "#B6E880",
           "#FF97FF",
           "#FECB52"
          ],
          "font": {
           "color": "#2a3f5f"
          },
          "geo": {
           "bgcolor": "white",
           "lakecolor": "white",
           "landcolor": "#E5ECF6",
           "showlakes": true,
           "showland": true,
           "subunitcolor": "white"
          },
          "hoverlabel": {
           "align": "left"
          },
          "hovermode": "closest",
          "mapbox": {
           "style": "light"
          },
          "paper_bgcolor": "white",
          "plot_bgcolor": "#E5ECF6",
          "polar": {
           "angularaxis": {
            "gridcolor": "white",
            "linecolor": "white",
            "ticks": ""
           },
           "bgcolor": "#E5ECF6",
           "radialaxis": {
            "gridcolor": "white",
            "linecolor": "white",
            "ticks": ""
           }
          },
          "scene": {
           "xaxis": {
            "backgroundcolor": "#E5ECF6",
            "gridcolor": "white",
            "gridwidth": 2,
            "linecolor": "white",
            "showbackground": true,
            "ticks": "",
            "zerolinecolor": "white"
           },
           "yaxis": {
            "backgroundcolor": "#E5ECF6",
            "gridcolor": "white",
            "gridwidth": 2,
            "linecolor": "white",
            "showbackground": true,
            "ticks": "",
            "zerolinecolor": "white"
           },
           "zaxis": {
            "backgroundcolor": "#E5ECF6",
            "gridcolor": "white",
            "gridwidth": 2,
            "linecolor": "white",
            "showbackground": true,
            "ticks": "",
            "zerolinecolor": "white"
           }
          },
          "shapedefaults": {
           "line": {
            "color": "#2a3f5f"
           }
          },
          "ternary": {
           "aaxis": {
            "gridcolor": "white",
            "linecolor": "white",
            "ticks": ""
           },
           "baxis": {
            "gridcolor": "white",
            "linecolor": "white",
            "ticks": ""
           },
           "bgcolor": "#E5ECF6",
           "caxis": {
            "gridcolor": "white",
            "linecolor": "white",
            "ticks": ""
           }
          },
          "title": {
           "x": 0.05
          },
          "xaxis": {
           "automargin": true,
           "gridcolor": "white",
           "linecolor": "white",
           "ticks": "",
           "title": {
            "standoff": 15
           },
           "zerolinecolor": "white",
           "zerolinewidth": 2
          },
          "yaxis": {
           "automargin": true,
           "gridcolor": "white",
           "linecolor": "white",
           "ticks": "",
           "title": {
            "standoff": 15
           },
           "zerolinecolor": "white",
           "zerolinewidth": 2
          }
         }
        },
        "xaxis": {
         "anchor": "y",
         "domain": [
          0,
          1
         ],
         "title": {
          "text": "GDP per capita (current US$)"
         },
         "type": "log"
        },
        "yaxis": {
         "anchor": "x",
         "domain": [
          0,
          1
         ],
         "title": {
          "text": "Average Internet usage over the years"
         }
        }
       }
      },
      "text/html": [
       "<div>\n",
       "        \n",
       "        \n",
       "            <div id=\"d12064ab-a7d6-4d13-9d39-206cc297f97d\" class=\"plotly-graph-div\" style=\"height:525px; width:100%;\"></div>\n",
       "            <script type=\"text/javascript\">\n",
       "                require([\"plotly\"], function(Plotly) {\n",
       "                    window.PLOTLYENV=window.PLOTLYENV || {};\n",
       "                    \n",
       "                if (document.getElementById(\"d12064ab-a7d6-4d13-9d39-206cc297f97d\")) {\n",
       "                    Plotly.newPlot(\n",
       "                        'd12064ab-a7d6-4d13-9d39-206cc297f97d',\n",
       "                        [{\"hovertemplate\": \"<b>%{hovertext}</b><br><br>Country=Afghanistan<br>GDP per capita (current US$)=%{x}<br>Average Internet usage over the years=%{marker.size}<extra></extra>\", \"hovertext\": [\"Afghanistan\"], \"legendgroup\": \"Afghanistan\", \"marker\": {\"color\": \"#636efa\", \"size\": [5.594426685297288], \"sizemode\": \"area\", \"sizeref\": 0.025361307840186014, \"symbol\": \"circle\"}, \"mode\": \"markers\", \"name\": \"Afghanistan\", \"showlegend\": true, \"type\": \"scatter\", \"x\": [623.2], \"xaxis\": \"x\", \"y\": [5.594426685297288], \"yaxis\": \"y\"}, {\"hovertemplate\": \"<b>%{hovertext}</b><br><br>Country=Albania<br>GDP per capita (current US$)=%{x}<br>Average Internet usage over the years=%{marker.size}<extra></extra>\", \"hovertext\": [\"Albania\"], \"legendgroup\": \"Albania\", \"marker\": {\"color\": \"#EF553B\", \"size\": [43.05248774117164], \"sizemode\": \"area\", \"sizeref\": 0.025361307840186014, \"symbol\": \"circle\"}, \"mode\": \"markers\", \"name\": \"Albania\", \"showlegend\": true, \"type\": \"scatter\", \"x\": [3984.2], \"xaxis\": \"x\", \"y\": [43.05248774117164], \"yaxis\": \"y\"}, {\"hovertemplate\": \"<b>%{hovertext}</b><br><br>Country=Algeria<br>GDP per capita (current US$)=%{x}<br>Average Internet usage over the years=%{marker.size}<extra></extra>\", \"hovertext\": [\"Algeria\"], \"legendgroup\": \"Algeria\", \"marker\": {\"color\": \"#00cc96\", \"size\": [26.577446778483168], \"sizemode\": \"area\", \"sizeref\": 0.025361307840186014, \"symbol\": \"circle\"}, \"mode\": \"markers\", \"name\": \"Algeria\", \"showlegend\": true, \"type\": \"scatter\", \"x\": [4154.1], \"xaxis\": \"x\", \"y\": [26.577446778483168], \"yaxis\": \"y\"}, {\"hovertemplate\": \"<b>%{hovertext}</b><br><br>Country=Andorra<br>GDP per capita (current US$)=%{x}<br>Average Internet usage over the years=%{marker.size}<extra></extra>\", \"hovertext\": [\"Andorra\"], \"legendgroup\": \"Andorra\", \"marker\": {\"color\": \"#ab63fa\", \"size\": [70.26246641752975], \"sizemode\": \"area\", \"sizeref\": 0.025361307840186014, \"symbol\": \"circle\"}, \"mode\": \"markers\", \"name\": \"Andorra\", \"showlegend\": true, \"type\": \"scatter\", \"x\": [39896.4], \"xaxis\": \"x\", \"y\": [70.26246641752975], \"yaxis\": \"y\"}, {\"hovertemplate\": \"<b>%{hovertext}</b><br><br>Country=Angola<br>GDP per capita (current US$)=%{x}<br>Average Internet usage over the years=%{marker.size}<extra></extra>\", \"hovertext\": [\"Angola\"], \"legendgroup\": \"Angola\", \"marker\": {\"color\": \"#FFA15A\", \"size\": [6.589771977581924], \"sizemode\": \"area\", \"sizeref\": 0.025361307840186014, \"symbol\": \"circle\"}, \"mode\": \"markers\", \"name\": \"Angola\", \"showlegend\": true, \"type\": \"scatter\", \"x\": [4714.1], \"xaxis\": \"x\", \"y\": [6.589771977581924], \"yaxis\": \"y\"}, {\"hovertemplate\": \"<b>%{hovertext}</b><br><br>Country=Antigua and Barbuda<br>GDP per capita (current US$)=%{x}<br>Average Internet usage over the years=%{marker.size}<extra></extra>\", \"hovertext\": [\"Antigua and Barbuda\"], \"legendgroup\": \"Antigua and Barbuda\", \"marker\": {\"color\": \"#19d3f3\", \"size\": [49.151111430639006], \"sizemode\": \"area\", \"sizeref\": 0.025361307840186014, \"symbol\": \"circle\"}, \"mode\": \"markers\", \"name\": \"Antigua and Barbuda\", \"showlegend\": true, \"type\": \"scatter\", \"x\": [14764.5], \"xaxis\": \"x\", \"y\": [49.151111430639006], \"yaxis\": \"y\"}, {\"hovertemplate\": \"<b>%{hovertext}</b><br><br>Country=Argentina<br>GDP per capita (current US$)=%{x}<br>Average Internet usage over the years=%{marker.size}<extra></extra>\", \"hovertext\": [\"Argentina\"], \"legendgroup\": \"Argentina\", \"marker\": {\"color\": \"#FF6692\", \"size\": [46.76965620496696], \"sizemode\": \"area\", \"sizeref\": 0.025361307840186014, \"symbol\": \"circle\"}, \"mode\": \"markers\", \"name\": \"Argentina\", \"showlegend\": true, \"type\": \"scatter\", \"x\": [14564.5], \"xaxis\": \"x\", \"y\": [46.76965620496696], \"yaxis\": \"y\"}, {\"hovertemplate\": \"<b>%{hovertext}</b><br><br>Country=Armenia<br>GDP per capita (current US$)=%{x}<br>Average Internet usage over the years=%{marker.size}<extra></extra>\", \"hovertext\": [\"Armenia\"], \"legendgroup\": \"Armenia\", \"marker\": {\"color\": \"#B6E880\", \"size\": [35.06995918569305], \"sizemode\": \"area\", \"sizeref\": 0.025361307840186014, \"symbol\": \"circle\"}, \"mode\": \"markers\", \"name\": \"Armenia\", \"showlegend\": true, \"type\": \"scatter\", \"x\": [3489.1], \"xaxis\": \"x\", \"y\": [35.06995918569305], \"yaxis\": \"y\"}, {\"hovertemplate\": \"<b>%{hovertext}</b><br><br>Country=Australia<br>GDP per capita (current US$)=%{x}<br>Average Internet usage over the years=%{marker.size}<extra></extra>\", \"hovertext\": [\"Australia\"], \"legendgroup\": \"Australia\", \"marker\": {\"color\": \"#FF97FF\", \"size\": [69.94026169908871], \"sizemode\": \"area\", \"sizeref\": 0.025361307840186014, \"symbol\": \"circle\"}, \"mode\": \"markers\", \"name\": \"Australia\", \"showlegend\": true, \"type\": \"scatter\", \"x\": [51352.2], \"xaxis\": \"x\", \"y\": [69.94026169908871], \"yaxis\": \"y\"}, {\"hovertemplate\": \"<b>%{hovertext}</b><br><br>Country=Austria<br>GDP per capita (current US$)=%{x}<br>Average Internet usage over the years=%{marker.size}<extra></extra>\", \"hovertext\": [\"Austria\"], \"legendgroup\": \"Austria\", \"marker\": {\"color\": \"#FECB52\", \"size\": [75.56315281508286], \"sizemode\": \"area\", \"sizeref\": 0.025361307840186014, \"symbol\": \"circle\"}, \"mode\": \"markers\", \"name\": \"Austria\", \"showlegend\": true, \"type\": \"scatter\", \"x\": [44117.7], \"xaxis\": \"x\", \"y\": [75.56315281508286], \"yaxis\": \"y\"}, {\"hovertemplate\": \"<b>%{hovertext}</b><br><br>Country=Azerbaijan<br>GDP per capita (current US$)=%{x}<br>Average Internet usage over the years=%{marker.size}<extra></extra>\", \"hovertext\": [\"Azerbaijan\"], \"legendgroup\": \"Azerbaijan\", \"marker\": {\"color\": \"#636efa\", \"size\": [56.39801322081063], \"sizemode\": \"area\", \"sizeref\": 0.025361307840186014, \"symbol\": \"circle\"}, \"mode\": \"markers\", \"name\": \"Azerbaijan\", \"showlegend\": true, \"type\": \"scatter\", \"x\": [5438.7], \"xaxis\": \"x\", \"y\": [56.39801322081063], \"yaxis\": \"y\"}, {\"hovertemplate\": \"<b>%{hovertext}</b><br><br>Country=Bahamas<br>GDP per capita (current US$)=%{x}<br>Average Internet usage over the years=%{marker.size}<extra></extra>\", \"hovertext\": [\"Bahamas\"], \"legendgroup\": \"Bahamas\", \"marker\": {\"color\": \"#EF553B\", \"size\": [54.96983661951785], \"sizemode\": \"area\", \"sizeref\": 0.025361307840186014, \"symbol\": \"circle\"}, \"mode\": \"markers\", \"name\": \"Bahamas\", \"showlegend\": true, \"type\": \"scatter\", \"x\": [22817.2], \"xaxis\": \"x\", \"y\": [54.96983661951785], \"yaxis\": \"y\"}, {\"hovertemplate\": \"<b>%{hovertext}</b><br><br>Country=Bahrain<br>GDP per capita (current US$)=%{x}<br>Average Internet usage over the years=%{marker.size}<extra></extra>\", \"hovertext\": [\"Bahrain\"], \"legendgroup\": \"Bahrain\", \"marker\": {\"color\": \"#00cc96\", \"size\": [73.99640475804235], \"sizemode\": \"area\", \"sizeref\": 0.025361307840186014, \"symbol\": \"circle\"}, \"mode\": \"markers\", \"name\": \"Bahrain\", \"showlegend\": true, \"type\": \"scatter\", \"x\": [22600.2], \"xaxis\": \"x\", \"y\": [73.99640475804235], \"yaxis\": \"y\"}, {\"hovertemplate\": \"<b>%{hovertext}</b><br><br>Country=Bangladesh<br>GDP per capita (current US$)=%{x}<br>Average Internet usage over the years=%{marker.size}<extra></extra>\", \"hovertext\": [\"Bangladesh\"], \"legendgroup\": \"Bangladesh\", \"marker\": {\"color\": \"#ab63fa\", \"size\": [7.405697886244315], \"sizemode\": \"area\", \"sizeref\": 0.025361307840186014, \"symbol\": \"circle\"}, \"mode\": \"markers\", \"name\": \"Bangladesh\", \"showlegend\": true, \"type\": \"scatter\", \"x\": [1207.9], \"xaxis\": \"x\", \"y\": [7.405697886244315], \"yaxis\": \"y\"}, {\"hovertemplate\": \"<b>%{hovertext}</b><br><br>Country=Barbados<br>GDP per capita (current US$)=%{x}<br>Average Internet usage over the years=%{marker.size}<extra></extra>\", \"hovertext\": [\"Barbados\"], \"legendgroup\": \"Barbados\", \"marker\": {\"color\": \"#FFA15A\", \"size\": [58.513986785141874], \"sizemode\": \"area\", \"sizeref\": 0.025361307840186014, \"symbol\": \"circle\"}, \"mode\": \"markers\", \"name\": \"Barbados\", \"showlegend\": true, \"type\": \"scatter\", \"x\": [15429.4], \"xaxis\": \"x\", \"y\": [58.513986785141874], \"yaxis\": \"y\"}, {\"hovertemplate\": \"<b>%{hovertext}</b><br><br>Country=Belarus<br>GDP per capita (current US$)=%{x}<br>Average Internet usage over the years=%{marker.size}<extra></extra>\", \"hovertext\": [\"Belarus\"], \"legendgroup\": \"Belarus\", \"marker\": {\"color\": \"#19d3f3\", \"size\": [47.301730232253064], \"sizemode\": \"area\", \"sizeref\": 0.025361307840186014, \"symbol\": \"circle\"}, \"mode\": \"markers\", \"name\": \"Belarus\", \"showlegend\": true, \"type\": \"scatter\", \"x\": [5750.8], \"xaxis\": \"x\", \"y\": [47.301730232253064], \"yaxis\": \"y\"}, {\"hovertemplate\": \"<b>%{hovertext}</b><br><br>Country=Belgium<br>GDP per capita (current US$)=%{x}<br>Average Internet usage over the years=%{marker.size}<extra></extra>\", \"hovertext\": [\"Belgium\"], \"legendgroup\": \"Belgium\", \"marker\": {\"color\": \"#FF6692\", \"size\": [76.15054545377865], \"sizemode\": \"area\", \"sizeref\": 0.025361307840186014, \"symbol\": \"circle\"}, \"mode\": \"markers\", \"name\": \"Belgium\", \"showlegend\": true, \"type\": \"scatter\", \"x\": [40277.8], \"xaxis\": \"x\", \"y\": [76.15054545377865], \"yaxis\": \"y\"}, {\"hovertemplate\": \"<b>%{hovertext}</b><br><br>Country=Belize<br>GDP per capita (current US$)=%{x}<br>Average Internet usage over the years=%{marker.size}<extra></extra>\", \"hovertext\": [\"Belize\"], \"legendgroup\": \"Belize\", \"marker\": {\"color\": \"#B6E880\", \"size\": [28.94656376601779], \"sizemode\": \"area\", \"sizeref\": 0.025361307840186014, \"symbol\": \"circle\"}, \"mode\": \"markers\", \"name\": \"Belize\", \"showlegend\": true, \"type\": \"scatter\", \"x\": [4789.4], \"xaxis\": \"x\", \"y\": [28.94656376601779], \"yaxis\": \"y\"}, {\"hovertemplate\": \"<b>%{hovertext}</b><br><br>Country=Benin<br>GDP per capita (current US$)=%{x}<br>Average Internet usage over the years=%{marker.size}<extra></extra>\", \"hovertext\": [\"Benin\"], \"legendgroup\": \"Benin\", \"marker\": {\"color\": \"#FF97FF\", \"size\": [6.129421652181342], \"sizemode\": \"area\", \"sizeref\": 0.025361307840186014, \"symbol\": \"circle\"}, \"mode\": \"markers\", \"name\": \"Benin\", \"showlegend\": true, \"type\": \"scatter\", \"x\": [779.1], \"xaxis\": \"x\", \"y\": [6.129421652181342], \"yaxis\": \"y\"}, {\"hovertemplate\": \"<b>%{hovertext}</b><br><br>Country=Bhutan<br>GDP per capita (current US$)=%{x}<br>Average Internet usage over the years=%{marker.size}<extra></extra>\", \"hovertext\": [\"Bhutan\"], \"legendgroup\": \"Bhutan\", \"marker\": {\"color\": \"#FECB52\", \"size\": [20.929737418313223], \"sizemode\": \"area\", \"sizeref\": 0.025361307840186014, \"symbol\": \"circle\"}, \"mode\": \"markers\", \"name\": \"Bhutan\", \"showlegend\": true, \"type\": \"scatter\", \"x\": [2677.1], \"xaxis\": \"x\", \"y\": [20.929737418313223], \"yaxis\": \"y\"}, {\"hovertemplate\": \"<b>%{hovertext}</b><br><br>Country=Bolivia (Plurinational State of)<br>GDP per capita (current US$)=%{x}<br>Average Internet usage over the years=%{marker.size}<extra></extra>\", \"hovertext\": [\"Bolivia (Plurinational State of)\"], \"legendgroup\": \"Bolivia (Plurinational State of)\", \"marker\": {\"color\": \"#636efa\", \"size\": [25.917491714741633], \"sizemode\": \"area\", \"sizeref\": 0.025361307840186014, \"symbol\": \"circle\"}, \"mode\": \"markers\", \"name\": \"Bolivia (Plurinational State of)\", \"showlegend\": true, \"type\": \"scatter\", \"x\": [3076.8], \"xaxis\": \"x\", \"y\": [25.917491714741633], \"yaxis\": \"y\"}, {\"hovertemplate\": \"<b>%{hovertext}</b><br><br>Country=Bosnia and Herzegovina<br>GDP per capita (current US$)=%{x}<br>Average Internet usage over the years=%{marker.size}<extra></extra>\", \"hovertext\": [\"Bosnia and Herzegovina\"], \"legendgroup\": \"Bosnia and Herzegovina\", \"marker\": {\"color\": \"#EF553B\", \"size\": [45.49268573355297], \"sizemode\": \"area\", \"sizeref\": 0.025361307840186014, \"symbol\": \"circle\"}, \"mode\": \"markers\", \"name\": \"Bosnia and Herzegovina\", \"showlegend\": true, \"type\": \"scatter\", \"x\": [4265.0], \"xaxis\": \"x\", \"y\": [45.49268573355297], \"yaxis\": \"y\"}, {\"hovertemplate\": \"<b>%{hovertext}</b><br><br>Country=Botswana<br>GDP per capita (current US$)=%{x}<br>Average Internet usage over the years=%{marker.size}<extra></extra>\", \"hovertext\": [\"Botswana\"], \"legendgroup\": \"Botswana\", \"marker\": {\"color\": \"#00cc96\", \"size\": [20.689546895943735], \"sizemode\": \"area\", \"sizeref\": 0.025361307840186014, \"symbol\": \"circle\"}, \"mode\": \"markers\", \"name\": \"Botswana\", \"showlegend\": true, \"type\": \"scatter\", \"x\": [6360.6], \"xaxis\": \"x\", \"y\": [20.689546895943735], \"yaxis\": \"y\"}, {\"hovertemplate\": \"<b>%{hovertext}</b><br><br>Country=Brazil<br>GDP per capita (current US$)=%{x}<br>Average Internet usage over the years=%{marker.size}<extra></extra>\", \"hovertext\": [\"Brazil\"], \"legendgroup\": \"Brazil\", \"marker\": {\"color\": \"#ab63fa\", \"size\": [41.00511005555452], \"sizemode\": \"area\", \"sizeref\": 0.025361307840186014, \"symbol\": \"circle\"}, \"mode\": \"markers\", \"name\": \"Brazil\", \"showlegend\": true, \"type\": \"scatter\", \"x\": [8528.3], \"xaxis\": \"x\", \"y\": [41.00511005555452], \"yaxis\": \"y\"}, {\"hovertemplate\": \"<b>%{hovertext}</b><br><br>Country=Brunei Darussalam<br>GDP per capita (current US$)=%{x}<br>Average Internet usage over the years=%{marker.size}<extra></extra>\", \"hovertext\": [\"Brunei Darussalam\"], \"legendgroup\": \"Brunei Darussalam\", \"marker\": {\"color\": \"#FFA15A\", \"size\": [63.515680057965824], \"sizemode\": \"area\", \"sizeref\": 0.025361307840186014, \"symbol\": \"circle\"}, \"mode\": \"markers\", \"name\": \"Brunei Darussalam\", \"showlegend\": true, \"type\": \"scatter\", \"x\": [30552.7], \"xaxis\": \"x\", \"y\": [63.515680057965824], \"yaxis\": \"y\"}, {\"hovertemplate\": \"<b>%{hovertext}</b><br><br>Country=Bulgaria<br>GDP per capita (current US$)=%{x}<br>Average Internet usage over the years=%{marker.size}<extra></extra>\", \"hovertext\": [\"Bulgaria\"], \"legendgroup\": \"Bulgaria\", \"marker\": {\"color\": \"#19d3f3\", \"size\": [47.69785126515635], \"sizemode\": \"area\", \"sizeref\": 0.025361307840186014, \"symbol\": \"circle\"}, \"mode\": \"markers\", \"name\": \"Bulgaria\", \"showlegend\": true, \"type\": \"scatter\", \"x\": [6846.8], \"xaxis\": \"x\", \"y\": [47.69785126515635], \"yaxis\": \"y\"}, {\"hovertemplate\": \"<b>%{hovertext}</b><br><br>Country=Burkina Faso<br>GDP per capita (current US$)=%{x}<br>Average Internet usage over the years=%{marker.size}<extra></extra>\", \"hovertext\": [\"Burkina Faso\"], \"legendgroup\": \"Burkina Faso\", \"marker\": {\"color\": \"#FF6692\", \"size\": [6.557457233961455], \"sizemode\": \"area\", \"sizeref\": 0.025361307840186014, \"symbol\": \"circle\"}, \"mode\": \"markers\", \"name\": \"Burkina Faso\", \"showlegend\": true, \"type\": \"scatter\", \"x\": [611.1], \"xaxis\": \"x\", \"y\": [6.557457233961455], \"yaxis\": \"y\"}, {\"hovertemplate\": \"<b>%{hovertext}</b><br><br>Country=Burundi<br>GDP per capita (current US$)=%{x}<br>Average Internet usage over the years=%{marker.size}<extra></extra>\", \"hovertext\": [\"Burundi\"], \"legendgroup\": \"Burundi\", \"marker\": {\"color\": \"#B6E880\", \"size\": [1.75401901309071], \"sizemode\": \"area\", \"sizeref\": 0.025361307840186014, \"symbol\": \"circle\"}, \"mode\": \"markers\", \"name\": \"Burundi\", \"showlegend\": true, \"type\": \"scatter\", \"x\": [244.6], \"xaxis\": \"x\", \"y\": [1.75401901309071], \"yaxis\": \"y\"}, {\"hovertemplate\": \"<b>%{hovertext}</b><br><br>Country=Cambodia<br>GDP per capita (current US$)=%{x}<br>Average Internet usage over the years=%{marker.size}<extra></extra>\", \"hovertext\": [\"Cambodia\"], \"legendgroup\": \"Cambodia\", \"marker\": {\"color\": \"#FF97FF\", \"size\": [12.885721432852053], \"sizemode\": \"area\", \"sizeref\": 0.025361307840186014, \"symbol\": \"circle\"}, \"mode\": \"markers\", \"name\": \"Cambodia\", \"showlegend\": true, \"type\": \"scatter\", \"x\": [1158.7], \"xaxis\": \"x\", \"y\": [12.885721432852053], \"yaxis\": \"y\"}, {\"hovertemplate\": \"<b>%{hovertext}</b><br><br>Country=Cameroon<br>GDP per capita (current US$)=%{x}<br>Average Internet usage over the years=%{marker.size}<extra></extra>\", \"hovertext\": [\"Cameroon\"], \"legendgroup\": \"Cameroon\", \"marker\": {\"color\": \"#FECB52\", \"size\": [10.15961255770332], \"sizemode\": \"area\", \"sizeref\": 0.025361307840186014, \"symbol\": \"circle\"}, \"mode\": \"markers\", \"name\": \"Cameroon\", \"showlegend\": true, \"type\": \"scatter\", \"x\": [1217.3], \"xaxis\": \"x\", \"y\": [10.15961255770332], \"yaxis\": \"y\"}, {\"hovertemplate\": \"<b>%{hovertext}</b><br><br>Country=Canada<br>GDP per capita (current US$)=%{x}<br>Average Internet usage over the years=%{marker.size}<extra></extra>\", \"hovertext\": [\"Canada\"], \"legendgroup\": \"Canada\", \"marker\": {\"color\": \"#636efa\", \"size\": [74.03090909090909], \"sizemode\": \"area\", \"sizeref\": 0.025361307840186014, \"symbol\": \"circle\"}, \"mode\": \"markers\", \"name\": \"Canada\", \"showlegend\": true, \"type\": \"scatter\", \"x\": [43205.6], \"xaxis\": \"x\", \"y\": [74.03090909090909], \"yaxis\": \"y\"}, {\"hovertemplate\": \"<b>%{hovertext}</b><br><br>Country=Cape Verde<br>GDP per capita (current US$)=%{x}<br>Average Internet usage over the years=%{marker.size}<extra></extra>\", \"hovertext\": [null], \"legendgroup\": \"Cape Verde\", \"marker\": {\"color\": \"#EF553B\", \"size\": [35.521169744811274], \"sizemode\": \"area\", \"sizeref\": 0.025361307840186014, \"symbol\": \"circle\"}, \"mode\": \"markers\", \"name\": \"Cape Verde\", \"showlegend\": true, \"type\": \"scatter\", \"x\": [null], \"xaxis\": \"x\", \"y\": [35.521169744811274], \"yaxis\": \"y\"}, {\"hovertemplate\": \"<b>%{hovertext}</b><br><br>Country=Central African Republic<br>GDP per capita (current US$)=%{x}<br>Average Internet usage over the years=%{marker.size}<extra></extra>\", \"hovertext\": [\"Central African Republic\"], \"legendgroup\": \"Central African Republic\", \"marker\": {\"color\": \"#00cc96\", \"size\": [2.4237131570938484], \"sizemode\": \"area\", \"sizeref\": 0.025361307840186014, \"symbol\": \"circle\"}, \"mode\": \"markers\", \"name\": \"Central African Republic\", \"showlegend\": true, \"type\": \"scatter\", \"x\": [333.2], \"xaxis\": \"x\", \"y\": [2.4237131570938484], \"yaxis\": \"y\"}, {\"hovertemplate\": \"<b>%{hovertext}</b><br><br>Country=Chad<br>GDP per capita (current US$)=%{x}<br>Average Internet usage over the years=%{marker.size}<extra></extra>\", \"hovertext\": [\"Chad\"], \"legendgroup\": \"Chad\", \"marker\": {\"color\": \"#ab63fa\", \"size\": [2.412269354176281], \"sizemode\": \"area\", \"sizeref\": 0.025361307840186014, \"symbol\": \"circle\"}, \"mode\": \"markers\", \"name\": \"Chad\", \"showlegend\": true, \"type\": \"scatter\", \"x\": [713.0], \"xaxis\": \"x\", \"y\": [2.412269354176281], \"yaxis\": \"y\"}, {\"hovertemplate\": \"<b>%{hovertext}</b><br><br>Country=Chile<br>GDP per capita (current US$)=%{x}<br>Average Internet usage over the years=%{marker.size}<extra></extra>\", \"hovertext\": [\"Chile\"], \"legendgroup\": \"Chile\", \"marker\": {\"color\": \"#FFA15A\", \"size\": [51.063729751649355], \"sizemode\": \"area\", \"sizeref\": 0.025361307840186014, \"symbol\": \"circle\"}, \"mode\": \"markers\", \"name\": \"Chile\", \"showlegend\": true, \"type\": \"scatter\", \"x\": [13416.2], \"xaxis\": \"x\", \"y\": [51.063729751649355], \"yaxis\": \"y\"}, {\"hovertemplate\": \"<b>%{hovertext}</b><br><br>Country=China<br>GDP per capita (current US$)=%{x}<br>Average Internet usage over the years=%{marker.size}<extra></extra>\", \"hovertext\": [\"China\"], \"legendgroup\": \"China\", \"marker\": {\"color\": \"#19d3f3\", \"size\": [34.24538979046083], \"sizemode\": \"area\", \"sizeref\": 0.025361307840186014, \"symbol\": \"circle\"}, \"mode\": \"markers\", \"name\": \"China\", \"showlegend\": true, \"type\": \"scatter\", \"x\": [8109.1], \"xaxis\": \"x\", \"y\": [34.24538979046083], \"yaxis\": \"y\"}, {\"hovertemplate\": \"<b>%{hovertext}</b><br><br>Country=Colombia<br>GDP per capita (current US$)=%{x}<br>Average Internet usage over the years=%{marker.size}<extra></extra>\", \"hovertext\": [\"Colombia\"], \"legendgroup\": \"Colombia\", \"marker\": {\"color\": \"#FF6692\", \"size\": [38.14700536745515], \"sizemode\": \"area\", \"sizeref\": 0.025361307840186014, \"symbol\": \"circle\"}, \"mode\": \"markers\", \"name\": \"Colombia\", \"showlegend\": true, \"type\": \"scatter\", \"x\": [6056.1], \"xaxis\": \"x\", \"y\": [38.14700536745515], \"yaxis\": \"y\"}, {\"hovertemplate\": \"<b>%{hovertext}</b><br><br>Country=Comoros<br>GDP per capita (current US$)=%{x}<br>Average Internet usage over the years=%{marker.size}<extra></extra>\", \"hovertext\": [\"Comoros\"], \"legendgroup\": \"Comoros\", \"marker\": {\"color\": \"#B6E880\", \"size\": [5.109335578871608], \"sizemode\": \"area\", \"sizeref\": 0.025361307840186014, \"symbol\": \"circle\"}, \"mode\": \"markers\", \"name\": \"Comoros\", \"showlegend\": true, \"type\": \"scatter\", \"x\": [1368.9], \"xaxis\": \"x\", \"y\": [5.109335578871608], \"yaxis\": \"y\"}, {\"hovertemplate\": \"<b>%{hovertext}</b><br><br>Country=Congo (Dem. Rep.)<br>GDP per capita (current US$)=%{x}<br>Average Internet usage over the years=%{marker.size}<extra></extra>\", \"hovertext\": [null], \"legendgroup\": \"Congo (Dem. Rep.)\", \"marker\": {\"color\": \"#FF97FF\", \"size\": [2.5157981282078383], \"sizemode\": \"area\", \"sizeref\": 0.025361307840186014, \"symbol\": \"circle\"}, \"mode\": \"markers\", \"name\": \"Congo (Dem. Rep.)\", \"showlegend\": true, \"type\": \"scatter\", \"x\": [null], \"xaxis\": \"x\", \"y\": [2.5157981282078383], \"yaxis\": \"y\"}, {\"hovertemplate\": \"<b>%{hovertext}</b><br><br>Country=Congo (Rep.)<br>GDP per capita (current US$)=%{x}<br>Average Internet usage over the years=%{marker.size}<extra></extra>\", \"hovertext\": [null], \"legendgroup\": \"Congo (Rep.)\", \"marker\": {\"color\": \"#FECB52\", \"size\": [5.11767216377099], \"sizemode\": \"area\", \"sizeref\": 0.025361307840186014, \"symbol\": \"circle\"}, \"mode\": \"markers\", \"name\": \"Congo (Rep.)\", \"showlegend\": true, \"type\": \"scatter\", \"x\": [null], \"xaxis\": \"x\", \"y\": [5.11767216377099], \"yaxis\": \"y\"}, {\"hovertemplate\": \"<b>%{hovertext}</b><br><br>Country=Costa Rica<br>GDP per capita (current US$)=%{x}<br>Average Internet usage over the years=%{marker.size}<extra></extra>\", \"hovertext\": [\"Costa Rica\"], \"legendgroup\": \"Costa Rica\", \"marker\": {\"color\": \"#636efa\", \"size\": [47.37849286115279], \"sizemode\": \"area\", \"sizeref\": 0.025361307840186014, \"symbol\": \"circle\"}, \"mode\": \"markers\", \"name\": \"Costa Rica\", \"showlegend\": true, \"type\": \"scatter\", \"x\": [11015.0], \"xaxis\": \"x\", \"y\": [47.37849286115279], \"yaxis\": \"y\"}, {\"hovertemplate\": \"<b>%{hovertext}</b><br><br>Country=Croatia<br>GDP per capita (current US$)=%{x}<br>Average Internet usage over the years=%{marker.size}<extra></extra>\", \"hovertext\": [\"Croatia\"], \"legendgroup\": \"Croatia\", \"marker\": {\"color\": \"#EF553B\", \"size\": [57.606160661350835], \"sizemode\": \"area\", \"sizeref\": 0.025361307840186014, \"symbol\": \"circle\"}, \"mode\": \"markers\", \"name\": \"Croatia\", \"showlegend\": true, \"type\": \"scatter\", \"x\": [11479.4], \"xaxis\": \"x\", \"y\": [57.606160661350835], \"yaxis\": \"y\"}, {\"hovertemplate\": \"<b>%{hovertext}</b><br><br>Country=Cuba<br>GDP per capita (current US$)=%{x}<br>Average Internet usage over the years=%{marker.size}<extra></extra>\", \"hovertext\": [\"Cuba\"], \"legendgroup\": \"Cuba\", \"marker\": {\"color\": \"#00cc96\", \"size\": [23.438990622495943], \"sizemode\": \"area\", \"sizeref\": 0.025361307840186014, \"symbol\": \"circle\"}, \"mode\": \"markers\", \"name\": \"Cuba\", \"showlegend\": true, \"type\": \"scatter\", \"x\": [7656.6], \"xaxis\": \"x\", \"y\": [23.438990622495943], \"yaxis\": \"y\"}, {\"hovertemplate\": \"<b>%{hovertext}</b><br><br>Country=Cyprus<br>GDP per capita (current US$)=%{x}<br>Average Internet usage over the years=%{marker.size}<extra></extra>\", \"hovertext\": [\"Cyprus\"], \"legendgroup\": \"Cyprus\", \"marker\": {\"color\": \"#ab63fa\", \"size\": [60.56207563729488], \"sizemode\": \"area\", \"sizeref\": 0.025361307840186014, \"symbol\": \"circle\"}, \"mode\": \"markers\", \"name\": \"Cyprus\", \"showlegend\": true, \"type\": \"scatter\", \"x\": [21941.9], \"xaxis\": \"x\", \"y\": [60.56207563729488], \"yaxis\": \"y\"}, {\"hovertemplate\": \"<b>%{hovertext}</b><br><br>Country=Czech Republic<br>GDP per capita (current US$)=%{x}<br>Average Internet usage over the years=%{marker.size}<extra></extra>\", \"hovertext\": [null], \"legendgroup\": \"Czech Republic\", \"marker\": {\"color\": \"#FFA15A\", \"size\": [65.24454670199033], \"sizemode\": \"area\", \"sizeref\": 0.025361307840186014, \"symbol\": \"circle\"}, \"mode\": \"markers\", \"name\": \"Czech Republic\", \"showlegend\": true, \"type\": \"scatter\", \"x\": [null], \"xaxis\": \"x\", \"y\": [65.24454670199033], \"yaxis\": \"y\"}, {\"hovertemplate\": \"<b>%{hovertext}</b><br><br>Country=C\\u00f4te d'Ivoire<br>GDP per capita (current US$)=%{x}<br>Average Internet usage over the years=%{marker.size}<extra></extra>\", \"hovertext\": [null], \"legendgroup\": \"C\\u00f4te d'Ivoire\", \"marker\": {\"color\": \"#19d3f3\", \"size\": [19.405126594398283], \"sizemode\": \"area\", \"sizeref\": 0.025361307840186014, \"symbol\": \"circle\"}, \"mode\": \"markers\", \"name\": \"C\\u00f4te d'Ivoire\", \"showlegend\": true, \"type\": \"scatter\", \"x\": [null], \"xaxis\": \"x\", \"y\": [19.405126594398283], \"yaxis\": \"y\"}, {\"hovertemplate\": \"<b>%{hovertext}</b><br><br>Country=Democratic People's Republic of Korea<br>GDP per capita (current US$)=%{x}<br>Average Internet usage over the years=%{marker.size}<extra></extra>\", \"hovertext\": [\"Democratic People's Republic of Korea\"], \"legendgroup\": \"Democratic People's Republic of Korea\", \"marker\": {\"color\": \"#FF6692\", \"size\": [0.0], \"sizemode\": \"area\", \"sizeref\": 0.025361307840186014, \"symbol\": \"circle\"}, \"mode\": \"markers\", \"name\": \"Democratic People's Republic of Korea\", \"showlegend\": true, \"type\": \"scatter\", \"x\": [648.0], \"xaxis\": \"x\", \"y\": [0.0], \"yaxis\": \"y\"}, {\"hovertemplate\": \"<b>%{hovertext}</b><br><br>Country=Denmark<br>GDP per capita (current US$)=%{x}<br>Average Internet usage over the years=%{marker.size}<extra></extra>\", \"hovertext\": [\"Denmark\"], \"legendgroup\": \"Denmark\", \"marker\": {\"color\": \"#B6E880\", \"size\": [88.30582468167478], \"sizemode\": \"area\", \"sizeref\": 0.025361307840186014, \"symbol\": \"circle\"}, \"mode\": \"markers\", \"name\": \"Denmark\", \"showlegend\": true, \"type\": \"scatter\", \"x\": [53149.3], \"xaxis\": \"x\", \"y\": [88.30582468167478], \"yaxis\": \"y\"}, {\"hovertemplate\": \"<b>%{hovertext}</b><br><br>Country=Djibouti<br>GDP per capita (current US$)=%{x}<br>Average Internet usage over the years=%{marker.size}<extra></extra>\", \"hovertext\": [\"Djibouti\"], \"legendgroup\": \"Djibouti\", \"marker\": {\"color\": \"#FF97FF\", \"size\": [11.26037278742234], \"sizemode\": \"area\", \"sizeref\": 0.025361307840186014, \"symbol\": \"circle\"}, \"mode\": \"markers\", \"name\": \"Djibouti\", \"showlegend\": true, \"type\": \"scatter\", \"x\": [1956.3], \"xaxis\": \"x\", \"y\": [11.26037278742234], \"yaxis\": \"y\"}, {\"hovertemplate\": \"<b>%{hovertext}</b><br><br>Country=Dominica<br>GDP per capita (current US$)=%{x}<br>Average Internet usage over the years=%{marker.size}<extra></extra>\", \"hovertext\": [\"Dominica\"], \"legendgroup\": \"Dominica\", \"marker\": {\"color\": \"#FECB52\", \"size\": [45.75983238687181], \"sizemode\": \"area\", \"sizeref\": 0.025361307840186014, \"symbol\": \"circle\"}, \"mode\": \"markers\", \"name\": \"Dominica\", \"showlegend\": true, \"type\": \"scatter\", \"x\": [7051.1], \"xaxis\": \"x\", \"y\": [45.75983238687181], \"yaxis\": \"y\"}, {\"hovertemplate\": \"<b>%{hovertext}</b><br><br>Country=Dominican Rep.<br>GDP per capita (current US$)=%{x}<br>Average Internet usage over the years=%{marker.size}<extra></extra>\", \"hovertext\": [null], \"legendgroup\": \"Dominican Rep.\", \"marker\": {\"color\": \"#636efa\", \"size\": [43.89727688642381], \"sizemode\": \"area\", \"sizeref\": 0.025361307840186014, \"symbol\": \"circle\"}, \"mode\": \"markers\", \"name\": \"Dominican Rep.\", \"showlegend\": true, \"type\": \"scatter\", \"x\": [null], \"xaxis\": \"x\", \"y\": [43.89727688642381], \"yaxis\": \"y\"}, {\"hovertemplate\": \"<b>%{hovertext}</b><br><br>Country=Ecuador<br>GDP per capita (current US$)=%{x}<br>Average Internet usage over the years=%{marker.size}<extra></extra>\", \"hovertext\": [\"Ecuador\"], \"legendgroup\": \"Ecuador\", \"marker\": {\"color\": \"#EF553B\", \"size\": [31.73941030180106], \"sizemode\": \"area\", \"sizeref\": 0.025361307840186014, \"symbol\": \"circle\"}, \"mode\": \"markers\", \"name\": \"Ecuador\", \"showlegend\": true, \"type\": \"scatter\", \"x\": [6205.1], \"xaxis\": \"x\", \"y\": [31.73941030180106], \"yaxis\": \"y\"}, {\"hovertemplate\": \"<b>%{hovertext}</b><br><br>Country=Egypt<br>GDP per capita (current US$)=%{x}<br>Average Internet usage over the years=%{marker.size}<extra></extra>\", \"hovertext\": [\"Egypt\"], \"legendgroup\": \"Egypt\", \"marker\": {\"color\": \"#00cc96\", \"size\": [29.202532891201518], \"sizemode\": \"area\", \"sizeref\": 0.025361307840186014, \"symbol\": \"circle\"}, \"mode\": \"markers\", \"name\": \"Egypt\", \"showlegend\": true, \"type\": \"scatter\", \"x\": [3452.3], \"xaxis\": \"x\", \"y\": [29.202532891201518], \"yaxis\": \"y\"}, {\"hovertemplate\": \"<b>%{hovertext}</b><br><br>Country=El Salvador<br>GDP per capita (current US$)=%{x}<br>Average Internet usage over the years=%{marker.size}<extra></extra>\", \"hovertext\": [\"El Salvador\"], \"legendgroup\": \"El Salvador\", \"marker\": {\"color\": \"#ab63fa\", \"size\": [17.999109458627796], \"sizemode\": \"area\", \"sizeref\": 0.025361307840186014, \"symbol\": \"circle\"}, \"mode\": \"markers\", \"name\": \"El Salvador\", \"showlegend\": true, \"type\": \"scatter\", \"x\": [4219.4], \"xaxis\": \"x\", \"y\": [17.999109458627796], \"yaxis\": \"y\"}, {\"hovertemplate\": \"<b>%{hovertext}</b><br><br>Country=Equatorial Guinea<br>GDP per capita (current US$)=%{x}<br>Average Internet usage over the years=%{marker.size}<extra></extra>\", \"hovertext\": [\"Equatorial Guinea\"], \"legendgroup\": \"Equatorial Guinea\", \"marker\": {\"color\": \"#FFA15A\", \"size\": [12.665938767297403], \"sizemode\": \"area\", \"sizeref\": 0.025361307840186014, \"symbol\": \"circle\"}, \"mode\": \"markers\", \"name\": \"Equatorial Guinea\", \"showlegend\": true, \"type\": \"scatter\", \"x\": [16344.1], \"xaxis\": \"x\", \"y\": [12.665938767297403], \"yaxis\": \"y\"}, {\"hovertemplate\": \"<b>%{hovertext}</b><br><br>Country=Eritrea<br>GDP per capita (current US$)=%{x}<br>Average Internet usage over the years=%{marker.size}<extra></extra>\", \"hovertext\": [\"Eritrea\"], \"legendgroup\": \"Eritrea\", \"marker\": {\"color\": \"#19d3f3\", \"size\": [0.7005882506184542], \"sizemode\": \"area\", \"sizeref\": 0.025361307840186014, \"symbol\": \"circle\"}, \"mode\": \"markers\", \"name\": \"Eritrea\", \"showlegend\": true, \"type\": \"scatter\", \"x\": [914.9], \"xaxis\": \"x\", \"y\": [0.7005882506184542], \"yaxis\": \"y\"}, {\"hovertemplate\": \"<b>%{hovertext}</b><br><br>Country=Estonia<br>GDP per capita (current US$)=%{x}<br>Average Internet usage over the years=%{marker.size}<extra></extra>\", \"hovertext\": [\"Estonia\"], \"legendgroup\": \"Estonia\", \"marker\": {\"color\": \"#FF6692\", \"size\": [76.03382806042829], \"sizemode\": \"area\", \"sizeref\": 0.025361307840186014, \"symbol\": \"circle\"}, \"mode\": \"markers\", \"name\": \"Estonia\", \"showlegend\": true, \"type\": \"scatter\", \"x\": [17112.0], \"xaxis\": \"x\", \"y\": [76.03382806042829], \"yaxis\": \"y\"}, {\"hovertemplate\": \"<b>%{hovertext}</b><br><br>Country=Ethiopia<br>GDP per capita (current US$)=%{x}<br>Average Internet usage over the years=%{marker.size}<extra></extra>\", \"hovertext\": [\"Ethiopia\"], \"legendgroup\": \"Ethiopia\", \"marker\": {\"color\": \"#B6E880\", \"size\": [5.920461314053615], \"sizemode\": \"area\", \"sizeref\": 0.025361307840186014, \"symbol\": \"circle\"}, \"mode\": \"markers\", \"name\": \"Ethiopia\", \"showlegend\": true, \"type\": \"scatter\", \"x\": [602.8], \"xaxis\": \"x\", \"y\": [5.920461314053615], \"yaxis\": \"y\"}, {\"hovertemplate\": \"<b>%{hovertext}</b><br><br>Country=Falkland (Malvinas) Is.<br>GDP per capita (current US$)=%{x}<br>Average Internet usage over the years=%{marker.size}<extra></extra>\", \"hovertext\": [null], \"legendgroup\": \"Falkland (Malvinas) Is.\", \"marker\": {\"color\": \"#FF97FF\", \"size\": [74.87176110346658], \"sizemode\": \"area\", \"sizeref\": 0.025361307840186014, \"symbol\": \"circle\"}, \"mode\": \"markers\", \"name\": \"Falkland (Malvinas) Is.\", \"showlegend\": true, \"type\": \"scatter\", \"x\": [null], \"xaxis\": \"x\", \"y\": [74.87176110346658], \"yaxis\": \"y\"}, {\"hovertemplate\": \"<b>%{hovertext}</b><br><br>Country=Fiji<br>GDP per capita (current US$)=%{x}<br>Average Internet usage over the years=%{marker.size}<extra></extra>\", \"hovertext\": [\"Fiji\"], \"legendgroup\": \"Fiji\", \"marker\": {\"color\": \"#FECB52\", \"size\": [27.569654494754733], \"sizemode\": \"area\", \"sizeref\": 0.025361307840186014, \"symbol\": \"circle\"}, \"mode\": \"markers\", \"name\": \"Fiji\", \"showlegend\": true, \"type\": \"scatter\", \"x\": [4921.9], \"xaxis\": \"x\", \"y\": [27.569654494754733], \"yaxis\": \"y\"}, {\"hovertemplate\": \"<b>%{hovertext}</b><br><br>Country=Finland<br>GDP per capita (current US$)=%{x}<br>Average Internet usage over the years=%{marker.size}<extra></extra>\", \"hovertext\": [\"Finland\"], \"legendgroup\": \"Finland\", \"marker\": {\"color\": \"#636efa\", \"size\": [82.33981088535499], \"sizemode\": \"area\", \"sizeref\": 0.025361307840186014, \"symbol\": \"circle\"}, \"mode\": \"markers\", \"name\": \"Finland\", \"showlegend\": true, \"type\": \"scatter\", \"x\": [42148.1], \"xaxis\": \"x\", \"y\": [82.33981088535499], \"yaxis\": \"y\"}, {\"hovertemplate\": \"<b>%{hovertext}</b><br><br>Country=France<br>GDP per capita (current US$)=%{x}<br>Average Internet usage over the years=%{marker.size}<extra></extra>\", \"hovertext\": [\"France\"], \"legendgroup\": \"France\", \"marker\": {\"color\": \"#EF553B\", \"size\": [70.8375934721078], \"sizemode\": \"area\", \"sizeref\": 0.025361307840186014, \"symbol\": \"circle\"}, \"mode\": \"markers\", \"name\": \"France\", \"showlegend\": true, \"type\": \"scatter\", \"x\": [36304.2], \"xaxis\": \"x\", \"y\": [70.8375934721078], \"yaxis\": \"y\"}, {\"hovertemplate\": \"<b>%{hovertext}</b><br><br>Country=Gabon<br>GDP per capita (current US$)=%{x}<br>Average Internet usage over the years=%{marker.size}<extra></extra>\", \"hovertext\": [\"Gabon\"], \"legendgroup\": \"Gabon\", \"marker\": {\"color\": \"#00cc96\", \"size\": [25.95958712532986], \"sizemode\": \"area\", \"sizeref\": 0.025361307840186014, \"symbol\": \"circle\"}, \"mode\": \"markers\", \"name\": \"Gabon\", \"showlegend\": true, \"type\": \"scatter\", \"x\": [7960.7], \"xaxis\": \"x\", \"y\": [25.95958712532986], \"yaxis\": \"y\"}, {\"hovertemplate\": \"<b>%{hovertext}</b><br><br>Country=Gambia<br>GDP per capita (current US$)=%{x}<br>Average Internet usage over the years=%{marker.size}<extra></extra>\", \"hovertext\": [\"Gambia\"], \"legendgroup\": \"Gambia\", \"marker\": {\"color\": \"#ab63fa\", \"size\": [11.057889020067101], \"sizemode\": \"area\", \"sizeref\": 0.025361307840186014, \"symbol\": \"circle\"}, \"mode\": \"markers\", \"name\": \"Gambia\", \"showlegend\": true, \"type\": \"scatter\", \"x\": [473.2], \"xaxis\": \"x\", \"y\": [11.057889020067101], \"yaxis\": \"y\"}, {\"hovertemplate\": \"<b>%{hovertext}</b><br><br>Country=Georgia<br>GDP per capita (current US$)=%{x}<br>Average Internet usage over the years=%{marker.size}<extra></extra>\", \"hovertext\": [\"Georgia\"], \"legendgroup\": \"Georgia\", \"marker\": {\"color\": \"#FFA15A\", \"size\": [38.084307936557586], \"sizemode\": \"area\", \"sizeref\": 0.025361307840186014, \"symbol\": \"circle\"}, \"mode\": \"markers\", \"name\": \"Georgia\", \"showlegend\": true, \"type\": \"scatter\", \"x\": [3491.4], \"xaxis\": \"x\", \"y\": [38.084307936557586], \"yaxis\": \"y\"}, {\"hovertemplate\": \"<b>%{hovertext}</b><br><br>Country=Germany<br>GDP per capita (current US$)=%{x}<br>Average Internet usage over the years=%{marker.size}<extra></extra>\", \"hovertext\": [\"Germany\"], \"legendgroup\": \"Germany\", \"marker\": {\"color\": \"#19d3f3\", \"size\": [78.25417931072151], \"sizemode\": \"area\", \"sizeref\": 0.025361307840186014, \"symbol\": \"circle\"}, \"mode\": \"markers\", \"name\": \"Germany\", \"showlegend\": true, \"type\": \"scatter\", \"x\": [41686.2], \"xaxis\": \"x\", \"y\": [78.25417931072151], \"yaxis\": \"y\"}, {\"hovertemplate\": \"<b>%{hovertext}</b><br><br>Country=Ghana<br>GDP per capita (current US$)=%{x}<br>Average Internet usage over the years=%{marker.size}<extra></extra>\", \"hovertext\": [\"Ghana\"], \"legendgroup\": \"Ghana\", \"marker\": {\"color\": \"#FF6692\", \"size\": [15.324413712606543], \"sizemode\": \"area\", \"sizeref\": 0.025361307840186014, \"symbol\": \"circle\"}, \"mode\": \"markers\", \"name\": \"Ghana\", \"showlegend\": true, \"type\": \"scatter\", \"x\": [1355.6], \"xaxis\": \"x\", \"y\": [15.324413712606543], \"yaxis\": \"y\"}, {\"hovertemplate\": \"<b>%{hovertext}</b><br><br>Country=Greece<br>GDP per capita (current US$)=%{x}<br>Average Internet usage over the years=%{marker.size}<extra></extra>\", \"hovertext\": [\"Greece\"], \"legendgroup\": \"Greece\", \"marker\": {\"color\": \"#B6E880\", \"size\": [53.34177900374676], \"sizemode\": \"area\", \"sizeref\": 0.025361307840186014, \"symbol\": \"circle\"}, \"mode\": \"markers\", \"name\": \"Greece\", \"showlegend\": true, \"type\": \"scatter\", \"x\": [17788.0], \"xaxis\": \"x\", \"y\": [53.34177900374676], \"yaxis\": \"y\"}, {\"hovertemplate\": \"<b>%{hovertext}</b><br><br>Country=Grenada<br>GDP per capita (current US$)=%{x}<br>Average Internet usage over the years=%{marker.size}<extra></extra>\", \"hovertext\": [\"Grenada\"], \"legendgroup\": \"Grenada\", \"marker\": {\"color\": \"#FF97FF\", \"size\": [33.53544145955431], \"sizemode\": \"area\", \"sizeref\": 0.025361307840186014, \"symbol\": \"circle\"}, \"mode\": \"markers\", \"name\": \"Grenada\", \"showlegend\": true, \"type\": \"scatter\", \"x\": [8933.8], \"xaxis\": \"x\", \"y\": [33.53544145955431], \"yaxis\": \"y\"}, {\"hovertemplate\": \"<b>%{hovertext}</b><br><br>Country=Guatemala<br>GDP per capita (current US$)=%{x}<br>Average Internet usage over the years=%{marker.size}<extra></extra>\", \"hovertext\": [\"Guatemala\"], \"legendgroup\": \"Guatemala\", \"marker\": {\"color\": \"#FECB52\", \"size\": [19.693418231947412], \"sizemode\": \"area\", \"sizeref\": 0.025361307840186014, \"symbol\": \"circle\"}, \"mode\": \"markers\", \"name\": \"Guatemala\", \"showlegend\": true, \"type\": \"scatter\", \"x\": [3903.5], \"xaxis\": \"x\", \"y\": [19.693418231947412], \"yaxis\": \"y\"}, {\"hovertemplate\": \"<b>%{hovertext}</b><br><br>Country=Guinea<br>GDP per capita (current US$)=%{x}<br>Average Internet usage over the years=%{marker.size}<extra></extra>\", \"hovertext\": [\"Guinea\"], \"legendgroup\": \"Guinea\", \"marker\": {\"color\": \"#636efa\", \"size\": [4.8761526458730025], \"sizemode\": \"area\", \"sizeref\": 0.025361307840186014, \"symbol\": \"circle\"}, \"mode\": \"markers\", \"name\": \"Guinea\", \"showlegend\": true, \"type\": \"scatter\", \"x\": [703.9], \"xaxis\": \"x\", \"y\": [4.8761526458730025], \"yaxis\": \"y\"}, {\"hovertemplate\": \"<b>%{hovertext}</b><br><br>Country=Guinea-Bissau<br>GDP per capita (current US$)=%{x}<br>Average Internet usage over the years=%{marker.size}<extra></extra>\", \"hovertext\": [\"Guinea-Bissau\"], \"legendgroup\": \"Guinea-Bissau\", \"marker\": {\"color\": \"#EF553B\", \"size\": [2.527280818991616], \"sizemode\": \"area\", \"sizeref\": 0.025361307840186014, \"symbol\": \"circle\"}, \"mode\": \"markers\", \"name\": \"Guinea-Bissau\", \"showlegend\": true, \"type\": \"scatter\", \"x\": [530.0], \"xaxis\": \"x\", \"y\": [2.527280818991616], \"yaxis\": \"y\"}, {\"hovertemplate\": \"<b>%{hovertext}</b><br><br>Country=Guyana<br>GDP per capita (current US$)=%{x}<br>Average Internet usage over the years=%{marker.size}<extra></extra>\", \"hovertext\": [\"Guyana\"], \"legendgroup\": \"Guyana\", \"marker\": {\"color\": \"#00cc96\", \"size\": [24.272484395775418], \"sizemode\": \"area\", \"sizeref\": 0.025361307840186014, \"symbol\": \"circle\"}, \"mode\": \"markers\", \"name\": \"Guyana\", \"showlegend\": true, \"type\": \"scatter\", \"x\": [4278.8], \"xaxis\": \"x\", \"y\": [24.272484395775418], \"yaxis\": \"y\"}, {\"hovertemplate\": \"<b>%{hovertext}</b><br><br>Country=Haiti<br>GDP per capita (current US$)=%{x}<br>Average Internet usage over the years=%{marker.size}<extra></extra>\", \"hovertext\": [\"Haiti\"], \"legendgroup\": \"Haiti\", \"marker\": {\"color\": \"#ab63fa\", \"size\": [11.364318606226908], \"sizemode\": \"area\", \"sizeref\": 0.025361307840186014, \"symbol\": \"circle\"}, \"mode\": \"markers\", \"name\": \"Haiti\", \"showlegend\": true, \"type\": \"scatter\", \"x\": [793.7], \"xaxis\": \"x\", \"y\": [11.364318606226908], \"yaxis\": \"y\"}, {\"hovertemplate\": \"<b>%{hovertext}</b><br><br>Country=Honduras<br>GDP per capita (current US$)=%{x}<br>Average Internet usage over the years=%{marker.size}<extra></extra>\", \"hovertext\": [\"Honduras\"], \"legendgroup\": \"Honduras\", \"marker\": {\"color\": \"#FFA15A\", \"size\": [16.18125963626534], \"sizemode\": \"area\", \"sizeref\": 0.025361307840186014, \"symbol\": \"circle\"}, \"mode\": \"markers\", \"name\": \"Honduras\", \"showlegend\": true, \"type\": \"scatter\", \"x\": [2521.9], \"xaxis\": \"x\", \"y\": [16.18125963626534], \"yaxis\": \"y\"}, {\"hovertemplate\": \"<b>%{hovertext}</b><br><br>Country=China, Hong Kong SAR<br>GDP per capita (current US$)=%{x}<br>Average Internet usage over the years=%{marker.size}<extra></extra>\", \"hovertext\": [\"China, Hong Kong SAR\"], \"legendgroup\": \"China, Hong Kong SAR\", \"marker\": {\"color\": \"#19d3f3\", \"size\": [65.2488857632337], \"sizemode\": \"area\", \"sizeref\": 0.025361307840186014, \"symbol\": \"circle\"}, \"mode\": \"markers\", \"name\": \"China, Hong Kong SAR\", \"showlegend\": true, \"type\": \"scatter\", \"x\": [42431.0], \"xaxis\": \"x\", \"y\": [65.2488857632337], \"yaxis\": \"y\"}, {\"hovertemplate\": \"<b>%{hovertext}</b><br><br>Country=Hungary<br>GDP per capita (current US$)=%{x}<br>Average Internet usage over the years=%{marker.size}<extra></extra>\", \"hovertext\": [\"Hungary\"], \"legendgroup\": \"Hungary\", \"marker\": {\"color\": \"#FF6692\", \"size\": [63.88961633922849], \"sizemode\": \"area\", \"sizeref\": 0.025361307840186014, \"symbol\": \"circle\"}, \"mode\": \"markers\", \"name\": \"Hungary\", \"showlegend\": true, \"type\": \"scatter\", \"x\": [12350.6], \"xaxis\": \"x\", \"y\": [63.88961633922849], \"yaxis\": \"y\"}, {\"hovertemplate\": \"<b>%{hovertext}</b><br><br>Country=Iceland<br>GDP per capita (current US$)=%{x}<br>Average Internet usage over the years=%{marker.size}<extra></extra>\", \"hovertext\": [\"Iceland\"], \"legendgroup\": \"Iceland\", \"marker\": {\"color\": \"#B6E880\", \"size\": [91.30070822466965], \"sizemode\": \"area\", \"sizeref\": 0.025361307840186014, \"symbol\": \"circle\"}, \"mode\": \"markers\", \"name\": \"Iceland\", \"showlegend\": true, \"type\": \"scatter\", \"x\": [50936.0], \"xaxis\": \"x\", \"y\": [91.30070822466965], \"yaxis\": \"y\"}, {\"hovertemplate\": \"<b>%{hovertext}</b><br><br>Country=India<br>GDP per capita (current US$)=%{x}<br>Average Internet usage over the years=%{marker.size}<extra></extra>\", \"hovertext\": [\"India\"], \"legendgroup\": \"India\", \"marker\": {\"color\": \"#FF97FF\", \"size\": [12.965060760344018], \"sizemode\": \"area\", \"sizeref\": 0.025361307840186014, \"symbol\": \"circle\"}, \"mode\": \"markers\", \"name\": \"India\", \"showlegend\": true, \"type\": \"scatter\", \"x\": [1614.2], \"xaxis\": \"x\", \"y\": [12.965060760344018], \"yaxis\": \"y\"}, {\"hovertemplate\": \"<b>%{hovertext}</b><br><br>Country=Indonesia<br>GDP per capita (current US$)=%{x}<br>Average Internet usage over the years=%{marker.size}<extra></extra>\", \"hovertext\": [\"Indonesia\"], \"legendgroup\": \"Indonesia\", \"marker\": {\"color\": \"#FECB52\", \"size\": [17.620994089873815], \"sizemode\": \"area\", \"sizeref\": 0.025361307840186014, \"symbol\": \"circle\"}, \"mode\": \"markers\", \"name\": \"Indonesia\", \"showlegend\": true, \"type\": \"scatter\", \"x\": [3346.5], \"xaxis\": \"x\", \"y\": [17.620994089873815], \"yaxis\": \"y\"}, {\"hovertemplate\": \"<b>%{hovertext}</b><br><br>Country=Iran (Islamic Republic of)<br>GDP per capita (current US$)=%{x}<br>Average Internet usage over the years=%{marker.size}<extra></extra>\", \"hovertext\": [\"Iran (Islamic Republic of)\"], \"legendgroup\": \"Iran (Islamic Republic of)\", \"marker\": {\"color\": \"#636efa\", \"size\": [33.506769401156866], \"sizemode\": \"area\", \"sizeref\": 0.025361307840186014, \"symbol\": \"circle\"}, \"mode\": \"markers\", \"name\": \"Iran (Islamic Republic of)\", \"showlegend\": true, \"type\": \"scatter\", \"x\": [5038.1], \"xaxis\": \"x\", \"y\": [33.506769401156866], \"yaxis\": \"y\"}, {\"hovertemplate\": \"<b>%{hovertext}</b><br><br>Country=Iraq<br>GDP per capita (current US$)=%{x}<br>Average Internet usage over the years=%{marker.size}<extra></extra>\", \"hovertext\": [\"Iraq\"], \"legendgroup\": \"Iraq\", \"marker\": {\"color\": \"#EF553B\", \"size\": [15.136363535454548], \"sizemode\": \"area\", \"sizeref\": 0.025361307840186014, \"symbol\": \"circle\"}, \"mode\": \"markers\", \"name\": \"Iraq\", \"showlegend\": true, \"type\": \"scatter\", \"x\": [4509.0], \"xaxis\": \"x\", \"y\": [15.136363535454548], \"yaxis\": \"y\"}, {\"hovertemplate\": \"<b>%{hovertext}</b><br><br>Country=Ireland<br>GDP per capita (current US$)=%{x}<br>Average Internet usage over the years=%{marker.size}<extra></extra>\", \"hovertext\": [\"Ireland\"], \"legendgroup\": \"Ireland\", \"marker\": {\"color\": \"#00cc96\", \"size\": [70.90928072625974], \"sizemode\": \"area\", \"sizeref\": 0.025361307840186014, \"symbol\": \"circle\"}, \"mode\": \"markers\", \"name\": \"Ireland\", \"showlegend\": true, \"type\": \"scatter\", \"x\": [60513.6], \"xaxis\": \"x\", \"y\": [70.90928072625974], \"yaxis\": \"y\"}, {\"hovertemplate\": \"<b>%{hovertext}</b><br><br>Country=Israel<br>GDP per capita (current US$)=%{x}<br>Average Internet usage over the years=%{marker.size}<extra></extra>\", \"hovertext\": [\"Israel\"], \"legendgroup\": \"Israel\", \"marker\": {\"color\": \"#ab63fa\", \"size\": [57.91783390414793], \"sizemode\": \"area\", \"sizeref\": 0.025361307840186014, \"symbol\": \"circle\"}, \"mode\": \"markers\", \"name\": \"Israel\", \"showlegend\": true, \"type\": \"scatter\", \"x\": [37129.4], \"xaxis\": \"x\", \"y\": [57.91783390414793], \"yaxis\": \"y\"}, {\"hovertemplate\": \"<b>%{hovertext}</b><br><br>Country=Italy<br>GDP per capita (current US$)=%{x}<br>Average Internet usage over the years=%{marker.size}<extra></extra>\", \"hovertext\": [\"Italy\"], \"legendgroup\": \"Italy\", \"marker\": {\"color\": \"#FFA15A\", \"size\": [53.912649855804936], \"sizemode\": \"area\", \"sizeref\": 0.025361307840186014, \"symbol\": \"circle\"}, \"mode\": \"markers\", \"name\": \"Italy\", \"showlegend\": true, \"type\": \"scatter\", \"x\": [30462.4], \"xaxis\": \"x\", \"y\": [53.912649855804936], \"yaxis\": \"y\"}, {\"hovertemplate\": \"<b>%{hovertext}</b><br><br>Country=Jamaica<br>GDP per capita (current US$)=%{x}<br>Average Internet usage over the years=%{marker.size}<extra></extra>\", \"hovertext\": [\"Jamaica\"], \"legendgroup\": \"Jamaica\", \"marker\": {\"color\": \"#19d3f3\", \"size\": [30.361570105303098], \"sizemode\": \"area\", \"sizeref\": 0.025361307840186014, \"symbol\": \"circle\"}, \"mode\": \"markers\", \"name\": \"Jamaica\", \"showlegend\": true, \"type\": \"scatter\", \"x\": [5105.8], \"xaxis\": \"x\", \"y\": [30.361570105303098], \"yaxis\": \"y\"}, {\"hovertemplate\": \"<b>%{hovertext}</b><br><br>Country=Japan<br>GDP per capita (current US$)=%{x}<br>Average Internet usage over the years=%{marker.size}<extra></extra>\", \"hovertext\": [\"Japan\"], \"legendgroup\": \"Japan\", \"marker\": {\"color\": \"#FF6692\", \"size\": [70.89339976529835], \"sizemode\": \"area\", \"sizeref\": 0.025361307840186014, \"symbol\": \"circle\"}, \"mode\": \"markers\", \"name\": \"Japan\", \"showlegend\": true, \"type\": \"scatter\", \"x\": [34628.7], \"xaxis\": \"x\", \"y\": [70.89339976529835], \"yaxis\": \"y\"}, {\"hovertemplate\": \"<b>%{hovertext}</b><br><br>Country=Jordan<br>GDP per capita (current US$)=%{x}<br>Average Internet usage over the years=%{marker.size}<extra></extra>\", \"hovertext\": [\"Jordan\"], \"legendgroup\": \"Jordan\", \"marker\": {\"color\": \"#B6E880\", \"size\": [35.587547014230175], \"sizemode\": \"area\", \"sizeref\": 0.025361307840186014, \"symbol\": \"circle\"}, \"mode\": \"markers\", \"name\": \"Jordan\", \"showlegend\": true, \"type\": \"scatter\", \"x\": [4940.1], \"xaxis\": \"x\", \"y\": [35.587547014230175], \"yaxis\": \"y\"}, {\"hovertemplate\": \"<b>%{hovertext}</b><br><br>Country=Kazakhstan<br>GDP per capita (current US$)=%{x}<br>Average Internet usage over the years=%{marker.size}<extra></extra>\", \"hovertext\": [\"Kazakhstan\"], \"legendgroup\": \"Kazakhstan\", \"marker\": {\"color\": \"#FF97FF\", \"size\": [52.52631646753314], \"sizemode\": \"area\", \"sizeref\": 0.025361307840186014, \"symbol\": \"circle\"}, \"mode\": \"markers\", \"name\": \"Kazakhstan\", \"showlegend\": true, \"type\": \"scatter\", \"x\": [10312.1], \"xaxis\": \"x\", \"y\": [52.52631646753314], \"yaxis\": \"y\"}, {\"hovertemplate\": \"<b>%{hovertext}</b><br><br>Country=Kenya<br>GDP per capita (current US$)=%{x}<br>Average Internet usage over the years=%{marker.size}<extra></extra>\", \"hovertext\": [\"Kenya\"], \"legendgroup\": \"Kenya\", \"marker\": {\"color\": \"#FECB52\", \"size\": [10.039537497505517], \"sizemode\": \"area\", \"sizeref\": 0.025361307840186014, \"symbol\": \"circle\"}, \"mode\": \"markers\", \"name\": \"Kenya\", \"showlegend\": true, \"type\": \"scatter\", \"x\": [1376.7], \"xaxis\": \"x\", \"y\": [10.039537497505517], \"yaxis\": \"y\"}, {\"hovertemplate\": \"<b>%{hovertext}</b><br><br>Country=Kiribati<br>GDP per capita (current US$)=%{x}<br>Average Internet usage over the years=%{marker.size}<extra></extra>\", \"hovertext\": [\"Kiribati\"], \"legendgroup\": \"Kiribati\", \"marker\": {\"color\": \"#636efa\", \"size\": [9.14830229401086], \"sizemode\": \"area\", \"sizeref\": 0.025361307840186014, \"symbol\": \"circle\"}, \"mode\": \"markers\", \"name\": \"Kiribati\", \"showlegend\": true, \"type\": \"scatter\", \"x\": [1442.9], \"xaxis\": \"x\", \"y\": [9.14830229401086], \"yaxis\": \"y\"}, {\"hovertemplate\": \"<b>%{hovertext}</b><br><br>Country=Korea (Rep. of)<br>GDP per capita (current US$)=%{x}<br>Average Internet usage over the years=%{marker.size}<extra></extra>\", \"hovertext\": [null], \"legendgroup\": \"Korea (Rep. of)\", \"marker\": {\"color\": \"#EF553B\", \"size\": [83.25151694613277], \"sizemode\": \"area\", \"sizeref\": 0.025361307840186014, \"symbol\": \"circle\"}, \"mode\": \"markers\", \"name\": \"Korea (Rep. of)\", \"showlegend\": true, \"type\": \"scatter\", \"x\": [null], \"xaxis\": \"x\", \"y\": [83.25151694613277], \"yaxis\": \"y\"}, {\"hovertemplate\": \"<b>%{hovertext}</b><br><br>Country=Kuwait<br>GDP per capita (current US$)=%{x}<br>Average Internet usage over the years=%{marker.size}<extra></extra>\", \"hovertext\": [\"Kuwait\"], \"legendgroup\": \"Kuwait\", \"marker\": {\"color\": \"#00cc96\", \"size\": [66.76399555635406], \"sizemode\": \"area\", \"sizeref\": 0.025361307840186014, \"symbol\": \"circle\"}, \"mode\": \"markers\", \"name\": \"Kuwait\", \"showlegend\": true, \"type\": \"scatter\", \"x\": [29303.9], \"xaxis\": \"x\", \"y\": [66.76399555635406], \"yaxis\": \"y\"}, {\"hovertemplate\": \"<b>%{hovertext}</b><br><br>Country=Kyrgyzstan<br>GDP per capita (current US$)=%{x}<br>Average Internet usage over the years=%{marker.size}<extra></extra>\", \"hovertext\": [\"Kyrgyzstan\"], \"legendgroup\": \"Kyrgyzstan\", \"marker\": {\"color\": \"#ab63fa\", \"size\": [20.15656775095957], \"sizemode\": \"area\", \"sizeref\": 0.025361307840186014, \"symbol\": \"circle\"}, \"mode\": \"markers\", \"name\": \"Kyrgyzstan\", \"showlegend\": true, \"type\": \"scatter\", \"x\": [1106.4], \"xaxis\": \"x\", \"y\": [20.15656775095957], \"yaxis\": \"y\"}, {\"hovertemplate\": \"<b>%{hovertext}</b><br><br>Country=Lao People's Democratic Republic<br>GDP per capita (current US$)=%{x}<br>Average Internet usage over the years=%{marker.size}<extra></extra>\", \"hovertext\": [\"Lao People's Democratic Republic\"], \"legendgroup\": \"Lao People's Democratic Republic\", \"marker\": {\"color\": \"#FFA15A\", \"size\": [10.913592072182132], \"sizemode\": \"area\", \"sizeref\": 0.025361307840186014, \"symbol\": \"circle\"}, \"mode\": \"markers\", \"name\": \"Lao People's Democratic Republic\", \"showlegend\": true, \"type\": \"scatter\", \"x\": [1850.2], \"xaxis\": \"x\", \"y\": [10.913592072182132], \"yaxis\": \"y\"}, {\"hovertemplate\": \"<b>%{hovertext}</b><br><br>Country=Latvia<br>GDP per capita (current US$)=%{x}<br>Average Internet usage over the years=%{marker.size}<extra></extra>\", \"hovertext\": [\"Latvia\"], \"legendgroup\": \"Latvia\", \"marker\": {\"color\": \"#19d3f3\", \"size\": [67.0370281864885], \"sizemode\": \"area\", \"sizeref\": 0.025361307840186014, \"symbol\": \"circle\"}, \"mode\": \"markers\", \"name\": \"Latvia\", \"showlegend\": true, \"type\": \"scatter\", \"x\": [13704.1], \"xaxis\": \"x\", \"y\": [67.0370281864885], \"yaxis\": \"y\"}, {\"hovertemplate\": \"<b>%{hovertext}</b><br><br>Country=Lebanon<br>GDP per capita (current US$)=%{x}<br>Average Internet usage over the years=%{marker.size}<extra></extra>\", \"hovertext\": [\"Lebanon\"], \"legendgroup\": \"Lebanon\", \"marker\": {\"color\": \"#FF6692\", \"size\": [49.71030039503853], \"sizemode\": \"area\", \"sizeref\": 0.025361307840186014, \"symbol\": \"circle\"}, \"mode\": \"markers\", \"name\": \"Lebanon\", \"showlegend\": true, \"type\": \"scatter\", \"x\": [8571.4], \"xaxis\": \"x\", \"y\": [49.71030039503853], \"yaxis\": \"y\"}, {\"hovertemplate\": \"<b>%{hovertext}</b><br><br>Country=Lesotho<br>GDP per capita (current US$)=%{x}<br>Average Internet usage over the years=%{marker.size}<extra></extra>\", \"hovertext\": [\"Lesotho\"], \"legendgroup\": \"Lesotho\", \"marker\": {\"color\": \"#B6E880\", \"size\": [12.91018650495968], \"sizemode\": \"area\", \"sizeref\": 0.025361307840186014, \"symbol\": \"circle\"}, \"mode\": \"markers\", \"name\": \"Lesotho\", \"showlegend\": true, \"type\": \"scatter\", \"x\": [940.6], \"xaxis\": \"x\", \"y\": [12.91018650495968], \"yaxis\": \"y\"}, {\"hovertemplate\": \"<b>%{hovertext}</b><br><br>Country=Liberia<br>GDP per capita (current US$)=%{x}<br>Average Internet usage over the years=%{marker.size}<extra></extra>\", \"hovertext\": [\"Liberia\"], \"legendgroup\": \"Liberia\", \"marker\": {\"color\": \"#FF97FF\", \"size\": [5.84829898533049], \"sizemode\": \"area\", \"sizeref\": 0.025361307840186014, \"symbol\": \"circle\"}, \"mode\": \"markers\", \"name\": \"Liberia\", \"showlegend\": true, \"type\": \"scatter\", \"x\": [455.9], \"xaxis\": \"x\", \"y\": [5.84829898533049], \"yaxis\": \"y\"}, {\"hovertemplate\": \"<b>%{hovertext}</b><br><br>Country=Libya<br>GDP per capita (current US$)=%{x}<br>Average Internet usage over the years=%{marker.size}<extra></extra>\", \"hovertext\": [\"Libya\"], \"legendgroup\": \"Libya\", \"marker\": {\"color\": \"#FECB52\", \"size\": [11.582908232692784], \"sizemode\": \"area\", \"sizeref\": 0.025361307840186014, \"symbol\": \"circle\"}, \"mode\": \"markers\", \"name\": \"Libya\", \"showlegend\": true, \"type\": \"scatter\", \"x\": [5488.2], \"xaxis\": \"x\", \"y\": [11.582908232692784], \"yaxis\": \"y\"}, {\"hovertemplate\": \"<b>%{hovertext}</b><br><br>Country=Liechtenstein<br>GDP per capita (current US$)=%{x}<br>Average Internet usage over the years=%{marker.size}<extra></extra>\", \"hovertext\": [\"Liechtenstein\"], \"legendgroup\": \"Liechtenstein\", \"marker\": {\"color\": \"#636efa\", \"size\": [76.01267136626718], \"sizemode\": \"area\", \"sizeref\": 0.025361307840186014, \"symbol\": \"circle\"}, \"mode\": \"markers\", \"name\": \"Liechtenstein\", \"showlegend\": true, \"type\": \"scatter\", \"x\": [169491.8], \"xaxis\": \"x\", \"y\": [76.01267136626718], \"yaxis\": \"y\"}, {\"hovertemplate\": \"<b>%{hovertext}</b><br><br>Country=Lithuania<br>GDP per capita (current US$)=%{x}<br>Average Internet usage over the years=%{marker.size}<extra></extra>\", \"hovertext\": [\"Lithuania\"], \"legendgroup\": \"Lithuania\", \"marker\": {\"color\": \"#EF553B\", \"size\": [61.755674460062615], \"sizemode\": \"area\", \"sizeref\": 0.025361307840186014, \"symbol\": \"circle\"}, \"mode\": \"markers\", \"name\": \"Lithuania\", \"showlegend\": true, \"type\": \"scatter\", \"x\": [14383.7], \"xaxis\": \"x\", \"y\": [61.755674460062615], \"yaxis\": \"y\"}, {\"hovertemplate\": \"<b>%{hovertext}</b><br><br>Country=Luxembourg<br>GDP per capita (current US$)=%{x}<br>Average Internet usage over the years=%{marker.size}<extra></extra>\", \"hovertext\": [\"Luxembourg\"], \"legendgroup\": \"Luxembourg\", \"marker\": {\"color\": \"#00cc96\", \"size\": [85.71586981594385], \"sizemode\": \"area\", \"sizeref\": 0.025361307840186014, \"symbol\": \"circle\"}, \"mode\": \"markers\", \"name\": \"Luxembourg\", \"showlegend\": true, \"type\": \"scatter\", \"x\": [100160.8], \"xaxis\": \"x\", \"y\": [85.71586981594385], \"yaxis\": \"y\"}, {\"hovertemplate\": \"<b>%{hovertext}</b><br><br>Country=China, Macao SAR<br>GDP per capita (current US$)=%{x}<br>Average Internet usage over the years=%{marker.size}<extra></extra>\", \"hovertext\": [\"China, Macao SAR\"], \"legendgroup\": \"China, Macao SAR\", \"marker\": {\"color\": \"#ab63fa\", \"size\": [62.4522281484999], \"sizemode\": \"area\", \"sizeref\": 0.025361307840186014, \"symbol\": \"circle\"}, \"mode\": \"markers\", \"name\": \"China, Macao SAR\", \"showlegend\": true, \"type\": \"scatter\", \"x\": [78586.4], \"xaxis\": \"x\", \"y\": [62.4522281484999], \"yaxis\": \"y\"}, {\"hovertemplate\": \"<b>%{hovertext}</b><br><br>Country=Madagascar<br>GDP per capita (current US$)=%{x}<br>Average Internet usage over the years=%{marker.size}<extra></extra>\", \"hovertext\": [\"Madagascar\"], \"legendgroup\": \"Madagascar\", \"marker\": {\"color\": \"#FFA15A\", \"size\": [2.913795598431704], \"sizemode\": \"area\", \"sizeref\": 0.025361307840186014, \"symbol\": \"circle\"}, \"mode\": \"markers\", \"name\": \"Madagascar\", \"showlegend\": true, \"type\": \"scatter\", \"x\": [401.8], \"xaxis\": \"x\", \"y\": [2.913795598431704], \"yaxis\": \"y\"}, {\"hovertemplate\": \"<b>%{hovertext}</b><br><br>Country=Malawi<br>GDP per capita (current US$)=%{x}<br>Average Internet usage over the years=%{marker.size}<extra></extra>\", \"hovertext\": [\"Malawi\"], \"legendgroup\": \"Malawi\", \"marker\": {\"color\": \"#19d3f3\", \"size\": [4.716730424620625], \"sizemode\": \"area\", \"sizeref\": 0.025361307840186014, \"symbol\": \"circle\"}, \"mode\": \"markers\", \"name\": \"Malawi\", \"showlegend\": true, \"type\": \"scatter\", \"x\": [372.9], \"xaxis\": \"x\", \"y\": [4.716730424620625], \"yaxis\": \"y\"}, {\"hovertemplate\": \"<b>%{hovertext}</b><br><br>Country=Malaysia<br>GDP per capita (current US$)=%{x}<br>Average Internet usage over the years=%{marker.size}<extra></extra>\", \"hovertext\": [\"Malaysia\"], \"legendgroup\": \"Malaysia\", \"marker\": {\"color\": \"#FF6692\", \"size\": [62.27558208681162], \"sizemode\": \"area\", \"sizeref\": 0.025361307840186014, \"symbol\": \"circle\"}, \"mode\": \"markers\", \"name\": \"Malaysia\", \"showlegend\": true, \"type\": \"scatter\", \"x\": [9768.4], \"xaxis\": \"x\", \"y\": [62.27558208681162], \"yaxis\": \"y\"}, {\"hovertemplate\": \"<b>%{hovertext}</b><br><br>Country=Maldives<br>GDP per capita (current US$)=%{x}<br>Average Internet usage over the years=%{marker.size}<extra></extra>\", \"hovertext\": [\"Maldives\"], \"legendgroup\": \"Maldives\", \"marker\": {\"color\": \"#B6E880\", \"size\": [34.42307172759476], \"sizemode\": \"area\", \"sizeref\": 0.025361307840186014, \"symbol\": \"circle\"}, \"mode\": \"markers\", \"name\": \"Maldives\", \"showlegend\": true, \"type\": \"scatter\", \"x\": [9446.5], \"xaxis\": \"x\", \"y\": [34.42307172759476], \"yaxis\": \"y\"}, {\"hovertemplate\": \"<b>%{hovertext}</b><br><br>Country=Mali<br>GDP per capita (current US$)=%{x}<br>Average Internet usage over the years=%{marker.size}<extra></extra>\", \"hovertext\": [\"Mali\"], \"legendgroup\": \"Mali\", \"marker\": {\"color\": \"#FF97FF\", \"size\": [4.781072307278212], \"sizemode\": \"area\", \"sizeref\": 0.025361307840186014, \"symbol\": \"circle\"}, \"mode\": \"markers\", \"name\": \"Mali\", \"showlegend\": true, \"type\": \"scatter\", \"x\": [744.3], \"xaxis\": \"x\", \"y\": [4.781072307278212], \"yaxis\": \"y\"}, {\"hovertemplate\": \"<b>%{hovertext}</b><br><br>Country=Malta<br>GDP per capita (current US$)=%{x}<br>Average Internet usage over the years=%{marker.size}<extra></extra>\", \"hovertext\": [\"Malta\"], \"legendgroup\": \"Malta\", \"marker\": {\"color\": \"#FECB52\", \"size\": [64.73703629046764], \"sizemode\": \"area\", \"sizeref\": 0.025361307840186014, \"symbol\": \"circle\"}, \"mode\": \"markers\", \"name\": \"Malta\", \"showlegend\": true, \"type\": \"scatter\", \"x\": [23280.7], \"xaxis\": \"x\", \"y\": [64.73703629046764], \"yaxis\": \"y\"}, {\"hovertemplate\": \"<b>%{hovertext}</b><br><br>Country=Marshall Islands<br>GDP per capita (current US$)=%{x}<br>Average Internet usage over the years=%{marker.size}<extra></extra>\", \"hovertext\": [\"Marshall Islands\"], \"legendgroup\": \"Marshall Islands\", \"marker\": {\"color\": \"#636efa\", \"size\": [13.953123452721828], \"sizemode\": \"area\", \"sizeref\": 0.025361307840186014, \"symbol\": \"circle\"}, \"mode\": \"markers\", \"name\": \"Marshall Islands\", \"showlegend\": true, \"type\": \"scatter\", \"x\": [3452.6], \"xaxis\": \"x\", \"y\": [13.953123452721828], \"yaxis\": \"y\"}, {\"hovertemplate\": \"<b>%{hovertext}</b><br><br>Country=Mauritania<br>GDP per capita (current US$)=%{x}<br>Average Internet usage over the years=%{marker.size}<extra></extra>\", \"hovertext\": [\"Mauritania\"], \"legendgroup\": \"Mauritania\", \"marker\": {\"color\": \"#EF553B\", \"size\": [7.75109893541522], \"sizemode\": \"area\", \"sizeref\": 0.025361307840186014, \"symbol\": \"circle\"}, \"mode\": \"markers\", \"name\": \"Mauritania\", \"showlegend\": true, \"type\": \"scatter\", \"x\": [1235.0], \"xaxis\": \"x\", \"y\": [7.75109893541522], \"yaxis\": \"y\"}, {\"hovertemplate\": \"<b>%{hovertext}</b><br><br>Country=Mauritius<br>GDP per capita (current US$)=%{x}<br>Average Internet usage over the years=%{marker.size}<extra></extra>\", \"hovertext\": [\"Mauritius\"], \"legendgroup\": \"Mauritius\", \"marker\": {\"color\": \"#00cc96\", \"size\": [38.40035625382354], \"sizemode\": \"area\", \"sizeref\": 0.025361307840186014, \"symbol\": \"circle\"}, \"mode\": \"markers\", \"name\": \"Mauritius\", \"showlegend\": true, \"type\": \"scatter\", \"x\": [9040.9], \"xaxis\": \"x\", \"y\": [38.40035625382354], \"yaxis\": \"y\"}, {\"hovertemplate\": \"<b>%{hovertext}</b><br><br>Country=Mexico<br>GDP per capita (current US$)=%{x}<br>Average Internet usage over the years=%{marker.size}<extra></extra>\", \"hovertext\": [\"Mexico\"], \"legendgroup\": \"Mexico\", \"marker\": {\"color\": \"#ab63fa\", \"size\": [42.2467320112896], \"sizemode\": \"area\", \"sizeref\": 0.025361307840186014, \"symbol\": \"circle\"}, \"mode\": \"markers\", \"name\": \"Mexico\", \"showlegend\": true, \"type\": \"scatter\", \"x\": [8980.9], \"xaxis\": \"x\", \"y\": [42.2467320112896], \"yaxis\": \"y\"}, {\"hovertemplate\": \"<b>%{hovertext}</b><br><br>Country=Micronesia (Federated States of)<br>GDP per capita (current US$)=%{x}<br>Average Internet usage over the years=%{marker.size}<extra></extra>\", \"hovertext\": [\"Micronesia (Federated States of)\"], \"legendgroup\": \"Micronesia (Federated States of)\", \"marker\": {\"color\": \"#FFA15A\", \"size\": [21.999813721176654], \"sizemode\": \"area\", \"sizeref\": 0.025361307840186014, \"symbol\": \"circle\"}, \"mode\": \"markers\", \"name\": \"Micronesia (Federated States of)\", \"showlegend\": true, \"type\": \"scatter\", \"x\": [3015.2], \"xaxis\": \"x\", \"y\": [21.999813721176654], \"yaxis\": \"y\"}, {\"hovertemplate\": \"<b>%{hovertext}</b><br><br>Country=Moldova<br>GDP per capita (current US$)=%{x}<br>Average Internet usage over the years=%{marker.size}<extra></extra>\", \"hovertext\": [null], \"legendgroup\": \"Moldova\", \"marker\": {\"color\": \"#19d3f3\", \"size\": [42.973421443185515], \"sizemode\": \"area\", \"sizeref\": 0.025361307840186014, \"symbol\": \"circle\"}, \"mode\": \"markers\", \"name\": \"Moldova\", \"showlegend\": true, \"type\": \"scatter\", \"x\": [null], \"xaxis\": \"x\", \"y\": [42.973421443185515], \"yaxis\": \"y\"}, {\"hovertemplate\": \"<b>%{hovertext}</b><br><br>Country=Monaco<br>GDP per capita (current US$)=%{x}<br>Average Internet usage over the years=%{marker.size}<extra></extra>\", \"hovertext\": [\"Monaco\"], \"legendgroup\": \"Monaco\", \"marker\": {\"color\": \"#FF6692\", \"size\": [73.51583148429559], \"sizemode\": \"area\", \"sizeref\": 0.025361307840186014, \"symbol\": \"circle\"}, \"mode\": \"markers\", \"name\": \"Monaco\", \"showlegend\": true, \"type\": \"scatter\", \"x\": [165870.6], \"xaxis\": \"x\", \"y\": [73.51583148429559], \"yaxis\": \"y\"}, {\"hovertemplate\": \"<b>%{hovertext}</b><br><br>Country=Mongolia<br>GDP per capita (current US$)=%{x}<br>Average Internet usage over the years=%{marker.size}<extra></extra>\", \"hovertext\": [\"Mongolia\"], \"legendgroup\": \"Mongolia\", \"marker\": {\"color\": \"#B6E880\", \"size\": [13.316192235586493], \"sizemode\": \"area\", \"sizeref\": 0.025361307840186014, \"symbol\": \"circle\"}, \"mode\": \"markers\", \"name\": \"Mongolia\", \"showlegend\": true, \"type\": \"scatter\", \"x\": [3973.4], \"xaxis\": \"x\", \"y\": [13.316192235586493], \"yaxis\": \"y\"}, {\"hovertemplate\": \"<b>%{hovertext}</b><br><br>Country=Montenegro<br>GDP per capita (current US$)=%{x}<br>Average Internet usage over the years=%{marker.size}<extra></extra>\", \"hovertext\": [\"Montenegro\"], \"legendgroup\": \"Montenegro\", \"marker\": {\"color\": \"#FF97FF\", \"size\": [50.831921564433515], \"sizemode\": \"area\", \"sizeref\": 0.025361307840186014, \"symbol\": \"circle\"}, \"mode\": \"markers\", \"name\": \"Montenegro\", \"showlegend\": true, \"type\": \"scatter\", \"x\": [6424.1], \"xaxis\": \"x\", \"y\": [50.831921564433515], \"yaxis\": \"y\"}, {\"hovertemplate\": \"<b>%{hovertext}</b><br><br>Country=Morocco<br>GDP per capita (current US$)=%{x}<br>Average Internet usage over the years=%{marker.size}<extra></extra>\", \"hovertext\": [\"Morocco\"], \"legendgroup\": \"Morocco\", \"marker\": {\"color\": \"#FECB52\", \"size\": [47.63809865270177], \"sizemode\": \"area\", \"sizeref\": 0.025361307840186014, \"symbol\": \"circle\"}, \"mode\": \"markers\", \"name\": \"Morocco\", \"showlegend\": true, \"type\": \"scatter\", \"x\": [2919.3], \"xaxis\": \"x\", \"y\": [47.63809865270177], \"yaxis\": \"y\"}, {\"hovertemplate\": \"<b>%{hovertext}</b><br><br>Country=Mozambique<br>GDP per capita (current US$)=%{x}<br>Average Internet usage over the years=%{marker.size}<extra></extra>\", \"hovertext\": [\"Mozambique\"], \"legendgroup\": \"Mozambique\", \"marker\": {\"color\": \"#636efa\", \"size\": [6.947179450090141], \"sizemode\": \"area\", \"sizeref\": 0.025361307840186014, \"symbol\": \"circle\"}, \"mode\": \"markers\", \"name\": \"Mozambique\", \"showlegend\": true, \"type\": \"scatter\", \"x\": [529.2], \"xaxis\": \"x\", \"y\": [6.947179450090141], \"yaxis\": \"y\"}, {\"hovertemplate\": \"<b>%{hovertext}</b><br><br>Country=Myanmar<br>GDP per capita (current US$)=%{x}<br>Average Internet usage over the years=%{marker.size}<extra></extra>\", \"hovertext\": [\"Myanmar\"], \"legendgroup\": \"Myanmar\", \"marker\": {\"color\": \"#EF553B\", \"size\": [9.299323656250941], \"sizemode\": \"area\", \"sizeref\": 0.025361307840186014, \"symbol\": \"circle\"}, \"mode\": \"markers\", \"name\": \"Myanmar\", \"showlegend\": true, \"type\": \"scatter\", \"x\": [1161.5], \"xaxis\": \"x\", \"y\": [9.299323656250941], \"yaxis\": \"y\"}, {\"hovertemplate\": \"<b>%{hovertext}</b><br><br>Country=Namibia<br>GDP per capita (current US$)=%{x}<br>Average Internet usage over the years=%{marker.size}<extra></extra>\", \"hovertext\": [\"Namibia\"], \"legendgroup\": \"Namibia\", \"marker\": {\"color\": \"#00cc96\", \"size\": [16.241580359094375], \"sizemode\": \"area\", \"sizeref\": 0.025361307840186014, \"symbol\": \"circle\"}, \"mode\": \"markers\", \"name\": \"Namibia\", \"showlegend\": true, \"type\": \"scatter\", \"x\": [4673.6], \"xaxis\": \"x\", \"y\": [16.241580359094375], \"yaxis\": \"y\"}, {\"hovertemplate\": \"<b>%{hovertext}</b><br><br>Country=Nauru<br>GDP per capita (current US$)=%{x}<br>Average Internet usage over the years=%{marker.size}<extra></extra>\", \"hovertext\": [\"Nauru\"], \"legendgroup\": \"Nauru\", \"marker\": {\"color\": \"#ab63fa\", \"size\": [10.090909090909092], \"sizemode\": \"area\", \"sizeref\": 0.025361307840186014, \"symbol\": \"circle\"}, \"mode\": \"markers\", \"name\": \"Nauru\", \"showlegend\": true, \"type\": \"scatter\", \"x\": [18469.2], \"xaxis\": \"x\", \"y\": [10.090909090909092], \"yaxis\": \"y\"}, {\"hovertemplate\": \"<b>%{hovertext}</b><br><br>Country=Nepal (Republic of)<br>GDP per capita (current US$)=%{x}<br>Average Internet usage over the years=%{marker.size}<extra></extra>\", \"hovertext\": [null], \"legendgroup\": \"Nepal (Republic of)\", \"marker\": {\"color\": \"#FFA15A\", \"size\": [11.738262253886141], \"sizemode\": \"area\", \"sizeref\": 0.025361307840186014, \"symbol\": \"circle\"}, \"mode\": \"markers\", \"name\": \"Nepal (Republic of)\", \"showlegend\": true, \"type\": \"scatter\", \"x\": [null], \"xaxis\": \"x\", \"y\": [11.738262253886141], \"yaxis\": \"y\"}, {\"hovertemplate\": \"<b>%{hovertext}</b><br><br>Country=Netherlands<br>GDP per capita (current US$)=%{x}<br>Average Internet usage over the years=%{marker.size}<extra></extra>\", \"hovertext\": [\"Netherlands\"], \"legendgroup\": \"Netherlands\", \"marker\": {\"color\": \"#19d3f3\", \"size\": [86.87744135978693], \"sizemode\": \"area\", \"sizeref\": 0.025361307840186014, \"symbol\": \"circle\"}, \"mode\": \"markers\", \"name\": \"Netherlands\", \"showlegend\": true, \"type\": \"scatter\", \"x\": [44332.1], \"xaxis\": \"x\", \"y\": [86.87744135978693], \"yaxis\": \"y\"}, {\"hovertemplate\": \"<b>%{hovertext}</b><br><br>Country=New Zealand<br>GDP per capita (current US$)=%{x}<br>Average Internet usage over the years=%{marker.size}<extra></extra>\", \"hovertext\": [\"New Zealand\"], \"legendgroup\": \"New Zealand\", \"marker\": {\"color\": \"#FF6692\", \"size\": [71.74712793900886], \"sizemode\": \"area\", \"sizeref\": 0.025361307840186014, \"symbol\": \"circle\"}, \"mode\": \"markers\", \"name\": \"New Zealand\", \"showlegend\": true, \"type\": \"scatter\", \"x\": [38294.3], \"xaxis\": \"x\", \"y\": [71.74712793900886], \"yaxis\": \"y\"}, {\"hovertemplate\": \"<b>%{hovertext}</b><br><br>Country=Nicaragua<br>GDP per capita (current US$)=%{x}<br>Average Internet usage over the years=%{marker.size}<extra></extra>\", \"hovertext\": [\"Nicaragua\"], \"legendgroup\": \"Nicaragua\", \"marker\": {\"color\": \"#B6E880\", \"size\": [12.989612102778066], \"sizemode\": \"area\", \"sizeref\": 0.025361307840186014, \"symbol\": \"circle\"}, \"mode\": \"markers\", \"name\": \"Nicaragua\", \"showlegend\": true, \"type\": \"scatter\", \"x\": [2086.9], \"xaxis\": \"x\", \"y\": [12.989612102778066], \"yaxis\": \"y\"}, {\"hovertemplate\": \"<b>%{hovertext}</b><br><br>Country=Niger<br>GDP per capita (current US$)=%{x}<br>Average Internet usage over the years=%{marker.size}<extra></extra>\", \"hovertext\": [\"Niger\"], \"legendgroup\": \"Niger\", \"marker\": {\"color\": \"#FF97FF\", \"size\": [2.519095962390164], \"sizemode\": \"area\", \"sizeref\": 0.025361307840186014, \"symbol\": \"circle\"}, \"mode\": \"markers\", \"name\": \"Niger\", \"showlegend\": true, \"type\": \"scatter\", \"x\": [359.0], \"xaxis\": \"x\", \"y\": [2.519095962390164], \"yaxis\": \"y\"}, {\"hovertemplate\": \"<b>%{hovertext}</b><br><br>Country=Nigeria<br>GDP per capita (current US$)=%{x}<br>Average Internet usage over the years=%{marker.size}<extra></extra>\", \"hovertext\": [\"Nigeria\"], \"legendgroup\": \"Nigeria\", \"marker\": {\"color\": \"#FECB52\", \"size\": [17.162112411446756], \"sizemode\": \"area\", \"sizeref\": 0.025361307840186014, \"symbol\": \"circle\"}, \"mode\": \"markers\", \"name\": \"Nigeria\", \"showlegend\": true, \"type\": \"scatter\", \"x\": [2714.5], \"xaxis\": \"x\", \"y\": [17.162112411446756], \"yaxis\": \"y\"}, {\"hovertemplate\": \"<b>%{hovertext}</b><br><br>Country=Norway<br>GDP per capita (current US$)=%{x}<br>Average Internet usage over the years=%{marker.size}<extra></extra>\", \"hovertext\": [\"Norway\"], \"legendgroup\": \"Norway\", \"marker\": {\"color\": \"#636efa\", \"size\": [90.34828396941448], \"sizemode\": \"area\", \"sizeref\": 0.025361307840186014, \"symbol\": \"circle\"}, \"mode\": \"markers\", \"name\": \"Norway\", \"showlegend\": true, \"type\": \"scatter\", \"x\": [74185.5], \"xaxis\": \"x\", \"y\": [90.34828396941448], \"yaxis\": \"y\"}, {\"hovertemplate\": \"<b>%{hovertext}</b><br><br>Country=Oman<br>GDP per capita (current US$)=%{x}<br>Average Internet usage over the years=%{marker.size}<extra></extra>\", \"hovertext\": [\"Oman\"], \"legendgroup\": \"Oman\", \"marker\": {\"color\": \"#EF553B\", \"size\": [47.38752991272483], \"sizemode\": \"area\", \"sizeref\": 0.025361307840186014, \"symbol\": \"circle\"}, \"mode\": \"markers\", \"name\": \"Oman\", \"showlegend\": true, \"type\": \"scatter\", \"x\": [15550.8], \"xaxis\": \"x\", \"y\": [47.38752991272483], \"yaxis\": \"y\"}, {\"hovertemplate\": \"<b>%{hovertext}</b><br><br>Country=Pakistan<br>GDP per capita (current US$)=%{x}<br>Average Internet usage over the years=%{marker.size}<extra></extra>\", \"hovertext\": [\"Pakistan\"], \"legendgroup\": \"Pakistan\", \"marker\": {\"color\": \"#00cc96\", \"size\": [8.91707053257344], \"sizemode\": \"area\", \"sizeref\": 0.025361307840186014, \"symbol\": \"circle\"}, \"mode\": \"markers\", \"name\": \"Pakistan\", \"showlegend\": true, \"type\": \"scatter\", \"x\": [1410.4], \"xaxis\": \"x\", \"y\": [8.91707053257344], \"yaxis\": \"y\"}, {\"hovertemplate\": \"<b>%{hovertext}</b><br><br>Country=Palestine<br>GDP per capita (current US$)=%{x}<br>Average Internet usage over the years=%{marker.size}<extra></extra>\", \"hovertext\": [null], \"legendgroup\": \"Palestine\", \"marker\": {\"color\": \"#ab63fa\", \"size\": [44.315352469079954], \"sizemode\": \"area\", \"sizeref\": 0.025361307840186014, \"symbol\": \"circle\"}, \"mode\": \"markers\", \"name\": \"Palestine\", \"showlegend\": true, \"type\": \"scatter\", \"x\": [null], \"xaxis\": \"x\", \"y\": [44.315352469079954], \"yaxis\": \"y\"}, {\"hovertemplate\": \"<b>%{hovertext}</b><br><br>Country=Panama<br>GDP per capita (current US$)=%{x}<br>Average Internet usage over the years=%{marker.size}<extra></extra>\", \"hovertext\": [\"Panama\"], \"legendgroup\": \"Panama\", \"marker\": {\"color\": \"#FFA15A\", \"size\": [35.741928730648], \"sizemode\": \"area\", \"sizeref\": 0.025361307840186014, \"symbol\": \"circle\"}, \"mode\": \"markers\", \"name\": \"Panama\", \"showlegend\": true, \"type\": \"scatter\", \"x\": [13268.1], \"xaxis\": \"x\", \"y\": [35.741928730648], \"yaxis\": \"y\"}, {\"hovertemplate\": \"<b>%{hovertext}</b><br><br>Country=Papua New Guinea<br>GDP per capita (current US$)=%{x}<br>Average Internet usage over the years=%{marker.size}<extra></extra>\", \"hovertext\": [\"Papua New Guinea\"], \"legendgroup\": \"Papua New Guinea\", \"marker\": {\"color\": \"#19d3f3\", \"size\": [4.512924984762882], \"sizemode\": \"area\", \"sizeref\": 0.025361307840186014, \"symbol\": \"circle\"}, \"mode\": \"markers\", \"name\": \"Papua New Guinea\", \"showlegend\": true, \"type\": \"scatter\", \"x\": [2797.6], \"xaxis\": \"x\", \"y\": [4.512924984762882], \"yaxis\": \"y\"}, {\"hovertemplate\": \"<b>%{hovertext}</b><br><br>Country=Paraguay<br>GDP per capita (current US$)=%{x}<br>Average Internet usage over the years=%{marker.size}<extra></extra>\", \"hovertext\": [\"Paraguay\"], \"legendgroup\": \"Paraguay\", \"marker\": {\"color\": \"#FF6692\", \"size\": [35.604689197812355], \"sizemode\": \"area\", \"sizeref\": 0.025361307840186014, \"symbol\": \"circle\"}, \"mode\": \"markers\", \"name\": \"Paraguay\", \"showlegend\": true, \"type\": \"scatter\", \"x\": [4174.4], \"xaxis\": \"x\", \"y\": [35.604689197812355], \"yaxis\": \"y\"}, {\"hovertemplate\": \"<b>%{hovertext}</b><br><br>Country=Peru<br>GDP per capita (current US$)=%{x}<br>Average Internet usage over the years=%{marker.size}<extra></extra>\", \"hovertext\": [\"Peru\"], \"legendgroup\": \"Peru\", \"marker\": {\"color\": \"#B6E880\", \"size\": [36.01261047658745], \"sizemode\": \"area\", \"sizeref\": 0.025361307840186014, \"symbol\": \"circle\"}, \"mode\": \"markers\", \"name\": \"Peru\", \"showlegend\": true, \"type\": \"scatter\", \"x\": [6069.1], \"xaxis\": \"x\", \"y\": [36.01261047658745], \"yaxis\": \"y\"}, {\"hovertemplate\": \"<b>%{hovertext}</b><br><br>Country=Philippines<br>GDP per capita (current US$)=%{x}<br>Average Internet usage over the years=%{marker.size}<extra></extra>\", \"hovertext\": [\"Philippines\"], \"legendgroup\": \"Philippines\", \"marker\": {\"color\": \"#FF97FF\", \"size\": [31.53352485892228], \"sizemode\": \"area\", \"sizeref\": 0.025361307840186014, \"symbol\": \"circle\"}, \"mode\": \"markers\", \"name\": \"Philippines\", \"showlegend\": true, \"type\": \"scatter\", \"x\": [2904.2], \"xaxis\": \"x\", \"y\": [31.53352485892228], \"yaxis\": \"y\"}, {\"hovertemplate\": \"<b>%{hovertext}</b><br><br>Country=Poland<br>GDP per capita (current US$)=%{x}<br>Average Internet usage over the years=%{marker.size}<extra></extra>\", \"hovertext\": [\"Poland\"], \"legendgroup\": \"Poland\", \"marker\": {\"color\": \"#FECB52\", \"size\": [59.72267541213726], \"sizemode\": \"area\", \"sizeref\": 0.025361307840186014, \"symbol\": \"circle\"}, \"mode\": \"markers\", \"name\": \"Poland\", \"showlegend\": true, \"type\": \"scatter\", \"x\": [12355.5], \"xaxis\": \"x\", \"y\": [59.72267541213726], \"yaxis\": \"y\"}, {\"hovertemplate\": \"<b>%{hovertext}</b><br><br>Country=Portugal<br>GDP per capita (current US$)=%{x}<br>Average Internet usage over the years=%{marker.size}<extra></extra>\", \"hovertext\": [\"Portugal\"], \"legendgroup\": \"Portugal\", \"marker\": {\"color\": \"#636efa\", \"size\": [57.68224648890957], \"sizemode\": \"area\", \"sizeref\": 0.025361307840186014, \"symbol\": \"circle\"}, \"mode\": \"markers\", \"name\": \"Portugal\", \"showlegend\": true, \"type\": \"scatter\", \"x\": [19239.2], \"xaxis\": \"x\", \"y\": [57.68224648890957], \"yaxis\": \"y\"}, {\"hovertemplate\": \"<b>%{hovertext}</b><br><br>Country=Puerto Rico<br>GDP per capita (current US$)=%{x}<br>Average Internet usage over the years=%{marker.size}<extra></extra>\", \"hovertext\": [\"Puerto Rico\"], \"legendgroup\": \"Puerto Rico\", \"marker\": {\"color\": \"#EF553B\", \"size\": [42.53512291391031], \"sizemode\": \"area\", \"sizeref\": 0.025361307840186014, \"symbol\": \"circle\"}, \"mode\": \"markers\", \"name\": \"Puerto Rico\", \"showlegend\": true, \"type\": \"scatter\", \"x\": [27939.0], \"xaxis\": \"x\", \"y\": [42.53512291391031], \"yaxis\": \"y\"}, {\"hovertemplate\": \"<b>%{hovertext}</b><br><br>Country=Qatar<br>GDP per capita (current US$)=%{x}<br>Average Internet usage over the years=%{marker.size}<extra></extra>\", \"hovertext\": [\"Qatar\"], \"legendgroup\": \"Qatar\", \"marker\": {\"color\": \"#00cc96\", \"size\": [72.61257817009086], \"sizemode\": \"area\", \"sizeref\": 0.025361307840186014, \"symbol\": \"circle\"}, \"mode\": \"markers\", \"name\": \"Qatar\", \"showlegend\": true, \"type\": \"scatter\", \"x\": [73653.4], \"xaxis\": \"x\", \"y\": [72.61257817009086], \"yaxis\": \"y\"}, {\"hovertemplate\": \"<b>%{hovertext}</b><br><br>Country=Romania<br>GDP per capita (current US$)=%{x}<br>Average Internet usage over the years=%{marker.size}<extra></extra>\", \"hovertext\": [\"Romania\"], \"legendgroup\": \"Romania\", \"marker\": {\"color\": \"#ab63fa\", \"size\": [45.861265429333436], \"sizemode\": \"area\", \"sizeref\": 0.025361307840186014, \"symbol\": \"circle\"}, \"mode\": \"markers\", \"name\": \"Romania\", \"showlegend\": true, \"type\": \"scatter\", \"x\": [9120.7], \"xaxis\": \"x\", \"y\": [45.861265429333436], \"yaxis\": \"y\"}, {\"hovertemplate\": \"<b>%{hovertext}</b><br><br>Country=Russia<br>GDP per capita (current US$)=%{x}<br>Average Internet usage over the years=%{marker.size}<extra></extra>\", \"hovertext\": [\"Russia\"], \"legendgroup\": \"Russia\", \"marker\": {\"color\": \"#FFA15A\", \"size\": [55.596199846814265], \"sizemode\": \"area\", \"sizeref\": 0.025361307840186014, \"symbol\": \"circle\"}, \"mode\": \"markers\", \"name\": \"Russia\", \"showlegend\": true, \"type\": \"scatter\", \"x\": [9243.3], \"xaxis\": \"x\", \"y\": [55.596199846814265], \"yaxis\": \"y\"}, {\"hovertemplate\": \"<b>%{hovertext}</b><br><br>Country=Rwanda<br>GDP per capita (current US$)=%{x}<br>Average Internet usage over the years=%{marker.size}<extra></extra>\", \"hovertext\": [\"Rwanda\"], \"legendgroup\": \"Rwanda\", \"marker\": {\"color\": \"#19d3f3\", \"size\": [9.364578138425099], \"sizemode\": \"area\", \"sizeref\": 0.025361307840186014, \"symbol\": \"circle\"}, \"mode\": \"markers\", \"name\": \"Rwanda\", \"showlegend\": true, \"type\": \"scatter\", \"x\": [697.3], \"xaxis\": \"x\", \"y\": [9.364578138425099], \"yaxis\": \"y\"}, {\"hovertemplate\": \"<b>%{hovertext}</b><br><br>Country=Saint Kitts and Nevis<br>GDP per capita (current US$)=%{x}<br>Average Internet usage over the years=%{marker.size}<extra></extra>\", \"hovertext\": [\"Saint Kitts and Nevis\"], \"legendgroup\": \"Saint Kitts and Nevis\", \"marker\": {\"color\": \"#FF6692\", \"size\": [54.17187963239342], \"sizemode\": \"area\", \"sizeref\": 0.025361307840186014, \"symbol\": \"circle\"}, \"mode\": \"markers\", \"name\": \"Saint Kitts and Nevis\", \"showlegend\": true, \"type\": \"scatter\", \"x\": [15771.9], \"xaxis\": \"x\", \"y\": [54.17187963239342], \"yaxis\": \"y\"}, {\"hovertemplate\": \"<b>%{hovertext}</b><br><br>Country=Saint Lucia<br>GDP per capita (current US$)=%{x}<br>Average Internet usage over the years=%{marker.size}<extra></extra>\", \"hovertext\": [\"Saint Lucia\"], \"legendgroup\": \"Saint Lucia\", \"marker\": {\"color\": \"#B6E880\", \"size\": [31.25030178161835], \"sizemode\": \"area\", \"sizeref\": 0.025361307840186014, \"symbol\": \"circle\"}, \"mode\": \"markers\", \"name\": \"Saint Lucia\", \"showlegend\": true, \"type\": \"scatter\", \"x\": [7839.4], \"xaxis\": \"x\", \"y\": [31.25030178161835], \"yaxis\": \"y\"}, {\"hovertemplate\": \"<b>%{hovertext}</b><br><br>Country=Saint Vincent and the Grenadines<br>GDP per capita (current US$)=%{x}<br>Average Internet usage over the years=%{marker.size}<extra></extra>\", \"hovertext\": [\"Saint Vincent and the Grenadines\"], \"legendgroup\": \"Saint Vincent and the Grenadines\", \"marker\": {\"color\": \"#FF97FF\", \"size\": [26.90575967308647], \"sizemode\": \"area\", \"sizeref\": 0.025361307840186014, \"symbol\": \"circle\"}, \"mode\": \"markers\", \"name\": \"Saint Vincent and the Grenadines\", \"showlegend\": true, \"type\": \"scatter\", \"x\": [6739.2], \"xaxis\": \"x\", \"y\": [26.90575967308647], \"yaxis\": \"y\"}, {\"hovertemplate\": \"<b>%{hovertext}</b><br><br>Country=Samoa<br>GDP per capita (current US$)=%{x}<br>Average Internet usage over the years=%{marker.size}<extra></extra>\", \"hovertext\": [\"Samoa\"], \"legendgroup\": \"Samoa\", \"marker\": {\"color\": \"#FECB52\", \"size\": [14.524650349476802], \"sizemode\": \"area\", \"sizeref\": 0.025361307840186014, \"symbol\": \"circle\"}, \"mode\": \"markers\", \"name\": \"Samoa\", \"showlegend\": true, \"type\": \"scatter\", \"x\": [4006.0], \"xaxis\": \"x\", \"y\": [14.524650349476802], \"yaxis\": \"y\"}, {\"hovertemplate\": \"<b>%{hovertext}</b><br><br>Country=San Marino<br>GDP per capita (current US$)=%{x}<br>Average Internet usage over the years=%{marker.size}<extra></extra>\", \"hovertext\": [\"San Marino\"], \"legendgroup\": \"San Marino\", \"marker\": {\"color\": \"#636efa\", \"size\": [18.985578251184208], \"sizemode\": \"area\", \"sizeref\": 0.025361307840186014, \"symbol\": \"circle\"}, \"mode\": \"markers\", \"name\": \"San Marino\", \"showlegend\": true, \"type\": \"scatter\", \"x\": [49240.2], \"xaxis\": \"x\", \"y\": [18.985578251184208], \"yaxis\": \"y\"}, {\"hovertemplate\": \"<b>%{hovertext}</b><br><br>Country=Sao Tome and Principe<br>GDP per capita (current US$)=%{x}<br>Average Internet usage over the years=%{marker.size}<extra></extra>\", \"hovertext\": [\"Sao Tome and Principe\"], \"legendgroup\": \"Sao Tome and Principe\", \"marker\": {\"color\": \"#EF553B\", \"size\": [19.09480274855771], \"sizemode\": \"area\", \"sizeref\": 0.025361307840186014, \"symbol\": \"circle\"}, \"mode\": \"markers\", \"name\": \"Sao Tome and Principe\", \"showlegend\": true, \"type\": \"scatter\", \"x\": [1752.8], \"xaxis\": \"x\", \"y\": [19.09480274855771], \"yaxis\": \"y\"}, {\"hovertemplate\": \"<b>%{hovertext}</b><br><br>Country=Saudi Arabia<br>GDP per capita (current US$)=%{x}<br>Average Internet usage over the years=%{marker.size}<extra></extra>\", \"hovertext\": [\"Saudi Arabia\"], \"legendgroup\": \"Saudi Arabia\", \"marker\": {\"color\": \"#00cc96\", \"size\": [54.77771806507526], \"sizemode\": \"area\", \"sizeref\": 0.025361307840186014, \"symbol\": \"circle\"}, \"mode\": \"markers\", \"name\": \"Saudi Arabia\", \"showlegend\": true, \"type\": \"scatter\", \"x\": [20710.6], \"xaxis\": \"x\", \"y\": [54.77771806507526], \"yaxis\": \"y\"}, {\"hovertemplate\": \"<b>%{hovertext}</b><br><br>Country=Senegal<br>GDP per capita (current US$)=%{x}<br>Average Internet usage over the years=%{marker.size}<extra></extra>\", \"hovertext\": [\"Senegal\"], \"legendgroup\": \"Senegal\", \"marker\": {\"color\": \"#ab63fa\", \"size\": [14.841401782760874], \"sizemode\": \"area\", \"sizeref\": 0.025361307840186014, \"symbol\": \"circle\"}, \"mode\": \"markers\", \"name\": \"Senegal\", \"showlegend\": true, \"type\": \"scatter\", \"x\": [901.1], \"xaxis\": \"x\", \"y\": [14.841401782760874], \"yaxis\": \"y\"}, {\"hovertemplate\": \"<b>%{hovertext}</b><br><br>Country=Serbia<br>GDP per capita (current US$)=%{x}<br>Average Internet usage over the years=%{marker.size}<extra></extra>\", \"hovertext\": [\"Serbia\"], \"legendgroup\": \"Serbia\", \"marker\": {\"color\": \"#FFA15A\", \"size\": [49.917350553989245], \"sizemode\": \"area\", \"sizeref\": 0.025361307840186014, \"symbol\": \"circle\"}, \"mode\": \"markers\", \"name\": \"Serbia\", \"showlegend\": true, \"type\": \"scatter\", \"x\": [5238.6], \"xaxis\": \"x\", \"y\": [49.917350553989245], \"yaxis\": \"y\"}, {\"hovertemplate\": \"<b>%{hovertext}</b><br><br>Country=Seychelles<br>GDP per capita (current US$)=%{x}<br>Average Internet usage over the years=%{marker.size}<extra></extra>\", \"hovertext\": [\"Seychelles\"], \"legendgroup\": \"Seychelles\", \"marker\": {\"color\": \"#19d3f3\", \"size\": [39.56797645718501], \"sizemode\": \"area\", \"sizeref\": 0.025361307840186014, \"symbol\": \"circle\"}, \"mode\": \"markers\", \"name\": \"Seychelles\", \"showlegend\": true, \"type\": \"scatter\", \"x\": [14133.2], \"xaxis\": \"x\", \"y\": [39.56797645718501], \"yaxis\": \"y\"}, {\"hovertemplate\": \"<b>%{hovertext}</b><br><br>Country=Sierra Leone<br>GDP per capita (current US$)=%{x}<br>Average Internet usage over the years=%{marker.size}<extra></extra>\", \"hovertext\": [\"Sierra Leone\"], \"legendgroup\": \"Sierra Leone\", \"marker\": {\"color\": \"#FF6692\", \"size\": [3.7716864384565736], \"sizemode\": \"area\", \"sizeref\": 0.025361307840186014, \"symbol\": \"circle\"}, \"mode\": \"markers\", \"name\": \"Sierra Leone\", \"showlegend\": true, \"type\": \"scatter\", \"x\": [694.8], \"xaxis\": \"x\", \"y\": [3.7716864384565736], \"yaxis\": \"y\"}, {\"hovertemplate\": \"<b>%{hovertext}</b><br><br>Country=Singapore<br>GDP per capita (current US$)=%{x}<br>Average Internet usage over the years=%{marker.size}<extra></extra>\", \"hovertext\": [\"Singapore\"], \"legendgroup\": \"Singapore\", \"marker\": {\"color\": \"#B6E880\", \"size\": [73.36469931065878], \"sizemode\": \"area\", \"sizeref\": 0.025361307840186014, \"symbol\": \"circle\"}, \"mode\": \"markers\", \"name\": \"Singapore\", \"showlegend\": true, \"type\": \"scatter\", \"x\": [52239.0], \"xaxis\": \"x\", \"y\": [73.36469931065878], \"yaxis\": \"y\"}, {\"hovertemplate\": \"<b>%{hovertext}</b><br><br>Country=Slovakia<br>GDP per capita (current US$)=%{x}<br>Average Internet usage over the years=%{marker.size}<extra></extra>\", \"hovertext\": [\"Slovakia\"], \"legendgroup\": \"Slovakia\", \"marker\": {\"color\": \"#FF97FF\", \"size\": [69.9759955324702], \"sizemode\": \"area\", \"sizeref\": 0.025361307840186014, \"symbol\": \"circle\"}, \"mode\": \"markers\", \"name\": \"Slovakia\", \"showlegend\": true, \"type\": \"scatter\", \"x\": [16082.5], \"xaxis\": \"x\", \"y\": [69.9759955324702], \"yaxis\": \"y\"}, {\"hovertemplate\": \"<b>%{hovertext}</b><br><br>Country=Slovenia<br>GDP per capita (current US$)=%{x}<br>Average Internet usage over the years=%{marker.size}<extra></extra>\", \"hovertext\": [\"Slovenia\"], \"legendgroup\": \"Slovenia\", \"marker\": {\"color\": \"#FECB52\", \"size\": [65.37349419251974], \"sizemode\": \"area\", \"sizeref\": 0.025361307840186014, \"symbol\": \"circle\"}, \"mode\": \"markers\", \"name\": \"Slovenia\", \"showlegend\": true, \"type\": \"scatter\", \"x\": [20689.8], \"xaxis\": \"x\", \"y\": [65.37349419251974], \"yaxis\": \"y\"}, {\"hovertemplate\": \"<b>%{hovertext}</b><br><br>Country=Solomon Islands<br>GDP per capita (current US$)=%{x}<br>Average Internet usage over the years=%{marker.size}<extra></extra>\", \"hovertext\": [\"Solomon Islands\"], \"legendgroup\": \"Solomon Islands\", \"marker\": {\"color\": \"#636efa\", \"size\": [6.295327335877698], \"sizemode\": \"area\", \"sizeref\": 0.025361307840186014, \"symbol\": \"circle\"}, \"mode\": \"markers\", \"name\": \"Solomon Islands\", \"showlegend\": true, \"type\": \"scatter\", \"x\": [1841.6], \"xaxis\": \"x\", \"y\": [6.295327335877698], \"yaxis\": \"y\"}, {\"hovertemplate\": \"<b>%{hovertext}</b><br><br>Country=Somalia<br>GDP per capita (current US$)=%{x}<br>Average Internet usage over the years=%{marker.size}<extra></extra>\", \"hovertext\": [\"Somalia\"], \"legendgroup\": \"Somalia\", \"marker\": {\"color\": \"#EF553B\", \"size\": [1.1361887761410836], \"sizemode\": \"area\", \"sizeref\": 0.025361307840186014, \"symbol\": \"circle\"}, \"mode\": \"markers\", \"name\": \"Somalia\", \"showlegend\": true, \"type\": \"scatter\", \"x\": [144.5], \"xaxis\": \"x\", \"y\": [1.1361887761410836], \"yaxis\": \"y\"}, {\"hovertemplate\": \"<b>%{hovertext}</b><br><br>Country=South Africa<br>GDP per capita (current US$)=%{x}<br>Average Internet usage over the years=%{marker.size}<extra></extra>\", \"hovertext\": [\"South Africa\"], \"legendgroup\": \"South Africa\", \"marker\": {\"color\": \"#00cc96\", \"size\": [33.5812374956409], \"sizemode\": \"area\", \"sizeref\": 0.025361307840186014, \"symbol\": \"circle\"}, \"mode\": \"markers\", \"name\": \"South Africa\", \"showlegend\": true, \"type\": \"scatter\", \"x\": [5773.0], \"xaxis\": \"x\", \"y\": [33.5812374956409], \"yaxis\": \"y\"}, {\"hovertemplate\": \"<b>%{hovertext}</b><br><br>Country=South Sudan<br>GDP per capita (current US$)=%{x}<br>Average Internet usage over the years=%{marker.size}<extra></extra>\", \"hovertext\": [\"South Sudan\"], \"legendgroup\": \"South Sudan\", \"marker\": {\"color\": \"#ab63fa\", \"size\": [2.5912072666535426], \"sizemode\": \"area\", \"sizeref\": 0.025361307840186014, \"symbol\": \"circle\"}, \"mode\": \"markers\", \"name\": \"South Sudan\", \"showlegend\": true, \"type\": \"scatter\", \"x\": [1067.0], \"xaxis\": \"x\", \"y\": [2.5912072666535426], \"yaxis\": \"y\"}, {\"hovertemplate\": \"<b>%{hovertext}</b><br><br>Country=Spain<br>GDP per capita (current US$)=%{x}<br>Average Internet usage over the years=%{marker.size}<extra></extra>\", \"hovertext\": [\"Spain\"], \"legendgroup\": \"Spain\", \"marker\": {\"color\": \"#FFA15A\", \"size\": [67.45367012811904], \"sizemode\": \"area\", \"sizeref\": 0.025361307840186014, \"symbol\": \"circle\"}, \"mode\": \"markers\", \"name\": \"Spain\", \"showlegend\": true, \"type\": \"scatter\", \"x\": [25865.4], \"xaxis\": \"x\", \"y\": [67.45367012811904], \"yaxis\": \"y\"}, {\"hovertemplate\": \"<b>%{hovertext}</b><br><br>Country=Sri Lanka<br>GDP per capita (current US$)=%{x}<br>Average Internet usage over the years=%{marker.size}<extra></extra>\", \"hovertext\": [\"Sri Lanka\"], \"legendgroup\": \"Sri Lanka\", \"marker\": {\"color\": \"#19d3f3\", \"size\": [14.367109518620794], \"sizemode\": \"area\", \"sizeref\": 0.025361307840186014, \"symbol\": \"circle\"}, \"mode\": \"markers\", \"name\": \"Sri Lanka\", \"showlegend\": true, \"type\": \"scatter\", \"x\": [3973.7], \"xaxis\": \"x\", \"y\": [14.367109518620794], \"yaxis\": \"y\"}, {\"hovertemplate\": \"<b>%{hovertext}</b><br><br>Country=Sudan<br>GDP per capita (current US$)=%{x}<br>Average Internet usage over the years=%{marker.size}<extra></extra>\", \"hovertext\": [\"Sudan\"], \"legendgroup\": \"Sudan\", \"marker\": {\"color\": \"#FF6692\", \"size\": [15.945283761723408], \"sizemode\": \"area\", \"sizeref\": 0.025361307840186014, \"symbol\": \"circle\"}, \"mode\": \"markers\", \"name\": \"Sudan\", \"showlegend\": true, \"type\": \"scatter\", \"x\": [1977.0], \"xaxis\": \"x\", \"y\": [15.945283761723408], \"yaxis\": \"y\"}, {\"hovertemplate\": \"<b>%{hovertext}</b><br><br>Country=Suriname<br>GDP per capita (current US$)=%{x}<br>Average Internet usage over the years=%{marker.size}<extra></extra>\", \"hovertext\": [\"Suriname\"], \"legendgroup\": \"Suriname\", \"marker\": {\"color\": \"#B6E880\", \"size\": [29.251790826929618], \"sizemode\": \"area\", \"sizeref\": 0.025361307840186014, \"symbol\": \"circle\"}, \"mode\": \"markers\", \"name\": \"Suriname\", \"showlegend\": true, \"type\": \"scatter\", \"x\": [8985.3], \"xaxis\": \"x\", \"y\": [29.251790826929618], \"yaxis\": \"y\"}, {\"hovertemplate\": \"<b>%{hovertext}</b><br><br>Country=Swaziland (Eswatini)<br>GDP per capita (current US$)=%{x}<br>Average Internet usage over the years=%{marker.size}<extra></extra>\", \"hovertext\": [null], \"legendgroup\": \"Swaziland (Eswatini)\", \"marker\": {\"color\": \"#FF97FF\", \"size\": [18.78786420456823], \"sizemode\": \"area\", \"sizeref\": 0.025361307840186014, \"symbol\": \"circle\"}, \"mode\": \"markers\", \"name\": \"Swaziland (Eswatini)\", \"showlegend\": true, \"type\": \"scatter\", \"x\": [null], \"xaxis\": \"x\", \"y\": [18.78786420456823], \"yaxis\": \"y\"}, {\"hovertemplate\": \"<b>%{hovertext}</b><br><br>Country=Sweden<br>GDP per capita (current US$)=%{x}<br>Average Internet usage over the years=%{marker.size}<extra></extra>\", \"hovertext\": [\"Sweden\"], \"legendgroup\": \"Sweden\", \"marker\": {\"color\": \"#FECB52\", \"size\": [87.42582894433586], \"sizemode\": \"area\", \"sizeref\": 0.025361307840186014, \"symbol\": \"circle\"}, \"mode\": \"markers\", \"name\": \"Sweden\", \"showlegend\": true, \"type\": \"scatter\", \"x\": [50687.5], \"xaxis\": \"x\", \"y\": [87.42582894433586], \"yaxis\": \"y\"}, {\"hovertemplate\": \"<b>%{hovertext}</b><br><br>Country=Switzerland<br>GDP per capita (current US$)=%{x}<br>Average Internet usage over the years=%{marker.size}<extra></extra>\", \"hovertext\": [\"Switzerland\"], \"legendgroup\": \"Switzerland\", \"marker\": {\"color\": \"#636efa\", \"size\": [73.77571992621391], \"sizemode\": \"area\", \"sizeref\": 0.025361307840186014, \"symbol\": \"circle\"}, \"mode\": \"markers\", \"name\": \"Switzerland\", \"showlegend\": true, \"type\": \"scatter\", \"x\": [80831.1], \"xaxis\": \"x\", \"y\": [73.77571992621391], \"yaxis\": \"y\"}, {\"hovertemplate\": \"<b>%{hovertext}</b><br><br>Country=Syrian Arab Republic<br>GDP per capita (current US$)=%{x}<br>Average Internet usage over the years=%{marker.size}<extra></extra>\", \"hovertext\": [\"Syrian Arab Republic\"], \"legendgroup\": \"Syrian Arab Republic\", \"marker\": {\"color\": \"#EF553B\", \"size\": [20.33843009625551], \"sizemode\": \"area\", \"sizeref\": 0.025361307840186014, \"symbol\": \"circle\"}, \"mode\": \"markers\", \"name\": \"Syrian Arab Republic\", \"showlegend\": true, \"type\": \"scatter\", \"x\": [1534.5], \"xaxis\": \"x\", \"y\": [20.33843009625551], \"yaxis\": \"y\"}, {\"hovertemplate\": \"<b>%{hovertext}</b><br><br>Country=The former Yugoslav Republic of Macedonia<br>GDP per capita (current US$)=%{x}<br>Average Internet usage over the years=%{marker.size}<extra></extra>\", \"hovertext\": [\"The former Yugoslav Republic of Macedonia\"], \"legendgroup\": \"The former Yugoslav Republic of Macedonia\", \"marker\": {\"color\": \"#00cc96\", \"size\": [56.773373405858976], \"sizemode\": \"area\", \"sizeref\": 0.025361307840186014, \"symbol\": \"circle\"}, \"mode\": \"markers\", \"name\": \"The former Yugoslav Republic of Macedonia\", \"showlegend\": true, \"type\": \"scatter\", \"x\": [4836.1], \"xaxis\": \"x\", \"y\": [56.773373405858976], \"yaxis\": \"y\"}, {\"hovertemplate\": \"<b>%{hovertext}</b><br><br>Country=Taiwan, Province of China<br>GDP per capita (current US$)=%{x}<br>Average Internet usage over the years=%{marker.size}<extra></extra>\", \"hovertext\": [null], \"legendgroup\": \"Taiwan, Province of China\", \"marker\": {\"color\": \"#ab63fa\", \"size\": [64.59069912764247], \"sizemode\": \"area\", \"sizeref\": 0.025361307840186014, \"symbol\": \"circle\"}, \"mode\": \"markers\", \"name\": \"Taiwan, Province of China\", \"showlegend\": true, \"type\": \"scatter\", \"x\": [null], \"xaxis\": \"x\", \"y\": [64.59069912764247], \"yaxis\": \"y\"}, {\"hovertemplate\": \"<b>%{hovertext}</b><br><br>Country=Tajikistan<br>GDP per capita (current US$)=%{x}<br>Average Internet usage over the years=%{marker.size}<extra></extra>\", \"hovertext\": [\"Tajikistan\"], \"legendgroup\": \"Tajikistan\", \"marker\": {\"color\": \"#FFA15A\", \"size\": [12.212480874402727], \"sizemode\": \"area\", \"sizeref\": 0.025361307840186014, \"symbol\": \"circle\"}, \"mode\": \"markers\", \"name\": \"Tajikistan\", \"showlegend\": true, \"type\": \"scatter\", \"x\": [925.9], \"xaxis\": \"x\", \"y\": [12.212480874402727], \"yaxis\": \"y\"}, {\"hovertemplate\": \"<b>%{hovertext}</b><br><br>Country=Tanzania<br>GDP per capita (current US$)=%{x}<br>Average Internet usage over the years=%{marker.size}<extra></extra>\", \"hovertext\": [null], \"legendgroup\": \"Tanzania\", \"marker\": {\"color\": \"#19d3f3\", \"size\": [7.333381312737115], \"sizemode\": \"area\", \"sizeref\": 0.025361307840186014, \"symbol\": \"circle\"}, \"mode\": \"markers\", \"name\": \"Tanzania\", \"showlegend\": true, \"type\": \"scatter\", \"x\": [null], \"xaxis\": \"x\", \"y\": [7.333381312737115], \"yaxis\": \"y\"}, {\"hovertemplate\": \"<b>%{hovertext}</b><br><br>Country=Thailand<br>GDP per capita (current US$)=%{x}<br>Average Internet usage over the years=%{marker.size}<extra></extra>\", \"hovertext\": [\"Thailand\"], \"legendgroup\": \"Thailand\", \"marker\": {\"color\": \"#FF6692\", \"size\": [31.964133989428145], \"sizemode\": \"area\", \"sizeref\": 0.025361307840186014, \"symbol\": \"circle\"}, \"mode\": \"markers\", \"name\": \"Thailand\", \"showlegend\": true, \"type\": \"scatter\", \"x\": [5814.8], \"xaxis\": \"x\", \"y\": [31.964133989428145], \"yaxis\": \"y\"}, {\"hovertemplate\": \"<b>%{hovertext}</b><br><br>Country=Timor-Leste<br>GDP per capita (current US$)=%{x}<br>Average Internet usage over the years=%{marker.size}<extra></extra>\", \"hovertext\": [\"Timor-Leste\"], \"legendgroup\": \"Timor-Leste\", \"marker\": {\"color\": \"#B6E880\", \"size\": [10.758001189427866], \"sizemode\": \"area\", \"sizeref\": 0.025361307840186014, \"symbol\": \"circle\"}, \"mode\": \"markers\", \"name\": \"Timor-Leste\", \"showlegend\": true, \"type\": \"scatter\", \"x\": [2425.4], \"xaxis\": \"x\", \"y\": [10.758001189427866], \"yaxis\": \"y\"}, {\"hovertemplate\": \"<b>%{hovertext}</b><br><br>Country=Togo<br>GDP per capita (current US$)=%{x}<br>Average Internet usage over the years=%{marker.size}<extra></extra>\", \"hovertext\": [\"Togo\"], \"legendgroup\": \"Togo\", \"marker\": {\"color\": \"#FF97FF\", \"size\": [4.91729317909091], \"sizemode\": \"area\", \"sizeref\": 0.025361307840186014, \"symbol\": \"circle\"}, \"mode\": \"markers\", \"name\": \"Togo\", \"showlegend\": true, \"type\": \"scatter\", \"x\": [559.4], \"xaxis\": \"x\", \"y\": [4.91729317909091], \"yaxis\": \"y\"}, {\"hovertemplate\": \"<b>%{hovertext}</b><br><br>Country=Tonga<br>GDP per capita (current US$)=%{x}<br>Average Internet usage over the years=%{marker.size}<extra></extra>\", \"hovertext\": [\"Tonga\"], \"legendgroup\": \"Tonga\", \"marker\": {\"color\": \"#FECB52\", \"size\": [24.263689358179615], \"sizemode\": \"area\", \"sizeref\": 0.025361307840186014, \"symbol\": \"circle\"}, \"mode\": \"markers\", \"name\": \"Tonga\", \"showlegend\": true, \"type\": \"scatter\", \"x\": [3784.5], \"xaxis\": \"x\", \"y\": [24.263689358179615], \"yaxis\": \"y\"}, {\"hovertemplate\": \"<b>%{hovertext}</b><br><br>Country=Trinidad & Tobago<br>GDP per capita (current US$)=%{x}<br>Average Internet usage over the years=%{marker.size}<extra></extra>\", \"hovertext\": [null], \"legendgroup\": \"Trinidad & Tobago\", \"marker\": {\"color\": \"#636efa\", \"size\": [49.87598078728741], \"sizemode\": \"area\", \"sizeref\": 0.025361307840186014, \"symbol\": \"circle\"}, \"mode\": \"markers\", \"name\": \"Trinidad & Tobago\", \"showlegend\": true, \"type\": \"scatter\", \"x\": [null], \"xaxis\": \"x\", \"y\": [49.87598078728741], \"yaxis\": \"y\"}, {\"hovertemplate\": \"<b>%{hovertext}</b><br><br>Country=Tunisia<br>GDP per capita (current US$)=%{x}<br>Average Internet usage over the years=%{marker.size}<extra></extra>\", \"hovertext\": [\"Tunisia\"], \"legendgroup\": \"Tunisia\", \"marker\": {\"color\": \"#EF553B\", \"size\": [40.38082201278533], \"sizemode\": \"area\", \"sizeref\": 0.025361307840186014, \"symbol\": \"circle\"}, \"mode\": \"markers\", \"name\": \"Tunisia\", \"showlegend\": true, \"type\": \"scatter\", \"x\": [3660.9], \"xaxis\": \"x\", \"y\": [40.38082201278533], \"yaxis\": \"y\"}, {\"hovertemplate\": \"<b>%{hovertext}</b><br><br>Country=Turkey<br>GDP per capita (current US$)=%{x}<br>Average Internet usage over the years=%{marker.size}<extra></extra>\", \"hovertext\": [\"Turkey\"], \"legendgroup\": \"Turkey\", \"marker\": {\"color\": \"#00cc96\", \"size\": [44.75886248828977], \"sizemode\": \"area\", \"sizeref\": 0.025361307840186014, \"symbol\": \"circle\"}, \"mode\": \"markers\", \"name\": \"Turkey\", \"showlegend\": true, \"type\": \"scatter\", \"x\": [9125.8], \"xaxis\": \"x\", \"y\": [44.75886248828977], \"yaxis\": \"y\"}, {\"hovertemplate\": \"<b>%{hovertext}</b><br><br>Country=Turkmenistan<br>GDP per capita (current US$)=%{x}<br>Average Internet usage over the years=%{marker.size}<extra></extra>\", \"hovertext\": [\"Turkmenistan\"], \"legendgroup\": \"Turkmenistan\", \"marker\": {\"color\": \"#ab63fa\", \"size\": [8.396766857572139], \"sizemode\": \"area\", \"sizeref\": 0.025361307840186014, \"symbol\": \"circle\"}, \"mode\": \"markers\", \"name\": \"Turkmenistan\", \"showlegend\": true, \"type\": \"scatter\", \"x\": [6996.7], \"xaxis\": \"x\", \"y\": [8.396766857572139], \"yaxis\": \"y\"}, {\"hovertemplate\": \"<b>%{hovertext}</b><br><br>Country=Tuvalu<br>GDP per capita (current US$)=%{x}<br>Average Internet usage over the years=%{marker.size}<extra></extra>\", \"hovertext\": [\"Tuvalu\"], \"legendgroup\": \"Tuvalu\", \"marker\": {\"color\": \"#FFA15A\", \"size\": [28.133557246995647], \"sizemode\": \"area\", \"sizeref\": 0.025361307840186014, \"symbol\": \"circle\"}, \"mode\": \"markers\", \"name\": \"Tuvalu\", \"showlegend\": true, \"type\": \"scatter\", \"x\": [3362.4], \"xaxis\": \"x\", \"y\": [28.133557246995647], \"yaxis\": \"y\"}, {\"hovertemplate\": \"<b>%{hovertext}</b><br><br>Country=Uganda<br>GDP per capita (current US$)=%{x}<br>Average Internet usage over the years=%{marker.size}<extra></extra>\", \"hovertext\": [\"Uganda\"], \"legendgroup\": \"Uganda\", \"marker\": {\"color\": \"#19d3f3\", \"size\": [12.485183976084812], \"sizemode\": \"area\", \"sizeref\": 0.025361307840186014, \"symbol\": \"circle\"}, \"mode\": \"markers\", \"name\": \"Uganda\", \"showlegend\": true, \"type\": \"scatter\", \"x\": [647.7], \"xaxis\": \"x\", \"y\": [12.485183976084812], \"yaxis\": \"y\"}, {\"hovertemplate\": \"<b>%{hovertext}</b><br><br>Country=Ukraine<br>GDP per capita (current US$)=%{x}<br>Average Internet usage over the years=%{marker.size}<extra></extra>\", \"hovertext\": [\"Ukraine\"], \"legendgroup\": \"Ukraine\", \"marker\": {\"color\": \"#FF6692\", \"size\": [30.882585327477113], \"sizemode\": \"area\", \"sizeref\": 0.025361307840186014, \"symbol\": \"circle\"}, \"mode\": \"markers\", \"name\": \"Ukraine\", \"showlegend\": true, \"type\": \"scatter\", \"x\": [2021.6], \"xaxis\": \"x\", \"y\": [30.882585327477113], \"yaxis\": \"y\"}, {\"hovertemplate\": \"<b>%{hovertext}</b><br><br>Country=United Arab Emirates<br>GDP per capita (current US$)=%{x}<br>Average Internet usage over the years=%{marker.size}<extra></extra>\", \"hovertext\": [\"United Arab Emirates\"], \"legendgroup\": \"United Arab Emirates\", \"marker\": {\"color\": \"#B6E880\", \"size\": [77.03592945652944], \"sizemode\": \"area\", \"sizeref\": 0.025361307840186014, \"symbol\": \"circle\"}, \"mode\": \"markers\", \"name\": \"United Arab Emirates\", \"showlegend\": true, \"type\": \"scatter\", \"x\": [40438.8], \"xaxis\": \"x\", \"y\": [77.03592945652944], \"yaxis\": \"y\"}, {\"hovertemplate\": \"<b>%{hovertext}</b><br><br>Country=United Kingdom<br>GDP per capita (current US$)=%{x}<br>Average Internet usage over the years=%{marker.size}<extra></extra>\", \"hovertext\": [\"United Kingdom\"], \"legendgroup\": \"United Kingdom\", \"marker\": {\"color\": \"#FF97FF\", \"size\": [82.94806306502697], \"sizemode\": \"area\", \"sizeref\": 0.025361307840186014, \"symbol\": \"circle\"}, \"mode\": \"markers\", \"name\": \"United Kingdom\", \"showlegend\": true, \"type\": \"scatter\", \"x\": [44162.4], \"xaxis\": \"x\", \"y\": [82.94806306502697], \"yaxis\": \"y\"}, {\"hovertemplate\": \"<b>%{hovertext}</b><br><br>Country=United States of America<br>GDP per capita (current US$)=%{x}<br>Average Internet usage over the years=%{marker.size}<extra></extra>\", \"hovertext\": [\"United States of America\"], \"legendgroup\": \"United States of America\", \"marker\": {\"color\": \"#FECB52\", \"size\": [65.35740117036715], \"sizemode\": \"area\", \"sizeref\": 0.025361307840186014, \"symbol\": \"circle\"}, \"mode\": \"markers\", \"name\": \"United States of America\", \"showlegend\": true, \"type\": \"scatter\", \"x\": [56053.8], \"xaxis\": \"x\", \"y\": [65.35740117036715], \"yaxis\": \"y\"}, {\"hovertemplate\": \"<b>%{hovertext}</b><br><br>Country=Uruguay<br>GDP per capita (current US$)=%{x}<br>Average Internet usage over the years=%{marker.size}<extra></extra>\", \"hovertext\": [\"Uruguay\"], \"legendgroup\": \"Uruguay\", \"marker\": {\"color\": \"#636efa\", \"size\": [45.571466063440965], \"sizemode\": \"area\", \"sizeref\": 0.025361307840186014, \"symbol\": \"circle\"}, \"mode\": \"markers\", \"name\": \"Uruguay\", \"showlegend\": true, \"type\": \"scatter\", \"x\": [15573.8], \"xaxis\": \"x\", \"y\": [45.571466063440965], \"yaxis\": \"y\"}, {\"hovertemplate\": \"<b>%{hovertext}</b><br><br>Country=Uzbekistan<br>GDP per capita (current US$)=%{x}<br>Average Internet usage over the years=%{marker.size}<extra></extra>\", \"hovertext\": [\"Uzbekistan\"], \"legendgroup\": \"Uzbekistan\", \"marker\": {\"color\": \"#EF553B\", \"size\": [24.193113175099334], \"sizemode\": \"area\", \"sizeref\": 0.025361307840186014, \"symbol\": \"circle\"}, \"mode\": \"markers\", \"name\": \"Uzbekistan\", \"showlegend\": true, \"type\": \"scatter\", \"x\": [2308.3], \"xaxis\": \"x\", \"y\": [24.193113175099334], \"yaxis\": \"y\"}, {\"hovertemplate\": \"<b>%{hovertext}</b><br><br>Country=Vanuatu<br>GDP per capita (current US$)=%{x}<br>Average Internet usage over the years=%{marker.size}<extra></extra>\", \"hovertext\": [\"Vanuatu\"], \"legendgroup\": \"Vanuatu\", \"marker\": {\"color\": \"#00cc96\", \"size\": [12.469078465185122], \"sizemode\": \"area\", \"sizeref\": 0.025361307840186014, \"symbol\": \"circle\"}, \"mode\": \"markers\", \"name\": \"Vanuatu\", \"showlegend\": true, \"type\": \"scatter\", \"x\": [2783.0], \"xaxis\": \"x\", \"y\": [12.469078465185122], \"yaxis\": \"y\"}, {\"hovertemplate\": \"<b>%{hovertext}</b><br><br>Country=Venezuela (Bolivarian Republic of)<br>GDP per capita (current US$)=%{x}<br>Average Internet usage over the years=%{marker.size}<extra></extra>\", \"hovertext\": [\"Venezuela (Bolivarian Republic of)\"], \"legendgroup\": \"Venezuela (Bolivarian Republic of)\", \"marker\": {\"color\": \"#ab63fa\", \"size\": [40.95024349521088], \"sizemode\": \"area\", \"sizeref\": 0.025361307840186014, \"symbol\": \"circle\"}, \"mode\": \"markers\", \"name\": \"Venezuela (Bolivarian Republic of)\", \"showlegend\": true, \"type\": \"scatter\", \"x\": [11068.9], \"xaxis\": \"x\", \"y\": [40.95024349521088], \"yaxis\": \"y\"}, {\"hovertemplate\": \"<b>%{hovertext}</b><br><br>Country=Viet Nam<br>GDP per capita (current US$)=%{x}<br>Average Internet usage over the years=%{marker.size}<extra></extra>\", \"hovertext\": [\"Viet Nam\"], \"legendgroup\": \"Viet Nam\", \"marker\": {\"color\": \"#FFA15A\", \"size\": [38.31852846784545], \"sizemode\": \"area\", \"sizeref\": 0.025361307840186014, \"symbol\": \"circle\"}, \"mode\": \"markers\", \"name\": \"Viet Nam\", \"showlegend\": true, \"type\": \"scatter\", \"x\": [2067.9], \"xaxis\": \"x\", \"y\": [38.31852846784545], \"yaxis\": \"y\"}, {\"hovertemplate\": \"<b>%{hovertext}</b><br><br>Country=Yemen<br>GDP per capita (current US$)=%{x}<br>Average Internet usage over the years=%{marker.size}<extra></extra>\", \"hovertext\": [\"Yemen\"], \"legendgroup\": \"Yemen\", \"marker\": {\"color\": \"#19d3f3\", \"size\": [14.887779174601034], \"sizemode\": \"area\", \"sizeref\": 0.025361307840186014, \"symbol\": \"circle\"}, \"mode\": \"markers\", \"name\": \"Yemen\", \"showlegend\": true, \"type\": \"scatter\", \"x\": [1106.4], \"xaxis\": \"x\", \"y\": [14.887779174601034], \"yaxis\": \"y\"}, {\"hovertemplate\": \"<b>%{hovertext}</b><br><br>Country=Zambia<br>GDP per capita (current US$)=%{x}<br>Average Internet usage over the years=%{marker.size}<extra></extra>\", \"hovertext\": [\"Zambia\"], \"legendgroup\": \"Zambia\", \"marker\": {\"color\": \"#FF6692\", \"size\": [12.110690895124083], \"sizemode\": \"area\", \"sizeref\": 0.025361307840186014, \"symbol\": \"circle\"}, \"mode\": \"markers\", \"name\": \"Zambia\", \"showlegend\": true, \"type\": \"scatter\", \"x\": [1311.1], \"xaxis\": \"x\", \"y\": [12.110690895124083], \"yaxis\": \"y\"}, {\"hovertemplate\": \"<b>%{hovertext}</b><br><br>Country=Zimbabwe<br>GDP per capita (current US$)=%{x}<br>Average Internet usage over the years=%{marker.size}<extra></extra>\", \"hovertext\": [\"Zimbabwe\"], \"legendgroup\": \"Zimbabwe\", \"marker\": {\"color\": \"#B6E880\", \"size\": [12.216769847489571], \"sizemode\": \"area\", \"sizeref\": 0.025361307840186014, \"symbol\": \"circle\"}, \"mode\": \"markers\", \"name\": \"Zimbabwe\", \"showlegend\": true, \"type\": \"scatter\", \"x\": [890.4], \"xaxis\": \"x\", \"y\": [12.216769847489571], \"yaxis\": \"y\"}],\n",
       "                        {\"legend\": {\"itemsizing\": \"constant\", \"title\": {\"text\": \"Country\"}, \"tracegroupgap\": 0}, \"margin\": {\"t\": 60}, \"template\": {\"data\": {\"bar\": [{\"error_x\": {\"color\": \"#2a3f5f\"}, \"error_y\": {\"color\": \"#2a3f5f\"}, \"marker\": {\"line\": {\"color\": \"#E5ECF6\", \"width\": 0.5}}, \"type\": \"bar\"}], \"barpolar\": [{\"marker\": {\"line\": {\"color\": \"#E5ECF6\", \"width\": 0.5}}, \"type\": \"barpolar\"}], \"carpet\": [{\"aaxis\": {\"endlinecolor\": \"#2a3f5f\", \"gridcolor\": \"white\", \"linecolor\": \"white\", \"minorgridcolor\": \"white\", \"startlinecolor\": \"#2a3f5f\"}, \"baxis\": {\"endlinecolor\": \"#2a3f5f\", \"gridcolor\": \"white\", \"linecolor\": \"white\", \"minorgridcolor\": \"white\", \"startlinecolor\": \"#2a3f5f\"}, \"type\": \"carpet\"}], \"choropleth\": [{\"colorbar\": {\"outlinewidth\": 0, \"ticks\": \"\"}, \"type\": \"choropleth\"}], \"contour\": [{\"colorbar\": {\"outlinewidth\": 0, \"ticks\": \"\"}, \"colorscale\": [[0.0, \"#0d0887\"], [0.1111111111111111, \"#46039f\"], [0.2222222222222222, \"#7201a8\"], [0.3333333333333333, \"#9c179e\"], [0.4444444444444444, \"#bd3786\"], [0.5555555555555556, \"#d8576b\"], [0.6666666666666666, \"#ed7953\"], [0.7777777777777778, \"#fb9f3a\"], [0.8888888888888888, \"#fdca26\"], [1.0, \"#f0f921\"]], \"type\": \"contour\"}], \"contourcarpet\": [{\"colorbar\": {\"outlinewidth\": 0, \"ticks\": \"\"}, \"type\": \"contourcarpet\"}], \"heatmap\": [{\"colorbar\": {\"outlinewidth\": 0, \"ticks\": \"\"}, \"colorscale\": [[0.0, \"#0d0887\"], [0.1111111111111111, \"#46039f\"], [0.2222222222222222, \"#7201a8\"], [0.3333333333333333, \"#9c179e\"], [0.4444444444444444, \"#bd3786\"], [0.5555555555555556, \"#d8576b\"], [0.6666666666666666, \"#ed7953\"], [0.7777777777777778, \"#fb9f3a\"], [0.8888888888888888, \"#fdca26\"], [1.0, \"#f0f921\"]], \"type\": \"heatmap\"}], \"heatmapgl\": [{\"colorbar\": {\"outlinewidth\": 0, \"ticks\": \"\"}, \"colorscale\": [[0.0, \"#0d0887\"], [0.1111111111111111, \"#46039f\"], [0.2222222222222222, \"#7201a8\"], [0.3333333333333333, \"#9c179e\"], [0.4444444444444444, \"#bd3786\"], [0.5555555555555556, \"#d8576b\"], [0.6666666666666666, \"#ed7953\"], [0.7777777777777778, \"#fb9f3a\"], [0.8888888888888888, \"#fdca26\"], [1.0, \"#f0f921\"]], \"type\": \"heatmapgl\"}], \"histogram\": [{\"marker\": {\"colorbar\": {\"outlinewidth\": 0, \"ticks\": \"\"}}, \"type\": \"histogram\"}], \"histogram2d\": [{\"colorbar\": {\"outlinewidth\": 0, \"ticks\": \"\"}, \"colorscale\": [[0.0, \"#0d0887\"], [0.1111111111111111, \"#46039f\"], [0.2222222222222222, \"#7201a8\"], [0.3333333333333333, \"#9c179e\"], [0.4444444444444444, \"#bd3786\"], [0.5555555555555556, \"#d8576b\"], [0.6666666666666666, \"#ed7953\"], [0.7777777777777778, \"#fb9f3a\"], [0.8888888888888888, \"#fdca26\"], [1.0, \"#f0f921\"]], \"type\": \"histogram2d\"}], \"histogram2dcontour\": [{\"colorbar\": {\"outlinewidth\": 0, \"ticks\": \"\"}, \"colorscale\": [[0.0, \"#0d0887\"], [0.1111111111111111, \"#46039f\"], [0.2222222222222222, \"#7201a8\"], [0.3333333333333333, \"#9c179e\"], [0.4444444444444444, \"#bd3786\"], [0.5555555555555556, \"#d8576b\"], [0.6666666666666666, \"#ed7953\"], [0.7777777777777778, \"#fb9f3a\"], [0.8888888888888888, \"#fdca26\"], [1.0, \"#f0f921\"]], \"type\": \"histogram2dcontour\"}], \"mesh3d\": [{\"colorbar\": {\"outlinewidth\": 0, \"ticks\": \"\"}, \"type\": \"mesh3d\"}], \"parcoords\": [{\"line\": {\"colorbar\": {\"outlinewidth\": 0, \"ticks\": \"\"}}, \"type\": \"parcoords\"}], \"pie\": [{\"automargin\": true, \"type\": \"pie\"}], \"scatter\": [{\"marker\": {\"colorbar\": {\"outlinewidth\": 0, \"ticks\": \"\"}}, \"type\": \"scatter\"}], \"scatter3d\": [{\"line\": {\"colorbar\": {\"outlinewidth\": 0, \"ticks\": \"\"}}, \"marker\": {\"colorbar\": {\"outlinewidth\": 0, \"ticks\": \"\"}}, \"type\": \"scatter3d\"}], \"scattercarpet\": [{\"marker\": {\"colorbar\": {\"outlinewidth\": 0, \"ticks\": \"\"}}, \"type\": \"scattercarpet\"}], \"scattergeo\": [{\"marker\": {\"colorbar\": {\"outlinewidth\": 0, \"ticks\": \"\"}}, \"type\": \"scattergeo\"}], \"scattergl\": [{\"marker\": {\"colorbar\": {\"outlinewidth\": 0, \"ticks\": \"\"}}, \"type\": \"scattergl\"}], \"scattermapbox\": [{\"marker\": {\"colorbar\": {\"outlinewidth\": 0, \"ticks\": \"\"}}, \"type\": \"scattermapbox\"}], \"scatterpolar\": [{\"marker\": {\"colorbar\": {\"outlinewidth\": 0, \"ticks\": \"\"}}, \"type\": \"scatterpolar\"}], \"scatterpolargl\": [{\"marker\": {\"colorbar\": {\"outlinewidth\": 0, \"ticks\": \"\"}}, \"type\": \"scatterpolargl\"}], \"scatterternary\": [{\"marker\": {\"colorbar\": {\"outlinewidth\": 0, \"ticks\": \"\"}}, \"type\": \"scatterternary\"}], \"surface\": [{\"colorbar\": {\"outlinewidth\": 0, \"ticks\": \"\"}, \"colorscale\": [[0.0, \"#0d0887\"], [0.1111111111111111, \"#46039f\"], [0.2222222222222222, \"#7201a8\"], [0.3333333333333333, \"#9c179e\"], [0.4444444444444444, \"#bd3786\"], [0.5555555555555556, \"#d8576b\"], [0.6666666666666666, \"#ed7953\"], [0.7777777777777778, \"#fb9f3a\"], [0.8888888888888888, \"#fdca26\"], [1.0, \"#f0f921\"]], \"type\": \"surface\"}], \"table\": [{\"cells\": {\"fill\": {\"color\": \"#EBF0F8\"}, \"line\": {\"color\": \"white\"}}, \"header\": {\"fill\": {\"color\": \"#C8D4E3\"}, \"line\": {\"color\": \"white\"}}, \"type\": \"table\"}]}, \"layout\": {\"annotationdefaults\": {\"arrowcolor\": \"#2a3f5f\", \"arrowhead\": 0, \"arrowwidth\": 1}, \"coloraxis\": {\"colorbar\": {\"outlinewidth\": 0, \"ticks\": \"\"}}, \"colorscale\": {\"diverging\": [[0, \"#8e0152\"], [0.1, \"#c51b7d\"], [0.2, \"#de77ae\"], [0.3, \"#f1b6da\"], [0.4, \"#fde0ef\"], [0.5, \"#f7f7f7\"], [0.6, \"#e6f5d0\"], [0.7, \"#b8e186\"], [0.8, \"#7fbc41\"], [0.9, \"#4d9221\"], [1, \"#276419\"]], \"sequential\": [[0.0, \"#0d0887\"], [0.1111111111111111, \"#46039f\"], [0.2222222222222222, \"#7201a8\"], [0.3333333333333333, \"#9c179e\"], [0.4444444444444444, \"#bd3786\"], [0.5555555555555556, \"#d8576b\"], [0.6666666666666666, \"#ed7953\"], [0.7777777777777778, \"#fb9f3a\"], [0.8888888888888888, \"#fdca26\"], [1.0, \"#f0f921\"]], \"sequentialminus\": [[0.0, \"#0d0887\"], [0.1111111111111111, \"#46039f\"], [0.2222222222222222, \"#7201a8\"], [0.3333333333333333, \"#9c179e\"], [0.4444444444444444, \"#bd3786\"], [0.5555555555555556, \"#d8576b\"], [0.6666666666666666, \"#ed7953\"], [0.7777777777777778, \"#fb9f3a\"], [0.8888888888888888, \"#fdca26\"], [1.0, \"#f0f921\"]]}, \"colorway\": [\"#636efa\", \"#EF553B\", \"#00cc96\", \"#ab63fa\", \"#FFA15A\", \"#19d3f3\", \"#FF6692\", \"#B6E880\", \"#FF97FF\", \"#FECB52\"], \"font\": {\"color\": \"#2a3f5f\"}, \"geo\": {\"bgcolor\": \"white\", \"lakecolor\": \"white\", \"landcolor\": \"#E5ECF6\", \"showlakes\": true, \"showland\": true, \"subunitcolor\": \"white\"}, \"hoverlabel\": {\"align\": \"left\"}, \"hovermode\": \"closest\", \"mapbox\": {\"style\": \"light\"}, \"paper_bgcolor\": \"white\", \"plot_bgcolor\": \"#E5ECF6\", \"polar\": {\"angularaxis\": {\"gridcolor\": \"white\", \"linecolor\": \"white\", \"ticks\": \"\"}, \"bgcolor\": \"#E5ECF6\", \"radialaxis\": {\"gridcolor\": \"white\", \"linecolor\": \"white\", \"ticks\": \"\"}}, \"scene\": {\"xaxis\": {\"backgroundcolor\": \"#E5ECF6\", \"gridcolor\": \"white\", \"gridwidth\": 2, \"linecolor\": \"white\", \"showbackground\": true, \"ticks\": \"\", \"zerolinecolor\": \"white\"}, \"yaxis\": {\"backgroundcolor\": \"#E5ECF6\", \"gridcolor\": \"white\", \"gridwidth\": 2, \"linecolor\": \"white\", \"showbackground\": true, \"ticks\": \"\", \"zerolinecolor\": \"white\"}, \"zaxis\": {\"backgroundcolor\": \"#E5ECF6\", \"gridcolor\": \"white\", \"gridwidth\": 2, \"linecolor\": \"white\", \"showbackground\": true, \"ticks\": \"\", \"zerolinecolor\": \"white\"}}, \"shapedefaults\": {\"line\": {\"color\": \"#2a3f5f\"}}, \"ternary\": {\"aaxis\": {\"gridcolor\": \"white\", \"linecolor\": \"white\", \"ticks\": \"\"}, \"baxis\": {\"gridcolor\": \"white\", \"linecolor\": \"white\", \"ticks\": \"\"}, \"bgcolor\": \"#E5ECF6\", \"caxis\": {\"gridcolor\": \"white\", \"linecolor\": \"white\", \"ticks\": \"\"}}, \"title\": {\"x\": 0.05}, \"xaxis\": {\"automargin\": true, \"gridcolor\": \"white\", \"linecolor\": \"white\", \"ticks\": \"\", \"title\": {\"standoff\": 15}, \"zerolinecolor\": \"white\", \"zerolinewidth\": 2}, \"yaxis\": {\"automargin\": true, \"gridcolor\": \"white\", \"linecolor\": \"white\", \"ticks\": \"\", \"title\": {\"standoff\": 15}, \"zerolinecolor\": \"white\", \"zerolinewidth\": 2}}}, \"xaxis\": {\"anchor\": \"y\", \"domain\": [0.0, 1.0], \"title\": {\"text\": \"GDP per capita (current US$)\"}, \"type\": \"log\"}, \"yaxis\": {\"anchor\": \"x\", \"domain\": [0.0, 1.0], \"title\": {\"text\": \"Average Internet usage over the years\"}}},\n",
       "                        {\"responsive\": true}\n",
       "                    ).then(function(){\n",
       "                            \n",
       "var gd = document.getElementById('d12064ab-a7d6-4d13-9d39-206cc297f97d');\n",
       "var x = new MutationObserver(function (mutations, observer) {{\n",
       "        var display = window.getComputedStyle(gd).display;\n",
       "        if (!display || display === 'none') {{\n",
       "            console.log([gd, 'removed!']);\n",
       "            Plotly.purge(gd);\n",
       "            observer.disconnect();\n",
       "        }}\n",
       "}});\n",
       "\n",
       "// Listen for the removal of the full notebook cells\n",
       "var notebookContainer = gd.closest('#notebook-container');\n",
       "if (notebookContainer) {{\n",
       "    x.observe(notebookContainer, {childList: true});\n",
       "}}\n",
       "\n",
       "// Listen for the clearing of the current output cell\n",
       "var outputEl = gd.closest('.output');\n",
       "if (outputEl) {{\n",
       "    x.observe(outputEl, {childList: true});\n",
       "}}\n",
       "\n",
       "                        })\n",
       "                };\n",
       "                });\n",
       "            </script>\n",
       "        </div>"
      ]
     },
     "metadata": {},
     "output_type": "display_data"
    }
   ],
   "source": [
    "x=\"GDP per capita (current US$)\"\n",
    "y=\"Average Internet usage over the years\"\n",
    "color=\"Country\"\n",
    "size= \"Average Internet usage over the years\"\n",
    "hover_name=\"country\"\n",
    "log_x=True \n",
    "size_max=60\n",
    "\n",
    "scatter_plot(GDP_vs_int_usage,x,y,color,size,hover_name,log_x,size_max)"
   ]
  },
  {
   "cell_type": "markdown",
   "metadata": {},
   "source": [
    "<b><u>Conclusion for Hypothesis 1.3: </u></b><br>\n",
    "<b> From the visualization above we can conclude, that countries with higher GDP per capita values tend to have a higher average of internet users.</b>"
   ]
  },
  {
   "cell_type": "markdown",
   "metadata": {},
   "source": [
    "# Hypothesis 2 :We expect that countries with higher internet usage are more prone to security breaches.\n",
    "\n",
    "Countries that have higher internet usage will have higher volumes of personal data being collected. Therefore, we assume that these countries will be more prone to security breaches."
   ]
  },
  {
   "cell_type": "code",
   "execution_count": 34,
   "metadata": {
    "pycharm": {
     "name": "#%%\n"
    }
   },
   "outputs": [],
   "source": [
    "data_breaches_info = data_breaches[[\"Date\",\"Country\"]]\n",
    "\n",
    "#filtering out data, to take into consideration breaches after 2000.\n",
    "# data_breaches_info[\"Date\"] = data_breaches_info[(data_breaches[\"Date\"] >'2000-1-1')]\n",
    "\n",
    "data_breaches_info.loc[data_breaches_info[\"Date\"] > '2000-1-1']\n",
    "\n",
    "#dropping nan values\n",
    "data_breaches_info = remove_null(data_breaches_info)\n",
    "\n",
    "\n",
    "# data_breaches_info = data_breaches_info[\"Country\"].astype(str)\n",
    "data_breaches_info = data_breaches_info.astype({\"Country\": str})\n",
    "\n",
    "data_breaches_per_country = pd.DataFrame(data_breaches_info[\"Country\"].value_counts().rename_axis('Country').reset_index(name='No. of Data Breaches'))\n",
    "\n",
    "#Filtering out rows that have country as Unknown\n",
    "data_breaches_per_country = data_breaches_per_country[~data_breaches_per_country.Country.str.contains(\"UNKNOWN\")]\n",
    "\n",
    "data_breaches_per_country = data_breaches_per_country[~data_breaches_per_country.Country.str.contains(\"Unknown\")]"
   ]
  },
  {
   "cell_type": "code",
   "execution_count": 35,
   "metadata": {
    "pycharm": {
     "name": "#%%\n"
    }
   },
   "outputs": [],
   "source": [
    "#df.Geo.str.replace(\"[({':]\", \"\") #https://python-forum.io/Thread-Removing-characters-from-columns-in-data-frame\n",
    "# data_breaches_per_country[\"Country\"] = data_breaches_per_country.Country.str.replace(\"[b']\",\"\")"
   ]
  },
  {
   "cell_type": "code",
   "execution_count": 38,
   "metadata": {
    "pycharm": {
     "name": "#%%\n"
    }
   },
   "outputs": [],
   "source": [
    "#Converting country names to lower case\n",
    "data_breaches_per_country[\"Country\"] = data_breaches_per_country[\"Country\"].str.capitalize()\n",
    "\n",
    "#dropping duplicate values\n",
    "data_breaches_per_country = data_breaches_per_country.drop_duplicates(subset=\"Country\")\n",
    "\n",
    "data_breach_int_users = insights2.merge(data_breaches_per_country,left_on=\"Country\",right_on=\"Country\",how= \"left\")\n",
    "\n",
    "data_breach_int_users = remove_null(data_breach_int_users)"
   ]
  },
  {
   "cell_type": "code",
   "execution_count": 39,
   "metadata": {
    "pycharm": {
     "name": "#%%\n"
    }
   },
   "outputs": [
    {
     "data": {
      "application/vnd.plotly.v1+json": {
       "config": {
        "plotlyServerURL": "https://plot.ly"
       },
       "data": [
        {
         "hovertemplate": "No. of Data Breaches=%{x}<br>Average Internet usage over the years=%{y}<extra></extra>",
         "legendgroup": "",
         "marker": {
          "color": "#636efa",
          "symbol": "circle"
         },
         "mode": "markers",
         "name": "",
         "showlegend": false,
         "type": "scatter",
         "x": [
          3,
          42,
          5,
          8,
          848,
          19,
          1010,
          318,
          4,
          8,
          11,
          130,
          10,
          52,
          367,
          3,
          1,
          22,
          1,
          5302,
          149,
          2,
          1,
          3,
          1553,
          2473,
          2311,
          191,
          101,
          11,
          21,
          1612,
          53,
          112,
          8,
          214,
          3,
          5,
          81,
          3681,
          2,
          27,
          4088,
          3,
          545,
          20,
          1,
          32,
          37,
          603,
          28,
          531,
          2272,
          6,
          641,
          459,
          2150,
          9,
          967,
          25,
          103,
          22,
          16,
          13,
          44,
          15,
          1,
          6,
          221,
          39,
          4,
          15,
          403,
          2,
          1,
          9,
          3,
          6,
          792,
          7,
          3,
          12,
          23,
          129,
          20,
          5,
          1442,
          23,
          3,
          3,
          598,
          3,
          119,
          30,
          24,
          218,
          139,
          1050,
          219,
          8,
          482,
          17,
          10,
          22,
          82,
          4,
          396,
          330,
          537,
          4,
          5665,
          11,
          2,
          383,
          574,
          2,
          3,
          1430,
          1,
          19,
          83,
          1078,
          1,
          16,
          1,
          614,
          47,
          8,
          4,
          3,
          5,
          8
         ],
         "xaxis": "x",
         "y": [
          5.594426685297288,
          43.05248774117164,
          26.577446778483168,
          70.26246641752975,
          46.76965620496696,
          35.06995918569305,
          69.94026169908871,
          75.56315281508286,
          56.39801322081063,
          54.96983661951785,
          73.99640475804235,
          7.405697886244315,
          58.513986785141874,
          47.301730232253064,
          76.15054545377865,
          28.94656376601779,
          6.129421652181342,
          20.929737418313223,
          20.689546895943735,
          41.00511005555452,
          47.69785126515635,
          1.75401901309071,
          12.885721432852053,
          10.15961255770332,
          74.03090909090909,
          51.063729751649355,
          34.24538979046083,
          38.14700536745515,
          57.606160661350835,
          23.438990622495943,
          60.56207563729488,
          88.30582468167478,
          31.73941030180106,
          29.202532891201518,
          0.7005882506184542,
          76.03382806042829,
          5.920461314053615,
          27.569654494754733,
          82.33981088535499,
          70.8375934721078,
          25.95958712532986,
          38.084307936557586,
          78.25417931072151,
          15.324413712606543,
          53.34177900374676,
          19.693418231947412,
          4.8761526458730025,
          11.364318606226908,
          16.18125963626534,
          63.88961633922849,
          91.30070822466965,
          12.965060760344018,
          17.620994089873815,
          15.136363535454548,
          70.90928072625974,
          57.91783390414793,
          53.912649855804936,
          30.361570105303098,
          70.89339976529835,
          35.587547014230175,
          52.52631646753314,
          10.039537497505517,
          66.76399555635406,
          20.15656775095957,
          67.0370281864885,
          49.71030039503853,
          12.91018650495968,
          76.01267136626718,
          61.755674460062615,
          85.71586981594385,
          2.913795598431704,
          4.716730424620625,
          62.27558208681162,
          34.42307172759476,
          4.781072307278212,
          64.73703629046764,
          7.75109893541522,
          38.40035625382354,
          42.2467320112896,
          42.973421443185515,
          73.51583148429559,
          13.316192235586493,
          50.831921564433515,
          47.63809865270177,
          6.947179450090141,
          16.241580359094375,
          86.87744135978693,
          12.989612102778066,
          2.519095962390164,
          17.162112411446756,
          90.34828396941448,
          47.38752991272483,
          8.91707053257344,
          35.741928730648,
          35.604689197812355,
          36.01261047658745,
          31.53352485892228,
          59.72267541213726,
          57.68224648890957,
          72.61257817009086,
          45.861265429333436,
          9.364578138425099,
          14.524650349476802,
          14.841401782760874,
          49.917350553989245,
          39.56797645718501,
          73.36469931065878,
          69.9759955324702,
          65.37349419251974,
          1.1361887761410836,
          67.45367012811904,
          15.945283761723408,
          29.251790826929618,
          87.42582894433586,
          73.77571992621391,
          12.212480874402727,
          7.333381312737115,
          31.964133989428145,
          4.91729317909091,
          24.263689358179615,
          40.38082201278533,
          44.75886248828977,
          8.396766857572139,
          28.133557246995647,
          12.485183976084812,
          30.882585327477113,
          45.571466063440965,
          24.193113175099334,
          12.469078465185122,
          14.887779174601034,
          12.110690895124083,
          12.216769847489571
         ],
         "yaxis": "y"
        }
       ],
       "layout": {
        "legend": {
         "tracegroupgap": 0
        },
        "margin": {
         "t": 60
        },
        "template": {
         "data": {
          "bar": [
           {
            "error_x": {
             "color": "#2a3f5f"
            },
            "error_y": {
             "color": "#2a3f5f"
            },
            "marker": {
             "line": {
              "color": "#E5ECF6",
              "width": 0.5
             }
            },
            "type": "bar"
           }
          ],
          "barpolar": [
           {
            "marker": {
             "line": {
              "color": "#E5ECF6",
              "width": 0.5
             }
            },
            "type": "barpolar"
           }
          ],
          "carpet": [
           {
            "aaxis": {
             "endlinecolor": "#2a3f5f",
             "gridcolor": "white",
             "linecolor": "white",
             "minorgridcolor": "white",
             "startlinecolor": "#2a3f5f"
            },
            "baxis": {
             "endlinecolor": "#2a3f5f",
             "gridcolor": "white",
             "linecolor": "white",
             "minorgridcolor": "white",
             "startlinecolor": "#2a3f5f"
            },
            "type": "carpet"
           }
          ],
          "choropleth": [
           {
            "colorbar": {
             "outlinewidth": 0,
             "ticks": ""
            },
            "type": "choropleth"
           }
          ],
          "contour": [
           {
            "colorbar": {
             "outlinewidth": 0,
             "ticks": ""
            },
            "colorscale": [
             [
              0,
              "#0d0887"
             ],
             [
              0.1111111111111111,
              "#46039f"
             ],
             [
              0.2222222222222222,
              "#7201a8"
             ],
             [
              0.3333333333333333,
              "#9c179e"
             ],
             [
              0.4444444444444444,
              "#bd3786"
             ],
             [
              0.5555555555555556,
              "#d8576b"
             ],
             [
              0.6666666666666666,
              "#ed7953"
             ],
             [
              0.7777777777777778,
              "#fb9f3a"
             ],
             [
              0.8888888888888888,
              "#fdca26"
             ],
             [
              1,
              "#f0f921"
             ]
            ],
            "type": "contour"
           }
          ],
          "contourcarpet": [
           {
            "colorbar": {
             "outlinewidth": 0,
             "ticks": ""
            },
            "type": "contourcarpet"
           }
          ],
          "heatmap": [
           {
            "colorbar": {
             "outlinewidth": 0,
             "ticks": ""
            },
            "colorscale": [
             [
              0,
              "#0d0887"
             ],
             [
              0.1111111111111111,
              "#46039f"
             ],
             [
              0.2222222222222222,
              "#7201a8"
             ],
             [
              0.3333333333333333,
              "#9c179e"
             ],
             [
              0.4444444444444444,
              "#bd3786"
             ],
             [
              0.5555555555555556,
              "#d8576b"
             ],
             [
              0.6666666666666666,
              "#ed7953"
             ],
             [
              0.7777777777777778,
              "#fb9f3a"
             ],
             [
              0.8888888888888888,
              "#fdca26"
             ],
             [
              1,
              "#f0f921"
             ]
            ],
            "type": "heatmap"
           }
          ],
          "heatmapgl": [
           {
            "colorbar": {
             "outlinewidth": 0,
             "ticks": ""
            },
            "colorscale": [
             [
              0,
              "#0d0887"
             ],
             [
              0.1111111111111111,
              "#46039f"
             ],
             [
              0.2222222222222222,
              "#7201a8"
             ],
             [
              0.3333333333333333,
              "#9c179e"
             ],
             [
              0.4444444444444444,
              "#bd3786"
             ],
             [
              0.5555555555555556,
              "#d8576b"
             ],
             [
              0.6666666666666666,
              "#ed7953"
             ],
             [
              0.7777777777777778,
              "#fb9f3a"
             ],
             [
              0.8888888888888888,
              "#fdca26"
             ],
             [
              1,
              "#f0f921"
             ]
            ],
            "type": "heatmapgl"
           }
          ],
          "histogram": [
           {
            "marker": {
             "colorbar": {
              "outlinewidth": 0,
              "ticks": ""
             }
            },
            "type": "histogram"
           }
          ],
          "histogram2d": [
           {
            "colorbar": {
             "outlinewidth": 0,
             "ticks": ""
            },
            "colorscale": [
             [
              0,
              "#0d0887"
             ],
             [
              0.1111111111111111,
              "#46039f"
             ],
             [
              0.2222222222222222,
              "#7201a8"
             ],
             [
              0.3333333333333333,
              "#9c179e"
             ],
             [
              0.4444444444444444,
              "#bd3786"
             ],
             [
              0.5555555555555556,
              "#d8576b"
             ],
             [
              0.6666666666666666,
              "#ed7953"
             ],
             [
              0.7777777777777778,
              "#fb9f3a"
             ],
             [
              0.8888888888888888,
              "#fdca26"
             ],
             [
              1,
              "#f0f921"
             ]
            ],
            "type": "histogram2d"
           }
          ],
          "histogram2dcontour": [
           {
            "colorbar": {
             "outlinewidth": 0,
             "ticks": ""
            },
            "colorscale": [
             [
              0,
              "#0d0887"
             ],
             [
              0.1111111111111111,
              "#46039f"
             ],
             [
              0.2222222222222222,
              "#7201a8"
             ],
             [
              0.3333333333333333,
              "#9c179e"
             ],
             [
              0.4444444444444444,
              "#bd3786"
             ],
             [
              0.5555555555555556,
              "#d8576b"
             ],
             [
              0.6666666666666666,
              "#ed7953"
             ],
             [
              0.7777777777777778,
              "#fb9f3a"
             ],
             [
              0.8888888888888888,
              "#fdca26"
             ],
             [
              1,
              "#f0f921"
             ]
            ],
            "type": "histogram2dcontour"
           }
          ],
          "mesh3d": [
           {
            "colorbar": {
             "outlinewidth": 0,
             "ticks": ""
            },
            "type": "mesh3d"
           }
          ],
          "parcoords": [
           {
            "line": {
             "colorbar": {
              "outlinewidth": 0,
              "ticks": ""
             }
            },
            "type": "parcoords"
           }
          ],
          "pie": [
           {
            "automargin": true,
            "type": "pie"
           }
          ],
          "scatter": [
           {
            "marker": {
             "colorbar": {
              "outlinewidth": 0,
              "ticks": ""
             }
            },
            "type": "scatter"
           }
          ],
          "scatter3d": [
           {
            "line": {
             "colorbar": {
              "outlinewidth": 0,
              "ticks": ""
             }
            },
            "marker": {
             "colorbar": {
              "outlinewidth": 0,
              "ticks": ""
             }
            },
            "type": "scatter3d"
           }
          ],
          "scattercarpet": [
           {
            "marker": {
             "colorbar": {
              "outlinewidth": 0,
              "ticks": ""
             }
            },
            "type": "scattercarpet"
           }
          ],
          "scattergeo": [
           {
            "marker": {
             "colorbar": {
              "outlinewidth": 0,
              "ticks": ""
             }
            },
            "type": "scattergeo"
           }
          ],
          "scattergl": [
           {
            "marker": {
             "colorbar": {
              "outlinewidth": 0,
              "ticks": ""
             }
            },
            "type": "scattergl"
           }
          ],
          "scattermapbox": [
           {
            "marker": {
             "colorbar": {
              "outlinewidth": 0,
              "ticks": ""
             }
            },
            "type": "scattermapbox"
           }
          ],
          "scatterpolar": [
           {
            "marker": {
             "colorbar": {
              "outlinewidth": 0,
              "ticks": ""
             }
            },
            "type": "scatterpolar"
           }
          ],
          "scatterpolargl": [
           {
            "marker": {
             "colorbar": {
              "outlinewidth": 0,
              "ticks": ""
             }
            },
            "type": "scatterpolargl"
           }
          ],
          "scatterternary": [
           {
            "marker": {
             "colorbar": {
              "outlinewidth": 0,
              "ticks": ""
             }
            },
            "type": "scatterternary"
           }
          ],
          "surface": [
           {
            "colorbar": {
             "outlinewidth": 0,
             "ticks": ""
            },
            "colorscale": [
             [
              0,
              "#0d0887"
             ],
             [
              0.1111111111111111,
              "#46039f"
             ],
             [
              0.2222222222222222,
              "#7201a8"
             ],
             [
              0.3333333333333333,
              "#9c179e"
             ],
             [
              0.4444444444444444,
              "#bd3786"
             ],
             [
              0.5555555555555556,
              "#d8576b"
             ],
             [
              0.6666666666666666,
              "#ed7953"
             ],
             [
              0.7777777777777778,
              "#fb9f3a"
             ],
             [
              0.8888888888888888,
              "#fdca26"
             ],
             [
              1,
              "#f0f921"
             ]
            ],
            "type": "surface"
           }
          ],
          "table": [
           {
            "cells": {
             "fill": {
              "color": "#EBF0F8"
             },
             "line": {
              "color": "white"
             }
            },
            "header": {
             "fill": {
              "color": "#C8D4E3"
             },
             "line": {
              "color": "white"
             }
            },
            "type": "table"
           }
          ]
         },
         "layout": {
          "annotationdefaults": {
           "arrowcolor": "#2a3f5f",
           "arrowhead": 0,
           "arrowwidth": 1
          },
          "coloraxis": {
           "colorbar": {
            "outlinewidth": 0,
            "ticks": ""
           }
          },
          "colorscale": {
           "diverging": [
            [
             0,
             "#8e0152"
            ],
            [
             0.1,
             "#c51b7d"
            ],
            [
             0.2,
             "#de77ae"
            ],
            [
             0.3,
             "#f1b6da"
            ],
            [
             0.4,
             "#fde0ef"
            ],
            [
             0.5,
             "#f7f7f7"
            ],
            [
             0.6,
             "#e6f5d0"
            ],
            [
             0.7,
             "#b8e186"
            ],
            [
             0.8,
             "#7fbc41"
            ],
            [
             0.9,
             "#4d9221"
            ],
            [
             1,
             "#276419"
            ]
           ],
           "sequential": [
            [
             0,
             "#0d0887"
            ],
            [
             0.1111111111111111,
             "#46039f"
            ],
            [
             0.2222222222222222,
             "#7201a8"
            ],
            [
             0.3333333333333333,
             "#9c179e"
            ],
            [
             0.4444444444444444,
             "#bd3786"
            ],
            [
             0.5555555555555556,
             "#d8576b"
            ],
            [
             0.6666666666666666,
             "#ed7953"
            ],
            [
             0.7777777777777778,
             "#fb9f3a"
            ],
            [
             0.8888888888888888,
             "#fdca26"
            ],
            [
             1,
             "#f0f921"
            ]
           ],
           "sequentialminus": [
            [
             0,
             "#0d0887"
            ],
            [
             0.1111111111111111,
             "#46039f"
            ],
            [
             0.2222222222222222,
             "#7201a8"
            ],
            [
             0.3333333333333333,
             "#9c179e"
            ],
            [
             0.4444444444444444,
             "#bd3786"
            ],
            [
             0.5555555555555556,
             "#d8576b"
            ],
            [
             0.6666666666666666,
             "#ed7953"
            ],
            [
             0.7777777777777778,
             "#fb9f3a"
            ],
            [
             0.8888888888888888,
             "#fdca26"
            ],
            [
             1,
             "#f0f921"
            ]
           ]
          },
          "colorway": [
           "#636efa",
           "#EF553B",
           "#00cc96",
           "#ab63fa",
           "#FFA15A",
           "#19d3f3",
           "#FF6692",
           "#B6E880",
           "#FF97FF",
           "#FECB52"
          ],
          "font": {
           "color": "#2a3f5f"
          },
          "geo": {
           "bgcolor": "white",
           "lakecolor": "white",
           "landcolor": "#E5ECF6",
           "showlakes": true,
           "showland": true,
           "subunitcolor": "white"
          },
          "hoverlabel": {
           "align": "left"
          },
          "hovermode": "closest",
          "mapbox": {
           "style": "light"
          },
          "paper_bgcolor": "white",
          "plot_bgcolor": "#E5ECF6",
          "polar": {
           "angularaxis": {
            "gridcolor": "white",
            "linecolor": "white",
            "ticks": ""
           },
           "bgcolor": "#E5ECF6",
           "radialaxis": {
            "gridcolor": "white",
            "linecolor": "white",
            "ticks": ""
           }
          },
          "scene": {
           "xaxis": {
            "backgroundcolor": "#E5ECF6",
            "gridcolor": "white",
            "gridwidth": 2,
            "linecolor": "white",
            "showbackground": true,
            "ticks": "",
            "zerolinecolor": "white"
           },
           "yaxis": {
            "backgroundcolor": "#E5ECF6",
            "gridcolor": "white",
            "gridwidth": 2,
            "linecolor": "white",
            "showbackground": true,
            "ticks": "",
            "zerolinecolor": "white"
           },
           "zaxis": {
            "backgroundcolor": "#E5ECF6",
            "gridcolor": "white",
            "gridwidth": 2,
            "linecolor": "white",
            "showbackground": true,
            "ticks": "",
            "zerolinecolor": "white"
           }
          },
          "shapedefaults": {
           "line": {
            "color": "#2a3f5f"
           }
          },
          "ternary": {
           "aaxis": {
            "gridcolor": "white",
            "linecolor": "white",
            "ticks": ""
           },
           "baxis": {
            "gridcolor": "white",
            "linecolor": "white",
            "ticks": ""
           },
           "bgcolor": "#E5ECF6",
           "caxis": {
            "gridcolor": "white",
            "linecolor": "white",
            "ticks": ""
           }
          },
          "title": {
           "x": 0.05
          },
          "xaxis": {
           "automargin": true,
           "gridcolor": "white",
           "linecolor": "white",
           "ticks": "",
           "title": {
            "standoff": 15
           },
           "zerolinecolor": "white",
           "zerolinewidth": 2
          },
          "yaxis": {
           "automargin": true,
           "gridcolor": "white",
           "linecolor": "white",
           "ticks": "",
           "title": {
            "standoff": 15
           },
           "zerolinecolor": "white",
           "zerolinewidth": 2
          }
         }
        },
        "xaxis": {
         "anchor": "y",
         "domain": [
          0,
          1
         ],
         "title": {
          "text": "No. of Data Breaches"
         }
        },
        "yaxis": {
         "anchor": "x",
         "domain": [
          0,
          1
         ],
         "title": {
          "text": "Average Internet usage over the years"
         }
        }
       }
      },
      "text/html": [
       "<div>\n",
       "        \n",
       "        \n",
       "            <div id=\"cabbad02-c25a-4c42-986b-98cbb21c1fa4\" class=\"plotly-graph-div\" style=\"height:525px; width:100%;\"></div>\n",
       "            <script type=\"text/javascript\">\n",
       "                require([\"plotly\"], function(Plotly) {\n",
       "                    window.PLOTLYENV=window.PLOTLYENV || {};\n",
       "                    \n",
       "                if (document.getElementById(\"cabbad02-c25a-4c42-986b-98cbb21c1fa4\")) {\n",
       "                    Plotly.newPlot(\n",
       "                        'cabbad02-c25a-4c42-986b-98cbb21c1fa4',\n",
       "                        [{\"hovertemplate\": \"No. of Data Breaches=%{x}<br>Average Internet usage over the years=%{y}<extra></extra>\", \"legendgroup\": \"\", \"marker\": {\"color\": \"#636efa\", \"symbol\": \"circle\"}, \"mode\": \"markers\", \"name\": \"\", \"showlegend\": false, \"type\": \"scatter\", \"x\": [3.0, 42.0, 5.0, 8.0, 848.0, 19.0, 1010.0, 318.0, 4.0, 8.0, 11.0, 130.0, 10.0, 52.0, 367.0, 3.0, 1.0, 22.0, 1.0, 5302.0, 149.0, 2.0, 1.0, 3.0, 1553.0, 2473.0, 2311.0, 191.0, 101.0, 11.0, 21.0, 1612.0, 53.0, 112.0, 8.0, 214.0, 3.0, 5.0, 81.0, 3681.0, 2.0, 27.0, 4088.0, 3.0, 545.0, 20.0, 1.0, 32.0, 37.0, 603.0, 28.0, 531.0, 2272.0, 6.0, 641.0, 459.0, 2150.0, 9.0, 967.0, 25.0, 103.0, 22.0, 16.0, 13.0, 44.0, 15.0, 1.0, 6.0, 221.0, 39.0, 4.0, 15.0, 403.0, 2.0, 1.0, 9.0, 3.0, 6.0, 792.0, 7.0, 3.0, 12.0, 23.0, 129.0, 20.0, 5.0, 1442.0, 23.0, 3.0, 3.0, 598.0, 3.0, 119.0, 30.0, 24.0, 218.0, 139.0, 1050.0, 219.0, 8.0, 482.0, 17.0, 10.0, 22.0, 82.0, 4.0, 396.0, 330.0, 537.0, 4.0, 5665.0, 11.0, 2.0, 383.0, 574.0, 2.0, 3.0, 1430.0, 1.0, 19.0, 83.0, 1078.0, 1.0, 16.0, 1.0, 614.0, 47.0, 8.0, 4.0, 3.0, 5.0, 8.0], \"xaxis\": \"x\", \"y\": [5.594426685297288, 43.05248774117164, 26.577446778483168, 70.26246641752975, 46.76965620496696, 35.06995918569305, 69.94026169908871, 75.56315281508286, 56.39801322081063, 54.96983661951785, 73.99640475804235, 7.405697886244315, 58.513986785141874, 47.301730232253064, 76.15054545377865, 28.94656376601779, 6.129421652181342, 20.929737418313223, 20.689546895943735, 41.00511005555452, 47.69785126515635, 1.75401901309071, 12.885721432852053, 10.15961255770332, 74.03090909090909, 51.063729751649355, 34.24538979046083, 38.14700536745515, 57.606160661350835, 23.438990622495943, 60.56207563729488, 88.30582468167478, 31.73941030180106, 29.202532891201518, 0.7005882506184542, 76.03382806042829, 5.920461314053615, 27.569654494754733, 82.33981088535499, 70.8375934721078, 25.95958712532986, 38.084307936557586, 78.25417931072151, 15.324413712606543, 53.34177900374676, 19.693418231947412, 4.8761526458730025, 11.364318606226908, 16.18125963626534, 63.88961633922849, 91.30070822466965, 12.965060760344018, 17.620994089873815, 15.136363535454548, 70.90928072625974, 57.91783390414793, 53.912649855804936, 30.361570105303098, 70.89339976529835, 35.587547014230175, 52.52631646753314, 10.039537497505517, 66.76399555635406, 20.15656775095957, 67.0370281864885, 49.71030039503853, 12.91018650495968, 76.01267136626718, 61.755674460062615, 85.71586981594385, 2.913795598431704, 4.716730424620625, 62.27558208681162, 34.42307172759476, 4.781072307278212, 64.73703629046764, 7.75109893541522, 38.40035625382354, 42.2467320112896, 42.973421443185515, 73.51583148429559, 13.316192235586493, 50.831921564433515, 47.63809865270177, 6.947179450090141, 16.241580359094375, 86.87744135978693, 12.989612102778066, 2.519095962390164, 17.162112411446756, 90.34828396941448, 47.38752991272483, 8.91707053257344, 35.741928730648, 35.604689197812355, 36.01261047658745, 31.53352485892228, 59.72267541213726, 57.68224648890957, 72.61257817009086, 45.861265429333436, 9.364578138425099, 14.524650349476802, 14.841401782760874, 49.917350553989245, 39.56797645718501, 73.36469931065878, 69.9759955324702, 65.37349419251974, 1.1361887761410836, 67.45367012811904, 15.945283761723408, 29.251790826929618, 87.42582894433586, 73.77571992621391, 12.212480874402727, 7.333381312737115, 31.964133989428145, 4.91729317909091, 24.263689358179615, 40.38082201278533, 44.75886248828977, 8.396766857572139, 28.133557246995647, 12.485183976084812, 30.882585327477113, 45.571466063440965, 24.193113175099334, 12.469078465185122, 14.887779174601034, 12.110690895124083, 12.216769847489571], \"yaxis\": \"y\"}],\n",
       "                        {\"legend\": {\"tracegroupgap\": 0}, \"margin\": {\"t\": 60}, \"template\": {\"data\": {\"bar\": [{\"error_x\": {\"color\": \"#2a3f5f\"}, \"error_y\": {\"color\": \"#2a3f5f\"}, \"marker\": {\"line\": {\"color\": \"#E5ECF6\", \"width\": 0.5}}, \"type\": \"bar\"}], \"barpolar\": [{\"marker\": {\"line\": {\"color\": \"#E5ECF6\", \"width\": 0.5}}, \"type\": \"barpolar\"}], \"carpet\": [{\"aaxis\": {\"endlinecolor\": \"#2a3f5f\", \"gridcolor\": \"white\", \"linecolor\": \"white\", \"minorgridcolor\": \"white\", \"startlinecolor\": \"#2a3f5f\"}, \"baxis\": {\"endlinecolor\": \"#2a3f5f\", \"gridcolor\": \"white\", \"linecolor\": \"white\", \"minorgridcolor\": \"white\", \"startlinecolor\": \"#2a3f5f\"}, \"type\": \"carpet\"}], \"choropleth\": [{\"colorbar\": {\"outlinewidth\": 0, \"ticks\": \"\"}, \"type\": \"choropleth\"}], \"contour\": [{\"colorbar\": {\"outlinewidth\": 0, \"ticks\": \"\"}, \"colorscale\": [[0.0, \"#0d0887\"], [0.1111111111111111, \"#46039f\"], [0.2222222222222222, \"#7201a8\"], [0.3333333333333333, \"#9c179e\"], [0.4444444444444444, \"#bd3786\"], [0.5555555555555556, \"#d8576b\"], [0.6666666666666666, \"#ed7953\"], [0.7777777777777778, \"#fb9f3a\"], [0.8888888888888888, \"#fdca26\"], [1.0, \"#f0f921\"]], \"type\": \"contour\"}], \"contourcarpet\": [{\"colorbar\": {\"outlinewidth\": 0, \"ticks\": \"\"}, \"type\": \"contourcarpet\"}], \"heatmap\": [{\"colorbar\": {\"outlinewidth\": 0, \"ticks\": \"\"}, \"colorscale\": [[0.0, \"#0d0887\"], [0.1111111111111111, \"#46039f\"], [0.2222222222222222, \"#7201a8\"], [0.3333333333333333, \"#9c179e\"], [0.4444444444444444, \"#bd3786\"], [0.5555555555555556, \"#d8576b\"], [0.6666666666666666, \"#ed7953\"], [0.7777777777777778, \"#fb9f3a\"], [0.8888888888888888, \"#fdca26\"], [1.0, \"#f0f921\"]], \"type\": \"heatmap\"}], \"heatmapgl\": [{\"colorbar\": {\"outlinewidth\": 0, \"ticks\": \"\"}, \"colorscale\": [[0.0, \"#0d0887\"], [0.1111111111111111, \"#46039f\"], [0.2222222222222222, \"#7201a8\"], [0.3333333333333333, \"#9c179e\"], [0.4444444444444444, \"#bd3786\"], [0.5555555555555556, \"#d8576b\"], [0.6666666666666666, \"#ed7953\"], [0.7777777777777778, \"#fb9f3a\"], [0.8888888888888888, \"#fdca26\"], [1.0, \"#f0f921\"]], \"type\": \"heatmapgl\"}], \"histogram\": [{\"marker\": {\"colorbar\": {\"outlinewidth\": 0, \"ticks\": \"\"}}, \"type\": \"histogram\"}], \"histogram2d\": [{\"colorbar\": {\"outlinewidth\": 0, \"ticks\": \"\"}, \"colorscale\": [[0.0, \"#0d0887\"], [0.1111111111111111, \"#46039f\"], [0.2222222222222222, \"#7201a8\"], [0.3333333333333333, \"#9c179e\"], [0.4444444444444444, \"#bd3786\"], [0.5555555555555556, \"#d8576b\"], [0.6666666666666666, \"#ed7953\"], [0.7777777777777778, \"#fb9f3a\"], [0.8888888888888888, \"#fdca26\"], [1.0, \"#f0f921\"]], \"type\": \"histogram2d\"}], \"histogram2dcontour\": [{\"colorbar\": {\"outlinewidth\": 0, \"ticks\": \"\"}, \"colorscale\": [[0.0, \"#0d0887\"], [0.1111111111111111, \"#46039f\"], [0.2222222222222222, \"#7201a8\"], [0.3333333333333333, \"#9c179e\"], [0.4444444444444444, \"#bd3786\"], [0.5555555555555556, \"#d8576b\"], [0.6666666666666666, \"#ed7953\"], [0.7777777777777778, \"#fb9f3a\"], [0.8888888888888888, \"#fdca26\"], [1.0, \"#f0f921\"]], \"type\": \"histogram2dcontour\"}], \"mesh3d\": [{\"colorbar\": {\"outlinewidth\": 0, \"ticks\": \"\"}, \"type\": \"mesh3d\"}], \"parcoords\": [{\"line\": {\"colorbar\": {\"outlinewidth\": 0, \"ticks\": \"\"}}, \"type\": \"parcoords\"}], \"pie\": [{\"automargin\": true, \"type\": \"pie\"}], \"scatter\": [{\"marker\": {\"colorbar\": {\"outlinewidth\": 0, \"ticks\": \"\"}}, \"type\": \"scatter\"}], \"scatter3d\": [{\"line\": {\"colorbar\": {\"outlinewidth\": 0, \"ticks\": \"\"}}, \"marker\": {\"colorbar\": {\"outlinewidth\": 0, \"ticks\": \"\"}}, \"type\": \"scatter3d\"}], \"scattercarpet\": [{\"marker\": {\"colorbar\": {\"outlinewidth\": 0, \"ticks\": \"\"}}, \"type\": \"scattercarpet\"}], \"scattergeo\": [{\"marker\": {\"colorbar\": {\"outlinewidth\": 0, \"ticks\": \"\"}}, \"type\": \"scattergeo\"}], \"scattergl\": [{\"marker\": {\"colorbar\": {\"outlinewidth\": 0, \"ticks\": \"\"}}, \"type\": \"scattergl\"}], \"scattermapbox\": [{\"marker\": {\"colorbar\": {\"outlinewidth\": 0, \"ticks\": \"\"}}, \"type\": \"scattermapbox\"}], \"scatterpolar\": [{\"marker\": {\"colorbar\": {\"outlinewidth\": 0, \"ticks\": \"\"}}, \"type\": \"scatterpolar\"}], \"scatterpolargl\": [{\"marker\": {\"colorbar\": {\"outlinewidth\": 0, \"ticks\": \"\"}}, \"type\": \"scatterpolargl\"}], \"scatterternary\": [{\"marker\": {\"colorbar\": {\"outlinewidth\": 0, \"ticks\": \"\"}}, \"type\": \"scatterternary\"}], \"surface\": [{\"colorbar\": {\"outlinewidth\": 0, \"ticks\": \"\"}, \"colorscale\": [[0.0, \"#0d0887\"], [0.1111111111111111, \"#46039f\"], [0.2222222222222222, \"#7201a8\"], [0.3333333333333333, \"#9c179e\"], [0.4444444444444444, \"#bd3786\"], [0.5555555555555556, \"#d8576b\"], [0.6666666666666666, \"#ed7953\"], [0.7777777777777778, \"#fb9f3a\"], [0.8888888888888888, \"#fdca26\"], [1.0, \"#f0f921\"]], \"type\": \"surface\"}], \"table\": [{\"cells\": {\"fill\": {\"color\": \"#EBF0F8\"}, \"line\": {\"color\": \"white\"}}, \"header\": {\"fill\": {\"color\": \"#C8D4E3\"}, \"line\": {\"color\": \"white\"}}, \"type\": \"table\"}]}, \"layout\": {\"annotationdefaults\": {\"arrowcolor\": \"#2a3f5f\", \"arrowhead\": 0, \"arrowwidth\": 1}, \"coloraxis\": {\"colorbar\": {\"outlinewidth\": 0, \"ticks\": \"\"}}, \"colorscale\": {\"diverging\": [[0, \"#8e0152\"], [0.1, \"#c51b7d\"], [0.2, \"#de77ae\"], [0.3, \"#f1b6da\"], [0.4, \"#fde0ef\"], [0.5, \"#f7f7f7\"], [0.6, \"#e6f5d0\"], [0.7, \"#b8e186\"], [0.8, \"#7fbc41\"], [0.9, \"#4d9221\"], [1, \"#276419\"]], \"sequential\": [[0.0, \"#0d0887\"], [0.1111111111111111, \"#46039f\"], [0.2222222222222222, \"#7201a8\"], [0.3333333333333333, \"#9c179e\"], [0.4444444444444444, \"#bd3786\"], [0.5555555555555556, \"#d8576b\"], [0.6666666666666666, \"#ed7953\"], [0.7777777777777778, \"#fb9f3a\"], [0.8888888888888888, \"#fdca26\"], [1.0, \"#f0f921\"]], \"sequentialminus\": [[0.0, \"#0d0887\"], [0.1111111111111111, \"#46039f\"], [0.2222222222222222, \"#7201a8\"], [0.3333333333333333, \"#9c179e\"], [0.4444444444444444, \"#bd3786\"], [0.5555555555555556, \"#d8576b\"], [0.6666666666666666, \"#ed7953\"], [0.7777777777777778, \"#fb9f3a\"], [0.8888888888888888, \"#fdca26\"], [1.0, \"#f0f921\"]]}, \"colorway\": [\"#636efa\", \"#EF553B\", \"#00cc96\", \"#ab63fa\", \"#FFA15A\", \"#19d3f3\", \"#FF6692\", \"#B6E880\", \"#FF97FF\", \"#FECB52\"], \"font\": {\"color\": \"#2a3f5f\"}, \"geo\": {\"bgcolor\": \"white\", \"lakecolor\": \"white\", \"landcolor\": \"#E5ECF6\", \"showlakes\": true, \"showland\": true, \"subunitcolor\": \"white\"}, \"hoverlabel\": {\"align\": \"left\"}, \"hovermode\": \"closest\", \"mapbox\": {\"style\": \"light\"}, \"paper_bgcolor\": \"white\", \"plot_bgcolor\": \"#E5ECF6\", \"polar\": {\"angularaxis\": {\"gridcolor\": \"white\", \"linecolor\": \"white\", \"ticks\": \"\"}, \"bgcolor\": \"#E5ECF6\", \"radialaxis\": {\"gridcolor\": \"white\", \"linecolor\": \"white\", \"ticks\": \"\"}}, \"scene\": {\"xaxis\": {\"backgroundcolor\": \"#E5ECF6\", \"gridcolor\": \"white\", \"gridwidth\": 2, \"linecolor\": \"white\", \"showbackground\": true, \"ticks\": \"\", \"zerolinecolor\": \"white\"}, \"yaxis\": {\"backgroundcolor\": \"#E5ECF6\", \"gridcolor\": \"white\", \"gridwidth\": 2, \"linecolor\": \"white\", \"showbackground\": true, \"ticks\": \"\", \"zerolinecolor\": \"white\"}, \"zaxis\": {\"backgroundcolor\": \"#E5ECF6\", \"gridcolor\": \"white\", \"gridwidth\": 2, \"linecolor\": \"white\", \"showbackground\": true, \"ticks\": \"\", \"zerolinecolor\": \"white\"}}, \"shapedefaults\": {\"line\": {\"color\": \"#2a3f5f\"}}, \"ternary\": {\"aaxis\": {\"gridcolor\": \"white\", \"linecolor\": \"white\", \"ticks\": \"\"}, \"baxis\": {\"gridcolor\": \"white\", \"linecolor\": \"white\", \"ticks\": \"\"}, \"bgcolor\": \"#E5ECF6\", \"caxis\": {\"gridcolor\": \"white\", \"linecolor\": \"white\", \"ticks\": \"\"}}, \"title\": {\"x\": 0.05}, \"xaxis\": {\"automargin\": true, \"gridcolor\": \"white\", \"linecolor\": \"white\", \"ticks\": \"\", \"title\": {\"standoff\": 15}, \"zerolinecolor\": \"white\", \"zerolinewidth\": 2}, \"yaxis\": {\"automargin\": true, \"gridcolor\": \"white\", \"linecolor\": \"white\", \"ticks\": \"\", \"title\": {\"standoff\": 15}, \"zerolinecolor\": \"white\", \"zerolinewidth\": 2}}}, \"xaxis\": {\"anchor\": \"y\", \"domain\": [0.0, 1.0], \"title\": {\"text\": \"No. of Data Breaches\"}}, \"yaxis\": {\"anchor\": \"x\", \"domain\": [0.0, 1.0], \"title\": {\"text\": \"Average Internet usage over the years\"}}},\n",
       "                        {\"responsive\": true}\n",
       "                    ).then(function(){\n",
       "                            \n",
       "var gd = document.getElementById('cabbad02-c25a-4c42-986b-98cbb21c1fa4');\n",
       "var x = new MutationObserver(function (mutations, observer) {{\n",
       "        var display = window.getComputedStyle(gd).display;\n",
       "        if (!display || display === 'none') {{\n",
       "            console.log([gd, 'removed!']);\n",
       "            Plotly.purge(gd);\n",
       "            observer.disconnect();\n",
       "        }}\n",
       "}});\n",
       "\n",
       "// Listen for the removal of the full notebook cells\n",
       "var notebookContainer = gd.closest('#notebook-container');\n",
       "if (notebookContainer) {{\n",
       "    x.observe(notebookContainer, {childList: true});\n",
       "}}\n",
       "\n",
       "// Listen for the clearing of the current output cell\n",
       "var outputEl = gd.closest('.output');\n",
       "if (outputEl) {{\n",
       "    x.observe(outputEl, {childList: true});\n",
       "}}\n",
       "\n",
       "                        })\n",
       "                };\n",
       "                });\n",
       "            </script>\n",
       "        </div>"
      ]
     },
     "metadata": {},
     "output_type": "display_data"
    }
   ],
   "source": [
    "data_breach_plot(data_breach_int_users)"
   ]
  },
  {
   "cell_type": "markdown",
   "metadata": {},
   "source": [
    "<u><b>Conclusion for Hypothesis 2: </b></u><br>\n",
    "<b>We can conclude that there isn't a strong linear relationship between data breaches and average internet usage over the years.Therefore our proposed hypothesis does not hold true.</b>\n",
    "    "
   ]
  },
  {
   "cell_type": "markdown",
   "metadata": {},
   "source": [
    "# Suggestion for Hypothesis 2"
   ]
  },
  {
   "cell_type": "markdown",
   "metadata": {},
   "source": [
    "Whether the population of a country plays a role in the no. of databreaches?"
   ]
  },
  {
   "cell_type": "code",
   "execution_count": 58,
   "metadata": {},
   "outputs": [],
   "source": [
    "data_breaches_vs_population = data_breaches_per_country.merge(country_population, right_on=\"country\",left_on=\"Country\",how=\"left\")"
   ]
  },
  {
   "cell_type": "code",
   "execution_count": 59,
   "metadata": {},
   "outputs": [],
   "source": [
    "data_breaches_vs_population = remove_null(data_breaches_vs_population)"
   ]
  },
  {
   "cell_type": "code",
   "execution_count": 60,
   "metadata": {},
   "outputs": [
    {
     "data": {
      "text/html": [
       "<div>\n",
       "<style scoped>\n",
       "    .dataframe tbody tr th:only-of-type {\n",
       "        vertical-align: middle;\n",
       "    }\n",
       "\n",
       "    .dataframe tbody tr th {\n",
       "        vertical-align: top;\n",
       "    }\n",
       "\n",
       "    .dataframe thead th {\n",
       "        text-align: right;\n",
       "    }\n",
       "</style>\n",
       "<table border=\"1\" class=\"dataframe\">\n",
       "  <thead>\n",
       "    <tr style=\"text-align: right;\">\n",
       "      <th></th>\n",
       "      <th>Country</th>\n",
       "      <th>No. of Data Breaches</th>\n",
       "      <th>country</th>\n",
       "      <th>Region</th>\n",
       "      <th>Population in thousands (2017)</th>\n",
       "    </tr>\n",
       "  </thead>\n",
       "  <tbody>\n",
       "    <tr>\n",
       "      <th>1</th>\n",
       "      <td>Spain</td>\n",
       "      <td>5665</td>\n",
       "      <td>Spain</td>\n",
       "      <td>SouthernEurope</td>\n",
       "      <td>46354.0</td>\n",
       "    </tr>\n",
       "    <tr>\n",
       "      <th>2</th>\n",
       "      <td>Brazil</td>\n",
       "      <td>5302</td>\n",
       "      <td>Brazil</td>\n",
       "      <td>SouthAmerica</td>\n",
       "      <td>209288.0</td>\n",
       "    </tr>\n",
       "    <tr>\n",
       "      <th>3</th>\n",
       "      <td>Germany</td>\n",
       "      <td>4088</td>\n",
       "      <td>Germany</td>\n",
       "      <td>WesternEurope</td>\n",
       "      <td>82114.0</td>\n",
       "    </tr>\n",
       "    <tr>\n",
       "      <th>4</th>\n",
       "      <td>France</td>\n",
       "      <td>3681</td>\n",
       "      <td>France</td>\n",
       "      <td>WesternEurope</td>\n",
       "      <td>64980.0</td>\n",
       "    </tr>\n",
       "    <tr>\n",
       "      <th>5</th>\n",
       "      <td>United Kingdom</td>\n",
       "      <td>3628</td>\n",
       "      <td>United Kingdom</td>\n",
       "      <td>NorthernEurope</td>\n",
       "      <td>66182.0</td>\n",
       "    </tr>\n",
       "    <tr>\n",
       "      <th>...</th>\n",
       "      <td>...</td>\n",
       "      <td>...</td>\n",
       "      <td>...</td>\n",
       "      <td>...</td>\n",
       "      <td>...</td>\n",
       "    </tr>\n",
       "    <tr>\n",
       "      <th>229</th>\n",
       "      <td>Cambodia</td>\n",
       "      <td>1</td>\n",
       "      <td>Cambodia</td>\n",
       "      <td>South-easternAsia</td>\n",
       "      <td>16005.0</td>\n",
       "    </tr>\n",
       "    <tr>\n",
       "      <th>230</th>\n",
       "      <td>Turkmenistan</td>\n",
       "      <td>1</td>\n",
       "      <td>Turkmenistan</td>\n",
       "      <td>CentralAsia</td>\n",
       "      <td>5758.0</td>\n",
       "    </tr>\n",
       "    <tr>\n",
       "      <th>234</th>\n",
       "      <td>Lesotho</td>\n",
       "      <td>1</td>\n",
       "      <td>Lesotho</td>\n",
       "      <td>SouthernAfrica</td>\n",
       "      <td>2233.0</td>\n",
       "    </tr>\n",
       "    <tr>\n",
       "      <th>237</th>\n",
       "      <td>Mali</td>\n",
       "      <td>1</td>\n",
       "      <td>Mali</td>\n",
       "      <td>WesternAfrica</td>\n",
       "      <td>18542.0</td>\n",
       "    </tr>\n",
       "    <tr>\n",
       "      <th>239</th>\n",
       "      <td>Cook Islands</td>\n",
       "      <td>1</td>\n",
       "      <td>Cook Islands</td>\n",
       "      <td>Polynesia</td>\n",
       "      <td>17.0</td>\n",
       "    </tr>\n",
       "  </tbody>\n",
       "</table>\n",
       "<p>159 rows × 5 columns</p>\n",
       "</div>"
      ],
      "text/plain": [
       "            Country  No. of Data Breaches         country             Region  \\\n",
       "1             Spain                  5665           Spain     SouthernEurope   \n",
       "2            Brazil                  5302          Brazil       SouthAmerica   \n",
       "3           Germany                  4088         Germany      WesternEurope   \n",
       "4            France                  3681          France      WesternEurope   \n",
       "5    United Kingdom                  3628  United Kingdom     NorthernEurope   \n",
       "..              ...                   ...             ...                ...   \n",
       "229        Cambodia                     1        Cambodia  South-easternAsia   \n",
       "230    Turkmenistan                     1    Turkmenistan        CentralAsia   \n",
       "234         Lesotho                     1         Lesotho     SouthernAfrica   \n",
       "237            Mali                     1            Mali      WesternAfrica   \n",
       "239    Cook Islands                     1    Cook Islands          Polynesia   \n",
       "\n",
       "     Population in thousands (2017)  \n",
       "1                           46354.0  \n",
       "2                          209288.0  \n",
       "3                           82114.0  \n",
       "4                           64980.0  \n",
       "5                           66182.0  \n",
       "..                              ...  \n",
       "229                         16005.0  \n",
       "230                          5758.0  \n",
       "234                          2233.0  \n",
       "237                         18542.0  \n",
       "239                            17.0  \n",
       "\n",
       "[159 rows x 5 columns]"
      ]
     },
     "execution_count": 60,
     "metadata": {},
     "output_type": "execute_result"
    }
   ],
   "source": [
    "data_breaches_vs_population"
   ]
  },
  {
   "cell_type": "code",
   "execution_count": 54,
   "metadata": {},
   "outputs": [
    {
     "data": {
      "application/vnd.plotly.v1+json": {
       "config": {
        "plotlyServerURL": "https://plot.ly"
       },
       "data": [
        {
         "hovertemplate": "<b>%{hovertext}</b><br><br>Country=Spain<br>Population in thousands (2017)=%{x}<br>No. of Data Breaches=%{marker.size}<extra></extra>",
         "hovertext": [
          "Spain"
         ],
         "legendgroup": "Spain",
         "marker": {
          "color": "#636efa",
          "size": [
           5665
          ],
          "sizemode": "area",
          "sizeref": 2.266,
          "symbol": "circle"
         },
         "mode": "markers",
         "name": "Spain",
         "showlegend": true,
         "type": "scatter",
         "x": [
          46354
         ],
         "xaxis": "x",
         "y": [
          5665
         ],
         "yaxis": "y"
        },
        {
         "hovertemplate": "<b>%{hovertext}</b><br><br>Country=Brazil<br>Population in thousands (2017)=%{x}<br>No. of Data Breaches=%{marker.size}<extra></extra>",
         "hovertext": [
          "Brazil"
         ],
         "legendgroup": "Brazil",
         "marker": {
          "color": "#EF553B",
          "size": [
           5302
          ],
          "sizemode": "area",
          "sizeref": 2.266,
          "symbol": "circle"
         },
         "mode": "markers",
         "name": "Brazil",
         "showlegend": true,
         "type": "scatter",
         "x": [
          209288
         ],
         "xaxis": "x",
         "y": [
          5302
         ],
         "yaxis": "y"
        },
        {
         "hovertemplate": "<b>%{hovertext}</b><br><br>Country=Germany<br>Population in thousands (2017)=%{x}<br>No. of Data Breaches=%{marker.size}<extra></extra>",
         "hovertext": [
          "Germany"
         ],
         "legendgroup": "Germany",
         "marker": {
          "color": "#00cc96",
          "size": [
           4088
          ],
          "sizemode": "area",
          "sizeref": 2.266,
          "symbol": "circle"
         },
         "mode": "markers",
         "name": "Germany",
         "showlegend": true,
         "type": "scatter",
         "x": [
          82114
         ],
         "xaxis": "x",
         "y": [
          4088
         ],
         "yaxis": "y"
        },
        {
         "hovertemplate": "<b>%{hovertext}</b><br><br>Country=France<br>Population in thousands (2017)=%{x}<br>No. of Data Breaches=%{marker.size}<extra></extra>",
         "hovertext": [
          "France"
         ],
         "legendgroup": "France",
         "marker": {
          "color": "#ab63fa",
          "size": [
           3681
          ],
          "sizemode": "area",
          "sizeref": 2.266,
          "symbol": "circle"
         },
         "mode": "markers",
         "name": "France",
         "showlegend": true,
         "type": "scatter",
         "x": [
          64980
         ],
         "xaxis": "x",
         "y": [
          3681
         ],
         "yaxis": "y"
        },
        {
         "hovertemplate": "<b>%{hovertext}</b><br><br>Country=United Kingdom<br>Population in thousands (2017)=%{x}<br>No. of Data Breaches=%{marker.size}<extra></extra>",
         "hovertext": [
          "United Kingdom"
         ],
         "legendgroup": "United Kingdom",
         "marker": {
          "color": "#FFA15A",
          "size": [
           3628
          ],
          "sizemode": "area",
          "sizeref": 2.266,
          "symbol": "circle"
         },
         "mode": "markers",
         "name": "United Kingdom",
         "showlegend": true,
         "type": "scatter",
         "x": [
          66182
         ],
         "xaxis": "x",
         "y": [
          3628
         ],
         "yaxis": "y"
        },
        {
         "hovertemplate": "<b>%{hovertext}</b><br><br>Country=Chile<br>Population in thousands (2017)=%{x}<br>No. of Data Breaches=%{marker.size}<extra></extra>",
         "hovertext": [
          "Chile"
         ],
         "legendgroup": "Chile",
         "marker": {
          "color": "#19d3f3",
          "size": [
           2473
          ],
          "sizemode": "area",
          "sizeref": 2.266,
          "symbol": "circle"
         },
         "mode": "markers",
         "name": "Chile",
         "showlegend": true,
         "type": "scatter",
         "x": [
          18055
         ],
         "xaxis": "x",
         "y": [
          2473
         ],
         "yaxis": "y"
        },
        {
         "hovertemplate": "<b>%{hovertext}</b><br><br>Country=China<br>Population in thousands (2017)=%{x}<br>No. of Data Breaches=%{marker.size}<extra></extra>",
         "hovertext": [
          "China"
         ],
         "legendgroup": "China",
         "marker": {
          "color": "#FF6692",
          "size": [
           2311
          ],
          "sizemode": "area",
          "sizeref": 2.266,
          "symbol": "circle"
         },
         "mode": "markers",
         "name": "China",
         "showlegend": true,
         "type": "scatter",
         "x": [
          1409517
         ],
         "xaxis": "x",
         "y": [
          2311
         ],
         "yaxis": "y"
        },
        {
         "hovertemplate": "<b>%{hovertext}</b><br><br>Country=Indonesia<br>Population in thousands (2017)=%{x}<br>No. of Data Breaches=%{marker.size}<extra></extra>",
         "hovertext": [
          "Indonesia"
         ],
         "legendgroup": "Indonesia",
         "marker": {
          "color": "#B6E880",
          "size": [
           2272
          ],
          "sizemode": "area",
          "sizeref": 2.266,
          "symbol": "circle"
         },
         "mode": "markers",
         "name": "Indonesia",
         "showlegend": true,
         "type": "scatter",
         "x": [
          263991
         ],
         "xaxis": "x",
         "y": [
          2272
         ],
         "yaxis": "y"
        },
        {
         "hovertemplate": "<b>%{hovertext}</b><br><br>Country=Italy<br>Population in thousands (2017)=%{x}<br>No. of Data Breaches=%{marker.size}<extra></extra>",
         "hovertext": [
          "Italy"
         ],
         "legendgroup": "Italy",
         "marker": {
          "color": "#FF97FF",
          "size": [
           2150
          ],
          "sizemode": "area",
          "sizeref": 2.266,
          "symbol": "circle"
         },
         "mode": "markers",
         "name": "Italy",
         "showlegend": true,
         "type": "scatter",
         "x": [
          59360
         ],
         "xaxis": "x",
         "y": [
          2150
         ],
         "yaxis": "y"
        },
        {
         "hovertemplate": "<b>%{hovertext}</b><br><br>Country=Denmark<br>Population in thousands (2017)=%{x}<br>No. of Data Breaches=%{marker.size}<extra></extra>",
         "hovertext": [
          "Denmark"
         ],
         "legendgroup": "Denmark",
         "marker": {
          "color": "#FECB52",
          "size": [
           1612
          ],
          "sizemode": "area",
          "sizeref": 2.266,
          "symbol": "circle"
         },
         "mode": "markers",
         "name": "Denmark",
         "showlegend": true,
         "type": "scatter",
         "x": [
          5734
         ],
         "xaxis": "x",
         "y": [
          1612
         ],
         "yaxis": "y"
        },
        {
         "hovertemplate": "<b>%{hovertext}</b><br><br>Country=Canada<br>Population in thousands (2017)=%{x}<br>No. of Data Breaches=%{marker.size}<extra></extra>",
         "hovertext": [
          "Canada"
         ],
         "legendgroup": "Canada",
         "marker": {
          "color": "#636efa",
          "size": [
           1553
          ],
          "sizemode": "area",
          "sizeref": 2.266,
          "symbol": "circle"
         },
         "mode": "markers",
         "name": "Canada",
         "showlegend": true,
         "type": "scatter",
         "x": [
          36624
         ],
         "xaxis": "x",
         "y": [
          1553
         ],
         "yaxis": "y"
        },
        {
         "hovertemplate": "<b>%{hovertext}</b><br><br>Country=Netherlands<br>Population in thousands (2017)=%{x}<br>No. of Data Breaches=%{marker.size}<extra></extra>",
         "hovertext": [
          "Netherlands"
         ],
         "legendgroup": "Netherlands",
         "marker": {
          "color": "#EF553B",
          "size": [
           1442
          ],
          "sizemode": "area",
          "sizeref": 2.266,
          "symbol": "circle"
         },
         "mode": "markers",
         "name": "Netherlands",
         "showlegend": true,
         "type": "scatter",
         "x": [
          17036
         ],
         "xaxis": "x",
         "y": [
          1442
         ],
         "yaxis": "y"
        },
        {
         "hovertemplate": "<b>%{hovertext}</b><br><br>Country=Thailand<br>Population in thousands (2017)=%{x}<br>No. of Data Breaches=%{marker.size}<extra></extra>",
         "hovertext": [
          "Thailand"
         ],
         "legendgroup": "Thailand",
         "marker": {
          "color": "#00cc96",
          "size": [
           1430
          ],
          "sizemode": "area",
          "sizeref": 2.266,
          "symbol": "circle"
         },
         "mode": "markers",
         "name": "Thailand",
         "showlegend": true,
         "type": "scatter",
         "x": [
          69038
         ],
         "xaxis": "x",
         "y": [
          1430
         ],
         "yaxis": "y"
        },
        {
         "hovertemplate": "<b>%{hovertext}</b><br><br>Country=Turkey<br>Population in thousands (2017)=%{x}<br>No. of Data Breaches=%{marker.size}<extra></extra>",
         "hovertext": [
          "Turkey"
         ],
         "legendgroup": "Turkey",
         "marker": {
          "color": "#ab63fa",
          "size": [
           1078
          ],
          "sizemode": "area",
          "sizeref": 2.266,
          "symbol": "circle"
         },
         "mode": "markers",
         "name": "Turkey",
         "showlegend": true,
         "type": "scatter",
         "x": [
          80745
         ],
         "xaxis": "x",
         "y": [
          1078
         ],
         "yaxis": "y"
        },
        {
         "hovertemplate": "<b>%{hovertext}</b><br><br>Country=Poland<br>Population in thousands (2017)=%{x}<br>No. of Data Breaches=%{marker.size}<extra></extra>",
         "hovertext": [
          "Poland"
         ],
         "legendgroup": "Poland",
         "marker": {
          "color": "#FFA15A",
          "size": [
           1050
          ],
          "sizemode": "area",
          "sizeref": 2.266,
          "symbol": "circle"
         },
         "mode": "markers",
         "name": "Poland",
         "showlegend": true,
         "type": "scatter",
         "x": [
          38171
         ],
         "xaxis": "x",
         "y": [
          1050
         ],
         "yaxis": "y"
        },
        {
         "hovertemplate": "<b>%{hovertext}</b><br><br>Country=Australia<br>Population in thousands (2017)=%{x}<br>No. of Data Breaches=%{marker.size}<extra></extra>",
         "hovertext": [
          "Australia"
         ],
         "legendgroup": "Australia",
         "marker": {
          "color": "#19d3f3",
          "size": [
           1010
          ],
          "sizemode": "area",
          "sizeref": 2.266,
          "symbol": "circle"
         },
         "mode": "markers",
         "name": "Australia",
         "showlegend": true,
         "type": "scatter",
         "x": [
          24451
         ],
         "xaxis": "x",
         "y": [
          1010
         ],
         "yaxis": "y"
        },
        {
         "hovertemplate": "<b>%{hovertext}</b><br><br>Country=Japan<br>Population in thousands (2017)=%{x}<br>No. of Data Breaches=%{marker.size}<extra></extra>",
         "hovertext": [
          "Japan"
         ],
         "legendgroup": "Japan",
         "marker": {
          "color": "#FF6692",
          "size": [
           967
          ],
          "sizemode": "area",
          "sizeref": 2.266,
          "symbol": "circle"
         },
         "mode": "markers",
         "name": "Japan",
         "showlegend": true,
         "type": "scatter",
         "x": [
          127484
         ],
         "xaxis": "x",
         "y": [
          967
         ],
         "yaxis": "y"
        },
        {
         "hovertemplate": "<b>%{hovertext}</b><br><br>Country=Argentina<br>Population in thousands (2017)=%{x}<br>No. of Data Breaches=%{marker.size}<extra></extra>",
         "hovertext": [
          "Argentina"
         ],
         "legendgroup": "Argentina",
         "marker": {
          "color": "#B6E880",
          "size": [
           848
          ],
          "sizemode": "area",
          "sizeref": 2.266,
          "symbol": "circle"
         },
         "mode": "markers",
         "name": "Argentina",
         "showlegend": true,
         "type": "scatter",
         "x": [
          44271
         ],
         "xaxis": "x",
         "y": [
          848
         ],
         "yaxis": "y"
        },
        {
         "hovertemplate": "<b>%{hovertext}</b><br><br>Country=Mexico<br>Population in thousands (2017)=%{x}<br>No. of Data Breaches=%{marker.size}<extra></extra>",
         "hovertext": [
          "Mexico"
         ],
         "legendgroup": "Mexico",
         "marker": {
          "color": "#FF97FF",
          "size": [
           792
          ],
          "sizemode": "area",
          "sizeref": 2.266,
          "symbol": "circle"
         },
         "mode": "markers",
         "name": "Mexico",
         "showlegend": true,
         "type": "scatter",
         "x": [
          129163
         ],
         "xaxis": "x",
         "y": [
          792
         ],
         "yaxis": "y"
        },
        {
         "hovertemplate": "<b>%{hovertext}</b><br><br>Country=Ireland<br>Population in thousands (2017)=%{x}<br>No. of Data Breaches=%{marker.size}<extra></extra>",
         "hovertext": [
          "Ireland"
         ],
         "legendgroup": "Ireland",
         "marker": {
          "color": "#FECB52",
          "size": [
           641
          ],
          "sizemode": "area",
          "sizeref": 2.266,
          "symbol": "circle"
         },
         "mode": "markers",
         "name": "Ireland",
         "showlegend": true,
         "type": "scatter",
         "x": [
          4762
         ],
         "xaxis": "x",
         "y": [
          641
         ],
         "yaxis": "y"
        },
        {
         "hovertemplate": "<b>%{hovertext}</b><br><br>Country=Ukraine<br>Population in thousands (2017)=%{x}<br>No. of Data Breaches=%{marker.size}<extra></extra>",
         "hovertext": [
          "Ukraine"
         ],
         "legendgroup": "Ukraine",
         "marker": {
          "color": "#636efa",
          "size": [
           614
          ],
          "sizemode": "area",
          "sizeref": 2.266,
          "symbol": "circle"
         },
         "mode": "markers",
         "name": "Ukraine",
         "showlegend": true,
         "type": "scatter",
         "x": [
          44223
         ],
         "xaxis": "x",
         "y": [
          614
         ],
         "yaxis": "y"
        },
        {
         "hovertemplate": "<b>%{hovertext}</b><br><br>Country=Hungary<br>Population in thousands (2017)=%{x}<br>No. of Data Breaches=%{marker.size}<extra></extra>",
         "hovertext": [
          "Hungary"
         ],
         "legendgroup": "Hungary",
         "marker": {
          "color": "#EF553B",
          "size": [
           603
          ],
          "sizemode": "area",
          "sizeref": 2.266,
          "symbol": "circle"
         },
         "mode": "markers",
         "name": "Hungary",
         "showlegend": true,
         "type": "scatter",
         "x": [
          9722
         ],
         "xaxis": "x",
         "y": [
          603
         ],
         "yaxis": "y"
        },
        {
         "hovertemplate": "<b>%{hovertext}</b><br><br>Country=Norway<br>Population in thousands (2017)=%{x}<br>No. of Data Breaches=%{marker.size}<extra></extra>",
         "hovertext": [
          "Norway"
         ],
         "legendgroup": "Norway",
         "marker": {
          "color": "#00cc96",
          "size": [
           598
          ],
          "sizemode": "area",
          "sizeref": 2.266,
          "symbol": "circle"
         },
         "mode": "markers",
         "name": "Norway",
         "showlegend": true,
         "type": "scatter",
         "x": [
          5305
         ],
         "xaxis": "x",
         "y": [
          598
         ],
         "yaxis": "y"
        },
        {
         "hovertemplate": "<b>%{hovertext}</b><br><br>Country=Switzerland<br>Population in thousands (2017)=%{x}<br>No. of Data Breaches=%{marker.size}<extra></extra>",
         "hovertext": [
          "Switzerland"
         ],
         "legendgroup": "Switzerland",
         "marker": {
          "color": "#ab63fa",
          "size": [
           574
          ],
          "sizemode": "area",
          "sizeref": 2.266,
          "symbol": "circle"
         },
         "mode": "markers",
         "name": "Switzerland",
         "showlegend": true,
         "type": "scatter",
         "x": [
          8476
         ],
         "xaxis": "x",
         "y": [
          574
         ],
         "yaxis": "y"
        },
        {
         "hovertemplate": "<b>%{hovertext}</b><br><br>Country=Viet Nam<br>Population in thousands (2017)=%{x}<br>No. of Data Breaches=%{marker.size}<extra></extra>",
         "hovertext": [
          "Viet Nam"
         ],
         "legendgroup": "Viet Nam",
         "marker": {
          "color": "#FFA15A",
          "size": [
           555
          ],
          "sizemode": "area",
          "sizeref": 2.266,
          "symbol": "circle"
         },
         "mode": "markers",
         "name": "Viet Nam",
         "showlegend": true,
         "type": "scatter",
         "x": [
          95541
         ],
         "xaxis": "x",
         "y": [
          555
         ],
         "yaxis": "y"
        },
        {
         "hovertemplate": "<b>%{hovertext}</b><br><br>Country=Greece<br>Population in thousands (2017)=%{x}<br>No. of Data Breaches=%{marker.size}<extra></extra>",
         "hovertext": [
          "Greece"
         ],
         "legendgroup": "Greece",
         "marker": {
          "color": "#19d3f3",
          "size": [
           545
          ],
          "sizemode": "area",
          "sizeref": 2.266,
          "symbol": "circle"
         },
         "mode": "markers",
         "name": "Greece",
         "showlegend": true,
         "type": "scatter",
         "x": [
          11160
         ],
         "xaxis": "x",
         "y": [
          545
         ],
         "yaxis": "y"
        },
        {
         "hovertemplate": "<b>%{hovertext}</b><br><br>Country=Slovenia<br>Population in thousands (2017)=%{x}<br>No. of Data Breaches=%{marker.size}<extra></extra>",
         "hovertext": [
          "Slovenia"
         ],
         "legendgroup": "Slovenia",
         "marker": {
          "color": "#FF6692",
          "size": [
           537
          ],
          "sizemode": "area",
          "sizeref": 2.266,
          "symbol": "circle"
         },
         "mode": "markers",
         "name": "Slovenia",
         "showlegend": true,
         "type": "scatter",
         "x": [
          2080
         ],
         "xaxis": "x",
         "y": [
          537
         ],
         "yaxis": "y"
        },
        {
         "hovertemplate": "<b>%{hovertext}</b><br><br>Country=India<br>Population in thousands (2017)=%{x}<br>No. of Data Breaches=%{marker.size}<extra></extra>",
         "hovertext": [
          "India"
         ],
         "legendgroup": "India",
         "marker": {
          "color": "#B6E880",
          "size": [
           531
          ],
          "sizemode": "area",
          "sizeref": 2.266,
          "symbol": "circle"
         },
         "mode": "markers",
         "name": "India",
         "showlegend": true,
         "type": "scatter",
         "x": [
          1339180
         ],
         "xaxis": "x",
         "y": [
          531
         ],
         "yaxis": "y"
        },
        {
         "hovertemplate": "<b>%{hovertext}</b><br><br>Country=Romania<br>Population in thousands (2017)=%{x}<br>No. of Data Breaches=%{marker.size}<extra></extra>",
         "hovertext": [
          "Romania"
         ],
         "legendgroup": "Romania",
         "marker": {
          "color": "#FF97FF",
          "size": [
           482
          ],
          "sizemode": "area",
          "sizeref": 2.266,
          "symbol": "circle"
         },
         "mode": "markers",
         "name": "Romania",
         "showlegend": true,
         "type": "scatter",
         "x": [
          19679
         ],
         "xaxis": "x",
         "y": [
          482
         ],
         "yaxis": "y"
        },
        {
         "hovertemplate": "<b>%{hovertext}</b><br><br>Country=Israel<br>Population in thousands (2017)=%{x}<br>No. of Data Breaches=%{marker.size}<extra></extra>",
         "hovertext": [
          "Israel"
         ],
         "legendgroup": "Israel",
         "marker": {
          "color": "#FECB52",
          "size": [
           459
          ],
          "sizemode": "area",
          "sizeref": 2.266,
          "symbol": "circle"
         },
         "mode": "markers",
         "name": "Israel",
         "showlegend": true,
         "type": "scatter",
         "x": [
          8322
         ],
         "xaxis": "x",
         "y": [
          459
         ],
         "yaxis": "y"
        },
        {
         "hovertemplate": "<b>%{hovertext}</b><br><br>Country=South Africa<br>Population in thousands (2017)=%{x}<br>No. of Data Breaches=%{marker.size}<extra></extra>",
         "hovertext": [
          "South Africa"
         ],
         "legendgroup": "South Africa",
         "marker": {
          "color": "#636efa",
          "size": [
           440
          ],
          "sizemode": "area",
          "sizeref": 2.266,
          "symbol": "circle"
         },
         "mode": "markers",
         "name": "South Africa",
         "showlegend": true,
         "type": "scatter",
         "x": [
          56717
         ],
         "xaxis": "x",
         "y": [
          440
         ],
         "yaxis": "y"
        },
        {
         "hovertemplate": "<b>%{hovertext}</b><br><br>Country=Malaysia<br>Population in thousands (2017)=%{x}<br>No. of Data Breaches=%{marker.size}<extra></extra>",
         "hovertext": [
          "Malaysia"
         ],
         "legendgroup": "Malaysia",
         "marker": {
          "color": "#EF553B",
          "size": [
           403
          ],
          "sizemode": "area",
          "sizeref": 2.266,
          "symbol": "circle"
         },
         "mode": "markers",
         "name": "Malaysia",
         "showlegend": true,
         "type": "scatter",
         "x": [
          31624
         ],
         "xaxis": "x",
         "y": [
          403
         ],
         "yaxis": "y"
        },
        {
         "hovertemplate": "<b>%{hovertext}</b><br><br>Country=Singapore<br>Population in thousands (2017)=%{x}<br>No. of Data Breaches=%{marker.size}<extra></extra>",
         "hovertext": [
          "Singapore"
         ],
         "legendgroup": "Singapore",
         "marker": {
          "color": "#00cc96",
          "size": [
           396
          ],
          "sizemode": "area",
          "sizeref": 2.266,
          "symbol": "circle"
         },
         "mode": "markers",
         "name": "Singapore",
         "showlegend": true,
         "type": "scatter",
         "x": [
          5709
         ],
         "xaxis": "x",
         "y": [
          396
         ],
         "yaxis": "y"
        },
        {
         "hovertemplate": "<b>%{hovertext}</b><br><br>Country=Sweden<br>Population in thousands (2017)=%{x}<br>No. of Data Breaches=%{marker.size}<extra></extra>",
         "hovertext": [
          "Sweden"
         ],
         "legendgroup": "Sweden",
         "marker": {
          "color": "#ab63fa",
          "size": [
           383
          ],
          "sizemode": "area",
          "sizeref": 2.266,
          "symbol": "circle"
         },
         "mode": "markers",
         "name": "Sweden",
         "showlegend": true,
         "type": "scatter",
         "x": [
          9911
         ],
         "xaxis": "x",
         "y": [
          383
         ],
         "yaxis": "y"
        },
        {
         "hovertemplate": "<b>%{hovertext}</b><br><br>Country=Belgium<br>Population in thousands (2017)=%{x}<br>No. of Data Breaches=%{marker.size}<extra></extra>",
         "hovertext": [
          "Belgium"
         ],
         "legendgroup": "Belgium",
         "marker": {
          "color": "#FFA15A",
          "size": [
           367
          ],
          "sizemode": "area",
          "sizeref": 2.266,
          "symbol": "circle"
         },
         "mode": "markers",
         "name": "Belgium",
         "showlegend": true,
         "type": "scatter",
         "x": [
          11429
         ],
         "xaxis": "x",
         "y": [
          367
         ],
         "yaxis": "y"
        },
        {
         "hovertemplate": "<b>%{hovertext}</b><br><br>Country=Slovakia<br>Population in thousands (2017)=%{x}<br>No. of Data Breaches=%{marker.size}<extra></extra>",
         "hovertext": [
          "Slovakia"
         ],
         "legendgroup": "Slovakia",
         "marker": {
          "color": "#19d3f3",
          "size": [
           330
          ],
          "sizemode": "area",
          "sizeref": 2.266,
          "symbol": "circle"
         },
         "mode": "markers",
         "name": "Slovakia",
         "showlegend": true,
         "type": "scatter",
         "x": [
          5448
         ],
         "xaxis": "x",
         "y": [
          330
         ],
         "yaxis": "y"
        },
        {
         "hovertemplate": "<b>%{hovertext}</b><br><br>Country=Austria<br>Population in thousands (2017)=%{x}<br>No. of Data Breaches=%{marker.size}<extra></extra>",
         "hovertext": [
          "Austria"
         ],
         "legendgroup": "Austria",
         "marker": {
          "color": "#FF6692",
          "size": [
           318
          ],
          "sizemode": "area",
          "sizeref": 2.266,
          "symbol": "circle"
         },
         "mode": "markers",
         "name": "Austria",
         "showlegend": true,
         "type": "scatter",
         "x": [
          8736
         ],
         "xaxis": "x",
         "y": [
          318
         ],
         "yaxis": "y"
        },
        {
         "hovertemplate": "<b>%{hovertext}</b><br><br>Country=Lithuania<br>Population in thousands (2017)=%{x}<br>No. of Data Breaches=%{marker.size}<extra></extra>",
         "hovertext": [
          "Lithuania"
         ],
         "legendgroup": "Lithuania",
         "marker": {
          "color": "#B6E880",
          "size": [
           221
          ],
          "sizemode": "area",
          "sizeref": 2.266,
          "symbol": "circle"
         },
         "mode": "markers",
         "name": "Lithuania",
         "showlegend": true,
         "type": "scatter",
         "x": [
          2890
         ],
         "xaxis": "x",
         "y": [
          221
         ],
         "yaxis": "y"
        },
        {
         "hovertemplate": "<b>%{hovertext}</b><br><br>Country=Portugal<br>Population in thousands (2017)=%{x}<br>No. of Data Breaches=%{marker.size}<extra></extra>",
         "hovertext": [
          "Portugal"
         ],
         "legendgroup": "Portugal",
         "marker": {
          "color": "#FF97FF",
          "size": [
           219
          ],
          "sizemode": "area",
          "sizeref": 2.266,
          "symbol": "circle"
         },
         "mode": "markers",
         "name": "Portugal",
         "showlegend": true,
         "type": "scatter",
         "x": [
          10330
         ],
         "xaxis": "x",
         "y": [
          219
         ],
         "yaxis": "y"
        },
        {
         "hovertemplate": "<b>%{hovertext}</b><br><br>Country=Peru<br>Population in thousands (2017)=%{x}<br>No. of Data Breaches=%{marker.size}<extra></extra>",
         "hovertext": [
          "Peru"
         ],
         "legendgroup": "Peru",
         "marker": {
          "color": "#FECB52",
          "size": [
           218
          ],
          "sizemode": "area",
          "sizeref": 2.266,
          "symbol": "circle"
         },
         "mode": "markers",
         "name": "Peru",
         "showlegend": true,
         "type": "scatter",
         "x": [
          32166
         ],
         "xaxis": "x",
         "y": [
          218
         ],
         "yaxis": "y"
        },
        {
         "hovertemplate": "<b>%{hovertext}</b><br><br>Country=Estonia<br>Population in thousands (2017)=%{x}<br>No. of Data Breaches=%{marker.size}<extra></extra>",
         "hovertext": [
          "Estonia"
         ],
         "legendgroup": "Estonia",
         "marker": {
          "color": "#636efa",
          "size": [
           214
          ],
          "sizemode": "area",
          "sizeref": 2.266,
          "symbol": "circle"
         },
         "mode": "markers",
         "name": "Estonia",
         "showlegend": true,
         "type": "scatter",
         "x": [
          1310
         ],
         "xaxis": "x",
         "y": [
          214
         ],
         "yaxis": "y"
        },
        {
         "hovertemplate": "<b>%{hovertext}</b><br><br>Country=Colombia<br>Population in thousands (2017)=%{x}<br>No. of Data Breaches=%{marker.size}<extra></extra>",
         "hovertext": [
          "Colombia"
         ],
         "legendgroup": "Colombia",
         "marker": {
          "color": "#EF553B",
          "size": [
           191
          ],
          "sizemode": "area",
          "sizeref": 2.266,
          "symbol": "circle"
         },
         "mode": "markers",
         "name": "Colombia",
         "showlegend": true,
         "type": "scatter",
         "x": [
          49066
         ],
         "xaxis": "x",
         "y": [
          191
         ],
         "yaxis": "y"
        },
        {
         "hovertemplate": "<b>%{hovertext}</b><br><br>Country=New Zealand<br>Population in thousands (2017)=%{x}<br>No. of Data Breaches=%{marker.size}<extra></extra>",
         "hovertext": [
          "New Zealand"
         ],
         "legendgroup": "New Zealand",
         "marker": {
          "color": "#00cc96",
          "size": [
           191
          ],
          "sizemode": "area",
          "sizeref": 2.266,
          "symbol": "circle"
         },
         "mode": "markers",
         "name": "New Zealand",
         "showlegend": true,
         "type": "scatter",
         "x": [
          4706
         ],
         "xaxis": "x",
         "y": [
          191
         ],
         "yaxis": "y"
        },
        {
         "hovertemplate": "<b>%{hovertext}</b><br><br>Country=Bulgaria<br>Population in thousands (2017)=%{x}<br>No. of Data Breaches=%{marker.size}<extra></extra>",
         "hovertext": [
          "Bulgaria"
         ],
         "legendgroup": "Bulgaria",
         "marker": {
          "color": "#ab63fa",
          "size": [
           149
          ],
          "sizemode": "area",
          "sizeref": 2.266,
          "symbol": "circle"
         },
         "mode": "markers",
         "name": "Bulgaria",
         "showlegend": true,
         "type": "scatter",
         "x": [
          7085
         ],
         "xaxis": "x",
         "y": [
          149
         ],
         "yaxis": "y"
        },
        {
         "hovertemplate": "<b>%{hovertext}</b><br><br>Country=Philippines<br>Population in thousands (2017)=%{x}<br>No. of Data Breaches=%{marker.size}<extra></extra>",
         "hovertext": [
          "Philippines"
         ],
         "legendgroup": "Philippines",
         "marker": {
          "color": "#FFA15A",
          "size": [
           139
          ],
          "sizemode": "area",
          "sizeref": 2.266,
          "symbol": "circle"
         },
         "mode": "markers",
         "name": "Philippines",
         "showlegend": true,
         "type": "scatter",
         "x": [
          104918
         ],
         "xaxis": "x",
         "y": [
          139
         ],
         "yaxis": "y"
        },
        {
         "hovertemplate": "<b>%{hovertext}</b><br><br>Country=Bangladesh<br>Population in thousands (2017)=%{x}<br>No. of Data Breaches=%{marker.size}<extra></extra>",
         "hovertext": [
          "Bangladesh"
         ],
         "legendgroup": "Bangladesh",
         "marker": {
          "color": "#19d3f3",
          "size": [
           130
          ],
          "sizemode": "area",
          "sizeref": 2.266,
          "symbol": "circle"
         },
         "mode": "markers",
         "name": "Bangladesh",
         "showlegend": true,
         "type": "scatter",
         "x": [
          164670
         ],
         "xaxis": "x",
         "y": [
          130
         ],
         "yaxis": "y"
        },
        {
         "hovertemplate": "<b>%{hovertext}</b><br><br>Country=Morocco<br>Population in thousands (2017)=%{x}<br>No. of Data Breaches=%{marker.size}<extra></extra>",
         "hovertext": [
          "Morocco"
         ],
         "legendgroup": "Morocco",
         "marker": {
          "color": "#FF6692",
          "size": [
           129
          ],
          "sizemode": "area",
          "sizeref": 2.266,
          "symbol": "circle"
         },
         "mode": "markers",
         "name": "Morocco",
         "showlegend": true,
         "type": "scatter",
         "x": [
          35740
         ],
         "xaxis": "x",
         "y": [
          129
         ],
         "yaxis": "y"
        },
        {
         "hovertemplate": "<b>%{hovertext}</b><br><br>Country=Pakistan<br>Population in thousands (2017)=%{x}<br>No. of Data Breaches=%{marker.size}<extra></extra>",
         "hovertext": [
          "Pakistan"
         ],
         "legendgroup": "Pakistan",
         "marker": {
          "color": "#B6E880",
          "size": [
           119
          ],
          "sizemode": "area",
          "sizeref": 2.266,
          "symbol": "circle"
         },
         "mode": "markers",
         "name": "Pakistan",
         "showlegend": true,
         "type": "scatter",
         "x": [
          197016
         ],
         "xaxis": "x",
         "y": [
          119
         ],
         "yaxis": "y"
        },
        {
         "hovertemplate": "<b>%{hovertext}</b><br><br>Country=Egypt<br>Population in thousands (2017)=%{x}<br>No. of Data Breaches=%{marker.size}<extra></extra>",
         "hovertext": [
          "Egypt"
         ],
         "legendgroup": "Egypt",
         "marker": {
          "color": "#FF97FF",
          "size": [
           112
          ],
          "sizemode": "area",
          "sizeref": 2.266,
          "symbol": "circle"
         },
         "mode": "markers",
         "name": "Egypt",
         "showlegend": true,
         "type": "scatter",
         "x": [
          97553
         ],
         "xaxis": "x",
         "y": [
          112
         ],
         "yaxis": "y"
        },
        {
         "hovertemplate": "<b>%{hovertext}</b><br><br>Country=Kazakhstan<br>Population in thousands (2017)=%{x}<br>No. of Data Breaches=%{marker.size}<extra></extra>",
         "hovertext": [
          "Kazakhstan"
         ],
         "legendgroup": "Kazakhstan",
         "marker": {
          "color": "#FECB52",
          "size": [
           103
          ],
          "sizemode": "area",
          "sizeref": 2.266,
          "symbol": "circle"
         },
         "mode": "markers",
         "name": "Kazakhstan",
         "showlegend": true,
         "type": "scatter",
         "x": [
          18204
         ],
         "xaxis": "x",
         "y": [
          103
         ],
         "yaxis": "y"
        },
        {
         "hovertemplate": "<b>%{hovertext}</b><br><br>Country=Croatia<br>Population in thousands (2017)=%{x}<br>No. of Data Breaches=%{marker.size}<extra></extra>",
         "hovertext": [
          "Croatia"
         ],
         "legendgroup": "Croatia",
         "marker": {
          "color": "#636efa",
          "size": [
           101
          ],
          "sizemode": "area",
          "sizeref": 2.266,
          "symbol": "circle"
         },
         "mode": "markers",
         "name": "Croatia",
         "showlegend": true,
         "type": "scatter",
         "x": [
          4189
         ],
         "xaxis": "x",
         "y": [
          101
         ],
         "yaxis": "y"
        },
        {
         "hovertemplate": "<b>%{hovertext}</b><br><br>Country=Tunisia<br>Population in thousands (2017)=%{x}<br>No. of Data Breaches=%{marker.size}<extra></extra>",
         "hovertext": [
          "Tunisia"
         ],
         "legendgroup": "Tunisia",
         "marker": {
          "color": "#EF553B",
          "size": [
           83
          ],
          "sizemode": "area",
          "sizeref": 2.266,
          "symbol": "circle"
         },
         "mode": "markers",
         "name": "Tunisia",
         "showlegend": true,
         "type": "scatter",
         "x": [
          11532
         ],
         "xaxis": "x",
         "y": [
          83
         ],
         "yaxis": "y"
        },
        {
         "hovertemplate": "<b>%{hovertext}</b><br><br>Country=Serbia<br>Population in thousands (2017)=%{x}<br>No. of Data Breaches=%{marker.size}<extra></extra>",
         "hovertext": [
          "Serbia"
         ],
         "legendgroup": "Serbia",
         "marker": {
          "color": "#00cc96",
          "size": [
           82
          ],
          "sizemode": "area",
          "sizeref": 2.266,
          "symbol": "circle"
         },
         "mode": "markers",
         "name": "Serbia",
         "showlegend": true,
         "type": "scatter",
         "x": [
          8791
         ],
         "xaxis": "x",
         "y": [
          82
         ],
         "yaxis": "y"
        },
        {
         "hovertemplate": "<b>%{hovertext}</b><br><br>Country=Finland<br>Population in thousands (2017)=%{x}<br>No. of Data Breaches=%{marker.size}<extra></extra>",
         "hovertext": [
          "Finland"
         ],
         "legendgroup": "Finland",
         "marker": {
          "color": "#ab63fa",
          "size": [
           81
          ],
          "sizemode": "area",
          "sizeref": 2.266,
          "symbol": "circle"
         },
         "mode": "markers",
         "name": "Finland",
         "showlegend": true,
         "type": "scatter",
         "x": [
          5523
         ],
         "xaxis": "x",
         "y": [
          81
         ],
         "yaxis": "y"
        },
        {
         "hovertemplate": "<b>%{hovertext}</b><br><br>Country=Sri Lanka<br>Population in thousands (2017)=%{x}<br>No. of Data Breaches=%{marker.size}<extra></extra>",
         "hovertext": [
          "Sri Lanka"
         ],
         "legendgroup": "Sri Lanka",
         "marker": {
          "color": "#FFA15A",
          "size": [
           77
          ],
          "sizemode": "area",
          "sizeref": 2.266,
          "symbol": "circle"
         },
         "mode": "markers",
         "name": "Sri Lanka",
         "showlegend": true,
         "type": "scatter",
         "x": [
          20877
         ],
         "xaxis": "x",
         "y": [
          77
         ],
         "yaxis": "y"
        },
        {
         "hovertemplate": "<b>%{hovertext}</b><br><br>Country=Ecuador<br>Population in thousands (2017)=%{x}<br>No. of Data Breaches=%{marker.size}<extra></extra>",
         "hovertext": [
          "Ecuador"
         ],
         "legendgroup": "Ecuador",
         "marker": {
          "color": "#19d3f3",
          "size": [
           53
          ],
          "sizemode": "area",
          "sizeref": 2.266,
          "symbol": "circle"
         },
         "mode": "markers",
         "name": "Ecuador",
         "showlegend": true,
         "type": "scatter",
         "x": [
          16625
         ],
         "xaxis": "x",
         "y": [
          53
         ],
         "yaxis": "y"
        },
        {
         "hovertemplate": "<b>%{hovertext}</b><br><br>Country=Belarus<br>Population in thousands (2017)=%{x}<br>No. of Data Breaches=%{marker.size}<extra></extra>",
         "hovertext": [
          "Belarus"
         ],
         "legendgroup": "Belarus",
         "marker": {
          "color": "#FF6692",
          "size": [
           52
          ],
          "sizemode": "area",
          "sizeref": 2.266,
          "symbol": "circle"
         },
         "mode": "markers",
         "name": "Belarus",
         "showlegend": true,
         "type": "scatter",
         "x": [
          9468
         ],
         "xaxis": "x",
         "y": [
          52
         ],
         "yaxis": "y"
        },
        {
         "hovertemplate": "<b>%{hovertext}</b><br><br>Country=Uruguay<br>Population in thousands (2017)=%{x}<br>No. of Data Breaches=%{marker.size}<extra></extra>",
         "hovertext": [
          "Uruguay"
         ],
         "legendgroup": "Uruguay",
         "marker": {
          "color": "#B6E880",
          "size": [
           47
          ],
          "sizemode": "area",
          "sizeref": 2.266,
          "symbol": "circle"
         },
         "mode": "markers",
         "name": "Uruguay",
         "showlegend": true,
         "type": "scatter",
         "x": [
          3457
         ],
         "xaxis": "x",
         "y": [
          47
         ],
         "yaxis": "y"
        },
        {
         "hovertemplate": "<b>%{hovertext}</b><br><br>Country=Latvia<br>Population in thousands (2017)=%{x}<br>No. of Data Breaches=%{marker.size}<extra></extra>",
         "hovertext": [
          "Latvia"
         ],
         "legendgroup": "Latvia",
         "marker": {
          "color": "#FF97FF",
          "size": [
           44
          ],
          "sizemode": "area",
          "sizeref": 2.266,
          "symbol": "circle"
         },
         "mode": "markers",
         "name": "Latvia",
         "showlegend": true,
         "type": "scatter",
         "x": [
          1950
         ],
         "xaxis": "x",
         "y": [
          44
         ],
         "yaxis": "y"
        },
        {
         "hovertemplate": "<b>%{hovertext}</b><br><br>Country=Albania<br>Population in thousands (2017)=%{x}<br>No. of Data Breaches=%{marker.size}<extra></extra>",
         "hovertext": [
          "Albania"
         ],
         "legendgroup": "Albania",
         "marker": {
          "color": "#FECB52",
          "size": [
           42
          ],
          "sizemode": "area",
          "sizeref": 2.266,
          "symbol": "circle"
         },
         "mode": "markers",
         "name": "Albania",
         "showlegend": true,
         "type": "scatter",
         "x": [
          2930
         ],
         "xaxis": "x",
         "y": [
          42
         ],
         "yaxis": "y"
        },
        {
         "hovertemplate": "<b>%{hovertext}</b><br><br>Country=Nepal<br>Population in thousands (2017)=%{x}<br>No. of Data Breaches=%{marker.size}<extra></extra>",
         "hovertext": [
          "Nepal"
         ],
         "legendgroup": "Nepal",
         "marker": {
          "color": "#636efa",
          "size": [
           41
          ],
          "sizemode": "area",
          "sizeref": 2.266,
          "symbol": "circle"
         },
         "mode": "markers",
         "name": "Nepal",
         "showlegend": true,
         "type": "scatter",
         "x": [
          29305
         ],
         "xaxis": "x",
         "y": [
          41
         ],
         "yaxis": "y"
        },
        {
         "hovertemplate": "<b>%{hovertext}</b><br><br>Country=Luxembourg<br>Population in thousands (2017)=%{x}<br>No. of Data Breaches=%{marker.size}<extra></extra>",
         "hovertext": [
          "Luxembourg"
         ],
         "legendgroup": "Luxembourg",
         "marker": {
          "color": "#EF553B",
          "size": [
           39
          ],
          "sizemode": "area",
          "sizeref": 2.266,
          "symbol": "circle"
         },
         "mode": "markers",
         "name": "Luxembourg",
         "showlegend": true,
         "type": "scatter",
         "x": [
          584
         ],
         "xaxis": "x",
         "y": [
          39
         ],
         "yaxis": "y"
        },
        {
         "hovertemplate": "<b>%{hovertext}</b><br><br>Country=Honduras<br>Population in thousands (2017)=%{x}<br>No. of Data Breaches=%{marker.size}<extra></extra>",
         "hovertext": [
          "Honduras"
         ],
         "legendgroup": "Honduras",
         "marker": {
          "color": "#00cc96",
          "size": [
           37
          ],
          "sizemode": "area",
          "sizeref": 2.266,
          "symbol": "circle"
         },
         "mode": "markers",
         "name": "Honduras",
         "showlegend": true,
         "type": "scatter",
         "x": [
          9265
         ],
         "xaxis": "x",
         "y": [
          37
         ],
         "yaxis": "y"
        },
        {
         "hovertemplate": "<b>%{hovertext}</b><br><br>Country=Haiti<br>Population in thousands (2017)=%{x}<br>No. of Data Breaches=%{marker.size}<extra></extra>",
         "hovertext": [
          "Haiti"
         ],
         "legendgroup": "Haiti",
         "marker": {
          "color": "#ab63fa",
          "size": [
           32
          ],
          "sizemode": "area",
          "sizeref": 2.266,
          "symbol": "circle"
         },
         "mode": "markers",
         "name": "Haiti",
         "showlegend": true,
         "type": "scatter",
         "x": [
          10981
         ],
         "xaxis": "x",
         "y": [
          32
         ],
         "yaxis": "y"
        },
        {
         "hovertemplate": "<b>%{hovertext}</b><br><br>Country=Niue<br>Population in thousands (2017)=%{x}<br>No. of Data Breaches=%{marker.size}<extra></extra>",
         "hovertext": [
          "Niue"
         ],
         "legendgroup": "Niue",
         "marker": {
          "color": "#FFA15A",
          "size": [
           31
          ],
          "sizemode": "area",
          "sizeref": 2.266,
          "symbol": "circle"
         },
         "mode": "markers",
         "name": "Niue",
         "showlegend": true,
         "type": "scatter",
         "x": [
          2
         ],
         "xaxis": "x",
         "y": [
          31
         ],
         "yaxis": "y"
        },
        {
         "hovertemplate": "<b>%{hovertext}</b><br><br>Country=Panama<br>Population in thousands (2017)=%{x}<br>No. of Data Breaches=%{marker.size}<extra></extra>",
         "hovertext": [
          "Panama"
         ],
         "legendgroup": "Panama",
         "marker": {
          "color": "#19d3f3",
          "size": [
           30
          ],
          "sizemode": "area",
          "sizeref": 2.266,
          "symbol": "circle"
         },
         "mode": "markers",
         "name": "Panama",
         "showlegend": true,
         "type": "scatter",
         "x": [
          4099
         ],
         "xaxis": "x",
         "y": [
          30
         ],
         "yaxis": "y"
        },
        {
         "hovertemplate": "<b>%{hovertext}</b><br><br>Country=Syrian Arab Republic<br>Population in thousands (2017)=%{x}<br>No. of Data Breaches=%{marker.size}<extra></extra>",
         "hovertext": [
          "Syrian Arab Republic"
         ],
         "legendgroup": "Syrian Arab Republic",
         "marker": {
          "color": "#FF6692",
          "size": [
           28
          ],
          "sizemode": "area",
          "sizeref": 2.266,
          "symbol": "circle"
         },
         "mode": "markers",
         "name": "Syrian Arab Republic",
         "showlegend": true,
         "type": "scatter",
         "x": [
          18270
         ],
         "xaxis": "x",
         "y": [
          28
         ],
         "yaxis": "y"
        },
        {
         "hovertemplate": "<b>%{hovertext}</b><br><br>Country=Iceland<br>Population in thousands (2017)=%{x}<br>No. of Data Breaches=%{marker.size}<extra></extra>",
         "hovertext": [
          "Iceland"
         ],
         "legendgroup": "Iceland",
         "marker": {
          "color": "#B6E880",
          "size": [
           28
          ],
          "sizemode": "area",
          "sizeref": 2.266,
          "symbol": "circle"
         },
         "mode": "markers",
         "name": "Iceland",
         "showlegend": true,
         "type": "scatter",
         "x": [
          335
         ],
         "xaxis": "x",
         "y": [
          28
         ],
         "yaxis": "y"
        },
        {
         "hovertemplate": "<b>%{hovertext}</b><br><br>Country=Georgia<br>Population in thousands (2017)=%{x}<br>No. of Data Breaches=%{marker.size}<extra></extra>",
         "hovertext": [
          "Georgia"
         ],
         "legendgroup": "Georgia",
         "marker": {
          "color": "#FF97FF",
          "size": [
           27
          ],
          "sizemode": "area",
          "sizeref": 2.266,
          "symbol": "circle"
         },
         "mode": "markers",
         "name": "Georgia",
         "showlegend": true,
         "type": "scatter",
         "x": [
          3912
         ],
         "xaxis": "x",
         "y": [
          27
         ],
         "yaxis": "y"
        },
        {
         "hovertemplate": "<b>%{hovertext}</b><br><br>Country=Jordan<br>Population in thousands (2017)=%{x}<br>No. of Data Breaches=%{marker.size}<extra></extra>",
         "hovertext": [
          "Jordan"
         ],
         "legendgroup": "Jordan",
         "marker": {
          "color": "#FECB52",
          "size": [
           25
          ],
          "sizemode": "area",
          "sizeref": 2.266,
          "symbol": "circle"
         },
         "mode": "markers",
         "name": "Jordan",
         "showlegend": true,
         "type": "scatter",
         "x": [
          9702
         ],
         "xaxis": "x",
         "y": [
          25
         ],
         "yaxis": "y"
        },
        {
         "hovertemplate": "<b>%{hovertext}</b><br><br>Country=Paraguay<br>Population in thousands (2017)=%{x}<br>No. of Data Breaches=%{marker.size}<extra></extra>",
         "hovertext": [
          "Paraguay"
         ],
         "legendgroup": "Paraguay",
         "marker": {
          "color": "#636efa",
          "size": [
           24
          ],
          "sizemode": "area",
          "sizeref": 2.266,
          "symbol": "circle"
         },
         "mode": "markers",
         "name": "Paraguay",
         "showlegend": true,
         "type": "scatter",
         "x": [
          6811
         ],
         "xaxis": "x",
         "y": [
          24
         ],
         "yaxis": "y"
        },
        {
         "hovertemplate": "<b>%{hovertext}</b><br><br>Country=Montenegro<br>Population in thousands (2017)=%{x}<br>No. of Data Breaches=%{marker.size}<extra></extra>",
         "hovertext": [
          "Montenegro"
         ],
         "legendgroup": "Montenegro",
         "marker": {
          "color": "#EF553B",
          "size": [
           23
          ],
          "sizemode": "area",
          "sizeref": 2.266,
          "symbol": "circle"
         },
         "mode": "markers",
         "name": "Montenegro",
         "showlegend": true,
         "type": "scatter",
         "x": [
          629
         ],
         "xaxis": "x",
         "y": [
          23
         ],
         "yaxis": "y"
        },
        {
         "hovertemplate": "<b>%{hovertext}</b><br><br>Country=Nicaragua<br>Population in thousands (2017)=%{x}<br>No. of Data Breaches=%{marker.size}<extra></extra>",
         "hovertext": [
          "Nicaragua"
         ],
         "legendgroup": "Nicaragua",
         "marker": {
          "color": "#00cc96",
          "size": [
           23
          ],
          "sizemode": "area",
          "sizeref": 2.266,
          "symbol": "circle"
         },
         "mode": "markers",
         "name": "Nicaragua",
         "showlegend": true,
         "type": "scatter",
         "x": [
          6218
         ],
         "xaxis": "x",
         "y": [
          23
         ],
         "yaxis": "y"
        },
        {
         "hovertemplate": "<b>%{hovertext}</b><br><br>Country=Bhutan<br>Population in thousands (2017)=%{x}<br>No. of Data Breaches=%{marker.size}<extra></extra>",
         "hovertext": [
          "Bhutan"
         ],
         "legendgroup": "Bhutan",
         "marker": {
          "color": "#ab63fa",
          "size": [
           22
          ],
          "sizemode": "area",
          "sizeref": 2.266,
          "symbol": "circle"
         },
         "mode": "markers",
         "name": "Bhutan",
         "showlegend": true,
         "type": "scatter",
         "x": [
          808
         ],
         "xaxis": "x",
         "y": [
          22
         ],
         "yaxis": "y"
        },
        {
         "hovertemplate": "<b>%{hovertext}</b><br><br>Country=Senegal<br>Population in thousands (2017)=%{x}<br>No. of Data Breaches=%{marker.size}<extra></extra>",
         "hovertext": [
          "Senegal"
         ],
         "legendgroup": "Senegal",
         "marker": {
          "color": "#FFA15A",
          "size": [
           22
          ],
          "sizemode": "area",
          "sizeref": 2.266,
          "symbol": "circle"
         },
         "mode": "markers",
         "name": "Senegal",
         "showlegend": true,
         "type": "scatter",
         "x": [
          15851
         ],
         "xaxis": "x",
         "y": [
          22
         ],
         "yaxis": "y"
        },
        {
         "hovertemplate": "<b>%{hovertext}</b><br><br>Country=Kenya<br>Population in thousands (2017)=%{x}<br>No. of Data Breaches=%{marker.size}<extra></extra>",
         "hovertext": [
          "Kenya"
         ],
         "legendgroup": "Kenya",
         "marker": {
          "color": "#19d3f3",
          "size": [
           22
          ],
          "sizemode": "area",
          "sizeref": 2.266,
          "symbol": "circle"
         },
         "mode": "markers",
         "name": "Kenya",
         "showlegend": true,
         "type": "scatter",
         "x": [
          49700
         ],
         "xaxis": "x",
         "y": [
          22
         ],
         "yaxis": "y"
        },
        {
         "hovertemplate": "<b>%{hovertext}</b><br><br>Country=Cyprus<br>Population in thousands (2017)=%{x}<br>No. of Data Breaches=%{marker.size}<extra></extra>",
         "hovertext": [
          "Cyprus"
         ],
         "legendgroup": "Cyprus",
         "marker": {
          "color": "#FF6692",
          "size": [
           21
          ],
          "sizemode": "area",
          "sizeref": 2.266,
          "symbol": "circle"
         },
         "mode": "markers",
         "name": "Cyprus",
         "showlegend": true,
         "type": "scatter",
         "x": [
          1180
         ],
         "xaxis": "x",
         "y": [
          21
         ],
         "yaxis": "y"
        },
        {
         "hovertemplate": "<b>%{hovertext}</b><br><br>Country=Brunei Darussalam<br>Population in thousands (2017)=%{x}<br>No. of Data Breaches=%{marker.size}<extra></extra>",
         "hovertext": [
          "Brunei Darussalam"
         ],
         "legendgroup": "Brunei Darussalam",
         "marker": {
          "color": "#B6E880",
          "size": [
           21
          ],
          "sizemode": "area",
          "sizeref": 2.266,
          "symbol": "circle"
         },
         "mode": "markers",
         "name": "Brunei Darussalam",
         "showlegend": true,
         "type": "scatter",
         "x": [
          429
         ],
         "xaxis": "x",
         "y": [
          21
         ],
         "yaxis": "y"
        },
        {
         "hovertemplate": "<b>%{hovertext}</b><br><br>Country=Guatemala<br>Population in thousands (2017)=%{x}<br>No. of Data Breaches=%{marker.size}<extra></extra>",
         "hovertext": [
          "Guatemala"
         ],
         "legendgroup": "Guatemala",
         "marker": {
          "color": "#FF97FF",
          "size": [
           20
          ],
          "sizemode": "area",
          "sizeref": 2.266,
          "symbol": "circle"
         },
         "mode": "markers",
         "name": "Guatemala",
         "showlegend": true,
         "type": "scatter",
         "x": [
          16914
         ],
         "xaxis": "x",
         "y": [
          20
         ],
         "yaxis": "y"
        },
        {
         "hovertemplate": "<b>%{hovertext}</b><br><br>Country=Mozambique<br>Population in thousands (2017)=%{x}<br>No. of Data Breaches=%{marker.size}<extra></extra>",
         "hovertext": [
          "Mozambique"
         ],
         "legendgroup": "Mozambique",
         "marker": {
          "color": "#FECB52",
          "size": [
           20
          ],
          "sizemode": "area",
          "sizeref": 2.266,
          "symbol": "circle"
         },
         "mode": "markers",
         "name": "Mozambique",
         "showlegend": true,
         "type": "scatter",
         "x": [
          29669
         ],
         "xaxis": "x",
         "y": [
          20
         ],
         "yaxis": "y"
        },
        {
         "hovertemplate": "<b>%{hovertext}</b><br><br>Country=Armenia<br>Population in thousands (2017)=%{x}<br>No. of Data Breaches=%{marker.size}<extra></extra>",
         "hovertext": [
          "Armenia"
         ],
         "legendgroup": "Armenia",
         "marker": {
          "color": "#636efa",
          "size": [
           19
          ],
          "sizemode": "area",
          "sizeref": 2.266,
          "symbol": "circle"
         },
         "mode": "markers",
         "name": "Armenia",
         "showlegend": true,
         "type": "scatter",
         "x": [
          2930
         ],
         "xaxis": "x",
         "y": [
          19
         ],
         "yaxis": "y"
        },
        {
         "hovertemplate": "<b>%{hovertext}</b><br><br>Country=Tonga<br>Population in thousands (2017)=%{x}<br>No. of Data Breaches=%{marker.size}<extra></extra>",
         "hovertext": [
          "Tonga"
         ],
         "legendgroup": "Tonga",
         "marker": {
          "color": "#EF553B",
          "size": [
           19
          ],
          "sizemode": "area",
          "sizeref": 2.266,
          "symbol": "circle"
         },
         "mode": "markers",
         "name": "Tonga",
         "showlegend": true,
         "type": "scatter",
         "x": [
          108
         ],
         "xaxis": "x",
         "y": [
          19
         ],
         "yaxis": "y"
        },
        {
         "hovertemplate": "<b>%{hovertext}</b><br><br>Country=Rwanda<br>Population in thousands (2017)=%{x}<br>No. of Data Breaches=%{marker.size}<extra></extra>",
         "hovertext": [
          "Rwanda"
         ],
         "legendgroup": "Rwanda",
         "marker": {
          "color": "#00cc96",
          "size": [
           17
          ],
          "sizemode": "area",
          "sizeref": 2.266,
          "symbol": "circle"
         },
         "mode": "markers",
         "name": "Rwanda",
         "showlegend": true,
         "type": "scatter",
         "x": [
          12208
         ],
         "xaxis": "x",
         "y": [
          17
         ],
         "yaxis": "y"
        },
        {
         "hovertemplate": "<b>%{hovertext}</b><br><br>Country=Kuwait<br>Population in thousands (2017)=%{x}<br>No. of Data Breaches=%{marker.size}<extra></extra>",
         "hovertext": [
          "Kuwait"
         ],
         "legendgroup": "Kuwait",
         "marker": {
          "color": "#ab63fa",
          "size": [
           16
          ],
          "sizemode": "area",
          "sizeref": 2.266,
          "symbol": "circle"
         },
         "mode": "markers",
         "name": "Kuwait",
         "showlegend": true,
         "type": "scatter",
         "x": [
          4136
         ],
         "xaxis": "x",
         "y": [
          16
         ],
         "yaxis": "y"
        },
        {
         "hovertemplate": "<b>%{hovertext}</b><br><br>Country=Tuvalu<br>Population in thousands (2017)=%{x}<br>No. of Data Breaches=%{marker.size}<extra></extra>",
         "hovertext": [
          "Tuvalu"
         ],
         "legendgroup": "Tuvalu",
         "marker": {
          "color": "#FFA15A",
          "size": [
           16
          ],
          "sizemode": "area",
          "sizeref": 2.266,
          "symbol": "circle"
         },
         "mode": "markers",
         "name": "Tuvalu",
         "showlegend": true,
         "type": "scatter",
         "x": [
          11
         ],
         "xaxis": "x",
         "y": [
          16
         ],
         "yaxis": "y"
        },
        {
         "hovertemplate": "<b>%{hovertext}</b><br><br>Country=Malawi<br>Population in thousands (2017)=%{x}<br>No. of Data Breaches=%{marker.size}<extra></extra>",
         "hovertext": [
          "Malawi"
         ],
         "legendgroup": "Malawi",
         "marker": {
          "color": "#19d3f3",
          "size": [
           15
          ],
          "sizemode": "area",
          "sizeref": 2.266,
          "symbol": "circle"
         },
         "mode": "markers",
         "name": "Malawi",
         "showlegend": true,
         "type": "scatter",
         "x": [
          18622
         ],
         "xaxis": "x",
         "y": [
          15
         ],
         "yaxis": "y"
        },
        {
         "hovertemplate": "<b>%{hovertext}</b><br><br>Country=Lebanon<br>Population in thousands (2017)=%{x}<br>No. of Data Breaches=%{marker.size}<extra></extra>",
         "hovertext": [
          "Lebanon"
         ],
         "legendgroup": "Lebanon",
         "marker": {
          "color": "#FF6692",
          "size": [
           15
          ],
          "sizemode": "area",
          "sizeref": 2.266,
          "symbol": "circle"
         },
         "mode": "markers",
         "name": "Lebanon",
         "showlegend": true,
         "type": "scatter",
         "x": [
          6082
         ],
         "xaxis": "x",
         "y": [
          15
         ],
         "yaxis": "y"
        },
        {
         "hovertemplate": "<b>%{hovertext}</b><br><br>Country=Costa Rica<br>Population in thousands (2017)=%{x}<br>No. of Data Breaches=%{marker.size}<extra></extra>",
         "hovertext": [
          "Costa Rica"
         ],
         "legendgroup": "Costa Rica",
         "marker": {
          "color": "#B6E880",
          "size": [
           14
          ],
          "sizemode": "area",
          "sizeref": 2.266,
          "symbol": "circle"
         },
         "mode": "markers",
         "name": "Costa Rica",
         "showlegend": true,
         "type": "scatter",
         "x": [
          4906
         ],
         "xaxis": "x",
         "y": [
          14
         ],
         "yaxis": "y"
        },
        {
         "hovertemplate": "<b>%{hovertext}</b><br><br>Country=Kyrgyzstan<br>Population in thousands (2017)=%{x}<br>No. of Data Breaches=%{marker.size}<extra></extra>",
         "hovertext": [
          "Kyrgyzstan"
         ],
         "legendgroup": "Kyrgyzstan",
         "marker": {
          "color": "#FF97FF",
          "size": [
           13
          ],
          "sizemode": "area",
          "sizeref": 2.266,
          "symbol": "circle"
         },
         "mode": "markers",
         "name": "Kyrgyzstan",
         "showlegend": true,
         "type": "scatter",
         "x": [
          6045
         ],
         "xaxis": "x",
         "y": [
          13
         ],
         "yaxis": "y"
        },
        {
         "hovertemplate": "<b>%{hovertext}</b><br><br>Country=Bermuda<br>Population in thousands (2017)=%{x}<br>No. of Data Breaches=%{marker.size}<extra></extra>",
         "hovertext": [
          "Bermuda"
         ],
         "legendgroup": "Bermuda",
         "marker": {
          "color": "#FECB52",
          "size": [
           13
          ],
          "sizemode": "area",
          "sizeref": 2.266,
          "symbol": "circle"
         },
         "mode": "markers",
         "name": "Bermuda",
         "showlegend": true,
         "type": "scatter",
         "x": [
          61
         ],
         "xaxis": "x",
         "y": [
          13
         ],
         "yaxis": "y"
        },
        {
         "hovertemplate": "<b>%{hovertext}</b><br><br>Country=United Arab Emirates<br>Population in thousands (2017)=%{x}<br>No. of Data Breaches=%{marker.size}<extra></extra>",
         "hovertext": [
          "United Arab Emirates"
         ],
         "legendgroup": "United Arab Emirates",
         "marker": {
          "color": "#636efa",
          "size": [
           12
          ],
          "sizemode": "area",
          "sizeref": 2.266,
          "symbol": "circle"
         },
         "mode": "markers",
         "name": "United Arab Emirates",
         "showlegend": true,
         "type": "scatter",
         "x": [
          9400
         ],
         "xaxis": "x",
         "y": [
          12
         ],
         "yaxis": "y"
        },
        {
         "hovertemplate": "<b>%{hovertext}</b><br><br>Country=Mongolia<br>Population in thousands (2017)=%{x}<br>No. of Data Breaches=%{marker.size}<extra></extra>",
         "hovertext": [
          "Mongolia"
         ],
         "legendgroup": "Mongolia",
         "marker": {
          "color": "#EF553B",
          "size": [
           12
          ],
          "sizemode": "area",
          "sizeref": 2.266,
          "symbol": "circle"
         },
         "mode": "markers",
         "name": "Mongolia",
         "showlegend": true,
         "type": "scatter",
         "x": [
          3076
         ],
         "xaxis": "x",
         "y": [
          12
         ],
         "yaxis": "y"
        },
        {
         "hovertemplate": "<b>%{hovertext}</b><br><br>Country=Cuba<br>Population in thousands (2017)=%{x}<br>No. of Data Breaches=%{marker.size}<extra></extra>",
         "hovertext": [
          "Cuba"
         ],
         "legendgroup": "Cuba",
         "marker": {
          "color": "#00cc96",
          "size": [
           11
          ],
          "sizemode": "area",
          "sizeref": 2.266,
          "symbol": "circle"
         },
         "mode": "markers",
         "name": "Cuba",
         "showlegend": true,
         "type": "scatter",
         "x": [
          11485
         ],
         "xaxis": "x",
         "y": [
          11
         ],
         "yaxis": "y"
        },
        {
         "hovertemplate": "<b>%{hovertext}</b><br><br>Country=Sudan<br>Population in thousands (2017)=%{x}<br>No. of Data Breaches=%{marker.size}<extra></extra>",
         "hovertext": [
          "Sudan"
         ],
         "legendgroup": "Sudan",
         "marker": {
          "color": "#ab63fa",
          "size": [
           11
          ],
          "sizemode": "area",
          "sizeref": 2.266,
          "symbol": "circle"
         },
         "mode": "markers",
         "name": "Sudan",
         "showlegend": true,
         "type": "scatter",
         "x": [
          40533
         ],
         "xaxis": "x",
         "y": [
          11
         ],
         "yaxis": "y"
        },
        {
         "hovertemplate": "<b>%{hovertext}</b><br><br>Country=Bahrain<br>Population in thousands (2017)=%{x}<br>No. of Data Breaches=%{marker.size}<extra></extra>",
         "hovertext": [
          "Bahrain"
         ],
         "legendgroup": "Bahrain",
         "marker": {
          "color": "#FFA15A",
          "size": [
           11
          ],
          "sizemode": "area",
          "sizeref": 2.266,
          "symbol": "circle"
         },
         "mode": "markers",
         "name": "Bahrain",
         "showlegend": true,
         "type": "scatter",
         "x": [
          1493
         ],
         "xaxis": "x",
         "y": [
          11
         ],
         "yaxis": "y"
        },
        {
         "hovertemplate": "<b>%{hovertext}</b><br><br>Country=Guam<br>Population in thousands (2017)=%{x}<br>No. of Data Breaches=%{marker.size}<extra></extra>",
         "hovertext": [
          "Guam"
         ],
         "legendgroup": "Guam",
         "marker": {
          "color": "#19d3f3",
          "size": [
           11
          ],
          "sizemode": "area",
          "sizeref": 2.266,
          "symbol": "circle"
         },
         "mode": "markers",
         "name": "Guam",
         "showlegend": true,
         "type": "scatter",
         "x": [
          164
         ],
         "xaxis": "x",
         "y": [
          11
         ],
         "yaxis": "y"
        },
        {
         "hovertemplate": "<b>%{hovertext}</b><br><br>Country=Samoa<br>Population in thousands (2017)=%{x}<br>No. of Data Breaches=%{marker.size}<extra></extra>",
         "hovertext": [
          "Samoa"
         ],
         "legendgroup": "Samoa",
         "marker": {
          "color": "#FF6692",
          "size": [
           10
          ],
          "sizemode": "area",
          "sizeref": 2.266,
          "symbol": "circle"
         },
         "mode": "markers",
         "name": "Samoa",
         "showlegend": true,
         "type": "scatter",
         "x": [
          196
         ],
         "xaxis": "x",
         "y": [
          10
         ],
         "yaxis": "y"
        },
        {
         "hovertemplate": "<b>%{hovertext}</b><br><br>Country=Barbados<br>Population in thousands (2017)=%{x}<br>No. of Data Breaches=%{marker.size}<extra></extra>",
         "hovertext": [
          "Barbados"
         ],
         "legendgroup": "Barbados",
         "marker": {
          "color": "#B6E880",
          "size": [
           10
          ],
          "sizemode": "area",
          "sizeref": 2.266,
          "symbol": "circle"
         },
         "mode": "markers",
         "name": "Barbados",
         "showlegend": true,
         "type": "scatter",
         "x": [
          286
         ],
         "xaxis": "x",
         "y": [
          10
         ],
         "yaxis": "y"
        },
        {
         "hovertemplate": "<b>%{hovertext}</b><br><br>Country=El Salvador<br>Population in thousands (2017)=%{x}<br>No. of Data Breaches=%{marker.size}<extra></extra>",
         "hovertext": [
          "El Salvador"
         ],
         "legendgroup": "El Salvador",
         "marker": {
          "color": "#FF97FF",
          "size": [
           10
          ],
          "sizemode": "area",
          "sizeref": 2.266,
          "symbol": "circle"
         },
         "mode": "markers",
         "name": "El Salvador",
         "showlegend": true,
         "type": "scatter",
         "x": [
          6378
         ],
         "xaxis": "x",
         "y": [
          10
         ],
         "yaxis": "y"
        },
        {
         "hovertemplate": "<b>%{hovertext}</b><br><br>Country=Jamaica<br>Population in thousands (2017)=%{x}<br>No. of Data Breaches=%{marker.size}<extra></extra>",
         "hovertext": [
          "Jamaica"
         ],
         "legendgroup": "Jamaica",
         "marker": {
          "color": "#FECB52",
          "size": [
           9
          ],
          "sizemode": "area",
          "sizeref": 2.266,
          "symbol": "circle"
         },
         "mode": "markers",
         "name": "Jamaica",
         "showlegend": true,
         "type": "scatter",
         "x": [
          2890
         ],
         "xaxis": "x",
         "y": [
          9
         ],
         "yaxis": "y"
        },
        {
         "hovertemplate": "<b>%{hovertext}</b><br><br>Country=Malta<br>Population in thousands (2017)=%{x}<br>No. of Data Breaches=%{marker.size}<extra></extra>",
         "hovertext": [
          "Malta"
         ],
         "legendgroup": "Malta",
         "marker": {
          "color": "#636efa",
          "size": [
           9
          ],
          "sizemode": "area",
          "sizeref": 2.266,
          "symbol": "circle"
         },
         "mode": "markers",
         "name": "Malta",
         "showlegend": true,
         "type": "scatter",
         "x": [
          431
         ],
         "xaxis": "x",
         "y": [
          9
         ],
         "yaxis": "y"
        },
        {
         "hovertemplate": "<b>%{hovertext}</b><br><br>Country=Saudi Arabia<br>Population in thousands (2017)=%{x}<br>No. of Data Breaches=%{marker.size}<extra></extra>",
         "hovertext": [
          "Saudi Arabia"
         ],
         "legendgroup": "Saudi Arabia",
         "marker": {
          "color": "#EF553B",
          "size": [
           9
          ],
          "sizemode": "area",
          "sizeref": 2.266,
          "symbol": "circle"
         },
         "mode": "markers",
         "name": "Saudi Arabia",
         "showlegend": true,
         "type": "scatter",
         "x": [
          32938
         ],
         "xaxis": "x",
         "y": [
          9
         ],
         "yaxis": "y"
        },
        {
         "hovertemplate": "<b>%{hovertext}</b><br><br>Country=Eritrea<br>Population in thousands (2017)=%{x}<br>No. of Data Breaches=%{marker.size}<extra></extra>",
         "hovertext": [
          "Eritrea"
         ],
         "legendgroup": "Eritrea",
         "marker": {
          "color": "#00cc96",
          "size": [
           8
          ],
          "sizemode": "area",
          "sizeref": 2.266,
          "symbol": "circle"
         },
         "mode": "markers",
         "name": "Eritrea",
         "showlegend": true,
         "type": "scatter",
         "x": [
          5069
         ],
         "xaxis": "x",
         "y": [
          8
         ],
         "yaxis": "y"
        },
        {
         "hovertemplate": "<b>%{hovertext}</b><br><br>Country=Zimbabwe<br>Population in thousands (2017)=%{x}<br>No. of Data Breaches=%{marker.size}<extra></extra>",
         "hovertext": [
          "Zimbabwe"
         ],
         "legendgroup": "Zimbabwe",
         "marker": {
          "color": "#ab63fa",
          "size": [
           8
          ],
          "sizemode": "area",
          "sizeref": 2.266,
          "symbol": "circle"
         },
         "mode": "markers",
         "name": "Zimbabwe",
         "showlegend": true,
         "type": "scatter",
         "x": [
          16530
         ],
         "xaxis": "x",
         "y": [
          8
         ],
         "yaxis": "y"
        },
        {
         "hovertemplate": "<b>%{hovertext}</b><br><br>Country=San Marino<br>Population in thousands (2017)=%{x}<br>No. of Data Breaches=%{marker.size}<extra></extra>",
         "hovertext": [
          "San Marino"
         ],
         "legendgroup": "San Marino",
         "marker": {
          "color": "#FFA15A",
          "size": [
           8
          ],
          "sizemode": "area",
          "sizeref": 2.266,
          "symbol": "circle"
         },
         "mode": "markers",
         "name": "San Marino",
         "showlegend": true,
         "type": "scatter",
         "x": [
          33
         ],
         "xaxis": "x",
         "y": [
          8
         ],
         "yaxis": "y"
        },
        {
         "hovertemplate": "<b>%{hovertext}</b><br><br>Country=Qatar<br>Population in thousands (2017)=%{x}<br>No. of Data Breaches=%{marker.size}<extra></extra>",
         "hovertext": [
          "Qatar"
         ],
         "legendgroup": "Qatar",
         "marker": {
          "color": "#19d3f3",
          "size": [
           8
          ],
          "sizemode": "area",
          "sizeref": 2.266,
          "symbol": "circle"
         },
         "mode": "markers",
         "name": "Qatar",
         "showlegend": true,
         "type": "scatter",
         "x": [
          2639
         ],
         "xaxis": "x",
         "y": [
          8
         ],
         "yaxis": "y"
        },
        {
         "hovertemplate": "<b>%{hovertext}</b><br><br>Country=Uzbekistan<br>Population in thousands (2017)=%{x}<br>No. of Data Breaches=%{marker.size}<extra></extra>",
         "hovertext": [
          "Uzbekistan"
         ],
         "legendgroup": "Uzbekistan",
         "marker": {
          "color": "#FF6692",
          "size": [
           8
          ],
          "sizemode": "area",
          "sizeref": 2.266,
          "symbol": "circle"
         },
         "mode": "markers",
         "name": "Uzbekistan",
         "showlegend": true,
         "type": "scatter",
         "x": [
          31911
         ],
         "xaxis": "x",
         "y": [
          8
         ],
         "yaxis": "y"
        },
        {
         "hovertemplate": "<b>%{hovertext}</b><br><br>Country=Andorra<br>Population in thousands (2017)=%{x}<br>No. of Data Breaches=%{marker.size}<extra></extra>",
         "hovertext": [
          "Andorra"
         ],
         "legendgroup": "Andorra",
         "marker": {
          "color": "#B6E880",
          "size": [
           8
          ],
          "sizemode": "area",
          "sizeref": 2.266,
          "symbol": "circle"
         },
         "mode": "markers",
         "name": "Andorra",
         "showlegend": true,
         "type": "scatter",
         "x": [
          77
         ],
         "xaxis": "x",
         "y": [
          8
         ],
         "yaxis": "y"
        },
        {
         "hovertemplate": "<b>%{hovertext}</b><br><br>Country=Bahamas<br>Population in thousands (2017)=%{x}<br>No. of Data Breaches=%{marker.size}<extra></extra>",
         "hovertext": [
          "Bahamas"
         ],
         "legendgroup": "Bahamas",
         "marker": {
          "color": "#FF97FF",
          "size": [
           8
          ],
          "sizemode": "area",
          "sizeref": 2.266,
          "symbol": "circle"
         },
         "mode": "markers",
         "name": "Bahamas",
         "showlegend": true,
         "type": "scatter",
         "x": [
          395
         ],
         "xaxis": "x",
         "y": [
          8
         ],
         "yaxis": "y"
        },
        {
         "hovertemplate": "<b>%{hovertext}</b><br><br>Country=Dominican Republic<br>Population in thousands (2017)=%{x}<br>No. of Data Breaches=%{marker.size}<extra></extra>",
         "hovertext": [
          "Dominican Republic"
         ],
         "legendgroup": "Dominican Republic",
         "marker": {
          "color": "#FECB52",
          "size": [
           6
          ],
          "sizemode": "area",
          "sizeref": 2.266,
          "symbol": "circle"
         },
         "mode": "markers",
         "name": "Dominican Republic",
         "showlegend": true,
         "type": "scatter",
         "x": [
          10767
         ],
         "xaxis": "x",
         "y": [
          6
         ],
         "yaxis": "y"
        },
        {
         "hovertemplate": "<b>%{hovertext}</b><br><br>Country=Mauritius<br>Population in thousands (2017)=%{x}<br>No. of Data Breaches=%{marker.size}<extra></extra>",
         "hovertext": [
          "Mauritius"
         ],
         "legendgroup": "Mauritius",
         "marker": {
          "color": "#636efa",
          "size": [
           6
          ],
          "sizemode": "area",
          "sizeref": 2.266,
          "symbol": "circle"
         },
         "mode": "markers",
         "name": "Mauritius",
         "showlegend": true,
         "type": "scatter",
         "x": [
          1265
         ],
         "xaxis": "x",
         "y": [
          6
         ],
         "yaxis": "y"
        },
        {
         "hovertemplate": "<b>%{hovertext}</b><br><br>Country=Liechtenstein<br>Population in thousands (2017)=%{x}<br>No. of Data Breaches=%{marker.size}<extra></extra>",
         "hovertext": [
          "Liechtenstein"
         ],
         "legendgroup": "Liechtenstein",
         "marker": {
          "color": "#EF553B",
          "size": [
           6
          ],
          "sizemode": "area",
          "sizeref": 2.266,
          "symbol": "circle"
         },
         "mode": "markers",
         "name": "Liechtenstein",
         "showlegend": true,
         "type": "scatter",
         "x": [
          38
         ],
         "xaxis": "x",
         "y": [
          6
         ],
         "yaxis": "y"
        },
        {
         "hovertemplate": "<b>%{hovertext}</b><br><br>Country=Iraq<br>Population in thousands (2017)=%{x}<br>No. of Data Breaches=%{marker.size}<extra></extra>",
         "hovertext": [
          "Iraq"
         ],
         "legendgroup": "Iraq",
         "marker": {
          "color": "#00cc96",
          "size": [
           6
          ],
          "sizemode": "area",
          "sizeref": 2.266,
          "symbol": "circle"
         },
         "mode": "markers",
         "name": "Iraq",
         "showlegend": true,
         "type": "scatter",
         "x": [
          38275
         ],
         "xaxis": "x",
         "y": [
          6
         ],
         "yaxis": "y"
        },
        {
         "hovertemplate": "<b>%{hovertext}</b><br><br>Country=Faroe Islands<br>Population in thousands (2017)=%{x}<br>No. of Data Breaches=%{marker.size}<extra></extra>",
         "hovertext": [
          "Faroe Islands"
         ],
         "legendgroup": "Faroe Islands",
         "marker": {
          "color": "#ab63fa",
          "size": [
           6
          ],
          "sizemode": "area",
          "sizeref": 2.266,
          "symbol": "circle"
         },
         "mode": "markers",
         "name": "Faroe Islands",
         "showlegend": true,
         "type": "scatter",
         "x": [
          49
         ],
         "xaxis": "x",
         "y": [
          6
         ],
         "yaxis": "y"
        },
        {
         "hovertemplate": "<b>%{hovertext}</b><br><br>Country=Zambia<br>Population in thousands (2017)=%{x}<br>No. of Data Breaches=%{marker.size}<extra></extra>",
         "hovertext": [
          "Zambia"
         ],
         "legendgroup": "Zambia",
         "marker": {
          "color": "#FFA15A",
          "size": [
           5
          ],
          "sizemode": "area",
          "sizeref": 2.266,
          "symbol": "circle"
         },
         "mode": "markers",
         "name": "Zambia",
         "showlegend": true,
         "type": "scatter",
         "x": [
          17094
         ],
         "xaxis": "x",
         "y": [
          5
         ],
         "yaxis": "y"
        },
        {
         "hovertemplate": "<b>%{hovertext}</b><br><br>Country=Algeria<br>Population in thousands (2017)=%{x}<br>No. of Data Breaches=%{marker.size}<extra></extra>",
         "hovertext": [
          "Algeria"
         ],
         "legendgroup": "Algeria",
         "marker": {
          "color": "#19d3f3",
          "size": [
           5
          ],
          "sizemode": "area",
          "sizeref": 2.266,
          "symbol": "circle"
         },
         "mode": "markers",
         "name": "Algeria",
         "showlegend": true,
         "type": "scatter",
         "x": [
          41318
         ],
         "xaxis": "x",
         "y": [
          5
         ],
         "yaxis": "y"
        },
        {
         "hovertemplate": "<b>%{hovertext}</b><br><br>Country=Congo<br>Population in thousands (2017)=%{x}<br>No. of Data Breaches=%{marker.size}<extra></extra>",
         "hovertext": [
          "Congo"
         ],
         "legendgroup": "Congo",
         "marker": {
          "color": "#FF6692",
          "size": [
           5
          ],
          "sizemode": "area",
          "sizeref": 2.266,
          "symbol": "circle"
         },
         "mode": "markers",
         "name": "Congo",
         "showlegend": true,
         "type": "scatter",
         "x": [
          5261
         ],
         "xaxis": "x",
         "y": [
          5
         ],
         "yaxis": "y"
        },
        {
         "hovertemplate": "<b>%{hovertext}</b><br><br>Country=Fiji<br>Population in thousands (2017)=%{x}<br>No. of Data Breaches=%{marker.size}<extra></extra>",
         "hovertext": [
          "Fiji"
         ],
         "legendgroup": "Fiji",
         "marker": {
          "color": "#B6E880",
          "size": [
           5
          ],
          "sizemode": "area",
          "sizeref": 2.266,
          "symbol": "circle"
         },
         "mode": "markers",
         "name": "Fiji",
         "showlegend": true,
         "type": "scatter",
         "x": [
          906
         ],
         "xaxis": "x",
         "y": [
          5
         ],
         "yaxis": "y"
        },
        {
         "hovertemplate": "<b>%{hovertext}</b><br><br>Country=Namibia<br>Population in thousands (2017)=%{x}<br>No. of Data Breaches=%{marker.size}<extra></extra>",
         "hovertext": [
          "Namibia"
         ],
         "legendgroup": "Namibia",
         "marker": {
          "color": "#FF97FF",
          "size": [
           5
          ],
          "sizemode": "area",
          "sizeref": 2.266,
          "symbol": "circle"
         },
         "mode": "markers",
         "name": "Namibia",
         "showlegend": true,
         "type": "scatter",
         "x": [
          2534
         ],
         "xaxis": "x",
         "y": [
          5
         ],
         "yaxis": "y"
        },
        {
         "hovertemplate": "<b>%{hovertext}</b><br><br>Country=Madagascar<br>Population in thousands (2017)=%{x}<br>No. of Data Breaches=%{marker.size}<extra></extra>",
         "hovertext": [
          "Madagascar"
         ],
         "legendgroup": "Madagascar",
         "marker": {
          "color": "#FECB52",
          "size": [
           4
          ],
          "sizemode": "area",
          "sizeref": 2.266,
          "symbol": "circle"
         },
         "mode": "markers",
         "name": "Madagascar",
         "showlegend": true,
         "type": "scatter",
         "x": [
          25571
         ],
         "xaxis": "x",
         "y": [
          4
         ],
         "yaxis": "y"
        },
        {
         "hovertemplate": "<b>%{hovertext}</b><br><br>Country=Greenland<br>Population in thousands (2017)=%{x}<br>No. of Data Breaches=%{marker.size}<extra></extra>",
         "hovertext": [
          "Greenland"
         ],
         "legendgroup": "Greenland",
         "marker": {
          "color": "#636efa",
          "size": [
           4
          ],
          "sizemode": "area",
          "sizeref": 2.266,
          "symbol": "circle"
         },
         "mode": "markers",
         "name": "Greenland",
         "showlegend": true,
         "type": "scatter",
         "x": [
          56
         ],
         "xaxis": "x",
         "y": [
          4
         ],
         "yaxis": "y"
        },
        {
         "hovertemplate": "<b>%{hovertext}</b><br><br>Country=Somalia<br>Population in thousands (2017)=%{x}<br>No. of Data Breaches=%{marker.size}<extra></extra>",
         "hovertext": [
          "Somalia"
         ],
         "legendgroup": "Somalia",
         "marker": {
          "color": "#EF553B",
          "size": [
           4
          ],
          "sizemode": "area",
          "sizeref": 2.266,
          "symbol": "circle"
         },
         "mode": "markers",
         "name": "Somalia",
         "showlegend": true,
         "type": "scatter",
         "x": [
          14742
         ],
         "xaxis": "x",
         "y": [
          4
         ],
         "yaxis": "y"
        },
        {
         "hovertemplate": "<b>%{hovertext}</b><br><br>Country=Seychelles<br>Population in thousands (2017)=%{x}<br>No. of Data Breaches=%{marker.size}<extra></extra>",
         "hovertext": [
          "Seychelles"
         ],
         "legendgroup": "Seychelles",
         "marker": {
          "color": "#00cc96",
          "size": [
           4
          ],
          "sizemode": "area",
          "sizeref": 2.266,
          "symbol": "circle"
         },
         "mode": "markers",
         "name": "Seychelles",
         "showlegend": true,
         "type": "scatter",
         "x": [
          95
         ],
         "xaxis": "x",
         "y": [
          4
         ],
         "yaxis": "y"
        },
        {
         "hovertemplate": "<b>%{hovertext}</b><br><br>Country=Vanuatu<br>Population in thousands (2017)=%{x}<br>No. of Data Breaches=%{marker.size}<extra></extra>",
         "hovertext": [
          "Vanuatu"
         ],
         "legendgroup": "Vanuatu",
         "marker": {
          "color": "#ab63fa",
          "size": [
           4
          ],
          "sizemode": "area",
          "sizeref": 2.266,
          "symbol": "circle"
         },
         "mode": "markers",
         "name": "Vanuatu",
         "showlegend": true,
         "type": "scatter",
         "x": [
          276
         ],
         "xaxis": "x",
         "y": [
          4
         ],
         "yaxis": "y"
        },
        {
         "hovertemplate": "<b>%{hovertext}</b><br><br>Country=Azerbaijan<br>Population in thousands (2017)=%{x}<br>No. of Data Breaches=%{marker.size}<extra></extra>",
         "hovertext": [
          "Azerbaijan"
         ],
         "legendgroup": "Azerbaijan",
         "marker": {
          "color": "#FFA15A",
          "size": [
           4
          ],
          "sizemode": "area",
          "sizeref": 2.266,
          "symbol": "circle"
         },
         "mode": "markers",
         "name": "Azerbaijan",
         "showlegend": true,
         "type": "scatter",
         "x": [
          9828
         ],
         "xaxis": "x",
         "y": [
          4
         ],
         "yaxis": "y"
        },
        {
         "hovertemplate": "<b>%{hovertext}</b><br><br>Country=Ghana<br>Population in thousands (2017)=%{x}<br>No. of Data Breaches=%{marker.size}<extra></extra>",
         "hovertext": [
          "Ghana"
         ],
         "legendgroup": "Ghana",
         "marker": {
          "color": "#19d3f3",
          "size": [
           3
          ],
          "sizemode": "area",
          "sizeref": 2.266,
          "symbol": "circle"
         },
         "mode": "markers",
         "name": "Ghana",
         "showlegend": true,
         "type": "scatter",
         "x": [
          28834
         ],
         "xaxis": "x",
         "y": [
          3
         ],
         "yaxis": "y"
        },
        {
         "hovertemplate": "<b>%{hovertext}</b><br><br>Country=Montserrat<br>Population in thousands (2017)=%{x}<br>No. of Data Breaches=%{marker.size}<extra></extra>",
         "hovertext": [
          "Montserrat"
         ],
         "legendgroup": "Montserrat",
         "marker": {
          "color": "#FF6692",
          "size": [
           3
          ],
          "sizemode": "area",
          "sizeref": 2.266,
          "symbol": "circle"
         },
         "mode": "markers",
         "name": "Montserrat",
         "showlegend": true,
         "type": "scatter",
         "x": [
          5
         ],
         "xaxis": "x",
         "y": [
          3
         ],
         "yaxis": "y"
        },
        {
         "hovertemplate": "<b>%{hovertext}</b><br><br>Country=Monaco<br>Population in thousands (2017)=%{x}<br>No. of Data Breaches=%{marker.size}<extra></extra>",
         "hovertext": [
          "Monaco"
         ],
         "legendgroup": "Monaco",
         "marker": {
          "color": "#B6E880",
          "size": [
           3
          ],
          "sizemode": "area",
          "sizeref": 2.266,
          "symbol": "circle"
         },
         "mode": "markers",
         "name": "Monaco",
         "showlegend": true,
         "type": "scatter",
         "x": [
          39
         ],
         "xaxis": "x",
         "y": [
          3
         ],
         "yaxis": "y"
        },
        {
         "hovertemplate": "<b>%{hovertext}</b><br><br>Country=Cameroon<br>Population in thousands (2017)=%{x}<br>No. of Data Breaches=%{marker.size}<extra></extra>",
         "hovertext": [
          "Cameroon"
         ],
         "legendgroup": "Cameroon",
         "marker": {
          "color": "#FF97FF",
          "size": [
           3
          ],
          "sizemode": "area",
          "sizeref": 2.266,
          "symbol": "circle"
         },
         "mode": "markers",
         "name": "Cameroon",
         "showlegend": true,
         "type": "scatter",
         "x": [
          24054
         ],
         "xaxis": "x",
         "y": [
          3
         ],
         "yaxis": "y"
        },
        {
         "hovertemplate": "<b>%{hovertext}</b><br><br>Country=Yemen<br>Population in thousands (2017)=%{x}<br>No. of Data Breaches=%{marker.size}<extra></extra>",
         "hovertext": [
          "Yemen"
         ],
         "legendgroup": "Yemen",
         "marker": {
          "color": "#FECB52",
          "size": [
           3
          ],
          "sizemode": "area",
          "sizeref": 2.266,
          "symbol": "circle"
         },
         "mode": "markers",
         "name": "Yemen",
         "showlegend": true,
         "type": "scatter",
         "x": [
          28250
         ],
         "xaxis": "x",
         "y": [
          3
         ],
         "yaxis": "y"
        },
        {
         "hovertemplate": "<b>%{hovertext}</b><br><br>Country=Mauritania<br>Population in thousands (2017)=%{x}<br>No. of Data Breaches=%{marker.size}<extra></extra>",
         "hovertext": [
          "Mauritania"
         ],
         "legendgroup": "Mauritania",
         "marker": {
          "color": "#636efa",
          "size": [
           3
          ],
          "sizemode": "area",
          "sizeref": 2.266,
          "symbol": "circle"
         },
         "mode": "markers",
         "name": "Mauritania",
         "showlegend": true,
         "type": "scatter",
         "x": [
          4420
         ],
         "xaxis": "x",
         "y": [
          3
         ],
         "yaxis": "y"
        },
        {
         "hovertemplate": "<b>%{hovertext}</b><br><br>Country=Nigeria<br>Population in thousands (2017)=%{x}<br>No. of Data Breaches=%{marker.size}<extra></extra>",
         "hovertext": [
          "Nigeria"
         ],
         "legendgroup": "Nigeria",
         "marker": {
          "color": "#EF553B",
          "size": [
           3
          ],
          "sizemode": "area",
          "sizeref": 2.266,
          "symbol": "circle"
         },
         "mode": "markers",
         "name": "Nigeria",
         "showlegend": true,
         "type": "scatter",
         "x": [
          190886
         ],
         "xaxis": "x",
         "y": [
          3
         ],
         "yaxis": "y"
        },
        {
         "hovertemplate": "<b>%{hovertext}</b><br><br>Country=Oman<br>Population in thousands (2017)=%{x}<br>No. of Data Breaches=%{marker.size}<extra></extra>",
         "hovertext": [
          "Oman"
         ],
         "legendgroup": "Oman",
         "marker": {
          "color": "#00cc96",
          "size": [
           3
          ],
          "sizemode": "area",
          "sizeref": 2.266,
          "symbol": "circle"
         },
         "mode": "markers",
         "name": "Oman",
         "showlegend": true,
         "type": "scatter",
         "x": [
          4636
         ],
         "xaxis": "x",
         "y": [
          3
         ],
         "yaxis": "y"
        },
        {
         "hovertemplate": "<b>%{hovertext}</b><br><br>Country=Afghanistan<br>Population in thousands (2017)=%{x}<br>No. of Data Breaches=%{marker.size}<extra></extra>",
         "hovertext": [
          "Afghanistan"
         ],
         "legendgroup": "Afghanistan",
         "marker": {
          "color": "#ab63fa",
          "size": [
           3
          ],
          "sizemode": "area",
          "sizeref": 2.266,
          "symbol": "circle"
         },
         "mode": "markers",
         "name": "Afghanistan",
         "showlegend": true,
         "type": "scatter",
         "x": [
          35530
         ],
         "xaxis": "x",
         "y": [
          3
         ],
         "yaxis": "y"
        },
        {
         "hovertemplate": "<b>%{hovertext}</b><br><br>Country=Ethiopia<br>Population in thousands (2017)=%{x}<br>No. of Data Breaches=%{marker.size}<extra></extra>",
         "hovertext": [
          "Ethiopia"
         ],
         "legendgroup": "Ethiopia",
         "marker": {
          "color": "#FFA15A",
          "size": [
           3
          ],
          "sizemode": "area",
          "sizeref": 2.266,
          "symbol": "circle"
         },
         "mode": "markers",
         "name": "Ethiopia",
         "showlegend": true,
         "type": "scatter",
         "x": [
          104957
         ],
         "xaxis": "x",
         "y": [
          3
         ],
         "yaxis": "y"
        },
        {
         "hovertemplate": "<b>%{hovertext}</b><br><br>Country=Niger<br>Population in thousands (2017)=%{x}<br>No. of Data Breaches=%{marker.size}<extra></extra>",
         "hovertext": [
          "Niger"
         ],
         "legendgroup": "Niger",
         "marker": {
          "color": "#19d3f3",
          "size": [
           3
          ],
          "sizemode": "area",
          "sizeref": 2.266,
          "symbol": "circle"
         },
         "mode": "markers",
         "name": "Niger",
         "showlegend": true,
         "type": "scatter",
         "x": [
          21477
         ],
         "xaxis": "x",
         "y": [
          3
         ],
         "yaxis": "y"
        },
        {
         "hovertemplate": "<b>%{hovertext}</b><br><br>Country=Belize<br>Population in thousands (2017)=%{x}<br>No. of Data Breaches=%{marker.size}<extra></extra>",
         "hovertext": [
          "Belize"
         ],
         "legendgroup": "Belize",
         "marker": {
          "color": "#FF6692",
          "size": [
           3
          ],
          "sizemode": "area",
          "sizeref": 2.266,
          "symbol": "circle"
         },
         "mode": "markers",
         "name": "Belize",
         "showlegend": true,
         "type": "scatter",
         "x": [
          375
         ],
         "xaxis": "x",
         "y": [
          3
         ],
         "yaxis": "y"
        },
        {
         "hovertemplate": "<b>%{hovertext}</b><br><br>Country=Gabon<br>Population in thousands (2017)=%{x}<br>No. of Data Breaches=%{marker.size}<extra></extra>",
         "hovertext": [
          "Gabon"
         ],
         "legendgroup": "Gabon",
         "marker": {
          "color": "#B6E880",
          "size": [
           2
          ],
          "sizemode": "area",
          "sizeref": 2.266,
          "symbol": "circle"
         },
         "mode": "markers",
         "name": "Gabon",
         "showlegend": true,
         "type": "scatter",
         "x": [
          2025
         ],
         "xaxis": "x",
         "y": [
          2
         ],
         "yaxis": "y"
        },
        {
         "hovertemplate": "<b>%{hovertext}</b><br><br>Country=Tajikistan<br>Population in thousands (2017)=%{x}<br>No. of Data Breaches=%{marker.size}<extra></extra>",
         "hovertext": [
          "Tajikistan"
         ],
         "legendgroup": "Tajikistan",
         "marker": {
          "color": "#FF97FF",
          "size": [
           2
          ],
          "sizemode": "area",
          "sizeref": 2.266,
          "symbol": "circle"
         },
         "mode": "markers",
         "name": "Tajikistan",
         "showlegend": true,
         "type": "scatter",
         "x": [
          8921
         ],
         "xaxis": "x",
         "y": [
          2
         ],
         "yaxis": "y"
        },
        {
         "hovertemplate": "<b>%{hovertext}</b><br><br>Country=Northern Mariana Islands<br>Population in thousands (2017)=%{x}<br>No. of Data Breaches=%{marker.size}<extra></extra>",
         "hovertext": [
          "Northern Mariana Islands"
         ],
         "legendgroup": "Northern Mariana Islands",
         "marker": {
          "color": "#FECB52",
          "size": [
           2
          ],
          "sizemode": "area",
          "sizeref": 2.266,
          "symbol": "circle"
         },
         "mode": "markers",
         "name": "Northern Mariana Islands",
         "showlegend": true,
         "type": "scatter",
         "x": [
          55
         ],
         "xaxis": "x",
         "y": [
          2
         ],
         "yaxis": "y"
        },
        {
         "hovertemplate": "<b>%{hovertext}</b><br><br>Country=Burundi<br>Population in thousands (2017)=%{x}<br>No. of Data Breaches=%{marker.size}<extra></extra>",
         "hovertext": [
          "Burundi"
         ],
         "legendgroup": "Burundi",
         "marker": {
          "color": "#636efa",
          "size": [
           2
          ],
          "sizemode": "area",
          "sizeref": 2.266,
          "symbol": "circle"
         },
         "mode": "markers",
         "name": "Burundi",
         "showlegend": true,
         "type": "scatter",
         "x": [
          10864
         ],
         "xaxis": "x",
         "y": [
          2
         ],
         "yaxis": "y"
        },
        {
         "hovertemplate": "<b>%{hovertext}</b><br><br>Country=Burkina Faso<br>Population in thousands (2017)=%{x}<br>No. of Data Breaches=%{marker.size}<extra></extra>",
         "hovertext": [
          "Burkina Faso"
         ],
         "legendgroup": "Burkina Faso",
         "marker": {
          "color": "#EF553B",
          "size": [
           2
          ],
          "sizemode": "area",
          "sizeref": 2.266,
          "symbol": "circle"
         },
         "mode": "markers",
         "name": "Burkina Faso",
         "showlegend": true,
         "type": "scatter",
         "x": [
          19193
         ],
         "xaxis": "x",
         "y": [
          2
         ],
         "yaxis": "y"
        },
        {
         "hovertemplate": "<b>%{hovertext}</b><br><br>Country=Maldives<br>Population in thousands (2017)=%{x}<br>No. of Data Breaches=%{marker.size}<extra></extra>",
         "hovertext": [
          "Maldives"
         ],
         "legendgroup": "Maldives",
         "marker": {
          "color": "#00cc96",
          "size": [
           2
          ],
          "sizemode": "area",
          "sizeref": 2.266,
          "symbol": "circle"
         },
         "mode": "markers",
         "name": "Maldives",
         "showlegend": true,
         "type": "scatter",
         "x": [
          436
         ],
         "xaxis": "x",
         "y": [
          2
         ],
         "yaxis": "y"
        },
        {
         "hovertemplate": "<b>%{hovertext}</b><br><br>Country=French Polynesia<br>Population in thousands (2017)=%{x}<br>No. of Data Breaches=%{marker.size}<extra></extra>",
         "hovertext": [
          "French Polynesia"
         ],
         "legendgroup": "French Polynesia",
         "marker": {
          "color": "#ab63fa",
          "size": [
           2
          ],
          "sizemode": "area",
          "sizeref": 2.266,
          "symbol": "circle"
         },
         "mode": "markers",
         "name": "French Polynesia",
         "showlegend": true,
         "type": "scatter",
         "x": [
          283
         ],
         "xaxis": "x",
         "y": [
          2
         ],
         "yaxis": "y"
        },
        {
         "hovertemplate": "<b>%{hovertext}</b><br><br>Country=Suriname<br>Population in thousands (2017)=%{x}<br>No. of Data Breaches=%{marker.size}<extra></extra>",
         "hovertext": [
          "Suriname"
         ],
         "legendgroup": "Suriname",
         "marker": {
          "color": "#FFA15A",
          "size": [
           2
          ],
          "sizemode": "area",
          "sizeref": 2.266,
          "symbol": "circle"
         },
         "mode": "markers",
         "name": "Suriname",
         "showlegend": true,
         "type": "scatter",
         "x": [
          563
         ],
         "xaxis": "x",
         "y": [
          2
         ],
         "yaxis": "y"
        },
        {
         "hovertemplate": "<b>%{hovertext}</b><br><br>Country=Uganda<br>Population in thousands (2017)=%{x}<br>No. of Data Breaches=%{marker.size}<extra></extra>",
         "hovertext": [
          "Uganda"
         ],
         "legendgroup": "Uganda",
         "marker": {
          "color": "#19d3f3",
          "size": [
           1
          ],
          "sizemode": "area",
          "sizeref": 2.266,
          "symbol": "circle"
         },
         "mode": "markers",
         "name": "Uganda",
         "showlegend": true,
         "type": "scatter",
         "x": [
          42863
         ],
         "xaxis": "x",
         "y": [
          1
         ],
         "yaxis": "y"
        },
        {
         "hovertemplate": "<b>%{hovertext}</b><br><br>Country=Togo<br>Population in thousands (2017)=%{x}<br>No. of Data Breaches=%{marker.size}<extra></extra>",
         "hovertext": [
          "Togo"
         ],
         "legendgroup": "Togo",
         "marker": {
          "color": "#FF6692",
          "size": [
           1
          ],
          "sizemode": "area",
          "sizeref": 2.266,
          "symbol": "circle"
         },
         "mode": "markers",
         "name": "Togo",
         "showlegend": true,
         "type": "scatter",
         "x": [
          7798
         ],
         "xaxis": "x",
         "y": [
          1
         ],
         "yaxis": "y"
        },
        {
         "hovertemplate": "<b>%{hovertext}</b><br><br>Country=Papua New Guinea<br>Population in thousands (2017)=%{x}<br>No. of Data Breaches=%{marker.size}<extra></extra>",
         "hovertext": [
          "Papua New Guinea"
         ],
         "legendgroup": "Papua New Guinea",
         "marker": {
          "color": "#B6E880",
          "size": [
           1
          ],
          "sizemode": "area",
          "sizeref": 2.266,
          "symbol": "circle"
         },
         "mode": "markers",
         "name": "Papua New Guinea",
         "showlegend": true,
         "type": "scatter",
         "x": [
          8251
         ],
         "xaxis": "x",
         "y": [
          1
         ],
         "yaxis": "y"
        },
        {
         "hovertemplate": "<b>%{hovertext}</b><br><br>Country=New Caledonia<br>Population in thousands (2017)=%{x}<br>No. of Data Breaches=%{marker.size}<extra></extra>",
         "hovertext": [
          "New Caledonia"
         ],
         "legendgroup": "New Caledonia",
         "marker": {
          "color": "#FF97FF",
          "size": [
           1
          ],
          "sizemode": "area",
          "sizeref": 2.266,
          "symbol": "circle"
         },
         "mode": "markers",
         "name": "New Caledonia",
         "showlegend": true,
         "type": "scatter",
         "x": [
          276
         ],
         "xaxis": "x",
         "y": [
          1
         ],
         "yaxis": "y"
        },
        {
         "hovertemplate": "<b>%{hovertext}</b><br><br>Country=Botswana<br>Population in thousands (2017)=%{x}<br>No. of Data Breaches=%{marker.size}<extra></extra>",
         "hovertext": [
          "Botswana"
         ],
         "legendgroup": "Botswana",
         "marker": {
          "color": "#FECB52",
          "size": [
           1
          ],
          "sizemode": "area",
          "sizeref": 2.266,
          "symbol": "circle"
         },
         "mode": "markers",
         "name": "Botswana",
         "showlegend": true,
         "type": "scatter",
         "x": [
          2292
         ],
         "xaxis": "x",
         "y": [
          1
         ],
         "yaxis": "y"
        },
        {
         "hovertemplate": "<b>%{hovertext}</b><br><br>Country=Puerto Rico<br>Population in thousands (2017)=%{x}<br>No. of Data Breaches=%{marker.size}<extra></extra>",
         "hovertext": [
          "Puerto Rico"
         ],
         "legendgroup": "Puerto Rico",
         "marker": {
          "color": "#636efa",
          "size": [
           1
          ],
          "sizemode": "area",
          "sizeref": 2.266,
          "symbol": "circle"
         },
         "mode": "markers",
         "name": "Puerto Rico",
         "showlegend": true,
         "type": "scatter",
         "x": [
          3663
         ],
         "xaxis": "x",
         "y": [
          1
         ],
         "yaxis": "y"
        },
        {
         "hovertemplate": "<b>%{hovertext}</b><br><br>Country=Guinea<br>Population in thousands (2017)=%{x}<br>No. of Data Breaches=%{marker.size}<extra></extra>",
         "hovertext": [
          "Guinea"
         ],
         "legendgroup": "Guinea",
         "marker": {
          "color": "#EF553B",
          "size": [
           1
          ],
          "sizemode": "area",
          "sizeref": 2.266,
          "symbol": "circle"
         },
         "mode": "markers",
         "name": "Guinea",
         "showlegend": true,
         "type": "scatter",
         "x": [
          12717
         ],
         "xaxis": "x",
         "y": [
          1
         ],
         "yaxis": "y"
        },
        {
         "hovertemplate": "<b>%{hovertext}</b><br><br>Country=Cayman Islands<br>Population in thousands (2017)=%{x}<br>No. of Data Breaches=%{marker.size}<extra></extra>",
         "hovertext": [
          "Cayman Islands"
         ],
         "legendgroup": "Cayman Islands",
         "marker": {
          "color": "#00cc96",
          "size": [
           1
          ],
          "sizemode": "area",
          "sizeref": 2.266,
          "symbol": "circle"
         },
         "mode": "markers",
         "name": "Cayman Islands",
         "showlegend": true,
         "type": "scatter",
         "x": [
          62
         ],
         "xaxis": "x",
         "y": [
          1
         ],
         "yaxis": "y"
        },
        {
         "hovertemplate": "<b>%{hovertext}</b><br><br>Country=Benin<br>Population in thousands (2017)=%{x}<br>No. of Data Breaches=%{marker.size}<extra></extra>",
         "hovertext": [
          "Benin"
         ],
         "legendgroup": "Benin",
         "marker": {
          "color": "#ab63fa",
          "size": [
           1
          ],
          "sizemode": "area",
          "sizeref": 2.266,
          "symbol": "circle"
         },
         "mode": "markers",
         "name": "Benin",
         "showlegend": true,
         "type": "scatter",
         "x": [
          11176
         ],
         "xaxis": "x",
         "y": [
          1
         ],
         "yaxis": "y"
        },
        {
         "hovertemplate": "<b>%{hovertext}</b><br><br>Country=Cambodia<br>Population in thousands (2017)=%{x}<br>No. of Data Breaches=%{marker.size}<extra></extra>",
         "hovertext": [
          "Cambodia"
         ],
         "legendgroup": "Cambodia",
         "marker": {
          "color": "#FFA15A",
          "size": [
           1
          ],
          "sizemode": "area",
          "sizeref": 2.266,
          "symbol": "circle"
         },
         "mode": "markers",
         "name": "Cambodia",
         "showlegend": true,
         "type": "scatter",
         "x": [
          16005
         ],
         "xaxis": "x",
         "y": [
          1
         ],
         "yaxis": "y"
        },
        {
         "hovertemplate": "<b>%{hovertext}</b><br><br>Country=Turkmenistan<br>Population in thousands (2017)=%{x}<br>No. of Data Breaches=%{marker.size}<extra></extra>",
         "hovertext": [
          "Turkmenistan"
         ],
         "legendgroup": "Turkmenistan",
         "marker": {
          "color": "#19d3f3",
          "size": [
           1
          ],
          "sizemode": "area",
          "sizeref": 2.266,
          "symbol": "circle"
         },
         "mode": "markers",
         "name": "Turkmenistan",
         "showlegend": true,
         "type": "scatter",
         "x": [
          5758
         ],
         "xaxis": "x",
         "y": [
          1
         ],
         "yaxis": "y"
        },
        {
         "hovertemplate": "<b>%{hovertext}</b><br><br>Country=Lesotho<br>Population in thousands (2017)=%{x}<br>No. of Data Breaches=%{marker.size}<extra></extra>",
         "hovertext": [
          "Lesotho"
         ],
         "legendgroup": "Lesotho",
         "marker": {
          "color": "#FF6692",
          "size": [
           1
          ],
          "sizemode": "area",
          "sizeref": 2.266,
          "symbol": "circle"
         },
         "mode": "markers",
         "name": "Lesotho",
         "showlegend": true,
         "type": "scatter",
         "x": [
          2233
         ],
         "xaxis": "x",
         "y": [
          1
         ],
         "yaxis": "y"
        },
        {
         "hovertemplate": "<b>%{hovertext}</b><br><br>Country=Mali<br>Population in thousands (2017)=%{x}<br>No. of Data Breaches=%{marker.size}<extra></extra>",
         "hovertext": [
          "Mali"
         ],
         "legendgroup": "Mali",
         "marker": {
          "color": "#B6E880",
          "size": [
           1
          ],
          "sizemode": "area",
          "sizeref": 2.266,
          "symbol": "circle"
         },
         "mode": "markers",
         "name": "Mali",
         "showlegend": true,
         "type": "scatter",
         "x": [
          18542
         ],
         "xaxis": "x",
         "y": [
          1
         ],
         "yaxis": "y"
        },
        {
         "hovertemplate": "<b>%{hovertext}</b><br><br>Country=Cook Islands<br>Population in thousands (2017)=%{x}<br>No. of Data Breaches=%{marker.size}<extra></extra>",
         "hovertext": [
          "Cook Islands"
         ],
         "legendgroup": "Cook Islands",
         "marker": {
          "color": "#FF97FF",
          "size": [
           1
          ],
          "sizemode": "area",
          "sizeref": 2.266,
          "symbol": "circle"
         },
         "mode": "markers",
         "name": "Cook Islands",
         "showlegend": true,
         "type": "scatter",
         "x": [
          17
         ],
         "xaxis": "x",
         "y": [
          1
         ],
         "yaxis": "y"
        }
       ],
       "layout": {
        "legend": {
         "itemsizing": "constant",
         "title": {
          "text": "Country"
         },
         "tracegroupgap": 0
        },
        "margin": {
         "t": 60
        },
        "template": {
         "data": {
          "bar": [
           {
            "error_x": {
             "color": "#2a3f5f"
            },
            "error_y": {
             "color": "#2a3f5f"
            },
            "marker": {
             "line": {
              "color": "#E5ECF6",
              "width": 0.5
             }
            },
            "type": "bar"
           }
          ],
          "barpolar": [
           {
            "marker": {
             "line": {
              "color": "#E5ECF6",
              "width": 0.5
             }
            },
            "type": "barpolar"
           }
          ],
          "carpet": [
           {
            "aaxis": {
             "endlinecolor": "#2a3f5f",
             "gridcolor": "white",
             "linecolor": "white",
             "minorgridcolor": "white",
             "startlinecolor": "#2a3f5f"
            },
            "baxis": {
             "endlinecolor": "#2a3f5f",
             "gridcolor": "white",
             "linecolor": "white",
             "minorgridcolor": "white",
             "startlinecolor": "#2a3f5f"
            },
            "type": "carpet"
           }
          ],
          "choropleth": [
           {
            "colorbar": {
             "outlinewidth": 0,
             "ticks": ""
            },
            "type": "choropleth"
           }
          ],
          "contour": [
           {
            "colorbar": {
             "outlinewidth": 0,
             "ticks": ""
            },
            "colorscale": [
             [
              0,
              "#0d0887"
             ],
             [
              0.1111111111111111,
              "#46039f"
             ],
             [
              0.2222222222222222,
              "#7201a8"
             ],
             [
              0.3333333333333333,
              "#9c179e"
             ],
             [
              0.4444444444444444,
              "#bd3786"
             ],
             [
              0.5555555555555556,
              "#d8576b"
             ],
             [
              0.6666666666666666,
              "#ed7953"
             ],
             [
              0.7777777777777778,
              "#fb9f3a"
             ],
             [
              0.8888888888888888,
              "#fdca26"
             ],
             [
              1,
              "#f0f921"
             ]
            ],
            "type": "contour"
           }
          ],
          "contourcarpet": [
           {
            "colorbar": {
             "outlinewidth": 0,
             "ticks": ""
            },
            "type": "contourcarpet"
           }
          ],
          "heatmap": [
           {
            "colorbar": {
             "outlinewidth": 0,
             "ticks": ""
            },
            "colorscale": [
             [
              0,
              "#0d0887"
             ],
             [
              0.1111111111111111,
              "#46039f"
             ],
             [
              0.2222222222222222,
              "#7201a8"
             ],
             [
              0.3333333333333333,
              "#9c179e"
             ],
             [
              0.4444444444444444,
              "#bd3786"
             ],
             [
              0.5555555555555556,
              "#d8576b"
             ],
             [
              0.6666666666666666,
              "#ed7953"
             ],
             [
              0.7777777777777778,
              "#fb9f3a"
             ],
             [
              0.8888888888888888,
              "#fdca26"
             ],
             [
              1,
              "#f0f921"
             ]
            ],
            "type": "heatmap"
           }
          ],
          "heatmapgl": [
           {
            "colorbar": {
             "outlinewidth": 0,
             "ticks": ""
            },
            "colorscale": [
             [
              0,
              "#0d0887"
             ],
             [
              0.1111111111111111,
              "#46039f"
             ],
             [
              0.2222222222222222,
              "#7201a8"
             ],
             [
              0.3333333333333333,
              "#9c179e"
             ],
             [
              0.4444444444444444,
              "#bd3786"
             ],
             [
              0.5555555555555556,
              "#d8576b"
             ],
             [
              0.6666666666666666,
              "#ed7953"
             ],
             [
              0.7777777777777778,
              "#fb9f3a"
             ],
             [
              0.8888888888888888,
              "#fdca26"
             ],
             [
              1,
              "#f0f921"
             ]
            ],
            "type": "heatmapgl"
           }
          ],
          "histogram": [
           {
            "marker": {
             "colorbar": {
              "outlinewidth": 0,
              "ticks": ""
             }
            },
            "type": "histogram"
           }
          ],
          "histogram2d": [
           {
            "colorbar": {
             "outlinewidth": 0,
             "ticks": ""
            },
            "colorscale": [
             [
              0,
              "#0d0887"
             ],
             [
              0.1111111111111111,
              "#46039f"
             ],
             [
              0.2222222222222222,
              "#7201a8"
             ],
             [
              0.3333333333333333,
              "#9c179e"
             ],
             [
              0.4444444444444444,
              "#bd3786"
             ],
             [
              0.5555555555555556,
              "#d8576b"
             ],
             [
              0.6666666666666666,
              "#ed7953"
             ],
             [
              0.7777777777777778,
              "#fb9f3a"
             ],
             [
              0.8888888888888888,
              "#fdca26"
             ],
             [
              1,
              "#f0f921"
             ]
            ],
            "type": "histogram2d"
           }
          ],
          "histogram2dcontour": [
           {
            "colorbar": {
             "outlinewidth": 0,
             "ticks": ""
            },
            "colorscale": [
             [
              0,
              "#0d0887"
             ],
             [
              0.1111111111111111,
              "#46039f"
             ],
             [
              0.2222222222222222,
              "#7201a8"
             ],
             [
              0.3333333333333333,
              "#9c179e"
             ],
             [
              0.4444444444444444,
              "#bd3786"
             ],
             [
              0.5555555555555556,
              "#d8576b"
             ],
             [
              0.6666666666666666,
              "#ed7953"
             ],
             [
              0.7777777777777778,
              "#fb9f3a"
             ],
             [
              0.8888888888888888,
              "#fdca26"
             ],
             [
              1,
              "#f0f921"
             ]
            ],
            "type": "histogram2dcontour"
           }
          ],
          "mesh3d": [
           {
            "colorbar": {
             "outlinewidth": 0,
             "ticks": ""
            },
            "type": "mesh3d"
           }
          ],
          "parcoords": [
           {
            "line": {
             "colorbar": {
              "outlinewidth": 0,
              "ticks": ""
             }
            },
            "type": "parcoords"
           }
          ],
          "pie": [
           {
            "automargin": true,
            "type": "pie"
           }
          ],
          "scatter": [
           {
            "marker": {
             "colorbar": {
              "outlinewidth": 0,
              "ticks": ""
             }
            },
            "type": "scatter"
           }
          ],
          "scatter3d": [
           {
            "line": {
             "colorbar": {
              "outlinewidth": 0,
              "ticks": ""
             }
            },
            "marker": {
             "colorbar": {
              "outlinewidth": 0,
              "ticks": ""
             }
            },
            "type": "scatter3d"
           }
          ],
          "scattercarpet": [
           {
            "marker": {
             "colorbar": {
              "outlinewidth": 0,
              "ticks": ""
             }
            },
            "type": "scattercarpet"
           }
          ],
          "scattergeo": [
           {
            "marker": {
             "colorbar": {
              "outlinewidth": 0,
              "ticks": ""
             }
            },
            "type": "scattergeo"
           }
          ],
          "scattergl": [
           {
            "marker": {
             "colorbar": {
              "outlinewidth": 0,
              "ticks": ""
             }
            },
            "type": "scattergl"
           }
          ],
          "scattermapbox": [
           {
            "marker": {
             "colorbar": {
              "outlinewidth": 0,
              "ticks": ""
             }
            },
            "type": "scattermapbox"
           }
          ],
          "scatterpolar": [
           {
            "marker": {
             "colorbar": {
              "outlinewidth": 0,
              "ticks": ""
             }
            },
            "type": "scatterpolar"
           }
          ],
          "scatterpolargl": [
           {
            "marker": {
             "colorbar": {
              "outlinewidth": 0,
              "ticks": ""
             }
            },
            "type": "scatterpolargl"
           }
          ],
          "scatterternary": [
           {
            "marker": {
             "colorbar": {
              "outlinewidth": 0,
              "ticks": ""
             }
            },
            "type": "scatterternary"
           }
          ],
          "surface": [
           {
            "colorbar": {
             "outlinewidth": 0,
             "ticks": ""
            },
            "colorscale": [
             [
              0,
              "#0d0887"
             ],
             [
              0.1111111111111111,
              "#46039f"
             ],
             [
              0.2222222222222222,
              "#7201a8"
             ],
             [
              0.3333333333333333,
              "#9c179e"
             ],
             [
              0.4444444444444444,
              "#bd3786"
             ],
             [
              0.5555555555555556,
              "#d8576b"
             ],
             [
              0.6666666666666666,
              "#ed7953"
             ],
             [
              0.7777777777777778,
              "#fb9f3a"
             ],
             [
              0.8888888888888888,
              "#fdca26"
             ],
             [
              1,
              "#f0f921"
             ]
            ],
            "type": "surface"
           }
          ],
          "table": [
           {
            "cells": {
             "fill": {
              "color": "#EBF0F8"
             },
             "line": {
              "color": "white"
             }
            },
            "header": {
             "fill": {
              "color": "#C8D4E3"
             },
             "line": {
              "color": "white"
             }
            },
            "type": "table"
           }
          ]
         },
         "layout": {
          "annotationdefaults": {
           "arrowcolor": "#2a3f5f",
           "arrowhead": 0,
           "arrowwidth": 1
          },
          "coloraxis": {
           "colorbar": {
            "outlinewidth": 0,
            "ticks": ""
           }
          },
          "colorscale": {
           "diverging": [
            [
             0,
             "#8e0152"
            ],
            [
             0.1,
             "#c51b7d"
            ],
            [
             0.2,
             "#de77ae"
            ],
            [
             0.3,
             "#f1b6da"
            ],
            [
             0.4,
             "#fde0ef"
            ],
            [
             0.5,
             "#f7f7f7"
            ],
            [
             0.6,
             "#e6f5d0"
            ],
            [
             0.7,
             "#b8e186"
            ],
            [
             0.8,
             "#7fbc41"
            ],
            [
             0.9,
             "#4d9221"
            ],
            [
             1,
             "#276419"
            ]
           ],
           "sequential": [
            [
             0,
             "#0d0887"
            ],
            [
             0.1111111111111111,
             "#46039f"
            ],
            [
             0.2222222222222222,
             "#7201a8"
            ],
            [
             0.3333333333333333,
             "#9c179e"
            ],
            [
             0.4444444444444444,
             "#bd3786"
            ],
            [
             0.5555555555555556,
             "#d8576b"
            ],
            [
             0.6666666666666666,
             "#ed7953"
            ],
            [
             0.7777777777777778,
             "#fb9f3a"
            ],
            [
             0.8888888888888888,
             "#fdca26"
            ],
            [
             1,
             "#f0f921"
            ]
           ],
           "sequentialminus": [
            [
             0,
             "#0d0887"
            ],
            [
             0.1111111111111111,
             "#46039f"
            ],
            [
             0.2222222222222222,
             "#7201a8"
            ],
            [
             0.3333333333333333,
             "#9c179e"
            ],
            [
             0.4444444444444444,
             "#bd3786"
            ],
            [
             0.5555555555555556,
             "#d8576b"
            ],
            [
             0.6666666666666666,
             "#ed7953"
            ],
            [
             0.7777777777777778,
             "#fb9f3a"
            ],
            [
             0.8888888888888888,
             "#fdca26"
            ],
            [
             1,
             "#f0f921"
            ]
           ]
          },
          "colorway": [
           "#636efa",
           "#EF553B",
           "#00cc96",
           "#ab63fa",
           "#FFA15A",
           "#19d3f3",
           "#FF6692",
           "#B6E880",
           "#FF97FF",
           "#FECB52"
          ],
          "font": {
           "color": "#2a3f5f"
          },
          "geo": {
           "bgcolor": "white",
           "lakecolor": "white",
           "landcolor": "#E5ECF6",
           "showlakes": true,
           "showland": true,
           "subunitcolor": "white"
          },
          "hoverlabel": {
           "align": "left"
          },
          "hovermode": "closest",
          "mapbox": {
           "style": "light"
          },
          "paper_bgcolor": "white",
          "plot_bgcolor": "#E5ECF6",
          "polar": {
           "angularaxis": {
            "gridcolor": "white",
            "linecolor": "white",
            "ticks": ""
           },
           "bgcolor": "#E5ECF6",
           "radialaxis": {
            "gridcolor": "white",
            "linecolor": "white",
            "ticks": ""
           }
          },
          "scene": {
           "xaxis": {
            "backgroundcolor": "#E5ECF6",
            "gridcolor": "white",
            "gridwidth": 2,
            "linecolor": "white",
            "showbackground": true,
            "ticks": "",
            "zerolinecolor": "white"
           },
           "yaxis": {
            "backgroundcolor": "#E5ECF6",
            "gridcolor": "white",
            "gridwidth": 2,
            "linecolor": "white",
            "showbackground": true,
            "ticks": "",
            "zerolinecolor": "white"
           },
           "zaxis": {
            "backgroundcolor": "#E5ECF6",
            "gridcolor": "white",
            "gridwidth": 2,
            "linecolor": "white",
            "showbackground": true,
            "ticks": "",
            "zerolinecolor": "white"
           }
          },
          "shapedefaults": {
           "line": {
            "color": "#2a3f5f"
           }
          },
          "ternary": {
           "aaxis": {
            "gridcolor": "white",
            "linecolor": "white",
            "ticks": ""
           },
           "baxis": {
            "gridcolor": "white",
            "linecolor": "white",
            "ticks": ""
           },
           "bgcolor": "#E5ECF6",
           "caxis": {
            "gridcolor": "white",
            "linecolor": "white",
            "ticks": ""
           }
          },
          "title": {
           "x": 0.05
          },
          "xaxis": {
           "automargin": true,
           "gridcolor": "white",
           "linecolor": "white",
           "ticks": "",
           "title": {
            "standoff": 15
           },
           "zerolinecolor": "white",
           "zerolinewidth": 2
          },
          "yaxis": {
           "automargin": true,
           "gridcolor": "white",
           "linecolor": "white",
           "ticks": "",
           "title": {
            "standoff": 15
           },
           "zerolinecolor": "white",
           "zerolinewidth": 2
          }
         }
        },
        "xaxis": {
         "anchor": "y",
         "domain": [
          0,
          1
         ],
         "title": {
          "text": "Population in thousands (2017)"
         },
         "type": "log"
        },
        "yaxis": {
         "anchor": "x",
         "domain": [
          0,
          1
         ],
         "title": {
          "text": "No. of Data Breaches"
         }
        }
       }
      },
      "text/html": [
       "<div>\n",
       "        \n",
       "        \n",
       "            <div id=\"1f324eac-d1ed-4147-9164-8d5bb2fb3033\" class=\"plotly-graph-div\" style=\"height:525px; width:100%;\"></div>\n",
       "            <script type=\"text/javascript\">\n",
       "                require([\"plotly\"], function(Plotly) {\n",
       "                    window.PLOTLYENV=window.PLOTLYENV || {};\n",
       "                    \n",
       "                if (document.getElementById(\"1f324eac-d1ed-4147-9164-8d5bb2fb3033\")) {\n",
       "                    Plotly.newPlot(\n",
       "                        '1f324eac-d1ed-4147-9164-8d5bb2fb3033',\n",
       "                        [{\"hovertemplate\": \"<b>%{hovertext}</b><br><br>Country=Spain<br>Population in thousands (2017)=%{x}<br>No. of Data Breaches=%{marker.size}<extra></extra>\", \"hovertext\": [\"Spain\"], \"legendgroup\": \"Spain\", \"marker\": {\"color\": \"#636efa\", \"size\": [5665], \"sizemode\": \"area\", \"sizeref\": 2.266, \"symbol\": \"circle\"}, \"mode\": \"markers\", \"name\": \"Spain\", \"showlegend\": true, \"type\": \"scatter\", \"x\": [46354.0], \"xaxis\": \"x\", \"y\": [5665], \"yaxis\": \"y\"}, {\"hovertemplate\": \"<b>%{hovertext}</b><br><br>Country=Brazil<br>Population in thousands (2017)=%{x}<br>No. of Data Breaches=%{marker.size}<extra></extra>\", \"hovertext\": [\"Brazil\"], \"legendgroup\": \"Brazil\", \"marker\": {\"color\": \"#EF553B\", \"size\": [5302], \"sizemode\": \"area\", \"sizeref\": 2.266, \"symbol\": \"circle\"}, \"mode\": \"markers\", \"name\": \"Brazil\", \"showlegend\": true, \"type\": \"scatter\", \"x\": [209288.0], \"xaxis\": \"x\", \"y\": [5302], \"yaxis\": \"y\"}, {\"hovertemplate\": \"<b>%{hovertext}</b><br><br>Country=Germany<br>Population in thousands (2017)=%{x}<br>No. of Data Breaches=%{marker.size}<extra></extra>\", \"hovertext\": [\"Germany\"], \"legendgroup\": \"Germany\", \"marker\": {\"color\": \"#00cc96\", \"size\": [4088], \"sizemode\": \"area\", \"sizeref\": 2.266, \"symbol\": \"circle\"}, \"mode\": \"markers\", \"name\": \"Germany\", \"showlegend\": true, \"type\": \"scatter\", \"x\": [82114.0], \"xaxis\": \"x\", \"y\": [4088], \"yaxis\": \"y\"}, {\"hovertemplate\": \"<b>%{hovertext}</b><br><br>Country=France<br>Population in thousands (2017)=%{x}<br>No. of Data Breaches=%{marker.size}<extra></extra>\", \"hovertext\": [\"France\"], \"legendgroup\": \"France\", \"marker\": {\"color\": \"#ab63fa\", \"size\": [3681], \"sizemode\": \"area\", \"sizeref\": 2.266, \"symbol\": \"circle\"}, \"mode\": \"markers\", \"name\": \"France\", \"showlegend\": true, \"type\": \"scatter\", \"x\": [64980.0], \"xaxis\": \"x\", \"y\": [3681], \"yaxis\": \"y\"}, {\"hovertemplate\": \"<b>%{hovertext}</b><br><br>Country=United Kingdom<br>Population in thousands (2017)=%{x}<br>No. of Data Breaches=%{marker.size}<extra></extra>\", \"hovertext\": [\"United Kingdom\"], \"legendgroup\": \"United Kingdom\", \"marker\": {\"color\": \"#FFA15A\", \"size\": [3628], \"sizemode\": \"area\", \"sizeref\": 2.266, \"symbol\": \"circle\"}, \"mode\": \"markers\", \"name\": \"United Kingdom\", \"showlegend\": true, \"type\": \"scatter\", \"x\": [66182.0], \"xaxis\": \"x\", \"y\": [3628], \"yaxis\": \"y\"}, {\"hovertemplate\": \"<b>%{hovertext}</b><br><br>Country=Chile<br>Population in thousands (2017)=%{x}<br>No. of Data Breaches=%{marker.size}<extra></extra>\", \"hovertext\": [\"Chile\"], \"legendgroup\": \"Chile\", \"marker\": {\"color\": \"#19d3f3\", \"size\": [2473], \"sizemode\": \"area\", \"sizeref\": 2.266, \"symbol\": \"circle\"}, \"mode\": \"markers\", \"name\": \"Chile\", \"showlegend\": true, \"type\": \"scatter\", \"x\": [18055.0], \"xaxis\": \"x\", \"y\": [2473], \"yaxis\": \"y\"}, {\"hovertemplate\": \"<b>%{hovertext}</b><br><br>Country=China<br>Population in thousands (2017)=%{x}<br>No. of Data Breaches=%{marker.size}<extra></extra>\", \"hovertext\": [\"China\"], \"legendgroup\": \"China\", \"marker\": {\"color\": \"#FF6692\", \"size\": [2311], \"sizemode\": \"area\", \"sizeref\": 2.266, \"symbol\": \"circle\"}, \"mode\": \"markers\", \"name\": \"China\", \"showlegend\": true, \"type\": \"scatter\", \"x\": [1409517.0], \"xaxis\": \"x\", \"y\": [2311], \"yaxis\": \"y\"}, {\"hovertemplate\": \"<b>%{hovertext}</b><br><br>Country=Indonesia<br>Population in thousands (2017)=%{x}<br>No. of Data Breaches=%{marker.size}<extra></extra>\", \"hovertext\": [\"Indonesia\"], \"legendgroup\": \"Indonesia\", \"marker\": {\"color\": \"#B6E880\", \"size\": [2272], \"sizemode\": \"area\", \"sizeref\": 2.266, \"symbol\": \"circle\"}, \"mode\": \"markers\", \"name\": \"Indonesia\", \"showlegend\": true, \"type\": \"scatter\", \"x\": [263991.0], \"xaxis\": \"x\", \"y\": [2272], \"yaxis\": \"y\"}, {\"hovertemplate\": \"<b>%{hovertext}</b><br><br>Country=Italy<br>Population in thousands (2017)=%{x}<br>No. of Data Breaches=%{marker.size}<extra></extra>\", \"hovertext\": [\"Italy\"], \"legendgroup\": \"Italy\", \"marker\": {\"color\": \"#FF97FF\", \"size\": [2150], \"sizemode\": \"area\", \"sizeref\": 2.266, \"symbol\": \"circle\"}, \"mode\": \"markers\", \"name\": \"Italy\", \"showlegend\": true, \"type\": \"scatter\", \"x\": [59360.0], \"xaxis\": \"x\", \"y\": [2150], \"yaxis\": \"y\"}, {\"hovertemplate\": \"<b>%{hovertext}</b><br><br>Country=Denmark<br>Population in thousands (2017)=%{x}<br>No. of Data Breaches=%{marker.size}<extra></extra>\", \"hovertext\": [\"Denmark\"], \"legendgroup\": \"Denmark\", \"marker\": {\"color\": \"#FECB52\", \"size\": [1612], \"sizemode\": \"area\", \"sizeref\": 2.266, \"symbol\": \"circle\"}, \"mode\": \"markers\", \"name\": \"Denmark\", \"showlegend\": true, \"type\": \"scatter\", \"x\": [5734.0], \"xaxis\": \"x\", \"y\": [1612], \"yaxis\": \"y\"}, {\"hovertemplate\": \"<b>%{hovertext}</b><br><br>Country=Canada<br>Population in thousands (2017)=%{x}<br>No. of Data Breaches=%{marker.size}<extra></extra>\", \"hovertext\": [\"Canada\"], \"legendgroup\": \"Canada\", \"marker\": {\"color\": \"#636efa\", \"size\": [1553], \"sizemode\": \"area\", \"sizeref\": 2.266, \"symbol\": \"circle\"}, \"mode\": \"markers\", \"name\": \"Canada\", \"showlegend\": true, \"type\": \"scatter\", \"x\": [36624.0], \"xaxis\": \"x\", \"y\": [1553], \"yaxis\": \"y\"}, {\"hovertemplate\": \"<b>%{hovertext}</b><br><br>Country=Netherlands<br>Population in thousands (2017)=%{x}<br>No. of Data Breaches=%{marker.size}<extra></extra>\", \"hovertext\": [\"Netherlands\"], \"legendgroup\": \"Netherlands\", \"marker\": {\"color\": \"#EF553B\", \"size\": [1442], \"sizemode\": \"area\", \"sizeref\": 2.266, \"symbol\": \"circle\"}, \"mode\": \"markers\", \"name\": \"Netherlands\", \"showlegend\": true, \"type\": \"scatter\", \"x\": [17036.0], \"xaxis\": \"x\", \"y\": [1442], \"yaxis\": \"y\"}, {\"hovertemplate\": \"<b>%{hovertext}</b><br><br>Country=Thailand<br>Population in thousands (2017)=%{x}<br>No. of Data Breaches=%{marker.size}<extra></extra>\", \"hovertext\": [\"Thailand\"], \"legendgroup\": \"Thailand\", \"marker\": {\"color\": \"#00cc96\", \"size\": [1430], \"sizemode\": \"area\", \"sizeref\": 2.266, \"symbol\": \"circle\"}, \"mode\": \"markers\", \"name\": \"Thailand\", \"showlegend\": true, \"type\": \"scatter\", \"x\": [69038.0], \"xaxis\": \"x\", \"y\": [1430], \"yaxis\": \"y\"}, {\"hovertemplate\": \"<b>%{hovertext}</b><br><br>Country=Turkey<br>Population in thousands (2017)=%{x}<br>No. of Data Breaches=%{marker.size}<extra></extra>\", \"hovertext\": [\"Turkey\"], \"legendgroup\": \"Turkey\", \"marker\": {\"color\": \"#ab63fa\", \"size\": [1078], \"sizemode\": \"area\", \"sizeref\": 2.266, \"symbol\": \"circle\"}, \"mode\": \"markers\", \"name\": \"Turkey\", \"showlegend\": true, \"type\": \"scatter\", \"x\": [80745.0], \"xaxis\": \"x\", \"y\": [1078], \"yaxis\": \"y\"}, {\"hovertemplate\": \"<b>%{hovertext}</b><br><br>Country=Poland<br>Population in thousands (2017)=%{x}<br>No. of Data Breaches=%{marker.size}<extra></extra>\", \"hovertext\": [\"Poland\"], \"legendgroup\": \"Poland\", \"marker\": {\"color\": \"#FFA15A\", \"size\": [1050], \"sizemode\": \"area\", \"sizeref\": 2.266, \"symbol\": \"circle\"}, \"mode\": \"markers\", \"name\": \"Poland\", \"showlegend\": true, \"type\": \"scatter\", \"x\": [38171.0], \"xaxis\": \"x\", \"y\": [1050], \"yaxis\": \"y\"}, {\"hovertemplate\": \"<b>%{hovertext}</b><br><br>Country=Australia<br>Population in thousands (2017)=%{x}<br>No. of Data Breaches=%{marker.size}<extra></extra>\", \"hovertext\": [\"Australia\"], \"legendgroup\": \"Australia\", \"marker\": {\"color\": \"#19d3f3\", \"size\": [1010], \"sizemode\": \"area\", \"sizeref\": 2.266, \"symbol\": \"circle\"}, \"mode\": \"markers\", \"name\": \"Australia\", \"showlegend\": true, \"type\": \"scatter\", \"x\": [24451.0], \"xaxis\": \"x\", \"y\": [1010], \"yaxis\": \"y\"}, {\"hovertemplate\": \"<b>%{hovertext}</b><br><br>Country=Japan<br>Population in thousands (2017)=%{x}<br>No. of Data Breaches=%{marker.size}<extra></extra>\", \"hovertext\": [\"Japan\"], \"legendgroup\": \"Japan\", \"marker\": {\"color\": \"#FF6692\", \"size\": [967], \"sizemode\": \"area\", \"sizeref\": 2.266, \"symbol\": \"circle\"}, \"mode\": \"markers\", \"name\": \"Japan\", \"showlegend\": true, \"type\": \"scatter\", \"x\": [127484.0], \"xaxis\": \"x\", \"y\": [967], \"yaxis\": \"y\"}, {\"hovertemplate\": \"<b>%{hovertext}</b><br><br>Country=Argentina<br>Population in thousands (2017)=%{x}<br>No. of Data Breaches=%{marker.size}<extra></extra>\", \"hovertext\": [\"Argentina\"], \"legendgroup\": \"Argentina\", \"marker\": {\"color\": \"#B6E880\", \"size\": [848], \"sizemode\": \"area\", \"sizeref\": 2.266, \"symbol\": \"circle\"}, \"mode\": \"markers\", \"name\": \"Argentina\", \"showlegend\": true, \"type\": \"scatter\", \"x\": [44271.0], \"xaxis\": \"x\", \"y\": [848], \"yaxis\": \"y\"}, {\"hovertemplate\": \"<b>%{hovertext}</b><br><br>Country=Mexico<br>Population in thousands (2017)=%{x}<br>No. of Data Breaches=%{marker.size}<extra></extra>\", \"hovertext\": [\"Mexico\"], \"legendgroup\": \"Mexico\", \"marker\": {\"color\": \"#FF97FF\", \"size\": [792], \"sizemode\": \"area\", \"sizeref\": 2.266, \"symbol\": \"circle\"}, \"mode\": \"markers\", \"name\": \"Mexico\", \"showlegend\": true, \"type\": \"scatter\", \"x\": [129163.0], \"xaxis\": \"x\", \"y\": [792], \"yaxis\": \"y\"}, {\"hovertemplate\": \"<b>%{hovertext}</b><br><br>Country=Ireland<br>Population in thousands (2017)=%{x}<br>No. of Data Breaches=%{marker.size}<extra></extra>\", \"hovertext\": [\"Ireland\"], \"legendgroup\": \"Ireland\", \"marker\": {\"color\": \"#FECB52\", \"size\": [641], \"sizemode\": \"area\", \"sizeref\": 2.266, \"symbol\": \"circle\"}, \"mode\": \"markers\", \"name\": \"Ireland\", \"showlegend\": true, \"type\": \"scatter\", \"x\": [4762.0], \"xaxis\": \"x\", \"y\": [641], \"yaxis\": \"y\"}, {\"hovertemplate\": \"<b>%{hovertext}</b><br><br>Country=Ukraine<br>Population in thousands (2017)=%{x}<br>No. of Data Breaches=%{marker.size}<extra></extra>\", \"hovertext\": [\"Ukraine\"], \"legendgroup\": \"Ukraine\", \"marker\": {\"color\": \"#636efa\", \"size\": [614], \"sizemode\": \"area\", \"sizeref\": 2.266, \"symbol\": \"circle\"}, \"mode\": \"markers\", \"name\": \"Ukraine\", \"showlegend\": true, \"type\": \"scatter\", \"x\": [44223.0], \"xaxis\": \"x\", \"y\": [614], \"yaxis\": \"y\"}, {\"hovertemplate\": \"<b>%{hovertext}</b><br><br>Country=Hungary<br>Population in thousands (2017)=%{x}<br>No. of Data Breaches=%{marker.size}<extra></extra>\", \"hovertext\": [\"Hungary\"], \"legendgroup\": \"Hungary\", \"marker\": {\"color\": \"#EF553B\", \"size\": [603], \"sizemode\": \"area\", \"sizeref\": 2.266, \"symbol\": \"circle\"}, \"mode\": \"markers\", \"name\": \"Hungary\", \"showlegend\": true, \"type\": \"scatter\", \"x\": [9722.0], \"xaxis\": \"x\", \"y\": [603], \"yaxis\": \"y\"}, {\"hovertemplate\": \"<b>%{hovertext}</b><br><br>Country=Norway<br>Population in thousands (2017)=%{x}<br>No. of Data Breaches=%{marker.size}<extra></extra>\", \"hovertext\": [\"Norway\"], \"legendgroup\": \"Norway\", \"marker\": {\"color\": \"#00cc96\", \"size\": [598], \"sizemode\": \"area\", \"sizeref\": 2.266, \"symbol\": \"circle\"}, \"mode\": \"markers\", \"name\": \"Norway\", \"showlegend\": true, \"type\": \"scatter\", \"x\": [5305.0], \"xaxis\": \"x\", \"y\": [598], \"yaxis\": \"y\"}, {\"hovertemplate\": \"<b>%{hovertext}</b><br><br>Country=Switzerland<br>Population in thousands (2017)=%{x}<br>No. of Data Breaches=%{marker.size}<extra></extra>\", \"hovertext\": [\"Switzerland\"], \"legendgroup\": \"Switzerland\", \"marker\": {\"color\": \"#ab63fa\", \"size\": [574], \"sizemode\": \"area\", \"sizeref\": 2.266, \"symbol\": \"circle\"}, \"mode\": \"markers\", \"name\": \"Switzerland\", \"showlegend\": true, \"type\": \"scatter\", \"x\": [8476.0], \"xaxis\": \"x\", \"y\": [574], \"yaxis\": \"y\"}, {\"hovertemplate\": \"<b>%{hovertext}</b><br><br>Country=Viet Nam<br>Population in thousands (2017)=%{x}<br>No. of Data Breaches=%{marker.size}<extra></extra>\", \"hovertext\": [\"Viet Nam\"], \"legendgroup\": \"Viet Nam\", \"marker\": {\"color\": \"#FFA15A\", \"size\": [555], \"sizemode\": \"area\", \"sizeref\": 2.266, \"symbol\": \"circle\"}, \"mode\": \"markers\", \"name\": \"Viet Nam\", \"showlegend\": true, \"type\": \"scatter\", \"x\": [95541.0], \"xaxis\": \"x\", \"y\": [555], \"yaxis\": \"y\"}, {\"hovertemplate\": \"<b>%{hovertext}</b><br><br>Country=Greece<br>Population in thousands (2017)=%{x}<br>No. of Data Breaches=%{marker.size}<extra></extra>\", \"hovertext\": [\"Greece\"], \"legendgroup\": \"Greece\", \"marker\": {\"color\": \"#19d3f3\", \"size\": [545], \"sizemode\": \"area\", \"sizeref\": 2.266, \"symbol\": \"circle\"}, \"mode\": \"markers\", \"name\": \"Greece\", \"showlegend\": true, \"type\": \"scatter\", \"x\": [11160.0], \"xaxis\": \"x\", \"y\": [545], \"yaxis\": \"y\"}, {\"hovertemplate\": \"<b>%{hovertext}</b><br><br>Country=Slovenia<br>Population in thousands (2017)=%{x}<br>No. of Data Breaches=%{marker.size}<extra></extra>\", \"hovertext\": [\"Slovenia\"], \"legendgroup\": \"Slovenia\", \"marker\": {\"color\": \"#FF6692\", \"size\": [537], \"sizemode\": \"area\", \"sizeref\": 2.266, \"symbol\": \"circle\"}, \"mode\": \"markers\", \"name\": \"Slovenia\", \"showlegend\": true, \"type\": \"scatter\", \"x\": [2080.0], \"xaxis\": \"x\", \"y\": [537], \"yaxis\": \"y\"}, {\"hovertemplate\": \"<b>%{hovertext}</b><br><br>Country=India<br>Population in thousands (2017)=%{x}<br>No. of Data Breaches=%{marker.size}<extra></extra>\", \"hovertext\": [\"India\"], \"legendgroup\": \"India\", \"marker\": {\"color\": \"#B6E880\", \"size\": [531], \"sizemode\": \"area\", \"sizeref\": 2.266, \"symbol\": \"circle\"}, \"mode\": \"markers\", \"name\": \"India\", \"showlegend\": true, \"type\": \"scatter\", \"x\": [1339180.0], \"xaxis\": \"x\", \"y\": [531], \"yaxis\": \"y\"}, {\"hovertemplate\": \"<b>%{hovertext}</b><br><br>Country=Romania<br>Population in thousands (2017)=%{x}<br>No. of Data Breaches=%{marker.size}<extra></extra>\", \"hovertext\": [\"Romania\"], \"legendgroup\": \"Romania\", \"marker\": {\"color\": \"#FF97FF\", \"size\": [482], \"sizemode\": \"area\", \"sizeref\": 2.266, \"symbol\": \"circle\"}, \"mode\": \"markers\", \"name\": \"Romania\", \"showlegend\": true, \"type\": \"scatter\", \"x\": [19679.0], \"xaxis\": \"x\", \"y\": [482], \"yaxis\": \"y\"}, {\"hovertemplate\": \"<b>%{hovertext}</b><br><br>Country=Israel<br>Population in thousands (2017)=%{x}<br>No. of Data Breaches=%{marker.size}<extra></extra>\", \"hovertext\": [\"Israel\"], \"legendgroup\": \"Israel\", \"marker\": {\"color\": \"#FECB52\", \"size\": [459], \"sizemode\": \"area\", \"sizeref\": 2.266, \"symbol\": \"circle\"}, \"mode\": \"markers\", \"name\": \"Israel\", \"showlegend\": true, \"type\": \"scatter\", \"x\": [8322.0], \"xaxis\": \"x\", \"y\": [459], \"yaxis\": \"y\"}, {\"hovertemplate\": \"<b>%{hovertext}</b><br><br>Country=South Africa<br>Population in thousands (2017)=%{x}<br>No. of Data Breaches=%{marker.size}<extra></extra>\", \"hovertext\": [\"South Africa\"], \"legendgroup\": \"South Africa\", \"marker\": {\"color\": \"#636efa\", \"size\": [440], \"sizemode\": \"area\", \"sizeref\": 2.266, \"symbol\": \"circle\"}, \"mode\": \"markers\", \"name\": \"South Africa\", \"showlegend\": true, \"type\": \"scatter\", \"x\": [56717.0], \"xaxis\": \"x\", \"y\": [440], \"yaxis\": \"y\"}, {\"hovertemplate\": \"<b>%{hovertext}</b><br><br>Country=Malaysia<br>Population in thousands (2017)=%{x}<br>No. of Data Breaches=%{marker.size}<extra></extra>\", \"hovertext\": [\"Malaysia\"], \"legendgroup\": \"Malaysia\", \"marker\": {\"color\": \"#EF553B\", \"size\": [403], \"sizemode\": \"area\", \"sizeref\": 2.266, \"symbol\": \"circle\"}, \"mode\": \"markers\", \"name\": \"Malaysia\", \"showlegend\": true, \"type\": \"scatter\", \"x\": [31624.0], \"xaxis\": \"x\", \"y\": [403], \"yaxis\": \"y\"}, {\"hovertemplate\": \"<b>%{hovertext}</b><br><br>Country=Singapore<br>Population in thousands (2017)=%{x}<br>No. of Data Breaches=%{marker.size}<extra></extra>\", \"hovertext\": [\"Singapore\"], \"legendgroup\": \"Singapore\", \"marker\": {\"color\": \"#00cc96\", \"size\": [396], \"sizemode\": \"area\", \"sizeref\": 2.266, \"symbol\": \"circle\"}, \"mode\": \"markers\", \"name\": \"Singapore\", \"showlegend\": true, \"type\": \"scatter\", \"x\": [5709.0], \"xaxis\": \"x\", \"y\": [396], \"yaxis\": \"y\"}, {\"hovertemplate\": \"<b>%{hovertext}</b><br><br>Country=Sweden<br>Population in thousands (2017)=%{x}<br>No. of Data Breaches=%{marker.size}<extra></extra>\", \"hovertext\": [\"Sweden\"], \"legendgroup\": \"Sweden\", \"marker\": {\"color\": \"#ab63fa\", \"size\": [383], \"sizemode\": \"area\", \"sizeref\": 2.266, \"symbol\": \"circle\"}, \"mode\": \"markers\", \"name\": \"Sweden\", \"showlegend\": true, \"type\": \"scatter\", \"x\": [9911.0], \"xaxis\": \"x\", \"y\": [383], \"yaxis\": \"y\"}, {\"hovertemplate\": \"<b>%{hovertext}</b><br><br>Country=Belgium<br>Population in thousands (2017)=%{x}<br>No. of Data Breaches=%{marker.size}<extra></extra>\", \"hovertext\": [\"Belgium\"], \"legendgroup\": \"Belgium\", \"marker\": {\"color\": \"#FFA15A\", \"size\": [367], \"sizemode\": \"area\", \"sizeref\": 2.266, \"symbol\": \"circle\"}, \"mode\": \"markers\", \"name\": \"Belgium\", \"showlegend\": true, \"type\": \"scatter\", \"x\": [11429.0], \"xaxis\": \"x\", \"y\": [367], \"yaxis\": \"y\"}, {\"hovertemplate\": \"<b>%{hovertext}</b><br><br>Country=Slovakia<br>Population in thousands (2017)=%{x}<br>No. of Data Breaches=%{marker.size}<extra></extra>\", \"hovertext\": [\"Slovakia\"], \"legendgroup\": \"Slovakia\", \"marker\": {\"color\": \"#19d3f3\", \"size\": [330], \"sizemode\": \"area\", \"sizeref\": 2.266, \"symbol\": \"circle\"}, \"mode\": \"markers\", \"name\": \"Slovakia\", \"showlegend\": true, \"type\": \"scatter\", \"x\": [5448.0], \"xaxis\": \"x\", \"y\": [330], \"yaxis\": \"y\"}, {\"hovertemplate\": \"<b>%{hovertext}</b><br><br>Country=Austria<br>Population in thousands (2017)=%{x}<br>No. of Data Breaches=%{marker.size}<extra></extra>\", \"hovertext\": [\"Austria\"], \"legendgroup\": \"Austria\", \"marker\": {\"color\": \"#FF6692\", \"size\": [318], \"sizemode\": \"area\", \"sizeref\": 2.266, \"symbol\": \"circle\"}, \"mode\": \"markers\", \"name\": \"Austria\", \"showlegend\": true, \"type\": \"scatter\", \"x\": [8736.0], \"xaxis\": \"x\", \"y\": [318], \"yaxis\": \"y\"}, {\"hovertemplate\": \"<b>%{hovertext}</b><br><br>Country=Lithuania<br>Population in thousands (2017)=%{x}<br>No. of Data Breaches=%{marker.size}<extra></extra>\", \"hovertext\": [\"Lithuania\"], \"legendgroup\": \"Lithuania\", \"marker\": {\"color\": \"#B6E880\", \"size\": [221], \"sizemode\": \"area\", \"sizeref\": 2.266, \"symbol\": \"circle\"}, \"mode\": \"markers\", \"name\": \"Lithuania\", \"showlegend\": true, \"type\": \"scatter\", \"x\": [2890.0], \"xaxis\": \"x\", \"y\": [221], \"yaxis\": \"y\"}, {\"hovertemplate\": \"<b>%{hovertext}</b><br><br>Country=Portugal<br>Population in thousands (2017)=%{x}<br>No. of Data Breaches=%{marker.size}<extra></extra>\", \"hovertext\": [\"Portugal\"], \"legendgroup\": \"Portugal\", \"marker\": {\"color\": \"#FF97FF\", \"size\": [219], \"sizemode\": \"area\", \"sizeref\": 2.266, \"symbol\": \"circle\"}, \"mode\": \"markers\", \"name\": \"Portugal\", \"showlegend\": true, \"type\": \"scatter\", \"x\": [10330.0], \"xaxis\": \"x\", \"y\": [219], \"yaxis\": \"y\"}, {\"hovertemplate\": \"<b>%{hovertext}</b><br><br>Country=Peru<br>Population in thousands (2017)=%{x}<br>No. of Data Breaches=%{marker.size}<extra></extra>\", \"hovertext\": [\"Peru\"], \"legendgroup\": \"Peru\", \"marker\": {\"color\": \"#FECB52\", \"size\": [218], \"sizemode\": \"area\", \"sizeref\": 2.266, \"symbol\": \"circle\"}, \"mode\": \"markers\", \"name\": \"Peru\", \"showlegend\": true, \"type\": \"scatter\", \"x\": [32166.0], \"xaxis\": \"x\", \"y\": [218], \"yaxis\": \"y\"}, {\"hovertemplate\": \"<b>%{hovertext}</b><br><br>Country=Estonia<br>Population in thousands (2017)=%{x}<br>No. of Data Breaches=%{marker.size}<extra></extra>\", \"hovertext\": [\"Estonia\"], \"legendgroup\": \"Estonia\", \"marker\": {\"color\": \"#636efa\", \"size\": [214], \"sizemode\": \"area\", \"sizeref\": 2.266, \"symbol\": \"circle\"}, \"mode\": \"markers\", \"name\": \"Estonia\", \"showlegend\": true, \"type\": \"scatter\", \"x\": [1310.0], \"xaxis\": \"x\", \"y\": [214], \"yaxis\": \"y\"}, {\"hovertemplate\": \"<b>%{hovertext}</b><br><br>Country=Colombia<br>Population in thousands (2017)=%{x}<br>No. of Data Breaches=%{marker.size}<extra></extra>\", \"hovertext\": [\"Colombia\"], \"legendgroup\": \"Colombia\", \"marker\": {\"color\": \"#EF553B\", \"size\": [191], \"sizemode\": \"area\", \"sizeref\": 2.266, \"symbol\": \"circle\"}, \"mode\": \"markers\", \"name\": \"Colombia\", \"showlegend\": true, \"type\": \"scatter\", \"x\": [49066.0], \"xaxis\": \"x\", \"y\": [191], \"yaxis\": \"y\"}, {\"hovertemplate\": \"<b>%{hovertext}</b><br><br>Country=New Zealand<br>Population in thousands (2017)=%{x}<br>No. of Data Breaches=%{marker.size}<extra></extra>\", \"hovertext\": [\"New Zealand\"], \"legendgroup\": \"New Zealand\", \"marker\": {\"color\": \"#00cc96\", \"size\": [191], \"sizemode\": \"area\", \"sizeref\": 2.266, \"symbol\": \"circle\"}, \"mode\": \"markers\", \"name\": \"New Zealand\", \"showlegend\": true, \"type\": \"scatter\", \"x\": [4706.0], \"xaxis\": \"x\", \"y\": [191], \"yaxis\": \"y\"}, {\"hovertemplate\": \"<b>%{hovertext}</b><br><br>Country=Bulgaria<br>Population in thousands (2017)=%{x}<br>No. of Data Breaches=%{marker.size}<extra></extra>\", \"hovertext\": [\"Bulgaria\"], \"legendgroup\": \"Bulgaria\", \"marker\": {\"color\": \"#ab63fa\", \"size\": [149], \"sizemode\": \"area\", \"sizeref\": 2.266, \"symbol\": \"circle\"}, \"mode\": \"markers\", \"name\": \"Bulgaria\", \"showlegend\": true, \"type\": \"scatter\", \"x\": [7085.0], \"xaxis\": \"x\", \"y\": [149], \"yaxis\": \"y\"}, {\"hovertemplate\": \"<b>%{hovertext}</b><br><br>Country=Philippines<br>Population in thousands (2017)=%{x}<br>No. of Data Breaches=%{marker.size}<extra></extra>\", \"hovertext\": [\"Philippines\"], \"legendgroup\": \"Philippines\", \"marker\": {\"color\": \"#FFA15A\", \"size\": [139], \"sizemode\": \"area\", \"sizeref\": 2.266, \"symbol\": \"circle\"}, \"mode\": \"markers\", \"name\": \"Philippines\", \"showlegend\": true, \"type\": \"scatter\", \"x\": [104918.0], \"xaxis\": \"x\", \"y\": [139], \"yaxis\": \"y\"}, {\"hovertemplate\": \"<b>%{hovertext}</b><br><br>Country=Bangladesh<br>Population in thousands (2017)=%{x}<br>No. of Data Breaches=%{marker.size}<extra></extra>\", \"hovertext\": [\"Bangladesh\"], \"legendgroup\": \"Bangladesh\", \"marker\": {\"color\": \"#19d3f3\", \"size\": [130], \"sizemode\": \"area\", \"sizeref\": 2.266, \"symbol\": \"circle\"}, \"mode\": \"markers\", \"name\": \"Bangladesh\", \"showlegend\": true, \"type\": \"scatter\", \"x\": [164670.0], \"xaxis\": \"x\", \"y\": [130], \"yaxis\": \"y\"}, {\"hovertemplate\": \"<b>%{hovertext}</b><br><br>Country=Morocco<br>Population in thousands (2017)=%{x}<br>No. of Data Breaches=%{marker.size}<extra></extra>\", \"hovertext\": [\"Morocco\"], \"legendgroup\": \"Morocco\", \"marker\": {\"color\": \"#FF6692\", \"size\": [129], \"sizemode\": \"area\", \"sizeref\": 2.266, \"symbol\": \"circle\"}, \"mode\": \"markers\", \"name\": \"Morocco\", \"showlegend\": true, \"type\": \"scatter\", \"x\": [35740.0], \"xaxis\": \"x\", \"y\": [129], \"yaxis\": \"y\"}, {\"hovertemplate\": \"<b>%{hovertext}</b><br><br>Country=Pakistan<br>Population in thousands (2017)=%{x}<br>No. of Data Breaches=%{marker.size}<extra></extra>\", \"hovertext\": [\"Pakistan\"], \"legendgroup\": \"Pakistan\", \"marker\": {\"color\": \"#B6E880\", \"size\": [119], \"sizemode\": \"area\", \"sizeref\": 2.266, \"symbol\": \"circle\"}, \"mode\": \"markers\", \"name\": \"Pakistan\", \"showlegend\": true, \"type\": \"scatter\", \"x\": [197016.0], \"xaxis\": \"x\", \"y\": [119], \"yaxis\": \"y\"}, {\"hovertemplate\": \"<b>%{hovertext}</b><br><br>Country=Egypt<br>Population in thousands (2017)=%{x}<br>No. of Data Breaches=%{marker.size}<extra></extra>\", \"hovertext\": [\"Egypt\"], \"legendgroup\": \"Egypt\", \"marker\": {\"color\": \"#FF97FF\", \"size\": [112], \"sizemode\": \"area\", \"sizeref\": 2.266, \"symbol\": \"circle\"}, \"mode\": \"markers\", \"name\": \"Egypt\", \"showlegend\": true, \"type\": \"scatter\", \"x\": [97553.0], \"xaxis\": \"x\", \"y\": [112], \"yaxis\": \"y\"}, {\"hovertemplate\": \"<b>%{hovertext}</b><br><br>Country=Kazakhstan<br>Population in thousands (2017)=%{x}<br>No. of Data Breaches=%{marker.size}<extra></extra>\", \"hovertext\": [\"Kazakhstan\"], \"legendgroup\": \"Kazakhstan\", \"marker\": {\"color\": \"#FECB52\", \"size\": [103], \"sizemode\": \"area\", \"sizeref\": 2.266, \"symbol\": \"circle\"}, \"mode\": \"markers\", \"name\": \"Kazakhstan\", \"showlegend\": true, \"type\": \"scatter\", \"x\": [18204.0], \"xaxis\": \"x\", \"y\": [103], \"yaxis\": \"y\"}, {\"hovertemplate\": \"<b>%{hovertext}</b><br><br>Country=Croatia<br>Population in thousands (2017)=%{x}<br>No. of Data Breaches=%{marker.size}<extra></extra>\", \"hovertext\": [\"Croatia\"], \"legendgroup\": \"Croatia\", \"marker\": {\"color\": \"#636efa\", \"size\": [101], \"sizemode\": \"area\", \"sizeref\": 2.266, \"symbol\": \"circle\"}, \"mode\": \"markers\", \"name\": \"Croatia\", \"showlegend\": true, \"type\": \"scatter\", \"x\": [4189.0], \"xaxis\": \"x\", \"y\": [101], \"yaxis\": \"y\"}, {\"hovertemplate\": \"<b>%{hovertext}</b><br><br>Country=Tunisia<br>Population in thousands (2017)=%{x}<br>No. of Data Breaches=%{marker.size}<extra></extra>\", \"hovertext\": [\"Tunisia\"], \"legendgroup\": \"Tunisia\", \"marker\": {\"color\": \"#EF553B\", \"size\": [83], \"sizemode\": \"area\", \"sizeref\": 2.266, \"symbol\": \"circle\"}, \"mode\": \"markers\", \"name\": \"Tunisia\", \"showlegend\": true, \"type\": \"scatter\", \"x\": [11532.0], \"xaxis\": \"x\", \"y\": [83], \"yaxis\": \"y\"}, {\"hovertemplate\": \"<b>%{hovertext}</b><br><br>Country=Serbia<br>Population in thousands (2017)=%{x}<br>No. of Data Breaches=%{marker.size}<extra></extra>\", \"hovertext\": [\"Serbia\"], \"legendgroup\": \"Serbia\", \"marker\": {\"color\": \"#00cc96\", \"size\": [82], \"sizemode\": \"area\", \"sizeref\": 2.266, \"symbol\": \"circle\"}, \"mode\": \"markers\", \"name\": \"Serbia\", \"showlegend\": true, \"type\": \"scatter\", \"x\": [8791.0], \"xaxis\": \"x\", \"y\": [82], \"yaxis\": \"y\"}, {\"hovertemplate\": \"<b>%{hovertext}</b><br><br>Country=Finland<br>Population in thousands (2017)=%{x}<br>No. of Data Breaches=%{marker.size}<extra></extra>\", \"hovertext\": [\"Finland\"], \"legendgroup\": \"Finland\", \"marker\": {\"color\": \"#ab63fa\", \"size\": [81], \"sizemode\": \"area\", \"sizeref\": 2.266, \"symbol\": \"circle\"}, \"mode\": \"markers\", \"name\": \"Finland\", \"showlegend\": true, \"type\": \"scatter\", \"x\": [5523.0], \"xaxis\": \"x\", \"y\": [81], \"yaxis\": \"y\"}, {\"hovertemplate\": \"<b>%{hovertext}</b><br><br>Country=Sri Lanka<br>Population in thousands (2017)=%{x}<br>No. of Data Breaches=%{marker.size}<extra></extra>\", \"hovertext\": [\"Sri Lanka\"], \"legendgroup\": \"Sri Lanka\", \"marker\": {\"color\": \"#FFA15A\", \"size\": [77], \"sizemode\": \"area\", \"sizeref\": 2.266, \"symbol\": \"circle\"}, \"mode\": \"markers\", \"name\": \"Sri Lanka\", \"showlegend\": true, \"type\": \"scatter\", \"x\": [20877.0], \"xaxis\": \"x\", \"y\": [77], \"yaxis\": \"y\"}, {\"hovertemplate\": \"<b>%{hovertext}</b><br><br>Country=Ecuador<br>Population in thousands (2017)=%{x}<br>No. of Data Breaches=%{marker.size}<extra></extra>\", \"hovertext\": [\"Ecuador\"], \"legendgroup\": \"Ecuador\", \"marker\": {\"color\": \"#19d3f3\", \"size\": [53], \"sizemode\": \"area\", \"sizeref\": 2.266, \"symbol\": \"circle\"}, \"mode\": \"markers\", \"name\": \"Ecuador\", \"showlegend\": true, \"type\": \"scatter\", \"x\": [16625.0], \"xaxis\": \"x\", \"y\": [53], \"yaxis\": \"y\"}, {\"hovertemplate\": \"<b>%{hovertext}</b><br><br>Country=Belarus<br>Population in thousands (2017)=%{x}<br>No. of Data Breaches=%{marker.size}<extra></extra>\", \"hovertext\": [\"Belarus\"], \"legendgroup\": \"Belarus\", \"marker\": {\"color\": \"#FF6692\", \"size\": [52], \"sizemode\": \"area\", \"sizeref\": 2.266, \"symbol\": \"circle\"}, \"mode\": \"markers\", \"name\": \"Belarus\", \"showlegend\": true, \"type\": \"scatter\", \"x\": [9468.0], \"xaxis\": \"x\", \"y\": [52], \"yaxis\": \"y\"}, {\"hovertemplate\": \"<b>%{hovertext}</b><br><br>Country=Uruguay<br>Population in thousands (2017)=%{x}<br>No. of Data Breaches=%{marker.size}<extra></extra>\", \"hovertext\": [\"Uruguay\"], \"legendgroup\": \"Uruguay\", \"marker\": {\"color\": \"#B6E880\", \"size\": [47], \"sizemode\": \"area\", \"sizeref\": 2.266, \"symbol\": \"circle\"}, \"mode\": \"markers\", \"name\": \"Uruguay\", \"showlegend\": true, \"type\": \"scatter\", \"x\": [3457.0], \"xaxis\": \"x\", \"y\": [47], \"yaxis\": \"y\"}, {\"hovertemplate\": \"<b>%{hovertext}</b><br><br>Country=Latvia<br>Population in thousands (2017)=%{x}<br>No. of Data Breaches=%{marker.size}<extra></extra>\", \"hovertext\": [\"Latvia\"], \"legendgroup\": \"Latvia\", \"marker\": {\"color\": \"#FF97FF\", \"size\": [44], \"sizemode\": \"area\", \"sizeref\": 2.266, \"symbol\": \"circle\"}, \"mode\": \"markers\", \"name\": \"Latvia\", \"showlegend\": true, \"type\": \"scatter\", \"x\": [1950.0], \"xaxis\": \"x\", \"y\": [44], \"yaxis\": \"y\"}, {\"hovertemplate\": \"<b>%{hovertext}</b><br><br>Country=Albania<br>Population in thousands (2017)=%{x}<br>No. of Data Breaches=%{marker.size}<extra></extra>\", \"hovertext\": [\"Albania\"], \"legendgroup\": \"Albania\", \"marker\": {\"color\": \"#FECB52\", \"size\": [42], \"sizemode\": \"area\", \"sizeref\": 2.266, \"symbol\": \"circle\"}, \"mode\": \"markers\", \"name\": \"Albania\", \"showlegend\": true, \"type\": \"scatter\", \"x\": [2930.0], \"xaxis\": \"x\", \"y\": [42], \"yaxis\": \"y\"}, {\"hovertemplate\": \"<b>%{hovertext}</b><br><br>Country=Nepal<br>Population in thousands (2017)=%{x}<br>No. of Data Breaches=%{marker.size}<extra></extra>\", \"hovertext\": [\"Nepal\"], \"legendgroup\": \"Nepal\", \"marker\": {\"color\": \"#636efa\", \"size\": [41], \"sizemode\": \"area\", \"sizeref\": 2.266, \"symbol\": \"circle\"}, \"mode\": \"markers\", \"name\": \"Nepal\", \"showlegend\": true, \"type\": \"scatter\", \"x\": [29305.0], \"xaxis\": \"x\", \"y\": [41], \"yaxis\": \"y\"}, {\"hovertemplate\": \"<b>%{hovertext}</b><br><br>Country=Luxembourg<br>Population in thousands (2017)=%{x}<br>No. of Data Breaches=%{marker.size}<extra></extra>\", \"hovertext\": [\"Luxembourg\"], \"legendgroup\": \"Luxembourg\", \"marker\": {\"color\": \"#EF553B\", \"size\": [39], \"sizemode\": \"area\", \"sizeref\": 2.266, \"symbol\": \"circle\"}, \"mode\": \"markers\", \"name\": \"Luxembourg\", \"showlegend\": true, \"type\": \"scatter\", \"x\": [584.0], \"xaxis\": \"x\", \"y\": [39], \"yaxis\": \"y\"}, {\"hovertemplate\": \"<b>%{hovertext}</b><br><br>Country=Honduras<br>Population in thousands (2017)=%{x}<br>No. of Data Breaches=%{marker.size}<extra></extra>\", \"hovertext\": [\"Honduras\"], \"legendgroup\": \"Honduras\", \"marker\": {\"color\": \"#00cc96\", \"size\": [37], \"sizemode\": \"area\", \"sizeref\": 2.266, \"symbol\": \"circle\"}, \"mode\": \"markers\", \"name\": \"Honduras\", \"showlegend\": true, \"type\": \"scatter\", \"x\": [9265.0], \"xaxis\": \"x\", \"y\": [37], \"yaxis\": \"y\"}, {\"hovertemplate\": \"<b>%{hovertext}</b><br><br>Country=Haiti<br>Population in thousands (2017)=%{x}<br>No. of Data Breaches=%{marker.size}<extra></extra>\", \"hovertext\": [\"Haiti\"], \"legendgroup\": \"Haiti\", \"marker\": {\"color\": \"#ab63fa\", \"size\": [32], \"sizemode\": \"area\", \"sizeref\": 2.266, \"symbol\": \"circle\"}, \"mode\": \"markers\", \"name\": \"Haiti\", \"showlegend\": true, \"type\": \"scatter\", \"x\": [10981.0], \"xaxis\": \"x\", \"y\": [32], \"yaxis\": \"y\"}, {\"hovertemplate\": \"<b>%{hovertext}</b><br><br>Country=Niue<br>Population in thousands (2017)=%{x}<br>No. of Data Breaches=%{marker.size}<extra></extra>\", \"hovertext\": [\"Niue\"], \"legendgroup\": \"Niue\", \"marker\": {\"color\": \"#FFA15A\", \"size\": [31], \"sizemode\": \"area\", \"sizeref\": 2.266, \"symbol\": \"circle\"}, \"mode\": \"markers\", \"name\": \"Niue\", \"showlegend\": true, \"type\": \"scatter\", \"x\": [2.0], \"xaxis\": \"x\", \"y\": [31], \"yaxis\": \"y\"}, {\"hovertemplate\": \"<b>%{hovertext}</b><br><br>Country=Panama<br>Population in thousands (2017)=%{x}<br>No. of Data Breaches=%{marker.size}<extra></extra>\", \"hovertext\": [\"Panama\"], \"legendgroup\": \"Panama\", \"marker\": {\"color\": \"#19d3f3\", \"size\": [30], \"sizemode\": \"area\", \"sizeref\": 2.266, \"symbol\": \"circle\"}, \"mode\": \"markers\", \"name\": \"Panama\", \"showlegend\": true, \"type\": \"scatter\", \"x\": [4099.0], \"xaxis\": \"x\", \"y\": [30], \"yaxis\": \"y\"}, {\"hovertemplate\": \"<b>%{hovertext}</b><br><br>Country=Syrian Arab Republic<br>Population in thousands (2017)=%{x}<br>No. of Data Breaches=%{marker.size}<extra></extra>\", \"hovertext\": [\"Syrian Arab Republic\"], \"legendgroup\": \"Syrian Arab Republic\", \"marker\": {\"color\": \"#FF6692\", \"size\": [28], \"sizemode\": \"area\", \"sizeref\": 2.266, \"symbol\": \"circle\"}, \"mode\": \"markers\", \"name\": \"Syrian Arab Republic\", \"showlegend\": true, \"type\": \"scatter\", \"x\": [18270.0], \"xaxis\": \"x\", \"y\": [28], \"yaxis\": \"y\"}, {\"hovertemplate\": \"<b>%{hovertext}</b><br><br>Country=Iceland<br>Population in thousands (2017)=%{x}<br>No. of Data Breaches=%{marker.size}<extra></extra>\", \"hovertext\": [\"Iceland\"], \"legendgroup\": \"Iceland\", \"marker\": {\"color\": \"#B6E880\", \"size\": [28], \"sizemode\": \"area\", \"sizeref\": 2.266, \"symbol\": \"circle\"}, \"mode\": \"markers\", \"name\": \"Iceland\", \"showlegend\": true, \"type\": \"scatter\", \"x\": [335.0], \"xaxis\": \"x\", \"y\": [28], \"yaxis\": \"y\"}, {\"hovertemplate\": \"<b>%{hovertext}</b><br><br>Country=Georgia<br>Population in thousands (2017)=%{x}<br>No. of Data Breaches=%{marker.size}<extra></extra>\", \"hovertext\": [\"Georgia\"], \"legendgroup\": \"Georgia\", \"marker\": {\"color\": \"#FF97FF\", \"size\": [27], \"sizemode\": \"area\", \"sizeref\": 2.266, \"symbol\": \"circle\"}, \"mode\": \"markers\", \"name\": \"Georgia\", \"showlegend\": true, \"type\": \"scatter\", \"x\": [3912.0], \"xaxis\": \"x\", \"y\": [27], \"yaxis\": \"y\"}, {\"hovertemplate\": \"<b>%{hovertext}</b><br><br>Country=Jordan<br>Population in thousands (2017)=%{x}<br>No. of Data Breaches=%{marker.size}<extra></extra>\", \"hovertext\": [\"Jordan\"], \"legendgroup\": \"Jordan\", \"marker\": {\"color\": \"#FECB52\", \"size\": [25], \"sizemode\": \"area\", \"sizeref\": 2.266, \"symbol\": \"circle\"}, \"mode\": \"markers\", \"name\": \"Jordan\", \"showlegend\": true, \"type\": \"scatter\", \"x\": [9702.0], \"xaxis\": \"x\", \"y\": [25], \"yaxis\": \"y\"}, {\"hovertemplate\": \"<b>%{hovertext}</b><br><br>Country=Paraguay<br>Population in thousands (2017)=%{x}<br>No. of Data Breaches=%{marker.size}<extra></extra>\", \"hovertext\": [\"Paraguay\"], \"legendgroup\": \"Paraguay\", \"marker\": {\"color\": \"#636efa\", \"size\": [24], \"sizemode\": \"area\", \"sizeref\": 2.266, \"symbol\": \"circle\"}, \"mode\": \"markers\", \"name\": \"Paraguay\", \"showlegend\": true, \"type\": \"scatter\", \"x\": [6811.0], \"xaxis\": \"x\", \"y\": [24], \"yaxis\": \"y\"}, {\"hovertemplate\": \"<b>%{hovertext}</b><br><br>Country=Montenegro<br>Population in thousands (2017)=%{x}<br>No. of Data Breaches=%{marker.size}<extra></extra>\", \"hovertext\": [\"Montenegro\"], \"legendgroup\": \"Montenegro\", \"marker\": {\"color\": \"#EF553B\", \"size\": [23], \"sizemode\": \"area\", \"sizeref\": 2.266, \"symbol\": \"circle\"}, \"mode\": \"markers\", \"name\": \"Montenegro\", \"showlegend\": true, \"type\": \"scatter\", \"x\": [629.0], \"xaxis\": \"x\", \"y\": [23], \"yaxis\": \"y\"}, {\"hovertemplate\": \"<b>%{hovertext}</b><br><br>Country=Nicaragua<br>Population in thousands (2017)=%{x}<br>No. of Data Breaches=%{marker.size}<extra></extra>\", \"hovertext\": [\"Nicaragua\"], \"legendgroup\": \"Nicaragua\", \"marker\": {\"color\": \"#00cc96\", \"size\": [23], \"sizemode\": \"area\", \"sizeref\": 2.266, \"symbol\": \"circle\"}, \"mode\": \"markers\", \"name\": \"Nicaragua\", \"showlegend\": true, \"type\": \"scatter\", \"x\": [6218.0], \"xaxis\": \"x\", \"y\": [23], \"yaxis\": \"y\"}, {\"hovertemplate\": \"<b>%{hovertext}</b><br><br>Country=Bhutan<br>Population in thousands (2017)=%{x}<br>No. of Data Breaches=%{marker.size}<extra></extra>\", \"hovertext\": [\"Bhutan\"], \"legendgroup\": \"Bhutan\", \"marker\": {\"color\": \"#ab63fa\", \"size\": [22], \"sizemode\": \"area\", \"sizeref\": 2.266, \"symbol\": \"circle\"}, \"mode\": \"markers\", \"name\": \"Bhutan\", \"showlegend\": true, \"type\": \"scatter\", \"x\": [808.0], \"xaxis\": \"x\", \"y\": [22], \"yaxis\": \"y\"}, {\"hovertemplate\": \"<b>%{hovertext}</b><br><br>Country=Senegal<br>Population in thousands (2017)=%{x}<br>No. of Data Breaches=%{marker.size}<extra></extra>\", \"hovertext\": [\"Senegal\"], \"legendgroup\": \"Senegal\", \"marker\": {\"color\": \"#FFA15A\", \"size\": [22], \"sizemode\": \"area\", \"sizeref\": 2.266, \"symbol\": \"circle\"}, \"mode\": \"markers\", \"name\": \"Senegal\", \"showlegend\": true, \"type\": \"scatter\", \"x\": [15851.0], \"xaxis\": \"x\", \"y\": [22], \"yaxis\": \"y\"}, {\"hovertemplate\": \"<b>%{hovertext}</b><br><br>Country=Kenya<br>Population in thousands (2017)=%{x}<br>No. of Data Breaches=%{marker.size}<extra></extra>\", \"hovertext\": [\"Kenya\"], \"legendgroup\": \"Kenya\", \"marker\": {\"color\": \"#19d3f3\", \"size\": [22], \"sizemode\": \"area\", \"sizeref\": 2.266, \"symbol\": \"circle\"}, \"mode\": \"markers\", \"name\": \"Kenya\", \"showlegend\": true, \"type\": \"scatter\", \"x\": [49700.0], \"xaxis\": \"x\", \"y\": [22], \"yaxis\": \"y\"}, {\"hovertemplate\": \"<b>%{hovertext}</b><br><br>Country=Cyprus<br>Population in thousands (2017)=%{x}<br>No. of Data Breaches=%{marker.size}<extra></extra>\", \"hovertext\": [\"Cyprus\"], \"legendgroup\": \"Cyprus\", \"marker\": {\"color\": \"#FF6692\", \"size\": [21], \"sizemode\": \"area\", \"sizeref\": 2.266, \"symbol\": \"circle\"}, \"mode\": \"markers\", \"name\": \"Cyprus\", \"showlegend\": true, \"type\": \"scatter\", \"x\": [1180.0], \"xaxis\": \"x\", \"y\": [21], \"yaxis\": \"y\"}, {\"hovertemplate\": \"<b>%{hovertext}</b><br><br>Country=Brunei Darussalam<br>Population in thousands (2017)=%{x}<br>No. of Data Breaches=%{marker.size}<extra></extra>\", \"hovertext\": [\"Brunei Darussalam\"], \"legendgroup\": \"Brunei Darussalam\", \"marker\": {\"color\": \"#B6E880\", \"size\": [21], \"sizemode\": \"area\", \"sizeref\": 2.266, \"symbol\": \"circle\"}, \"mode\": \"markers\", \"name\": \"Brunei Darussalam\", \"showlegend\": true, \"type\": \"scatter\", \"x\": [429.0], \"xaxis\": \"x\", \"y\": [21], \"yaxis\": \"y\"}, {\"hovertemplate\": \"<b>%{hovertext}</b><br><br>Country=Guatemala<br>Population in thousands (2017)=%{x}<br>No. of Data Breaches=%{marker.size}<extra></extra>\", \"hovertext\": [\"Guatemala\"], \"legendgroup\": \"Guatemala\", \"marker\": {\"color\": \"#FF97FF\", \"size\": [20], \"sizemode\": \"area\", \"sizeref\": 2.266, \"symbol\": \"circle\"}, \"mode\": \"markers\", \"name\": \"Guatemala\", \"showlegend\": true, \"type\": \"scatter\", \"x\": [16914.0], \"xaxis\": \"x\", \"y\": [20], \"yaxis\": \"y\"}, {\"hovertemplate\": \"<b>%{hovertext}</b><br><br>Country=Mozambique<br>Population in thousands (2017)=%{x}<br>No. of Data Breaches=%{marker.size}<extra></extra>\", \"hovertext\": [\"Mozambique\"], \"legendgroup\": \"Mozambique\", \"marker\": {\"color\": \"#FECB52\", \"size\": [20], \"sizemode\": \"area\", \"sizeref\": 2.266, \"symbol\": \"circle\"}, \"mode\": \"markers\", \"name\": \"Mozambique\", \"showlegend\": true, \"type\": \"scatter\", \"x\": [29669.0], \"xaxis\": \"x\", \"y\": [20], \"yaxis\": \"y\"}, {\"hovertemplate\": \"<b>%{hovertext}</b><br><br>Country=Armenia<br>Population in thousands (2017)=%{x}<br>No. of Data Breaches=%{marker.size}<extra></extra>\", \"hovertext\": [\"Armenia\"], \"legendgroup\": \"Armenia\", \"marker\": {\"color\": \"#636efa\", \"size\": [19], \"sizemode\": \"area\", \"sizeref\": 2.266, \"symbol\": \"circle\"}, \"mode\": \"markers\", \"name\": \"Armenia\", \"showlegend\": true, \"type\": \"scatter\", \"x\": [2930.0], \"xaxis\": \"x\", \"y\": [19], \"yaxis\": \"y\"}, {\"hovertemplate\": \"<b>%{hovertext}</b><br><br>Country=Tonga<br>Population in thousands (2017)=%{x}<br>No. of Data Breaches=%{marker.size}<extra></extra>\", \"hovertext\": [\"Tonga\"], \"legendgroup\": \"Tonga\", \"marker\": {\"color\": \"#EF553B\", \"size\": [19], \"sizemode\": \"area\", \"sizeref\": 2.266, \"symbol\": \"circle\"}, \"mode\": \"markers\", \"name\": \"Tonga\", \"showlegend\": true, \"type\": \"scatter\", \"x\": [108.0], \"xaxis\": \"x\", \"y\": [19], \"yaxis\": \"y\"}, {\"hovertemplate\": \"<b>%{hovertext}</b><br><br>Country=Rwanda<br>Population in thousands (2017)=%{x}<br>No. of Data Breaches=%{marker.size}<extra></extra>\", \"hovertext\": [\"Rwanda\"], \"legendgroup\": \"Rwanda\", \"marker\": {\"color\": \"#00cc96\", \"size\": [17], \"sizemode\": \"area\", \"sizeref\": 2.266, \"symbol\": \"circle\"}, \"mode\": \"markers\", \"name\": \"Rwanda\", \"showlegend\": true, \"type\": \"scatter\", \"x\": [12208.0], \"xaxis\": \"x\", \"y\": [17], \"yaxis\": \"y\"}, {\"hovertemplate\": \"<b>%{hovertext}</b><br><br>Country=Kuwait<br>Population in thousands (2017)=%{x}<br>No. of Data Breaches=%{marker.size}<extra></extra>\", \"hovertext\": [\"Kuwait\"], \"legendgroup\": \"Kuwait\", \"marker\": {\"color\": \"#ab63fa\", \"size\": [16], \"sizemode\": \"area\", \"sizeref\": 2.266, \"symbol\": \"circle\"}, \"mode\": \"markers\", \"name\": \"Kuwait\", \"showlegend\": true, \"type\": \"scatter\", \"x\": [4136.0], \"xaxis\": \"x\", \"y\": [16], \"yaxis\": \"y\"}, {\"hovertemplate\": \"<b>%{hovertext}</b><br><br>Country=Tuvalu<br>Population in thousands (2017)=%{x}<br>No. of Data Breaches=%{marker.size}<extra></extra>\", \"hovertext\": [\"Tuvalu\"], \"legendgroup\": \"Tuvalu\", \"marker\": {\"color\": \"#FFA15A\", \"size\": [16], \"sizemode\": \"area\", \"sizeref\": 2.266, \"symbol\": \"circle\"}, \"mode\": \"markers\", \"name\": \"Tuvalu\", \"showlegend\": true, \"type\": \"scatter\", \"x\": [11.0], \"xaxis\": \"x\", \"y\": [16], \"yaxis\": \"y\"}, {\"hovertemplate\": \"<b>%{hovertext}</b><br><br>Country=Malawi<br>Population in thousands (2017)=%{x}<br>No. of Data Breaches=%{marker.size}<extra></extra>\", \"hovertext\": [\"Malawi\"], \"legendgroup\": \"Malawi\", \"marker\": {\"color\": \"#19d3f3\", \"size\": [15], \"sizemode\": \"area\", \"sizeref\": 2.266, \"symbol\": \"circle\"}, \"mode\": \"markers\", \"name\": \"Malawi\", \"showlegend\": true, \"type\": \"scatter\", \"x\": [18622.0], \"xaxis\": \"x\", \"y\": [15], \"yaxis\": \"y\"}, {\"hovertemplate\": \"<b>%{hovertext}</b><br><br>Country=Lebanon<br>Population in thousands (2017)=%{x}<br>No. of Data Breaches=%{marker.size}<extra></extra>\", \"hovertext\": [\"Lebanon\"], \"legendgroup\": \"Lebanon\", \"marker\": {\"color\": \"#FF6692\", \"size\": [15], \"sizemode\": \"area\", \"sizeref\": 2.266, \"symbol\": \"circle\"}, \"mode\": \"markers\", \"name\": \"Lebanon\", \"showlegend\": true, \"type\": \"scatter\", \"x\": [6082.0], \"xaxis\": \"x\", \"y\": [15], \"yaxis\": \"y\"}, {\"hovertemplate\": \"<b>%{hovertext}</b><br><br>Country=Costa Rica<br>Population in thousands (2017)=%{x}<br>No. of Data Breaches=%{marker.size}<extra></extra>\", \"hovertext\": [\"Costa Rica\"], \"legendgroup\": \"Costa Rica\", \"marker\": {\"color\": \"#B6E880\", \"size\": [14], \"sizemode\": \"area\", \"sizeref\": 2.266, \"symbol\": \"circle\"}, \"mode\": \"markers\", \"name\": \"Costa Rica\", \"showlegend\": true, \"type\": \"scatter\", \"x\": [4906.0], \"xaxis\": \"x\", \"y\": [14], \"yaxis\": \"y\"}, {\"hovertemplate\": \"<b>%{hovertext}</b><br><br>Country=Kyrgyzstan<br>Population in thousands (2017)=%{x}<br>No. of Data Breaches=%{marker.size}<extra></extra>\", \"hovertext\": [\"Kyrgyzstan\"], \"legendgroup\": \"Kyrgyzstan\", \"marker\": {\"color\": \"#FF97FF\", \"size\": [13], \"sizemode\": \"area\", \"sizeref\": 2.266, \"symbol\": \"circle\"}, \"mode\": \"markers\", \"name\": \"Kyrgyzstan\", \"showlegend\": true, \"type\": \"scatter\", \"x\": [6045.0], \"xaxis\": \"x\", \"y\": [13], \"yaxis\": \"y\"}, {\"hovertemplate\": \"<b>%{hovertext}</b><br><br>Country=Bermuda<br>Population in thousands (2017)=%{x}<br>No. of Data Breaches=%{marker.size}<extra></extra>\", \"hovertext\": [\"Bermuda\"], \"legendgroup\": \"Bermuda\", \"marker\": {\"color\": \"#FECB52\", \"size\": [13], \"sizemode\": \"area\", \"sizeref\": 2.266, \"symbol\": \"circle\"}, \"mode\": \"markers\", \"name\": \"Bermuda\", \"showlegend\": true, \"type\": \"scatter\", \"x\": [61.0], \"xaxis\": \"x\", \"y\": [13], \"yaxis\": \"y\"}, {\"hovertemplate\": \"<b>%{hovertext}</b><br><br>Country=United Arab Emirates<br>Population in thousands (2017)=%{x}<br>No. of Data Breaches=%{marker.size}<extra></extra>\", \"hovertext\": [\"United Arab Emirates\"], \"legendgroup\": \"United Arab Emirates\", \"marker\": {\"color\": \"#636efa\", \"size\": [12], \"sizemode\": \"area\", \"sizeref\": 2.266, \"symbol\": \"circle\"}, \"mode\": \"markers\", \"name\": \"United Arab Emirates\", \"showlegend\": true, \"type\": \"scatter\", \"x\": [9400.0], \"xaxis\": \"x\", \"y\": [12], \"yaxis\": \"y\"}, {\"hovertemplate\": \"<b>%{hovertext}</b><br><br>Country=Mongolia<br>Population in thousands (2017)=%{x}<br>No. of Data Breaches=%{marker.size}<extra></extra>\", \"hovertext\": [\"Mongolia\"], \"legendgroup\": \"Mongolia\", \"marker\": {\"color\": \"#EF553B\", \"size\": [12], \"sizemode\": \"area\", \"sizeref\": 2.266, \"symbol\": \"circle\"}, \"mode\": \"markers\", \"name\": \"Mongolia\", \"showlegend\": true, \"type\": \"scatter\", \"x\": [3076.0], \"xaxis\": \"x\", \"y\": [12], \"yaxis\": \"y\"}, {\"hovertemplate\": \"<b>%{hovertext}</b><br><br>Country=Cuba<br>Population in thousands (2017)=%{x}<br>No. of Data Breaches=%{marker.size}<extra></extra>\", \"hovertext\": [\"Cuba\"], \"legendgroup\": \"Cuba\", \"marker\": {\"color\": \"#00cc96\", \"size\": [11], \"sizemode\": \"area\", \"sizeref\": 2.266, \"symbol\": \"circle\"}, \"mode\": \"markers\", \"name\": \"Cuba\", \"showlegend\": true, \"type\": \"scatter\", \"x\": [11485.0], \"xaxis\": \"x\", \"y\": [11], \"yaxis\": \"y\"}, {\"hovertemplate\": \"<b>%{hovertext}</b><br><br>Country=Sudan<br>Population in thousands (2017)=%{x}<br>No. of Data Breaches=%{marker.size}<extra></extra>\", \"hovertext\": [\"Sudan\"], \"legendgroup\": \"Sudan\", \"marker\": {\"color\": \"#ab63fa\", \"size\": [11], \"sizemode\": \"area\", \"sizeref\": 2.266, \"symbol\": \"circle\"}, \"mode\": \"markers\", \"name\": \"Sudan\", \"showlegend\": true, \"type\": \"scatter\", \"x\": [40533.0], \"xaxis\": \"x\", \"y\": [11], \"yaxis\": \"y\"}, {\"hovertemplate\": \"<b>%{hovertext}</b><br><br>Country=Bahrain<br>Population in thousands (2017)=%{x}<br>No. of Data Breaches=%{marker.size}<extra></extra>\", \"hovertext\": [\"Bahrain\"], \"legendgroup\": \"Bahrain\", \"marker\": {\"color\": \"#FFA15A\", \"size\": [11], \"sizemode\": \"area\", \"sizeref\": 2.266, \"symbol\": \"circle\"}, \"mode\": \"markers\", \"name\": \"Bahrain\", \"showlegend\": true, \"type\": \"scatter\", \"x\": [1493.0], \"xaxis\": \"x\", \"y\": [11], \"yaxis\": \"y\"}, {\"hovertemplate\": \"<b>%{hovertext}</b><br><br>Country=Guam<br>Population in thousands (2017)=%{x}<br>No. of Data Breaches=%{marker.size}<extra></extra>\", \"hovertext\": [\"Guam\"], \"legendgroup\": \"Guam\", \"marker\": {\"color\": \"#19d3f3\", \"size\": [11], \"sizemode\": \"area\", \"sizeref\": 2.266, \"symbol\": \"circle\"}, \"mode\": \"markers\", \"name\": \"Guam\", \"showlegend\": true, \"type\": \"scatter\", \"x\": [164.0], \"xaxis\": \"x\", \"y\": [11], \"yaxis\": \"y\"}, {\"hovertemplate\": \"<b>%{hovertext}</b><br><br>Country=Samoa<br>Population in thousands (2017)=%{x}<br>No. of Data Breaches=%{marker.size}<extra></extra>\", \"hovertext\": [\"Samoa\"], \"legendgroup\": \"Samoa\", \"marker\": {\"color\": \"#FF6692\", \"size\": [10], \"sizemode\": \"area\", \"sizeref\": 2.266, \"symbol\": \"circle\"}, \"mode\": \"markers\", \"name\": \"Samoa\", \"showlegend\": true, \"type\": \"scatter\", \"x\": [196.0], \"xaxis\": \"x\", \"y\": [10], \"yaxis\": \"y\"}, {\"hovertemplate\": \"<b>%{hovertext}</b><br><br>Country=Barbados<br>Population in thousands (2017)=%{x}<br>No. of Data Breaches=%{marker.size}<extra></extra>\", \"hovertext\": [\"Barbados\"], \"legendgroup\": \"Barbados\", \"marker\": {\"color\": \"#B6E880\", \"size\": [10], \"sizemode\": \"area\", \"sizeref\": 2.266, \"symbol\": \"circle\"}, \"mode\": \"markers\", \"name\": \"Barbados\", \"showlegend\": true, \"type\": \"scatter\", \"x\": [286.0], \"xaxis\": \"x\", \"y\": [10], \"yaxis\": \"y\"}, {\"hovertemplate\": \"<b>%{hovertext}</b><br><br>Country=El Salvador<br>Population in thousands (2017)=%{x}<br>No. of Data Breaches=%{marker.size}<extra></extra>\", \"hovertext\": [\"El Salvador\"], \"legendgroup\": \"El Salvador\", \"marker\": {\"color\": \"#FF97FF\", \"size\": [10], \"sizemode\": \"area\", \"sizeref\": 2.266, \"symbol\": \"circle\"}, \"mode\": \"markers\", \"name\": \"El Salvador\", \"showlegend\": true, \"type\": \"scatter\", \"x\": [6378.0], \"xaxis\": \"x\", \"y\": [10], \"yaxis\": \"y\"}, {\"hovertemplate\": \"<b>%{hovertext}</b><br><br>Country=Jamaica<br>Population in thousands (2017)=%{x}<br>No. of Data Breaches=%{marker.size}<extra></extra>\", \"hovertext\": [\"Jamaica\"], \"legendgroup\": \"Jamaica\", \"marker\": {\"color\": \"#FECB52\", \"size\": [9], \"sizemode\": \"area\", \"sizeref\": 2.266, \"symbol\": \"circle\"}, \"mode\": \"markers\", \"name\": \"Jamaica\", \"showlegend\": true, \"type\": \"scatter\", \"x\": [2890.0], \"xaxis\": \"x\", \"y\": [9], \"yaxis\": \"y\"}, {\"hovertemplate\": \"<b>%{hovertext}</b><br><br>Country=Malta<br>Population in thousands (2017)=%{x}<br>No. of Data Breaches=%{marker.size}<extra></extra>\", \"hovertext\": [\"Malta\"], \"legendgroup\": \"Malta\", \"marker\": {\"color\": \"#636efa\", \"size\": [9], \"sizemode\": \"area\", \"sizeref\": 2.266, \"symbol\": \"circle\"}, \"mode\": \"markers\", \"name\": \"Malta\", \"showlegend\": true, \"type\": \"scatter\", \"x\": [431.0], \"xaxis\": \"x\", \"y\": [9], \"yaxis\": \"y\"}, {\"hovertemplate\": \"<b>%{hovertext}</b><br><br>Country=Saudi Arabia<br>Population in thousands (2017)=%{x}<br>No. of Data Breaches=%{marker.size}<extra></extra>\", \"hovertext\": [\"Saudi Arabia\"], \"legendgroup\": \"Saudi Arabia\", \"marker\": {\"color\": \"#EF553B\", \"size\": [9], \"sizemode\": \"area\", \"sizeref\": 2.266, \"symbol\": \"circle\"}, \"mode\": \"markers\", \"name\": \"Saudi Arabia\", \"showlegend\": true, \"type\": \"scatter\", \"x\": [32938.0], \"xaxis\": \"x\", \"y\": [9], \"yaxis\": \"y\"}, {\"hovertemplate\": \"<b>%{hovertext}</b><br><br>Country=Eritrea<br>Population in thousands (2017)=%{x}<br>No. of Data Breaches=%{marker.size}<extra></extra>\", \"hovertext\": [\"Eritrea\"], \"legendgroup\": \"Eritrea\", \"marker\": {\"color\": \"#00cc96\", \"size\": [8], \"sizemode\": \"area\", \"sizeref\": 2.266, \"symbol\": \"circle\"}, \"mode\": \"markers\", \"name\": \"Eritrea\", \"showlegend\": true, \"type\": \"scatter\", \"x\": [5069.0], \"xaxis\": \"x\", \"y\": [8], \"yaxis\": \"y\"}, {\"hovertemplate\": \"<b>%{hovertext}</b><br><br>Country=Zimbabwe<br>Population in thousands (2017)=%{x}<br>No. of Data Breaches=%{marker.size}<extra></extra>\", \"hovertext\": [\"Zimbabwe\"], \"legendgroup\": \"Zimbabwe\", \"marker\": {\"color\": \"#ab63fa\", \"size\": [8], \"sizemode\": \"area\", \"sizeref\": 2.266, \"symbol\": \"circle\"}, \"mode\": \"markers\", \"name\": \"Zimbabwe\", \"showlegend\": true, \"type\": \"scatter\", \"x\": [16530.0], \"xaxis\": \"x\", \"y\": [8], \"yaxis\": \"y\"}, {\"hovertemplate\": \"<b>%{hovertext}</b><br><br>Country=San Marino<br>Population in thousands (2017)=%{x}<br>No. of Data Breaches=%{marker.size}<extra></extra>\", \"hovertext\": [\"San Marino\"], \"legendgroup\": \"San Marino\", \"marker\": {\"color\": \"#FFA15A\", \"size\": [8], \"sizemode\": \"area\", \"sizeref\": 2.266, \"symbol\": \"circle\"}, \"mode\": \"markers\", \"name\": \"San Marino\", \"showlegend\": true, \"type\": \"scatter\", \"x\": [33.0], \"xaxis\": \"x\", \"y\": [8], \"yaxis\": \"y\"}, {\"hovertemplate\": \"<b>%{hovertext}</b><br><br>Country=Qatar<br>Population in thousands (2017)=%{x}<br>No. of Data Breaches=%{marker.size}<extra></extra>\", \"hovertext\": [\"Qatar\"], \"legendgroup\": \"Qatar\", \"marker\": {\"color\": \"#19d3f3\", \"size\": [8], \"sizemode\": \"area\", \"sizeref\": 2.266, \"symbol\": \"circle\"}, \"mode\": \"markers\", \"name\": \"Qatar\", \"showlegend\": true, \"type\": \"scatter\", \"x\": [2639.0], \"xaxis\": \"x\", \"y\": [8], \"yaxis\": \"y\"}, {\"hovertemplate\": \"<b>%{hovertext}</b><br><br>Country=Uzbekistan<br>Population in thousands (2017)=%{x}<br>No. of Data Breaches=%{marker.size}<extra></extra>\", \"hovertext\": [\"Uzbekistan\"], \"legendgroup\": \"Uzbekistan\", \"marker\": {\"color\": \"#FF6692\", \"size\": [8], \"sizemode\": \"area\", \"sizeref\": 2.266, \"symbol\": \"circle\"}, \"mode\": \"markers\", \"name\": \"Uzbekistan\", \"showlegend\": true, \"type\": \"scatter\", \"x\": [31911.0], \"xaxis\": \"x\", \"y\": [8], \"yaxis\": \"y\"}, {\"hovertemplate\": \"<b>%{hovertext}</b><br><br>Country=Andorra<br>Population in thousands (2017)=%{x}<br>No. of Data Breaches=%{marker.size}<extra></extra>\", \"hovertext\": [\"Andorra\"], \"legendgroup\": \"Andorra\", \"marker\": {\"color\": \"#B6E880\", \"size\": [8], \"sizemode\": \"area\", \"sizeref\": 2.266, \"symbol\": \"circle\"}, \"mode\": \"markers\", \"name\": \"Andorra\", \"showlegend\": true, \"type\": \"scatter\", \"x\": [77.0], \"xaxis\": \"x\", \"y\": [8], \"yaxis\": \"y\"}, {\"hovertemplate\": \"<b>%{hovertext}</b><br><br>Country=Bahamas<br>Population in thousands (2017)=%{x}<br>No. of Data Breaches=%{marker.size}<extra></extra>\", \"hovertext\": [\"Bahamas\"], \"legendgroup\": \"Bahamas\", \"marker\": {\"color\": \"#FF97FF\", \"size\": [8], \"sizemode\": \"area\", \"sizeref\": 2.266, \"symbol\": \"circle\"}, \"mode\": \"markers\", \"name\": \"Bahamas\", \"showlegend\": true, \"type\": \"scatter\", \"x\": [395.0], \"xaxis\": \"x\", \"y\": [8], \"yaxis\": \"y\"}, {\"hovertemplate\": \"<b>%{hovertext}</b><br><br>Country=Dominican Republic<br>Population in thousands (2017)=%{x}<br>No. of Data Breaches=%{marker.size}<extra></extra>\", \"hovertext\": [\"Dominican Republic\"], \"legendgroup\": \"Dominican Republic\", \"marker\": {\"color\": \"#FECB52\", \"size\": [6], \"sizemode\": \"area\", \"sizeref\": 2.266, \"symbol\": \"circle\"}, \"mode\": \"markers\", \"name\": \"Dominican Republic\", \"showlegend\": true, \"type\": \"scatter\", \"x\": [10767.0], \"xaxis\": \"x\", \"y\": [6], \"yaxis\": \"y\"}, {\"hovertemplate\": \"<b>%{hovertext}</b><br><br>Country=Mauritius<br>Population in thousands (2017)=%{x}<br>No. of Data Breaches=%{marker.size}<extra></extra>\", \"hovertext\": [\"Mauritius\"], \"legendgroup\": \"Mauritius\", \"marker\": {\"color\": \"#636efa\", \"size\": [6], \"sizemode\": \"area\", \"sizeref\": 2.266, \"symbol\": \"circle\"}, \"mode\": \"markers\", \"name\": \"Mauritius\", \"showlegend\": true, \"type\": \"scatter\", \"x\": [1265.0], \"xaxis\": \"x\", \"y\": [6], \"yaxis\": \"y\"}, {\"hovertemplate\": \"<b>%{hovertext}</b><br><br>Country=Liechtenstein<br>Population in thousands (2017)=%{x}<br>No. of Data Breaches=%{marker.size}<extra></extra>\", \"hovertext\": [\"Liechtenstein\"], \"legendgroup\": \"Liechtenstein\", \"marker\": {\"color\": \"#EF553B\", \"size\": [6], \"sizemode\": \"area\", \"sizeref\": 2.266, \"symbol\": \"circle\"}, \"mode\": \"markers\", \"name\": \"Liechtenstein\", \"showlegend\": true, \"type\": \"scatter\", \"x\": [38.0], \"xaxis\": \"x\", \"y\": [6], \"yaxis\": \"y\"}, {\"hovertemplate\": \"<b>%{hovertext}</b><br><br>Country=Iraq<br>Population in thousands (2017)=%{x}<br>No. of Data Breaches=%{marker.size}<extra></extra>\", \"hovertext\": [\"Iraq\"], \"legendgroup\": \"Iraq\", \"marker\": {\"color\": \"#00cc96\", \"size\": [6], \"sizemode\": \"area\", \"sizeref\": 2.266, \"symbol\": \"circle\"}, \"mode\": \"markers\", \"name\": \"Iraq\", \"showlegend\": true, \"type\": \"scatter\", \"x\": [38275.0], \"xaxis\": \"x\", \"y\": [6], \"yaxis\": \"y\"}, {\"hovertemplate\": \"<b>%{hovertext}</b><br><br>Country=Faroe Islands<br>Population in thousands (2017)=%{x}<br>No. of Data Breaches=%{marker.size}<extra></extra>\", \"hovertext\": [\"Faroe Islands\"], \"legendgroup\": \"Faroe Islands\", \"marker\": {\"color\": \"#ab63fa\", \"size\": [6], \"sizemode\": \"area\", \"sizeref\": 2.266, \"symbol\": \"circle\"}, \"mode\": \"markers\", \"name\": \"Faroe Islands\", \"showlegend\": true, \"type\": \"scatter\", \"x\": [49.0], \"xaxis\": \"x\", \"y\": [6], \"yaxis\": \"y\"}, {\"hovertemplate\": \"<b>%{hovertext}</b><br><br>Country=Zambia<br>Population in thousands (2017)=%{x}<br>No. of Data Breaches=%{marker.size}<extra></extra>\", \"hovertext\": [\"Zambia\"], \"legendgroup\": \"Zambia\", \"marker\": {\"color\": \"#FFA15A\", \"size\": [5], \"sizemode\": \"area\", \"sizeref\": 2.266, \"symbol\": \"circle\"}, \"mode\": \"markers\", \"name\": \"Zambia\", \"showlegend\": true, \"type\": \"scatter\", \"x\": [17094.0], \"xaxis\": \"x\", \"y\": [5], \"yaxis\": \"y\"}, {\"hovertemplate\": \"<b>%{hovertext}</b><br><br>Country=Algeria<br>Population in thousands (2017)=%{x}<br>No. of Data Breaches=%{marker.size}<extra></extra>\", \"hovertext\": [\"Algeria\"], \"legendgroup\": \"Algeria\", \"marker\": {\"color\": \"#19d3f3\", \"size\": [5], \"sizemode\": \"area\", \"sizeref\": 2.266, \"symbol\": \"circle\"}, \"mode\": \"markers\", \"name\": \"Algeria\", \"showlegend\": true, \"type\": \"scatter\", \"x\": [41318.0], \"xaxis\": \"x\", \"y\": [5], \"yaxis\": \"y\"}, {\"hovertemplate\": \"<b>%{hovertext}</b><br><br>Country=Congo<br>Population in thousands (2017)=%{x}<br>No. of Data Breaches=%{marker.size}<extra></extra>\", \"hovertext\": [\"Congo\"], \"legendgroup\": \"Congo\", \"marker\": {\"color\": \"#FF6692\", \"size\": [5], \"sizemode\": \"area\", \"sizeref\": 2.266, \"symbol\": \"circle\"}, \"mode\": \"markers\", \"name\": \"Congo\", \"showlegend\": true, \"type\": \"scatter\", \"x\": [5261.0], \"xaxis\": \"x\", \"y\": [5], \"yaxis\": \"y\"}, {\"hovertemplate\": \"<b>%{hovertext}</b><br><br>Country=Fiji<br>Population in thousands (2017)=%{x}<br>No. of Data Breaches=%{marker.size}<extra></extra>\", \"hovertext\": [\"Fiji\"], \"legendgroup\": \"Fiji\", \"marker\": {\"color\": \"#B6E880\", \"size\": [5], \"sizemode\": \"area\", \"sizeref\": 2.266, \"symbol\": \"circle\"}, \"mode\": \"markers\", \"name\": \"Fiji\", \"showlegend\": true, \"type\": \"scatter\", \"x\": [906.0], \"xaxis\": \"x\", \"y\": [5], \"yaxis\": \"y\"}, {\"hovertemplate\": \"<b>%{hovertext}</b><br><br>Country=Namibia<br>Population in thousands (2017)=%{x}<br>No. of Data Breaches=%{marker.size}<extra></extra>\", \"hovertext\": [\"Namibia\"], \"legendgroup\": \"Namibia\", \"marker\": {\"color\": \"#FF97FF\", \"size\": [5], \"sizemode\": \"area\", \"sizeref\": 2.266, \"symbol\": \"circle\"}, \"mode\": \"markers\", \"name\": \"Namibia\", \"showlegend\": true, \"type\": \"scatter\", \"x\": [2534.0], \"xaxis\": \"x\", \"y\": [5], \"yaxis\": \"y\"}, {\"hovertemplate\": \"<b>%{hovertext}</b><br><br>Country=Madagascar<br>Population in thousands (2017)=%{x}<br>No. of Data Breaches=%{marker.size}<extra></extra>\", \"hovertext\": [\"Madagascar\"], \"legendgroup\": \"Madagascar\", \"marker\": {\"color\": \"#FECB52\", \"size\": [4], \"sizemode\": \"area\", \"sizeref\": 2.266, \"symbol\": \"circle\"}, \"mode\": \"markers\", \"name\": \"Madagascar\", \"showlegend\": true, \"type\": \"scatter\", \"x\": [25571.0], \"xaxis\": \"x\", \"y\": [4], \"yaxis\": \"y\"}, {\"hovertemplate\": \"<b>%{hovertext}</b><br><br>Country=Greenland<br>Population in thousands (2017)=%{x}<br>No. of Data Breaches=%{marker.size}<extra></extra>\", \"hovertext\": [\"Greenland\"], \"legendgroup\": \"Greenland\", \"marker\": {\"color\": \"#636efa\", \"size\": [4], \"sizemode\": \"area\", \"sizeref\": 2.266, \"symbol\": \"circle\"}, \"mode\": \"markers\", \"name\": \"Greenland\", \"showlegend\": true, \"type\": \"scatter\", \"x\": [56.0], \"xaxis\": \"x\", \"y\": [4], \"yaxis\": \"y\"}, {\"hovertemplate\": \"<b>%{hovertext}</b><br><br>Country=Somalia<br>Population in thousands (2017)=%{x}<br>No. of Data Breaches=%{marker.size}<extra></extra>\", \"hovertext\": [\"Somalia\"], \"legendgroup\": \"Somalia\", \"marker\": {\"color\": \"#EF553B\", \"size\": [4], \"sizemode\": \"area\", \"sizeref\": 2.266, \"symbol\": \"circle\"}, \"mode\": \"markers\", \"name\": \"Somalia\", \"showlegend\": true, \"type\": \"scatter\", \"x\": [14742.0], \"xaxis\": \"x\", \"y\": [4], \"yaxis\": \"y\"}, {\"hovertemplate\": \"<b>%{hovertext}</b><br><br>Country=Seychelles<br>Population in thousands (2017)=%{x}<br>No. of Data Breaches=%{marker.size}<extra></extra>\", \"hovertext\": [\"Seychelles\"], \"legendgroup\": \"Seychelles\", \"marker\": {\"color\": \"#00cc96\", \"size\": [4], \"sizemode\": \"area\", \"sizeref\": 2.266, \"symbol\": \"circle\"}, \"mode\": \"markers\", \"name\": \"Seychelles\", \"showlegend\": true, \"type\": \"scatter\", \"x\": [95.0], \"xaxis\": \"x\", \"y\": [4], \"yaxis\": \"y\"}, {\"hovertemplate\": \"<b>%{hovertext}</b><br><br>Country=Vanuatu<br>Population in thousands (2017)=%{x}<br>No. of Data Breaches=%{marker.size}<extra></extra>\", \"hovertext\": [\"Vanuatu\"], \"legendgroup\": \"Vanuatu\", \"marker\": {\"color\": \"#ab63fa\", \"size\": [4], \"sizemode\": \"area\", \"sizeref\": 2.266, \"symbol\": \"circle\"}, \"mode\": \"markers\", \"name\": \"Vanuatu\", \"showlegend\": true, \"type\": \"scatter\", \"x\": [276.0], \"xaxis\": \"x\", \"y\": [4], \"yaxis\": \"y\"}, {\"hovertemplate\": \"<b>%{hovertext}</b><br><br>Country=Azerbaijan<br>Population in thousands (2017)=%{x}<br>No. of Data Breaches=%{marker.size}<extra></extra>\", \"hovertext\": [\"Azerbaijan\"], \"legendgroup\": \"Azerbaijan\", \"marker\": {\"color\": \"#FFA15A\", \"size\": [4], \"sizemode\": \"area\", \"sizeref\": 2.266, \"symbol\": \"circle\"}, \"mode\": \"markers\", \"name\": \"Azerbaijan\", \"showlegend\": true, \"type\": \"scatter\", \"x\": [9828.0], \"xaxis\": \"x\", \"y\": [4], \"yaxis\": \"y\"}, {\"hovertemplate\": \"<b>%{hovertext}</b><br><br>Country=Ghana<br>Population in thousands (2017)=%{x}<br>No. of Data Breaches=%{marker.size}<extra></extra>\", \"hovertext\": [\"Ghana\"], \"legendgroup\": \"Ghana\", \"marker\": {\"color\": \"#19d3f3\", \"size\": [3], \"sizemode\": \"area\", \"sizeref\": 2.266, \"symbol\": \"circle\"}, \"mode\": \"markers\", \"name\": \"Ghana\", \"showlegend\": true, \"type\": \"scatter\", \"x\": [28834.0], \"xaxis\": \"x\", \"y\": [3], \"yaxis\": \"y\"}, {\"hovertemplate\": \"<b>%{hovertext}</b><br><br>Country=Montserrat<br>Population in thousands (2017)=%{x}<br>No. of Data Breaches=%{marker.size}<extra></extra>\", \"hovertext\": [\"Montserrat\"], \"legendgroup\": \"Montserrat\", \"marker\": {\"color\": \"#FF6692\", \"size\": [3], \"sizemode\": \"area\", \"sizeref\": 2.266, \"symbol\": \"circle\"}, \"mode\": \"markers\", \"name\": \"Montserrat\", \"showlegend\": true, \"type\": \"scatter\", \"x\": [5.0], \"xaxis\": \"x\", \"y\": [3], \"yaxis\": \"y\"}, {\"hovertemplate\": \"<b>%{hovertext}</b><br><br>Country=Monaco<br>Population in thousands (2017)=%{x}<br>No. of Data Breaches=%{marker.size}<extra></extra>\", \"hovertext\": [\"Monaco\"], \"legendgroup\": \"Monaco\", \"marker\": {\"color\": \"#B6E880\", \"size\": [3], \"sizemode\": \"area\", \"sizeref\": 2.266, \"symbol\": \"circle\"}, \"mode\": \"markers\", \"name\": \"Monaco\", \"showlegend\": true, \"type\": \"scatter\", \"x\": [39.0], \"xaxis\": \"x\", \"y\": [3], \"yaxis\": \"y\"}, {\"hovertemplate\": \"<b>%{hovertext}</b><br><br>Country=Cameroon<br>Population in thousands (2017)=%{x}<br>No. of Data Breaches=%{marker.size}<extra></extra>\", \"hovertext\": [\"Cameroon\"], \"legendgroup\": \"Cameroon\", \"marker\": {\"color\": \"#FF97FF\", \"size\": [3], \"sizemode\": \"area\", \"sizeref\": 2.266, \"symbol\": \"circle\"}, \"mode\": \"markers\", \"name\": \"Cameroon\", \"showlegend\": true, \"type\": \"scatter\", \"x\": [24054.0], \"xaxis\": \"x\", \"y\": [3], \"yaxis\": \"y\"}, {\"hovertemplate\": \"<b>%{hovertext}</b><br><br>Country=Yemen<br>Population in thousands (2017)=%{x}<br>No. of Data Breaches=%{marker.size}<extra></extra>\", \"hovertext\": [\"Yemen\"], \"legendgroup\": \"Yemen\", \"marker\": {\"color\": \"#FECB52\", \"size\": [3], \"sizemode\": \"area\", \"sizeref\": 2.266, \"symbol\": \"circle\"}, \"mode\": \"markers\", \"name\": \"Yemen\", \"showlegend\": true, \"type\": \"scatter\", \"x\": [28250.0], \"xaxis\": \"x\", \"y\": [3], \"yaxis\": \"y\"}, {\"hovertemplate\": \"<b>%{hovertext}</b><br><br>Country=Mauritania<br>Population in thousands (2017)=%{x}<br>No. of Data Breaches=%{marker.size}<extra></extra>\", \"hovertext\": [\"Mauritania\"], \"legendgroup\": \"Mauritania\", \"marker\": {\"color\": \"#636efa\", \"size\": [3], \"sizemode\": \"area\", \"sizeref\": 2.266, \"symbol\": \"circle\"}, \"mode\": \"markers\", \"name\": \"Mauritania\", \"showlegend\": true, \"type\": \"scatter\", \"x\": [4420.0], \"xaxis\": \"x\", \"y\": [3], \"yaxis\": \"y\"}, {\"hovertemplate\": \"<b>%{hovertext}</b><br><br>Country=Nigeria<br>Population in thousands (2017)=%{x}<br>No. of Data Breaches=%{marker.size}<extra></extra>\", \"hovertext\": [\"Nigeria\"], \"legendgroup\": \"Nigeria\", \"marker\": {\"color\": \"#EF553B\", \"size\": [3], \"sizemode\": \"area\", \"sizeref\": 2.266, \"symbol\": \"circle\"}, \"mode\": \"markers\", \"name\": \"Nigeria\", \"showlegend\": true, \"type\": \"scatter\", \"x\": [190886.0], \"xaxis\": \"x\", \"y\": [3], \"yaxis\": \"y\"}, {\"hovertemplate\": \"<b>%{hovertext}</b><br><br>Country=Oman<br>Population in thousands (2017)=%{x}<br>No. of Data Breaches=%{marker.size}<extra></extra>\", \"hovertext\": [\"Oman\"], \"legendgroup\": \"Oman\", \"marker\": {\"color\": \"#00cc96\", \"size\": [3], \"sizemode\": \"area\", \"sizeref\": 2.266, \"symbol\": \"circle\"}, \"mode\": \"markers\", \"name\": \"Oman\", \"showlegend\": true, \"type\": \"scatter\", \"x\": [4636.0], \"xaxis\": \"x\", \"y\": [3], \"yaxis\": \"y\"}, {\"hovertemplate\": \"<b>%{hovertext}</b><br><br>Country=Afghanistan<br>Population in thousands (2017)=%{x}<br>No. of Data Breaches=%{marker.size}<extra></extra>\", \"hovertext\": [\"Afghanistan\"], \"legendgroup\": \"Afghanistan\", \"marker\": {\"color\": \"#ab63fa\", \"size\": [3], \"sizemode\": \"area\", \"sizeref\": 2.266, \"symbol\": \"circle\"}, \"mode\": \"markers\", \"name\": \"Afghanistan\", \"showlegend\": true, \"type\": \"scatter\", \"x\": [35530.0], \"xaxis\": \"x\", \"y\": [3], \"yaxis\": \"y\"}, {\"hovertemplate\": \"<b>%{hovertext}</b><br><br>Country=Ethiopia<br>Population in thousands (2017)=%{x}<br>No. of Data Breaches=%{marker.size}<extra></extra>\", \"hovertext\": [\"Ethiopia\"], \"legendgroup\": \"Ethiopia\", \"marker\": {\"color\": \"#FFA15A\", \"size\": [3], \"sizemode\": \"area\", \"sizeref\": 2.266, \"symbol\": \"circle\"}, \"mode\": \"markers\", \"name\": \"Ethiopia\", \"showlegend\": true, \"type\": \"scatter\", \"x\": [104957.0], \"xaxis\": \"x\", \"y\": [3], \"yaxis\": \"y\"}, {\"hovertemplate\": \"<b>%{hovertext}</b><br><br>Country=Niger<br>Population in thousands (2017)=%{x}<br>No. of Data Breaches=%{marker.size}<extra></extra>\", \"hovertext\": [\"Niger\"], \"legendgroup\": \"Niger\", \"marker\": {\"color\": \"#19d3f3\", \"size\": [3], \"sizemode\": \"area\", \"sizeref\": 2.266, \"symbol\": \"circle\"}, \"mode\": \"markers\", \"name\": \"Niger\", \"showlegend\": true, \"type\": \"scatter\", \"x\": [21477.0], \"xaxis\": \"x\", \"y\": [3], \"yaxis\": \"y\"}, {\"hovertemplate\": \"<b>%{hovertext}</b><br><br>Country=Belize<br>Population in thousands (2017)=%{x}<br>No. of Data Breaches=%{marker.size}<extra></extra>\", \"hovertext\": [\"Belize\"], \"legendgroup\": \"Belize\", \"marker\": {\"color\": \"#FF6692\", \"size\": [3], \"sizemode\": \"area\", \"sizeref\": 2.266, \"symbol\": \"circle\"}, \"mode\": \"markers\", \"name\": \"Belize\", \"showlegend\": true, \"type\": \"scatter\", \"x\": [375.0], \"xaxis\": \"x\", \"y\": [3], \"yaxis\": \"y\"}, {\"hovertemplate\": \"<b>%{hovertext}</b><br><br>Country=Gabon<br>Population in thousands (2017)=%{x}<br>No. of Data Breaches=%{marker.size}<extra></extra>\", \"hovertext\": [\"Gabon\"], \"legendgroup\": \"Gabon\", \"marker\": {\"color\": \"#B6E880\", \"size\": [2], \"sizemode\": \"area\", \"sizeref\": 2.266, \"symbol\": \"circle\"}, \"mode\": \"markers\", \"name\": \"Gabon\", \"showlegend\": true, \"type\": \"scatter\", \"x\": [2025.0], \"xaxis\": \"x\", \"y\": [2], \"yaxis\": \"y\"}, {\"hovertemplate\": \"<b>%{hovertext}</b><br><br>Country=Tajikistan<br>Population in thousands (2017)=%{x}<br>No. of Data Breaches=%{marker.size}<extra></extra>\", \"hovertext\": [\"Tajikistan\"], \"legendgroup\": \"Tajikistan\", \"marker\": {\"color\": \"#FF97FF\", \"size\": [2], \"sizemode\": \"area\", \"sizeref\": 2.266, \"symbol\": \"circle\"}, \"mode\": \"markers\", \"name\": \"Tajikistan\", \"showlegend\": true, \"type\": \"scatter\", \"x\": [8921.0], \"xaxis\": \"x\", \"y\": [2], \"yaxis\": \"y\"}, {\"hovertemplate\": \"<b>%{hovertext}</b><br><br>Country=Northern Mariana Islands<br>Population in thousands (2017)=%{x}<br>No. of Data Breaches=%{marker.size}<extra></extra>\", \"hovertext\": [\"Northern Mariana Islands\"], \"legendgroup\": \"Northern Mariana Islands\", \"marker\": {\"color\": \"#FECB52\", \"size\": [2], \"sizemode\": \"area\", \"sizeref\": 2.266, \"symbol\": \"circle\"}, \"mode\": \"markers\", \"name\": \"Northern Mariana Islands\", \"showlegend\": true, \"type\": \"scatter\", \"x\": [55.0], \"xaxis\": \"x\", \"y\": [2], \"yaxis\": \"y\"}, {\"hovertemplate\": \"<b>%{hovertext}</b><br><br>Country=Burundi<br>Population in thousands (2017)=%{x}<br>No. of Data Breaches=%{marker.size}<extra></extra>\", \"hovertext\": [\"Burundi\"], \"legendgroup\": \"Burundi\", \"marker\": {\"color\": \"#636efa\", \"size\": [2], \"sizemode\": \"area\", \"sizeref\": 2.266, \"symbol\": \"circle\"}, \"mode\": \"markers\", \"name\": \"Burundi\", \"showlegend\": true, \"type\": \"scatter\", \"x\": [10864.0], \"xaxis\": \"x\", \"y\": [2], \"yaxis\": \"y\"}, {\"hovertemplate\": \"<b>%{hovertext}</b><br><br>Country=Burkina Faso<br>Population in thousands (2017)=%{x}<br>No. of Data Breaches=%{marker.size}<extra></extra>\", \"hovertext\": [\"Burkina Faso\"], \"legendgroup\": \"Burkina Faso\", \"marker\": {\"color\": \"#EF553B\", \"size\": [2], \"sizemode\": \"area\", \"sizeref\": 2.266, \"symbol\": \"circle\"}, \"mode\": \"markers\", \"name\": \"Burkina Faso\", \"showlegend\": true, \"type\": \"scatter\", \"x\": [19193.0], \"xaxis\": \"x\", \"y\": [2], \"yaxis\": \"y\"}, {\"hovertemplate\": \"<b>%{hovertext}</b><br><br>Country=Maldives<br>Population in thousands (2017)=%{x}<br>No. of Data Breaches=%{marker.size}<extra></extra>\", \"hovertext\": [\"Maldives\"], \"legendgroup\": \"Maldives\", \"marker\": {\"color\": \"#00cc96\", \"size\": [2], \"sizemode\": \"area\", \"sizeref\": 2.266, \"symbol\": \"circle\"}, \"mode\": \"markers\", \"name\": \"Maldives\", \"showlegend\": true, \"type\": \"scatter\", \"x\": [436.0], \"xaxis\": \"x\", \"y\": [2], \"yaxis\": \"y\"}, {\"hovertemplate\": \"<b>%{hovertext}</b><br><br>Country=French Polynesia<br>Population in thousands (2017)=%{x}<br>No. of Data Breaches=%{marker.size}<extra></extra>\", \"hovertext\": [\"French Polynesia\"], \"legendgroup\": \"French Polynesia\", \"marker\": {\"color\": \"#ab63fa\", \"size\": [2], \"sizemode\": \"area\", \"sizeref\": 2.266, \"symbol\": \"circle\"}, \"mode\": \"markers\", \"name\": \"French Polynesia\", \"showlegend\": true, \"type\": \"scatter\", \"x\": [283.0], \"xaxis\": \"x\", \"y\": [2], \"yaxis\": \"y\"}, {\"hovertemplate\": \"<b>%{hovertext}</b><br><br>Country=Suriname<br>Population in thousands (2017)=%{x}<br>No. of Data Breaches=%{marker.size}<extra></extra>\", \"hovertext\": [\"Suriname\"], \"legendgroup\": \"Suriname\", \"marker\": {\"color\": \"#FFA15A\", \"size\": [2], \"sizemode\": \"area\", \"sizeref\": 2.266, \"symbol\": \"circle\"}, \"mode\": \"markers\", \"name\": \"Suriname\", \"showlegend\": true, \"type\": \"scatter\", \"x\": [563.0], \"xaxis\": \"x\", \"y\": [2], \"yaxis\": \"y\"}, {\"hovertemplate\": \"<b>%{hovertext}</b><br><br>Country=Uganda<br>Population in thousands (2017)=%{x}<br>No. of Data Breaches=%{marker.size}<extra></extra>\", \"hovertext\": [\"Uganda\"], \"legendgroup\": \"Uganda\", \"marker\": {\"color\": \"#19d3f3\", \"size\": [1], \"sizemode\": \"area\", \"sizeref\": 2.266, \"symbol\": \"circle\"}, \"mode\": \"markers\", \"name\": \"Uganda\", \"showlegend\": true, \"type\": \"scatter\", \"x\": [42863.0], \"xaxis\": \"x\", \"y\": [1], \"yaxis\": \"y\"}, {\"hovertemplate\": \"<b>%{hovertext}</b><br><br>Country=Togo<br>Population in thousands (2017)=%{x}<br>No. of Data Breaches=%{marker.size}<extra></extra>\", \"hovertext\": [\"Togo\"], \"legendgroup\": \"Togo\", \"marker\": {\"color\": \"#FF6692\", \"size\": [1], \"sizemode\": \"area\", \"sizeref\": 2.266, \"symbol\": \"circle\"}, \"mode\": \"markers\", \"name\": \"Togo\", \"showlegend\": true, \"type\": \"scatter\", \"x\": [7798.0], \"xaxis\": \"x\", \"y\": [1], \"yaxis\": \"y\"}, {\"hovertemplate\": \"<b>%{hovertext}</b><br><br>Country=Papua New Guinea<br>Population in thousands (2017)=%{x}<br>No. of Data Breaches=%{marker.size}<extra></extra>\", \"hovertext\": [\"Papua New Guinea\"], \"legendgroup\": \"Papua New Guinea\", \"marker\": {\"color\": \"#B6E880\", \"size\": [1], \"sizemode\": \"area\", \"sizeref\": 2.266, \"symbol\": \"circle\"}, \"mode\": \"markers\", \"name\": \"Papua New Guinea\", \"showlegend\": true, \"type\": \"scatter\", \"x\": [8251.0], \"xaxis\": \"x\", \"y\": [1], \"yaxis\": \"y\"}, {\"hovertemplate\": \"<b>%{hovertext}</b><br><br>Country=New Caledonia<br>Population in thousands (2017)=%{x}<br>No. of Data Breaches=%{marker.size}<extra></extra>\", \"hovertext\": [\"New Caledonia\"], \"legendgroup\": \"New Caledonia\", \"marker\": {\"color\": \"#FF97FF\", \"size\": [1], \"sizemode\": \"area\", \"sizeref\": 2.266, \"symbol\": \"circle\"}, \"mode\": \"markers\", \"name\": \"New Caledonia\", \"showlegend\": true, \"type\": \"scatter\", \"x\": [276.0], \"xaxis\": \"x\", \"y\": [1], \"yaxis\": \"y\"}, {\"hovertemplate\": \"<b>%{hovertext}</b><br><br>Country=Botswana<br>Population in thousands (2017)=%{x}<br>No. of Data Breaches=%{marker.size}<extra></extra>\", \"hovertext\": [\"Botswana\"], \"legendgroup\": \"Botswana\", \"marker\": {\"color\": \"#FECB52\", \"size\": [1], \"sizemode\": \"area\", \"sizeref\": 2.266, \"symbol\": \"circle\"}, \"mode\": \"markers\", \"name\": \"Botswana\", \"showlegend\": true, \"type\": \"scatter\", \"x\": [2292.0], \"xaxis\": \"x\", \"y\": [1], \"yaxis\": \"y\"}, {\"hovertemplate\": \"<b>%{hovertext}</b><br><br>Country=Puerto Rico<br>Population in thousands (2017)=%{x}<br>No. of Data Breaches=%{marker.size}<extra></extra>\", \"hovertext\": [\"Puerto Rico\"], \"legendgroup\": \"Puerto Rico\", \"marker\": {\"color\": \"#636efa\", \"size\": [1], \"sizemode\": \"area\", \"sizeref\": 2.266, \"symbol\": \"circle\"}, \"mode\": \"markers\", \"name\": \"Puerto Rico\", \"showlegend\": true, \"type\": \"scatter\", \"x\": [3663.0], \"xaxis\": \"x\", \"y\": [1], \"yaxis\": \"y\"}, {\"hovertemplate\": \"<b>%{hovertext}</b><br><br>Country=Guinea<br>Population in thousands (2017)=%{x}<br>No. of Data Breaches=%{marker.size}<extra></extra>\", \"hovertext\": [\"Guinea\"], \"legendgroup\": \"Guinea\", \"marker\": {\"color\": \"#EF553B\", \"size\": [1], \"sizemode\": \"area\", \"sizeref\": 2.266, \"symbol\": \"circle\"}, \"mode\": \"markers\", \"name\": \"Guinea\", \"showlegend\": true, \"type\": \"scatter\", \"x\": [12717.0], \"xaxis\": \"x\", \"y\": [1], \"yaxis\": \"y\"}, {\"hovertemplate\": \"<b>%{hovertext}</b><br><br>Country=Cayman Islands<br>Population in thousands (2017)=%{x}<br>No. of Data Breaches=%{marker.size}<extra></extra>\", \"hovertext\": [\"Cayman Islands\"], \"legendgroup\": \"Cayman Islands\", \"marker\": {\"color\": \"#00cc96\", \"size\": [1], \"sizemode\": \"area\", \"sizeref\": 2.266, \"symbol\": \"circle\"}, \"mode\": \"markers\", \"name\": \"Cayman Islands\", \"showlegend\": true, \"type\": \"scatter\", \"x\": [62.0], \"xaxis\": \"x\", \"y\": [1], \"yaxis\": \"y\"}, {\"hovertemplate\": \"<b>%{hovertext}</b><br><br>Country=Benin<br>Population in thousands (2017)=%{x}<br>No. of Data Breaches=%{marker.size}<extra></extra>\", \"hovertext\": [\"Benin\"], \"legendgroup\": \"Benin\", \"marker\": {\"color\": \"#ab63fa\", \"size\": [1], \"sizemode\": \"area\", \"sizeref\": 2.266, \"symbol\": \"circle\"}, \"mode\": \"markers\", \"name\": \"Benin\", \"showlegend\": true, \"type\": \"scatter\", \"x\": [11176.0], \"xaxis\": \"x\", \"y\": [1], \"yaxis\": \"y\"}, {\"hovertemplate\": \"<b>%{hovertext}</b><br><br>Country=Cambodia<br>Population in thousands (2017)=%{x}<br>No. of Data Breaches=%{marker.size}<extra></extra>\", \"hovertext\": [\"Cambodia\"], \"legendgroup\": \"Cambodia\", \"marker\": {\"color\": \"#FFA15A\", \"size\": [1], \"sizemode\": \"area\", \"sizeref\": 2.266, \"symbol\": \"circle\"}, \"mode\": \"markers\", \"name\": \"Cambodia\", \"showlegend\": true, \"type\": \"scatter\", \"x\": [16005.0], \"xaxis\": \"x\", \"y\": [1], \"yaxis\": \"y\"}, {\"hovertemplate\": \"<b>%{hovertext}</b><br><br>Country=Turkmenistan<br>Population in thousands (2017)=%{x}<br>No. of Data Breaches=%{marker.size}<extra></extra>\", \"hovertext\": [\"Turkmenistan\"], \"legendgroup\": \"Turkmenistan\", \"marker\": {\"color\": \"#19d3f3\", \"size\": [1], \"sizemode\": \"area\", \"sizeref\": 2.266, \"symbol\": \"circle\"}, \"mode\": \"markers\", \"name\": \"Turkmenistan\", \"showlegend\": true, \"type\": \"scatter\", \"x\": [5758.0], \"xaxis\": \"x\", \"y\": [1], \"yaxis\": \"y\"}, {\"hovertemplate\": \"<b>%{hovertext}</b><br><br>Country=Lesotho<br>Population in thousands (2017)=%{x}<br>No. of Data Breaches=%{marker.size}<extra></extra>\", \"hovertext\": [\"Lesotho\"], \"legendgroup\": \"Lesotho\", \"marker\": {\"color\": \"#FF6692\", \"size\": [1], \"sizemode\": \"area\", \"sizeref\": 2.266, \"symbol\": \"circle\"}, \"mode\": \"markers\", \"name\": \"Lesotho\", \"showlegend\": true, \"type\": \"scatter\", \"x\": [2233.0], \"xaxis\": \"x\", \"y\": [1], \"yaxis\": \"y\"}, {\"hovertemplate\": \"<b>%{hovertext}</b><br><br>Country=Mali<br>Population in thousands (2017)=%{x}<br>No. of Data Breaches=%{marker.size}<extra></extra>\", \"hovertext\": [\"Mali\"], \"legendgroup\": \"Mali\", \"marker\": {\"color\": \"#B6E880\", \"size\": [1], \"sizemode\": \"area\", \"sizeref\": 2.266, \"symbol\": \"circle\"}, \"mode\": \"markers\", \"name\": \"Mali\", \"showlegend\": true, \"type\": \"scatter\", \"x\": [18542.0], \"xaxis\": \"x\", \"y\": [1], \"yaxis\": \"y\"}, {\"hovertemplate\": \"<b>%{hovertext}</b><br><br>Country=Cook Islands<br>Population in thousands (2017)=%{x}<br>No. of Data Breaches=%{marker.size}<extra></extra>\", \"hovertext\": [\"Cook Islands\"], \"legendgroup\": \"Cook Islands\", \"marker\": {\"color\": \"#FF97FF\", \"size\": [1], \"sizemode\": \"area\", \"sizeref\": 2.266, \"symbol\": \"circle\"}, \"mode\": \"markers\", \"name\": \"Cook Islands\", \"showlegend\": true, \"type\": \"scatter\", \"x\": [17.0], \"xaxis\": \"x\", \"y\": [1], \"yaxis\": \"y\"}],\n",
       "                        {\"legend\": {\"itemsizing\": \"constant\", \"title\": {\"text\": \"Country\"}, \"tracegroupgap\": 0}, \"margin\": {\"t\": 60}, \"template\": {\"data\": {\"bar\": [{\"error_x\": {\"color\": \"#2a3f5f\"}, \"error_y\": {\"color\": \"#2a3f5f\"}, \"marker\": {\"line\": {\"color\": \"#E5ECF6\", \"width\": 0.5}}, \"type\": \"bar\"}], \"barpolar\": [{\"marker\": {\"line\": {\"color\": \"#E5ECF6\", \"width\": 0.5}}, \"type\": \"barpolar\"}], \"carpet\": [{\"aaxis\": {\"endlinecolor\": \"#2a3f5f\", \"gridcolor\": \"white\", \"linecolor\": \"white\", \"minorgridcolor\": \"white\", \"startlinecolor\": \"#2a3f5f\"}, \"baxis\": {\"endlinecolor\": \"#2a3f5f\", \"gridcolor\": \"white\", \"linecolor\": \"white\", \"minorgridcolor\": \"white\", \"startlinecolor\": \"#2a3f5f\"}, \"type\": \"carpet\"}], \"choropleth\": [{\"colorbar\": {\"outlinewidth\": 0, \"ticks\": \"\"}, \"type\": \"choropleth\"}], \"contour\": [{\"colorbar\": {\"outlinewidth\": 0, \"ticks\": \"\"}, \"colorscale\": [[0.0, \"#0d0887\"], [0.1111111111111111, \"#46039f\"], [0.2222222222222222, \"#7201a8\"], [0.3333333333333333, \"#9c179e\"], [0.4444444444444444, \"#bd3786\"], [0.5555555555555556, \"#d8576b\"], [0.6666666666666666, \"#ed7953\"], [0.7777777777777778, \"#fb9f3a\"], [0.8888888888888888, \"#fdca26\"], [1.0, \"#f0f921\"]], \"type\": \"contour\"}], \"contourcarpet\": [{\"colorbar\": {\"outlinewidth\": 0, \"ticks\": \"\"}, \"type\": \"contourcarpet\"}], \"heatmap\": [{\"colorbar\": {\"outlinewidth\": 0, \"ticks\": \"\"}, \"colorscale\": [[0.0, \"#0d0887\"], [0.1111111111111111, \"#46039f\"], [0.2222222222222222, \"#7201a8\"], [0.3333333333333333, \"#9c179e\"], [0.4444444444444444, \"#bd3786\"], [0.5555555555555556, \"#d8576b\"], [0.6666666666666666, \"#ed7953\"], [0.7777777777777778, \"#fb9f3a\"], [0.8888888888888888, \"#fdca26\"], [1.0, \"#f0f921\"]], \"type\": \"heatmap\"}], \"heatmapgl\": [{\"colorbar\": {\"outlinewidth\": 0, \"ticks\": \"\"}, \"colorscale\": [[0.0, \"#0d0887\"], [0.1111111111111111, \"#46039f\"], [0.2222222222222222, \"#7201a8\"], [0.3333333333333333, \"#9c179e\"], [0.4444444444444444, \"#bd3786\"], [0.5555555555555556, \"#d8576b\"], [0.6666666666666666, \"#ed7953\"], [0.7777777777777778, \"#fb9f3a\"], [0.8888888888888888, \"#fdca26\"], [1.0, \"#f0f921\"]], \"type\": \"heatmapgl\"}], \"histogram\": [{\"marker\": {\"colorbar\": {\"outlinewidth\": 0, \"ticks\": \"\"}}, \"type\": \"histogram\"}], \"histogram2d\": [{\"colorbar\": {\"outlinewidth\": 0, \"ticks\": \"\"}, \"colorscale\": [[0.0, \"#0d0887\"], [0.1111111111111111, \"#46039f\"], [0.2222222222222222, \"#7201a8\"], [0.3333333333333333, \"#9c179e\"], [0.4444444444444444, \"#bd3786\"], [0.5555555555555556, \"#d8576b\"], [0.6666666666666666, \"#ed7953\"], [0.7777777777777778, \"#fb9f3a\"], [0.8888888888888888, \"#fdca26\"], [1.0, \"#f0f921\"]], \"type\": \"histogram2d\"}], \"histogram2dcontour\": [{\"colorbar\": {\"outlinewidth\": 0, \"ticks\": \"\"}, \"colorscale\": [[0.0, \"#0d0887\"], [0.1111111111111111, \"#46039f\"], [0.2222222222222222, \"#7201a8\"], [0.3333333333333333, \"#9c179e\"], [0.4444444444444444, \"#bd3786\"], [0.5555555555555556, \"#d8576b\"], [0.6666666666666666, \"#ed7953\"], [0.7777777777777778, \"#fb9f3a\"], [0.8888888888888888, \"#fdca26\"], [1.0, \"#f0f921\"]], \"type\": \"histogram2dcontour\"}], \"mesh3d\": [{\"colorbar\": {\"outlinewidth\": 0, \"ticks\": \"\"}, \"type\": \"mesh3d\"}], \"parcoords\": [{\"line\": {\"colorbar\": {\"outlinewidth\": 0, \"ticks\": \"\"}}, \"type\": \"parcoords\"}], \"pie\": [{\"automargin\": true, \"type\": \"pie\"}], \"scatter\": [{\"marker\": {\"colorbar\": {\"outlinewidth\": 0, \"ticks\": \"\"}}, \"type\": \"scatter\"}], \"scatter3d\": [{\"line\": {\"colorbar\": {\"outlinewidth\": 0, \"ticks\": \"\"}}, \"marker\": {\"colorbar\": {\"outlinewidth\": 0, \"ticks\": \"\"}}, \"type\": \"scatter3d\"}], \"scattercarpet\": [{\"marker\": {\"colorbar\": {\"outlinewidth\": 0, \"ticks\": \"\"}}, \"type\": \"scattercarpet\"}], \"scattergeo\": [{\"marker\": {\"colorbar\": {\"outlinewidth\": 0, \"ticks\": \"\"}}, \"type\": \"scattergeo\"}], \"scattergl\": [{\"marker\": {\"colorbar\": {\"outlinewidth\": 0, \"ticks\": \"\"}}, \"type\": \"scattergl\"}], \"scattermapbox\": [{\"marker\": {\"colorbar\": {\"outlinewidth\": 0, \"ticks\": \"\"}}, \"type\": \"scattermapbox\"}], \"scatterpolar\": [{\"marker\": {\"colorbar\": {\"outlinewidth\": 0, \"ticks\": \"\"}}, \"type\": \"scatterpolar\"}], \"scatterpolargl\": [{\"marker\": {\"colorbar\": {\"outlinewidth\": 0, \"ticks\": \"\"}}, \"type\": \"scatterpolargl\"}], \"scatterternary\": [{\"marker\": {\"colorbar\": {\"outlinewidth\": 0, \"ticks\": \"\"}}, \"type\": \"scatterternary\"}], \"surface\": [{\"colorbar\": {\"outlinewidth\": 0, \"ticks\": \"\"}, \"colorscale\": [[0.0, \"#0d0887\"], [0.1111111111111111, \"#46039f\"], [0.2222222222222222, \"#7201a8\"], [0.3333333333333333, \"#9c179e\"], [0.4444444444444444, \"#bd3786\"], [0.5555555555555556, \"#d8576b\"], [0.6666666666666666, \"#ed7953\"], [0.7777777777777778, \"#fb9f3a\"], [0.8888888888888888, \"#fdca26\"], [1.0, \"#f0f921\"]], \"type\": \"surface\"}], \"table\": [{\"cells\": {\"fill\": {\"color\": \"#EBF0F8\"}, \"line\": {\"color\": \"white\"}}, \"header\": {\"fill\": {\"color\": \"#C8D4E3\"}, \"line\": {\"color\": \"white\"}}, \"type\": \"table\"}]}, \"layout\": {\"annotationdefaults\": {\"arrowcolor\": \"#2a3f5f\", \"arrowhead\": 0, \"arrowwidth\": 1}, \"coloraxis\": {\"colorbar\": {\"outlinewidth\": 0, \"ticks\": \"\"}}, \"colorscale\": {\"diverging\": [[0, \"#8e0152\"], [0.1, \"#c51b7d\"], [0.2, \"#de77ae\"], [0.3, \"#f1b6da\"], [0.4, \"#fde0ef\"], [0.5, \"#f7f7f7\"], [0.6, \"#e6f5d0\"], [0.7, \"#b8e186\"], [0.8, \"#7fbc41\"], [0.9, \"#4d9221\"], [1, \"#276419\"]], \"sequential\": [[0.0, \"#0d0887\"], [0.1111111111111111, \"#46039f\"], [0.2222222222222222, \"#7201a8\"], [0.3333333333333333, \"#9c179e\"], [0.4444444444444444, \"#bd3786\"], [0.5555555555555556, \"#d8576b\"], [0.6666666666666666, \"#ed7953\"], [0.7777777777777778, \"#fb9f3a\"], [0.8888888888888888, \"#fdca26\"], [1.0, \"#f0f921\"]], \"sequentialminus\": [[0.0, \"#0d0887\"], [0.1111111111111111, \"#46039f\"], [0.2222222222222222, \"#7201a8\"], [0.3333333333333333, \"#9c179e\"], [0.4444444444444444, \"#bd3786\"], [0.5555555555555556, \"#d8576b\"], [0.6666666666666666, \"#ed7953\"], [0.7777777777777778, \"#fb9f3a\"], [0.8888888888888888, \"#fdca26\"], [1.0, \"#f0f921\"]]}, \"colorway\": [\"#636efa\", \"#EF553B\", \"#00cc96\", \"#ab63fa\", \"#FFA15A\", \"#19d3f3\", \"#FF6692\", \"#B6E880\", \"#FF97FF\", \"#FECB52\"], \"font\": {\"color\": \"#2a3f5f\"}, \"geo\": {\"bgcolor\": \"white\", \"lakecolor\": \"white\", \"landcolor\": \"#E5ECF6\", \"showlakes\": true, \"showland\": true, \"subunitcolor\": \"white\"}, \"hoverlabel\": {\"align\": \"left\"}, \"hovermode\": \"closest\", \"mapbox\": {\"style\": \"light\"}, \"paper_bgcolor\": \"white\", \"plot_bgcolor\": \"#E5ECF6\", \"polar\": {\"angularaxis\": {\"gridcolor\": \"white\", \"linecolor\": \"white\", \"ticks\": \"\"}, \"bgcolor\": \"#E5ECF6\", \"radialaxis\": {\"gridcolor\": \"white\", \"linecolor\": \"white\", \"ticks\": \"\"}}, \"scene\": {\"xaxis\": {\"backgroundcolor\": \"#E5ECF6\", \"gridcolor\": \"white\", \"gridwidth\": 2, \"linecolor\": \"white\", \"showbackground\": true, \"ticks\": \"\", \"zerolinecolor\": \"white\"}, \"yaxis\": {\"backgroundcolor\": \"#E5ECF6\", \"gridcolor\": \"white\", \"gridwidth\": 2, \"linecolor\": \"white\", \"showbackground\": true, \"ticks\": \"\", \"zerolinecolor\": \"white\"}, \"zaxis\": {\"backgroundcolor\": \"#E5ECF6\", \"gridcolor\": \"white\", \"gridwidth\": 2, \"linecolor\": \"white\", \"showbackground\": true, \"ticks\": \"\", \"zerolinecolor\": \"white\"}}, \"shapedefaults\": {\"line\": {\"color\": \"#2a3f5f\"}}, \"ternary\": {\"aaxis\": {\"gridcolor\": \"white\", \"linecolor\": \"white\", \"ticks\": \"\"}, \"baxis\": {\"gridcolor\": \"white\", \"linecolor\": \"white\", \"ticks\": \"\"}, \"bgcolor\": \"#E5ECF6\", \"caxis\": {\"gridcolor\": \"white\", \"linecolor\": \"white\", \"ticks\": \"\"}}, \"title\": {\"x\": 0.05}, \"xaxis\": {\"automargin\": true, \"gridcolor\": \"white\", \"linecolor\": \"white\", \"ticks\": \"\", \"title\": {\"standoff\": 15}, \"zerolinecolor\": \"white\", \"zerolinewidth\": 2}, \"yaxis\": {\"automargin\": true, \"gridcolor\": \"white\", \"linecolor\": \"white\", \"ticks\": \"\", \"title\": {\"standoff\": 15}, \"zerolinecolor\": \"white\", \"zerolinewidth\": 2}}}, \"xaxis\": {\"anchor\": \"y\", \"domain\": [0.0, 1.0], \"title\": {\"text\": \"Population in thousands (2017)\"}, \"type\": \"log\"}, \"yaxis\": {\"anchor\": \"x\", \"domain\": [0.0, 1.0], \"title\": {\"text\": \"No. of Data Breaches\"}}},\n",
       "                        {\"responsive\": true}\n",
       "                    ).then(function(){\n",
       "                            \n",
       "var gd = document.getElementById('1f324eac-d1ed-4147-9164-8d5bb2fb3033');\n",
       "var x = new MutationObserver(function (mutations, observer) {{\n",
       "        var display = window.getComputedStyle(gd).display;\n",
       "        if (!display || display === 'none') {{\n",
       "            console.log([gd, 'removed!']);\n",
       "            Plotly.purge(gd);\n",
       "            observer.disconnect();\n",
       "        }}\n",
       "}});\n",
       "\n",
       "// Listen for the removal of the full notebook cells\n",
       "var notebookContainer = gd.closest('#notebook-container');\n",
       "if (notebookContainer) {{\n",
       "    x.observe(notebookContainer, {childList: true});\n",
       "}}\n",
       "\n",
       "// Listen for the clearing of the current output cell\n",
       "var outputEl = gd.closest('.output');\n",
       "if (outputEl) {{\n",
       "    x.observe(outputEl, {childList: true});\n",
       "}}\n",
       "\n",
       "                        })\n",
       "                };\n",
       "                });\n",
       "            </script>\n",
       "        </div>"
      ]
     },
     "metadata": {},
     "output_type": "display_data"
    }
   ],
   "source": [
    "x=\"Population in thousands (2017)\"\n",
    "y=\"No. of Data Breaches\"\n",
    "color=\"Country\"\n",
    "size= \"No. of Data Breaches\"\n",
    "hover_name=\"country\"\n",
    "log_x=True \n",
    "size_max=50\n",
    "\n",
    "scatter_plot(data_breaches_vs_population,x,y,color,size,hover_name,log_x,size_max)"
   ]
  },
  {
   "cell_type": "markdown",
   "metadata": {},
   "source": [
    "<b>Conclusion:</b><br>\n",
    "Through our visualization we can see that the countries with higher populations are more prone to data breaches."
   ]
  },
  {
   "cell_type": "markdown",
   "metadata": {},
   "source": [
    "# Hypothesis 3: We expect that countries with higher secure internet servers would have lesser cases of data breaches\n",
    "\n",
    "The countries that have higher no. of secure servers will be well prepared for data breaches. Therefore we assume that the countires with higher number of seccure servers would have lesser data breaches."
   ]
  },
  {
   "cell_type": "code",
   "execution_count": 40,
   "metadata": {
    "pycharm": {
     "name": "#%%\n"
    }
   },
   "outputs": [],
   "source": [
    "secure_servers =  secure_servers[[\"Country\",\"2018\"]]\n",
    "    \n",
    "secure_servers = remove_null(secure_servers)\n",
    "\n",
    "data_breaches_per_country[\"Country\"] = data_breaches_per_country.Country.str.title()\n",
    "\n",
    "server_data_breach = secure_servers.merge(data_breaches_per_country,left_on=\"Country\",right_on=\"Country\",how=\"left\")\n",
    "\n",
    "server_data_breach = remove_null(server_data_breach)\n",
    "\n",
    "server_data_breach.columns = [\"Country\",\"No.of Secure Servers\",\"No. of Data Breaches\"]"
   ]
  },
  {
   "cell_type": "code",
   "execution_count": 41,
   "metadata": {
    "pycharm": {
     "name": "#%%\n"
    }
   },
   "outputs": [
    {
     "data": {
      "application/vnd.plotly.v1+json": {
       "config": {
        "plotlyServerURL": "https://plot.ly"
       },
       "data": [
        {
         "branchvalues": "total",
         "customdata": [
          [
           "Afghanistan",
           3
          ],
          [
           "Albania",
           42
          ],
          [
           "Algeria",
           5
          ],
          [
           "Andorra",
           8
          ],
          [
           "Argentina",
           848
          ],
          [
           "Armenia",
           19
          ],
          [
           "Australia",
           1010
          ],
          [
           "Austria",
           318
          ],
          [
           "Azerbaijan",
           4
          ],
          [
           "Bahrain",
           11
          ],
          [
           "Bangladesh",
           130
          ],
          [
           "Barbados",
           10
          ],
          [
           "Belarus",
           52
          ],
          [
           "Belgium",
           367
          ],
          [
           "Belize",
           3
          ],
          [
           "Benin",
           1
          ],
          [
           "Bhutan",
           22
          ],
          [
           "Bolivia",
           90
          ],
          [
           "Botswana",
           1
          ],
          [
           "Brazil",
           5302
          ],
          [
           "Brunei Darussalam",
           21
          ],
          [
           "Bulgaria",
           149
          ],
          [
           "Burkina Faso",
           2
          ],
          [
           "Burundi",
           2
          ],
          [
           "Cambodia",
           1
          ],
          [
           "Cameroon",
           3
          ],
          [
           "Canada",
           1553
          ],
          [
           "Chile",
           2473
          ],
          [
           "China",
           2311
          ],
          [
           "Colombia",
           191
          ],
          [
           "Costa Rica",
           14
          ],
          [
           "Croatia",
           101
          ],
          [
           "Cuba",
           11
          ],
          [
           "Cyprus",
           21
          ],
          [
           "Czech Republic",
           225
          ],
          [
           "Denmark",
           1612
          ],
          [
           "Dominican Republic",
           6
          ],
          [
           "Ecuador",
           53
          ],
          [
           "El Salvador",
           10
          ],
          [
           "Eritrea",
           8
          ],
          [
           "Estonia",
           214
          ],
          [
           "Ethiopia",
           3
          ],
          [
           "Fiji",
           5
          ],
          [
           "Finland",
           81
          ],
          [
           "France",
           3681
          ],
          [
           "Gabon",
           2
          ],
          [
           "Georgia",
           27
          ],
          [
           "Germany",
           4088
          ],
          [
           "Ghana",
           3
          ],
          [
           "Greece",
           545
          ],
          [
           "Guatemala",
           20
          ],
          [
           "Guinea",
           1
          ],
          [
           "Haiti",
           32
          ],
          [
           "Honduras",
           37
          ],
          [
           "Hungary",
           603
          ],
          [
           "Iceland",
           28
          ],
          [
           "India",
           531
          ],
          [
           "Indonesia",
           2272
          ],
          [
           "Iraq",
           6
          ],
          [
           "Ireland",
           641
          ],
          [
           "Israel",
           459
          ],
          [
           "Italy",
           2150
          ],
          [
           "Jamaica",
           9
          ],
          [
           "Japan",
           967
          ],
          [
           "Jordan",
           25
          ],
          [
           "Kazakhstan",
           103
          ],
          [
           "Kenya",
           22
          ],
          [
           "Kuwait",
           16
          ],
          [
           "Latvia",
           44
          ],
          [
           "Lebanon",
           15
          ],
          [
           "Lesotho",
           1
          ],
          [
           "Liechtenstein",
           6
          ],
          [
           "Lithuania",
           221
          ],
          [
           "Luxembourg",
           39
          ],
          [
           "Madagascar",
           4
          ],
          [
           "Malawi",
           15
          ],
          [
           "Malaysia",
           403
          ],
          [
           "Maldives",
           2
          ],
          [
           "Mali",
           1
          ],
          [
           "Malta",
           9
          ],
          [
           "Mauritania",
           3
          ],
          [
           "Mauritius",
           6
          ],
          [
           "Mexico",
           792
          ],
          [
           "Moldova",
           7
          ],
          [
           "Monaco",
           3
          ],
          [
           "Mongolia",
           12
          ],
          [
           "Montenegro",
           23
          ],
          [
           "Morocco",
           129
          ],
          [
           "Mozambique",
           20
          ],
          [
           "Namibia",
           5
          ],
          [
           "Nepal",
           41
          ],
          [
           "Netherlands",
           1442
          ],
          [
           "New Zealand",
           191
          ],
          [
           "Nicaragua",
           23
          ],
          [
           "Niger",
           3
          ],
          [
           "Nigeria",
           3
          ],
          [
           "Norway",
           598
          ],
          [
           "Oman",
           3
          ],
          [
           "Pakistan",
           119
          ],
          [
           "Panama",
           30
          ],
          [
           "Papua New Guinea",
           1
          ],
          [
           "Paraguay",
           24
          ],
          [
           "Peru",
           218
          ],
          [
           "Philippines",
           139
          ],
          [
           "Poland",
           1050
          ],
          [
           "Portugal",
           219
          ],
          [
           "Puerto Rico",
           1
          ],
          [
           "Qatar",
           8
          ],
          [
           "Romania",
           482
          ],
          [
           "Russian Federation",
           1266
          ],
          [
           "Rwanda",
           17
          ],
          [
           "Samoa",
           10
          ],
          [
           "San Marino",
           8
          ],
          [
           "Saudi Arabia",
           9
          ],
          [
           "Senegal",
           22
          ],
          [
           "Serbia",
           82
          ],
          [
           "Seychelles",
           4
          ],
          [
           "Singapore",
           396
          ],
          [
           "Slovenia",
           537
          ],
          [
           "Somalia",
           4
          ],
          [
           "South Africa",
           440
          ],
          [
           "Spain",
           5665
          ],
          [
           "Sri Lanka",
           77
          ],
          [
           "Sudan",
           11
          ],
          [
           "Suriname",
           2
          ],
          [
           "Sweden",
           383
          ],
          [
           "Switzerland",
           574
          ],
          [
           "Syrian Arab Republic",
           28
          ],
          [
           "Tajikistan",
           2
          ],
          [
           "Tanzania",
           3
          ],
          [
           "Thailand",
           1430
          ],
          [
           "Togo",
           1
          ],
          [
           "Tonga",
           19
          ],
          [
           "Tunisia",
           83
          ],
          [
           "Turkey",
           1078
          ],
          [
           "Turkmenistan",
           1
          ],
          [
           "Tuvalu",
           16
          ],
          [
           "Uganda",
           1
          ],
          [
           "Ukraine",
           614
          ],
          [
           "United Arab Emirates",
           12
          ],
          [
           "United Kingdom",
           3628
          ],
          [
           "United States",
           29928
          ],
          [
           "Uruguay",
           47
          ],
          [
           "Uzbekistan",
           8
          ],
          [
           "Vanuatu",
           4
          ],
          [
           "Vietnam",
           45
          ],
          [
           "Zambia",
           5
          ],
          [
           "Zimbabwe",
           8
          ]
         ],
         "domain": {
          "x": [
           0,
           1
          ],
          "y": [
           0,
           1
          ]
         },
         "hovertemplate": "Country=%{customdata[0]}<br>No. of Data Breaches=%{color}<br>labels=%{label}<br>No.of Secure Servers=%{value}<br>parent=%{parent}<br>id=%{id}<extra></extra>",
         "ids": [
          "Afghanistan",
          "Albania",
          "Algeria",
          "Andorra",
          "Argentina",
          "Armenia",
          "Australia",
          "Austria",
          "Azerbaijan",
          "Bahrain",
          "Bangladesh",
          "Barbados",
          "Belarus",
          "Belgium",
          "Belize",
          "Benin",
          "Bhutan",
          "Bolivia",
          "Botswana",
          "Brazil",
          "Brunei Darussalam",
          "Bulgaria",
          "Burkina Faso",
          "Burundi",
          "Cambodia",
          "Cameroon",
          "Canada",
          "Chile",
          "China",
          "Colombia",
          "Costa Rica",
          "Croatia",
          "Cuba",
          "Cyprus",
          "Czech Republic",
          "Denmark",
          "Dominican Republic",
          "Ecuador",
          "El Salvador",
          "Eritrea",
          "Estonia",
          "Ethiopia",
          "Fiji",
          "Finland",
          "France",
          "Gabon",
          "Georgia",
          "Germany",
          "Ghana",
          "Greece",
          "Guatemala",
          "Guinea",
          "Haiti",
          "Honduras",
          "Hungary",
          "Iceland",
          "India",
          "Indonesia",
          "Iraq",
          "Ireland",
          "Israel",
          "Italy",
          "Jamaica",
          "Japan",
          "Jordan",
          "Kazakhstan",
          "Kenya",
          "Kuwait",
          "Latvia",
          "Lebanon",
          "Lesotho",
          "Liechtenstein",
          "Lithuania",
          "Luxembourg",
          "Madagascar",
          "Malawi",
          "Malaysia",
          "Maldives",
          "Mali",
          "Malta",
          "Mauritania",
          "Mauritius",
          "Mexico",
          "Moldova",
          "Monaco",
          "Mongolia",
          "Montenegro",
          "Morocco",
          "Mozambique",
          "Namibia",
          "Nepal",
          "Netherlands",
          "New Zealand",
          "Nicaragua",
          "Niger",
          "Nigeria",
          "Norway",
          "Oman",
          "Pakistan",
          "Panama",
          "Papua New Guinea",
          "Paraguay",
          "Peru",
          "Philippines",
          "Poland",
          "Portugal",
          "Puerto Rico",
          "Qatar",
          "Romania",
          "Russian Federation",
          "Rwanda",
          "Samoa",
          "San Marino",
          "Saudi Arabia",
          "Senegal",
          "Serbia",
          "Seychelles",
          "Singapore",
          "Slovenia",
          "Somalia",
          "South Africa",
          "Spain",
          "Sri Lanka",
          "Sudan",
          "Suriname",
          "Sweden",
          "Switzerland",
          "Syrian Arab Republic",
          "Tajikistan",
          "Tanzania",
          "Thailand",
          "Togo",
          "Tonga",
          "Tunisia",
          "Turkey",
          "Turkmenistan",
          "Tuvalu",
          "Uganda",
          "Ukraine",
          "United Arab Emirates",
          "United Kingdom",
          "United States",
          "Uruguay",
          "Uzbekistan",
          "Vanuatu",
          "Vietnam",
          "Zambia",
          "Zimbabwe"
         ],
         "labels": [
          "Afghanistan",
          "Albania",
          "Algeria",
          "Andorra",
          "Argentina",
          "Armenia",
          "Australia",
          "Austria",
          "Azerbaijan",
          "Bahrain",
          "Bangladesh",
          "Barbados",
          "Belarus",
          "Belgium",
          "Belize",
          "Benin",
          "Bhutan",
          "Bolivia",
          "Botswana",
          "Brazil",
          "Brunei Darussalam",
          "Bulgaria",
          "Burkina Faso",
          "Burundi",
          "Cambodia",
          "Cameroon",
          "Canada",
          "Chile",
          "China",
          "Colombia",
          "Costa Rica",
          "Croatia",
          "Cuba",
          "Cyprus",
          "Czech Republic",
          "Denmark",
          "Dominican Republic",
          "Ecuador",
          "El Salvador",
          "Eritrea",
          "Estonia",
          "Ethiopia",
          "Fiji",
          "Finland",
          "France",
          "Gabon",
          "Georgia",
          "Germany",
          "Ghana",
          "Greece",
          "Guatemala",
          "Guinea",
          "Haiti",
          "Honduras",
          "Hungary",
          "Iceland",
          "India",
          "Indonesia",
          "Iraq",
          "Ireland",
          "Israel",
          "Italy",
          "Jamaica",
          "Japan",
          "Jordan",
          "Kazakhstan",
          "Kenya",
          "Kuwait",
          "Latvia",
          "Lebanon",
          "Lesotho",
          "Liechtenstein",
          "Lithuania",
          "Luxembourg",
          "Madagascar",
          "Malawi",
          "Malaysia",
          "Maldives",
          "Mali",
          "Malta",
          "Mauritania",
          "Mauritius",
          "Mexico",
          "Moldova",
          "Monaco",
          "Mongolia",
          "Montenegro",
          "Morocco",
          "Mozambique",
          "Namibia",
          "Nepal",
          "Netherlands",
          "New Zealand",
          "Nicaragua",
          "Niger",
          "Nigeria",
          "Norway",
          "Oman",
          "Pakistan",
          "Panama",
          "Papua New Guinea",
          "Paraguay",
          "Peru",
          "Philippines",
          "Poland",
          "Portugal",
          "Puerto Rico",
          "Qatar",
          "Romania",
          "Russian Federation",
          "Rwanda",
          "Samoa",
          "San Marino",
          "Saudi Arabia",
          "Senegal",
          "Serbia",
          "Seychelles",
          "Singapore",
          "Slovenia",
          "Somalia",
          "South Africa",
          "Spain",
          "Sri Lanka",
          "Sudan",
          "Suriname",
          "Sweden",
          "Switzerland",
          "Syrian Arab Republic",
          "Tajikistan",
          "Tanzania",
          "Thailand",
          "Togo",
          "Tonga",
          "Tunisia",
          "Turkey",
          "Turkmenistan",
          "Tuvalu",
          "Uganda",
          "Ukraine",
          "United Arab Emirates",
          "United Kingdom",
          "United States",
          "Uruguay",
          "Uzbekistan",
          "Vanuatu",
          "Vietnam",
          "Zambia",
          "Zimbabwe"
         ],
         "marker": {
          "coloraxis": "coloraxis",
          "colors": [
           3,
           42,
           5,
           8,
           848,
           19,
           1010,
           318,
           4,
           11,
           130,
           10,
           52,
           367,
           3,
           1,
           22,
           90,
           1,
           5302,
           21,
           149,
           2,
           2,
           1,
           3,
           1553,
           2473,
           2311,
           191,
           14,
           101,
           11,
           21,
           225,
           1612,
           6,
           53,
           10,
           8,
           214,
           3,
           5,
           81,
           3681,
           2,
           27,
           4088,
           3,
           545,
           20,
           1,
           32,
           37,
           603,
           28,
           531,
           2272,
           6,
           641,
           459,
           2150,
           9,
           967,
           25,
           103,
           22,
           16,
           44,
           15,
           1,
           6,
           221,
           39,
           4,
           15,
           403,
           2,
           1,
           9,
           3,
           6,
           792,
           7,
           3,
           12,
           23,
           129,
           20,
           5,
           41,
           1442,
           191,
           23,
           3,
           3,
           598,
           3,
           119,
           30,
           1,
           24,
           218,
           139,
           1050,
           219,
           1,
           8,
           482,
           1266,
           17,
           10,
           8,
           9,
           22,
           82,
           4,
           396,
           537,
           4,
           440,
           5665,
           77,
           11,
           2,
           383,
           574,
           28,
           2,
           3,
           1430,
           1,
           19,
           83,
           1078,
           1,
           16,
           1,
           614,
           12,
           3628,
           29928,
           47,
           8,
           4,
           45,
           5,
           8
          ]
         },
         "name": "",
         "parents": [
          "",
          "",
          "",
          "",
          "",
          "",
          "",
          "",
          "",
          "",
          "",
          "",
          "",
          "",
          "",
          "",
          "",
          "",
          "",
          "",
          "",
          "",
          "",
          "",
          "",
          "",
          "",
          "",
          "",
          "",
          "",
          "",
          "",
          "",
          "",
          "",
          "",
          "",
          "",
          "",
          "",
          "",
          "",
          "",
          "",
          "",
          "",
          "",
          "",
          "",
          "",
          "",
          "",
          "",
          "",
          "",
          "",
          "",
          "",
          "",
          "",
          "",
          "",
          "",
          "",
          "",
          "",
          "",
          "",
          "",
          "",
          "",
          "",
          "",
          "",
          "",
          "",
          "",
          "",
          "",
          "",
          "",
          "",
          "",
          "",
          "",
          "",
          "",
          "",
          "",
          "",
          "",
          "",
          "",
          "",
          "",
          "",
          "",
          "",
          "",
          "",
          "",
          "",
          "",
          "",
          "",
          "",
          "",
          "",
          "",
          "",
          "",
          "",
          "",
          "",
          "",
          "",
          "",
          "",
          "",
          "",
          "",
          "",
          "",
          "",
          "",
          "",
          "",
          "",
          "",
          "",
          "",
          "",
          "",
          "",
          "",
          "",
          "",
          "",
          "",
          "",
          "",
          "",
          "",
          "",
          "",
          "",
          ""
         ],
         "type": "treemap",
         "values": [
          1965,
          1508,
          2855,
          400,
          83320,
          989,
          822020,
          147681,
          3274,
          582,
          18712,
          249,
          32440,
          159673,
          4442,
          84,
          134,
          1478,
          301,
          426560,
          853,
          268524,
          50,
          67,
          1318,
          137,
          1147057,
          151206,
          622142,
          32338,
          6029,
          79937,
          182,
          7578,
          450120,
          713512,
          1293,
          4538,
          582,
          1,
          64636,
          160,
          153,
          187523,
          1367541,
          56,
          8132,
          4676435,
          649,
          54044,
          1286,
          41,
          59,
          717,
          188120,
          22843,
          254032,
          343412,
          435,
          338734,
          85381,
          740648,
          451,
          1476696,
          1025,
          25115,
          11164,
          1705,
          27952,
          1195,
          83,
          1333,
          51176,
          26234,
          143,
          279,
          180124,
          270,
          201,
          6986,
          24,
          9926,
          28487,
          10610,
          412,
          5357,
          259,
          10655,
          349,
          366,
          5126,
          1733183,
          86339,
          448,
          11,
          36082,
          110946,
          757,
          23161,
          8945,
          429,
          1728,
          8232,
          9903,
          616219,
          164308,
          1229,
          1103,
          310378,
          749930,
          449,
          105,
          2002,
          5445,
          272,
          48178,
          25570,
          477674,
          68476,
          65,
          695336,
          528944,
          8937,
          193,
          168,
          189345,
          580292,
          323,
          249,
          1537,
          66225,
          61,
          18,
          3657,
          356867,
          35,
          1,
          864,
          268976,
          14292,
          1811830,
          21517004,
          5432,
          9193,
          58,
          169056,
          715,
          673
         ]
        }
       ],
       "layout": {
        "coloraxis": {
         "colorbar": {
          "title": {
           "text": "No. of Data Breaches"
          }
         },
         "colorscale": [
          [
           0,
           "rgb(127,59,8)"
          ],
          [
           0.1,
           "rgb(179,88,6)"
          ],
          [
           0.2,
           "rgb(224,130,20)"
          ],
          [
           0.3,
           "rgb(253,184,99)"
          ],
          [
           0.4,
           "rgb(254,224,182)"
          ],
          [
           0.5,
           "rgb(247,247,247)"
          ],
          [
           0.6,
           "rgb(216,218,235)"
          ],
          [
           0.7,
           "rgb(178,171,210)"
          ],
          [
           0.8,
           "rgb(128,115,172)"
          ],
          [
           0.9,
           "rgb(84,39,136)"
          ],
          [
           1,
           "rgb(45,0,75)"
          ]
         ]
        },
        "legend": {
         "tracegroupgap": 0
        },
        "margin": {
         "t": 60
        },
        "template": {
         "data": {
          "bar": [
           {
            "error_x": {
             "color": "#2a3f5f"
            },
            "error_y": {
             "color": "#2a3f5f"
            },
            "marker": {
             "line": {
              "color": "#E5ECF6",
              "width": 0.5
             }
            },
            "type": "bar"
           }
          ],
          "barpolar": [
           {
            "marker": {
             "line": {
              "color": "#E5ECF6",
              "width": 0.5
             }
            },
            "type": "barpolar"
           }
          ],
          "carpet": [
           {
            "aaxis": {
             "endlinecolor": "#2a3f5f",
             "gridcolor": "white",
             "linecolor": "white",
             "minorgridcolor": "white",
             "startlinecolor": "#2a3f5f"
            },
            "baxis": {
             "endlinecolor": "#2a3f5f",
             "gridcolor": "white",
             "linecolor": "white",
             "minorgridcolor": "white",
             "startlinecolor": "#2a3f5f"
            },
            "type": "carpet"
           }
          ],
          "choropleth": [
           {
            "colorbar": {
             "outlinewidth": 0,
             "ticks": ""
            },
            "type": "choropleth"
           }
          ],
          "contour": [
           {
            "colorbar": {
             "outlinewidth": 0,
             "ticks": ""
            },
            "colorscale": [
             [
              0,
              "#0d0887"
             ],
             [
              0.1111111111111111,
              "#46039f"
             ],
             [
              0.2222222222222222,
              "#7201a8"
             ],
             [
              0.3333333333333333,
              "#9c179e"
             ],
             [
              0.4444444444444444,
              "#bd3786"
             ],
             [
              0.5555555555555556,
              "#d8576b"
             ],
             [
              0.6666666666666666,
              "#ed7953"
             ],
             [
              0.7777777777777778,
              "#fb9f3a"
             ],
             [
              0.8888888888888888,
              "#fdca26"
             ],
             [
              1,
              "#f0f921"
             ]
            ],
            "type": "contour"
           }
          ],
          "contourcarpet": [
           {
            "colorbar": {
             "outlinewidth": 0,
             "ticks": ""
            },
            "type": "contourcarpet"
           }
          ],
          "heatmap": [
           {
            "colorbar": {
             "outlinewidth": 0,
             "ticks": ""
            },
            "colorscale": [
             [
              0,
              "#0d0887"
             ],
             [
              0.1111111111111111,
              "#46039f"
             ],
             [
              0.2222222222222222,
              "#7201a8"
             ],
             [
              0.3333333333333333,
              "#9c179e"
             ],
             [
              0.4444444444444444,
              "#bd3786"
             ],
             [
              0.5555555555555556,
              "#d8576b"
             ],
             [
              0.6666666666666666,
              "#ed7953"
             ],
             [
              0.7777777777777778,
              "#fb9f3a"
             ],
             [
              0.8888888888888888,
              "#fdca26"
             ],
             [
              1,
              "#f0f921"
             ]
            ],
            "type": "heatmap"
           }
          ],
          "heatmapgl": [
           {
            "colorbar": {
             "outlinewidth": 0,
             "ticks": ""
            },
            "colorscale": [
             [
              0,
              "#0d0887"
             ],
             [
              0.1111111111111111,
              "#46039f"
             ],
             [
              0.2222222222222222,
              "#7201a8"
             ],
             [
              0.3333333333333333,
              "#9c179e"
             ],
             [
              0.4444444444444444,
              "#bd3786"
             ],
             [
              0.5555555555555556,
              "#d8576b"
             ],
             [
              0.6666666666666666,
              "#ed7953"
             ],
             [
              0.7777777777777778,
              "#fb9f3a"
             ],
             [
              0.8888888888888888,
              "#fdca26"
             ],
             [
              1,
              "#f0f921"
             ]
            ],
            "type": "heatmapgl"
           }
          ],
          "histogram": [
           {
            "marker": {
             "colorbar": {
              "outlinewidth": 0,
              "ticks": ""
             }
            },
            "type": "histogram"
           }
          ],
          "histogram2d": [
           {
            "colorbar": {
             "outlinewidth": 0,
             "ticks": ""
            },
            "colorscale": [
             [
              0,
              "#0d0887"
             ],
             [
              0.1111111111111111,
              "#46039f"
             ],
             [
              0.2222222222222222,
              "#7201a8"
             ],
             [
              0.3333333333333333,
              "#9c179e"
             ],
             [
              0.4444444444444444,
              "#bd3786"
             ],
             [
              0.5555555555555556,
              "#d8576b"
             ],
             [
              0.6666666666666666,
              "#ed7953"
             ],
             [
              0.7777777777777778,
              "#fb9f3a"
             ],
             [
              0.8888888888888888,
              "#fdca26"
             ],
             [
              1,
              "#f0f921"
             ]
            ],
            "type": "histogram2d"
           }
          ],
          "histogram2dcontour": [
           {
            "colorbar": {
             "outlinewidth": 0,
             "ticks": ""
            },
            "colorscale": [
             [
              0,
              "#0d0887"
             ],
             [
              0.1111111111111111,
              "#46039f"
             ],
             [
              0.2222222222222222,
              "#7201a8"
             ],
             [
              0.3333333333333333,
              "#9c179e"
             ],
             [
              0.4444444444444444,
              "#bd3786"
             ],
             [
              0.5555555555555556,
              "#d8576b"
             ],
             [
              0.6666666666666666,
              "#ed7953"
             ],
             [
              0.7777777777777778,
              "#fb9f3a"
             ],
             [
              0.8888888888888888,
              "#fdca26"
             ],
             [
              1,
              "#f0f921"
             ]
            ],
            "type": "histogram2dcontour"
           }
          ],
          "mesh3d": [
           {
            "colorbar": {
             "outlinewidth": 0,
             "ticks": ""
            },
            "type": "mesh3d"
           }
          ],
          "parcoords": [
           {
            "line": {
             "colorbar": {
              "outlinewidth": 0,
              "ticks": ""
             }
            },
            "type": "parcoords"
           }
          ],
          "pie": [
           {
            "automargin": true,
            "type": "pie"
           }
          ],
          "scatter": [
           {
            "marker": {
             "colorbar": {
              "outlinewidth": 0,
              "ticks": ""
             }
            },
            "type": "scatter"
           }
          ],
          "scatter3d": [
           {
            "line": {
             "colorbar": {
              "outlinewidth": 0,
              "ticks": ""
             }
            },
            "marker": {
             "colorbar": {
              "outlinewidth": 0,
              "ticks": ""
             }
            },
            "type": "scatter3d"
           }
          ],
          "scattercarpet": [
           {
            "marker": {
             "colorbar": {
              "outlinewidth": 0,
              "ticks": ""
             }
            },
            "type": "scattercarpet"
           }
          ],
          "scattergeo": [
           {
            "marker": {
             "colorbar": {
              "outlinewidth": 0,
              "ticks": ""
             }
            },
            "type": "scattergeo"
           }
          ],
          "scattergl": [
           {
            "marker": {
             "colorbar": {
              "outlinewidth": 0,
              "ticks": ""
             }
            },
            "type": "scattergl"
           }
          ],
          "scattermapbox": [
           {
            "marker": {
             "colorbar": {
              "outlinewidth": 0,
              "ticks": ""
             }
            },
            "type": "scattermapbox"
           }
          ],
          "scatterpolar": [
           {
            "marker": {
             "colorbar": {
              "outlinewidth": 0,
              "ticks": ""
             }
            },
            "type": "scatterpolar"
           }
          ],
          "scatterpolargl": [
           {
            "marker": {
             "colorbar": {
              "outlinewidth": 0,
              "ticks": ""
             }
            },
            "type": "scatterpolargl"
           }
          ],
          "scatterternary": [
           {
            "marker": {
             "colorbar": {
              "outlinewidth": 0,
              "ticks": ""
             }
            },
            "type": "scatterternary"
           }
          ],
          "surface": [
           {
            "colorbar": {
             "outlinewidth": 0,
             "ticks": ""
            },
            "colorscale": [
             [
              0,
              "#0d0887"
             ],
             [
              0.1111111111111111,
              "#46039f"
             ],
             [
              0.2222222222222222,
              "#7201a8"
             ],
             [
              0.3333333333333333,
              "#9c179e"
             ],
             [
              0.4444444444444444,
              "#bd3786"
             ],
             [
              0.5555555555555556,
              "#d8576b"
             ],
             [
              0.6666666666666666,
              "#ed7953"
             ],
             [
              0.7777777777777778,
              "#fb9f3a"
             ],
             [
              0.8888888888888888,
              "#fdca26"
             ],
             [
              1,
              "#f0f921"
             ]
            ],
            "type": "surface"
           }
          ],
          "table": [
           {
            "cells": {
             "fill": {
              "color": "#EBF0F8"
             },
             "line": {
              "color": "white"
             }
            },
            "header": {
             "fill": {
              "color": "#C8D4E3"
             },
             "line": {
              "color": "white"
             }
            },
            "type": "table"
           }
          ]
         },
         "layout": {
          "annotationdefaults": {
           "arrowcolor": "#2a3f5f",
           "arrowhead": 0,
           "arrowwidth": 1
          },
          "coloraxis": {
           "colorbar": {
            "outlinewidth": 0,
            "ticks": ""
           }
          },
          "colorscale": {
           "diverging": [
            [
             0,
             "#8e0152"
            ],
            [
             0.1,
             "#c51b7d"
            ],
            [
             0.2,
             "#de77ae"
            ],
            [
             0.3,
             "#f1b6da"
            ],
            [
             0.4,
             "#fde0ef"
            ],
            [
             0.5,
             "#f7f7f7"
            ],
            [
             0.6,
             "#e6f5d0"
            ],
            [
             0.7,
             "#b8e186"
            ],
            [
             0.8,
             "#7fbc41"
            ],
            [
             0.9,
             "#4d9221"
            ],
            [
             1,
             "#276419"
            ]
           ],
           "sequential": [
            [
             0,
             "#0d0887"
            ],
            [
             0.1111111111111111,
             "#46039f"
            ],
            [
             0.2222222222222222,
             "#7201a8"
            ],
            [
             0.3333333333333333,
             "#9c179e"
            ],
            [
             0.4444444444444444,
             "#bd3786"
            ],
            [
             0.5555555555555556,
             "#d8576b"
            ],
            [
             0.6666666666666666,
             "#ed7953"
            ],
            [
             0.7777777777777778,
             "#fb9f3a"
            ],
            [
             0.8888888888888888,
             "#fdca26"
            ],
            [
             1,
             "#f0f921"
            ]
           ],
           "sequentialminus": [
            [
             0,
             "#0d0887"
            ],
            [
             0.1111111111111111,
             "#46039f"
            ],
            [
             0.2222222222222222,
             "#7201a8"
            ],
            [
             0.3333333333333333,
             "#9c179e"
            ],
            [
             0.4444444444444444,
             "#bd3786"
            ],
            [
             0.5555555555555556,
             "#d8576b"
            ],
            [
             0.6666666666666666,
             "#ed7953"
            ],
            [
             0.7777777777777778,
             "#fb9f3a"
            ],
            [
             0.8888888888888888,
             "#fdca26"
            ],
            [
             1,
             "#f0f921"
            ]
           ]
          },
          "colorway": [
           "#636efa",
           "#EF553B",
           "#00cc96",
           "#ab63fa",
           "#FFA15A",
           "#19d3f3",
           "#FF6692",
           "#B6E880",
           "#FF97FF",
           "#FECB52"
          ],
          "font": {
           "color": "#2a3f5f"
          },
          "geo": {
           "bgcolor": "white",
           "lakecolor": "white",
           "landcolor": "#E5ECF6",
           "showlakes": true,
           "showland": true,
           "subunitcolor": "white"
          },
          "hoverlabel": {
           "align": "left"
          },
          "hovermode": "closest",
          "mapbox": {
           "style": "light"
          },
          "paper_bgcolor": "white",
          "plot_bgcolor": "#E5ECF6",
          "polar": {
           "angularaxis": {
            "gridcolor": "white",
            "linecolor": "white",
            "ticks": ""
           },
           "bgcolor": "#E5ECF6",
           "radialaxis": {
            "gridcolor": "white",
            "linecolor": "white",
            "ticks": ""
           }
          },
          "scene": {
           "xaxis": {
            "backgroundcolor": "#E5ECF6",
            "gridcolor": "white",
            "gridwidth": 2,
            "linecolor": "white",
            "showbackground": true,
            "ticks": "",
            "zerolinecolor": "white"
           },
           "yaxis": {
            "backgroundcolor": "#E5ECF6",
            "gridcolor": "white",
            "gridwidth": 2,
            "linecolor": "white",
            "showbackground": true,
            "ticks": "",
            "zerolinecolor": "white"
           },
           "zaxis": {
            "backgroundcolor": "#E5ECF6",
            "gridcolor": "white",
            "gridwidth": 2,
            "linecolor": "white",
            "showbackground": true,
            "ticks": "",
            "zerolinecolor": "white"
           }
          },
          "shapedefaults": {
           "line": {
            "color": "#2a3f5f"
           }
          },
          "ternary": {
           "aaxis": {
            "gridcolor": "white",
            "linecolor": "white",
            "ticks": ""
           },
           "baxis": {
            "gridcolor": "white",
            "linecolor": "white",
            "ticks": ""
           },
           "bgcolor": "#E5ECF6",
           "caxis": {
            "gridcolor": "white",
            "linecolor": "white",
            "ticks": ""
           }
          },
          "title": {
           "x": 0.05
          },
          "xaxis": {
           "automargin": true,
           "gridcolor": "white",
           "linecolor": "white",
           "ticks": "",
           "title": {
            "standoff": 15
           },
           "zerolinecolor": "white",
           "zerolinewidth": 2
          },
          "yaxis": {
           "automargin": true,
           "gridcolor": "white",
           "linecolor": "white",
           "ticks": "",
           "title": {
            "standoff": 15
           },
           "zerolinecolor": "white",
           "zerolinewidth": 2
          }
         }
        }
       }
      },
      "text/html": [
       "<div>\n",
       "        \n",
       "        \n",
       "            <div id=\"5ec66191-af9f-4659-9ea7-4e4119515620\" class=\"plotly-graph-div\" style=\"height:525px; width:100%;\"></div>\n",
       "            <script type=\"text/javascript\">\n",
       "                require([\"plotly\"], function(Plotly) {\n",
       "                    window.PLOTLYENV=window.PLOTLYENV || {};\n",
       "                    \n",
       "                if (document.getElementById(\"5ec66191-af9f-4659-9ea7-4e4119515620\")) {\n",
       "                    Plotly.newPlot(\n",
       "                        '5ec66191-af9f-4659-9ea7-4e4119515620',\n",
       "                        [{\"branchvalues\": \"total\", \"customdata\": [[\"Afghanistan\", 3.0], [\"Albania\", 42.0], [\"Algeria\", 5.0], [\"Andorra\", 8.0], [\"Argentina\", 848.0], [\"Armenia\", 19.0], [\"Australia\", 1010.0], [\"Austria\", 318.0], [\"Azerbaijan\", 4.0], [\"Bahrain\", 11.0], [\"Bangladesh\", 130.0], [\"Barbados\", 10.0], [\"Belarus\", 52.0], [\"Belgium\", 367.0], [\"Belize\", 3.0], [\"Benin\", 1.0], [\"Bhutan\", 22.0], [\"Bolivia\", 90.0], [\"Botswana\", 1.0], [\"Brazil\", 5302.0], [\"Brunei Darussalam\", 21.0], [\"Bulgaria\", 149.0], [\"Burkina Faso\", 2.0], [\"Burundi\", 2.0], [\"Cambodia\", 1.0], [\"Cameroon\", 3.0], [\"Canada\", 1553.0], [\"Chile\", 2473.0], [\"China\", 2311.0], [\"Colombia\", 191.0], [\"Costa Rica\", 14.0], [\"Croatia\", 101.0], [\"Cuba\", 11.0], [\"Cyprus\", 21.0], [\"Czech Republic\", 225.0], [\"Denmark\", 1612.0], [\"Dominican Republic\", 6.0], [\"Ecuador\", 53.0], [\"El Salvador\", 10.0], [\"Eritrea\", 8.0], [\"Estonia\", 214.0], [\"Ethiopia\", 3.0], [\"Fiji\", 5.0], [\"Finland\", 81.0], [\"France\", 3681.0], [\"Gabon\", 2.0], [\"Georgia\", 27.0], [\"Germany\", 4088.0], [\"Ghana\", 3.0], [\"Greece\", 545.0], [\"Guatemala\", 20.0], [\"Guinea\", 1.0], [\"Haiti\", 32.0], [\"Honduras\", 37.0], [\"Hungary\", 603.0], [\"Iceland\", 28.0], [\"India\", 531.0], [\"Indonesia\", 2272.0], [\"Iraq\", 6.0], [\"Ireland\", 641.0], [\"Israel\", 459.0], [\"Italy\", 2150.0], [\"Jamaica\", 9.0], [\"Japan\", 967.0], [\"Jordan\", 25.0], [\"Kazakhstan\", 103.0], [\"Kenya\", 22.0], [\"Kuwait\", 16.0], [\"Latvia\", 44.0], [\"Lebanon\", 15.0], [\"Lesotho\", 1.0], [\"Liechtenstein\", 6.0], [\"Lithuania\", 221.0], [\"Luxembourg\", 39.0], [\"Madagascar\", 4.0], [\"Malawi\", 15.0], [\"Malaysia\", 403.0], [\"Maldives\", 2.0], [\"Mali\", 1.0], [\"Malta\", 9.0], [\"Mauritania\", 3.0], [\"Mauritius\", 6.0], [\"Mexico\", 792.0], [\"Moldova\", 7.0], [\"Monaco\", 3.0], [\"Mongolia\", 12.0], [\"Montenegro\", 23.0], [\"Morocco\", 129.0], [\"Mozambique\", 20.0], [\"Namibia\", 5.0], [\"Nepal\", 41.0], [\"Netherlands\", 1442.0], [\"New Zealand\", 191.0], [\"Nicaragua\", 23.0], [\"Niger\", 3.0], [\"Nigeria\", 3.0], [\"Norway\", 598.0], [\"Oman\", 3.0], [\"Pakistan\", 119.0], [\"Panama\", 30.0], [\"Papua New Guinea\", 1.0], [\"Paraguay\", 24.0], [\"Peru\", 218.0], [\"Philippines\", 139.0], [\"Poland\", 1050.0], [\"Portugal\", 219.0], [\"Puerto Rico\", 1.0], [\"Qatar\", 8.0], [\"Romania\", 482.0], [\"Russian Federation\", 1266.0], [\"Rwanda\", 17.0], [\"Samoa\", 10.0], [\"San Marino\", 8.0], [\"Saudi Arabia\", 9.0], [\"Senegal\", 22.0], [\"Serbia\", 82.0], [\"Seychelles\", 4.0], [\"Singapore\", 396.0], [\"Slovenia\", 537.0], [\"Somalia\", 4.0], [\"South Africa\", 440.0], [\"Spain\", 5665.0], [\"Sri Lanka\", 77.0], [\"Sudan\", 11.0], [\"Suriname\", 2.0], [\"Sweden\", 383.0], [\"Switzerland\", 574.0], [\"Syrian Arab Republic\", 28.0], [\"Tajikistan\", 2.0], [\"Tanzania\", 3.0], [\"Thailand\", 1430.0], [\"Togo\", 1.0], [\"Tonga\", 19.0], [\"Tunisia\", 83.0], [\"Turkey\", 1078.0], [\"Turkmenistan\", 1.0], [\"Tuvalu\", 16.0], [\"Uganda\", 1.0], [\"Ukraine\", 614.0], [\"United Arab Emirates\", 12.0], [\"United Kingdom\", 3628.0], [\"United States\", 29928.0], [\"Uruguay\", 47.0], [\"Uzbekistan\", 8.0], [\"Vanuatu\", 4.0], [\"Vietnam\", 45.0], [\"Zambia\", 5.0], [\"Zimbabwe\", 8.0]], \"domain\": {\"x\": [0.0, 1.0], \"y\": [0.0, 1.0]}, \"hovertemplate\": \"Country=%{customdata[0]}<br>No. of Data Breaches=%{color}<br>labels=%{label}<br>No.of Secure Servers=%{value}<br>parent=%{parent}<br>id=%{id}<extra></extra>\", \"ids\": [\"Afghanistan\", \"Albania\", \"Algeria\", \"Andorra\", \"Argentina\", \"Armenia\", \"Australia\", \"Austria\", \"Azerbaijan\", \"Bahrain\", \"Bangladesh\", \"Barbados\", \"Belarus\", \"Belgium\", \"Belize\", \"Benin\", \"Bhutan\", \"Bolivia\", \"Botswana\", \"Brazil\", \"Brunei Darussalam\", \"Bulgaria\", \"Burkina Faso\", \"Burundi\", \"Cambodia\", \"Cameroon\", \"Canada\", \"Chile\", \"China\", \"Colombia\", \"Costa Rica\", \"Croatia\", \"Cuba\", \"Cyprus\", \"Czech Republic\", \"Denmark\", \"Dominican Republic\", \"Ecuador\", \"El Salvador\", \"Eritrea\", \"Estonia\", \"Ethiopia\", \"Fiji\", \"Finland\", \"France\", \"Gabon\", \"Georgia\", \"Germany\", \"Ghana\", \"Greece\", \"Guatemala\", \"Guinea\", \"Haiti\", \"Honduras\", \"Hungary\", \"Iceland\", \"India\", \"Indonesia\", \"Iraq\", \"Ireland\", \"Israel\", \"Italy\", \"Jamaica\", \"Japan\", \"Jordan\", \"Kazakhstan\", \"Kenya\", \"Kuwait\", \"Latvia\", \"Lebanon\", \"Lesotho\", \"Liechtenstein\", \"Lithuania\", \"Luxembourg\", \"Madagascar\", \"Malawi\", \"Malaysia\", \"Maldives\", \"Mali\", \"Malta\", \"Mauritania\", \"Mauritius\", \"Mexico\", \"Moldova\", \"Monaco\", \"Mongolia\", \"Montenegro\", \"Morocco\", \"Mozambique\", \"Namibia\", \"Nepal\", \"Netherlands\", \"New Zealand\", \"Nicaragua\", \"Niger\", \"Nigeria\", \"Norway\", \"Oman\", \"Pakistan\", \"Panama\", \"Papua New Guinea\", \"Paraguay\", \"Peru\", \"Philippines\", \"Poland\", \"Portugal\", \"Puerto Rico\", \"Qatar\", \"Romania\", \"Russian Federation\", \"Rwanda\", \"Samoa\", \"San Marino\", \"Saudi Arabia\", \"Senegal\", \"Serbia\", \"Seychelles\", \"Singapore\", \"Slovenia\", \"Somalia\", \"South Africa\", \"Spain\", \"Sri Lanka\", \"Sudan\", \"Suriname\", \"Sweden\", \"Switzerland\", \"Syrian Arab Republic\", \"Tajikistan\", \"Tanzania\", \"Thailand\", \"Togo\", \"Tonga\", \"Tunisia\", \"Turkey\", \"Turkmenistan\", \"Tuvalu\", \"Uganda\", \"Ukraine\", \"United Arab Emirates\", \"United Kingdom\", \"United States\", \"Uruguay\", \"Uzbekistan\", \"Vanuatu\", \"Vietnam\", \"Zambia\", \"Zimbabwe\"], \"labels\": [\"Afghanistan\", \"Albania\", \"Algeria\", \"Andorra\", \"Argentina\", \"Armenia\", \"Australia\", \"Austria\", \"Azerbaijan\", \"Bahrain\", \"Bangladesh\", \"Barbados\", \"Belarus\", \"Belgium\", \"Belize\", \"Benin\", \"Bhutan\", \"Bolivia\", \"Botswana\", \"Brazil\", \"Brunei Darussalam\", \"Bulgaria\", \"Burkina Faso\", \"Burundi\", \"Cambodia\", \"Cameroon\", \"Canada\", \"Chile\", \"China\", \"Colombia\", \"Costa Rica\", \"Croatia\", \"Cuba\", \"Cyprus\", \"Czech Republic\", \"Denmark\", \"Dominican Republic\", \"Ecuador\", \"El Salvador\", \"Eritrea\", \"Estonia\", \"Ethiopia\", \"Fiji\", \"Finland\", \"France\", \"Gabon\", \"Georgia\", \"Germany\", \"Ghana\", \"Greece\", \"Guatemala\", \"Guinea\", \"Haiti\", \"Honduras\", \"Hungary\", \"Iceland\", \"India\", \"Indonesia\", \"Iraq\", \"Ireland\", \"Israel\", \"Italy\", \"Jamaica\", \"Japan\", \"Jordan\", \"Kazakhstan\", \"Kenya\", \"Kuwait\", \"Latvia\", \"Lebanon\", \"Lesotho\", \"Liechtenstein\", \"Lithuania\", \"Luxembourg\", \"Madagascar\", \"Malawi\", \"Malaysia\", \"Maldives\", \"Mali\", \"Malta\", \"Mauritania\", \"Mauritius\", \"Mexico\", \"Moldova\", \"Monaco\", \"Mongolia\", \"Montenegro\", \"Morocco\", \"Mozambique\", \"Namibia\", \"Nepal\", \"Netherlands\", \"New Zealand\", \"Nicaragua\", \"Niger\", \"Nigeria\", \"Norway\", \"Oman\", \"Pakistan\", \"Panama\", \"Papua New Guinea\", \"Paraguay\", \"Peru\", \"Philippines\", \"Poland\", \"Portugal\", \"Puerto Rico\", \"Qatar\", \"Romania\", \"Russian Federation\", \"Rwanda\", \"Samoa\", \"San Marino\", \"Saudi Arabia\", \"Senegal\", \"Serbia\", \"Seychelles\", \"Singapore\", \"Slovenia\", \"Somalia\", \"South Africa\", \"Spain\", \"Sri Lanka\", \"Sudan\", \"Suriname\", \"Sweden\", \"Switzerland\", \"Syrian Arab Republic\", \"Tajikistan\", \"Tanzania\", \"Thailand\", \"Togo\", \"Tonga\", \"Tunisia\", \"Turkey\", \"Turkmenistan\", \"Tuvalu\", \"Uganda\", \"Ukraine\", \"United Arab Emirates\", \"United Kingdom\", \"United States\", \"Uruguay\", \"Uzbekistan\", \"Vanuatu\", \"Vietnam\", \"Zambia\", \"Zimbabwe\"], \"marker\": {\"coloraxis\": \"coloraxis\", \"colors\": [3.0, 42.0, 5.0, 8.0, 848.0, 19.0, 1010.0, 318.0, 4.0, 11.0, 130.0, 10.0, 52.0, 367.0, 3.0, 1.0, 22.0, 90.0, 1.0, 5302.0, 21.0, 149.0, 2.0, 2.0, 1.0, 3.0, 1553.0, 2473.0, 2311.0, 191.0, 14.0, 101.0, 11.0, 21.0, 225.0, 1612.0, 6.0, 53.0, 10.0, 8.0, 214.0, 3.0, 5.0, 81.0, 3681.0, 2.0, 27.0, 4088.0, 3.0, 545.0, 20.0, 1.0, 32.0, 37.0, 603.0, 28.0, 531.0, 2272.0, 6.0, 641.0, 459.0, 2150.0, 9.0, 967.0, 25.0, 103.0, 22.0, 16.0, 44.0, 15.0, 1.0, 6.0, 221.0, 39.0, 4.0, 15.0, 403.0, 2.0, 1.0, 9.0, 3.0, 6.0, 792.0, 7.0, 3.0, 12.0, 23.0, 129.0, 20.0, 5.0, 41.0, 1442.0, 191.0, 23.0, 3.0, 3.0, 598.0, 3.0, 119.0, 30.0, 1.0, 24.0, 218.0, 139.0, 1050.0, 219.0, 1.0, 8.0, 482.0, 1266.0, 17.0, 10.0, 8.0, 9.0, 22.0, 82.0, 4.0, 396.0, 537.0, 4.0, 440.0, 5665.0, 77.0, 11.0, 2.0, 383.0, 574.0, 28.0, 2.0, 3.0, 1430.0, 1.0, 19.0, 83.0, 1078.0, 1.0, 16.0, 1.0, 614.0, 12.0, 3628.0, 29928.0, 47.0, 8.0, 4.0, 45.0, 5.0, 8.0]}, \"name\": \"\", \"parents\": [\"\", \"\", \"\", \"\", \"\", \"\", \"\", \"\", \"\", \"\", \"\", \"\", \"\", \"\", \"\", \"\", \"\", \"\", \"\", \"\", \"\", \"\", \"\", \"\", \"\", \"\", \"\", \"\", \"\", \"\", \"\", \"\", \"\", \"\", \"\", \"\", \"\", \"\", \"\", \"\", \"\", \"\", \"\", \"\", \"\", \"\", \"\", \"\", \"\", \"\", \"\", \"\", \"\", \"\", \"\", \"\", \"\", \"\", \"\", \"\", \"\", \"\", \"\", \"\", \"\", \"\", \"\", \"\", \"\", \"\", \"\", \"\", \"\", \"\", \"\", \"\", \"\", \"\", \"\", \"\", \"\", \"\", \"\", \"\", \"\", \"\", \"\", \"\", \"\", \"\", \"\", \"\", \"\", \"\", \"\", \"\", \"\", \"\", \"\", \"\", \"\", \"\", \"\", \"\", \"\", \"\", \"\", \"\", \"\", \"\", \"\", \"\", \"\", \"\", \"\", \"\", \"\", \"\", \"\", \"\", \"\", \"\", \"\", \"\", \"\", \"\", \"\", \"\", \"\", \"\", \"\", \"\", \"\", \"\", \"\", \"\", \"\", \"\", \"\", \"\", \"\", \"\", \"\", \"\", \"\", \"\", \"\", \"\"], \"type\": \"treemap\", \"values\": [1965.0, 1508.0, 2855.0, 400.0, 83320.0, 989.0, 822020.0, 147681.0, 3274.0, 582.0, 18712.0, 249.0, 32440.0, 159673.0, 4442.0, 84.0, 134.0, 1478.0, 301.0, 426560.0, 853.0, 268524.0, 50.0, 67.0, 1318.0, 137.0, 1147057.0, 151206.0, 622142.0, 32338.0, 6029.0, 79937.0, 182.0, 7578.0, 450120.0, 713512.0, 1293.0, 4538.0, 582.0, 1.0, 64636.0, 160.0, 153.0, 187523.0, 1367541.0, 56.0, 8132.0, 4676435.0, 649.0, 54044.0, 1286.0, 41.0, 59.0, 717.0, 188120.0, 22843.0, 254032.0, 343412.0, 435.0, 338734.0, 85381.0, 740648.0, 451.0, 1476696.0, 1025.0, 25115.0, 11164.0, 1705.0, 27952.0, 1195.0, 83.0, 1333.0, 51176.0, 26234.0, 143.0, 279.0, 180124.0, 270.0, 201.0, 6986.0, 24.0, 9926.0, 28487.0, 10610.0, 412.0, 5357.0, 259.0, 10655.0, 349.0, 366.0, 5126.0, 1733183.0, 86339.0, 448.0, 11.0, 36082.0, 110946.0, 757.0, 23161.0, 8945.0, 429.0, 1728.0, 8232.0, 9903.0, 616219.0, 164308.0, 1229.0, 1103.0, 310378.0, 749930.0, 449.0, 105.0, 2002.0, 5445.0, 272.0, 48178.0, 25570.0, 477674.0, 68476.0, 65.0, 695336.0, 528944.0, 8937.0, 193.0, 168.0, 189345.0, 580292.0, 323.0, 249.0, 1537.0, 66225.0, 61.0, 18.0, 3657.0, 356867.0, 35.0, 1.0, 864.0, 268976.0, 14292.0, 1811830.0, 21517004.0, 5432.0, 9193.0, 58.0, 169056.0, 715.0, 673.0]}],\n",
       "                        {\"coloraxis\": {\"colorbar\": {\"title\": {\"text\": \"No. of Data Breaches\"}}, \"colorscale\": [[0.0, \"rgb(127,59,8)\"], [0.1, \"rgb(179,88,6)\"], [0.2, \"rgb(224,130,20)\"], [0.3, \"rgb(253,184,99)\"], [0.4, \"rgb(254,224,182)\"], [0.5, \"rgb(247,247,247)\"], [0.6, \"rgb(216,218,235)\"], [0.7, \"rgb(178,171,210)\"], [0.8, \"rgb(128,115,172)\"], [0.9, \"rgb(84,39,136)\"], [1.0, \"rgb(45,0,75)\"]]}, \"legend\": {\"tracegroupgap\": 0}, \"margin\": {\"t\": 60}, \"template\": {\"data\": {\"bar\": [{\"error_x\": {\"color\": \"#2a3f5f\"}, \"error_y\": {\"color\": \"#2a3f5f\"}, \"marker\": {\"line\": {\"color\": \"#E5ECF6\", \"width\": 0.5}}, \"type\": \"bar\"}], \"barpolar\": [{\"marker\": {\"line\": {\"color\": \"#E5ECF6\", \"width\": 0.5}}, \"type\": \"barpolar\"}], \"carpet\": [{\"aaxis\": {\"endlinecolor\": \"#2a3f5f\", \"gridcolor\": \"white\", \"linecolor\": \"white\", \"minorgridcolor\": \"white\", \"startlinecolor\": \"#2a3f5f\"}, \"baxis\": {\"endlinecolor\": \"#2a3f5f\", \"gridcolor\": \"white\", \"linecolor\": \"white\", \"minorgridcolor\": \"white\", \"startlinecolor\": \"#2a3f5f\"}, \"type\": \"carpet\"}], \"choropleth\": [{\"colorbar\": {\"outlinewidth\": 0, \"ticks\": \"\"}, \"type\": \"choropleth\"}], \"contour\": [{\"colorbar\": {\"outlinewidth\": 0, \"ticks\": \"\"}, \"colorscale\": [[0.0, \"#0d0887\"], [0.1111111111111111, \"#46039f\"], [0.2222222222222222, \"#7201a8\"], [0.3333333333333333, \"#9c179e\"], [0.4444444444444444, \"#bd3786\"], [0.5555555555555556, \"#d8576b\"], [0.6666666666666666, \"#ed7953\"], [0.7777777777777778, \"#fb9f3a\"], [0.8888888888888888, \"#fdca26\"], [1.0, \"#f0f921\"]], \"type\": \"contour\"}], \"contourcarpet\": [{\"colorbar\": {\"outlinewidth\": 0, \"ticks\": \"\"}, \"type\": \"contourcarpet\"}], \"heatmap\": [{\"colorbar\": {\"outlinewidth\": 0, \"ticks\": \"\"}, \"colorscale\": [[0.0, \"#0d0887\"], [0.1111111111111111, \"#46039f\"], [0.2222222222222222, \"#7201a8\"], [0.3333333333333333, \"#9c179e\"], [0.4444444444444444, \"#bd3786\"], [0.5555555555555556, \"#d8576b\"], [0.6666666666666666, \"#ed7953\"], [0.7777777777777778, \"#fb9f3a\"], [0.8888888888888888, \"#fdca26\"], [1.0, \"#f0f921\"]], \"type\": \"heatmap\"}], \"heatmapgl\": [{\"colorbar\": {\"outlinewidth\": 0, \"ticks\": \"\"}, \"colorscale\": [[0.0, \"#0d0887\"], [0.1111111111111111, \"#46039f\"], [0.2222222222222222, \"#7201a8\"], [0.3333333333333333, \"#9c179e\"], [0.4444444444444444, \"#bd3786\"], [0.5555555555555556, \"#d8576b\"], [0.6666666666666666, \"#ed7953\"], [0.7777777777777778, \"#fb9f3a\"], [0.8888888888888888, \"#fdca26\"], [1.0, \"#f0f921\"]], \"type\": \"heatmapgl\"}], \"histogram\": [{\"marker\": {\"colorbar\": {\"outlinewidth\": 0, \"ticks\": \"\"}}, \"type\": \"histogram\"}], \"histogram2d\": [{\"colorbar\": {\"outlinewidth\": 0, \"ticks\": \"\"}, \"colorscale\": [[0.0, \"#0d0887\"], [0.1111111111111111, \"#46039f\"], [0.2222222222222222, \"#7201a8\"], [0.3333333333333333, \"#9c179e\"], [0.4444444444444444, \"#bd3786\"], [0.5555555555555556, \"#d8576b\"], [0.6666666666666666, \"#ed7953\"], [0.7777777777777778, \"#fb9f3a\"], [0.8888888888888888, \"#fdca26\"], [1.0, \"#f0f921\"]], \"type\": \"histogram2d\"}], \"histogram2dcontour\": [{\"colorbar\": {\"outlinewidth\": 0, \"ticks\": \"\"}, \"colorscale\": [[0.0, \"#0d0887\"], [0.1111111111111111, \"#46039f\"], [0.2222222222222222, \"#7201a8\"], [0.3333333333333333, \"#9c179e\"], [0.4444444444444444, \"#bd3786\"], [0.5555555555555556, \"#d8576b\"], [0.6666666666666666, \"#ed7953\"], [0.7777777777777778, \"#fb9f3a\"], [0.8888888888888888, \"#fdca26\"], [1.0, \"#f0f921\"]], \"type\": \"histogram2dcontour\"}], \"mesh3d\": [{\"colorbar\": {\"outlinewidth\": 0, \"ticks\": \"\"}, \"type\": \"mesh3d\"}], \"parcoords\": [{\"line\": {\"colorbar\": {\"outlinewidth\": 0, \"ticks\": \"\"}}, \"type\": \"parcoords\"}], \"pie\": [{\"automargin\": true, \"type\": \"pie\"}], \"scatter\": [{\"marker\": {\"colorbar\": {\"outlinewidth\": 0, \"ticks\": \"\"}}, \"type\": \"scatter\"}], \"scatter3d\": [{\"line\": {\"colorbar\": {\"outlinewidth\": 0, \"ticks\": \"\"}}, \"marker\": {\"colorbar\": {\"outlinewidth\": 0, \"ticks\": \"\"}}, \"type\": \"scatter3d\"}], \"scattercarpet\": [{\"marker\": {\"colorbar\": {\"outlinewidth\": 0, \"ticks\": \"\"}}, \"type\": \"scattercarpet\"}], \"scattergeo\": [{\"marker\": {\"colorbar\": {\"outlinewidth\": 0, \"ticks\": \"\"}}, \"type\": \"scattergeo\"}], \"scattergl\": [{\"marker\": {\"colorbar\": {\"outlinewidth\": 0, \"ticks\": \"\"}}, \"type\": \"scattergl\"}], \"scattermapbox\": [{\"marker\": {\"colorbar\": {\"outlinewidth\": 0, \"ticks\": \"\"}}, \"type\": \"scattermapbox\"}], \"scatterpolar\": [{\"marker\": {\"colorbar\": {\"outlinewidth\": 0, \"ticks\": \"\"}}, \"type\": \"scatterpolar\"}], \"scatterpolargl\": [{\"marker\": {\"colorbar\": {\"outlinewidth\": 0, \"ticks\": \"\"}}, \"type\": \"scatterpolargl\"}], \"scatterternary\": [{\"marker\": {\"colorbar\": {\"outlinewidth\": 0, \"ticks\": \"\"}}, \"type\": \"scatterternary\"}], \"surface\": [{\"colorbar\": {\"outlinewidth\": 0, \"ticks\": \"\"}, \"colorscale\": [[0.0, \"#0d0887\"], [0.1111111111111111, \"#46039f\"], [0.2222222222222222, \"#7201a8\"], [0.3333333333333333, \"#9c179e\"], [0.4444444444444444, \"#bd3786\"], [0.5555555555555556, \"#d8576b\"], [0.6666666666666666, \"#ed7953\"], [0.7777777777777778, \"#fb9f3a\"], [0.8888888888888888, \"#fdca26\"], [1.0, \"#f0f921\"]], \"type\": \"surface\"}], \"table\": [{\"cells\": {\"fill\": {\"color\": \"#EBF0F8\"}, \"line\": {\"color\": \"white\"}}, \"header\": {\"fill\": {\"color\": \"#C8D4E3\"}, \"line\": {\"color\": \"white\"}}, \"type\": \"table\"}]}, \"layout\": {\"annotationdefaults\": {\"arrowcolor\": \"#2a3f5f\", \"arrowhead\": 0, \"arrowwidth\": 1}, \"coloraxis\": {\"colorbar\": {\"outlinewidth\": 0, \"ticks\": \"\"}}, \"colorscale\": {\"diverging\": [[0, \"#8e0152\"], [0.1, \"#c51b7d\"], [0.2, \"#de77ae\"], [0.3, \"#f1b6da\"], [0.4, \"#fde0ef\"], [0.5, \"#f7f7f7\"], [0.6, \"#e6f5d0\"], [0.7, \"#b8e186\"], [0.8, \"#7fbc41\"], [0.9, \"#4d9221\"], [1, \"#276419\"]], \"sequential\": [[0.0, \"#0d0887\"], [0.1111111111111111, \"#46039f\"], [0.2222222222222222, \"#7201a8\"], [0.3333333333333333, \"#9c179e\"], [0.4444444444444444, \"#bd3786\"], [0.5555555555555556, \"#d8576b\"], [0.6666666666666666, \"#ed7953\"], [0.7777777777777778, \"#fb9f3a\"], [0.8888888888888888, \"#fdca26\"], [1.0, \"#f0f921\"]], \"sequentialminus\": [[0.0, \"#0d0887\"], [0.1111111111111111, \"#46039f\"], [0.2222222222222222, \"#7201a8\"], [0.3333333333333333, \"#9c179e\"], [0.4444444444444444, \"#bd3786\"], [0.5555555555555556, \"#d8576b\"], [0.6666666666666666, \"#ed7953\"], [0.7777777777777778, \"#fb9f3a\"], [0.8888888888888888, \"#fdca26\"], [1.0, \"#f0f921\"]]}, \"colorway\": [\"#636efa\", \"#EF553B\", \"#00cc96\", \"#ab63fa\", \"#FFA15A\", \"#19d3f3\", \"#FF6692\", \"#B6E880\", \"#FF97FF\", \"#FECB52\"], \"font\": {\"color\": \"#2a3f5f\"}, \"geo\": {\"bgcolor\": \"white\", \"lakecolor\": \"white\", \"landcolor\": \"#E5ECF6\", \"showlakes\": true, \"showland\": true, \"subunitcolor\": \"white\"}, \"hoverlabel\": {\"align\": \"left\"}, \"hovermode\": \"closest\", \"mapbox\": {\"style\": \"light\"}, \"paper_bgcolor\": \"white\", \"plot_bgcolor\": \"#E5ECF6\", \"polar\": {\"angularaxis\": {\"gridcolor\": \"white\", \"linecolor\": \"white\", \"ticks\": \"\"}, \"bgcolor\": \"#E5ECF6\", \"radialaxis\": {\"gridcolor\": \"white\", \"linecolor\": \"white\", \"ticks\": \"\"}}, \"scene\": {\"xaxis\": {\"backgroundcolor\": \"#E5ECF6\", \"gridcolor\": \"white\", \"gridwidth\": 2, \"linecolor\": \"white\", \"showbackground\": true, \"ticks\": \"\", \"zerolinecolor\": \"white\"}, \"yaxis\": {\"backgroundcolor\": \"#E5ECF6\", \"gridcolor\": \"white\", \"gridwidth\": 2, \"linecolor\": \"white\", \"showbackground\": true, \"ticks\": \"\", \"zerolinecolor\": \"white\"}, \"zaxis\": {\"backgroundcolor\": \"#E5ECF6\", \"gridcolor\": \"white\", \"gridwidth\": 2, \"linecolor\": \"white\", \"showbackground\": true, \"ticks\": \"\", \"zerolinecolor\": \"white\"}}, \"shapedefaults\": {\"line\": {\"color\": \"#2a3f5f\"}}, \"ternary\": {\"aaxis\": {\"gridcolor\": \"white\", \"linecolor\": \"white\", \"ticks\": \"\"}, \"baxis\": {\"gridcolor\": \"white\", \"linecolor\": \"white\", \"ticks\": \"\"}, \"bgcolor\": \"#E5ECF6\", \"caxis\": {\"gridcolor\": \"white\", \"linecolor\": \"white\", \"ticks\": \"\"}}, \"title\": {\"x\": 0.05}, \"xaxis\": {\"automargin\": true, \"gridcolor\": \"white\", \"linecolor\": \"white\", \"ticks\": \"\", \"title\": {\"standoff\": 15}, \"zerolinecolor\": \"white\", \"zerolinewidth\": 2}, \"yaxis\": {\"automargin\": true, \"gridcolor\": \"white\", \"linecolor\": \"white\", \"ticks\": \"\", \"title\": {\"standoff\": 15}, \"zerolinecolor\": \"white\", \"zerolinewidth\": 2}}}},\n",
       "                        {\"responsive\": true}\n",
       "                    ).then(function(){\n",
       "                            \n",
       "var gd = document.getElementById('5ec66191-af9f-4659-9ea7-4e4119515620');\n",
       "var x = new MutationObserver(function (mutations, observer) {{\n",
       "        var display = window.getComputedStyle(gd).display;\n",
       "        if (!display || display === 'none') {{\n",
       "            console.log([gd, 'removed!']);\n",
       "            Plotly.purge(gd);\n",
       "            observer.disconnect();\n",
       "        }}\n",
       "}});\n",
       "\n",
       "// Listen for the removal of the full notebook cells\n",
       "var notebookContainer = gd.closest('#notebook-container');\n",
       "if (notebookContainer) {{\n",
       "    x.observe(notebookContainer, {childList: true});\n",
       "}}\n",
       "\n",
       "// Listen for the clearing of the current output cell\n",
       "var outputEl = gd.closest('.output');\n",
       "if (outputEl) {{\n",
       "    x.observe(outputEl, {childList: true});\n",
       "}}\n",
       "\n",
       "                        })\n",
       "                };\n",
       "                });\n",
       "            </script>\n",
       "        </div>"
      ]
     },
     "metadata": {},
     "output_type": "display_data"
    }
   ],
   "source": [
    "plot_treemap(server_data_breach)"
   ]
  },
  {
   "cell_type": "markdown",
   "metadata": {},
   "source": [
    "<b><u> Conclusion for Hypothesis 3:</b></u><br>\n",
    "<b>Through the treemap above we can see that the countries that have higher no. of secure servers are also prone to more data breaches.Therefore our hypothesis does not hold true</b>\n"
   ]
  }
 ],
 "metadata": {
  "kernelspec": {
   "display_name": "Python 3",
   "language": "python",
   "name": "python3"
  },
  "language_info": {
   "codemirror_mode": {
    "name": "ipython",
    "version": 3
   },
   "file_extension": ".py",
   "mimetype": "text/x-python",
   "name": "python",
   "nbconvert_exporter": "python",
   "pygments_lexer": "ipython3",
   "version": "3.7.6"
  },
  "pycharm": {
   "stem_cell": {
    "cell_type": "raw",
    "metadata": {
     "collapsed": false
    },
    "source": []
   }
  }
 },
 "nbformat": 4,
 "nbformat_minor": 2
}
