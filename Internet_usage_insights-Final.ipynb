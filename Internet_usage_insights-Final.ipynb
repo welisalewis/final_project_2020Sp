{
 "cells": [
  {
   "cell_type": "code",
   "execution_count": 100,
   "metadata": {},
   "outputs": [],
   "source": [
    "#Importing all the libraries\n",
    "\n",
    "import numpy as np\n",
    "import pandas as pd\n",
    "import matplotlib.pyplot as plt\n",
    "%matplotlib inline\n",
    "import geopandas as gpd\n",
    "import plotly.express as px\n",
    "import plotly.graph_objects as go"
   ]
  },
  {
   "cell_type": "markdown",
   "metadata": {},
   "source": [
    "# Hypothesis 1 : Approach\n",
    "\n",
    "1. Read the countries and internet usage files<br>\n",
    "2. Get the population and the country names colums, and internet usage for each country from second dataset\n",
    "3. from first datset determine the countries with largest population. like top 10 or top 20\n",
    "4. check the results of 3 with internet usage.\n",
    "5. Group by regions and get the regions with higfhest population.\n"
   ]
  },
  {
   "cell_type": "code",
   "execution_count": 101,
   "metadata": {},
   "outputs": [],
   "source": [
    "# Main function to read all the data files\n",
    "\n",
    "if __name__ == '__main__':\n",
    "    secure_servers = pd.read_excel(\"C:/Users/admin/Desktop/final_project_2020Sp/Data/Secure_Internet_Servers_Worldwide.xlsx\")\n",
    "    internet_users = pd.read_excel(\"C:/Users/admin/Desktop/final_project_2020Sp/Data/Share_of_the_Internet_users_Worldwide.xlsx\")\n",
    "    country_profiles = pd.read_csv(\"C:/Users/admin/Desktop/final_project_2020Sp/Data/Country_Profiles.csv\")\n",
    "    Data_breach = pd.read_csv(\"C:/Users/admin/Desktop/final_project_2020Sp/Data/PRC_Data_Breach_Chronology.csv\")\n",
    "    mental_health_df = pd.read_csv(\"C:/Users/admin/Desktop/final_project_2020Sp/Data/number_with_depression_by_country.csv\")\n",
    "    worldwide_internet_usage = pd.read_excel(\"C:/Users/admin/Desktop/final_project_2020Sp/Data/Individuals_using_the_Internet(Uptill 2019).xls\")"
   ]
  },
  {
   "cell_type": "code",
   "execution_count": 102,
   "metadata": {},
   "outputs": [
    {
     "data": {
      "text/html": [
       "<div>\n",
       "<style scoped>\n",
       "    .dataframe tbody tr th:only-of-type {\n",
       "        vertical-align: middle;\n",
       "    }\n",
       "\n",
       "    .dataframe tbody tr th {\n",
       "        vertical-align: top;\n",
       "    }\n",
       "\n",
       "    .dataframe thead th {\n",
       "        text-align: right;\n",
       "    }\n",
       "</style>\n",
       "<table border=\"1\" class=\"dataframe\">\n",
       "  <thead>\n",
       "    <tr style=\"text-align: right;\">\n",
       "      <th></th>\n",
       "      <th>ADMIN</th>\n",
       "      <th>ADM0_A3</th>\n",
       "      <th>geometry</th>\n",
       "    </tr>\n",
       "  </thead>\n",
       "  <tbody>\n",
       "    <tr>\n",
       "      <td>0</td>\n",
       "      <td>Fiji</td>\n",
       "      <td>FJI</td>\n",
       "      <td>MULTIPOLYGON (((180.00000 -16.06713, 180.00000...</td>\n",
       "    </tr>\n",
       "    <tr>\n",
       "      <td>1</td>\n",
       "      <td>United Republic of Tanzania</td>\n",
       "      <td>TZA</td>\n",
       "      <td>POLYGON ((33.90371 -0.95000, 34.07262 -1.05982...</td>\n",
       "    </tr>\n",
       "    <tr>\n",
       "      <td>2</td>\n",
       "      <td>Western Sahara</td>\n",
       "      <td>SAH</td>\n",
       "      <td>POLYGON ((-8.66559 27.65643, -8.66512 27.58948...</td>\n",
       "    </tr>\n",
       "    <tr>\n",
       "      <td>3</td>\n",
       "      <td>Canada</td>\n",
       "      <td>CAN</td>\n",
       "      <td>MULTIPOLYGON (((-122.84000 49.00000, -122.9742...</td>\n",
       "    </tr>\n",
       "    <tr>\n",
       "      <td>4</td>\n",
       "      <td>United States of America</td>\n",
       "      <td>USA</td>\n",
       "      <td>MULTIPOLYGON (((-122.84000 49.00000, -120.0000...</td>\n",
       "    </tr>\n",
       "  </tbody>\n",
       "</table>\n",
       "</div>"
      ],
      "text/plain": [
       "                         ADMIN ADM0_A3  \\\n",
       "0                         Fiji     FJI   \n",
       "1  United Republic of Tanzania     TZA   \n",
       "2               Western Sahara     SAH   \n",
       "3                       Canada     CAN   \n",
       "4     United States of America     USA   \n",
       "\n",
       "                                            geometry  \n",
       "0  MULTIPOLYGON (((180.00000 -16.06713, 180.00000...  \n",
       "1  POLYGON ((33.90371 -0.95000, 34.07262 -1.05982...  \n",
       "2  POLYGON ((-8.66559 27.65643, -8.66512 27.58948...  \n",
       "3  MULTIPOLYGON (((-122.84000 49.00000, -122.9742...  \n",
       "4  MULTIPOLYGON (((-122.84000 49.00000, -120.0000...  "
      ]
     },
     "execution_count": 102,
     "metadata": {},
     "output_type": "execute_result"
    }
   ],
   "source": [
    "# For displaying world map\n",
    "\n",
    "shapefile = 'C:/Users/admin/Desktop/final_project_2020Sp/110m_cultural/ne_110m_admin_0_countries.shp'\n",
    "#Read shapefile using Geopandas\n",
    "gdf = gpd.read_file(shapefile)[['ADMIN', 'ADM0_A3', 'geometry']]\n",
    "#Rename columns.\n",
    "gdf.head()"
   ]
  },
  {
   "cell_type": "code",
   "execution_count": 103,
   "metadata": {},
   "outputs": [],
   "source": [
    "# Sorting alphabetically\n",
    "country_profiles = country_profiles.sort_values('country')\n",
    "internet_users = internet_users.sort_values('Location')\n",
    "\n",
    "c_df = pd.DataFrame(country_profiles['country'])\n",
    "i_df = pd.DataFrame(internet_users['Location'])\n",
    "\n",
    "\n",
    "#Reference : https://stackoverflow.com/questions/49413005/replace-multiple-substrings-in-a-pandas-series-with-a-value\n",
    "\n",
    "\n",
    "#Updating all the countries name\n",
    "replacement = { 'Central African Rep.' : 'Central African Republic', 'Congo (Dem. Rep.)' : 'Democratic Republic of the Congo',\n",
    "                                       \"Dem. People's Rep. of Korea\" : \"Democratic People's Republic of Korea\",\n",
    "                                       'Dominican Rep.': \"Dominican Rep.\" ,\n",
    "                                       'Falkland (Malvinas) Is.' : \"Falkland Islands (Malvinas)\",\n",
    "                                       'Hong Kong, China' : \"China, Hong Kong SAR\", \n",
    "                                       'Korea (Rep. of)' : \"Republic of Korea\",\n",
    "                                       'Lao P.D.R.' : \"Lao People's Democratic Republic\" , \n",
    "                                       'Macao, China' : \"China, Macao SAR\", \n",
    "                                       'Micronesia' : \"Micronesia (Federated States of)\",\n",
    "                                       'Nepal (Republic of)' : \"Nepal\", \n",
    "                                       'Swaziland (Eswatini)' : \"Swaziland\",\n",
    "                                       'TFYR Macedonia' : \"The former Yugoslav Republic of Macedonia\", \n",
    "                                       'United States' : \"United States of America\", \n",
    "                                       'Venezuela' : \"Venezuela (Bolivarian Republic of)\",\n",
    "                                       'Russian Federation' : 'Russia',\n",
    "                                       'Bolivia (Plurinational State of)': 'Bolivia'\n",
    "                                        }\n",
    "\n",
    "replacement1 = {'United States' : \"United States of America\"}\n",
    "replacement2 = {'Russian Federation' : 'Russia', \"Bolivia (Plurinational State of)\" : 'Bolivia'}\n",
    "\n",
    "country_profiles['country'] = country_profiles['country'].replace(replacement2, regex=True)\n",
    "internet_users['Location'] = internet_users['Location'].replace(replacement, regex=True)\n",
    "mental_health_df['Entity'] = mental_health_df['Entity'].replace(replacement1, regex=True)\n",
    "\n",
    "\n"
   ]
  },
  {
   "cell_type": "code",
   "execution_count": 104,
   "metadata": {},
   "outputs": [
    {
     "data": {
      "text/html": [
       "<div>\n",
       "<style scoped>\n",
       "    .dataframe tbody tr th:only-of-type {\n",
       "        vertical-align: middle;\n",
       "    }\n",
       "\n",
       "    .dataframe tbody tr th {\n",
       "        vertical-align: top;\n",
       "    }\n",
       "\n",
       "    .dataframe thead th {\n",
       "        text-align: right;\n",
       "    }\n",
       "</style>\n",
       "<table border=\"1\" class=\"dataframe\">\n",
       "  <thead>\n",
       "    <tr style=\"text-align: right;\">\n",
       "      <th></th>\n",
       "      <th>country</th>\n",
       "      <th>Region</th>\n",
       "      <th>Surface area (km2)</th>\n",
       "      <th>Population in thousands (2017)</th>\n",
       "      <th>Population density (per km2, 2017)</th>\n",
       "      <th>Sex ratio (m per 100 f, 2017)</th>\n",
       "      <th>GDP: Gross domestic product (million current US$)</th>\n",
       "      <th>GDP growth rate (annual %, const. 2005 prices)</th>\n",
       "      <th>GDP per capita (current US$)</th>\n",
       "      <th>Economy: Agriculture (% of GVA)</th>\n",
       "      <th>...</th>\n",
       "      <th>Mobile-cellular subscriptions (per 100 inhabitants).1</th>\n",
       "      <th>Individuals using the Internet (per 100 inhabitants)</th>\n",
       "      <th>Threatened species (number)</th>\n",
       "      <th>Forested area (% of land area)</th>\n",
       "      <th>CO2 emission estimates (million tons/tons per capita)</th>\n",
       "      <th>Energy production, primary (Petajoules)</th>\n",
       "      <th>Energy supply per capita (Gigajoules)</th>\n",
       "      <th>Pop. using improved drinking water (urban/rural, %)</th>\n",
       "      <th>Pop. using improved sanitation facilities (urban/rural, %)</th>\n",
       "      <th>Net Official Development Assist. received (% of GNI)</th>\n",
       "    </tr>\n",
       "  </thead>\n",
       "  <tbody>\n",
       "    <tr>\n",
       "      <td>0</td>\n",
       "      <td>Afghanistan</td>\n",
       "      <td>SouthernAsia</td>\n",
       "      <td>652864</td>\n",
       "      <td>35530</td>\n",
       "      <td>54.4</td>\n",
       "      <td>106.3</td>\n",
       "      <td>20270</td>\n",
       "      <td>-2.4</td>\n",
       "      <td>623.2</td>\n",
       "      <td>23.3</td>\n",
       "      <td>...</td>\n",
       "      <td>8.3</td>\n",
       "      <td>42</td>\n",
       "      <td>2.1</td>\n",
       "      <td>9.8/0.3</td>\n",
       "      <td>63</td>\n",
       "      <td>5</td>\n",
       "      <td>78.2/47.0</td>\n",
       "      <td>45.1/27.0</td>\n",
       "      <td>21.43</td>\n",
       "      <td>-99</td>\n",
       "    </tr>\n",
       "    <tr>\n",
       "      <td>1</td>\n",
       "      <td>Albania</td>\n",
       "      <td>SouthernEurope</td>\n",
       "      <td>28748</td>\n",
       "      <td>2930</td>\n",
       "      <td>106.9</td>\n",
       "      <td>101.9</td>\n",
       "      <td>11541</td>\n",
       "      <td>2.6</td>\n",
       "      <td>3984.2</td>\n",
       "      <td>22.4</td>\n",
       "      <td>...</td>\n",
       "      <td>63.3</td>\n",
       "      <td>130</td>\n",
       "      <td>28.2</td>\n",
       "      <td>5.7/2.0</td>\n",
       "      <td>84</td>\n",
       "      <td>36</td>\n",
       "      <td>94.9/95.2</td>\n",
       "      <td>95.5/90.2</td>\n",
       "      <td>2.96</td>\n",
       "      <td>-99</td>\n",
       "    </tr>\n",
       "    <tr>\n",
       "      <td>2</td>\n",
       "      <td>Algeria</td>\n",
       "      <td>NorthernAfrica</td>\n",
       "      <td>2381741</td>\n",
       "      <td>41318</td>\n",
       "      <td>17.3</td>\n",
       "      <td>102.0</td>\n",
       "      <td>164779</td>\n",
       "      <td>3.8</td>\n",
       "      <td>4154.1</td>\n",
       "      <td>12.2</td>\n",
       "      <td>...</td>\n",
       "      <td>38.2</td>\n",
       "      <td>135</td>\n",
       "      <td>0.8</td>\n",
       "      <td>145.4/3.7</td>\n",
       "      <td>5900</td>\n",
       "      <td>55</td>\n",
       "      <td>84.3/81.8</td>\n",
       "      <td>89.8/82.2</td>\n",
       "      <td>0.05</td>\n",
       "      <td>-99</td>\n",
       "    </tr>\n",
       "    <tr>\n",
       "      <td>3</td>\n",
       "      <td>American Samoa</td>\n",
       "      <td>Polynesia</td>\n",
       "      <td>199</td>\n",
       "      <td>56</td>\n",
       "      <td>278.2</td>\n",
       "      <td>103.6</td>\n",
       "      <td>-99</td>\n",
       "      <td>-99</td>\n",
       "      <td>-99.0</td>\n",
       "      <td>-99</td>\n",
       "      <td>...</td>\n",
       "      <td>-99</td>\n",
       "      <td>92</td>\n",
       "      <td>87.9</td>\n",
       "      <td>-99</td>\n",
       "      <td>-99</td>\n",
       "      <td>-99</td>\n",
       "      <td>100.0/100.0</td>\n",
       "      <td>62.5/62.5</td>\n",
       "      <td>-99</td>\n",
       "      <td>-99</td>\n",
       "    </tr>\n",
       "    <tr>\n",
       "      <td>4</td>\n",
       "      <td>Andorra</td>\n",
       "      <td>SouthernEurope</td>\n",
       "      <td>468</td>\n",
       "      <td>77</td>\n",
       "      <td>163.8</td>\n",
       "      <td>102.3</td>\n",
       "      <td>2812</td>\n",
       "      <td>0.8</td>\n",
       "      <td>39896.4</td>\n",
       "      <td>0.5</td>\n",
       "      <td>...</td>\n",
       "      <td>96.9</td>\n",
       "      <td>13</td>\n",
       "      <td>34</td>\n",
       "      <td>0.5/6.4</td>\n",
       "      <td>1</td>\n",
       "      <td>119</td>\n",
       "      <td>100.0/100.0</td>\n",
       "      <td>100.0/100.0</td>\n",
       "      <td>-99</td>\n",
       "      <td>-99</td>\n",
       "    </tr>\n",
       "    <tr>\n",
       "      <td>...</td>\n",
       "      <td>...</td>\n",
       "      <td>...</td>\n",
       "      <td>...</td>\n",
       "      <td>...</td>\n",
       "      <td>...</td>\n",
       "      <td>...</td>\n",
       "      <td>...</td>\n",
       "      <td>...</td>\n",
       "      <td>...</td>\n",
       "      <td>...</td>\n",
       "      <td>...</td>\n",
       "      <td>...</td>\n",
       "      <td>...</td>\n",
       "      <td>...</td>\n",
       "      <td>...</td>\n",
       "      <td>...</td>\n",
       "      <td>...</td>\n",
       "      <td>...</td>\n",
       "      <td>...</td>\n",
       "      <td>...</td>\n",
       "      <td>...</td>\n",
       "    </tr>\n",
       "    <tr>\n",
       "      <td>224</td>\n",
       "      <td>Wallis and Futuna Islands</td>\n",
       "      <td>Polynesia</td>\n",
       "      <td>142</td>\n",
       "      <td>12</td>\n",
       "      <td>84.1</td>\n",
       "      <td>93.4</td>\n",
       "      <td>-99</td>\n",
       "      <td>-99</td>\n",
       "      <td>-99.0</td>\n",
       "      <td>-99</td>\n",
       "      <td>...</td>\n",
       "      <td>9</td>\n",
       "      <td>89</td>\n",
       "      <td>41.6</td>\n",
       "      <td>~0.0/1.6</td>\n",
       "      <td>-99</td>\n",
       "      <td>26</td>\n",
       "      <td>-99</td>\n",
       "      <td>-99</td>\n",
       "      <td>-99</td>\n",
       "      <td>-99</td>\n",
       "    </tr>\n",
       "    <tr>\n",
       "      <td>225</td>\n",
       "      <td>Western Sahara</td>\n",
       "      <td>NorthernAfrica</td>\n",
       "      <td>266000</td>\n",
       "      <td>553</td>\n",
       "      <td>2.1</td>\n",
       "      <td>110.1</td>\n",
       "      <td>-99</td>\n",
       "      <td>-99</td>\n",
       "      <td>-99.0</td>\n",
       "      <td>-99</td>\n",
       "      <td>...</td>\n",
       "      <td>-99</td>\n",
       "      <td>49</td>\n",
       "      <td>2.7</td>\n",
       "      <td>-99</td>\n",
       "      <td>-99</td>\n",
       "      <td>-99</td>\n",
       "      <td>-99</td>\n",
       "      <td>-99</td>\n",
       "      <td>-99</td>\n",
       "      <td>-99</td>\n",
       "    </tr>\n",
       "    <tr>\n",
       "      <td>226</td>\n",
       "      <td>Yemen</td>\n",
       "      <td>WesternAsia</td>\n",
       "      <td>527968</td>\n",
       "      <td>28250</td>\n",
       "      <td>53.5</td>\n",
       "      <td>102.1</td>\n",
       "      <td>29688</td>\n",
       "      <td>-28.1</td>\n",
       "      <td>1106.4</td>\n",
       "      <td>14.7</td>\n",
       "      <td>...</td>\n",
       "      <td>25.1</td>\n",
       "      <td>298</td>\n",
       "      <td>1</td>\n",
       "      <td>22.7/0.9</td>\n",
       "      <td>668</td>\n",
       "      <td>12</td>\n",
       "      <td>72.0/46.5</td>\n",
       "      <td>92.5/34.1</td>\n",
       "      <td>2.99</td>\n",
       "      <td>-99</td>\n",
       "    </tr>\n",
       "    <tr>\n",
       "      <td>227</td>\n",
       "      <td>Zambia</td>\n",
       "      <td>EasternAfrica</td>\n",
       "      <td>752612</td>\n",
       "      <td>17094</td>\n",
       "      <td>23.0</td>\n",
       "      <td>98.5</td>\n",
       "      <td>21255</td>\n",
       "      <td>2.9</td>\n",
       "      <td>1311.1</td>\n",
       "      <td>8.2</td>\n",
       "      <td>...</td>\n",
       "      <td>21</td>\n",
       "      <td>88</td>\n",
       "      <td>65.6</td>\n",
       "      <td>4.5/0.3</td>\n",
       "      <td>374</td>\n",
       "      <td>26</td>\n",
       "      <td>85.6/51.3</td>\n",
       "      <td>55.6/35.7</td>\n",
       "      <td>3.96</td>\n",
       "      <td>-99</td>\n",
       "    </tr>\n",
       "    <tr>\n",
       "      <td>228</td>\n",
       "      <td>Zimbabwe</td>\n",
       "      <td>EasternAfrica</td>\n",
       "      <td>390757</td>\n",
       "      <td>16530</td>\n",
       "      <td>42.7</td>\n",
       "      <td>95.0</td>\n",
       "      <td>13893</td>\n",
       "      <td>1.1</td>\n",
       "      <td>890.4</td>\n",
       "      <td>13</td>\n",
       "      <td>...</td>\n",
       "      <td>16.4</td>\n",
       "      <td>89</td>\n",
       "      <td>37.2</td>\n",
       "      <td>12.0/0.8</td>\n",
       "      <td>482</td>\n",
       "      <td>30</td>\n",
       "      <td>97.0/67.3</td>\n",
       "      <td>49.3/30.8</td>\n",
       "      <td>6</td>\n",
       "      <td>-99</td>\n",
       "    </tr>\n",
       "  </tbody>\n",
       "</table>\n",
       "<p>229 rows × 50 columns</p>\n",
       "</div>"
      ],
      "text/plain": [
       "                       country          Region Surface area (km2)  \\\n",
       "0                  Afghanistan    SouthernAsia             652864   \n",
       "1                      Albania  SouthernEurope              28748   \n",
       "2                      Algeria  NorthernAfrica            2381741   \n",
       "3               American Samoa       Polynesia                199   \n",
       "4                      Andorra  SouthernEurope                468   \n",
       "..                         ...             ...                ...   \n",
       "224  Wallis and Futuna Islands       Polynesia                142   \n",
       "225             Western Sahara  NorthernAfrica             266000   \n",
       "226                      Yemen     WesternAsia             527968   \n",
       "227                     Zambia   EasternAfrica             752612   \n",
       "228                   Zimbabwe   EasternAfrica             390757   \n",
       "\n",
       "     Population in thousands (2017)  Population density (per km2, 2017)  \\\n",
       "0                             35530                                54.4   \n",
       "1                              2930                               106.9   \n",
       "2                             41318                                17.3   \n",
       "3                                56                               278.2   \n",
       "4                                77                               163.8   \n",
       "..                              ...                                 ...   \n",
       "224                              12                                84.1   \n",
       "225                             553                                 2.1   \n",
       "226                           28250                                53.5   \n",
       "227                           17094                                23.0   \n",
       "228                           16530                                42.7   \n",
       "\n",
       "     Sex ratio (m per 100 f, 2017)  \\\n",
       "0                            106.3   \n",
       "1                            101.9   \n",
       "2                            102.0   \n",
       "3                            103.6   \n",
       "4                            102.3   \n",
       "..                             ...   \n",
       "224                           93.4   \n",
       "225                          110.1   \n",
       "226                          102.1   \n",
       "227                           98.5   \n",
       "228                           95.0   \n",
       "\n",
       "     GDP: Gross domestic product (million current US$)  \\\n",
       "0                                                20270   \n",
       "1                                                11541   \n",
       "2                                               164779   \n",
       "3                                                  -99   \n",
       "4                                                 2812   \n",
       "..                                                 ...   \n",
       "224                                                -99   \n",
       "225                                                -99   \n",
       "226                                              29688   \n",
       "227                                              21255   \n",
       "228                                              13893   \n",
       "\n",
       "    GDP growth rate (annual %, const. 2005 prices)  \\\n",
       "0                                             -2.4   \n",
       "1                                              2.6   \n",
       "2                                              3.8   \n",
       "3                                              -99   \n",
       "4                                              0.8   \n",
       "..                                             ...   \n",
       "224                                            -99   \n",
       "225                                            -99   \n",
       "226                                          -28.1   \n",
       "227                                            2.9   \n",
       "228                                            1.1   \n",
       "\n",
       "     GDP per capita (current US$) Economy: Agriculture (% of GVA)  ...  \\\n",
       "0                           623.2                            23.3  ...   \n",
       "1                          3984.2                            22.4  ...   \n",
       "2                          4154.1                            12.2  ...   \n",
       "3                           -99.0                             -99  ...   \n",
       "4                         39896.4                             0.5  ...   \n",
       "..                            ...                             ...  ...   \n",
       "224                         -99.0                             -99  ...   \n",
       "225                         -99.0                             -99  ...   \n",
       "226                        1106.4                            14.7  ...   \n",
       "227                        1311.1                             8.2  ...   \n",
       "228                         890.4                              13  ...   \n",
       "\n",
       "     Mobile-cellular subscriptions (per 100 inhabitants).1  \\\n",
       "0                                                  8.3       \n",
       "1                                                 63.3       \n",
       "2                                                 38.2       \n",
       "3                                                  -99       \n",
       "4                                                 96.9       \n",
       "..                                                 ...       \n",
       "224                                                  9       \n",
       "225                                                -99       \n",
       "226                                               25.1       \n",
       "227                                                 21       \n",
       "228                                               16.4       \n",
       "\n",
       "     Individuals using the Internet (per 100 inhabitants)  \\\n",
       "0                                                   42      \n",
       "1                                                  130      \n",
       "2                                                  135      \n",
       "3                                                   92      \n",
       "4                                                   13      \n",
       "..                                                 ...      \n",
       "224                                                 89      \n",
       "225                                                 49      \n",
       "226                                                298      \n",
       "227                                                 88      \n",
       "228                                                 89      \n",
       "\n",
       "    Threatened species (number) Forested area (% of land area)  \\\n",
       "0                           2.1                        9.8/0.3   \n",
       "1                          28.2                        5.7/2.0   \n",
       "2                           0.8                      145.4/3.7   \n",
       "3                          87.9                            -99   \n",
       "4                            34                        0.5/6.4   \n",
       "..                          ...                            ...   \n",
       "224                        41.6                       ~0.0/1.6   \n",
       "225                         2.7                            -99   \n",
       "226                           1                       22.7/0.9   \n",
       "227                        65.6                        4.5/0.3   \n",
       "228                        37.2                       12.0/0.8   \n",
       "\n",
       "    CO2 emission estimates (million tons/tons per capita)  \\\n",
       "0                                                   63      \n",
       "1                                                   84      \n",
       "2                                                 5900      \n",
       "3                                                  -99      \n",
       "4                                                    1      \n",
       "..                                                 ...      \n",
       "224                                                -99      \n",
       "225                                                -99      \n",
       "226                                                668      \n",
       "227                                                374      \n",
       "228                                                482      \n",
       "\n",
       "    Energy production, primary (Petajoules)  \\\n",
       "0                                         5   \n",
       "1                                        36   \n",
       "2                                        55   \n",
       "3                                       -99   \n",
       "4                                       119   \n",
       "..                                      ...   \n",
       "224                                      26   \n",
       "225                                     -99   \n",
       "226                                      12   \n",
       "227                                      26   \n",
       "228                                      30   \n",
       "\n",
       "    Energy supply per capita (Gigajoules)  \\\n",
       "0                               78.2/47.0   \n",
       "1                               94.9/95.2   \n",
       "2                               84.3/81.8   \n",
       "3                             100.0/100.0   \n",
       "4                             100.0/100.0   \n",
       "..                                    ...   \n",
       "224                                   -99   \n",
       "225                                   -99   \n",
       "226                             72.0/46.5   \n",
       "227                             85.6/51.3   \n",
       "228                             97.0/67.3   \n",
       "\n",
       "     Pop. using improved drinking water (urban/rural, %)  \\\n",
       "0                                            45.1/27.0     \n",
       "1                                            95.5/90.2     \n",
       "2                                            89.8/82.2     \n",
       "3                                            62.5/62.5     \n",
       "4                                          100.0/100.0     \n",
       "..                                                 ...     \n",
       "224                                                -99     \n",
       "225                                                -99     \n",
       "226                                          92.5/34.1     \n",
       "227                                          55.6/35.7     \n",
       "228                                          49.3/30.8     \n",
       "\n",
       "     Pop. using improved sanitation facilities (urban/rural, %)  \\\n",
       "0                                                21.43            \n",
       "1                                                 2.96            \n",
       "2                                                 0.05            \n",
       "3                                                  -99            \n",
       "4                                                  -99            \n",
       "..                                                 ...            \n",
       "224                                                -99            \n",
       "225                                                -99            \n",
       "226                                               2.99            \n",
       "227                                               3.96            \n",
       "228                                                  6            \n",
       "\n",
       "    Net Official Development Assist. received (% of GNI)  \n",
       "0                                                  -99    \n",
       "1                                                  -99    \n",
       "2                                                  -99    \n",
       "3                                                  -99    \n",
       "4                                                  -99    \n",
       "..                                                 ...    \n",
       "224                                                -99    \n",
       "225                                                -99    \n",
       "226                                                -99    \n",
       "227                                                -99    \n",
       "228                                                -99    \n",
       "\n",
       "[229 rows x 50 columns]"
      ]
     },
     "execution_count": 104,
     "metadata": {},
     "output_type": "execute_result"
    }
   ],
   "source": [
    "country_profiles"
   ]
  },
  {
   "cell_type": "code",
   "execution_count": 105,
   "metadata": {},
   "outputs": [],
   "source": [
    "#Creating datasets as per use\n",
    "country_population = country_profiles[['country','Region','Population in thousands (2017)']]\n",
    "internet_usage = internet_users[['Location','2017']]"
   ]
  },
  {
   "cell_type": "code",
   "execution_count": 106,
   "metadata": {},
   "outputs": [
    {
     "data": {
      "image/png": "[encoded data removed]",
      "text/plain": [
       "<Figure size 1080x360 with 1 Axes>"
      ]
     },
     "metadata": {
      "needs_background": "light"
     },
     "output_type": "display_data"
    }
   ],
   "source": [
    "#Merging the datasets to draw insights\n",
    "insights1 = country_population.merge(internet_usage,left_on=\"country\",right_on =\"Location\",how =\"left\")\n",
    "\n",
    "#Dropping all the NaN values\n",
    "insights1 = insights1[pd.notnull(insights1[\"Location\"])]\n",
    "\n",
    "#Sorting by ascending order\n",
    "insights1 = insights1.sort_values(by = [\"Population in thousands (2017)\"], ascending =False)\n",
    "\n",
    "#Plotting the bar graph\n",
    "fig, ax = plt.subplots(figsize=(15,5))\n",
    "frequency = insights1[\"Population in thousands (2017)\"]\n",
    "points = insights1[\"2017\"]\n",
    "# width = 0.4\n",
    "ax.bar(points, frequency)\n",
    "\n",
    "\n",
    "ax.set_title('Population vs internet')\n",
    "ax.set_xlabel('Internet Users')\n",
    "ax.set_ylabel('Population')\n",
    "plt.show()"
   ]
  },
  {
   "cell_type": "code",
   "execution_count": 107,
   "metadata": {},
   "outputs": [],
   "source": [
    "#Creating a dataset for the world map\n",
    "merged = gdf.merge(insights1, left_on = 'ADMIN', right_on = 'country',how=\"outer\")"
   ]
  },
  {
   "cell_type": "code",
   "execution_count": 108,
   "metadata": {},
   "outputs": [],
   "source": [
    "#Some countries could be missing bcoz of diff names in diff datasets ex:Russia, United Sates, Greenland, European countries,African countries"
   ]
  },
  {
   "cell_type": "code",
   "execution_count": 109,
   "metadata": {},
   "outputs": [
    {
     "data": {
      "text/plain": [
       "Text(0.5, 1.0, 'Internet Usage over the world')"
      ]
     },
     "execution_count": 109,
     "metadata": {},
     "output_type": "execute_result"
    },
    {
     "data": {
      "image/png": "[encoded data removed]",
      "text/plain": [
       "<Figure size 1440x1440 with 1 Axes>"
      ]
     },
     "metadata": {
      "needs_background": "light"
     },
     "output_type": "display_data"
    }
   ],
   "source": [
    "#Reference: https://towardsdatascience.com/lets-make-a-map-using-geopandas-pandas-and-matplotlib-to-make-a-chloropleth-map-dddc31c1983d\n",
    "variable = \"2017\"\n",
    "vmin, vmax = 120, 220\n",
    "#fig, ax = plt.subplots(1, figsize=(10, 6))\n",
    "#fig =merged.subplot(column=variable, cmap=\"PuRd\", figsize=(10, 6))\n",
    "#Create colorbar as a legend\n",
    "sm = plt.cm.ScalarMappable(cmap=\"PuRd\", norm=plt.Normalize(vmin=vmin, vmax=vmax))\n",
    "# empty array for the data range\n",
    "sm._A = []\n",
    "# add the colorbar to the figure\n",
    "cbar = fig.colorbar(sm)\n",
    "merged.plot(column=variable, cmap=\"Blues\",figsize=(20,20))\n",
    "plt.title(\"Internet Usage over the world\")\n",
    "#try adding interactivity"
   ]
  },
  {
   "cell_type": "code",
   "execution_count": 110,
   "metadata": {},
   "outputs": [
    {
     "data": {
      "text/plain": [
       "0.5988824801940084"
      ]
     },
     "execution_count": 110,
     "metadata": {},
     "output_type": "execute_result"
    }
   ],
   "source": [
    "#Hypothesis 1.2 Mental health vs Internet usage\n",
    "\n",
    "# Depressive disorders - no of people having depression in millions\n",
    "# number of Internet users as % of total population\n",
    "\n",
    "year = [2017]\n",
    "mental_health_df = mental_health_df[mental_health_df['Year'].isin(year)]\n",
    "\n",
    "#Renmaing the column\n",
    "mental_health_df.rename(columns={\"Prevalence - Depressive disorders - Sex: Both - Age: All Ages (Number) (people suffering from depression)\": 'Depressive disorders'}, inplace=True)\n",
    "\n",
    "country_population_2017 = country_profiles[['country','Population in thousands (2017)']]\n",
    "\n",
    "\n",
    "#Merging the two datasets : mental_health_df and country_population_2017\n",
    "cumulative_df = country_population_2017.merge(mental_health_df,left_on=\"country\",right_on =\"Entity\",how =\"left\")\n",
    "\n",
    "#Creating new column for Percentage of Depressed People\n",
    "cumulative_df = cumulative_df[pd.notnull(cumulative_df[\"Entity\"])]\n",
    "cumulative_df[\"% of Depressed People\"] = cumulative_df[\"Depressive disorders\"].div(cumulative_df[\"Population in thousands (2017)\"]).round(2)\n",
    "\n",
    "\n",
    "#Merging internet users and cumulative dataset\n",
    "cumulative_df = cumulative_df.merge(internet_usage,left_on=\"country\",right_on =\"Location\",how =\"left\")\n",
    "\n",
    "#Renmaing the column\n",
    "cumulative_df.rename(columns={\"2017\" : '% of Internet Users'}, inplace=True)\n",
    "\n",
    "# Dropping NAN values\n",
    "cumulative_df = cumulative_df[pd.notnull(cumulative_df[\"Location\"])]\n",
    "\n",
    "#Dropping multilple country columns\n",
    "cumulative_df = cumulative_df.drop(columns=['Entity', 'Location'])\n",
    "\n",
    "#Rounding the values\n",
    "cumulative_df['% of Internet Users'] = cumulative_df['% of Internet Users'].round(2)\n",
    "\n",
    "#Checking correlation\n",
    "cumulative_df['% of Depressed People'].corr(cumulative_df['% of Internet Users'])\n"
   ]
  },
  {
   "cell_type": "code",
   "execution_count": 111,
   "metadata": {},
   "outputs": [
    {
     "data": {
      "application/vnd.plotly.v1+json": {
       "config": {
        "plotlyServerURL": "https://plot.ly"
       },
       "data": [
        {
         "name": "% of Depressed People",
         "type": "bar",
         "x": [
          "Bangladesh",
          "Canada",
          "India",
          "Somalia",
          "Sri Lanka",
          "United Kingdom",
          "United States of America"
         ],
         "y": [
          36.6,
          39.29,
          34.12,
          29.41,
          37.08,
          43.87,
          47.77
         ]
        },
        {
         "name": "% of Internet Users",
         "type": "bar",
         "x": [
          "Bangladesh",
          "Canada",
          "India",
          "Somalia",
          "Sri Lanka",
          "United Kingdom",
          "United States of America"
         ],
         "y": [
          15,
          91,
          34.45,
          2,
          34.11,
          94.62,
          87.27
         ]
        }
       ],
       "layout": {
        "barmode": "group",
        "template": {
         "data": {
          "bar": [
           {
            "error_x": {
             "color": "#2a3f5f"
            },
            "error_y": {
             "color": "#2a3f5f"
            },
            "marker": {
             "line": {
              "color": "#E5ECF6",
              "width": 0.5
             }
            },
            "type": "bar"
           }
          ],
          "barpolar": [
           {
            "marker": {
             "line": {
              "color": "#E5ECF6",
              "width": 0.5
             }
            },
            "type": "barpolar"
           }
          ],
          "carpet": [
           {
            "aaxis": {
             "endlinecolor": "#2a3f5f",
             "gridcolor": "white",
             "linecolor": "white",
             "minorgridcolor": "white",
             "startlinecolor": "#2a3f5f"
            },
            "baxis": {
             "endlinecolor": "#2a3f5f",
             "gridcolor": "white",
             "linecolor": "white",
             "minorgridcolor": "white",
             "startlinecolor": "#2a3f5f"
            },
            "type": "carpet"
           }
          ],
          "choropleth": [
           {
            "colorbar": {
             "outlinewidth": 0,
             "ticks": ""
            },
            "type": "choropleth"
           }
          ],
          "contour": [
           {
            "colorbar": {
             "outlinewidth": 0,
             "ticks": ""
            },
            "colorscale": [
             [
              0,
              "#0d0887"
             ],
             [
              0.1111111111111111,
              "#46039f"
             ],
             [
              0.2222222222222222,
              "#7201a8"
             ],
             [
              0.3333333333333333,
              "#9c179e"
             ],
             [
              0.4444444444444444,
              "#bd3786"
             ],
             [
              0.5555555555555556,
              "#d8576b"
             ],
             [
              0.6666666666666666,
              "#ed7953"
             ],
             [
              0.7777777777777778,
              "#fb9f3a"
             ],
             [
              0.8888888888888888,
              "#fdca26"
             ],
             [
              1,
              "#f0f921"
             ]
            ],
            "type": "contour"
           }
          ],
          "contourcarpet": [
           {
            "colorbar": {
             "outlinewidth": 0,
             "ticks": ""
            },
            "type": "contourcarpet"
           }
          ],
          "heatmap": [
           {
            "colorbar": {
             "outlinewidth": 0,
             "ticks": ""
            },
            "colorscale": [
             [
              0,
              "#0d0887"
             ],
             [
              0.1111111111111111,
              "#46039f"
             ],
             [
              0.2222222222222222,
              "#7201a8"
             ],
             [
              0.3333333333333333,
              "#9c179e"
             ],
             [
              0.4444444444444444,
              "#bd3786"
             ],
             [
              0.5555555555555556,
              "#d8576b"
             ],
             [
              0.6666666666666666,
              "#ed7953"
             ],
             [
              0.7777777777777778,
              "#fb9f3a"
             ],
             [
              0.8888888888888888,
              "#fdca26"
             ],
             [
              1,
              "#f0f921"
             ]
            ],
            "type": "heatmap"
           }
          ],
          "heatmapgl": [
           {
            "colorbar": {
             "outlinewidth": 0,
             "ticks": ""
            },
            "colorscale": [
             [
              0,
              "#0d0887"
             ],
             [
              0.1111111111111111,
              "#46039f"
             ],
             [
              0.2222222222222222,
              "#7201a8"
             ],
             [
              0.3333333333333333,
              "#9c179e"
             ],
             [
              0.4444444444444444,
              "#bd3786"
             ],
             [
              0.5555555555555556,
              "#d8576b"
             ],
             [
              0.6666666666666666,
              "#ed7953"
             ],
             [
              0.7777777777777778,
              "#fb9f3a"
             ],
             [
              0.8888888888888888,
              "#fdca26"
             ],
             [
              1,
              "#f0f921"
             ]
            ],
            "type": "heatmapgl"
           }
          ],
          "histogram": [
           {
            "marker": {
             "colorbar": {
              "outlinewidth": 0,
              "ticks": ""
             }
            },
            "type": "histogram"
           }
          ],
          "histogram2d": [
           {
            "colorbar": {
             "outlinewidth": 0,
             "ticks": ""
            },
            "colorscale": [
             [
              0,
              "#0d0887"
             ],
             [
              0.1111111111111111,
              "#46039f"
             ],
             [
              0.2222222222222222,
              "#7201a8"
             ],
             [
              0.3333333333333333,
              "#9c179e"
             ],
             [
              0.4444444444444444,
              "#bd3786"
             ],
             [
              0.5555555555555556,
              "#d8576b"
             ],
             [
              0.6666666666666666,
              "#ed7953"
             ],
             [
              0.7777777777777778,
              "#fb9f3a"
             ],
             [
              0.8888888888888888,
              "#fdca26"
             ],
             [
              1,
              "#f0f921"
             ]
            ],
            "type": "histogram2d"
           }
          ],
          "histogram2dcontour": [
           {
            "colorbar": {
             "outlinewidth": 0,
             "ticks": ""
            },
            "colorscale": [
             [
              0,
              "#0d0887"
             ],
             [
              0.1111111111111111,
              "#46039f"
             ],
             [
              0.2222222222222222,
              "#7201a8"
             ],
             [
              0.3333333333333333,
              "#9c179e"
             ],
             [
              0.4444444444444444,
              "#bd3786"
             ],
             [
              0.5555555555555556,
              "#d8576b"
             ],
             [
              0.6666666666666666,
              "#ed7953"
             ],
             [
              0.7777777777777778,
              "#fb9f3a"
             ],
             [
              0.8888888888888888,
              "#fdca26"
             ],
             [
              1,
              "#f0f921"
             ]
            ],
            "type": "histogram2dcontour"
           }
          ],
          "mesh3d": [
           {
            "colorbar": {
             "outlinewidth": 0,
             "ticks": ""
            },
            "type": "mesh3d"
           }
          ],
          "parcoords": [
           {
            "line": {
             "colorbar": {
              "outlinewidth": 0,
              "ticks": ""
             }
            },
            "type": "parcoords"
           }
          ],
          "pie": [
           {
            "automargin": true,
            "type": "pie"
           }
          ],
          "scatter": [
           {
            "marker": {
             "colorbar": {
              "outlinewidth": 0,
              "ticks": ""
             }
            },
            "type": "scatter"
           }
          ],
          "scatter3d": [
           {
            "line": {
             "colorbar": {
              "outlinewidth": 0,
              "ticks": ""
             }
            },
            "marker": {
             "colorbar": {
              "outlinewidth": 0,
              "ticks": ""
             }
            },
            "type": "scatter3d"
           }
          ],
          "scattercarpet": [
           {
            "marker": {
             "colorbar": {
              "outlinewidth": 0,
              "ticks": ""
             }
            },
            "type": "scattercarpet"
           }
          ],
          "scattergeo": [
           {
            "marker": {
             "colorbar": {
              "outlinewidth": 0,
              "ticks": ""
             }
            },
            "type": "scattergeo"
           }
          ],
          "scattergl": [
           {
            "marker": {
             "colorbar": {
              "outlinewidth": 0,
              "ticks": ""
             }
            },
            "type": "scattergl"
           }
          ],
          "scattermapbox": [
           {
            "marker": {
             "colorbar": {
              "outlinewidth": 0,
              "ticks": ""
             }
            },
            "type": "scattermapbox"
           }
          ],
          "scatterpolar": [
           {
            "marker": {
             "colorbar": {
              "outlinewidth": 0,
              "ticks": ""
             }
            },
            "type": "scatterpolar"
           }
          ],
          "scatterpolargl": [
           {
            "marker": {
             "colorbar": {
              "outlinewidth": 0,
              "ticks": ""
             }
            },
            "type": "scatterpolargl"
           }
          ],
          "scatterternary": [
           {
            "marker": {
             "colorbar": {
              "outlinewidth": 0,
              "ticks": ""
             }
            },
            "type": "scatterternary"
           }
          ],
          "surface": [
           {
            "colorbar": {
             "outlinewidth": 0,
             "ticks": ""
            },
            "colorscale": [
             [
              0,
              "#0d0887"
             ],
             [
              0.1111111111111111,
              "#46039f"
             ],
             [
              0.2222222222222222,
              "#7201a8"
             ],
             [
              0.3333333333333333,
              "#9c179e"
             ],
             [
              0.4444444444444444,
              "#bd3786"
             ],
             [
              0.5555555555555556,
              "#d8576b"
             ],
             [
              0.6666666666666666,
              "#ed7953"
             ],
             [
              0.7777777777777778,
              "#fb9f3a"
             ],
             [
              0.8888888888888888,
              "#fdca26"
             ],
             [
              1,
              "#f0f921"
             ]
            ],
            "type": "surface"
           }
          ],
          "table": [
           {
            "cells": {
             "fill": {
              "color": "#EBF0F8"
             },
             "line": {
              "color": "white"
             }
            },
            "header": {
             "fill": {
              "color": "#C8D4E3"
             },
             "line": {
              "color": "white"
             }
            },
            "type": "table"
           }
          ]
         },
         "layout": {
          "annotationdefaults": {
           "arrowcolor": "#2a3f5f",
           "arrowhead": 0,
           "arrowwidth": 1
          },
          "coloraxis": {
           "colorbar": {
            "outlinewidth": 0,
            "ticks": ""
           }
          },
          "colorscale": {
           "diverging": [
            [
             0,
             "#8e0152"
            ],
            [
             0.1,
             "#c51b7d"
            ],
            [
             0.2,
             "#de77ae"
            ],
            [
             0.3,
             "#f1b6da"
            ],
            [
             0.4,
             "#fde0ef"
            ],
            [
             0.5,
             "#f7f7f7"
            ],
            [
             0.6,
             "#e6f5d0"
            ],
            [
             0.7,
             "#b8e186"
            ],
            [
             0.8,
             "#7fbc41"
            ],
            [
             0.9,
             "#4d9221"
            ],
            [
             1,
             "#276419"
            ]
           ],
           "sequential": [
            [
             0,
             "#0d0887"
            ],
            [
             0.1111111111111111,
             "#46039f"
            ],
            [
             0.2222222222222222,
             "#7201a8"
            ],
            [
             0.3333333333333333,
             "#9c179e"
            ],
            [
             0.4444444444444444,
             "#bd3786"
            ],
            [
             0.5555555555555556,
             "#d8576b"
            ],
            [
             0.6666666666666666,
             "#ed7953"
            ],
            [
             0.7777777777777778,
             "#fb9f3a"
            ],
            [
             0.8888888888888888,
             "#fdca26"
            ],
            [
             1,
             "#f0f921"
            ]
           ],
           "sequentialminus": [
            [
             0,
             "#0d0887"
            ],
            [
             0.1111111111111111,
             "#46039f"
            ],
            [
             0.2222222222222222,
             "#7201a8"
            ],
            [
             0.3333333333333333,
             "#9c179e"
            ],
            [
             0.4444444444444444,
             "#bd3786"
            ],
            [
             0.5555555555555556,
             "#d8576b"
            ],
            [
             0.6666666666666666,
             "#ed7953"
            ],
            [
             0.7777777777777778,
             "#fb9f3a"
            ],
            [
             0.8888888888888888,
             "#fdca26"
            ],
            [
             1,
             "#f0f921"
            ]
           ]
          },
          "colorway": [
           "#636efa",
           "#EF553B",
           "#00cc96",
           "#ab63fa",
           "#FFA15A",
           "#19d3f3",
           "#FF6692",
           "#B6E880",
           "#FF97FF",
           "#FECB52"
          ],
          "font": {
           "color": "#2a3f5f"
          },
          "geo": {
           "bgcolor": "white",
           "lakecolor": "white",
           "landcolor": "#E5ECF6",
           "showlakes": true,
           "showland": true,
           "subunitcolor": "white"
          },
          "hoverlabel": {
           "align": "left"
          },
          "hovermode": "closest",
          "mapbox": {
           "style": "light"
          },
          "paper_bgcolor": "white",
          "plot_bgcolor": "#E5ECF6",
          "polar": {
           "angularaxis": {
            "gridcolor": "white",
            "linecolor": "white",
            "ticks": ""
           },
           "bgcolor": "#E5ECF6",
           "radialaxis": {
            "gridcolor": "white",
            "linecolor": "white",
            "ticks": ""
           }
          },
          "scene": {
           "xaxis": {
            "backgroundcolor": "#E5ECF6",
            "gridcolor": "white",
            "gridwidth": 2,
            "linecolor": "white",
            "showbackground": true,
            "ticks": "",
            "zerolinecolor": "white"
           },
           "yaxis": {
            "backgroundcolor": "#E5ECF6",
            "gridcolor": "white",
            "gridwidth": 2,
            "linecolor": "white",
            "showbackground": true,
            "ticks": "",
            "zerolinecolor": "white"
           },
           "zaxis": {
            "backgroundcolor": "#E5ECF6",
            "gridcolor": "white",
            "gridwidth": 2,
            "linecolor": "white",
            "showbackground": true,
            "ticks": "",
            "zerolinecolor": "white"
           }
          },
          "shapedefaults": {
           "line": {
            "color": "#2a3f5f"
           }
          },
          "ternary": {
           "aaxis": {
            "gridcolor": "white",
            "linecolor": "white",
            "ticks": ""
           },
           "baxis": {
            "gridcolor": "white",
            "linecolor": "white",
            "ticks": ""
           },
           "bgcolor": "#E5ECF6",
           "caxis": {
            "gridcolor": "white",
            "linecolor": "white",
            "ticks": ""
           }
          },
          "title": {
           "x": 0.05
          },
          "xaxis": {
           "automargin": true,
           "gridcolor": "white",
           "linecolor": "white",
           "ticks": "",
           "title": {
            "standoff": 15
           },
           "zerolinecolor": "white",
           "zerolinewidth": 2
          },
          "yaxis": {
           "automargin": true,
           "gridcolor": "white",
           "linecolor": "white",
           "ticks": "",
           "title": {
            "standoff": 15
           },
           "zerolinecolor": "white",
           "zerolinewidth": 2
          }
         }
        }
       }
      },
      "text/html": [
       "<div>\n",
       "        \n",
       "        \n",
       "            <div id=\"58297d3e-0d9e-4135-b422-fd8caec81e95\" class=\"plotly-graph-div\" style=\"height:525px; width:100%;\"></div>\n",
       "            <script type=\"text/javascript\">\n",
       "                require([\"plotly\"], function(Plotly) {\n",
       "                    window.PLOTLYENV=window.PLOTLYENV || {};\n",
       "                    \n",
       "                if (document.getElementById(\"58297d3e-0d9e-4135-b422-fd8caec81e95\")) {\n",
       "                    Plotly.newPlot(\n",
       "                        '58297d3e-0d9e-4135-b422-fd8caec81e95',\n",
       "                        [{\"name\": \"% of Depressed People\", \"type\": \"bar\", \"x\": [\"Bangladesh\", \"Canada\", \"India\", \"Somalia\", \"Sri Lanka\", \"United Kingdom\", \"United States of America\"], \"y\": [36.6, 39.29, 34.12, 29.41, 37.08, 43.87, 47.77]}, {\"name\": \"% of Internet Users\", \"type\": \"bar\", \"x\": [\"Bangladesh\", \"Canada\", \"India\", \"Somalia\", \"Sri Lanka\", \"United Kingdom\", \"United States of America\"], \"y\": [15.0, 91.0, 34.45, 2.0, 34.11, 94.62, 87.27]}],\n",
       "                        {\"barmode\": \"group\", \"template\": {\"data\": {\"bar\": [{\"error_x\": {\"color\": \"#2a3f5f\"}, \"error_y\": {\"color\": \"#2a3f5f\"}, \"marker\": {\"line\": {\"color\": \"#E5ECF6\", \"width\": 0.5}}, \"type\": \"bar\"}], \"barpolar\": [{\"marker\": {\"line\": {\"color\": \"#E5ECF6\", \"width\": 0.5}}, \"type\": \"barpolar\"}], \"carpet\": [{\"aaxis\": {\"endlinecolor\": \"#2a3f5f\", \"gridcolor\": \"white\", \"linecolor\": \"white\", \"minorgridcolor\": \"white\", \"startlinecolor\": \"#2a3f5f\"}, \"baxis\": {\"endlinecolor\": \"#2a3f5f\", \"gridcolor\": \"white\", \"linecolor\": \"white\", \"minorgridcolor\": \"white\", \"startlinecolor\": \"#2a3f5f\"}, \"type\": \"carpet\"}], \"choropleth\": [{\"colorbar\": {\"outlinewidth\": 0, \"ticks\": \"\"}, \"type\": \"choropleth\"}], \"contour\": [{\"colorbar\": {\"outlinewidth\": 0, \"ticks\": \"\"}, \"colorscale\": [[0.0, \"#0d0887\"], [0.1111111111111111, \"#46039f\"], [0.2222222222222222, \"#7201a8\"], [0.3333333333333333, \"#9c179e\"], [0.4444444444444444, \"#bd3786\"], [0.5555555555555556, \"#d8576b\"], [0.6666666666666666, \"#ed7953\"], [0.7777777777777778, \"#fb9f3a\"], [0.8888888888888888, \"#fdca26\"], [1.0, \"#f0f921\"]], \"type\": \"contour\"}], \"contourcarpet\": [{\"colorbar\": {\"outlinewidth\": 0, \"ticks\": \"\"}, \"type\": \"contourcarpet\"}], \"heatmap\": [{\"colorbar\": {\"outlinewidth\": 0, \"ticks\": \"\"}, \"colorscale\": [[0.0, \"#0d0887\"], [0.1111111111111111, \"#46039f\"], [0.2222222222222222, \"#7201a8\"], [0.3333333333333333, \"#9c179e\"], [0.4444444444444444, \"#bd3786\"], [0.5555555555555556, \"#d8576b\"], [0.6666666666666666, \"#ed7953\"], [0.7777777777777778, \"#fb9f3a\"], [0.8888888888888888, \"#fdca26\"], [1.0, \"#f0f921\"]], \"type\": \"heatmap\"}], \"heatmapgl\": [{\"colorbar\": {\"outlinewidth\": 0, \"ticks\": \"\"}, \"colorscale\": [[0.0, \"#0d0887\"], [0.1111111111111111, \"#46039f\"], [0.2222222222222222, \"#7201a8\"], [0.3333333333333333, \"#9c179e\"], [0.4444444444444444, \"#bd3786\"], [0.5555555555555556, \"#d8576b\"], [0.6666666666666666, \"#ed7953\"], [0.7777777777777778, \"#fb9f3a\"], [0.8888888888888888, \"#fdca26\"], [1.0, \"#f0f921\"]], \"type\": \"heatmapgl\"}], \"histogram\": [{\"marker\": {\"colorbar\": {\"outlinewidth\": 0, \"ticks\": \"\"}}, \"type\": \"histogram\"}], \"histogram2d\": [{\"colorbar\": {\"outlinewidth\": 0, \"ticks\": \"\"}, \"colorscale\": [[0.0, \"#0d0887\"], [0.1111111111111111, \"#46039f\"], [0.2222222222222222, \"#7201a8\"], [0.3333333333333333, \"#9c179e\"], [0.4444444444444444, \"#bd3786\"], [0.5555555555555556, \"#d8576b\"], [0.6666666666666666, \"#ed7953\"], [0.7777777777777778, \"#fb9f3a\"], [0.8888888888888888, \"#fdca26\"], [1.0, \"#f0f921\"]], \"type\": \"histogram2d\"}], \"histogram2dcontour\": [{\"colorbar\": {\"outlinewidth\": 0, \"ticks\": \"\"}, \"colorscale\": [[0.0, \"#0d0887\"], [0.1111111111111111, \"#46039f\"], [0.2222222222222222, \"#7201a8\"], [0.3333333333333333, \"#9c179e\"], [0.4444444444444444, \"#bd3786\"], [0.5555555555555556, \"#d8576b\"], [0.6666666666666666, \"#ed7953\"], [0.7777777777777778, \"#fb9f3a\"], [0.8888888888888888, \"#fdca26\"], [1.0, \"#f0f921\"]], \"type\": \"histogram2dcontour\"}], \"mesh3d\": [{\"colorbar\": {\"outlinewidth\": 0, \"ticks\": \"\"}, \"type\": \"mesh3d\"}], \"parcoords\": [{\"line\": {\"colorbar\": {\"outlinewidth\": 0, \"ticks\": \"\"}}, \"type\": \"parcoords\"}], \"pie\": [{\"automargin\": true, \"type\": \"pie\"}], \"scatter\": [{\"marker\": {\"colorbar\": {\"outlinewidth\": 0, \"ticks\": \"\"}}, \"type\": \"scatter\"}], \"scatter3d\": [{\"line\": {\"colorbar\": {\"outlinewidth\": 0, \"ticks\": \"\"}}, \"marker\": {\"colorbar\": {\"outlinewidth\": 0, \"ticks\": \"\"}}, \"type\": \"scatter3d\"}], \"scattercarpet\": [{\"marker\": {\"colorbar\": {\"outlinewidth\": 0, \"ticks\": \"\"}}, \"type\": \"scattercarpet\"}], \"scattergeo\": [{\"marker\": {\"colorbar\": {\"outlinewidth\": 0, \"ticks\": \"\"}}, \"type\": \"scattergeo\"}], \"scattergl\": [{\"marker\": {\"colorbar\": {\"outlinewidth\": 0, \"ticks\": \"\"}}, \"type\": \"scattergl\"}], \"scattermapbox\": [{\"marker\": {\"colorbar\": {\"outlinewidth\": 0, \"ticks\": \"\"}}, \"type\": \"scattermapbox\"}], \"scatterpolar\": [{\"marker\": {\"colorbar\": {\"outlinewidth\": 0, \"ticks\": \"\"}}, \"type\": \"scatterpolar\"}], \"scatterpolargl\": [{\"marker\": {\"colorbar\": {\"outlinewidth\": 0, \"ticks\": \"\"}}, \"type\": \"scatterpolargl\"}], \"scatterternary\": [{\"marker\": {\"colorbar\": {\"outlinewidth\": 0, \"ticks\": \"\"}}, \"type\": \"scatterternary\"}], \"surface\": [{\"colorbar\": {\"outlinewidth\": 0, \"ticks\": \"\"}, \"colorscale\": [[0.0, \"#0d0887\"], [0.1111111111111111, \"#46039f\"], [0.2222222222222222, \"#7201a8\"], [0.3333333333333333, \"#9c179e\"], [0.4444444444444444, \"#bd3786\"], [0.5555555555555556, \"#d8576b\"], [0.6666666666666666, \"#ed7953\"], [0.7777777777777778, \"#fb9f3a\"], [0.8888888888888888, \"#fdca26\"], [1.0, \"#f0f921\"]], \"type\": \"surface\"}], \"table\": [{\"cells\": {\"fill\": {\"color\": \"#EBF0F8\"}, \"line\": {\"color\": \"white\"}}, \"header\": {\"fill\": {\"color\": \"#C8D4E3\"}, \"line\": {\"color\": \"white\"}}, \"type\": \"table\"}]}, \"layout\": {\"annotationdefaults\": {\"arrowcolor\": \"#2a3f5f\", \"arrowhead\": 0, \"arrowwidth\": 1}, \"coloraxis\": {\"colorbar\": {\"outlinewidth\": 0, \"ticks\": \"\"}}, \"colorscale\": {\"diverging\": [[0, \"#8e0152\"], [0.1, \"#c51b7d\"], [0.2, \"#de77ae\"], [0.3, \"#f1b6da\"], [0.4, \"#fde0ef\"], [0.5, \"#f7f7f7\"], [0.6, \"#e6f5d0\"], [0.7, \"#b8e186\"], [0.8, \"#7fbc41\"], [0.9, \"#4d9221\"], [1, \"#276419\"]], \"sequential\": [[0.0, \"#0d0887\"], [0.1111111111111111, \"#46039f\"], [0.2222222222222222, \"#7201a8\"], [0.3333333333333333, \"#9c179e\"], [0.4444444444444444, \"#bd3786\"], [0.5555555555555556, \"#d8576b\"], [0.6666666666666666, \"#ed7953\"], [0.7777777777777778, \"#fb9f3a\"], [0.8888888888888888, \"#fdca26\"], [1.0, \"#f0f921\"]], \"sequentialminus\": [[0.0, \"#0d0887\"], [0.1111111111111111, \"#46039f\"], [0.2222222222222222, \"#7201a8\"], [0.3333333333333333, \"#9c179e\"], [0.4444444444444444, \"#bd3786\"], [0.5555555555555556, \"#d8576b\"], [0.6666666666666666, \"#ed7953\"], [0.7777777777777778, \"#fb9f3a\"], [0.8888888888888888, \"#fdca26\"], [1.0, \"#f0f921\"]]}, \"colorway\": [\"#636efa\", \"#EF553B\", \"#00cc96\", \"#ab63fa\", \"#FFA15A\", \"#19d3f3\", \"#FF6692\", \"#B6E880\", \"#FF97FF\", \"#FECB52\"], \"font\": {\"color\": \"#2a3f5f\"}, \"geo\": {\"bgcolor\": \"white\", \"lakecolor\": \"white\", \"landcolor\": \"#E5ECF6\", \"showlakes\": true, \"showland\": true, \"subunitcolor\": \"white\"}, \"hoverlabel\": {\"align\": \"left\"}, \"hovermode\": \"closest\", \"mapbox\": {\"style\": \"light\"}, \"paper_bgcolor\": \"white\", \"plot_bgcolor\": \"#E5ECF6\", \"polar\": {\"angularaxis\": {\"gridcolor\": \"white\", \"linecolor\": \"white\", \"ticks\": \"\"}, \"bgcolor\": \"#E5ECF6\", \"radialaxis\": {\"gridcolor\": \"white\", \"linecolor\": \"white\", \"ticks\": \"\"}}, \"scene\": {\"xaxis\": {\"backgroundcolor\": \"#E5ECF6\", \"gridcolor\": \"white\", \"gridwidth\": 2, \"linecolor\": \"white\", \"showbackground\": true, \"ticks\": \"\", \"zerolinecolor\": \"white\"}, \"yaxis\": {\"backgroundcolor\": \"#E5ECF6\", \"gridcolor\": \"white\", \"gridwidth\": 2, \"linecolor\": \"white\", \"showbackground\": true, \"ticks\": \"\", \"zerolinecolor\": \"white\"}, \"zaxis\": {\"backgroundcolor\": \"#E5ECF6\", \"gridcolor\": \"white\", \"gridwidth\": 2, \"linecolor\": \"white\", \"showbackground\": true, \"ticks\": \"\", \"zerolinecolor\": \"white\"}}, \"shapedefaults\": {\"line\": {\"color\": \"#2a3f5f\"}}, \"ternary\": {\"aaxis\": {\"gridcolor\": \"white\", \"linecolor\": \"white\", \"ticks\": \"\"}, \"baxis\": {\"gridcolor\": \"white\", \"linecolor\": \"white\", \"ticks\": \"\"}, \"bgcolor\": \"#E5ECF6\", \"caxis\": {\"gridcolor\": \"white\", \"linecolor\": \"white\", \"ticks\": \"\"}}, \"title\": {\"x\": 0.05}, \"xaxis\": {\"automargin\": true, \"gridcolor\": \"white\", \"linecolor\": \"white\", \"ticks\": \"\", \"title\": {\"standoff\": 15}, \"zerolinecolor\": \"white\", \"zerolinewidth\": 2}, \"yaxis\": {\"automargin\": true, \"gridcolor\": \"white\", \"linecolor\": \"white\", \"ticks\": \"\", \"title\": {\"standoff\": 15}, \"zerolinecolor\": \"white\", \"zerolinewidth\": 2}}}},\n",
       "                        {\"responsive\": true}\n",
       "                    ).then(function(){\n",
       "                            \n",
       "var gd = document.getElementById('58297d3e-0d9e-4135-b422-fd8caec81e95');\n",
       "var x = new MutationObserver(function (mutations, observer) {{\n",
       "        var display = window.getComputedStyle(gd).display;\n",
       "        if (!display || display === 'none') {{\n",
       "            console.log([gd, 'removed!']);\n",
       "            Plotly.purge(gd);\n",
       "            observer.disconnect();\n",
       "        }}\n",
       "}});\n",
       "\n",
       "// Listen for the removal of the full notebook cells\n",
       "var notebookContainer = gd.closest('#notebook-container');\n",
       "if (notebookContainer) {{\n",
       "    x.observe(notebookContainer, {childList: true});\n",
       "}}\n",
       "\n",
       "// Listen for the clearing of the current output cell\n",
       "var outputEl = gd.closest('.output');\n",
       "if (outputEl) {{\n",
       "    x.observe(outputEl, {childList: true});\n",
       "}}\n",
       "\n",
       "                        })\n",
       "                };\n",
       "                });\n",
       "            </script>\n",
       "        </div>"
      ]
     },
     "metadata": {},
     "output_type": "display_data"
    }
   ],
   "source": [
    "countries = [ 'Canada', 'Bangladesh', 'India','United Kingdom', 'United States of America', 'Somalia', 'Sri Lanka']\n",
    "\n",
    "Specific_country_df = cumulative_df.loc[cumulative_df['country'].isin(countries)]\n",
    "\n",
    "Specific_country_df = Specific_country_df[['country', '% of Depressed People', '% of Internet Users']]\n",
    "\n",
    "countries = [ 'Bangladesh', 'Canada', 'India','Somalia', 'Sri Lanka','United Kingdom', 'United States of America']\n",
    "\n",
    "fig = go.Figure(data=[\n",
    "    go.Bar(name='% of Depressed People', x=countries, y=[36.60, 39.29, 34.12 , 29.41, 37.08, 43.87, 47.77]),\n",
    "    go.Bar(name='% of Internet Users', x=countries, y=[15.00, 91.00,34.45, 2.00, 34.11, 94.62, 87.27])\n",
    "])\n",
    "# Change the bar mode\n",
    "fig.update_layout(barmode='group')\n",
    "fig.show()"
   ]
  },
  {
   "cell_type": "markdown",
   "metadata": {},
   "source": [
    "# Hypothesis 1.3"
   ]
  },
  {
   "cell_type": "code",
   "execution_count": 112,
   "metadata": {},
   "outputs": [],
   "source": [
    "country_GDP = country_profiles[['country','GDP per capita (current US$)','Population in thousands (2017)']]"
   ]
  },
  {
   "cell_type": "code",
   "execution_count": 113,
   "metadata": {},
   "outputs": [
    {
     "data": {
      "text/html": [
       "<div>\n",
       "<style scoped>\n",
       "    .dataframe tbody tr th:only-of-type {\n",
       "        vertical-align: middle;\n",
       "    }\n",
       "\n",
       "    .dataframe tbody tr th {\n",
       "        vertical-align: top;\n",
       "    }\n",
       "\n",
       "    .dataframe thead th {\n",
       "        text-align: right;\n",
       "    }\n",
       "</style>\n",
       "<table border=\"1\" class=\"dataframe\">\n",
       "  <thead>\n",
       "    <tr style=\"text-align: right;\">\n",
       "      <th></th>\n",
       "      <th>country</th>\n",
       "      <th>GDP per capita (current US$)</th>\n",
       "      <th>Population in thousands (2017)</th>\n",
       "    </tr>\n",
       "  </thead>\n",
       "  <tbody>\n",
       "    <tr>\n",
       "      <td>0</td>\n",
       "      <td>Afghanistan</td>\n",
       "      <td>623.2</td>\n",
       "      <td>35530</td>\n",
       "    </tr>\n",
       "    <tr>\n",
       "      <td>1</td>\n",
       "      <td>Albania</td>\n",
       "      <td>3984.2</td>\n",
       "      <td>2930</td>\n",
       "    </tr>\n",
       "    <tr>\n",
       "      <td>2</td>\n",
       "      <td>Algeria</td>\n",
       "      <td>4154.1</td>\n",
       "      <td>41318</td>\n",
       "    </tr>\n",
       "    <tr>\n",
       "      <td>3</td>\n",
       "      <td>American Samoa</td>\n",
       "      <td>-99.0</td>\n",
       "      <td>56</td>\n",
       "    </tr>\n",
       "    <tr>\n",
       "      <td>4</td>\n",
       "      <td>Andorra</td>\n",
       "      <td>39896.4</td>\n",
       "      <td>77</td>\n",
       "    </tr>\n",
       "    <tr>\n",
       "      <td>...</td>\n",
       "      <td>...</td>\n",
       "      <td>...</td>\n",
       "      <td>...</td>\n",
       "    </tr>\n",
       "    <tr>\n",
       "      <td>224</td>\n",
       "      <td>Wallis and Futuna Islands</td>\n",
       "      <td>-99.0</td>\n",
       "      <td>12</td>\n",
       "    </tr>\n",
       "    <tr>\n",
       "      <td>225</td>\n",
       "      <td>Western Sahara</td>\n",
       "      <td>-99.0</td>\n",
       "      <td>553</td>\n",
       "    </tr>\n",
       "    <tr>\n",
       "      <td>226</td>\n",
       "      <td>Yemen</td>\n",
       "      <td>1106.4</td>\n",
       "      <td>28250</td>\n",
       "    </tr>\n",
       "    <tr>\n",
       "      <td>227</td>\n",
       "      <td>Zambia</td>\n",
       "      <td>1311.1</td>\n",
       "      <td>17094</td>\n",
       "    </tr>\n",
       "    <tr>\n",
       "      <td>228</td>\n",
       "      <td>Zimbabwe</td>\n",
       "      <td>890.4</td>\n",
       "      <td>16530</td>\n",
       "    </tr>\n",
       "  </tbody>\n",
       "</table>\n",
       "<p>229 rows × 3 columns</p>\n",
       "</div>"
      ],
      "text/plain": [
       "                       country  GDP per capita (current US$)  \\\n",
       "0                  Afghanistan                         623.2   \n",
       "1                      Albania                        3984.2   \n",
       "2                      Algeria                        4154.1   \n",
       "3               American Samoa                         -99.0   \n",
       "4                      Andorra                       39896.4   \n",
       "..                         ...                           ...   \n",
       "224  Wallis and Futuna Islands                         -99.0   \n",
       "225             Western Sahara                         -99.0   \n",
       "226                      Yemen                        1106.4   \n",
       "227                     Zambia                        1311.1   \n",
       "228                   Zimbabwe                         890.4   \n",
       "\n",
       "     Population in thousands (2017)  \n",
       "0                             35530  \n",
       "1                              2930  \n",
       "2                             41318  \n",
       "3                                56  \n",
       "4                                77  \n",
       "..                              ...  \n",
       "224                              12  \n",
       "225                             553  \n",
       "226                           28250  \n",
       "227                           17094  \n",
       "228                           16530  \n",
       "\n",
       "[229 rows x 3 columns]"
      ]
     },
     "execution_count": 113,
     "metadata": {},
     "output_type": "execute_result"
    }
   ],
   "source": [
    "country_GDP"
   ]
  },
  {
   "cell_type": "code",
   "execution_count": 114,
   "metadata": {},
   "outputs": [],
   "source": [
    "sum_int_users = internet_users.iloc[:,1:].sum(axis=1)"
   ]
  },
  {
   "cell_type": "code",
   "execution_count": 115,
   "metadata": {},
   "outputs": [],
   "source": [
    "average_int_usage = sum_int_users.div(11)"
   ]
  },
  {
   "cell_type": "code",
   "execution_count": 116,
   "metadata": {},
   "outputs": [
    {
     "data": {
      "text/plain": [
       "120     5.594427\n",
       "72     43.052488\n",
       "59     26.577447\n",
       "136    70.262466\n",
       "137     6.589772\n",
       "         ...    \n",
       "196    40.950243\n",
       "49     38.318528\n",
       "197    14.887779\n",
       "70     12.110691\n",
       "135    12.216770\n",
       "Length: 198, dtype: float64"
      ]
     },
     "execution_count": 116,
     "metadata": {},
     "output_type": "execute_result"
    }
   ],
   "source": [
    "average_int_usage"
   ]
  },
  {
   "cell_type": "code",
   "execution_count": 117,
   "metadata": {},
   "outputs": [],
   "source": [
    "location = internet_users[\"Location\"]"
   ]
  },
  {
   "cell_type": "code",
   "execution_count": 118,
   "metadata": {},
   "outputs": [
    {
     "data": {
      "text/plain": [
       "120                           Afghanistan\n",
       "72                                Albania\n",
       "59                                Algeria\n",
       "136                               Andorra\n",
       "137                                Angola\n",
       "                      ...                \n",
       "196    Venezuela (Bolivarian Republic of)\n",
       "49                               Viet Nam\n",
       "197                                 Yemen\n",
       "70                                 Zambia\n",
       "135                              Zimbabwe\n",
       "Name: Location, Length: 198, dtype: object"
      ]
     },
     "execution_count": 118,
     "metadata": {},
     "output_type": "execute_result"
    }
   ],
   "source": [
    "location"
   ]
  },
  {
   "cell_type": "code",
   "execution_count": 119,
   "metadata": {},
   "outputs": [],
   "source": [
    "insights2= pd.concat([location, average_int_usage], axis=1)"
   ]
  },
  {
   "cell_type": "code",
   "execution_count": 120,
   "metadata": {},
   "outputs": [],
   "source": [
    "insights2.columns = [\"Country\",\"Average Internet usage over the years\"]"
   ]
  },
  {
   "cell_type": "code",
   "execution_count": 121,
   "metadata": {},
   "outputs": [
    {
     "data": {
      "text/html": [
       "<div>\n",
       "<style scoped>\n",
       "    .dataframe tbody tr th:only-of-type {\n",
       "        vertical-align: middle;\n",
       "    }\n",
       "\n",
       "    .dataframe tbody tr th {\n",
       "        vertical-align: top;\n",
       "    }\n",
       "\n",
       "    .dataframe thead th {\n",
       "        text-align: right;\n",
       "    }\n",
       "</style>\n",
       "<table border=\"1\" class=\"dataframe\">\n",
       "  <thead>\n",
       "    <tr style=\"text-align: right;\">\n",
       "      <th></th>\n",
       "      <th>Country</th>\n",
       "      <th>Average Internet usage over the years</th>\n",
       "    </tr>\n",
       "  </thead>\n",
       "  <tbody>\n",
       "    <tr>\n",
       "      <td>120</td>\n",
       "      <td>Afghanistan</td>\n",
       "      <td>5.594427</td>\n",
       "    </tr>\n",
       "    <tr>\n",
       "      <td>72</td>\n",
       "      <td>Albania</td>\n",
       "      <td>43.052488</td>\n",
       "    </tr>\n",
       "    <tr>\n",
       "      <td>59</td>\n",
       "      <td>Algeria</td>\n",
       "      <td>26.577447</td>\n",
       "    </tr>\n",
       "    <tr>\n",
       "      <td>136</td>\n",
       "      <td>Andorra</td>\n",
       "      <td>70.262466</td>\n",
       "    </tr>\n",
       "    <tr>\n",
       "      <td>137</td>\n",
       "      <td>Angola</td>\n",
       "      <td>6.589772</td>\n",
       "    </tr>\n",
       "    <tr>\n",
       "      <td>...</td>\n",
       "      <td>...</td>\n",
       "      <td>...</td>\n",
       "    </tr>\n",
       "    <tr>\n",
       "      <td>196</td>\n",
       "      <td>Venezuela (Bolivarian Republic of)</td>\n",
       "      <td>40.950243</td>\n",
       "    </tr>\n",
       "    <tr>\n",
       "      <td>49</td>\n",
       "      <td>Viet Nam</td>\n",
       "      <td>38.318528</td>\n",
       "    </tr>\n",
       "    <tr>\n",
       "      <td>197</td>\n",
       "      <td>Yemen</td>\n",
       "      <td>14.887779</td>\n",
       "    </tr>\n",
       "    <tr>\n",
       "      <td>70</td>\n",
       "      <td>Zambia</td>\n",
       "      <td>12.110691</td>\n",
       "    </tr>\n",
       "    <tr>\n",
       "      <td>135</td>\n",
       "      <td>Zimbabwe</td>\n",
       "      <td>12.216770</td>\n",
       "    </tr>\n",
       "  </tbody>\n",
       "</table>\n",
       "<p>198 rows × 2 columns</p>\n",
       "</div>"
      ],
      "text/plain": [
       "                                Country  Average Internet usage over the years\n",
       "120                         Afghanistan                               5.594427\n",
       "72                              Albania                              43.052488\n",
       "59                              Algeria                              26.577447\n",
       "136                             Andorra                              70.262466\n",
       "137                              Angola                               6.589772\n",
       "..                                  ...                                    ...\n",
       "196  Venezuela (Bolivarian Republic of)                              40.950243\n",
       "49                             Viet Nam                              38.318528\n",
       "197                               Yemen                              14.887779\n",
       "70                               Zambia                              12.110691\n",
       "135                            Zimbabwe                              12.216770\n",
       "\n",
       "[198 rows x 2 columns]"
      ]
     },
     "execution_count": 121,
     "metadata": {},
     "output_type": "execute_result"
    }
   ],
   "source": [
    "insights2"
   ]
  },
  {
   "cell_type": "code",
   "execution_count": 122,
   "metadata": {},
   "outputs": [],
   "source": [
    "GDP_vs_int_usage = insights2.merge(country_GDP,left_on=\"Country\",right_on=\"country\",how=\"left\")"
   ]
  },
  {
   "cell_type": "code",
   "execution_count": 123,
   "metadata": {},
   "outputs": [
    {
     "data": {
      "text/html": [
       "<div>\n",
       "<style scoped>\n",
       "    .dataframe tbody tr th:only-of-type {\n",
       "        vertical-align: middle;\n",
       "    }\n",
       "\n",
       "    .dataframe tbody tr th {\n",
       "        vertical-align: top;\n",
       "    }\n",
       "\n",
       "    .dataframe thead th {\n",
       "        text-align: right;\n",
       "    }\n",
       "</style>\n",
       "<table border=\"1\" class=\"dataframe\">\n",
       "  <thead>\n",
       "    <tr style=\"text-align: right;\">\n",
       "      <th></th>\n",
       "      <th>Country</th>\n",
       "      <th>Average Internet usage over the years</th>\n",
       "      <th>country</th>\n",
       "      <th>GDP per capita (current US$)</th>\n",
       "      <th>Population in thousands (2017)</th>\n",
       "    </tr>\n",
       "  </thead>\n",
       "  <tbody>\n",
       "    <tr>\n",
       "      <td>0</td>\n",
       "      <td>Afghanistan</td>\n",
       "      <td>5.594427</td>\n",
       "      <td>Afghanistan</td>\n",
       "      <td>623.2</td>\n",
       "      <td>35530.0</td>\n",
       "    </tr>\n",
       "    <tr>\n",
       "      <td>1</td>\n",
       "      <td>Albania</td>\n",
       "      <td>43.052488</td>\n",
       "      <td>Albania</td>\n",
       "      <td>3984.2</td>\n",
       "      <td>2930.0</td>\n",
       "    </tr>\n",
       "    <tr>\n",
       "      <td>2</td>\n",
       "      <td>Algeria</td>\n",
       "      <td>26.577447</td>\n",
       "      <td>Algeria</td>\n",
       "      <td>4154.1</td>\n",
       "      <td>41318.0</td>\n",
       "    </tr>\n",
       "    <tr>\n",
       "      <td>3</td>\n",
       "      <td>Andorra</td>\n",
       "      <td>70.262466</td>\n",
       "      <td>Andorra</td>\n",
       "      <td>39896.4</td>\n",
       "      <td>77.0</td>\n",
       "    </tr>\n",
       "    <tr>\n",
       "      <td>4</td>\n",
       "      <td>Angola</td>\n",
       "      <td>6.589772</td>\n",
       "      <td>Angola</td>\n",
       "      <td>4714.1</td>\n",
       "      <td>29784.0</td>\n",
       "    </tr>\n",
       "    <tr>\n",
       "      <td>...</td>\n",
       "      <td>...</td>\n",
       "      <td>...</td>\n",
       "      <td>...</td>\n",
       "      <td>...</td>\n",
       "      <td>...</td>\n",
       "    </tr>\n",
       "    <tr>\n",
       "      <td>193</td>\n",
       "      <td>Venezuela (Bolivarian Republic of)</td>\n",
       "      <td>40.950243</td>\n",
       "      <td>Venezuela (Bolivarian Republic of)</td>\n",
       "      <td>11068.9</td>\n",
       "      <td>31977.0</td>\n",
       "    </tr>\n",
       "    <tr>\n",
       "      <td>194</td>\n",
       "      <td>Viet Nam</td>\n",
       "      <td>38.318528</td>\n",
       "      <td>Viet Nam</td>\n",
       "      <td>2067.9</td>\n",
       "      <td>95541.0</td>\n",
       "    </tr>\n",
       "    <tr>\n",
       "      <td>195</td>\n",
       "      <td>Yemen</td>\n",
       "      <td>14.887779</td>\n",
       "      <td>Yemen</td>\n",
       "      <td>1106.4</td>\n",
       "      <td>28250.0</td>\n",
       "    </tr>\n",
       "    <tr>\n",
       "      <td>196</td>\n",
       "      <td>Zambia</td>\n",
       "      <td>12.110691</td>\n",
       "      <td>Zambia</td>\n",
       "      <td>1311.1</td>\n",
       "      <td>17094.0</td>\n",
       "    </tr>\n",
       "    <tr>\n",
       "      <td>197</td>\n",
       "      <td>Zimbabwe</td>\n",
       "      <td>12.216770</td>\n",
       "      <td>Zimbabwe</td>\n",
       "      <td>890.4</td>\n",
       "      <td>16530.0</td>\n",
       "    </tr>\n",
       "  </tbody>\n",
       "</table>\n",
       "<p>198 rows × 5 columns</p>\n",
       "</div>"
      ],
      "text/plain": [
       "                                Country  \\\n",
       "0                           Afghanistan   \n",
       "1                               Albania   \n",
       "2                               Algeria   \n",
       "3                               Andorra   \n",
       "4                                Angola   \n",
       "..                                  ...   \n",
       "193  Venezuela (Bolivarian Republic of)   \n",
       "194                            Viet Nam   \n",
       "195                               Yemen   \n",
       "196                              Zambia   \n",
       "197                            Zimbabwe   \n",
       "\n",
       "     Average Internet usage over the years  \\\n",
       "0                                 5.594427   \n",
       "1                                43.052488   \n",
       "2                                26.577447   \n",
       "3                                70.262466   \n",
       "4                                 6.589772   \n",
       "..                                     ...   \n",
       "193                              40.950243   \n",
       "194                              38.318528   \n",
       "195                              14.887779   \n",
       "196                              12.110691   \n",
       "197                              12.216770   \n",
       "\n",
       "                                country  GDP per capita (current US$)  \\\n",
       "0                           Afghanistan                         623.2   \n",
       "1                               Albania                        3984.2   \n",
       "2                               Algeria                        4154.1   \n",
       "3                               Andorra                       39896.4   \n",
       "4                                Angola                        4714.1   \n",
       "..                                  ...                           ...   \n",
       "193  Venezuela (Bolivarian Republic of)                       11068.9   \n",
       "194                            Viet Nam                        2067.9   \n",
       "195                               Yemen                        1106.4   \n",
       "196                              Zambia                        1311.1   \n",
       "197                            Zimbabwe                         890.4   \n",
       "\n",
       "     Population in thousands (2017)  \n",
       "0                           35530.0  \n",
       "1                            2930.0  \n",
       "2                           41318.0  \n",
       "3                              77.0  \n",
       "4                           29784.0  \n",
       "..                              ...  \n",
       "193                         31977.0  \n",
       "194                         95541.0  \n",
       "195                         28250.0  \n",
       "196                         17094.0  \n",
       "197                         16530.0  \n",
       "\n",
       "[198 rows x 5 columns]"
      ]
     },
     "execution_count": 123,
     "metadata": {},
     "output_type": "execute_result"
    }
   ],
   "source": [
    "GDP_vs_int_usage"
   ]
  },
  {
   "cell_type": "code",
   "execution_count": 124,
   "metadata": {},
   "outputs": [],
   "source": [
    "#Let's make a plot of GDP vs Average internet Usage\n",
    "#reference for plotly : https://plotly.com/python/bubble-charts/"
   ]
  },
  {
   "cell_type": "code",
   "execution_count": 125,
   "metadata": {},
   "outputs": [
    {
     "data": {
      "application/vnd.plotly.v1+json": {
       "config": {
        "plotlyServerURL": "https://plot.ly"
       },
       "data": [
        {
         "hovertemplate": "<b>%{hovertext}</b><br><br>Country=Afghanistan<br>GDP per capita (current US$)=%{x}<br>Average Internet usage over the years=%{marker.size}<extra></extra>",
         "hovertext": [
          "Afghanistan"
         ],
         "legendgroup": "Afghanistan",
         "marker": {
          "color": "#636efa",
          "size": [
           5.594426685297288
          ],
          "sizemode": "area",
          "sizeref": 0.025361307840186014,
          "symbol": "circle"
         },
         "mode": "markers",
         "name": "Afghanistan",
         "showlegend": true,
         "type": "scatter",
         "x": [
          623.2
         ],
         "xaxis": "x",
         "y": [
          5.594426685297288
         ],
         "yaxis": "y"
        },
        {
         "hovertemplate": "<b>%{hovertext}</b><br><br>Country=Albania<br>GDP per capita (current US$)=%{x}<br>Average Internet usage over the years=%{marker.size}<extra></extra>",
         "hovertext": [
          "Albania"
         ],
         "legendgroup": "Albania",
         "marker": {
          "color": "#EF553B",
          "size": [
           43.05248774117164
          ],
          "sizemode": "area",
          "sizeref": 0.025361307840186014,
          "symbol": "circle"
         },
         "mode": "markers",
         "name": "Albania",
         "showlegend": true,
         "type": "scatter",
         "x": [
          3984.2
         ],
         "xaxis": "x",
         "y": [
          43.05248774117164
         ],
         "yaxis": "y"
        },
        {
         "hovertemplate": "<b>%{hovertext}</b><br><br>Country=Algeria<br>GDP per capita (current US$)=%{x}<br>Average Internet usage over the years=%{marker.size}<extra></extra>",
         "hovertext": [
          "Algeria"
         ],
         "legendgroup": "Algeria",
         "marker": {
          "color": "#00cc96",
          "size": [
           26.577446778483168
          ],
          "sizemode": "area",
          "sizeref": 0.025361307840186014,
          "symbol": "circle"
         },
         "mode": "markers",
         "name": "Algeria",
         "showlegend": true,
         "type": "scatter",
         "x": [
          4154.1
         ],
         "xaxis": "x",
         "y": [
          26.577446778483168
         ],
         "yaxis": "y"
        },
        {
         "hovertemplate": "<b>%{hovertext}</b><br><br>Country=Andorra<br>GDP per capita (current US$)=%{x}<br>Average Internet usage over the years=%{marker.size}<extra></extra>",
         "hovertext": [
          "Andorra"
         ],
         "legendgroup": "Andorra",
         "marker": {
          "color": "#ab63fa",
          "size": [
           70.26246641752975
          ],
          "sizemode": "area",
          "sizeref": 0.025361307840186014,
          "symbol": "circle"
         },
         "mode": "markers",
         "name": "Andorra",
         "showlegend": true,
         "type": "scatter",
         "x": [
          39896.4
         ],
         "xaxis": "x",
         "y": [
          70.26246641752975
         ],
         "yaxis": "y"
        },
        {
         "hovertemplate": "<b>%{hovertext}</b><br><br>Country=Angola<br>GDP per capita (current US$)=%{x}<br>Average Internet usage over the years=%{marker.size}<extra></extra>",
         "hovertext": [
          "Angola"
         ],
         "legendgroup": "Angola",
         "marker": {
          "color": "#FFA15A",
          "size": [
           6.589771977581924
          ],
          "sizemode": "area",
          "sizeref": 0.025361307840186014,
          "symbol": "circle"
         },
         "mode": "markers",
         "name": "Angola",
         "showlegend": true,
         "type": "scatter",
         "x": [
          4714.1
         ],
         "xaxis": "x",
         "y": [
          6.589771977581924
         ],
         "yaxis": "y"
        },
        {
         "hovertemplate": "<b>%{hovertext}</b><br><br>Country=Antigua and Barbuda<br>GDP per capita (current US$)=%{x}<br>Average Internet usage over the years=%{marker.size}<extra></extra>",
         "hovertext": [
          "Antigua and Barbuda"
         ],
         "legendgroup": "Antigua and Barbuda",
         "marker": {
          "color": "#19d3f3",
          "size": [
           49.151111430639006
          ],
          "sizemode": "area",
          "sizeref": 0.025361307840186014,
          "symbol": "circle"
         },
         "mode": "markers",
         "name": "Antigua and Barbuda",
         "showlegend": true,
         "type": "scatter",
         "x": [
          14764.5
         ],
         "xaxis": "x",
         "y": [
          49.151111430639006
         ],
         "yaxis": "y"
        },
        {
         "hovertemplate": "<b>%{hovertext}</b><br><br>Country=Argentina<br>GDP per capita (current US$)=%{x}<br>Average Internet usage over the years=%{marker.size}<extra></extra>",
         "hovertext": [
          "Argentina"
         ],
         "legendgroup": "Argentina",
         "marker": {
          "color": "#FF6692",
          "size": [
           46.76965620496696
          ],
          "sizemode": "area",
          "sizeref": 0.025361307840186014,
          "symbol": "circle"
         },
         "mode": "markers",
         "name": "Argentina",
         "showlegend": true,
         "type": "scatter",
         "x": [
          14564.5
         ],
         "xaxis": "x",
         "y": [
          46.76965620496696
         ],
         "yaxis": "y"
        },
        {
         "hovertemplate": "<b>%{hovertext}</b><br><br>Country=Armenia<br>GDP per capita (current US$)=%{x}<br>Average Internet usage over the years=%{marker.size}<extra></extra>",
         "hovertext": [
          "Armenia"
         ],
         "legendgroup": "Armenia",
         "marker": {
          "color": "#B6E880",
          "size": [
           35.06995918569305
          ],
          "sizemode": "area",
          "sizeref": 0.025361307840186014,
          "symbol": "circle"
         },
         "mode": "markers",
         "name": "Armenia",
         "showlegend": true,
         "type": "scatter",
         "x": [
          3489.1
         ],
         "xaxis": "x",
         "y": [
          35.06995918569305
         ],
         "yaxis": "y"
        },
        {
         "hovertemplate": "<b>%{hovertext}</b><br><br>Country=Australia<br>GDP per capita (current US$)=%{x}<br>Average Internet usage over the years=%{marker.size}<extra></extra>",
         "hovertext": [
          "Australia"
         ],
         "legendgroup": "Australia",
         "marker": {
          "color": "#FF97FF",
          "size": [
           69.94026169908871
          ],
          "sizemode": "area",
          "sizeref": 0.025361307840186014,
          "symbol": "circle"
         },
         "mode": "markers",
         "name": "Australia",
         "showlegend": true,
         "type": "scatter",
         "x": [
          51352.2
         ],
         "xaxis": "x",
         "y": [
          69.94026169908871
         ],
         "yaxis": "y"
        },
        {
         "hovertemplate": "<b>%{hovertext}</b><br><br>Country=Austria<br>GDP per capita (current US$)=%{x}<br>Average Internet usage over the years=%{marker.size}<extra></extra>",
         "hovertext": [
          "Austria"
         ],
         "legendgroup": "Austria",
         "marker": {
          "color": "#FECB52",
          "size": [
           75.56315281508286
          ],
          "sizemode": "area",
          "sizeref": 0.025361307840186014,
          "symbol": "circle"
         },
         "mode": "markers",
         "name": "Austria",
         "showlegend": true,
         "type": "scatter",
         "x": [
          44117.7
         ],
         "xaxis": "x",
         "y": [
          75.56315281508286
         ],
         "yaxis": "y"
        },
        {
         "hovertemplate": "<b>%{hovertext}</b><br><br>Country=Azerbaijan<br>GDP per capita (current US$)=%{x}<br>Average Internet usage over the years=%{marker.size}<extra></extra>",
         "hovertext": [
          "Azerbaijan"
         ],
         "legendgroup": "Azerbaijan",
         "marker": {
          "color": "#636efa",
          "size": [
           56.39801322081063
          ],
          "sizemode": "area",
          "sizeref": 0.025361307840186014,
          "symbol": "circle"
         },
         "mode": "markers",
         "name": "Azerbaijan",
         "showlegend": true,
         "type": "scatter",
         "x": [
          5438.7
         ],
         "xaxis": "x",
         "y": [
          56.39801322081063
         ],
         "yaxis": "y"
        },
        {
         "hovertemplate": "<b>%{hovertext}</b><br><br>Country=Bahamas<br>GDP per capita (current US$)=%{x}<br>Average Internet usage over the years=%{marker.size}<extra></extra>",
         "hovertext": [
          "Bahamas"
         ],
         "legendgroup": "Bahamas",
         "marker": {
          "color": "#EF553B",
          "size": [
           54.96983661951785
          ],
          "sizemode": "area",
          "sizeref": 0.025361307840186014,
          "symbol": "circle"
         },
         "mode": "markers",
         "name": "Bahamas",
         "showlegend": true,
         "type": "scatter",
         "x": [
          22817.2
         ],
         "xaxis": "x",
         "y": [
          54.96983661951785
         ],
         "yaxis": "y"
        },
        {
         "hovertemplate": "<b>%{hovertext}</b><br><br>Country=Bahrain<br>GDP per capita (current US$)=%{x}<br>Average Internet usage over the years=%{marker.size}<extra></extra>",
         "hovertext": [
          "Bahrain"
         ],
         "legendgroup": "Bahrain",
         "marker": {
          "color": "#00cc96",
          "size": [
           73.99640475804235
          ],
          "sizemode": "area",
          "sizeref": 0.025361307840186014,
          "symbol": "circle"
         },
         "mode": "markers",
         "name": "Bahrain",
         "showlegend": true,
         "type": "scatter",
         "x": [
          22600.2
         ],
         "xaxis": "x",
         "y": [
          73.99640475804235
         ],
         "yaxis": "y"
        },
        {
         "hovertemplate": "<b>%{hovertext}</b><br><br>Country=Bangladesh<br>GDP per capita (current US$)=%{x}<br>Average Internet usage over the years=%{marker.size}<extra></extra>",
         "hovertext": [
          "Bangladesh"
         ],
         "legendgroup": "Bangladesh",
         "marker": {
          "color": "#ab63fa",
          "size": [
           7.405697886244315
          ],
          "sizemode": "area",
          "sizeref": 0.025361307840186014,
          "symbol": "circle"
         },
         "mode": "markers",
         "name": "Bangladesh",
         "showlegend": true,
         "type": "scatter",
         "x": [
          1207.9
         ],
         "xaxis": "x",
         "y": [
          7.405697886244315
         ],
         "yaxis": "y"
        },
        {
         "hovertemplate": "<b>%{hovertext}</b><br><br>Country=Barbados<br>GDP per capita (current US$)=%{x}<br>Average Internet usage over the years=%{marker.size}<extra></extra>",
         "hovertext": [
          "Barbados"
         ],
         "legendgroup": "Barbados",
         "marker": {
          "color": "#FFA15A",
          "size": [
           58.513986785141874
          ],
          "sizemode": "area",
          "sizeref": 0.025361307840186014,
          "symbol": "circle"
         },
         "mode": "markers",
         "name": "Barbados",
         "showlegend": true,
         "type": "scatter",
         "x": [
          15429.4
         ],
         "xaxis": "x",
         "y": [
          58.513986785141874
         ],
         "yaxis": "y"
        },
        {
         "hovertemplate": "<b>%{hovertext}</b><br><br>Country=Belarus<br>GDP per capita (current US$)=%{x}<br>Average Internet usage over the years=%{marker.size}<extra></extra>",
         "hovertext": [
          "Belarus"
         ],
         "legendgroup": "Belarus",
         "marker": {
          "color": "#19d3f3",
          "size": [
           47.301730232253064
          ],
          "sizemode": "area",
          "sizeref": 0.025361307840186014,
          "symbol": "circle"
         },
         "mode": "markers",
         "name": "Belarus",
         "showlegend": true,
         "type": "scatter",
         "x": [
          5750.8
         ],
         "xaxis": "x",
         "y": [
          47.301730232253064
         ],
         "yaxis": "y"
        },
        {
         "hovertemplate": "<b>%{hovertext}</b><br><br>Country=Belgium<br>GDP per capita (current US$)=%{x}<br>Average Internet usage over the years=%{marker.size}<extra></extra>",
         "hovertext": [
          "Belgium"
         ],
         "legendgroup": "Belgium",
         "marker": {
          "color": "#FF6692",
          "size": [
           76.15054545377865
          ],
          "sizemode": "area",
          "sizeref": 0.025361307840186014,
          "symbol": "circle"
         },
         "mode": "markers",
         "name": "Belgium",
         "showlegend": true,
         "type": "scatter",
         "x": [
          40277.8
         ],
         "xaxis": "x",
         "y": [
          76.15054545377865
         ],
         "yaxis": "y"
        },
        {
         "hovertemplate": "<b>%{hovertext}</b><br><br>Country=Belize<br>GDP per capita (current US$)=%{x}<br>Average Internet usage over the years=%{marker.size}<extra></extra>",
         "hovertext": [
          "Belize"
         ],
         "legendgroup": "Belize",
         "marker": {
          "color": "#B6E880",
          "size": [
           28.94656376601779
          ],
          "sizemode": "area",
          "sizeref": 0.025361307840186014,
          "symbol": "circle"
         },
         "mode": "markers",
         "name": "Belize",
         "showlegend": true,
         "type": "scatter",
         "x": [
          4789.4
         ],
         "xaxis": "x",
         "y": [
          28.94656376601779
         ],
         "yaxis": "y"
        },
        {
         "hovertemplate": "<b>%{hovertext}</b><br><br>Country=Benin<br>GDP per capita (current US$)=%{x}<br>Average Internet usage over the years=%{marker.size}<extra></extra>",
         "hovertext": [
          "Benin"
         ],
         "legendgroup": "Benin",
         "marker": {
          "color": "#FF97FF",
          "size": [
           6.129421652181342
          ],
          "sizemode": "area",
          "sizeref": 0.025361307840186014,
          "symbol": "circle"
         },
         "mode": "markers",
         "name": "Benin",
         "showlegend": true,
         "type": "scatter",
         "x": [
          779.1
         ],
         "xaxis": "x",
         "y": [
          6.129421652181342
         ],
         "yaxis": "y"
        },
        {
         "hovertemplate": "<b>%{hovertext}</b><br><br>Country=Bhutan<br>GDP per capita (current US$)=%{x}<br>Average Internet usage over the years=%{marker.size}<extra></extra>",
         "hovertext": [
          "Bhutan"
         ],
         "legendgroup": "Bhutan",
         "marker": {
          "color": "#FECB52",
          "size": [
           20.929737418313223
          ],
          "sizemode": "area",
          "sizeref": 0.025361307840186014,
          "symbol": "circle"
         },
         "mode": "markers",
         "name": "Bhutan",
         "showlegend": true,
         "type": "scatter",
         "x": [
          2677.1
         ],
         "xaxis": "x",
         "y": [
          20.929737418313223
         ],
         "yaxis": "y"
        },
        {
         "hovertemplate": "<b>%{hovertext}</b><br><br>Country=Bolivia (Plurinational State of)<br>GDP per capita (current US$)=%{x}<br>Average Internet usage over the years=%{marker.size}<extra></extra>",
         "hovertext": [
          "Bolivia (Plurinational State of)"
         ],
         "legendgroup": "Bolivia (Plurinational State of)",
         "marker": {
          "color": "#636efa",
          "size": [
           25.917491714741633
          ],
          "sizemode": "area",
          "sizeref": 0.025361307840186014,
          "symbol": "circle"
         },
         "mode": "markers",
         "name": "Bolivia (Plurinational State of)",
         "showlegend": true,
         "type": "scatter",
         "x": [
          3076.8
         ],
         "xaxis": "x",
         "y": [
          25.917491714741633
         ],
         "yaxis": "y"
        },
        {
         "hovertemplate": "<b>%{hovertext}</b><br><br>Country=Bosnia and Herzegovina<br>GDP per capita (current US$)=%{x}<br>Average Internet usage over the years=%{marker.size}<extra></extra>",
         "hovertext": [
          "Bosnia and Herzegovina"
         ],
         "legendgroup": "Bosnia and Herzegovina",
         "marker": {
          "color": "#EF553B",
          "size": [
           45.49268573355297
          ],
          "sizemode": "area",
          "sizeref": 0.025361307840186014,
          "symbol": "circle"
         },
         "mode": "markers",
         "name": "Bosnia and Herzegovina",
         "showlegend": true,
         "type": "scatter",
         "x": [
          4265
         ],
         "xaxis": "x",
         "y": [
          45.49268573355297
         ],
         "yaxis": "y"
        },
        {
         "hovertemplate": "<b>%{hovertext}</b><br><br>Country=Botswana<br>GDP per capita (current US$)=%{x}<br>Average Internet usage over the years=%{marker.size}<extra></extra>",
         "hovertext": [
          "Botswana"
         ],
         "legendgroup": "Botswana",
         "marker": {
          "color": "#00cc96",
          "size": [
           20.689546895943735
          ],
          "sizemode": "area",
          "sizeref": 0.025361307840186014,
          "symbol": "circle"
         },
         "mode": "markers",
         "name": "Botswana",
         "showlegend": true,
         "type": "scatter",
         "x": [
          6360.6
         ],
         "xaxis": "x",
         "y": [
          20.689546895943735
         ],
         "yaxis": "y"
        },
        {
         "hovertemplate": "<b>%{hovertext}</b><br><br>Country=Brazil<br>GDP per capita (current US$)=%{x}<br>Average Internet usage over the years=%{marker.size}<extra></extra>",
         "hovertext": [
          "Brazil"
         ],
         "legendgroup": "Brazil",
         "marker": {
          "color": "#ab63fa",
          "size": [
           41.00511005555452
          ],
          "sizemode": "area",
          "sizeref": 0.025361307840186014,
          "symbol": "circle"
         },
         "mode": "markers",
         "name": "Brazil",
         "showlegend": true,
         "type": "scatter",
         "x": [
          8528.3
         ],
         "xaxis": "x",
         "y": [
          41.00511005555452
         ],
         "yaxis": "y"
        },
        {
         "hovertemplate": "<b>%{hovertext}</b><br><br>Country=Brunei Darussalam<br>GDP per capita (current US$)=%{x}<br>Average Internet usage over the years=%{marker.size}<extra></extra>",
         "hovertext": [
          "Brunei Darussalam"
         ],
         "legendgroup": "Brunei Darussalam",
         "marker": {
          "color": "#FFA15A",
          "size": [
           63.515680057965824
          ],
          "sizemode": "area",
          "sizeref": 0.025361307840186014,
          "symbol": "circle"
         },
         "mode": "markers",
         "name": "Brunei Darussalam",
         "showlegend": true,
         "type": "scatter",
         "x": [
          30552.7
         ],
         "xaxis": "x",
         "y": [
          63.515680057965824
         ],
         "yaxis": "y"
        },
        {
         "hovertemplate": "<b>%{hovertext}</b><br><br>Country=Bulgaria<br>GDP per capita (current US$)=%{x}<br>Average Internet usage over the years=%{marker.size}<extra></extra>",
         "hovertext": [
          "Bulgaria"
         ],
         "legendgroup": "Bulgaria",
         "marker": {
          "color": "#19d3f3",
          "size": [
           47.69785126515635
          ],
          "sizemode": "area",
          "sizeref": 0.025361307840186014,
          "symbol": "circle"
         },
         "mode": "markers",
         "name": "Bulgaria",
         "showlegend": true,
         "type": "scatter",
         "x": [
          6846.8
         ],
         "xaxis": "x",
         "y": [
          47.69785126515635
         ],
         "yaxis": "y"
        },
        {
         "hovertemplate": "<b>%{hovertext}</b><br><br>Country=Burkina Faso<br>GDP per capita (current US$)=%{x}<br>Average Internet usage over the years=%{marker.size}<extra></extra>",
         "hovertext": [
          "Burkina Faso"
         ],
         "legendgroup": "Burkina Faso",
         "marker": {
          "color": "#FF6692",
          "size": [
           6.557457233961455
          ],
          "sizemode": "area",
          "sizeref": 0.025361307840186014,
          "symbol": "circle"
         },
         "mode": "markers",
         "name": "Burkina Faso",
         "showlegend": true,
         "type": "scatter",
         "x": [
          611.1
         ],
         "xaxis": "x",
         "y": [
          6.557457233961455
         ],
         "yaxis": "y"
        },
        {
         "hovertemplate": "<b>%{hovertext}</b><br><br>Country=Burundi<br>GDP per capita (current US$)=%{x}<br>Average Internet usage over the years=%{marker.size}<extra></extra>",
         "hovertext": [
          "Burundi"
         ],
         "legendgroup": "Burundi",
         "marker": {
          "color": "#B6E880",
          "size": [
           1.75401901309071
          ],
          "sizemode": "area",
          "sizeref": 0.025361307840186014,
          "symbol": "circle"
         },
         "mode": "markers",
         "name": "Burundi",
         "showlegend": true,
         "type": "scatter",
         "x": [
          244.6
         ],
         "xaxis": "x",
         "y": [
          1.75401901309071
         ],
         "yaxis": "y"
        },
        {
         "hovertemplate": "<b>%{hovertext}</b><br><br>Country=Cambodia<br>GDP per capita (current US$)=%{x}<br>Average Internet usage over the years=%{marker.size}<extra></extra>",
         "hovertext": [
          "Cambodia"
         ],
         "legendgroup": "Cambodia",
         "marker": {
          "color": "#FF97FF",
          "size": [
           12.885721432852053
          ],
          "sizemode": "area",
          "sizeref": 0.025361307840186014,
          "symbol": "circle"
         },
         "mode": "markers",
         "name": "Cambodia",
         "showlegend": true,
         "type": "scatter",
         "x": [
          1158.7
         ],
         "xaxis": "x",
         "y": [
          12.885721432852053
         ],
         "yaxis": "y"
        },
        {
         "hovertemplate": "<b>%{hovertext}</b><br><br>Country=Cameroon<br>GDP per capita (current US$)=%{x}<br>Average Internet usage over the years=%{marker.size}<extra></extra>",
         "hovertext": [
          "Cameroon"
         ],
         "legendgroup": "Cameroon",
         "marker": {
          "color": "#FECB52",
          "size": [
           10.15961255770332
          ],
          "sizemode": "area",
          "sizeref": 0.025361307840186014,
          "symbol": "circle"
         },
         "mode": "markers",
         "name": "Cameroon",
         "showlegend": true,
         "type": "scatter",
         "x": [
          1217.3
         ],
         "xaxis": "x",
         "y": [
          10.15961255770332
         ],
         "yaxis": "y"
        },
        {
         "hovertemplate": "<b>%{hovertext}</b><br><br>Country=Canada<br>GDP per capita (current US$)=%{x}<br>Average Internet usage over the years=%{marker.size}<extra></extra>",
         "hovertext": [
          "Canada"
         ],
         "legendgroup": "Canada",
         "marker": {
          "color": "#636efa",
          "size": [
           74.03090909090909
          ],
          "sizemode": "area",
          "sizeref": 0.025361307840186014,
          "symbol": "circle"
         },
         "mode": "markers",
         "name": "Canada",
         "showlegend": true,
         "type": "scatter",
         "x": [
          43205.6
         ],
         "xaxis": "x",
         "y": [
          74.03090909090909
         ],
         "yaxis": "y"
        },
        {
         "hovertemplate": "<b>%{hovertext}</b><br><br>Country=Cape Verde<br>GDP per capita (current US$)=%{x}<br>Average Internet usage over the years=%{marker.size}<extra></extra>",
         "hovertext": [
          null
         ],
         "legendgroup": "Cape Verde",
         "marker": {
          "color": "#EF553B",
          "size": [
           35.521169744811274
          ],
          "sizemode": "area",
          "sizeref": 0.025361307840186014,
          "symbol": "circle"
         },
         "mode": "markers",
         "name": "Cape Verde",
         "showlegend": true,
         "type": "scatter",
         "x": [
          null
         ],
         "xaxis": "x",
         "y": [
          35.521169744811274
         ],
         "yaxis": "y"
        },
        {
         "hovertemplate": "<b>%{hovertext}</b><br><br>Country=Central African Republic<br>GDP per capita (current US$)=%{x}<br>Average Internet usage over the years=%{marker.size}<extra></extra>",
         "hovertext": [
          "Central African Republic"
         ],
         "legendgroup": "Central African Republic",
         "marker": {
          "color": "#00cc96",
          "size": [
           2.4237131570938484
          ],
          "sizemode": "area",
          "sizeref": 0.025361307840186014,
          "symbol": "circle"
         },
         "mode": "markers",
         "name": "Central African Republic",
         "showlegend": true,
         "type": "scatter",
         "x": [
          333.2
         ],
         "xaxis": "x",
         "y": [
          2.4237131570938484
         ],
         "yaxis": "y"
        },
        {
         "hovertemplate": "<b>%{hovertext}</b><br><br>Country=Chad<br>GDP per capita (current US$)=%{x}<br>Average Internet usage over the years=%{marker.size}<extra></extra>",
         "hovertext": [
          "Chad"
         ],
         "legendgroup": "Chad",
         "marker": {
          "color": "#ab63fa",
          "size": [
           2.412269354176281
          ],
          "sizemode": "area",
          "sizeref": 0.025361307840186014,
          "symbol": "circle"
         },
         "mode": "markers",
         "name": "Chad",
         "showlegend": true,
         "type": "scatter",
         "x": [
          713
         ],
         "xaxis": "x",
         "y": [
          2.412269354176281
         ],
         "yaxis": "y"
        },
        {
         "hovertemplate": "<b>%{hovertext}</b><br><br>Country=Chile<br>GDP per capita (current US$)=%{x}<br>Average Internet usage over the years=%{marker.size}<extra></extra>",
         "hovertext": [
          "Chile"
         ],
         "legendgroup": "Chile",
         "marker": {
          "color": "#FFA15A",
          "size": [
           51.063729751649355
          ],
          "sizemode": "area",
          "sizeref": 0.025361307840186014,
          "symbol": "circle"
         },
         "mode": "markers",
         "name": "Chile",
         "showlegend": true,
         "type": "scatter",
         "x": [
          13416.2
         ],
         "xaxis": "x",
         "y": [
          51.063729751649355
         ],
         "yaxis": "y"
        },
        {
         "hovertemplate": "<b>%{hovertext}</b><br><br>Country=China<br>GDP per capita (current US$)=%{x}<br>Average Internet usage over the years=%{marker.size}<extra></extra>",
         "hovertext": [
          "China"
         ],
         "legendgroup": "China",
         "marker": {
          "color": "#19d3f3",
          "size": [
           34.24538979046083
          ],
          "sizemode": "area",
          "sizeref": 0.025361307840186014,
          "symbol": "circle"
         },
         "mode": "markers",
         "name": "China",
         "showlegend": true,
         "type": "scatter",
         "x": [
          8109.1
         ],
         "xaxis": "x",
         "y": [
          34.24538979046083
         ],
         "yaxis": "y"
        },
        {
         "hovertemplate": "<b>%{hovertext}</b><br><br>Country=Colombia<br>GDP per capita (current US$)=%{x}<br>Average Internet usage over the years=%{marker.size}<extra></extra>",
         "hovertext": [
          "Colombia"
         ],
         "legendgroup": "Colombia",
         "marker": {
          "color": "#FF6692",
          "size": [
           38.14700536745515
          ],
          "sizemode": "area",
          "sizeref": 0.025361307840186014,
          "symbol": "circle"
         },
         "mode": "markers",
         "name": "Colombia",
         "showlegend": true,
         "type": "scatter",
         "x": [
          6056.1
         ],
         "xaxis": "x",
         "y": [
          38.14700536745515
         ],
         "yaxis": "y"
        },
        {
         "hovertemplate": "<b>%{hovertext}</b><br><br>Country=Comoros<br>GDP per capita (current US$)=%{x}<br>Average Internet usage over the years=%{marker.size}<extra></extra>",
         "hovertext": [
          "Comoros"
         ],
         "legendgroup": "Comoros",
         "marker": {
          "color": "#B6E880",
          "size": [
           5.109335578871608
          ],
          "sizemode": "area",
          "sizeref": 0.025361307840186014,
          "symbol": "circle"
         },
         "mode": "markers",
         "name": "Comoros",
         "showlegend": true,
         "type": "scatter",
         "x": [
          1368.9
         ],
         "xaxis": "x",
         "y": [
          5.109335578871608
         ],
         "yaxis": "y"
        },
        {
         "hovertemplate": "<b>%{hovertext}</b><br><br>Country=Congo (Dem. Rep.)<br>GDP per capita (current US$)=%{x}<br>Average Internet usage over the years=%{marker.size}<extra></extra>",
         "hovertext": [
          null
         ],
         "legendgroup": "Congo (Dem. Rep.)",
         "marker": {
          "color": "#FF97FF",
          "size": [
           2.5157981282078383
          ],
          "sizemode": "area",
          "sizeref": 0.025361307840186014,
          "symbol": "circle"
         },
         "mode": "markers",
         "name": "Congo (Dem. Rep.)",
         "showlegend": true,
         "type": "scatter",
         "x": [
          null
         ],
         "xaxis": "x",
         "y": [
          2.5157981282078383
         ],
         "yaxis": "y"
        },
        {
         "hovertemplate": "<b>%{hovertext}</b><br><br>Country=Congo (Rep.)<br>GDP per capita (current US$)=%{x}<br>Average Internet usage over the years=%{marker.size}<extra></extra>",
         "hovertext": [
          null
         ],
         "legendgroup": "Congo (Rep.)",
         "marker": {
          "color": "#FECB52",
          "size": [
           5.11767216377099
          ],
          "sizemode": "area",
          "sizeref": 0.025361307840186014,
          "symbol": "circle"
         },
         "mode": "markers",
         "name": "Congo (Rep.)",
         "showlegend": true,
         "type": "scatter",
         "x": [
          null
         ],
         "xaxis": "x",
         "y": [
          5.11767216377099
         ],
         "yaxis": "y"
        },
        {
         "hovertemplate": "<b>%{hovertext}</b><br><br>Country=Costa Rica<br>GDP per capita (current US$)=%{x}<br>Average Internet usage over the years=%{marker.size}<extra></extra>",
         "hovertext": [
          "Costa Rica"
         ],
         "legendgroup": "Costa Rica",
         "marker": {
          "color": "#636efa",
          "size": [
           47.37849286115279
          ],
          "sizemode": "area",
          "sizeref": 0.025361307840186014,
          "symbol": "circle"
         },
         "mode": "markers",
         "name": "Costa Rica",
         "showlegend": true,
         "type": "scatter",
         "x": [
          11015
         ],
         "xaxis": "x",
         "y": [
          47.37849286115279
         ],
         "yaxis": "y"
        },
        {
         "hovertemplate": "<b>%{hovertext}</b><br><br>Country=Croatia<br>GDP per capita (current US$)=%{x}<br>Average Internet usage over the years=%{marker.size}<extra></extra>",
         "hovertext": [
          "Croatia"
         ],
         "legendgroup": "Croatia",
         "marker": {
          "color": "#EF553B",
          "size": [
           57.606160661350835
          ],
          "sizemode": "area",
          "sizeref": 0.025361307840186014,
          "symbol": "circle"
         },
         "mode": "markers",
         "name": "Croatia",
         "showlegend": true,
         "type": "scatter",
         "x": [
          11479.4
         ],
         "xaxis": "x",
         "y": [
          57.606160661350835
         ],
         "yaxis": "y"
        },
        {
         "hovertemplate": "<b>%{hovertext}</b><br><br>Country=Cuba<br>GDP per capita (current US$)=%{x}<br>Average Internet usage over the years=%{marker.size}<extra></extra>",
         "hovertext": [
          "Cuba"
         ],
         "legendgroup": "Cuba",
         "marker": {
          "color": "#00cc96",
          "size": [
           23.438990622495943
          ],
          "sizemode": "area",
          "sizeref": 0.025361307840186014,
          "symbol": "circle"
         },
         "mode": "markers",
         "name": "Cuba",
         "showlegend": true,
         "type": "scatter",
         "x": [
          7656.6
         ],
         "xaxis": "x",
         "y": [
          23.438990622495943
         ],
         "yaxis": "y"
        },
        {
         "hovertemplate": "<b>%{hovertext}</b><br><br>Country=Cyprus<br>GDP per capita (current US$)=%{x}<br>Average Internet usage over the years=%{marker.size}<extra></extra>",
         "hovertext": [
          "Cyprus"
         ],
         "legendgroup": "Cyprus",
         "marker": {
          "color": "#ab63fa",
          "size": [
           60.56207563729488
          ],
          "sizemode": "area",
          "sizeref": 0.025361307840186014,
          "symbol": "circle"
         },
         "mode": "markers",
         "name": "Cyprus",
         "showlegend": true,
         "type": "scatter",
         "x": [
          21941.9
         ],
         "xaxis": "x",
         "y": [
          60.56207563729488
         ],
         "yaxis": "y"
        },
        {
         "hovertemplate": "<b>%{hovertext}</b><br><br>Country=Czech Republic<br>GDP per capita (current US$)=%{x}<br>Average Internet usage over the years=%{marker.size}<extra></extra>",
         "hovertext": [
          null
         ],
         "legendgroup": "Czech Republic",
         "marker": {
          "color": "#FFA15A",
          "size": [
           65.24454670199033
          ],
          "sizemode": "area",
          "sizeref": 0.025361307840186014,
          "symbol": "circle"
         },
         "mode": "markers",
         "name": "Czech Republic",
         "showlegend": true,
         "type": "scatter",
         "x": [
          null
         ],
         "xaxis": "x",
         "y": [
          65.24454670199033
         ],
         "yaxis": "y"
        },
        {
         "hovertemplate": "<b>%{hovertext}</b><br><br>Country=Côte d'Ivoire<br>GDP per capita (current US$)=%{x}<br>Average Internet usage over the years=%{marker.size}<extra></extra>",
         "hovertext": [
          null
         ],
         "legendgroup": "Côte d'Ivoire",
         "marker": {
          "color": "#19d3f3",
          "size": [
           19.405126594398283
          ],
          "sizemode": "area",
          "sizeref": 0.025361307840186014,
          "symbol": "circle"
         },
         "mode": "markers",
         "name": "Côte d'Ivoire",
         "showlegend": true,
         "type": "scatter",
         "x": [
          null
         ],
         "xaxis": "x",
         "y": [
          19.405126594398283
         ],
         "yaxis": "y"
        },
        {
         "hovertemplate": "<b>%{hovertext}</b><br><br>Country=Democratic People's Republic of Korea<br>GDP per capita (current US$)=%{x}<br>Average Internet usage over the years=%{marker.size}<extra></extra>",
         "hovertext": [
          "Democratic People's Republic of Korea"
         ],
         "legendgroup": "Democratic People's Republic of Korea",
         "marker": {
          "color": "#FF6692",
          "size": [
           0
          ],
          "sizemode": "area",
          "sizeref": 0.025361307840186014,
          "symbol": "circle"
         },
         "mode": "markers",
         "name": "Democratic People's Republic of Korea",
         "showlegend": true,
         "type": "scatter",
         "x": [
          648
         ],
         "xaxis": "x",
         "y": [
          0
         ],
         "yaxis": "y"
        },
        {
         "hovertemplate": "<b>%{hovertext}</b><br><br>Country=Denmark<br>GDP per capita (current US$)=%{x}<br>Average Internet usage over the years=%{marker.size}<extra></extra>",
         "hovertext": [
          "Denmark"
         ],
         "legendgroup": "Denmark",
         "marker": {
          "color": "#B6E880",
          "size": [
           88.30582468167478
          ],
          "sizemode": "area",
          "sizeref": 0.025361307840186014,
          "symbol": "circle"
         },
         "mode": "markers",
         "name": "Denmark",
         "showlegend": true,
         "type": "scatter",
         "x": [
          53149.3
         ],
         "xaxis": "x",
         "y": [
          88.30582468167478
         ],
         "yaxis": "y"
        },
        {
         "hovertemplate": "<b>%{hovertext}</b><br><br>Country=Djibouti<br>GDP per capita (current US$)=%{x}<br>Average Internet usage over the years=%{marker.size}<extra></extra>",
         "hovertext": [
          "Djibouti"
         ],
         "legendgroup": "Djibouti",
         "marker": {
          "color": "#FF97FF",
          "size": [
           11.26037278742234
          ],
          "sizemode": "area",
          "sizeref": 0.025361307840186014,
          "symbol": "circle"
         },
         "mode": "markers",
         "name": "Djibouti",
         "showlegend": true,
         "type": "scatter",
         "x": [
          1956.3
         ],
         "xaxis": "x",
         "y": [
          11.26037278742234
         ],
         "yaxis": "y"
        },
        {
         "hovertemplate": "<b>%{hovertext}</b><br><br>Country=Dominica<br>GDP per capita (current US$)=%{x}<br>Average Internet usage over the years=%{marker.size}<extra></extra>",
         "hovertext": [
          "Dominica"
         ],
         "legendgroup": "Dominica",
         "marker": {
          "color": "#FECB52",
          "size": [
           45.75983238687181
          ],
          "sizemode": "area",
          "sizeref": 0.025361307840186014,
          "symbol": "circle"
         },
         "mode": "markers",
         "name": "Dominica",
         "showlegend": true,
         "type": "scatter",
         "x": [
          7051.1
         ],
         "xaxis": "x",
         "y": [
          45.75983238687181
         ],
         "yaxis": "y"
        },
        {
         "hovertemplate": "<b>%{hovertext}</b><br><br>Country=Dominican Rep.<br>GDP per capita (current US$)=%{x}<br>Average Internet usage over the years=%{marker.size}<extra></extra>",
         "hovertext": [
          null
         ],
         "legendgroup": "Dominican Rep.",
         "marker": {
          "color": "#636efa",
          "size": [
           43.89727688642381
          ],
          "sizemode": "area",
          "sizeref": 0.025361307840186014,
          "symbol": "circle"
         },
         "mode": "markers",
         "name": "Dominican Rep.",
         "showlegend": true,
         "type": "scatter",
         "x": [
          null
         ],
         "xaxis": "x",
         "y": [
          43.89727688642381
         ],
         "yaxis": "y"
        },
        {
         "hovertemplate": "<b>%{hovertext}</b><br><br>Country=Ecuador<br>GDP per capita (current US$)=%{x}<br>Average Internet usage over the years=%{marker.size}<extra></extra>",
         "hovertext": [
          "Ecuador"
         ],
         "legendgroup": "Ecuador",
         "marker": {
          "color": "#EF553B",
          "size": [
           31.73941030180106
          ],
          "sizemode": "area",
          "sizeref": 0.025361307840186014,
          "symbol": "circle"
         },
         "mode": "markers",
         "name": "Ecuador",
         "showlegend": true,
         "type": "scatter",
         "x": [
          6205.1
         ],
         "xaxis": "x",
         "y": [
          31.73941030180106
         ],
         "yaxis": "y"
        },
        {
         "hovertemplate": "<b>%{hovertext}</b><br><br>Country=Egypt<br>GDP per capita (current US$)=%{x}<br>Average Internet usage over the years=%{marker.size}<extra></extra>",
         "hovertext": [
          "Egypt"
         ],
         "legendgroup": "Egypt",
         "marker": {
          "color": "#00cc96",
          "size": [
           29.202532891201518
          ],
          "sizemode": "area",
          "sizeref": 0.025361307840186014,
          "symbol": "circle"
         },
         "mode": "markers",
         "name": "Egypt",
         "showlegend": true,
         "type": "scatter",
         "x": [
          3452.3
         ],
         "xaxis": "x",
         "y": [
          29.202532891201518
         ],
         "yaxis": "y"
        },
        {
         "hovertemplate": "<b>%{hovertext}</b><br><br>Country=El Salvador<br>GDP per capita (current US$)=%{x}<br>Average Internet usage over the years=%{marker.size}<extra></extra>",
         "hovertext": [
          "El Salvador"
         ],
         "legendgroup": "El Salvador",
         "marker": {
          "color": "#ab63fa",
          "size": [
           17.999109458627796
          ],
          "sizemode": "area",
          "sizeref": 0.025361307840186014,
          "symbol": "circle"
         },
         "mode": "markers",
         "name": "El Salvador",
         "showlegend": true,
         "type": "scatter",
         "x": [
          4219.4
         ],
         "xaxis": "x",
         "y": [
          17.999109458627796
         ],
         "yaxis": "y"
        },
        {
         "hovertemplate": "<b>%{hovertext}</b><br><br>Country=Equatorial Guinea<br>GDP per capita (current US$)=%{x}<br>Average Internet usage over the years=%{marker.size}<extra></extra>",
         "hovertext": [
          "Equatorial Guinea"
         ],
         "legendgroup": "Equatorial Guinea",
         "marker": {
          "color": "#FFA15A",
          "size": [
           12.665938767297403
          ],
          "sizemode": "area",
          "sizeref": 0.025361307840186014,
          "symbol": "circle"
         },
         "mode": "markers",
         "name": "Equatorial Guinea",
         "showlegend": true,
         "type": "scatter",
         "x": [
          16344.1
         ],
         "xaxis": "x",
         "y": [
          12.665938767297403
         ],
         "yaxis": "y"
        },
        {
         "hovertemplate": "<b>%{hovertext}</b><br><br>Country=Eritrea<br>GDP per capita (current US$)=%{x}<br>Average Internet usage over the years=%{marker.size}<extra></extra>",
         "hovertext": [
          "Eritrea"
         ],
         "legendgroup": "Eritrea",
         "marker": {
          "color": "#19d3f3",
          "size": [
           0.7005882506184542
          ],
          "sizemode": "area",
          "sizeref": 0.025361307840186014,
          "symbol": "circle"
         },
         "mode": "markers",
         "name": "Eritrea",
         "showlegend": true,
         "type": "scatter",
         "x": [
          914.9
         ],
         "xaxis": "x",
         "y": [
          0.7005882506184542
         ],
         "yaxis": "y"
        },
        {
         "hovertemplate": "<b>%{hovertext}</b><br><br>Country=Estonia<br>GDP per capita (current US$)=%{x}<br>Average Internet usage over the years=%{marker.size}<extra></extra>",
         "hovertext": [
          "Estonia"
         ],
         "legendgroup": "Estonia",
         "marker": {
          "color": "#FF6692",
          "size": [
           76.03382806042829
          ],
          "sizemode": "area",
          "sizeref": 0.025361307840186014,
          "symbol": "circle"
         },
         "mode": "markers",
         "name": "Estonia",
         "showlegend": true,
         "type": "scatter",
         "x": [
          17112
         ],
         "xaxis": "x",
         "y": [
          76.03382806042829
         ],
         "yaxis": "y"
        },
        {
         "hovertemplate": "<b>%{hovertext}</b><br><br>Country=Ethiopia<br>GDP per capita (current US$)=%{x}<br>Average Internet usage over the years=%{marker.size}<extra></extra>",
         "hovertext": [
          "Ethiopia"
         ],
         "legendgroup": "Ethiopia",
         "marker": {
          "color": "#B6E880",
          "size": [
           5.920461314053615
          ],
          "sizemode": "area",
          "sizeref": 0.025361307840186014,
          "symbol": "circle"
         },
         "mode": "markers",
         "name": "Ethiopia",
         "showlegend": true,
         "type": "scatter",
         "x": [
          602.8
         ],
         "xaxis": "x",
         "y": [
          5.920461314053615
         ],
         "yaxis": "y"
        },
        {
         "hovertemplate": "<b>%{hovertext}</b><br><br>Country=Falkland (Malvinas) Is.<br>GDP per capita (current US$)=%{x}<br>Average Internet usage over the years=%{marker.size}<extra></extra>",
         "hovertext": [
          null
         ],
         "legendgroup": "Falkland (Malvinas) Is.",
         "marker": {
          "color": "#FF97FF",
          "size": [
           74.87176110346658
          ],
          "sizemode": "area",
          "sizeref": 0.025361307840186014,
          "symbol": "circle"
         },
         "mode": "markers",
         "name": "Falkland (Malvinas) Is.",
         "showlegend": true,
         "type": "scatter",
         "x": [
          null
         ],
         "xaxis": "x",
         "y": [
          74.87176110346658
         ],
         "yaxis": "y"
        },
        {
         "hovertemplate": "<b>%{hovertext}</b><br><br>Country=Fiji<br>GDP per capita (current US$)=%{x}<br>Average Internet usage over the years=%{marker.size}<extra></extra>",
         "hovertext": [
          "Fiji"
         ],
         "legendgroup": "Fiji",
         "marker": {
          "color": "#FECB52",
          "size": [
           27.569654494754733
          ],
          "sizemode": "area",
          "sizeref": 0.025361307840186014,
          "symbol": "circle"
         },
         "mode": "markers",
         "name": "Fiji",
         "showlegend": true,
         "type": "scatter",
         "x": [
          4921.9
         ],
         "xaxis": "x",
         "y": [
          27.569654494754733
         ],
         "yaxis": "y"
        },
        {
         "hovertemplate": "<b>%{hovertext}</b><br><br>Country=Finland<br>GDP per capita (current US$)=%{x}<br>Average Internet usage over the years=%{marker.size}<extra></extra>",
         "hovertext": [
          "Finland"
         ],
         "legendgroup": "Finland",
         "marker": {
          "color": "#636efa",
          "size": [
           82.33981088535499
          ],
          "sizemode": "area",
          "sizeref": 0.025361307840186014,
          "symbol": "circle"
         },
         "mode": "markers",
         "name": "Finland",
         "showlegend": true,
         "type": "scatter",
         "x": [
          42148.1
         ],
         "xaxis": "x",
         "y": [
          82.33981088535499
         ],
         "yaxis": "y"
        },
        {
         "hovertemplate": "<b>%{hovertext}</b><br><br>Country=France<br>GDP per capita (current US$)=%{x}<br>Average Internet usage over the years=%{marker.size}<extra></extra>",
         "hovertext": [
          "France"
         ],
         "legendgroup": "France",
         "marker": {
          "color": "#EF553B",
          "size": [
           70.8375934721078
          ],
          "sizemode": "area",
          "sizeref": 0.025361307840186014,
          "symbol": "circle"
         },
         "mode": "markers",
         "name": "France",
         "showlegend": true,
         "type": "scatter",
         "x": [
          36304.2
         ],
         "xaxis": "x",
         "y": [
          70.8375934721078
         ],
         "yaxis": "y"
        },
        {
         "hovertemplate": "<b>%{hovertext}</b><br><br>Country=Gabon<br>GDP per capita (current US$)=%{x}<br>Average Internet usage over the years=%{marker.size}<extra></extra>",
         "hovertext": [
          "Gabon"
         ],
         "legendgroup": "Gabon",
         "marker": {
          "color": "#00cc96",
          "size": [
           25.95958712532986
          ],
          "sizemode": "area",
          "sizeref": 0.025361307840186014,
          "symbol": "circle"
         },
         "mode": "markers",
         "name": "Gabon",
         "showlegend": true,
         "type": "scatter",
         "x": [
          7960.7
         ],
         "xaxis": "x",
         "y": [
          25.95958712532986
         ],
         "yaxis": "y"
        },
        {
         "hovertemplate": "<b>%{hovertext}</b><br><br>Country=Gambia<br>GDP per capita (current US$)=%{x}<br>Average Internet usage over the years=%{marker.size}<extra></extra>",
         "hovertext": [
          "Gambia"
         ],
         "legendgroup": "Gambia",
         "marker": {
          "color": "#ab63fa",
          "size": [
           11.057889020067101
          ],
          "sizemode": "area",
          "sizeref": 0.025361307840186014,
          "symbol": "circle"
         },
         "mode": "markers",
         "name": "Gambia",
         "showlegend": true,
         "type": "scatter",
         "x": [
          473.2
         ],
         "xaxis": "x",
         "y": [
          11.057889020067101
         ],
         "yaxis": "y"
        },
        {
         "hovertemplate": "<b>%{hovertext}</b><br><br>Country=Georgia<br>GDP per capita (current US$)=%{x}<br>Average Internet usage over the years=%{marker.size}<extra></extra>",
         "hovertext": [
          "Georgia"
         ],
         "legendgroup": "Georgia",
         "marker": {
          "color": "#FFA15A",
          "size": [
           38.084307936557586
          ],
          "sizemode": "area",
          "sizeref": 0.025361307840186014,
          "symbol": "circle"
         },
         "mode": "markers",
         "name": "Georgia",
         "showlegend": true,
         "type": "scatter",
         "x": [
          3491.4
         ],
         "xaxis": "x",
         "y": [
          38.084307936557586
         ],
         "yaxis": "y"
        },
        {
         "hovertemplate": "<b>%{hovertext}</b><br><br>Country=Germany<br>GDP per capita (current US$)=%{x}<br>Average Internet usage over the years=%{marker.size}<extra></extra>",
         "hovertext": [
          "Germany"
         ],
         "legendgroup": "Germany",
         "marker": {
          "color": "#19d3f3",
          "size": [
           78.25417931072151
          ],
          "sizemode": "area",
          "sizeref": 0.025361307840186014,
          "symbol": "circle"
         },
         "mode": "markers",
         "name": "Germany",
         "showlegend": true,
         "type": "scatter",
         "x": [
          41686.2
         ],
         "xaxis": "x",
         "y": [
          78.25417931072151
         ],
         "yaxis": "y"
        },
        {
         "hovertemplate": "<b>%{hovertext}</b><br><br>Country=Ghana<br>GDP per capita (current US$)=%{x}<br>Average Internet usage over the years=%{marker.size}<extra></extra>",
         "hovertext": [
          "Ghana"
         ],
         "legendgroup": "Ghana",
         "marker": {
          "color": "#FF6692",
          "size": [
           15.324413712606543
          ],
          "sizemode": "area",
          "sizeref": 0.025361307840186014,
          "symbol": "circle"
         },
         "mode": "markers",
         "name": "Ghana",
         "showlegend": true,
         "type": "scatter",
         "x": [
          1355.6
         ],
         "xaxis": "x",
         "y": [
          15.324413712606543
         ],
         "yaxis": "y"
        },
        {
         "hovertemplate": "<b>%{hovertext}</b><br><br>Country=Greece<br>GDP per capita (current US$)=%{x}<br>Average Internet usage over the years=%{marker.size}<extra></extra>",
         "hovertext": [
          "Greece"
         ],
         "legendgroup": "Greece",
         "marker": {
          "color": "#B6E880",
          "size": [
           53.34177900374676
          ],
          "sizemode": "area",
          "sizeref": 0.025361307840186014,
          "symbol": "circle"
         },
         "mode": "markers",
         "name": "Greece",
         "showlegend": true,
         "type": "scatter",
         "x": [
          17788
         ],
         "xaxis": "x",
         "y": [
          53.34177900374676
         ],
         "yaxis": "y"
        },
        {
         "hovertemplate": "<b>%{hovertext}</b><br><br>Country=Grenada<br>GDP per capita (current US$)=%{x}<br>Average Internet usage over the years=%{marker.size}<extra></extra>",
         "hovertext": [
          "Grenada"
         ],
         "legendgroup": "Grenada",
         "marker": {
          "color": "#FF97FF",
          "size": [
           33.53544145955431
          ],
          "sizemode": "area",
          "sizeref": 0.025361307840186014,
          "symbol": "circle"
         },
         "mode": "markers",
         "name": "Grenada",
         "showlegend": true,
         "type": "scatter",
         "x": [
          8933.8
         ],
         "xaxis": "x",
         "y": [
          33.53544145955431
         ],
         "yaxis": "y"
        },
        {
         "hovertemplate": "<b>%{hovertext}</b><br><br>Country=Guatemala<br>GDP per capita (current US$)=%{x}<br>Average Internet usage over the years=%{marker.size}<extra></extra>",
         "hovertext": [
          "Guatemala"
         ],
         "legendgroup": "Guatemala",
         "marker": {
          "color": "#FECB52",
          "size": [
           19.693418231947412
          ],
          "sizemode": "area",
          "sizeref": 0.025361307840186014,
          "symbol": "circle"
         },
         "mode": "markers",
         "name": "Guatemala",
         "showlegend": true,
         "type": "scatter",
         "x": [
          3903.5
         ],
         "xaxis": "x",
         "y": [
          19.693418231947412
         ],
         "yaxis": "y"
        },
        {
         "hovertemplate": "<b>%{hovertext}</b><br><br>Country=Guinea<br>GDP per capita (current US$)=%{x}<br>Average Internet usage over the years=%{marker.size}<extra></extra>",
         "hovertext": [
          "Guinea"
         ],
         "legendgroup": "Guinea",
         "marker": {
          "color": "#636efa",
          "size": [
           4.8761526458730025
          ],
          "sizemode": "area",
          "sizeref": 0.025361307840186014,
          "symbol": "circle"
         },
         "mode": "markers",
         "name": "Guinea",
         "showlegend": true,
         "type": "scatter",
         "x": [
          703.9
         ],
         "xaxis": "x",
         "y": [
          4.8761526458730025
         ],
         "yaxis": "y"
        },
        {
         "hovertemplate": "<b>%{hovertext}</b><br><br>Country=Guinea-Bissau<br>GDP per capita (current US$)=%{x}<br>Average Internet usage over the years=%{marker.size}<extra></extra>",
         "hovertext": [
          "Guinea-Bissau"
         ],
         "legendgroup": "Guinea-Bissau",
         "marker": {
          "color": "#EF553B",
          "size": [
           2.527280818991616
          ],
          "sizemode": "area",
          "sizeref": 0.025361307840186014,
          "symbol": "circle"
         },
         "mode": "markers",
         "name": "Guinea-Bissau",
         "showlegend": true,
         "type": "scatter",
         "x": [
          530
         ],
         "xaxis": "x",
         "y": [
          2.527280818991616
         ],
         "yaxis": "y"
        },
        {
         "hovertemplate": "<b>%{hovertext}</b><br><br>Country=Guyana<br>GDP per capita (current US$)=%{x}<br>Average Internet usage over the years=%{marker.size}<extra></extra>",
         "hovertext": [
          "Guyana"
         ],
         "legendgroup": "Guyana",
         "marker": {
          "color": "#00cc96",
          "size": [
           24.272484395775418
          ],
          "sizemode": "area",
          "sizeref": 0.025361307840186014,
          "symbol": "circle"
         },
         "mode": "markers",
         "name": "Guyana",
         "showlegend": true,
         "type": "scatter",
         "x": [
          4278.8
         ],
         "xaxis": "x",
         "y": [
          24.272484395775418
         ],
         "yaxis": "y"
        },
        {
         "hovertemplate": "<b>%{hovertext}</b><br><br>Country=Haiti<br>GDP per capita (current US$)=%{x}<br>Average Internet usage over the years=%{marker.size}<extra></extra>",
         "hovertext": [
          "Haiti"
         ],
         "legendgroup": "Haiti",
         "marker": {
          "color": "#ab63fa",
          "size": [
           11.364318606226908
          ],
          "sizemode": "area",
          "sizeref": 0.025361307840186014,
          "symbol": "circle"
         },
         "mode": "markers",
         "name": "Haiti",
         "showlegend": true,
         "type": "scatter",
         "x": [
          793.7
         ],
         "xaxis": "x",
         "y": [
          11.364318606226908
         ],
         "yaxis": "y"
        },
        {
         "hovertemplate": "<b>%{hovertext}</b><br><br>Country=Honduras<br>GDP per capita (current US$)=%{x}<br>Average Internet usage over the years=%{marker.size}<extra></extra>",
         "hovertext": [
          "Honduras"
         ],
         "legendgroup": "Honduras",
         "marker": {
          "color": "#FFA15A",
          "size": [
           16.18125963626534
          ],
          "sizemode": "area",
          "sizeref": 0.025361307840186014,
          "symbol": "circle"
         },
         "mode": "markers",
         "name": "Honduras",
         "showlegend": true,
         "type": "scatter",
         "x": [
          2521.9
         ],
         "xaxis": "x",
         "y": [
          16.18125963626534
         ],
         "yaxis": "y"
        },
        {
         "hovertemplate": "<b>%{hovertext}</b><br><br>Country=China, Hong Kong SAR<br>GDP per capita (current US$)=%{x}<br>Average Internet usage over the years=%{marker.size}<extra></extra>",
         "hovertext": [
          "China, Hong Kong SAR"
         ],
         "legendgroup": "China, Hong Kong SAR",
         "marker": {
          "color": "#19d3f3",
          "size": [
           65.2488857632337
          ],
          "sizemode": "area",
          "sizeref": 0.025361307840186014,
          "symbol": "circle"
         },
         "mode": "markers",
         "name": "China, Hong Kong SAR",
         "showlegend": true,
         "type": "scatter",
         "x": [
          42431
         ],
         "xaxis": "x",
         "y": [
          65.2488857632337
         ],
         "yaxis": "y"
        },
        {
         "hovertemplate": "<b>%{hovertext}</b><br><br>Country=Hungary<br>GDP per capita (current US$)=%{x}<br>Average Internet usage over the years=%{marker.size}<extra></extra>",
         "hovertext": [
          "Hungary"
         ],
         "legendgroup": "Hungary",
         "marker": {
          "color": "#FF6692",
          "size": [
           63.88961633922849
          ],
          "sizemode": "area",
          "sizeref": 0.025361307840186014,
          "symbol": "circle"
         },
         "mode": "markers",
         "name": "Hungary",
         "showlegend": true,
         "type": "scatter",
         "x": [
          12350.6
         ],
         "xaxis": "x",
         "y": [
          63.88961633922849
         ],
         "yaxis": "y"
        },
        {
         "hovertemplate": "<b>%{hovertext}</b><br><br>Country=Iceland<br>GDP per capita (current US$)=%{x}<br>Average Internet usage over the years=%{marker.size}<extra></extra>",
         "hovertext": [
          "Iceland"
         ],
         "legendgroup": "Iceland",
         "marker": {
          "color": "#B6E880",
          "size": [
           91.30070822466965
          ],
          "sizemode": "area",
          "sizeref": 0.025361307840186014,
          "symbol": "circle"
         },
         "mode": "markers",
         "name": "Iceland",
         "showlegend": true,
         "type": "scatter",
         "x": [
          50936
         ],
         "xaxis": "x",
         "y": [
          91.30070822466965
         ],
         "yaxis": "y"
        },
        {
         "hovertemplate": "<b>%{hovertext}</b><br><br>Country=India<br>GDP per capita (current US$)=%{x}<br>Average Internet usage over the years=%{marker.size}<extra></extra>",
         "hovertext": [
          "India"
         ],
         "legendgroup": "India",
         "marker": {
          "color": "#FF97FF",
          "size": [
           12.965060760344018
          ],
          "sizemode": "area",
          "sizeref": 0.025361307840186014,
          "symbol": "circle"
         },
         "mode": "markers",
         "name": "India",
         "showlegend": true,
         "type": "scatter",
         "x": [
          1614.2
         ],
         "xaxis": "x",
         "y": [
          12.965060760344018
         ],
         "yaxis": "y"
        },
        {
         "hovertemplate": "<b>%{hovertext}</b><br><br>Country=Indonesia<br>GDP per capita (current US$)=%{x}<br>Average Internet usage over the years=%{marker.size}<extra></extra>",
         "hovertext": [
          "Indonesia"
         ],
         "legendgroup": "Indonesia",
         "marker": {
          "color": "#FECB52",
          "size": [
           17.620994089873815
          ],
          "sizemode": "area",
          "sizeref": 0.025361307840186014,
          "symbol": "circle"
         },
         "mode": "markers",
         "name": "Indonesia",
         "showlegend": true,
         "type": "scatter",
         "x": [
          3346.5
         ],
         "xaxis": "x",
         "y": [
          17.620994089873815
         ],
         "yaxis": "y"
        },
        {
         "hovertemplate": "<b>%{hovertext}</b><br><br>Country=Iran (Islamic Republic of)<br>GDP per capita (current US$)=%{x}<br>Average Internet usage over the years=%{marker.size}<extra></extra>",
         "hovertext": [
          "Iran (Islamic Republic of)"
         ],
         "legendgroup": "Iran (Islamic Republic of)",
         "marker": {
          "color": "#636efa",
          "size": [
           33.506769401156866
          ],
          "sizemode": "area",
          "sizeref": 0.025361307840186014,
          "symbol": "circle"
         },
         "mode": "markers",
         "name": "Iran (Islamic Republic of)",
         "showlegend": true,
         "type": "scatter",
         "x": [
          5038.1
         ],
         "xaxis": "x",
         "y": [
          33.506769401156866
         ],
         "yaxis": "y"
        },
        {
         "hovertemplate": "<b>%{hovertext}</b><br><br>Country=Iraq<br>GDP per capita (current US$)=%{x}<br>Average Internet usage over the years=%{marker.size}<extra></extra>",
         "hovertext": [
          "Iraq"
         ],
         "legendgroup": "Iraq",
         "marker": {
          "color": "#EF553B",
          "size": [
           15.136363535454548
          ],
          "sizemode": "area",
          "sizeref": 0.025361307840186014,
          "symbol": "circle"
         },
         "mode": "markers",
         "name": "Iraq",
         "showlegend": true,
         "type": "scatter",
         "x": [
          4509
         ],
         "xaxis": "x",
         "y": [
          15.136363535454548
         ],
         "yaxis": "y"
        },
        {
         "hovertemplate": "<b>%{hovertext}</b><br><br>Country=Ireland<br>GDP per capita (current US$)=%{x}<br>Average Internet usage over the years=%{marker.size}<extra></extra>",
         "hovertext": [
          "Ireland"
         ],
         "legendgroup": "Ireland",
         "marker": {
          "color": "#00cc96",
          "size": [
           70.90928072625974
          ],
          "sizemode": "area",
          "sizeref": 0.025361307840186014,
          "symbol": "circle"
         },
         "mode": "markers",
         "name": "Ireland",
         "showlegend": true,
         "type": "scatter",
         "x": [
          60513.6
         ],
         "xaxis": "x",
         "y": [
          70.90928072625974
         ],
         "yaxis": "y"
        },
        {
         "hovertemplate": "<b>%{hovertext}</b><br><br>Country=Israel<br>GDP per capita (current US$)=%{x}<br>Average Internet usage over the years=%{marker.size}<extra></extra>",
         "hovertext": [
          "Israel"
         ],
         "legendgroup": "Israel",
         "marker": {
          "color": "#ab63fa",
          "size": [
           57.91783390414793
          ],
          "sizemode": "area",
          "sizeref": 0.025361307840186014,
          "symbol": "circle"
         },
         "mode": "markers",
         "name": "Israel",
         "showlegend": true,
         "type": "scatter",
         "x": [
          37129.4
         ],
         "xaxis": "x",
         "y": [
          57.91783390414793
         ],
         "yaxis": "y"
        },
        {
         "hovertemplate": "<b>%{hovertext}</b><br><br>Country=Italy<br>GDP per capita (current US$)=%{x}<br>Average Internet usage over the years=%{marker.size}<extra></extra>",
         "hovertext": [
          "Italy"
         ],
         "legendgroup": "Italy",
         "marker": {
          "color": "#FFA15A",
          "size": [
           53.912649855804936
          ],
          "sizemode": "area",
          "sizeref": 0.025361307840186014,
          "symbol": "circle"
         },
         "mode": "markers",
         "name": "Italy",
         "showlegend": true,
         "type": "scatter",
         "x": [
          30462.4
         ],
         "xaxis": "x",
         "y": [
          53.912649855804936
         ],
         "yaxis": "y"
        },
        {
         "hovertemplate": "<b>%{hovertext}</b><br><br>Country=Jamaica<br>GDP per capita (current US$)=%{x}<br>Average Internet usage over the years=%{marker.size}<extra></extra>",
         "hovertext": [
          "Jamaica"
         ],
         "legendgroup": "Jamaica",
         "marker": {
          "color": "#19d3f3",
          "size": [
           30.361570105303098
          ],
          "sizemode": "area",
          "sizeref": 0.025361307840186014,
          "symbol": "circle"
         },
         "mode": "markers",
         "name": "Jamaica",
         "showlegend": true,
         "type": "scatter",
         "x": [
          5105.8
         ],
         "xaxis": "x",
         "y": [
          30.361570105303098
         ],
         "yaxis": "y"
        },
        {
         "hovertemplate": "<b>%{hovertext}</b><br><br>Country=Japan<br>GDP per capita (current US$)=%{x}<br>Average Internet usage over the years=%{marker.size}<extra></extra>",
         "hovertext": [
          "Japan"
         ],
         "legendgroup": "Japan",
         "marker": {
          "color": "#FF6692",
          "size": [
           70.89339976529835
          ],
          "sizemode": "area",
          "sizeref": 0.025361307840186014,
          "symbol": "circle"
         },
         "mode": "markers",
         "name": "Japan",
         "showlegend": true,
         "type": "scatter",
         "x": [
          34628.7
         ],
         "xaxis": "x",
         "y": [
          70.89339976529835
         ],
         "yaxis": "y"
        },
        {
         "hovertemplate": "<b>%{hovertext}</b><br><br>Country=Jordan<br>GDP per capita (current US$)=%{x}<br>Average Internet usage over the years=%{marker.size}<extra></extra>",
         "hovertext": [
          "Jordan"
         ],
         "legendgroup": "Jordan",
         "marker": {
          "color": "#B6E880",
          "size": [
           35.587547014230175
          ],
          "sizemode": "area",
          "sizeref": 0.025361307840186014,
          "symbol": "circle"
         },
         "mode": "markers",
         "name": "Jordan",
         "showlegend": true,
         "type": "scatter",
         "x": [
          4940.1
         ],
         "xaxis": "x",
         "y": [
          35.587547014230175
         ],
         "yaxis": "y"
        },
        {
         "hovertemplate": "<b>%{hovertext}</b><br><br>Country=Kazakhstan<br>GDP per capita (current US$)=%{x}<br>Average Internet usage over the years=%{marker.size}<extra></extra>",
         "hovertext": [
          "Kazakhstan"
         ],
         "legendgroup": "Kazakhstan",
         "marker": {
          "color": "#FF97FF",
          "size": [
           52.52631646753314
          ],
          "sizemode": "area",
          "sizeref": 0.025361307840186014,
          "symbol": "circle"
         },
         "mode": "markers",
         "name": "Kazakhstan",
         "showlegend": true,
         "type": "scatter",
         "x": [
          10312.1
         ],
         "xaxis": "x",
         "y": [
          52.52631646753314
         ],
         "yaxis": "y"
        },
        {
         "hovertemplate": "<b>%{hovertext}</b><br><br>Country=Kenya<br>GDP per capita (current US$)=%{x}<br>Average Internet usage over the years=%{marker.size}<extra></extra>",
         "hovertext": [
          "Kenya"
         ],
         "legendgroup": "Kenya",
         "marker": {
          "color": "#FECB52",
          "size": [
           10.039537497505517
          ],
          "sizemode": "area",
          "sizeref": 0.025361307840186014,
          "symbol": "circle"
         },
         "mode": "markers",
         "name": "Kenya",
         "showlegend": true,
         "type": "scatter",
         "x": [
          1376.7
         ],
         "xaxis": "x",
         "y": [
          10.039537497505517
         ],
         "yaxis": "y"
        },
        {
         "hovertemplate": "<b>%{hovertext}</b><br><br>Country=Kiribati<br>GDP per capita (current US$)=%{x}<br>Average Internet usage over the years=%{marker.size}<extra></extra>",
         "hovertext": [
          "Kiribati"
         ],
         "legendgroup": "Kiribati",
         "marker": {
          "color": "#636efa",
          "size": [
           9.14830229401086
          ],
          "sizemode": "area",
          "sizeref": 0.025361307840186014,
          "symbol": "circle"
         },
         "mode": "markers",
         "name": "Kiribati",
         "showlegend": true,
         "type": "scatter",
         "x": [
          1442.9
         ],
         "xaxis": "x",
         "y": [
          9.14830229401086
         ],
         "yaxis": "y"
        },
        {
         "hovertemplate": "<b>%{hovertext}</b><br><br>Country=Korea (Rep. of)<br>GDP per capita (current US$)=%{x}<br>Average Internet usage over the years=%{marker.size}<extra></extra>",
         "hovertext": [
          null
         ],
         "legendgroup": "Korea (Rep. of)",
         "marker": {
          "color": "#EF553B",
          "size": [
           83.25151694613277
          ],
          "sizemode": "area",
          "sizeref": 0.025361307840186014,
          "symbol": "circle"
         },
         "mode": "markers",
         "name": "Korea (Rep. of)",
         "showlegend": true,
         "type": "scatter",
         "x": [
          null
         ],
         "xaxis": "x",
         "y": [
          83.25151694613277
         ],
         "yaxis": "y"
        },
        {
         "hovertemplate": "<b>%{hovertext}</b><br><br>Country=Kuwait<br>GDP per capita (current US$)=%{x}<br>Average Internet usage over the years=%{marker.size}<extra></extra>",
         "hovertext": [
          "Kuwait"
         ],
         "legendgroup": "Kuwait",
         "marker": {
          "color": "#00cc96",
          "size": [
           66.76399555635406
          ],
          "sizemode": "area",
          "sizeref": 0.025361307840186014,
          "symbol": "circle"
         },
         "mode": "markers",
         "name": "Kuwait",
         "showlegend": true,
         "type": "scatter",
         "x": [
          29303.9
         ],
         "xaxis": "x",
         "y": [
          66.76399555635406
         ],
         "yaxis": "y"
        },
        {
         "hovertemplate": "<b>%{hovertext}</b><br><br>Country=Kyrgyzstan<br>GDP per capita (current US$)=%{x}<br>Average Internet usage over the years=%{marker.size}<extra></extra>",
         "hovertext": [
          "Kyrgyzstan"
         ],
         "legendgroup": "Kyrgyzstan",
         "marker": {
          "color": "#ab63fa",
          "size": [
           20.15656775095957
          ],
          "sizemode": "area",
          "sizeref": 0.025361307840186014,
          "symbol": "circle"
         },
         "mode": "markers",
         "name": "Kyrgyzstan",
         "showlegend": true,
         "type": "scatter",
         "x": [
          1106.4
         ],
         "xaxis": "x",
         "y": [
          20.15656775095957
         ],
         "yaxis": "y"
        },
        {
         "hovertemplate": "<b>%{hovertext}</b><br><br>Country=Lao People's Democratic Republic<br>GDP per capita (current US$)=%{x}<br>Average Internet usage over the years=%{marker.size}<extra></extra>",
         "hovertext": [
          "Lao People's Democratic Republic"
         ],
         "legendgroup": "Lao People's Democratic Republic",
         "marker": {
          "color": "#FFA15A",
          "size": [
           10.913592072182132
          ],
          "sizemode": "area",
          "sizeref": 0.025361307840186014,
          "symbol": "circle"
         },
         "mode": "markers",
         "name": "Lao People's Democratic Republic",
         "showlegend": true,
         "type": "scatter",
         "x": [
          1850.2
         ],
         "xaxis": "x",
         "y": [
          10.913592072182132
         ],
         "yaxis": "y"
        },
        {
         "hovertemplate": "<b>%{hovertext}</b><br><br>Country=Latvia<br>GDP per capita (current US$)=%{x}<br>Average Internet usage over the years=%{marker.size}<extra></extra>",
         "hovertext": [
          "Latvia"
         ],
         "legendgroup": "Latvia",
         "marker": {
          "color": "#19d3f3",
          "size": [
           67.0370281864885
          ],
          "sizemode": "area",
          "sizeref": 0.025361307840186014,
          "symbol": "circle"
         },
         "mode": "markers",
         "name": "Latvia",
         "showlegend": true,
         "type": "scatter",
         "x": [
          13704.1
         ],
         "xaxis": "x",
         "y": [
          67.0370281864885
         ],
         "yaxis": "y"
        },
        {
         "hovertemplate": "<b>%{hovertext}</b><br><br>Country=Lebanon<br>GDP per capita (current US$)=%{x}<br>Average Internet usage over the years=%{marker.size}<extra></extra>",
         "hovertext": [
          "Lebanon"
         ],
         "legendgroup": "Lebanon",
         "marker": {
          "color": "#FF6692",
          "size": [
           49.71030039503853
          ],
          "sizemode": "area",
          "sizeref": 0.025361307840186014,
          "symbol": "circle"
         },
         "mode": "markers",
         "name": "Lebanon",
         "showlegend": true,
         "type": "scatter",
         "x": [
          8571.4
         ],
         "xaxis": "x",
         "y": [
          49.71030039503853
         ],
         "yaxis": "y"
        },
        {
         "hovertemplate": "<b>%{hovertext}</b><br><br>Country=Lesotho<br>GDP per capita (current US$)=%{x}<br>Average Internet usage over the years=%{marker.size}<extra></extra>",
         "hovertext": [
          "Lesotho"
         ],
         "legendgroup": "Lesotho",
         "marker": {
          "color": "#B6E880",
          "size": [
           12.91018650495968
          ],
          "sizemode": "area",
          "sizeref": 0.025361307840186014,
          "symbol": "circle"
         },
         "mode": "markers",
         "name": "Lesotho",
         "showlegend": true,
         "type": "scatter",
         "x": [
          940.6
         ],
         "xaxis": "x",
         "y": [
          12.91018650495968
         ],
         "yaxis": "y"
        },
        {
         "hovertemplate": "<b>%{hovertext}</b><br><br>Country=Liberia<br>GDP per capita (current US$)=%{x}<br>Average Internet usage over the years=%{marker.size}<extra></extra>",
         "hovertext": [
          "Liberia"
         ],
         "legendgroup": "Liberia",
         "marker": {
          "color": "#FF97FF",
          "size": [
           5.84829898533049
          ],
          "sizemode": "area",
          "sizeref": 0.025361307840186014,
          "symbol": "circle"
         },
         "mode": "markers",
         "name": "Liberia",
         "showlegend": true,
         "type": "scatter",
         "x": [
          455.9
         ],
         "xaxis": "x",
         "y": [
          5.84829898533049
         ],
         "yaxis": "y"
        },
        {
         "hovertemplate": "<b>%{hovertext}</b><br><br>Country=Libya<br>GDP per capita (current US$)=%{x}<br>Average Internet usage over the years=%{marker.size}<extra></extra>",
         "hovertext": [
          "Libya"
         ],
         "legendgroup": "Libya",
         "marker": {
          "color": "#FECB52",
          "size": [
           11.582908232692784
          ],
          "sizemode": "area",
          "sizeref": 0.025361307840186014,
          "symbol": "circle"
         },
         "mode": "markers",
         "name": "Libya",
         "showlegend": true,
         "type": "scatter",
         "x": [
          5488.2
         ],
         "xaxis": "x",
         "y": [
          11.582908232692784
         ],
         "yaxis": "y"
        },
        {
         "hovertemplate": "<b>%{hovertext}</b><br><br>Country=Liechtenstein<br>GDP per capita (current US$)=%{x}<br>Average Internet usage over the years=%{marker.size}<extra></extra>",
         "hovertext": [
          "Liechtenstein"
         ],
         "legendgroup": "Liechtenstein",
         "marker": {
          "color": "#636efa",
          "size": [
           76.01267136626718
          ],
          "sizemode": "area",
          "sizeref": 0.025361307840186014,
          "symbol": "circle"
         },
         "mode": "markers",
         "name": "Liechtenstein",
         "showlegend": true,
         "type": "scatter",
         "x": [
          169491.8
         ],
         "xaxis": "x",
         "y": [
          76.01267136626718
         ],
         "yaxis": "y"
        },
        {
         "hovertemplate": "<b>%{hovertext}</b><br><br>Country=Lithuania<br>GDP per capita (current US$)=%{x}<br>Average Internet usage over the years=%{marker.size}<extra></extra>",
         "hovertext": [
          "Lithuania"
         ],
         "legendgroup": "Lithuania",
         "marker": {
          "color": "#EF553B",
          "size": [
           61.755674460062615
          ],
          "sizemode": "area",
          "sizeref": 0.025361307840186014,
          "symbol": "circle"
         },
         "mode": "markers",
         "name": "Lithuania",
         "showlegend": true,
         "type": "scatter",
         "x": [
          14383.7
         ],
         "xaxis": "x",
         "y": [
          61.755674460062615
         ],
         "yaxis": "y"
        },
        {
         "hovertemplate": "<b>%{hovertext}</b><br><br>Country=Luxembourg<br>GDP per capita (current US$)=%{x}<br>Average Internet usage over the years=%{marker.size}<extra></extra>",
         "hovertext": [
          "Luxembourg"
         ],
         "legendgroup": "Luxembourg",
         "marker": {
          "color": "#00cc96",
          "size": [
           85.71586981594385
          ],
          "sizemode": "area",
          "sizeref": 0.025361307840186014,
          "symbol": "circle"
         },
         "mode": "markers",
         "name": "Luxembourg",
         "showlegend": true,
         "type": "scatter",
         "x": [
          100160.8
         ],
         "xaxis": "x",
         "y": [
          85.71586981594385
         ],
         "yaxis": "y"
        },
        {
         "hovertemplate": "<b>%{hovertext}</b><br><br>Country=China, Macao SAR<br>GDP per capita (current US$)=%{x}<br>Average Internet usage over the years=%{marker.size}<extra></extra>",
         "hovertext": [
          "China, Macao SAR"
         ],
         "legendgroup": "China, Macao SAR",
         "marker": {
          "color": "#ab63fa",
          "size": [
           62.4522281484999
          ],
          "sizemode": "area",
          "sizeref": 0.025361307840186014,
          "symbol": "circle"
         },
         "mode": "markers",
         "name": "China, Macao SAR",
         "showlegend": true,
         "type": "scatter",
         "x": [
          78586.4
         ],
         "xaxis": "x",
         "y": [
          62.4522281484999
         ],
         "yaxis": "y"
        },
        {
         "hovertemplate": "<b>%{hovertext}</b><br><br>Country=Madagascar<br>GDP per capita (current US$)=%{x}<br>Average Internet usage over the years=%{marker.size}<extra></extra>",
         "hovertext": [
          "Madagascar"
         ],
         "legendgroup": "Madagascar",
         "marker": {
          "color": "#FFA15A",
          "size": [
           2.913795598431704
          ],
          "sizemode": "area",
          "sizeref": 0.025361307840186014,
          "symbol": "circle"
         },
         "mode": "markers",
         "name": "Madagascar",
         "showlegend": true,
         "type": "scatter",
         "x": [
          401.8
         ],
         "xaxis": "x",
         "y": [
          2.913795598431704
         ],
         "yaxis": "y"
        },
        {
         "hovertemplate": "<b>%{hovertext}</b><br><br>Country=Malawi<br>GDP per capita (current US$)=%{x}<br>Average Internet usage over the years=%{marker.size}<extra></extra>",
         "hovertext": [
          "Malawi"
         ],
         "legendgroup": "Malawi",
         "marker": {
          "color": "#19d3f3",
          "size": [
           4.716730424620625
          ],
          "sizemode": "area",
          "sizeref": 0.025361307840186014,
          "symbol": "circle"
         },
         "mode": "markers",
         "name": "Malawi",
         "showlegend": true,
         "type": "scatter",
         "x": [
          372.9
         ],
         "xaxis": "x",
         "y": [
          4.716730424620625
         ],
         "yaxis": "y"
        },
        {
         "hovertemplate": "<b>%{hovertext}</b><br><br>Country=Malaysia<br>GDP per capita (current US$)=%{x}<br>Average Internet usage over the years=%{marker.size}<extra></extra>",
         "hovertext": [
          "Malaysia"
         ],
         "legendgroup": "Malaysia",
         "marker": {
          "color": "#FF6692",
          "size": [
           62.27558208681162
          ],
          "sizemode": "area",
          "sizeref": 0.025361307840186014,
          "symbol": "circle"
         },
         "mode": "markers",
         "name": "Malaysia",
         "showlegend": true,
         "type": "scatter",
         "x": [
          9768.4
         ],
         "xaxis": "x",
         "y": [
          62.27558208681162
         ],
         "yaxis": "y"
        },
        {
         "hovertemplate": "<b>%{hovertext}</b><br><br>Country=Maldives<br>GDP per capita (current US$)=%{x}<br>Average Internet usage over the years=%{marker.size}<extra></extra>",
         "hovertext": [
          "Maldives"
         ],
         "legendgroup": "Maldives",
         "marker": {
          "color": "#B6E880",
          "size": [
           34.42307172759476
          ],
          "sizemode": "area",
          "sizeref": 0.025361307840186014,
          "symbol": "circle"
         },
         "mode": "markers",
         "name": "Maldives",
         "showlegend": true,
         "type": "scatter",
         "x": [
          9446.5
         ],
         "xaxis": "x",
         "y": [
          34.42307172759476
         ],
         "yaxis": "y"
        },
        {
         "hovertemplate": "<b>%{hovertext}</b><br><br>Country=Mali<br>GDP per capita (current US$)=%{x}<br>Average Internet usage over the years=%{marker.size}<extra></extra>",
         "hovertext": [
          "Mali"
         ],
         "legendgroup": "Mali",
         "marker": {
          "color": "#FF97FF",
          "size": [
           4.781072307278212
          ],
          "sizemode": "area",
          "sizeref": 0.025361307840186014,
          "symbol": "circle"
         },
         "mode": "markers",
         "name": "Mali",
         "showlegend": true,
         "type": "scatter",
         "x": [
          744.3
         ],
         "xaxis": "x",
         "y": [
          4.781072307278212
         ],
         "yaxis": "y"
        },
        {
         "hovertemplate": "<b>%{hovertext}</b><br><br>Country=Malta<br>GDP per capita (current US$)=%{x}<br>Average Internet usage over the years=%{marker.size}<extra></extra>",
         "hovertext": [
          "Malta"
         ],
         "legendgroup": "Malta",
         "marker": {
          "color": "#FECB52",
          "size": [
           64.73703629046764
          ],
          "sizemode": "area",
          "sizeref": 0.025361307840186014,
          "symbol": "circle"
         },
         "mode": "markers",
         "name": "Malta",
         "showlegend": true,
         "type": "scatter",
         "x": [
          23280.7
         ],
         "xaxis": "x",
         "y": [
          64.73703629046764
         ],
         "yaxis": "y"
        },
        {
         "hovertemplate": "<b>%{hovertext}</b><br><br>Country=Marshall Islands<br>GDP per capita (current US$)=%{x}<br>Average Internet usage over the years=%{marker.size}<extra></extra>",
         "hovertext": [
          "Marshall Islands"
         ],
         "legendgroup": "Marshall Islands",
         "marker": {
          "color": "#636efa",
          "size": [
           13.953123452721828
          ],
          "sizemode": "area",
          "sizeref": 0.025361307840186014,
          "symbol": "circle"
         },
         "mode": "markers",
         "name": "Marshall Islands",
         "showlegend": true,
         "type": "scatter",
         "x": [
          3452.6
         ],
         "xaxis": "x",
         "y": [
          13.953123452721828
         ],
         "yaxis": "y"
        },
        {
         "hovertemplate": "<b>%{hovertext}</b><br><br>Country=Mauritania<br>GDP per capita (current US$)=%{x}<br>Average Internet usage over the years=%{marker.size}<extra></extra>",
         "hovertext": [
          "Mauritania"
         ],
         "legendgroup": "Mauritania",
         "marker": {
          "color": "#EF553B",
          "size": [
           7.75109893541522
          ],
          "sizemode": "area",
          "sizeref": 0.025361307840186014,
          "symbol": "circle"
         },
         "mode": "markers",
         "name": "Mauritania",
         "showlegend": true,
         "type": "scatter",
         "x": [
          1235
         ],
         "xaxis": "x",
         "y": [
          7.75109893541522
         ],
         "yaxis": "y"
        },
        {
         "hovertemplate": "<b>%{hovertext}</b><br><br>Country=Mauritius<br>GDP per capita (current US$)=%{x}<br>Average Internet usage over the years=%{marker.size}<extra></extra>",
         "hovertext": [
          "Mauritius"
         ],
         "legendgroup": "Mauritius",
         "marker": {
          "color": "#00cc96",
          "size": [
           38.40035625382354
          ],
          "sizemode": "area",
          "sizeref": 0.025361307840186014,
          "symbol": "circle"
         },
         "mode": "markers",
         "name": "Mauritius",
         "showlegend": true,
         "type": "scatter",
         "x": [
          9040.9
         ],
         "xaxis": "x",
         "y": [
          38.40035625382354
         ],
         "yaxis": "y"
        },
        {
         "hovertemplate": "<b>%{hovertext}</b><br><br>Country=Mexico<br>GDP per capita (current US$)=%{x}<br>Average Internet usage over the years=%{marker.size}<extra></extra>",
         "hovertext": [
          "Mexico"
         ],
         "legendgroup": "Mexico",
         "marker": {
          "color": "#ab63fa",
          "size": [
           42.2467320112896
          ],
          "sizemode": "area",
          "sizeref": 0.025361307840186014,
          "symbol": "circle"
         },
         "mode": "markers",
         "name": "Mexico",
         "showlegend": true,
         "type": "scatter",
         "x": [
          8980.9
         ],
         "xaxis": "x",
         "y": [
          42.2467320112896
         ],
         "yaxis": "y"
        },
        {
         "hovertemplate": "<b>%{hovertext}</b><br><br>Country=Micronesia (Federated States of)<br>GDP per capita (current US$)=%{x}<br>Average Internet usage over the years=%{marker.size}<extra></extra>",
         "hovertext": [
          "Micronesia (Federated States of)"
         ],
         "legendgroup": "Micronesia (Federated States of)",
         "marker": {
          "color": "#FFA15A",
          "size": [
           21.999813721176654
          ],
          "sizemode": "area",
          "sizeref": 0.025361307840186014,
          "symbol": "circle"
         },
         "mode": "markers",
         "name": "Micronesia (Federated States of)",
         "showlegend": true,
         "type": "scatter",
         "x": [
          3015.2
         ],
         "xaxis": "x",
         "y": [
          21.999813721176654
         ],
         "yaxis": "y"
        },
        {
         "hovertemplate": "<b>%{hovertext}</b><br><br>Country=Moldova<br>GDP per capita (current US$)=%{x}<br>Average Internet usage over the years=%{marker.size}<extra></extra>",
         "hovertext": [
          null
         ],
         "legendgroup": "Moldova",
         "marker": {
          "color": "#19d3f3",
          "size": [
           42.973421443185515
          ],
          "sizemode": "area",
          "sizeref": 0.025361307840186014,
          "symbol": "circle"
         },
         "mode": "markers",
         "name": "Moldova",
         "showlegend": true,
         "type": "scatter",
         "x": [
          null
         ],
         "xaxis": "x",
         "y": [
          42.973421443185515
         ],
         "yaxis": "y"
        },
        {
         "hovertemplate": "<b>%{hovertext}</b><br><br>Country=Monaco<br>GDP per capita (current US$)=%{x}<br>Average Internet usage over the years=%{marker.size}<extra></extra>",
         "hovertext": [
          "Monaco"
         ],
         "legendgroup": "Monaco",
         "marker": {
          "color": "#FF6692",
          "size": [
           73.51583148429559
          ],
          "sizemode": "area",
          "sizeref": 0.025361307840186014,
          "symbol": "circle"
         },
         "mode": "markers",
         "name": "Monaco",
         "showlegend": true,
         "type": "scatter",
         "x": [
          165870.6
         ],
         "xaxis": "x",
         "y": [
          73.51583148429559
         ],
         "yaxis": "y"
        },
        {
         "hovertemplate": "<b>%{hovertext}</b><br><br>Country=Mongolia<br>GDP per capita (current US$)=%{x}<br>Average Internet usage over the years=%{marker.size}<extra></extra>",
         "hovertext": [
          "Mongolia"
         ],
         "legendgroup": "Mongolia",
         "marker": {
          "color": "#B6E880",
          "size": [
           13.316192235586493
          ],
          "sizemode": "area",
          "sizeref": 0.025361307840186014,
          "symbol": "circle"
         },
         "mode": "markers",
         "name": "Mongolia",
         "showlegend": true,
         "type": "scatter",
         "x": [
          3973.4
         ],
         "xaxis": "x",
         "y": [
          13.316192235586493
         ],
         "yaxis": "y"
        },
        {
         "hovertemplate": "<b>%{hovertext}</b><br><br>Country=Montenegro<br>GDP per capita (current US$)=%{x}<br>Average Internet usage over the years=%{marker.size}<extra></extra>",
         "hovertext": [
          "Montenegro"
         ],
         "legendgroup": "Montenegro",
         "marker": {
          "color": "#FF97FF",
          "size": [
           50.831921564433515
          ],
          "sizemode": "area",
          "sizeref": 0.025361307840186014,
          "symbol": "circle"
         },
         "mode": "markers",
         "name": "Montenegro",
         "showlegend": true,
         "type": "scatter",
         "x": [
          6424.1
         ],
         "xaxis": "x",
         "y": [
          50.831921564433515
         ],
         "yaxis": "y"
        },
        {
         "hovertemplate": "<b>%{hovertext}</b><br><br>Country=Morocco<br>GDP per capita (current US$)=%{x}<br>Average Internet usage over the years=%{marker.size}<extra></extra>",
         "hovertext": [
          "Morocco"
         ],
         "legendgroup": "Morocco",
         "marker": {
          "color": "#FECB52",
          "size": [
           47.63809865270177
          ],
          "sizemode": "area",
          "sizeref": 0.025361307840186014,
          "symbol": "circle"
         },
         "mode": "markers",
         "name": "Morocco",
         "showlegend": true,
         "type": "scatter",
         "x": [
          2919.3
         ],
         "xaxis": "x",
         "y": [
          47.63809865270177
         ],
         "yaxis": "y"
        },
        {
         "hovertemplate": "<b>%{hovertext}</b><br><br>Country=Mozambique<br>GDP per capita (current US$)=%{x}<br>Average Internet usage over the years=%{marker.size}<extra></extra>",
         "hovertext": [
          "Mozambique"
         ],
         "legendgroup": "Mozambique",
         "marker": {
          "color": "#636efa",
          "size": [
           6.947179450090141
          ],
          "sizemode": "area",
          "sizeref": 0.025361307840186014,
          "symbol": "circle"
         },
         "mode": "markers",
         "name": "Mozambique",
         "showlegend": true,
         "type": "scatter",
         "x": [
          529.2
         ],
         "xaxis": "x",
         "y": [
          6.947179450090141
         ],
         "yaxis": "y"
        },
        {
         "hovertemplate": "<b>%{hovertext}</b><br><br>Country=Myanmar<br>GDP per capita (current US$)=%{x}<br>Average Internet usage over the years=%{marker.size}<extra></extra>",
         "hovertext": [
          "Myanmar"
         ],
         "legendgroup": "Myanmar",
         "marker": {
          "color": "#EF553B",
          "size": [
           9.299323656250941
          ],
          "sizemode": "area",
          "sizeref": 0.025361307840186014,
          "symbol": "circle"
         },
         "mode": "markers",
         "name": "Myanmar",
         "showlegend": true,
         "type": "scatter",
         "x": [
          1161.5
         ],
         "xaxis": "x",
         "y": [
          9.299323656250941
         ],
         "yaxis": "y"
        },
        {
         "hovertemplate": "<b>%{hovertext}</b><br><br>Country=Namibia<br>GDP per capita (current US$)=%{x}<br>Average Internet usage over the years=%{marker.size}<extra></extra>",
         "hovertext": [
          "Namibia"
         ],
         "legendgroup": "Namibia",
         "marker": {
          "color": "#00cc96",
          "size": [
           16.241580359094375
          ],
          "sizemode": "area",
          "sizeref": 0.025361307840186014,
          "symbol": "circle"
         },
         "mode": "markers",
         "name": "Namibia",
         "showlegend": true,
         "type": "scatter",
         "x": [
          4673.6
         ],
         "xaxis": "x",
         "y": [
          16.241580359094375
         ],
         "yaxis": "y"
        },
        {
         "hovertemplate": "<b>%{hovertext}</b><br><br>Country=Nauru<br>GDP per capita (current US$)=%{x}<br>Average Internet usage over the years=%{marker.size}<extra></extra>",
         "hovertext": [
          "Nauru"
         ],
         "legendgroup": "Nauru",
         "marker": {
          "color": "#ab63fa",
          "size": [
           10.090909090909092
          ],
          "sizemode": "area",
          "sizeref": 0.025361307840186014,
          "symbol": "circle"
         },
         "mode": "markers",
         "name": "Nauru",
         "showlegend": true,
         "type": "scatter",
         "x": [
          18469.2
         ],
         "xaxis": "x",
         "y": [
          10.090909090909092
         ],
         "yaxis": "y"
        },
        {
         "hovertemplate": "<b>%{hovertext}</b><br><br>Country=Nepal (Republic of)<br>GDP per capita (current US$)=%{x}<br>Average Internet usage over the years=%{marker.size}<extra></extra>",
         "hovertext": [
          null
         ],
         "legendgroup": "Nepal (Republic of)",
         "marker": {
          "color": "#FFA15A",
          "size": [
           11.738262253886141
          ],
          "sizemode": "area",
          "sizeref": 0.025361307840186014,
          "symbol": "circle"
         },
         "mode": "markers",
         "name": "Nepal (Republic of)",
         "showlegend": true,
         "type": "scatter",
         "x": [
          null
         ],
         "xaxis": "x",
         "y": [
          11.738262253886141
         ],
         "yaxis": "y"
        },
        {
         "hovertemplate": "<b>%{hovertext}</b><br><br>Country=Netherlands<br>GDP per capita (current US$)=%{x}<br>Average Internet usage over the years=%{marker.size}<extra></extra>",
         "hovertext": [
          "Netherlands"
         ],
         "legendgroup": "Netherlands",
         "marker": {
          "color": "#19d3f3",
          "size": [
           86.87744135978693
          ],
          "sizemode": "area",
          "sizeref": 0.025361307840186014,
          "symbol": "circle"
         },
         "mode": "markers",
         "name": "Netherlands",
         "showlegend": true,
         "type": "scatter",
         "x": [
          44332.1
         ],
         "xaxis": "x",
         "y": [
          86.87744135978693
         ],
         "yaxis": "y"
        },
        {
         "hovertemplate": "<b>%{hovertext}</b><br><br>Country=New Zealand<br>GDP per capita (current US$)=%{x}<br>Average Internet usage over the years=%{marker.size}<extra></extra>",
         "hovertext": [
          "New Zealand"
         ],
         "legendgroup": "New Zealand",
         "marker": {
          "color": "#FF6692",
          "size": [
           71.74712793900886
          ],
          "sizemode": "area",
          "sizeref": 0.025361307840186014,
          "symbol": "circle"
         },
         "mode": "markers",
         "name": "New Zealand",
         "showlegend": true,
         "type": "scatter",
         "x": [
          38294.3
         ],
         "xaxis": "x",
         "y": [
          71.74712793900886
         ],
         "yaxis": "y"
        },
        {
         "hovertemplate": "<b>%{hovertext}</b><br><br>Country=Nicaragua<br>GDP per capita (current US$)=%{x}<br>Average Internet usage over the years=%{marker.size}<extra></extra>",
         "hovertext": [
          "Nicaragua"
         ],
         "legendgroup": "Nicaragua",
         "marker": {
          "color": "#B6E880",
          "size": [
           12.989612102778066
          ],
          "sizemode": "area",
          "sizeref": 0.025361307840186014,
          "symbol": "circle"
         },
         "mode": "markers",
         "name": "Nicaragua",
         "showlegend": true,
         "type": "scatter",
         "x": [
          2086.9
         ],
         "xaxis": "x",
         "y": [
          12.989612102778066
         ],
         "yaxis": "y"
        },
        {
         "hovertemplate": "<b>%{hovertext}</b><br><br>Country=Niger<br>GDP per capita (current US$)=%{x}<br>Average Internet usage over the years=%{marker.size}<extra></extra>",
         "hovertext": [
          "Niger"
         ],
         "legendgroup": "Niger",
         "marker": {
          "color": "#FF97FF",
          "size": [
           2.519095962390164
          ],
          "sizemode": "area",
          "sizeref": 0.025361307840186014,
          "symbol": "circle"
         },
         "mode": "markers",
         "name": "Niger",
         "showlegend": true,
         "type": "scatter",
         "x": [
          359
         ],
         "xaxis": "x",
         "y": [
          2.519095962390164
         ],
         "yaxis": "y"
        },
        {
         "hovertemplate": "<b>%{hovertext}</b><br><br>Country=Nigeria<br>GDP per capita (current US$)=%{x}<br>Average Internet usage over the years=%{marker.size}<extra></extra>",
         "hovertext": [
          "Nigeria"
         ],
         "legendgroup": "Nigeria",
         "marker": {
          "color": "#FECB52",
          "size": [
           17.162112411446756
          ],
          "sizemode": "area",
          "sizeref": 0.025361307840186014,
          "symbol": "circle"
         },
         "mode": "markers",
         "name": "Nigeria",
         "showlegend": true,
         "type": "scatter",
         "x": [
          2714.5
         ],
         "xaxis": "x",
         "y": [
          17.162112411446756
         ],
         "yaxis": "y"
        },
        {
         "hovertemplate": "<b>%{hovertext}</b><br><br>Country=Norway<br>GDP per capita (current US$)=%{x}<br>Average Internet usage over the years=%{marker.size}<extra></extra>",
         "hovertext": [
          "Norway"
         ],
         "legendgroup": "Norway",
         "marker": {
          "color": "#636efa",
          "size": [
           90.34828396941448
          ],
          "sizemode": "area",
          "sizeref": 0.025361307840186014,
          "symbol": "circle"
         },
         "mode": "markers",
         "name": "Norway",
         "showlegend": true,
         "type": "scatter",
         "x": [
          74185.5
         ],
         "xaxis": "x",
         "y": [
          90.34828396941448
         ],
         "yaxis": "y"
        },
        {
         "hovertemplate": "<b>%{hovertext}</b><br><br>Country=Oman<br>GDP per capita (current US$)=%{x}<br>Average Internet usage over the years=%{marker.size}<extra></extra>",
         "hovertext": [
          "Oman"
         ],
         "legendgroup": "Oman",
         "marker": {
          "color": "#EF553B",
          "size": [
           47.38752991272483
          ],
          "sizemode": "area",
          "sizeref": 0.025361307840186014,
          "symbol": "circle"
         },
         "mode": "markers",
         "name": "Oman",
         "showlegend": true,
         "type": "scatter",
         "x": [
          15550.8
         ],
         "xaxis": "x",
         "y": [
          47.38752991272483
         ],
         "yaxis": "y"
        },
        {
         "hovertemplate": "<b>%{hovertext}</b><br><br>Country=Pakistan<br>GDP per capita (current US$)=%{x}<br>Average Internet usage over the years=%{marker.size}<extra></extra>",
         "hovertext": [
          "Pakistan"
         ],
         "legendgroup": "Pakistan",
         "marker": {
          "color": "#00cc96",
          "size": [
           8.91707053257344
          ],
          "sizemode": "area",
          "sizeref": 0.025361307840186014,
          "symbol": "circle"
         },
         "mode": "markers",
         "name": "Pakistan",
         "showlegend": true,
         "type": "scatter",
         "x": [
          1410.4
         ],
         "xaxis": "x",
         "y": [
          8.91707053257344
         ],
         "yaxis": "y"
        },
        {
         "hovertemplate": "<b>%{hovertext}</b><br><br>Country=Palestine<br>GDP per capita (current US$)=%{x}<br>Average Internet usage over the years=%{marker.size}<extra></extra>",
         "hovertext": [
          null
         ],
         "legendgroup": "Palestine",
         "marker": {
          "color": "#ab63fa",
          "size": [
           44.315352469079954
          ],
          "sizemode": "area",
          "sizeref": 0.025361307840186014,
          "symbol": "circle"
         },
         "mode": "markers",
         "name": "Palestine",
         "showlegend": true,
         "type": "scatter",
         "x": [
          null
         ],
         "xaxis": "x",
         "y": [
          44.315352469079954
         ],
         "yaxis": "y"
        },
        {
         "hovertemplate": "<b>%{hovertext}</b><br><br>Country=Panama<br>GDP per capita (current US$)=%{x}<br>Average Internet usage over the years=%{marker.size}<extra></extra>",
         "hovertext": [
          "Panama"
         ],
         "legendgroup": "Panama",
         "marker": {
          "color": "#FFA15A",
          "size": [
           35.741928730648
          ],
          "sizemode": "area",
          "sizeref": 0.025361307840186014,
          "symbol": "circle"
         },
         "mode": "markers",
         "name": "Panama",
         "showlegend": true,
         "type": "scatter",
         "x": [
          13268.1
         ],
         "xaxis": "x",
         "y": [
          35.741928730648
         ],
         "yaxis": "y"
        },
        {
         "hovertemplate": "<b>%{hovertext}</b><br><br>Country=Papua New Guinea<br>GDP per capita (current US$)=%{x}<br>Average Internet usage over the years=%{marker.size}<extra></extra>",
         "hovertext": [
          "Papua New Guinea"
         ],
         "legendgroup": "Papua New Guinea",
         "marker": {
          "color": "#19d3f3",
          "size": [
           4.512924984762882
          ],
          "sizemode": "area",
          "sizeref": 0.025361307840186014,
          "symbol": "circle"
         },
         "mode": "markers",
         "name": "Papua New Guinea",
         "showlegend": true,
         "type": "scatter",
         "x": [
          2797.6
         ],
         "xaxis": "x",
         "y": [
          4.512924984762882
         ],
         "yaxis": "y"
        },
        {
         "hovertemplate": "<b>%{hovertext}</b><br><br>Country=Paraguay<br>GDP per capita (current US$)=%{x}<br>Average Internet usage over the years=%{marker.size}<extra></extra>",
         "hovertext": [
          "Paraguay"
         ],
         "legendgroup": "Paraguay",
         "marker": {
          "color": "#FF6692",
          "size": [
           35.604689197812355
          ],
          "sizemode": "area",
          "sizeref": 0.025361307840186014,
          "symbol": "circle"
         },
         "mode": "markers",
         "name": "Paraguay",
         "showlegend": true,
         "type": "scatter",
         "x": [
          4174.4
         ],
         "xaxis": "x",
         "y": [
          35.604689197812355
         ],
         "yaxis": "y"
        },
        {
         "hovertemplate": "<b>%{hovertext}</b><br><br>Country=Peru<br>GDP per capita (current US$)=%{x}<br>Average Internet usage over the years=%{marker.size}<extra></extra>",
         "hovertext": [
          "Peru"
         ],
         "legendgroup": "Peru",
         "marker": {
          "color": "#B6E880",
          "size": [
           36.01261047658745
          ],
          "sizemode": "area",
          "sizeref": 0.025361307840186014,
          "symbol": "circle"
         },
         "mode": "markers",
         "name": "Peru",
         "showlegend": true,
         "type": "scatter",
         "x": [
          6069.1
         ],
         "xaxis": "x",
         "y": [
          36.01261047658745
         ],
         "yaxis": "y"
        },
        {
         "hovertemplate": "<b>%{hovertext}</b><br><br>Country=Philippines<br>GDP per capita (current US$)=%{x}<br>Average Internet usage over the years=%{marker.size}<extra></extra>",
         "hovertext": [
          "Philippines"
         ],
         "legendgroup": "Philippines",
         "marker": {
          "color": "#FF97FF",
          "size": [
           31.53352485892228
          ],
          "sizemode": "area",
          "sizeref": 0.025361307840186014,
          "symbol": "circle"
         },
         "mode": "markers",
         "name": "Philippines",
         "showlegend": true,
         "type": "scatter",
         "x": [
          2904.2
         ],
         "xaxis": "x",
         "y": [
          31.53352485892228
         ],
         "yaxis": "y"
        },
        {
         "hovertemplate": "<b>%{hovertext}</b><br><br>Country=Poland<br>GDP per capita (current US$)=%{x}<br>Average Internet usage over the years=%{marker.size}<extra></extra>",
         "hovertext": [
          "Poland"
         ],
         "legendgroup": "Poland",
         "marker": {
          "color": "#FECB52",
          "size": [
           59.72267541213726
          ],
          "sizemode": "area",
          "sizeref": 0.025361307840186014,
          "symbol": "circle"
         },
         "mode": "markers",
         "name": "Poland",
         "showlegend": true,
         "type": "scatter",
         "x": [
          12355.5
         ],
         "xaxis": "x",
         "y": [
          59.72267541213726
         ],
         "yaxis": "y"
        },
        {
         "hovertemplate": "<b>%{hovertext}</b><br><br>Country=Portugal<br>GDP per capita (current US$)=%{x}<br>Average Internet usage over the years=%{marker.size}<extra></extra>",
         "hovertext": [
          "Portugal"
         ],
         "legendgroup": "Portugal",
         "marker": {
          "color": "#636efa",
          "size": [
           57.68224648890957
          ],
          "sizemode": "area",
          "sizeref": 0.025361307840186014,
          "symbol": "circle"
         },
         "mode": "markers",
         "name": "Portugal",
         "showlegend": true,
         "type": "scatter",
         "x": [
          19239.2
         ],
         "xaxis": "x",
         "y": [
          57.68224648890957
         ],
         "yaxis": "y"
        },
        {
         "hovertemplate": "<b>%{hovertext}</b><br><br>Country=Puerto Rico<br>GDP per capita (current US$)=%{x}<br>Average Internet usage over the years=%{marker.size}<extra></extra>",
         "hovertext": [
          "Puerto Rico"
         ],
         "legendgroup": "Puerto Rico",
         "marker": {
          "color": "#EF553B",
          "size": [
           42.53512291391031
          ],
          "sizemode": "area",
          "sizeref": 0.025361307840186014,
          "symbol": "circle"
         },
         "mode": "markers",
         "name": "Puerto Rico",
         "showlegend": true,
         "type": "scatter",
         "x": [
          27939
         ],
         "xaxis": "x",
         "y": [
          42.53512291391031
         ],
         "yaxis": "y"
        },
        {
         "hovertemplate": "<b>%{hovertext}</b><br><br>Country=Qatar<br>GDP per capita (current US$)=%{x}<br>Average Internet usage over the years=%{marker.size}<extra></extra>",
         "hovertext": [
          "Qatar"
         ],
         "legendgroup": "Qatar",
         "marker": {
          "color": "#00cc96",
          "size": [
           72.61257817009086
          ],
          "sizemode": "area",
          "sizeref": 0.025361307840186014,
          "symbol": "circle"
         },
         "mode": "markers",
         "name": "Qatar",
         "showlegend": true,
         "type": "scatter",
         "x": [
          73653.4
         ],
         "xaxis": "x",
         "y": [
          72.61257817009086
         ],
         "yaxis": "y"
        },
        {
         "hovertemplate": "<b>%{hovertext}</b><br><br>Country=Romania<br>GDP per capita (current US$)=%{x}<br>Average Internet usage over the years=%{marker.size}<extra></extra>",
         "hovertext": [
          "Romania"
         ],
         "legendgroup": "Romania",
         "marker": {
          "color": "#ab63fa",
          "size": [
           45.861265429333436
          ],
          "sizemode": "area",
          "sizeref": 0.025361307840186014,
          "symbol": "circle"
         },
         "mode": "markers",
         "name": "Romania",
         "showlegend": true,
         "type": "scatter",
         "x": [
          9120.7
         ],
         "xaxis": "x",
         "y": [
          45.861265429333436
         ],
         "yaxis": "y"
        },
        {
         "hovertemplate": "<b>%{hovertext}</b><br><br>Country=Russia<br>GDP per capita (current US$)=%{x}<br>Average Internet usage over the years=%{marker.size}<extra></extra>",
         "hovertext": [
          "Russia"
         ],
         "legendgroup": "Russia",
         "marker": {
          "color": "#FFA15A",
          "size": [
           55.596199846814265
          ],
          "sizemode": "area",
          "sizeref": 0.025361307840186014,
          "symbol": "circle"
         },
         "mode": "markers",
         "name": "Russia",
         "showlegend": true,
         "type": "scatter",
         "x": [
          9243.3
         ],
         "xaxis": "x",
         "y": [
          55.596199846814265
         ],
         "yaxis": "y"
        },
        {
         "hovertemplate": "<b>%{hovertext}</b><br><br>Country=Rwanda<br>GDP per capita (current US$)=%{x}<br>Average Internet usage over the years=%{marker.size}<extra></extra>",
         "hovertext": [
          "Rwanda"
         ],
         "legendgroup": "Rwanda",
         "marker": {
          "color": "#19d3f3",
          "size": [
           9.364578138425099
          ],
          "sizemode": "area",
          "sizeref": 0.025361307840186014,
          "symbol": "circle"
         },
         "mode": "markers",
         "name": "Rwanda",
         "showlegend": true,
         "type": "scatter",
         "x": [
          697.3
         ],
         "xaxis": "x",
         "y": [
          9.364578138425099
         ],
         "yaxis": "y"
        },
        {
         "hovertemplate": "<b>%{hovertext}</b><br><br>Country=Saint Kitts and Nevis<br>GDP per capita (current US$)=%{x}<br>Average Internet usage over the years=%{marker.size}<extra></extra>",
         "hovertext": [
          "Saint Kitts and Nevis"
         ],
         "legendgroup": "Saint Kitts and Nevis",
         "marker": {
          "color": "#FF6692",
          "size": [
           54.17187963239342
          ],
          "sizemode": "area",
          "sizeref": 0.025361307840186014,
          "symbol": "circle"
         },
         "mode": "markers",
         "name": "Saint Kitts and Nevis",
         "showlegend": true,
         "type": "scatter",
         "x": [
          15771.9
         ],
         "xaxis": "x",
         "y": [
          54.17187963239342
         ],
         "yaxis": "y"
        },
        {
         "hovertemplate": "<b>%{hovertext}</b><br><br>Country=Saint Lucia<br>GDP per capita (current US$)=%{x}<br>Average Internet usage over the years=%{marker.size}<extra></extra>",
         "hovertext": [
          "Saint Lucia"
         ],
         "legendgroup": "Saint Lucia",
         "marker": {
          "color": "#B6E880",
          "size": [
           31.25030178161835
          ],
          "sizemode": "area",
          "sizeref": 0.025361307840186014,
          "symbol": "circle"
         },
         "mode": "markers",
         "name": "Saint Lucia",
         "showlegend": true,
         "type": "scatter",
         "x": [
          7839.4
         ],
         "xaxis": "x",
         "y": [
          31.25030178161835
         ],
         "yaxis": "y"
        },
        {
         "hovertemplate": "<b>%{hovertext}</b><br><br>Country=Saint Vincent and the Grenadines<br>GDP per capita (current US$)=%{x}<br>Average Internet usage over the years=%{marker.size}<extra></extra>",
         "hovertext": [
          "Saint Vincent and the Grenadines"
         ],
         "legendgroup": "Saint Vincent and the Grenadines",
         "marker": {
          "color": "#FF97FF",
          "size": [
           26.90575967308647
          ],
          "sizemode": "area",
          "sizeref": 0.025361307840186014,
          "symbol": "circle"
         },
         "mode": "markers",
         "name": "Saint Vincent and the Grenadines",
         "showlegend": true,
         "type": "scatter",
         "x": [
          6739.2
         ],
         "xaxis": "x",
         "y": [
          26.90575967308647
         ],
         "yaxis": "y"
        },
        {
         "hovertemplate": "<b>%{hovertext}</b><br><br>Country=Samoa<br>GDP per capita (current US$)=%{x}<br>Average Internet usage over the years=%{marker.size}<extra></extra>",
         "hovertext": [
          "Samoa"
         ],
         "legendgroup": "Samoa",
         "marker": {
          "color": "#FECB52",
          "size": [
           14.524650349476802
          ],
          "sizemode": "area",
          "sizeref": 0.025361307840186014,
          "symbol": "circle"
         },
         "mode": "markers",
         "name": "Samoa",
         "showlegend": true,
         "type": "scatter",
         "x": [
          4006
         ],
         "xaxis": "x",
         "y": [
          14.524650349476802
         ],
         "yaxis": "y"
        },
        {
         "hovertemplate": "<b>%{hovertext}</b><br><br>Country=San Marino<br>GDP per capita (current US$)=%{x}<br>Average Internet usage over the years=%{marker.size}<extra></extra>",
         "hovertext": [
          "San Marino"
         ],
         "legendgroup": "San Marino",
         "marker": {
          "color": "#636efa",
          "size": [
           18.985578251184208
          ],
          "sizemode": "area",
          "sizeref": 0.025361307840186014,
          "symbol": "circle"
         },
         "mode": "markers",
         "name": "San Marino",
         "showlegend": true,
         "type": "scatter",
         "x": [
          49240.2
         ],
         "xaxis": "x",
         "y": [
          18.985578251184208
         ],
         "yaxis": "y"
        },
        {
         "hovertemplate": "<b>%{hovertext}</b><br><br>Country=Sao Tome and Principe<br>GDP per capita (current US$)=%{x}<br>Average Internet usage over the years=%{marker.size}<extra></extra>",
         "hovertext": [
          "Sao Tome and Principe"
         ],
         "legendgroup": "Sao Tome and Principe",
         "marker": {
          "color": "#EF553B",
          "size": [
           19.09480274855771
          ],
          "sizemode": "area",
          "sizeref": 0.025361307840186014,
          "symbol": "circle"
         },
         "mode": "markers",
         "name": "Sao Tome and Principe",
         "showlegend": true,
         "type": "scatter",
         "x": [
          1752.8
         ],
         "xaxis": "x",
         "y": [
          19.09480274855771
         ],
         "yaxis": "y"
        },
        {
         "hovertemplate": "<b>%{hovertext}</b><br><br>Country=Saudi Arabia<br>GDP per capita (current US$)=%{x}<br>Average Internet usage over the years=%{marker.size}<extra></extra>",
         "hovertext": [
          "Saudi Arabia"
         ],
         "legendgroup": "Saudi Arabia",
         "marker": {
          "color": "#00cc96",
          "size": [
           54.77771806507526
          ],
          "sizemode": "area",
          "sizeref": 0.025361307840186014,
          "symbol": "circle"
         },
         "mode": "markers",
         "name": "Saudi Arabia",
         "showlegend": true,
         "type": "scatter",
         "x": [
          20710.6
         ],
         "xaxis": "x",
         "y": [
          54.77771806507526
         ],
         "yaxis": "y"
        },
        {
         "hovertemplate": "<b>%{hovertext}</b><br><br>Country=Senegal<br>GDP per capita (current US$)=%{x}<br>Average Internet usage over the years=%{marker.size}<extra></extra>",
         "hovertext": [
          "Senegal"
         ],
         "legendgroup": "Senegal",
         "marker": {
          "color": "#ab63fa",
          "size": [
           14.841401782760874
          ],
          "sizemode": "area",
          "sizeref": 0.025361307840186014,
          "symbol": "circle"
         },
         "mode": "markers",
         "name": "Senegal",
         "showlegend": true,
         "type": "scatter",
         "x": [
          901.1
         ],
         "xaxis": "x",
         "y": [
          14.841401782760874
         ],
         "yaxis": "y"
        },
        {
         "hovertemplate": "<b>%{hovertext}</b><br><br>Country=Serbia<br>GDP per capita (current US$)=%{x}<br>Average Internet usage over the years=%{marker.size}<extra></extra>",
         "hovertext": [
          "Serbia"
         ],
         "legendgroup": "Serbia",
         "marker": {
          "color": "#FFA15A",
          "size": [
           49.917350553989245
          ],
          "sizemode": "area",
          "sizeref": 0.025361307840186014,
          "symbol": "circle"
         },
         "mode": "markers",
         "name": "Serbia",
         "showlegend": true,
         "type": "scatter",
         "x": [
          5238.6
         ],
         "xaxis": "x",
         "y": [
          49.917350553989245
         ],
         "yaxis": "y"
        },
        {
         "hovertemplate": "<b>%{hovertext}</b><br><br>Country=Seychelles<br>GDP per capita (current US$)=%{x}<br>Average Internet usage over the years=%{marker.size}<extra></extra>",
         "hovertext": [
          "Seychelles"
         ],
         "legendgroup": "Seychelles",
         "marker": {
          "color": "#19d3f3",
          "size": [
           39.56797645718501
          ],
          "sizemode": "area",
          "sizeref": 0.025361307840186014,
          "symbol": "circle"
         },
         "mode": "markers",
         "name": "Seychelles",
         "showlegend": true,
         "type": "scatter",
         "x": [
          14133.2
         ],
         "xaxis": "x",
         "y": [
          39.56797645718501
         ],
         "yaxis": "y"
        },
        {
         "hovertemplate": "<b>%{hovertext}</b><br><br>Country=Sierra Leone<br>GDP per capita (current US$)=%{x}<br>Average Internet usage over the years=%{marker.size}<extra></extra>",
         "hovertext": [
          "Sierra Leone"
         ],
         "legendgroup": "Sierra Leone",
         "marker": {
          "color": "#FF6692",
          "size": [
           3.7716864384565736
          ],
          "sizemode": "area",
          "sizeref": 0.025361307840186014,
          "symbol": "circle"
         },
         "mode": "markers",
         "name": "Sierra Leone",
         "showlegend": true,
         "type": "scatter",
         "x": [
          694.8
         ],
         "xaxis": "x",
         "y": [
          3.7716864384565736
         ],
         "yaxis": "y"
        },
        {
         "hovertemplate": "<b>%{hovertext}</b><br><br>Country=Singapore<br>GDP per capita (current US$)=%{x}<br>Average Internet usage over the years=%{marker.size}<extra></extra>",
         "hovertext": [
          "Singapore"
         ],
         "legendgroup": "Singapore",
         "marker": {
          "color": "#B6E880",
          "size": [
           73.36469931065878
          ],
          "sizemode": "area",
          "sizeref": 0.025361307840186014,
          "symbol": "circle"
         },
         "mode": "markers",
         "name": "Singapore",
         "showlegend": true,
         "type": "scatter",
         "x": [
          52239
         ],
         "xaxis": "x",
         "y": [
          73.36469931065878
         ],
         "yaxis": "y"
        },
        {
         "hovertemplate": "<b>%{hovertext}</b><br><br>Country=Slovakia<br>GDP per capita (current US$)=%{x}<br>Average Internet usage over the years=%{marker.size}<extra></extra>",
         "hovertext": [
          "Slovakia"
         ],
         "legendgroup": "Slovakia",
         "marker": {
          "color": "#FF97FF",
          "size": [
           69.9759955324702
          ],
          "sizemode": "area",
          "sizeref": 0.025361307840186014,
          "symbol": "circle"
         },
         "mode": "markers",
         "name": "Slovakia",
         "showlegend": true,
         "type": "scatter",
         "x": [
          16082.5
         ],
         "xaxis": "x",
         "y": [
          69.9759955324702
         ],
         "yaxis": "y"
        },
        {
         "hovertemplate": "<b>%{hovertext}</b><br><br>Country=Slovenia<br>GDP per capita (current US$)=%{x}<br>Average Internet usage over the years=%{marker.size}<extra></extra>",
         "hovertext": [
          "Slovenia"
         ],
         "legendgroup": "Slovenia",
         "marker": {
          "color": "#FECB52",
          "size": [
           65.37349419251974
          ],
          "sizemode": "area",
          "sizeref": 0.025361307840186014,
          "symbol": "circle"
         },
         "mode": "markers",
         "name": "Slovenia",
         "showlegend": true,
         "type": "scatter",
         "x": [
          20689.8
         ],
         "xaxis": "x",
         "y": [
          65.37349419251974
         ],
         "yaxis": "y"
        },
        {
         "hovertemplate": "<b>%{hovertext}</b><br><br>Country=Solomon Islands<br>GDP per capita (current US$)=%{x}<br>Average Internet usage over the years=%{marker.size}<extra></extra>",
         "hovertext": [
          "Solomon Islands"
         ],
         "legendgroup": "Solomon Islands",
         "marker": {
          "color": "#636efa",
          "size": [
           6.295327335877698
          ],
          "sizemode": "area",
          "sizeref": 0.025361307840186014,
          "symbol": "circle"
         },
         "mode": "markers",
         "name": "Solomon Islands",
         "showlegend": true,
         "type": "scatter",
         "x": [
          1841.6
         ],
         "xaxis": "x",
         "y": [
          6.295327335877698
         ],
         "yaxis": "y"
        },
        {
         "hovertemplate": "<b>%{hovertext}</b><br><br>Country=Somalia<br>GDP per capita (current US$)=%{x}<br>Average Internet usage over the years=%{marker.size}<extra></extra>",
         "hovertext": [
          "Somalia"
         ],
         "legendgroup": "Somalia",
         "marker": {
          "color": "#EF553B",
          "size": [
           1.1361887761410836
          ],
          "sizemode": "area",
          "sizeref": 0.025361307840186014,
          "symbol": "circle"
         },
         "mode": "markers",
         "name": "Somalia",
         "showlegend": true,
         "type": "scatter",
         "x": [
          144.5
         ],
         "xaxis": "x",
         "y": [
          1.1361887761410836
         ],
         "yaxis": "y"
        },
        {
         "hovertemplate": "<b>%{hovertext}</b><br><br>Country=South Africa<br>GDP per capita (current US$)=%{x}<br>Average Internet usage over the years=%{marker.size}<extra></extra>",
         "hovertext": [
          "South Africa"
         ],
         "legendgroup": "South Africa",
         "marker": {
          "color": "#00cc96",
          "size": [
           33.5812374956409
          ],
          "sizemode": "area",
          "sizeref": 0.025361307840186014,
          "symbol": "circle"
         },
         "mode": "markers",
         "name": "South Africa",
         "showlegend": true,
         "type": "scatter",
         "x": [
          5773
         ],
         "xaxis": "x",
         "y": [
          33.5812374956409
         ],
         "yaxis": "y"
        },
        {
         "hovertemplate": "<b>%{hovertext}</b><br><br>Country=South Sudan<br>GDP per capita (current US$)=%{x}<br>Average Internet usage over the years=%{marker.size}<extra></extra>",
         "hovertext": [
          "South Sudan"
         ],
         "legendgroup": "South Sudan",
         "marker": {
          "color": "#ab63fa",
          "size": [
           2.5912072666535426
          ],
          "sizemode": "area",
          "sizeref": 0.025361307840186014,
          "symbol": "circle"
         },
         "mode": "markers",
         "name": "South Sudan",
         "showlegend": true,
         "type": "scatter",
         "x": [
          1067
         ],
         "xaxis": "x",
         "y": [
          2.5912072666535426
         ],
         "yaxis": "y"
        },
        {
         "hovertemplate": "<b>%{hovertext}</b><br><br>Country=Spain<br>GDP per capita (current US$)=%{x}<br>Average Internet usage over the years=%{marker.size}<extra></extra>",
         "hovertext": [
          "Spain"
         ],
         "legendgroup": "Spain",
         "marker": {
          "color": "#FFA15A",
          "size": [
           67.45367012811904
          ],
          "sizemode": "area",
          "sizeref": 0.025361307840186014,
          "symbol": "circle"
         },
         "mode": "markers",
         "name": "Spain",
         "showlegend": true,
         "type": "scatter",
         "x": [
          25865.4
         ],
         "xaxis": "x",
         "y": [
          67.45367012811904
         ],
         "yaxis": "y"
        },
        {
         "hovertemplate": "<b>%{hovertext}</b><br><br>Country=Sri Lanka<br>GDP per capita (current US$)=%{x}<br>Average Internet usage over the years=%{marker.size}<extra></extra>",
         "hovertext": [
          "Sri Lanka"
         ],
         "legendgroup": "Sri Lanka",
         "marker": {
          "color": "#19d3f3",
          "size": [
           14.367109518620794
          ],
          "sizemode": "area",
          "sizeref": 0.025361307840186014,
          "symbol": "circle"
         },
         "mode": "markers",
         "name": "Sri Lanka",
         "showlegend": true,
         "type": "scatter",
         "x": [
          3973.7
         ],
         "xaxis": "x",
         "y": [
          14.367109518620794
         ],
         "yaxis": "y"
        },
        {
         "hovertemplate": "<b>%{hovertext}</b><br><br>Country=Sudan<br>GDP per capita (current US$)=%{x}<br>Average Internet usage over the years=%{marker.size}<extra></extra>",
         "hovertext": [
          "Sudan"
         ],
         "legendgroup": "Sudan",
         "marker": {
          "color": "#FF6692",
          "size": [
           15.945283761723408
          ],
          "sizemode": "area",
          "sizeref": 0.025361307840186014,
          "symbol": "circle"
         },
         "mode": "markers",
         "name": "Sudan",
         "showlegend": true,
         "type": "scatter",
         "x": [
          1977
         ],
         "xaxis": "x",
         "y": [
          15.945283761723408
         ],
         "yaxis": "y"
        },
        {
         "hovertemplate": "<b>%{hovertext}</b><br><br>Country=Suriname<br>GDP per capita (current US$)=%{x}<br>Average Internet usage over the years=%{marker.size}<extra></extra>",
         "hovertext": [
          "Suriname"
         ],
         "legendgroup": "Suriname",
         "marker": {
          "color": "#B6E880",
          "size": [
           29.251790826929618
          ],
          "sizemode": "area",
          "sizeref": 0.025361307840186014,
          "symbol": "circle"
         },
         "mode": "markers",
         "name": "Suriname",
         "showlegend": true,
         "type": "scatter",
         "x": [
          8985.3
         ],
         "xaxis": "x",
         "y": [
          29.251790826929618
         ],
         "yaxis": "y"
        },
        {
         "hovertemplate": "<b>%{hovertext}</b><br><br>Country=Swaziland (Eswatini)<br>GDP per capita (current US$)=%{x}<br>Average Internet usage over the years=%{marker.size}<extra></extra>",
         "hovertext": [
          null
         ],
         "legendgroup": "Swaziland (Eswatini)",
         "marker": {
          "color": "#FF97FF",
          "size": [
           18.78786420456823
          ],
          "sizemode": "area",
          "sizeref": 0.025361307840186014,
          "symbol": "circle"
         },
         "mode": "markers",
         "name": "Swaziland (Eswatini)",
         "showlegend": true,
         "type": "scatter",
         "x": [
          null
         ],
         "xaxis": "x",
         "y": [
          18.78786420456823
         ],
         "yaxis": "y"
        },
        {
         "hovertemplate": "<b>%{hovertext}</b><br><br>Country=Sweden<br>GDP per capita (current US$)=%{x}<br>Average Internet usage over the years=%{marker.size}<extra></extra>",
         "hovertext": [
          "Sweden"
         ],
         "legendgroup": "Sweden",
         "marker": {
          "color": "#FECB52",
          "size": [
           87.42582894433586
          ],
          "sizemode": "area",
          "sizeref": 0.025361307840186014,
          "symbol": "circle"
         },
         "mode": "markers",
         "name": "Sweden",
         "showlegend": true,
         "type": "scatter",
         "x": [
          50687.5
         ],
         "xaxis": "x",
         "y": [
          87.42582894433586
         ],
         "yaxis": "y"
        },
        {
         "hovertemplate": "<b>%{hovertext}</b><br><br>Country=Switzerland<br>GDP per capita (current US$)=%{x}<br>Average Internet usage over the years=%{marker.size}<extra></extra>",
         "hovertext": [
          "Switzerland"
         ],
         "legendgroup": "Switzerland",
         "marker": {
          "color": "#636efa",
          "size": [
           73.77571992621391
          ],
          "sizemode": "area",
          "sizeref": 0.025361307840186014,
          "symbol": "circle"
         },
         "mode": "markers",
         "name": "Switzerland",
         "showlegend": true,
         "type": "scatter",
         "x": [
          80831.1
         ],
         "xaxis": "x",
         "y": [
          73.77571992621391
         ],
         "yaxis": "y"
        },
        {
         "hovertemplate": "<b>%{hovertext}</b><br><br>Country=Syrian Arab Republic<br>GDP per capita (current US$)=%{x}<br>Average Internet usage over the years=%{marker.size}<extra></extra>",
         "hovertext": [
          "Syrian Arab Republic"
         ],
         "legendgroup": "Syrian Arab Republic",
         "marker": {
          "color": "#EF553B",
          "size": [
           20.33843009625551
          ],
          "sizemode": "area",
          "sizeref": 0.025361307840186014,
          "symbol": "circle"
         },
         "mode": "markers",
         "name": "Syrian Arab Republic",
         "showlegend": true,
         "type": "scatter",
         "x": [
          1534.5
         ],
         "xaxis": "x",
         "y": [
          20.33843009625551
         ],
         "yaxis": "y"
        },
        {
         "hovertemplate": "<b>%{hovertext}</b><br><br>Country=The former Yugoslav Republic of Macedonia<br>GDP per capita (current US$)=%{x}<br>Average Internet usage over the years=%{marker.size}<extra></extra>",
         "hovertext": [
          "The former Yugoslav Republic of Macedonia"
         ],
         "legendgroup": "The former Yugoslav Republic of Macedonia",
         "marker": {
          "color": "#00cc96",
          "size": [
           56.773373405858976
          ],
          "sizemode": "area",
          "sizeref": 0.025361307840186014,
          "symbol": "circle"
         },
         "mode": "markers",
         "name": "The former Yugoslav Republic of Macedonia",
         "showlegend": true,
         "type": "scatter",
         "x": [
          4836.1
         ],
         "xaxis": "x",
         "y": [
          56.773373405858976
         ],
         "yaxis": "y"
        },
        {
         "hovertemplate": "<b>%{hovertext}</b><br><br>Country=Taiwan, Province of China<br>GDP per capita (current US$)=%{x}<br>Average Internet usage over the years=%{marker.size}<extra></extra>",
         "hovertext": [
          null
         ],
         "legendgroup": "Taiwan, Province of China",
         "marker": {
          "color": "#ab63fa",
          "size": [
           64.59069912764247
          ],
          "sizemode": "area",
          "sizeref": 0.025361307840186014,
          "symbol": "circle"
         },
         "mode": "markers",
         "name": "Taiwan, Province of China",
         "showlegend": true,
         "type": "scatter",
         "x": [
          null
         ],
         "xaxis": "x",
         "y": [
          64.59069912764247
         ],
         "yaxis": "y"
        },
        {
         "hovertemplate": "<b>%{hovertext}</b><br><br>Country=Tajikistan<br>GDP per capita (current US$)=%{x}<br>Average Internet usage over the years=%{marker.size}<extra></extra>",
         "hovertext": [
          "Tajikistan"
         ],
         "legendgroup": "Tajikistan",
         "marker": {
          "color": "#FFA15A",
          "size": [
           12.212480874402727
          ],
          "sizemode": "area",
          "sizeref": 0.025361307840186014,
          "symbol": "circle"
         },
         "mode": "markers",
         "name": "Tajikistan",
         "showlegend": true,
         "type": "scatter",
         "x": [
          925.9
         ],
         "xaxis": "x",
         "y": [
          12.212480874402727
         ],
         "yaxis": "y"
        },
        {
         "hovertemplate": "<b>%{hovertext}</b><br><br>Country=Tanzania<br>GDP per capita (current US$)=%{x}<br>Average Internet usage over the years=%{marker.size}<extra></extra>",
         "hovertext": [
          null
         ],
         "legendgroup": "Tanzania",
         "marker": {
          "color": "#19d3f3",
          "size": [
           7.333381312737115
          ],
          "sizemode": "area",
          "sizeref": 0.025361307840186014,
          "symbol": "circle"
         },
         "mode": "markers",
         "name": "Tanzania",
         "showlegend": true,
         "type": "scatter",
         "x": [
          null
         ],
         "xaxis": "x",
         "y": [
          7.333381312737115
         ],
         "yaxis": "y"
        },
        {
         "hovertemplate": "<b>%{hovertext}</b><br><br>Country=Thailand<br>GDP per capita (current US$)=%{x}<br>Average Internet usage over the years=%{marker.size}<extra></extra>",
         "hovertext": [
          "Thailand"
         ],
         "legendgroup": "Thailand",
         "marker": {
          "color": "#FF6692",
          "size": [
           31.964133989428145
          ],
          "sizemode": "area",
          "sizeref": 0.025361307840186014,
          "symbol": "circle"
         },
         "mode": "markers",
         "name": "Thailand",
         "showlegend": true,
         "type": "scatter",
         "x": [
          5814.8
         ],
         "xaxis": "x",
         "y": [
          31.964133989428145
         ],
         "yaxis": "y"
        },
        {
         "hovertemplate": "<b>%{hovertext}</b><br><br>Country=Timor-Leste<br>GDP per capita (current US$)=%{x}<br>Average Internet usage over the years=%{marker.size}<extra></extra>",
         "hovertext": [
          "Timor-Leste"
         ],
         "legendgroup": "Timor-Leste",
         "marker": {
          "color": "#B6E880",
          "size": [
           10.758001189427866
          ],
          "sizemode": "area",
          "sizeref": 0.025361307840186014,
          "symbol": "circle"
         },
         "mode": "markers",
         "name": "Timor-Leste",
         "showlegend": true,
         "type": "scatter",
         "x": [
          2425.4
         ],
         "xaxis": "x",
         "y": [
          10.758001189427866
         ],
         "yaxis": "y"
        },
        {
         "hovertemplate": "<b>%{hovertext}</b><br><br>Country=Togo<br>GDP per capita (current US$)=%{x}<br>Average Internet usage over the years=%{marker.size}<extra></extra>",
         "hovertext": [
          "Togo"
         ],
         "legendgroup": "Togo",
         "marker": {
          "color": "#FF97FF",
          "size": [
           4.91729317909091
          ],
          "sizemode": "area",
          "sizeref": 0.025361307840186014,
          "symbol": "circle"
         },
         "mode": "markers",
         "name": "Togo",
         "showlegend": true,
         "type": "scatter",
         "x": [
          559.4
         ],
         "xaxis": "x",
         "y": [
          4.91729317909091
         ],
         "yaxis": "y"
        },
        {
         "hovertemplate": "<b>%{hovertext}</b><br><br>Country=Tonga<br>GDP per capita (current US$)=%{x}<br>Average Internet usage over the years=%{marker.size}<extra></extra>",
         "hovertext": [
          "Tonga"
         ],
         "legendgroup": "Tonga",
         "marker": {
          "color": "#FECB52",
          "size": [
           24.263689358179615
          ],
          "sizemode": "area",
          "sizeref": 0.025361307840186014,
          "symbol": "circle"
         },
         "mode": "markers",
         "name": "Tonga",
         "showlegend": true,
         "type": "scatter",
         "x": [
          3784.5
         ],
         "xaxis": "x",
         "y": [
          24.263689358179615
         ],
         "yaxis": "y"
        },
        {
         "hovertemplate": "<b>%{hovertext}</b><br><br>Country=Trinidad & Tobago<br>GDP per capita (current US$)=%{x}<br>Average Internet usage over the years=%{marker.size}<extra></extra>",
         "hovertext": [
          null
         ],
         "legendgroup": "Trinidad & Tobago",
         "marker": {
          "color": "#636efa",
          "size": [
           49.87598078728741
          ],
          "sizemode": "area",
          "sizeref": 0.025361307840186014,
          "symbol": "circle"
         },
         "mode": "markers",
         "name": "Trinidad & Tobago",
         "showlegend": true,
         "type": "scatter",
         "x": [
          null
         ],
         "xaxis": "x",
         "y": [
          49.87598078728741
         ],
         "yaxis": "y"
        },
        {
         "hovertemplate": "<b>%{hovertext}</b><br><br>Country=Tunisia<br>GDP per capita (current US$)=%{x}<br>Average Internet usage over the years=%{marker.size}<extra></extra>",
         "hovertext": [
          "Tunisia"
         ],
         "legendgroup": "Tunisia",
         "marker": {
          "color": "#EF553B",
          "size": [
           40.38082201278533
          ],
          "sizemode": "area",
          "sizeref": 0.025361307840186014,
          "symbol": "circle"
         },
         "mode": "markers",
         "name": "Tunisia",
         "showlegend": true,
         "type": "scatter",
         "x": [
          3660.9
         ],
         "xaxis": "x",
         "y": [
          40.38082201278533
         ],
         "yaxis": "y"
        },
        {
         "hovertemplate": "<b>%{hovertext}</b><br><br>Country=Turkey<br>GDP per capita (current US$)=%{x}<br>Average Internet usage over the years=%{marker.size}<extra></extra>",
         "hovertext": [
          "Turkey"
         ],
         "legendgroup": "Turkey",
         "marker": {
          "color": "#00cc96",
          "size": [
           44.75886248828977
          ],
          "sizemode": "area",
          "sizeref": 0.025361307840186014,
          "symbol": "circle"
         },
         "mode": "markers",
         "name": "Turkey",
         "showlegend": true,
         "type": "scatter",
         "x": [
          9125.8
         ],
         "xaxis": "x",
         "y": [
          44.75886248828977
         ],
         "yaxis": "y"
        },
        {
         "hovertemplate": "<b>%{hovertext}</b><br><br>Country=Turkmenistan<br>GDP per capita (current US$)=%{x}<br>Average Internet usage over the years=%{marker.size}<extra></extra>",
         "hovertext": [
          "Turkmenistan"
         ],
         "legendgroup": "Turkmenistan",
         "marker": {
          "color": "#ab63fa",
          "size": [
           8.396766857572139
          ],
          "sizemode": "area",
          "sizeref": 0.025361307840186014,
          "symbol": "circle"
         },
         "mode": "markers",
         "name": "Turkmenistan",
         "showlegend": true,
         "type": "scatter",
         "x": [
          6996.7
         ],
         "xaxis": "x",
         "y": [
          8.396766857572139
         ],
         "yaxis": "y"
        },
        {
         "hovertemplate": "<b>%{hovertext}</b><br><br>Country=Tuvalu<br>GDP per capita (current US$)=%{x}<br>Average Internet usage over the years=%{marker.size}<extra></extra>",
         "hovertext": [
          "Tuvalu"
         ],
         "legendgroup": "Tuvalu",
         "marker": {
          "color": "#FFA15A",
          "size": [
           28.133557246995647
          ],
          "sizemode": "area",
          "sizeref": 0.025361307840186014,
          "symbol": "circle"
         },
         "mode": "markers",
         "name": "Tuvalu",
         "showlegend": true,
         "type": "scatter",
         "x": [
          3362.4
         ],
         "xaxis": "x",
         "y": [
          28.133557246995647
         ],
         "yaxis": "y"
        },
        {
         "hovertemplate": "<b>%{hovertext}</b><br><br>Country=Uganda<br>GDP per capita (current US$)=%{x}<br>Average Internet usage over the years=%{marker.size}<extra></extra>",
         "hovertext": [
          "Uganda"
         ],
         "legendgroup": "Uganda",
         "marker": {
          "color": "#19d3f3",
          "size": [
           12.485183976084812
          ],
          "sizemode": "area",
          "sizeref": 0.025361307840186014,
          "symbol": "circle"
         },
         "mode": "markers",
         "name": "Uganda",
         "showlegend": true,
         "type": "scatter",
         "x": [
          647.7
         ],
         "xaxis": "x",
         "y": [
          12.485183976084812
         ],
         "yaxis": "y"
        },
        {
         "hovertemplate": "<b>%{hovertext}</b><br><br>Country=Ukraine<br>GDP per capita (current US$)=%{x}<br>Average Internet usage over the years=%{marker.size}<extra></extra>",
         "hovertext": [
          "Ukraine"
         ],
         "legendgroup": "Ukraine",
         "marker": {
          "color": "#FF6692",
          "size": [
           30.882585327477113
          ],
          "sizemode": "area",
          "sizeref": 0.025361307840186014,
          "symbol": "circle"
         },
         "mode": "markers",
         "name": "Ukraine",
         "showlegend": true,
         "type": "scatter",
         "x": [
          2021.6
         ],
         "xaxis": "x",
         "y": [
          30.882585327477113
         ],
         "yaxis": "y"
        },
        {
         "hovertemplate": "<b>%{hovertext}</b><br><br>Country=United Arab Emirates<br>GDP per capita (current US$)=%{x}<br>Average Internet usage over the years=%{marker.size}<extra></extra>",
         "hovertext": [
          "United Arab Emirates"
         ],
         "legendgroup": "United Arab Emirates",
         "marker": {
          "color": "#B6E880",
          "size": [
           77.03592945652944
          ],
          "sizemode": "area",
          "sizeref": 0.025361307840186014,
          "symbol": "circle"
         },
         "mode": "markers",
         "name": "United Arab Emirates",
         "showlegend": true,
         "type": "scatter",
         "x": [
          40438.8
         ],
         "xaxis": "x",
         "y": [
          77.03592945652944
         ],
         "yaxis": "y"
        },
        {
         "hovertemplate": "<b>%{hovertext}</b><br><br>Country=United Kingdom<br>GDP per capita (current US$)=%{x}<br>Average Internet usage over the years=%{marker.size}<extra></extra>",
         "hovertext": [
          "United Kingdom"
         ],
         "legendgroup": "United Kingdom",
         "marker": {
          "color": "#FF97FF",
          "size": [
           82.94806306502697
          ],
          "sizemode": "area",
          "sizeref": 0.025361307840186014,
          "symbol": "circle"
         },
         "mode": "markers",
         "name": "United Kingdom",
         "showlegend": true,
         "type": "scatter",
         "x": [
          44162.4
         ],
         "xaxis": "x",
         "y": [
          82.94806306502697
         ],
         "yaxis": "y"
        },
        {
         "hovertemplate": "<b>%{hovertext}</b><br><br>Country=United States of America<br>GDP per capita (current US$)=%{x}<br>Average Internet usage over the years=%{marker.size}<extra></extra>",
         "hovertext": [
          "United States of America"
         ],
         "legendgroup": "United States of America",
         "marker": {
          "color": "#FECB52",
          "size": [
           65.35740117036715
          ],
          "sizemode": "area",
          "sizeref": 0.025361307840186014,
          "symbol": "circle"
         },
         "mode": "markers",
         "name": "United States of America",
         "showlegend": true,
         "type": "scatter",
         "x": [
          56053.8
         ],
         "xaxis": "x",
         "y": [
          65.35740117036715
         ],
         "yaxis": "y"
        },
        {
         "hovertemplate": "<b>%{hovertext}</b><br><br>Country=Uruguay<br>GDP per capita (current US$)=%{x}<br>Average Internet usage over the years=%{marker.size}<extra></extra>",
         "hovertext": [
          "Uruguay"
         ],
         "legendgroup": "Uruguay",
         "marker": {
          "color": "#636efa",
          "size": [
           45.571466063440965
          ],
          "sizemode": "area",
          "sizeref": 0.025361307840186014,
          "symbol": "circle"
         },
         "mode": "markers",
         "name": "Uruguay",
         "showlegend": true,
         "type": "scatter",
         "x": [
          15573.8
         ],
         "xaxis": "x",
         "y": [
          45.571466063440965
         ],
         "yaxis": "y"
        },
        {
         "hovertemplate": "<b>%{hovertext}</b><br><br>Country=Uzbekistan<br>GDP per capita (current US$)=%{x}<br>Average Internet usage over the years=%{marker.size}<extra></extra>",
         "hovertext": [
          "Uzbekistan"
         ],
         "legendgroup": "Uzbekistan",
         "marker": {
          "color": "#EF553B",
          "size": [
           24.193113175099334
          ],
          "sizemode": "area",
          "sizeref": 0.025361307840186014,
          "symbol": "circle"
         },
         "mode": "markers",
         "name": "Uzbekistan",
         "showlegend": true,
         "type": "scatter",
         "x": [
          2308.3
         ],
         "xaxis": "x",
         "y": [
          24.193113175099334
         ],
         "yaxis": "y"
        },
        {
         "hovertemplate": "<b>%{hovertext}</b><br><br>Country=Vanuatu<br>GDP per capita (current US$)=%{x}<br>Average Internet usage over the years=%{marker.size}<extra></extra>",
         "hovertext": [
          "Vanuatu"
         ],
         "legendgroup": "Vanuatu",
         "marker": {
          "color": "#00cc96",
          "size": [
           12.469078465185122
          ],
          "sizemode": "area",
          "sizeref": 0.025361307840186014,
          "symbol": "circle"
         },
         "mode": "markers",
         "name": "Vanuatu",
         "showlegend": true,
         "type": "scatter",
         "x": [
          2783
         ],
         "xaxis": "x",
         "y": [
          12.469078465185122
         ],
         "yaxis": "y"
        },
        {
         "hovertemplate": "<b>%{hovertext}</b><br><br>Country=Venezuela (Bolivarian Republic of)<br>GDP per capita (current US$)=%{x}<br>Average Internet usage over the years=%{marker.size}<extra></extra>",
         "hovertext": [
          "Venezuela (Bolivarian Republic of)"
         ],
         "legendgroup": "Venezuela (Bolivarian Republic of)",
         "marker": {
          "color": "#ab63fa",
          "size": [
           40.95024349521088
          ],
          "sizemode": "area",
          "sizeref": 0.025361307840186014,
          "symbol": "circle"
         },
         "mode": "markers",
         "name": "Venezuela (Bolivarian Republic of)",
         "showlegend": true,
         "type": "scatter",
         "x": [
          11068.9
         ],
         "xaxis": "x",
         "y": [
          40.95024349521088
         ],
         "yaxis": "y"
        },
        {
         "hovertemplate": "<b>%{hovertext}</b><br><br>Country=Viet Nam<br>GDP per capita (current US$)=%{x}<br>Average Internet usage over the years=%{marker.size}<extra></extra>",
         "hovertext": [
          "Viet Nam"
         ],
         "legendgroup": "Viet Nam",
         "marker": {
          "color": "#FFA15A",
          "size": [
           38.31852846784545
          ],
          "sizemode": "area",
          "sizeref": 0.025361307840186014,
          "symbol": "circle"
         },
         "mode": "markers",
         "name": "Viet Nam",
         "showlegend": true,
         "type": "scatter",
         "x": [
          2067.9
         ],
         "xaxis": "x",
         "y": [
          38.31852846784545
         ],
         "yaxis": "y"
        },
        {
         "hovertemplate": "<b>%{hovertext}</b><br><br>Country=Yemen<br>GDP per capita (current US$)=%{x}<br>Average Internet usage over the years=%{marker.size}<extra></extra>",
         "hovertext": [
          "Yemen"
         ],
         "legendgroup": "Yemen",
         "marker": {
          "color": "#19d3f3",
          "size": [
           14.887779174601034
          ],
          "sizemode": "area",
          "sizeref": 0.025361307840186014,
          "symbol": "circle"
         },
         "mode": "markers",
         "name": "Yemen",
         "showlegend": true,
         "type": "scatter",
         "x": [
          1106.4
         ],
         "xaxis": "x",
         "y": [
          14.887779174601034
         ],
         "yaxis": "y"
        },
        {
         "hovertemplate": "<b>%{hovertext}</b><br><br>Country=Zambia<br>GDP per capita (current US$)=%{x}<br>Average Internet usage over the years=%{marker.size}<extra></extra>",
         "hovertext": [
          "Zambia"
         ],
         "legendgroup": "Zambia",
         "marker": {
          "color": "#FF6692",
          "size": [
           12.110690895124083
          ],
          "sizemode": "area",
          "sizeref": 0.025361307840186014,
          "symbol": "circle"
         },
         "mode": "markers",
         "name": "Zambia",
         "showlegend": true,
         "type": "scatter",
         "x": [
          1311.1
         ],
         "xaxis": "x",
         "y": [
          12.110690895124083
         ],
         "yaxis": "y"
        },
        {
         "hovertemplate": "<b>%{hovertext}</b><br><br>Country=Zimbabwe<br>GDP per capita (current US$)=%{x}<br>Average Internet usage over the years=%{marker.size}<extra></extra>",
         "hovertext": [
          "Zimbabwe"
         ],
         "legendgroup": "Zimbabwe",
         "marker": {
          "color": "#B6E880",
          "size": [
           12.216769847489571
          ],
          "sizemode": "area",
          "sizeref": 0.025361307840186014,
          "symbol": "circle"
         },
         "mode": "markers",
         "name": "Zimbabwe",
         "showlegend": true,
         "type": "scatter",
         "x": [
          890.4
         ],
         "xaxis": "x",
         "y": [
          12.216769847489571
         ],
         "yaxis": "y"
        }
       ],
       "layout": {
        "legend": {
         "itemsizing": "constant",
         "title": {
          "text": "Country"
         },
         "tracegroupgap": 0
        },
        "margin": {
         "t": 60
        },
        "template": {
         "data": {
          "bar": [
           {
            "error_x": {
             "color": "#2a3f5f"
            },
            "error_y": {
             "color": "#2a3f5f"
            },
            "marker": {
             "line": {
              "color": "#E5ECF6",
              "width": 0.5
             }
            },
            "type": "bar"
           }
          ],
          "barpolar": [
           {
            "marker": {
             "line": {
              "color": "#E5ECF6",
              "width": 0.5
             }
            },
            "type": "barpolar"
           }
          ],
          "carpet": [
           {
            "aaxis": {
             "endlinecolor": "#2a3f5f",
             "gridcolor": "white",
             "linecolor": "white",
             "minorgridcolor": "white",
             "startlinecolor": "#2a3f5f"
            },
            "baxis": {
             "endlinecolor": "#2a3f5f",
             "gridcolor": "white",
             "linecolor": "white",
             "minorgridcolor": "white",
             "startlinecolor": "#2a3f5f"
            },
            "type": "carpet"
           }
          ],
          "choropleth": [
           {
            "colorbar": {
             "outlinewidth": 0,
             "ticks": ""
            },
            "type": "choropleth"
           }
          ],
          "contour": [
           {
            "colorbar": {
             "outlinewidth": 0,
             "ticks": ""
            },
            "colorscale": [
             [
              0,
              "#0d0887"
             ],
             [
              0.1111111111111111,
              "#46039f"
             ],
             [
              0.2222222222222222,
              "#7201a8"
             ],
             [
              0.3333333333333333,
              "#9c179e"
             ],
             [
              0.4444444444444444,
              "#bd3786"
             ],
             [
              0.5555555555555556,
              "#d8576b"
             ],
             [
              0.6666666666666666,
              "#ed7953"
             ],
             [
              0.7777777777777778,
              "#fb9f3a"
             ],
             [
              0.8888888888888888,
              "#fdca26"
             ],
             [
              1,
              "#f0f921"
             ]
            ],
            "type": "contour"
           }
          ],
          "contourcarpet": [
           {
            "colorbar": {
             "outlinewidth": 0,
             "ticks": ""
            },
            "type": "contourcarpet"
           }
          ],
          "heatmap": [
           {
            "colorbar": {
             "outlinewidth": 0,
             "ticks": ""
            },
            "colorscale": [
             [
              0,
              "#0d0887"
             ],
             [
              0.1111111111111111,
              "#46039f"
             ],
             [
              0.2222222222222222,
              "#7201a8"
             ],
             [
              0.3333333333333333,
              "#9c179e"
             ],
             [
              0.4444444444444444,
              "#bd3786"
             ],
             [
              0.5555555555555556,
              "#d8576b"
             ],
             [
              0.6666666666666666,
              "#ed7953"
             ],
             [
              0.7777777777777778,
              "#fb9f3a"
             ],
             [
              0.8888888888888888,
              "#fdca26"
             ],
             [
              1,
              "#f0f921"
             ]
            ],
            "type": "heatmap"
           }
          ],
          "heatmapgl": [
           {
            "colorbar": {
             "outlinewidth": 0,
             "ticks": ""
            },
            "colorscale": [
             [
              0,
              "#0d0887"
             ],
             [
              0.1111111111111111,
              "#46039f"
             ],
             [
              0.2222222222222222,
              "#7201a8"
             ],
             [
              0.3333333333333333,
              "#9c179e"
             ],
             [
              0.4444444444444444,
              "#bd3786"
             ],
             [
              0.5555555555555556,
              "#d8576b"
             ],
             [
              0.6666666666666666,
              "#ed7953"
             ],
             [
              0.7777777777777778,
              "#fb9f3a"
             ],
             [
              0.8888888888888888,
              "#fdca26"
             ],
             [
              1,
              "#f0f921"
             ]
            ],
            "type": "heatmapgl"
           }
          ],
          "histogram": [
           {
            "marker": {
             "colorbar": {
              "outlinewidth": 0,
              "ticks": ""
             }
            },
            "type": "histogram"
           }
          ],
          "histogram2d": [
           {
            "colorbar": {
             "outlinewidth": 0,
             "ticks": ""
            },
            "colorscale": [
             [
              0,
              "#0d0887"
             ],
             [
              0.1111111111111111,
              "#46039f"
             ],
             [
              0.2222222222222222,
              "#7201a8"
             ],
             [
              0.3333333333333333,
              "#9c179e"
             ],
             [
              0.4444444444444444,
              "#bd3786"
             ],
             [
              0.5555555555555556,
              "#d8576b"
             ],
             [
              0.6666666666666666,
              "#ed7953"
             ],
             [
              0.7777777777777778,
              "#fb9f3a"
             ],
             [
              0.8888888888888888,
              "#fdca26"
             ],
             [
              1,
              "#f0f921"
             ]
            ],
            "type": "histogram2d"
           }
          ],
          "histogram2dcontour": [
           {
            "colorbar": {
             "outlinewidth": 0,
             "ticks": ""
            },
            "colorscale": [
             [
              0,
              "#0d0887"
             ],
             [
              0.1111111111111111,
              "#46039f"
             ],
             [
              0.2222222222222222,
              "#7201a8"
             ],
             [
              0.3333333333333333,
              "#9c179e"
             ],
             [
              0.4444444444444444,
              "#bd3786"
             ],
             [
              0.5555555555555556,
              "#d8576b"
             ],
             [
              0.6666666666666666,
              "#ed7953"
             ],
             [
              0.7777777777777778,
              "#fb9f3a"
             ],
             [
              0.8888888888888888,
              "#fdca26"
             ],
             [
              1,
              "#f0f921"
             ]
            ],
            "type": "histogram2dcontour"
           }
          ],
          "mesh3d": [
           {
            "colorbar": {
             "outlinewidth": 0,
             "ticks": ""
            },
            "type": "mesh3d"
           }
          ],
          "parcoords": [
           {
            "line": {
             "colorbar": {
              "outlinewidth": 0,
              "ticks": ""
             }
            },
            "type": "parcoords"
           }
          ],
          "pie": [
           {
            "automargin": true,
            "type": "pie"
           }
          ],
          "scatter": [
           {
            "marker": {
             "colorbar": {
              "outlinewidth": 0,
              "ticks": ""
             }
            },
            "type": "scatter"
           }
          ],
          "scatter3d": [
           {
            "line": {
             "colorbar": {
              "outlinewidth": 0,
              "ticks": ""
             }
            },
            "marker": {
             "colorbar": {
              "outlinewidth": 0,
              "ticks": ""
             }
            },
            "type": "scatter3d"
           }
          ],
          "scattercarpet": [
           {
            "marker": {
             "colorbar": {
              "outlinewidth": 0,
              "ticks": ""
             }
            },
            "type": "scattercarpet"
           }
          ],
          "scattergeo": [
           {
            "marker": {
             "colorbar": {
              "outlinewidth": 0,
              "ticks": ""
             }
            },
            "type": "scattergeo"
           }
          ],
          "scattergl": [
           {
            "marker": {
             "colorbar": {
              "outlinewidth": 0,
              "ticks": ""
             }
            },
            "type": "scattergl"
           }
          ],
          "scattermapbox": [
           {
            "marker": {
             "colorbar": {
              "outlinewidth": 0,
              "ticks": ""
             }
            },
            "type": "scattermapbox"
           }
          ],
          "scatterpolar": [
           {
            "marker": {
             "colorbar": {
              "outlinewidth": 0,
              "ticks": ""
             }
            },
            "type": "scatterpolar"
           }
          ],
          "scatterpolargl": [
           {
            "marker": {
             "colorbar": {
              "outlinewidth": 0,
              "ticks": ""
             }
            },
            "type": "scatterpolargl"
           }
          ],
          "scatterternary": [
           {
            "marker": {
             "colorbar": {
              "outlinewidth": 0,
              "ticks": ""
             }
            },
            "type": "scatterternary"
           }
          ],
          "surface": [
           {
            "colorbar": {
             "outlinewidth": 0,
             "ticks": ""
            },
            "colorscale": [
             [
              0,
              "#0d0887"
             ],
             [
              0.1111111111111111,
              "#46039f"
             ],
             [
              0.2222222222222222,
              "#7201a8"
             ],
             [
              0.3333333333333333,
              "#9c179e"
             ],
             [
              0.4444444444444444,
              "#bd3786"
             ],
             [
              0.5555555555555556,
              "#d8576b"
             ],
             [
              0.6666666666666666,
              "#ed7953"
             ],
             [
              0.7777777777777778,
              "#fb9f3a"
             ],
             [
              0.8888888888888888,
              "#fdca26"
             ],
             [
              1,
              "#f0f921"
             ]
            ],
            "type": "surface"
           }
          ],
          "table": [
           {
            "cells": {
             "fill": {
              "color": "#EBF0F8"
             },
             "line": {
              "color": "white"
             }
            },
            "header": {
             "fill": {
              "color": "#C8D4E3"
             },
             "line": {
              "color": "white"
             }
            },
            "type": "table"
           }
          ]
         },
         "layout": {
          "annotationdefaults": {
           "arrowcolor": "#2a3f5f",
           "arrowhead": 0,
           "arrowwidth": 1
          },
          "coloraxis": {
           "colorbar": {
            "outlinewidth": 0,
            "ticks": ""
           }
          },
          "colorscale": {
           "diverging": [
            [
             0,
             "#8e0152"
            ],
            [
             0.1,
             "#c51b7d"
            ],
            [
             0.2,
             "#de77ae"
            ],
            [
             0.3,
             "#f1b6da"
            ],
            [
             0.4,
             "#fde0ef"
            ],
            [
             0.5,
             "#f7f7f7"
            ],
            [
             0.6,
             "#e6f5d0"
            ],
            [
             0.7,
             "#b8e186"
            ],
            [
             0.8,
             "#7fbc41"
            ],
            [
             0.9,
             "#4d9221"
            ],
            [
             1,
             "#276419"
            ]
           ],
           "sequential": [
            [
             0,
             "#0d0887"
            ],
            [
             0.1111111111111111,
             "#46039f"
            ],
            [
             0.2222222222222222,
             "#7201a8"
            ],
            [
             0.3333333333333333,
             "#9c179e"
            ],
            [
             0.4444444444444444,
             "#bd3786"
            ],
            [
             0.5555555555555556,
             "#d8576b"
            ],
            [
             0.6666666666666666,
             "#ed7953"
            ],
            [
             0.7777777777777778,
             "#fb9f3a"
            ],
            [
             0.8888888888888888,
             "#fdca26"
            ],
            [
             1,
             "#f0f921"
            ]
           ],
           "sequentialminus": [
            [
             0,
             "#0d0887"
            ],
            [
             0.1111111111111111,
             "#46039f"
            ],
            [
             0.2222222222222222,
             "#7201a8"
            ],
            [
             0.3333333333333333,
             "#9c179e"
            ],
            [
             0.4444444444444444,
             "#bd3786"
            ],
            [
             0.5555555555555556,
             "#d8576b"
            ],
            [
             0.6666666666666666,
             "#ed7953"
            ],
            [
             0.7777777777777778,
             "#fb9f3a"
            ],
            [
             0.8888888888888888,
             "#fdca26"
            ],
            [
             1,
             "#f0f921"
            ]
           ]
          },
          "colorway": [
           "#636efa",
           "#EF553B",
           "#00cc96",
           "#ab63fa",
           "#FFA15A",
           "#19d3f3",
           "#FF6692",
           "#B6E880",
           "#FF97FF",
           "#FECB52"
          ],
          "font": {
           "color": "#2a3f5f"
          },
          "geo": {
           "bgcolor": "white",
           "lakecolor": "white",
           "landcolor": "#E5ECF6",
           "showlakes": true,
           "showland": true,
           "subunitcolor": "white"
          },
          "hoverlabel": {
           "align": "left"
          },
          "hovermode": "closest",
          "mapbox": {
           "style": "light"
          },
          "paper_bgcolor": "white",
          "plot_bgcolor": "#E5ECF6",
          "polar": {
           "angularaxis": {
            "gridcolor": "white",
            "linecolor": "white",
            "ticks": ""
           },
           "bgcolor": "#E5ECF6",
           "radialaxis": {
            "gridcolor": "white",
            "linecolor": "white",
            "ticks": ""
           }
          },
          "scene": {
           "xaxis": {
            "backgroundcolor": "#E5ECF6",
            "gridcolor": "white",
            "gridwidth": 2,
            "linecolor": "white",
            "showbackground": true,
            "ticks": "",
            "zerolinecolor": "white"
           },
           "yaxis": {
            "backgroundcolor": "#E5ECF6",
            "gridcolor": "white",
            "gridwidth": 2,
            "linecolor": "white",
            "showbackground": true,
            "ticks": "",
            "zerolinecolor": "white"
           },
           "zaxis": {
            "backgroundcolor": "#E5ECF6",
            "gridcolor": "white",
            "gridwidth": 2,
            "linecolor": "white",
            "showbackground": true,
            "ticks": "",
            "zerolinecolor": "white"
           }
          },
          "shapedefaults": {
           "line": {
            "color": "#2a3f5f"
           }
          },
          "ternary": {
           "aaxis": {
            "gridcolor": "white",
            "linecolor": "white",
            "ticks": ""
           },
           "baxis": {
            "gridcolor": "white",
            "linecolor": "white",
            "ticks": ""
           },
           "bgcolor": "#E5ECF6",
           "caxis": {
            "gridcolor": "white",
            "linecolor": "white",
            "ticks": ""
           }
          },
          "title": {
           "x": 0.05
          },
          "xaxis": {
           "automargin": true,
           "gridcolor": "white",
           "linecolor": "white",
           "ticks": "",
           "title": {
            "standoff": 15
           },
           "zerolinecolor": "white",
           "zerolinewidth": 2
          },
          "yaxis": {
           "automargin": true,
           "gridcolor": "white",
           "linecolor": "white",
           "ticks": "",
           "title": {
            "standoff": 15
           },
           "zerolinecolor": "white",
           "zerolinewidth": 2
          }
         }
        },
        "xaxis": {
         "anchor": "y",
         "domain": [
          0,
          1
         ],
         "title": {
          "text": "GDP per capita (current US$)"
         },
         "type": "log"
        },
        "yaxis": {
         "anchor": "x",
         "domain": [
          0,
          1
         ],
         "title": {
          "text": "Average Internet usage over the years"
         }
        }
       }
      },
      "text/html": [
       "<div>\n",
       "        \n",
       "        \n",
       "            <div id=\"934c109d-0ec2-4a55-95c5-a185d33b01da\" class=\"plotly-graph-div\" style=\"height:525px; width:100%;\"></div>\n",
       "            <script type=\"text/javascript\">\n",
       "                require([\"plotly\"], function(Plotly) {\n",
       "                    window.PLOTLYENV=window.PLOTLYENV || {};\n",
       "                    \n",
       "                if (document.getElementById(\"934c109d-0ec2-4a55-95c5-a185d33b01da\")) {\n",
       "                    Plotly.newPlot(\n",
       "                        '934c109d-0ec2-4a55-95c5-a185d33b01da',\n",
       "                        [{\"hovertemplate\": \"<b>%{hovertext}</b><br><br>Country=Afghanistan<br>GDP per capita (current US$)=%{x}<br>Average Internet usage over the years=%{marker.size}<extra></extra>\", \"hovertext\": [\"Afghanistan\"], \"legendgroup\": \"Afghanistan\", \"marker\": {\"color\": \"#636efa\", \"size\": [5.594426685297288], \"sizemode\": \"area\", \"sizeref\": 0.025361307840186014, \"symbol\": \"circle\"}, \"mode\": \"markers\", \"name\": \"Afghanistan\", \"showlegend\": true, \"type\": \"scatter\", \"x\": [623.2], \"xaxis\": \"x\", \"y\": [5.594426685297288], \"yaxis\": \"y\"}, {\"hovertemplate\": \"<b>%{hovertext}</b><br><br>Country=Albania<br>GDP per capita (current US$)=%{x}<br>Average Internet usage over the years=%{marker.size}<extra></extra>\", \"hovertext\": [\"Albania\"], \"legendgroup\": \"Albania\", \"marker\": {\"color\": \"#EF553B\", \"size\": [43.05248774117164], \"sizemode\": \"area\", \"sizeref\": 0.025361307840186014, \"symbol\": \"circle\"}, \"mode\": \"markers\", \"name\": \"Albania\", \"showlegend\": true, \"type\": \"scatter\", \"x\": [3984.2], \"xaxis\": \"x\", \"y\": [43.05248774117164], \"yaxis\": \"y\"}, {\"hovertemplate\": \"<b>%{hovertext}</b><br><br>Country=Algeria<br>GDP per capita (current US$)=%{x}<br>Average Internet usage over the years=%{marker.size}<extra></extra>\", \"hovertext\": [\"Algeria\"], \"legendgroup\": \"Algeria\", \"marker\": {\"color\": \"#00cc96\", \"size\": [26.577446778483168], \"sizemode\": \"area\", \"sizeref\": 0.025361307840186014, \"symbol\": \"circle\"}, \"mode\": \"markers\", \"name\": \"Algeria\", \"showlegend\": true, \"type\": \"scatter\", \"x\": [4154.1], \"xaxis\": \"x\", \"y\": [26.577446778483168], \"yaxis\": \"y\"}, {\"hovertemplate\": \"<b>%{hovertext}</b><br><br>Country=Andorra<br>GDP per capita (current US$)=%{x}<br>Average Internet usage over the years=%{marker.size}<extra></extra>\", \"hovertext\": [\"Andorra\"], \"legendgroup\": \"Andorra\", \"marker\": {\"color\": \"#ab63fa\", \"size\": [70.26246641752975], \"sizemode\": \"area\", \"sizeref\": 0.025361307840186014, \"symbol\": \"circle\"}, \"mode\": \"markers\", \"name\": \"Andorra\", \"showlegend\": true, \"type\": \"scatter\", \"x\": [39896.4], \"xaxis\": \"x\", \"y\": [70.26246641752975], \"yaxis\": \"y\"}, {\"hovertemplate\": \"<b>%{hovertext}</b><br><br>Country=Angola<br>GDP per capita (current US$)=%{x}<br>Average Internet usage over the years=%{marker.size}<extra></extra>\", \"hovertext\": [\"Angola\"], \"legendgroup\": \"Angola\", \"marker\": {\"color\": \"#FFA15A\", \"size\": [6.589771977581924], \"sizemode\": \"area\", \"sizeref\": 0.025361307840186014, \"symbol\": \"circle\"}, \"mode\": \"markers\", \"name\": \"Angola\", \"showlegend\": true, \"type\": \"scatter\", \"x\": [4714.1], \"xaxis\": \"x\", \"y\": [6.589771977581924], \"yaxis\": \"y\"}, {\"hovertemplate\": \"<b>%{hovertext}</b><br><br>Country=Antigua and Barbuda<br>GDP per capita (current US$)=%{x}<br>Average Internet usage over the years=%{marker.size}<extra></extra>\", \"hovertext\": [\"Antigua and Barbuda\"], \"legendgroup\": \"Antigua and Barbuda\", \"marker\": {\"color\": \"#19d3f3\", \"size\": [49.151111430639006], \"sizemode\": \"area\", \"sizeref\": 0.025361307840186014, \"symbol\": \"circle\"}, \"mode\": \"markers\", \"name\": \"Antigua and Barbuda\", \"showlegend\": true, \"type\": \"scatter\", \"x\": [14764.5], \"xaxis\": \"x\", \"y\": [49.151111430639006], \"yaxis\": \"y\"}, {\"hovertemplate\": \"<b>%{hovertext}</b><br><br>Country=Argentina<br>GDP per capita (current US$)=%{x}<br>Average Internet usage over the years=%{marker.size}<extra></extra>\", \"hovertext\": [\"Argentina\"], \"legendgroup\": \"Argentina\", \"marker\": {\"color\": \"#FF6692\", \"size\": [46.76965620496696], \"sizemode\": \"area\", \"sizeref\": 0.025361307840186014, \"symbol\": \"circle\"}, \"mode\": \"markers\", \"name\": \"Argentina\", \"showlegend\": true, \"type\": \"scatter\", \"x\": [14564.5], \"xaxis\": \"x\", \"y\": [46.76965620496696], \"yaxis\": \"y\"}, {\"hovertemplate\": \"<b>%{hovertext}</b><br><br>Country=Armenia<br>GDP per capita (current US$)=%{x}<br>Average Internet usage over the years=%{marker.size}<extra></extra>\", \"hovertext\": [\"Armenia\"], \"legendgroup\": \"Armenia\", \"marker\": {\"color\": \"#B6E880\", \"size\": [35.06995918569305], \"sizemode\": \"area\", \"sizeref\": 0.025361307840186014, \"symbol\": \"circle\"}, \"mode\": \"markers\", \"name\": \"Armenia\", \"showlegend\": true, \"type\": \"scatter\", \"x\": [3489.1], \"xaxis\": \"x\", \"y\": [35.06995918569305], \"yaxis\": \"y\"}, {\"hovertemplate\": \"<b>%{hovertext}</b><br><br>Country=Australia<br>GDP per capita (current US$)=%{x}<br>Average Internet usage over the years=%{marker.size}<extra></extra>\", \"hovertext\": [\"Australia\"], \"legendgroup\": \"Australia\", \"marker\": {\"color\": \"#FF97FF\", \"size\": [69.94026169908871], \"sizemode\": \"area\", \"sizeref\": 0.025361307840186014, \"symbol\": \"circle\"}, \"mode\": \"markers\", \"name\": \"Australia\", \"showlegend\": true, \"type\": \"scatter\", \"x\": [51352.2], \"xaxis\": \"x\", \"y\": [69.94026169908871], \"yaxis\": \"y\"}, {\"hovertemplate\": \"<b>%{hovertext}</b><br><br>Country=Austria<br>GDP per capita (current US$)=%{x}<br>Average Internet usage over the years=%{marker.size}<extra></extra>\", \"hovertext\": [\"Austria\"], \"legendgroup\": \"Austria\", \"marker\": {\"color\": \"#FECB52\", \"size\": [75.56315281508286], \"sizemode\": \"area\", \"sizeref\": 0.025361307840186014, \"symbol\": \"circle\"}, \"mode\": \"markers\", \"name\": \"Austria\", \"showlegend\": true, \"type\": \"scatter\", \"x\": [44117.7], \"xaxis\": \"x\", \"y\": [75.56315281508286], \"yaxis\": \"y\"}, {\"hovertemplate\": \"<b>%{hovertext}</b><br><br>Country=Azerbaijan<br>GDP per capita (current US$)=%{x}<br>Average Internet usage over the years=%{marker.size}<extra></extra>\", \"hovertext\": [\"Azerbaijan\"], \"legendgroup\": \"Azerbaijan\", \"marker\": {\"color\": \"#636efa\", \"size\": [56.39801322081063], \"sizemode\": \"area\", \"sizeref\": 0.025361307840186014, \"symbol\": \"circle\"}, \"mode\": \"markers\", \"name\": \"Azerbaijan\", \"showlegend\": true, \"type\": \"scatter\", \"x\": [5438.7], \"xaxis\": \"x\", \"y\": [56.39801322081063], \"yaxis\": \"y\"}, {\"hovertemplate\": \"<b>%{hovertext}</b><br><br>Country=Bahamas<br>GDP per capita (current US$)=%{x}<br>Average Internet usage over the years=%{marker.size}<extra></extra>\", \"hovertext\": [\"Bahamas\"], \"legendgroup\": \"Bahamas\", \"marker\": {\"color\": \"#EF553B\", \"size\": [54.96983661951785], \"sizemode\": \"area\", \"sizeref\": 0.025361307840186014, \"symbol\": \"circle\"}, \"mode\": \"markers\", \"name\": \"Bahamas\", \"showlegend\": true, \"type\": \"scatter\", \"x\": [22817.2], \"xaxis\": \"x\", \"y\": [54.96983661951785], \"yaxis\": \"y\"}, {\"hovertemplate\": \"<b>%{hovertext}</b><br><br>Country=Bahrain<br>GDP per capita (current US$)=%{x}<br>Average Internet usage over the years=%{marker.size}<extra></extra>\", \"hovertext\": [\"Bahrain\"], \"legendgroup\": \"Bahrain\", \"marker\": {\"color\": \"#00cc96\", \"size\": [73.99640475804235], \"sizemode\": \"area\", \"sizeref\": 0.025361307840186014, \"symbol\": \"circle\"}, \"mode\": \"markers\", \"name\": \"Bahrain\", \"showlegend\": true, \"type\": \"scatter\", \"x\": [22600.2], \"xaxis\": \"x\", \"y\": [73.99640475804235], \"yaxis\": \"y\"}, {\"hovertemplate\": \"<b>%{hovertext}</b><br><br>Country=Bangladesh<br>GDP per capita (current US$)=%{x}<br>Average Internet usage over the years=%{marker.size}<extra></extra>\", \"hovertext\": [\"Bangladesh\"], \"legendgroup\": \"Bangladesh\", \"marker\": {\"color\": \"#ab63fa\", \"size\": [7.405697886244315], \"sizemode\": \"area\", \"sizeref\": 0.025361307840186014, \"symbol\": \"circle\"}, \"mode\": \"markers\", \"name\": \"Bangladesh\", \"showlegend\": true, \"type\": \"scatter\", \"x\": [1207.9], \"xaxis\": \"x\", \"y\": [7.405697886244315], \"yaxis\": \"y\"}, {\"hovertemplate\": \"<b>%{hovertext}</b><br><br>Country=Barbados<br>GDP per capita (current US$)=%{x}<br>Average Internet usage over the years=%{marker.size}<extra></extra>\", \"hovertext\": [\"Barbados\"], \"legendgroup\": \"Barbados\", \"marker\": {\"color\": \"#FFA15A\", \"size\": [58.513986785141874], \"sizemode\": \"area\", \"sizeref\": 0.025361307840186014, \"symbol\": \"circle\"}, \"mode\": \"markers\", \"name\": \"Barbados\", \"showlegend\": true, \"type\": \"scatter\", \"x\": [15429.4], \"xaxis\": \"x\", \"y\": [58.513986785141874], \"yaxis\": \"y\"}, {\"hovertemplate\": \"<b>%{hovertext}</b><br><br>Country=Belarus<br>GDP per capita (current US$)=%{x}<br>Average Internet usage over the years=%{marker.size}<extra></extra>\", \"hovertext\": [\"Belarus\"], \"legendgroup\": \"Belarus\", \"marker\": {\"color\": \"#19d3f3\", \"size\": [47.301730232253064], \"sizemode\": \"area\", \"sizeref\": 0.025361307840186014, \"symbol\": \"circle\"}, \"mode\": \"markers\", \"name\": \"Belarus\", \"showlegend\": true, \"type\": \"scatter\", \"x\": [5750.8], \"xaxis\": \"x\", \"y\": [47.301730232253064], \"yaxis\": \"y\"}, {\"hovertemplate\": \"<b>%{hovertext}</b><br><br>Country=Belgium<br>GDP per capita (current US$)=%{x}<br>Average Internet usage over the years=%{marker.size}<extra></extra>\", \"hovertext\": [\"Belgium\"], \"legendgroup\": \"Belgium\", \"marker\": {\"color\": \"#FF6692\", \"size\": [76.15054545377865], \"sizemode\": \"area\", \"sizeref\": 0.025361307840186014, \"symbol\": \"circle\"}, \"mode\": \"markers\", \"name\": \"Belgium\", \"showlegend\": true, \"type\": \"scatter\", \"x\": [40277.8], \"xaxis\": \"x\", \"y\": [76.15054545377865], \"yaxis\": \"y\"}, {\"hovertemplate\": \"<b>%{hovertext}</b><br><br>Country=Belize<br>GDP per capita (current US$)=%{x}<br>Average Internet usage over the years=%{marker.size}<extra></extra>\", \"hovertext\": [\"Belize\"], \"legendgroup\": \"Belize\", \"marker\": {\"color\": \"#B6E880\", \"size\": [28.94656376601779], \"sizemode\": \"area\", \"sizeref\": 0.025361307840186014, \"symbol\": \"circle\"}, \"mode\": \"markers\", \"name\": \"Belize\", \"showlegend\": true, \"type\": \"scatter\", \"x\": [4789.4], \"xaxis\": \"x\", \"y\": [28.94656376601779], \"yaxis\": \"y\"}, {\"hovertemplate\": \"<b>%{hovertext}</b><br><br>Country=Benin<br>GDP per capita (current US$)=%{x}<br>Average Internet usage over the years=%{marker.size}<extra></extra>\", \"hovertext\": [\"Benin\"], \"legendgroup\": \"Benin\", \"marker\": {\"color\": \"#FF97FF\", \"size\": [6.129421652181342], \"sizemode\": \"area\", \"sizeref\": 0.025361307840186014, \"symbol\": \"circle\"}, \"mode\": \"markers\", \"name\": \"Benin\", \"showlegend\": true, \"type\": \"scatter\", \"x\": [779.1], \"xaxis\": \"x\", \"y\": [6.129421652181342], \"yaxis\": \"y\"}, {\"hovertemplate\": \"<b>%{hovertext}</b><br><br>Country=Bhutan<br>GDP per capita (current US$)=%{x}<br>Average Internet usage over the years=%{marker.size}<extra></extra>\", \"hovertext\": [\"Bhutan\"], \"legendgroup\": \"Bhutan\", \"marker\": {\"color\": \"#FECB52\", \"size\": [20.929737418313223], \"sizemode\": \"area\", \"sizeref\": 0.025361307840186014, \"symbol\": \"circle\"}, \"mode\": \"markers\", \"name\": \"Bhutan\", \"showlegend\": true, \"type\": \"scatter\", \"x\": [2677.1], \"xaxis\": \"x\", \"y\": [20.929737418313223], \"yaxis\": \"y\"}, {\"hovertemplate\": \"<b>%{hovertext}</b><br><br>Country=Bolivia (Plurinational State of)<br>GDP per capita (current US$)=%{x}<br>Average Internet usage over the years=%{marker.size}<extra></extra>\", \"hovertext\": [\"Bolivia (Plurinational State of)\"], \"legendgroup\": \"Bolivia (Plurinational State of)\", \"marker\": {\"color\": \"#636efa\", \"size\": [25.917491714741633], \"sizemode\": \"area\", \"sizeref\": 0.025361307840186014, \"symbol\": \"circle\"}, \"mode\": \"markers\", \"name\": \"Bolivia (Plurinational State of)\", \"showlegend\": true, \"type\": \"scatter\", \"x\": [3076.8], \"xaxis\": \"x\", \"y\": [25.917491714741633], \"yaxis\": \"y\"}, {\"hovertemplate\": \"<b>%{hovertext}</b><br><br>Country=Bosnia and Herzegovina<br>GDP per capita (current US$)=%{x}<br>Average Internet usage over the years=%{marker.size}<extra></extra>\", \"hovertext\": [\"Bosnia and Herzegovina\"], \"legendgroup\": \"Bosnia and Herzegovina\", \"marker\": {\"color\": \"#EF553B\", \"size\": [45.49268573355297], \"sizemode\": \"area\", \"sizeref\": 0.025361307840186014, \"symbol\": \"circle\"}, \"mode\": \"markers\", \"name\": \"Bosnia and Herzegovina\", \"showlegend\": true, \"type\": \"scatter\", \"x\": [4265.0], \"xaxis\": \"x\", \"y\": [45.49268573355297], \"yaxis\": \"y\"}, {\"hovertemplate\": \"<b>%{hovertext}</b><br><br>Country=Botswana<br>GDP per capita (current US$)=%{x}<br>Average Internet usage over the years=%{marker.size}<extra></extra>\", \"hovertext\": [\"Botswana\"], \"legendgroup\": \"Botswana\", \"marker\": {\"color\": \"#00cc96\", \"size\": [20.689546895943735], \"sizemode\": \"area\", \"sizeref\": 0.025361307840186014, \"symbol\": \"circle\"}, \"mode\": \"markers\", \"name\": \"Botswana\", \"showlegend\": true, \"type\": \"scatter\", \"x\": [6360.6], \"xaxis\": \"x\", \"y\": [20.689546895943735], \"yaxis\": \"y\"}, {\"hovertemplate\": \"<b>%{hovertext}</b><br><br>Country=Brazil<br>GDP per capita (current US$)=%{x}<br>Average Internet usage over the years=%{marker.size}<extra></extra>\", \"hovertext\": [\"Brazil\"], \"legendgroup\": \"Brazil\", \"marker\": {\"color\": \"#ab63fa\", \"size\": [41.00511005555452], \"sizemode\": \"area\", \"sizeref\": 0.025361307840186014, \"symbol\": \"circle\"}, \"mode\": \"markers\", \"name\": \"Brazil\", \"showlegend\": true, \"type\": \"scatter\", \"x\": [8528.3], \"xaxis\": \"x\", \"y\": [41.00511005555452], \"yaxis\": \"y\"}, {\"hovertemplate\": \"<b>%{hovertext}</b><br><br>Country=Brunei Darussalam<br>GDP per capita (current US$)=%{x}<br>Average Internet usage over the years=%{marker.size}<extra></extra>\", \"hovertext\": [\"Brunei Darussalam\"], \"legendgroup\": \"Brunei Darussalam\", \"marker\": {\"color\": \"#FFA15A\", \"size\": [63.515680057965824], \"sizemode\": \"area\", \"sizeref\": 0.025361307840186014, \"symbol\": \"circle\"}, \"mode\": \"markers\", \"name\": \"Brunei Darussalam\", \"showlegend\": true, \"type\": \"scatter\", \"x\": [30552.7], \"xaxis\": \"x\", \"y\": [63.515680057965824], \"yaxis\": \"y\"}, {\"hovertemplate\": \"<b>%{hovertext}</b><br><br>Country=Bulgaria<br>GDP per capita (current US$)=%{x}<br>Average Internet usage over the years=%{marker.size}<extra></extra>\", \"hovertext\": [\"Bulgaria\"], \"legendgroup\": \"Bulgaria\", \"marker\": {\"color\": \"#19d3f3\", \"size\": [47.69785126515635], \"sizemode\": \"area\", \"sizeref\": 0.025361307840186014, \"symbol\": \"circle\"}, \"mode\": \"markers\", \"name\": \"Bulgaria\", \"showlegend\": true, \"type\": \"scatter\", \"x\": [6846.8], \"xaxis\": \"x\", \"y\": [47.69785126515635], \"yaxis\": \"y\"}, {\"hovertemplate\": \"<b>%{hovertext}</b><br><br>Country=Burkina Faso<br>GDP per capita (current US$)=%{x}<br>Average Internet usage over the years=%{marker.size}<extra></extra>\", \"hovertext\": [\"Burkina Faso\"], \"legendgroup\": \"Burkina Faso\", \"marker\": {\"color\": \"#FF6692\", \"size\": [6.557457233961455], \"sizemode\": \"area\", \"sizeref\": 0.025361307840186014, \"symbol\": \"circle\"}, \"mode\": \"markers\", \"name\": \"Burkina Faso\", \"showlegend\": true, \"type\": \"scatter\", \"x\": [611.1], \"xaxis\": \"x\", \"y\": [6.557457233961455], \"yaxis\": \"y\"}, {\"hovertemplate\": \"<b>%{hovertext}</b><br><br>Country=Burundi<br>GDP per capita (current US$)=%{x}<br>Average Internet usage over the years=%{marker.size}<extra></extra>\", \"hovertext\": [\"Burundi\"], \"legendgroup\": \"Burundi\", \"marker\": {\"color\": \"#B6E880\", \"size\": [1.75401901309071], \"sizemode\": \"area\", \"sizeref\": 0.025361307840186014, \"symbol\": \"circle\"}, \"mode\": \"markers\", \"name\": \"Burundi\", \"showlegend\": true, \"type\": \"scatter\", \"x\": [244.6], \"xaxis\": \"x\", \"y\": [1.75401901309071], \"yaxis\": \"y\"}, {\"hovertemplate\": \"<b>%{hovertext}</b><br><br>Country=Cambodia<br>GDP per capita (current US$)=%{x}<br>Average Internet usage over the years=%{marker.size}<extra></extra>\", \"hovertext\": [\"Cambodia\"], \"legendgroup\": \"Cambodia\", \"marker\": {\"color\": \"#FF97FF\", \"size\": [12.885721432852053], \"sizemode\": \"area\", \"sizeref\": 0.025361307840186014, \"symbol\": \"circle\"}, \"mode\": \"markers\", \"name\": \"Cambodia\", \"showlegend\": true, \"type\": \"scatter\", \"x\": [1158.7], \"xaxis\": \"x\", \"y\": [12.885721432852053], \"yaxis\": \"y\"}, {\"hovertemplate\": \"<b>%{hovertext}</b><br><br>Country=Cameroon<br>GDP per capita (current US$)=%{x}<br>Average Internet usage over the years=%{marker.size}<extra></extra>\", \"hovertext\": [\"Cameroon\"], \"legendgroup\": \"Cameroon\", \"marker\": {\"color\": \"#FECB52\", \"size\": [10.15961255770332], \"sizemode\": \"area\", \"sizeref\": 0.025361307840186014, \"symbol\": \"circle\"}, \"mode\": \"markers\", \"name\": \"Cameroon\", \"showlegend\": true, \"type\": \"scatter\", \"x\": [1217.3], \"xaxis\": \"x\", \"y\": [10.15961255770332], \"yaxis\": \"y\"}, {\"hovertemplate\": \"<b>%{hovertext}</b><br><br>Country=Canada<br>GDP per capita (current US$)=%{x}<br>Average Internet usage over the years=%{marker.size}<extra></extra>\", \"hovertext\": [\"Canada\"], \"legendgroup\": \"Canada\", \"marker\": {\"color\": \"#636efa\", \"size\": [74.03090909090909], \"sizemode\": \"area\", \"sizeref\": 0.025361307840186014, \"symbol\": \"circle\"}, \"mode\": \"markers\", \"name\": \"Canada\", \"showlegend\": true, \"type\": \"scatter\", \"x\": [43205.6], \"xaxis\": \"x\", \"y\": [74.03090909090909], \"yaxis\": \"y\"}, {\"hovertemplate\": \"<b>%{hovertext}</b><br><br>Country=Cape Verde<br>GDP per capita (current US$)=%{x}<br>Average Internet usage over the years=%{marker.size}<extra></extra>\", \"hovertext\": [null], \"legendgroup\": \"Cape Verde\", \"marker\": {\"color\": \"#EF553B\", \"size\": [35.521169744811274], \"sizemode\": \"area\", \"sizeref\": 0.025361307840186014, \"symbol\": \"circle\"}, \"mode\": \"markers\", \"name\": \"Cape Verde\", \"showlegend\": true, \"type\": \"scatter\", \"x\": [null], \"xaxis\": \"x\", \"y\": [35.521169744811274], \"yaxis\": \"y\"}, {\"hovertemplate\": \"<b>%{hovertext}</b><br><br>Country=Central African Republic<br>GDP per capita (current US$)=%{x}<br>Average Internet usage over the years=%{marker.size}<extra></extra>\", \"hovertext\": [\"Central African Republic\"], \"legendgroup\": \"Central African Republic\", \"marker\": {\"color\": \"#00cc96\", \"size\": [2.4237131570938484], \"sizemode\": \"area\", \"sizeref\": 0.025361307840186014, \"symbol\": \"circle\"}, \"mode\": \"markers\", \"name\": \"Central African Republic\", \"showlegend\": true, \"type\": \"scatter\", \"x\": [333.2], \"xaxis\": \"x\", \"y\": [2.4237131570938484], \"yaxis\": \"y\"}, {\"hovertemplate\": \"<b>%{hovertext}</b><br><br>Country=Chad<br>GDP per capita (current US$)=%{x}<br>Average Internet usage over the years=%{marker.size}<extra></extra>\", \"hovertext\": [\"Chad\"], \"legendgroup\": \"Chad\", \"marker\": {\"color\": \"#ab63fa\", \"size\": [2.412269354176281], \"sizemode\": \"area\", \"sizeref\": 0.025361307840186014, \"symbol\": \"circle\"}, \"mode\": \"markers\", \"name\": \"Chad\", \"showlegend\": true, \"type\": \"scatter\", \"x\": [713.0], \"xaxis\": \"x\", \"y\": [2.412269354176281], \"yaxis\": \"y\"}, {\"hovertemplate\": \"<b>%{hovertext}</b><br><br>Country=Chile<br>GDP per capita (current US$)=%{x}<br>Average Internet usage over the years=%{marker.size}<extra></extra>\", \"hovertext\": [\"Chile\"], \"legendgroup\": \"Chile\", \"marker\": {\"color\": \"#FFA15A\", \"size\": [51.063729751649355], \"sizemode\": \"area\", \"sizeref\": 0.025361307840186014, \"symbol\": \"circle\"}, \"mode\": \"markers\", \"name\": \"Chile\", \"showlegend\": true, \"type\": \"scatter\", \"x\": [13416.2], \"xaxis\": \"x\", \"y\": [51.063729751649355], \"yaxis\": \"y\"}, {\"hovertemplate\": \"<b>%{hovertext}</b><br><br>Country=China<br>GDP per capita (current US$)=%{x}<br>Average Internet usage over the years=%{marker.size}<extra></extra>\", \"hovertext\": [\"China\"], \"legendgroup\": \"China\", \"marker\": {\"color\": \"#19d3f3\", \"size\": [34.24538979046083], \"sizemode\": \"area\", \"sizeref\": 0.025361307840186014, \"symbol\": \"circle\"}, \"mode\": \"markers\", \"name\": \"China\", \"showlegend\": true, \"type\": \"scatter\", \"x\": [8109.1], \"xaxis\": \"x\", \"y\": [34.24538979046083], \"yaxis\": \"y\"}, {\"hovertemplate\": \"<b>%{hovertext}</b><br><br>Country=Colombia<br>GDP per capita (current US$)=%{x}<br>Average Internet usage over the years=%{marker.size}<extra></extra>\", \"hovertext\": [\"Colombia\"], \"legendgroup\": \"Colombia\", \"marker\": {\"color\": \"#FF6692\", \"size\": [38.14700536745515], \"sizemode\": \"area\", \"sizeref\": 0.025361307840186014, \"symbol\": \"circle\"}, \"mode\": \"markers\", \"name\": \"Colombia\", \"showlegend\": true, \"type\": \"scatter\", \"x\": [6056.1], \"xaxis\": \"x\", \"y\": [38.14700536745515], \"yaxis\": \"y\"}, {\"hovertemplate\": \"<b>%{hovertext}</b><br><br>Country=Comoros<br>GDP per capita (current US$)=%{x}<br>Average Internet usage over the years=%{marker.size}<extra></extra>\", \"hovertext\": [\"Comoros\"], \"legendgroup\": \"Comoros\", \"marker\": {\"color\": \"#B6E880\", \"size\": [5.109335578871608], \"sizemode\": \"area\", \"sizeref\": 0.025361307840186014, \"symbol\": \"circle\"}, \"mode\": \"markers\", \"name\": \"Comoros\", \"showlegend\": true, \"type\": \"scatter\", \"x\": [1368.9], \"xaxis\": \"x\", \"y\": [5.109335578871608], \"yaxis\": \"y\"}, {\"hovertemplate\": \"<b>%{hovertext}</b><br><br>Country=Congo (Dem. Rep.)<br>GDP per capita (current US$)=%{x}<br>Average Internet usage over the years=%{marker.size}<extra></extra>\", \"hovertext\": [null], \"legendgroup\": \"Congo (Dem. Rep.)\", \"marker\": {\"color\": \"#FF97FF\", \"size\": [2.5157981282078383], \"sizemode\": \"area\", \"sizeref\": 0.025361307840186014, \"symbol\": \"circle\"}, \"mode\": \"markers\", \"name\": \"Congo (Dem. Rep.)\", \"showlegend\": true, \"type\": \"scatter\", \"x\": [null], \"xaxis\": \"x\", \"y\": [2.5157981282078383], \"yaxis\": \"y\"}, {\"hovertemplate\": \"<b>%{hovertext}</b><br><br>Country=Congo (Rep.)<br>GDP per capita (current US$)=%{x}<br>Average Internet usage over the years=%{marker.size}<extra></extra>\", \"hovertext\": [null], \"legendgroup\": \"Congo (Rep.)\", \"marker\": {\"color\": \"#FECB52\", \"size\": [5.11767216377099], \"sizemode\": \"area\", \"sizeref\": 0.025361307840186014, \"symbol\": \"circle\"}, \"mode\": \"markers\", \"name\": \"Congo (Rep.)\", \"showlegend\": true, \"type\": \"scatter\", \"x\": [null], \"xaxis\": \"x\", \"y\": [5.11767216377099], \"yaxis\": \"y\"}, {\"hovertemplate\": \"<b>%{hovertext}</b><br><br>Country=Costa Rica<br>GDP per capita (current US$)=%{x}<br>Average Internet usage over the years=%{marker.size}<extra></extra>\", \"hovertext\": [\"Costa Rica\"], \"legendgroup\": \"Costa Rica\", \"marker\": {\"color\": \"#636efa\", \"size\": [47.37849286115279], \"sizemode\": \"area\", \"sizeref\": 0.025361307840186014, \"symbol\": \"circle\"}, \"mode\": \"markers\", \"name\": \"Costa Rica\", \"showlegend\": true, \"type\": \"scatter\", \"x\": [11015.0], \"xaxis\": \"x\", \"y\": [47.37849286115279], \"yaxis\": \"y\"}, {\"hovertemplate\": \"<b>%{hovertext}</b><br><br>Country=Croatia<br>GDP per capita (current US$)=%{x}<br>Average Internet usage over the years=%{marker.size}<extra></extra>\", \"hovertext\": [\"Croatia\"], \"legendgroup\": \"Croatia\", \"marker\": {\"color\": \"#EF553B\", \"size\": [57.606160661350835], \"sizemode\": \"area\", \"sizeref\": 0.025361307840186014, \"symbol\": \"circle\"}, \"mode\": \"markers\", \"name\": \"Croatia\", \"showlegend\": true, \"type\": \"scatter\", \"x\": [11479.4], \"xaxis\": \"x\", \"y\": [57.606160661350835], \"yaxis\": \"y\"}, {\"hovertemplate\": \"<b>%{hovertext}</b><br><br>Country=Cuba<br>GDP per capita (current US$)=%{x}<br>Average Internet usage over the years=%{marker.size}<extra></extra>\", \"hovertext\": [\"Cuba\"], \"legendgroup\": \"Cuba\", \"marker\": {\"color\": \"#00cc96\", \"size\": [23.438990622495943], \"sizemode\": \"area\", \"sizeref\": 0.025361307840186014, \"symbol\": \"circle\"}, \"mode\": \"markers\", \"name\": \"Cuba\", \"showlegend\": true, \"type\": \"scatter\", \"x\": [7656.6], \"xaxis\": \"x\", \"y\": [23.438990622495943], \"yaxis\": \"y\"}, {\"hovertemplate\": \"<b>%{hovertext}</b><br><br>Country=Cyprus<br>GDP per capita (current US$)=%{x}<br>Average Internet usage over the years=%{marker.size}<extra></extra>\", \"hovertext\": [\"Cyprus\"], \"legendgroup\": \"Cyprus\", \"marker\": {\"color\": \"#ab63fa\", \"size\": [60.56207563729488], \"sizemode\": \"area\", \"sizeref\": 0.025361307840186014, \"symbol\": \"circle\"}, \"mode\": \"markers\", \"name\": \"Cyprus\", \"showlegend\": true, \"type\": \"scatter\", \"x\": [21941.9], \"xaxis\": \"x\", \"y\": [60.56207563729488], \"yaxis\": \"y\"}, {\"hovertemplate\": \"<b>%{hovertext}</b><br><br>Country=Czech Republic<br>GDP per capita (current US$)=%{x}<br>Average Internet usage over the years=%{marker.size}<extra></extra>\", \"hovertext\": [null], \"legendgroup\": \"Czech Republic\", \"marker\": {\"color\": \"#FFA15A\", \"size\": [65.24454670199033], \"sizemode\": \"area\", \"sizeref\": 0.025361307840186014, \"symbol\": \"circle\"}, \"mode\": \"markers\", \"name\": \"Czech Republic\", \"showlegend\": true, \"type\": \"scatter\", \"x\": [null], \"xaxis\": \"x\", \"y\": [65.24454670199033], \"yaxis\": \"y\"}, {\"hovertemplate\": \"<b>%{hovertext}</b><br><br>Country=C\\u00f4te d'Ivoire<br>GDP per capita (current US$)=%{x}<br>Average Internet usage over the years=%{marker.size}<extra></extra>\", \"hovertext\": [null], \"legendgroup\": \"C\\u00f4te d'Ivoire\", \"marker\": {\"color\": \"#19d3f3\", \"size\": [19.405126594398283], \"sizemode\": \"area\", \"sizeref\": 0.025361307840186014, \"symbol\": \"circle\"}, \"mode\": \"markers\", \"name\": \"C\\u00f4te d'Ivoire\", \"showlegend\": true, \"type\": \"scatter\", \"x\": [null], \"xaxis\": \"x\", \"y\": [19.405126594398283], \"yaxis\": \"y\"}, {\"hovertemplate\": \"<b>%{hovertext}</b><br><br>Country=Democratic People's Republic of Korea<br>GDP per capita (current US$)=%{x}<br>Average Internet usage over the years=%{marker.size}<extra></extra>\", \"hovertext\": [\"Democratic People's Republic of Korea\"], \"legendgroup\": \"Democratic People's Republic of Korea\", \"marker\": {\"color\": \"#FF6692\", \"size\": [0.0], \"sizemode\": \"area\", \"sizeref\": 0.025361307840186014, \"symbol\": \"circle\"}, \"mode\": \"markers\", \"name\": \"Democratic People's Republic of Korea\", \"showlegend\": true, \"type\": \"scatter\", \"x\": [648.0], \"xaxis\": \"x\", \"y\": [0.0], \"yaxis\": \"y\"}, {\"hovertemplate\": \"<b>%{hovertext}</b><br><br>Country=Denmark<br>GDP per capita (current US$)=%{x}<br>Average Internet usage over the years=%{marker.size}<extra></extra>\", \"hovertext\": [\"Denmark\"], \"legendgroup\": \"Denmark\", \"marker\": {\"color\": \"#B6E880\", \"size\": [88.30582468167478], \"sizemode\": \"area\", \"sizeref\": 0.025361307840186014, \"symbol\": \"circle\"}, \"mode\": \"markers\", \"name\": \"Denmark\", \"showlegend\": true, \"type\": \"scatter\", \"x\": [53149.3], \"xaxis\": \"x\", \"y\": [88.30582468167478], \"yaxis\": \"y\"}, {\"hovertemplate\": \"<b>%{hovertext}</b><br><br>Country=Djibouti<br>GDP per capita (current US$)=%{x}<br>Average Internet usage over the years=%{marker.size}<extra></extra>\", \"hovertext\": [\"Djibouti\"], \"legendgroup\": \"Djibouti\", \"marker\": {\"color\": \"#FF97FF\", \"size\": [11.26037278742234], \"sizemode\": \"area\", \"sizeref\": 0.025361307840186014, \"symbol\": \"circle\"}, \"mode\": \"markers\", \"name\": \"Djibouti\", \"showlegend\": true, \"type\": \"scatter\", \"x\": [1956.3], \"xaxis\": \"x\", \"y\": [11.26037278742234], \"yaxis\": \"y\"}, {\"hovertemplate\": \"<b>%{hovertext}</b><br><br>Country=Dominica<br>GDP per capita (current US$)=%{x}<br>Average Internet usage over the years=%{marker.size}<extra></extra>\", \"hovertext\": [\"Dominica\"], \"legendgroup\": \"Dominica\", \"marker\": {\"color\": \"#FECB52\", \"size\": [45.75983238687181], \"sizemode\": \"area\", \"sizeref\": 0.025361307840186014, \"symbol\": \"circle\"}, \"mode\": \"markers\", \"name\": \"Dominica\", \"showlegend\": true, \"type\": \"scatter\", \"x\": [7051.1], \"xaxis\": \"x\", \"y\": [45.75983238687181], \"yaxis\": \"y\"}, {\"hovertemplate\": \"<b>%{hovertext}</b><br><br>Country=Dominican Rep.<br>GDP per capita (current US$)=%{x}<br>Average Internet usage over the years=%{marker.size}<extra></extra>\", \"hovertext\": [null], \"legendgroup\": \"Dominican Rep.\", \"marker\": {\"color\": \"#636efa\", \"size\": [43.89727688642381], \"sizemode\": \"area\", \"sizeref\": 0.025361307840186014, \"symbol\": \"circle\"}, \"mode\": \"markers\", \"name\": \"Dominican Rep.\", \"showlegend\": true, \"type\": \"scatter\", \"x\": [null], \"xaxis\": \"x\", \"y\": [43.89727688642381], \"yaxis\": \"y\"}, {\"hovertemplate\": \"<b>%{hovertext}</b><br><br>Country=Ecuador<br>GDP per capita (current US$)=%{x}<br>Average Internet usage over the years=%{marker.size}<extra></extra>\", \"hovertext\": [\"Ecuador\"], \"legendgroup\": \"Ecuador\", \"marker\": {\"color\": \"#EF553B\", \"size\": [31.73941030180106], \"sizemode\": \"area\", \"sizeref\": 0.025361307840186014, \"symbol\": \"circle\"}, \"mode\": \"markers\", \"name\": \"Ecuador\", \"showlegend\": true, \"type\": \"scatter\", \"x\": [6205.1], \"xaxis\": \"x\", \"y\": [31.73941030180106], \"yaxis\": \"y\"}, {\"hovertemplate\": \"<b>%{hovertext}</b><br><br>Country=Egypt<br>GDP per capita (current US$)=%{x}<br>Average Internet usage over the years=%{marker.size}<extra></extra>\", \"hovertext\": [\"Egypt\"], \"legendgroup\": \"Egypt\", \"marker\": {\"color\": \"#00cc96\", \"size\": [29.202532891201518], \"sizemode\": \"area\", \"sizeref\": 0.025361307840186014, \"symbol\": \"circle\"}, \"mode\": \"markers\", \"name\": \"Egypt\", \"showlegend\": true, \"type\": \"scatter\", \"x\": [3452.3], \"xaxis\": \"x\", \"y\": [29.202532891201518], \"yaxis\": \"y\"}, {\"hovertemplate\": \"<b>%{hovertext}</b><br><br>Country=El Salvador<br>GDP per capita (current US$)=%{x}<br>Average Internet usage over the years=%{marker.size}<extra></extra>\", \"hovertext\": [\"El Salvador\"], \"legendgroup\": \"El Salvador\", \"marker\": {\"color\": \"#ab63fa\", \"size\": [17.999109458627796], \"sizemode\": \"area\", \"sizeref\": 0.025361307840186014, \"symbol\": \"circle\"}, \"mode\": \"markers\", \"name\": \"El Salvador\", \"showlegend\": true, \"type\": \"scatter\", \"x\": [4219.4], \"xaxis\": \"x\", \"y\": [17.999109458627796], \"yaxis\": \"y\"}, {\"hovertemplate\": \"<b>%{hovertext}</b><br><br>Country=Equatorial Guinea<br>GDP per capita (current US$)=%{x}<br>Average Internet usage over the years=%{marker.size}<extra></extra>\", \"hovertext\": [\"Equatorial Guinea\"], \"legendgroup\": \"Equatorial Guinea\", \"marker\": {\"color\": \"#FFA15A\", \"size\": [12.665938767297403], \"sizemode\": \"area\", \"sizeref\": 0.025361307840186014, \"symbol\": \"circle\"}, \"mode\": \"markers\", \"name\": \"Equatorial Guinea\", \"showlegend\": true, \"type\": \"scatter\", \"x\": [16344.1], \"xaxis\": \"x\", \"y\": [12.665938767297403], \"yaxis\": \"y\"}, {\"hovertemplate\": \"<b>%{hovertext}</b><br><br>Country=Eritrea<br>GDP per capita (current US$)=%{x}<br>Average Internet usage over the years=%{marker.size}<extra></extra>\", \"hovertext\": [\"Eritrea\"], \"legendgroup\": \"Eritrea\", \"marker\": {\"color\": \"#19d3f3\", \"size\": [0.7005882506184542], \"sizemode\": \"area\", \"sizeref\": 0.025361307840186014, \"symbol\": \"circle\"}, \"mode\": \"markers\", \"name\": \"Eritrea\", \"showlegend\": true, \"type\": \"scatter\", \"x\": [914.9], \"xaxis\": \"x\", \"y\": [0.7005882506184542], \"yaxis\": \"y\"}, {\"hovertemplate\": \"<b>%{hovertext}</b><br><br>Country=Estonia<br>GDP per capita (current US$)=%{x}<br>Average Internet usage over the years=%{marker.size}<extra></extra>\", \"hovertext\": [\"Estonia\"], \"legendgroup\": \"Estonia\", \"marker\": {\"color\": \"#FF6692\", \"size\": [76.03382806042829], \"sizemode\": \"area\", \"sizeref\": 0.025361307840186014, \"symbol\": \"circle\"}, \"mode\": \"markers\", \"name\": \"Estonia\", \"showlegend\": true, \"type\": \"scatter\", \"x\": [17112.0], \"xaxis\": \"x\", \"y\": [76.03382806042829], \"yaxis\": \"y\"}, {\"hovertemplate\": \"<b>%{hovertext}</b><br><br>Country=Ethiopia<br>GDP per capita (current US$)=%{x}<br>Average Internet usage over the years=%{marker.size}<extra></extra>\", \"hovertext\": [\"Ethiopia\"], \"legendgroup\": \"Ethiopia\", \"marker\": {\"color\": \"#B6E880\", \"size\": [5.920461314053615], \"sizemode\": \"area\", \"sizeref\": 0.025361307840186014, \"symbol\": \"circle\"}, \"mode\": \"markers\", \"name\": \"Ethiopia\", \"showlegend\": true, \"type\": \"scatter\", \"x\": [602.8], \"xaxis\": \"x\", \"y\": [5.920461314053615], \"yaxis\": \"y\"}, {\"hovertemplate\": \"<b>%{hovertext}</b><br><br>Country=Falkland (Malvinas) Is.<br>GDP per capita (current US$)=%{x}<br>Average Internet usage over the years=%{marker.size}<extra></extra>\", \"hovertext\": [null], \"legendgroup\": \"Falkland (Malvinas) Is.\", \"marker\": {\"color\": \"#FF97FF\", \"size\": [74.87176110346658], \"sizemode\": \"area\", \"sizeref\": 0.025361307840186014, \"symbol\": \"circle\"}, \"mode\": \"markers\", \"name\": \"Falkland (Malvinas) Is.\", \"showlegend\": true, \"type\": \"scatter\", \"x\": [null], \"xaxis\": \"x\", \"y\": [74.87176110346658], \"yaxis\": \"y\"}, {\"hovertemplate\": \"<b>%{hovertext}</b><br><br>Country=Fiji<br>GDP per capita (current US$)=%{x}<br>Average Internet usage over the years=%{marker.size}<extra></extra>\", \"hovertext\": [\"Fiji\"], \"legendgroup\": \"Fiji\", \"marker\": {\"color\": \"#FECB52\", \"size\": [27.569654494754733], \"sizemode\": \"area\", \"sizeref\": 0.025361307840186014, \"symbol\": \"circle\"}, \"mode\": \"markers\", \"name\": \"Fiji\", \"showlegend\": true, \"type\": \"scatter\", \"x\": [4921.9], \"xaxis\": \"x\", \"y\": [27.569654494754733], \"yaxis\": \"y\"}, {\"hovertemplate\": \"<b>%{hovertext}</b><br><br>Country=Finland<br>GDP per capita (current US$)=%{x}<br>Average Internet usage over the years=%{marker.size}<extra></extra>\", \"hovertext\": [\"Finland\"], \"legendgroup\": \"Finland\", \"marker\": {\"color\": \"#636efa\", \"size\": [82.33981088535499], \"sizemode\": \"area\", \"sizeref\": 0.025361307840186014, \"symbol\": \"circle\"}, \"mode\": \"markers\", \"name\": \"Finland\", \"showlegend\": true, \"type\": \"scatter\", \"x\": [42148.1], \"xaxis\": \"x\", \"y\": [82.33981088535499], \"yaxis\": \"y\"}, {\"hovertemplate\": \"<b>%{hovertext}</b><br><br>Country=France<br>GDP per capita (current US$)=%{x}<br>Average Internet usage over the years=%{marker.size}<extra></extra>\", \"hovertext\": [\"France\"], \"legendgroup\": \"France\", \"marker\": {\"color\": \"#EF553B\", \"size\": [70.8375934721078], \"sizemode\": \"area\", \"sizeref\": 0.025361307840186014, \"symbol\": \"circle\"}, \"mode\": \"markers\", \"name\": \"France\", \"showlegend\": true, \"type\": \"scatter\", \"x\": [36304.2], \"xaxis\": \"x\", \"y\": [70.8375934721078], \"yaxis\": \"y\"}, {\"hovertemplate\": \"<b>%{hovertext}</b><br><br>Country=Gabon<br>GDP per capita (current US$)=%{x}<br>Average Internet usage over the years=%{marker.size}<extra></extra>\", \"hovertext\": [\"Gabon\"], \"legendgroup\": \"Gabon\", \"marker\": {\"color\": \"#00cc96\", \"size\": [25.95958712532986], \"sizemode\": \"area\", \"sizeref\": 0.025361307840186014, \"symbol\": \"circle\"}, \"mode\": \"markers\", \"name\": \"Gabon\", \"showlegend\": true, \"type\": \"scatter\", \"x\": [7960.7], \"xaxis\": \"x\", \"y\": [25.95958712532986], \"yaxis\": \"y\"}, {\"hovertemplate\": \"<b>%{hovertext}</b><br><br>Country=Gambia<br>GDP per capita (current US$)=%{x}<br>Average Internet usage over the years=%{marker.size}<extra></extra>\", \"hovertext\": [\"Gambia\"], \"legendgroup\": \"Gambia\", \"marker\": {\"color\": \"#ab63fa\", \"size\": [11.057889020067101], \"sizemode\": \"area\", \"sizeref\": 0.025361307840186014, \"symbol\": \"circle\"}, \"mode\": \"markers\", \"name\": \"Gambia\", \"showlegend\": true, \"type\": \"scatter\", \"x\": [473.2], \"xaxis\": \"x\", \"y\": [11.057889020067101], \"yaxis\": \"y\"}, {\"hovertemplate\": \"<b>%{hovertext}</b><br><br>Country=Georgia<br>GDP per capita (current US$)=%{x}<br>Average Internet usage over the years=%{marker.size}<extra></extra>\", \"hovertext\": [\"Georgia\"], \"legendgroup\": \"Georgia\", \"marker\": {\"color\": \"#FFA15A\", \"size\": [38.084307936557586], \"sizemode\": \"area\", \"sizeref\": 0.025361307840186014, \"symbol\": \"circle\"}, \"mode\": \"markers\", \"name\": \"Georgia\", \"showlegend\": true, \"type\": \"scatter\", \"x\": [3491.4], \"xaxis\": \"x\", \"y\": [38.084307936557586], \"yaxis\": \"y\"}, {\"hovertemplate\": \"<b>%{hovertext}</b><br><br>Country=Germany<br>GDP per capita (current US$)=%{x}<br>Average Internet usage over the years=%{marker.size}<extra></extra>\", \"hovertext\": [\"Germany\"], \"legendgroup\": \"Germany\", \"marker\": {\"color\": \"#19d3f3\", \"size\": [78.25417931072151], \"sizemode\": \"area\", \"sizeref\": 0.025361307840186014, \"symbol\": \"circle\"}, \"mode\": \"markers\", \"name\": \"Germany\", \"showlegend\": true, \"type\": \"scatter\", \"x\": [41686.2], \"xaxis\": \"x\", \"y\": [78.25417931072151], \"yaxis\": \"y\"}, {\"hovertemplate\": \"<b>%{hovertext}</b><br><br>Country=Ghana<br>GDP per capita (current US$)=%{x}<br>Average Internet usage over the years=%{marker.size}<extra></extra>\", \"hovertext\": [\"Ghana\"], \"legendgroup\": \"Ghana\", \"marker\": {\"color\": \"#FF6692\", \"size\": [15.324413712606543], \"sizemode\": \"area\", \"sizeref\": 0.025361307840186014, \"symbol\": \"circle\"}, \"mode\": \"markers\", \"name\": \"Ghana\", \"showlegend\": true, \"type\": \"scatter\", \"x\": [1355.6], \"xaxis\": \"x\", \"y\": [15.324413712606543], \"yaxis\": \"y\"}, {\"hovertemplate\": \"<b>%{hovertext}</b><br><br>Country=Greece<br>GDP per capita (current US$)=%{x}<br>Average Internet usage over the years=%{marker.size}<extra></extra>\", \"hovertext\": [\"Greece\"], \"legendgroup\": \"Greece\", \"marker\": {\"color\": \"#B6E880\", \"size\": [53.34177900374676], \"sizemode\": \"area\", \"sizeref\": 0.025361307840186014, \"symbol\": \"circle\"}, \"mode\": \"markers\", \"name\": \"Greece\", \"showlegend\": true, \"type\": \"scatter\", \"x\": [17788.0], \"xaxis\": \"x\", \"y\": [53.34177900374676], \"yaxis\": \"y\"}, {\"hovertemplate\": \"<b>%{hovertext}</b><br><br>Country=Grenada<br>GDP per capita (current US$)=%{x}<br>Average Internet usage over the years=%{marker.size}<extra></extra>\", \"hovertext\": [\"Grenada\"], \"legendgroup\": \"Grenada\", \"marker\": {\"color\": \"#FF97FF\", \"size\": [33.53544145955431], \"sizemode\": \"area\", \"sizeref\": 0.025361307840186014, \"symbol\": \"circle\"}, \"mode\": \"markers\", \"name\": \"Grenada\", \"showlegend\": true, \"type\": \"scatter\", \"x\": [8933.8], \"xaxis\": \"x\", \"y\": [33.53544145955431], \"yaxis\": \"y\"}, {\"hovertemplate\": \"<b>%{hovertext}</b><br><br>Country=Guatemala<br>GDP per capita (current US$)=%{x}<br>Average Internet usage over the years=%{marker.size}<extra></extra>\", \"hovertext\": [\"Guatemala\"], \"legendgroup\": \"Guatemala\", \"marker\": {\"color\": \"#FECB52\", \"size\": [19.693418231947412], \"sizemode\": \"area\", \"sizeref\": 0.025361307840186014, \"symbol\": \"circle\"}, \"mode\": \"markers\", \"name\": \"Guatemala\", \"showlegend\": true, \"type\": \"scatter\", \"x\": [3903.5], \"xaxis\": \"x\", \"y\": [19.693418231947412], \"yaxis\": \"y\"}, {\"hovertemplate\": \"<b>%{hovertext}</b><br><br>Country=Guinea<br>GDP per capita (current US$)=%{x}<br>Average Internet usage over the years=%{marker.size}<extra></extra>\", \"hovertext\": [\"Guinea\"], \"legendgroup\": \"Guinea\", \"marker\": {\"color\": \"#636efa\", \"size\": [4.8761526458730025], \"sizemode\": \"area\", \"sizeref\": 0.025361307840186014, \"symbol\": \"circle\"}, \"mode\": \"markers\", \"name\": \"Guinea\", \"showlegend\": true, \"type\": \"scatter\", \"x\": [703.9], \"xaxis\": \"x\", \"y\": [4.8761526458730025], \"yaxis\": \"y\"}, {\"hovertemplate\": \"<b>%{hovertext}</b><br><br>Country=Guinea-Bissau<br>GDP per capita (current US$)=%{x}<br>Average Internet usage over the years=%{marker.size}<extra></extra>\", \"hovertext\": [\"Guinea-Bissau\"], \"legendgroup\": \"Guinea-Bissau\", \"marker\": {\"color\": \"#EF553B\", \"size\": [2.527280818991616], \"sizemode\": \"area\", \"sizeref\": 0.025361307840186014, \"symbol\": \"circle\"}, \"mode\": \"markers\", \"name\": \"Guinea-Bissau\", \"showlegend\": true, \"type\": \"scatter\", \"x\": [530.0], \"xaxis\": \"x\", \"y\": [2.527280818991616], \"yaxis\": \"y\"}, {\"hovertemplate\": \"<b>%{hovertext}</b><br><br>Country=Guyana<br>GDP per capita (current US$)=%{x}<br>Average Internet usage over the years=%{marker.size}<extra></extra>\", \"hovertext\": [\"Guyana\"], \"legendgroup\": \"Guyana\", \"marker\": {\"color\": \"#00cc96\", \"size\": [24.272484395775418], \"sizemode\": \"area\", \"sizeref\": 0.025361307840186014, \"symbol\": \"circle\"}, \"mode\": \"markers\", \"name\": \"Guyana\", \"showlegend\": true, \"type\": \"scatter\", \"x\": [4278.8], \"xaxis\": \"x\", \"y\": [24.272484395775418], \"yaxis\": \"y\"}, {\"hovertemplate\": \"<b>%{hovertext}</b><br><br>Country=Haiti<br>GDP per capita (current US$)=%{x}<br>Average Internet usage over the years=%{marker.size}<extra></extra>\", \"hovertext\": [\"Haiti\"], \"legendgroup\": \"Haiti\", \"marker\": {\"color\": \"#ab63fa\", \"size\": [11.364318606226908], \"sizemode\": \"area\", \"sizeref\": 0.025361307840186014, \"symbol\": \"circle\"}, \"mode\": \"markers\", \"name\": \"Haiti\", \"showlegend\": true, \"type\": \"scatter\", \"x\": [793.7], \"xaxis\": \"x\", \"y\": [11.364318606226908], \"yaxis\": \"y\"}, {\"hovertemplate\": \"<b>%{hovertext}</b><br><br>Country=Honduras<br>GDP per capita (current US$)=%{x}<br>Average Internet usage over the years=%{marker.size}<extra></extra>\", \"hovertext\": [\"Honduras\"], \"legendgroup\": \"Honduras\", \"marker\": {\"color\": \"#FFA15A\", \"size\": [16.18125963626534], \"sizemode\": \"area\", \"sizeref\": 0.025361307840186014, \"symbol\": \"circle\"}, \"mode\": \"markers\", \"name\": \"Honduras\", \"showlegend\": true, \"type\": \"scatter\", \"x\": [2521.9], \"xaxis\": \"x\", \"y\": [16.18125963626534], \"yaxis\": \"y\"}, {\"hovertemplate\": \"<b>%{hovertext}</b><br><br>Country=China, Hong Kong SAR<br>GDP per capita (current US$)=%{x}<br>Average Internet usage over the years=%{marker.size}<extra></extra>\", \"hovertext\": [\"China, Hong Kong SAR\"], \"legendgroup\": \"China, Hong Kong SAR\", \"marker\": {\"color\": \"#19d3f3\", \"size\": [65.2488857632337], \"sizemode\": \"area\", \"sizeref\": 0.025361307840186014, \"symbol\": \"circle\"}, \"mode\": \"markers\", \"name\": \"China, Hong Kong SAR\", \"showlegend\": true, \"type\": \"scatter\", \"x\": [42431.0], \"xaxis\": \"x\", \"y\": [65.2488857632337], \"yaxis\": \"y\"}, {\"hovertemplate\": \"<b>%{hovertext}</b><br><br>Country=Hungary<br>GDP per capita (current US$)=%{x}<br>Average Internet usage over the years=%{marker.size}<extra></extra>\", \"hovertext\": [\"Hungary\"], \"legendgroup\": \"Hungary\", \"marker\": {\"color\": \"#FF6692\", \"size\": [63.88961633922849], \"sizemode\": \"area\", \"sizeref\": 0.025361307840186014, \"symbol\": \"circle\"}, \"mode\": \"markers\", \"name\": \"Hungary\", \"showlegend\": true, \"type\": \"scatter\", \"x\": [12350.6], \"xaxis\": \"x\", \"y\": [63.88961633922849], \"yaxis\": \"y\"}, {\"hovertemplate\": \"<b>%{hovertext}</b><br><br>Country=Iceland<br>GDP per capita (current US$)=%{x}<br>Average Internet usage over the years=%{marker.size}<extra></extra>\", \"hovertext\": [\"Iceland\"], \"legendgroup\": \"Iceland\", \"marker\": {\"color\": \"#B6E880\", \"size\": [91.30070822466965], \"sizemode\": \"area\", \"sizeref\": 0.025361307840186014, \"symbol\": \"circle\"}, \"mode\": \"markers\", \"name\": \"Iceland\", \"showlegend\": true, \"type\": \"scatter\", \"x\": [50936.0], \"xaxis\": \"x\", \"y\": [91.30070822466965], \"yaxis\": \"y\"}, {\"hovertemplate\": \"<b>%{hovertext}</b><br><br>Country=India<br>GDP per capita (current US$)=%{x}<br>Average Internet usage over the years=%{marker.size}<extra></extra>\", \"hovertext\": [\"India\"], \"legendgroup\": \"India\", \"marker\": {\"color\": \"#FF97FF\", \"size\": [12.965060760344018], \"sizemode\": \"area\", \"sizeref\": 0.025361307840186014, \"symbol\": \"circle\"}, \"mode\": \"markers\", \"name\": \"India\", \"showlegend\": true, \"type\": \"scatter\", \"x\": [1614.2], \"xaxis\": \"x\", \"y\": [12.965060760344018], \"yaxis\": \"y\"}, {\"hovertemplate\": \"<b>%{hovertext}</b><br><br>Country=Indonesia<br>GDP per capita (current US$)=%{x}<br>Average Internet usage over the years=%{marker.size}<extra></extra>\", \"hovertext\": [\"Indonesia\"], \"legendgroup\": \"Indonesia\", \"marker\": {\"color\": \"#FECB52\", \"size\": [17.620994089873815], \"sizemode\": \"area\", \"sizeref\": 0.025361307840186014, \"symbol\": \"circle\"}, \"mode\": \"markers\", \"name\": \"Indonesia\", \"showlegend\": true, \"type\": \"scatter\", \"x\": [3346.5], \"xaxis\": \"x\", \"y\": [17.620994089873815], \"yaxis\": \"y\"}, {\"hovertemplate\": \"<b>%{hovertext}</b><br><br>Country=Iran (Islamic Republic of)<br>GDP per capita (current US$)=%{x}<br>Average Internet usage over the years=%{marker.size}<extra></extra>\", \"hovertext\": [\"Iran (Islamic Republic of)\"], \"legendgroup\": \"Iran (Islamic Republic of)\", \"marker\": {\"color\": \"#636efa\", \"size\": [33.506769401156866], \"sizemode\": \"area\", \"sizeref\": 0.025361307840186014, \"symbol\": \"circle\"}, \"mode\": \"markers\", \"name\": \"Iran (Islamic Republic of)\", \"showlegend\": true, \"type\": \"scatter\", \"x\": [5038.1], \"xaxis\": \"x\", \"y\": [33.506769401156866], \"yaxis\": \"y\"}, {\"hovertemplate\": \"<b>%{hovertext}</b><br><br>Country=Iraq<br>GDP per capita (current US$)=%{x}<br>Average Internet usage over the years=%{marker.size}<extra></extra>\", \"hovertext\": [\"Iraq\"], \"legendgroup\": \"Iraq\", \"marker\": {\"color\": \"#EF553B\", \"size\": [15.136363535454548], \"sizemode\": \"area\", \"sizeref\": 0.025361307840186014, \"symbol\": \"circle\"}, \"mode\": \"markers\", \"name\": \"Iraq\", \"showlegend\": true, \"type\": \"scatter\", \"x\": [4509.0], \"xaxis\": \"x\", \"y\": [15.136363535454548], \"yaxis\": \"y\"}, {\"hovertemplate\": \"<b>%{hovertext}</b><br><br>Country=Ireland<br>GDP per capita (current US$)=%{x}<br>Average Internet usage over the years=%{marker.size}<extra></extra>\", \"hovertext\": [\"Ireland\"], \"legendgroup\": \"Ireland\", \"marker\": {\"color\": \"#00cc96\", \"size\": [70.90928072625974], \"sizemode\": \"area\", \"sizeref\": 0.025361307840186014, \"symbol\": \"circle\"}, \"mode\": \"markers\", \"name\": \"Ireland\", \"showlegend\": true, \"type\": \"scatter\", \"x\": [60513.6], \"xaxis\": \"x\", \"y\": [70.90928072625974], \"yaxis\": \"y\"}, {\"hovertemplate\": \"<b>%{hovertext}</b><br><br>Country=Israel<br>GDP per capita (current US$)=%{x}<br>Average Internet usage over the years=%{marker.size}<extra></extra>\", \"hovertext\": [\"Israel\"], \"legendgroup\": \"Israel\", \"marker\": {\"color\": \"#ab63fa\", \"size\": [57.91783390414793], \"sizemode\": \"area\", \"sizeref\": 0.025361307840186014, \"symbol\": \"circle\"}, \"mode\": \"markers\", \"name\": \"Israel\", \"showlegend\": true, \"type\": \"scatter\", \"x\": [37129.4], \"xaxis\": \"x\", \"y\": [57.91783390414793], \"yaxis\": \"y\"}, {\"hovertemplate\": \"<b>%{hovertext}</b><br><br>Country=Italy<br>GDP per capita (current US$)=%{x}<br>Average Internet usage over the years=%{marker.size}<extra></extra>\", \"hovertext\": [\"Italy\"], \"legendgroup\": \"Italy\", \"marker\": {\"color\": \"#FFA15A\", \"size\": [53.912649855804936], \"sizemode\": \"area\", \"sizeref\": 0.025361307840186014, \"symbol\": \"circle\"}, \"mode\": \"markers\", \"name\": \"Italy\", \"showlegend\": true, \"type\": \"scatter\", \"x\": [30462.4], \"xaxis\": \"x\", \"y\": [53.912649855804936], \"yaxis\": \"y\"}, {\"hovertemplate\": \"<b>%{hovertext}</b><br><br>Country=Jamaica<br>GDP per capita (current US$)=%{x}<br>Average Internet usage over the years=%{marker.size}<extra></extra>\", \"hovertext\": [\"Jamaica\"], \"legendgroup\": \"Jamaica\", \"marker\": {\"color\": \"#19d3f3\", \"size\": [30.361570105303098], \"sizemode\": \"area\", \"sizeref\": 0.025361307840186014, \"symbol\": \"circle\"}, \"mode\": \"markers\", \"name\": \"Jamaica\", \"showlegend\": true, \"type\": \"scatter\", \"x\": [5105.8], \"xaxis\": \"x\", \"y\": [30.361570105303098], \"yaxis\": \"y\"}, {\"hovertemplate\": \"<b>%{hovertext}</b><br><br>Country=Japan<br>GDP per capita (current US$)=%{x}<br>Average Internet usage over the years=%{marker.size}<extra></extra>\", \"hovertext\": [\"Japan\"], \"legendgroup\": \"Japan\", \"marker\": {\"color\": \"#FF6692\", \"size\": [70.89339976529835], \"sizemode\": \"area\", \"sizeref\": 0.025361307840186014, \"symbol\": \"circle\"}, \"mode\": \"markers\", \"name\": \"Japan\", \"showlegend\": true, \"type\": \"scatter\", \"x\": [34628.7], \"xaxis\": \"x\", \"y\": [70.89339976529835], \"yaxis\": \"y\"}, {\"hovertemplate\": \"<b>%{hovertext}</b><br><br>Country=Jordan<br>GDP per capita (current US$)=%{x}<br>Average Internet usage over the years=%{marker.size}<extra></extra>\", \"hovertext\": [\"Jordan\"], \"legendgroup\": \"Jordan\", \"marker\": {\"color\": \"#B6E880\", \"size\": [35.587547014230175], \"sizemode\": \"area\", \"sizeref\": 0.025361307840186014, \"symbol\": \"circle\"}, \"mode\": \"markers\", \"name\": \"Jordan\", \"showlegend\": true, \"type\": \"scatter\", \"x\": [4940.1], \"xaxis\": \"x\", \"y\": [35.587547014230175], \"yaxis\": \"y\"}, {\"hovertemplate\": \"<b>%{hovertext}</b><br><br>Country=Kazakhstan<br>GDP per capita (current US$)=%{x}<br>Average Internet usage over the years=%{marker.size}<extra></extra>\", \"hovertext\": [\"Kazakhstan\"], \"legendgroup\": \"Kazakhstan\", \"marker\": {\"color\": \"#FF97FF\", \"size\": [52.52631646753314], \"sizemode\": \"area\", \"sizeref\": 0.025361307840186014, \"symbol\": \"circle\"}, \"mode\": \"markers\", \"name\": \"Kazakhstan\", \"showlegend\": true, \"type\": \"scatter\", \"x\": [10312.1], \"xaxis\": \"x\", \"y\": [52.52631646753314], \"yaxis\": \"y\"}, {\"hovertemplate\": \"<b>%{hovertext}</b><br><br>Country=Kenya<br>GDP per capita (current US$)=%{x}<br>Average Internet usage over the years=%{marker.size}<extra></extra>\", \"hovertext\": [\"Kenya\"], \"legendgroup\": \"Kenya\", \"marker\": {\"color\": \"#FECB52\", \"size\": [10.039537497505517], \"sizemode\": \"area\", \"sizeref\": 0.025361307840186014, \"symbol\": \"circle\"}, \"mode\": \"markers\", \"name\": \"Kenya\", \"showlegend\": true, \"type\": \"scatter\", \"x\": [1376.7], \"xaxis\": \"x\", \"y\": [10.039537497505517], \"yaxis\": \"y\"}, {\"hovertemplate\": \"<b>%{hovertext}</b><br><br>Country=Kiribati<br>GDP per capita (current US$)=%{x}<br>Average Internet usage over the years=%{marker.size}<extra></extra>\", \"hovertext\": [\"Kiribati\"], \"legendgroup\": \"Kiribati\", \"marker\": {\"color\": \"#636efa\", \"size\": [9.14830229401086], \"sizemode\": \"area\", \"sizeref\": 0.025361307840186014, \"symbol\": \"circle\"}, \"mode\": \"markers\", \"name\": \"Kiribati\", \"showlegend\": true, \"type\": \"scatter\", \"x\": [1442.9], \"xaxis\": \"x\", \"y\": [9.14830229401086], \"yaxis\": \"y\"}, {\"hovertemplate\": \"<b>%{hovertext}</b><br><br>Country=Korea (Rep. of)<br>GDP per capita (current US$)=%{x}<br>Average Internet usage over the years=%{marker.size}<extra></extra>\", \"hovertext\": [null], \"legendgroup\": \"Korea (Rep. of)\", \"marker\": {\"color\": \"#EF553B\", \"size\": [83.25151694613277], \"sizemode\": \"area\", \"sizeref\": 0.025361307840186014, \"symbol\": \"circle\"}, \"mode\": \"markers\", \"name\": \"Korea (Rep. of)\", \"showlegend\": true, \"type\": \"scatter\", \"x\": [null], \"xaxis\": \"x\", \"y\": [83.25151694613277], \"yaxis\": \"y\"}, {\"hovertemplate\": \"<b>%{hovertext}</b><br><br>Country=Kuwait<br>GDP per capita (current US$)=%{x}<br>Average Internet usage over the years=%{marker.size}<extra></extra>\", \"hovertext\": [\"Kuwait\"], \"legendgroup\": \"Kuwait\", \"marker\": {\"color\": \"#00cc96\", \"size\": [66.76399555635406], \"sizemode\": \"area\", \"sizeref\": 0.025361307840186014, \"symbol\": \"circle\"}, \"mode\": \"markers\", \"name\": \"Kuwait\", \"showlegend\": true, \"type\": \"scatter\", \"x\": [29303.9], \"xaxis\": \"x\", \"y\": [66.76399555635406], \"yaxis\": \"y\"}, {\"hovertemplate\": \"<b>%{hovertext}</b><br><br>Country=Kyrgyzstan<br>GDP per capita (current US$)=%{x}<br>Average Internet usage over the years=%{marker.size}<extra></extra>\", \"hovertext\": [\"Kyrgyzstan\"], \"legendgroup\": \"Kyrgyzstan\", \"marker\": {\"color\": \"#ab63fa\", \"size\": [20.15656775095957], \"sizemode\": \"area\", \"sizeref\": 0.025361307840186014, \"symbol\": \"circle\"}, \"mode\": \"markers\", \"name\": \"Kyrgyzstan\", \"showlegend\": true, \"type\": \"scatter\", \"x\": [1106.4], \"xaxis\": \"x\", \"y\": [20.15656775095957], \"yaxis\": \"y\"}, {\"hovertemplate\": \"<b>%{hovertext}</b><br><br>Country=Lao People's Democratic Republic<br>GDP per capita (current US$)=%{x}<br>Average Internet usage over the years=%{marker.size}<extra></extra>\", \"hovertext\": [\"Lao People's Democratic Republic\"], \"legendgroup\": \"Lao People's Democratic Republic\", \"marker\": {\"color\": \"#FFA15A\", \"size\": [10.913592072182132], \"sizemode\": \"area\", \"sizeref\": 0.025361307840186014, \"symbol\": \"circle\"}, \"mode\": \"markers\", \"name\": \"Lao People's Democratic Republic\", \"showlegend\": true, \"type\": \"scatter\", \"x\": [1850.2], \"xaxis\": \"x\", \"y\": [10.913592072182132], \"yaxis\": \"y\"}, {\"hovertemplate\": \"<b>%{hovertext}</b><br><br>Country=Latvia<br>GDP per capita (current US$)=%{x}<br>Average Internet usage over the years=%{marker.size}<extra></extra>\", \"hovertext\": [\"Latvia\"], \"legendgroup\": \"Latvia\", \"marker\": {\"color\": \"#19d3f3\", \"size\": [67.0370281864885], \"sizemode\": \"area\", \"sizeref\": 0.025361307840186014, \"symbol\": \"circle\"}, \"mode\": \"markers\", \"name\": \"Latvia\", \"showlegend\": true, \"type\": \"scatter\", \"x\": [13704.1], \"xaxis\": \"x\", \"y\": [67.0370281864885], \"yaxis\": \"y\"}, {\"hovertemplate\": \"<b>%{hovertext}</b><br><br>Country=Lebanon<br>GDP per capita (current US$)=%{x}<br>Average Internet usage over the years=%{marker.size}<extra></extra>\", \"hovertext\": [\"Lebanon\"], \"legendgroup\": \"Lebanon\", \"marker\": {\"color\": \"#FF6692\", \"size\": [49.71030039503853], \"sizemode\": \"area\", \"sizeref\": 0.025361307840186014, \"symbol\": \"circle\"}, \"mode\": \"markers\", \"name\": \"Lebanon\", \"showlegend\": true, \"type\": \"scatter\", \"x\": [8571.4], \"xaxis\": \"x\", \"y\": [49.71030039503853], \"yaxis\": \"y\"}, {\"hovertemplate\": \"<b>%{hovertext}</b><br><br>Country=Lesotho<br>GDP per capita (current US$)=%{x}<br>Average Internet usage over the years=%{marker.size}<extra></extra>\", \"hovertext\": [\"Lesotho\"], \"legendgroup\": \"Lesotho\", \"marker\": {\"color\": \"#B6E880\", \"size\": [12.91018650495968], \"sizemode\": \"area\", \"sizeref\": 0.025361307840186014, \"symbol\": \"circle\"}, \"mode\": \"markers\", \"name\": \"Lesotho\", \"showlegend\": true, \"type\": \"scatter\", \"x\": [940.6], \"xaxis\": \"x\", \"y\": [12.91018650495968], \"yaxis\": \"y\"}, {\"hovertemplate\": \"<b>%{hovertext}</b><br><br>Country=Liberia<br>GDP per capita (current US$)=%{x}<br>Average Internet usage over the years=%{marker.size}<extra></extra>\", \"hovertext\": [\"Liberia\"], \"legendgroup\": \"Liberia\", \"marker\": {\"color\": \"#FF97FF\", \"size\": [5.84829898533049], \"sizemode\": \"area\", \"sizeref\": 0.025361307840186014, \"symbol\": \"circle\"}, \"mode\": \"markers\", \"name\": \"Liberia\", \"showlegend\": true, \"type\": \"scatter\", \"x\": [455.9], \"xaxis\": \"x\", \"y\": [5.84829898533049], \"yaxis\": \"y\"}, {\"hovertemplate\": \"<b>%{hovertext}</b><br><br>Country=Libya<br>GDP per capita (current US$)=%{x}<br>Average Internet usage over the years=%{marker.size}<extra></extra>\", \"hovertext\": [\"Libya\"], \"legendgroup\": \"Libya\", \"marker\": {\"color\": \"#FECB52\", \"size\": [11.582908232692784], \"sizemode\": \"area\", \"sizeref\": 0.025361307840186014, \"symbol\": \"circle\"}, \"mode\": \"markers\", \"name\": \"Libya\", \"showlegend\": true, \"type\": \"scatter\", \"x\": [5488.2], \"xaxis\": \"x\", \"y\": [11.582908232692784], \"yaxis\": \"y\"}, {\"hovertemplate\": \"<b>%{hovertext}</b><br><br>Country=Liechtenstein<br>GDP per capita (current US$)=%{x}<br>Average Internet usage over the years=%{marker.size}<extra></extra>\", \"hovertext\": [\"Liechtenstein\"], \"legendgroup\": \"Liechtenstein\", \"marker\": {\"color\": \"#636efa\", \"size\": [76.01267136626718], \"sizemode\": \"area\", \"sizeref\": 0.025361307840186014, \"symbol\": \"circle\"}, \"mode\": \"markers\", \"name\": \"Liechtenstein\", \"showlegend\": true, \"type\": \"scatter\", \"x\": [169491.8], \"xaxis\": \"x\", \"y\": [76.01267136626718], \"yaxis\": \"y\"}, {\"hovertemplate\": \"<b>%{hovertext}</b><br><br>Country=Lithuania<br>GDP per capita (current US$)=%{x}<br>Average Internet usage over the years=%{marker.size}<extra></extra>\", \"hovertext\": [\"Lithuania\"], \"legendgroup\": \"Lithuania\", \"marker\": {\"color\": \"#EF553B\", \"size\": [61.755674460062615], \"sizemode\": \"area\", \"sizeref\": 0.025361307840186014, \"symbol\": \"circle\"}, \"mode\": \"markers\", \"name\": \"Lithuania\", \"showlegend\": true, \"type\": \"scatter\", \"x\": [14383.7], \"xaxis\": \"x\", \"y\": [61.755674460062615], \"yaxis\": \"y\"}, {\"hovertemplate\": \"<b>%{hovertext}</b><br><br>Country=Luxembourg<br>GDP per capita (current US$)=%{x}<br>Average Internet usage over the years=%{marker.size}<extra></extra>\", \"hovertext\": [\"Luxembourg\"], \"legendgroup\": \"Luxembourg\", \"marker\": {\"color\": \"#00cc96\", \"size\": [85.71586981594385], \"sizemode\": \"area\", \"sizeref\": 0.025361307840186014, \"symbol\": \"circle\"}, \"mode\": \"markers\", \"name\": \"Luxembourg\", \"showlegend\": true, \"type\": \"scatter\", \"x\": [100160.8], \"xaxis\": \"x\", \"y\": [85.71586981594385], \"yaxis\": \"y\"}, {\"hovertemplate\": \"<b>%{hovertext}</b><br><br>Country=China, Macao SAR<br>GDP per capita (current US$)=%{x}<br>Average Internet usage over the years=%{marker.size}<extra></extra>\", \"hovertext\": [\"China, Macao SAR\"], \"legendgroup\": \"China, Macao SAR\", \"marker\": {\"color\": \"#ab63fa\", \"size\": [62.4522281484999], \"sizemode\": \"area\", \"sizeref\": 0.025361307840186014, \"symbol\": \"circle\"}, \"mode\": \"markers\", \"name\": \"China, Macao SAR\", \"showlegend\": true, \"type\": \"scatter\", \"x\": [78586.4], \"xaxis\": \"x\", \"y\": [62.4522281484999], \"yaxis\": \"y\"}, {\"hovertemplate\": \"<b>%{hovertext}</b><br><br>Country=Madagascar<br>GDP per capita (current US$)=%{x}<br>Average Internet usage over the years=%{marker.size}<extra></extra>\", \"hovertext\": [\"Madagascar\"], \"legendgroup\": \"Madagascar\", \"marker\": {\"color\": \"#FFA15A\", \"size\": [2.913795598431704], \"sizemode\": \"area\", \"sizeref\": 0.025361307840186014, \"symbol\": \"circle\"}, \"mode\": \"markers\", \"name\": \"Madagascar\", \"showlegend\": true, \"type\": \"scatter\", \"x\": [401.8], \"xaxis\": \"x\", \"y\": [2.913795598431704], \"yaxis\": \"y\"}, {\"hovertemplate\": \"<b>%{hovertext}</b><br><br>Country=Malawi<br>GDP per capita (current US$)=%{x}<br>Average Internet usage over the years=%{marker.size}<extra></extra>\", \"hovertext\": [\"Malawi\"], \"legendgroup\": \"Malawi\", \"marker\": {\"color\": \"#19d3f3\", \"size\": [4.716730424620625], \"sizemode\": \"area\", \"sizeref\": 0.025361307840186014, \"symbol\": \"circle\"}, \"mode\": \"markers\", \"name\": \"Malawi\", \"showlegend\": true, \"type\": \"scatter\", \"x\": [372.9], \"xaxis\": \"x\", \"y\": [4.716730424620625], \"yaxis\": \"y\"}, {\"hovertemplate\": \"<b>%{hovertext}</b><br><br>Country=Malaysia<br>GDP per capita (current US$)=%{x}<br>Average Internet usage over the years=%{marker.size}<extra></extra>\", \"hovertext\": [\"Malaysia\"], \"legendgroup\": \"Malaysia\", \"marker\": {\"color\": \"#FF6692\", \"size\": [62.27558208681162], \"sizemode\": \"area\", \"sizeref\": 0.025361307840186014, \"symbol\": \"circle\"}, \"mode\": \"markers\", \"name\": \"Malaysia\", \"showlegend\": true, \"type\": \"scatter\", \"x\": [9768.4], \"xaxis\": \"x\", \"y\": [62.27558208681162], \"yaxis\": \"y\"}, {\"hovertemplate\": \"<b>%{hovertext}</b><br><br>Country=Maldives<br>GDP per capita (current US$)=%{x}<br>Average Internet usage over the years=%{marker.size}<extra></extra>\", \"hovertext\": [\"Maldives\"], \"legendgroup\": \"Maldives\", \"marker\": {\"color\": \"#B6E880\", \"size\": [34.42307172759476], \"sizemode\": \"area\", \"sizeref\": 0.025361307840186014, \"symbol\": \"circle\"}, \"mode\": \"markers\", \"name\": \"Maldives\", \"showlegend\": true, \"type\": \"scatter\", \"x\": [9446.5], \"xaxis\": \"x\", \"y\": [34.42307172759476], \"yaxis\": \"y\"}, {\"hovertemplate\": \"<b>%{hovertext}</b><br><br>Country=Mali<br>GDP per capita (current US$)=%{x}<br>Average Internet usage over the years=%{marker.size}<extra></extra>\", \"hovertext\": [\"Mali\"], \"legendgroup\": \"Mali\", \"marker\": {\"color\": \"#FF97FF\", \"size\": [4.781072307278212], \"sizemode\": \"area\", \"sizeref\": 0.025361307840186014, \"symbol\": \"circle\"}, \"mode\": \"markers\", \"name\": \"Mali\", \"showlegend\": true, \"type\": \"scatter\", \"x\": [744.3], \"xaxis\": \"x\", \"y\": [4.781072307278212], \"yaxis\": \"y\"}, {\"hovertemplate\": \"<b>%{hovertext}</b><br><br>Country=Malta<br>GDP per capita (current US$)=%{x}<br>Average Internet usage over the years=%{marker.size}<extra></extra>\", \"hovertext\": [\"Malta\"], \"legendgroup\": \"Malta\", \"marker\": {\"color\": \"#FECB52\", \"size\": [64.73703629046764], \"sizemode\": \"area\", \"sizeref\": 0.025361307840186014, \"symbol\": \"circle\"}, \"mode\": \"markers\", \"name\": \"Malta\", \"showlegend\": true, \"type\": \"scatter\", \"x\": [23280.7], \"xaxis\": \"x\", \"y\": [64.73703629046764], \"yaxis\": \"y\"}, {\"hovertemplate\": \"<b>%{hovertext}</b><br><br>Country=Marshall Islands<br>GDP per capita (current US$)=%{x}<br>Average Internet usage over the years=%{marker.size}<extra></extra>\", \"hovertext\": [\"Marshall Islands\"], \"legendgroup\": \"Marshall Islands\", \"marker\": {\"color\": \"#636efa\", \"size\": [13.953123452721828], \"sizemode\": \"area\", \"sizeref\": 0.025361307840186014, \"symbol\": \"circle\"}, \"mode\": \"markers\", \"name\": \"Marshall Islands\", \"showlegend\": true, \"type\": \"scatter\", \"x\": [3452.6], \"xaxis\": \"x\", \"y\": [13.953123452721828], \"yaxis\": \"y\"}, {\"hovertemplate\": \"<b>%{hovertext}</b><br><br>Country=Mauritania<br>GDP per capita (current US$)=%{x}<br>Average Internet usage over the years=%{marker.size}<extra></extra>\", \"hovertext\": [\"Mauritania\"], \"legendgroup\": \"Mauritania\", \"marker\": {\"color\": \"#EF553B\", \"size\": [7.75109893541522], \"sizemode\": \"area\", \"sizeref\": 0.025361307840186014, \"symbol\": \"circle\"}, \"mode\": \"markers\", \"name\": \"Mauritania\", \"showlegend\": true, \"type\": \"scatter\", \"x\": [1235.0], \"xaxis\": \"x\", \"y\": [7.75109893541522], \"yaxis\": \"y\"}, {\"hovertemplate\": \"<b>%{hovertext}</b><br><br>Country=Mauritius<br>GDP per capita (current US$)=%{x}<br>Average Internet usage over the years=%{marker.size}<extra></extra>\", \"hovertext\": [\"Mauritius\"], \"legendgroup\": \"Mauritius\", \"marker\": {\"color\": \"#00cc96\", \"size\": [38.40035625382354], \"sizemode\": \"area\", \"sizeref\": 0.025361307840186014, \"symbol\": \"circle\"}, \"mode\": \"markers\", \"name\": \"Mauritius\", \"showlegend\": true, \"type\": \"scatter\", \"x\": [9040.9], \"xaxis\": \"x\", \"y\": [38.40035625382354], \"yaxis\": \"y\"}, {\"hovertemplate\": \"<b>%{hovertext}</b><br><br>Country=Mexico<br>GDP per capita (current US$)=%{x}<br>Average Internet usage over the years=%{marker.size}<extra></extra>\", \"hovertext\": [\"Mexico\"], \"legendgroup\": \"Mexico\", \"marker\": {\"color\": \"#ab63fa\", \"size\": [42.2467320112896], \"sizemode\": \"area\", \"sizeref\": 0.025361307840186014, \"symbol\": \"circle\"}, \"mode\": \"markers\", \"name\": \"Mexico\", \"showlegend\": true, \"type\": \"scatter\", \"x\": [8980.9], \"xaxis\": \"x\", \"y\": [42.2467320112896], \"yaxis\": \"y\"}, {\"hovertemplate\": \"<b>%{hovertext}</b><br><br>Country=Micronesia (Federated States of)<br>GDP per capita (current US$)=%{x}<br>Average Internet usage over the years=%{marker.size}<extra></extra>\", \"hovertext\": [\"Micronesia (Federated States of)\"], \"legendgroup\": \"Micronesia (Federated States of)\", \"marker\": {\"color\": \"#FFA15A\", \"size\": [21.999813721176654], \"sizemode\": \"area\", \"sizeref\": 0.025361307840186014, \"symbol\": \"circle\"}, \"mode\": \"markers\", \"name\": \"Micronesia (Federated States of)\", \"showlegend\": true, \"type\": \"scatter\", \"x\": [3015.2], \"xaxis\": \"x\", \"y\": [21.999813721176654], \"yaxis\": \"y\"}, {\"hovertemplate\": \"<b>%{hovertext}</b><br><br>Country=Moldova<br>GDP per capita (current US$)=%{x}<br>Average Internet usage over the years=%{marker.size}<extra></extra>\", \"hovertext\": [null], \"legendgroup\": \"Moldova\", \"marker\": {\"color\": \"#19d3f3\", \"size\": [42.973421443185515], \"sizemode\": \"area\", \"sizeref\": 0.025361307840186014, \"symbol\": \"circle\"}, \"mode\": \"markers\", \"name\": \"Moldova\", \"showlegend\": true, \"type\": \"scatter\", \"x\": [null], \"xaxis\": \"x\", \"y\": [42.973421443185515], \"yaxis\": \"y\"}, {\"hovertemplate\": \"<b>%{hovertext}</b><br><br>Country=Monaco<br>GDP per capita (current US$)=%{x}<br>Average Internet usage over the years=%{marker.size}<extra></extra>\", \"hovertext\": [\"Monaco\"], \"legendgroup\": \"Monaco\", \"marker\": {\"color\": \"#FF6692\", \"size\": [73.51583148429559], \"sizemode\": \"area\", \"sizeref\": 0.025361307840186014, \"symbol\": \"circle\"}, \"mode\": \"markers\", \"name\": \"Monaco\", \"showlegend\": true, \"type\": \"scatter\", \"x\": [165870.6], \"xaxis\": \"x\", \"y\": [73.51583148429559], \"yaxis\": \"y\"}, {\"hovertemplate\": \"<b>%{hovertext}</b><br><br>Country=Mongolia<br>GDP per capita (current US$)=%{x}<br>Average Internet usage over the years=%{marker.size}<extra></extra>\", \"hovertext\": [\"Mongolia\"], \"legendgroup\": \"Mongolia\", \"marker\": {\"color\": \"#B6E880\", \"size\": [13.316192235586493], \"sizemode\": \"area\", \"sizeref\": 0.025361307840186014, \"symbol\": \"circle\"}, \"mode\": \"markers\", \"name\": \"Mongolia\", \"showlegend\": true, \"type\": \"scatter\", \"x\": [3973.4], \"xaxis\": \"x\", \"y\": [13.316192235586493], \"yaxis\": \"y\"}, {\"hovertemplate\": \"<b>%{hovertext}</b><br><br>Country=Montenegro<br>GDP per capita (current US$)=%{x}<br>Average Internet usage over the years=%{marker.size}<extra></extra>\", \"hovertext\": [\"Montenegro\"], \"legendgroup\": \"Montenegro\", \"marker\": {\"color\": \"#FF97FF\", \"size\": [50.831921564433515], \"sizemode\": \"area\", \"sizeref\": 0.025361307840186014, \"symbol\": \"circle\"}, \"mode\": \"markers\", \"name\": \"Montenegro\", \"showlegend\": true, \"type\": \"scatter\", \"x\": [6424.1], \"xaxis\": \"x\", \"y\": [50.831921564433515], \"yaxis\": \"y\"}, {\"hovertemplate\": \"<b>%{hovertext}</b><br><br>Country=Morocco<br>GDP per capita (current US$)=%{x}<br>Average Internet usage over the years=%{marker.size}<extra></extra>\", \"hovertext\": [\"Morocco\"], \"legendgroup\": \"Morocco\", \"marker\": {\"color\": \"#FECB52\", \"size\": [47.63809865270177], \"sizemode\": \"area\", \"sizeref\": 0.025361307840186014, \"symbol\": \"circle\"}, \"mode\": \"markers\", \"name\": \"Morocco\", \"showlegend\": true, \"type\": \"scatter\", \"x\": [2919.3], \"xaxis\": \"x\", \"y\": [47.63809865270177], \"yaxis\": \"y\"}, {\"hovertemplate\": \"<b>%{hovertext}</b><br><br>Country=Mozambique<br>GDP per capita (current US$)=%{x}<br>Average Internet usage over the years=%{marker.size}<extra></extra>\", \"hovertext\": [\"Mozambique\"], \"legendgroup\": \"Mozambique\", \"marker\": {\"color\": \"#636efa\", \"size\": [6.947179450090141], \"sizemode\": \"area\", \"sizeref\": 0.025361307840186014, \"symbol\": \"circle\"}, \"mode\": \"markers\", \"name\": \"Mozambique\", \"showlegend\": true, \"type\": \"scatter\", \"x\": [529.2], \"xaxis\": \"x\", \"y\": [6.947179450090141], \"yaxis\": \"y\"}, {\"hovertemplate\": \"<b>%{hovertext}</b><br><br>Country=Myanmar<br>GDP per capita (current US$)=%{x}<br>Average Internet usage over the years=%{marker.size}<extra></extra>\", \"hovertext\": [\"Myanmar\"], \"legendgroup\": \"Myanmar\", \"marker\": {\"color\": \"#EF553B\", \"size\": [9.299323656250941], \"sizemode\": \"area\", \"sizeref\": 0.025361307840186014, \"symbol\": \"circle\"}, \"mode\": \"markers\", \"name\": \"Myanmar\", \"showlegend\": true, \"type\": \"scatter\", \"x\": [1161.5], \"xaxis\": \"x\", \"y\": [9.299323656250941], \"yaxis\": \"y\"}, {\"hovertemplate\": \"<b>%{hovertext}</b><br><br>Country=Namibia<br>GDP per capita (current US$)=%{x}<br>Average Internet usage over the years=%{marker.size}<extra></extra>\", \"hovertext\": [\"Namibia\"], \"legendgroup\": \"Namibia\", \"marker\": {\"color\": \"#00cc96\", \"size\": [16.241580359094375], \"sizemode\": \"area\", \"sizeref\": 0.025361307840186014, \"symbol\": \"circle\"}, \"mode\": \"markers\", \"name\": \"Namibia\", \"showlegend\": true, \"type\": \"scatter\", \"x\": [4673.6], \"xaxis\": \"x\", \"y\": [16.241580359094375], \"yaxis\": \"y\"}, {\"hovertemplate\": \"<b>%{hovertext}</b><br><br>Country=Nauru<br>GDP per capita (current US$)=%{x}<br>Average Internet usage over the years=%{marker.size}<extra></extra>\", \"hovertext\": [\"Nauru\"], \"legendgroup\": \"Nauru\", \"marker\": {\"color\": \"#ab63fa\", \"size\": [10.090909090909092], \"sizemode\": \"area\", \"sizeref\": 0.025361307840186014, \"symbol\": \"circle\"}, \"mode\": \"markers\", \"name\": \"Nauru\", \"showlegend\": true, \"type\": \"scatter\", \"x\": [18469.2], \"xaxis\": \"x\", \"y\": [10.090909090909092], \"yaxis\": \"y\"}, {\"hovertemplate\": \"<b>%{hovertext}</b><br><br>Country=Nepal (Republic of)<br>GDP per capita (current US$)=%{x}<br>Average Internet usage over the years=%{marker.size}<extra></extra>\", \"hovertext\": [null], \"legendgroup\": \"Nepal (Republic of)\", \"marker\": {\"color\": \"#FFA15A\", \"size\": [11.738262253886141], \"sizemode\": \"area\", \"sizeref\": 0.025361307840186014, \"symbol\": \"circle\"}, \"mode\": \"markers\", \"name\": \"Nepal (Republic of)\", \"showlegend\": true, \"type\": \"scatter\", \"x\": [null], \"xaxis\": \"x\", \"y\": [11.738262253886141], \"yaxis\": \"y\"}, {\"hovertemplate\": \"<b>%{hovertext}</b><br><br>Country=Netherlands<br>GDP per capita (current US$)=%{x}<br>Average Internet usage over the years=%{marker.size}<extra></extra>\", \"hovertext\": [\"Netherlands\"], \"legendgroup\": \"Netherlands\", \"marker\": {\"color\": \"#19d3f3\", \"size\": [86.87744135978693], \"sizemode\": \"area\", \"sizeref\": 0.025361307840186014, \"symbol\": \"circle\"}, \"mode\": \"markers\", \"name\": \"Netherlands\", \"showlegend\": true, \"type\": \"scatter\", \"x\": [44332.1], \"xaxis\": \"x\", \"y\": [86.87744135978693], \"yaxis\": \"y\"}, {\"hovertemplate\": \"<b>%{hovertext}</b><br><br>Country=New Zealand<br>GDP per capita (current US$)=%{x}<br>Average Internet usage over the years=%{marker.size}<extra></extra>\", \"hovertext\": [\"New Zealand\"], \"legendgroup\": \"New Zealand\", \"marker\": {\"color\": \"#FF6692\", \"size\": [71.74712793900886], \"sizemode\": \"area\", \"sizeref\": 0.025361307840186014, \"symbol\": \"circle\"}, \"mode\": \"markers\", \"name\": \"New Zealand\", \"showlegend\": true, \"type\": \"scatter\", \"x\": [38294.3], \"xaxis\": \"x\", \"y\": [71.74712793900886], \"yaxis\": \"y\"}, {\"hovertemplate\": \"<b>%{hovertext}</b><br><br>Country=Nicaragua<br>GDP per capita (current US$)=%{x}<br>Average Internet usage over the years=%{marker.size}<extra></extra>\", \"hovertext\": [\"Nicaragua\"], \"legendgroup\": \"Nicaragua\", \"marker\": {\"color\": \"#B6E880\", \"size\": [12.989612102778066], \"sizemode\": \"area\", \"sizeref\": 0.025361307840186014, \"symbol\": \"circle\"}, \"mode\": \"markers\", \"name\": \"Nicaragua\", \"showlegend\": true, \"type\": \"scatter\", \"x\": [2086.9], \"xaxis\": \"x\", \"y\": [12.989612102778066], \"yaxis\": \"y\"}, {\"hovertemplate\": \"<b>%{hovertext}</b><br><br>Country=Niger<br>GDP per capita (current US$)=%{x}<br>Average Internet usage over the years=%{marker.size}<extra></extra>\", \"hovertext\": [\"Niger\"], \"legendgroup\": \"Niger\", \"marker\": {\"color\": \"#FF97FF\", \"size\": [2.519095962390164], \"sizemode\": \"area\", \"sizeref\": 0.025361307840186014, \"symbol\": \"circle\"}, \"mode\": \"markers\", \"name\": \"Niger\", \"showlegend\": true, \"type\": \"scatter\", \"x\": [359.0], \"xaxis\": \"x\", \"y\": [2.519095962390164], \"yaxis\": \"y\"}, {\"hovertemplate\": \"<b>%{hovertext}</b><br><br>Country=Nigeria<br>GDP per capita (current US$)=%{x}<br>Average Internet usage over the years=%{marker.size}<extra></extra>\", \"hovertext\": [\"Nigeria\"], \"legendgroup\": \"Nigeria\", \"marker\": {\"color\": \"#FECB52\", \"size\": [17.162112411446756], \"sizemode\": \"area\", \"sizeref\": 0.025361307840186014, \"symbol\": \"circle\"}, \"mode\": \"markers\", \"name\": \"Nigeria\", \"showlegend\": true, \"type\": \"scatter\", \"x\": [2714.5], \"xaxis\": \"x\", \"y\": [17.162112411446756], \"yaxis\": \"y\"}, {\"hovertemplate\": \"<b>%{hovertext}</b><br><br>Country=Norway<br>GDP per capita (current US$)=%{x}<br>Average Internet usage over the years=%{marker.size}<extra></extra>\", \"hovertext\": [\"Norway\"], \"legendgroup\": \"Norway\", \"marker\": {\"color\": \"#636efa\", \"size\": [90.34828396941448], \"sizemode\": \"area\", \"sizeref\": 0.025361307840186014, \"symbol\": \"circle\"}, \"mode\": \"markers\", \"name\": \"Norway\", \"showlegend\": true, \"type\": \"scatter\", \"x\": [74185.5], \"xaxis\": \"x\", \"y\": [90.34828396941448], \"yaxis\": \"y\"}, {\"hovertemplate\": \"<b>%{hovertext}</b><br><br>Country=Oman<br>GDP per capita (current US$)=%{x}<br>Average Internet usage over the years=%{marker.size}<extra></extra>\", \"hovertext\": [\"Oman\"], \"legendgroup\": \"Oman\", \"marker\": {\"color\": \"#EF553B\", \"size\": [47.38752991272483], \"sizemode\": \"area\", \"sizeref\": 0.025361307840186014, \"symbol\": \"circle\"}, \"mode\": \"markers\", \"name\": \"Oman\", \"showlegend\": true, \"type\": \"scatter\", \"x\": [15550.8], \"xaxis\": \"x\", \"y\": [47.38752991272483], \"yaxis\": \"y\"}, {\"hovertemplate\": \"<b>%{hovertext}</b><br><br>Country=Pakistan<br>GDP per capita (current US$)=%{x}<br>Average Internet usage over the years=%{marker.size}<extra></extra>\", \"hovertext\": [\"Pakistan\"], \"legendgroup\": \"Pakistan\", \"marker\": {\"color\": \"#00cc96\", \"size\": [8.91707053257344], \"sizemode\": \"area\", \"sizeref\": 0.025361307840186014, \"symbol\": \"circle\"}, \"mode\": \"markers\", \"name\": \"Pakistan\", \"showlegend\": true, \"type\": \"scatter\", \"x\": [1410.4], \"xaxis\": \"x\", \"y\": [8.91707053257344], \"yaxis\": \"y\"}, {\"hovertemplate\": \"<b>%{hovertext}</b><br><br>Country=Palestine<br>GDP per capita (current US$)=%{x}<br>Average Internet usage over the years=%{marker.size}<extra></extra>\", \"hovertext\": [null], \"legendgroup\": \"Palestine\", \"marker\": {\"color\": \"#ab63fa\", \"size\": [44.315352469079954], \"sizemode\": \"area\", \"sizeref\": 0.025361307840186014, \"symbol\": \"circle\"}, \"mode\": \"markers\", \"name\": \"Palestine\", \"showlegend\": true, \"type\": \"scatter\", \"x\": [null], \"xaxis\": \"x\", \"y\": [44.315352469079954], \"yaxis\": \"y\"}, {\"hovertemplate\": \"<b>%{hovertext}</b><br><br>Country=Panama<br>GDP per capita (current US$)=%{x}<br>Average Internet usage over the years=%{marker.size}<extra></extra>\", \"hovertext\": [\"Panama\"], \"legendgroup\": \"Panama\", \"marker\": {\"color\": \"#FFA15A\", \"size\": [35.741928730648], \"sizemode\": \"area\", \"sizeref\": 0.025361307840186014, \"symbol\": \"circle\"}, \"mode\": \"markers\", \"name\": \"Panama\", \"showlegend\": true, \"type\": \"scatter\", \"x\": [13268.1], \"xaxis\": \"x\", \"y\": [35.741928730648], \"yaxis\": \"y\"}, {\"hovertemplate\": \"<b>%{hovertext}</b><br><br>Country=Papua New Guinea<br>GDP per capita (current US$)=%{x}<br>Average Internet usage over the years=%{marker.size}<extra></extra>\", \"hovertext\": [\"Papua New Guinea\"], \"legendgroup\": \"Papua New Guinea\", \"marker\": {\"color\": \"#19d3f3\", \"size\": [4.512924984762882], \"sizemode\": \"area\", \"sizeref\": 0.025361307840186014, \"symbol\": \"circle\"}, \"mode\": \"markers\", \"name\": \"Papua New Guinea\", \"showlegend\": true, \"type\": \"scatter\", \"x\": [2797.6], \"xaxis\": \"x\", \"y\": [4.512924984762882], \"yaxis\": \"y\"}, {\"hovertemplate\": \"<b>%{hovertext}</b><br><br>Country=Paraguay<br>GDP per capita (current US$)=%{x}<br>Average Internet usage over the years=%{marker.size}<extra></extra>\", \"hovertext\": [\"Paraguay\"], \"legendgroup\": \"Paraguay\", \"marker\": {\"color\": \"#FF6692\", \"size\": [35.604689197812355], \"sizemode\": \"area\", \"sizeref\": 0.025361307840186014, \"symbol\": \"circle\"}, \"mode\": \"markers\", \"name\": \"Paraguay\", \"showlegend\": true, \"type\": \"scatter\", \"x\": [4174.4], \"xaxis\": \"x\", \"y\": [35.604689197812355], \"yaxis\": \"y\"}, {\"hovertemplate\": \"<b>%{hovertext}</b><br><br>Country=Peru<br>GDP per capita (current US$)=%{x}<br>Average Internet usage over the years=%{marker.size}<extra></extra>\", \"hovertext\": [\"Peru\"], \"legendgroup\": \"Peru\", \"marker\": {\"color\": \"#B6E880\", \"size\": [36.01261047658745], \"sizemode\": \"area\", \"sizeref\": 0.025361307840186014, \"symbol\": \"circle\"}, \"mode\": \"markers\", \"name\": \"Peru\", \"showlegend\": true, \"type\": \"scatter\", \"x\": [6069.1], \"xaxis\": \"x\", \"y\": [36.01261047658745], \"yaxis\": \"y\"}, {\"hovertemplate\": \"<b>%{hovertext}</b><br><br>Country=Philippines<br>GDP per capita (current US$)=%{x}<br>Average Internet usage over the years=%{marker.size}<extra></extra>\", \"hovertext\": [\"Philippines\"], \"legendgroup\": \"Philippines\", \"marker\": {\"color\": \"#FF97FF\", \"size\": [31.53352485892228], \"sizemode\": \"area\", \"sizeref\": 0.025361307840186014, \"symbol\": \"circle\"}, \"mode\": \"markers\", \"name\": \"Philippines\", \"showlegend\": true, \"type\": \"scatter\", \"x\": [2904.2], \"xaxis\": \"x\", \"y\": [31.53352485892228], \"yaxis\": \"y\"}, {\"hovertemplate\": \"<b>%{hovertext}</b><br><br>Country=Poland<br>GDP per capita (current US$)=%{x}<br>Average Internet usage over the years=%{marker.size}<extra></extra>\", \"hovertext\": [\"Poland\"], \"legendgroup\": \"Poland\", \"marker\": {\"color\": \"#FECB52\", \"size\": [59.72267541213726], \"sizemode\": \"area\", \"sizeref\": 0.025361307840186014, \"symbol\": \"circle\"}, \"mode\": \"markers\", \"name\": \"Poland\", \"showlegend\": true, \"type\": \"scatter\", \"x\": [12355.5], \"xaxis\": \"x\", \"y\": [59.72267541213726], \"yaxis\": \"y\"}, {\"hovertemplate\": \"<b>%{hovertext}</b><br><br>Country=Portugal<br>GDP per capita (current US$)=%{x}<br>Average Internet usage over the years=%{marker.size}<extra></extra>\", \"hovertext\": [\"Portugal\"], \"legendgroup\": \"Portugal\", \"marker\": {\"color\": \"#636efa\", \"size\": [57.68224648890957], \"sizemode\": \"area\", \"sizeref\": 0.025361307840186014, \"symbol\": \"circle\"}, \"mode\": \"markers\", \"name\": \"Portugal\", \"showlegend\": true, \"type\": \"scatter\", \"x\": [19239.2], \"xaxis\": \"x\", \"y\": [57.68224648890957], \"yaxis\": \"y\"}, {\"hovertemplate\": \"<b>%{hovertext}</b><br><br>Country=Puerto Rico<br>GDP per capita (current US$)=%{x}<br>Average Internet usage over the years=%{marker.size}<extra></extra>\", \"hovertext\": [\"Puerto Rico\"], \"legendgroup\": \"Puerto Rico\", \"marker\": {\"color\": \"#EF553B\", \"size\": [42.53512291391031], \"sizemode\": \"area\", \"sizeref\": 0.025361307840186014, \"symbol\": \"circle\"}, \"mode\": \"markers\", \"name\": \"Puerto Rico\", \"showlegend\": true, \"type\": \"scatter\", \"x\": [27939.0], \"xaxis\": \"x\", \"y\": [42.53512291391031], \"yaxis\": \"y\"}, {\"hovertemplate\": \"<b>%{hovertext}</b><br><br>Country=Qatar<br>GDP per capita (current US$)=%{x}<br>Average Internet usage over the years=%{marker.size}<extra></extra>\", \"hovertext\": [\"Qatar\"], \"legendgroup\": \"Qatar\", \"marker\": {\"color\": \"#00cc96\", \"size\": [72.61257817009086], \"sizemode\": \"area\", \"sizeref\": 0.025361307840186014, \"symbol\": \"circle\"}, \"mode\": \"markers\", \"name\": \"Qatar\", \"showlegend\": true, \"type\": \"scatter\", \"x\": [73653.4], \"xaxis\": \"x\", \"y\": [72.61257817009086], \"yaxis\": \"y\"}, {\"hovertemplate\": \"<b>%{hovertext}</b><br><br>Country=Romania<br>GDP per capita (current US$)=%{x}<br>Average Internet usage over the years=%{marker.size}<extra></extra>\", \"hovertext\": [\"Romania\"], \"legendgroup\": \"Romania\", \"marker\": {\"color\": \"#ab63fa\", \"size\": [45.861265429333436], \"sizemode\": \"area\", \"sizeref\": 0.025361307840186014, \"symbol\": \"circle\"}, \"mode\": \"markers\", \"name\": \"Romania\", \"showlegend\": true, \"type\": \"scatter\", \"x\": [9120.7], \"xaxis\": \"x\", \"y\": [45.861265429333436], \"yaxis\": \"y\"}, {\"hovertemplate\": \"<b>%{hovertext}</b><br><br>Country=Russia<br>GDP per capita (current US$)=%{x}<br>Average Internet usage over the years=%{marker.size}<extra></extra>\", \"hovertext\": [\"Russia\"], \"legendgroup\": \"Russia\", \"marker\": {\"color\": \"#FFA15A\", \"size\": [55.596199846814265], \"sizemode\": \"area\", \"sizeref\": 0.025361307840186014, \"symbol\": \"circle\"}, \"mode\": \"markers\", \"name\": \"Russia\", \"showlegend\": true, \"type\": \"scatter\", \"x\": [9243.3], \"xaxis\": \"x\", \"y\": [55.596199846814265], \"yaxis\": \"y\"}, {\"hovertemplate\": \"<b>%{hovertext}</b><br><br>Country=Rwanda<br>GDP per capita (current US$)=%{x}<br>Average Internet usage over the years=%{marker.size}<extra></extra>\", \"hovertext\": [\"Rwanda\"], \"legendgroup\": \"Rwanda\", \"marker\": {\"color\": \"#19d3f3\", \"size\": [9.364578138425099], \"sizemode\": \"area\", \"sizeref\": 0.025361307840186014, \"symbol\": \"circle\"}, \"mode\": \"markers\", \"name\": \"Rwanda\", \"showlegend\": true, \"type\": \"scatter\", \"x\": [697.3], \"xaxis\": \"x\", \"y\": [9.364578138425099], \"yaxis\": \"y\"}, {\"hovertemplate\": \"<b>%{hovertext}</b><br><br>Country=Saint Kitts and Nevis<br>GDP per capita (current US$)=%{x}<br>Average Internet usage over the years=%{marker.size}<extra></extra>\", \"hovertext\": [\"Saint Kitts and Nevis\"], \"legendgroup\": \"Saint Kitts and Nevis\", \"marker\": {\"color\": \"#FF6692\", \"size\": [54.17187963239342], \"sizemode\": \"area\", \"sizeref\": 0.025361307840186014, \"symbol\": \"circle\"}, \"mode\": \"markers\", \"name\": \"Saint Kitts and Nevis\", \"showlegend\": true, \"type\": \"scatter\", \"x\": [15771.9], \"xaxis\": \"x\", \"y\": [54.17187963239342], \"yaxis\": \"y\"}, {\"hovertemplate\": \"<b>%{hovertext}</b><br><br>Country=Saint Lucia<br>GDP per capita (current US$)=%{x}<br>Average Internet usage over the years=%{marker.size}<extra></extra>\", \"hovertext\": [\"Saint Lucia\"], \"legendgroup\": \"Saint Lucia\", \"marker\": {\"color\": \"#B6E880\", \"size\": [31.25030178161835], \"sizemode\": \"area\", \"sizeref\": 0.025361307840186014, \"symbol\": \"circle\"}, \"mode\": \"markers\", \"name\": \"Saint Lucia\", \"showlegend\": true, \"type\": \"scatter\", \"x\": [7839.4], \"xaxis\": \"x\", \"y\": [31.25030178161835], \"yaxis\": \"y\"}, {\"hovertemplate\": \"<b>%{hovertext}</b><br><br>Country=Saint Vincent and the Grenadines<br>GDP per capita (current US$)=%{x}<br>Average Internet usage over the years=%{marker.size}<extra></extra>\", \"hovertext\": [\"Saint Vincent and the Grenadines\"], \"legendgroup\": \"Saint Vincent and the Grenadines\", \"marker\": {\"color\": \"#FF97FF\", \"size\": [26.90575967308647], \"sizemode\": \"area\", \"sizeref\": 0.025361307840186014, \"symbol\": \"circle\"}, \"mode\": \"markers\", \"name\": \"Saint Vincent and the Grenadines\", \"showlegend\": true, \"type\": \"scatter\", \"x\": [6739.2], \"xaxis\": \"x\", \"y\": [26.90575967308647], \"yaxis\": \"y\"}, {\"hovertemplate\": \"<b>%{hovertext}</b><br><br>Country=Samoa<br>GDP per capita (current US$)=%{x}<br>Average Internet usage over the years=%{marker.size}<extra></extra>\", \"hovertext\": [\"Samoa\"], \"legendgroup\": \"Samoa\", \"marker\": {\"color\": \"#FECB52\", \"size\": [14.524650349476802], \"sizemode\": \"area\", \"sizeref\": 0.025361307840186014, \"symbol\": \"circle\"}, \"mode\": \"markers\", \"name\": \"Samoa\", \"showlegend\": true, \"type\": \"scatter\", \"x\": [4006.0], \"xaxis\": \"x\", \"y\": [14.524650349476802], \"yaxis\": \"y\"}, {\"hovertemplate\": \"<b>%{hovertext}</b><br><br>Country=San Marino<br>GDP per capita (current US$)=%{x}<br>Average Internet usage over the years=%{marker.size}<extra></extra>\", \"hovertext\": [\"San Marino\"], \"legendgroup\": \"San Marino\", \"marker\": {\"color\": \"#636efa\", \"size\": [18.985578251184208], \"sizemode\": \"area\", \"sizeref\": 0.025361307840186014, \"symbol\": \"circle\"}, \"mode\": \"markers\", \"name\": \"San Marino\", \"showlegend\": true, \"type\": \"scatter\", \"x\": [49240.2], \"xaxis\": \"x\", \"y\": [18.985578251184208], \"yaxis\": \"y\"}, {\"hovertemplate\": \"<b>%{hovertext}</b><br><br>Country=Sao Tome and Principe<br>GDP per capita (current US$)=%{x}<br>Average Internet usage over the years=%{marker.size}<extra></extra>\", \"hovertext\": [\"Sao Tome and Principe\"], \"legendgroup\": \"Sao Tome and Principe\", \"marker\": {\"color\": \"#EF553B\", \"size\": [19.09480274855771], \"sizemode\": \"area\", \"sizeref\": 0.025361307840186014, \"symbol\": \"circle\"}, \"mode\": \"markers\", \"name\": \"Sao Tome and Principe\", \"showlegend\": true, \"type\": \"scatter\", \"x\": [1752.8], \"xaxis\": \"x\", \"y\": [19.09480274855771], \"yaxis\": \"y\"}, {\"hovertemplate\": \"<b>%{hovertext}</b><br><br>Country=Saudi Arabia<br>GDP per capita (current US$)=%{x}<br>Average Internet usage over the years=%{marker.size}<extra></extra>\", \"hovertext\": [\"Saudi Arabia\"], \"legendgroup\": \"Saudi Arabia\", \"marker\": {\"color\": \"#00cc96\", \"size\": [54.77771806507526], \"sizemode\": \"area\", \"sizeref\": 0.025361307840186014, \"symbol\": \"circle\"}, \"mode\": \"markers\", \"name\": \"Saudi Arabia\", \"showlegend\": true, \"type\": \"scatter\", \"x\": [20710.6], \"xaxis\": \"x\", \"y\": [54.77771806507526], \"yaxis\": \"y\"}, {\"hovertemplate\": \"<b>%{hovertext}</b><br><br>Country=Senegal<br>GDP per capita (current US$)=%{x}<br>Average Internet usage over the years=%{marker.size}<extra></extra>\", \"hovertext\": [\"Senegal\"], \"legendgroup\": \"Senegal\", \"marker\": {\"color\": \"#ab63fa\", \"size\": [14.841401782760874], \"sizemode\": \"area\", \"sizeref\": 0.025361307840186014, \"symbol\": \"circle\"}, \"mode\": \"markers\", \"name\": \"Senegal\", \"showlegend\": true, \"type\": \"scatter\", \"x\": [901.1], \"xaxis\": \"x\", \"y\": [14.841401782760874], \"yaxis\": \"y\"}, {\"hovertemplate\": \"<b>%{hovertext}</b><br><br>Country=Serbia<br>GDP per capita (current US$)=%{x}<br>Average Internet usage over the years=%{marker.size}<extra></extra>\", \"hovertext\": [\"Serbia\"], \"legendgroup\": \"Serbia\", \"marker\": {\"color\": \"#FFA15A\", \"size\": [49.917350553989245], \"sizemode\": \"area\", \"sizeref\": 0.025361307840186014, \"symbol\": \"circle\"}, \"mode\": \"markers\", \"name\": \"Serbia\", \"showlegend\": true, \"type\": \"scatter\", \"x\": [5238.6], \"xaxis\": \"x\", \"y\": [49.917350553989245], \"yaxis\": \"y\"}, {\"hovertemplate\": \"<b>%{hovertext}</b><br><br>Country=Seychelles<br>GDP per capita (current US$)=%{x}<br>Average Internet usage over the years=%{marker.size}<extra></extra>\", \"hovertext\": [\"Seychelles\"], \"legendgroup\": \"Seychelles\", \"marker\": {\"color\": \"#19d3f3\", \"size\": [39.56797645718501], \"sizemode\": \"area\", \"sizeref\": 0.025361307840186014, \"symbol\": \"circle\"}, \"mode\": \"markers\", \"name\": \"Seychelles\", \"showlegend\": true, \"type\": \"scatter\", \"x\": [14133.2], \"xaxis\": \"x\", \"y\": [39.56797645718501], \"yaxis\": \"y\"}, {\"hovertemplate\": \"<b>%{hovertext}</b><br><br>Country=Sierra Leone<br>GDP per capita (current US$)=%{x}<br>Average Internet usage over the years=%{marker.size}<extra></extra>\", \"hovertext\": [\"Sierra Leone\"], \"legendgroup\": \"Sierra Leone\", \"marker\": {\"color\": \"#FF6692\", \"size\": [3.7716864384565736], \"sizemode\": \"area\", \"sizeref\": 0.025361307840186014, \"symbol\": \"circle\"}, \"mode\": \"markers\", \"name\": \"Sierra Leone\", \"showlegend\": true, \"type\": \"scatter\", \"x\": [694.8], \"xaxis\": \"x\", \"y\": [3.7716864384565736], \"yaxis\": \"y\"}, {\"hovertemplate\": \"<b>%{hovertext}</b><br><br>Country=Singapore<br>GDP per capita (current US$)=%{x}<br>Average Internet usage over the years=%{marker.size}<extra></extra>\", \"hovertext\": [\"Singapore\"], \"legendgroup\": \"Singapore\", \"marker\": {\"color\": \"#B6E880\", \"size\": [73.36469931065878], \"sizemode\": \"area\", \"sizeref\": 0.025361307840186014, \"symbol\": \"circle\"}, \"mode\": \"markers\", \"name\": \"Singapore\", \"showlegend\": true, \"type\": \"scatter\", \"x\": [52239.0], \"xaxis\": \"x\", \"y\": [73.36469931065878], \"yaxis\": \"y\"}, {\"hovertemplate\": \"<b>%{hovertext}</b><br><br>Country=Slovakia<br>GDP per capita (current US$)=%{x}<br>Average Internet usage over the years=%{marker.size}<extra></extra>\", \"hovertext\": [\"Slovakia\"], \"legendgroup\": \"Slovakia\", \"marker\": {\"color\": \"#FF97FF\", \"size\": [69.9759955324702], \"sizemode\": \"area\", \"sizeref\": 0.025361307840186014, \"symbol\": \"circle\"}, \"mode\": \"markers\", \"name\": \"Slovakia\", \"showlegend\": true, \"type\": \"scatter\", \"x\": [16082.5], \"xaxis\": \"x\", \"y\": [69.9759955324702], \"yaxis\": \"y\"}, {\"hovertemplate\": \"<b>%{hovertext}</b><br><br>Country=Slovenia<br>GDP per capita (current US$)=%{x}<br>Average Internet usage over the years=%{marker.size}<extra></extra>\", \"hovertext\": [\"Slovenia\"], \"legendgroup\": \"Slovenia\", \"marker\": {\"color\": \"#FECB52\", \"size\": [65.37349419251974], \"sizemode\": \"area\", \"sizeref\": 0.025361307840186014, \"symbol\": \"circle\"}, \"mode\": \"markers\", \"name\": \"Slovenia\", \"showlegend\": true, \"type\": \"scatter\", \"x\": [20689.8], \"xaxis\": \"x\", \"y\": [65.37349419251974], \"yaxis\": \"y\"}, {\"hovertemplate\": \"<b>%{hovertext}</b><br><br>Country=Solomon Islands<br>GDP per capita (current US$)=%{x}<br>Average Internet usage over the years=%{marker.size}<extra></extra>\", \"hovertext\": [\"Solomon Islands\"], \"legendgroup\": \"Solomon Islands\", \"marker\": {\"color\": \"#636efa\", \"size\": [6.295327335877698], \"sizemode\": \"area\", \"sizeref\": 0.025361307840186014, \"symbol\": \"circle\"}, \"mode\": \"markers\", \"name\": \"Solomon Islands\", \"showlegend\": true, \"type\": \"scatter\", \"x\": [1841.6], \"xaxis\": \"x\", \"y\": [6.295327335877698], \"yaxis\": \"y\"}, {\"hovertemplate\": \"<b>%{hovertext}</b><br><br>Country=Somalia<br>GDP per capita (current US$)=%{x}<br>Average Internet usage over the years=%{marker.size}<extra></extra>\", \"hovertext\": [\"Somalia\"], \"legendgroup\": \"Somalia\", \"marker\": {\"color\": \"#EF553B\", \"size\": [1.1361887761410836], \"sizemode\": \"area\", \"sizeref\": 0.025361307840186014, \"symbol\": \"circle\"}, \"mode\": \"markers\", \"name\": \"Somalia\", \"showlegend\": true, \"type\": \"scatter\", \"x\": [144.5], \"xaxis\": \"x\", \"y\": [1.1361887761410836], \"yaxis\": \"y\"}, {\"hovertemplate\": \"<b>%{hovertext}</b><br><br>Country=South Africa<br>GDP per capita (current US$)=%{x}<br>Average Internet usage over the years=%{marker.size}<extra></extra>\", \"hovertext\": [\"South Africa\"], \"legendgroup\": \"South Africa\", \"marker\": {\"color\": \"#00cc96\", \"size\": [33.5812374956409], \"sizemode\": \"area\", \"sizeref\": 0.025361307840186014, \"symbol\": \"circle\"}, \"mode\": \"markers\", \"name\": \"South Africa\", \"showlegend\": true, \"type\": \"scatter\", \"x\": [5773.0], \"xaxis\": \"x\", \"y\": [33.5812374956409], \"yaxis\": \"y\"}, {\"hovertemplate\": \"<b>%{hovertext}</b><br><br>Country=South Sudan<br>GDP per capita (current US$)=%{x}<br>Average Internet usage over the years=%{marker.size}<extra></extra>\", \"hovertext\": [\"South Sudan\"], \"legendgroup\": \"South Sudan\", \"marker\": {\"color\": \"#ab63fa\", \"size\": [2.5912072666535426], \"sizemode\": \"area\", \"sizeref\": 0.025361307840186014, \"symbol\": \"circle\"}, \"mode\": \"markers\", \"name\": \"South Sudan\", \"showlegend\": true, \"type\": \"scatter\", \"x\": [1067.0], \"xaxis\": \"x\", \"y\": [2.5912072666535426], \"yaxis\": \"y\"}, {\"hovertemplate\": \"<b>%{hovertext}</b><br><br>Country=Spain<br>GDP per capita (current US$)=%{x}<br>Average Internet usage over the years=%{marker.size}<extra></extra>\", \"hovertext\": [\"Spain\"], \"legendgroup\": \"Spain\", \"marker\": {\"color\": \"#FFA15A\", \"size\": [67.45367012811904], \"sizemode\": \"area\", \"sizeref\": 0.025361307840186014, \"symbol\": \"circle\"}, \"mode\": \"markers\", \"name\": \"Spain\", \"showlegend\": true, \"type\": \"scatter\", \"x\": [25865.4], \"xaxis\": \"x\", \"y\": [67.45367012811904], \"yaxis\": \"y\"}, {\"hovertemplate\": \"<b>%{hovertext}</b><br><br>Country=Sri Lanka<br>GDP per capita (current US$)=%{x}<br>Average Internet usage over the years=%{marker.size}<extra></extra>\", \"hovertext\": [\"Sri Lanka\"], \"legendgroup\": \"Sri Lanka\", \"marker\": {\"color\": \"#19d3f3\", \"size\": [14.367109518620794], \"sizemode\": \"area\", \"sizeref\": 0.025361307840186014, \"symbol\": \"circle\"}, \"mode\": \"markers\", \"name\": \"Sri Lanka\", \"showlegend\": true, \"type\": \"scatter\", \"x\": [3973.7], \"xaxis\": \"x\", \"y\": [14.367109518620794], \"yaxis\": \"y\"}, {\"hovertemplate\": \"<b>%{hovertext}</b><br><br>Country=Sudan<br>GDP per capita (current US$)=%{x}<br>Average Internet usage over the years=%{marker.size}<extra></extra>\", \"hovertext\": [\"Sudan\"], \"legendgroup\": \"Sudan\", \"marker\": {\"color\": \"#FF6692\", \"size\": [15.945283761723408], \"sizemode\": \"area\", \"sizeref\": 0.025361307840186014, \"symbol\": \"circle\"}, \"mode\": \"markers\", \"name\": \"Sudan\", \"showlegend\": true, \"type\": \"scatter\", \"x\": [1977.0], \"xaxis\": \"x\", \"y\": [15.945283761723408], \"yaxis\": \"y\"}, {\"hovertemplate\": \"<b>%{hovertext}</b><br><br>Country=Suriname<br>GDP per capita (current US$)=%{x}<br>Average Internet usage over the years=%{marker.size}<extra></extra>\", \"hovertext\": [\"Suriname\"], \"legendgroup\": \"Suriname\", \"marker\": {\"color\": \"#B6E880\", \"size\": [29.251790826929618], \"sizemode\": \"area\", \"sizeref\": 0.025361307840186014, \"symbol\": \"circle\"}, \"mode\": \"markers\", \"name\": \"Suriname\", \"showlegend\": true, \"type\": \"scatter\", \"x\": [8985.3], \"xaxis\": \"x\", \"y\": [29.251790826929618], \"yaxis\": \"y\"}, {\"hovertemplate\": \"<b>%{hovertext}</b><br><br>Country=Swaziland (Eswatini)<br>GDP per capita (current US$)=%{x}<br>Average Internet usage over the years=%{marker.size}<extra></extra>\", \"hovertext\": [null], \"legendgroup\": \"Swaziland (Eswatini)\", \"marker\": {\"color\": \"#FF97FF\", \"size\": [18.78786420456823], \"sizemode\": \"area\", \"sizeref\": 0.025361307840186014, \"symbol\": \"circle\"}, \"mode\": \"markers\", \"name\": \"Swaziland (Eswatini)\", \"showlegend\": true, \"type\": \"scatter\", \"x\": [null], \"xaxis\": \"x\", \"y\": [18.78786420456823], \"yaxis\": \"y\"}, {\"hovertemplate\": \"<b>%{hovertext}</b><br><br>Country=Sweden<br>GDP per capita (current US$)=%{x}<br>Average Internet usage over the years=%{marker.size}<extra></extra>\", \"hovertext\": [\"Sweden\"], \"legendgroup\": \"Sweden\", \"marker\": {\"color\": \"#FECB52\", \"size\": [87.42582894433586], \"sizemode\": \"area\", \"sizeref\": 0.025361307840186014, \"symbol\": \"circle\"}, \"mode\": \"markers\", \"name\": \"Sweden\", \"showlegend\": true, \"type\": \"scatter\", \"x\": [50687.5], \"xaxis\": \"x\", \"y\": [87.42582894433586], \"yaxis\": \"y\"}, {\"hovertemplate\": \"<b>%{hovertext}</b><br><br>Country=Switzerland<br>GDP per capita (current US$)=%{x}<br>Average Internet usage over the years=%{marker.size}<extra></extra>\", \"hovertext\": [\"Switzerland\"], \"legendgroup\": \"Switzerland\", \"marker\": {\"color\": \"#636efa\", \"size\": [73.77571992621391], \"sizemode\": \"area\", \"sizeref\": 0.025361307840186014, \"symbol\": \"circle\"}, \"mode\": \"markers\", \"name\": \"Switzerland\", \"showlegend\": true, \"type\": \"scatter\", \"x\": [80831.1], \"xaxis\": \"x\", \"y\": [73.77571992621391], \"yaxis\": \"y\"}, {\"hovertemplate\": \"<b>%{hovertext}</b><br><br>Country=Syrian Arab Republic<br>GDP per capita (current US$)=%{x}<br>Average Internet usage over the years=%{marker.size}<extra></extra>\", \"hovertext\": [\"Syrian Arab Republic\"], \"legendgroup\": \"Syrian Arab Republic\", \"marker\": {\"color\": \"#EF553B\", \"size\": [20.33843009625551], \"sizemode\": \"area\", \"sizeref\": 0.025361307840186014, \"symbol\": \"circle\"}, \"mode\": \"markers\", \"name\": \"Syrian Arab Republic\", \"showlegend\": true, \"type\": \"scatter\", \"x\": [1534.5], \"xaxis\": \"x\", \"y\": [20.33843009625551], \"yaxis\": \"y\"}, {\"hovertemplate\": \"<b>%{hovertext}</b><br><br>Country=The former Yugoslav Republic of Macedonia<br>GDP per capita (current US$)=%{x}<br>Average Internet usage over the years=%{marker.size}<extra></extra>\", \"hovertext\": [\"The former Yugoslav Republic of Macedonia\"], \"legendgroup\": \"The former Yugoslav Republic of Macedonia\", \"marker\": {\"color\": \"#00cc96\", \"size\": [56.773373405858976], \"sizemode\": \"area\", \"sizeref\": 0.025361307840186014, \"symbol\": \"circle\"}, \"mode\": \"markers\", \"name\": \"The former Yugoslav Republic of Macedonia\", \"showlegend\": true, \"type\": \"scatter\", \"x\": [4836.1], \"xaxis\": \"x\", \"y\": [56.773373405858976], \"yaxis\": \"y\"}, {\"hovertemplate\": \"<b>%{hovertext}</b><br><br>Country=Taiwan, Province of China<br>GDP per capita (current US$)=%{x}<br>Average Internet usage over the years=%{marker.size}<extra></extra>\", \"hovertext\": [null], \"legendgroup\": \"Taiwan, Province of China\", \"marker\": {\"color\": \"#ab63fa\", \"size\": [64.59069912764247], \"sizemode\": \"area\", \"sizeref\": 0.025361307840186014, \"symbol\": \"circle\"}, \"mode\": \"markers\", \"name\": \"Taiwan, Province of China\", \"showlegend\": true, \"type\": \"scatter\", \"x\": [null], \"xaxis\": \"x\", \"y\": [64.59069912764247], \"yaxis\": \"y\"}, {\"hovertemplate\": \"<b>%{hovertext}</b><br><br>Country=Tajikistan<br>GDP per capita (current US$)=%{x}<br>Average Internet usage over the years=%{marker.size}<extra></extra>\", \"hovertext\": [\"Tajikistan\"], \"legendgroup\": \"Tajikistan\", \"marker\": {\"color\": \"#FFA15A\", \"size\": [12.212480874402727], \"sizemode\": \"area\", \"sizeref\": 0.025361307840186014, \"symbol\": \"circle\"}, \"mode\": \"markers\", \"name\": \"Tajikistan\", \"showlegend\": true, \"type\": \"scatter\", \"x\": [925.9], \"xaxis\": \"x\", \"y\": [12.212480874402727], \"yaxis\": \"y\"}, {\"hovertemplate\": \"<b>%{hovertext}</b><br><br>Country=Tanzania<br>GDP per capita (current US$)=%{x}<br>Average Internet usage over the years=%{marker.size}<extra></extra>\", \"hovertext\": [null], \"legendgroup\": \"Tanzania\", \"marker\": {\"color\": \"#19d3f3\", \"size\": [7.333381312737115], \"sizemode\": \"area\", \"sizeref\": 0.025361307840186014, \"symbol\": \"circle\"}, \"mode\": \"markers\", \"name\": \"Tanzania\", \"showlegend\": true, \"type\": \"scatter\", \"x\": [null], \"xaxis\": \"x\", \"y\": [7.333381312737115], \"yaxis\": \"y\"}, {\"hovertemplate\": \"<b>%{hovertext}</b><br><br>Country=Thailand<br>GDP per capita (current US$)=%{x}<br>Average Internet usage over the years=%{marker.size}<extra></extra>\", \"hovertext\": [\"Thailand\"], \"legendgroup\": \"Thailand\", \"marker\": {\"color\": \"#FF6692\", \"size\": [31.964133989428145], \"sizemode\": \"area\", \"sizeref\": 0.025361307840186014, \"symbol\": \"circle\"}, \"mode\": \"markers\", \"name\": \"Thailand\", \"showlegend\": true, \"type\": \"scatter\", \"x\": [5814.8], \"xaxis\": \"x\", \"y\": [31.964133989428145], \"yaxis\": \"y\"}, {\"hovertemplate\": \"<b>%{hovertext}</b><br><br>Country=Timor-Leste<br>GDP per capita (current US$)=%{x}<br>Average Internet usage over the years=%{marker.size}<extra></extra>\", \"hovertext\": [\"Timor-Leste\"], \"legendgroup\": \"Timor-Leste\", \"marker\": {\"color\": \"#B6E880\", \"size\": [10.758001189427866], \"sizemode\": \"area\", \"sizeref\": 0.025361307840186014, \"symbol\": \"circle\"}, \"mode\": \"markers\", \"name\": \"Timor-Leste\", \"showlegend\": true, \"type\": \"scatter\", \"x\": [2425.4], \"xaxis\": \"x\", \"y\": [10.758001189427866], \"yaxis\": \"y\"}, {\"hovertemplate\": \"<b>%{hovertext}</b><br><br>Country=Togo<br>GDP per capita (current US$)=%{x}<br>Average Internet usage over the years=%{marker.size}<extra></extra>\", \"hovertext\": [\"Togo\"], \"legendgroup\": \"Togo\", \"marker\": {\"color\": \"#FF97FF\", \"size\": [4.91729317909091], \"sizemode\": \"area\", \"sizeref\": 0.025361307840186014, \"symbol\": \"circle\"}, \"mode\": \"markers\", \"name\": \"Togo\", \"showlegend\": true, \"type\": \"scatter\", \"x\": [559.4], \"xaxis\": \"x\", \"y\": [4.91729317909091], \"yaxis\": \"y\"}, {\"hovertemplate\": \"<b>%{hovertext}</b><br><br>Country=Tonga<br>GDP per capita (current US$)=%{x}<br>Average Internet usage over the years=%{marker.size}<extra></extra>\", \"hovertext\": [\"Tonga\"], \"legendgroup\": \"Tonga\", \"marker\": {\"color\": \"#FECB52\", \"size\": [24.263689358179615], \"sizemode\": \"area\", \"sizeref\": 0.025361307840186014, \"symbol\": \"circle\"}, \"mode\": \"markers\", \"name\": \"Tonga\", \"showlegend\": true, \"type\": \"scatter\", \"x\": [3784.5], \"xaxis\": \"x\", \"y\": [24.263689358179615], \"yaxis\": \"y\"}, {\"hovertemplate\": \"<b>%{hovertext}</b><br><br>Country=Trinidad & Tobago<br>GDP per capita (current US$)=%{x}<br>Average Internet usage over the years=%{marker.size}<extra></extra>\", \"hovertext\": [null], \"legendgroup\": \"Trinidad & Tobago\", \"marker\": {\"color\": \"#636efa\", \"size\": [49.87598078728741], \"sizemode\": \"area\", \"sizeref\": 0.025361307840186014, \"symbol\": \"circle\"}, \"mode\": \"markers\", \"name\": \"Trinidad & Tobago\", \"showlegend\": true, \"type\": \"scatter\", \"x\": [null], \"xaxis\": \"x\", \"y\": [49.87598078728741], \"yaxis\": \"y\"}, {\"hovertemplate\": \"<b>%{hovertext}</b><br><br>Country=Tunisia<br>GDP per capita (current US$)=%{x}<br>Average Internet usage over the years=%{marker.size}<extra></extra>\", \"hovertext\": [\"Tunisia\"], \"legendgroup\": \"Tunisia\", \"marker\": {\"color\": \"#EF553B\", \"size\": [40.38082201278533], \"sizemode\": \"area\", \"sizeref\": 0.025361307840186014, \"symbol\": \"circle\"}, \"mode\": \"markers\", \"name\": \"Tunisia\", \"showlegend\": true, \"type\": \"scatter\", \"x\": [3660.9], \"xaxis\": \"x\", \"y\": [40.38082201278533], \"yaxis\": \"y\"}, {\"hovertemplate\": \"<b>%{hovertext}</b><br><br>Country=Turkey<br>GDP per capita (current US$)=%{x}<br>Average Internet usage over the years=%{marker.size}<extra></extra>\", \"hovertext\": [\"Turkey\"], \"legendgroup\": \"Turkey\", \"marker\": {\"color\": \"#00cc96\", \"size\": [44.75886248828977], \"sizemode\": \"area\", \"sizeref\": 0.025361307840186014, \"symbol\": \"circle\"}, \"mode\": \"markers\", \"name\": \"Turkey\", \"showlegend\": true, \"type\": \"scatter\", \"x\": [9125.8], \"xaxis\": \"x\", \"y\": [44.75886248828977], \"yaxis\": \"y\"}, {\"hovertemplate\": \"<b>%{hovertext}</b><br><br>Country=Turkmenistan<br>GDP per capita (current US$)=%{x}<br>Average Internet usage over the years=%{marker.size}<extra></extra>\", \"hovertext\": [\"Turkmenistan\"], \"legendgroup\": \"Turkmenistan\", \"marker\": {\"color\": \"#ab63fa\", \"size\": [8.396766857572139], \"sizemode\": \"area\", \"sizeref\": 0.025361307840186014, \"symbol\": \"circle\"}, \"mode\": \"markers\", \"name\": \"Turkmenistan\", \"showlegend\": true, \"type\": \"scatter\", \"x\": [6996.7], \"xaxis\": \"x\", \"y\": [8.396766857572139], \"yaxis\": \"y\"}, {\"hovertemplate\": \"<b>%{hovertext}</b><br><br>Country=Tuvalu<br>GDP per capita (current US$)=%{x}<br>Average Internet usage over the years=%{marker.size}<extra></extra>\", \"hovertext\": [\"Tuvalu\"], \"legendgroup\": \"Tuvalu\", \"marker\": {\"color\": \"#FFA15A\", \"size\": [28.133557246995647], \"sizemode\": \"area\", \"sizeref\": 0.025361307840186014, \"symbol\": \"circle\"}, \"mode\": \"markers\", \"name\": \"Tuvalu\", \"showlegend\": true, \"type\": \"scatter\", \"x\": [3362.4], \"xaxis\": \"x\", \"y\": [28.133557246995647], \"yaxis\": \"y\"}, {\"hovertemplate\": \"<b>%{hovertext}</b><br><br>Country=Uganda<br>GDP per capita (current US$)=%{x}<br>Average Internet usage over the years=%{marker.size}<extra></extra>\", \"hovertext\": [\"Uganda\"], \"legendgroup\": \"Uganda\", \"marker\": {\"color\": \"#19d3f3\", \"size\": [12.485183976084812], \"sizemode\": \"area\", \"sizeref\": 0.025361307840186014, \"symbol\": \"circle\"}, \"mode\": \"markers\", \"name\": \"Uganda\", \"showlegend\": true, \"type\": \"scatter\", \"x\": [647.7], \"xaxis\": \"x\", \"y\": [12.485183976084812], \"yaxis\": \"y\"}, {\"hovertemplate\": \"<b>%{hovertext}</b><br><br>Country=Ukraine<br>GDP per capita (current US$)=%{x}<br>Average Internet usage over the years=%{marker.size}<extra></extra>\", \"hovertext\": [\"Ukraine\"], \"legendgroup\": \"Ukraine\", \"marker\": {\"color\": \"#FF6692\", \"size\": [30.882585327477113], \"sizemode\": \"area\", \"sizeref\": 0.025361307840186014, \"symbol\": \"circle\"}, \"mode\": \"markers\", \"name\": \"Ukraine\", \"showlegend\": true, \"type\": \"scatter\", \"x\": [2021.6], \"xaxis\": \"x\", \"y\": [30.882585327477113], \"yaxis\": \"y\"}, {\"hovertemplate\": \"<b>%{hovertext}</b><br><br>Country=United Arab Emirates<br>GDP per capita (current US$)=%{x}<br>Average Internet usage over the years=%{marker.size}<extra></extra>\", \"hovertext\": [\"United Arab Emirates\"], \"legendgroup\": \"United Arab Emirates\", \"marker\": {\"color\": \"#B6E880\", \"size\": [77.03592945652944], \"sizemode\": \"area\", \"sizeref\": 0.025361307840186014, \"symbol\": \"circle\"}, \"mode\": \"markers\", \"name\": \"United Arab Emirates\", \"showlegend\": true, \"type\": \"scatter\", \"x\": [40438.8], \"xaxis\": \"x\", \"y\": [77.03592945652944], \"yaxis\": \"y\"}, {\"hovertemplate\": \"<b>%{hovertext}</b><br><br>Country=United Kingdom<br>GDP per capita (current US$)=%{x}<br>Average Internet usage over the years=%{marker.size}<extra></extra>\", \"hovertext\": [\"United Kingdom\"], \"legendgroup\": \"United Kingdom\", \"marker\": {\"color\": \"#FF97FF\", \"size\": [82.94806306502697], \"sizemode\": \"area\", \"sizeref\": 0.025361307840186014, \"symbol\": \"circle\"}, \"mode\": \"markers\", \"name\": \"United Kingdom\", \"showlegend\": true, \"type\": \"scatter\", \"x\": [44162.4], \"xaxis\": \"x\", \"y\": [82.94806306502697], \"yaxis\": \"y\"}, {\"hovertemplate\": \"<b>%{hovertext}</b><br><br>Country=United States of America<br>GDP per capita (current US$)=%{x}<br>Average Internet usage over the years=%{marker.size}<extra></extra>\", \"hovertext\": [\"United States of America\"], \"legendgroup\": \"United States of America\", \"marker\": {\"color\": \"#FECB52\", \"size\": [65.35740117036715], \"sizemode\": \"area\", \"sizeref\": 0.025361307840186014, \"symbol\": \"circle\"}, \"mode\": \"markers\", \"name\": \"United States of America\", \"showlegend\": true, \"type\": \"scatter\", \"x\": [56053.8], \"xaxis\": \"x\", \"y\": [65.35740117036715], \"yaxis\": \"y\"}, {\"hovertemplate\": \"<b>%{hovertext}</b><br><br>Country=Uruguay<br>GDP per capita (current US$)=%{x}<br>Average Internet usage over the years=%{marker.size}<extra></extra>\", \"hovertext\": [\"Uruguay\"], \"legendgroup\": \"Uruguay\", \"marker\": {\"color\": \"#636efa\", \"size\": [45.571466063440965], \"sizemode\": \"area\", \"sizeref\": 0.025361307840186014, \"symbol\": \"circle\"}, \"mode\": \"markers\", \"name\": \"Uruguay\", \"showlegend\": true, \"type\": \"scatter\", \"x\": [15573.8], \"xaxis\": \"x\", \"y\": [45.571466063440965], \"yaxis\": \"y\"}, {\"hovertemplate\": \"<b>%{hovertext}</b><br><br>Country=Uzbekistan<br>GDP per capita (current US$)=%{x}<br>Average Internet usage over the years=%{marker.size}<extra></extra>\", \"hovertext\": [\"Uzbekistan\"], \"legendgroup\": \"Uzbekistan\", \"marker\": {\"color\": \"#EF553B\", \"size\": [24.193113175099334], \"sizemode\": \"area\", \"sizeref\": 0.025361307840186014, \"symbol\": \"circle\"}, \"mode\": \"markers\", \"name\": \"Uzbekistan\", \"showlegend\": true, \"type\": \"scatter\", \"x\": [2308.3], \"xaxis\": \"x\", \"y\": [24.193113175099334], \"yaxis\": \"y\"}, {\"hovertemplate\": \"<b>%{hovertext}</b><br><br>Country=Vanuatu<br>GDP per capita (current US$)=%{x}<br>Average Internet usage over the years=%{marker.size}<extra></extra>\", \"hovertext\": [\"Vanuatu\"], \"legendgroup\": \"Vanuatu\", \"marker\": {\"color\": \"#00cc96\", \"size\": [12.469078465185122], \"sizemode\": \"area\", \"sizeref\": 0.025361307840186014, \"symbol\": \"circle\"}, \"mode\": \"markers\", \"name\": \"Vanuatu\", \"showlegend\": true, \"type\": \"scatter\", \"x\": [2783.0], \"xaxis\": \"x\", \"y\": [12.469078465185122], \"yaxis\": \"y\"}, {\"hovertemplate\": \"<b>%{hovertext}</b><br><br>Country=Venezuela (Bolivarian Republic of)<br>GDP per capita (current US$)=%{x}<br>Average Internet usage over the years=%{marker.size}<extra></extra>\", \"hovertext\": [\"Venezuela (Bolivarian Republic of)\"], \"legendgroup\": \"Venezuela (Bolivarian Republic of)\", \"marker\": {\"color\": \"#ab63fa\", \"size\": [40.95024349521088], \"sizemode\": \"area\", \"sizeref\": 0.025361307840186014, \"symbol\": \"circle\"}, \"mode\": \"markers\", \"name\": \"Venezuela (Bolivarian Republic of)\", \"showlegend\": true, \"type\": \"scatter\", \"x\": [11068.9], \"xaxis\": \"x\", \"y\": [40.95024349521088], \"yaxis\": \"y\"}, {\"hovertemplate\": \"<b>%{hovertext}</b><br><br>Country=Viet Nam<br>GDP per capita (current US$)=%{x}<br>Average Internet usage over the years=%{marker.size}<extra></extra>\", \"hovertext\": [\"Viet Nam\"], \"legendgroup\": \"Viet Nam\", \"marker\": {\"color\": \"#FFA15A\", \"size\": [38.31852846784545], \"sizemode\": \"area\", \"sizeref\": 0.025361307840186014, \"symbol\": \"circle\"}, \"mode\": \"markers\", \"name\": \"Viet Nam\", \"showlegend\": true, \"type\": \"scatter\", \"x\": [2067.9], \"xaxis\": \"x\", \"y\": [38.31852846784545], \"yaxis\": \"y\"}, {\"hovertemplate\": \"<b>%{hovertext}</b><br><br>Country=Yemen<br>GDP per capita (current US$)=%{x}<br>Average Internet usage over the years=%{marker.size}<extra></extra>\", \"hovertext\": [\"Yemen\"], \"legendgroup\": \"Yemen\", \"marker\": {\"color\": \"#19d3f3\", \"size\": [14.887779174601034], \"sizemode\": \"area\", \"sizeref\": 0.025361307840186014, \"symbol\": \"circle\"}, \"mode\": \"markers\", \"name\": \"Yemen\", \"showlegend\": true, \"type\": \"scatter\", \"x\": [1106.4], \"xaxis\": \"x\", \"y\": [14.887779174601034], \"yaxis\": \"y\"}, {\"hovertemplate\": \"<b>%{hovertext}</b><br><br>Country=Zambia<br>GDP per capita (current US$)=%{x}<br>Average Internet usage over the years=%{marker.size}<extra></extra>\", \"hovertext\": [\"Zambia\"], \"legendgroup\": \"Zambia\", \"marker\": {\"color\": \"#FF6692\", \"size\": [12.110690895124083], \"sizemode\": \"area\", \"sizeref\": 0.025361307840186014, \"symbol\": \"circle\"}, \"mode\": \"markers\", \"name\": \"Zambia\", \"showlegend\": true, \"type\": \"scatter\", \"x\": [1311.1], \"xaxis\": \"x\", \"y\": [12.110690895124083], \"yaxis\": \"y\"}, {\"hovertemplate\": \"<b>%{hovertext}</b><br><br>Country=Zimbabwe<br>GDP per capita (current US$)=%{x}<br>Average Internet usage over the years=%{marker.size}<extra></extra>\", \"hovertext\": [\"Zimbabwe\"], \"legendgroup\": \"Zimbabwe\", \"marker\": {\"color\": \"#B6E880\", \"size\": [12.216769847489571], \"sizemode\": \"area\", \"sizeref\": 0.025361307840186014, \"symbol\": \"circle\"}, \"mode\": \"markers\", \"name\": \"Zimbabwe\", \"showlegend\": true, \"type\": \"scatter\", \"x\": [890.4], \"xaxis\": \"x\", \"y\": [12.216769847489571], \"yaxis\": \"y\"}],\n",
       "                        {\"legend\": {\"itemsizing\": \"constant\", \"title\": {\"text\": \"Country\"}, \"tracegroupgap\": 0}, \"margin\": {\"t\": 60}, \"template\": {\"data\": {\"bar\": [{\"error_x\": {\"color\": \"#2a3f5f\"}, \"error_y\": {\"color\": \"#2a3f5f\"}, \"marker\": {\"line\": {\"color\": \"#E5ECF6\", \"width\": 0.5}}, \"type\": \"bar\"}], \"barpolar\": [{\"marker\": {\"line\": {\"color\": \"#E5ECF6\", \"width\": 0.5}}, \"type\": \"barpolar\"}], \"carpet\": [{\"aaxis\": {\"endlinecolor\": \"#2a3f5f\", \"gridcolor\": \"white\", \"linecolor\": \"white\", \"minorgridcolor\": \"white\", \"startlinecolor\": \"#2a3f5f\"}, \"baxis\": {\"endlinecolor\": \"#2a3f5f\", \"gridcolor\": \"white\", \"linecolor\": \"white\", \"minorgridcolor\": \"white\", \"startlinecolor\": \"#2a3f5f\"}, \"type\": \"carpet\"}], \"choropleth\": [{\"colorbar\": {\"outlinewidth\": 0, \"ticks\": \"\"}, \"type\": \"choropleth\"}], \"contour\": [{\"colorbar\": {\"outlinewidth\": 0, \"ticks\": \"\"}, \"colorscale\": [[0.0, \"#0d0887\"], [0.1111111111111111, \"#46039f\"], [0.2222222222222222, \"#7201a8\"], [0.3333333333333333, \"#9c179e\"], [0.4444444444444444, \"#bd3786\"], [0.5555555555555556, \"#d8576b\"], [0.6666666666666666, \"#ed7953\"], [0.7777777777777778, \"#fb9f3a\"], [0.8888888888888888, \"#fdca26\"], [1.0, \"#f0f921\"]], \"type\": \"contour\"}], \"contourcarpet\": [{\"colorbar\": {\"outlinewidth\": 0, \"ticks\": \"\"}, \"type\": \"contourcarpet\"}], \"heatmap\": [{\"colorbar\": {\"outlinewidth\": 0, \"ticks\": \"\"}, \"colorscale\": [[0.0, \"#0d0887\"], [0.1111111111111111, \"#46039f\"], [0.2222222222222222, \"#7201a8\"], [0.3333333333333333, \"#9c179e\"], [0.4444444444444444, \"#bd3786\"], [0.5555555555555556, \"#d8576b\"], [0.6666666666666666, \"#ed7953\"], [0.7777777777777778, \"#fb9f3a\"], [0.8888888888888888, \"#fdca26\"], [1.0, \"#f0f921\"]], \"type\": \"heatmap\"}], \"heatmapgl\": [{\"colorbar\": {\"outlinewidth\": 0, \"ticks\": \"\"}, \"colorscale\": [[0.0, \"#0d0887\"], [0.1111111111111111, \"#46039f\"], [0.2222222222222222, \"#7201a8\"], [0.3333333333333333, \"#9c179e\"], [0.4444444444444444, \"#bd3786\"], [0.5555555555555556, \"#d8576b\"], [0.6666666666666666, \"#ed7953\"], [0.7777777777777778, \"#fb9f3a\"], [0.8888888888888888, \"#fdca26\"], [1.0, \"#f0f921\"]], \"type\": \"heatmapgl\"}], \"histogram\": [{\"marker\": {\"colorbar\": {\"outlinewidth\": 0, \"ticks\": \"\"}}, \"type\": \"histogram\"}], \"histogram2d\": [{\"colorbar\": {\"outlinewidth\": 0, \"ticks\": \"\"}, \"colorscale\": [[0.0, \"#0d0887\"], [0.1111111111111111, \"#46039f\"], [0.2222222222222222, \"#7201a8\"], [0.3333333333333333, \"#9c179e\"], [0.4444444444444444, \"#bd3786\"], [0.5555555555555556, \"#d8576b\"], [0.6666666666666666, \"#ed7953\"], [0.7777777777777778, \"#fb9f3a\"], [0.8888888888888888, \"#fdca26\"], [1.0, \"#f0f921\"]], \"type\": \"histogram2d\"}], \"histogram2dcontour\": [{\"colorbar\": {\"outlinewidth\": 0, \"ticks\": \"\"}, \"colorscale\": [[0.0, \"#0d0887\"], [0.1111111111111111, \"#46039f\"], [0.2222222222222222, \"#7201a8\"], [0.3333333333333333, \"#9c179e\"], [0.4444444444444444, \"#bd3786\"], [0.5555555555555556, \"#d8576b\"], [0.6666666666666666, \"#ed7953\"], [0.7777777777777778, \"#fb9f3a\"], [0.8888888888888888, \"#fdca26\"], [1.0, \"#f0f921\"]], \"type\": \"histogram2dcontour\"}], \"mesh3d\": [{\"colorbar\": {\"outlinewidth\": 0, \"ticks\": \"\"}, \"type\": \"mesh3d\"}], \"parcoords\": [{\"line\": {\"colorbar\": {\"outlinewidth\": 0, \"ticks\": \"\"}}, \"type\": \"parcoords\"}], \"pie\": [{\"automargin\": true, \"type\": \"pie\"}], \"scatter\": [{\"marker\": {\"colorbar\": {\"outlinewidth\": 0, \"ticks\": \"\"}}, \"type\": \"scatter\"}], \"scatter3d\": [{\"line\": {\"colorbar\": {\"outlinewidth\": 0, \"ticks\": \"\"}}, \"marker\": {\"colorbar\": {\"outlinewidth\": 0, \"ticks\": \"\"}}, \"type\": \"scatter3d\"}], \"scattercarpet\": [{\"marker\": {\"colorbar\": {\"outlinewidth\": 0, \"ticks\": \"\"}}, \"type\": \"scattercarpet\"}], \"scattergeo\": [{\"marker\": {\"colorbar\": {\"outlinewidth\": 0, \"ticks\": \"\"}}, \"type\": \"scattergeo\"}], \"scattergl\": [{\"marker\": {\"colorbar\": {\"outlinewidth\": 0, \"ticks\": \"\"}}, \"type\": \"scattergl\"}], \"scattermapbox\": [{\"marker\": {\"colorbar\": {\"outlinewidth\": 0, \"ticks\": \"\"}}, \"type\": \"scattermapbox\"}], \"scatterpolar\": [{\"marker\": {\"colorbar\": {\"outlinewidth\": 0, \"ticks\": \"\"}}, \"type\": \"scatterpolar\"}], \"scatterpolargl\": [{\"marker\": {\"colorbar\": {\"outlinewidth\": 0, \"ticks\": \"\"}}, \"type\": \"scatterpolargl\"}], \"scatterternary\": [{\"marker\": {\"colorbar\": {\"outlinewidth\": 0, \"ticks\": \"\"}}, \"type\": \"scatterternary\"}], \"surface\": [{\"colorbar\": {\"outlinewidth\": 0, \"ticks\": \"\"}, \"colorscale\": [[0.0, \"#0d0887\"], [0.1111111111111111, \"#46039f\"], [0.2222222222222222, \"#7201a8\"], [0.3333333333333333, \"#9c179e\"], [0.4444444444444444, \"#bd3786\"], [0.5555555555555556, \"#d8576b\"], [0.6666666666666666, \"#ed7953\"], [0.7777777777777778, \"#fb9f3a\"], [0.8888888888888888, \"#fdca26\"], [1.0, \"#f0f921\"]], \"type\": \"surface\"}], \"table\": [{\"cells\": {\"fill\": {\"color\": \"#EBF0F8\"}, \"line\": {\"color\": \"white\"}}, \"header\": {\"fill\": {\"color\": \"#C8D4E3\"}, \"line\": {\"color\": \"white\"}}, \"type\": \"table\"}]}, \"layout\": {\"annotationdefaults\": {\"arrowcolor\": \"#2a3f5f\", \"arrowhead\": 0, \"arrowwidth\": 1}, \"coloraxis\": {\"colorbar\": {\"outlinewidth\": 0, \"ticks\": \"\"}}, \"colorscale\": {\"diverging\": [[0, \"#8e0152\"], [0.1, \"#c51b7d\"], [0.2, \"#de77ae\"], [0.3, \"#f1b6da\"], [0.4, \"#fde0ef\"], [0.5, \"#f7f7f7\"], [0.6, \"#e6f5d0\"], [0.7, \"#b8e186\"], [0.8, \"#7fbc41\"], [0.9, \"#4d9221\"], [1, \"#276419\"]], \"sequential\": [[0.0, \"#0d0887\"], [0.1111111111111111, \"#46039f\"], [0.2222222222222222, \"#7201a8\"], [0.3333333333333333, \"#9c179e\"], [0.4444444444444444, \"#bd3786\"], [0.5555555555555556, \"#d8576b\"], [0.6666666666666666, \"#ed7953\"], [0.7777777777777778, \"#fb9f3a\"], [0.8888888888888888, \"#fdca26\"], [1.0, \"#f0f921\"]], \"sequentialminus\": [[0.0, \"#0d0887\"], [0.1111111111111111, \"#46039f\"], [0.2222222222222222, \"#7201a8\"], [0.3333333333333333, \"#9c179e\"], [0.4444444444444444, \"#bd3786\"], [0.5555555555555556, \"#d8576b\"], [0.6666666666666666, \"#ed7953\"], [0.7777777777777778, \"#fb9f3a\"], [0.8888888888888888, \"#fdca26\"], [1.0, \"#f0f921\"]]}, \"colorway\": [\"#636efa\", \"#EF553B\", \"#00cc96\", \"#ab63fa\", \"#FFA15A\", \"#19d3f3\", \"#FF6692\", \"#B6E880\", \"#FF97FF\", \"#FECB52\"], \"font\": {\"color\": \"#2a3f5f\"}, \"geo\": {\"bgcolor\": \"white\", \"lakecolor\": \"white\", \"landcolor\": \"#E5ECF6\", \"showlakes\": true, \"showland\": true, \"subunitcolor\": \"white\"}, \"hoverlabel\": {\"align\": \"left\"}, \"hovermode\": \"closest\", \"mapbox\": {\"style\": \"light\"}, \"paper_bgcolor\": \"white\", \"plot_bgcolor\": \"#E5ECF6\", \"polar\": {\"angularaxis\": {\"gridcolor\": \"white\", \"linecolor\": \"white\", \"ticks\": \"\"}, \"bgcolor\": \"#E5ECF6\", \"radialaxis\": {\"gridcolor\": \"white\", \"linecolor\": \"white\", \"ticks\": \"\"}}, \"scene\": {\"xaxis\": {\"backgroundcolor\": \"#E5ECF6\", \"gridcolor\": \"white\", \"gridwidth\": 2, \"linecolor\": \"white\", \"showbackground\": true, \"ticks\": \"\", \"zerolinecolor\": \"white\"}, \"yaxis\": {\"backgroundcolor\": \"#E5ECF6\", \"gridcolor\": \"white\", \"gridwidth\": 2, \"linecolor\": \"white\", \"showbackground\": true, \"ticks\": \"\", \"zerolinecolor\": \"white\"}, \"zaxis\": {\"backgroundcolor\": \"#E5ECF6\", \"gridcolor\": \"white\", \"gridwidth\": 2, \"linecolor\": \"white\", \"showbackground\": true, \"ticks\": \"\", \"zerolinecolor\": \"white\"}}, \"shapedefaults\": {\"line\": {\"color\": \"#2a3f5f\"}}, \"ternary\": {\"aaxis\": {\"gridcolor\": \"white\", \"linecolor\": \"white\", \"ticks\": \"\"}, \"baxis\": {\"gridcolor\": \"white\", \"linecolor\": \"white\", \"ticks\": \"\"}, \"bgcolor\": \"#E5ECF6\", \"caxis\": {\"gridcolor\": \"white\", \"linecolor\": \"white\", \"ticks\": \"\"}}, \"title\": {\"x\": 0.05}, \"xaxis\": {\"automargin\": true, \"gridcolor\": \"white\", \"linecolor\": \"white\", \"ticks\": \"\", \"title\": {\"standoff\": 15}, \"zerolinecolor\": \"white\", \"zerolinewidth\": 2}, \"yaxis\": {\"automargin\": true, \"gridcolor\": \"white\", \"linecolor\": \"white\", \"ticks\": \"\", \"title\": {\"standoff\": 15}, \"zerolinecolor\": \"white\", \"zerolinewidth\": 2}}}, \"xaxis\": {\"anchor\": \"y\", \"domain\": [0.0, 1.0], \"title\": {\"text\": \"GDP per capita (current US$)\"}, \"type\": \"log\"}, \"yaxis\": {\"anchor\": \"x\", \"domain\": [0.0, 1.0], \"title\": {\"text\": \"Average Internet usage over the years\"}}},\n",
       "                        {\"responsive\": true}\n",
       "                    ).then(function(){\n",
       "                            \n",
       "var gd = document.getElementById('934c109d-0ec2-4a55-95c5-a185d33b01da');\n",
       "var x = new MutationObserver(function (mutations, observer) {{\n",
       "        var display = window.getComputedStyle(gd).display;\n",
       "        if (!display || display === 'none') {{\n",
       "            console.log([gd, 'removed!']);\n",
       "            Plotly.purge(gd);\n",
       "            observer.disconnect();\n",
       "        }}\n",
       "}});\n",
       "\n",
       "// Listen for the removal of the full notebook cells\n",
       "var notebookContainer = gd.closest('#notebook-container');\n",
       "if (notebookContainer) {{\n",
       "    x.observe(notebookContainer, {childList: true});\n",
       "}}\n",
       "\n",
       "// Listen for the clearing of the current output cell\n",
       "var outputEl = gd.closest('.output');\n",
       "if (outputEl) {{\n",
       "    x.observe(outputEl, {childList: true});\n",
       "}}\n",
       "\n",
       "                        })\n",
       "                };\n",
       "                });\n",
       "            </script>\n",
       "        </div>"
      ]
     },
     "metadata": {},
     "output_type": "display_data"
    }
   ],
   "source": [
    "fig = px.scatter(GDP_vs_int_usage, x=\"GDP per capita (current US$)\", y=\"Average Internet usage over the years\",\n",
    "        color=\"Country\",size= \"Average Internet usage over the years\",\n",
    "                 hover_name=\"country\", log_x=True, size_max=60)\n",
    "fig.show()"
   ]
  },
  {
   "cell_type": "markdown",
   "metadata": {},
   "source": [
    "# Hypothesis 2"
   ]
  },
  {
   "cell_type": "markdown",
   "metadata": {},
   "source": [
    "We expect that countries with higher internet usage are more prone to security breaches.\n",
    "\n",
    "internet users\n",
    "security breaches"
   ]
  },
  {
   "cell_type": "code",
   "execution_count": 126,
   "metadata": {},
   "outputs": [],
   "source": [
    "data_breaches = pd.read_csv(\"C:/Users/admin/Desktop/final_project_2020Sp/Data/databreaches.csv\",encoding='latin-1')"
   ]
  },
  {
   "cell_type": "code",
   "execution_count": 127,
   "metadata": {},
   "outputs": [
    {
     "data": {
      "text/html": [
       "<div>\n",
       "<style scoped>\n",
       "    .dataframe tbody tr th:only-of-type {\n",
       "        vertical-align: middle;\n",
       "    }\n",
       "\n",
       "    .dataframe tbody tr th {\n",
       "        vertical-align: top;\n",
       "    }\n",
       "\n",
       "    .dataframe thead th {\n",
       "        text-align: right;\n",
       "    }\n",
       "</style>\n",
       "<table border=\"1\" class=\"dataframe\">\n",
       "  <thead>\n",
       "    <tr style=\"text-align: right;\">\n",
       "      <th></th>\n",
       "      <th>Date</th>\n",
       "      <th>Notify</th>\n",
       "      <th>URL</th>\n",
       "      <th>IP</th>\n",
       "      <th>Country</th>\n",
       "      <th>OS</th>\n",
       "      <th>WebServer</th>\n",
       "      <th>Encoding</th>\n",
       "      <th>Lang</th>\n",
       "    </tr>\n",
       "  </thead>\n",
       "  <tbody>\n",
       "    <tr>\n",
       "      <td>0</td>\n",
       "      <td>1998-01-02</td>\n",
       "      <td>Team CodeZero</td>\n",
       "      <td>http://www.janet-jackson.com</td>\n",
       "      <td>NaN</td>\n",
       "      <td>UNKNOWN</td>\n",
       "      <td>Unknown</td>\n",
       "      <td>Unknown</td>\n",
       "      <td>utf-8</td>\n",
       "      <td>NaN</td>\n",
       "    </tr>\n",
       "    <tr>\n",
       "      <td>1</td>\n",
       "      <td>1998-01-03</td>\n",
       "      <td>Feliz</td>\n",
       "      <td>http://cariari.ucr.ac.cr</td>\n",
       "      <td>NaN</td>\n",
       "      <td>COSTARICA</td>\n",
       "      <td>Unknown</td>\n",
       "      <td>Unknown</td>\n",
       "      <td>NaN</td>\n",
       "      <td>NaN</td>\n",
       "    </tr>\n",
       "    <tr>\n",
       "      <td>2</td>\n",
       "      <td>1998-01-04</td>\n",
       "      <td>Optiklenz(LOU)</td>\n",
       "      <td>http://marin.k12.ca.us</td>\n",
       "      <td>NaN</td>\n",
       "      <td>UNITED STATES</td>\n",
       "      <td>Unknown</td>\n",
       "      <td>Unknown</td>\n",
       "      <td>iso-8859-1</td>\n",
       "      <td>Helvetica</td>\n",
       "    </tr>\n",
       "    <tr>\n",
       "      <td>3</td>\n",
       "      <td>1998-01-04</td>\n",
       "      <td>Team CodeZero</td>\n",
       "      <td>http://www.dm.af.mil</td>\n",
       "      <td>NaN</td>\n",
       "      <td>AFGHANISTAN</td>\n",
       "      <td>Unknown</td>\n",
       "      <td>Unknown</td>\n",
       "      <td>utf-8</td>\n",
       "      <td>NaN</td>\n",
       "    </tr>\n",
       "    <tr>\n",
       "      <td>4</td>\n",
       "      <td>1998-01-04</td>\n",
       "      <td>Team CodeZero</td>\n",
       "      <td>http://www.bolling.af.mil</td>\n",
       "      <td>NaN</td>\n",
       "      <td>AFGHANISTAN</td>\n",
       "      <td>Unknown</td>\n",
       "      <td>Unknown</td>\n",
       "      <td>windows-1252</td>\n",
       "      <td>Times New Roman</td>\n",
       "    </tr>\n",
       "  </tbody>\n",
       "</table>\n",
       "</div>"
      ],
      "text/plain": [
       "         Date          Notify                           URL   IP  \\\n",
       "0  1998-01-02   Team CodeZero  http://www.janet-jackson.com  NaN   \n",
       "1  1998-01-03           Feliz      http://cariari.ucr.ac.cr  NaN   \n",
       "2  1998-01-04  Optiklenz(LOU)        http://marin.k12.ca.us  NaN   \n",
       "3  1998-01-04   Team CodeZero          http://www.dm.af.mil  NaN   \n",
       "4  1998-01-04   Team CodeZero     http://www.bolling.af.mil  NaN   \n",
       "\n",
       "         Country       OS WebServer      Encoding             Lang  \n",
       "0        UNKNOWN  Unknown   Unknown         utf-8              NaN  \n",
       "1      COSTARICA  Unknown   Unknown           NaN              NaN  \n",
       "2  UNITED STATES  Unknown   Unknown    iso-8859-1        Helvetica  \n",
       "3    AFGHANISTAN  Unknown   Unknown         utf-8              NaN  \n",
       "4    AFGHANISTAN  Unknown   Unknown  windows-1252  Times New Roman  "
      ]
     },
     "execution_count": 127,
     "metadata": {},
     "output_type": "execute_result"
    }
   ],
   "source": [
    "data_breaches.head()"
   ]
  },
  {
   "cell_type": "markdown",
   "metadata": {},
   "source": [
    "Internet usage is defined as internet users as a percentage of the population."
   ]
  },
  {
   "cell_type": "code",
   "execution_count": 128,
   "metadata": {},
   "outputs": [],
   "source": [
    "data_breaches_info = data_breaches[[\"Date\",\"Country\"]]"
   ]
  },
  {
   "cell_type": "code",
   "execution_count": 129,
   "metadata": {},
   "outputs": [
    {
     "data": {
      "text/html": [
       "<div>\n",
       "<style scoped>\n",
       "    .dataframe tbody tr th:only-of-type {\n",
       "        vertical-align: middle;\n",
       "    }\n",
       "\n",
       "    .dataframe tbody tr th {\n",
       "        vertical-align: top;\n",
       "    }\n",
       "\n",
       "    .dataframe thead th {\n",
       "        text-align: right;\n",
       "    }\n",
       "</style>\n",
       "<table border=\"1\" class=\"dataframe\">\n",
       "  <thead>\n",
       "    <tr style=\"text-align: right;\">\n",
       "      <th></th>\n",
       "      <th>Date</th>\n",
       "      <th>Country</th>\n",
       "    </tr>\n",
       "  </thead>\n",
       "  <tbody>\n",
       "    <tr>\n",
       "      <td>0</td>\n",
       "      <td>1998-01-02</td>\n",
       "      <td>UNKNOWN</td>\n",
       "    </tr>\n",
       "    <tr>\n",
       "      <td>1</td>\n",
       "      <td>1998-01-03</td>\n",
       "      <td>COSTARICA</td>\n",
       "    </tr>\n",
       "    <tr>\n",
       "      <td>2</td>\n",
       "      <td>1998-01-04</td>\n",
       "      <td>UNITED STATES</td>\n",
       "    </tr>\n",
       "    <tr>\n",
       "      <td>3</td>\n",
       "      <td>1998-01-04</td>\n",
       "      <td>AFGHANISTAN</td>\n",
       "    </tr>\n",
       "    <tr>\n",
       "      <td>4</td>\n",
       "      <td>1998-01-04</td>\n",
       "      <td>AFGHANISTAN</td>\n",
       "    </tr>\n",
       "    <tr>\n",
       "      <td>...</td>\n",
       "      <td>...</td>\n",
       "      <td>...</td>\n",
       "    </tr>\n",
       "    <tr>\n",
       "      <td>212088</td>\n",
       "      <td>2015-09-01</td>\n",
       "      <td>Unknown</td>\n",
       "    </tr>\n",
       "    <tr>\n",
       "      <td>212089</td>\n",
       "      <td>2015-09-01</td>\n",
       "      <td>Africa</td>\n",
       "    </tr>\n",
       "    <tr>\n",
       "      <td>212090</td>\n",
       "      <td>2015-09-01</td>\n",
       "      <td>Unknown</td>\n",
       "    </tr>\n",
       "    <tr>\n",
       "      <td>212091</td>\n",
       "      <td>2015-09-01</td>\n",
       "      <td>Unknown</td>\n",
       "    </tr>\n",
       "    <tr>\n",
       "      <td>212092</td>\n",
       "      <td>2015-09-01</td>\n",
       "      <td>Unknown</td>\n",
       "    </tr>\n",
       "  </tbody>\n",
       "</table>\n",
       "<p>212093 rows × 2 columns</p>\n",
       "</div>"
      ],
      "text/plain": [
       "              Date        Country\n",
       "0       1998-01-02        UNKNOWN\n",
       "1       1998-01-03      COSTARICA\n",
       "2       1998-01-04  UNITED STATES\n",
       "3       1998-01-04    AFGHANISTAN\n",
       "4       1998-01-04    AFGHANISTAN\n",
       "...            ...            ...\n",
       "212088  2015-09-01        Unknown\n",
       "212089  2015-09-01         Africa\n",
       "212090  2015-09-01        Unknown\n",
       "212091  2015-09-01        Unknown\n",
       "212092  2015-09-01        Unknown\n",
       "\n",
       "[212093 rows x 2 columns]"
      ]
     },
     "execution_count": 129,
     "metadata": {},
     "output_type": "execute_result"
    }
   ],
   "source": [
    "data_breaches_info"
   ]
  },
  {
   "cell_type": "code",
   "execution_count": 130,
   "metadata": {},
   "outputs": [
    {
     "name": "stderr",
     "output_type": "stream",
     "text": [
      "C:\\Users\\admin\\Anaconda3\\lib\\site-packages\\ipykernel_launcher.py:1: SettingWithCopyWarning:\n",
      "\n",
      "\n",
      "A value is trying to be set on a copy of a slice from a DataFrame.\n",
      "Try using .loc[row_indexer,col_indexer] = value instead\n",
      "\n",
      "See the caveats in the documentation: http://pandas.pydata.org/pandas-docs/stable/user_guide/indexing.html#returning-a-view-versus-a-copy\n",
      "\n"
     ]
    }
   ],
   "source": [
    "data_breaches_info[\"Date\"] = data_breaches_info[(data_breaches[\"Date\"] >'2000-1-1')]"
   ]
  },
  {
   "cell_type": "code",
   "execution_count": 131,
   "metadata": {},
   "outputs": [
    {
     "data": {
      "text/html": [
       "<div>\n",
       "<style scoped>\n",
       "    .dataframe tbody tr th:only-of-type {\n",
       "        vertical-align: middle;\n",
       "    }\n",
       "\n",
       "    .dataframe tbody tr th {\n",
       "        vertical-align: top;\n",
       "    }\n",
       "\n",
       "    .dataframe thead th {\n",
       "        text-align: right;\n",
       "    }\n",
       "</style>\n",
       "<table border=\"1\" class=\"dataframe\">\n",
       "  <thead>\n",
       "    <tr style=\"text-align: right;\">\n",
       "      <th></th>\n",
       "      <th>Date</th>\n",
       "      <th>Country</th>\n",
       "    </tr>\n",
       "  </thead>\n",
       "  <tbody>\n",
       "    <tr>\n",
       "      <td>0</td>\n",
       "      <td>NaN</td>\n",
       "      <td>UNKNOWN</td>\n",
       "    </tr>\n",
       "    <tr>\n",
       "      <td>1</td>\n",
       "      <td>NaN</td>\n",
       "      <td>COSTARICA</td>\n",
       "    </tr>\n",
       "    <tr>\n",
       "      <td>2</td>\n",
       "      <td>NaN</td>\n",
       "      <td>UNITED STATES</td>\n",
       "    </tr>\n",
       "    <tr>\n",
       "      <td>3</td>\n",
       "      <td>NaN</td>\n",
       "      <td>AFGHANISTAN</td>\n",
       "    </tr>\n",
       "    <tr>\n",
       "      <td>4</td>\n",
       "      <td>NaN</td>\n",
       "      <td>AFGHANISTAN</td>\n",
       "    </tr>\n",
       "    <tr>\n",
       "      <td>...</td>\n",
       "      <td>...</td>\n",
       "      <td>...</td>\n",
       "    </tr>\n",
       "    <tr>\n",
       "      <td>212088</td>\n",
       "      <td>2015-09-01</td>\n",
       "      <td>Unknown</td>\n",
       "    </tr>\n",
       "    <tr>\n",
       "      <td>212089</td>\n",
       "      <td>2015-09-01</td>\n",
       "      <td>Africa</td>\n",
       "    </tr>\n",
       "    <tr>\n",
       "      <td>212090</td>\n",
       "      <td>2015-09-01</td>\n",
       "      <td>Unknown</td>\n",
       "    </tr>\n",
       "    <tr>\n",
       "      <td>212091</td>\n",
       "      <td>2015-09-01</td>\n",
       "      <td>Unknown</td>\n",
       "    </tr>\n",
       "    <tr>\n",
       "      <td>212092</td>\n",
       "      <td>2015-09-01</td>\n",
       "      <td>Unknown</td>\n",
       "    </tr>\n",
       "  </tbody>\n",
       "</table>\n",
       "<p>212093 rows × 2 columns</p>\n",
       "</div>"
      ],
      "text/plain": [
       "              Date        Country\n",
       "0              NaN        UNKNOWN\n",
       "1              NaN      COSTARICA\n",
       "2              NaN  UNITED STATES\n",
       "3              NaN    AFGHANISTAN\n",
       "4              NaN    AFGHANISTAN\n",
       "...            ...            ...\n",
       "212088  2015-09-01        Unknown\n",
       "212089  2015-09-01         Africa\n",
       "212090  2015-09-01        Unknown\n",
       "212091  2015-09-01        Unknown\n",
       "212092  2015-09-01        Unknown\n",
       "\n",
       "[212093 rows x 2 columns]"
      ]
     },
     "execution_count": 131,
     "metadata": {},
     "output_type": "execute_result"
    }
   ],
   "source": [
    "data_breaches_info"
   ]
  },
  {
   "cell_type": "code",
   "execution_count": 132,
   "metadata": {},
   "outputs": [],
   "source": [
    "#filtering out nan values"
   ]
  },
  {
   "cell_type": "code",
   "execution_count": 133,
   "metadata": {},
   "outputs": [],
   "source": [
    "data_breaches_info = data_breaches_info.dropna()"
   ]
  },
  {
   "cell_type": "code",
   "execution_count": 134,
   "metadata": {},
   "outputs": [],
   "source": [
    "#only breaches data from 2020."
   ]
  },
  {
   "cell_type": "code",
   "execution_count": 135,
   "metadata": {},
   "outputs": [
    {
     "data": {
      "text/html": [
       "<div>\n",
       "<style scoped>\n",
       "    .dataframe tbody tr th:only-of-type {\n",
       "        vertical-align: middle;\n",
       "    }\n",
       "\n",
       "    .dataframe tbody tr th {\n",
       "        vertical-align: top;\n",
       "    }\n",
       "\n",
       "    .dataframe thead th {\n",
       "        text-align: right;\n",
       "    }\n",
       "</style>\n",
       "<table border=\"1\" class=\"dataframe\">\n",
       "  <thead>\n",
       "    <tr style=\"text-align: right;\">\n",
       "      <th></th>\n",
       "      <th>Date</th>\n",
       "      <th>Country</th>\n",
       "    </tr>\n",
       "  </thead>\n",
       "  <tbody>\n",
       "    <tr>\n",
       "      <td>3139</td>\n",
       "      <td>2000-10-01</td>\n",
       "      <td>BRAZIL</td>\n",
       "    </tr>\n",
       "    <tr>\n",
       "      <td>3140</td>\n",
       "      <td>2000-10-01</td>\n",
       "      <td>NICARAGUA</td>\n",
       "    </tr>\n",
       "    <tr>\n",
       "      <td>3141</td>\n",
       "      <td>2000-10-01</td>\n",
       "      <td>GERMANY</td>\n",
       "    </tr>\n",
       "    <tr>\n",
       "      <td>3143</td>\n",
       "      <td>2000-10-01</td>\n",
       "      <td>UNKNOWN</td>\n",
       "    </tr>\n",
       "    <tr>\n",
       "      <td>3144</td>\n",
       "      <td>2000-10-01</td>\n",
       "      <td>UNKNOWN</td>\n",
       "    </tr>\n",
       "    <tr>\n",
       "      <td>...</td>\n",
       "      <td>...</td>\n",
       "      <td>...</td>\n",
       "    </tr>\n",
       "    <tr>\n",
       "      <td>212088</td>\n",
       "      <td>2015-09-01</td>\n",
       "      <td>Unknown</td>\n",
       "    </tr>\n",
       "    <tr>\n",
       "      <td>212089</td>\n",
       "      <td>2015-09-01</td>\n",
       "      <td>Africa</td>\n",
       "    </tr>\n",
       "    <tr>\n",
       "      <td>212090</td>\n",
       "      <td>2015-09-01</td>\n",
       "      <td>Unknown</td>\n",
       "    </tr>\n",
       "    <tr>\n",
       "      <td>212091</td>\n",
       "      <td>2015-09-01</td>\n",
       "      <td>Unknown</td>\n",
       "    </tr>\n",
       "    <tr>\n",
       "      <td>212092</td>\n",
       "      <td>2015-09-01</td>\n",
       "      <td>Unknown</td>\n",
       "    </tr>\n",
       "  </tbody>\n",
       "</table>\n",
       "<p>152487 rows × 2 columns</p>\n",
       "</div>"
      ],
      "text/plain": [
       "              Date    Country\n",
       "3139    2000-10-01     BRAZIL\n",
       "3140    2000-10-01  NICARAGUA\n",
       "3141    2000-10-01    GERMANY\n",
       "3143    2000-10-01    UNKNOWN\n",
       "3144    2000-10-01    UNKNOWN\n",
       "...            ...        ...\n",
       "212088  2015-09-01    Unknown\n",
       "212089  2015-09-01     Africa\n",
       "212090  2015-09-01    Unknown\n",
       "212091  2015-09-01    Unknown\n",
       "212092  2015-09-01    Unknown\n",
       "\n",
       "[152487 rows x 2 columns]"
      ]
     },
     "execution_count": 135,
     "metadata": {},
     "output_type": "execute_result"
    }
   ],
   "source": [
    "data_breaches_info"
   ]
  },
  {
   "cell_type": "code",
   "execution_count": 136,
   "metadata": {},
   "outputs": [
    {
     "name": "stderr",
     "output_type": "stream",
     "text": [
      "C:\\Users\\admin\\Anaconda3\\lib\\site-packages\\ipykernel_launcher.py:1: SettingWithCopyWarning:\n",
      "\n",
      "\n",
      "A value is trying to be set on a copy of a slice from a DataFrame.\n",
      "Try using .loc[row_indexer,col_indexer] = value instead\n",
      "\n",
      "See the caveats in the documentation: http://pandas.pydata.org/pandas-docs/stable/user_guide/indexing.html#returning-a-view-versus-a-copy\n",
      "\n"
     ]
    }
   ],
   "source": [
    "data_breaches_info[\"Country\"] = data_breaches_info[\"Country\"].astype(str)"
   ]
  },
  {
   "cell_type": "code",
   "execution_count": 137,
   "metadata": {},
   "outputs": [],
   "source": [
    "data_breaches_per_country = pd.DataFrame(data_breaches_info[\"Country\"].value_counts().rename_axis('Country').reset_index(name='No. of Data Breaches'))"
   ]
  },
  {
   "cell_type": "code",
   "execution_count": 138,
   "metadata": {},
   "outputs": [
    {
     "data": {
      "text/html": [
       "<div>\n",
       "<style scoped>\n",
       "    .dataframe tbody tr th:only-of-type {\n",
       "        vertical-align: middle;\n",
       "    }\n",
       "\n",
       "    .dataframe tbody tr th {\n",
       "        vertical-align: top;\n",
       "    }\n",
       "\n",
       "    .dataframe thead th {\n",
       "        text-align: right;\n",
       "    }\n",
       "</style>\n",
       "<table border=\"1\" class=\"dataframe\">\n",
       "  <thead>\n",
       "    <tr style=\"text-align: right;\">\n",
       "      <th></th>\n",
       "      <th>Country</th>\n",
       "      <th>No. of Data Breaches</th>\n",
       "    </tr>\n",
       "  </thead>\n",
       "  <tbody>\n",
       "    <tr>\n",
       "      <td>0</td>\n",
       "      <td>United States</td>\n",
       "      <td>29928</td>\n",
       "    </tr>\n",
       "    <tr>\n",
       "      <td>1</td>\n",
       "      <td>UNITED STATES</td>\n",
       "      <td>28294</td>\n",
       "    </tr>\n",
       "    <tr>\n",
       "      <td>2</td>\n",
       "      <td>UNKNOWN</td>\n",
       "      <td>8555</td>\n",
       "    </tr>\n",
       "    <tr>\n",
       "      <td>3</td>\n",
       "      <td>Spain</td>\n",
       "      <td>5665</td>\n",
       "    </tr>\n",
       "    <tr>\n",
       "      <td>4</td>\n",
       "      <td>BRAZIL</td>\n",
       "      <td>5088</td>\n",
       "    </tr>\n",
       "    <tr>\n",
       "      <td>...</td>\n",
       "      <td>...</td>\n",
       "      <td>...</td>\n",
       "    </tr>\n",
       "    <tr>\n",
       "      <td>350</td>\n",
       "      <td>Nigeria\"</td>\n",
       "      <td>1</td>\n",
       "    </tr>\n",
       "    <tr>\n",
       "      <td>351</td>\n",
       "      <td>Tajikistan</td>\n",
       "      <td>1</td>\n",
       "    </tr>\n",
       "    <tr>\n",
       "      <td>352</td>\n",
       "      <td>Togo</td>\n",
       "      <td>1</td>\n",
       "    </tr>\n",
       "    <tr>\n",
       "      <td>353</td>\n",
       "      <td>ASIA/PACIFIC REGION</td>\n",
       "      <td>1</td>\n",
       "    </tr>\n",
       "    <tr>\n",
       "      <td>354</td>\n",
       "      <td>NORFOLKISLAND</td>\n",
       "      <td>1</td>\n",
       "    </tr>\n",
       "  </tbody>\n",
       "</table>\n",
       "<p>355 rows × 2 columns</p>\n",
       "</div>"
      ],
      "text/plain": [
       "                 Country  No. of Data Breaches\n",
       "0          United States                 29928\n",
       "1          UNITED STATES                 28294\n",
       "2                UNKNOWN                  8555\n",
       "3                  Spain                  5665\n",
       "4                 BRAZIL                  5088\n",
       "..                   ...                   ...\n",
       "350             Nigeria\"                     1\n",
       "351           Tajikistan                     1\n",
       "352                 Togo                     1\n",
       "353  ASIA/PACIFIC REGION                     1\n",
       "354        NORFOLKISLAND                     1\n",
       "\n",
       "[355 rows x 2 columns]"
      ]
     },
     "execution_count": 138,
     "metadata": {},
     "output_type": "execute_result"
    }
   ],
   "source": [
    "data_breaches_per_country"
   ]
  },
  {
   "cell_type": "code",
   "execution_count": 139,
   "metadata": {},
   "outputs": [],
   "source": [
    "\n",
    " #stackoverflow #https://stackoverflow.com/questions/28679930/how-to-drop-rows-from-pandas-data-frame-that-contains-a-particular-string-in-a-p"
   ]
  },
  {
   "cell_type": "markdown",
   "metadata": {},
   "source": [
    "Filtering out rows that have country as Unknown"
   ]
  },
  {
   "cell_type": "code",
   "execution_count": 140,
   "metadata": {},
   "outputs": [],
   "source": [
    "data_breaches_per_country = data_breaches_per_country[~data_breaches_per_country.Country.str.contains(\"UNKNOWN\")]"
   ]
  },
  {
   "cell_type": "code",
   "execution_count": 141,
   "metadata": {},
   "outputs": [],
   "source": [
    "data_breaches_per_country = data_breaches_per_country[~data_breaches_per_country.Country.str.contains(\"Unknown\")]"
   ]
  },
  {
   "cell_type": "code",
   "execution_count": 142,
   "metadata": {},
   "outputs": [
    {
     "data": {
      "text/html": [
       "<div>\n",
       "<style scoped>\n",
       "    .dataframe tbody tr th:only-of-type {\n",
       "        vertical-align: middle;\n",
       "    }\n",
       "\n",
       "    .dataframe tbody tr th {\n",
       "        vertical-align: top;\n",
       "    }\n",
       "\n",
       "    .dataframe thead th {\n",
       "        text-align: right;\n",
       "    }\n",
       "</style>\n",
       "<table border=\"1\" class=\"dataframe\">\n",
       "  <thead>\n",
       "    <tr style=\"text-align: right;\">\n",
       "      <th></th>\n",
       "      <th>Country</th>\n",
       "      <th>No. of Data Breaches</th>\n",
       "    </tr>\n",
       "  </thead>\n",
       "  <tbody>\n",
       "    <tr>\n",
       "      <td>0</td>\n",
       "      <td>United States</td>\n",
       "      <td>29928</td>\n",
       "    </tr>\n",
       "    <tr>\n",
       "      <td>1</td>\n",
       "      <td>UNITED STATES</td>\n",
       "      <td>28294</td>\n",
       "    </tr>\n",
       "    <tr>\n",
       "      <td>3</td>\n",
       "      <td>Spain</td>\n",
       "      <td>5665</td>\n",
       "    </tr>\n",
       "    <tr>\n",
       "      <td>4</td>\n",
       "      <td>BRAZIL</td>\n",
       "      <td>5088</td>\n",
       "    </tr>\n",
       "    <tr>\n",
       "      <td>5</td>\n",
       "      <td>Germany</td>\n",
       "      <td>4088</td>\n",
       "    </tr>\n",
       "    <tr>\n",
       "      <td>...</td>\n",
       "      <td>...</td>\n",
       "      <td>...</td>\n",
       "    </tr>\n",
       "    <tr>\n",
       "      <td>350</td>\n",
       "      <td>Nigeria\"</td>\n",
       "      <td>1</td>\n",
       "    </tr>\n",
       "    <tr>\n",
       "      <td>351</td>\n",
       "      <td>Tajikistan</td>\n",
       "      <td>1</td>\n",
       "    </tr>\n",
       "    <tr>\n",
       "      <td>352</td>\n",
       "      <td>Togo</td>\n",
       "      <td>1</td>\n",
       "    </tr>\n",
       "    <tr>\n",
       "      <td>353</td>\n",
       "      <td>ASIA/PACIFIC REGION</td>\n",
       "      <td>1</td>\n",
       "    </tr>\n",
       "    <tr>\n",
       "      <td>354</td>\n",
       "      <td>NORFOLKISLAND</td>\n",
       "      <td>1</td>\n",
       "    </tr>\n",
       "  </tbody>\n",
       "</table>\n",
       "<p>353 rows × 2 columns</p>\n",
       "</div>"
      ],
      "text/plain": [
       "                 Country  No. of Data Breaches\n",
       "0          United States                 29928\n",
       "1          UNITED STATES                 28294\n",
       "3                  Spain                  5665\n",
       "4                 BRAZIL                  5088\n",
       "5                Germany                  4088\n",
       "..                   ...                   ...\n",
       "350             Nigeria\"                     1\n",
       "351           Tajikistan                     1\n",
       "352                 Togo                     1\n",
       "353  ASIA/PACIFIC REGION                     1\n",
       "354        NORFOLKISLAND                     1\n",
       "\n",
       "[353 rows x 2 columns]"
      ]
     },
     "execution_count": 142,
     "metadata": {},
     "output_type": "execute_result"
    }
   ],
   "source": [
    "data_breaches_per_country"
   ]
  },
  {
   "cell_type": "code",
   "execution_count": 143,
   "metadata": {},
   "outputs": [],
   "source": [
    "#df.Geo.str.replace(\"[({':]\", \"\") #https://python-forum.io/Thread-Removing-characters-from-columns-in-data-frame\n",
    "# data_breaches_per_country[\"Country\"] = data_breaches_per_country.Country.str.replace(\"[b']\",\"\")"
   ]
  },
  {
   "cell_type": "code",
   "execution_count": 144,
   "metadata": {},
   "outputs": [
    {
     "data": {
      "text/html": [
       "<div>\n",
       "<style scoped>\n",
       "    .dataframe tbody tr th:only-of-type {\n",
       "        vertical-align: middle;\n",
       "    }\n",
       "\n",
       "    .dataframe tbody tr th {\n",
       "        vertical-align: top;\n",
       "    }\n",
       "\n",
       "    .dataframe thead th {\n",
       "        text-align: right;\n",
       "    }\n",
       "</style>\n",
       "<table border=\"1\" class=\"dataframe\">\n",
       "  <thead>\n",
       "    <tr style=\"text-align: right;\">\n",
       "      <th></th>\n",
       "      <th>Country</th>\n",
       "      <th>No. of Data Breaches</th>\n",
       "    </tr>\n",
       "  </thead>\n",
       "  <tbody>\n",
       "    <tr>\n",
       "      <td>0</td>\n",
       "      <td>United States</td>\n",
       "      <td>29928</td>\n",
       "    </tr>\n",
       "    <tr>\n",
       "      <td>1</td>\n",
       "      <td>UNITED STATES</td>\n",
       "      <td>28294</td>\n",
       "    </tr>\n",
       "    <tr>\n",
       "      <td>3</td>\n",
       "      <td>Spain</td>\n",
       "      <td>5665</td>\n",
       "    </tr>\n",
       "    <tr>\n",
       "      <td>4</td>\n",
       "      <td>BRAZIL</td>\n",
       "      <td>5088</td>\n",
       "    </tr>\n",
       "    <tr>\n",
       "      <td>5</td>\n",
       "      <td>Germany</td>\n",
       "      <td>4088</td>\n",
       "    </tr>\n",
       "    <tr>\n",
       "      <td>...</td>\n",
       "      <td>...</td>\n",
       "      <td>...</td>\n",
       "    </tr>\n",
       "    <tr>\n",
       "      <td>350</td>\n",
       "      <td>Nigeria\"</td>\n",
       "      <td>1</td>\n",
       "    </tr>\n",
       "    <tr>\n",
       "      <td>351</td>\n",
       "      <td>Tajikistan</td>\n",
       "      <td>1</td>\n",
       "    </tr>\n",
       "    <tr>\n",
       "      <td>352</td>\n",
       "      <td>Togo</td>\n",
       "      <td>1</td>\n",
       "    </tr>\n",
       "    <tr>\n",
       "      <td>353</td>\n",
       "      <td>ASIA/PACIFIC REGION</td>\n",
       "      <td>1</td>\n",
       "    </tr>\n",
       "    <tr>\n",
       "      <td>354</td>\n",
       "      <td>NORFOLKISLAND</td>\n",
       "      <td>1</td>\n",
       "    </tr>\n",
       "  </tbody>\n",
       "</table>\n",
       "<p>353 rows × 2 columns</p>\n",
       "</div>"
      ],
      "text/plain": [
       "                 Country  No. of Data Breaches\n",
       "0          United States                 29928\n",
       "1          UNITED STATES                 28294\n",
       "3                  Spain                  5665\n",
       "4                 BRAZIL                  5088\n",
       "5                Germany                  4088\n",
       "..                   ...                   ...\n",
       "350             Nigeria\"                     1\n",
       "351           Tajikistan                     1\n",
       "352                 Togo                     1\n",
       "353  ASIA/PACIFIC REGION                     1\n",
       "354        NORFOLKISLAND                     1\n",
       "\n",
       "[353 rows x 2 columns]"
      ]
     },
     "execution_count": 144,
     "metadata": {},
     "output_type": "execute_result"
    }
   ],
   "source": [
    "data_breaches_per_country"
   ]
  },
  {
   "cell_type": "markdown",
   "metadata": {},
   "source": [
    "# Convert the countries to lower case"
   ]
  },
  {
   "cell_type": "code",
   "execution_count": 145,
   "metadata": {},
   "outputs": [],
   "source": [
    "data_breaches_per_country[\"Country\"] = data_breaches_per_country[\"Country\"].str.capitalize()"
   ]
  },
  {
   "cell_type": "code",
   "execution_count": 146,
   "metadata": {},
   "outputs": [
    {
     "data": {
      "text/html": [
       "<div>\n",
       "<style scoped>\n",
       "    .dataframe tbody tr th:only-of-type {\n",
       "        vertical-align: middle;\n",
       "    }\n",
       "\n",
       "    .dataframe tbody tr th {\n",
       "        vertical-align: top;\n",
       "    }\n",
       "\n",
       "    .dataframe thead th {\n",
       "        text-align: right;\n",
       "    }\n",
       "</style>\n",
       "<table border=\"1\" class=\"dataframe\">\n",
       "  <thead>\n",
       "    <tr style=\"text-align: right;\">\n",
       "      <th></th>\n",
       "      <th>Country</th>\n",
       "      <th>No. of Data Breaches</th>\n",
       "    </tr>\n",
       "  </thead>\n",
       "  <tbody>\n",
       "    <tr>\n",
       "      <td>0</td>\n",
       "      <td>United states</td>\n",
       "      <td>29928</td>\n",
       "    </tr>\n",
       "    <tr>\n",
       "      <td>1</td>\n",
       "      <td>United states</td>\n",
       "      <td>28294</td>\n",
       "    </tr>\n",
       "    <tr>\n",
       "      <td>3</td>\n",
       "      <td>Spain</td>\n",
       "      <td>5665</td>\n",
       "    </tr>\n",
       "    <tr>\n",
       "      <td>4</td>\n",
       "      <td>Brazil</td>\n",
       "      <td>5088</td>\n",
       "    </tr>\n",
       "    <tr>\n",
       "      <td>5</td>\n",
       "      <td>Germany</td>\n",
       "      <td>4088</td>\n",
       "    </tr>\n",
       "    <tr>\n",
       "      <td>...</td>\n",
       "      <td>...</td>\n",
       "      <td>...</td>\n",
       "    </tr>\n",
       "    <tr>\n",
       "      <td>350</td>\n",
       "      <td>Nigeria\"</td>\n",
       "      <td>1</td>\n",
       "    </tr>\n",
       "    <tr>\n",
       "      <td>351</td>\n",
       "      <td>Tajikistan</td>\n",
       "      <td>1</td>\n",
       "    </tr>\n",
       "    <tr>\n",
       "      <td>352</td>\n",
       "      <td>Togo</td>\n",
       "      <td>1</td>\n",
       "    </tr>\n",
       "    <tr>\n",
       "      <td>353</td>\n",
       "      <td>Asia/pacific region</td>\n",
       "      <td>1</td>\n",
       "    </tr>\n",
       "    <tr>\n",
       "      <td>354</td>\n",
       "      <td>Norfolkisland</td>\n",
       "      <td>1</td>\n",
       "    </tr>\n",
       "  </tbody>\n",
       "</table>\n",
       "<p>353 rows × 2 columns</p>\n",
       "</div>"
      ],
      "text/plain": [
       "                 Country  No. of Data Breaches\n",
       "0          United states                 29928\n",
       "1          United states                 28294\n",
       "3                  Spain                  5665\n",
       "4                 Brazil                  5088\n",
       "5                Germany                  4088\n",
       "..                   ...                   ...\n",
       "350             Nigeria\"                     1\n",
       "351           Tajikistan                     1\n",
       "352                 Togo                     1\n",
       "353  Asia/pacific region                     1\n",
       "354        Norfolkisland                     1\n",
       "\n",
       "[353 rows x 2 columns]"
      ]
     },
     "execution_count": 146,
     "metadata": {},
     "output_type": "execute_result"
    }
   ],
   "source": [
    "data_breaches_per_country "
   ]
  },
  {
   "cell_type": "code",
   "execution_count": 147,
   "metadata": {},
   "outputs": [],
   "source": [
    "data_breaches_per_country = data_breaches_per_country.drop_duplicates(subset=\"Country\")"
   ]
  },
  {
   "cell_type": "code",
   "execution_count": 148,
   "metadata": {},
   "outputs": [
    {
     "data": {
      "text/html": [
       "<div>\n",
       "<style scoped>\n",
       "    .dataframe tbody tr th:only-of-type {\n",
       "        vertical-align: middle;\n",
       "    }\n",
       "\n",
       "    .dataframe tbody tr th {\n",
       "        vertical-align: top;\n",
       "    }\n",
       "\n",
       "    .dataframe thead th {\n",
       "        text-align: right;\n",
       "    }\n",
       "</style>\n",
       "<table border=\"1\" class=\"dataframe\">\n",
       "  <thead>\n",
       "    <tr style=\"text-align: right;\">\n",
       "      <th></th>\n",
       "      <th>Country</th>\n",
       "      <th>Average Internet usage over the years</th>\n",
       "    </tr>\n",
       "  </thead>\n",
       "  <tbody>\n",
       "    <tr>\n",
       "      <td>120</td>\n",
       "      <td>Afghanistan</td>\n",
       "      <td>5.594427</td>\n",
       "    </tr>\n",
       "    <tr>\n",
       "      <td>72</td>\n",
       "      <td>Albania</td>\n",
       "      <td>43.052488</td>\n",
       "    </tr>\n",
       "    <tr>\n",
       "      <td>59</td>\n",
       "      <td>Algeria</td>\n",
       "      <td>26.577447</td>\n",
       "    </tr>\n",
       "    <tr>\n",
       "      <td>136</td>\n",
       "      <td>Andorra</td>\n",
       "      <td>70.262466</td>\n",
       "    </tr>\n",
       "    <tr>\n",
       "      <td>137</td>\n",
       "      <td>Angola</td>\n",
       "      <td>6.589772</td>\n",
       "    </tr>\n",
       "    <tr>\n",
       "      <td>...</td>\n",
       "      <td>...</td>\n",
       "      <td>...</td>\n",
       "    </tr>\n",
       "    <tr>\n",
       "      <td>196</td>\n",
       "      <td>Venezuela (Bolivarian Republic of)</td>\n",
       "      <td>40.950243</td>\n",
       "    </tr>\n",
       "    <tr>\n",
       "      <td>49</td>\n",
       "      <td>Viet Nam</td>\n",
       "      <td>38.318528</td>\n",
       "    </tr>\n",
       "    <tr>\n",
       "      <td>197</td>\n",
       "      <td>Yemen</td>\n",
       "      <td>14.887779</td>\n",
       "    </tr>\n",
       "    <tr>\n",
       "      <td>70</td>\n",
       "      <td>Zambia</td>\n",
       "      <td>12.110691</td>\n",
       "    </tr>\n",
       "    <tr>\n",
       "      <td>135</td>\n",
       "      <td>Zimbabwe</td>\n",
       "      <td>12.216770</td>\n",
       "    </tr>\n",
       "  </tbody>\n",
       "</table>\n",
       "<p>198 rows × 2 columns</p>\n",
       "</div>"
      ],
      "text/plain": [
       "                                Country  Average Internet usage over the years\n",
       "120                         Afghanistan                               5.594427\n",
       "72                              Albania                              43.052488\n",
       "59                              Algeria                              26.577447\n",
       "136                             Andorra                              70.262466\n",
       "137                              Angola                               6.589772\n",
       "..                                  ...                                    ...\n",
       "196  Venezuela (Bolivarian Republic of)                              40.950243\n",
       "49                             Viet Nam                              38.318528\n",
       "197                               Yemen                              14.887779\n",
       "70                               Zambia                              12.110691\n",
       "135                            Zimbabwe                              12.216770\n",
       "\n",
       "[198 rows x 2 columns]"
      ]
     },
     "execution_count": 148,
     "metadata": {},
     "output_type": "execute_result"
    }
   ],
   "source": [
    "insights2"
   ]
  },
  {
   "cell_type": "code",
   "execution_count": 149,
   "metadata": {},
   "outputs": [],
   "source": [
    "data_breach_int_users = insights2.merge(data_breaches_per_country,left_on=\"Country\",right_on=\"Country\",how= \"left\")"
   ]
  },
  {
   "cell_type": "code",
   "execution_count": 150,
   "metadata": {},
   "outputs": [
    {
     "data": {
      "text/html": [
       "<div>\n",
       "<style scoped>\n",
       "    .dataframe tbody tr th:only-of-type {\n",
       "        vertical-align: middle;\n",
       "    }\n",
       "\n",
       "    .dataframe tbody tr th {\n",
       "        vertical-align: top;\n",
       "    }\n",
       "\n",
       "    .dataframe thead th {\n",
       "        text-align: right;\n",
       "    }\n",
       "</style>\n",
       "<table border=\"1\" class=\"dataframe\">\n",
       "  <thead>\n",
       "    <tr style=\"text-align: right;\">\n",
       "      <th></th>\n",
       "      <th>Country</th>\n",
       "      <th>Average Internet usage over the years</th>\n",
       "      <th>No. of Data Breaches</th>\n",
       "    </tr>\n",
       "  </thead>\n",
       "  <tbody>\n",
       "    <tr>\n",
       "      <td>0</td>\n",
       "      <td>Afghanistan</td>\n",
       "      <td>5.594427</td>\n",
       "      <td>1.0</td>\n",
       "    </tr>\n",
       "    <tr>\n",
       "      <td>1</td>\n",
       "      <td>Albania</td>\n",
       "      <td>43.052488</td>\n",
       "      <td>41.0</td>\n",
       "    </tr>\n",
       "    <tr>\n",
       "      <td>2</td>\n",
       "      <td>Algeria</td>\n",
       "      <td>26.577447</td>\n",
       "      <td>5.0</td>\n",
       "    </tr>\n",
       "    <tr>\n",
       "      <td>3</td>\n",
       "      <td>Andorra</td>\n",
       "      <td>70.262466</td>\n",
       "      <td>5.0</td>\n",
       "    </tr>\n",
       "    <tr>\n",
       "      <td>4</td>\n",
       "      <td>Angola</td>\n",
       "      <td>6.589772</td>\n",
       "      <td>NaN</td>\n",
       "    </tr>\n",
       "    <tr>\n",
       "      <td>...</td>\n",
       "      <td>...</td>\n",
       "      <td>...</td>\n",
       "      <td>...</td>\n",
       "    </tr>\n",
       "    <tr>\n",
       "      <td>193</td>\n",
       "      <td>Venezuela (Bolivarian Republic of)</td>\n",
       "      <td>40.950243</td>\n",
       "      <td>NaN</td>\n",
       "    </tr>\n",
       "    <tr>\n",
       "      <td>194</td>\n",
       "      <td>Viet Nam</td>\n",
       "      <td>38.318528</td>\n",
       "      <td>NaN</td>\n",
       "    </tr>\n",
       "    <tr>\n",
       "      <td>195</td>\n",
       "      <td>Yemen</td>\n",
       "      <td>14.887779</td>\n",
       "      <td>3.0</td>\n",
       "    </tr>\n",
       "    <tr>\n",
       "      <td>196</td>\n",
       "      <td>Zambia</td>\n",
       "      <td>12.110691</td>\n",
       "      <td>5.0</td>\n",
       "    </tr>\n",
       "    <tr>\n",
       "      <td>197</td>\n",
       "      <td>Zimbabwe</td>\n",
       "      <td>12.216770</td>\n",
       "      <td>8.0</td>\n",
       "    </tr>\n",
       "  </tbody>\n",
       "</table>\n",
       "<p>198 rows × 3 columns</p>\n",
       "</div>"
      ],
      "text/plain": [
       "                                Country  \\\n",
       "0                           Afghanistan   \n",
       "1                               Albania   \n",
       "2                               Algeria   \n",
       "3                               Andorra   \n",
       "4                                Angola   \n",
       "..                                  ...   \n",
       "193  Venezuela (Bolivarian Republic of)   \n",
       "194                            Viet Nam   \n",
       "195                               Yemen   \n",
       "196                              Zambia   \n",
       "197                            Zimbabwe   \n",
       "\n",
       "     Average Internet usage over the years  No. of Data Breaches  \n",
       "0                                 5.594427                   1.0  \n",
       "1                                43.052488                  41.0  \n",
       "2                                26.577447                   5.0  \n",
       "3                                70.262466                   5.0  \n",
       "4                                 6.589772                   NaN  \n",
       "..                                     ...                   ...  \n",
       "193                              40.950243                   NaN  \n",
       "194                              38.318528                   NaN  \n",
       "195                              14.887779                   3.0  \n",
       "196                              12.110691                   5.0  \n",
       "197                              12.216770                   8.0  \n",
       "\n",
       "[198 rows x 3 columns]"
      ]
     },
     "execution_count": 150,
     "metadata": {},
     "output_type": "execute_result"
    }
   ],
   "source": [
    "data_breach_int_users"
   ]
  },
  {
   "cell_type": "code",
   "execution_count": 151,
   "metadata": {},
   "outputs": [],
   "source": [
    "data_breach_int_users = data_breach_int_users.dropna()"
   ]
  },
  {
   "cell_type": "code",
   "execution_count": 152,
   "metadata": {},
   "outputs": [
    {
     "data": {
      "text/html": [
       "<div>\n",
       "<style scoped>\n",
       "    .dataframe tbody tr th:only-of-type {\n",
       "        vertical-align: middle;\n",
       "    }\n",
       "\n",
       "    .dataframe tbody tr th {\n",
       "        vertical-align: top;\n",
       "    }\n",
       "\n",
       "    .dataframe thead th {\n",
       "        text-align: right;\n",
       "    }\n",
       "</style>\n",
       "<table border=\"1\" class=\"dataframe\">\n",
       "  <thead>\n",
       "    <tr style=\"text-align: right;\">\n",
       "      <th></th>\n",
       "      <th>Country</th>\n",
       "      <th>Average Internet usage over the years</th>\n",
       "      <th>No. of Data Breaches</th>\n",
       "    </tr>\n",
       "  </thead>\n",
       "  <tbody>\n",
       "    <tr>\n",
       "      <td>0</td>\n",
       "      <td>Afghanistan</td>\n",
       "      <td>5.594427</td>\n",
       "      <td>1.0</td>\n",
       "    </tr>\n",
       "    <tr>\n",
       "      <td>1</td>\n",
       "      <td>Albania</td>\n",
       "      <td>43.052488</td>\n",
       "      <td>41.0</td>\n",
       "    </tr>\n",
       "    <tr>\n",
       "      <td>2</td>\n",
       "      <td>Algeria</td>\n",
       "      <td>26.577447</td>\n",
       "      <td>5.0</td>\n",
       "    </tr>\n",
       "    <tr>\n",
       "      <td>3</td>\n",
       "      <td>Andorra</td>\n",
       "      <td>70.262466</td>\n",
       "      <td>5.0</td>\n",
       "    </tr>\n",
       "    <tr>\n",
       "      <td>6</td>\n",
       "      <td>Argentina</td>\n",
       "      <td>46.769656</td>\n",
       "      <td>848.0</td>\n",
       "    </tr>\n",
       "    <tr>\n",
       "      <td>...</td>\n",
       "      <td>...</td>\n",
       "      <td>...</td>\n",
       "      <td>...</td>\n",
       "    </tr>\n",
       "    <tr>\n",
       "      <td>191</td>\n",
       "      <td>Uzbekistan</td>\n",
       "      <td>24.193113</td>\n",
       "      <td>8.0</td>\n",
       "    </tr>\n",
       "    <tr>\n",
       "      <td>192</td>\n",
       "      <td>Vanuatu</td>\n",
       "      <td>12.469078</td>\n",
       "      <td>4.0</td>\n",
       "    </tr>\n",
       "    <tr>\n",
       "      <td>195</td>\n",
       "      <td>Yemen</td>\n",
       "      <td>14.887779</td>\n",
       "      <td>3.0</td>\n",
       "    </tr>\n",
       "    <tr>\n",
       "      <td>196</td>\n",
       "      <td>Zambia</td>\n",
       "      <td>12.110691</td>\n",
       "      <td>5.0</td>\n",
       "    </tr>\n",
       "    <tr>\n",
       "      <td>197</td>\n",
       "      <td>Zimbabwe</td>\n",
       "      <td>12.216770</td>\n",
       "      <td>8.0</td>\n",
       "    </tr>\n",
       "  </tbody>\n",
       "</table>\n",
       "<p>131 rows × 3 columns</p>\n",
       "</div>"
      ],
      "text/plain": [
       "         Country  Average Internet usage over the years  No. of Data Breaches\n",
       "0    Afghanistan                               5.594427                   1.0\n",
       "1        Albania                              43.052488                  41.0\n",
       "2        Algeria                              26.577447                   5.0\n",
       "3        Andorra                              70.262466                   5.0\n",
       "6      Argentina                              46.769656                 848.0\n",
       "..           ...                                    ...                   ...\n",
       "191   Uzbekistan                              24.193113                   8.0\n",
       "192      Vanuatu                              12.469078                   4.0\n",
       "195        Yemen                              14.887779                   3.0\n",
       "196       Zambia                              12.110691                   5.0\n",
       "197     Zimbabwe                              12.216770                   8.0\n",
       "\n",
       "[131 rows x 3 columns]"
      ]
     },
     "execution_count": 152,
     "metadata": {},
     "output_type": "execute_result"
    }
   ],
   "source": [
    "data_breach_int_users"
   ]
  },
  {
   "cell_type": "code",
   "execution_count": 153,
   "metadata": {},
   "outputs": [
    {
     "data": {
      "application/vnd.plotly.v1+json": {
       "config": {
        "plotlyServerURL": "https://plot.ly"
       },
       "data": [
        {
         "hovertemplate": "No. of Data Breaches=%{x}<br>Average Internet usage over the years=%{y}<extra></extra>",
         "legendgroup": "",
         "marker": {
          "color": "#636efa",
          "symbol": "circle"
         },
         "mode": "markers",
         "name": "",
         "showlegend": false,
         "type": "scatter",
         "x": [
          1,
          41,
          5,
          5,
          848,
          19,
          1010,
          310,
          4,
          8,
          11,
          130,
          10,
          52,
          329,
          3,
          1,
          22,
          1,
          5088,
          149,
          2,
          1,
          3,
          1553,
          2473,
          2301,
          182,
          101,
          10,
          21,
          1599,
          52,
          112,
          6,
          213,
          3,
          5,
          78,
          3681,
          2,
          27,
          4088,
          2,
          542,
          20,
          1,
          31,
          33,
          603,
          28,
          531,
          2272,
          6,
          641,
          459,
          2115,
          9,
          953,
          25,
          103,
          22,
          13,
          13,
          44,
          15,
          6,
          221,
          39,
          4,
          15,
          403,
          2,
          1,
          9,
          3,
          6,
          765,
          7,
          3,
          12,
          22,
          128,
          20,
          5,
          1426,
          21,
          2,
          3,
          597,
          3,
          113,
          26,
          23,
          212,
          136,
          1050,
          212,
          7,
          476,
          17,
          10,
          22,
          82,
          4,
          381,
          328,
          536,
          4,
          5665,
          11,
          2,
          349,
          546,
          2,
          3,
          1430,
          1,
          17,
          83,
          1077,
          1,
          16,
          1,
          614,
          43,
          8,
          4,
          3,
          5,
          8
         ],
         "xaxis": "x",
         "y": [
          5.594426685297288,
          43.05248774117164,
          26.577446778483168,
          70.26246641752975,
          46.76965620496696,
          35.06995918569305,
          69.94026169908871,
          75.56315281508286,
          56.39801322081063,
          54.96983661951785,
          73.99640475804235,
          7.405697886244315,
          58.513986785141874,
          47.301730232253064,
          76.15054545377865,
          28.94656376601779,
          6.129421652181342,
          20.929737418313223,
          20.689546895943735,
          41.00511005555452,
          47.69785126515635,
          1.75401901309071,
          12.885721432852053,
          10.15961255770332,
          74.03090909090909,
          51.063729751649355,
          34.24538979046083,
          38.14700536745515,
          57.606160661350835,
          23.438990622495943,
          60.56207563729488,
          88.30582468167478,
          31.73941030180106,
          29.202532891201518,
          0.7005882506184542,
          76.03382806042829,
          5.920461314053615,
          27.569654494754733,
          82.33981088535499,
          70.8375934721078,
          25.95958712532986,
          38.084307936557586,
          78.25417931072151,
          15.324413712606543,
          53.34177900374676,
          19.693418231947412,
          4.8761526458730025,
          11.364318606226908,
          16.18125963626534,
          63.88961633922849,
          91.30070822466965,
          12.965060760344018,
          17.620994089873815,
          15.136363535454548,
          70.90928072625974,
          57.91783390414793,
          53.912649855804936,
          30.361570105303098,
          70.89339976529835,
          35.587547014230175,
          52.52631646753314,
          10.039537497505517,
          66.76399555635406,
          20.15656775095957,
          67.0370281864885,
          49.71030039503853,
          76.01267136626718,
          61.755674460062615,
          85.71586981594385,
          2.913795598431704,
          4.716730424620625,
          62.27558208681162,
          34.42307172759476,
          4.781072307278212,
          64.73703629046764,
          7.75109893541522,
          38.40035625382354,
          42.2467320112896,
          42.973421443185515,
          73.51583148429559,
          13.316192235586493,
          50.831921564433515,
          47.63809865270177,
          6.947179450090141,
          16.241580359094375,
          86.87744135978693,
          12.989612102778066,
          2.519095962390164,
          17.162112411446756,
          90.34828396941448,
          47.38752991272483,
          8.91707053257344,
          35.741928730648,
          35.604689197812355,
          36.01261047658745,
          31.53352485892228,
          59.72267541213726,
          57.68224648890957,
          72.61257817009086,
          45.861265429333436,
          9.364578138425099,
          14.524650349476802,
          14.841401782760874,
          49.917350553989245,
          39.56797645718501,
          73.36469931065878,
          69.9759955324702,
          65.37349419251974,
          1.1361887761410836,
          67.45367012811904,
          15.945283761723408,
          29.251790826929618,
          87.42582894433586,
          73.77571992621391,
          12.212480874402727,
          7.333381312737115,
          31.964133989428145,
          4.91729317909091,
          24.263689358179615,
          40.38082201278533,
          44.75886248828977,
          8.396766857572139,
          28.133557246995647,
          12.485183976084812,
          30.882585327477113,
          45.571466063440965,
          24.193113175099334,
          12.469078465185122,
          14.887779174601034,
          12.110690895124083,
          12.216769847489571
         ],
         "yaxis": "y"
        }
       ],
       "layout": {
        "legend": {
         "tracegroupgap": 0
        },
        "margin": {
         "t": 60
        },
        "template": {
         "data": {
          "bar": [
           {
            "error_x": {
             "color": "#2a3f5f"
            },
            "error_y": {
             "color": "#2a3f5f"
            },
            "marker": {
             "line": {
              "color": "#E5ECF6",
              "width": 0.5
             }
            },
            "type": "bar"
           }
          ],
          "barpolar": [
           {
            "marker": {
             "line": {
              "color": "#E5ECF6",
              "width": 0.5
             }
            },
            "type": "barpolar"
           }
          ],
          "carpet": [
           {
            "aaxis": {
             "endlinecolor": "#2a3f5f",
             "gridcolor": "white",
             "linecolor": "white",
             "minorgridcolor": "white",
             "startlinecolor": "#2a3f5f"
            },
            "baxis": {
             "endlinecolor": "#2a3f5f",
             "gridcolor": "white",
             "linecolor": "white",
             "minorgridcolor": "white",
             "startlinecolor": "#2a3f5f"
            },
            "type": "carpet"
           }
          ],
          "choropleth": [
           {
            "colorbar": {
             "outlinewidth": 0,
             "ticks": ""
            },
            "type": "choropleth"
           }
          ],
          "contour": [
           {
            "colorbar": {
             "outlinewidth": 0,
             "ticks": ""
            },
            "colorscale": [
             [
              0,
              "#0d0887"
             ],
             [
              0.1111111111111111,
              "#46039f"
             ],
             [
              0.2222222222222222,
              "#7201a8"
             ],
             [
              0.3333333333333333,
              "#9c179e"
             ],
             [
              0.4444444444444444,
              "#bd3786"
             ],
             [
              0.5555555555555556,
              "#d8576b"
             ],
             [
              0.6666666666666666,
              "#ed7953"
             ],
             [
              0.7777777777777778,
              "#fb9f3a"
             ],
             [
              0.8888888888888888,
              "#fdca26"
             ],
             [
              1,
              "#f0f921"
             ]
            ],
            "type": "contour"
           }
          ],
          "contourcarpet": [
           {
            "colorbar": {
             "outlinewidth": 0,
             "ticks": ""
            },
            "type": "contourcarpet"
           }
          ],
          "heatmap": [
           {
            "colorbar": {
             "outlinewidth": 0,
             "ticks": ""
            },
            "colorscale": [
             [
              0,
              "#0d0887"
             ],
             [
              0.1111111111111111,
              "#46039f"
             ],
             [
              0.2222222222222222,
              "#7201a8"
             ],
             [
              0.3333333333333333,
              "#9c179e"
             ],
             [
              0.4444444444444444,
              "#bd3786"
             ],
             [
              0.5555555555555556,
              "#d8576b"
             ],
             [
              0.6666666666666666,
              "#ed7953"
             ],
             [
              0.7777777777777778,
              "#fb9f3a"
             ],
             [
              0.8888888888888888,
              "#fdca26"
             ],
             [
              1,
              "#f0f921"
             ]
            ],
            "type": "heatmap"
           }
          ],
          "heatmapgl": [
           {
            "colorbar": {
             "outlinewidth": 0,
             "ticks": ""
            },
            "colorscale": [
             [
              0,
              "#0d0887"
             ],
             [
              0.1111111111111111,
              "#46039f"
             ],
             [
              0.2222222222222222,
              "#7201a8"
             ],
             [
              0.3333333333333333,
              "#9c179e"
             ],
             [
              0.4444444444444444,
              "#bd3786"
             ],
             [
              0.5555555555555556,
              "#d8576b"
             ],
             [
              0.6666666666666666,
              "#ed7953"
             ],
             [
              0.7777777777777778,
              "#fb9f3a"
             ],
             [
              0.8888888888888888,
              "#fdca26"
             ],
             [
              1,
              "#f0f921"
             ]
            ],
            "type": "heatmapgl"
           }
          ],
          "histogram": [
           {
            "marker": {
             "colorbar": {
              "outlinewidth": 0,
              "ticks": ""
             }
            },
            "type": "histogram"
           }
          ],
          "histogram2d": [
           {
            "colorbar": {
             "outlinewidth": 0,
             "ticks": ""
            },
            "colorscale": [
             [
              0,
              "#0d0887"
             ],
             [
              0.1111111111111111,
              "#46039f"
             ],
             [
              0.2222222222222222,
              "#7201a8"
             ],
             [
              0.3333333333333333,
              "#9c179e"
             ],
             [
              0.4444444444444444,
              "#bd3786"
             ],
             [
              0.5555555555555556,
              "#d8576b"
             ],
             [
              0.6666666666666666,
              "#ed7953"
             ],
             [
              0.7777777777777778,
              "#fb9f3a"
             ],
             [
              0.8888888888888888,
              "#fdca26"
             ],
             [
              1,
              "#f0f921"
             ]
            ],
            "type": "histogram2d"
           }
          ],
          "histogram2dcontour": [
           {
            "colorbar": {
             "outlinewidth": 0,
             "ticks": ""
            },
            "colorscale": [
             [
              0,
              "#0d0887"
             ],
             [
              0.1111111111111111,
              "#46039f"
             ],
             [
              0.2222222222222222,
              "#7201a8"
             ],
             [
              0.3333333333333333,
              "#9c179e"
             ],
             [
              0.4444444444444444,
              "#bd3786"
             ],
             [
              0.5555555555555556,
              "#d8576b"
             ],
             [
              0.6666666666666666,
              "#ed7953"
             ],
             [
              0.7777777777777778,
              "#fb9f3a"
             ],
             [
              0.8888888888888888,
              "#fdca26"
             ],
             [
              1,
              "#f0f921"
             ]
            ],
            "type": "histogram2dcontour"
           }
          ],
          "mesh3d": [
           {
            "colorbar": {
             "outlinewidth": 0,
             "ticks": ""
            },
            "type": "mesh3d"
           }
          ],
          "parcoords": [
           {
            "line": {
             "colorbar": {
              "outlinewidth": 0,
              "ticks": ""
             }
            },
            "type": "parcoords"
           }
          ],
          "pie": [
           {
            "automargin": true,
            "type": "pie"
           }
          ],
          "scatter": [
           {
            "marker": {
             "colorbar": {
              "outlinewidth": 0,
              "ticks": ""
             }
            },
            "type": "scatter"
           }
          ],
          "scatter3d": [
           {
            "line": {
             "colorbar": {
              "outlinewidth": 0,
              "ticks": ""
             }
            },
            "marker": {
             "colorbar": {
              "outlinewidth": 0,
              "ticks": ""
             }
            },
            "type": "scatter3d"
           }
          ],
          "scattercarpet": [
           {
            "marker": {
             "colorbar": {
              "outlinewidth": 0,
              "ticks": ""
             }
            },
            "type": "scattercarpet"
           }
          ],
          "scattergeo": [
           {
            "marker": {
             "colorbar": {
              "outlinewidth": 0,
              "ticks": ""
             }
            },
            "type": "scattergeo"
           }
          ],
          "scattergl": [
           {
            "marker": {
             "colorbar": {
              "outlinewidth": 0,
              "ticks": ""
             }
            },
            "type": "scattergl"
           }
          ],
          "scattermapbox": [
           {
            "marker": {
             "colorbar": {
              "outlinewidth": 0,
              "ticks": ""
             }
            },
            "type": "scattermapbox"
           }
          ],
          "scatterpolar": [
           {
            "marker": {
             "colorbar": {
              "outlinewidth": 0,
              "ticks": ""
             }
            },
            "type": "scatterpolar"
           }
          ],
          "scatterpolargl": [
           {
            "marker": {
             "colorbar": {
              "outlinewidth": 0,
              "ticks": ""
             }
            },
            "type": "scatterpolargl"
           }
          ],
          "scatterternary": [
           {
            "marker": {
             "colorbar": {
              "outlinewidth": 0,
              "ticks": ""
             }
            },
            "type": "scatterternary"
           }
          ],
          "surface": [
           {
            "colorbar": {
             "outlinewidth": 0,
             "ticks": ""
            },
            "colorscale": [
             [
              0,
              "#0d0887"
             ],
             [
              0.1111111111111111,
              "#46039f"
             ],
             [
              0.2222222222222222,
              "#7201a8"
             ],
             [
              0.3333333333333333,
              "#9c179e"
             ],
             [
              0.4444444444444444,
              "#bd3786"
             ],
             [
              0.5555555555555556,
              "#d8576b"
             ],
             [
              0.6666666666666666,
              "#ed7953"
             ],
             [
              0.7777777777777778,
              "#fb9f3a"
             ],
             [
              0.8888888888888888,
              "#fdca26"
             ],
             [
              1,
              "#f0f921"
             ]
            ],
            "type": "surface"
           }
          ],
          "table": [
           {
            "cells": {
             "fill": {
              "color": "#EBF0F8"
             },
             "line": {
              "color": "white"
             }
            },
            "header": {
             "fill": {
              "color": "#C8D4E3"
             },
             "line": {
              "color": "white"
             }
            },
            "type": "table"
           }
          ]
         },
         "layout": {
          "annotationdefaults": {
           "arrowcolor": "#2a3f5f",
           "arrowhead": 0,
           "arrowwidth": 1
          },
          "coloraxis": {
           "colorbar": {
            "outlinewidth": 0,
            "ticks": ""
           }
          },
          "colorscale": {
           "diverging": [
            [
             0,
             "#8e0152"
            ],
            [
             0.1,
             "#c51b7d"
            ],
            [
             0.2,
             "#de77ae"
            ],
            [
             0.3,
             "#f1b6da"
            ],
            [
             0.4,
             "#fde0ef"
            ],
            [
             0.5,
             "#f7f7f7"
            ],
            [
             0.6,
             "#e6f5d0"
            ],
            [
             0.7,
             "#b8e186"
            ],
            [
             0.8,
             "#7fbc41"
            ],
            [
             0.9,
             "#4d9221"
            ],
            [
             1,
             "#276419"
            ]
           ],
           "sequential": [
            [
             0,
             "#0d0887"
            ],
            [
             0.1111111111111111,
             "#46039f"
            ],
            [
             0.2222222222222222,
             "#7201a8"
            ],
            [
             0.3333333333333333,
             "#9c179e"
            ],
            [
             0.4444444444444444,
             "#bd3786"
            ],
            [
             0.5555555555555556,
             "#d8576b"
            ],
            [
             0.6666666666666666,
             "#ed7953"
            ],
            [
             0.7777777777777778,
             "#fb9f3a"
            ],
            [
             0.8888888888888888,
             "#fdca26"
            ],
            [
             1,
             "#f0f921"
            ]
           ],
           "sequentialminus": [
            [
             0,
             "#0d0887"
            ],
            [
             0.1111111111111111,
             "#46039f"
            ],
            [
             0.2222222222222222,
             "#7201a8"
            ],
            [
             0.3333333333333333,
             "#9c179e"
            ],
            [
             0.4444444444444444,
             "#bd3786"
            ],
            [
             0.5555555555555556,
             "#d8576b"
            ],
            [
             0.6666666666666666,
             "#ed7953"
            ],
            [
             0.7777777777777778,
             "#fb9f3a"
            ],
            [
             0.8888888888888888,
             "#fdca26"
            ],
            [
             1,
             "#f0f921"
            ]
           ]
          },
          "colorway": [
           "#636efa",
           "#EF553B",
           "#00cc96",
           "#ab63fa",
           "#FFA15A",
           "#19d3f3",
           "#FF6692",
           "#B6E880",
           "#FF97FF",
           "#FECB52"
          ],
          "font": {
           "color": "#2a3f5f"
          },
          "geo": {
           "bgcolor": "white",
           "lakecolor": "white",
           "landcolor": "#E5ECF6",
           "showlakes": true,
           "showland": true,
           "subunitcolor": "white"
          },
          "hoverlabel": {
           "align": "left"
          },
          "hovermode": "closest",
          "mapbox": {
           "style": "light"
          },
          "paper_bgcolor": "white",
          "plot_bgcolor": "#E5ECF6",
          "polar": {
           "angularaxis": {
            "gridcolor": "white",
            "linecolor": "white",
            "ticks": ""
           },
           "bgcolor": "#E5ECF6",
           "radialaxis": {
            "gridcolor": "white",
            "linecolor": "white",
            "ticks": ""
           }
          },
          "scene": {
           "xaxis": {
            "backgroundcolor": "#E5ECF6",
            "gridcolor": "white",
            "gridwidth": 2,
            "linecolor": "white",
            "showbackground": true,
            "ticks": "",
            "zerolinecolor": "white"
           },
           "yaxis": {
            "backgroundcolor": "#E5ECF6",
            "gridcolor": "white",
            "gridwidth": 2,
            "linecolor": "white",
            "showbackground": true,
            "ticks": "",
            "zerolinecolor": "white"
           },
           "zaxis": {
            "backgroundcolor": "#E5ECF6",
            "gridcolor": "white",
            "gridwidth": 2,
            "linecolor": "white",
            "showbackground": true,
            "ticks": "",
            "zerolinecolor": "white"
           }
          },
          "shapedefaults": {
           "line": {
            "color": "#2a3f5f"
           }
          },
          "ternary": {
           "aaxis": {
            "gridcolor": "white",
            "linecolor": "white",
            "ticks": ""
           },
           "baxis": {
            "gridcolor": "white",
            "linecolor": "white",
            "ticks": ""
           },
           "bgcolor": "#E5ECF6",
           "caxis": {
            "gridcolor": "white",
            "linecolor": "white",
            "ticks": ""
           }
          },
          "title": {
           "x": 0.05
          },
          "xaxis": {
           "automargin": true,
           "gridcolor": "white",
           "linecolor": "white",
           "ticks": "",
           "title": {
            "standoff": 15
           },
           "zerolinecolor": "white",
           "zerolinewidth": 2
          },
          "yaxis": {
           "automargin": true,
           "gridcolor": "white",
           "linecolor": "white",
           "ticks": "",
           "title": {
            "standoff": 15
           },
           "zerolinecolor": "white",
           "zerolinewidth": 2
          }
         }
        },
        "xaxis": {
         "anchor": "y",
         "domain": [
          0,
          1
         ],
         "title": {
          "text": "No. of Data Breaches"
         }
        },
        "yaxis": {
         "anchor": "x",
         "domain": [
          0,
          1
         ],
         "title": {
          "text": "Average Internet usage over the years"
         }
        }
       }
      },
      "text/html": [
       "<div>\n",
       "        \n",
       "        \n",
       "            <div id=\"1a86cd55-96c2-498c-a0e1-2f094653a0cb\" class=\"plotly-graph-div\" style=\"height:525px; width:100%;\"></div>\n",
       "            <script type=\"text/javascript\">\n",
       "                require([\"plotly\"], function(Plotly) {\n",
       "                    window.PLOTLYENV=window.PLOTLYENV || {};\n",
       "                    \n",
       "                if (document.getElementById(\"1a86cd55-96c2-498c-a0e1-2f094653a0cb\")) {\n",
       "                    Plotly.newPlot(\n",
       "                        '1a86cd55-96c2-498c-a0e1-2f094653a0cb',\n",
       "                        [{\"hovertemplate\": \"No. of Data Breaches=%{x}<br>Average Internet usage over the years=%{y}<extra></extra>\", \"legendgroup\": \"\", \"marker\": {\"color\": \"#636efa\", \"symbol\": \"circle\"}, \"mode\": \"markers\", \"name\": \"\", \"showlegend\": false, \"type\": \"scatter\", \"x\": [1.0, 41.0, 5.0, 5.0, 848.0, 19.0, 1010.0, 310.0, 4.0, 8.0, 11.0, 130.0, 10.0, 52.0, 329.0, 3.0, 1.0, 22.0, 1.0, 5088.0, 149.0, 2.0, 1.0, 3.0, 1553.0, 2473.0, 2301.0, 182.0, 101.0, 10.0, 21.0, 1599.0, 52.0, 112.0, 6.0, 213.0, 3.0, 5.0, 78.0, 3681.0, 2.0, 27.0, 4088.0, 2.0, 542.0, 20.0, 1.0, 31.0, 33.0, 603.0, 28.0, 531.0, 2272.0, 6.0, 641.0, 459.0, 2115.0, 9.0, 953.0, 25.0, 103.0, 22.0, 13.0, 13.0, 44.0, 15.0, 6.0, 221.0, 39.0, 4.0, 15.0, 403.0, 2.0, 1.0, 9.0, 3.0, 6.0, 765.0, 7.0, 3.0, 12.0, 22.0, 128.0, 20.0, 5.0, 1426.0, 21.0, 2.0, 3.0, 597.0, 3.0, 113.0, 26.0, 23.0, 212.0, 136.0, 1050.0, 212.0, 7.0, 476.0, 17.0, 10.0, 22.0, 82.0, 4.0, 381.0, 328.0, 536.0, 4.0, 5665.0, 11.0, 2.0, 349.0, 546.0, 2.0, 3.0, 1430.0, 1.0, 17.0, 83.0, 1077.0, 1.0, 16.0, 1.0, 614.0, 43.0, 8.0, 4.0, 3.0, 5.0, 8.0], \"xaxis\": \"x\", \"y\": [5.594426685297288, 43.05248774117164, 26.577446778483168, 70.26246641752975, 46.76965620496696, 35.06995918569305, 69.94026169908871, 75.56315281508286, 56.39801322081063, 54.96983661951785, 73.99640475804235, 7.405697886244315, 58.513986785141874, 47.301730232253064, 76.15054545377865, 28.94656376601779, 6.129421652181342, 20.929737418313223, 20.689546895943735, 41.00511005555452, 47.69785126515635, 1.75401901309071, 12.885721432852053, 10.15961255770332, 74.03090909090909, 51.063729751649355, 34.24538979046083, 38.14700536745515, 57.606160661350835, 23.438990622495943, 60.56207563729488, 88.30582468167478, 31.73941030180106, 29.202532891201518, 0.7005882506184542, 76.03382806042829, 5.920461314053615, 27.569654494754733, 82.33981088535499, 70.8375934721078, 25.95958712532986, 38.084307936557586, 78.25417931072151, 15.324413712606543, 53.34177900374676, 19.693418231947412, 4.8761526458730025, 11.364318606226908, 16.18125963626534, 63.88961633922849, 91.30070822466965, 12.965060760344018, 17.620994089873815, 15.136363535454548, 70.90928072625974, 57.91783390414793, 53.912649855804936, 30.361570105303098, 70.89339976529835, 35.587547014230175, 52.52631646753314, 10.039537497505517, 66.76399555635406, 20.15656775095957, 67.0370281864885, 49.71030039503853, 76.01267136626718, 61.755674460062615, 85.71586981594385, 2.913795598431704, 4.716730424620625, 62.27558208681162, 34.42307172759476, 4.781072307278212, 64.73703629046764, 7.75109893541522, 38.40035625382354, 42.2467320112896, 42.973421443185515, 73.51583148429559, 13.316192235586493, 50.831921564433515, 47.63809865270177, 6.947179450090141, 16.241580359094375, 86.87744135978693, 12.989612102778066, 2.519095962390164, 17.162112411446756, 90.34828396941448, 47.38752991272483, 8.91707053257344, 35.741928730648, 35.604689197812355, 36.01261047658745, 31.53352485892228, 59.72267541213726, 57.68224648890957, 72.61257817009086, 45.861265429333436, 9.364578138425099, 14.524650349476802, 14.841401782760874, 49.917350553989245, 39.56797645718501, 73.36469931065878, 69.9759955324702, 65.37349419251974, 1.1361887761410836, 67.45367012811904, 15.945283761723408, 29.251790826929618, 87.42582894433586, 73.77571992621391, 12.212480874402727, 7.333381312737115, 31.964133989428145, 4.91729317909091, 24.263689358179615, 40.38082201278533, 44.75886248828977, 8.396766857572139, 28.133557246995647, 12.485183976084812, 30.882585327477113, 45.571466063440965, 24.193113175099334, 12.469078465185122, 14.887779174601034, 12.110690895124083, 12.216769847489571], \"yaxis\": \"y\"}],\n",
       "                        {\"legend\": {\"tracegroupgap\": 0}, \"margin\": {\"t\": 60}, \"template\": {\"data\": {\"bar\": [{\"error_x\": {\"color\": \"#2a3f5f\"}, \"error_y\": {\"color\": \"#2a3f5f\"}, \"marker\": {\"line\": {\"color\": \"#E5ECF6\", \"width\": 0.5}}, \"type\": \"bar\"}], \"barpolar\": [{\"marker\": {\"line\": {\"color\": \"#E5ECF6\", \"width\": 0.5}}, \"type\": \"barpolar\"}], \"carpet\": [{\"aaxis\": {\"endlinecolor\": \"#2a3f5f\", \"gridcolor\": \"white\", \"linecolor\": \"white\", \"minorgridcolor\": \"white\", \"startlinecolor\": \"#2a3f5f\"}, \"baxis\": {\"endlinecolor\": \"#2a3f5f\", \"gridcolor\": \"white\", \"linecolor\": \"white\", \"minorgridcolor\": \"white\", \"startlinecolor\": \"#2a3f5f\"}, \"type\": \"carpet\"}], \"choropleth\": [{\"colorbar\": {\"outlinewidth\": 0, \"ticks\": \"\"}, \"type\": \"choropleth\"}], \"contour\": [{\"colorbar\": {\"outlinewidth\": 0, \"ticks\": \"\"}, \"colorscale\": [[0.0, \"#0d0887\"], [0.1111111111111111, \"#46039f\"], [0.2222222222222222, \"#7201a8\"], [0.3333333333333333, \"#9c179e\"], [0.4444444444444444, \"#bd3786\"], [0.5555555555555556, \"#d8576b\"], [0.6666666666666666, \"#ed7953\"], [0.7777777777777778, \"#fb9f3a\"], [0.8888888888888888, \"#fdca26\"], [1.0, \"#f0f921\"]], \"type\": \"contour\"}], \"contourcarpet\": [{\"colorbar\": {\"outlinewidth\": 0, \"ticks\": \"\"}, \"type\": \"contourcarpet\"}], \"heatmap\": [{\"colorbar\": {\"outlinewidth\": 0, \"ticks\": \"\"}, \"colorscale\": [[0.0, \"#0d0887\"], [0.1111111111111111, \"#46039f\"], [0.2222222222222222, \"#7201a8\"], [0.3333333333333333, \"#9c179e\"], [0.4444444444444444, \"#bd3786\"], [0.5555555555555556, \"#d8576b\"], [0.6666666666666666, \"#ed7953\"], [0.7777777777777778, \"#fb9f3a\"], [0.8888888888888888, \"#fdca26\"], [1.0, \"#f0f921\"]], \"type\": \"heatmap\"}], \"heatmapgl\": [{\"colorbar\": {\"outlinewidth\": 0, \"ticks\": \"\"}, \"colorscale\": [[0.0, \"#0d0887\"], [0.1111111111111111, \"#46039f\"], [0.2222222222222222, \"#7201a8\"], [0.3333333333333333, \"#9c179e\"], [0.4444444444444444, \"#bd3786\"], [0.5555555555555556, \"#d8576b\"], [0.6666666666666666, \"#ed7953\"], [0.7777777777777778, \"#fb9f3a\"], [0.8888888888888888, \"#fdca26\"], [1.0, \"#f0f921\"]], \"type\": \"heatmapgl\"}], \"histogram\": [{\"marker\": {\"colorbar\": {\"outlinewidth\": 0, \"ticks\": \"\"}}, \"type\": \"histogram\"}], \"histogram2d\": [{\"colorbar\": {\"outlinewidth\": 0, \"ticks\": \"\"}, \"colorscale\": [[0.0, \"#0d0887\"], [0.1111111111111111, \"#46039f\"], [0.2222222222222222, \"#7201a8\"], [0.3333333333333333, \"#9c179e\"], [0.4444444444444444, \"#bd3786\"], [0.5555555555555556, \"#d8576b\"], [0.6666666666666666, \"#ed7953\"], [0.7777777777777778, \"#fb9f3a\"], [0.8888888888888888, \"#fdca26\"], [1.0, \"#f0f921\"]], \"type\": \"histogram2d\"}], \"histogram2dcontour\": [{\"colorbar\": {\"outlinewidth\": 0, \"ticks\": \"\"}, \"colorscale\": [[0.0, \"#0d0887\"], [0.1111111111111111, \"#46039f\"], [0.2222222222222222, \"#7201a8\"], [0.3333333333333333, \"#9c179e\"], [0.4444444444444444, \"#bd3786\"], [0.5555555555555556, \"#d8576b\"], [0.6666666666666666, \"#ed7953\"], [0.7777777777777778, \"#fb9f3a\"], [0.8888888888888888, \"#fdca26\"], [1.0, \"#f0f921\"]], \"type\": \"histogram2dcontour\"}], \"mesh3d\": [{\"colorbar\": {\"outlinewidth\": 0, \"ticks\": \"\"}, \"type\": \"mesh3d\"}], \"parcoords\": [{\"line\": {\"colorbar\": {\"outlinewidth\": 0, \"ticks\": \"\"}}, \"type\": \"parcoords\"}], \"pie\": [{\"automargin\": true, \"type\": \"pie\"}], \"scatter\": [{\"marker\": {\"colorbar\": {\"outlinewidth\": 0, \"ticks\": \"\"}}, \"type\": \"scatter\"}], \"scatter3d\": [{\"line\": {\"colorbar\": {\"outlinewidth\": 0, \"ticks\": \"\"}}, \"marker\": {\"colorbar\": {\"outlinewidth\": 0, \"ticks\": \"\"}}, \"type\": \"scatter3d\"}], \"scattercarpet\": [{\"marker\": {\"colorbar\": {\"outlinewidth\": 0, \"ticks\": \"\"}}, \"type\": \"scattercarpet\"}], \"scattergeo\": [{\"marker\": {\"colorbar\": {\"outlinewidth\": 0, \"ticks\": \"\"}}, \"type\": \"scattergeo\"}], \"scattergl\": [{\"marker\": {\"colorbar\": {\"outlinewidth\": 0, \"ticks\": \"\"}}, \"type\": \"scattergl\"}], \"scattermapbox\": [{\"marker\": {\"colorbar\": {\"outlinewidth\": 0, \"ticks\": \"\"}}, \"type\": \"scattermapbox\"}], \"scatterpolar\": [{\"marker\": {\"colorbar\": {\"outlinewidth\": 0, \"ticks\": \"\"}}, \"type\": \"scatterpolar\"}], \"scatterpolargl\": [{\"marker\": {\"colorbar\": {\"outlinewidth\": 0, \"ticks\": \"\"}}, \"type\": \"scatterpolargl\"}], \"scatterternary\": [{\"marker\": {\"colorbar\": {\"outlinewidth\": 0, \"ticks\": \"\"}}, \"type\": \"scatterternary\"}], \"surface\": [{\"colorbar\": {\"outlinewidth\": 0, \"ticks\": \"\"}, \"colorscale\": [[0.0, \"#0d0887\"], [0.1111111111111111, \"#46039f\"], [0.2222222222222222, \"#7201a8\"], [0.3333333333333333, \"#9c179e\"], [0.4444444444444444, \"#bd3786\"], [0.5555555555555556, \"#d8576b\"], [0.6666666666666666, \"#ed7953\"], [0.7777777777777778, \"#fb9f3a\"], [0.8888888888888888, \"#fdca26\"], [1.0, \"#f0f921\"]], \"type\": \"surface\"}], \"table\": [{\"cells\": {\"fill\": {\"color\": \"#EBF0F8\"}, \"line\": {\"color\": \"white\"}}, \"header\": {\"fill\": {\"color\": \"#C8D4E3\"}, \"line\": {\"color\": \"white\"}}, \"type\": \"table\"}]}, \"layout\": {\"annotationdefaults\": {\"arrowcolor\": \"#2a3f5f\", \"arrowhead\": 0, \"arrowwidth\": 1}, \"coloraxis\": {\"colorbar\": {\"outlinewidth\": 0, \"ticks\": \"\"}}, \"colorscale\": {\"diverging\": [[0, \"#8e0152\"], [0.1, \"#c51b7d\"], [0.2, \"#de77ae\"], [0.3, \"#f1b6da\"], [0.4, \"#fde0ef\"], [0.5, \"#f7f7f7\"], [0.6, \"#e6f5d0\"], [0.7, \"#b8e186\"], [0.8, \"#7fbc41\"], [0.9, \"#4d9221\"], [1, \"#276419\"]], \"sequential\": [[0.0, \"#0d0887\"], [0.1111111111111111, \"#46039f\"], [0.2222222222222222, \"#7201a8\"], [0.3333333333333333, \"#9c179e\"], [0.4444444444444444, \"#bd3786\"], [0.5555555555555556, \"#d8576b\"], [0.6666666666666666, \"#ed7953\"], [0.7777777777777778, \"#fb9f3a\"], [0.8888888888888888, \"#fdca26\"], [1.0, \"#f0f921\"]], \"sequentialminus\": [[0.0, \"#0d0887\"], [0.1111111111111111, \"#46039f\"], [0.2222222222222222, \"#7201a8\"], [0.3333333333333333, \"#9c179e\"], [0.4444444444444444, \"#bd3786\"], [0.5555555555555556, \"#d8576b\"], [0.6666666666666666, \"#ed7953\"], [0.7777777777777778, \"#fb9f3a\"], [0.8888888888888888, \"#fdca26\"], [1.0, \"#f0f921\"]]}, \"colorway\": [\"#636efa\", \"#EF553B\", \"#00cc96\", \"#ab63fa\", \"#FFA15A\", \"#19d3f3\", \"#FF6692\", \"#B6E880\", \"#FF97FF\", \"#FECB52\"], \"font\": {\"color\": \"#2a3f5f\"}, \"geo\": {\"bgcolor\": \"white\", \"lakecolor\": \"white\", \"landcolor\": \"#E5ECF6\", \"showlakes\": true, \"showland\": true, \"subunitcolor\": \"white\"}, \"hoverlabel\": {\"align\": \"left\"}, \"hovermode\": \"closest\", \"mapbox\": {\"style\": \"light\"}, \"paper_bgcolor\": \"white\", \"plot_bgcolor\": \"#E5ECF6\", \"polar\": {\"angularaxis\": {\"gridcolor\": \"white\", \"linecolor\": \"white\", \"ticks\": \"\"}, \"bgcolor\": \"#E5ECF6\", \"radialaxis\": {\"gridcolor\": \"white\", \"linecolor\": \"white\", \"ticks\": \"\"}}, \"scene\": {\"xaxis\": {\"backgroundcolor\": \"#E5ECF6\", \"gridcolor\": \"white\", \"gridwidth\": 2, \"linecolor\": \"white\", \"showbackground\": true, \"ticks\": \"\", \"zerolinecolor\": \"white\"}, \"yaxis\": {\"backgroundcolor\": \"#E5ECF6\", \"gridcolor\": \"white\", \"gridwidth\": 2, \"linecolor\": \"white\", \"showbackground\": true, \"ticks\": \"\", \"zerolinecolor\": \"white\"}, \"zaxis\": {\"backgroundcolor\": \"#E5ECF6\", \"gridcolor\": \"white\", \"gridwidth\": 2, \"linecolor\": \"white\", \"showbackground\": true, \"ticks\": \"\", \"zerolinecolor\": \"white\"}}, \"shapedefaults\": {\"line\": {\"color\": \"#2a3f5f\"}}, \"ternary\": {\"aaxis\": {\"gridcolor\": \"white\", \"linecolor\": \"white\", \"ticks\": \"\"}, \"baxis\": {\"gridcolor\": \"white\", \"linecolor\": \"white\", \"ticks\": \"\"}, \"bgcolor\": \"#E5ECF6\", \"caxis\": {\"gridcolor\": \"white\", \"linecolor\": \"white\", \"ticks\": \"\"}}, \"title\": {\"x\": 0.05}, \"xaxis\": {\"automargin\": true, \"gridcolor\": \"white\", \"linecolor\": \"white\", \"ticks\": \"\", \"title\": {\"standoff\": 15}, \"zerolinecolor\": \"white\", \"zerolinewidth\": 2}, \"yaxis\": {\"automargin\": true, \"gridcolor\": \"white\", \"linecolor\": \"white\", \"ticks\": \"\", \"title\": {\"standoff\": 15}, \"zerolinecolor\": \"white\", \"zerolinewidth\": 2}}}, \"xaxis\": {\"anchor\": \"y\", \"domain\": [0.0, 1.0], \"title\": {\"text\": \"No. of Data Breaches\"}}, \"yaxis\": {\"anchor\": \"x\", \"domain\": [0.0, 1.0], \"title\": {\"text\": \"Average Internet usage over the years\"}}},\n",
       "                        {\"responsive\": true}\n",
       "                    ).then(function(){\n",
       "                            \n",
       "var gd = document.getElementById('1a86cd55-96c2-498c-a0e1-2f094653a0cb');\n",
       "var x = new MutationObserver(function (mutations, observer) {{\n",
       "        var display = window.getComputedStyle(gd).display;\n",
       "        if (!display || display === 'none') {{\n",
       "            console.log([gd, 'removed!']);\n",
       "            Plotly.purge(gd);\n",
       "            observer.disconnect();\n",
       "        }}\n",
       "}});\n",
       "\n",
       "// Listen for the removal of the full notebook cells\n",
       "var notebookContainer = gd.closest('#notebook-container');\n",
       "if (notebookContainer) {{\n",
       "    x.observe(notebookContainer, {childList: true});\n",
       "}}\n",
       "\n",
       "// Listen for the clearing of the current output cell\n",
       "var outputEl = gd.closest('.output');\n",
       "if (outputEl) {{\n",
       "    x.observe(outputEl, {childList: true});\n",
       "}}\n",
       "\n",
       "                        })\n",
       "                };\n",
       "                });\n",
       "            </script>\n",
       "        </div>"
      ]
     },
     "metadata": {},
     "output_type": "display_data"
    }
   ],
   "source": [
    "fig = px.scatter(data_breach_int_users, x=\"No. of Data Breaches\", y=\"Average Internet usage over the years\")\n",
    "\n",
    "fig.show()\n"
   ]
  },
  {
   "cell_type": "markdown",
   "metadata": {},
   "source": [
    "# Hypothesis 3"
   ]
  },
  {
   "cell_type": "markdown",
   "metadata": {},
   "source": [
    "higher secure internet servers would have lesser cases of data breaches."
   ]
  },
  {
   "cell_type": "code",
   "execution_count": 154,
   "metadata": {},
   "outputs": [],
   "source": [
    " secure_servers =  secure_servers[[\"Country\",\"2018\"]]"
   ]
  },
  {
   "cell_type": "code",
   "execution_count": 155,
   "metadata": {},
   "outputs": [],
   "source": [
    "secure_servers = secure_servers.dropna()"
   ]
  },
  {
   "cell_type": "code",
   "execution_count": 156,
   "metadata": {},
   "outputs": [
    {
     "data": {
      "text/html": [
       "<div>\n",
       "<style scoped>\n",
       "    .dataframe tbody tr th:only-of-type {\n",
       "        vertical-align: middle;\n",
       "    }\n",
       "\n",
       "    .dataframe tbody tr th {\n",
       "        vertical-align: top;\n",
       "    }\n",
       "\n",
       "    .dataframe thead th {\n",
       "        text-align: right;\n",
       "    }\n",
       "</style>\n",
       "<table border=\"1\" class=\"dataframe\">\n",
       "  <thead>\n",
       "    <tr style=\"text-align: right;\">\n",
       "      <th></th>\n",
       "      <th>Country</th>\n",
       "      <th>2018</th>\n",
       "    </tr>\n",
       "  </thead>\n",
       "  <tbody>\n",
       "    <tr>\n",
       "      <td>0</td>\n",
       "      <td>United States</td>\n",
       "      <td>21517004.0</td>\n",
       "    </tr>\n",
       "    <tr>\n",
       "      <td>1</td>\n",
       "      <td>Germany</td>\n",
       "      <td>4676435.0</td>\n",
       "    </tr>\n",
       "    <tr>\n",
       "      <td>2</td>\n",
       "      <td>United Kingdom</td>\n",
       "      <td>1811830.0</td>\n",
       "    </tr>\n",
       "    <tr>\n",
       "      <td>3</td>\n",
       "      <td>Netherlands</td>\n",
       "      <td>1733183.0</td>\n",
       "    </tr>\n",
       "    <tr>\n",
       "      <td>4</td>\n",
       "      <td>Japan</td>\n",
       "      <td>1476696.0</td>\n",
       "    </tr>\n",
       "    <tr>\n",
       "      <td>...</td>\n",
       "      <td>...</td>\n",
       "      <td>...</td>\n",
       "    </tr>\n",
       "    <tr>\n",
       "      <td>190</td>\n",
       "      <td>Guinea-Bissau</td>\n",
       "      <td>4.0</td>\n",
       "    </tr>\n",
       "    <tr>\n",
       "      <td>191</td>\n",
       "      <td>Central African Republic</td>\n",
       "      <td>3.0</td>\n",
       "    </tr>\n",
       "    <tr>\n",
       "      <td>192</td>\n",
       "      <td>Nauru</td>\n",
       "      <td>1.0</td>\n",
       "    </tr>\n",
       "    <tr>\n",
       "      <td>193</td>\n",
       "      <td>Tuvalu</td>\n",
       "      <td>1.0</td>\n",
       "    </tr>\n",
       "    <tr>\n",
       "      <td>194</td>\n",
       "      <td>Eritrea</td>\n",
       "      <td>1.0</td>\n",
       "    </tr>\n",
       "  </tbody>\n",
       "</table>\n",
       "<p>195 rows × 2 columns</p>\n",
       "</div>"
      ],
      "text/plain": [
       "                      Country        2018\n",
       "0               United States  21517004.0\n",
       "1                     Germany   4676435.0\n",
       "2              United Kingdom   1811830.0\n",
       "3                 Netherlands   1733183.0\n",
       "4                       Japan   1476696.0\n",
       "..                        ...         ...\n",
       "190             Guinea-Bissau         4.0\n",
       "191  Central African Republic         3.0\n",
       "192                     Nauru         1.0\n",
       "193                    Tuvalu         1.0\n",
       "194                   Eritrea         1.0\n",
       "\n",
       "[195 rows x 2 columns]"
      ]
     },
     "execution_count": 156,
     "metadata": {},
     "output_type": "execute_result"
    }
   ],
   "source": [
    "secure_servers"
   ]
  },
  {
   "cell_type": "code",
   "execution_count": 157,
   "metadata": {},
   "outputs": [
    {
     "data": {
      "text/html": [
       "<div>\n",
       "<style scoped>\n",
       "    .dataframe tbody tr th:only-of-type {\n",
       "        vertical-align: middle;\n",
       "    }\n",
       "\n",
       "    .dataframe tbody tr th {\n",
       "        vertical-align: top;\n",
       "    }\n",
       "\n",
       "    .dataframe thead th {\n",
       "        text-align: right;\n",
       "    }\n",
       "</style>\n",
       "<table border=\"1\" class=\"dataframe\">\n",
       "  <thead>\n",
       "    <tr style=\"text-align: right;\">\n",
       "      <th></th>\n",
       "      <th>Country</th>\n",
       "      <th>No. of Data Breaches</th>\n",
       "    </tr>\n",
       "  </thead>\n",
       "  <tbody>\n",
       "    <tr>\n",
       "      <td>0</td>\n",
       "      <td>United states</td>\n",
       "      <td>29928</td>\n",
       "    </tr>\n",
       "    <tr>\n",
       "      <td>3</td>\n",
       "      <td>Spain</td>\n",
       "      <td>5665</td>\n",
       "    </tr>\n",
       "    <tr>\n",
       "      <td>4</td>\n",
       "      <td>Brazil</td>\n",
       "      <td>5088</td>\n",
       "    </tr>\n",
       "    <tr>\n",
       "      <td>5</td>\n",
       "      <td>Germany</td>\n",
       "      <td>4088</td>\n",
       "    </tr>\n",
       "    <tr>\n",
       "      <td>6</td>\n",
       "      <td>France</td>\n",
       "      <td>3681</td>\n",
       "    </tr>\n",
       "    <tr>\n",
       "      <td>...</td>\n",
       "      <td>...</td>\n",
       "      <td>...</td>\n",
       "    </tr>\n",
       "    <tr>\n",
       "      <td>347</td>\n",
       "      <td>New caledoni</td>\n",
       "      <td>1</td>\n",
       "    </tr>\n",
       "    <tr>\n",
       "      <td>348</td>\n",
       "      <td>Easttimor</td>\n",
       "      <td>1</td>\n",
       "    </tr>\n",
       "    <tr>\n",
       "      <td>350</td>\n",
       "      <td>Nigeria\"</td>\n",
       "      <td>1</td>\n",
       "    </tr>\n",
       "    <tr>\n",
       "      <td>353</td>\n",
       "      <td>Asia/pacific region</td>\n",
       "      <td>1</td>\n",
       "    </tr>\n",
       "    <tr>\n",
       "      <td>354</td>\n",
       "      <td>Norfolkisland</td>\n",
       "      <td>1</td>\n",
       "    </tr>\n",
       "  </tbody>\n",
       "</table>\n",
       "<p>239 rows × 2 columns</p>\n",
       "</div>"
      ],
      "text/plain": [
       "                 Country  No. of Data Breaches\n",
       "0          United states                 29928\n",
       "3                  Spain                  5665\n",
       "4                 Brazil                  5088\n",
       "5                Germany                  4088\n",
       "6                 France                  3681\n",
       "..                   ...                   ...\n",
       "347         New caledoni                     1\n",
       "348            Easttimor                     1\n",
       "350             Nigeria\"                     1\n",
       "353  Asia/pacific region                     1\n",
       "354        Norfolkisland                     1\n",
       "\n",
       "[239 rows x 2 columns]"
      ]
     },
     "execution_count": 157,
     "metadata": {},
     "output_type": "execute_result"
    }
   ],
   "source": [
    "data_breaches_per_country "
   ]
  },
  {
   "cell_type": "code",
   "execution_count": 158,
   "metadata": {},
   "outputs": [
    {
     "name": "stderr",
     "output_type": "stream",
     "text": [
      "C:\\Users\\admin\\Anaconda3\\lib\\site-packages\\ipykernel_launcher.py:1: SettingWithCopyWarning:\n",
      "\n",
      "\n",
      "A value is trying to be set on a copy of a slice from a DataFrame.\n",
      "Try using .loc[row_indexer,col_indexer] = value instead\n",
      "\n",
      "See the caveats in the documentation: http://pandas.pydata.org/pandas-docs/stable/user_guide/indexing.html#returning-a-view-versus-a-copy\n",
      "\n"
     ]
    }
   ],
   "source": [
    "data_breaches_per_country[\"Country\"] = data_breaches_per_country.Country.str.title()"
   ]
  },
  {
   "cell_type": "code",
   "execution_count": 159,
   "metadata": {},
   "outputs": [
    {
     "data": {
      "text/html": [
       "<div>\n",
       "<style scoped>\n",
       "    .dataframe tbody tr th:only-of-type {\n",
       "        vertical-align: middle;\n",
       "    }\n",
       "\n",
       "    .dataframe tbody tr th {\n",
       "        vertical-align: top;\n",
       "    }\n",
       "\n",
       "    .dataframe thead th {\n",
       "        text-align: right;\n",
       "    }\n",
       "</style>\n",
       "<table border=\"1\" class=\"dataframe\">\n",
       "  <thead>\n",
       "    <tr style=\"text-align: right;\">\n",
       "      <th></th>\n",
       "      <th>Country</th>\n",
       "      <th>No. of Data Breaches</th>\n",
       "    </tr>\n",
       "  </thead>\n",
       "  <tbody>\n",
       "    <tr>\n",
       "      <td>0</td>\n",
       "      <td>United States</td>\n",
       "      <td>29928</td>\n",
       "    </tr>\n",
       "    <tr>\n",
       "      <td>3</td>\n",
       "      <td>Spain</td>\n",
       "      <td>5665</td>\n",
       "    </tr>\n",
       "    <tr>\n",
       "      <td>4</td>\n",
       "      <td>Brazil</td>\n",
       "      <td>5088</td>\n",
       "    </tr>\n",
       "    <tr>\n",
       "      <td>5</td>\n",
       "      <td>Germany</td>\n",
       "      <td>4088</td>\n",
       "    </tr>\n",
       "    <tr>\n",
       "      <td>6</td>\n",
       "      <td>France</td>\n",
       "      <td>3681</td>\n",
       "    </tr>\n",
       "    <tr>\n",
       "      <td>...</td>\n",
       "      <td>...</td>\n",
       "      <td>...</td>\n",
       "    </tr>\n",
       "    <tr>\n",
       "      <td>347</td>\n",
       "      <td>New Caledoni</td>\n",
       "      <td>1</td>\n",
       "    </tr>\n",
       "    <tr>\n",
       "      <td>348</td>\n",
       "      <td>Easttimor</td>\n",
       "      <td>1</td>\n",
       "    </tr>\n",
       "    <tr>\n",
       "      <td>350</td>\n",
       "      <td>Nigeria\"</td>\n",
       "      <td>1</td>\n",
       "    </tr>\n",
       "    <tr>\n",
       "      <td>353</td>\n",
       "      <td>Asia/Pacific Region</td>\n",
       "      <td>1</td>\n",
       "    </tr>\n",
       "    <tr>\n",
       "      <td>354</td>\n",
       "      <td>Norfolkisland</td>\n",
       "      <td>1</td>\n",
       "    </tr>\n",
       "  </tbody>\n",
       "</table>\n",
       "<p>239 rows × 2 columns</p>\n",
       "</div>"
      ],
      "text/plain": [
       "                 Country  No. of Data Breaches\n",
       "0          United States                 29928\n",
       "3                  Spain                  5665\n",
       "4                 Brazil                  5088\n",
       "5                Germany                  4088\n",
       "6                 France                  3681\n",
       "..                   ...                   ...\n",
       "347         New Caledoni                     1\n",
       "348            Easttimor                     1\n",
       "350             Nigeria\"                     1\n",
       "353  Asia/Pacific Region                     1\n",
       "354        Norfolkisland                     1\n",
       "\n",
       "[239 rows x 2 columns]"
      ]
     },
     "execution_count": 159,
     "metadata": {},
     "output_type": "execute_result"
    }
   ],
   "source": [
    "data_breaches_per_country"
   ]
  },
  {
   "cell_type": "code",
   "execution_count": 160,
   "metadata": {},
   "outputs": [],
   "source": [
    "server_data_breach = secure_servers.merge(data_breaches_per_country,left_on=\"Country\",right_on=\"Country\",how=\"left\")"
   ]
  },
  {
   "cell_type": "code",
   "execution_count": 161,
   "metadata": {},
   "outputs": [],
   "source": [
    "server_data_breach = server_data_breach.dropna()"
   ]
  },
  {
   "cell_type": "code",
   "execution_count": 162,
   "metadata": {},
   "outputs": [],
   "source": [
    "server_data_breach.columns = [\"Country\",\"No.of Secure Servers\",\"No. of Data Breaches\"]"
   ]
  },
  {
   "cell_type": "code",
   "execution_count": 163,
   "metadata": {},
   "outputs": [
    {
     "data": {
      "text/html": [
       "<div>\n",
       "<style scoped>\n",
       "    .dataframe tbody tr th:only-of-type {\n",
       "        vertical-align: middle;\n",
       "    }\n",
       "\n",
       "    .dataframe tbody tr th {\n",
       "        vertical-align: top;\n",
       "    }\n",
       "\n",
       "    .dataframe thead th {\n",
       "        text-align: right;\n",
       "    }\n",
       "</style>\n",
       "<table border=\"1\" class=\"dataframe\">\n",
       "  <thead>\n",
       "    <tr style=\"text-align: right;\">\n",
       "      <th></th>\n",
       "      <th>Country</th>\n",
       "      <th>No.of Secure Servers</th>\n",
       "      <th>No. of Data Breaches</th>\n",
       "    </tr>\n",
       "  </thead>\n",
       "  <tbody>\n",
       "    <tr>\n",
       "      <td>0</td>\n",
       "      <td>United States</td>\n",
       "      <td>21517004.0</td>\n",
       "      <td>29928.0</td>\n",
       "    </tr>\n",
       "    <tr>\n",
       "      <td>1</td>\n",
       "      <td>Germany</td>\n",
       "      <td>4676435.0</td>\n",
       "      <td>4088.0</td>\n",
       "    </tr>\n",
       "    <tr>\n",
       "      <td>2</td>\n",
       "      <td>United Kingdom</td>\n",
       "      <td>1811830.0</td>\n",
       "      <td>3556.0</td>\n",
       "    </tr>\n",
       "    <tr>\n",
       "      <td>3</td>\n",
       "      <td>Netherlands</td>\n",
       "      <td>1733183.0</td>\n",
       "      <td>1426.0</td>\n",
       "    </tr>\n",
       "    <tr>\n",
       "      <td>4</td>\n",
       "      <td>Japan</td>\n",
       "      <td>1476696.0</td>\n",
       "      <td>953.0</td>\n",
       "    </tr>\n",
       "    <tr>\n",
       "      <td>...</td>\n",
       "      <td>...</td>\n",
       "      <td>...</td>\n",
       "      <td>...</td>\n",
       "    </tr>\n",
       "    <tr>\n",
       "      <td>176</td>\n",
       "      <td>Mauritania</td>\n",
       "      <td>24.0</td>\n",
       "      <td>3.0</td>\n",
       "    </tr>\n",
       "    <tr>\n",
       "      <td>178</td>\n",
       "      <td>Tonga</td>\n",
       "      <td>18.0</td>\n",
       "      <td>17.0</td>\n",
       "    </tr>\n",
       "    <tr>\n",
       "      <td>184</td>\n",
       "      <td>Niger</td>\n",
       "      <td>11.0</td>\n",
       "      <td>2.0</td>\n",
       "    </tr>\n",
       "    <tr>\n",
       "      <td>193</td>\n",
       "      <td>Tuvalu</td>\n",
       "      <td>1.0</td>\n",
       "      <td>16.0</td>\n",
       "    </tr>\n",
       "    <tr>\n",
       "      <td>194</td>\n",
       "      <td>Eritrea</td>\n",
       "      <td>1.0</td>\n",
       "      <td>6.0</td>\n",
       "    </tr>\n",
       "  </tbody>\n",
       "</table>\n",
       "<p>147 rows × 3 columns</p>\n",
       "</div>"
      ],
      "text/plain": [
       "            Country  No.of Secure Servers  No. of Data Breaches\n",
       "0     United States            21517004.0               29928.0\n",
       "1           Germany             4676435.0                4088.0\n",
       "2    United Kingdom             1811830.0                3556.0\n",
       "3       Netherlands             1733183.0                1426.0\n",
       "4             Japan             1476696.0                 953.0\n",
       "..              ...                   ...                   ...\n",
       "176      Mauritania                  24.0                   3.0\n",
       "178           Tonga                  18.0                  17.0\n",
       "184           Niger                  11.0                   2.0\n",
       "193          Tuvalu                   1.0                  16.0\n",
       "194         Eritrea                   1.0                   6.0\n",
       "\n",
       "[147 rows x 3 columns]"
      ]
     },
     "execution_count": 163,
     "metadata": {},
     "output_type": "execute_result"
    }
   ],
   "source": [
    "server_data_breach"
   ]
  },
  {
   "cell_type": "code",
   "execution_count": 164,
   "metadata": {},
   "outputs": [
    {
     "data": {
      "application/vnd.plotly.v1+json": {
       "config": {
        "plotlyServerURL": "https://plot.ly"
       },
       "data": [
        {
         "branchvalues": "total",
         "customdata": [
          [
           "Afghanistan",
           1
          ],
          [
           "Albania",
           41
          ],
          [
           "Algeria",
           5
          ],
          [
           "Andorra",
           5
          ],
          [
           "Argentina",
           848
          ],
          [
           "Armenia",
           19
          ],
          [
           "Australia",
           1010
          ],
          [
           "Austria",
           310
          ],
          [
           "Azerbaijan",
           4
          ],
          [
           "Bahrain",
           11
          ],
          [
           "Bangladesh",
           130
          ],
          [
           "Barbados",
           10
          ],
          [
           "Belarus",
           52
          ],
          [
           "Belgium",
           329
          ],
          [
           "Belize",
           3
          ],
          [
           "Benin",
           1
          ],
          [
           "Bhutan",
           22
          ],
          [
           "Bolivia",
           86
          ],
          [
           "Botswana",
           1
          ],
          [
           "Brazil",
           5088
          ],
          [
           "Brunei Darussalam",
           21
          ],
          [
           "Bulgaria",
           149
          ],
          [
           "Burkina Faso",
           2
          ],
          [
           "Burundi",
           2
          ],
          [
           "Cambodia",
           1
          ],
          [
           "Cameroon",
           3
          ],
          [
           "Canada",
           1553
          ],
          [
           "Chile",
           2473
          ],
          [
           "China",
           2301
          ],
          [
           "Colombia",
           182
          ],
          [
           "Costa Rica",
           14
          ],
          [
           "Croatia",
           101
          ],
          [
           "Cuba",
           10
          ],
          [
           "Cyprus",
           21
          ],
          [
           "Czech Republic",
           219
          ],
          [
           "Denmark",
           1599
          ],
          [
           "Dominican Republic",
           6
          ],
          [
           "Ecuador",
           52
          ],
          [
           "El Salvador",
           10
          ],
          [
           "Eritrea",
           6
          ],
          [
           "Estonia",
           213
          ],
          [
           "Ethiopia",
           3
          ],
          [
           "Fiji",
           5
          ],
          [
           "Finland",
           78
          ],
          [
           "France",
           3681
          ],
          [
           "Gabon",
           2
          ],
          [
           "Georgia",
           27
          ],
          [
           "Germany",
           4088
          ],
          [
           "Ghana",
           2
          ],
          [
           "Greece",
           542
          ],
          [
           "Guatemala",
           20
          ],
          [
           "Guinea",
           1
          ],
          [
           "Haiti",
           31
          ],
          [
           "Honduras",
           33
          ],
          [
           "Hungary",
           603
          ],
          [
           "Iceland",
           28
          ],
          [
           "India",
           531
          ],
          [
           "Indonesia",
           2272
          ],
          [
           "Iraq",
           6
          ],
          [
           "Ireland",
           641
          ],
          [
           "Israel",
           459
          ],
          [
           "Italy",
           2115
          ],
          [
           "Jamaica",
           9
          ],
          [
           "Japan",
           953
          ],
          [
           "Jordan",
           25
          ],
          [
           "Kazakhstan",
           103
          ],
          [
           "Kenya",
           22
          ],
          [
           "Kuwait",
           13
          ],
          [
           "Latvia",
           44
          ],
          [
           "Lebanon",
           15
          ],
          [
           "Liechtenstein",
           6
          ],
          [
           "Lithuania",
           221
          ],
          [
           "Luxembourg",
           39
          ],
          [
           "Madagascar",
           4
          ],
          [
           "Malawi",
           15
          ],
          [
           "Malaysia",
           403
          ],
          [
           "Maldives",
           2
          ],
          [
           "Mali",
           1
          ],
          [
           "Malta",
           9
          ],
          [
           "Mauritania",
           3
          ],
          [
           "Mauritius",
           6
          ],
          [
           "Mexico",
           765
          ],
          [
           "Moldova",
           7
          ],
          [
           "Monaco",
           3
          ],
          [
           "Mongolia",
           12
          ],
          [
           "Montenegro",
           22
          ],
          [
           "Morocco",
           128
          ],
          [
           "Mozambique",
           20
          ],
          [
           "Namibia",
           5
          ],
          [
           "Nepal",
           41
          ],
          [
           "Netherlands",
           1426
          ],
          [
           "New Zealand",
           191
          ],
          [
           "Nicaragua",
           21
          ],
          [
           "Niger",
           2
          ],
          [
           "Nigeria",
           3
          ],
          [
           "Norway",
           597
          ],
          [
           "Oman",
           3
          ],
          [
           "Pakistan",
           113
          ],
          [
           "Panama",
           26
          ],
          [
           "Papua New Guinea",
           1
          ],
          [
           "Paraguay",
           23
          ],
          [
           "Peru",
           212
          ],
          [
           "Philippines",
           136
          ],
          [
           "Poland",
           1050
          ],
          [
           "Portugal",
           212
          ],
          [
           "Puerto Rico",
           1
          ],
          [
           "Qatar",
           7
          ],
          [
           "Romania",
           476
          ],
          [
           "Russian Federation",
           1266
          ],
          [
           "Rwanda",
           17
          ],
          [
           "Samoa",
           10
          ],
          [
           "San Marino",
           8
          ],
          [
           "Saudi Arabia",
           9
          ],
          [
           "Senegal",
           22
          ],
          [
           "Serbia",
           82
          ],
          [
           "Seychelles",
           4
          ],
          [
           "Singapore",
           381
          ],
          [
           "Slovenia",
           536
          ],
          [
           "Somalia",
           4
          ],
          [
           "South Africa",
           418
          ],
          [
           "Spain",
           5665
          ],
          [
           "Sri Lanka",
           77
          ],
          [
           "Sudan",
           11
          ],
          [
           "Suriname",
           2
          ],
          [
           "Sweden",
           349
          ],
          [
           "Switzerland",
           546
          ],
          [
           "Syrian Arab Republic",
           28
          ],
          [
           "Tajikistan",
           2
          ],
          [
           "Tanzania",
           3
          ],
          [
           "Thailand",
           1430
          ],
          [
           "Togo",
           1
          ],
          [
           "Tonga",
           17
          ],
          [
           "Tunisia",
           83
          ],
          [
           "Turkey",
           1077
          ],
          [
           "Turkmenistan",
           1
          ],
          [
           "Tuvalu",
           16
          ],
          [
           "Uganda",
           1
          ],
          [
           "Ukraine",
           614
          ],
          [
           "United Arab Emirates",
           12
          ],
          [
           "United Kingdom",
           3556
          ],
          [
           "United States",
           29928
          ],
          [
           "Uruguay",
           43
          ],
          [
           "Uzbekistan",
           8
          ],
          [
           "Vanuatu",
           4
          ],
          [
           "Vietnam",
           45
          ],
          [
           "Zambia",
           5
          ],
          [
           "Zimbabwe",
           8
          ]
         ],
         "domain": {
          "x": [
           0,
           1
          ],
          "y": [
           0,
           1
          ]
         },
         "hovertemplate": "Country=%{customdata[0]}<br>No. of Data Breaches=%{color}<br>labels=%{label}<br>No.of Secure Servers=%{value}<br>parent=%{parent}<br>id=%{id}<extra></extra>",
         "ids": [
          "Afghanistan",
          "Albania",
          "Algeria",
          "Andorra",
          "Argentina",
          "Armenia",
          "Australia",
          "Austria",
          "Azerbaijan",
          "Bahrain",
          "Bangladesh",
          "Barbados",
          "Belarus",
          "Belgium",
          "Belize",
          "Benin",
          "Bhutan",
          "Bolivia",
          "Botswana",
          "Brazil",
          "Brunei Darussalam",
          "Bulgaria",
          "Burkina Faso",
          "Burundi",
          "Cambodia",
          "Cameroon",
          "Canada",
          "Chile",
          "China",
          "Colombia",
          "Costa Rica",
          "Croatia",
          "Cuba",
          "Cyprus",
          "Czech Republic",
          "Denmark",
          "Dominican Republic",
          "Ecuador",
          "El Salvador",
          "Eritrea",
          "Estonia",
          "Ethiopia",
          "Fiji",
          "Finland",
          "France",
          "Gabon",
          "Georgia",
          "Germany",
          "Ghana",
          "Greece",
          "Guatemala",
          "Guinea",
          "Haiti",
          "Honduras",
          "Hungary",
          "Iceland",
          "India",
          "Indonesia",
          "Iraq",
          "Ireland",
          "Israel",
          "Italy",
          "Jamaica",
          "Japan",
          "Jordan",
          "Kazakhstan",
          "Kenya",
          "Kuwait",
          "Latvia",
          "Lebanon",
          "Liechtenstein",
          "Lithuania",
          "Luxembourg",
          "Madagascar",
          "Malawi",
          "Malaysia",
          "Maldives",
          "Mali",
          "Malta",
          "Mauritania",
          "Mauritius",
          "Mexico",
          "Moldova",
          "Monaco",
          "Mongolia",
          "Montenegro",
          "Morocco",
          "Mozambique",
          "Namibia",
          "Nepal",
          "Netherlands",
          "New Zealand",
          "Nicaragua",
          "Niger",
          "Nigeria",
          "Norway",
          "Oman",
          "Pakistan",
          "Panama",
          "Papua New Guinea",
          "Paraguay",
          "Peru",
          "Philippines",
          "Poland",
          "Portugal",
          "Puerto Rico",
          "Qatar",
          "Romania",
          "Russian Federation",
          "Rwanda",
          "Samoa",
          "San Marino",
          "Saudi Arabia",
          "Senegal",
          "Serbia",
          "Seychelles",
          "Singapore",
          "Slovenia",
          "Somalia",
          "South Africa",
          "Spain",
          "Sri Lanka",
          "Sudan",
          "Suriname",
          "Sweden",
          "Switzerland",
          "Syrian Arab Republic",
          "Tajikistan",
          "Tanzania",
          "Thailand",
          "Togo",
          "Tonga",
          "Tunisia",
          "Turkey",
          "Turkmenistan",
          "Tuvalu",
          "Uganda",
          "Ukraine",
          "United Arab Emirates",
          "United Kingdom",
          "United States",
          "Uruguay",
          "Uzbekistan",
          "Vanuatu",
          "Vietnam",
          "Zambia",
          "Zimbabwe"
         ],
         "labels": [
          "Afghanistan",
          "Albania",
          "Algeria",
          "Andorra",
          "Argentina",
          "Armenia",
          "Australia",
          "Austria",
          "Azerbaijan",
          "Bahrain",
          "Bangladesh",
          "Barbados",
          "Belarus",
          "Belgium",
          "Belize",
          "Benin",
          "Bhutan",
          "Bolivia",
          "Botswana",
          "Brazil",
          "Brunei Darussalam",
          "Bulgaria",
          "Burkina Faso",
          "Burundi",
          "Cambodia",
          "Cameroon",
          "Canada",
          "Chile",
          "China",
          "Colombia",
          "Costa Rica",
          "Croatia",
          "Cuba",
          "Cyprus",
          "Czech Republic",
          "Denmark",
          "Dominican Republic",
          "Ecuador",
          "El Salvador",
          "Eritrea",
          "Estonia",
          "Ethiopia",
          "Fiji",
          "Finland",
          "France",
          "Gabon",
          "Georgia",
          "Germany",
          "Ghana",
          "Greece",
          "Guatemala",
          "Guinea",
          "Haiti",
          "Honduras",
          "Hungary",
          "Iceland",
          "India",
          "Indonesia",
          "Iraq",
          "Ireland",
          "Israel",
          "Italy",
          "Jamaica",
          "Japan",
          "Jordan",
          "Kazakhstan",
          "Kenya",
          "Kuwait",
          "Latvia",
          "Lebanon",
          "Liechtenstein",
          "Lithuania",
          "Luxembourg",
          "Madagascar",
          "Malawi",
          "Malaysia",
          "Maldives",
          "Mali",
          "Malta",
          "Mauritania",
          "Mauritius",
          "Mexico",
          "Moldova",
          "Monaco",
          "Mongolia",
          "Montenegro",
          "Morocco",
          "Mozambique",
          "Namibia",
          "Nepal",
          "Netherlands",
          "New Zealand",
          "Nicaragua",
          "Niger",
          "Nigeria",
          "Norway",
          "Oman",
          "Pakistan",
          "Panama",
          "Papua New Guinea",
          "Paraguay",
          "Peru",
          "Philippines",
          "Poland",
          "Portugal",
          "Puerto Rico",
          "Qatar",
          "Romania",
          "Russian Federation",
          "Rwanda",
          "Samoa",
          "San Marino",
          "Saudi Arabia",
          "Senegal",
          "Serbia",
          "Seychelles",
          "Singapore",
          "Slovenia",
          "Somalia",
          "South Africa",
          "Spain",
          "Sri Lanka",
          "Sudan",
          "Suriname",
          "Sweden",
          "Switzerland",
          "Syrian Arab Republic",
          "Tajikistan",
          "Tanzania",
          "Thailand",
          "Togo",
          "Tonga",
          "Tunisia",
          "Turkey",
          "Turkmenistan",
          "Tuvalu",
          "Uganda",
          "Ukraine",
          "United Arab Emirates",
          "United Kingdom",
          "United States",
          "Uruguay",
          "Uzbekistan",
          "Vanuatu",
          "Vietnam",
          "Zambia",
          "Zimbabwe"
         ],
         "marker": {
          "coloraxis": "coloraxis",
          "colors": [
           1,
           41,
           5,
           5,
           848,
           19,
           1010,
           310,
           4,
           11,
           130,
           10,
           52,
           329,
           3,
           1,
           22,
           86,
           1,
           5088,
           21,
           149,
           2,
           2,
           1,
           3,
           1553,
           2473,
           2301,
           182,
           14,
           101,
           10,
           21,
           219,
           1599,
           6,
           52,
           10,
           6,
           213,
           3,
           5,
           78,
           3681,
           2,
           27,
           4088,
           2,
           542,
           20,
           1,
           31,
           33,
           603,
           28,
           531,
           2272,
           6,
           641,
           459,
           2115,
           9,
           953,
           25,
           103,
           22,
           13,
           44,
           15,
           6,
           221,
           39,
           4,
           15,
           403,
           2,
           1,
           9,
           3,
           6,
           765,
           7,
           3,
           12,
           22,
           128,
           20,
           5,
           41,
           1426,
           191,
           21,
           2,
           3,
           597,
           3,
           113,
           26,
           1,
           23,
           212,
           136,
           1050,
           212,
           1,
           7,
           476,
           1266,
           17,
           10,
           8,
           9,
           22,
           82,
           4,
           381,
           536,
           4,
           418,
           5665,
           77,
           11,
           2,
           349,
           546,
           28,
           2,
           3,
           1430,
           1,
           17,
           83,
           1077,
           1,
           16,
           1,
           614,
           12,
           3556,
           29928,
           43,
           8,
           4,
           45,
           5,
           8
          ]
         },
         "name": "",
         "parents": [
          "",
          "",
          "",
          "",
          "",
          "",
          "",
          "",
          "",
          "",
          "",
          "",
          "",
          "",
          "",
          "",
          "",
          "",
          "",
          "",
          "",
          "",
          "",
          "",
          "",
          "",
          "",
          "",
          "",
          "",
          "",
          "",
          "",
          "",
          "",
          "",
          "",
          "",
          "",
          "",
          "",
          "",
          "",
          "",
          "",
          "",
          "",
          "",
          "",
          "",
          "",
          "",
          "",
          "",
          "",
          "",
          "",
          "",
          "",
          "",
          "",
          "",
          "",
          "",
          "",
          "",
          "",
          "",
          "",
          "",
          "",
          "",
          "",
          "",
          "",
          "",
          "",
          "",
          "",
          "",
          "",
          "",
          "",
          "",
          "",
          "",
          "",
          "",
          "",
          "",
          "",
          "",
          "",
          "",
          "",
          "",
          "",
          "",
          "",
          "",
          "",
          "",
          "",
          "",
          "",
          "",
          "",
          "",
          "",
          "",
          "",
          "",
          "",
          "",
          "",
          "",
          "",
          "",
          "",
          "",
          "",
          "",
          "",
          "",
          "",
          "",
          "",
          "",
          "",
          "",
          "",
          "",
          "",
          "",
          "",
          "",
          "",
          "",
          "",
          "",
          "",
          "",
          "",
          "",
          "",
          "",
          ""
         ],
         "type": "treemap",
         "values": [
          1965,
          1508,
          2855,
          400,
          83320,
          989,
          822020,
          147681,
          3274,
          582,
          18712,
          249,
          32440,
          159673,
          4442,
          84,
          134,
          1478,
          301,
          426560,
          853,
          268524,
          50,
          67,
          1318,
          137,
          1147057,
          151206,
          622142,
          32338,
          6029,
          79937,
          182,
          7578,
          450120,
          713512,
          1293,
          4538,
          582,
          1,
          64636,
          160,
          153,
          187523,
          1367541,
          56,
          8132,
          4676435,
          649,
          54044,
          1286,
          41,
          59,
          717,
          188120,
          22843,
          254032,
          343412,
          435,
          338734,
          85381,
          740648,
          451,
          1476696,
          1025,
          25115,
          11164,
          1705,
          27952,
          1195,
          1333,
          51176,
          26234,
          143,
          279,
          180124,
          270,
          201,
          6986,
          24,
          9926,
          28487,
          10610,
          412,
          5357,
          259,
          10655,
          349,
          366,
          5126,
          1733183,
          86339,
          448,
          11,
          36082,
          110946,
          757,
          23161,
          8945,
          429,
          1728,
          8232,
          9903,
          616219,
          164308,
          1229,
          1103,
          310378,
          749930,
          449,
          105,
          2002,
          5445,
          272,
          48178,
          25570,
          477674,
          68476,
          65,
          695336,
          528944,
          8937,
          193,
          168,
          189345,
          580292,
          323,
          249,
          1537,
          66225,
          61,
          18,
          3657,
          356867,
          35,
          1,
          864,
          268976,
          14292,
          1811830,
          21517004,
          5432,
          9193,
          58,
          169056,
          715,
          673
         ]
        }
       ],
       "layout": {
        "coloraxis": {
         "colorbar": {
          "title": {
           "text": "No. of Data Breaches"
          }
         },
         "colorscale": [
          [
           0,
           "rgb(103,0,31)"
          ],
          [
           0.1,
           "rgb(178,24,43)"
          ],
          [
           0.2,
           "rgb(214,96,77)"
          ],
          [
           0.3,
           "rgb(244,165,130)"
          ],
          [
           0.4,
           "rgb(253,219,199)"
          ],
          [
           0.5,
           "rgb(247,247,247)"
          ],
          [
           0.6,
           "rgb(209,229,240)"
          ],
          [
           0.7,
           "rgb(146,197,222)"
          ],
          [
           0.8,
           "rgb(67,147,195)"
          ],
          [
           0.9,
           "rgb(33,102,172)"
          ],
          [
           1,
           "rgb(5,48,97)"
          ]
         ]
        },
        "legend": {
         "tracegroupgap": 0
        },
        "margin": {
         "t": 60
        },
        "template": {
         "data": {
          "bar": [
           {
            "error_x": {
             "color": "#2a3f5f"
            },
            "error_y": {
             "color": "#2a3f5f"
            },
            "marker": {
             "line": {
              "color": "#E5ECF6",
              "width": 0.5
             }
            },
            "type": "bar"
           }
          ],
          "barpolar": [
           {
            "marker": {
             "line": {
              "color": "#E5ECF6",
              "width": 0.5
             }
            },
            "type": "barpolar"
           }
          ],
          "carpet": [
           {
            "aaxis": {
             "endlinecolor": "#2a3f5f",
             "gridcolor": "white",
             "linecolor": "white",
             "minorgridcolor": "white",
             "startlinecolor": "#2a3f5f"
            },
            "baxis": {
             "endlinecolor": "#2a3f5f",
             "gridcolor": "white",
             "linecolor": "white",
             "minorgridcolor": "white",
             "startlinecolor": "#2a3f5f"
            },
            "type": "carpet"
           }
          ],
          "choropleth": [
           {
            "colorbar": {
             "outlinewidth": 0,
             "ticks": ""
            },
            "type": "choropleth"
           }
          ],
          "contour": [
           {
            "colorbar": {
             "outlinewidth": 0,
             "ticks": ""
            },
            "colorscale": [
             [
              0,
              "#0d0887"
             ],
             [
              0.1111111111111111,
              "#46039f"
             ],
             [
              0.2222222222222222,
              "#7201a8"
             ],
             [
              0.3333333333333333,
              "#9c179e"
             ],
             [
              0.4444444444444444,
              "#bd3786"
             ],
             [
              0.5555555555555556,
              "#d8576b"
             ],
             [
              0.6666666666666666,
              "#ed7953"
             ],
             [
              0.7777777777777778,
              "#fb9f3a"
             ],
             [
              0.8888888888888888,
              "#fdca26"
             ],
             [
              1,
              "#f0f921"
             ]
            ],
            "type": "contour"
           }
          ],
          "contourcarpet": [
           {
            "colorbar": {
             "outlinewidth": 0,
             "ticks": ""
            },
            "type": "contourcarpet"
           }
          ],
          "heatmap": [
           {
            "colorbar": {
             "outlinewidth": 0,
             "ticks": ""
            },
            "colorscale": [
             [
              0,
              "#0d0887"
             ],
             [
              0.1111111111111111,
              "#46039f"
             ],
             [
              0.2222222222222222,
              "#7201a8"
             ],
             [
              0.3333333333333333,
              "#9c179e"
             ],
             [
              0.4444444444444444,
              "#bd3786"
             ],
             [
              0.5555555555555556,
              "#d8576b"
             ],
             [
              0.6666666666666666,
              "#ed7953"
             ],
             [
              0.7777777777777778,
              "#fb9f3a"
             ],
             [
              0.8888888888888888,
              "#fdca26"
             ],
             [
              1,
              "#f0f921"
             ]
            ],
            "type": "heatmap"
           }
          ],
          "heatmapgl": [
           {
            "colorbar": {
             "outlinewidth": 0,
             "ticks": ""
            },
            "colorscale": [
             [
              0,
              "#0d0887"
             ],
             [
              0.1111111111111111,
              "#46039f"
             ],
             [
              0.2222222222222222,
              "#7201a8"
             ],
             [
              0.3333333333333333,
              "#9c179e"
             ],
             [
              0.4444444444444444,
              "#bd3786"
             ],
             [
              0.5555555555555556,
              "#d8576b"
             ],
             [
              0.6666666666666666,
              "#ed7953"
             ],
             [
              0.7777777777777778,
              "#fb9f3a"
             ],
             [
              0.8888888888888888,
              "#fdca26"
             ],
             [
              1,
              "#f0f921"
             ]
            ],
            "type": "heatmapgl"
           }
          ],
          "histogram": [
           {
            "marker": {
             "colorbar": {
              "outlinewidth": 0,
              "ticks": ""
             }
            },
            "type": "histogram"
           }
          ],
          "histogram2d": [
           {
            "colorbar": {
             "outlinewidth": 0,
             "ticks": ""
            },
            "colorscale": [
             [
              0,
              "#0d0887"
             ],
             [
              0.1111111111111111,
              "#46039f"
             ],
             [
              0.2222222222222222,
              "#7201a8"
             ],
             [
              0.3333333333333333,
              "#9c179e"
             ],
             [
              0.4444444444444444,
              "#bd3786"
             ],
             [
              0.5555555555555556,
              "#d8576b"
             ],
             [
              0.6666666666666666,
              "#ed7953"
             ],
             [
              0.7777777777777778,
              "#fb9f3a"
             ],
             [
              0.8888888888888888,
              "#fdca26"
             ],
             [
              1,
              "#f0f921"
             ]
            ],
            "type": "histogram2d"
           }
          ],
          "histogram2dcontour": [
           {
            "colorbar": {
             "outlinewidth": 0,
             "ticks": ""
            },
            "colorscale": [
             [
              0,
              "#0d0887"
             ],
             [
              0.1111111111111111,
              "#46039f"
             ],
             [
              0.2222222222222222,
              "#7201a8"
             ],
             [
              0.3333333333333333,
              "#9c179e"
             ],
             [
              0.4444444444444444,
              "#bd3786"
             ],
             [
              0.5555555555555556,
              "#d8576b"
             ],
             [
              0.6666666666666666,
              "#ed7953"
             ],
             [
              0.7777777777777778,
              "#fb9f3a"
             ],
             [
              0.8888888888888888,
              "#fdca26"
             ],
             [
              1,
              "#f0f921"
             ]
            ],
            "type": "histogram2dcontour"
           }
          ],
          "mesh3d": [
           {
            "colorbar": {
             "outlinewidth": 0,
             "ticks": ""
            },
            "type": "mesh3d"
           }
          ],
          "parcoords": [
           {
            "line": {
             "colorbar": {
              "outlinewidth": 0,
              "ticks": ""
             }
            },
            "type": "parcoords"
           }
          ],
          "pie": [
           {
            "automargin": true,
            "type": "pie"
           }
          ],
          "scatter": [
           {
            "marker": {
             "colorbar": {
              "outlinewidth": 0,
              "ticks": ""
             }
            },
            "type": "scatter"
           }
          ],
          "scatter3d": [
           {
            "line": {
             "colorbar": {
              "outlinewidth": 0,
              "ticks": ""
             }
            },
            "marker": {
             "colorbar": {
              "outlinewidth": 0,
              "ticks": ""
             }
            },
            "type": "scatter3d"
           }
          ],
          "scattercarpet": [
           {
            "marker": {
             "colorbar": {
              "outlinewidth": 0,
              "ticks": ""
             }
            },
            "type": "scattercarpet"
           }
          ],
          "scattergeo": [
           {
            "marker": {
             "colorbar": {
              "outlinewidth": 0,
              "ticks": ""
             }
            },
            "type": "scattergeo"
           }
          ],
          "scattergl": [
           {
            "marker": {
             "colorbar": {
              "outlinewidth": 0,
              "ticks": ""
             }
            },
            "type": "scattergl"
           }
          ],
          "scattermapbox": [
           {
            "marker": {
             "colorbar": {
              "outlinewidth": 0,
              "ticks": ""
             }
            },
            "type": "scattermapbox"
           }
          ],
          "scatterpolar": [
           {
            "marker": {
             "colorbar": {
              "outlinewidth": 0,
              "ticks": ""
             }
            },
            "type": "scatterpolar"
           }
          ],
          "scatterpolargl": [
           {
            "marker": {
             "colorbar": {
              "outlinewidth": 0,
              "ticks": ""
             }
            },
            "type": "scatterpolargl"
           }
          ],
          "scatterternary": [
           {
            "marker": {
             "colorbar": {
              "outlinewidth": 0,
              "ticks": ""
             }
            },
            "type": "scatterternary"
           }
          ],
          "surface": [
           {
            "colorbar": {
             "outlinewidth": 0,
             "ticks": ""
            },
            "colorscale": [
             [
              0,
              "#0d0887"
             ],
             [
              0.1111111111111111,
              "#46039f"
             ],
             [
              0.2222222222222222,
              "#7201a8"
             ],
             [
              0.3333333333333333,
              "#9c179e"
             ],
             [
              0.4444444444444444,
              "#bd3786"
             ],
             [
              0.5555555555555556,
              "#d8576b"
             ],
             [
              0.6666666666666666,
              "#ed7953"
             ],
             [
              0.7777777777777778,
              "#fb9f3a"
             ],
             [
              0.8888888888888888,
              "#fdca26"
             ],
             [
              1,
              "#f0f921"
             ]
            ],
            "type": "surface"
           }
          ],
          "table": [
           {
            "cells": {
             "fill": {
              "color": "#EBF0F8"
             },
             "line": {
              "color": "white"
             }
            },
            "header": {
             "fill": {
              "color": "#C8D4E3"
             },
             "line": {
              "color": "white"
             }
            },
            "type": "table"
           }
          ]
         },
         "layout": {
          "annotationdefaults": {
           "arrowcolor": "#2a3f5f",
           "arrowhead": 0,
           "arrowwidth": 1
          },
          "coloraxis": {
           "colorbar": {
            "outlinewidth": 0,
            "ticks": ""
           }
          },
          "colorscale": {
           "diverging": [
            [
             0,
             "#8e0152"
            ],
            [
             0.1,
             "#c51b7d"
            ],
            [
             0.2,
             "#de77ae"
            ],
            [
             0.3,
             "#f1b6da"
            ],
            [
             0.4,
             "#fde0ef"
            ],
            [
             0.5,
             "#f7f7f7"
            ],
            [
             0.6,
             "#e6f5d0"
            ],
            [
             0.7,
             "#b8e186"
            ],
            [
             0.8,
             "#7fbc41"
            ],
            [
             0.9,
             "#4d9221"
            ],
            [
             1,
             "#276419"
            ]
           ],
           "sequential": [
            [
             0,
             "#0d0887"
            ],
            [
             0.1111111111111111,
             "#46039f"
            ],
            [
             0.2222222222222222,
             "#7201a8"
            ],
            [
             0.3333333333333333,
             "#9c179e"
            ],
            [
             0.4444444444444444,
             "#bd3786"
            ],
            [
             0.5555555555555556,
             "#d8576b"
            ],
            [
             0.6666666666666666,
             "#ed7953"
            ],
            [
             0.7777777777777778,
             "#fb9f3a"
            ],
            [
             0.8888888888888888,
             "#fdca26"
            ],
            [
             1,
             "#f0f921"
            ]
           ],
           "sequentialminus": [
            [
             0,
             "#0d0887"
            ],
            [
             0.1111111111111111,
             "#46039f"
            ],
            [
             0.2222222222222222,
             "#7201a8"
            ],
            [
             0.3333333333333333,
             "#9c179e"
            ],
            [
             0.4444444444444444,
             "#bd3786"
            ],
            [
             0.5555555555555556,
             "#d8576b"
            ],
            [
             0.6666666666666666,
             "#ed7953"
            ],
            [
             0.7777777777777778,
             "#fb9f3a"
            ],
            [
             0.8888888888888888,
             "#fdca26"
            ],
            [
             1,
             "#f0f921"
            ]
           ]
          },
          "colorway": [
           "#636efa",
           "#EF553B",
           "#00cc96",
           "#ab63fa",
           "#FFA15A",
           "#19d3f3",
           "#FF6692",
           "#B6E880",
           "#FF97FF",
           "#FECB52"
          ],
          "font": {
           "color": "#2a3f5f"
          },
          "geo": {
           "bgcolor": "white",
           "lakecolor": "white",
           "landcolor": "#E5ECF6",
           "showlakes": true,
           "showland": true,
           "subunitcolor": "white"
          },
          "hoverlabel": {
           "align": "left"
          },
          "hovermode": "closest",
          "mapbox": {
           "style": "light"
          },
          "paper_bgcolor": "white",
          "plot_bgcolor": "#E5ECF6",
          "polar": {
           "angularaxis": {
            "gridcolor": "white",
            "linecolor": "white",
            "ticks": ""
           },
           "bgcolor": "#E5ECF6",
           "radialaxis": {
            "gridcolor": "white",
            "linecolor": "white",
            "ticks": ""
           }
          },
          "scene": {
           "xaxis": {
            "backgroundcolor": "#E5ECF6",
            "gridcolor": "white",
            "gridwidth": 2,
            "linecolor": "white",
            "showbackground": true,
            "ticks": "",
            "zerolinecolor": "white"
           },
           "yaxis": {
            "backgroundcolor": "#E5ECF6",
            "gridcolor": "white",
            "gridwidth": 2,
            "linecolor": "white",
            "showbackground": true,
            "ticks": "",
            "zerolinecolor": "white"
           },
           "zaxis": {
            "backgroundcolor": "#E5ECF6",
            "gridcolor": "white",
            "gridwidth": 2,
            "linecolor": "white",
            "showbackground": true,
            "ticks": "",
            "zerolinecolor": "white"
           }
          },
          "shapedefaults": {
           "line": {
            "color": "#2a3f5f"
           }
          },
          "ternary": {
           "aaxis": {
            "gridcolor": "white",
            "linecolor": "white",
            "ticks": ""
           },
           "baxis": {
            "gridcolor": "white",
            "linecolor": "white",
            "ticks": ""
           },
           "bgcolor": "#E5ECF6",
           "caxis": {
            "gridcolor": "white",
            "linecolor": "white",
            "ticks": ""
           }
          },
          "title": {
           "x": 0.05
          },
          "xaxis": {
           "automargin": true,
           "gridcolor": "white",
           "linecolor": "white",
           "ticks": "",
           "title": {
            "standoff": 15
           },
           "zerolinecolor": "white",
           "zerolinewidth": 2
          },
          "yaxis": {
           "automargin": true,
           "gridcolor": "white",
           "linecolor": "white",
           "ticks": "",
           "title": {
            "standoff": 15
           },
           "zerolinecolor": "white",
           "zerolinewidth": 2
          }
         }
        }
       }
      },
      "text/html": [
       "<div>\n",
       "        \n",
       "        \n",
       "            <div id=\"5bb51267-7ea1-451f-b2e2-d37ecabed328\" class=\"plotly-graph-div\" style=\"height:525px; width:100%;\"></div>\n",
       "            <script type=\"text/javascript\">\n",
       "                require([\"plotly\"], function(Plotly) {\n",
       "                    window.PLOTLYENV=window.PLOTLYENV || {};\n",
       "                    \n",
       "                if (document.getElementById(\"5bb51267-7ea1-451f-b2e2-d37ecabed328\")) {\n",
       "                    Plotly.newPlot(\n",
       "                        '5bb51267-7ea1-451f-b2e2-d37ecabed328',\n",
       "                        [{\"branchvalues\": \"total\", \"customdata\": [[\"Afghanistan\", 1.0], [\"Albania\", 41.0], [\"Algeria\", 5.0], [\"Andorra\", 5.0], [\"Argentina\", 848.0], [\"Armenia\", 19.0], [\"Australia\", 1010.0], [\"Austria\", 310.0], [\"Azerbaijan\", 4.0], [\"Bahrain\", 11.0], [\"Bangladesh\", 130.0], [\"Barbados\", 10.0], [\"Belarus\", 52.0], [\"Belgium\", 329.0], [\"Belize\", 3.0], [\"Benin\", 1.0], [\"Bhutan\", 22.0], [\"Bolivia\", 86.0], [\"Botswana\", 1.0], [\"Brazil\", 5088.0], [\"Brunei Darussalam\", 21.0], [\"Bulgaria\", 149.0], [\"Burkina Faso\", 2.0], [\"Burundi\", 2.0], [\"Cambodia\", 1.0], [\"Cameroon\", 3.0], [\"Canada\", 1553.0], [\"Chile\", 2473.0], [\"China\", 2301.0], [\"Colombia\", 182.0], [\"Costa Rica\", 14.0], [\"Croatia\", 101.0], [\"Cuba\", 10.0], [\"Cyprus\", 21.0], [\"Czech Republic\", 219.0], [\"Denmark\", 1599.0], [\"Dominican Republic\", 6.0], [\"Ecuador\", 52.0], [\"El Salvador\", 10.0], [\"Eritrea\", 6.0], [\"Estonia\", 213.0], [\"Ethiopia\", 3.0], [\"Fiji\", 5.0], [\"Finland\", 78.0], [\"France\", 3681.0], [\"Gabon\", 2.0], [\"Georgia\", 27.0], [\"Germany\", 4088.0], [\"Ghana\", 2.0], [\"Greece\", 542.0], [\"Guatemala\", 20.0], [\"Guinea\", 1.0], [\"Haiti\", 31.0], [\"Honduras\", 33.0], [\"Hungary\", 603.0], [\"Iceland\", 28.0], [\"India\", 531.0], [\"Indonesia\", 2272.0], [\"Iraq\", 6.0], [\"Ireland\", 641.0], [\"Israel\", 459.0], [\"Italy\", 2115.0], [\"Jamaica\", 9.0], [\"Japan\", 953.0], [\"Jordan\", 25.0], [\"Kazakhstan\", 103.0], [\"Kenya\", 22.0], [\"Kuwait\", 13.0], [\"Latvia\", 44.0], [\"Lebanon\", 15.0], [\"Liechtenstein\", 6.0], [\"Lithuania\", 221.0], [\"Luxembourg\", 39.0], [\"Madagascar\", 4.0], [\"Malawi\", 15.0], [\"Malaysia\", 403.0], [\"Maldives\", 2.0], [\"Mali\", 1.0], [\"Malta\", 9.0], [\"Mauritania\", 3.0], [\"Mauritius\", 6.0], [\"Mexico\", 765.0], [\"Moldova\", 7.0], [\"Monaco\", 3.0], [\"Mongolia\", 12.0], [\"Montenegro\", 22.0], [\"Morocco\", 128.0], [\"Mozambique\", 20.0], [\"Namibia\", 5.0], [\"Nepal\", 41.0], [\"Netherlands\", 1426.0], [\"New Zealand\", 191.0], [\"Nicaragua\", 21.0], [\"Niger\", 2.0], [\"Nigeria\", 3.0], [\"Norway\", 597.0], [\"Oman\", 3.0], [\"Pakistan\", 113.0], [\"Panama\", 26.0], [\"Papua New Guinea\", 1.0], [\"Paraguay\", 23.0], [\"Peru\", 212.0], [\"Philippines\", 136.0], [\"Poland\", 1050.0], [\"Portugal\", 212.0], [\"Puerto Rico\", 1.0], [\"Qatar\", 7.0], [\"Romania\", 476.0], [\"Russian Federation\", 1266.0], [\"Rwanda\", 17.0], [\"Samoa\", 10.0], [\"San Marino\", 8.0], [\"Saudi Arabia\", 9.0], [\"Senegal\", 22.0], [\"Serbia\", 82.0], [\"Seychelles\", 4.0], [\"Singapore\", 381.0], [\"Slovenia\", 536.0], [\"Somalia\", 4.0], [\"South Africa\", 418.0], [\"Spain\", 5665.0], [\"Sri Lanka\", 77.0], [\"Sudan\", 11.0], [\"Suriname\", 2.0], [\"Sweden\", 349.0], [\"Switzerland\", 546.0], [\"Syrian Arab Republic\", 28.0], [\"Tajikistan\", 2.0], [\"Tanzania\", 3.0], [\"Thailand\", 1430.0], [\"Togo\", 1.0], [\"Tonga\", 17.0], [\"Tunisia\", 83.0], [\"Turkey\", 1077.0], [\"Turkmenistan\", 1.0], [\"Tuvalu\", 16.0], [\"Uganda\", 1.0], [\"Ukraine\", 614.0], [\"United Arab Emirates\", 12.0], [\"United Kingdom\", 3556.0], [\"United States\", 29928.0], [\"Uruguay\", 43.0], [\"Uzbekistan\", 8.0], [\"Vanuatu\", 4.0], [\"Vietnam\", 45.0], [\"Zambia\", 5.0], [\"Zimbabwe\", 8.0]], \"domain\": {\"x\": [0.0, 1.0], \"y\": [0.0, 1.0]}, \"hovertemplate\": \"Country=%{customdata[0]}<br>No. of Data Breaches=%{color}<br>labels=%{label}<br>No.of Secure Servers=%{value}<br>parent=%{parent}<br>id=%{id}<extra></extra>\", \"ids\": [\"Afghanistan\", \"Albania\", \"Algeria\", \"Andorra\", \"Argentina\", \"Armenia\", \"Australia\", \"Austria\", \"Azerbaijan\", \"Bahrain\", \"Bangladesh\", \"Barbados\", \"Belarus\", \"Belgium\", \"Belize\", \"Benin\", \"Bhutan\", \"Bolivia\", \"Botswana\", \"Brazil\", \"Brunei Darussalam\", \"Bulgaria\", \"Burkina Faso\", \"Burundi\", \"Cambodia\", \"Cameroon\", \"Canada\", \"Chile\", \"China\", \"Colombia\", \"Costa Rica\", \"Croatia\", \"Cuba\", \"Cyprus\", \"Czech Republic\", \"Denmark\", \"Dominican Republic\", \"Ecuador\", \"El Salvador\", \"Eritrea\", \"Estonia\", \"Ethiopia\", \"Fiji\", \"Finland\", \"France\", \"Gabon\", \"Georgia\", \"Germany\", \"Ghana\", \"Greece\", \"Guatemala\", \"Guinea\", \"Haiti\", \"Honduras\", \"Hungary\", \"Iceland\", \"India\", \"Indonesia\", \"Iraq\", \"Ireland\", \"Israel\", \"Italy\", \"Jamaica\", \"Japan\", \"Jordan\", \"Kazakhstan\", \"Kenya\", \"Kuwait\", \"Latvia\", \"Lebanon\", \"Liechtenstein\", \"Lithuania\", \"Luxembourg\", \"Madagascar\", \"Malawi\", \"Malaysia\", \"Maldives\", \"Mali\", \"Malta\", \"Mauritania\", \"Mauritius\", \"Mexico\", \"Moldova\", \"Monaco\", \"Mongolia\", \"Montenegro\", \"Morocco\", \"Mozambique\", \"Namibia\", \"Nepal\", \"Netherlands\", \"New Zealand\", \"Nicaragua\", \"Niger\", \"Nigeria\", \"Norway\", \"Oman\", \"Pakistan\", \"Panama\", \"Papua New Guinea\", \"Paraguay\", \"Peru\", \"Philippines\", \"Poland\", \"Portugal\", \"Puerto Rico\", \"Qatar\", \"Romania\", \"Russian Federation\", \"Rwanda\", \"Samoa\", \"San Marino\", \"Saudi Arabia\", \"Senegal\", \"Serbia\", \"Seychelles\", \"Singapore\", \"Slovenia\", \"Somalia\", \"South Africa\", \"Spain\", \"Sri Lanka\", \"Sudan\", \"Suriname\", \"Sweden\", \"Switzerland\", \"Syrian Arab Republic\", \"Tajikistan\", \"Tanzania\", \"Thailand\", \"Togo\", \"Tonga\", \"Tunisia\", \"Turkey\", \"Turkmenistan\", \"Tuvalu\", \"Uganda\", \"Ukraine\", \"United Arab Emirates\", \"United Kingdom\", \"United States\", \"Uruguay\", \"Uzbekistan\", \"Vanuatu\", \"Vietnam\", \"Zambia\", \"Zimbabwe\"], \"labels\": [\"Afghanistan\", \"Albania\", \"Algeria\", \"Andorra\", \"Argentina\", \"Armenia\", \"Australia\", \"Austria\", \"Azerbaijan\", \"Bahrain\", \"Bangladesh\", \"Barbados\", \"Belarus\", \"Belgium\", \"Belize\", \"Benin\", \"Bhutan\", \"Bolivia\", \"Botswana\", \"Brazil\", \"Brunei Darussalam\", \"Bulgaria\", \"Burkina Faso\", \"Burundi\", \"Cambodia\", \"Cameroon\", \"Canada\", \"Chile\", \"China\", \"Colombia\", \"Costa Rica\", \"Croatia\", \"Cuba\", \"Cyprus\", \"Czech Republic\", \"Denmark\", \"Dominican Republic\", \"Ecuador\", \"El Salvador\", \"Eritrea\", \"Estonia\", \"Ethiopia\", \"Fiji\", \"Finland\", \"France\", \"Gabon\", \"Georgia\", \"Germany\", \"Ghana\", \"Greece\", \"Guatemala\", \"Guinea\", \"Haiti\", \"Honduras\", \"Hungary\", \"Iceland\", \"India\", \"Indonesia\", \"Iraq\", \"Ireland\", \"Israel\", \"Italy\", \"Jamaica\", \"Japan\", \"Jordan\", \"Kazakhstan\", \"Kenya\", \"Kuwait\", \"Latvia\", \"Lebanon\", \"Liechtenstein\", \"Lithuania\", \"Luxembourg\", \"Madagascar\", \"Malawi\", \"Malaysia\", \"Maldives\", \"Mali\", \"Malta\", \"Mauritania\", \"Mauritius\", \"Mexico\", \"Moldova\", \"Monaco\", \"Mongolia\", \"Montenegro\", \"Morocco\", \"Mozambique\", \"Namibia\", \"Nepal\", \"Netherlands\", \"New Zealand\", \"Nicaragua\", \"Niger\", \"Nigeria\", \"Norway\", \"Oman\", \"Pakistan\", \"Panama\", \"Papua New Guinea\", \"Paraguay\", \"Peru\", \"Philippines\", \"Poland\", \"Portugal\", \"Puerto Rico\", \"Qatar\", \"Romania\", \"Russian Federation\", \"Rwanda\", \"Samoa\", \"San Marino\", \"Saudi Arabia\", \"Senegal\", \"Serbia\", \"Seychelles\", \"Singapore\", \"Slovenia\", \"Somalia\", \"South Africa\", \"Spain\", \"Sri Lanka\", \"Sudan\", \"Suriname\", \"Sweden\", \"Switzerland\", \"Syrian Arab Republic\", \"Tajikistan\", \"Tanzania\", \"Thailand\", \"Togo\", \"Tonga\", \"Tunisia\", \"Turkey\", \"Turkmenistan\", \"Tuvalu\", \"Uganda\", \"Ukraine\", \"United Arab Emirates\", \"United Kingdom\", \"United States\", \"Uruguay\", \"Uzbekistan\", \"Vanuatu\", \"Vietnam\", \"Zambia\", \"Zimbabwe\"], \"marker\": {\"coloraxis\": \"coloraxis\", \"colors\": [1.0, 41.0, 5.0, 5.0, 848.0, 19.0, 1010.0, 310.0, 4.0, 11.0, 130.0, 10.0, 52.0, 329.0, 3.0, 1.0, 22.0, 86.0, 1.0, 5088.0, 21.0, 149.0, 2.0, 2.0, 1.0, 3.0, 1553.0, 2473.0, 2301.0, 182.0, 14.0, 101.0, 10.0, 21.0, 219.0, 1599.0, 6.0, 52.0, 10.0, 6.0, 213.0, 3.0, 5.0, 78.0, 3681.0, 2.0, 27.0, 4088.0, 2.0, 542.0, 20.0, 1.0, 31.0, 33.0, 603.0, 28.0, 531.0, 2272.0, 6.0, 641.0, 459.0, 2115.0, 9.0, 953.0, 25.0, 103.0, 22.0, 13.0, 44.0, 15.0, 6.0, 221.0, 39.0, 4.0, 15.0, 403.0, 2.0, 1.0, 9.0, 3.0, 6.0, 765.0, 7.0, 3.0, 12.0, 22.0, 128.0, 20.0, 5.0, 41.0, 1426.0, 191.0, 21.0, 2.0, 3.0, 597.0, 3.0, 113.0, 26.0, 1.0, 23.0, 212.0, 136.0, 1050.0, 212.0, 1.0, 7.0, 476.0, 1266.0, 17.0, 10.0, 8.0, 9.0, 22.0, 82.0, 4.0, 381.0, 536.0, 4.0, 418.0, 5665.0, 77.0, 11.0, 2.0, 349.0, 546.0, 28.0, 2.0, 3.0, 1430.0, 1.0, 17.0, 83.0, 1077.0, 1.0, 16.0, 1.0, 614.0, 12.0, 3556.0, 29928.0, 43.0, 8.0, 4.0, 45.0, 5.0, 8.0]}, \"name\": \"\", \"parents\": [\"\", \"\", \"\", \"\", \"\", \"\", \"\", \"\", \"\", \"\", \"\", \"\", \"\", \"\", \"\", \"\", \"\", \"\", \"\", \"\", \"\", \"\", \"\", \"\", \"\", \"\", \"\", \"\", \"\", \"\", \"\", \"\", \"\", \"\", \"\", \"\", \"\", \"\", \"\", \"\", \"\", \"\", \"\", \"\", \"\", \"\", \"\", \"\", \"\", \"\", \"\", \"\", \"\", \"\", \"\", \"\", \"\", \"\", \"\", \"\", \"\", \"\", \"\", \"\", \"\", \"\", \"\", \"\", \"\", \"\", \"\", \"\", \"\", \"\", \"\", \"\", \"\", \"\", \"\", \"\", \"\", \"\", \"\", \"\", \"\", \"\", \"\", \"\", \"\", \"\", \"\", \"\", \"\", \"\", \"\", \"\", \"\", \"\", \"\", \"\", \"\", \"\", \"\", \"\", \"\", \"\", \"\", \"\", \"\", \"\", \"\", \"\", \"\", \"\", \"\", \"\", \"\", \"\", \"\", \"\", \"\", \"\", \"\", \"\", \"\", \"\", \"\", \"\", \"\", \"\", \"\", \"\", \"\", \"\", \"\", \"\", \"\", \"\", \"\", \"\", \"\", \"\", \"\", \"\", \"\", \"\", \"\"], \"type\": \"treemap\", \"values\": [1965.0, 1508.0, 2855.0, 400.0, 83320.0, 989.0, 822020.0, 147681.0, 3274.0, 582.0, 18712.0, 249.0, 32440.0, 159673.0, 4442.0, 84.0, 134.0, 1478.0, 301.0, 426560.0, 853.0, 268524.0, 50.0, 67.0, 1318.0, 137.0, 1147057.0, 151206.0, 622142.0, 32338.0, 6029.0, 79937.0, 182.0, 7578.0, 450120.0, 713512.0, 1293.0, 4538.0, 582.0, 1.0, 64636.0, 160.0, 153.0, 187523.0, 1367541.0, 56.0, 8132.0, 4676435.0, 649.0, 54044.0, 1286.0, 41.0, 59.0, 717.0, 188120.0, 22843.0, 254032.0, 343412.0, 435.0, 338734.0, 85381.0, 740648.0, 451.0, 1476696.0, 1025.0, 25115.0, 11164.0, 1705.0, 27952.0, 1195.0, 1333.0, 51176.0, 26234.0, 143.0, 279.0, 180124.0, 270.0, 201.0, 6986.0, 24.0, 9926.0, 28487.0, 10610.0, 412.0, 5357.0, 259.0, 10655.0, 349.0, 366.0, 5126.0, 1733183.0, 86339.0, 448.0, 11.0, 36082.0, 110946.0, 757.0, 23161.0, 8945.0, 429.0, 1728.0, 8232.0, 9903.0, 616219.0, 164308.0, 1229.0, 1103.0, 310378.0, 749930.0, 449.0, 105.0, 2002.0, 5445.0, 272.0, 48178.0, 25570.0, 477674.0, 68476.0, 65.0, 695336.0, 528944.0, 8937.0, 193.0, 168.0, 189345.0, 580292.0, 323.0, 249.0, 1537.0, 66225.0, 61.0, 18.0, 3657.0, 356867.0, 35.0, 1.0, 864.0, 268976.0, 14292.0, 1811830.0, 21517004.0, 5432.0, 9193.0, 58.0, 169056.0, 715.0, 673.0]}],\n",
       "                        {\"coloraxis\": {\"colorbar\": {\"title\": {\"text\": \"No. of Data Breaches\"}}, \"colorscale\": [[0.0, \"rgb(103,0,31)\"], [0.1, \"rgb(178,24,43)\"], [0.2, \"rgb(214,96,77)\"], [0.3, \"rgb(244,165,130)\"], [0.4, \"rgb(253,219,199)\"], [0.5, \"rgb(247,247,247)\"], [0.6, \"rgb(209,229,240)\"], [0.7, \"rgb(146,197,222)\"], [0.8, \"rgb(67,147,195)\"], [0.9, \"rgb(33,102,172)\"], [1.0, \"rgb(5,48,97)\"]]}, \"legend\": {\"tracegroupgap\": 0}, \"margin\": {\"t\": 60}, \"template\": {\"data\": {\"bar\": [{\"error_x\": {\"color\": \"#2a3f5f\"}, \"error_y\": {\"color\": \"#2a3f5f\"}, \"marker\": {\"line\": {\"color\": \"#E5ECF6\", \"width\": 0.5}}, \"type\": \"bar\"}], \"barpolar\": [{\"marker\": {\"line\": {\"color\": \"#E5ECF6\", \"width\": 0.5}}, \"type\": \"barpolar\"}], \"carpet\": [{\"aaxis\": {\"endlinecolor\": \"#2a3f5f\", \"gridcolor\": \"white\", \"linecolor\": \"white\", \"minorgridcolor\": \"white\", \"startlinecolor\": \"#2a3f5f\"}, \"baxis\": {\"endlinecolor\": \"#2a3f5f\", \"gridcolor\": \"white\", \"linecolor\": \"white\", \"minorgridcolor\": \"white\", \"startlinecolor\": \"#2a3f5f\"}, \"type\": \"carpet\"}], \"choropleth\": [{\"colorbar\": {\"outlinewidth\": 0, \"ticks\": \"\"}, \"type\": \"choropleth\"}], \"contour\": [{\"colorbar\": {\"outlinewidth\": 0, \"ticks\": \"\"}, \"colorscale\": [[0.0, \"#0d0887\"], [0.1111111111111111, \"#46039f\"], [0.2222222222222222, \"#7201a8\"], [0.3333333333333333, \"#9c179e\"], [0.4444444444444444, \"#bd3786\"], [0.5555555555555556, \"#d8576b\"], [0.6666666666666666, \"#ed7953\"], [0.7777777777777778, \"#fb9f3a\"], [0.8888888888888888, \"#fdca26\"], [1.0, \"#f0f921\"]], \"type\": \"contour\"}], \"contourcarpet\": [{\"colorbar\": {\"outlinewidth\": 0, \"ticks\": \"\"}, \"type\": \"contourcarpet\"}], \"heatmap\": [{\"colorbar\": {\"outlinewidth\": 0, \"ticks\": \"\"}, \"colorscale\": [[0.0, \"#0d0887\"], [0.1111111111111111, \"#46039f\"], [0.2222222222222222, \"#7201a8\"], [0.3333333333333333, \"#9c179e\"], [0.4444444444444444, \"#bd3786\"], [0.5555555555555556, \"#d8576b\"], [0.6666666666666666, \"#ed7953\"], [0.7777777777777778, \"#fb9f3a\"], [0.8888888888888888, \"#fdca26\"], [1.0, \"#f0f921\"]], \"type\": \"heatmap\"}], \"heatmapgl\": [{\"colorbar\": {\"outlinewidth\": 0, \"ticks\": \"\"}, \"colorscale\": [[0.0, \"#0d0887\"], [0.1111111111111111, \"#46039f\"], [0.2222222222222222, \"#7201a8\"], [0.3333333333333333, \"#9c179e\"], [0.4444444444444444, \"#bd3786\"], [0.5555555555555556, \"#d8576b\"], [0.6666666666666666, \"#ed7953\"], [0.7777777777777778, \"#fb9f3a\"], [0.8888888888888888, \"#fdca26\"], [1.0, \"#f0f921\"]], \"type\": \"heatmapgl\"}], \"histogram\": [{\"marker\": {\"colorbar\": {\"outlinewidth\": 0, \"ticks\": \"\"}}, \"type\": \"histogram\"}], \"histogram2d\": [{\"colorbar\": {\"outlinewidth\": 0, \"ticks\": \"\"}, \"colorscale\": [[0.0, \"#0d0887\"], [0.1111111111111111, \"#46039f\"], [0.2222222222222222, \"#7201a8\"], [0.3333333333333333, \"#9c179e\"], [0.4444444444444444, \"#bd3786\"], [0.5555555555555556, \"#d8576b\"], [0.6666666666666666, \"#ed7953\"], [0.7777777777777778, \"#fb9f3a\"], [0.8888888888888888, \"#fdca26\"], [1.0, \"#f0f921\"]], \"type\": \"histogram2d\"}], \"histogram2dcontour\": [{\"colorbar\": {\"outlinewidth\": 0, \"ticks\": \"\"}, \"colorscale\": [[0.0, \"#0d0887\"], [0.1111111111111111, \"#46039f\"], [0.2222222222222222, \"#7201a8\"], [0.3333333333333333, \"#9c179e\"], [0.4444444444444444, \"#bd3786\"], [0.5555555555555556, \"#d8576b\"], [0.6666666666666666, \"#ed7953\"], [0.7777777777777778, \"#fb9f3a\"], [0.8888888888888888, \"#fdca26\"], [1.0, \"#f0f921\"]], \"type\": \"histogram2dcontour\"}], \"mesh3d\": [{\"colorbar\": {\"outlinewidth\": 0, \"ticks\": \"\"}, \"type\": \"mesh3d\"}], \"parcoords\": [{\"line\": {\"colorbar\": {\"outlinewidth\": 0, \"ticks\": \"\"}}, \"type\": \"parcoords\"}], \"pie\": [{\"automargin\": true, \"type\": \"pie\"}], \"scatter\": [{\"marker\": {\"colorbar\": {\"outlinewidth\": 0, \"ticks\": \"\"}}, \"type\": \"scatter\"}], \"scatter3d\": [{\"line\": {\"colorbar\": {\"outlinewidth\": 0, \"ticks\": \"\"}}, \"marker\": {\"colorbar\": {\"outlinewidth\": 0, \"ticks\": \"\"}}, \"type\": \"scatter3d\"}], \"scattercarpet\": [{\"marker\": {\"colorbar\": {\"outlinewidth\": 0, \"ticks\": \"\"}}, \"type\": \"scattercarpet\"}], \"scattergeo\": [{\"marker\": {\"colorbar\": {\"outlinewidth\": 0, \"ticks\": \"\"}}, \"type\": \"scattergeo\"}], \"scattergl\": [{\"marker\": {\"colorbar\": {\"outlinewidth\": 0, \"ticks\": \"\"}}, \"type\": \"scattergl\"}], \"scattermapbox\": [{\"marker\": {\"colorbar\": {\"outlinewidth\": 0, \"ticks\": \"\"}}, \"type\": \"scattermapbox\"}], \"scatterpolar\": [{\"marker\": {\"colorbar\": {\"outlinewidth\": 0, \"ticks\": \"\"}}, \"type\": \"scatterpolar\"}], \"scatterpolargl\": [{\"marker\": {\"colorbar\": {\"outlinewidth\": 0, \"ticks\": \"\"}}, \"type\": \"scatterpolargl\"}], \"scatterternary\": [{\"marker\": {\"colorbar\": {\"outlinewidth\": 0, \"ticks\": \"\"}}, \"type\": \"scatterternary\"}], \"surface\": [{\"colorbar\": {\"outlinewidth\": 0, \"ticks\": \"\"}, \"colorscale\": [[0.0, \"#0d0887\"], [0.1111111111111111, \"#46039f\"], [0.2222222222222222, \"#7201a8\"], [0.3333333333333333, \"#9c179e\"], [0.4444444444444444, \"#bd3786\"], [0.5555555555555556, \"#d8576b\"], [0.6666666666666666, \"#ed7953\"], [0.7777777777777778, \"#fb9f3a\"], [0.8888888888888888, \"#fdca26\"], [1.0, \"#f0f921\"]], \"type\": \"surface\"}], \"table\": [{\"cells\": {\"fill\": {\"color\": \"#EBF0F8\"}, \"line\": {\"color\": \"white\"}}, \"header\": {\"fill\": {\"color\": \"#C8D4E3\"}, \"line\": {\"color\": \"white\"}}, \"type\": \"table\"}]}, \"layout\": {\"annotationdefaults\": {\"arrowcolor\": \"#2a3f5f\", \"arrowhead\": 0, \"arrowwidth\": 1}, \"coloraxis\": {\"colorbar\": {\"outlinewidth\": 0, \"ticks\": \"\"}}, \"colorscale\": {\"diverging\": [[0, \"#8e0152\"], [0.1, \"#c51b7d\"], [0.2, \"#de77ae\"], [0.3, \"#f1b6da\"], [0.4, \"#fde0ef\"], [0.5, \"#f7f7f7\"], [0.6, \"#e6f5d0\"], [0.7, \"#b8e186\"], [0.8, \"#7fbc41\"], [0.9, \"#4d9221\"], [1, \"#276419\"]], \"sequential\": [[0.0, \"#0d0887\"], [0.1111111111111111, \"#46039f\"], [0.2222222222222222, \"#7201a8\"], [0.3333333333333333, \"#9c179e\"], [0.4444444444444444, \"#bd3786\"], [0.5555555555555556, \"#d8576b\"], [0.6666666666666666, \"#ed7953\"], [0.7777777777777778, \"#fb9f3a\"], [0.8888888888888888, \"#fdca26\"], [1.0, \"#f0f921\"]], \"sequentialminus\": [[0.0, \"#0d0887\"], [0.1111111111111111, \"#46039f\"], [0.2222222222222222, \"#7201a8\"], [0.3333333333333333, \"#9c179e\"], [0.4444444444444444, \"#bd3786\"], [0.5555555555555556, \"#d8576b\"], [0.6666666666666666, \"#ed7953\"], [0.7777777777777778, \"#fb9f3a\"], [0.8888888888888888, \"#fdca26\"], [1.0, \"#f0f921\"]]}, \"colorway\": [\"#636efa\", \"#EF553B\", \"#00cc96\", \"#ab63fa\", \"#FFA15A\", \"#19d3f3\", \"#FF6692\", \"#B6E880\", \"#FF97FF\", \"#FECB52\"], \"font\": {\"color\": \"#2a3f5f\"}, \"geo\": {\"bgcolor\": \"white\", \"lakecolor\": \"white\", \"landcolor\": \"#E5ECF6\", \"showlakes\": true, \"showland\": true, \"subunitcolor\": \"white\"}, \"hoverlabel\": {\"align\": \"left\"}, \"hovermode\": \"closest\", \"mapbox\": {\"style\": \"light\"}, \"paper_bgcolor\": \"white\", \"plot_bgcolor\": \"#E5ECF6\", \"polar\": {\"angularaxis\": {\"gridcolor\": \"white\", \"linecolor\": \"white\", \"ticks\": \"\"}, \"bgcolor\": \"#E5ECF6\", \"radialaxis\": {\"gridcolor\": \"white\", \"linecolor\": \"white\", \"ticks\": \"\"}}, \"scene\": {\"xaxis\": {\"backgroundcolor\": \"#E5ECF6\", \"gridcolor\": \"white\", \"gridwidth\": 2, \"linecolor\": \"white\", \"showbackground\": true, \"ticks\": \"\", \"zerolinecolor\": \"white\"}, \"yaxis\": {\"backgroundcolor\": \"#E5ECF6\", \"gridcolor\": \"white\", \"gridwidth\": 2, \"linecolor\": \"white\", \"showbackground\": true, \"ticks\": \"\", \"zerolinecolor\": \"white\"}, \"zaxis\": {\"backgroundcolor\": \"#E5ECF6\", \"gridcolor\": \"white\", \"gridwidth\": 2, \"linecolor\": \"white\", \"showbackground\": true, \"ticks\": \"\", \"zerolinecolor\": \"white\"}}, \"shapedefaults\": {\"line\": {\"color\": \"#2a3f5f\"}}, \"ternary\": {\"aaxis\": {\"gridcolor\": \"white\", \"linecolor\": \"white\", \"ticks\": \"\"}, \"baxis\": {\"gridcolor\": \"white\", \"linecolor\": \"white\", \"ticks\": \"\"}, \"bgcolor\": \"#E5ECF6\", \"caxis\": {\"gridcolor\": \"white\", \"linecolor\": \"white\", \"ticks\": \"\"}}, \"title\": {\"x\": 0.05}, \"xaxis\": {\"automargin\": true, \"gridcolor\": \"white\", \"linecolor\": \"white\", \"ticks\": \"\", \"title\": {\"standoff\": 15}, \"zerolinecolor\": \"white\", \"zerolinewidth\": 2}, \"yaxis\": {\"automargin\": true, \"gridcolor\": \"white\", \"linecolor\": \"white\", \"ticks\": \"\", \"title\": {\"standoff\": 15}, \"zerolinecolor\": \"white\", \"zerolinewidth\": 2}}}},\n",
       "                        {\"responsive\": true}\n",
       "                    ).then(function(){\n",
       "                            \n",
       "var gd = document.getElementById('5bb51267-7ea1-451f-b2e2-d37ecabed328');\n",
       "var x = new MutationObserver(function (mutations, observer) {{\n",
       "        var display = window.getComputedStyle(gd).display;\n",
       "        if (!display || display === 'none') {{\n",
       "            console.log([gd, 'removed!']);\n",
       "            Plotly.purge(gd);\n",
       "            observer.disconnect();\n",
       "        }}\n",
       "}});\n",
       "\n",
       "// Listen for the removal of the full notebook cells\n",
       "var notebookContainer = gd.closest('#notebook-container');\n",
       "if (notebookContainer) {{\n",
       "    x.observe(notebookContainer, {childList: true});\n",
       "}}\n",
       "\n",
       "// Listen for the clearing of the current output cell\n",
       "var outputEl = gd.closest('.output');\n",
       "if (outputEl) {{\n",
       "    x.observe(outputEl, {childList: true});\n",
       "}}\n",
       "\n",
       "                        })\n",
       "                };\n",
       "                });\n",
       "            </script>\n",
       "        </div>"
      ]
     },
     "metadata": {},
     "output_type": "display_data"
    }
   ],
   "source": [
    "fig = px.treemap(server_data_breach, path=['Country'], values='No.of Secure Servers',\n",
    "                  color='No. of Data Breaches', hover_data=['Country'],\n",
    "                  color_continuous_scale='RdBu',\n",
    "                  )\n",
    "fig.show()"
   ]
  },
  {
   "cell_type": "code",
   "execution_count": null,
   "metadata": {},
   "outputs": [],
   "source": []
  }
 ],
 "metadata": {
  "kernelspec": {
   "display_name": "Python 3",
   "language": "python",
   "name": "python3"
  },
  "language_info": {
   "codemirror_mode": {
    "name": "ipython",
    "version": 3
   },
   "file_extension": ".py",
   "mimetype": "text/x-python",
   "name": "python",
   "nbconvert_exporter": "python",
   "pygments_lexer": "ipython3",
   "version": "3.7.4"
  }
 },
 "nbformat": 4,
 "nbformat_minor": 2
}
